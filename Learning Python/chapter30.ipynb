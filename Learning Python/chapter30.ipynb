{
 "cells": [
  {
   "metadata": {},
   "cell_type": "markdown",
   "source": "# 运算符重载",
   "id": "35629009e408af8a"
  },
  {
   "cell_type": "code",
   "id": "initial_id",
   "metadata": {
    "collapsed": true,
    "ExecuteTime": {
     "end_time": "2024-06-27T04:01:05.626730Z",
     "start_time": "2024-06-27T04:01:05.622964Z"
    }
   },
   "source": [
    "class Number:\n",
    "    def __init__(self, value):\n",
    "        self.value = value\n",
    "\n",
    "    def __sub__(self, other):\n",
    "        return Number(self.value - other)"
   ],
   "outputs": [],
   "execution_count": 1
  },
  {
   "metadata": {
    "ExecuteTime": {
     "end_time": "2024-06-27T04:01:17.613949Z",
     "start_time": "2024-06-27T04:01:17.611716Z"
    }
   },
   "cell_type": "code",
   "source": [
    "x = Number(10)\n",
    "x.value"
   ],
   "id": "10c660bd46465d27",
   "outputs": [
    {
     "data": {
      "text/plain": [
       "10"
      ]
     },
     "execution_count": 3,
     "metadata": {},
     "output_type": "execute_result"
    }
   ],
   "execution_count": 3
  },
  {
   "metadata": {
    "ExecuteTime": {
     "end_time": "2024-06-27T04:01:29.029121Z",
     "start_time": "2024-06-27T04:01:29.023712Z"
    }
   },
   "cell_type": "code",
   "source": [
    "y = x - 5\n",
    "y.value"
   ],
   "id": "4be37ad6ed19be54",
   "outputs": [
    {
     "data": {
      "text/plain": [
       "5"
      ]
     },
     "execution_count": 4,
     "metadata": {},
     "output_type": "execute_result"
    }
   ],
   "execution_count": 4
  },
  {
   "metadata": {},
   "cell_type": "markdown",
   "source": "## 索引和分⽚`__getitem__` 和 `__setitem__`",
   "id": "10653027de031fb2"
  },
  {
   "metadata": {
    "ExecuteTime": {
     "end_time": "2024-06-27T04:14:47.482812Z",
     "start_time": "2024-06-27T04:14:47.481140Z"
    }
   },
   "cell_type": "code",
   "source": [
    "class Indexter:\n",
    "    def __getitem__(self, index):\n",
    "        return index ** 2"
   ],
   "id": "ee3e65cf52c44cea",
   "outputs": [],
   "execution_count": 7
  },
  {
   "metadata": {
    "ExecuteTime": {
     "end_time": "2024-06-27T04:14:47.743618Z",
     "start_time": "2024-06-27T04:14:47.740765Z"
    }
   },
   "cell_type": "code",
   "source": [
    "x = Indexter()\n",
    "x[4]"
   ],
   "id": "96bdb0b5fd74a7f4",
   "outputs": [
    {
     "data": {
      "text/plain": [
       "16"
      ]
     },
     "execution_count": 8,
     "metadata": {},
     "output_type": "execute_result"
    }
   ],
   "execution_count": 8
  },
  {
   "metadata": {
    "ExecuteTime": {
     "end_time": "2024-06-27T04:14:57.356964Z",
     "start_time": "2024-06-27T04:14:57.352508Z"
    }
   },
   "cell_type": "code",
   "source": [
    "for i in range(5):\n",
    "    print(x[i])"
   ],
   "id": "8bb507c7c71b3557",
   "outputs": [
    {
     "name": "stdout",
     "output_type": "stream",
     "text": [
      "0\n",
      "1\n",
      "4\n",
      "9\n",
      "16\n"
     ]
    }
   ],
   "execution_count": 9
  },
  {
   "metadata": {
    "ExecuteTime": {
     "end_time": "2024-06-27T04:16:04.401788Z",
     "start_time": "2024-06-27T04:16:04.397802Z"
    }
   },
   "cell_type": "code",
   "source": [
    "L = [1, 2, 3, 4, 5]\n",
    "L[2:4], L[slice(2, 4)]"
   ],
   "id": "cea40990e90e2db1",
   "outputs": [
    {
     "data": {
      "text/plain": [
       "([3, 4], [3, 4])"
      ]
     },
     "execution_count": 11,
     "metadata": {},
     "output_type": "execute_result"
    }
   ],
   "execution_count": 11
  },
  {
   "metadata": {
    "ExecuteTime": {
     "end_time": "2024-06-27T04:16:04.648911Z",
     "start_time": "2024-06-27T04:16:04.646029Z"
    }
   },
   "cell_type": "code",
   "source": "L[1:], L[slice(1, None)]",
   "id": "59818863bdf953bb",
   "outputs": [
    {
     "data": {
      "text/plain": [
       "([2, 3, 4, 5], [2, 3, 4, 5])"
      ]
     },
     "execution_count": 12,
     "metadata": {},
     "output_type": "execute_result"
    }
   ],
   "execution_count": 12
  },
  {
   "metadata": {
    "ExecuteTime": {
     "end_time": "2024-06-27T04:16:21.952605Z",
     "start_time": "2024-06-27T04:16:21.939842Z"
    }
   },
   "cell_type": "code",
   "source": "L[::2], L[slice(None, None, 2)]",
   "id": "ef1ad73f026d99c4",
   "outputs": [
    {
     "data": {
      "text/plain": [
       "([1, 3, 5], [1, 3, 5])"
      ]
     },
     "execution_count": 13,
     "metadata": {},
     "output_type": "execute_result"
    }
   ],
   "execution_count": 13
  },
  {
   "metadata": {},
   "cell_type": "markdown",
   "source": "切片",
   "id": "c23fbbc1bcb9edd9"
  },
  {
   "metadata": {
    "ExecuteTime": {
     "end_time": "2024-06-27T04:17:12.970304Z",
     "start_time": "2024-06-27T04:17:12.966052Z"
    }
   },
   "cell_type": "code",
   "source": [
    "class Indexter:\n",
    "    data = [1, 2, 3, 4, 5]\n",
    "\n",
    "    def __getitem__(self, index):\n",
    "        print('getitem', index)\n",
    "        return self.data[index]"
   ],
   "id": "b8a3bda7095d5851",
   "outputs": [],
   "execution_count": 14
  },
  {
   "metadata": {
    "ExecuteTime": {
     "end_time": "2024-06-27T04:17:17.939148Z",
     "start_time": "2024-06-27T04:17:17.934449Z"
    }
   },
   "cell_type": "code",
   "source": [
    "x = Indexter()\n",
    "x[2]"
   ],
   "id": "27fa2d6a4ad061fa",
   "outputs": [
    {
     "name": "stdout",
     "output_type": "stream",
     "text": [
      "getitem 2\n"
     ]
    },
    {
     "data": {
      "text/plain": [
       "3"
      ]
     },
     "execution_count": 15,
     "metadata": {},
     "output_type": "execute_result"
    }
   ],
   "execution_count": 15
  },
  {
   "metadata": {
    "ExecuteTime": {
     "end_time": "2024-06-27T04:17:26.588072Z",
     "start_time": "2024-06-27T04:17:26.584607Z"
    }
   },
   "cell_type": "code",
   "source": "x[2:]",
   "id": "d75815b83054be83",
   "outputs": [
    {
     "name": "stdout",
     "output_type": "stream",
     "text": [
      "getitem slice(2, None, None)\n"
     ]
    },
    {
     "data": {
      "text/plain": [
       "[3, 4, 5]"
      ]
     },
     "execution_count": 16,
     "metadata": {},
     "output_type": "execute_result"
    }
   ],
   "execution_count": 16
  },
  {
   "metadata": {
    "ExecuteTime": {
     "end_time": "2024-06-27T04:17:43.098573Z",
     "start_time": "2024-06-27T04:17:43.095523Z"
    }
   },
   "cell_type": "code",
   "source": "x[-1]",
   "id": "ac7be8a202d269a6",
   "outputs": [
    {
     "name": "stdout",
     "output_type": "stream",
     "text": [
      "getitem -1\n"
     ]
    },
    {
     "data": {
      "text/plain": [
       "5"
      ]
     },
     "execution_count": 17,
     "metadata": {},
     "output_type": "execute_result"
    }
   ],
   "execution_count": 17
  },
  {
   "metadata": {
    "ExecuteTime": {
     "end_time": "2024-06-27T04:18:01.691522Z",
     "start_time": "2024-06-27T04:18:01.688996Z"
    }
   },
   "cell_type": "code",
   "source": "x[::2]",
   "id": "a3a98c480abad3c",
   "outputs": [
    {
     "name": "stdout",
     "output_type": "stream",
     "text": [
      "getitem slice(None, None, 2)\n"
     ]
    },
    {
     "data": {
      "text/plain": [
       "[1, 3, 5]"
      ]
     },
     "execution_count": 18,
     "metadata": {},
     "output_type": "execute_result"
    }
   ],
   "execution_count": 18
  },
  {
   "metadata": {
    "ExecuteTime": {
     "end_time": "2024-06-27T07:42:21.149885Z",
     "start_time": "2024-06-27T07:42:21.143796Z"
    }
   },
   "cell_type": "code",
   "source": [
    "class Indexer:\n",
    "    def __getitem__(self, index):\n",
    "        if isinstance(index, int):\n",
    "            print('index', index)\n",
    "        else:\n",
    "            print(dir(index))\n",
    "            print('slicing', index.start, index.stop, index.step)\n"
   ],
   "id": "935f39059f950c77",
   "outputs": [],
   "execution_count": 42
  },
  {
   "metadata": {
    "ExecuteTime": {
     "end_time": "2024-06-27T07:42:21.656594Z",
     "start_time": "2024-06-27T07:42:21.654352Z"
    }
   },
   "cell_type": "code",
   "source": [
    "x = Indexer()\n",
    "x[1:5]\n",
    "x[2]"
   ],
   "id": "86c9b89a5b9bc782",
   "outputs": [
    {
     "name": "stdout",
     "output_type": "stream",
     "text": [
      "['__class__', '__delattr__', '__dir__', '__doc__', '__eq__', '__format__', '__ge__', '__getattribute__', '__getstate__', '__gt__', '__hash__', '__init__', '__init_subclass__', '__le__', '__lt__', '__ne__', '__new__', '__reduce__', '__reduce_ex__', '__repr__', '__setattr__', '__sizeof__', '__str__', '__subclasshook__', 'indices', 'start', 'step', 'stop']\n",
      "slicing 1 5 None\n",
      "index 2\n"
     ]
    }
   ],
   "execution_count": 43
  },
  {
   "metadata": {
    "ExecuteTime": {
     "end_time": "2024-06-27T04:22:57.888663Z",
     "start_time": "2024-06-27T04:22:57.882186Z"
    }
   },
   "cell_type": "code",
   "source": [
    "class IndexSetter:\n",
    "    def __setitem__(self, key, value):\n",
    "        print('setitem', key, value)"
   ],
   "id": "639077a0b4675f47",
   "outputs": [],
   "execution_count": 36
  },
  {
   "metadata": {
    "ExecuteTime": {
     "end_time": "2024-06-27T04:23:03.664673Z",
     "start_time": "2024-06-27T04:23:03.662455Z"
    }
   },
   "cell_type": "code",
   "source": [
    "y = IndexSetter()\n",
    "y[1] = 2"
   ],
   "id": "4f63e24a4c9a2fac",
   "outputs": [
    {
     "name": "stdout",
     "output_type": "stream",
     "text": [
      "setitem 1 2\n"
     ]
    }
   ],
   "execution_count": 37
  },
  {
   "metadata": {},
   "cell_type": "markdown",
   "source": "_index_⽅法在使⽤时会为⼀个实例返回⼀个整数值，供转化数字串的内置函数使⽤",
   "id": "7d86f64173a902d0"
  },
  {
   "metadata": {
    "ExecuteTime": {
     "end_time": "2024-06-27T07:46:18.718810Z",
     "start_time": "2024-06-27T07:46:18.711719Z"
    }
   },
   "cell_type": "code",
   "source": [
    "class C:\n",
    "    def __index__(self):\n",
    "        return 255"
   ],
   "id": "b0e9e6cd1994898",
   "outputs": [],
   "execution_count": 49
  },
  {
   "metadata": {
    "ExecuteTime": {
     "end_time": "2024-06-27T07:46:18.938112Z",
     "start_time": "2024-06-27T07:46:18.935299Z"
    }
   },
   "cell_type": "code",
   "source": [
    "x = C()\n",
    "hex(x), oct(x), bin(x)"
   ],
   "id": "3a99ae3bce389de1",
   "outputs": [
    {
     "data": {
      "text/plain": [
       "('0xff', '0o377', '0b11111111')"
      ]
     },
     "execution_count": 50,
     "metadata": {},
     "output_type": "execute_result"
    }
   ],
   "execution_count": 50
  },
  {
   "metadata": {
    "ExecuteTime": {
     "end_time": "2024-06-27T07:47:45.360610Z",
     "start_time": "2024-06-27T07:47:45.357011Z"
    }
   },
   "cell_type": "code",
   "source": [
    "class StepperIndex:\n",
    "    def __getitem__(self, i):\n",
    "        return self.data[i]\n"
   ],
   "id": "cd63a4aca8119ae0",
   "outputs": [],
   "execution_count": 51
  },
  {
   "metadata": {
    "ExecuteTime": {
     "end_time": "2024-06-27T07:48:38.670448Z",
     "start_time": "2024-06-27T07:48:38.667750Z"
    }
   },
   "cell_type": "code",
   "source": [
    "x = StepperIndex()\n",
    "x.data = \"spam\""
   ],
   "id": "8fc22a4fd0043f24",
   "outputs": [],
   "execution_count": 56
  },
  {
   "metadata": {
    "ExecuteTime": {
     "end_time": "2024-06-27T07:48:38.867722Z",
     "start_time": "2024-06-27T07:48:38.865038Z"
    }
   },
   "cell_type": "code",
   "source": "x[1]",
   "id": "4b37481acbfdddf5",
   "outputs": [
    {
     "data": {
      "text/plain": [
       "'p'"
      ]
     },
     "execution_count": 57,
     "metadata": {},
     "output_type": "execute_result"
    }
   ],
   "execution_count": 57
  },
  {
   "metadata": {
    "ExecuteTime": {
     "end_time": "2024-06-27T07:48:47.592789Z",
     "start_time": "2024-06-27T07:48:47.588630Z"
    }
   },
   "cell_type": "code",
   "source": [
    "for item in x:\n",
    "    print(item)"
   ],
   "id": "bda3f7ca3c10f4f",
   "outputs": [
    {
     "name": "stdout",
     "output_type": "stream",
     "text": [
      "s\n",
      "p\n",
      "a\n",
      "m\n"
     ]
    }
   ],
   "execution_count": 58
  },
  {
   "metadata": {
    "ExecuteTime": {
     "end_time": "2024-06-27T07:49:01.194242Z",
     "start_time": "2024-06-27T07:49:01.191866Z"
    }
   },
   "cell_type": "code",
   "source": "x[1:3]",
   "id": "504f988c5a864e",
   "outputs": [
    {
     "data": {
      "text/plain": [
       "'pa'"
      ]
     },
     "execution_count": 59,
     "metadata": {},
     "output_type": "execute_result"
    }
   ],
   "execution_count": 59
  },
  {
   "metadata": {
    "ExecuteTime": {
     "end_time": "2024-06-27T07:49:33.620410Z",
     "start_time": "2024-06-27T07:49:33.616070Z"
    }
   },
   "cell_type": "code",
   "source": "'p' in x",
   "id": "ee021558f3a16386",
   "outputs": [
    {
     "data": {
      "text/plain": [
       "True"
      ]
     },
     "execution_count": 60,
     "metadata": {},
     "output_type": "execute_result"
    }
   ],
   "execution_count": 60
  },
  {
   "metadata": {
    "ExecuteTime": {
     "end_time": "2024-06-27T07:52:14.374076Z",
     "start_time": "2024-06-27T07:52:14.365749Z"
    }
   },
   "cell_type": "code",
   "source": "list(map(str.upper, x))",
   "id": "d58632d3091d572c",
   "outputs": [
    {
     "data": {
      "text/plain": [
       "['S', 'P', 'A', 'M']"
      ]
     },
     "execution_count": 61,
     "metadata": {},
     "output_type": "execute_result"
    }
   ],
   "execution_count": 61
  },
  {
   "metadata": {
    "ExecuteTime": {
     "end_time": "2024-06-27T07:59:54.923644Z",
     "start_time": "2024-06-27T07:59:54.913522Z"
    }
   },
   "cell_type": "code",
   "source": [
    "class Squares:\n",
    "    def __init__(self, start, stop):\n",
    "        self.value = start - 1\n",
    "        self.stop = stop\n",
    "\n",
    "    def __iter__(self):\n",
    "        return self\n",
    "\n",
    "    def __next__(self):\n",
    "        if self.value == self.stop:\n",
    "            raise StopIteration\n",
    "        self.value += 1\n",
    "        return self.value ** 2\n"
   ],
   "id": "fc4542014e6d29ce",
   "outputs": [],
   "execution_count": 65
  },
  {
   "metadata": {
    "ExecuteTime": {
     "end_time": "2024-06-27T07:59:55.229328Z",
     "start_time": "2024-06-27T07:59:55.227100Z"
    }
   },
   "cell_type": "code",
   "source": [
    "for i in Squares(1, 5):\n",
    "    print(i, end=' ')"
   ],
   "id": "9d4a60b869ec8a4c",
   "outputs": [
    {
     "name": "stdout",
     "output_type": "stream",
     "text": [
      "1 4 9 16 25 "
     ]
    }
   ],
   "execution_count": 66
  },
  {
   "metadata": {
    "ExecuteTime": {
     "end_time": "2024-06-27T08:01:14.091456Z",
     "start_time": "2024-06-27T08:01:14.087541Z"
    }
   },
   "cell_type": "code",
   "source": [
    "z = Squares(1, 5)\n",
    "iter(z) is z"
   ],
   "id": "56cbe14a2a6e8ef8",
   "outputs": [
    {
     "data": {
      "text/plain": [
       "True"
      ]
     },
     "execution_count": 74,
     "metadata": {},
     "output_type": "execute_result"
    }
   ],
   "execution_count": 74
  },
  {
   "metadata": {
    "ExecuteTime": {
     "end_time": "2024-06-27T08:01:14.359023Z",
     "start_time": "2024-06-27T08:01:14.352257Z"
    }
   },
   "cell_type": "code",
   "source": "z[1]",
   "id": "979ca0893e7424d",
   "outputs": [
    {
     "ename": "TypeError",
     "evalue": "'Squares' object is not subscriptable",
     "output_type": "error",
     "traceback": [
      "\u001B[0;31m---------------------------------------------------------------------------\u001B[0m",
      "\u001B[0;31mTypeError\u001B[0m                                 Traceback (most recent call last)",
      "Cell \u001B[0;32mIn[75], line 1\u001B[0m\n\u001B[0;32m----> 1\u001B[0m z[\u001B[38;5;241m1\u001B[39m]\n",
      "\u001B[0;31mTypeError\u001B[0m: 'Squares' object is not subscriptable"
     ]
    }
   ],
   "execution_count": 75
  },
  {
   "metadata": {
    "ExecuteTime": {
     "end_time": "2024-06-27T08:01:14.692508Z",
     "start_time": "2024-06-27T08:01:14.689788Z"
    }
   },
   "cell_type": "code",
   "source": "next(z)",
   "id": "62a17e5d9cbbf514",
   "outputs": [
    {
     "data": {
      "text/plain": [
       "1"
      ]
     },
     "execution_count": 76,
     "metadata": {},
     "output_type": "execute_result"
    }
   ],
   "execution_count": 76
  },
  {
   "metadata": {
    "ExecuteTime": {
     "end_time": "2024-06-27T08:01:15.132089Z",
     "start_time": "2024-06-27T08:01:15.128960Z"
    }
   },
   "cell_type": "code",
   "source": "next(z)",
   "id": "b5ee7f738cbbceba",
   "outputs": [
    {
     "data": {
      "text/plain": [
       "4"
      ]
     },
     "execution_count": 77,
     "metadata": {},
     "output_type": "execute_result"
    }
   ],
   "execution_count": 77
  },
  {
   "metadata": {
    "ExecuteTime": {
     "end_time": "2024-06-27T08:01:15.428018Z",
     "start_time": "2024-06-27T08:01:15.425634Z"
    }
   },
   "cell_type": "code",
   "source": "next(z), next(z), next(z)",
   "id": "e30974d8e2e16fd3",
   "outputs": [
    {
     "data": {
      "text/plain": [
       "(9, 16, 25)"
      ]
     },
     "execution_count": 78,
     "metadata": {},
     "output_type": "execute_result"
    }
   ],
   "execution_count": 78
  },
  {
   "metadata": {
    "ExecuteTime": {
     "end_time": "2024-06-27T08:01:17.121856Z",
     "start_time": "2024-06-27T08:01:17.112737Z"
    }
   },
   "cell_type": "code",
   "source": "next(z)",
   "id": "f6d3216c13b4cba",
   "outputs": [
    {
     "ename": "StopIteration",
     "evalue": "",
     "output_type": "error",
     "traceback": [
      "\u001B[0;31m---------------------------------------------------------------------------\u001B[0m",
      "\u001B[0;31mStopIteration\u001B[0m                             Traceback (most recent call last)",
      "Cell \u001B[0;32mIn[79], line 1\u001B[0m\n\u001B[0;32m----> 1\u001B[0m \u001B[38;5;28mnext\u001B[39m(z)\n",
      "Cell \u001B[0;32mIn[65], line 11\u001B[0m, in \u001B[0;36mSquares.__next__\u001B[0;34m(self)\u001B[0m\n\u001B[1;32m      9\u001B[0m \u001B[38;5;28;01mdef\u001B[39;00m \u001B[38;5;21m__next__\u001B[39m(\u001B[38;5;28mself\u001B[39m):\n\u001B[1;32m     10\u001B[0m     \u001B[38;5;28;01mif\u001B[39;00m \u001B[38;5;28mself\u001B[39m\u001B[38;5;241m.\u001B[39mvalue \u001B[38;5;241m==\u001B[39m \u001B[38;5;28mself\u001B[39m\u001B[38;5;241m.\u001B[39mstop:\n\u001B[0;32m---> 11\u001B[0m         \u001B[38;5;28;01mraise\u001B[39;00m \u001B[38;5;167;01mStopIteration\u001B[39;00m\n\u001B[1;32m     12\u001B[0m     \u001B[38;5;28mself\u001B[39m\u001B[38;5;241m.\u001B[39mvalue \u001B[38;5;241m+\u001B[39m\u001B[38;5;241m=\u001B[39m \u001B[38;5;241m1\u001B[39m\n\u001B[1;32m     13\u001B[0m     \u001B[38;5;28;01mreturn\u001B[39;00m \u001B[38;5;28mself\u001B[39m\u001B[38;5;241m.\u001B[39mvalue\u001B[38;5;241m*\u001B[39m\u001B[38;5;241m*\u001B[39m\u001B[38;5;241m2\u001B[39m\n",
      "\u001B[0;31mStopIteration\u001B[0m: "
     ]
    }
   ],
   "execution_count": 79
  },
  {
   "metadata": {},
   "cell_type": "markdown",
   "source": "## 单遍和多遍迭代",
   "id": "bf0506763eb5c88c"
  },
  {
   "metadata": {
    "ExecuteTime": {
     "end_time": "2024-06-27T08:02:15.643565Z",
     "start_time": "2024-06-27T08:02:15.638312Z"
    }
   },
   "cell_type": "code",
   "source": [
    "x = Squares(1, 5)\n",
    "[n for n in x]"
   ],
   "id": "78f07acc68c635ba",
   "outputs": [
    {
     "data": {
      "text/plain": [
       "[1, 4, 9, 16, 25]"
      ]
     },
     "execution_count": 80,
     "metadata": {},
     "output_type": "execute_result"
    }
   ],
   "execution_count": 80
  },
  {
   "metadata": {
    "ExecuteTime": {
     "end_time": "2024-06-27T08:02:20.248709Z",
     "start_time": "2024-06-27T08:02:20.245552Z"
    }
   },
   "cell_type": "code",
   "source": "[n for n in x]",
   "id": "48ef91ef07a7287",
   "outputs": [
    {
     "data": {
      "text/plain": [
       "[]"
      ]
     },
     "execution_count": 81,
     "metadata": {},
     "output_type": "execute_result"
    }
   ],
   "execution_count": 81
  },
  {
   "metadata": {
    "ExecuteTime": {
     "end_time": "2024-06-27T08:04:51.073892Z",
     "start_time": "2024-06-27T08:04:51.065141Z"
    }
   },
   "cell_type": "code",
   "source": "4 in Squares(1, 5), 5 in Squares(1, 5)",
   "id": "fbc8a7a001fad24e",
   "outputs": [
    {
     "data": {
      "text/plain": [
       "(True, False)"
      ]
     },
     "execution_count": 83,
     "metadata": {},
     "output_type": "execute_result"
    }
   ],
   "execution_count": 83
  },
  {
   "metadata": {
    "ExecuteTime": {
     "end_time": "2024-06-27T08:05:41.807059Z",
     "start_time": "2024-06-27T08:05:41.801702Z"
    }
   },
   "cell_type": "code",
   "source": "x = Squares(1, 5)",
   "id": "6c048cb8e34cef4b",
   "outputs": [],
   "execution_count": 84
  },
  {
   "metadata": {
    "ExecuteTime": {
     "end_time": "2024-06-27T08:05:49.516622Z",
     "start_time": "2024-06-27T08:05:49.514275Z"
    }
   },
   "cell_type": "code",
   "source": "tuple(x), tuple(x)",
   "id": "f0d6a992ad32ac1e",
   "outputs": [
    {
     "data": {
      "text/plain": [
       "((1, 4, 9, 16, 25), ())"
      ]
     },
     "execution_count": 85,
     "metadata": {},
     "output_type": "execute_result"
    }
   ],
   "execution_count": 85
  },
  {
   "metadata": {
    "ExecuteTime": {
     "end_time": "2024-06-27T08:06:12.321661Z",
     "start_time": "2024-06-27T08:06:12.316642Z"
    }
   },
   "cell_type": "code",
   "source": [
    "x = list(Squares(1, 5))\n",
    "tuple(x), tuple(x)\n"
   ],
   "id": "5b47866eb27fbe8",
   "outputs": [
    {
     "data": {
      "text/plain": [
       "((1, 4, 9, 16, 25), (1, 4, 9, 16, 25))"
      ]
     },
     "execution_count": 86,
     "metadata": {},
     "output_type": "execute_result"
    }
   ],
   "execution_count": 86
  },
  {
   "metadata": {
    "ExecuteTime": {
     "end_time": "2024-06-28T13:11:38.803596Z",
     "start_time": "2024-06-28T13:11:38.799602Z"
    }
   },
   "cell_type": "code",
   "source": [
    "class SkipObject:\n",
    "    def __init__(self, wrapped):  # Save item to be used\n",
    "        self.wrapped = wrapped\n",
    "\n",
    "    def __iter__(self):\n",
    "        return SkipIterator(self.wrapped)  # New iterator each time\n",
    "\n",
    "\n",
    "class SkipIterator:\n",
    "    # 迭代器\n",
    "    def __init__(self, wrapped):\n",
    "        self.wrapped = wrapped  # Iterator state information\n",
    "        self.offset = 0\n",
    "\n",
    "    def __next__(self):\n",
    "        if self.offset >= len(self.wrapped):  # Terminate iterations\n",
    "            raise StopIteration\n",
    "        else:\n",
    "            item = self.wrapped[self.offset]  # else return and skip\n",
    "            self.offset += 2\n",
    "            return item\n"
   ],
   "id": "9778e5907ef27245",
   "outputs": [],
   "execution_count": 1
  },
  {
   "metadata": {
    "ExecuteTime": {
     "end_time": "2024-06-28T13:11:58.242265Z",
     "start_time": "2024-06-28T13:11:58.238554Z"
    }
   },
   "cell_type": "code",
   "source": [
    "alpha = 'abcdef'\n",
    "skipper = SkipObject(alpha)  # Make container object\n",
    "I = iter(skipper)  # Make an iterator on it\n",
    "print(next(I), next(I), next(I))  # Visit offsets 0, 2, 4\n",
    "\n",
    "# 多次迭代\n",
    "for x in skipper:  # for calls __iter__ automatically\n",
    "    for y in skipper:  # Nested fors call __iter__ again each time\n",
    "        print(x + y, end=' ')  # Each iterator has its own state, offset"
   ],
   "id": "84dddc91aa64d089",
   "outputs": [
    {
     "name": "stdout",
     "output_type": "stream",
     "text": [
      "a c e\n",
      "aa ac ae ca cc ce ea ec ee "
     ]
    }
   ],
   "execution_count": 2
  },
  {
   "metadata": {
    "ExecuteTime": {
     "end_time": "2024-06-27T08:25:03.236086Z",
     "start_time": "2024-06-27T08:25:03.231828Z"
    }
   },
   "cell_type": "code",
   "source": [
    "class Squares:\n",
    "    def __init__(self, start, stop):\n",
    "        self.start = start\n",
    "        self.stop = stop\n",
    "\n",
    "    def __iter__(self):\n",
    "        for i in range(self.start, self.stop + 1):\n",
    "            yield i ** 2"
   ],
   "id": "4eb09aa6f575ec1b",
   "outputs": [],
   "execution_count": 99
  },
  {
   "metadata": {
    "ExecuteTime": {
     "end_time": "2024-06-27T08:25:03.832503Z",
     "start_time": "2024-06-27T08:25:03.829865Z"
    }
   },
   "cell_type": "code",
   "source": "Squares(1, 5).__iter__",
   "id": "150a05d1270ca9e5",
   "outputs": [
    {
     "data": {
      "text/plain": [
       "<bound method Squares.__iter__ of <__main__.Squares object at 0x10596a510>>"
      ]
     },
     "execution_count": 100,
     "metadata": {},
     "output_type": "execute_result"
    }
   ],
   "execution_count": 100
  },
  {
   "metadata": {
    "ExecuteTime": {
     "end_time": "2024-06-27T08:25:04.175231Z",
     "start_time": "2024-06-27T08:25:04.172340Z"
    }
   },
   "cell_type": "code",
   "source": [
    "for i in Squares(1, 5):\n",
    "    print(i, end=' ')"
   ],
   "id": "d9c1bef76c35027a",
   "outputs": [
    {
     "name": "stdout",
     "output_type": "stream",
     "text": [
      "1 4 9 16 25 "
     ]
    }
   ],
   "execution_count": 101
  },
  {
   "metadata": {
    "ExecuteTime": {
     "end_time": "2024-06-27T08:25:34.702544Z",
     "start_time": "2024-06-27T08:25:34.698951Z"
    }
   },
   "cell_type": "code",
   "source": [
    "s = Squares(1, 5)\n",
    "i = iter(s)"
   ],
   "id": "8fa10fea687e3ac0",
   "outputs": [],
   "execution_count": 102
  },
  {
   "metadata": {
    "ExecuteTime": {
     "end_time": "2024-06-27T08:25:43.161405Z",
     "start_time": "2024-06-27T08:25:43.156539Z"
    }
   },
   "cell_type": "code",
   "source": "next(i), next(i), next(i)",
   "id": "b3a0efd4e886f206",
   "outputs": [
    {
     "data": {
      "text/plain": [
       "(1, 4, 9)"
      ]
     },
     "execution_count": 103,
     "metadata": {},
     "output_type": "execute_result"
    }
   ],
   "execution_count": 103
  },
  {
   "metadata": {
    "ExecuteTime": {
     "end_time": "2024-06-27T08:25:50.516861Z",
     "start_time": "2024-06-27T08:25:50.512735Z"
    }
   },
   "cell_type": "code",
   "source": "next(i), next(i)",
   "id": "9f2551b7eef2ec1a",
   "outputs": [
    {
     "data": {
      "text/plain": [
       "(16, 25)"
      ]
     },
     "execution_count": 104,
     "metadata": {},
     "output_type": "execute_result"
    }
   ],
   "execution_count": 104
  },
  {
   "metadata": {
    "ExecuteTime": {
     "end_time": "2024-06-27T08:25:54.040140Z",
     "start_time": "2024-06-27T08:25:54.029940Z"
    }
   },
   "cell_type": "code",
   "source": "next(i)",
   "id": "cb68815b7c591962",
   "outputs": [
    {
     "ename": "StopIteration",
     "evalue": "",
     "output_type": "error",
     "traceback": [
      "\u001B[0;31m---------------------------------------------------------------------------\u001B[0m",
      "\u001B[0;31mStopIteration\u001B[0m                             Traceback (most recent call last)",
      "Cell \u001B[0;32mIn[105], line 1\u001B[0m\n\u001B[0;32m----> 1\u001B[0m \u001B[38;5;28mnext\u001B[39m(i)\n",
      "\u001B[0;31mStopIteration\u001B[0m: "
     ]
    }
   ],
   "execution_count": 105
  },
  {
   "metadata": {
    "ExecuteTime": {
     "end_time": "2024-06-27T08:34:50.206950Z",
     "start_time": "2024-06-27T08:34:50.203772Z"
    }
   },
   "cell_type": "code",
   "source": "tuple(s), tuple(s)",
   "id": "9a8086558e494131",
   "outputs": [
    {
     "data": {
      "text/plain": [
       "((1, 4, 9, 16, 25), (1, 4, 9, 16, 25))"
      ]
     },
     "execution_count": 107,
     "metadata": {},
     "output_type": "execute_result"
    }
   ],
   "execution_count": 107
  },
  {
   "metadata": {
    "ExecuteTime": {
     "end_time": "2024-06-27T08:40:37.559286Z",
     "start_time": "2024-06-27T08:40:37.551794Z"
    }
   },
   "cell_type": "code",
   "source": [
    "class SkipObject:  # Another __iter__ + yield generator\n",
    "    def __init__(self, wrapped):  # Instance scope retained normally \n",
    "        self.wrapped = wrapped  # Local scope state saved auto\n",
    "\n",
    "    def __iter__(self):\n",
    "        offset = 0\n",
    "        while offset < len(self.wrapped):\n",
    "            item = self.wrapped[offset]\n",
    "            offset += 2\n",
    "            yield item\n"
   ],
   "id": "7b742765d7528d88",
   "outputs": [],
   "execution_count": 108
  },
  {
   "metadata": {
    "ExecuteTime": {
     "end_time": "2024-06-27T08:40:55.953135Z",
     "start_time": "2024-06-27T08:40:55.949253Z"
    }
   },
   "cell_type": "code",
   "source": [
    "s = SkipObject('abcdef')\n",
    "for x in s:\n",
    "    for y in s:\n",
    "        print(x + y, end=' ')"
   ],
   "id": "baf1b09d7691dd69",
   "outputs": [
    {
     "name": "stdout",
     "output_type": "stream",
     "text": [
      "aa ac ae ca cc ce ea ec ee "
     ]
    }
   ],
   "execution_count": 109
  },
  {
   "metadata": {},
   "cell_type": "markdown",
   "source": "# contains",
   "id": "2ed68563ac27db4f"
  },
  {
   "metadata": {
    "ExecuteTime": {
     "end_time": "2024-06-28T13:30:12.761791Z",
     "start_time": "2024-06-28T13:30:12.751035Z"
    }
   },
   "cell_type": "code",
   "source": [
    "class Iters:\n",
    "    def __init__(self, value):\n",
    "        self.data = value\n",
    "\n",
    "    def __getitem__(self, i):  # Fallback for iteration\n",
    "        print('get[%s]:' % i, end='')  # Also for index, slice\n",
    "        return self.data[i]\n",
    "\n",
    "    def __iter__(self):  # Preferred for iteration\n",
    "        print('iter=> ', end='')  # Allows multiple active iterators\n",
    "        for x in self.data:  # no __next__ to alias to next\n",
    "            print('next:', end='')\n",
    "            yield x\n",
    "\n",
    "    def __contains__(self, x):  # Preferred for 'in'\n",
    "        print('contains: ', end='')\n",
    "        return x in self.data"
   ],
   "id": "cd1848560af8bc69",
   "outputs": [],
   "execution_count": 27
  },
  {
   "metadata": {
    "ExecuteTime": {
     "end_time": "2024-06-28T13:29:29.658384Z",
     "start_time": "2024-06-28T13:29:29.656307Z"
    }
   },
   "cell_type": "code",
   "source": [
    "X = Iters([1, 2, 3, 4, 5])  # Make instance\n",
    "print(3 in X)"
   ],
   "id": "a237ce926c87e131",
   "outputs": [
    {
     "name": "stdout",
     "output_type": "stream",
     "text": [
      "iter=> next:next:next:True\n"
     ]
    }
   ],
   "execution_count": 26
  },
  {
   "metadata": {
    "ExecuteTime": {
     "end_time": "2024-06-28T13:24:22.171604Z",
     "start_time": "2024-06-28T13:24:22.169752Z"
    }
   },
   "cell_type": "code",
   "source": [
    "# Membership \n",
    "for i in X:  # for loops\n",
    "    print(i, end=' | ')"
   ],
   "id": "449b2ad46711c25c",
   "outputs": [
    {
     "name": "stdout",
     "output_type": "stream",
     "text": [
      "iter=> next:1 | next:2 | next:3 | next:4 | next:5 | "
     ]
    }
   ],
   "execution_count": 18
  },
  {
   "metadata": {},
   "cell_type": "markdown",
   "source": "使用 iter",
   "id": "4853f057a346d37c"
  },
  {
   "metadata": {
    "ExecuteTime": {
     "end_time": "2024-06-28T13:26:00.585649Z",
     "start_time": "2024-06-28T13:26:00.583572Z"
    }
   },
   "cell_type": "code",
   "source": "print([i ** 2 for i in X])  # Other iteration contexts",
   "id": "b5affe91a0947a30",
   "outputs": [
    {
     "name": "stdout",
     "output_type": "stream",
     "text": [
      "iter=> next:next:next:next:next:[1, 4, 9, 16, 25]\n"
     ]
    }
   ],
   "execution_count": 21
  },
  {
   "metadata": {},
   "cell_type": "markdown",
   "source": "使用 iter",
   "id": "1713fc75b402a4d8"
  },
  {
   "metadata": {
    "ExecuteTime": {
     "end_time": "2024-06-28T13:27:08.313744Z",
     "start_time": "2024-06-28T13:27:08.310842Z"
    }
   },
   "cell_type": "code",
   "source": "print(list(map(bin, X)))",
   "id": "d848cf251d37b77",
   "outputs": [
    {
     "name": "stdout",
     "output_type": "stream",
     "text": [
      "iter=> next:next:next:next:next:['0b1', '0b10', '0b11', '0b100', '0b101']\n"
     ]
    }
   ],
   "execution_count": 24
  },
  {
   "metadata": {
    "ExecuteTime": {
     "end_time": "2024-06-28T13:26:14.684857Z",
     "start_time": "2024-06-28T13:26:14.682141Z"
    }
   },
   "cell_type": "code",
   "source": [
    "I = iter(X)  # Manual iteration (what other contexts do)\n",
    "while True:\n",
    "    try:\n",
    "        print(next(I), end=' @ ')\n",
    "    except StopIteration:\n",
    "        break\n"
   ],
   "id": "fd0bc84adf167ddc",
   "outputs": [
    {
     "name": "stdout",
     "output_type": "stream",
     "text": [
      "iter=> next:1 @ next:2 @ next:3 @ next:4 @ next:5 @ "
     ]
    }
   ],
   "execution_count": 23
  },
  {
   "metadata": {
    "ExecuteTime": {
     "end_time": "2024-06-28T13:30:26.465314Z",
     "start_time": "2024-06-28T13:30:26.461097Z"
    }
   },
   "cell_type": "code",
   "source": "X[0]",
   "id": "785e1d30d0a1f6e5",
   "outputs": [
    {
     "name": "stdout",
     "output_type": "stream",
     "text": [
      "get[0]:"
     ]
    },
    {
     "data": {
      "text/plain": [
       "1"
      ]
     },
     "execution_count": 28,
     "metadata": {},
     "output_type": "execute_result"
    }
   ],
   "execution_count": 28
  },
  {
   "metadata": {
    "ExecuteTime": {
     "end_time": "2024-06-28T13:30:33.095113Z",
     "start_time": "2024-06-28T13:30:33.092458Z"
    }
   },
   "cell_type": "code",
   "source": "X[1:3]",
   "id": "b07caa4b34afebf5",
   "outputs": [
    {
     "name": "stdout",
     "output_type": "stream",
     "text": [
      "get[slice(1, 3, None)]:"
     ]
    },
    {
     "data": {
      "text/plain": [
       "[2, 3]"
      ]
     },
     "execution_count": 29,
     "metadata": {},
     "output_type": "execute_result"
    }
   ],
   "execution_count": 29
  },
  {
   "metadata": {
    "ExecuteTime": {
     "end_time": "2024-06-28T13:30:42.223043Z",
     "start_time": "2024-06-28T13:30:42.220614Z"
    }
   },
   "cell_type": "code",
   "source": "list(X)",
   "id": "8d4d43675df8110d",
   "outputs": [
    {
     "name": "stdout",
     "output_type": "stream",
     "text": [
      "iter=> next:next:next:next:next:"
     ]
    },
    {
     "data": {
      "text/plain": [
       "[1, 2, 3, 4, 5]"
      ]
     },
     "execution_count": 30,
     "metadata": {},
     "output_type": "execute_result"
    }
   ],
   "execution_count": 30
  },
  {
   "metadata": {},
   "cell_type": "markdown",
   "source": "getarrt",
   "id": "16a8791d8e7222e8"
  },
  {
   "metadata": {
    "ExecuteTime": {
     "end_time": "2024-06-28T13:34:10.568285Z",
     "start_time": "2024-06-28T13:34:10.563530Z"
    }
   },
   "cell_type": "code",
   "source": [
    "class Empty:\n",
    "    def __getattr__(self, attrname):\n",
    "        if attrname == 'name':\n",
    "            return 40\n",
    "        else:\n",
    "            raise AttributeError(attrname)"
   ],
   "id": "824bdff4866bd511",
   "outputs": [],
   "execution_count": 31
  },
  {
   "metadata": {
    "ExecuteTime": {
     "end_time": "2024-06-28T13:34:16.739671Z",
     "start_time": "2024-06-28T13:34:16.737042Z"
    }
   },
   "cell_type": "code",
   "source": [
    "a = Empty()\n",
    "a.name"
   ],
   "id": "f74d1ebcab5aaa35",
   "outputs": [
    {
     "data": {
      "text/plain": [
       "40"
      ]
     },
     "execution_count": 32,
     "metadata": {},
     "output_type": "execute_result"
    }
   ],
   "execution_count": 32
  },
  {
   "metadata": {
    "ExecuteTime": {
     "end_time": "2024-06-28T13:34:19.325003Z",
     "start_time": "2024-06-28T13:34:19.103966Z"
    }
   },
   "cell_type": "code",
   "source": "a.age",
   "id": "8e78c47e7ee13623",
   "outputs": [
    {
     "ename": "AttributeError",
     "evalue": "age",
     "output_type": "error",
     "traceback": [
      "\u001B[0;31m---------------------------------------------------------------------------\u001B[0m",
      "\u001B[0;31mAttributeError\u001B[0m                            Traceback (most recent call last)",
      "Cell \u001B[0;32mIn[33], line 1\u001B[0m\n\u001B[0;32m----> 1\u001B[0m a\u001B[38;5;241m.\u001B[39mage\n",
      "Cell \u001B[0;32mIn[31], line 6\u001B[0m, in \u001B[0;36mEmpty.__getattr__\u001B[0;34m(self, attrname)\u001B[0m\n\u001B[1;32m      4\u001B[0m     \u001B[38;5;28;01mreturn\u001B[39;00m \u001B[38;5;241m40\u001B[39m\n\u001B[1;32m      5\u001B[0m \u001B[38;5;28;01melse\u001B[39;00m:\n\u001B[0;32m----> 6\u001B[0m     \u001B[38;5;28;01mraise\u001B[39;00m \u001B[38;5;167;01mAttributeError\u001B[39;00m(attrname)\n",
      "\u001B[0;31mAttributeError\u001B[0m: age"
     ]
    }
   ],
   "execution_count": 33
  },
  {
   "metadata": {},
   "cell_type": "markdown",
   "source": "setattr",
   "id": "c7ec54a51138c94a"
  },
  {
   "metadata": {
    "ExecuteTime": {
     "end_time": "2024-06-28T13:46:20.318195Z",
     "start_time": "2024-06-28T13:46:20.315322Z"
    }
   },
   "cell_type": "code",
   "source": [
    "class Accesscontrol:\n",
    "    def __setattr__(self, attr, value):\n",
    "        if attr == 'age':\n",
    "            if not isinstance(value, int) or value < 0:\n",
    "                raise ValueError('age must be positive')\n",
    "            # self.__dict__[attr] = value\n",
    "            object.__setattr__(self, attr, value)\n",
    "        else:\n",
    "            raise AttributeError(attr + 'not allowed')"
   ],
   "id": "b60753525c690483",
   "outputs": [],
   "execution_count": 47
  },
  {
   "metadata": {
    "ExecuteTime": {
     "end_time": "2024-06-28T13:46:20.659149Z",
     "start_time": "2024-06-28T13:46:20.649386Z"
    }
   },
   "cell_type": "code",
   "source": [
    "b = Accesscontrol()\n",
    "b.age = -1"
   ],
   "id": "2fd2727284d10ca9",
   "outputs": [
    {
     "ename": "ValueError",
     "evalue": "age must be positive",
     "output_type": "error",
     "traceback": [
      "\u001B[0;31m---------------------------------------------------------------------------\u001B[0m",
      "\u001B[0;31mValueError\u001B[0m                                Traceback (most recent call last)",
      "Cell \u001B[0;32mIn[48], line 2\u001B[0m\n\u001B[1;32m      1\u001B[0m b \u001B[38;5;241m=\u001B[39m Accesscontrol()\n\u001B[0;32m----> 2\u001B[0m b\u001B[38;5;241m.\u001B[39mage \u001B[38;5;241m=\u001B[39m \u001B[38;5;241m-\u001B[39m\u001B[38;5;241m1\u001B[39m\n",
      "Cell \u001B[0;32mIn[47], line 5\u001B[0m, in \u001B[0;36mAccesscontrol.__setattr__\u001B[0;34m(self, attr, value)\u001B[0m\n\u001B[1;32m      3\u001B[0m \u001B[38;5;28;01mif\u001B[39;00m attr \u001B[38;5;241m==\u001B[39m \u001B[38;5;124m'\u001B[39m\u001B[38;5;124mage\u001B[39m\u001B[38;5;124m'\u001B[39m:\n\u001B[1;32m      4\u001B[0m     \u001B[38;5;28;01mif\u001B[39;00m \u001B[38;5;129;01mnot\u001B[39;00m \u001B[38;5;28misinstance\u001B[39m(value, \u001B[38;5;28mint\u001B[39m) \u001B[38;5;129;01mor\u001B[39;00m value \u001B[38;5;241m<\u001B[39m \u001B[38;5;241m0\u001B[39m:\n\u001B[0;32m----> 5\u001B[0m         \u001B[38;5;28;01mraise\u001B[39;00m \u001B[38;5;167;01mValueError\u001B[39;00m(\u001B[38;5;124m'\u001B[39m\u001B[38;5;124mage must be positive\u001B[39m\u001B[38;5;124m'\u001B[39m)\n\u001B[1;32m      6\u001B[0m     \u001B[38;5;66;03m# self.__dict__[attr] = value\u001B[39;00m\n\u001B[1;32m      7\u001B[0m     \u001B[38;5;28mobject\u001B[39m\u001B[38;5;241m.\u001B[39m\u001B[38;5;21m__setattr__\u001B[39m(\u001B[38;5;28mself\u001B[39m, attr, value)\n",
      "\u001B[0;31mValueError\u001B[0m: age must be positive"
     ]
    }
   ],
   "execution_count": 48
  },
  {
   "metadata": {
    "ExecuteTime": {
     "end_time": "2024-06-28T13:46:20.989004Z",
     "start_time": "2024-06-28T13:46:20.987246Z"
    }
   },
   "cell_type": "code",
   "source": "b.age = 10",
   "id": "41d02383b2119699",
   "outputs": [],
   "execution_count": 49
  },
  {
   "metadata": {
    "ExecuteTime": {
     "end_time": "2024-06-28T13:46:21.406064Z",
     "start_time": "2024-06-28T13:46:21.403986Z"
    }
   },
   "cell_type": "code",
   "source": "b.__dict__",
   "id": "c37527d0987ae11a",
   "outputs": [
    {
     "data": {
      "text/plain": [
       "{'age': 10}"
      ]
     },
     "execution_count": 50,
     "metadata": {},
     "output_type": "execute_result"
    }
   ],
   "execution_count": 50
  },
  {
   "metadata": {},
   "cell_type": "markdown",
   "source": "直接赋值会无限递归",
   "id": "425679afd202cdde"
  },
  {
   "metadata": {
    "ExecuteTime": {
     "end_time": "2024-06-28T13:44:42.573513Z",
     "start_time": "2024-06-28T13:44:42.569323Z"
    }
   },
   "cell_type": "code",
   "source": [
    "class Accesscontrol:\n",
    "    def __setattr__(self, attr, value):\n",
    "        if attr == 'age':\n",
    "            if not isinstance(value, int) or value < 0:\n",
    "                raise ValueError('age must be positive')\n",
    "            # self.__dict__[attr] = value\n",
    "            self.age = value  # 循环\n",
    "        else:\n",
    "            raise AttributeError(attr + 'not allowed')"
   ],
   "id": "d8c2d547bd833cb2",
   "outputs": [],
   "execution_count": 41
  },
  {
   "metadata": {
    "ExecuteTime": {
     "end_time": "2024-06-28T13:44:50.617951Z",
     "start_time": "2024-06-28T13:44:49.602134Z"
    }
   },
   "cell_type": "code",
   "source": [
    "b = Accesscontrol()\n",
    "b.age = 40"
   ],
   "id": "1b83603977db41a7",
   "outputs": [
    {
     "ename": "RecursionError",
     "evalue": "maximum recursion depth exceeded",
     "output_type": "error",
     "traceback": [
      "\u001B[0;31m---------------------------------------------------------------------------\u001B[0m",
      "\u001B[0;31mRecursionError\u001B[0m                            Traceback (most recent call last)",
      "Cell \u001B[0;32mIn[42], line 2\u001B[0m\n\u001B[1;32m      1\u001B[0m b \u001B[38;5;241m=\u001B[39m Accesscontrol()\n\u001B[0;32m----> 2\u001B[0m b\u001B[38;5;241m.\u001B[39mage \u001B[38;5;241m=\u001B[39m \u001B[38;5;241m40\u001B[39m\n",
      "Cell \u001B[0;32mIn[41], line 7\u001B[0m, in \u001B[0;36mAccesscontrol.__setattr__\u001B[0;34m(self, attr, value)\u001B[0m\n\u001B[1;32m      5\u001B[0m         \u001B[38;5;28;01mraise\u001B[39;00m \u001B[38;5;167;01mValueError\u001B[39;00m(\u001B[38;5;124m'\u001B[39m\u001B[38;5;124mage must be positive\u001B[39m\u001B[38;5;124m'\u001B[39m)\n\u001B[1;32m      6\u001B[0m     \u001B[38;5;66;03m# self.__dict__[attr] = value\u001B[39;00m\n\u001B[0;32m----> 7\u001B[0m     \u001B[38;5;28mself\u001B[39m\u001B[38;5;241m.\u001B[39mage \u001B[38;5;241m=\u001B[39m value \u001B[38;5;66;03m# 循环\u001B[39;00m\n\u001B[1;32m      8\u001B[0m \u001B[38;5;28;01melse\u001B[39;00m:\n\u001B[1;32m      9\u001B[0m     \u001B[38;5;28;01mraise\u001B[39;00m \u001B[38;5;167;01mAttributeError\u001B[39;00m(attr \u001B[38;5;241m+\u001B[39m \u001B[38;5;124m'\u001B[39m\u001B[38;5;124mnot allowed\u001B[39m\u001B[38;5;124m'\u001B[39m)\n",
      "Cell \u001B[0;32mIn[41], line 7\u001B[0m, in \u001B[0;36mAccesscontrol.__setattr__\u001B[0;34m(self, attr, value)\u001B[0m\n\u001B[1;32m      5\u001B[0m         \u001B[38;5;28;01mraise\u001B[39;00m \u001B[38;5;167;01mValueError\u001B[39;00m(\u001B[38;5;124m'\u001B[39m\u001B[38;5;124mage must be positive\u001B[39m\u001B[38;5;124m'\u001B[39m)\n\u001B[1;32m      6\u001B[0m     \u001B[38;5;66;03m# self.__dict__[attr] = value\u001B[39;00m\n\u001B[0;32m----> 7\u001B[0m     \u001B[38;5;28mself\u001B[39m\u001B[38;5;241m.\u001B[39mage \u001B[38;5;241m=\u001B[39m value \u001B[38;5;66;03m# 循环\u001B[39;00m\n\u001B[1;32m      8\u001B[0m \u001B[38;5;28;01melse\u001B[39;00m:\n\u001B[1;32m      9\u001B[0m     \u001B[38;5;28;01mraise\u001B[39;00m \u001B[38;5;167;01mAttributeError\u001B[39;00m(attr \u001B[38;5;241m+\u001B[39m \u001B[38;5;124m'\u001B[39m\u001B[38;5;124mnot allowed\u001B[39m\u001B[38;5;124m'\u001B[39m)\n",
      "    \u001B[0;31m[... skipping similar frames: Accesscontrol.__setattr__ at line 7 (2971 times)]\u001B[0m\n",
      "Cell \u001B[0;32mIn[41], line 7\u001B[0m, in \u001B[0;36mAccesscontrol.__setattr__\u001B[0;34m(self, attr, value)\u001B[0m\n\u001B[1;32m      5\u001B[0m         \u001B[38;5;28;01mraise\u001B[39;00m \u001B[38;5;167;01mValueError\u001B[39;00m(\u001B[38;5;124m'\u001B[39m\u001B[38;5;124mage must be positive\u001B[39m\u001B[38;5;124m'\u001B[39m)\n\u001B[1;32m      6\u001B[0m     \u001B[38;5;66;03m# self.__dict__[attr] = value\u001B[39;00m\n\u001B[0;32m----> 7\u001B[0m     \u001B[38;5;28mself\u001B[39m\u001B[38;5;241m.\u001B[39mage \u001B[38;5;241m=\u001B[39m value \u001B[38;5;66;03m# 循环\u001B[39;00m\n\u001B[1;32m      8\u001B[0m \u001B[38;5;28;01melse\u001B[39;00m:\n\u001B[1;32m      9\u001B[0m     \u001B[38;5;28;01mraise\u001B[39;00m \u001B[38;5;167;01mAttributeError\u001B[39;00m(attr \u001B[38;5;241m+\u001B[39m \u001B[38;5;124m'\u001B[39m\u001B[38;5;124mnot allowed\u001B[39m\u001B[38;5;124m'\u001B[39m)\n",
      "\u001B[0;31mRecursionError\u001B[0m: maximum recursion depth exceeded"
     ]
    }
   ],
   "execution_count": 42
  },
  {
   "metadata": {},
   "cell_type": "markdown",
   "source": "# 私有属性",
   "id": "10f8126261c700f0"
  },
  {
   "metadata": {
    "ExecuteTime": {
     "end_time": "2024-06-28T13:50:14.323241Z",
     "start_time": "2024-06-28T13:50:14.320404Z"
    }
   },
   "cell_type": "code",
   "source": [
    "class PrivateExc(Exception): pass  # More on exceptions in Part VII\n",
    "\n",
    "\n",
    "class Privacy:\n",
    "    def __setattr__(self, attrname, value):  # On self.attrname = value\n",
    "        if attrname in self.privates:\n",
    "            raise PrivateExc(attrname, self)  # Make, raise user-define except\n",
    "        else:\n",
    "            self.__dict__[attrname] = value  # Avoid loops by using dict key\n",
    "\n",
    "\n",
    "class Test1(Privacy):\n",
    "    privates = ['age']\n",
    "\n",
    "\n",
    "class Test2(Privacy):\n",
    "    privates = ['name', 'pay']\n",
    "\n",
    "    def __init__(self):\n",
    "        self.__dict__['name'] = 'Tom'  # To do better, see Chapter 39!"
   ],
   "id": "784d3fc22593fbd3",
   "outputs": [],
   "execution_count": 52
  },
  {
   "metadata": {
    "ExecuteTime": {
     "end_time": "2024-06-28T13:50:47.054270Z",
     "start_time": "2024-06-28T13:50:47.052449Z"
    }
   },
   "cell_type": "code",
   "source": [
    "x = Test1()\n",
    "x.name = 'Bob'  # Works\n",
    "print(x.name)"
   ],
   "id": "f055f8b78310bfa1",
   "outputs": [
    {
     "name": "stdout",
     "output_type": "stream",
     "text": [
      "Bob\n"
     ]
    }
   ],
   "execution_count": 55
  },
  {
   "metadata": {
    "ExecuteTime": {
     "end_time": "2024-06-28T13:50:47.669246Z",
     "start_time": "2024-06-28T13:50:47.659950Z"
    }
   },
   "cell_type": "code",
   "source": [
    "y = Test2()\n",
    "y.name = 'Sue'  # Fails"
   ],
   "id": "9f00a3d4169b22dd",
   "outputs": [
    {
     "ename": "PrivateExc",
     "evalue": "('name', <__main__.Test2 object at 0x1111adb10>)",
     "output_type": "error",
     "traceback": [
      "\u001B[0;31m---------------------------------------------------------------------------\u001B[0m",
      "\u001B[0;31mPrivateExc\u001B[0m                                Traceback (most recent call last)",
      "Cell \u001B[0;32mIn[56], line 2\u001B[0m\n\u001B[1;32m      1\u001B[0m y \u001B[38;5;241m=\u001B[39m Test2()\n\u001B[0;32m----> 2\u001B[0m y\u001B[38;5;241m.\u001B[39mname \u001B[38;5;241m=\u001B[39m \u001B[38;5;124m'\u001B[39m\u001B[38;5;124mSue\u001B[39m\u001B[38;5;124m'\u001B[39m\n",
      "Cell \u001B[0;32mIn[52], line 6\u001B[0m, in \u001B[0;36mPrivacy.__setattr__\u001B[0;34m(self, attrname, value)\u001B[0m\n\u001B[1;32m      4\u001B[0m \u001B[38;5;28;01mdef\u001B[39;00m \u001B[38;5;21m__setattr__\u001B[39m(\u001B[38;5;28mself\u001B[39m, attrname, value):         \u001B[38;5;66;03m# On self.attrname = value\u001B[39;00m\n\u001B[1;32m      5\u001B[0m     \u001B[38;5;28;01mif\u001B[39;00m attrname \u001B[38;5;129;01min\u001B[39;00m \u001B[38;5;28mself\u001B[39m\u001B[38;5;241m.\u001B[39mprivates:\n\u001B[0;32m----> 6\u001B[0m         \u001B[38;5;28;01mraise\u001B[39;00m PrivateExc(attrname, \u001B[38;5;28mself\u001B[39m)        \u001B[38;5;66;03m# Make, raise user-define except\u001B[39;00m\n\u001B[1;32m      7\u001B[0m     \u001B[38;5;28;01melse\u001B[39;00m:\n\u001B[1;32m      8\u001B[0m         \u001B[38;5;28mself\u001B[39m\u001B[38;5;241m.\u001B[39m\u001B[38;5;18m__dict__\u001B[39m[attrname] \u001B[38;5;241m=\u001B[39m value\n",
      "\u001B[0;31mPrivateExc\u001B[0m: ('name', <__main__.Test2 object at 0x1111adb10>)"
     ]
    }
   ],
   "execution_count": 56
  },
  {
   "metadata": {
    "ExecuteTime": {
     "end_time": "2024-06-28T13:51:04.863262Z",
     "start_time": "2024-06-28T13:51:04.861112Z"
    }
   },
   "cell_type": "code",
   "source": [
    "y.age = 30  # Works\n",
    "#x.age  = 40         # Fails\n",
    "print(y.age)"
   ],
   "id": "2346023f40f54e3e",
   "outputs": [
    {
     "name": "stdout",
     "output_type": "stream",
     "text": [
      "30\n"
     ]
    }
   ],
   "execution_count": 58
  },
  {
   "metadata": {
    "ExecuteTime": {
     "end_time": "2024-06-28T13:55:32.153481Z",
     "start_time": "2024-06-28T13:55:32.148878Z"
    }
   },
   "cell_type": "code",
   "source": [
    "class Adder:\n",
    "    def __str__(self):\n",
    "        return str(self.__dict__)"
   ],
   "id": "e4b2a7923701e9f8",
   "outputs": [],
   "execution_count": 59
  },
  {
   "metadata": {
    "ExecuteTime": {
     "end_time": "2024-06-28T13:55:37.795273Z",
     "start_time": "2024-06-28T13:55:37.792750Z"
    }
   },
   "cell_type": "code",
   "source": [
    "c = Adder()\n",
    "str(c)"
   ],
   "id": "d1b27695bfa30bbc",
   "outputs": [
    {
     "data": {
      "text/plain": [
       "'{}'"
      ]
     },
     "execution_count": 60,
     "metadata": {},
     "output_type": "execute_result"
    }
   ],
   "execution_count": 60
  },
  {
   "metadata": {
    "ExecuteTime": {
     "end_time": "2024-06-28T13:55:42.147405Z",
     "start_time": "2024-06-28T13:55:42.144931Z"
    }
   },
   "cell_type": "code",
   "source": "repr(c)",
   "id": "1c190f259ae1c17a",
   "outputs": [
    {
     "data": {
      "text/plain": [
       "'<__main__.Adder object at 0x111247990>'"
      ]
     },
     "execution_count": 61,
     "metadata": {},
     "output_type": "execute_result"
    }
   ],
   "execution_count": 61
  },
  {
   "metadata": {
    "ExecuteTime": {
     "end_time": "2024-06-28T13:56:05.809789Z",
     "start_time": "2024-06-28T13:56:05.807927Z"
    }
   },
   "cell_type": "code",
   "source": [
    "class Adder2:\n",
    "    def __str__(self):\n",
    "        return str(self.__dict__)\n",
    "\n",
    "    def __repr__(self):\n",
    "        return 'Call repr'"
   ],
   "id": "12aeec9790e28efe",
   "outputs": [],
   "execution_count": 62
  },
  {
   "metadata": {
    "ExecuteTime": {
     "end_time": "2024-06-28T13:56:18.681228Z",
     "start_time": "2024-06-28T13:56:18.678397Z"
    }
   },
   "cell_type": "code",
   "source": [
    "d = Adder2()\n",
    "str(d), repr(d)"
   ],
   "id": "b54e5db950ae27e3",
   "outputs": [
    {
     "data": {
      "text/plain": [
       "('{}', 'Call repr')"
      ]
     },
     "execution_count": 63,
     "metadata": {},
     "output_type": "execute_result"
    }
   ],
   "execution_count": 63
  },
  {
   "metadata": {
    "ExecuteTime": {
     "end_time": "2024-06-28T13:56:20.477337Z",
     "start_time": "2024-06-28T13:56:20.475495Z"
    }
   },
   "cell_type": "code",
   "source": "print(d)",
   "id": "f2e8645e535bf7d2",
   "outputs": [
    {
     "name": "stdout",
     "output_type": "stream",
     "text": [
      "{}\n"
     ]
    }
   ],
   "execution_count": 64
  },
  {
   "metadata": {},
   "cell_type": "markdown",
   "source": "ladd",
   "id": "88d33c374b9a5d06"
  },
  {
   "metadata": {
    "ExecuteTime": {
     "end_time": "2024-06-28T14:00:56.850776Z",
     "start_time": "2024-06-28T14:00:56.846331Z"
    }
   },
   "cell_type": "code",
   "source": [
    "class Adder:\n",
    "    def __init__(self, value):\n",
    "        self.data = value\n",
    "\n",
    "    def __add__(self, other):\n",
    "        return self.data + other"
   ],
   "id": "1ab23fe49a3fc196",
   "outputs": [],
   "execution_count": 71
  },
  {
   "metadata": {
    "ExecuteTime": {
     "end_time": "2024-06-28T14:00:57.104185Z",
     "start_time": "2024-06-28T14:00:57.101833Z"
    }
   },
   "cell_type": "code",
   "source": [
    "a = Adder(10)\n",
    "a + 2"
   ],
   "id": "6607a8d8cce13afc",
   "outputs": [
    {
     "data": {
      "text/plain": [
       "12"
      ]
     },
     "execution_count": 72,
     "metadata": {},
     "output_type": "execute_result"
    }
   ],
   "execution_count": 72
  },
  {
   "metadata": {
    "ExecuteTime": {
     "end_time": "2024-06-28T14:00:57.744154Z",
     "start_time": "2024-06-28T14:00:57.734049Z"
    }
   },
   "cell_type": "code",
   "source": "2 + a",
   "id": "c8d4e4020e90611",
   "outputs": [
    {
     "ename": "TypeError",
     "evalue": "unsupported operand type(s) for +: 'int' and 'Adder'",
     "output_type": "error",
     "traceback": [
      "\u001B[0;31m---------------------------------------------------------------------------\u001B[0m",
      "\u001B[0;31mTypeError\u001B[0m                                 Traceback (most recent call last)",
      "Cell \u001B[0;32mIn[73], line 1\u001B[0m\n\u001B[0;32m----> 1\u001B[0m \u001B[38;5;241m2\u001B[39m\u001B[38;5;241m+\u001B[39ma\n",
      "\u001B[0;31mTypeError\u001B[0m: unsupported operand type(s) for +: 'int' and 'Adder'"
     ]
    }
   ],
   "execution_count": 73
  },
  {
   "metadata": {
    "ExecuteTime": {
     "end_time": "2024-06-28T14:00:58.687118Z",
     "start_time": "2024-06-28T14:00:58.684565Z"
    }
   },
   "cell_type": "code",
   "source": [
    "class Adder:\n",
    "    def __init__(self, value):\n",
    "        self.data = value\n",
    "\n",
    "    def __add__(self, other):\n",
    "        print('__add__')\n",
    "        return self.data + other\n",
    "\n",
    "    def __radd__(self, other):\n",
    "        print('__radd__')\n",
    "        return self.data + other"
   ],
   "id": "a92336b7914266fe",
   "outputs": [],
   "execution_count": 74
  },
  {
   "metadata": {
    "ExecuteTime": {
     "end_time": "2024-06-28T14:00:59.228939Z",
     "start_time": "2024-06-28T14:00:59.226458Z"
    }
   },
   "cell_type": "code",
   "source": [
    "b = Adder(20)\n",
    "b + 30"
   ],
   "id": "ea645c9cfc4939af",
   "outputs": [
    {
     "name": "stdout",
     "output_type": "stream",
     "text": [
      "__add__\n"
     ]
    },
    {
     "data": {
      "text/plain": [
       "50"
      ]
     },
     "execution_count": 75,
     "metadata": {},
     "output_type": "execute_result"
    }
   ],
   "execution_count": 75
  },
  {
   "metadata": {
    "ExecuteTime": {
     "end_time": "2024-06-28T14:00:59.977716Z",
     "start_time": "2024-06-28T14:00:59.975209Z"
    }
   },
   "cell_type": "code",
   "source": "30 + b",
   "id": "2a3e02caabfbe812",
   "outputs": [
    {
     "name": "stdout",
     "output_type": "stream",
     "text": [
      "__radd__\n"
     ]
    },
    {
     "data": {
      "text/plain": [
       "50"
      ]
     },
     "execution_count": 76,
     "metadata": {},
     "output_type": "execute_result"
    }
   ],
   "execution_count": 76
  },
  {
   "metadata": {
    "ExecuteTime": {
     "end_time": "2024-06-28T14:01:21.232934Z",
     "start_time": "2024-06-28T14:01:21.229444Z"
    }
   },
   "cell_type": "code",
   "source": "c = Adder(40)",
   "id": "84c9955dc69005c0",
   "outputs": [],
   "execution_count": 77
  },
  {
   "metadata": {
    "ExecuteTime": {
     "end_time": "2024-06-28T14:01:23.743727Z",
     "start_time": "2024-06-28T14:01:23.741118Z"
    }
   },
   "cell_type": "code",
   "source": "b + c",
   "id": "de5df998bf1cbe97",
   "outputs": [
    {
     "name": "stdout",
     "output_type": "stream",
     "text": [
      "__add__\n",
      "__radd__\n"
     ]
    },
    {
     "data": {
      "text/plain": [
       "60"
      ]
     },
     "execution_count": 78,
     "metadata": {},
     "output_type": "execute_result"
    }
   ],
   "execution_count": 78
  },
  {
   "metadata": {},
   "cell_type": "markdown",
   "source": "复用 add",
   "id": "4392b9f26d9a3834"
  },
  {
   "metadata": {
    "ExecuteTime": {
     "end_time": "2024-06-28T14:02:47.895654Z",
     "start_time": "2024-06-28T14:02:47.891109Z"
    }
   },
   "cell_type": "code",
   "source": [
    "class Adder:\n",
    "    def __init__(self, value):\n",
    "        self.data = value\n",
    "\n",
    "    def __add__(self, other):\n",
    "        print('__add__')\n",
    "        return self.data + other\n",
    "\n",
    "    def __radd__(self, other):\n",
    "        print('__radd__')\n",
    "        return self.__add__(other)"
   ],
   "id": "1a79824de4ce0230",
   "outputs": [],
   "execution_count": 79
  },
  {
   "metadata": {
    "ExecuteTime": {
     "end_time": "2024-06-28T14:03:00.068600Z",
     "start_time": "2024-06-28T14:03:00.065615Z"
    }
   },
   "cell_type": "code",
   "source": [
    "b = Adder(20)\n",
    "30 + b"
   ],
   "id": "636f5f7970b71b03",
   "outputs": [
    {
     "name": "stdout",
     "output_type": "stream",
     "text": [
      "__radd__\n",
      "__add__\n"
     ]
    },
    {
     "data": {
      "text/plain": [
       "50"
      ]
     },
     "execution_count": 81,
     "metadata": {},
     "output_type": "execute_result"
    }
   ],
   "execution_count": 81
  },
  {
   "metadata": {
    "ExecuteTime": {
     "end_time": "2024-06-28T14:03:39.308547Z",
     "start_time": "2024-06-28T14:03:39.304662Z"
    }
   },
   "cell_type": "code",
   "source": [
    "class Adder:\n",
    "    def __init__(self, value):\n",
    "        self.data = value\n",
    "\n",
    "    def __add__(self, other):\n",
    "        print('__add__')\n",
    "        return self.data + other\n",
    "\n",
    "    __radd__ = __add__  # 别名"
   ],
   "id": "efb95cd2faaeffab",
   "outputs": [],
   "execution_count": 82
  },
  {
   "metadata": {
    "ExecuteTime": {
     "end_time": "2024-06-28T14:03:41.689103Z",
     "start_time": "2024-06-28T14:03:41.686070Z"
    }
   },
   "cell_type": "code",
   "source": [
    "b = Adder(20)\n",
    "30 + b"
   ],
   "id": "d297ec3bffdf7b14",
   "outputs": [
    {
     "name": "stdout",
     "output_type": "stream",
     "text": [
      "__add__\n"
     ]
    },
    {
     "data": {
      "text/plain": [
       "50"
      ]
     },
     "execution_count": 83,
     "metadata": {},
     "output_type": "execute_result"
    }
   ],
   "execution_count": 83
  },
  {
   "metadata": {},
   "cell_type": "markdown",
   "source": "# 避免类类嵌套",
   "id": "d5ab3f215027f4e3"
  },
  {
   "metadata": {
    "ExecuteTime": {
     "end_time": "2024-06-28T14:10:52.073704Z",
     "start_time": "2024-06-28T14:10:52.068792Z"
    }
   },
   "cell_type": "code",
   "source": [
    "class Commuter5:  # Propagate class type in results\n",
    "    def __init__(self, val):\n",
    "        self.val = val\n",
    "\n",
    "    def __add__(self, other):\n",
    "        if isinstance(other, Commuter5):  # Type test to avoid object nesting 避免嵌套\n",
    "            other = other.val\n",
    "        return Commuter5(self.val + other)  # Else + result is another Commuter\n",
    "\n",
    "    def __radd__(self, other):\n",
    "        # return Commuter5(other + self.val)\n",
    "        return Commuter5(self.val + other)\n",
    "\n",
    "    def __str__(self):\n",
    "        return '<Commuter5: %s>' % self.val"
   ],
   "id": "dcd1c00e8efd464e",
   "outputs": [],
   "execution_count": 106
  },
  {
   "metadata": {
    "ExecuteTime": {
     "end_time": "2024-06-28T14:10:52.334600Z",
     "start_time": "2024-06-28T14:10:52.333049Z"
    }
   },
   "cell_type": "code",
   "source": [
    "x = Commuter5(10)\n",
    "y = Commuter5(33)"
   ],
   "id": "3321f8f89891623e",
   "outputs": [],
   "execution_count": 107
  },
  {
   "metadata": {
    "ExecuteTime": {
     "end_time": "2024-06-28T14:10:52.609255Z",
     "start_time": "2024-06-28T14:10:52.607353Z"
    }
   },
   "cell_type": "code",
   "source": "print(x + 2)",
   "id": "758859e7a4e63183",
   "outputs": [
    {
     "name": "stdout",
     "output_type": "stream",
     "text": [
      "<Commuter5: 12>\n"
     ]
    }
   ],
   "execution_count": 108
  },
  {
   "metadata": {
    "ExecuteTime": {
     "end_time": "2024-06-28T14:10:52.903666Z",
     "start_time": "2024-06-28T14:10:52.901831Z"
    }
   },
   "cell_type": "code",
   "source": "print(3 + y)",
   "id": "96684c7b0042f226",
   "outputs": [
    {
     "name": "stdout",
     "output_type": "stream",
     "text": [
      "<Commuter5: 36>\n"
     ]
    }
   ],
   "execution_count": 109
  },
  {
   "metadata": {
    "ExecuteTime": {
     "end_time": "2024-06-28T14:10:53.205528Z",
     "start_time": "2024-06-28T14:10:53.203826Z"
    }
   },
   "cell_type": "code",
   "source": "print(x + y)",
   "id": "b9003e2748185b27",
   "outputs": [
    {
     "name": "stdout",
     "output_type": "stream",
     "text": [
      "<Commuter5: 43>\n"
     ]
    }
   ],
   "execution_count": 110
  },
  {
   "metadata": {
    "ExecuteTime": {
     "end_time": "2024-06-28T14:10:53.666409Z",
     "start_time": "2024-06-28T14:10:53.664425Z"
    }
   },
   "cell_type": "code",
   "source": "print(x + x)",
   "id": "8f1d2b1263c6339a",
   "outputs": [
    {
     "name": "stdout",
     "output_type": "stream",
     "text": [
      "<Commuter5: 20>\n"
     ]
    }
   ],
   "execution_count": 111
  },
  {
   "metadata": {
    "ExecuteTime": {
     "end_time": "2024-06-28T14:10:55.020184Z",
     "start_time": "2024-06-28T14:10:55.016478Z"
    }
   },
   "cell_type": "code",
   "source": [
    "# 不做类型判断\n",
    "class Commuter5:  # Propagate class type in results\n",
    "    def __init__(self, val):\n",
    "        self.val = val\n",
    "\n",
    "    def __add__(self, other):\n",
    "        # if isinstance(other, Commuter5):        # Type test to avoid object nesting 避免嵌套\n",
    "        #     other = other.val\n",
    "        return Commuter5(self.val + other)  # Else + result is another Commuter\n",
    "\n",
    "    def __radd__(self, other):\n",
    "        # return Commuter5(other + self.val)\n",
    "        return Commuter5(self.val + other)\n",
    "\n",
    "    def __str__(self):\n",
    "        return '<Commuter5: %s>' % self.val"
   ],
   "id": "7df7261dbc5c35b0",
   "outputs": [],
   "execution_count": 112
  },
  {
   "metadata": {
    "ExecuteTime": {
     "end_time": "2024-06-28T14:10:55.414449Z",
     "start_time": "2024-06-28T14:10:55.412694Z"
    }
   },
   "cell_type": "code",
   "source": [
    "x = Commuter5(10)\n",
    "y = Commuter5(33)"
   ],
   "id": "18ee59208035dbe2",
   "outputs": [],
   "execution_count": 113
  },
  {
   "metadata": {
    "ExecuteTime": {
     "end_time": "2024-06-28T14:10:57.259140Z",
     "start_time": "2024-06-28T14:10:57.256918Z"
    }
   },
   "cell_type": "code",
   "source": "print(x + 2)",
   "id": "6b900b6176d13b16",
   "outputs": [
    {
     "name": "stdout",
     "output_type": "stream",
     "text": [
      "<Commuter5: 12>\n"
     ]
    }
   ],
   "execution_count": 114
  },
  {
   "metadata": {
    "ExecuteTime": {
     "end_time": "2024-06-28T14:10:58.370461Z",
     "start_time": "2024-06-28T14:10:58.368571Z"
    }
   },
   "cell_type": "code",
   "source": "print(x + y)  # 嵌套",
   "id": "856b41a1338a19f0",
   "outputs": [
    {
     "name": "stdout",
     "output_type": "stream",
     "text": [
      "<Commuter5: <Commuter5: 43>>\n"
     ]
    }
   ],
   "execution_count": 115
  },
  {
   "metadata": {
    "ExecuteTime": {
     "end_time": "2024-06-28T14:11:01.480583Z",
     "start_time": "2024-06-28T14:11:01.478910Z"
    }
   },
   "cell_type": "code",
   "source": "print(x + x)",
   "id": "2292d7eb8779b7b2",
   "outputs": [
    {
     "name": "stdout",
     "output_type": "stream",
     "text": [
      "<Commuter5: <Commuter5: 20>>\n"
     ]
    }
   ],
   "execution_count": 116
  },
  {
   "metadata": {
    "ExecuteTime": {
     "end_time": "2024-06-28T14:11:11.801410Z",
     "start_time": "2024-06-28T14:11:11.797897Z"
    }
   },
   "cell_type": "code",
   "source": "z = x + y",
   "id": "e1e707207228bfa4",
   "outputs": [],
   "execution_count": 117
  },
  {
   "metadata": {
    "ExecuteTime": {
     "end_time": "2024-06-28T14:11:16.308212Z",
     "start_time": "2024-06-28T14:11:16.306344Z"
    }
   },
   "cell_type": "code",
   "source": "print(z + 10)",
   "id": "d806a0c7ad615197",
   "outputs": [
    {
     "name": "stdout",
     "output_type": "stream",
     "text": [
      "<Commuter5: <Commuter5: 53>>\n"
     ]
    }
   ],
   "execution_count": 118
  },
  {
   "metadata": {},
   "cell_type": "markdown",
   "source": "iadd 原位加法",
   "id": "bf3b2706b830a72a"
  },
  {
   "metadata": {
    "ExecuteTime": {
     "end_time": "2024-06-28T14:15:52.705142Z",
     "start_time": "2024-06-28T14:15:52.701189Z"
    }
   },
   "cell_type": "code",
   "source": [
    "class Adder:\n",
    "    def __init__(self, value):\n",
    "        self.data = value\n",
    "\n",
    "    def __add__(self, other):\n",
    "        print('__add__')\n",
    "        return self.data + other\n",
    "\n",
    "    def __radd__(self, other):\n",
    "        print('__radd__')\n",
    "        return self.data + other\n",
    "\n",
    "    def __iadd__(self, other):\n",
    "        print('__iadd__')\n",
    "        self.data += other\n",
    "        return self.data"
   ],
   "id": "8d87e93c0c9aeb0d",
   "outputs": [],
   "execution_count": 119
  },
  {
   "metadata": {
    "ExecuteTime": {
     "end_time": "2024-06-28T14:16:00.421548Z",
     "start_time": "2024-06-28T14:16:00.419904Z"
    }
   },
   "cell_type": "code",
   "source": "a = Adder(10)",
   "id": "69d352f759c88ec0",
   "outputs": [],
   "execution_count": 120
  },
  {
   "metadata": {
    "ExecuteTime": {
     "end_time": "2024-06-28T14:16:02.177276Z",
     "start_time": "2024-06-28T14:16:02.174470Z"
    }
   },
   "cell_type": "code",
   "source": "a + 20",
   "id": "6a5829b51eeae51c",
   "outputs": [
    {
     "name": "stdout",
     "output_type": "stream",
     "text": [
      "__add__\n"
     ]
    },
    {
     "data": {
      "text/plain": [
       "30"
      ]
     },
     "execution_count": 121,
     "metadata": {},
     "output_type": "execute_result"
    }
   ],
   "execution_count": 121
  },
  {
   "metadata": {
    "ExecuteTime": {
     "end_time": "2024-06-28T14:16:05.995724Z",
     "start_time": "2024-06-28T14:16:05.993385Z"
    }
   },
   "cell_type": "code",
   "source": "a += 20",
   "id": "bacef27f5ace9e8a",
   "outputs": [
    {
     "name": "stdout",
     "output_type": "stream",
     "text": [
      "__iadd__\n"
     ]
    }
   ],
   "execution_count": 122
  },
  {
   "metadata": {},
   "cell_type": "markdown",
   "source": "# call",
   "id": "a87cbc97b662bade"
  },
  {
   "metadata": {
    "ExecuteTime": {
     "end_time": "2024-06-29T13:29:33.627818Z",
     "start_time": "2024-06-29T13:29:33.619734Z"
    }
   },
   "cell_type": "code",
   "source": [
    "class Callclass:\n",
    "    def __call__(self, *args, **kwargs):\n",
    "        print('Call', args, kwargs)"
   ],
   "id": "dc627e7cebb0f74d",
   "outputs": [],
   "execution_count": 123
  },
  {
   "metadata": {
    "ExecuteTime": {
     "end_time": "2024-06-29T13:29:43.812265Z",
     "start_time": "2024-06-29T13:29:43.810080Z"
    }
   },
   "cell_type": "code",
   "source": "z = Callclass()",
   "id": "b90f9e7f7cc71a2a",
   "outputs": [],
   "execution_count": 124
  },
  {
   "metadata": {
    "ExecuteTime": {
     "end_time": "2024-06-29T13:29:52.511917Z",
     "start_time": "2024-06-29T13:29:52.510101Z"
    }
   },
   "cell_type": "code",
   "source": "z(1, 2, 3)",
   "id": "3ffac93460c22cf1",
   "outputs": [
    {
     "name": "stdout",
     "output_type": "stream",
     "text": [
      "Call (1, 2, 3) {}\n"
     ]
    }
   ],
   "execution_count": 125
  },
  {
   "metadata": {
    "ExecuteTime": {
     "end_time": "2024-06-29T13:30:04.995597Z",
     "start_time": "2024-06-29T13:30:04.993622Z"
    }
   },
   "cell_type": "code",
   "source": "z(1, 2, 3, a=1, c=2, z=[1, 2, 3])",
   "id": "3df88b76ec5fbb0f",
   "outputs": [
    {
     "name": "stdout",
     "output_type": "stream",
     "text": [
      "Call (1, 2, 3) {'a': 1, 'c': 2, 'z': [1, 2, 3]}\n"
     ]
    }
   ],
   "execution_count": 126
  },
  {
   "metadata": {
    "ExecuteTime": {
     "end_time": "2024-06-29T13:33:51.597175Z",
     "start_time": "2024-06-29T13:33:51.593036Z"
    }
   },
   "cell_type": "code",
   "source": [
    "class Prod:\n",
    "    def __init__(self, value):\n",
    "        self.data = value\n",
    "\n",
    "    def __call__(self, *args, **kwargs):\n",
    "        print('Call', args, kwargs)\n",
    "        return self.data * args[0]\n"
   ],
   "id": "5ef2a79d7248b272",
   "outputs": [],
   "execution_count": 127
  },
  {
   "metadata": {
    "ExecuteTime": {
     "end_time": "2024-06-29T13:36:35.410794Z",
     "start_time": "2024-06-29T13:36:35.408147Z"
    }
   },
   "cell_type": "code",
   "source": [
    "class Callback:\n",
    "    def __init__(self, color):\n",
    "        self.color = color\n",
    "\n",
    "    def __call__(self):\n",
    "        print('Called', self.color)\n",
    "\n",
    "\n",
    "class Button:\n",
    "    def __init__(self, *args):\n",
    "        self.data = args[0]\n",
    "\n",
    "    ..."
   ],
   "id": "fbcabbff9155d5d0",
   "outputs": [],
   "execution_count": 132
  },
  {
   "metadata": {
    "ExecuteTime": {
     "end_time": "2024-06-29T13:36:35.731057Z",
     "start_time": "2024-06-29T13:36:35.729177Z"
    }
   },
   "cell_type": "code",
   "source": [
    "cb1 = Callback('blue')\n",
    "cb2 = Callback('red')\n",
    "\n",
    "# Handler\n",
    "B1 = Button(cb1)\n",
    "B2 = Button(cb2)"
   ],
   "id": "83059ecc67845140",
   "outputs": [],
   "execution_count": 133
  },
  {
   "metadata": {
    "ExecuteTime": {
     "end_time": "2024-06-29T13:36:50.534622Z",
     "start_time": "2024-06-29T13:36:50.532703Z"
    }
   },
   "cell_type": "code",
   "source": "cb1()",
   "id": "bdc35e07cbc0a660",
   "outputs": [
    {
     "name": "stdout",
     "output_type": "stream",
     "text": [
      "Called blue\n"
     ]
    }
   ],
   "execution_count": 134
  },
  {
   "metadata": {
    "ExecuteTime": {
     "end_time": "2024-06-29T13:36:52.984453Z",
     "start_time": "2024-06-29T13:36:52.982812Z"
    }
   },
   "cell_type": "code",
   "source": "cb2()",
   "id": "d26dfe5a3995bfca",
   "outputs": [
    {
     "name": "stdout",
     "output_type": "stream",
     "text": [
      "Called red\n"
     ]
    }
   ],
   "execution_count": 135
  },
  {
   "metadata": {
    "ExecuteTime": {
     "end_time": "2024-06-29T13:38:11.309184Z",
     "start_time": "2024-06-29T13:38:11.305673Z"
    }
   },
   "cell_type": "code",
   "source": [
    "def callback(color):\n",
    "    def oncall():\n",
    "        print('Called', color)\n",
    "\n",
    "    return oncall\n"
   ],
   "id": "b92da7e73bc76ee7",
   "outputs": [],
   "execution_count": 136
  },
  {
   "metadata": {
    "ExecuteTime": {
     "end_time": "2024-06-29T13:38:15.145869Z",
     "start_time": "2024-06-29T13:38:15.144265Z"
    }
   },
   "cell_type": "code",
   "source": "cb3 = callback('green')",
   "id": "fd1bc792e05d051b",
   "outputs": [],
   "execution_count": 137
  },
  {
   "metadata": {
    "ExecuteTime": {
     "end_time": "2024-06-29T13:38:18.022104Z",
     "start_time": "2024-06-29T13:38:18.020231Z"
    }
   },
   "cell_type": "code",
   "source": "cb3()",
   "id": "2ccdb48ac4a0db46",
   "outputs": [
    {
     "name": "stdout",
     "output_type": "stream",
     "text": [
      "Called green\n"
     ]
    }
   ],
   "execution_count": 138
  },
  {
   "metadata": {
    "ExecuteTime": {
     "end_time": "2024-06-29T13:39:02.269516Z",
     "start_time": "2024-06-29T13:39:02.267726Z"
    }
   },
   "cell_type": "code",
   "source": "cb4 = (lambda color='red': 'Call' + color)",
   "id": "9b76ed69cef66bdb",
   "outputs": [],
   "execution_count": 139
  },
  {
   "metadata": {
    "ExecuteTime": {
     "end_time": "2024-06-29T13:39:07.559824Z",
     "start_time": "2024-06-29T13:39:07.556878Z"
    }
   },
   "cell_type": "code",
   "source": "print(cb4())",
   "id": "b6c431b9400cbbb8",
   "outputs": [
    {
     "name": "stdout",
     "output_type": "stream",
     "text": [
      "Callred\n"
     ]
    }
   ],
   "execution_count": 140
  },
  {
   "metadata": {
    "ExecuteTime": {
     "end_time": "2024-06-29T13:39:11.291056Z",
     "start_time": "2024-06-29T13:39:11.288796Z"
    }
   },
   "cell_type": "code",
   "source": "cb4",
   "id": "8d8a70b75e1cd284",
   "outputs": [
    {
     "data": {
      "text/plain": [
       "<function __main__.<lambda>(color='red')>"
      ]
     },
     "execution_count": 141,
     "metadata": {},
     "output_type": "execute_result"
    }
   ],
   "execution_count": 141
  },
  {
   "metadata": {
    "ExecuteTime": {
     "end_time": "2024-06-29T13:39:31.548208Z",
     "start_time": "2024-06-29T13:39:31.541757Z"
    }
   },
   "cell_type": "code",
   "source": "print(cb4('yellow'))",
   "id": "3af9c6e8fa1cb095",
   "outputs": [
    {
     "name": "stdout",
     "output_type": "stream",
     "text": [
      "Callyellow\n"
     ]
    }
   ],
   "execution_count": 142
  },
  {
   "metadata": {},
   "cell_type": "markdown",
   "source": "# 比较",
   "id": "1335fad508e86448"
  },
  {
   "metadata": {
    "ExecuteTime": {
     "end_time": "2024-06-29T13:44:53.864921Z",
     "start_time": "2024-06-29T13:44:53.860587Z"
    }
   },
   "cell_type": "code",
   "source": [
    "class C:\n",
    "    data = 'spam'\n",
    "\n",
    "    def __lt__(self, other):\n",
    "        return self.data < other\n",
    "\n",
    "    def __gt__(self, other):\n",
    "        return self.data > other"
   ],
   "id": "474ce12e753e5b85",
   "outputs": [],
   "execution_count": 143
  },
  {
   "metadata": {
    "ExecuteTime": {
     "end_time": "2024-06-29T13:44:59.905010Z",
     "start_time": "2024-06-29T13:44:59.903142Z"
    }
   },
   "cell_type": "code",
   "source": "x = C()",
   "id": "b2805111cafa04ad",
   "outputs": [],
   "execution_count": 144
  },
  {
   "metadata": {
    "ExecuteTime": {
     "end_time": "2024-06-29T13:45:13.040175Z",
     "start_time": "2024-06-29T13:45:13.038151Z"
    }
   },
   "cell_type": "code",
   "source": [
    "print(x > 'hello')\n",
    "print(x < 'hello')"
   ],
   "id": "f8074e975e71b5de",
   "outputs": [
    {
     "name": "stdout",
     "output_type": "stream",
     "text": [
      "True\n",
      "False\n"
     ]
    }
   ],
   "execution_count": 145
  },
  {
   "metadata": {},
   "cell_type": "markdown",
   "source": "# 析构",
   "id": "fc3a7ad121e609f1"
  },
  {
   "metadata": {
    "ExecuteTime": {
     "end_time": "2024-06-29T13:48:44.907786Z",
     "start_time": "2024-06-29T13:48:44.905188Z"
    }
   },
   "cell_type": "code",
   "source": [
    "class Life:\n",
    "    def __init__(self, name='unknown'):\n",
    "        self.name = name\n",
    "        print('Created', self.name)\n",
    "\n",
    "    def life(self):\n",
    "        print('Life', self.name)\n",
    "    \n",
    "    def __del__(self):\n",
    "        print('Destroyed', self.name)"
   ],
   "id": "933c8b751611455a",
   "outputs": [],
   "execution_count": 150
  },
  {
   "metadata": {
    "ExecuteTime": {
     "end_time": "2024-06-29T13:48:45.217852Z",
     "start_time": "2024-06-29T13:48:45.215988Z"
    }
   },
   "cell_type": "code",
   "source": "joe = Life('Joe')",
   "id": "b1de750a04bb66a0",
   "outputs": [
    {
     "name": "stdout",
     "output_type": "stream",
     "text": [
      "Created Joe\n"
     ]
    }
   ],
   "execution_count": 151
  },
  {
   "metadata": {
    "ExecuteTime": {
     "end_time": "2024-06-29T13:48:45.568522Z",
     "start_time": "2024-06-29T13:48:45.566645Z"
    }
   },
   "cell_type": "code",
   "source": "joe.life()",
   "id": "c649b4fee01440ea",
   "outputs": [
    {
     "name": "stdout",
     "output_type": "stream",
     "text": [
      "Life Joe\n"
     ]
    }
   ],
   "execution_count": 152
  },
  {
   "metadata": {
    "ExecuteTime": {
     "end_time": "2024-06-29T13:48:54.999657Z",
     "start_time": "2024-06-29T13:48:54.997947Z"
    }
   },
   "cell_type": "code",
   "source": "joe = 'a'",
   "id": "1465c174efb7bc8e",
   "outputs": [
    {
     "name": "stdout",
     "output_type": "stream",
     "text": [
      "Destroyed Joe\n"
     ]
    }
   ],
   "execution_count": 153
  },
  {
   "metadata": {},
   "cell_type": "code",
   "outputs": [
    {
     "name": "stdout",
     "output_type": "stream",
     "text": [
      "Destroyed Joe\n"
     ]
    }
   ],
   "execution_count": 149,
   "source": "del joe",
   "id": "59ae292c38f92b5a"
  },
  {
   "metadata": {},
   "cell_type": "code",
   "outputs": [],
   "execution_count": null,
   "source": "",
   "id": "d7bd8394a14e7f9"
  }
 ],
 "metadata": {
  "kernelspec": {
   "display_name": "Python 3",
   "language": "python",
   "name": "python3"
  },
  "language_info": {
   "codemirror_mode": {
    "name": "ipython",
    "version": 2
   },
   "file_extension": ".py",
   "mimetype": "text/x-python",
   "name": "python",
   "nbconvert_exporter": "python",
   "pygments_lexer": "ipython2",
   "version": "2.7.6"
  }
 },
 "nbformat": 4,
 "nbformat_minor": 5
}
