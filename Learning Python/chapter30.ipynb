{
 "cells": [
  {
   "metadata": {},
   "cell_type": "markdown",
   "source": "# 运算符重载",
   "id": "35629009e408af8a"
  },
  {
   "cell_type": "code",
   "id": "initial_id",
   "metadata": {
    "collapsed": true,
    "ExecuteTime": {
     "end_time": "2024-06-27T04:01:05.626730Z",
     "start_time": "2024-06-27T04:01:05.622964Z"
    }
   },
   "source": [
    "class Number:\n",
    "    def __init__(self, value):\n",
    "        self.value = value\n",
    "\n",
    "    def __sub__(self, other):\n",
    "        return Number(self.value - other)"
   ],
   "execution_count": 1,
   "outputs": []
  },
  {
   "metadata": {
    "ExecuteTime": {
     "end_time": "2024-06-27T04:01:17.613949Z",
     "start_time": "2024-06-27T04:01:17.611716Z"
    }
   },
   "cell_type": "code",
   "source": [
    "x = Number(10)\n",
    "x.value"
   ],
   "id": "10c660bd46465d27",
   "execution_count": 3,
   "outputs": []
  },
  {
   "metadata": {
    "ExecuteTime": {
     "end_time": "2024-06-27T04:01:29.029121Z",
     "start_time": "2024-06-27T04:01:29.023712Z"
    }
   },
   "cell_type": "code",
   "source": [
    "y = x - 5\n",
    "y.value"
   ],
   "id": "4be37ad6ed19be54",
   "execution_count": 4,
   "outputs": []
  },
  {
   "metadata": {},
   "cell_type": "markdown",
   "source": "## 索引和分⽚`__getitem__` 和 `__setitem__`",
   "id": "10653027de031fb2"
  },
  {
   "metadata": {
    "ExecuteTime": {
     "end_time": "2024-06-27T04:14:47.482812Z",
     "start_time": "2024-06-27T04:14:47.481140Z"
    }
   },
   "cell_type": "code",
   "source": [
    "class Indexter:\n",
    "    def __getitem__(self, index):\n",
    "        return index ** 2"
   ],
   "id": "ee3e65cf52c44cea",
   "execution_count": 7,
   "outputs": []
  },
  {
   "metadata": {
    "ExecuteTime": {
     "end_time": "2024-06-27T04:14:47.743618Z",
     "start_time": "2024-06-27T04:14:47.740765Z"
    }
   },
   "cell_type": "code",
   "source": [
    "x = Indexter()\n",
    "x[4]"
   ],
   "id": "96bdb0b5fd74a7f4",
   "execution_count": 8,
   "outputs": []
  },
  {
   "metadata": {
    "ExecuteTime": {
     "end_time": "2024-06-27T04:14:57.356964Z",
     "start_time": "2024-06-27T04:14:57.352508Z"
    }
   },
   "cell_type": "code",
   "source": [
    "for i in range(5):\n",
    "    print(x[i])"
   ],
   "id": "8bb507c7c71b3557",
   "execution_count": 9,
   "outputs": []
  },
  {
   "metadata": {
    "ExecuteTime": {
     "end_time": "2024-06-27T04:16:04.401788Z",
     "start_time": "2024-06-27T04:16:04.397802Z"
    }
   },
   "cell_type": "code",
   "source": [
    "L = [1, 2, 3, 4, 5]\n",
    "L[2:4], L[slice(2, 4)]"
   ],
   "id": "cea40990e90e2db1",
   "execution_count": 11,
   "outputs": []
  },
  {
   "metadata": {
    "ExecuteTime": {
     "end_time": "2024-06-27T04:16:04.648911Z",
     "start_time": "2024-06-27T04:16:04.646029Z"
    }
   },
   "cell_type": "code",
   "source": "L[1:], L[slice(1, None)]",
   "id": "59818863bdf953bb",
   "execution_count": 12,
   "outputs": []
  },
  {
   "metadata": {
    "ExecuteTime": {
     "end_time": "2024-06-27T04:16:21.952605Z",
     "start_time": "2024-06-27T04:16:21.939842Z"
    }
   },
   "cell_type": "code",
   "source": "L[::2], L[slice(None, None, 2)]",
   "id": "ef1ad73f026d99c4",
   "execution_count": 13,
   "outputs": []
  },
  {
   "metadata": {},
   "cell_type": "markdown",
   "source": "切片",
   "id": "c23fbbc1bcb9edd9"
  },
  {
   "metadata": {
    "ExecuteTime": {
     "end_time": "2024-06-27T04:17:12.970304Z",
     "start_time": "2024-06-27T04:17:12.966052Z"
    }
   },
   "cell_type": "code",
   "source": [
    "class Indexter:\n",
    "    data = [1, 2, 3, 4, 5]\n",
    "\n",
    "    def __getitem__(self, index):\n",
    "        print('getitem', index)\n",
    "        return self.data[index]"
   ],
   "id": "b8a3bda7095d5851",
   "execution_count": 14,
   "outputs": []
  },
  {
   "metadata": {
    "ExecuteTime": {
     "end_time": "2024-06-27T04:17:17.939148Z",
     "start_time": "2024-06-27T04:17:17.934449Z"
    }
   },
   "cell_type": "code",
   "source": [
    "x = Indexter()\n",
    "x[2]"
   ],
   "id": "27fa2d6a4ad061fa",
   "execution_count": 15,
   "outputs": []
  },
  {
   "metadata": {
    "ExecuteTime": {
     "end_time": "2024-06-27T04:17:26.588072Z",
     "start_time": "2024-06-27T04:17:26.584607Z"
    }
   },
   "cell_type": "code",
   "source": "x[2:]",
   "id": "d75815b83054be83",
   "execution_count": 16,
   "outputs": []
  },
  {
   "metadata": {
    "ExecuteTime": {
     "end_time": "2024-06-27T04:17:43.098573Z",
     "start_time": "2024-06-27T04:17:43.095523Z"
    }
   },
   "cell_type": "code",
   "source": "x[-1]",
   "id": "ac7be8a202d269a6",
   "execution_count": 17,
   "outputs": []
  },
  {
   "metadata": {
    "ExecuteTime": {
     "end_time": "2024-06-27T04:18:01.691522Z",
     "start_time": "2024-06-27T04:18:01.688996Z"
    }
   },
   "cell_type": "code",
   "source": "x[::2]",
   "id": "a3a98c480abad3c",
   "execution_count": 18,
   "outputs": []
  },
  {
   "metadata": {
    "ExecuteTime": {
     "end_time": "2024-06-27T07:42:21.149885Z",
     "start_time": "2024-06-27T07:42:21.143796Z"
    }
   },
   "cell_type": "code",
   "source": [
    "class Indexer:\n",
    "    def __getitem__(self, index):\n",
    "        if isinstance(index, int):\n",
    "            print('index', index)\n",
    "        else:\n",
    "            print(dir(index))\n",
    "            print('slicing', index.start, index.stop, index.step)\n"
   ],
   "id": "935f39059f950c77",
   "execution_count": 42,
   "outputs": []
  },
  {
   "metadata": {
    "ExecuteTime": {
     "end_time": "2024-06-27T07:42:21.656594Z",
     "start_time": "2024-06-27T07:42:21.654352Z"
    }
   },
   "cell_type": "code",
   "source": [
    "x = Indexer()\n",
    "x[1:5]\n",
    "x[2]"
   ],
   "id": "86c9b89a5b9bc782",
   "execution_count": 43,
   "outputs": []
  },
  {
   "metadata": {
    "ExecuteTime": {
     "end_time": "2024-06-27T04:22:57.888663Z",
     "start_time": "2024-06-27T04:22:57.882186Z"
    }
   },
   "cell_type": "code",
   "source": [
    "class IndexSetter:\n",
    "    def __setitem__(self, key, value):\n",
    "        print('setitem', key, value)"
   ],
   "id": "639077a0b4675f47",
   "execution_count": 36,
   "outputs": []
  },
  {
   "metadata": {
    "ExecuteTime": {
     "end_time": "2024-06-27T04:23:03.664673Z",
     "start_time": "2024-06-27T04:23:03.662455Z"
    }
   },
   "cell_type": "code",
   "source": [
    "y = IndexSetter()\n",
    "y[1] = 2"
   ],
   "id": "4f63e24a4c9a2fac",
   "execution_count": 37,
   "outputs": []
  },
  {
   "metadata": {},
   "cell_type": "markdown",
   "source": "_index_⽅法在使⽤时会为⼀个实例返回⼀个整数值，供转化数字串的内置函数使⽤",
   "id": "7d86f64173a902d0"
  },
  {
   "metadata": {
    "ExecuteTime": {
     "end_time": "2024-06-27T07:46:18.718810Z",
     "start_time": "2024-06-27T07:46:18.711719Z"
    }
   },
   "cell_type": "code",
   "source": [
    "class C:\n",
    "    def __index__(self):\n",
    "        return 255"
   ],
   "id": "b0e9e6cd1994898",
   "execution_count": 49,
   "outputs": []
  },
  {
   "metadata": {
    "ExecuteTime": {
     "end_time": "2024-06-27T07:46:18.938112Z",
     "start_time": "2024-06-27T07:46:18.935299Z"
    }
   },
   "cell_type": "code",
   "source": [
    "x = C()\n",
    "hex(x), oct(x), bin(x)"
   ],
   "id": "3a99ae3bce389de1",
   "execution_count": 50,
   "outputs": []
  },
  {
   "metadata": {
    "ExecuteTime": {
     "end_time": "2024-06-27T07:47:45.360610Z",
     "start_time": "2024-06-27T07:47:45.357011Z"
    }
   },
   "cell_type": "code",
   "source": [
    "class StepperIndex:\n",
    "    def __getitem__(self, i):\n",
    "        return self.data[i]\n"
   ],
   "id": "cd63a4aca8119ae0",
   "execution_count": 51,
   "outputs": []
  },
  {
   "metadata": {
    "ExecuteTime": {
     "end_time": "2024-06-27T07:48:38.670448Z",
     "start_time": "2024-06-27T07:48:38.667750Z"
    }
   },
   "cell_type": "code",
   "source": [
    "x = StepperIndex()\n",
    "x.data = \"spam\""
   ],
   "id": "8fc22a4fd0043f24",
   "execution_count": 56,
   "outputs": []
  },
  {
   "metadata": {
    "ExecuteTime": {
     "end_time": "2024-06-27T07:48:38.867722Z",
     "start_time": "2024-06-27T07:48:38.865038Z"
    }
   },
   "cell_type": "code",
   "source": "x[1]",
   "id": "4b37481acbfdddf5",
   "execution_count": 57,
   "outputs": []
  },
  {
   "metadata": {
    "ExecuteTime": {
     "end_time": "2024-06-27T07:48:47.592789Z",
     "start_time": "2024-06-27T07:48:47.588630Z"
    }
   },
   "cell_type": "code",
   "source": [
    "for item in x:\n",
    "    print(item)"
   ],
   "id": "bda3f7ca3c10f4f",
   "execution_count": 58,
   "outputs": []
  },
  {
   "metadata": {
    "ExecuteTime": {
     "end_time": "2024-06-27T07:49:01.194242Z",
     "start_time": "2024-06-27T07:49:01.191866Z"
    }
   },
   "cell_type": "code",
   "source": "x[1:3]",
   "id": "504f988c5a864e",
   "execution_count": 59,
   "outputs": []
  },
  {
   "metadata": {
    "ExecuteTime": {
     "end_time": "2024-06-27T07:49:33.620410Z",
     "start_time": "2024-06-27T07:49:33.616070Z"
    }
   },
   "cell_type": "code",
   "source": "'p' in x",
   "id": "ee021558f3a16386",
   "execution_count": 60,
   "outputs": []
  },
  {
   "metadata": {
    "ExecuteTime": {
     "end_time": "2024-06-27T07:52:14.374076Z",
     "start_time": "2024-06-27T07:52:14.365749Z"
    }
   },
   "cell_type": "code",
   "source": "list(map(str.upper, x))",
   "id": "d58632d3091d572c",
   "execution_count": 61,
   "outputs": []
  },
  {
   "metadata": {
    "ExecuteTime": {
     "end_time": "2024-06-27T07:59:54.923644Z",
     "start_time": "2024-06-27T07:59:54.913522Z"
    }
   },
   "cell_type": "code",
   "source": [
    "class Squares:\n",
    "    def __init__(self, start, stop):\n",
    "        self.value = start - 1\n",
    "        self.stop = stop\n",
    "\n",
    "    def __iter__(self):\n",
    "        return self\n",
    "\n",
    "    def __next__(self):\n",
    "        if self.value == self.stop:\n",
    "            raise StopIteration\n",
    "        self.value += 1\n",
    "        return self.value ** 2\n"
   ],
   "id": "fc4542014e6d29ce",
   "execution_count": 65,
   "outputs": []
  },
  {
   "metadata": {
    "ExecuteTime": {
     "end_time": "2024-06-27T07:59:55.229328Z",
     "start_time": "2024-06-27T07:59:55.227100Z"
    }
   },
   "cell_type": "code",
   "source": [
    "for i in Squares(1, 5):\n",
    "    print(i, end=' ')"
   ],
   "id": "9d4a60b869ec8a4c",
   "execution_count": 66,
   "outputs": []
  },
  {
   "metadata": {
    "ExecuteTime": {
     "end_time": "2024-06-27T08:01:14.091456Z",
     "start_time": "2024-06-27T08:01:14.087541Z"
    }
   },
   "cell_type": "code",
   "source": [
    "z = Squares(1, 5)\n",
    "iter(z) is z"
   ],
   "id": "56cbe14a2a6e8ef8",
   "execution_count": 74,
   "outputs": []
  },
  {
   "metadata": {
    "ExecuteTime": {
     "end_time": "2024-06-27T08:01:14.359023Z",
     "start_time": "2024-06-27T08:01:14.352257Z"
    }
   },
   "cell_type": "code",
   "source": "z[1]",
   "id": "979ca0893e7424d",
   "execution_count": 75,
   "outputs": []
  },
  {
   "metadata": {
    "ExecuteTime": {
     "end_time": "2024-06-27T08:01:14.692508Z",
     "start_time": "2024-06-27T08:01:14.689788Z"
    }
   },
   "cell_type": "code",
   "source": "next(z)",
   "id": "62a17e5d9cbbf514",
   "execution_count": 76,
   "outputs": []
  },
  {
   "metadata": {
    "ExecuteTime": {
     "end_time": "2024-06-27T08:01:15.132089Z",
     "start_time": "2024-06-27T08:01:15.128960Z"
    }
   },
   "cell_type": "code",
   "source": "next(z)",
   "id": "b5ee7f738cbbceba",
   "execution_count": 77,
   "outputs": []
  },
  {
   "metadata": {
    "ExecuteTime": {
     "end_time": "2024-06-27T08:01:15.428018Z",
     "start_time": "2024-06-27T08:01:15.425634Z"
    }
   },
   "cell_type": "code",
   "source": "next(z), next(z), next(z)",
   "id": "e30974d8e2e16fd3",
   "execution_count": 78,
   "outputs": []
  },
  {
   "metadata": {
    "ExecuteTime": {
     "end_time": "2024-06-27T08:01:17.121856Z",
     "start_time": "2024-06-27T08:01:17.112737Z"
    }
   },
   "cell_type": "code",
   "source": "next(z)",
   "id": "f6d3216c13b4cba",
   "execution_count": 79,
   "outputs": []
  },
  {
   "metadata": {},
   "cell_type": "markdown",
   "source": "## 单遍和多遍迭代",
   "id": "bf0506763eb5c88c"
  },
  {
   "metadata": {
    "ExecuteTime": {
     "end_time": "2024-06-27T08:02:15.643565Z",
     "start_time": "2024-06-27T08:02:15.638312Z"
    }
   },
   "cell_type": "code",
   "source": [
    "x = Squares(1, 5)\n",
    "[n for n in x]"
   ],
   "id": "78f07acc68c635ba",
   "execution_count": 80,
   "outputs": []
  },
  {
   "metadata": {
    "ExecuteTime": {
     "end_time": "2024-06-27T08:02:20.248709Z",
     "start_time": "2024-06-27T08:02:20.245552Z"
    }
   },
   "cell_type": "code",
   "source": "[n for n in x]",
   "id": "48ef91ef07a7287",
   "execution_count": 81,
   "outputs": []
  },
  {
   "metadata": {
    "ExecuteTime": {
     "end_time": "2024-06-27T08:04:51.073892Z",
     "start_time": "2024-06-27T08:04:51.065141Z"
    }
   },
   "cell_type": "code",
   "source": "4 in Squares(1, 5), 5 in Squares(1, 5)",
   "id": "fbc8a7a001fad24e",
   "execution_count": 83,
   "outputs": []
  },
  {
   "metadata": {
    "ExecuteTime": {
     "end_time": "2024-06-27T08:05:41.807059Z",
     "start_time": "2024-06-27T08:05:41.801702Z"
    }
   },
   "cell_type": "code",
   "source": "x = Squares(1, 5)",
   "id": "6c048cb8e34cef4b",
   "execution_count": 84,
   "outputs": []
  },
  {
   "metadata": {
    "ExecuteTime": {
     "end_time": "2024-06-27T08:05:49.516622Z",
     "start_time": "2024-06-27T08:05:49.514275Z"
    }
   },
   "cell_type": "code",
   "source": "tuple(x), tuple(x)",
   "id": "f0d6a992ad32ac1e",
   "execution_count": 85,
   "outputs": []
  },
  {
   "metadata": {
    "ExecuteTime": {
     "end_time": "2024-06-27T08:06:12.321661Z",
     "start_time": "2024-06-27T08:06:12.316642Z"
    }
   },
   "cell_type": "code",
   "source": [
    "x = list(Squares(1, 5))\n",
    "tuple(x), tuple(x)\n"
   ],
   "id": "5b47866eb27fbe8",
   "execution_count": 86,
   "outputs": []
  },
  {
   "metadata": {
    "ExecuteTime": {
     "end_time": "2024-06-28T13:11:38.803596Z",
     "start_time": "2024-06-28T13:11:38.799602Z"
    }
   },
   "cell_type": "code",
   "source": [
    "class SkipObject:\n",
    "    def __init__(self, wrapped):  # Save item to be used\n",
    "        self.wrapped = wrapped\n",
    "\n",
    "    def __iter__(self):\n",
    "        return SkipIterator(self.wrapped)  # New iterator each time\n",
    "\n",
    "\n",
    "class SkipIterator:\n",
    "    # 迭代器\n",
    "    def __init__(self, wrapped):\n",
    "        self.wrapped = wrapped  # Iterator state information\n",
    "        self.offset = 0\n",
    "\n",
    "    def __next__(self):\n",
    "        if self.offset >= len(self.wrapped):  # Terminate iterations\n",
    "            raise StopIteration\n",
    "        else:\n",
    "            item = self.wrapped[self.offset]  # else return and skip\n",
    "            self.offset += 2\n",
    "            return item\n"
   ],
   "id": "9778e5907ef27245",
   "execution_count": 1,
   "outputs": []
  },
  {
   "metadata": {
    "ExecuteTime": {
     "end_time": "2024-06-28T13:11:58.242265Z",
     "start_time": "2024-06-28T13:11:58.238554Z"
    }
   },
   "cell_type": "code",
   "source": [
    "alpha = 'abcdef'\n",
    "skipper = SkipObject(alpha)  # Make container object\n",
    "I = iter(skipper)  # Make an iterator on it\n",
    "print(next(I), next(I), next(I))  # Visit offsets 0, 2, 4\n",
    "\n",
    "# 多次迭代\n",
    "for x in skipper:  # for calls __iter__ automatically\n",
    "    for y in skipper:  # Nested fors call __iter__ again each time\n",
    "        print(x + y, end=' ')  # Each iterator has its own state, offset"
   ],
   "id": "84dddc91aa64d089",
   "execution_count": 2,
   "outputs": []
  },
  {
   "metadata": {
    "ExecuteTime": {
     "end_time": "2024-06-27T08:25:03.236086Z",
     "start_time": "2024-06-27T08:25:03.231828Z"
    }
   },
   "cell_type": "code",
   "source": [
    "class Squares:\n",
    "    def __init__(self, start, stop):\n",
    "        self.start = start\n",
    "        self.stop = stop\n",
    "\n",
    "    def __iter__(self):\n",
    "        for i in range(self.start, self.stop + 1):\n",
    "            yield i ** 2"
   ],
   "id": "4eb09aa6f575ec1b",
   "execution_count": 99,
   "outputs": []
  },
  {
   "metadata": {
    "ExecuteTime": {
     "end_time": "2024-06-27T08:25:03.832503Z",
     "start_time": "2024-06-27T08:25:03.829865Z"
    }
   },
   "cell_type": "code",
   "source": "Squares(1, 5).__iter__",
   "id": "150a05d1270ca9e5",
   "execution_count": 100,
   "outputs": []
  },
  {
   "metadata": {
    "ExecuteTime": {
     "end_time": "2024-06-27T08:25:04.175231Z",
     "start_time": "2024-06-27T08:25:04.172340Z"
    }
   },
   "cell_type": "code",
   "source": [
    "for i in Squares(1, 5):\n",
    "    print(i, end=' ')"
   ],
   "id": "d9c1bef76c35027a",
   "execution_count": 101,
   "outputs": []
  },
  {
   "metadata": {
    "ExecuteTime": {
     "end_time": "2024-06-27T08:25:34.702544Z",
     "start_time": "2024-06-27T08:25:34.698951Z"
    }
   },
   "cell_type": "code",
   "source": [
    "s = Squares(1, 5)\n",
    "i = iter(s)"
   ],
   "id": "8fa10fea687e3ac0",
   "execution_count": 102,
   "outputs": []
  },
  {
   "metadata": {
    "ExecuteTime": {
     "end_time": "2024-06-27T08:25:43.161405Z",
     "start_time": "2024-06-27T08:25:43.156539Z"
    }
   },
   "cell_type": "code",
   "source": "next(i), next(i), next(i)",
   "id": "b3a0efd4e886f206",
   "execution_count": 103,
   "outputs": []
  },
  {
   "metadata": {
    "ExecuteTime": {
     "end_time": "2024-06-27T08:25:50.516861Z",
     "start_time": "2024-06-27T08:25:50.512735Z"
    }
   },
   "cell_type": "code",
   "source": "next(i), next(i)",
   "id": "9f2551b7eef2ec1a",
   "execution_count": 104,
   "outputs": []
  },
  {
   "metadata": {
    "ExecuteTime": {
     "end_time": "2024-06-27T08:25:54.040140Z",
     "start_time": "2024-06-27T08:25:54.029940Z"
    }
   },
   "cell_type": "code",
   "source": "next(i)",
   "id": "cb68815b7c591962",
   "execution_count": 105,
   "outputs": []
  },
  {
   "metadata": {
    "ExecuteTime": {
     "end_time": "2024-06-27T08:34:50.206950Z",
     "start_time": "2024-06-27T08:34:50.203772Z"
    }
   },
   "cell_type": "code",
   "source": "tuple(s), tuple(s)",
   "id": "9a8086558e494131",
   "execution_count": 107,
   "outputs": []
  },
  {
   "metadata": {
    "ExecuteTime": {
     "end_time": "2024-06-27T08:40:37.559286Z",
     "start_time": "2024-06-27T08:40:37.551794Z"
    }
   },
   "cell_type": "code",
   "source": [
    "class SkipObject:  # Another __iter__ + yield generator\n",
    "    def __init__(self, wrapped):  # Instance scope retained normally \n",
    "        self.wrapped = wrapped  # Local scope state saved auto\n",
    "\n",
    "    def __iter__(self):\n",
    "        offset = 0\n",
    "        while offset < len(self.wrapped):\n",
    "            item = self.wrapped[offset]\n",
    "            offset += 2\n",
    "            yield item\n"
   ],
   "id": "7b742765d7528d88",
   "execution_count": 108,
   "outputs": []
  },
  {
   "metadata": {
    "ExecuteTime": {
     "end_time": "2024-06-27T08:40:55.953135Z",
     "start_time": "2024-06-27T08:40:55.949253Z"
    }
   },
   "cell_type": "code",
   "source": [
    "s = SkipObject('abcdef')\n",
    "for x in s:\n",
    "    for y in s:\n",
    "        print(x + y, end=' ')"
   ],
   "id": "baf1b09d7691dd69",
   "execution_count": 109,
   "outputs": []
  },
  {
   "metadata": {},
   "cell_type": "markdown",
   "source": "# contains",
   "id": "2ed68563ac27db4f"
  },
  {
   "metadata": {
    "ExecuteTime": {
     "end_time": "2024-06-28T13:30:12.761791Z",
     "start_time": "2024-06-28T13:30:12.751035Z"
    }
   },
   "cell_type": "code",
   "source": [
    "class Iters:\n",
    "    def __init__(self, value):\n",
    "        self.data = value\n",
    "\n",
    "    def __getitem__(self, i):  # Fallback for iteration\n",
    "        print('get[%s]:' % i, end='')  # Also for index, slice\n",
    "        return self.data[i]\n",
    "\n",
    "    def __iter__(self):  # Preferred for iteration\n",
    "        print('iter=> ', end='')  # Allows multiple active iterators\n",
    "        for x in self.data:  # no __next__ to alias to next\n",
    "            print('next:', end='')\n",
    "            yield x\n",
    "\n",
    "    def __contains__(self, x):  # Preferred for 'in'\n",
    "        print('contains: ', end='')\n",
    "        return x in self.data"
   ],
   "id": "cd1848560af8bc69",
   "execution_count": 27,
   "outputs": []
  },
  {
   "metadata": {
    "ExecuteTime": {
     "end_time": "2024-06-28T13:29:29.658384Z",
     "start_time": "2024-06-28T13:29:29.656307Z"
    }
   },
   "cell_type": "code",
   "source": [
    "X = Iters([1, 2, 3, 4, 5])  # Make instance\n",
    "print(3 in X)"
   ],
   "id": "a237ce926c87e131",
   "execution_count": 26,
   "outputs": []
  },
  {
   "metadata": {
    "ExecuteTime": {
     "end_time": "2024-06-28T13:24:22.171604Z",
     "start_time": "2024-06-28T13:24:22.169752Z"
    }
   },
   "cell_type": "code",
   "source": [
    "# Membership \n",
    "for i in X:  # for loops\n",
    "    print(i, end=' | ')"
   ],
   "id": "449b2ad46711c25c",
   "execution_count": 18,
   "outputs": []
  },
  {
   "metadata": {},
   "cell_type": "markdown",
   "source": "使用 iter",
   "id": "4853f057a346d37c"
  },
  {
   "metadata": {
    "ExecuteTime": {
     "end_time": "2024-06-28T13:26:00.585649Z",
     "start_time": "2024-06-28T13:26:00.583572Z"
    }
   },
   "cell_type": "code",
   "source": "print([i ** 2 for i in X])  # Other iteration contexts",
   "id": "b5affe91a0947a30",
   "execution_count": 21,
   "outputs": []
  },
  {
   "metadata": {},
   "cell_type": "markdown",
   "source": "使用 iter",
   "id": "1713fc75b402a4d8"
  },
  {
   "metadata": {
    "ExecuteTime": {
     "end_time": "2024-06-28T13:27:08.313744Z",
     "start_time": "2024-06-28T13:27:08.310842Z"
    }
   },
   "cell_type": "code",
   "source": "print(list(map(bin, X)))",
   "id": "d848cf251d37b77",
   "execution_count": 24,
   "outputs": []
  },
  {
   "metadata": {
    "ExecuteTime": {
     "end_time": "2024-06-28T13:26:14.684857Z",
     "start_time": "2024-06-28T13:26:14.682141Z"
    }
   },
   "cell_type": "code",
   "source": [
    "I = iter(X)  # Manual iteration (what other contexts do)\n",
    "while True:\n",
    "    try:\n",
    "        print(next(I), end=' @ ')\n",
    "    except StopIteration:\n",
    "        break\n"
   ],
   "id": "fd0bc84adf167ddc",
   "execution_count": 23,
   "outputs": []
  },
  {
   "metadata": {
    "ExecuteTime": {
     "end_time": "2024-06-28T13:30:26.465314Z",
     "start_time": "2024-06-28T13:30:26.461097Z"
    }
   },
   "cell_type": "code",
   "source": "X[0]",
   "id": "785e1d30d0a1f6e5",
   "execution_count": 28,
   "outputs": []
  },
  {
   "metadata": {
    "ExecuteTime": {
     "end_time": "2024-06-28T13:30:33.095113Z",
     "start_time": "2024-06-28T13:30:33.092458Z"
    }
   },
   "cell_type": "code",
   "source": "X[1:3]",
   "id": "b07caa4b34afebf5",
   "execution_count": 29,
   "outputs": []
  },
  {
   "metadata": {
    "ExecuteTime": {
     "end_time": "2024-06-28T13:30:42.223043Z",
     "start_time": "2024-06-28T13:30:42.220614Z"
    }
   },
   "cell_type": "code",
   "source": "list(X)",
   "id": "8d4d43675df8110d",
   "execution_count": 30,
   "outputs": []
  },
  {
   "metadata": {},
   "cell_type": "markdown",
   "source": "getarrt",
   "id": "16a8791d8e7222e8"
  },
  {
   "metadata": {
    "ExecuteTime": {
     "end_time": "2024-06-28T13:34:10.568285Z",
     "start_time": "2024-06-28T13:34:10.563530Z"
    }
   },
   "cell_type": "code",
   "source": [
    "class Empty:\n",
    "    def __getattr__(self, attrname):\n",
    "        if attrname == 'name':\n",
    "            return 40\n",
    "        else:\n",
    "            raise AttributeError(attrname)"
   ],
   "id": "824bdff4866bd511",
   "execution_count": 31,
   "outputs": []
  },
  {
   "metadata": {
    "ExecuteTime": {
     "end_time": "2024-06-28T13:34:16.739671Z",
     "start_time": "2024-06-28T13:34:16.737042Z"
    }
   },
   "cell_type": "code",
   "source": [
    "a = Empty()\n",
    "a.name"
   ],
   "id": "f74d1ebcab5aaa35",
   "execution_count": 32,
   "outputs": []
  },
  {
   "metadata": {
    "ExecuteTime": {
     "end_time": "2024-06-28T13:34:19.325003Z",
     "start_time": "2024-06-28T13:34:19.103966Z"
    }
   },
   "cell_type": "code",
   "source": "a.age",
   "id": "8e78c47e7ee13623",
   "execution_count": 33,
   "outputs": []
  },
  {
   "metadata": {},
   "cell_type": "markdown",
   "source": "setattr",
   "id": "c7ec54a51138c94a"
  },
  {
   "metadata": {
    "ExecuteTime": {
     "end_time": "2024-06-28T13:46:20.318195Z",
     "start_time": "2024-06-28T13:46:20.315322Z"
    }
   },
   "cell_type": "code",
   "source": [
    "class Accesscontrol:\n",
    "    def __setattr__(self, attr, value):\n",
    "        if attr == 'age':\n",
    "            if not isinstance(value, int) or value < 0:\n",
    "                raise ValueError('age must be positive')\n",
    "            # self.__dict__[attr] = value\n",
    "            object.__setattr__(self, attr, value)\n",
    "        else:\n",
    "            raise AttributeError(attr + 'not allowed')"
   ],
   "id": "b60753525c690483",
   "execution_count": 47,
   "outputs": []
  },
  {
   "metadata": {
    "ExecuteTime": {
     "end_time": "2024-06-28T13:46:20.659149Z",
     "start_time": "2024-06-28T13:46:20.649386Z"
    }
   },
   "cell_type": "code",
   "source": [
    "b = Accesscontrol()\n",
    "b.age = -1"
   ],
   "id": "2fd2727284d10ca9",
   "execution_count": 48,
   "outputs": []
  },
  {
   "metadata": {
    "ExecuteTime": {
     "end_time": "2024-06-28T13:46:20.989004Z",
     "start_time": "2024-06-28T13:46:20.987246Z"
    }
   },
   "cell_type": "code",
   "source": "b.age = 10",
   "id": "41d02383b2119699",
   "execution_count": 49,
   "outputs": []
  },
  {
   "metadata": {
    "ExecuteTime": {
     "end_time": "2024-06-28T13:46:21.406064Z",
     "start_time": "2024-06-28T13:46:21.403986Z"
    }
   },
   "cell_type": "code",
   "source": "b.__dict__",
   "id": "c37527d0987ae11a",
   "execution_count": 50,
   "outputs": []
  },
  {
   "metadata": {},
   "cell_type": "markdown",
   "source": "直接赋值会无限递归",
   "id": "425679afd202cdde"
  },
  {
   "metadata": {
    "ExecuteTime": {
     "end_time": "2024-06-28T13:44:42.573513Z",
     "start_time": "2024-06-28T13:44:42.569323Z"
    }
   },
   "cell_type": "code",
   "source": [
    "class Accesscontrol:\n",
    "    def __setattr__(self, attr, value):\n",
    "        if attr == 'age':\n",
    "            if not isinstance(value, int) or value < 0:\n",
    "                raise ValueError('age must be positive')\n",
    "            # self.__dict__[attr] = value\n",
    "            self.age = value  # 循环\n",
    "        else:\n",
    "            raise AttributeError(attr + 'not allowed')"
   ],
   "id": "d8c2d547bd833cb2",
   "execution_count": 41,
   "outputs": []
  },
  {
   "metadata": {
    "ExecuteTime": {
     "end_time": "2024-06-28T13:44:50.617951Z",
     "start_time": "2024-06-28T13:44:49.602134Z"
    }
   },
   "cell_type": "code",
   "source": [
    "b = Accesscontrol()\n",
    "b.age = 40"
   ],
   "id": "1b83603977db41a7",
   "execution_count": 42,
   "outputs": []
  },
  {
   "metadata": {},
   "cell_type": "markdown",
   "source": "# 私有属性",
   "id": "10f8126261c700f0"
  },
  {
   "metadata": {
    "ExecuteTime": {
     "end_time": "2024-06-28T13:50:14.323241Z",
     "start_time": "2024-06-28T13:50:14.320404Z"
    }
   },
   "cell_type": "code",
   "source": [
    "class PrivateExc(Exception): pass  # More on exceptions in Part VII\n",
    "\n",
    "\n",
    "class Privacy:\n",
    "    def __setattr__(self, attrname, value):  # On self.attrname = value\n",
    "        if attrname in self.privates:\n",
    "            raise PrivateExc(attrname, self)  # Make, raise user-define except\n",
    "        else:\n",
    "            self.__dict__[attrname] = value  # Avoid loops by using dict key\n",
    "\n",
    "\n",
    "class Test1(Privacy):\n",
    "    privates = ['age']\n",
    "\n",
    "\n",
    "class Test2(Privacy):\n",
    "    privates = ['name', 'pay']\n",
    "\n",
    "    def __init__(self):\n",
    "        self.__dict__['name'] = 'Tom'  # To do better, see Chapter 39!"
   ],
   "id": "784d3fc22593fbd3",
   "execution_count": 52,
   "outputs": []
  },
  {
   "metadata": {
    "ExecuteTime": {
     "end_time": "2024-06-28T13:50:47.054270Z",
     "start_time": "2024-06-28T13:50:47.052449Z"
    }
   },
   "cell_type": "code",
   "source": [
    "x = Test1()\n",
    "x.name = 'Bob'  # Works\n",
    "print(x.name)"
   ],
   "id": "f055f8b78310bfa1",
   "execution_count": 55,
   "outputs": []
  },
  {
   "metadata": {
    "ExecuteTime": {
     "end_time": "2024-06-28T13:50:47.669246Z",
     "start_time": "2024-06-28T13:50:47.659950Z"
    }
   },
   "cell_type": "code",
   "source": [
    "y = Test2()\n",
    "y.name = 'Sue'  # Fails"
   ],
   "id": "9f00a3d4169b22dd",
   "execution_count": 56,
   "outputs": []
  },
  {
   "metadata": {
    "ExecuteTime": {
     "end_time": "2024-06-28T13:51:04.863262Z",
     "start_time": "2024-06-28T13:51:04.861112Z"
    }
   },
   "cell_type": "code",
   "source": [
    "y.age = 30  # Works\n",
    "#x.age  = 40         # Fails\n",
    "print(y.age)"
   ],
   "id": "2346023f40f54e3e",
   "execution_count": 58,
   "outputs": []
  },
  {
   "metadata": {
    "ExecuteTime": {
     "end_time": "2024-06-28T13:55:32.153481Z",
     "start_time": "2024-06-28T13:55:32.148878Z"
    }
   },
   "cell_type": "code",
   "source": [
    "class Adder:\n",
    "    def __str__(self):\n",
    "        return str(self.__dict__)"
   ],
   "id": "e4b2a7923701e9f8",
   "execution_count": 59,
   "outputs": []
  },
  {
   "metadata": {
    "ExecuteTime": {
     "end_time": "2024-06-28T13:55:37.795273Z",
     "start_time": "2024-06-28T13:55:37.792750Z"
    }
   },
   "cell_type": "code",
   "source": [
    "c = Adder()\n",
    "str(c)"
   ],
   "id": "d1b27695bfa30bbc",
   "execution_count": 60,
   "outputs": []
  },
  {
   "metadata": {
    "ExecuteTime": {
     "end_time": "2024-06-28T13:55:42.147405Z",
     "start_time": "2024-06-28T13:55:42.144931Z"
    }
   },
   "cell_type": "code",
   "source": "repr(c)",
   "id": "1c190f259ae1c17a",
   "execution_count": 61,
   "outputs": []
  },
  {
   "metadata": {
    "ExecuteTime": {
     "end_time": "2024-06-28T13:56:05.809789Z",
     "start_time": "2024-06-28T13:56:05.807927Z"
    }
   },
   "cell_type": "code",
   "source": [
    "class Adder2:\n",
    "    def __str__(self):\n",
    "        return str(self.__dict__)\n",
    "\n",
    "    def __repr__(self):\n",
    "        return 'Call repr'"
   ],
   "id": "12aeec9790e28efe",
   "execution_count": 62,
   "outputs": []
  },
  {
   "metadata": {
    "ExecuteTime": {
     "end_time": "2024-06-28T13:56:18.681228Z",
     "start_time": "2024-06-28T13:56:18.678397Z"
    }
   },
   "cell_type": "code",
   "source": [
    "d = Adder2()\n",
    "str(d), repr(d)"
   ],
   "id": "b54e5db950ae27e3",
   "execution_count": 63,
   "outputs": []
  },
  {
   "metadata": {
    "ExecuteTime": {
     "end_time": "2024-06-28T13:56:20.477337Z",
     "start_time": "2024-06-28T13:56:20.475495Z"
    }
   },
   "cell_type": "code",
   "source": "print(d)",
   "id": "f2e8645e535bf7d2",
   "execution_count": 64,
   "outputs": []
  },
  {
   "metadata": {},
   "cell_type": "markdown",
   "source": "ladd",
   "id": "88d33c374b9a5d06"
  },
  {
   "metadata": {
    "ExecuteTime": {
     "end_time": "2024-06-28T14:00:56.850776Z",
     "start_time": "2024-06-28T14:00:56.846331Z"
    }
   },
   "cell_type": "code",
   "source": [
    "class Adder:\n",
    "    def __init__(self, value):\n",
    "        self.data = value\n",
    "\n",
    "    def __add__(self, other):\n",
    "        return self.data + other"
   ],
   "id": "1ab23fe49a3fc196",
   "execution_count": 71,
   "outputs": []
  },
  {
   "metadata": {
    "ExecuteTime": {
     "end_time": "2024-06-28T14:00:57.104185Z",
     "start_time": "2024-06-28T14:00:57.101833Z"
    }
   },
   "cell_type": "code",
   "source": [
    "a = Adder(10)\n",
    "a + 2"
   ],
   "id": "6607a8d8cce13afc",
   "execution_count": 72,
   "outputs": []
  },
  {
   "metadata": {
    "ExecuteTime": {
     "end_time": "2024-06-28T14:00:57.744154Z",
     "start_time": "2024-06-28T14:00:57.734049Z"
    }
   },
   "cell_type": "code",
   "source": "2 + a",
   "id": "c8d4e4020e90611",
   "execution_count": 73,
   "outputs": []
  },
  {
   "metadata": {
    "ExecuteTime": {
     "end_time": "2024-06-28T14:00:58.687118Z",
     "start_time": "2024-06-28T14:00:58.684565Z"
    }
   },
   "cell_type": "code",
   "source": [
    "class Adder:\n",
    "    def __init__(self, value):\n",
    "        self.data = value\n",
    "\n",
    "    def __add__(self, other):\n",
    "        print('__add__')\n",
    "        return self.data + other\n",
    "\n",
    "    def __radd__(self, other):\n",
    "        print('__radd__')\n",
    "        return self.data + other"
   ],
   "id": "a92336b7914266fe",
   "execution_count": 74,
   "outputs": []
  },
  {
   "metadata": {
    "ExecuteTime": {
     "end_time": "2024-06-28T14:00:59.228939Z",
     "start_time": "2024-06-28T14:00:59.226458Z"
    }
   },
   "cell_type": "code",
   "source": [
    "b = Adder(20)\n",
    "b + 30"
   ],
   "id": "ea645c9cfc4939af",
   "execution_count": 75,
   "outputs": []
  },
  {
   "metadata": {
    "ExecuteTime": {
     "end_time": "2024-06-28T14:00:59.977716Z",
     "start_time": "2024-06-28T14:00:59.975209Z"
    }
   },
   "cell_type": "code",
   "source": "30 + b",
   "id": "2a3e02caabfbe812",
   "execution_count": 76,
   "outputs": []
  },
  {
   "metadata": {
    "ExecuteTime": {
     "end_time": "2024-06-28T14:01:21.232934Z",
     "start_time": "2024-06-28T14:01:21.229444Z"
    }
   },
   "cell_type": "code",
   "source": "c = Adder(40)",
   "id": "84c9955dc69005c0",
   "execution_count": 77,
   "outputs": []
  },
  {
   "metadata": {
    "ExecuteTime": {
     "end_time": "2024-06-28T14:01:23.743727Z",
     "start_time": "2024-06-28T14:01:23.741118Z"
    }
   },
   "cell_type": "code",
   "source": "b + c",
   "id": "de5df998bf1cbe97",
   "execution_count": 78,
   "outputs": []
  },
  {
   "metadata": {},
   "cell_type": "markdown",
   "source": "复用 add",
   "id": "4392b9f26d9a3834"
  },
  {
   "metadata": {
    "ExecuteTime": {
     "end_time": "2024-06-28T14:02:47.895654Z",
     "start_time": "2024-06-28T14:02:47.891109Z"
    }
   },
   "cell_type": "code",
   "source": [
    "class Adder:\n",
    "    def __init__(self, value):\n",
    "        self.data = value\n",
    "\n",
    "    def __add__(self, other):\n",
    "        print('__add__')\n",
    "        return self.data + other\n",
    "\n",
    "    def __radd__(self, other):\n",
    "        print('__radd__')\n",
    "        return self.__add__(other)"
   ],
   "id": "1a79824de4ce0230",
   "execution_count": 79,
   "outputs": []
  },
  {
   "metadata": {
    "ExecuteTime": {
     "end_time": "2024-06-28T14:03:00.068600Z",
     "start_time": "2024-06-28T14:03:00.065615Z"
    }
   },
   "cell_type": "code",
   "source": [
    "b = Adder(20)\n",
    "30 + b"
   ],
   "id": "636f5f7970b71b03",
   "execution_count": 81,
   "outputs": []
  },
  {
   "metadata": {
    "ExecuteTime": {
     "end_time": "2024-06-28T14:03:39.308547Z",
     "start_time": "2024-06-28T14:03:39.304662Z"
    }
   },
   "cell_type": "code",
   "source": [
    "class Adder:\n",
    "    def __init__(self, value):\n",
    "        self.data = value\n",
    "\n",
    "    def __add__(self, other):\n",
    "        print('__add__')\n",
    "        return self.data + other\n",
    "\n",
    "    __radd__ = __add__  # 别名"
   ],
   "id": "efb95cd2faaeffab",
   "execution_count": 82,
   "outputs": []
  },
  {
   "metadata": {
    "ExecuteTime": {
     "end_time": "2024-06-28T14:03:41.689103Z",
     "start_time": "2024-06-28T14:03:41.686070Z"
    }
   },
   "cell_type": "code",
   "source": [
    "b = Adder(20)\n",
    "30 + b"
   ],
   "id": "d297ec3bffdf7b14",
   "execution_count": 83,
   "outputs": []
  },
  {
   "metadata": {},
   "cell_type": "markdown",
   "source": "# 避免类类嵌套",
   "id": "d5ab3f215027f4e3"
  },
  {
   "metadata": {
    "ExecuteTime": {
     "end_time": "2024-06-28T14:10:52.073704Z",
     "start_time": "2024-06-28T14:10:52.068792Z"
    }
   },
   "cell_type": "code",
   "source": [
    "class Commuter5:  # Propagate class type in results\n",
    "    def __init__(self, val):\n",
    "        self.val = val\n",
    "\n",
    "    def __add__(self, other):\n",
    "        if isinstance(other, Commuter5):  # Type test to avoid object nesting 避免嵌套\n",
    "            other = other.val\n",
    "        return Commuter5(self.val + other)  # Else + result is another Commuter\n",
    "\n",
    "    def __radd__(self, other):\n",
    "        # return Commuter5(other + self.val)\n",
    "        return Commuter5(self.val + other)\n",
    "\n",
    "    def __str__(self):\n",
    "        return '<Commuter5: %s>' % self.val"
   ],
   "id": "dcd1c00e8efd464e",
   "execution_count": 106,
   "outputs": []
  },
  {
   "metadata": {
    "ExecuteTime": {
     "end_time": "2024-06-28T14:10:52.334600Z",
     "start_time": "2024-06-28T14:10:52.333049Z"
    }
   },
   "cell_type": "code",
   "source": [
    "x = Commuter5(10)\n",
    "y = Commuter5(33)"
   ],
   "id": "3321f8f89891623e",
   "execution_count": 107,
   "outputs": []
  },
  {
   "metadata": {
    "ExecuteTime": {
     "end_time": "2024-06-28T14:10:52.609255Z",
     "start_time": "2024-06-28T14:10:52.607353Z"
    }
   },
   "cell_type": "code",
   "source": "print(x + 2)",
   "id": "758859e7a4e63183",
   "execution_count": 108,
   "outputs": []
  },
  {
   "metadata": {
    "ExecuteTime": {
     "end_time": "2024-06-28T14:10:52.903666Z",
     "start_time": "2024-06-28T14:10:52.901831Z"
    }
   },
   "cell_type": "code",
   "source": "print(3 + y)",
   "id": "96684c7b0042f226",
   "execution_count": 109,
   "outputs": []
  },
  {
   "metadata": {
    "ExecuteTime": {
     "end_time": "2024-06-28T14:10:53.205528Z",
     "start_time": "2024-06-28T14:10:53.203826Z"
    }
   },
   "cell_type": "code",
   "source": "print(x + y)",
   "id": "b9003e2748185b27",
   "execution_count": 110,
   "outputs": []
  },
  {
   "metadata": {
    "ExecuteTime": {
     "end_time": "2024-06-28T14:10:53.666409Z",
     "start_time": "2024-06-28T14:10:53.664425Z"
    }
   },
   "cell_type": "code",
   "source": "print(x + x)",
   "id": "8f1d2b1263c6339a",
   "execution_count": 111,
   "outputs": []
  },
  {
   "metadata": {
    "ExecuteTime": {
     "end_time": "2024-06-28T14:10:55.020184Z",
     "start_time": "2024-06-28T14:10:55.016478Z"
    }
   },
   "cell_type": "code",
   "source": [
    "# 不做类型判断\n",
    "class Commuter5:  # Propagate class type in results\n",
    "    def __init__(self, val):\n",
    "        self.val = val\n",
    "\n",
    "    def __add__(self, other):\n",
    "        # if isinstance(other, Commuter5):        # Type test to avoid object nesting 避免嵌套\n",
    "        #     other = other.val\n",
    "        return Commuter5(self.val + other)  # Else + result is another Commuter\n",
    "\n",
    "    def __radd__(self, other):\n",
    "        # return Commuter5(other + self.val)\n",
    "        return Commuter5(self.val + other)\n",
    "\n",
    "    def __str__(self):\n",
    "        return '<Commuter5: %s>' % self.val"
   ],
   "id": "7df7261dbc5c35b0",
   "execution_count": 112,
   "outputs": []
  },
  {
   "metadata": {
    "ExecuteTime": {
     "end_time": "2024-06-28T14:10:55.414449Z",
     "start_time": "2024-06-28T14:10:55.412694Z"
    }
   },
   "cell_type": "code",
   "source": [
    "x = Commuter5(10)\n",
    "y = Commuter5(33)"
   ],
   "id": "18ee59208035dbe2",
   "execution_count": 113,
   "outputs": []
  },
  {
   "metadata": {
    "ExecuteTime": {
     "end_time": "2024-06-28T14:10:57.259140Z",
     "start_time": "2024-06-28T14:10:57.256918Z"
    }
   },
   "cell_type": "code",
   "source": "print(x + 2)",
   "id": "6b900b6176d13b16",
   "execution_count": 114,
   "outputs": []
  },
  {
   "metadata": {
    "ExecuteTime": {
     "end_time": "2024-06-28T14:10:58.370461Z",
     "start_time": "2024-06-28T14:10:58.368571Z"
    }
   },
   "cell_type": "code",
   "source": "print(x + y)  # 嵌套",
   "id": "856b41a1338a19f0",
   "execution_count": 115,
   "outputs": []
  },
  {
   "metadata": {
    "ExecuteTime": {
     "end_time": "2024-06-28T14:11:01.480583Z",
     "start_time": "2024-06-28T14:11:01.478910Z"
    }
   },
   "cell_type": "code",
   "source": "print(x + x)",
   "id": "2292d7eb8779b7b2",
   "execution_count": 116,
   "outputs": []
  },
  {
   "metadata": {
    "ExecuteTime": {
     "end_time": "2024-06-28T14:11:11.801410Z",
     "start_time": "2024-06-28T14:11:11.797897Z"
    }
   },
   "cell_type": "code",
   "source": "z = x + y",
   "id": "e1e707207228bfa4",
   "execution_count": 117,
   "outputs": []
  },
  {
   "metadata": {
    "ExecuteTime": {
     "end_time": "2024-06-28T14:11:16.308212Z",
     "start_time": "2024-06-28T14:11:16.306344Z"
    }
   },
   "cell_type": "code",
   "source": "print(z + 10)",
   "id": "d806a0c7ad615197",
   "execution_count": 118,
   "outputs": []
  },
  {
   "metadata": {},
   "cell_type": "markdown",
   "source": "iadd 原位加法",
   "id": "bf3b2706b830a72a"
  },
  {
   "metadata": {
    "ExecuteTime": {
     "end_time": "2024-06-28T14:15:52.705142Z",
     "start_time": "2024-06-28T14:15:52.701189Z"
    }
   },
   "cell_type": "code",
   "source": [
    "class Adder:\n",
    "    def __init__(self, value):\n",
    "        self.data = value\n",
    "\n",
    "    def __add__(self, other):\n",
    "        print('__add__')\n",
    "        return self.data + other\n",
    "\n",
    "    def __radd__(self, other):\n",
    "        print('__radd__')\n",
    "        return self.data + other\n",
    "\n",
    "    def __iadd__(self, other):\n",
    "        print('__iadd__')\n",
    "        self.data += other\n",
    "        return self.data"
   ],
   "id": "8d87e93c0c9aeb0d",
   "execution_count": 119,
   "outputs": []
  },
  {
   "metadata": {
    "ExecuteTime": {
     "end_time": "2024-06-28T14:16:00.421548Z",
     "start_time": "2024-06-28T14:16:00.419904Z"
    }
   },
   "cell_type": "code",
   "source": "a = Adder(10)",
   "id": "69d352f759c88ec0",
   "execution_count": 120,
   "outputs": []
  },
  {
   "metadata": {
    "ExecuteTime": {
     "end_time": "2024-06-28T14:16:02.177276Z",
     "start_time": "2024-06-28T14:16:02.174470Z"
    }
   },
   "cell_type": "code",
   "source": "a + 20",
   "id": "6a5829b51eeae51c",
   "execution_count": 121,
   "outputs": []
  },
  {
   "metadata": {
    "ExecuteTime": {
     "end_time": "2024-06-28T14:16:05.995724Z",
     "start_time": "2024-06-28T14:16:05.993385Z"
    }
   },
   "cell_type": "code",
   "source": "a += 20",
   "id": "bacef27f5ace9e8a",
   "execution_count": 122,
   "outputs": []
  },
  {
   "metadata": {},
   "cell_type": "markdown",
   "source": "# call",
   "id": "a87cbc97b662bade"
  },
  {
   "metadata": {
    "ExecuteTime": {
     "end_time": "2024-06-29T13:29:33.627818Z",
     "start_time": "2024-06-29T13:29:33.619734Z"
    }
   },
   "cell_type": "code",
   "source": [
    "class Callclass:\n",
    "    def __call__(self, *args, **kwargs):\n",
    "        print('Call', args, kwargs)"
   ],
   "id": "dc627e7cebb0f74d",
   "execution_count": 123,
   "outputs": []
  },
  {
   "metadata": {
    "ExecuteTime": {
     "end_time": "2024-06-29T13:29:43.812265Z",
     "start_time": "2024-06-29T13:29:43.810080Z"
    }
   },
   "cell_type": "code",
   "source": "z = Callclass()",
   "id": "b90f9e7f7cc71a2a",
   "execution_count": 124,
   "outputs": []
  },
  {
   "metadata": {
    "ExecuteTime": {
     "end_time": "2024-06-29T13:29:52.511917Z",
     "start_time": "2024-06-29T13:29:52.510101Z"
    }
   },
   "cell_type": "code",
   "source": "z(1, 2, 3)",
   "id": "3ffac93460c22cf1",
   "execution_count": 125,
   "outputs": []
  },
  {
   "metadata": {
    "ExecuteTime": {
     "end_time": "2024-06-29T13:30:04.995597Z",
     "start_time": "2024-06-29T13:30:04.993622Z"
    }
   },
   "cell_type": "code",
   "source": "z(1, 2, 3, a=1, c=2, z=[1, 2, 3])",
   "id": "3df88b76ec5fbb0f",
   "execution_count": 126,
   "outputs": []
  },
  {
   "metadata": {
    "ExecuteTime": {
     "end_time": "2024-06-29T13:33:51.597175Z",
     "start_time": "2024-06-29T13:33:51.593036Z"
    }
   },
   "cell_type": "code",
   "source": [
    "class Prod:\n",
    "    def __init__(self, value):\n",
    "        self.data = value\n",
    "\n",
    "    def __call__(self, *args, **kwargs):\n",
    "        print('Call', args, kwargs)\n",
    "        return self.data * args[0]\n"
   ],
   "id": "5ef2a79d7248b272",
   "execution_count": 127,
   "outputs": []
  },
  {
   "metadata": {
    "ExecuteTime": {
     "end_time": "2024-06-29T13:36:35.410794Z",
     "start_time": "2024-06-29T13:36:35.408147Z"
    }
   },
   "cell_type": "code",
   "source": [
    "class Callback:\n",
    "    def __init__(self, color):\n",
    "        self.color = color\n",
    "\n",
    "    def __call__(self):\n",
    "        print('Called', self.color)\n",
    "\n",
    "\n",
    "class Button:\n",
    "    def __init__(self, *args):\n",
    "        self.data = args[0]\n",
    "\n",
    "    ..."
   ],
   "id": "fbcabbff9155d5d0",
   "execution_count": 132,
   "outputs": []
  },
  {
   "metadata": {
    "ExecuteTime": {
     "end_time": "2024-06-29T13:36:35.731057Z",
     "start_time": "2024-06-29T13:36:35.729177Z"
    }
   },
   "cell_type": "code",
   "source": [
    "cb1 = Callback('blue')\n",
    "cb2 = Callback('red')\n",
    "\n",
    "# Handler\n",
    "B1 = Button(cb1)\n",
    "B2 = Button(cb2)"
   ],
   "id": "83059ecc67845140",
   "execution_count": 133,
   "outputs": []
  },
  {
   "metadata": {
    "ExecuteTime": {
     "end_time": "2024-06-29T13:36:50.534622Z",
     "start_time": "2024-06-29T13:36:50.532703Z"
    }
   },
   "cell_type": "code",
   "source": "cb1()",
   "id": "bdc35e07cbc0a660",
   "execution_count": 134,
   "outputs": []
  },
  {
   "metadata": {
    "ExecuteTime": {
     "end_time": "2024-06-29T13:36:52.984453Z",
     "start_time": "2024-06-29T13:36:52.982812Z"
    }
   },
   "cell_type": "code",
   "source": "cb2()",
   "id": "d26dfe5a3995bfca",
   "execution_count": 135,
   "outputs": []
  },
  {
   "metadata": {
    "ExecuteTime": {
     "end_time": "2024-06-29T13:38:11.309184Z",
     "start_time": "2024-06-29T13:38:11.305673Z"
    }
   },
   "cell_type": "code",
   "source": [
    "def callback(color):\n",
    "    def oncall():\n",
    "        print('Called', color)\n",
    "\n",
    "    return oncall\n"
   ],
   "id": "b92da7e73bc76ee7",
   "execution_count": 136,
   "outputs": []
  },
  {
   "metadata": {
    "ExecuteTime": {
     "end_time": "2024-06-29T13:38:15.145869Z",
     "start_time": "2024-06-29T13:38:15.144265Z"
    }
   },
   "cell_type": "code",
   "source": "cb3 = callback('green')",
   "id": "fd1bc792e05d051b",
   "execution_count": 137,
   "outputs": []
  },
  {
   "metadata": {
    "ExecuteTime": {
     "end_time": "2024-06-29T13:38:18.022104Z",
     "start_time": "2024-06-29T13:38:18.020231Z"
    }
   },
   "cell_type": "code",
   "source": "cb3()",
   "id": "2ccdb48ac4a0db46",
   "execution_count": 138,
   "outputs": []
  },
  {
   "metadata": {
    "ExecuteTime": {
     "end_time": "2024-06-29T13:39:02.269516Z",
     "start_time": "2024-06-29T13:39:02.267726Z"
    }
   },
   "cell_type": "code",
   "source": "cb4 = (lambda color='red': 'Call' + color)",
   "id": "9b76ed69cef66bdb",
   "execution_count": 139,
   "outputs": []
  },
  {
   "metadata": {
    "ExecuteTime": {
     "end_time": "2024-06-29T13:39:07.559824Z",
     "start_time": "2024-06-29T13:39:07.556878Z"
    }
   },
   "cell_type": "code",
   "source": "print(cb4())",
   "id": "b6c431b9400cbbb8",
   "execution_count": 140,
   "outputs": []
  },
  {
   "metadata": {
    "ExecuteTime": {
     "end_time": "2024-06-29T13:39:11.291056Z",
     "start_time": "2024-06-29T13:39:11.288796Z"
    }
   },
   "cell_type": "code",
   "source": "cb4",
   "id": "8d8a70b75e1cd284",
   "execution_count": 141,
   "outputs": []
  },
  {
   "metadata": {
    "ExecuteTime": {
     "end_time": "2024-06-29T13:39:31.548208Z",
     "start_time": "2024-06-29T13:39:31.541757Z"
    }
   },
   "cell_type": "code",
   "source": "print(cb4('yellow'))",
   "id": "3af9c6e8fa1cb095",
   "execution_count": 142,
   "outputs": []
  },
  {
   "metadata": {},
   "cell_type": "markdown",
   "source": "# 比较",
   "id": "1335fad508e86448"
  },
  {
   "metadata": {
    "ExecuteTime": {
     "end_time": "2024-06-29T13:44:53.864921Z",
     "start_time": "2024-06-29T13:44:53.860587Z"
    }
   },
   "cell_type": "code",
   "source": [
    "class C:\n",
    "    data = 'spam'\n",
    "\n",
    "    def __lt__(self, other):\n",
    "        return self.data < other\n",
    "\n",
    "    def __gt__(self, other):\n",
    "        return self.data > other"
   ],
   "id": "474ce12e753e5b85",
   "execution_count": 143,
   "outputs": []
  },
  {
   "metadata": {
    "ExecuteTime": {
     "end_time": "2024-06-29T13:44:59.905010Z",
     "start_time": "2024-06-29T13:44:59.903142Z"
    }
   },
   "cell_type": "code",
   "source": "x = C()",
   "id": "b2805111cafa04ad",
   "execution_count": 144,
   "outputs": []
  },
  {
   "metadata": {
    "ExecuteTime": {
     "end_time": "2024-06-29T13:45:13.040175Z",
     "start_time": "2024-06-29T13:45:13.038151Z"
    }
   },
   "cell_type": "code",
   "source": [
    "print(x > 'hello')\n",
    "print(x < 'hello')"
   ],
   "id": "f8074e975e71b5de",
   "execution_count": 145,
   "outputs": []
  },
  {
   "metadata": {},
   "cell_type": "markdown",
   "source": "# 析构",
   "id": "fc3a7ad121e609f1"
  },
  {
   "metadata": {
    "ExecuteTime": {
     "end_time": "2024-06-29T13:48:44.907786Z",
     "start_time": "2024-06-29T13:48:44.905188Z"
    }
   },
   "cell_type": "code",
   "source": [
    "class Life:\n",
    "    def __init__(self, name='unknown'):\n",
    "        self.name = name\n",
    "        print('Created', self.name)\n",
    "\n",
    "    def life(self):\n",
    "        print('Life', self.name)\n",
    "    \n",
    "    def __del__(self):\n",
    "        print('Destroyed', self.name)"
   ],
   "id": "933c8b751611455a",
   "execution_count": 150,
   "outputs": []
  },
  {
   "metadata": {
    "ExecuteTime": {
     "end_time": "2024-06-29T13:48:45.217852Z",
     "start_time": "2024-06-29T13:48:45.215988Z"
    }
   },
   "cell_type": "code",
   "source": "joe = Life('Joe')",
   "id": "b1de750a04bb66a0",
   "execution_count": 151,
   "outputs": []
  },
  {
   "metadata": {
    "ExecuteTime": {
     "end_time": "2024-06-29T13:48:45.568522Z",
     "start_time": "2024-06-29T13:48:45.566645Z"
    }
   },
   "cell_type": "code",
   "source": "joe.life()",
   "id": "c649b4fee01440ea",
   "execution_count": 152,
   "outputs": []
  },
  {
   "metadata": {
    "ExecuteTime": {
     "end_time": "2024-06-29T13:48:54.999657Z",
     "start_time": "2024-06-29T13:48:54.997947Z"
    }
   },
   "cell_type": "code",
   "source": "joe = 'a'",
   "id": "1465c174efb7bc8e",
   "execution_count": 153,
   "outputs": []
  },
  {
   "metadata": {},
   "cell_type": "code",
   "execution_count": 149,
   "source": "del joe",
   "id": "59ae292c38f92b5a",
   "outputs": []
  },
  {
   "metadata": {},
   "cell_type": "code",
   "execution_count": null,
   "source": "",
   "id": "d7bd8394a14e7f9",
   "outputs": []
  }
 ],
 "metadata": {
  "kernelspec": {
   "display_name": "Python 3",
   "language": "python",
   "name": "python3"
  },
  "language_info": {
   "codemirror_mode": {
    "name": "ipython",
    "version": 2
   },
   "file_extension": ".py",
   "mimetype": "text/x-python",
   "name": "python",
   "nbconvert_exporter": "python",
   "pygments_lexer": "ipython2",
   "version": "2.7.6"
  }
 },
 "nbformat": 4,
 "nbformat_minor": 5
}
