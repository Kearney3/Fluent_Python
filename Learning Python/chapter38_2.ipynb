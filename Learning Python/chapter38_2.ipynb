{
 "cells": [
  {
   "metadata": {},
   "cell_type": "markdown",
   "source": "# 属性验证",
   "id": "cbc5c43bdaf82d43"
  },
  {
   "metadata": {},
   "cell_type": "markdown",
   "source": "## 使⽤ property 验证",
   "id": "3e091f4e132c5387"
  },
  {
   "metadata": {
    "ExecuteTime": {
     "end_time": "2024-07-04T03:02:02.056318Z",
     "start_time": "2024-07-04T03:02:02.051041Z"
    }
   },
   "cell_type": "code",
   "source": [
    "def printholder(who):\n",
    "    print(who.acct, who.name, who.age, who.remain, who.addr, sep=' / ')\n",
    "\n",
    "def cardHolder_test(cls):\n",
    "    CardHolder = cls\n",
    "    bob = CardHolder('1234-5678', 'Bob Smith', 40, '123 main st')\n",
    "    print('bob:', end=' ')\n",
    "    printholder(bob)\n",
    "    bob.name = 'Bob Q. Smith'\n",
    "    bob.age  = 50\n",
    "    bob.acct = '23-45-67-89'\n",
    "    print('bob:', end=' ')\n",
    "    printholder(bob)\n",
    "    \n",
    "    sue = CardHolder('5678-12-34', 'Sue Jones', 35, '124 main st')\n",
    "    print('sue:', end=' ')\n",
    "    printholder(sue)\n",
    "    print('bob:', end=' ')\n",
    "    printholder(bob)\n",
    "    try:\n",
    "        sue.age = 200\n",
    "    except:\n",
    "        print('Bad age for Sue')\n",
    "    \n",
    "    try:\n",
    "        sue.remain = 5\n",
    "    except:\n",
    "        print(\"Can't set sue.remain\")\n",
    "    \n",
    "    try:\n",
    "        sue.acct = '1234567'\n",
    "    except:\n",
    "        print('Bad acct for Sue')\n"
   ],
   "id": "a38c4ceee6842e93",
   "outputs": [],
   "execution_count": 49
  },
  {
   "cell_type": "code",
   "id": "initial_id",
   "metadata": {
    "collapsed": true,
    "ExecuteTime": {
     "end_time": "2024-07-04T03:02:02.457729Z",
     "start_time": "2024-07-04T03:02:02.454105Z"
    }
   },
   "source": [
    "class CardHolder:                      # Need \"(object)\" for setter in 2.X\n",
    "    acctlen = 8                                # Class data\n",
    "    retireage = 59.5\n",
    "\n",
    "    def __init__(self, acct, name, age, addr):\n",
    "        self.acct = acct                       # Instance data\n",
    "        self.name = name                       # These trigger prop setters too!\n",
    "        self.age  = age                        # __X mangled to have class name\n",
    "        self.addr = addr                       # addr is not managed\n",
    "                                               # remain has no data\n",
    "    def getName(self):\n",
    "        return self.__name\n",
    "    def setName(self, value):\n",
    "        value = value.lower().replace(' ', '_')\n",
    "        self.__name = value\n",
    "    name = property(getName, setName)\n",
    "\n",
    "    def getAge(self):\n",
    "        return self.__age\n",
    "    def setAge(self, value):\n",
    "        if value < 0 or value > 150:\n",
    "            raise ValueError('invalid age')\n",
    "        else:\n",
    "            self.__age = value\n",
    "    age = property(getAge, setAge)\n",
    "\n",
    "    def getAcct(self):\n",
    "        return self.__acct[:-3] + '***'\n",
    "    def setAcct(self, value):\n",
    "        value = value.replace('-', '')\n",
    "        if len(value) != self.acctlen:\n",
    "            raise TypeError('invald acct number')\n",
    "        else:\n",
    "            self.__acct = value\n",
    "    acct = property(getAcct, setAcct)\n",
    "\n",
    "    def remainGet(self):                       # Could be a method, not attr\n",
    "        return self.retireage - self.age       # Unless already using as attr\n",
    "    remain = property(remainGet)\n"
   ],
   "outputs": [],
   "execution_count": 50
  },
  {
   "metadata": {
    "ExecuteTime": {
     "end_time": "2024-07-04T03:02:03.838615Z",
     "start_time": "2024-07-04T03:02:03.836621Z"
    }
   },
   "cell_type": "code",
   "source": "cardHolder_test(CardHolder)",
   "id": "84ec43465dccfb89",
   "outputs": [
    {
     "name": "stdout",
     "output_type": "stream",
     "text": [
      "bob: 12345*** / bob_smith / 40 / 19.5 / 123 main st\n",
      "bob: 23456*** / bob_q._smith / 50 / 9.5 / 123 main st\n",
      "sue: 56781*** / sue_jones / 35 / 24.5 / 124 main st\n",
      "bob: 23456*** / bob_q._smith / 50 / 9.5 / 123 main st\n",
      "Bad age for Sue\n",
      "Can't set sue.remain\n",
      "Bad acct for Sue\n"
     ]
    }
   ],
   "execution_count": 51
  },
  {
   "metadata": {},
   "cell_type": "markdown",
   "source": "使⽤共享的描述符实例状态的验证",
   "id": "5d8c2daf22a0e0ca"
  },
  {
   "metadata": {
    "ExecuteTime": {
     "end_time": "2024-07-04T03:03:15.705379Z",
     "start_time": "2024-07-04T03:03:15.700945Z"
    }
   },
   "cell_type": "code",
   "source": [
    "class CardHolder:                        # Need all \"(object)\" in 2.X only\n",
    "    acctlen = 8                                  # Class data\n",
    "    retireage = 59.5\n",
    "\n",
    "    def __init__(self, acct, name, age, addr):\n",
    "        self.acct = acct                         # Instance data\n",
    "        self.name = name                         # These trigger __set__ calls too!\n",
    "        self.age  = age                          # __X not needed: in descriptor\n",
    "        self.addr = addr                         # addr is not managed\n",
    "                                                 # remain has no data\n",
    "    class Name(object):\n",
    "        def __get__(self, instance, owner):      # Class names: CardHolder locals\n",
    "            return self.name\n",
    "        def __set__(self, instance, value):\n",
    "            value = value.lower().replace(' ', '_')\n",
    "            self.name = value\n",
    "    name = Name()\n",
    "\n",
    "    class Age(object):                                  \n",
    "        def __get__(self, instance, owner):\n",
    "            return self.age                             # Use descriptor data\n",
    "        def __set__(self, instance, value):\n",
    "            if value < 0 or value > 150:\n",
    "                raise ValueError('invalid age')\n",
    "            else:\n",
    "                self.age = value\n",
    "    age = Age()\n",
    "\n",
    "    class Acct(object):                                 \n",
    "        def __get__(self, instance, owner):\n",
    "            return self.acct[:-3] + '***'\n",
    "        def __set__(self, instance, value):\n",
    "            value = value.replace('-', '')\n",
    "            if len(value) != instance.acctlen:          # Use instance class data\n",
    "                raise TypeError('invald acct number')\n",
    "            else:\n",
    "                self.acct = value\n",
    "    acct = Acct()\n",
    "\n",
    "    class Remain(object):                              \n",
    "        def __get__(self, instance, owner):\n",
    "            return instance.retireage - instance.age    # Triggers Age.__get__\n",
    "        def __set__(self, instance, value):\n",
    "            raise TypeError('cannot set remain')        # Else set allowed here\n",
    "    remain = Remain()\n"
   ],
   "id": "652ccd1eed1fb698",
   "outputs": [],
   "execution_count": 59
  },
  {
   "metadata": {
    "ExecuteTime": {
     "end_time": "2024-07-04T03:03:15.975429Z",
     "start_time": "2024-07-04T03:03:15.972150Z"
    }
   },
   "cell_type": "code",
   "source": "cardHolder_test(CardHolder)",
   "id": "7ace56405e0996c1",
   "outputs": [
    {
     "name": "stdout",
     "output_type": "stream",
     "text": [
      "bob: 12345*** / bob_smith / 40 / 19.5 / 123 main st\n",
      "bob: 23456*** / bob_q._smith / 50 / 9.5 / 123 main st\n",
      "sue: 56781*** / sue_jones / 35 / 24.5 / 124 main st\n",
      "bob: 56781*** / sue_jones / 35 / 24.5 / 123 main st\n",
      "Bad age for Sue\n",
      "Can't set sue.remain\n",
      "Bad acct for Sue\n"
     ]
    }
   ],
   "execution_count": 60
  },
  {
   "metadata": {
    "ExecuteTime": {
     "end_time": "2024-07-04T03:03:18.645656Z",
     "start_time": "2024-07-04T03:03:18.638903Z"
    }
   },
   "cell_type": "code",
   "source": "CardHolder.name",
   "id": "a860a47f198c3ef3",
   "outputs": [
    {
     "data": {
      "text/plain": [
       "'sue_jones'"
      ]
     },
     "execution_count": 61,
     "metadata": {},
     "output_type": "execute_result"
    }
   ],
   "execution_count": 61
  },
  {
   "metadata": {},
   "cell_type": "markdown",
   "source": "使⽤基于客户实例状态的验证",
   "id": "192c66ac90247fee"
  },
  {
   "metadata": {
    "ExecuteTime": {
     "end_time": "2024-07-04T03:04:26.159824Z",
     "start_time": "2024-07-04T03:04:26.155516Z"
    }
   },
   "cell_type": "code",
   "source": [
    "class CardHolder:                        # Need all \"(object)\" in 2.X only\n",
    "    acctlen = 8                                  # Class data\n",
    "    retireage = 59.5\n",
    "\n",
    "    def __init__(self, acct, name, age, addr):\n",
    "        self.acct = acct                         # Client instance data\n",
    "        self.name = name                         # These trigger __set__ calls too!\n",
    "        self.age  = age                          # __X needed: in client instance\n",
    "        self.addr = addr                         # addr is not managed\n",
    "                                                 # remain managed but has no data\n",
    "    class Name(object):\n",
    "        def __get__(self, instance, owner):      # Class names: CardHolder locals\n",
    "            return instance.__name\n",
    "        def __set__(self, instance, value):\n",
    "            value = value.lower().replace(' ', '_')\n",
    "            instance.__name = value # 在 __set__ 方法中，它创建了一个名为 __name 的实例变量\n",
    "    name = Name()                                       # class.name vs mangled attr\n",
    "\n",
    "    class Age(object):\n",
    "        def __get__(self, instance, owner):\n",
    "            return instance.__age                       # Use descriptor data\n",
    "        def __set__(self, instance, value):\n",
    "            if value < 0 or value > 150:\n",
    "                raise ValueError('invalid age')\n",
    "            else:\n",
    "                instance.__age = value\n",
    "    age = Age()                                         # class.age vs mangled attr\n",
    "\n",
    "    class Acct(object):\n",
    "        def __get__(self, instance, owner):\n",
    "            return instance.__acct[:-3] + '***'\n",
    "        def __set__(self, instance, value):\n",
    "            value = value.replace('-', '')\n",
    "            if len(value) != instance.acctlen:          # Use instance class data\n",
    "                raise TypeError('invald acct number')\n",
    "            else:\n",
    "                instance.__acct = value\n",
    "    acct = Acct()                                       # class.acct vs mangled name\n",
    "\n",
    "    class Remain(object):\n",
    "        def __get__(self, instance, owner):\n",
    "            return instance.retireage - instance.age    # Triggers Age.__get__\n",
    "        def __set__(self, instance, value):\n",
    "            raise TypeError('cannot set remain')        # Else set allowed here\n",
    "    remain = Remain()\n"
   ],
   "id": "30830dcc8685afd1",
   "outputs": [],
   "execution_count": 63
  },
  {
   "metadata": {
    "ExecuteTime": {
     "end_time": "2024-07-04T03:04:26.412043Z",
     "start_time": "2024-07-04T03:04:26.409676Z"
    }
   },
   "cell_type": "code",
   "source": "cardHolder_test(CardHolder)",
   "id": "fab3042cd899333a",
   "outputs": [
    {
     "name": "stdout",
     "output_type": "stream",
     "text": [
      "bob: 12345*** / bob_smith / 40 / 19.5 / 123 main st\n",
      "bob: 23456*** / bob_q._smith / 50 / 9.5 / 123 main st\n",
      "sue: 56781*** / sue_jones / 35 / 24.5 / 124 main st\n",
      "bob: 23456*** / bob_q._smith / 50 / 9.5 / 123 main st\n",
      "Bad age for Sue\n",
      "Can't set sue.remain\n",
      "Bad acct for Sue\n"
     ]
    }
   ],
   "execution_count": 64
  },
  {
   "metadata": {},
   "cell_type": "markdown",
   "source": "不支持类访问",
   "id": "b7055738fc206c9f"
  },
  {
   "metadata": {
    "ExecuteTime": {
     "end_time": "2024-07-04T03:04:27.524983Z",
     "start_time": "2024-07-04T03:04:27.504255Z"
    }
   },
   "cell_type": "code",
   "source": "CardHolder.name",
   "id": "4d7db79490f36ca0",
   "outputs": [
    {
     "ename": "AttributeError",
     "evalue": "'NoneType' object has no attribute '_Name__name'",
     "output_type": "error",
     "traceback": [
      "\u001B[0;31m---------------------------------------------------------------------------\u001B[0m",
      "\u001B[0;31mAttributeError\u001B[0m                            Traceback (most recent call last)",
      "Cell \u001B[0;32mIn[65], line 1\u001B[0m\n\u001B[0;32m----> 1\u001B[0m CardHolder\u001B[38;5;241m.\u001B[39mname\n",
      "Cell \u001B[0;32mIn[63], line 13\u001B[0m, in \u001B[0;36mCardHolder.Name.__get__\u001B[0;34m(self, instance, owner)\u001B[0m\n\u001B[1;32m     12\u001B[0m \u001B[38;5;28;01mdef\u001B[39;00m \u001B[38;5;21m__get__\u001B[39m(\u001B[38;5;28mself\u001B[39m, instance, owner):      \u001B[38;5;66;03m# Class names: CardHolder locals\u001B[39;00m\n\u001B[0;32m---> 13\u001B[0m     \u001B[38;5;28;01mreturn\u001B[39;00m instance\u001B[38;5;241m.\u001B[39m__name\n",
      "\u001B[0;31mAttributeError\u001B[0m: 'NoneType' object has no attribute '_Name__name'"
     ]
    }
   ],
   "execution_count": 65
  },
  {
   "metadata": {},
   "cell_type": "markdown",
   "source": "使⽤. _getattr__ 验证",
   "id": "a98f57482301108"
  },
  {
   "metadata": {
    "ExecuteTime": {
     "end_time": "2024-07-04T03:41:24.642268Z",
     "start_time": "2024-07-04T03:41:24.638907Z"
    }
   },
   "cell_type": "code",
   "source": [
    "class CardHolder:\n",
    "    acctlen = 8                                  # Class data\n",
    "    retireage = 59.5\n",
    "\n",
    "    def __init__(self, acct, name, age, addr):\n",
    "        self.acct = acct                         # Instance data\n",
    "        self.name = name                         # These trigger __setattr__ too\n",
    "        self.age  = age                          # _acct not mangled: name tested\n",
    "        self.addr = addr                         # addr is not managed\n",
    "                                                 # remain has no data\n",
    "    def __getattr__(self, name):\n",
    "        print('__getattr__', name)\n",
    "        if name == 'acct':                           # On undefined attr fetches，调用 __getattr__\n",
    "            # return self._acct[:-3] + '***'           # name, age, addr are defined\n",
    "            return object.__getattribute__(self, '_acct')[:-3] + '***'           # name, age, addr are defined\n",
    "        elif name == 'remain':\n",
    "            return self.retireage - self.age         # Doesn't trigger __getattr__\n",
    "        else:\n",
    "            raise AttributeError(name)\n",
    "\n",
    "    def __setattr__(self, name, value):\n",
    "        if name == 'name':                           # On all attr assignments\n",
    "            value = value.lower().replace(' ', '_')  # addr stored directly\n",
    "        elif name == 'age':                          # acct mangled to _acct\n",
    "            if value < 0 or value > 150:\n",
    "                raise ValueError('invalid age')\n",
    "        elif name == 'acct':\n",
    "            print('__setattr__', name)\n",
    "            name  = '_acct' # 随后对 acct 的访问还会调⽤ __getattr__\n",
    "            value = value.replace('-', '')\n",
    "            if len(value) != self.acctlen:\n",
    "                raise TypeError('invald acct number')\n",
    "        elif name == 'remain': # 未定义属性，会调用 __getattr__\n",
    "            raise TypeError('cannot set remain')\n",
    "        # self.__dict__[name] = value                  # Avoid looping (or via object)\n",
    "        object.__setattr__(self, name, value)\n"
   ],
   "id": "a4fb77470939a53d",
   "outputs": [],
   "execution_count": 128
  },
  {
   "metadata": {
    "ExecuteTime": {
     "end_time": "2024-07-04T03:41:26.592024Z",
     "start_time": "2024-07-04T03:41:26.590029Z"
    }
   },
   "cell_type": "code",
   "source": "cardHolder_test(CardHolder)",
   "id": "43ec709141273c19",
   "outputs": [
    {
     "name": "stdout",
     "output_type": "stream",
     "text": [
      "__setattr__ acct\n",
      "bob: __getattr__ acct\n",
      "__getattr__ remain\n",
      "12345*** / bob_smith / 40 / 19.5 / 123 main st\n",
      "__setattr__ acct\n",
      "bob: __getattr__ acct\n",
      "__getattr__ remain\n",
      "23456*** / bob_q._smith / 50 / 9.5 / 123 main st\n",
      "__setattr__ acct\n",
      "sue: __getattr__ acct\n",
      "__getattr__ remain\n",
      "56781*** / sue_jones / 35 / 24.5 / 124 main st\n",
      "bob: __getattr__ acct\n",
      "__getattr__ remain\n",
      "23456*** / bob_q._smith / 50 / 9.5 / 123 main st\n",
      "Bad age for Sue\n",
      "Can't set sue.remain\n",
      "__setattr__ acct\n",
      "Bad acct for Sue\n"
     ]
    }
   ],
   "execution_count": 129
  },
  {
   "metadata": {
    "ExecuteTime": {
     "end_time": "2024-07-04T03:32:05.062696Z",
     "start_time": "2024-07-04T03:32:05.060212Z"
    }
   },
   "cell_type": "code",
   "source": [
    "bob = CardHolder('1234-1456', 'Bob', 50, '123 main st')\n",
    "bob._acct, bob.acct"
   ],
   "id": "6a1be06f494ce772",
   "outputs": [
    {
     "name": "stdout",
     "output_type": "stream",
     "text": [
      "__setattr__ acct\n",
      "__getattr__ acct\n"
     ]
    },
    {
     "data": {
      "text/plain": [
       "('12341456', '12341***')"
      ]
     },
     "execution_count": 118,
     "metadata": {},
     "output_type": "execute_result"
    }
   ],
   "execution_count": 118
  },
  {
   "metadata": {
    "ExecuteTime": {
     "end_time": "2024-07-04T03:32:37.368783Z",
     "start_time": "2024-07-04T03:32:37.366158Z"
    }
   },
   "cell_type": "code",
   "source": "[x for x in dir(bob) if not x.startswith('__')]",
   "id": "df371ea9f2353ada",
   "outputs": [
    {
     "data": {
      "text/plain": [
       "['_acct', 'acctlen', 'addr', 'age', 'name', 'retireage']"
      ]
     },
     "execution_count": 121,
     "metadata": {},
     "output_type": "execute_result"
    }
   ],
   "execution_count": 121
  },
  {
   "metadata": {
    "ExecuteTime": {
     "end_time": "2024-07-04T03:33:42.795376Z",
     "start_time": "2024-07-04T03:33:42.793213Z"
    }
   },
   "cell_type": "code",
   "source": [
    "for x in (v for v in dir(bob) if not v.startswith('__')):\n",
    "    print(f'{x:>10}=> {getattr(bob, x)}')"
   ],
   "id": "6561dfa063d1b42",
   "outputs": [
    {
     "name": "stdout",
     "output_type": "stream",
     "text": [
      "     _acct=> 12341456\n",
      "   acctlen=> 8\n",
      "      addr=> 123 main st\n",
      "       age=> 50\n",
      "      name=> bob\n",
      " retireage=> 59.5\n"
     ]
    }
   ],
   "execution_count": 123
  },
  {
   "metadata": {},
   "cell_type": "markdown",
   "source": "使⽤__getattribute__ 验证",
   "id": "c474a82f0092a0df"
  },
  {
   "metadata": {
    "ExecuteTime": {
     "end_time": "2024-07-04T03:18:42.900621Z",
     "start_time": "2024-07-04T03:18:42.896966Z"
    }
   },
   "cell_type": "code",
   "source": [
    "class CardHolder(object):                        # Need \"(object)\" in 2.X only\n",
    "    acctlen = 8                                  # Class data\n",
    "    retireage = 59.5\n",
    "\n",
    "    def __init__(self, acct, name, age, addr):\n",
    "        self.acct = acct                         # Instance data\n",
    "        self.name = name                         # These trigger __setattr__ too\n",
    "        self.age  = age                          # acct not mangled: name tested\n",
    "        self.addr = addr                         # addr is not managed\n",
    "                                                 # remain has no data\n",
    "    def __getattribute__(self, name):\n",
    "        print('__getattribute__', name)\n",
    "        superget = object.__getattribute__             # Don't loop: one level up\n",
    "        if name == 'acct':                             # On all attr fetches\n",
    "            return superget(self, 'acct')[:-3] + '***'\n",
    "        elif name == 'remain':\n",
    "            return superget(self, 'retireage') - superget(self, 'age')\n",
    "        else:\n",
    "            return superget(self, name)                # name, age, addr: stored\n",
    "\n",
    "    def __setattr__(self, name, value):\n",
    "        print('__setattr__', name)\n",
    "        if name == 'name':                             # On all attr assignments\n",
    "            value = value.lower().replace(' ', '_')    # addr stored directly\n",
    "        elif name == 'age':\n",
    "            if value < 0 or value > 150:\n",
    "                raise ValueError('invalid age')\n",
    "        elif name == 'acct':\n",
    "            value = value.replace('-', '')\n",
    "            if len(value) != self.acctlen:\n",
    "                raise TypeError('invald acct number')\n",
    "        elif name == 'remain':\n",
    "            raise TypeError('cannot set remain')\n",
    "        # self.__dict__[name] = value                     # Avoid loops, orig names\n",
    "        object.__setattr__(self, name, value)\n",
    "        "
   ],
   "id": "199746791deed5f",
   "outputs": [],
   "execution_count": 87
  },
  {
   "metadata": {
    "ExecuteTime": {
     "end_time": "2024-07-04T03:18:44.046443Z",
     "start_time": "2024-07-04T03:18:44.044585Z"
    }
   },
   "cell_type": "code",
   "source": "cardHolder_test(CardHolder)",
   "id": "18771afde33ecab9",
   "outputs": [
    {
     "name": "stdout",
     "output_type": "stream",
     "text": [
      "__setattr__ acct\n",
      "__getattribute__ acctlen\n",
      "__setattr__ name\n",
      "__setattr__ age\n",
      "__setattr__ addr\n",
      "bob: __getattribute__ acct\n",
      "__getattribute__ name\n",
      "__getattribute__ age\n",
      "__getattribute__ remain\n",
      "__getattribute__ addr\n",
      "12345*** / bob_smith / 40 / 19.5 / 123 main st\n",
      "__setattr__ name\n",
      "__setattr__ age\n",
      "__setattr__ acct\n",
      "__getattribute__ acctlen\n",
      "bob: __getattribute__ acct\n",
      "__getattribute__ name\n",
      "__getattribute__ age\n",
      "__getattribute__ remain\n",
      "__getattribute__ addr\n",
      "23456*** / bob_q._smith / 50 / 9.5 / 123 main st\n",
      "__setattr__ acct\n",
      "__getattribute__ acctlen\n",
      "__setattr__ name\n",
      "__setattr__ age\n",
      "__setattr__ addr\n",
      "sue: __getattribute__ acct\n",
      "__getattribute__ name\n",
      "__getattribute__ age\n",
      "__getattribute__ remain\n",
      "__getattribute__ addr\n",
      "56781*** / sue_jones / 35 / 24.5 / 124 main st\n",
      "bob: __getattribute__ acct\n",
      "__getattribute__ name\n",
      "__getattribute__ age\n",
      "__getattribute__ remain\n",
      "__getattribute__ addr\n",
      "23456*** / bob_q._smith / 50 / 9.5 / 123 main st\n",
      "__setattr__ age\n",
      "Bad age for Sue\n",
      "__setattr__ remain\n",
      "Can't set sue.remain\n",
      "__setattr__ acct\n",
      "__getattribute__ acctlen\n",
      "Bad acct for Sue\n"
     ]
    }
   ],
   "execution_count": 88
  },
  {
   "metadata": {},
   "cell_type": "code",
   "outputs": [],
   "execution_count": null,
   "source": "",
   "id": "bb7ee24255782c8c"
  }
 ],
 "metadata": {
  "kernelspec": {
   "display_name": "Python 3",
   "language": "python",
   "name": "python3"
  },
  "language_info": {
   "codemirror_mode": {
    "name": "ipython",
    "version": 2
   },
   "file_extension": ".py",
   "mimetype": "text/x-python",
   "name": "python",
   "nbconvert_exporter": "python",
   "pygments_lexer": "ipython2",
   "version": "2.7.6"
  }
 },
 "nbformat": 4,
 "nbformat_minor": 5
}
