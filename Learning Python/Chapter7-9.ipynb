{
 "cells": [
  {
   "metadata": {},
   "cell_type": "markdown",
   "source": "# String",
   "id": "f5b6ca344a0ed756"
  },
  {
   "cell_type": "code",
   "id": "initial_id",
   "metadata": {
    "collapsed": true,
    "ExecuteTime": {
     "end_time": "2024-06-20T08:33:00.512651Z",
     "start_time": "2024-06-20T08:33:00.508605Z"
    }
   },
   "source": [
    "for c in 'spam':\n",
    "    print(c, end=' ')"
   ],
   "outputs": [
    {
     "name": "stdout",
     "output_type": "stream",
     "text": [
      "s p a m "
     ]
    }
   ],
   "execution_count": 1
  },
  {
   "metadata": {
    "ExecuteTime": {
     "end_time": "2024-06-20T08:35:19.753424Z",
     "start_time": "2024-06-20T08:35:19.741569Z"
    }
   },
   "cell_type": "code",
   "source": [
    "S = 'slice'\n",
    "S[:], S[1:3], S[:-1], S[-1]"
   ],
   "id": "94ff80933dc0d3e0",
   "outputs": [
    {
     "data": {
      "text/plain": [
       "('slice', 'li', 'slic', 'e')"
      ]
     },
     "execution_count": 3,
     "metadata": {},
     "output_type": "execute_result"
    }
   ],
   "execution_count": 3
  },
  {
   "metadata": {
    "ExecuteTime": {
     "end_time": "2024-06-20T08:39:44.471436Z",
     "start_time": "2024-06-20T08:39:44.466375Z"
    }
   },
   "cell_type": "code",
   "source": "S[::-1]",
   "id": "de02e52cce4cce4",
   "outputs": [
    {
     "data": {
      "text/plain": [
       "'ecils'"
      ]
     },
     "execution_count": 4,
     "metadata": {},
     "output_type": "execute_result"
    }
   ],
   "execution_count": 4
  },
  {
   "metadata": {
    "ExecuteTime": {
     "end_time": "2024-06-20T08:41:20.445893Z",
     "start_time": "2024-06-20T08:41:20.437862Z"
    }
   },
   "cell_type": "code",
   "source": "S[3:1:-1], S[1:3]",
   "id": "fb3aaeb68b1e5a74",
   "outputs": [
    {
     "data": {
      "text/plain": [
       "('ci', 'li')"
      ]
     },
     "execution_count": 9,
     "metadata": {},
     "output_type": "execute_result"
    }
   ],
   "execution_count": 9
  },
  {
   "metadata": {
    "ExecuteTime": {
     "end_time": "2024-06-20T08:51:13.595017Z",
     "start_time": "2024-06-20T08:51:13.592201Z"
    }
   },
   "cell_type": "code",
   "source": [
    "# look up ASCII table\n",
    "ord('a'), ord('A'), ord(' '), ord('€'), ord('你')"
   ],
   "id": "9659c6cddbba4bcf",
   "outputs": [
    {
     "data": {
      "text/plain": [
       "(97, 65, 32, 8364, 20320)"
      ]
     },
     "execution_count": 13,
     "metadata": {},
     "output_type": "execute_result"
    }
   ],
   "execution_count": 13
  },
  {
   "metadata": {
    "ExecuteTime": {
     "end_time": "2024-06-20T08:51:35.741025Z",
     "start_time": "2024-06-20T08:51:35.733548Z"
    }
   },
   "cell_type": "code",
   "source": [
    "# convert from ASCII\n",
    "chr(97), chr(65), chr(32), chr(8364), chr(20320)"
   ],
   "id": "b998341101a3c467",
   "outputs": [
    {
     "data": {
      "text/plain": [
       "('a', 'A', ' ', '€', '你')"
      ]
     },
     "execution_count": 14,
     "metadata": {},
     "output_type": "execute_result"
    }
   ],
   "execution_count": 14
  },
  {
   "metadata": {
    "ExecuteTime": {
     "end_time": "2024-06-20T08:52:00.828225Z",
     "start_time": "2024-06-20T08:52:00.822895Z"
    }
   },
   "cell_type": "code",
   "source": "int(2.5)",
   "id": "27eadf93d5b9cfd5",
   "outputs": [
    {
     "data": {
      "text/plain": [
       "2"
      ]
     },
     "execution_count": 15,
     "metadata": {},
     "output_type": "execute_result"
    }
   ],
   "execution_count": 15
  },
  {
   "metadata": {},
   "cell_type": "markdown",
   "source": "# Function",
   "id": "e8a7fa02082ec323"
  },
  {
   "metadata": {
    "ExecuteTime": {
     "end_time": "2024-06-20T08:56:37.830436Z",
     "start_time": "2024-06-20T08:56:37.824843Z"
    }
   },
   "cell_type": "code",
   "source": [
    "S = 'spammmy'\n",
    "S.replace('m', 'x')"
   ],
   "id": "36b61034515015c",
   "outputs": [
    {
     "data": {
      "text/plain": [
       "'spaxxxy'"
      ]
     },
     "execution_count": 16,
     "metadata": {},
     "output_type": "execute_result"
    }
   ],
   "execution_count": 16
  },
  {
   "metadata": {
    "ExecuteTime": {
     "end_time": "2024-06-20T08:57:05.366199Z",
     "start_time": "2024-06-20T08:57:05.361309Z"
    }
   },
   "cell_type": "code",
   "source": [
    "S = 'aa$$bb$$cc$$dd'\n",
    "S.replace('$', 'spam')"
   ],
   "id": "5973042ee3fed399",
   "outputs": [
    {
     "data": {
      "text/plain": [
       "'aaspamspambbspamspamccspamspamdd'"
      ]
     },
     "execution_count": 17,
     "metadata": {},
     "output_type": "execute_result"
    }
   ],
   "execution_count": 17
  },
  {
   "metadata": {
    "ExecuteTime": {
     "end_time": "2024-06-20T08:57:26.496112Z",
     "start_time": "2024-06-20T08:57:26.490164Z"
    }
   },
   "cell_type": "code",
   "source": [
    "S = 'aa$$bb$$cc$$dd'\n",
    "where = S.find('$')\n",
    "print(where)"
   ],
   "id": "59e4f421cb3c0e2f",
   "outputs": [
    {
     "name": "stdout",
     "output_type": "stream",
     "text": [
      "2\n"
     ]
    }
   ],
   "execution_count": 19
  },
  {
   "metadata": {
    "ExecuteTime": {
     "end_time": "2024-06-20T08:57:55.393600Z",
     "start_time": "2024-06-20T08:57:55.388629Z"
    }
   },
   "cell_type": "code",
   "source": [
    "S = 'aa$$bb$$cc$$dd'\n",
    "S.replace('$', 'spam', 2)"
   ],
   "id": "1747f08eaf11d573",
   "outputs": [
    {
     "data": {
      "text/plain": [
       "'aaspamspambb$$cc$$dd'"
      ]
     },
     "execution_count": 20,
     "metadata": {},
     "output_type": "execute_result"
    }
   ],
   "execution_count": 20
  },
  {
   "metadata": {
    "ExecuteTime": {
     "end_time": "2024-06-20T09:04:00.125787Z",
     "start_time": "2024-06-20T09:04:00.121089Z"
    }
   },
   "cell_type": "code",
   "source": [
    "S = 'aa$$bb$$cc$$dd'\n",
    "S.split('$$')"
   ],
   "id": "4a217f28a6dc2cfa",
   "outputs": [
    {
     "data": {
      "text/plain": [
       "['aa', 'bb', 'cc', 'dd']"
      ]
     },
     "execution_count": 1,
     "metadata": {},
     "output_type": "execute_result"
    }
   ],
   "execution_count": 1
  },
  {
   "metadata": {
    "ExecuteTime": {
     "end_time": "2024-06-20T09:05:10.474250Z",
     "start_time": "2024-06-20T09:05:10.471876Z"
    }
   },
   "cell_type": "code",
   "source": [
    "line = 'Hello there.\\n'\n",
    "line.rstrip(), line.isalpha(), line.upper(), line.endswith('.')"
   ],
   "id": "55025885faf7e06b",
   "outputs": [
    {
     "data": {
      "text/plain": [
       "('Hello there.', False, 'HELLO THERE.\\n', False)"
      ]
     },
     "execution_count": 5,
     "metadata": {},
     "output_type": "execute_result"
    }
   ],
   "execution_count": 5
  },
  {
   "metadata": {},
   "cell_type": "markdown",
   "source": "## Formatting",
   "id": "128d9e08f8ba7a91"
  },
  {
   "metadata": {
    "ExecuteTime": {
     "end_time": "2024-06-20T09:23:45.336813Z",
     "start_time": "2024-06-20T09:23:45.333824Z"
    }
   },
   "cell_type": "code",
   "source": [
    "x = 1234\n",
    "print(f'{x:06}')\n",
    "print(f'{x:-6}')\n",
    "print(f'{x:6}')\n",
    "print(f'{x:010.2f}')\n",
    "f = 12100001.345\n",
    "print(f'{f:010.2%}')\n",
    "print(f'{f:,.2f}')\n",
    "print(f'{f:,.4f}')\n",
    "print(f'{f:$>20.4f}')"
   ],
   "id": "32694d866a31992b",
   "outputs": [
    {
     "name": "stdout",
     "output_type": "stream",
     "text": [
      "001234\n",
      "  1234\n",
      "  1234\n",
      "0001234.00\n",
      "1210000134.50%\n",
      "12,100,001.35\n",
      "12,100,001.3450\n",
      "$$$$$$$12100001.3450\n"
     ]
    }
   ],
   "execution_count": 39
  },
  {
   "metadata": {
    "ExecuteTime": {
     "end_time": "2024-06-20T09:14:19.556692Z",
     "start_time": "2024-06-20T09:14:19.554691Z"
    }
   },
   "cell_type": "code",
   "source": [
    "S = 'spam'\n",
    "print(f\"{S:$>10}\")\n",
    "print(f\"{S:$>10} = {S:^<10}\")"
   ],
   "id": "f4c72ffb168f0078",
   "outputs": [
    {
     "name": "stdout",
     "output_type": "stream",
     "text": [
      "$$$$$$spam\n",
      "$$$$$$spam = spam^^^^^^\n"
     ]
    }
   ],
   "execution_count": 26
  },
  {
   "metadata": {
    "ExecuteTime": {
     "end_time": "2024-06-20T09:19:58.462874Z",
     "start_time": "2024-06-20T09:19:58.460524Z"
    }
   },
   "cell_type": "code",
   "source": "int('0x1f', 16)",
   "id": "f6a8cd73feee3970",
   "outputs": [
    {
     "data": {
      "text/plain": [
       "31"
      ]
     },
     "execution_count": 32,
     "metadata": {},
     "output_type": "execute_result"
    }
   ],
   "execution_count": 32
  },
  {
   "metadata": {
    "ExecuteTime": {
     "end_time": "2024-06-20T09:27:59.954623Z",
     "start_time": "2024-06-20T09:27:59.952618Z"
    }
   },
   "cell_type": "code",
   "source": [
    "D = {'name': 'bob', 'job': 'teacher'}\n",
    "print('{name} is {job}'.format(**D))"
   ],
   "id": "35afc2240d964a59",
   "outputs": [
    {
     "name": "stdout",
     "output_type": "stream",
     "text": [
      "bob is teacher\n"
     ]
    }
   ],
   "execution_count": 46
  },
  {
   "metadata": {
    "ExecuteTime": {
     "end_time": "2024-06-20T09:37:36.979252Z",
     "start_time": "2024-06-20T09:37:36.973620Z"
    }
   },
   "cell_type": "code",
   "source": [
    "S = 's,pa,m'\n",
    "S.split(',')[1], S[S.find('pa'): S.find('pa') + 2]"
   ],
   "id": "730924a8c535fdbd",
   "outputs": [
    {
     "data": {
      "text/plain": [
       "('pa', 'pa')"
      ]
     },
     "execution_count": 2,
     "metadata": {},
     "output_type": "execute_result"
    }
   ],
   "execution_count": 2
  },
  {
   "metadata": {},
   "cell_type": "markdown",
   "source": "# List",
   "id": "2990f1b56af599eb"
  },
  {
   "metadata": {
    "ExecuteTime": {
     "end_time": "2024-06-20T09:39:23.179995Z",
     "start_time": "2024-06-20T09:39:23.177539Z"
    }
   },
   "cell_type": "code",
   "source": "list(range(-10, 10))",
   "id": "e403c60e3bce1caa",
   "outputs": [
    {
     "data": {
      "text/plain": [
       "[-10, -9, -8, -7, -6, -5, -4, -3, -2, -1, 0, 1, 2, 3, 4, 5, 6, 7, 8, 9]"
      ]
     },
     "execution_count": 3,
     "metadata": {},
     "output_type": "execute_result"
    }
   ],
   "execution_count": 3
  },
  {
   "metadata": {
    "ExecuteTime": {
     "end_time": "2024-06-20T09:43:05.063355Z",
     "start_time": "2024-06-20T09:43:05.058775Z"
    }
   },
   "cell_type": "code",
   "source": [
    "L = [1, 2, 3, 4, 5]\n",
    "print((L.pop(), L))\n",
    "print((L.remove(2), L))\n",
    "print((L.insert(2, 10), L))\n",
    "print((L.append(100), L))\n",
    "print((L.extend([100, 200]), L))\n",
    "print('*' * 10)\n",
    "print((L.index(100), L))\n",
    "print((L.count(100), L))\n",
    "del L[4:6]\n",
    "print(L)\n",
    "print(L.reverse(), L)"
   ],
   "id": "1be78fc868a5bef6",
   "outputs": [
    {
     "name": "stdout",
     "output_type": "stream",
     "text": [
      "(5, [1, 2, 3, 4])\n",
      "(None, [1, 3, 4])\n",
      "(None, [1, 3, 10, 4])\n",
      "(None, [1, 3, 10, 4, 100])\n",
      "(None, [1, 3, 10, 4, 100, 100, 200])\n",
      "**********\n",
      "(4, [1, 3, 10, 4, 100, 100, 200])\n",
      "(2, [1, 3, 10, 4, 100, 100, 200])\n",
      "[1, 3, 10, 4, 200]\n",
      "None [200, 4, 10, 3, 1]\n"
     ]
    }
   ],
   "execution_count": 16
  },
  {
   "metadata": {
    "ExecuteTime": {
     "end_time": "2024-06-20T09:45:11.903555Z",
     "start_time": "2024-06-20T09:45:11.900989Z"
    }
   },
   "cell_type": "code",
   "source": [
    "L = [1, 2, 3, 4, 5]\n",
    "L[1:2] = []  # equal to del L[1:2] or del L[1]\n",
    "print(L)"
   ],
   "id": "62f9194ada3fde52",
   "outputs": [
    {
     "name": "stdout",
     "output_type": "stream",
     "text": [
      "[1, 3, 4, 5]\n"
     ]
    }
   ],
   "execution_count": 20
  },
  {
   "metadata": {
    "ExecuteTime": {
     "end_time": "2024-06-20T09:45:27.030219Z",
     "start_time": "2024-06-20T09:45:27.027806Z"
    }
   },
   "cell_type": "code",
   "source": [
    "L = [1, 2, 3, 4, 5]\n",
    "del L[1]\n",
    "print(L)"
   ],
   "id": "8a3a8bdfa63aac4a",
   "outputs": [
    {
     "name": "stdout",
     "output_type": "stream",
     "text": [
      "[1, 3, 4, 5]\n"
     ]
    }
   ],
   "execution_count": 22
  },
  {
   "metadata": {
    "ExecuteTime": {
     "end_time": "2024-06-20T09:50:30.479682Z",
     "start_time": "2024-06-20T09:50:30.475558Z"
    }
   },
   "cell_type": "code",
   "source": [
    "L = [1, 2, 3, 4, 5]\n",
    "L[1:2] = [7, 8]\n",
    "print(L)"
   ],
   "id": "beb93f30757eac2d",
   "outputs": [
    {
     "name": "stdout",
     "output_type": "stream",
     "text": [
      "[1, 7, 8, 3, 4, 5]\n"
     ]
    }
   ],
   "execution_count": 23
  },
  {
   "metadata": {
    "ExecuteTime": {
     "end_time": "2024-06-20T09:54:33.487752Z",
     "start_time": "2024-06-20T09:54:33.485597Z"
    }
   },
   "cell_type": "code",
   "source": [
    "L = ['abc', 'Adc', 'ABe']\n",
    "L.sort()\n",
    "L"
   ],
   "id": "2c333a9e5c90057d",
   "outputs": [
    {
     "data": {
      "text/plain": [
       "['ABe', 'Adc', 'abc']"
      ]
     },
     "execution_count": 30,
     "metadata": {},
     "output_type": "execute_result"
    }
   ],
   "execution_count": 30
  },
  {
   "metadata": {
    "ExecuteTime": {
     "end_time": "2024-06-20T09:54:28.772247Z",
     "start_time": "2024-06-20T09:54:28.769594Z"
    }
   },
   "cell_type": "code",
   "source": [
    "L = ['abc', 'Adc', 'ABe']\n",
    "L.sort(key=str.lower, reverse=False)\n",
    "L"
   ],
   "id": "6f1ffa5423f99490",
   "outputs": [
    {
     "data": {
      "text/plain": [
       "['abc', 'ABe', 'Adc']"
      ]
     },
     "execution_count": 29,
     "metadata": {},
     "output_type": "execute_result"
    }
   ],
   "execution_count": 29
  },
  {
   "metadata": {
    "ExecuteTime": {
     "end_time": "2024-06-20T10:18:42.044112Z",
     "start_time": "2024-06-20T10:18:42.039184Z"
    }
   },
   "cell_type": "code",
   "source": [
    "L = ['abc', 'Adc', 'ABe']\n",
    "sorted(L, key=str.lower, reverse=False), L"
   ],
   "id": "ca1772bbad6cdc24",
   "outputs": [
    {
     "data": {
      "text/plain": [
       "(['abc', 'ABe', 'Adc'], ['abc', 'Adc', 'ABe'])"
      ]
     },
     "execution_count": 32,
     "metadata": {},
     "output_type": "execute_result"
    }
   ],
   "execution_count": 32
  },
  {
   "metadata": {
    "ExecuteTime": {
     "end_time": "2024-06-20T10:20:07.728655Z",
     "start_time": "2024-06-20T10:20:07.726019Z"
    }
   },
   "cell_type": "code",
   "source": [
    "L = ['abc', 'Adc', 'ABe']\n",
    "sorted([s.lower() for s in L], reverse=False)"
   ],
   "id": "9b4b392e931dc7cb",
   "outputs": [
    {
     "data": {
      "text/plain": [
       "['abc', 'abe', 'adc']"
      ]
     },
     "execution_count": 36,
     "metadata": {},
     "output_type": "execute_result"
    }
   ],
   "execution_count": 36
  },
  {
   "metadata": {
    "ExecuteTime": {
     "end_time": "2024-06-20T10:21:08.785680Z",
     "start_time": "2024-06-20T10:21:08.781988Z"
    }
   },
   "cell_type": "code",
   "source": [
    "L = ['abc', 'Adc', 'ABe']\n",
    "list(reversed(L)), L"
   ],
   "id": "c050ac1c81d095eb",
   "outputs": [
    {
     "data": {
      "text/plain": [
       "(['ABe', 'Adc', 'abc'], ['abc', 'Adc', 'ABe'])"
      ]
     },
     "execution_count": 38,
     "metadata": {},
     "output_type": "execute_result"
    }
   ],
   "execution_count": 38
  },
  {
   "metadata": {},
   "cell_type": "markdown",
   "source": "# Dict",
   "id": "93e8af53b11ef71e"
  },
  {
   "metadata": {
    "ExecuteTime": {
     "end_time": "2024-06-20T12:12:53.804113Z",
     "start_time": "2024-06-20T12:12:53.800878Z"
    }
   },
   "cell_type": "code",
   "source": [
    "key_list = ['a', 'b', 'c']\n",
    "value_list = [1, 2, 3, 4]\n",
    "zip(key_list, value_list)"
   ],
   "id": "37aa1ff34ced2e7d",
   "outputs": [
    {
     "data": {
      "text/plain": [
       "<zip at 0x111e88840>"
      ]
     },
     "execution_count": 43,
     "metadata": {},
     "output_type": "execute_result"
    }
   ],
   "execution_count": 43
  },
  {
   "metadata": {
    "ExecuteTime": {
     "end_time": "2024-06-20T12:12:54.836895Z",
     "start_time": "2024-06-20T12:12:54.833255Z"
    }
   },
   "cell_type": "code",
   "source": "dict(zip(key_list, value_list))",
   "id": "443bab12aa584353",
   "outputs": [
    {
     "data": {
      "text/plain": [
       "{'a': 1, 'b': 2, 'c': 3}"
      ]
     },
     "execution_count": 44,
     "metadata": {},
     "output_type": "execute_result"
    }
   ],
   "execution_count": 44
  },
  {
   "metadata": {
    "ExecuteTime": {
     "end_time": "2024-06-20T12:15:47.348032Z",
     "start_time": "2024-06-20T12:15:47.345028Z"
    }
   },
   "cell_type": "code",
   "source": "dict([('name', 'bob'), ('job', 'teacher')])",
   "id": "f1cda0239281d92",
   "outputs": [
    {
     "data": {
      "text/plain": [
       "{'name': 'bob', 'job': 'teacher'}"
      ]
     },
     "execution_count": 46,
     "metadata": {},
     "output_type": "execute_result"
    }
   ],
   "execution_count": 46
  },
  {
   "metadata": {
    "ExecuteTime": {
     "end_time": "2024-06-20T12:36:30.414697Z",
     "start_time": "2024-06-20T12:36:30.409186Z"
    }
   },
   "cell_type": "code",
   "source": "dict.fromkeys(key_list), dict.fromkeys(key_list, 0)",
   "id": "36ddd657dd8243e9",
   "outputs": [
    {
     "data": {
      "text/plain": [
       "({'a': None, 'b': None, 'c': None}, {'a': 0, 'b': 0, 'c': 0})"
      ]
     },
     "execution_count": 74,
     "metadata": {},
     "output_type": "execute_result"
    }
   ],
   "execution_count": 74
  },
  {
   "metadata": {
    "ExecuteTime": {
     "end_time": "2024-06-20T12:16:30.964772Z",
     "start_time": "2024-06-20T12:16:30.962374Z"
    }
   },
   "cell_type": "code",
   "source": [
    "D = dict(zip(key_list, value_list))\n",
    "D.items()"
   ],
   "id": "939844359c734584",
   "outputs": [
    {
     "data": {
      "text/plain": [
       "dict_items([('a', 1), ('b', 2), ('c', 3)])"
      ]
     },
     "execution_count": 48,
     "metadata": {},
     "output_type": "execute_result"
    }
   ],
   "execution_count": 48
  },
  {
   "metadata": {
    "ExecuteTime": {
     "end_time": "2024-06-20T12:18:09.174682Z",
     "start_time": "2024-06-20T12:18:09.171610Z"
    }
   },
   "cell_type": "code",
   "source": "D.keys()",
   "id": "92b25d10550c6874",
   "outputs": [
    {
     "data": {
      "text/plain": [
       "dict_keys(['a', 'b', 'c'])"
      ]
     },
     "execution_count": 49,
     "metadata": {},
     "output_type": "execute_result"
    }
   ],
   "execution_count": 49
  },
  {
   "metadata": {
    "ExecuteTime": {
     "end_time": "2024-06-20T12:18:43.172233Z",
     "start_time": "2024-06-20T12:18:43.169923Z"
    }
   },
   "cell_type": "code",
   "source": "iter(D.keys()), iter(D.keys())",
   "id": "90899873095b66e8",
   "outputs": [
    {
     "data": {
      "text/plain": [
       "(<dict_keyiterator at 0x112055760>, <dict_keyiterator at 0x1158b5940>)"
      ]
     },
     "execution_count": 55,
     "metadata": {},
     "output_type": "execute_result"
    }
   ],
   "execution_count": 55
  },
  {
   "metadata": {
    "ExecuteTime": {
     "end_time": "2024-06-20T12:19:55.021186Z",
     "start_time": "2024-06-20T12:19:55.019017Z"
    }
   },
   "cell_type": "code",
   "source": "D.get('a'), D.get('d', 'default')",
   "id": "1cb2b2479aa2db55",
   "outputs": [
    {
     "data": {
      "text/plain": [
       "(1, 'default')"
      ]
     },
     "execution_count": 58,
     "metadata": {},
     "output_type": "execute_result"
    }
   ],
   "execution_count": 58
  },
  {
   "metadata": {
    "ExecuteTime": {
     "end_time": "2024-06-20T12:21:05.100743Z",
     "start_time": "2024-06-20T12:21:05.098903Z"
    }
   },
   "cell_type": "code",
   "source": [
    "D1 = {'apple': 1, 'banana': 2, 'orange': 3}\n",
    "D2 = {'pear': 4, 'peach': 5}\n",
    "D1.update(D2)\n",
    "print(D1)"
   ],
   "id": "ae678079188079ed",
   "outputs": [
    {
     "name": "stdout",
     "output_type": "stream",
     "text": [
      "{'apple': 1, 'banana': 2, 'orange': 3, 'pear': 4, 'peach': 5}\n"
     ]
    }
   ],
   "execution_count": 60
  },
  {
   "metadata": {
    "ExecuteTime": {
     "end_time": "2024-06-20T12:21:42.793386Z",
     "start_time": "2024-06-20T12:21:42.791277Z"
    }
   },
   "cell_type": "code",
   "source": [
    "D1 = {'apple': 1, 'banana': 2, 'orange': 3}\n",
    "D2 = {'pear': 4, 'peach': 5}\n",
    "D3 = {'apple': 4, 'peach': 5}\n",
    "D1.update(D3)\n",
    "print(D1)"
   ],
   "id": "8e8460fcfcfcc54c",
   "outputs": [
    {
     "name": "stdout",
     "output_type": "stream",
     "text": [
      "{'apple': 4, 'banana': 2, 'orange': 3, 'peach': 5}\n"
     ]
    }
   ],
   "execution_count": 62
  },
  {
   "metadata": {
    "ExecuteTime": {
     "end_time": "2024-06-20T12:26:58.155222Z",
     "start_time": "2024-06-20T12:26:58.152399Z"
    }
   },
   "cell_type": "code",
   "source": [
    "D1 = {'apple': 1, 'banana': 2, 'orange': 3, 'peach': 4}\n",
    "D1.pop('peach')\n",
    "print(D1)\n",
    "D1.pop('apple')\n",
    "print(D1)\n",
    "D1.popitem()\n",
    "print(D1)"
   ],
   "id": "1eeff93754b45e0a",
   "outputs": [
    {
     "name": "stdout",
     "output_type": "stream",
     "text": [
      "{'apple': 1, 'banana': 2, 'orange': 3}\n",
      "{'banana': 2, 'orange': 3}\n",
      "{'banana': 2}\n"
     ]
    }
   ],
   "execution_count": 67
  },
  {
   "metadata": {
    "ExecuteTime": {
     "end_time": "2024-06-20T12:29:23.397070Z",
     "start_time": "2024-06-20T12:29:23.395034Z"
    }
   },
   "cell_type": "code",
   "source": [
    "movie_table = {\n",
    "    '1990': ['The Godfather', 'The Godfather: Part II'],\n",
    "    '1997': ['The Wolf of Wallstreet'],\n",
    "    '2008': ['The Dark Knight'],\n",
    "    '2012': ['The Prestige']\n",
    "}\n",
    "for year in movie_table:\n",
    "    print(f'{year}\\t{movie_table[year]}')"
   ],
   "id": "486c4138b785a0f0",
   "outputs": [
    {
     "name": "stdout",
     "output_type": "stream",
     "text": [
      "1990\t['The Godfather', 'The Godfather: Part II']\n",
      "1997\t['The Wolf of Wallstreet']\n",
      "2008\t['The Dark Knight']\n",
      "2012\t['The Prestige']\n"
     ]
    }
   ],
   "execution_count": 69
  },
  {
   "metadata": {
    "ExecuteTime": {
     "end_time": "2024-06-20T12:31:42.250841Z",
     "start_time": "2024-06-20T12:31:42.248591Z"
    }
   },
   "cell_type": "code",
   "source": "[title for (year, title) in movie_table.items() if year == '1990']",
   "id": "6eba4d758962f489",
   "outputs": [
    {
     "data": {
      "text/plain": [
       "[['The Godfather', 'The Godfather: Part II']]"
      ]
     },
     "execution_count": 73,
     "metadata": {},
     "output_type": "execute_result"
    }
   ],
   "execution_count": 73
  },
  {
   "metadata": {
    "ExecuteTime": {
     "end_time": "2024-06-20T12:41:07.596913Z",
     "start_time": "2024-06-20T12:41:07.593536Z"
    }
   },
   "cell_type": "code",
   "source": [
    "D = {x: x ** 2 for x in range(10)}\n",
    "D"
   ],
   "id": "51e4c5b2b3a87fb3",
   "outputs": [
    {
     "data": {
      "text/plain": [
       "{0: 0, 1: 1, 2: 4, 3: 9, 4: 16, 5: 25, 6: 36, 7: 49, 8: 64, 9: 81}"
      ]
     },
     "execution_count": 76,
     "metadata": {},
     "output_type": "execute_result"
    }
   ],
   "execution_count": 76
  },
  {
   "metadata": {
    "ExecuteTime": {
     "end_time": "2024-06-20T12:42:02.746849Z",
     "start_time": "2024-06-20T12:42:02.744323Z"
    }
   },
   "cell_type": "code",
   "source": [
    "D = {c.lower(): c + '!' for c in ['Egg', 'Spam', 'Bacon']}\n",
    "D"
   ],
   "id": "7c31a9e400677c58",
   "outputs": [
    {
     "data": {
      "text/plain": [
       "{'egg': 'Egg!', 'spam': 'Spam!', 'bacon': 'Bacon!'}"
      ]
     },
     "execution_count": 78,
     "metadata": {},
     "output_type": "execute_result"
    }
   ],
   "execution_count": 78
  },
  {
   "metadata": {},
   "cell_type": "markdown",
   "source": "字典视图会变化",
   "id": "2e97f371b2194932"
  },
  {
   "metadata": {
    "ExecuteTime": {
     "end_time": "2024-06-20T12:45:18.008281Z",
     "start_time": "2024-06-20T12:45:18.006037Z"
    }
   },
   "cell_type": "code",
   "source": [
    "D = {'apple': 1, 'banana': 2, 'orange': 3, 'peach': 4}\n",
    "k = D.keys()\n",
    "v = D.values()\n",
    "print(k, v)\n",
    "D.pop('apple')\n",
    "print(k, v)"
   ],
   "id": "a83b4b52e9bc24d4",
   "outputs": [
    {
     "name": "stdout",
     "output_type": "stream",
     "text": [
      "dict_keys(['apple', 'banana', 'orange', 'peach']) dict_values([1, 2, 3, 4])\n",
      "dict_keys(['banana', 'orange', 'peach']) dict_values([2, 3, 4])\n"
     ]
    }
   ],
   "execution_count": 80
  },
  {
   "metadata": {
    "ExecuteTime": {
     "end_time": "2024-06-20T12:51:32.884973Z",
     "start_time": "2024-06-20T12:51:32.882531Z"
    }
   },
   "cell_type": "code",
   "source": [
    "# 键视图可变\n",
    "k | set(['x'])"
   ],
   "id": "ef28caf907516639",
   "outputs": [
    {
     "data": {
      "text/plain": [
       "{'banana', 'orange', 'peach', 'x'}"
      ]
     },
     "execution_count": 95,
     "metadata": {},
     "output_type": "execute_result"
    }
   ],
   "execution_count": 95
  },
  {
   "metadata": {
    "ExecuteTime": {
     "end_time": "2024-06-20T12:51:34.014565Z",
     "start_time": "2024-06-20T12:51:34.005567Z"
    }
   },
   "cell_type": "code",
   "source": [
    "# 值视图不可变\n",
    "v | set([5])"
   ],
   "id": "5ac12e43738ebff5",
   "outputs": [
    {
     "ename": "TypeError",
     "evalue": "unsupported operand type(s) for |: 'dict_values' and 'set'",
     "output_type": "error",
     "traceback": [
      "\u001B[0;31m---------------------------------------------------------------------------\u001B[0m",
      "\u001B[0;31mTypeError\u001B[0m                                 Traceback (most recent call last)",
      "Cell \u001B[0;32mIn[96], line 2\u001B[0m\n\u001B[1;32m      1\u001B[0m \u001B[38;5;66;03m# 值视图不可变\u001B[39;00m\n\u001B[0;32m----> 2\u001B[0m v \u001B[38;5;241m|\u001B[39m \u001B[38;5;28mset\u001B[39m([\u001B[38;5;241m5\u001B[39m])\n",
      "\u001B[0;31mTypeError\u001B[0m: unsupported operand type(s) for |: 'dict_values' and 'set'"
     ]
    }
   ],
   "execution_count": 96
  },
  {
   "metadata": {
    "ExecuteTime": {
     "end_time": "2024-06-20T12:51:08.613321Z",
     "start_time": "2024-06-20T12:51:08.611254Z"
    }
   },
   "cell_type": "code",
   "source": [
    "# 项视图可变\n",
    "D.items() | set([5, 6])"
   ],
   "id": "857c8d991ba7f833",
   "outputs": [
    {
     "data": {
      "text/plain": [
       "{('banana', 2), ('orange', 3), ('peach', 4), 5, 6}"
      ]
     },
     "execution_count": 94,
     "metadata": {},
     "output_type": "execute_result"
    }
   ],
   "execution_count": 94
  },
  {
   "metadata": {
    "ExecuteTime": {
     "end_time": "2024-06-20T12:48:36.494342Z",
     "start_time": "2024-06-20T12:48:36.491137Z"
    }
   },
   "cell_type": "code",
   "source": [
    "s = set([1, 2, 3])\n",
    "s.add(4)\n",
    "print(s)\n",
    "s | set([5])"
   ],
   "id": "a29bec20681bd38f",
   "outputs": [
    {
     "name": "stdout",
     "output_type": "stream",
     "text": [
      "{1, 2, 3, 4}\n"
     ]
    },
    {
     "data": {
      "text/plain": [
       "{1, 2, 3, 4, 5}"
      ]
     },
     "execution_count": 91,
     "metadata": {},
     "output_type": "execute_result"
    }
   ],
   "execution_count": 91
  },
  {
   "metadata": {
    "ExecuteTime": {
     "end_time": "2024-06-20T12:55:49.077830Z",
     "start_time": "2024-06-20T12:55:49.075424Z"
    }
   },
   "cell_type": "code",
   "source": [
    "D = {'b': 2, 'a': 1, 'c': 3}\n",
    "print(sorted(D))\n",
    "for k in sorted(D):\n",
    "    print(k, D[k])\n",
    "new_D = {k: D[k] for k in sorted(D)}\n",
    "print(new_D)"
   ],
   "id": "8dcccaca405039e6",
   "outputs": [
    {
     "name": "stdout",
     "output_type": "stream",
     "text": [
      "['a', 'b', 'c']\n",
      "a 1\n",
      "b 2\n",
      "c 3\n",
      "{'a': 1, 'b': 2, 'c': 3}\n"
     ]
    }
   ],
   "execution_count": 103
  },
  {
   "metadata": {},
   "cell_type": "markdown",
   "source": "# Tuple",
   "id": "782788042bfbadaf"
  },
  {
   "metadata": {
    "ExecuteTime": {
     "end_time": "2024-06-20T13:01:23.365177Z",
     "start_time": "2024-06-20T13:01:23.360855Z"
    }
   },
   "cell_type": "code",
   "source": [
    "T = tuple('spam')\n",
    "T"
   ],
   "id": "fb4f69a1c5e7ed3f",
   "outputs": [
    {
     "data": {
      "text/plain": [
       "('s', 'p', 'a', 'm')"
      ]
     },
     "execution_count": 104,
     "metadata": {},
     "output_type": "execute_result"
    }
   ],
   "execution_count": 104
  },
  {
   "metadata": {
    "ExecuteTime": {
     "end_time": "2024-06-20T13:01:37.363832Z",
     "start_time": "2024-06-20T13:01:37.360900Z"
    }
   },
   "cell_type": "code",
   "source": "T * 3",
   "id": "eb9b79e90809fb0e",
   "outputs": [
    {
     "data": {
      "text/plain": [
       "('s', 'p', 'a', 'm', 's', 'p', 'a', 'm', 's', 'p', 'a', 'm')"
      ]
     },
     "execution_count": 105,
     "metadata": {},
     "output_type": "execute_result"
    }
   ],
   "execution_count": 105
  },
  {
   "metadata": {
    "ExecuteTime": {
     "end_time": "2024-06-20T13:02:11.034877Z",
     "start_time": "2024-06-20T13:02:11.032380Z"
    }
   },
   "cell_type": "code",
   "source": "(1, 2) + (3, 4)",
   "id": "c66694028f3a1ef4",
   "outputs": [
    {
     "data": {
      "text/plain": [
       "(1, 2, 3, 4)"
      ]
     },
     "execution_count": 106,
     "metadata": {},
     "output_type": "execute_result"
    }
   ],
   "execution_count": 106
  },
  {
   "metadata": {
    "ExecuteTime": {
     "end_time": "2024-06-20T13:02:35.529553Z",
     "start_time": "2024-06-20T13:02:35.527227Z"
    }
   },
   "cell_type": "code",
   "source": "T[1:3]",
   "id": "8ba6618fd9655e6e",
   "outputs": [
    {
     "data": {
      "text/plain": [
       "('p', 'a')"
      ]
     },
     "execution_count": 108,
     "metadata": {},
     "output_type": "execute_result"
    }
   ],
   "execution_count": 108
  },
  {
   "metadata": {
    "ExecuteTime": {
     "end_time": "2024-06-20T13:03:11.753493Z",
     "start_time": "2024-06-20T13:03:11.751400Z"
    }
   },
   "cell_type": "code",
   "source": [
    "x = (40)\n",
    "print(type(x))\n",
    "x = (40,)\n",
    "print(type(x))"
   ],
   "id": "f2481e55ebc7c86f",
   "outputs": [
    {
     "name": "stdout",
     "output_type": "stream",
     "text": [
      "<class 'int'>\n",
      "<class 'tuple'>\n"
     ]
    }
   ],
   "execution_count": 109
  },
  {
   "metadata": {
    "ExecuteTime": {
     "end_time": "2024-06-20T13:06:41.890147Z",
     "start_time": "2024-06-20T13:06:41.887284Z"
    }
   },
   "cell_type": "code",
   "source": [
    "T = (1, 2, 3, 4, 4, 1, 1, 1, 2, 5)\n",
    "T.index(2), T.count(1)"
   ],
   "id": "a9167d4a1b5781b7",
   "outputs": [
    {
     "data": {
      "text/plain": [
       "(1, 4)"
      ]
     },
     "execution_count": 112,
     "metadata": {},
     "output_type": "execute_result"
    }
   ],
   "execution_count": 112
  },
  {
   "metadata": {},
   "cell_type": "markdown",
   "source": "内部可变对象还是可变的",
   "id": "279a1287936340ea"
  },
  {
   "metadata": {
    "ExecuteTime": {
     "end_time": "2024-06-20T13:08:19.281509Z",
     "start_time": "2024-06-20T13:08:19.279291Z"
    }
   },
   "cell_type": "code",
   "source": [
    "T = (1, 2, [3, 4])\n",
    "T[2][0] = 'spam'\n",
    "T"
   ],
   "id": "f89b9d3e9e739f0b",
   "outputs": [
    {
     "data": {
      "text/plain": [
       "(1, 2, ['spam', 4])"
      ]
     },
     "execution_count": 116,
     "metadata": {},
     "output_type": "execute_result"
    }
   ],
   "execution_count": 116
  },
  {
   "metadata": {
    "ExecuteTime": {
     "end_time": "2024-06-20T13:14:32.067776Z",
     "start_time": "2024-06-20T13:14:32.065855Z"
    }
   },
   "cell_type": "code",
   "source": [
    "from collections import namedtuple\n",
    "\n",
    "Rec = namedtuple('Rec', ['name', 'age', 'job'])"
   ],
   "id": "7d03d83c74bf3ae",
   "outputs": [],
   "execution_count": 121
  },
  {
   "metadata": {
    "ExecuteTime": {
     "end_time": "2024-06-20T13:15:11.625289Z",
     "start_time": "2024-06-20T13:15:11.623365Z"
    }
   },
   "cell_type": "code",
   "source": [
    "bob = Rec('Bob', job=['dev', 'manager'], age=40)\n",
    "print(bob)"
   ],
   "id": "231f5be23de4db97",
   "outputs": [
    {
     "name": "stdout",
     "output_type": "stream",
     "text": [
      "Rec(name='Bob', age=40, job=['dev', 'manager'])\n"
     ]
    }
   ],
   "execution_count": 124
  },
  {
   "metadata": {
    "ExecuteTime": {
     "end_time": "2024-06-20T13:15:13.434414Z",
     "start_time": "2024-06-20T13:15:13.430790Z"
    }
   },
   "cell_type": "code",
   "source": "bob[0], bob[2], bob.name",
   "id": "78bb40e33e55132f",
   "outputs": [
    {
     "data": {
      "text/plain": [
       "('Bob', ['dev', 'manager'], 'Bob')"
      ]
     },
     "execution_count": 125,
     "metadata": {},
     "output_type": "execute_result"
    }
   ],
   "execution_count": 125
  },
  {
   "metadata": {
    "ExecuteTime": {
     "end_time": "2024-06-20T13:17:19.318013Z",
     "start_time": "2024-06-20T13:17:19.316148Z"
    }
   },
   "cell_type": "code",
   "source": [
    "name, age, job = bob\n",
    "print(name, age, job, sep='\\t')"
   ],
   "id": "a090a67f9d2fead9",
   "outputs": [
    {
     "name": "stdout",
     "output_type": "stream",
     "text": [
      "Bob\t40\t['dev', 'manager']\n"
     ]
    }
   ],
   "execution_count": 135
  },
  {
   "metadata": {},
   "cell_type": "markdown",
   "source": "# 解包",
   "id": "19a8ec1841422a64"
  },
  {
   "metadata": {
    "ExecuteTime": {
     "end_time": "2024-06-20T13:16:00.847597Z",
     "start_time": "2024-06-20T13:16:00.844398Z"
    }
   },
   "cell_type": "code",
   "source": [
    "T = (1, 2, 3, 4)\n",
    "*T"
   ],
   "id": "a89c82eb31341591",
   "outputs": [
    {
     "ename": "SyntaxError",
     "evalue": "can't use starred expression here (1056201476.py, line 2)",
     "output_type": "error",
     "traceback": [
      "\u001B[0;36m  Cell \u001B[0;32mIn[128], line 2\u001B[0;36m\u001B[0m\n\u001B[0;31m    *T\u001B[0m\n\u001B[0m    ^\u001B[0m\n\u001B[0;31mSyntaxError\u001B[0m\u001B[0;31m:\u001B[0m can't use starred expression here\n"
     ]
    }
   ],
   "execution_count": 128
  },
  {
   "metadata": {},
   "cell_type": "markdown",
   "source": "# 文件",
   "id": "10bf9bb55a09624f"
  },
  {
   "metadata": {
    "ExecuteTime": {
     "end_time": "2024-06-20T13:53:53.180951Z",
     "start_time": "2024-06-20T13:53:53.165314Z"
    }
   },
   "cell_type": "code",
   "source": [
    "myfile = open('myfile.txt', 'w')\n",
    "myfile.write('hello text file.\\n')"
   ],
   "id": "6658df138a190dd7",
   "outputs": [
    {
     "data": {
      "text/plain": [
       "17"
      ]
     },
     "execution_count": 136,
     "metadata": {},
     "output_type": "execute_result"
    }
   ],
   "execution_count": 136
  },
  {
   "metadata": {
    "ExecuteTime": {
     "end_time": "2024-06-20T13:54:14.862864Z",
     "start_time": "2024-06-20T13:54:14.860514Z"
    }
   },
   "cell_type": "code",
   "source": "myfile.write('good bye text file.\\n')",
   "id": "368719dc22a9d1e6",
   "outputs": [
    {
     "data": {
      "text/plain": [
       "20"
      ]
     },
     "execution_count": 137,
     "metadata": {},
     "output_type": "execute_result"
    }
   ],
   "execution_count": 137
  },
  {
   "metadata": {
    "ExecuteTime": {
     "end_time": "2024-06-20T13:54:27.694176Z",
     "start_time": "2024-06-20T13:54:27.692220Z"
    }
   },
   "cell_type": "code",
   "source": "myfile.close()",
   "id": "f2e402ecf826499",
   "outputs": [],
   "execution_count": 138
  },
  {
   "metadata": {
    "ExecuteTime": {
     "end_time": "2024-06-20T13:54:44.380971Z",
     "start_time": "2024-06-20T13:54:44.378233Z"
    }
   },
   "cell_type": "code",
   "source": [
    "myfile = open('myfile.txt', 'r')\n",
    "myfile.readline()"
   ],
   "id": "5a00c77be132b049",
   "outputs": [
    {
     "data": {
      "text/plain": [
       "'hello text file.\\n'"
      ]
     },
     "execution_count": 139,
     "metadata": {},
     "output_type": "execute_result"
    }
   ],
   "execution_count": 139
  },
  {
   "metadata": {
    "ExecuteTime": {
     "end_time": "2024-06-20T13:54:49.928569Z",
     "start_time": "2024-06-20T13:54:49.926332Z"
    }
   },
   "cell_type": "code",
   "source": "myfile.readline()",
   "id": "9a533ecf15f23e18",
   "outputs": [
    {
     "data": {
      "text/plain": [
       "'good bye text file.\\n'"
      ]
     },
     "execution_count": 140,
     "metadata": {},
     "output_type": "execute_result"
    }
   ],
   "execution_count": 140
  },
  {
   "metadata": {
    "ExecuteTime": {
     "end_time": "2024-06-20T13:55:29.309061Z",
     "start_time": "2024-06-20T13:55:29.307336Z"
    }
   },
   "cell_type": "code",
   "source": [
    "myfile.readline()\n",
    "myfile.close()"
   ],
   "id": "afe018ce0ac8c929",
   "outputs": [],
   "execution_count": 142
  },
  {
   "metadata": {
    "ExecuteTime": {
     "end_time": "2024-06-20T13:55:50.148357Z",
     "start_time": "2024-06-20T13:55:50.145143Z"
    }
   },
   "cell_type": "code",
   "source": "open('myfile.txt').read()",
   "id": "452700d96fad16e7",
   "outputs": [
    {
     "data": {
      "text/plain": [
       "'hello text file.\\ngood bye text file.\\n'"
      ]
     },
     "execution_count": 143,
     "metadata": {},
     "output_type": "execute_result"
    }
   ],
   "execution_count": 143
  },
  {
   "metadata": {
    "ExecuteTime": {
     "end_time": "2024-06-20T13:56:01.526894Z",
     "start_time": "2024-06-20T13:56:01.524902Z"
    }
   },
   "cell_type": "code",
   "source": "print(open('myfile.txt').read())",
   "id": "a82330af2bf035ae",
   "outputs": [
    {
     "name": "stdout",
     "output_type": "stream",
     "text": [
      "hello text file.\n",
      "good bye text file.\n",
      "\n"
     ]
    }
   ],
   "execution_count": 144
  },
  {
   "metadata": {
    "ExecuteTime": {
     "end_time": "2024-06-20T13:56:32.509825Z",
     "start_time": "2024-06-20T13:56:32.507514Z"
    }
   },
   "cell_type": "code",
   "source": [
    "for line in open('myfile.txt'):\n",
    "    print(line, end='')"
   ],
   "id": "59ca3c583df6a76e",
   "outputs": [
    {
     "name": "stdout",
     "output_type": "stream",
     "text": [
      "hello text file.\n",
      "good bye text file.\n"
     ]
    }
   ],
   "execution_count": 147
  },
  {
   "metadata": {
    "ExecuteTime": {
     "end_time": "2024-06-21T01:34:19.950505Z",
     "start_time": "2024-06-21T01:34:19.939110Z"
    }
   },
   "cell_type": "code",
   "source": "open('myfile.txt').readlines()",
   "id": "a80c2b3a349f67e1",
   "outputs": [
    {
     "data": {
      "text/plain": [
       "['hello text file.\\n', 'good bye text file.\\n']"
      ]
     },
     "execution_count": 152,
     "metadata": {},
     "output_type": "execute_result"
    }
   ],
   "execution_count": 152
  },
  {
   "metadata": {},
   "cell_type": "markdown",
   "source": "二进制文件",
   "id": "13a8f4a46ebed690"
  },
  {
   "metadata": {
    "ExecuteTime": {
     "end_time": "2024-06-20T13:59:05.520812Z",
     "start_time": "2024-06-20T13:59:05.518728Z"
    }
   },
   "cell_type": "code",
   "source": [
    "data = open('data.bin', 'wb')\n",
    "data.write(b'spam')\n",
    "data.close()"
   ],
   "id": "29bede2ae08aae64",
   "outputs": [],
   "execution_count": 150
  },
  {
   "metadata": {
    "ExecuteTime": {
     "end_time": "2024-06-20T13:59:22.281024Z",
     "start_time": "2024-06-20T13:59:22.278448Z"
    }
   },
   "cell_type": "code",
   "source": "open('data.bin', 'rb').read()",
   "id": "325a1335e23f6fe6",
   "outputs": [
    {
     "data": {
      "text/plain": [
       "b'spam'"
      ]
     },
     "execution_count": 151,
     "metadata": {},
     "output_type": "execute_result"
    }
   ],
   "execution_count": 151
  },
  {
   "metadata": {
    "ExecuteTime": {
     "end_time": "2024-06-21T01:38:17.062365Z",
     "start_time": "2024-06-21T01:38:17.058957Z"
    }
   },
   "cell_type": "code",
   "source": [
    "x, y, z = 34, 35, 36\n",
    "s = 'spam'\n",
    "d = {'a': 1, 'b': 2}\n",
    "l = [1, 2, 3]\n",
    "\n",
    "F = open('datafile.txt', 'w')\n",
    "F.write(f'{x},{y},{z}\\n')\n",
    "F.write(f'{s}\\n')\n",
    "F.write(f'{d}\\n')\n",
    "F.write(f'{l}\\n')\n",
    "F.close()"
   ],
   "id": "2900304b1b950e02",
   "outputs": [],
   "execution_count": 155
  },
  {
   "metadata": {
    "ExecuteTime": {
     "end_time": "2024-06-21T01:38:17.586278Z",
     "start_time": "2024-06-21T01:38:17.583627Z"
    }
   },
   "cell_type": "code",
   "source": "open('datafile.txt').read()",
   "id": "5a03e8a835f6018d",
   "outputs": [
    {
     "data": {
      "text/plain": [
       "\"34,35,36\\nspam\\n{'a': 1, 'b': 2}\\n[1, 2, 3]\\n\""
      ]
     },
     "execution_count": 156,
     "metadata": {},
     "output_type": "execute_result"
    }
   ],
   "execution_count": 156
  },
  {
   "metadata": {
    "ExecuteTime": {
     "end_time": "2024-06-21T01:38:31.807694Z",
     "start_time": "2024-06-21T01:38:31.805326Z"
    }
   },
   "cell_type": "code",
   "source": "print(open('datafile.txt').read())",
   "id": "e741d90da79dd291",
   "outputs": [
    {
     "name": "stdout",
     "output_type": "stream",
     "text": [
      "34,35,36\n",
      "spam\n",
      "{'a': 1, 'b': 2}\n",
      "[1, 2, 3]\n",
      "\n"
     ]
    }
   ],
   "execution_count": 157
  },
  {
   "metadata": {
    "ExecuteTime": {
     "end_time": "2024-06-21T02:10:17.881162Z",
     "start_time": "2024-06-21T02:10:17.878198Z"
    }
   },
   "cell_type": "code",
   "source": [
    "F = open('datafile.txt', 'r')\n",
    "line = F.readline().rstrip()\n",
    "print(line)\n",
    "print(line.split(','))\n",
    "num = [int(x) for x in line.split(',')]\n",
    "print(num)\n",
    "line = F.readline().rstrip()\n",
    "print(line)\n",
    "# 从头开始\n",
    "F.seek(0)\n",
    "print(F.readline())"
   ],
   "id": "9c3be9d176ab3da5",
   "outputs": [
    {
     "name": "stdout",
     "output_type": "stream",
     "text": [
      "34,35,36\n",
      "['34', '35', '36']\n",
      "[34, 35, 36]\n",
      "spam\n",
      "34,35,36\n",
      "\n"
     ]
    }
   ],
   "execution_count": 222
  },
  {
   "metadata": {
    "ExecuteTime": {
     "end_time": "2024-06-21T01:44:18.045852Z",
     "start_time": "2024-06-21T01:44:18.043085Z"
    }
   },
   "cell_type": "code",
   "source": [
    "F = open('datafile.txt', 'r')\n",
    "lines = F.readlines()\n",
    "print(lines)\n",
    "f_d = lines[2]\n",
    "print(f_d)\n",
    "read_d = eval(f_d)\n",
    "print(type(read_d), read_d)"
   ],
   "id": "2e9e4e0013ceec07",
   "outputs": [
    {
     "name": "stdout",
     "output_type": "stream",
     "text": [
      "['34,35,36\\n', 'spam\\n', \"{'a': 1, 'b': 2}\\n\", '[1, 2, 3]\\n']\n",
      "{'a': 1, 'b': 2}\n",
      "\n",
      "<class 'dict'> {'a': 1, 'b': 2}\n"
     ]
    }
   ],
   "execution_count": 175
  },
  {
   "metadata": {},
   "cell_type": "markdown",
   "source": "使用 pickle",
   "id": "ea39fe204bdb870b"
  },
  {
   "metadata": {
    "ExecuteTime": {
     "end_time": "2024-06-21T01:51:00.582893Z",
     "start_time": "2024-06-21T01:51:00.577570Z"
    }
   },
   "cell_type": "code",
   "source": [
    "import pickle\n",
    "\n",
    "d = {'a': 1, 'b': 2}\n",
    "l = [1, 2, 3]\n",
    "s = {5, 6, 7}\n",
    "F = open('datafile.pkl', 'wb')\n",
    "pickle.dump(d, F)\n",
    "pickle.dump(l, F)\n",
    "pickle.dump(s, F)\n",
    "F.close()"
   ],
   "id": "256950ba72eb047f",
   "outputs": [],
   "execution_count": 178
  },
  {
   "metadata": {
    "ExecuteTime": {
     "end_time": "2024-06-21T01:51:22.330471Z",
     "start_time": "2024-06-21T01:51:22.328197Z"
    }
   },
   "cell_type": "code",
   "source": [
    "F = open('datafile.pkl', 'rb')\n",
    "d = pickle.load(F)\n",
    "l = pickle.load(F)\n",
    "print(d, l)"
   ],
   "id": "85a90903f80351c",
   "outputs": [
    {
     "name": "stdout",
     "output_type": "stream",
     "text": [
      "{'a': 1, 'b': 2} [1, 2, 3]\n"
     ]
    }
   ],
   "execution_count": 182
  },
  {
   "metadata": {},
   "cell_type": "markdown",
   "source": "使用 shelve",
   "id": "5b8eff998cc28719"
  },
  {
   "metadata": {
    "ExecuteTime": {
     "end_time": "2024-06-21T01:53:22.030919Z",
     "start_time": "2024-06-21T01:53:21.961340Z"
    }
   },
   "cell_type": "code",
   "source": [
    "import shelve\n",
    "\n",
    "d = {'a': 1, 'b': 2}\n",
    "l = [1, 2, 3]\n",
    "s = {5, 6, 7}\n",
    "F = shelve.open('datafile.shelve')\n",
    "F['d'] = d\n",
    "F['l'] = l\n",
    "F['s'] = s\n",
    "F.close()"
   ],
   "id": "8c3c479d79d63081",
   "outputs": [],
   "execution_count": 183
  },
  {
   "metadata": {
    "ExecuteTime": {
     "end_time": "2024-06-21T01:54:24.619835Z",
     "start_time": "2024-06-21T01:54:24.616972Z"
    }
   },
   "cell_type": "code",
   "source": [
    "F = shelve.open('datafile.shelve')\n",
    "for key in F:\n",
    "    print(key, F[key], sep=':')"
   ],
   "id": "7c11902e75ba1e85",
   "outputs": [
    {
     "name": "stdout",
     "output_type": "stream",
     "text": [
      "d:{'a': 1, 'b': 2}\n",
      "l:[1, 2, 3]\n",
      "s:{5, 6, 7}\n"
     ]
    }
   ],
   "execution_count": 189
  },
  {
   "metadata": {},
   "cell_type": "markdown",
   "source": "使用 json",
   "id": "bfdb408aa489e6e4"
  },
  {
   "metadata": {
    "ExecuteTime": {
     "end_time": "2024-06-21T01:55:57.047533Z",
     "start_time": "2024-06-21T01:55:57.045666Z"
    }
   },
   "cell_type": "code",
   "source": [
    "name = {'first': 'Bob', 'last': 'Smith'}\n",
    "rec = {'name': name, 'job': ['dev', 'mgr'], 'age': 40.5}"
   ],
   "id": "cc817e8278058a9",
   "outputs": [],
   "execution_count": 191
  },
  {
   "metadata": {
    "ExecuteTime": {
     "end_time": "2024-06-21T01:56:01.195456Z",
     "start_time": "2024-06-21T01:56:01.193668Z"
    }
   },
   "cell_type": "code",
   "source": "import json",
   "id": "cefc6a385c731251",
   "outputs": [],
   "execution_count": 192
  },
  {
   "metadata": {
    "ExecuteTime": {
     "end_time": "2024-06-21T01:56:13.880416Z",
     "start_time": "2024-06-21T01:56:13.878305Z"
    }
   },
   "cell_type": "code",
   "source": "json.dumps(rec)",
   "id": "1dceba6ddd7a6296",
   "outputs": [
    {
     "data": {
      "text/plain": [
       "'{\"name\": {\"first\": \"Bob\", \"last\": \"Smith\"}, \"job\": [\"dev\", \"mgr\"], \"age\": 40.5}'"
      ]
     },
     "execution_count": 193,
     "metadata": {},
     "output_type": "execute_result"
    }
   ],
   "execution_count": 193
  },
  {
   "metadata": {
    "ExecuteTime": {
     "end_time": "2024-06-21T01:58:56.745081Z",
     "start_time": "2024-06-21T01:58:56.743142Z"
    }
   },
   "cell_type": "code",
   "source": [
    "S = json.dumps(rec)\n",
    "print(type(S), S)\n",
    "o = json.loads(S)\n",
    "print(type(o), o)"
   ],
   "id": "7f81f10659359833",
   "outputs": [
    {
     "name": "stdout",
     "output_type": "stream",
     "text": [
      "<class 'str'> {\"name\": {\"first\": \"Bob\", \"last\": \"Smith\"}, \"job\": [\"dev\", \"mgr\"], \"age\": 40.5}\n",
      "<class 'dict'> {'name': {'first': 'Bob', 'last': 'Smith'}, 'job': ['dev', 'mgr'], 'age': 40.5}\n"
     ]
    }
   ],
   "execution_count": 200
  },
  {
   "metadata": {
    "ExecuteTime": {
     "end_time": "2024-06-21T02:00:19.932655Z",
     "start_time": "2024-06-21T02:00:19.928249Z"
    }
   },
   "cell_type": "code",
   "source": [
    "json.dump(rec, fp=open('textjson.txt', 'w'), indent=4)\n",
    "print(open('textjson.txt').read())"
   ],
   "id": "2b859106e46bfc89",
   "outputs": [
    {
     "name": "stdout",
     "output_type": "stream",
     "text": [
      "{\n",
      "    \"name\": {\n",
      "        \"first\": \"Bob\",\n",
      "        \"last\": \"Smith\"\n",
      "    },\n",
      "    \"job\": [\n",
      "        \"dev\",\n",
      "        \"mgr\"\n",
      "    ],\n",
      "    \"age\": 40.5\n",
      "}\n"
     ]
    }
   ],
   "execution_count": 201
  },
  {
   "metadata": {
    "ExecuteTime": {
     "end_time": "2024-06-21T02:00:52.131927Z",
     "start_time": "2024-06-21T02:00:52.129045Z"
    }
   },
   "cell_type": "code",
   "source": [
    "P = json.load(open('textjson.txt'))\n",
    "print(type(P), P, sep='\\n')"
   ],
   "id": "9b0d704ae9e1f1d6",
   "outputs": [
    {
     "name": "stdout",
     "output_type": "stream",
     "text": [
      "<class 'dict'>\n",
      "{'name': {'first': 'Bob', 'last': 'Smith'}, 'job': ['dev', 'mgr'], 'age': 40.5}\n"
     ]
    }
   ],
   "execution_count": 203
  },
  {
   "metadata": {},
   "cell_type": "markdown",
   "source": "使用struct ",
   "id": "a24e1501df36abb1"
  },
  {
   "metadata": {
    "ExecuteTime": {
     "end_time": "2024-06-21T02:02:15.743792Z",
     "start_time": "2024-06-21T02:02:15.740120Z"
    }
   },
   "cell_type": "code",
   "source": "import struct",
   "id": "8db180d0b0a436e4",
   "outputs": [],
   "execution_count": 204
  },
  {
   "metadata": {},
   "cell_type": "markdown",
   "source": [
    "在Python的struct模块中，>i4sh是一个格式字符串，用于说明如何解析或打包数据：\n",
    "\n",
    "\\>：表示大端字节序（Big-endian），即高位字节存放在内存的低地址处。\n",
    "\n",
    "i：表示整数，通常为4字节（取决于平台和Python的位数）。\n",
    "\n",
    "4s：表示一个固定长度为4字节的字符串（字符数量小于等于4，不足部分会用空格填充）。\n",
    "\n",
    "h：表示短整数（short），通常为2字节。\n",
    "\n",
    "综上，>i4sh指定了一个大端字节序的数据结构，它由一个整数、一个长度为4字节的字符串和一个短整数组成"
   ],
   "id": "2d35cb34c2719583"
  },
  {
   "metadata": {
    "ExecuteTime": {
     "end_time": "2024-06-21T02:08:50.567139Z",
     "start_time": "2024-06-21T02:08:50.564038Z"
    }
   },
   "cell_type": "code",
   "source": [
    "F = open('strcut.bin', 'wb')\n",
    "l = [1, 2, [3, 4], {'a': 5, 'b': 6}, {'g', 'b'}]\n",
    "# data = struct.pack('>i4sh', 7, b'spam',8)\n",
    "data = struct.pack('>i4sh', 7, b'spam', 8)\n",
    "data"
   ],
   "id": "8447402f886afa8d",
   "outputs": [
    {
     "data": {
      "text/plain": [
       "b'\\x00\\x00\\x00\\x07spam\\x00\\x08'"
      ]
     },
     "execution_count": 219,
     "metadata": {},
     "output_type": "execute_result"
    }
   ],
   "execution_count": 219
  },
  {
   "metadata": {},
   "cell_type": "markdown",
   "source": "# 引用",
   "id": "ba35612bc5e334a9"
  },
  {
   "metadata": {
    "ExecuteTime": {
     "end_time": "2024-06-21T02:21:57.485116Z",
     "start_time": "2024-06-21T02:21:57.482964Z"
    }
   },
   "cell_type": "code",
   "source": [
    "x = [1, 2, 3]\n",
    "y = [x, 4, 6]\n",
    "z = {'a': 1, 'b': x}\n",
    "print(z)\n",
    "x[0] = 'zzz'\n",
    "print(y, z)"
   ],
   "id": "2db724ee5c833cd7",
   "outputs": [
    {
     "name": "stdout",
     "output_type": "stream",
     "text": [
      "{'a': 1, 'b': [1, 2, 3]}\n",
      "[['zzz', 2, 3], 4, 6] {'a': 1, 'b': ['zzz', 2, 3]}\n"
     ]
    }
   ],
   "execution_count": 224
  },
  {
   "metadata": {
    "ExecuteTime": {
     "end_time": "2024-06-21T02:22:42.131831Z",
     "start_time": "2024-06-21T02:22:42.126226Z"
    }
   },
   "cell_type": "code",
   "source": [
    "x = [1, 2, 3]\n",
    "y = [x.copy(), 4, 6]\n",
    "z = {'a': 1, 'b': x}\n",
    "x[0] = 'zzz'\n",
    "print(y, z)"
   ],
   "id": "2f1b44780fe3bafc",
   "outputs": [
    {
     "name": "stdout",
     "output_type": "stream",
     "text": [
      "[[1, 2, 3], 4, 6] {'a': 1, 'b': ['zzz', 2, 3]}\n"
     ]
    }
   ],
   "execution_count": 226
  },
  {
   "metadata": {
    "ExecuteTime": {
     "end_time": "2024-06-21T02:25:53.797335Z",
     "start_time": "2024-06-21T02:25:53.794206Z"
    }
   },
   "cell_type": "code",
   "source": [
    "x = [1, 2, [3, 4], {'a': 5, 'b': 6}]\n",
    "# 浅拷贝\n",
    "y = [x.copy(), 4, 6]\n",
    "x[2][0] = 'changed'\n",
    "x[0] = 'changed'\n",
    "print(y)\n",
    "# 浅拷贝\n",
    "x = [1, 2, [3, 4], {'a': 5, 'b': 6}]\n",
    "y = [x[:], 4, 6]\n",
    "x[2][0] = 'changed'\n",
    "x[0] = 'changed'\n",
    "print(y)\n",
    "# 引用\n",
    "x = [1, 2, [3, 4], {'a': 5, 'b': 6}]\n",
    "y = [x, 4, 6]\n",
    "x[2][0] = 'changed'\n",
    "x[0] = 'changed'\n",
    "print(y)"
   ],
   "id": "dafac1350d9a464a",
   "outputs": [
    {
     "name": "stdout",
     "output_type": "stream",
     "text": [
      "[[1, 2, ['changed', 4], {'a': 5, 'b': 6}], 4, 6]\n",
      "[[1, 2, ['changed', 4], {'a': 5, 'b': 6}], 4, 6]\n",
      "[['changed', 2, ['changed', 4], {'a': 5, 'b': 6}], 4, 6]\n"
     ]
    }
   ],
   "execution_count": 231
  },
  {
   "metadata": {
    "ExecuteTime": {
     "end_time": "2024-06-21T02:29:41.568094Z",
     "start_time": "2024-06-21T02:29:41.563253Z"
    }
   },
   "cell_type": "code",
   "source": [
    "# 深拷贝\n",
    "import copy\n",
    "\n",
    "x = [1, 2, [3, 4], {'a': 5, 'b': 6}]\n",
    "y = [copy.deepcopy(x), 4, 6]\n",
    "x[2][0] = 'changed'\n",
    "x[0] = 'changed'\n",
    "print(y)"
   ],
   "id": "e1ff3a9179d8411c",
   "outputs": [
    {
     "name": "stdout",
     "output_type": "stream",
     "text": [
      "[[1, 2, [3, 4], {'a': 5, 'b': 6}], 4, 6]\n"
     ]
    }
   ],
   "execution_count": 234
  },
  {
   "metadata": {
    "ExecuteTime": {
     "end_time": "2024-06-21T02:30:56.633105Z",
     "start_time": "2024-06-21T02:30:56.627579Z"
    }
   },
   "cell_type": "code",
   "source": [
    "L1 = [1, 2, ('a', 3)]\n",
    "L2 = [1, 2, ('a', 3)]\n",
    "L1 == L2, L1 is L2"
   ],
   "id": "fd91c9067fe2e5af",
   "outputs": [
    {
     "data": {
      "text/plain": [
       "(True, False)"
      ]
     },
     "execution_count": 235,
     "metadata": {},
     "output_type": "execute_result"
    }
   ],
   "execution_count": 235
  },
  {
   "metadata": {
    "ExecuteTime": {
     "end_time": "2024-06-21T02:31:08.642836Z",
     "start_time": "2024-06-21T02:31:08.638226Z"
    }
   },
   "cell_type": "code",
   "source": [
    "# 短字符串做了优化，共用空间\n",
    "S1 = 'spam'\n",
    "S2 = 'spam'\n",
    "S1 == S2, S1 is S2"
   ],
   "id": "8368b59670b9759c",
   "outputs": [
    {
     "data": {
      "text/plain": [
       "(True, True)"
      ]
     },
     "execution_count": 236,
     "metadata": {},
     "output_type": "execute_result"
    }
   ],
   "execution_count": 236
  },
  {
   "metadata": {
    "ExecuteTime": {
     "end_time": "2024-06-21T02:32:19.833948Z",
     "start_time": "2024-06-21T02:32:19.831546Z"
    }
   },
   "cell_type": "code",
   "source": [
    "# 长字符不同\n",
    "S1 = 'a longer string'\n",
    "S2 = 'a longer string'\n",
    "S1 == S2, S1 is S2"
   ],
   "id": "bc16a36e06ff1e81",
   "outputs": [
    {
     "data": {
      "text/plain": [
       "(True, False)"
      ]
     },
     "execution_count": 240,
     "metadata": {},
     "output_type": "execute_result"
    }
   ],
   "execution_count": 240
  },
  {
   "metadata": {},
   "cell_type": "markdown",
   "source": "对比",
   "id": "492fa0c1a157c8d9"
  },
  {
   "metadata": {
    "ExecuteTime": {
     "end_time": "2024-06-21T02:48:57.466107Z",
     "start_time": "2024-06-21T02:48:57.461456Z"
    }
   },
   "cell_type": "code",
   "source": [
    "d1 = {'a': 1, 'b': 2}\n",
    "d2 = {'a': 1, 'b': 3}\n",
    "print(d1 == d2)\n",
    "print(sorted(d1.items()) < sorted(d2.items()))\n",
    "print(sorted(d1), sorted(d2))\n",
    "print(sorted(d1.items()), sorted(d2.items()))"
   ],
   "id": "b07896fa11bb8315",
   "outputs": [
    {
     "name": "stdout",
     "output_type": "stream",
     "text": [
      "False\n",
      "True\n",
      "['a', 'b'] ['a', 'b']\n",
      "[('a', 1), ('b', 2)] [('a', 1), ('b', 3)]\n"
     ]
    }
   ],
   "execution_count": 249
  },
  {
   "metadata": {
    "ExecuteTime": {
     "end_time": "2024-06-21T02:49:39.997381Z",
     "start_time": "2024-06-21T02:49:39.993409Z"
    }
   },
   "cell_type": "code",
   "source": [
    "d1 = [('a', 1), ('b', 2)]\n",
    "d2 = [('a', 1), ('b', 3)]\n",
    "print(d1 == d2)\n",
    "print(d1 < d2)"
   ],
   "id": "c766c7555494f84d",
   "outputs": [
    {
     "name": "stdout",
     "output_type": "stream",
     "text": [
      "False\n",
      "True\n"
     ]
    }
   ],
   "execution_count": 250
  },
  {
   "metadata": {
    "ExecuteTime": {
     "end_time": "2024-06-21T03:13:34.432034Z",
     "start_time": "2024-06-21T03:13:34.422449Z"
    }
   },
   "cell_type": "code",
   "source": [
    "L = [3, 4, 5]\n",
    "# 复制\n",
    "Y = L * 4\n",
    "# 引用\n",
    "Z = [L] * 4\n",
    "print(Y, Z, sep='\\n')\n",
    "L[0] = 'changed'\n",
    "print(Y, Z, sep='\\n')"
   ],
   "id": "967f0237453f4bad",
   "outputs": [
    {
     "name": "stdout",
     "output_type": "stream",
     "text": [
      "[3, 4, 5, 3, 4, 5, 3, 4, 5, 3, 4, 5]\n",
      "[[3, 4, 5], [3, 4, 5], [3, 4, 5], [3, 4, 5]]\n",
      "[3, 4, 5, 3, 4, 5, 3, 4, 5, 3, 4, 5]\n",
      "[['changed', 4, 5], ['changed', 4, 5], ['changed', 4, 5], ['changed', 4, 5]]\n"
     ]
    }
   ],
   "execution_count": 261
  },
  {
   "metadata": {
    "ExecuteTime": {
     "end_time": "2024-06-21T03:13:35.391341Z",
     "start_time": "2024-06-21T03:13:35.388922Z"
    }
   },
   "cell_type": "code",
   "source": [
    "L = [3, 4, 5]\n",
    "# 外部复制，内部引用\n",
    "Z = [list(L)] * 4\n",
    "print(Z)\n",
    "Z[0][1] = 'changed'\n",
    "print(Z)\n",
    "# 外部复制，内部复制\n",
    "Z = [list(L) for _ in range(4)]\n",
    "print(Z)\n",
    "Z[0][1] = 'changed'\n",
    "print(Z)"
   ],
   "id": "fc1d006188bb2256",
   "outputs": [
    {
     "name": "stdout",
     "output_type": "stream",
     "text": [
      "[[3, 4, 5], [3, 4, 5], [3, 4, 5], [3, 4, 5]]\n",
      "[[3, 'changed', 5], [3, 'changed', 5], [3, 'changed', 5], [3, 'changed', 5]]\n",
      "[[3, 4, 5], [3, 4, 5], [3, 4, 5], [3, 4, 5]]\n",
      "[[3, 'changed', 5], [3, 4, 5], [3, 4, 5], [3, 4, 5]]\n"
     ]
    }
   ],
   "execution_count": 262
  },
  {
   "metadata": {},
   "cell_type": "markdown",
   "source": "# 练习",
   "id": "606c64ba8ee2a3ab"
  },
  {
   "metadata": {
    "ExecuteTime": {
     "end_time": "2024-06-21T03:16:40.795373Z",
     "start_time": "2024-06-21T03:16:40.792403Z"
    }
   },
   "cell_type": "code",
   "source": [
    "s = (3,4,5)\n",
    "s = (1,)+s[1:]\n",
    "s"
   ],
   "id": "6af2e2c533f696d4",
   "outputs": [
    {
     "data": {
      "text/plain": [
       "(1, 4, 5)"
      ]
     },
     "execution_count": 264,
     "metadata": {},
     "output_type": "execute_result"
    }
   ],
   "execution_count": 264
  },
  {
   "metadata": {
    "ExecuteTime": {
     "end_time": "2024-06-21T03:17:57.293786Z",
     "start_time": "2024-06-21T03:17:57.291817Z"
    }
   },
   "cell_type": "code",
   "source": "S[:0]",
   "id": "2b2dc58e66c65e8f",
   "outputs": [
    {
     "data": {
      "text/plain": [
       "''"
      ]
     },
     "execution_count": 265,
     "metadata": {},
     "output_type": "execute_result"
    }
   ],
   "execution_count": 265
  },
  {
   "metadata": {
    "ExecuteTime": {
     "end_time": "2024-06-21T03:22:16.652983Z",
     "start_time": "2024-06-21T03:22:16.650767Z"
    }
   },
   "cell_type": "code",
   "source": [
    "s = [1,2,3,4,5,6,7]\n",
    "print(s[3:1])\n",
    "s[3:0]='?' # 插入,s.insert(3,'?')\n",
    "print(s)"
   ],
   "id": "63ae1c4d7a2c7ed3",
   "outputs": [
    {
     "name": "stdout",
     "output_type": "stream",
     "text": [
      "[]\n",
      "[1, 2, 3, '?', '?', 4, 5, 6, 7]\n"
     ]
    }
   ],
   "execution_count": 277
  },
  {
   "metadata": {
    "ExecuteTime": {
     "end_time": "2024-06-21T03:24:42.393322Z",
     "start_time": "2024-06-21T03:24:42.389931Z"
    }
   },
   "cell_type": "code",
   "source": [
    "D = {}\n",
    "D[1] = 0\n",
    "D[2] = 1\n",
    "print(D)"
   ],
   "id": "f4f6cb69677ceb84",
   "outputs": [
    {
     "name": "stdout",
     "output_type": "stream",
     "text": [
      "{1: 0, 2: 1}\n"
     ]
    }
   ],
   "execution_count": 278
  },
  {
   "metadata": {
    "ExecuteTime": {
     "end_time": "2024-06-21T03:24:46.489449Z",
     "start_time": "2024-06-21T03:24:46.487055Z"
    }
   },
   "cell_type": "code",
   "source": "D[1]",
   "id": "3c1c1d9ede20e68c",
   "outputs": [
    {
     "data": {
      "text/plain": [
       "0"
      ]
     },
     "execution_count": 279,
     "metadata": {},
     "output_type": "execute_result"
    }
   ],
   "execution_count": 279
  },
  {
   "metadata": {
    "ExecuteTime": {
     "end_time": "2024-06-21T03:25:30.222614Z",
     "start_time": "2024-06-21T03:25:30.210888Z"
    }
   },
   "cell_type": "code",
   "source": [
    "l=[1,2,3]\n",
    "d = {l: 0}\n",
    "l+d"
   ],
   "id": "5afbc5eb9049fe9c",
   "outputs": [
    {
     "ename": "TypeError",
     "evalue": "unhashable type: 'list'",
     "output_type": "error",
     "traceback": [
      "\u001B[0;31m---------------------------------------------------------------------------\u001B[0m",
      "\u001B[0;31mTypeError\u001B[0m                                 Traceback (most recent call last)",
      "Cell \u001B[0;32mIn[280], line 2\u001B[0m\n\u001B[1;32m      1\u001B[0m l\u001B[38;5;241m=\u001B[39m[\u001B[38;5;241m1\u001B[39m,\u001B[38;5;241m2\u001B[39m,\u001B[38;5;241m3\u001B[39m]\n\u001B[0;32m----> 2\u001B[0m d \u001B[38;5;241m=\u001B[39m {l: \u001B[38;5;241m0\u001B[39m}\n\u001B[1;32m      3\u001B[0m l\u001B[38;5;241m+\u001B[39md\n",
      "\u001B[0;31mTypeError\u001B[0m: unhashable type: 'list'"
     ]
    }
   ],
   "execution_count": 280
  },
  {
   "metadata": {
    "ExecuteTime": {
     "end_time": "2024-06-21T03:29:28.680626Z",
     "start_time": "2024-06-21T03:29:28.675164Z"
    }
   },
   "cell_type": "code",
   "source": [
    "s = 'spam'\n",
    "type(s[0][0][0][0])"
   ],
   "id": "55d08cc4b4e6de02",
   "outputs": [
    {
     "data": {
      "text/plain": [
       "str"
      ]
     },
     "execution_count": 284,
     "metadata": {},
     "output_type": "execute_result"
    }
   ],
   "execution_count": 284
  },
  {
   "metadata": {
    "ExecuteTime": {
     "end_time": "2024-06-21T03:32:06.333295Z",
     "start_time": "2024-06-21T03:32:06.330025Z"
    }
   },
   "cell_type": "code",
   "source": [
    "f = open('textfile.txt', 'w')\n",
    "f.write('hello ')\n",
    "f.write('world')\n",
    "f.close()\n",
    "f = open('textfile.txt', 'r').readlines()\n",
    "f"
   ],
   "id": "c6d46008aed89f50",
   "outputs": [
    {
     "data": {
      "text/plain": [
       "['hello world']"
      ]
     },
     "execution_count": 287,
     "metadata": {},
     "output_type": "execute_result"
    }
   ],
   "execution_count": 287
  },
  {
   "metadata": {
    "ExecuteTime": {
     "end_time": "2024-06-21T03:33:36.577515Z",
     "start_time": "2024-06-21T03:33:36.574436Z"
    }
   },
   "cell_type": "code",
   "source": [
    "f = open('textfile.txt', 'w')\n",
    "f.writelines('hello ')\n",
    "f.writelines('world')\n",
    "f.close()\n",
    "line = open('textfile.txt', 'r').readlines()\n",
    "line"
   ],
   "id": "aaed135190ecfadd",
   "outputs": [
    {
     "data": {
      "text/plain": [
       "['hello world']"
      ]
     },
     "execution_count": 291,
     "metadata": {},
     "output_type": "execute_result"
    }
   ],
   "execution_count": 291
  },
  {
   "metadata": {
    "ExecuteTime": {
     "end_time": "2024-06-21T03:34:44.708171Z",
     "start_time": "2024-06-21T03:34:44.702329Z"
    }
   },
   "cell_type": "code",
   "source": [
    "lines = ['hello', 'world']\n",
    "f = open('textfile.txt', 'w')\n",
    "f.writelines(lines)\n",
    "f.close()\n",
    "line = open('textfile.txt', 'r').readlines()\n",
    "line"
   ],
   "id": "8435fec28e1b8147",
   "outputs": [
    {
     "data": {
      "text/plain": [
       "['helloworld']"
      ]
     },
     "execution_count": 296,
     "metadata": {},
     "output_type": "execute_result"
    }
   ],
   "execution_count": 296
  },
  {
   "metadata": {},
   "cell_type": "code",
   "outputs": [],
   "execution_count": null,
   "source": "",
   "id": "536ef3767b77bcce"
  }
 ],
 "metadata": {
  "kernelspec": {
   "display_name": "Python 3",
   "language": "python",
   "name": "python3"
  },
  "language_info": {
   "codemirror_mode": {
    "name": "ipython",
    "version": 2
   },
   "file_extension": ".py",
   "mimetype": "text/x-python",
   "name": "python",
   "nbconvert_exporter": "python",
   "pygments_lexer": "ipython2",
   "version": "2.7.6"
  }
 },
 "nbformat": 4,
 "nbformat_minor": 5
}
