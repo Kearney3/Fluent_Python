{
 "cells": [
  {
   "metadata": {},
   "cell_type": "markdown",
   "source": "# String",
   "id": "f5b6ca344a0ed756"
  },
  {
   "cell_type": "code",
   "id": "initial_id",
   "metadata": {
    "collapsed": true,
    "ExecuteTime": {
     "end_time": "2024-07-08T02:03:51.547058Z",
     "start_time": "2024-07-08T02:03:51.543104Z"
    }
   },
   "source": [
    "for c in 'spam':\n",
    "    print(c, end=' ')"
   ],
   "execution_count": 1,
   "outputs": []
  },
  {
   "metadata": {
    "ExecuteTime": {
     "end_time": "2024-07-08T02:03:51.930818Z",
     "start_time": "2024-07-08T02:03:51.927363Z"
    }
   },
   "cell_type": "code",
   "source": [
    "S = 'slice'\n",
    "S[:], S[1:3], S[:-1], S[-1]"
   ],
   "id": "94ff80933dc0d3e0",
   "execution_count": 2,
   "outputs": []
  },
  {
   "metadata": {
    "ExecuteTime": {
     "end_time": "2024-07-08T02:03:51.991239Z",
     "start_time": "2024-07-08T02:03:51.988609Z"
    }
   },
   "cell_type": "code",
   "source": "S[::-1]",
   "id": "de02e52cce4cce4",
   "execution_count": 3,
   "outputs": []
  },
  {
   "metadata": {
    "ExecuteTime": {
     "end_time": "2024-07-08T02:03:52.037354Z",
     "start_time": "2024-07-08T02:03:52.035037Z"
    }
   },
   "cell_type": "code",
   "source": "S[3:1:-1], S[1:3]",
   "id": "fb3aaeb68b1e5a74",
   "execution_count": 4,
   "outputs": []
  },
  {
   "metadata": {
    "ExecuteTime": {
     "end_time": "2024-07-08T02:03:52.089209Z",
     "start_time": "2024-07-08T02:03:52.087009Z"
    }
   },
   "cell_type": "code",
   "source": [
    "# look up ASCII table\n",
    "ord('a'), ord('A'), ord(' '), ord('€'), ord('你')"
   ],
   "id": "9659c6cddbba4bcf",
   "execution_count": 5,
   "outputs": []
  },
  {
   "metadata": {
    "ExecuteTime": {
     "end_time": "2024-07-08T02:03:52.141148Z",
     "start_time": "2024-07-08T02:03:52.138405Z"
    }
   },
   "cell_type": "code",
   "source": [
    "# convert from ASCII\n",
    "chr(97), chr(65), chr(32), chr(8364), chr(20320)"
   ],
   "id": "b998341101a3c467",
   "execution_count": 6,
   "outputs": []
  },
  {
   "metadata": {
    "ExecuteTime": {
     "end_time": "2024-07-08T02:03:52.223596Z",
     "start_time": "2024-07-08T02:03:52.221465Z"
    }
   },
   "cell_type": "code",
   "source": "int(2.5)",
   "id": "27eadf93d5b9cfd5",
   "execution_count": 7,
   "outputs": []
  },
  {
   "metadata": {},
   "cell_type": "markdown",
   "source": "# Function",
   "id": "e8a7fa02082ec323"
  },
  {
   "metadata": {
    "ExecuteTime": {
     "end_time": "2024-07-08T02:03:52.274114Z",
     "start_time": "2024-07-08T02:03:52.271933Z"
    }
   },
   "cell_type": "code",
   "source": [
    "S = 'spammmy'\n",
    "S.replace('m', 'x')"
   ],
   "id": "36b61034515015c",
   "execution_count": 8,
   "outputs": []
  },
  {
   "metadata": {
    "ExecuteTime": {
     "end_time": "2024-07-08T02:03:52.305468Z",
     "start_time": "2024-07-08T02:03:52.303159Z"
    }
   },
   "cell_type": "code",
   "source": [
    "S = 'aa$$bb$$cc$$dd'\n",
    "S.replace('$', 'spam')"
   ],
   "id": "5973042ee3fed399",
   "execution_count": 9,
   "outputs": []
  },
  {
   "metadata": {
    "ExecuteTime": {
     "end_time": "2024-07-08T02:03:52.388322Z",
     "start_time": "2024-07-08T02:03:52.386369Z"
    }
   },
   "cell_type": "code",
   "source": [
    "S = 'aa$$bb$$cc$$dd'\n",
    "where = S.find('$')\n",
    "print(where)"
   ],
   "id": "59e4f421cb3c0e2f",
   "execution_count": 10,
   "outputs": []
  },
  {
   "metadata": {
    "ExecuteTime": {
     "end_time": "2024-07-08T02:03:52.437200Z",
     "start_time": "2024-07-08T02:03:52.434953Z"
    }
   },
   "cell_type": "code",
   "source": [
    "S = 'aa$$bb$$cc$$dd'\n",
    "S.replace('$', 'spam', 2)"
   ],
   "id": "1747f08eaf11d573",
   "execution_count": 11,
   "outputs": []
  },
  {
   "metadata": {
    "ExecuteTime": {
     "end_time": "2024-07-08T02:03:52.526802Z",
     "start_time": "2024-07-08T02:03:52.524591Z"
    }
   },
   "cell_type": "code",
   "source": [
    "S = 'aa$$bb$$cc$$dd'\n",
    "S.split('$$')"
   ],
   "id": "4a217f28a6dc2cfa",
   "execution_count": 12,
   "outputs": []
  },
  {
   "metadata": {
    "ExecuteTime": {
     "end_time": "2024-07-08T02:03:52.564065Z",
     "start_time": "2024-07-08T02:03:52.561677Z"
    }
   },
   "cell_type": "code",
   "source": [
    "line = 'Hello there.\\n'\n",
    "line.rstrip(), line.isalpha(), line.upper(), line.endswith('.')"
   ],
   "id": "55025885faf7e06b",
   "execution_count": 13,
   "outputs": []
  },
  {
   "metadata": {},
   "cell_type": "markdown",
   "source": "## Formatting",
   "id": "128d9e08f8ba7a91"
  },
  {
   "metadata": {
    "ExecuteTime": {
     "end_time": "2024-07-08T02:03:52.644426Z",
     "start_time": "2024-07-08T02:03:52.642429Z"
    }
   },
   "cell_type": "code",
   "source": [
    "x = 1234\n",
    "print(f'{x:06}')\n",
    "print(f'{x:-6}')\n",
    "print(f'{x:6}')\n",
    "print(f'{x:010.2f}')\n",
    "f = 12100001.345\n",
    "print(f'{f:010.2%}')\n",
    "print(f'{f:,.2f}')\n",
    "print(f'{f:,.4f}')\n",
    "print(f'{f:$>20.4f}')"
   ],
   "id": "32694d866a31992b",
   "execution_count": 14,
   "outputs": []
  },
  {
   "metadata": {
    "ExecuteTime": {
     "end_time": "2024-07-08T02:03:52.677907Z",
     "start_time": "2024-07-08T02:03:52.676044Z"
    }
   },
   "cell_type": "code",
   "source": [
    "S = 'spam'\n",
    "print(f\"{S:$>10}\")\n",
    "print(f\"{S:$>10} = {S:^<10}\")"
   ],
   "id": "f4c72ffb168f0078",
   "execution_count": 15,
   "outputs": []
  },
  {
   "metadata": {
    "ExecuteTime": {
     "end_time": "2024-07-08T02:03:52.766924Z",
     "start_time": "2024-07-08T02:03:52.764477Z"
    }
   },
   "cell_type": "code",
   "source": "int('0x1f', 16)",
   "id": "f6a8cd73feee3970",
   "execution_count": 16,
   "outputs": []
  },
  {
   "metadata": {
    "ExecuteTime": {
     "end_time": "2024-07-08T02:03:52.788145Z",
     "start_time": "2024-07-08T02:03:52.786326Z"
    }
   },
   "cell_type": "code",
   "source": [
    "D = {'name': 'bob', 'job': 'teacher'}\n",
    "print('{name} is {job}'.format(**D))"
   ],
   "id": "35afc2240d964a59",
   "execution_count": 17,
   "outputs": []
  },
  {
   "metadata": {
    "ExecuteTime": {
     "end_time": "2024-07-08T02:03:52.848544Z",
     "start_time": "2024-07-08T02:03:52.846655Z"
    }
   },
   "cell_type": "code",
   "source": [
    "S = 's,pa,m'\n",
    "S.split(',')[1], S[S.find('pa'): S.find('pa') + 2]"
   ],
   "id": "730924a8c535fdbd",
   "execution_count": 18,
   "outputs": []
  },
  {
   "metadata": {},
   "cell_type": "markdown",
   "source": "# List",
   "id": "2990f1b56af599eb"
  },
  {
   "metadata": {
    "ExecuteTime": {
     "end_time": "2024-07-08T02:03:52.881965Z",
     "start_time": "2024-07-08T02:03:52.879834Z"
    }
   },
   "cell_type": "code",
   "source": "list(range(-10, 10))",
   "id": "e403c60e3bce1caa",
   "execution_count": 19,
   "outputs": []
  },
  {
   "metadata": {
    "ExecuteTime": {
     "end_time": "2024-07-08T02:03:52.967299Z",
     "start_time": "2024-07-08T02:03:52.964687Z"
    }
   },
   "cell_type": "code",
   "source": [
    "L = [1, 2, 3, 4, 5]\n",
    "print((L.pop(), L))\n",
    "print((L.remove(2), L))\n",
    "print((L.insert(2, 10), L))\n",
    "print((L.append(100), L))\n",
    "print((L.extend([100, 200]), L))\n",
    "print('*' * 10)\n",
    "print((L.index(100), L))\n",
    "print((L.count(100), L))\n",
    "del L[4:6]\n",
    "print(L)\n",
    "print(L.reverse(), L)"
   ],
   "id": "1be78fc868a5bef6",
   "execution_count": 20,
   "outputs": []
  },
  {
   "metadata": {
    "ExecuteTime": {
     "end_time": "2024-07-08T02:03:53.022001Z",
     "start_time": "2024-07-08T02:03:53.020163Z"
    }
   },
   "cell_type": "code",
   "source": [
    "L = [1, 2, 3, 4, 5]\n",
    "L[1:2] = []  # equal to del L[1:2] or del L[1]\n",
    "print(L)"
   ],
   "id": "62f9194ada3fde52",
   "execution_count": 21,
   "outputs": []
  },
  {
   "metadata": {
    "ExecuteTime": {
     "end_time": "2024-07-08T02:03:53.096817Z",
     "start_time": "2024-07-08T02:03:53.095112Z"
    }
   },
   "cell_type": "code",
   "source": [
    "L = [1, 2, 3, 4, 5]\n",
    "del L[1]\n",
    "print(L)"
   ],
   "id": "8a3a8bdfa63aac4a",
   "execution_count": 22,
   "outputs": []
  },
  {
   "metadata": {
    "ExecuteTime": {
     "end_time": "2024-07-08T02:03:53.132761Z",
     "start_time": "2024-07-08T02:03:53.130934Z"
    }
   },
   "cell_type": "code",
   "source": [
    "L = [1, 2, 3, 4, 5]\n",
    "L[1:2] = [7, 8]\n",
    "print(L)"
   ],
   "id": "beb93f30757eac2d",
   "execution_count": 23,
   "outputs": []
  },
  {
   "metadata": {
    "ExecuteTime": {
     "end_time": "2024-07-08T02:03:53.181939Z",
     "start_time": "2024-07-08T02:03:53.179880Z"
    }
   },
   "cell_type": "code",
   "source": [
    "L = ['abc', 'Adc', 'ABe']\n",
    "L.sort()\n",
    "L"
   ],
   "id": "2c333a9e5c90057d",
   "execution_count": 24,
   "outputs": []
  },
  {
   "metadata": {
    "ExecuteTime": {
     "end_time": "2024-07-08T02:03:53.232963Z",
     "start_time": "2024-07-08T02:03:53.230914Z"
    }
   },
   "cell_type": "code",
   "source": [
    "L = ['abc', 'Adc', 'ABe']\n",
    "L.sort(key=str.lower, reverse=False)\n",
    "L"
   ],
   "id": "6f1ffa5423f99490",
   "execution_count": 25,
   "outputs": []
  },
  {
   "metadata": {
    "ExecuteTime": {
     "end_time": "2024-07-08T02:03:53.282618Z",
     "start_time": "2024-07-08T02:03:53.280264Z"
    }
   },
   "cell_type": "code",
   "source": [
    "L = ['abc', 'Adc', 'ABe']\n",
    "sorted(L, key=str.lower, reverse=False), L"
   ],
   "id": "ca1772bbad6cdc24",
   "execution_count": 26,
   "outputs": []
  },
  {
   "metadata": {
    "ExecuteTime": {
     "end_time": "2024-07-08T02:03:53.328617Z",
     "start_time": "2024-07-08T02:03:53.326328Z"
    }
   },
   "cell_type": "code",
   "source": [
    "L = ['abc', 'Adc', 'ABe']\n",
    "sorted([s.lower() for s in L], reverse=False)"
   ],
   "id": "9b4b392e931dc7cb",
   "execution_count": 27,
   "outputs": []
  },
  {
   "metadata": {
    "ExecuteTime": {
     "end_time": "2024-07-08T02:03:53.392616Z",
     "start_time": "2024-07-08T02:03:53.390441Z"
    }
   },
   "cell_type": "code",
   "source": [
    "L = ['abc', 'Adc', 'ABe']\n",
    "list(reversed(L)), L"
   ],
   "id": "c050ac1c81d095eb",
   "execution_count": 28,
   "outputs": []
  },
  {
   "metadata": {},
   "cell_type": "markdown",
   "source": "# Dict",
   "id": "93e8af53b11ef71e"
  },
  {
   "metadata": {
    "ExecuteTime": {
     "end_time": "2024-07-08T02:03:53.414441Z",
     "start_time": "2024-07-08T02:03:53.412281Z"
    }
   },
   "cell_type": "code",
   "source": [
    "key_list = ['a', 'b', 'c']\n",
    "value_list = [1, 2, 3, 4]\n",
    "zip(key_list, value_list)"
   ],
   "id": "37aa1ff34ced2e7d",
   "execution_count": 29,
   "outputs": []
  },
  {
   "metadata": {
    "ExecuteTime": {
     "end_time": "2024-07-08T02:03:53.487094Z",
     "start_time": "2024-07-08T02:03:53.484725Z"
    }
   },
   "cell_type": "code",
   "source": "dict(zip(key_list, value_list))",
   "id": "443bab12aa584353",
   "execution_count": 30,
   "outputs": []
  },
  {
   "metadata": {
    "ExecuteTime": {
     "end_time": "2024-07-08T02:03:53.521789Z",
     "start_time": "2024-07-08T02:03:53.519511Z"
    }
   },
   "cell_type": "code",
   "source": "dict([('name', 'bob'), ('job', 'teacher')])",
   "id": "f1cda0239281d92",
   "execution_count": 31,
   "outputs": []
  },
  {
   "metadata": {
    "ExecuteTime": {
     "end_time": "2024-07-08T02:03:53.616235Z",
     "start_time": "2024-07-08T02:03:53.614191Z"
    }
   },
   "cell_type": "code",
   "source": "dict.fromkeys(key_list), dict.fromkeys(key_list, 0)",
   "id": "36ddd657dd8243e9",
   "execution_count": 32,
   "outputs": []
  },
  {
   "metadata": {
    "ExecuteTime": {
     "end_time": "2024-07-08T02:03:53.657231Z",
     "start_time": "2024-07-08T02:03:53.654969Z"
    }
   },
   "cell_type": "code",
   "source": [
    "D = dict(zip(key_list, value_list))\n",
    "D.items()"
   ],
   "id": "939844359c734584",
   "execution_count": 33,
   "outputs": []
  },
  {
   "metadata": {
    "ExecuteTime": {
     "end_time": "2024-07-08T02:03:53.725049Z",
     "start_time": "2024-07-08T02:03:53.722830Z"
    }
   },
   "cell_type": "code",
   "source": "D.keys()",
   "id": "92b25d10550c6874",
   "execution_count": 34,
   "outputs": []
  },
  {
   "metadata": {
    "ExecuteTime": {
     "end_time": "2024-07-08T02:03:53.745897Z",
     "start_time": "2024-07-08T02:03:53.743548Z"
    }
   },
   "cell_type": "code",
   "source": "iter(D.keys()), iter(D.keys())",
   "id": "90899873095b66e8",
   "execution_count": 35,
   "outputs": []
  },
  {
   "metadata": {
    "ExecuteTime": {
     "end_time": "2024-07-08T02:03:53.832474Z",
     "start_time": "2024-07-08T02:03:53.830202Z"
    }
   },
   "cell_type": "code",
   "source": "D.get('a'), D.get('d', 'default')",
   "id": "1cb2b2479aa2db55",
   "execution_count": 36,
   "outputs": []
  },
  {
   "metadata": {
    "ExecuteTime": {
     "end_time": "2024-07-08T02:03:53.865269Z",
     "start_time": "2024-07-08T02:03:53.863160Z"
    }
   },
   "cell_type": "code",
   "source": [
    "D1 = {'apple': 1, 'banana': 2, 'orange': 3}\n",
    "D2 = {'pear': 4, 'peach': 5}\n",
    "D1.update(D2)\n",
    "print(D1)"
   ],
   "id": "ae678079188079ed",
   "execution_count": 37,
   "outputs": []
  },
  {
   "metadata": {
    "ExecuteTime": {
     "end_time": "2024-07-08T02:03:53.923316Z",
     "start_time": "2024-07-08T02:03:53.921232Z"
    }
   },
   "cell_type": "code",
   "source": [
    "D1 = {'apple': 1, 'banana': 2, 'orange': 3}\n",
    "D2 = {'pear': 4, 'peach': 5}\n",
    "D3 = {'apple': 4, 'peach': 5}\n",
    "D1.update(D3)\n",
    "print(D1)"
   ],
   "id": "8e8460fcfcfcc54c",
   "execution_count": 38,
   "outputs": []
  },
  {
   "metadata": {
    "ExecuteTime": {
     "end_time": "2024-07-08T02:03:53.962825Z",
     "start_time": "2024-07-08T02:03:53.960756Z"
    }
   },
   "cell_type": "code",
   "source": [
    "D1 = {'apple': 1, 'banana': 2, 'orange': 3, 'peach': 4}\n",
    "D1.pop('peach')\n",
    "print(D1)\n",
    "D1.pop('apple')\n",
    "print(D1)\n",
    "D1.popitem()\n",
    "print(D1)"
   ],
   "id": "1eeff93754b45e0a",
   "execution_count": 39,
   "outputs": []
  },
  {
   "metadata": {
    "ExecuteTime": {
     "end_time": "2024-07-08T02:03:54.079830Z",
     "start_time": "2024-07-08T02:03:54.077814Z"
    }
   },
   "cell_type": "code",
   "source": [
    "movie_table = {\n",
    "    '1990': ['The Godfather', 'The Godfather: Part II'],\n",
    "    '1997': ['The Wolf of Wallstreet'],\n",
    "    '2008': ['The Dark Knight'],\n",
    "    '2012': ['The Prestige']\n",
    "}\n",
    "for year in movie_table:\n",
    "    print(f'{year}\\t{movie_table[year]}')"
   ],
   "id": "486c4138b785a0f0",
   "execution_count": 40,
   "outputs": []
  },
  {
   "metadata": {
    "ExecuteTime": {
     "end_time": "2024-07-08T02:03:54.123829Z",
     "start_time": "2024-07-08T02:03:54.119048Z"
    }
   },
   "cell_type": "code",
   "source": "[title for (year, title) in movie_table.items() if year == '1990']",
   "id": "6eba4d758962f489",
   "execution_count": 41,
   "outputs": []
  },
  {
   "metadata": {
    "ExecuteTime": {
     "end_time": "2024-07-08T02:03:54.238666Z",
     "start_time": "2024-07-08T02:03:54.236466Z"
    }
   },
   "cell_type": "code",
   "source": [
    "D = {x: x ** 2 for x in range(10)}\n",
    "D"
   ],
   "id": "51e4c5b2b3a87fb3",
   "execution_count": 42,
   "outputs": []
  },
  {
   "metadata": {
    "ExecuteTime": {
     "end_time": "2024-07-08T02:03:54.261189Z",
     "start_time": "2024-07-08T02:03:54.258940Z"
    }
   },
   "cell_type": "code",
   "source": [
    "D = {c.lower(): c + '!' for c in ['Egg', 'Spam', 'Bacon']}\n",
    "D"
   ],
   "id": "7c31a9e400677c58",
   "execution_count": 43,
   "outputs": []
  },
  {
   "metadata": {},
   "cell_type": "markdown",
   "source": "字典视图会变化",
   "id": "2e97f371b2194932"
  },
  {
   "metadata": {
    "ExecuteTime": {
     "end_time": "2024-07-08T02:03:54.337740Z",
     "start_time": "2024-07-08T02:03:54.335479Z"
    }
   },
   "cell_type": "code",
   "source": [
    "D = {'apple': 1, 'banana': 2, 'orange': 3, 'peach': 4}\n",
    "k = D.keys()\n",
    "v = D.values()\n",
    "print(k, v)\n",
    "D.pop('apple')\n",
    "print(k, v)"
   ],
   "id": "a83b4b52e9bc24d4",
   "execution_count": 44,
   "outputs": []
  },
  {
   "metadata": {
    "ExecuteTime": {
     "end_time": "2024-07-08T02:03:54.380358Z",
     "start_time": "2024-07-08T02:03:54.378271Z"
    }
   },
   "cell_type": "code",
   "source": [
    "# 键视图可变\n",
    "k | set(['x'])"
   ],
   "id": "ef28caf907516639",
   "execution_count": 45,
   "outputs": []
  },
  {
   "metadata": {
    "ExecuteTime": {
     "end_time": "2024-07-08T02:03:54.621947Z",
     "start_time": "2024-07-08T02:03:54.433951Z"
    }
   },
   "cell_type": "code",
   "source": [
    "# 值视图不可变\n",
    "v | set([5])"
   ],
   "id": "5ac12e43738ebff5",
   "execution_count": 46,
   "outputs": []
  },
  {
   "metadata": {
    "ExecuteTime": {
     "end_time": "2024-07-08T02:03:54.623250Z",
     "start_time": "2024-07-08T02:03:54.623193Z"
    }
   },
   "cell_type": "code",
   "source": [
    "# 项视图可变\n",
    "D.items() | set([5, 6])"
   ],
   "id": "857c8d991ba7f833",
   "execution_count": null,
   "outputs": []
  },
  {
   "metadata": {
    "ExecuteTime": {
     "end_time": "2024-07-08T02:03:54.623911Z",
     "start_time": "2024-07-08T02:03:54.623718Z"
    }
   },
   "cell_type": "code",
   "source": [
    "s = set([1, 2, 3])\n",
    "s.add(4)\n",
    "print(s)\n",
    "s | set([5])"
   ],
   "id": "a29bec20681bd38f",
   "execution_count": null,
   "outputs": []
  },
  {
   "metadata": {
    "ExecuteTime": {
     "end_time": "2024-07-08T02:03:54.624579Z",
     "start_time": "2024-07-08T02:03:54.624526Z"
    }
   },
   "cell_type": "code",
   "source": [
    "D = {'b': 2, 'a': 1, 'c': 3}\n",
    "print(sorted(D))\n",
    "for k in sorted(D):\n",
    "    print(k, D[k])\n",
    "new_D = {k: D[k] for k in sorted(D)}\n",
    "print(new_D)"
   ],
   "id": "8dcccaca405039e6",
   "execution_count": null,
   "outputs": []
  },
  {
   "metadata": {},
   "cell_type": "markdown",
   "source": "# Tuple",
   "id": "782788042bfbadaf"
  },
  {
   "metadata": {},
   "cell_type": "code",
   "source": [
    "T = tuple('spam')\n",
    "T"
   ],
   "id": "fb4f69a1c5e7ed3f",
   "execution_count": null,
   "outputs": []
  },
  {
   "metadata": {
    "ExecuteTime": {
     "end_time": "2024-07-08T02:03:54.639994Z",
     "start_time": "2024-07-08T02:03:54.633136Z"
    }
   },
   "cell_type": "code",
   "source": "T * 3",
   "id": "eb9b79e90809fb0e",
   "execution_count": 47,
   "outputs": []
  },
  {
   "metadata": {
    "ExecuteTime": {
     "end_time": "2024-07-08T02:03:54.653204Z",
     "start_time": "2024-07-08T02:03:54.650908Z"
    }
   },
   "cell_type": "code",
   "source": "(1, 2) + (3, 4)",
   "id": "c66694028f3a1ef4",
   "execution_count": 48,
   "outputs": []
  },
  {
   "metadata": {
    "ExecuteTime": {
     "end_time": "2024-07-08T02:03:55.218583Z",
     "start_time": "2024-07-08T02:03:55.211586Z"
    }
   },
   "cell_type": "code",
   "source": "T[1:3]",
   "id": "8ba6618fd9655e6e",
   "execution_count": 49,
   "outputs": []
  },
  {
   "metadata": {
    "ExecuteTime": {
     "end_time": "2024-07-08T02:03:55.335599Z",
     "start_time": "2024-07-08T02:03:55.333908Z"
    }
   },
   "cell_type": "code",
   "source": [
    "x = (40)\n",
    "print(type(x))\n",
    "x = (40,)\n",
    "print(type(x))"
   ],
   "id": "f2481e55ebc7c86f",
   "execution_count": 50,
   "outputs": []
  },
  {
   "metadata": {
    "ExecuteTime": {
     "end_time": "2024-07-08T02:03:55.379125Z",
     "start_time": "2024-07-08T02:03:55.377003Z"
    }
   },
   "cell_type": "code",
   "source": [
    "T = (1, 2, 3, 4, 4, 1, 1, 1, 2, 5)\n",
    "T.index(2), T.count(1)"
   ],
   "id": "a9167d4a1b5781b7",
   "execution_count": 51,
   "outputs": []
  },
  {
   "metadata": {},
   "cell_type": "markdown",
   "source": "内部可变对象还是可变的",
   "id": "279a1287936340ea"
  },
  {
   "metadata": {
    "ExecuteTime": {
     "end_time": "2024-07-08T02:03:55.439939Z",
     "start_time": "2024-07-08T02:03:55.437711Z"
    }
   },
   "cell_type": "code",
   "source": [
    "T = (1, 2, [3, 4])\n",
    "T[2][0] = 'spam'\n",
    "T"
   ],
   "id": "f89b9d3e9e739f0b",
   "execution_count": 52,
   "outputs": []
  },
  {
   "metadata": {
    "ExecuteTime": {
     "end_time": "2024-07-08T02:03:55.470455Z",
     "start_time": "2024-07-08T02:03:55.468683Z"
    }
   },
   "cell_type": "code",
   "source": [
    "from collections import namedtuple\n",
    "\n",
    "Rec = namedtuple('Rec', ['name', 'age', 'job'])"
   ],
   "id": "7d03d83c74bf3ae",
   "execution_count": 53,
   "outputs": []
  },
  {
   "metadata": {
    "ExecuteTime": {
     "end_time": "2024-07-08T02:03:55.532179Z",
     "start_time": "2024-07-08T02:03:55.530099Z"
    }
   },
   "cell_type": "code",
   "source": [
    "bob = Rec('Bob', job=['dev', 'manager'], age=40)\n",
    "print(bob)"
   ],
   "id": "231f5be23de4db97",
   "execution_count": 54,
   "outputs": []
  },
  {
   "metadata": {
    "ExecuteTime": {
     "end_time": "2024-07-08T02:03:55.565811Z",
     "start_time": "2024-07-08T02:03:55.563422Z"
    }
   },
   "cell_type": "code",
   "source": "bob[0], bob[2], bob.name",
   "id": "78bb40e33e55132f",
   "execution_count": 55,
   "outputs": []
  },
  {
   "metadata": {
    "ExecuteTime": {
     "end_time": "2024-07-08T02:03:55.627283Z",
     "start_time": "2024-07-08T02:03:55.625302Z"
    }
   },
   "cell_type": "code",
   "source": [
    "name, age, job = bob\n",
    "print(name, age, job, sep='\\t')"
   ],
   "id": "a090a67f9d2fead9",
   "execution_count": 56,
   "outputs": []
  },
  {
   "metadata": {},
   "cell_type": "markdown",
   "source": "# 解包",
   "id": "19a8ec1841422a64"
  },
  {
   "metadata": {
    "ExecuteTime": {
     "end_time": "2024-07-08T02:03:55.723352Z",
     "start_time": "2024-07-08T02:03:55.721169Z"
    }
   },
   "cell_type": "code",
   "source": [
    "T = (1, 2, 3, 4)\n",
    "*T"
   ],
   "id": "a89c82eb31341591",
   "execution_count": 57,
   "outputs": []
  },
  {
   "metadata": {},
   "cell_type": "markdown",
   "source": "# 文件",
   "id": "10bf9bb55a09624f"
  },
  {
   "metadata": {
    "ExecuteTime": {
     "end_time": "2024-07-08T02:03:55.826469Z",
     "start_time": "2024-07-08T02:03:55.821422Z"
    }
   },
   "cell_type": "code",
   "source": [
    "myfile = open('myfile.txt', 'w')\n",
    "myfile.write('hello text file.\\n')"
   ],
   "id": "6658df138a190dd7",
   "execution_count": 58,
   "outputs": []
  },
  {
   "metadata": {
    "ExecuteTime": {
     "end_time": "2024-07-08T02:03:55.882696Z",
     "start_time": "2024-07-08T02:03:55.880314Z"
    }
   },
   "cell_type": "code",
   "source": "myfile.write('good bye text file.\\n')",
   "id": "368719dc22a9d1e6",
   "execution_count": 59,
   "outputs": []
  },
  {
   "metadata": {
    "ExecuteTime": {
     "end_time": "2024-07-08T02:03:55.962902Z",
     "start_time": "2024-07-08T02:03:55.961329Z"
    }
   },
   "cell_type": "code",
   "source": "myfile.close()",
   "id": "f2e402ecf826499",
   "execution_count": 60,
   "outputs": []
  },
  {
   "metadata": {
    "ExecuteTime": {
     "end_time": "2024-07-08T02:03:56.012537Z",
     "start_time": "2024-07-08T02:03:56.010212Z"
    }
   },
   "cell_type": "code",
   "source": [
    "myfile = open('myfile.txt', 'r')\n",
    "myfile.readline()"
   ],
   "id": "5a00c77be132b049",
   "execution_count": 61,
   "outputs": []
  },
  {
   "metadata": {
    "ExecuteTime": {
     "end_time": "2024-07-08T02:03:56.078938Z",
     "start_time": "2024-07-08T02:03:56.076866Z"
    }
   },
   "cell_type": "code",
   "source": "myfile.readline()",
   "id": "9a533ecf15f23e18",
   "execution_count": 62,
   "outputs": []
  },
  {
   "metadata": {
    "ExecuteTime": {
     "end_time": "2024-07-08T02:03:56.099193Z",
     "start_time": "2024-07-08T02:03:56.097409Z"
    }
   },
   "cell_type": "code",
   "source": [
    "myfile.readline()\n",
    "myfile.close()"
   ],
   "id": "afe018ce0ac8c929",
   "execution_count": 63,
   "outputs": []
  },
  {
   "metadata": {
    "ExecuteTime": {
     "end_time": "2024-07-08T02:03:56.150712Z",
     "start_time": "2024-07-08T02:03:56.148176Z"
    }
   },
   "cell_type": "code",
   "source": "open('myfile.txt').read()",
   "id": "452700d96fad16e7",
   "execution_count": 64,
   "outputs": []
  },
  {
   "metadata": {
    "ExecuteTime": {
     "end_time": "2024-07-08T02:03:56.217982Z",
     "start_time": "2024-07-08T02:03:56.215854Z"
    }
   },
   "cell_type": "code",
   "source": "print(open('myfile.txt').read())",
   "id": "a82330af2bf035ae",
   "execution_count": 65,
   "outputs": []
  },
  {
   "metadata": {
    "ExecuteTime": {
     "end_time": "2024-07-08T02:03:56.282116Z",
     "start_time": "2024-07-08T02:03:56.279961Z"
    }
   },
   "cell_type": "code",
   "source": [
    "for line in open('myfile.txt'):\n",
    "    print(line, end='')"
   ],
   "id": "59ca3c583df6a76e",
   "execution_count": 66,
   "outputs": []
  },
  {
   "metadata": {
    "ExecuteTime": {
     "end_time": "2024-07-08T02:06:57.675164Z",
     "start_time": "2024-07-08T02:06:57.670132Z"
    }
   },
   "cell_type": "code",
   "source": "open('myfile.txt').readlines()",
   "id": "48e7a1bf69670f11",
   "execution_count": 109,
   "outputs": []
  },
  {
   "metadata": {
    "ExecuteTime": {
     "end_time": "2024-07-08T02:07:03.179778Z",
     "start_time": "2024-07-08T02:07:03.177168Z"
    }
   },
   "cell_type": "code",
   "source": "len(open('myfile.txt').readlines())",
   "id": "c5a079312bf98c6c",
   "execution_count": null,
   "outputs": []
  },
  {
   "metadata": {
    "ExecuteTime": {
     "end_time": "2024-07-08T02:07:30.344371Z",
     "start_time": "2024-07-08T02:07:30.341758Z"
    }
   },
   "cell_type": "code",
   "source": "open('myfile.txt').read()",
   "id": "5cb63e7f05eabb0b",
   "execution_count": 112,
   "outputs": []
  },
  {
   "metadata": {
    "ExecuteTime": {
     "end_time": "2024-07-08T02:07:31.430822Z",
     "start_time": "2024-07-08T02:07:31.428217Z"
    }
   },
   "cell_type": "code",
   "source": "len(open('myfile.txt').read())",
   "id": "50594e907e0e30fb",
   "execution_count": 113,
   "outputs": []
  },
  {
   "metadata": {
    "ExecuteTime": {
     "end_time": "2024-07-08T02:07:50.304221Z",
     "start_time": "2024-07-08T02:07:50.300984Z"
    }
   },
   "cell_type": "code",
   "source": [
    "file = open('myfile.txt')\n",
    "def count_lines(file_handler):\n",
    "    file_handler.seek(0)\n",
    "    return len(file.readlines())\n",
    "\n",
    "def count_chars(file_handler):\n",
    "    file_handler.seek(0)\n",
    "    return len(file_handler.read())\n",
    "\n",
    "count_lines(file), count_chars(file)"
   ],
   "id": "a80c2b3a349f67e1",
   "execution_count": 114,
   "outputs": []
  },
  {
   "metadata": {},
   "cell_type": "markdown",
   "source": "二进制文件",
   "id": "13a8f4a46ebed690"
  },
  {
   "metadata": {
    "ExecuteTime": {
     "end_time": "2024-07-08T02:03:56.385908Z",
     "start_time": "2024-07-08T02:03:56.383683Z"
    }
   },
   "cell_type": "code",
   "source": [
    "data = open('data.bin', 'wb')\n",
    "data.write(b'spam')\n",
    "data.close()"
   ],
   "id": "29bede2ae08aae64",
   "execution_count": 68,
   "outputs": []
  },
  {
   "metadata": {
    "ExecuteTime": {
     "end_time": "2024-07-08T02:03:56.407159Z",
     "start_time": "2024-07-08T02:03:56.404725Z"
    }
   },
   "cell_type": "code",
   "source": "open('data.bin', 'rb').read()",
   "id": "325a1335e23f6fe6",
   "execution_count": 69,
   "outputs": []
  },
  {
   "metadata": {
    "ExecuteTime": {
     "end_time": "2024-07-08T02:03:56.444052Z",
     "start_time": "2024-07-08T02:03:56.441350Z"
    }
   },
   "cell_type": "code",
   "source": [
    "x, y, z = 34, 35, 36\n",
    "s = 'spam'\n",
    "d = {'a': 1, 'b': 2}\n",
    "l = [1, 2, 3]\n",
    "\n",
    "F = open('datafile.txt', 'w')\n",
    "F.write(f'{x},{y},{z}\\n')\n",
    "F.write(f'{s}\\n')\n",
    "F.write(f'{d}\\n')\n",
    "F.write(f'{l}\\n')\n",
    "F.close()"
   ],
   "id": "2900304b1b950e02",
   "execution_count": 70,
   "outputs": []
  },
  {
   "metadata": {
    "ExecuteTime": {
     "end_time": "2024-07-08T02:03:56.482076Z",
     "start_time": "2024-07-08T02:03:56.479914Z"
    }
   },
   "cell_type": "code",
   "source": "open('datafile.txt').read()",
   "id": "5a03e8a835f6018d",
   "execution_count": 71,
   "outputs": []
  },
  {
   "metadata": {
    "ExecuteTime": {
     "end_time": "2024-07-08T02:03:56.517366Z",
     "start_time": "2024-07-08T02:03:56.515298Z"
    }
   },
   "cell_type": "code",
   "source": "print(open('datafile.txt').read())",
   "id": "e741d90da79dd291",
   "execution_count": 72,
   "outputs": []
  },
  {
   "metadata": {
    "ExecuteTime": {
     "end_time": "2024-07-08T02:03:56.563928Z",
     "start_time": "2024-07-08T02:03:56.561013Z"
    }
   },
   "cell_type": "code",
   "source": [
    "F = open('datafile.txt', 'r')\n",
    "line = F.readline().rstrip()\n",
    "print(line)\n",
    "print(line.split(','))\n",
    "num = [int(x) for x in line.split(',')]\n",
    "print(num)\n",
    "line = F.readline().rstrip()\n",
    "print(line)\n",
    "# 从头开始\n",
    "F.seek(0)\n",
    "print(F.readline())"
   ],
   "id": "9c3be9d176ab3da5",
   "execution_count": 73,
   "outputs": []
  },
  {
   "metadata": {
    "ExecuteTime": {
     "end_time": "2024-07-08T02:03:56.614383Z",
     "start_time": "2024-07-08T02:03:56.611930Z"
    }
   },
   "cell_type": "code",
   "source": [
    "F = open('datafile.txt', 'r')\n",
    "lines = F.readlines()\n",
    "print(lines)\n",
    "f_d = lines[2]\n",
    "print(f_d)\n",
    "read_d = eval(f_d)\n",
    "print(type(read_d), read_d)"
   ],
   "id": "2e9e4e0013ceec07",
   "execution_count": 74,
   "outputs": []
  },
  {
   "metadata": {},
   "cell_type": "markdown",
   "source": "使用 pickle",
   "id": "ea39fe204bdb870b"
  },
  {
   "metadata": {
    "ExecuteTime": {
     "end_time": "2024-07-08T02:03:56.669476Z",
     "start_time": "2024-07-08T02:03:56.666205Z"
    }
   },
   "cell_type": "code",
   "source": [
    "import pickle\n",
    "\n",
    "d = {'a': 1, 'b': 2}\n",
    "l = [1, 2, 3]\n",
    "s = {5, 6, 7}\n",
    "F = open('datafile.pkl', 'wb')\n",
    "pickle.dump(d, F)\n",
    "pickle.dump(l, F)\n",
    "pickle.dump(s, F)\n",
    "F.close()"
   ],
   "id": "256950ba72eb047f",
   "execution_count": 75,
   "outputs": []
  },
  {
   "metadata": {
    "ExecuteTime": {
     "end_time": "2024-07-08T02:03:56.766160Z",
     "start_time": "2024-07-08T02:03:56.763693Z"
    }
   },
   "cell_type": "code",
   "source": [
    "F = open('datafile.pkl', 'rb')\n",
    "d = pickle.load(F)\n",
    "l = pickle.load(F)\n",
    "print(d, l)"
   ],
   "id": "85a90903f80351c",
   "execution_count": 76,
   "outputs": []
  },
  {
   "metadata": {},
   "cell_type": "markdown",
   "source": "使用 shelve",
   "id": "5b8eff998cc28719"
  },
  {
   "metadata": {
    "ExecuteTime": {
     "end_time": "2024-07-08T02:03:56.808682Z",
     "start_time": "2024-07-08T02:03:56.789970Z"
    }
   },
   "cell_type": "code",
   "source": [
    "import shelve\n",
    "\n",
    "d = {'a': 1, 'b': 2}\n",
    "l = [1, 2, 3]\n",
    "s = {5, 6, 7}\n",
    "F = shelve.open('datafile.shelve')\n",
    "F['d'] = d\n",
    "F['l'] = l\n",
    "F['s'] = s\n",
    "F.close()"
   ],
   "id": "8c3c479d79d63081",
   "execution_count": 77,
   "outputs": []
  },
  {
   "metadata": {
    "ExecuteTime": {
     "end_time": "2024-07-08T02:03:56.872619Z",
     "start_time": "2024-07-08T02:03:56.870433Z"
    }
   },
   "cell_type": "code",
   "source": [
    "F = shelve.open('datafile.shelve')\n",
    "for key in F:\n",
    "    print(key, F[key], sep=':')"
   ],
   "id": "7c11902e75ba1e85",
   "execution_count": 78,
   "outputs": []
  },
  {
   "metadata": {},
   "cell_type": "markdown",
   "source": "使用 json",
   "id": "bfdb408aa489e6e4"
  },
  {
   "metadata": {
    "ExecuteTime": {
     "end_time": "2024-07-08T02:03:56.891237Z",
     "start_time": "2024-07-08T02:03:56.889344Z"
    }
   },
   "cell_type": "code",
   "source": [
    "name = {'first': 'Bob', 'last': 'Smith'}\n",
    "rec = {'name': name, 'job': ['dev', 'mgr'], 'age': 40.5}"
   ],
   "id": "cc817e8278058a9",
   "execution_count": 79,
   "outputs": []
  },
  {
   "metadata": {
    "ExecuteTime": {
     "end_time": "2024-07-08T02:03:56.922274Z",
     "start_time": "2024-07-08T02:03:56.920575Z"
    }
   },
   "cell_type": "code",
   "source": "import json",
   "id": "cefc6a385c731251",
   "execution_count": 80,
   "outputs": []
  },
  {
   "metadata": {
    "ExecuteTime": {
     "end_time": "2024-07-08T02:03:56.978034Z",
     "start_time": "2024-07-08T02:03:56.975684Z"
    }
   },
   "cell_type": "code",
   "source": "json.dumps(rec)",
   "id": "1dceba6ddd7a6296",
   "execution_count": 81,
   "outputs": []
  },
  {
   "metadata": {
    "ExecuteTime": {
     "end_time": "2024-07-08T02:03:57.027761Z",
     "start_time": "2024-07-08T02:03:57.025515Z"
    }
   },
   "cell_type": "code",
   "source": [
    "S = json.dumps(rec)\n",
    "print(type(S), S)\n",
    "o = json.loads(S)\n",
    "print(type(o), o)"
   ],
   "id": "7f81f10659359833",
   "execution_count": 82,
   "outputs": []
  },
  {
   "metadata": {
    "ExecuteTime": {
     "end_time": "2024-07-08T02:03:57.050810Z",
     "start_time": "2024-07-08T02:03:57.048105Z"
    }
   },
   "cell_type": "code",
   "source": [
    "json.dump(rec, fp=open('textjson.txt', 'w'), indent=4)\n",
    "print(open('textjson.txt').read())"
   ],
   "id": "2b859106e46bfc89",
   "execution_count": 83,
   "outputs": []
  },
  {
   "metadata": {
    "ExecuteTime": {
     "end_time": "2024-07-08T02:03:57.113219Z",
     "start_time": "2024-07-08T02:03:57.110542Z"
    }
   },
   "cell_type": "code",
   "source": [
    "P = json.load(open('textjson.txt'))\n",
    "print(type(P), P, sep='\\n')"
   ],
   "id": "9b0d704ae9e1f1d6",
   "execution_count": 84,
   "outputs": []
  },
  {
   "metadata": {},
   "cell_type": "markdown",
   "source": "使用struct ",
   "id": "a24e1501df36abb1"
  },
  {
   "metadata": {
    "ExecuteTime": {
     "end_time": "2024-07-08T02:03:57.146370Z",
     "start_time": "2024-07-08T02:03:57.144680Z"
    }
   },
   "cell_type": "code",
   "source": "import struct",
   "id": "8db180d0b0a436e4",
   "execution_count": 85,
   "outputs": []
  },
  {
   "metadata": {},
   "cell_type": "markdown",
   "source": [
    "在Python的struct模块中，>i4sh是一个格式字符串，用于说明如何解析或打包数据：\n",
    "\n",
    "\\>：表示大端字节序（Big-endian），即高位字节存放在内存的低地址处。\n",
    "\n",
    "i：表示整数，通常为4字节（取决于平台和Python的位数）。\n",
    "\n",
    "4s：表示一个固定长度为4字节的字符串（字符数量小于等于4，不足部分会用空格填充）。\n",
    "\n",
    "h：表示短整数（short），通常为2字节。\n",
    "\n",
    "综上，>i4sh指定了一个大端字节序的数据结构，它由一个整数、一个长度为4字节的字符串和一个短整数组成"
   ],
   "id": "2d35cb34c2719583"
  },
  {
   "metadata": {
    "ExecuteTime": {
     "end_time": "2024-07-08T02:03:57.230227Z",
     "start_time": "2024-07-08T02:03:57.222691Z"
    }
   },
   "cell_type": "code",
   "source": [
    "F = open('strcut.bin', 'wb')\n",
    "l = [1, 2, [3, 4], {'a': 5, 'b': 6}, {'g', 'b'}]\n",
    "# data = struct.pack('>i4sh', 7, b'spam',8)\n",
    "data = struct.pack('>i4sh', 7, b'spam', 8)\n",
    "data"
   ],
   "id": "8447402f886afa8d",
   "execution_count": 86,
   "outputs": []
  },
  {
   "metadata": {},
   "cell_type": "markdown",
   "source": "# 引用",
   "id": "ba35612bc5e334a9"
  },
  {
   "metadata": {
    "ExecuteTime": {
     "end_time": "2024-07-08T02:03:57.250502Z",
     "start_time": "2024-07-08T02:03:57.248448Z"
    }
   },
   "cell_type": "code",
   "source": [
    "x = [1, 2, 3]\n",
    "y = [x, 4, 6]\n",
    "z = {'a': 1, 'b': x}\n",
    "print(z)\n",
    "x[0] = 'zzz'\n",
    "print(y, z)"
   ],
   "id": "2db724ee5c833cd7",
   "execution_count": 87,
   "outputs": []
  },
  {
   "metadata": {
    "ExecuteTime": {
     "end_time": "2024-07-08T02:03:57.347618Z",
     "start_time": "2024-07-08T02:03:57.345747Z"
    }
   },
   "cell_type": "code",
   "source": [
    "x = [1, 2, 3]\n",
    "y = [x.copy(), 4, 6]\n",
    "z = {'a': 1, 'b': x}\n",
    "x[0] = 'zzz'\n",
    "print(y, z)"
   ],
   "id": "2f1b44780fe3bafc",
   "execution_count": 88,
   "outputs": []
  },
  {
   "metadata": {
    "ExecuteTime": {
     "end_time": "2024-07-08T02:03:57.385099Z",
     "start_time": "2024-07-08T02:03:57.382500Z"
    }
   },
   "cell_type": "code",
   "source": [
    "x = [1, 2, [3, 4], {'a': 5, 'b': 6}]\n",
    "# 浅拷贝\n",
    "y = [x.copy(), 4, 6]\n",
    "x[2][0] = 'changed'\n",
    "x[0] = 'changed'\n",
    "print(y)\n",
    "# 浅拷贝\n",
    "x = [1, 2, [3, 4], {'a': 5, 'b': 6}]\n",
    "y = [x[:], 4, 6]\n",
    "x[2][0] = 'changed'\n",
    "x[0] = 'changed'\n",
    "print(y)\n",
    "# 引用\n",
    "x = [1, 2, [3, 4], {'a': 5, 'b': 6}]\n",
    "y = [x, 4, 6]\n",
    "x[2][0] = 'changed'\n",
    "x[0] = 'changed'\n",
    "print(y)"
   ],
   "id": "dafac1350d9a464a",
   "execution_count": 89,
   "outputs": []
  },
  {
   "metadata": {
    "ExecuteTime": {
     "end_time": "2024-07-08T02:03:57.428566Z",
     "start_time": "2024-07-08T02:03:57.426575Z"
    }
   },
   "cell_type": "code",
   "source": [
    "# 深拷贝\n",
    "import copy\n",
    "\n",
    "x = [1, 2, [3, 4], {'a': 5, 'b': 6}]\n",
    "y = [copy.deepcopy(x), 4, 6]\n",
    "x[2][0] = 'changed'\n",
    "x[0] = 'changed'\n",
    "print(y)"
   ],
   "id": "e1ff3a9179d8411c",
   "execution_count": 90,
   "outputs": []
  },
  {
   "metadata": {
    "ExecuteTime": {
     "end_time": "2024-07-08T02:03:57.470185Z",
     "start_time": "2024-07-08T02:03:57.468140Z"
    }
   },
   "cell_type": "code",
   "source": [
    "L1 = [1, 2, ('a', 3)]\n",
    "L2 = [1, 2, ('a', 3)]\n",
    "L1 == L2, L1 is L2"
   ],
   "id": "fd91c9067fe2e5af",
   "execution_count": 91,
   "outputs": []
  },
  {
   "metadata": {
    "ExecuteTime": {
     "end_time": "2024-07-08T02:03:57.511926Z",
     "start_time": "2024-07-08T02:03:57.509881Z"
    }
   },
   "cell_type": "code",
   "source": [
    "# 短字符串做了优化，共用空间\n",
    "S1 = 'spam'\n",
    "S2 = 'spam'\n",
    "S1 == S2, S1 is S2"
   ],
   "id": "8368b59670b9759c",
   "execution_count": 92,
   "outputs": []
  },
  {
   "metadata": {
    "ExecuteTime": {
     "end_time": "2024-07-08T02:03:57.560380Z",
     "start_time": "2024-07-08T02:03:57.558390Z"
    }
   },
   "cell_type": "code",
   "source": [
    "# 长字符不同\n",
    "S1 = 'a longer string'\n",
    "S2 = 'a longer string'\n",
    "S1 == S2, S1 is S2"
   ],
   "id": "bc16a36e06ff1e81",
   "execution_count": 93,
   "outputs": []
  },
  {
   "metadata": {},
   "cell_type": "markdown",
   "source": "对比",
   "id": "492fa0c1a157c8d9"
  },
  {
   "metadata": {
    "ExecuteTime": {
     "end_time": "2024-07-08T02:03:57.594394Z",
     "start_time": "2024-07-08T02:03:57.592311Z"
    }
   },
   "cell_type": "code",
   "source": [
    "d1 = {'a': 1, 'b': 2}\n",
    "d2 = {'a': 1, 'b': 3}\n",
    "print(d1 == d2)\n",
    "print(sorted(d1.items()) < sorted(d2.items()))\n",
    "print(sorted(d1), sorted(d2))\n",
    "print(sorted(d1.items()), sorted(d2.items()))"
   ],
   "id": "b07896fa11bb8315",
   "execution_count": 94,
   "outputs": []
  },
  {
   "metadata": {
    "ExecuteTime": {
     "end_time": "2024-07-08T02:03:57.645077Z",
     "start_time": "2024-07-08T02:03:57.643172Z"
    }
   },
   "cell_type": "code",
   "source": [
    "d1 = [('a', 1), ('b', 2)]\n",
    "d2 = [('a', 1), ('b', 3)]\n",
    "print(d1 == d2)\n",
    "print(d1 < d2)"
   ],
   "id": "c766c7555494f84d",
   "execution_count": 95,
   "outputs": []
  },
  {
   "metadata": {
    "ExecuteTime": {
     "end_time": "2024-07-08T02:03:57.692505Z",
     "start_time": "2024-07-08T02:03:57.690529Z"
    }
   },
   "cell_type": "code",
   "source": [
    "L = [3, 4, 5]\n",
    "# 复制\n",
    "Y = L * 4\n",
    "# 引用\n",
    "Z = [L] * 4\n",
    "print(Y, Z, sep='\\n')\n",
    "L[0] = 'changed'\n",
    "print(Y, Z, sep='\\n')"
   ],
   "id": "967f0237453f4bad",
   "execution_count": 96,
   "outputs": []
  },
  {
   "metadata": {
    "ExecuteTime": {
     "end_time": "2024-07-08T02:03:57.744988Z",
     "start_time": "2024-07-08T02:03:57.742821Z"
    }
   },
   "cell_type": "code",
   "source": [
    "L = [3, 4, 5]\n",
    "# 外部复制，内部引用\n",
    "Z = [list(L)] * 4\n",
    "print(Z)\n",
    "Z[0][1] = 'changed'\n",
    "print(Z)\n",
    "# 外部复制，内部复制\n",
    "Z = [list(L) for _ in range(4)]\n",
    "print(Z)\n",
    "Z[0][1] = 'changed'\n",
    "print(Z)"
   ],
   "id": "fc1d006188bb2256",
   "execution_count": 97,
   "outputs": []
  },
  {
   "metadata": {},
   "cell_type": "markdown",
   "source": "# 练习",
   "id": "606c64ba8ee2a3ab"
  },
  {
   "metadata": {
    "ExecuteTime": {
     "end_time": "2024-07-08T02:03:57.796456Z",
     "start_time": "2024-07-08T02:03:57.794038Z"
    }
   },
   "cell_type": "code",
   "source": [
    "s = (3,4,5)\n",
    "s = (1,)+s[1:]\n",
    "s"
   ],
   "id": "6af2e2c533f696d4",
   "execution_count": 98,
   "outputs": []
  },
  {
   "metadata": {
    "ExecuteTime": {
     "end_time": "2024-07-08T02:03:57.871483Z",
     "start_time": "2024-07-08T02:03:57.869213Z"
    }
   },
   "cell_type": "code",
   "source": "S[:0]",
   "id": "2b2dc58e66c65e8f",
   "execution_count": 99,
   "outputs": []
  },
  {
   "metadata": {
    "ExecuteTime": {
     "end_time": "2024-07-08T02:03:57.925860Z",
     "start_time": "2024-07-08T02:03:57.923781Z"
    }
   },
   "cell_type": "code",
   "source": [
    "s = [1,2,3,4,5,6,7]\n",
    "print(s[3:1])\n",
    "s[3:0]='?' # 插入,s.insert(3,'?')\n",
    "print(s)"
   ],
   "id": "63ae1c4d7a2c7ed3",
   "execution_count": 100,
   "outputs": []
  },
  {
   "metadata": {
    "ExecuteTime": {
     "end_time": "2024-07-08T02:03:57.975483Z",
     "start_time": "2024-07-08T02:03:57.973574Z"
    }
   },
   "cell_type": "code",
   "source": [
    "D = {}\n",
    "D[1] = 0\n",
    "D[2] = 1\n",
    "print(D)"
   ],
   "id": "f4f6cb69677ceb84",
   "execution_count": 101,
   "outputs": []
  },
  {
   "metadata": {
    "ExecuteTime": {
     "end_time": "2024-07-08T02:03:58.019506Z",
     "start_time": "2024-07-08T02:03:58.017400Z"
    }
   },
   "cell_type": "code",
   "source": "D[1]",
   "id": "3c1c1d9ede20e68c",
   "execution_count": 102,
   "outputs": []
  },
  {
   "metadata": {
    "ExecuteTime": {
     "end_time": "2024-07-08T02:03:58.098431Z",
     "start_time": "2024-07-08T02:03:58.091261Z"
    }
   },
   "cell_type": "code",
   "source": [
    "l=[1,2,3]\n",
    "d = {l: 0}\n",
    "l+d"
   ],
   "id": "5afbc5eb9049fe9c",
   "execution_count": 103,
   "outputs": []
  },
  {
   "metadata": {
    "ExecuteTime": {
     "end_time": "2024-07-08T02:03:58.149177Z",
     "start_time": "2024-07-08T02:03:58.146801Z"
    }
   },
   "cell_type": "code",
   "source": [
    "s = 'spam'\n",
    "type(s[0][0][0][0])"
   ],
   "id": "55d08cc4b4e6de02",
   "execution_count": 104,
   "outputs": []
  },
  {
   "metadata": {
    "ExecuteTime": {
     "end_time": "2024-07-08T02:03:58.197410Z",
     "start_time": "2024-07-08T02:03:58.194573Z"
    }
   },
   "cell_type": "code",
   "source": [
    "f = open('textfile.txt', 'w')\n",
    "f.write('hello ')\n",
    "f.write('world')\n",
    "f.close()\n",
    "f = open('textfile.txt', 'r').readlines()\n",
    "f"
   ],
   "id": "c6d46008aed89f50",
   "execution_count": 105,
   "outputs": []
  },
  {
   "metadata": {
    "ExecuteTime": {
     "end_time": "2024-07-08T02:03:58.313245Z",
     "start_time": "2024-07-08T02:03:58.310092Z"
    }
   },
   "cell_type": "code",
   "source": [
    "f = open('textfile.txt', 'w')\n",
    "f.writelines('hello ')\n",
    "f.writelines('world')\n",
    "f.close()\n",
    "line = open('textfile.txt', 'r').readlines()\n",
    "line"
   ],
   "id": "aaed135190ecfadd",
   "execution_count": 106,
   "outputs": []
  },
  {
   "metadata": {
    "ExecuteTime": {
     "end_time": "2024-07-08T02:03:58.394845Z",
     "start_time": "2024-07-08T02:03:58.387879Z"
    }
   },
   "cell_type": "code",
   "source": [
    "lines = ['hello', 'world']\n",
    "f = open('textfile.txt', 'w')\n",
    "f.writelines(lines)\n",
    "f.close()\n",
    "line = open('textfile.txt', 'r').readlines()\n",
    "line"
   ],
   "id": "8435fec28e1b8147",
   "execution_count": 107,
   "outputs": []
  },
  {
   "metadata": {
    "ExecuteTime": {
     "end_time": "2024-07-08T02:03:58.498164Z",
     "start_time": "2024-07-08T02:03:58.496839Z"
    }
   },
   "cell_type": "code",
   "source": "",
   "id": "536ef3767b77bcce",
   "execution_count": 107,
   "outputs": []
  }
 ],
 "metadata": {
  "kernelspec": {
   "display_name": "Python 3",
   "language": "python",
   "name": "python3"
  },
  "language_info": {
   "codemirror_mode": {
    "name": "ipython",
    "version": 2
   },
   "file_extension": ".py",
   "mimetype": "text/x-python",
   "name": "python",
   "nbconvert_exporter": "python",
   "pygments_lexer": "ipython2",
   "version": "2.7.6"
  }
 },
 "nbformat": 4,
 "nbformat_minor": 5
}
