{
 "cells": [
  {
   "cell_type": "code",
   "id": "initial_id",
   "metadata": {
    "collapsed": true,
    "ExecuteTime": {
     "end_time": "2024-06-21T07:42:44.042367Z",
     "start_time": "2024-06-21T07:42:33.831481Z"
    }
   },
   "source": [
    "while True:\n",
    "    reply = input('Enter text: ')\n",
    "    if reply == 'quit':\n",
    "        break\n",
    "    elif reply.isdigit():\n",
    "        print(int(reply) ** 2)\n",
    "    else:\n",
    "        print('Invalid input')\n"
   ],
   "execution_count": 1,
   "outputs": []
  },
  {
   "metadata": {
    "ExecuteTime": {
     "end_time": "2024-06-21T07:42:45.103992Z",
     "start_time": "2024-06-21T07:42:45.100934Z"
    }
   },
   "cell_type": "code",
   "source": [
    "a, b, c, d = 'spam'\n",
    "print(a, b, c, d)\n",
    "d, *e = 'spam'\n",
    "print(d, e)\n",
    "*e, d = 'spam'\n",
    "print(e, d)"
   ],
   "id": "b93de162183b47c2",
   "execution_count": 2,
   "outputs": []
  },
  {
   "metadata": {
    "ExecuteTime": {
     "end_time": "2024-06-21T07:42:45.635906Z",
     "start_time": "2024-06-21T07:42:45.633813Z"
    }
   },
   "cell_type": "code",
   "source": [
    "((a, b), c) = ['SP', 'AM']\n",
    "print(a, b, c)"
   ],
   "id": "64be8932eb321b06",
   "execution_count": 3,
   "outputs": []
  },
  {
   "metadata": {
    "ExecuteTime": {
     "end_time": "2024-06-21T07:42:46.040819Z",
     "start_time": "2024-06-21T07:42:46.038579Z"
    }
   },
   "cell_type": "code",
   "source": [
    "L = [1, 2, 3, 4, 5]\n",
    "# Queue\n",
    "while L:\n",
    "    front, L = L[0], L[1:]\n",
    "    print(front, L)\n",
    "print(L)"
   ],
   "id": "46d03a1725dcf9ae",
   "execution_count": 4,
   "outputs": []
  },
  {
   "metadata": {
    "ExecuteTime": {
     "end_time": "2024-06-21T07:42:46.396584Z",
     "start_time": "2024-06-21T07:42:46.394406Z"
    }
   },
   "cell_type": "code",
   "source": [
    "L = [1, 2, 3, 4, 5]\n",
    "# Queue\n",
    "while L:\n",
    "    front = L.pop(0)\n",
    "    print(front, L)\n",
    "print(L)"
   ],
   "id": "3db64c9ce6bdf0ca",
   "execution_count": 5,
   "outputs": []
  },
  {
   "metadata": {
    "ExecuteTime": {
     "end_time": "2024-06-21T07:42:46.744196Z",
     "start_time": "2024-06-21T07:42:46.742153Z"
    }
   },
   "cell_type": "code",
   "source": [
    "L = [1, 2, 3, 4, 5]\n",
    "# Queue\n",
    "while L:\n",
    "    front, *L = L\n",
    "    print(front, L)\n",
    "print(L)"
   ],
   "id": "b261fab5b4810397",
   "execution_count": 6,
   "outputs": []
  },
  {
   "metadata": {
    "ExecuteTime": {
     "end_time": "2024-06-21T07:42:47.095180Z",
     "start_time": "2024-06-21T07:42:47.092791Z"
    }
   },
   "cell_type": "code",
   "source": [
    "L = [1, 2, 3, 4]\n",
    "a, b, c, d, *e = L\n",
    "print(a, b, c, d, e)\n",
    "a, b, c, *d = L\n",
    "print(a, b, c, d)\n",
    "a, b, *c, d, e = L\n",
    "print(a, b, c, d, e)"
   ],
   "id": "1a4633270881e48e",
   "execution_count": 7,
   "outputs": []
  },
  {
   "metadata": {
    "ExecuteTime": {
     "end_time": "2024-06-21T07:42:47.850302Z",
     "start_time": "2024-06-21T07:42:47.848074Z"
    }
   },
   "cell_type": "code",
   "source": "*a = L",
   "id": "f8ad8073b0a1f1cf",
   "execution_count": 8,
   "outputs": []
  },
  {
   "metadata": {
    "ExecuteTime": {
     "end_time": "2024-06-21T07:42:48.258837Z",
     "start_time": "2024-06-21T07:42:48.257001Z"
    }
   },
   "cell_type": "code",
   "source": [
    "*a, = L\n",
    "print(a)"
   ],
   "id": "8ebd4c33a4ad223d",
   "execution_count": 9,
   "outputs": []
  },
  {
   "metadata": {
    "ExecuteTime": {
     "end_time": "2024-06-21T07:42:48.636964Z",
     "start_time": "2024-06-21T07:42:48.635105Z"
    }
   },
   "cell_type": "code",
   "source": [
    "l = [1,2]\n",
    "m = l\n",
    "l = l + [3,4] # 创建了新的列表\n",
    "print(l, m)"
   ],
   "id": "a756a79c5237aaff",
   "execution_count": 10,
   "outputs": []
  },
  {
   "metadata": {
    "ExecuteTime": {
     "end_time": "2024-06-21T07:42:49.023668Z",
     "start_time": "2024-06-21T07:42:49.021542Z"
    }
   },
   "cell_type": "code",
   "source": [
    "l = [1,2]\n",
    "m = l\n",
    "l += [3,4] # 原来的列表，相当于 extend\n",
    "print(l, m)"
   ],
   "id": "dd844118de56b8ec",
   "execution_count": 11,
   "outputs": []
  },
  {
   "metadata": {
    "ExecuteTime": {
     "end_time": "2024-06-21T07:42:49.391207Z",
     "start_time": "2024-06-21T07:42:49.388940Z"
    }
   },
   "cell_type": "code",
   "source": [
    "x = [1,2,3]\n",
    "y = 'spam'\n",
    "z = ['egg']\n",
    "print(x,y,z,sep='\\t')\n",
    "print(x,y,z,sep='\\t', end='..\\n')"
   ],
   "id": "45283b557688fbcc",
   "execution_count": 12,
   "outputs": []
  },
  {
   "metadata": {
    "ExecuteTime": {
     "end_time": "2024-06-21T07:42:49.767214Z",
     "start_time": "2024-06-21T07:42:49.765118Z"
    }
   },
   "cell_type": "code",
   "source": "print(x,y,z,file=open('print.txt', 'w'))",
   "id": "fb26ea0f22f51afe",
   "execution_count": 13,
   "outputs": []
  },
  {
   "metadata": {
    "ExecuteTime": {
     "end_time": "2024-06-21T07:42:50.146651Z",
     "start_time": "2024-06-21T07:42:50.144470Z"
    }
   },
   "cell_type": "code",
   "source": "print(open('print.txt','r').read())",
   "id": "a24f9a8606426381",
   "execution_count": 14,
   "outputs": []
  },
  {
   "metadata": {},
   "cell_type": "markdown",
   "source": "# print重定向",
   "id": "a62ea8ec305a568d"
  },
  {
   "metadata": {
    "ExecuteTime": {
     "end_time": "2024-06-21T07:45:50.127650Z",
     "start_time": "2024-06-21T07:45:50.122912Z"
    }
   },
   "cell_type": "code",
   "source": [
    "import sys\n",
    "temp = sys.stdout\n",
    "sys.stdout = open('text.log', 'a')\n",
    "print('hello')\n",
    "print('world')\n",
    "print(1,2,3)\n",
    "sys.stdout.close()\n",
    "sys.stdout = temp\n",
    "# sys.stdout = sys.__stdout__"
   ],
   "id": "245a6fbcfb552197",
   "execution_count": 1,
   "outputs": []
  },
  {
   "metadata": {
    "ExecuteTime": {
     "end_time": "2024-06-21T07:45:50.668479Z",
     "start_time": "2024-06-21T07:45:50.665938Z"
    }
   },
   "cell_type": "code",
   "source": "print(open('text.log','r').read())",
   "id": "207c83655233b9",
   "execution_count": 2,
   "outputs": []
  },
  {
   "metadata": {
    "ExecuteTime": {
     "end_time": "2024-06-21T07:45:51.870550Z",
     "start_time": "2024-06-21T07:45:51.867398Z"
    }
   },
   "cell_type": "code",
   "source": "print(sys.__stdout__)",
   "id": "49e0d9a725627440",
   "execution_count": 3,
   "outputs": []
  },
  {
   "metadata": {
    "ExecuteTime": {
     "end_time": "2024-06-21T07:48:33.402914Z",
     "start_time": "2024-06-21T07:48:33.400541Z"
    }
   },
   "cell_type": "code",
   "source": [
    "log = open('text.log', 'w')\n",
    "print('hello', file=log)\n",
    "print('world', file=log)\n",
    "print(1,2,3, file=log)\n",
    "log.close()"
   ],
   "id": "36bc07c3096a4e8a",
   "execution_count": 4,
   "outputs": []
  },
  {
   "metadata": {
    "ExecuteTime": {
     "end_time": "2024-06-21T07:48:36.628404Z",
     "start_time": "2024-06-21T07:48:36.626090Z"
    }
   },
   "cell_type": "code",
   "source": "print(open('text.log','r').read())",
   "id": "8661855f9b1cd907",
   "execution_count": 5,
   "outputs": []
  },
  {
   "metadata": {
    "ExecuteTime": {
     "end_time": "2024-06-21T07:50:57.087168Z",
     "start_time": "2024-06-21T07:50:57.085002Z"
    }
   },
   "cell_type": "code",
   "source": "print('hello', file=sys.stderr)",
   "id": "93bd1a2f680f0b7d",
   "execution_count": 6,
   "outputs": []
  },
  {
   "metadata": {
    "ExecuteTime": {
     "end_time": "2024-06-21T07:54:40.270178Z",
     "start_time": "2024-06-21T07:54:40.268076Z"
    }
   },
   "cell_type": "code",
   "source": [
    "class FileFaker:\n",
    "    def write(self, string):\n",
    "        pass\n",
    "\n",
    "myobj = FileFaker()\n",
    "print('hello', file=myobj)"
   ],
   "id": "13acbabc8b0718c0",
   "execution_count": 12,
   "outputs": []
  },
  {
   "metadata": {},
   "cell_type": "markdown",
   "source": "# if",
   "id": "62a210a790c5514a"
  },
  {
   "metadata": {
    "ExecuteTime": {
     "end_time": "2024-06-21T08:00:22.444176Z",
     "start_time": "2024-06-21T08:00:22.442221Z"
    }
   },
   "cell_type": "code",
   "source": [
    "branch = {'ham':1.25, 'egg':1.50, 'spam':2.00}\n",
    "print(branch.get('ham','Bad choice'))\n",
    "print(branch.get('ham1','Bad choice'))"
   ],
   "id": "fb1cac0eee7d8a2e",
   "execution_count": 14,
   "outputs": []
  },
  {
   "metadata": {
    "ExecuteTime": {
     "end_time": "2024-06-21T08:01:39.331988Z",
     "start_time": "2024-06-21T08:01:39.330203Z"
    }
   },
   "cell_type": "code",
   "source": [
    "choice ='ham'\n",
    "try:\n",
    "    print(branch[choice])\n",
    "except KeyError:\n",
    "    print('Bad choice')"
   ],
   "id": "a6227664bfdf730d",
   "execution_count": 17,
   "outputs": []
  },
  {
   "metadata": {
    "ExecuteTime": {
     "end_time": "2024-06-21T08:03:24.741950Z",
     "start_time": "2024-06-21T08:03:24.739977Z"
    }
   },
   "cell_type": "code",
   "source": [
    "def fun():\n",
    "    print('Call fun')\n",
    "    \n",
    "def default():\n",
    "    print('Call default')\n",
    "    \n",
    "branch = {'ham':fun, 'egg':1.50, 'spam':2.00}\n",
    "branch.get('ham',default)()"
   ],
   "id": "78c9c3b5b006ff6d",
   "execution_count": 22,
   "outputs": []
  },
  {
   "metadata": {
    "ExecuteTime": {
     "end_time": "2024-06-21T08:12:23.070058Z",
     "start_time": "2024-06-21T08:12:23.067596Z"
    }
   },
   "cell_type": "code",
   "source": "2 or 3, 3 or 2, [] and 3, [] or {}",
   "id": "117cb72174927e37",
   "execution_count": 25,
   "outputs": []
  },
  {
   "metadata": {
    "ExecuteTime": {
     "end_time": "2024-06-21T08:16:54.305396Z",
     "start_time": "2024-06-21T08:16:54.303442Z"
    }
   },
   "cell_type": "code",
   "source": [
    "f1 = print('hello')\n",
    "if f1:\n",
    "    print('call f1')"
   ],
   "id": "c467a487c98974f3",
   "execution_count": 27,
   "outputs": []
  },
  {
   "metadata": {
    "ExecuteTime": {
     "end_time": "2024-06-21T08:20:00.416714Z",
     "start_time": "2024-06-21T08:20:00.413073Z"
    }
   },
   "cell_type": "code",
   "source": [
    "l = [1,0,2,0,'spam', {}, [], [1,2]]\n",
    "print(list(filter(bool, l)))\n",
    "print([x for x in l if bool(x)])\n",
    "print(any(l),all(l))"
   ],
   "id": "c177c56ee27cf57f",
   "execution_count": 30,
   "outputs": []
  },
  {
   "metadata": {},
   "cell_type": "markdown",
   "source": "# 循环",
   "id": "e9f47b4ccd7ff54"
  },
  {
   "metadata": {
    "ExecuteTime": {
     "end_time": "2024-06-21T08:25:10.231768Z",
     "start_time": "2024-06-21T08:25:10.227038Z"
    }
   },
   "cell_type": "code",
   "source": [
    "x = 'spam'\n",
    "while x:\n",
    "    print(x, end=' ')\n",
    "    x=x[1:]"
   ],
   "id": "d783d45bf20f3bdf",
   "execution_count": 31,
   "outputs": []
  },
  {
   "metadata": {
    "ExecuteTime": {
     "end_time": "2024-06-21T08:28:45.730239Z",
     "start_time": "2024-06-21T08:28:45.727835Z"
    }
   },
   "cell_type": "code",
   "source": [
    "def func1():...\n",
    "x = ...\n",
    "print(x)"
   ],
   "id": "6203e03ce987f2",
   "execution_count": 34,
   "outputs": []
  },
  {
   "metadata": {
    "ExecuteTime": {
     "end_time": "2024-06-21T08:48:07.517455Z",
     "start_time": "2024-06-21T08:48:07.514428Z"
    }
   },
   "cell_type": "code",
   "source": "print(open('text.log').read())",
   "id": "53ccf0144e171aa9",
   "execution_count": 39,
   "outputs": []
  },
  {
   "metadata": {
    "ExecuteTime": {
     "end_time": "2024-06-21T08:50:33.360658Z",
     "start_time": "2024-06-21T08:50:33.358325Z"
    }
   },
   "cell_type": "code",
   "source": [
    "for line in open('text.log'):\n",
    "    print(line.rstrip())"
   ],
   "id": "e5cc454b4daaf03f",
   "execution_count": 42,
   "outputs": []
  },
  {
   "metadata": {
    "ExecuteTime": {
     "end_time": "2024-06-21T08:50:55.635092Z",
     "start_time": "2024-06-21T08:50:55.632722Z"
    }
   },
   "cell_type": "code",
   "source": [
    "for line in open('text.log').readlines():\n",
    "    print(line.rstrip())"
   ],
   "id": "b304f799b8dad709",
   "execution_count": 44,
   "outputs": []
  },
  {
   "metadata": {
    "ExecuteTime": {
     "end_time": "2024-06-21T08:52:20.704897Z",
     "start_time": "2024-06-21T08:52:20.699443Z"
    }
   },
   "cell_type": "code",
   "source": [
    "for line in reversed(open('text.log').readlines()):\n",
    "    print(line.rstrip())"
   ],
   "id": "d4cf30f24387db6a",
   "execution_count": 45,
   "outputs": []
  },
  {
   "metadata": {
    "ExecuteTime": {
     "end_time": "2024-06-21T08:54:56.364417Z",
     "start_time": "2024-06-21T08:54:56.360026Z"
    }
   },
   "cell_type": "code",
   "source": "list(range(5)), list(range(2,5)), list(range(2,10,2))",
   "id": "c55e6f7dc01c001d",
   "execution_count": 46,
   "outputs": []
  },
  {
   "metadata": {
    "ExecuteTime": {
     "end_time": "2024-06-21T08:55:30.600770Z",
     "start_time": "2024-06-21T08:55:30.597126Z"
    }
   },
   "cell_type": "code",
   "source": "list(zip('spam', 'eggs'))",
   "id": "a12d429421db87c8",
   "execution_count": 48,
   "outputs": []
  },
  {
   "metadata": {
    "ExecuteTime": {
     "end_time": "2024-06-21T08:59:13.346607Z",
     "start_time": "2024-06-21T08:59:13.343992Z"
    }
   },
   "cell_type": "code",
   "source": [
    "s = 'spam'\n",
    "print(id(s))\n",
    "for i in range(len(s)):\n",
    "    s = s[1:] + s[:1] # new list\n",
    "    print(s, end=' ')\n",
    "    print(id(s))\n",
    "print(id(s))"
   ],
   "id": "4cba8b0edc4dcbad",
   "execution_count": 54,
   "outputs": []
  },
  {
   "metadata": {
    "ExecuteTime": {
     "end_time": "2024-06-21T09:16:32.937903Z",
     "start_time": "2024-06-21T09:16:32.934261Z"
    }
   },
   "cell_type": "code",
   "source": [
    "s = 'abcdefghijklnm'\n",
    "for i in range(0, len(s), 2):\n",
    "    print(s[i], end=' ')"
   ],
   "id": "aa53d7bcf7083b49",
   "execution_count": 55,
   "outputs": []
  },
  {
   "metadata": {
    "ExecuteTime": {
     "end_time": "2024-06-21T09:16:59.330890Z",
     "start_time": "2024-06-21T09:16:59.328941Z"
    }
   },
   "cell_type": "code",
   "source": [
    "for i in s[::2]:\n",
    "    print(i, end=' ')"
   ],
   "id": "493a83f639b2daae",
   "execution_count": 56,
   "outputs": []
  },
  {
   "metadata": {
    "ExecuteTime": {
     "end_time": "2024-06-21T09:19:07.331591Z",
     "start_time": "2024-06-21T09:19:07.328368Z"
    }
   },
   "cell_type": "code",
   "source": [
    "l = [1,2,3,4]\n",
    "[x + 1 for x in l]"
   ],
   "id": "5e2bf76e5da9671b",
   "execution_count": 57,
   "outputs": []
  },
  {
   "metadata": {
    "ExecuteTime": {
     "end_time": "2024-06-21T09:19:46.881507Z",
     "start_time": "2024-06-21T09:19:46.879014Z"
    }
   },
   "cell_type": "code",
   "source": [
    "l1 = [1,2,3,4]\n",
    "l2 = [x **2 for x in l1]\n",
    "list(zip(l1, l2))"
   ],
   "id": "e0ef9750ca7b7f6e",
   "execution_count": 59,
   "outputs": []
  },
  {
   "metadata": {
    "ExecuteTime": {
     "end_time": "2024-06-21T09:20:13.021833Z",
     "start_time": "2024-06-21T09:20:13.019896Z"
    }
   },
   "cell_type": "code",
   "source": [
    "for x,y in zip(l1, l2):\n",
    "    print(x,y,'---', x+y)"
   ],
   "id": "feb25a9a4e505270",
   "execution_count": 60,
   "outputs": []
  },
  {
   "metadata": {
    "ExecuteTime": {
     "end_time": "2024-06-21T09:33:21.625350Z",
     "start_time": "2024-06-21T09:33:21.623438Z"
    }
   },
   "cell_type": "code",
   "source": [
    "for i,v in enumerate('spam'):\n",
    "    print(i,v)"
   ],
   "id": "aaf6ffa5dfbe59ce",
   "execution_count": 62,
   "outputs": []
  },
  {
   "metadata": {
    "ExecuteTime": {
     "end_time": "2024-06-21T09:33:48.628977Z",
     "start_time": "2024-06-21T09:33:48.627108Z"
    }
   },
   "cell_type": "code",
   "source": [
    "E = enumerate('spam')\n",
    "print(next(E))\n",
    "print(next(E))\n",
    "print(next(E))\n",
    "print(next(E))"
   ],
   "id": "914d89d0966f2ce3",
   "execution_count": 66,
   "outputs": []
  },
  {
   "metadata": {
    "ExecuteTime": {
     "end_time": "2024-06-21T09:35:24.297366Z",
     "start_time": "2024-06-21T09:35:24.295204Z"
    }
   },
   "cell_type": "code",
   "source": [
    "for i, l in enumerate(open('text.log')):\n",
    "    print(i, l.rstrip(), sep=')')"
   ],
   "id": "6a6441aefc019021",
   "execution_count": 72,
   "outputs": []
  },
  {
   "metadata": {},
   "cell_type": "markdown",
   "source": "os.popen()",
   "id": "c10adf323b2533e5"
  },
  {
   "metadata": {
    "ExecuteTime": {
     "end_time": "2024-06-21T09:37:40.668787Z",
     "start_time": "2024-06-21T09:37:40.661480Z"
    }
   },
   "cell_type": "code",
   "source": [
    "import os\n",
    "F = os.popen('pwd')\n",
    "F.readline()"
   ],
   "id": "991078b6eb5c13c9",
   "execution_count": 76,
   "outputs": []
  },
  {
   "metadata": {
    "ExecuteTime": {
     "end_time": "2024-06-21T09:38:38.600677Z",
     "start_time": "2024-06-21T09:38:38.590331Z"
    }
   },
   "cell_type": "code",
   "source": [
    "F = os.popen('ls -ltr')\n",
    "F.readlines()[2]"
   ],
   "id": "414a201ca7fdef40",
   "execution_count": 79,
   "outputs": []
  },
  {
   "metadata": {
    "ExecuteTime": {
     "end_time": "2024-06-21T09:39:08.910271Z",
     "start_time": "2024-06-21T09:39:08.900741Z"
    }
   },
   "cell_type": "code",
   "source": [
    "for line in os.popen('ls -ltr'):\n",
    "    print(line.rstrip())"
   ],
   "id": "f1eb801071fee80f",
   "execution_count": 80,
   "outputs": []
  },
  {
   "metadata": {
    "ExecuteTime": {
     "end_time": "2024-06-21T09:45:04.166447Z",
     "start_time": "2024-06-21T09:45:04.156316Z"
    }
   },
   "cell_type": "code",
   "source": [
    "for i,l in enumerate(os.popen('ls')):\n",
    "    if i ==4:\n",
    "        break\n",
    "    print(f'{i:06d}){l.rstrip():>50}')"
   ],
   "id": "3f265c45a2133a35",
   "execution_count": 84,
   "outputs": []
  },
  {
   "metadata": {
    "ExecuteTime": {
     "end_time": "2024-06-21T09:47:29.791445Z",
     "start_time": "2024-06-21T09:47:28.198902Z"
    }
   },
   "cell_type": "code",
   "source": [
    "from urllib.request import urlopen\n",
    "for line in urlopen('http://trip.com'):\n",
    "    print(line)"
   ],
   "id": "f171102a0ffb35c9",
   "execution_count": 85,
   "outputs": []
  },
  {
   "metadata": {},
   "cell_type": "code",
   "execution_count": null,
   "source": "",
   "id": "3afba8697867b985",
   "outputs": []
  }
 ],
 "metadata": {
  "kernelspec": {
   "display_name": "Python 3",
   "language": "python",
   "name": "python3"
  },
  "language_info": {
   "codemirror_mode": {
    "name": "ipython",
    "version": 2
   },
   "file_extension": ".py",
   "mimetype": "text/x-python",
   "name": "python",
   "nbconvert_exporter": "python",
   "pygments_lexer": "ipython2",
   "version": "2.7.6"
  }
 },
 "nbformat": 4,
 "nbformat_minor": 5
}
