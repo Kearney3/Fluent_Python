{
 "cells": [
  {
   "cell_type": "code",
   "id": "initial_id",
   "metadata": {
    "collapsed": true,
    "ExecuteTime": {
     "end_time": "2024-06-21T07:42:44.042367Z",
     "start_time": "2024-06-21T07:42:33.831481Z"
    }
   },
   "source": [
    "while True:\n",
    "    reply = input('Enter text: ')\n",
    "    if reply == 'quit':\n",
    "        break\n",
    "    elif reply.isdigit():\n",
    "        print(int(reply) ** 2)\n",
    "    else:\n",
    "        print('Invalid input')\n"
   ],
   "outputs": [
    {
     "name": "stdout",
     "output_type": "stream",
     "text": [
      "1\n",
      "4\n",
      "9\n",
      "121\n",
      "25\n",
      "Invalid input\n",
      "Invalid input\n"
     ]
    }
   ],
   "execution_count": 1
  },
  {
   "metadata": {
    "ExecuteTime": {
     "end_time": "2024-06-21T07:42:45.103992Z",
     "start_time": "2024-06-21T07:42:45.100934Z"
    }
   },
   "cell_type": "code",
   "source": [
    "a, b, c, d = 'spam'\n",
    "print(a, b, c, d)\n",
    "d, *e = 'spam'\n",
    "print(d, e)\n",
    "*e, d = 'spam'\n",
    "print(e, d)"
   ],
   "id": "b93de162183b47c2",
   "outputs": [
    {
     "name": "stdout",
     "output_type": "stream",
     "text": [
      "s p a m\n",
      "s ['p', 'a', 'm']\n",
      "['s', 'p', 'a'] m\n"
     ]
    }
   ],
   "execution_count": 2
  },
  {
   "metadata": {
    "ExecuteTime": {
     "end_time": "2024-06-21T07:42:45.635906Z",
     "start_time": "2024-06-21T07:42:45.633813Z"
    }
   },
   "cell_type": "code",
   "source": [
    "((a, b), c) = ['SP', 'AM']\n",
    "print(a, b, c)"
   ],
   "id": "64be8932eb321b06",
   "outputs": [
    {
     "name": "stdout",
     "output_type": "stream",
     "text": [
      "S P AM\n"
     ]
    }
   ],
   "execution_count": 3
  },
  {
   "metadata": {
    "ExecuteTime": {
     "end_time": "2024-06-21T07:42:46.040819Z",
     "start_time": "2024-06-21T07:42:46.038579Z"
    }
   },
   "cell_type": "code",
   "source": [
    "L = [1, 2, 3, 4, 5]\n",
    "# Queue\n",
    "while L:\n",
    "    front, L = L[0], L[1:]\n",
    "    print(front, L)\n",
    "print(L)"
   ],
   "id": "46d03a1725dcf9ae",
   "outputs": [
    {
     "name": "stdout",
     "output_type": "stream",
     "text": [
      "1 [2, 3, 4, 5]\n",
      "2 [3, 4, 5]\n",
      "3 [4, 5]\n",
      "4 [5]\n",
      "5 []\n",
      "[]\n"
     ]
    }
   ],
   "execution_count": 4
  },
  {
   "metadata": {
    "ExecuteTime": {
     "end_time": "2024-06-21T07:42:46.396584Z",
     "start_time": "2024-06-21T07:42:46.394406Z"
    }
   },
   "cell_type": "code",
   "source": [
    "L = [1, 2, 3, 4, 5]\n",
    "# Queue\n",
    "while L:\n",
    "    front = L.pop(0)\n",
    "    print(front, L)\n",
    "print(L)"
   ],
   "id": "3db64c9ce6bdf0ca",
   "outputs": [
    {
     "name": "stdout",
     "output_type": "stream",
     "text": [
      "1 [2, 3, 4, 5]\n",
      "2 [3, 4, 5]\n",
      "3 [4, 5]\n",
      "4 [5]\n",
      "5 []\n",
      "[]\n"
     ]
    }
   ],
   "execution_count": 5
  },
  {
   "metadata": {
    "ExecuteTime": {
     "end_time": "2024-06-21T07:42:46.744196Z",
     "start_time": "2024-06-21T07:42:46.742153Z"
    }
   },
   "cell_type": "code",
   "source": [
    "L = [1, 2, 3, 4, 5]\n",
    "# Queue\n",
    "while L:\n",
    "    front, *L = L\n",
    "    print(front, L)\n",
    "print(L)"
   ],
   "id": "b261fab5b4810397",
   "outputs": [
    {
     "name": "stdout",
     "output_type": "stream",
     "text": [
      "1 [2, 3, 4, 5]\n",
      "2 [3, 4, 5]\n",
      "3 [4, 5]\n",
      "4 [5]\n",
      "5 []\n",
      "[]\n"
     ]
    }
   ],
   "execution_count": 6
  },
  {
   "metadata": {
    "ExecuteTime": {
     "end_time": "2024-06-21T07:42:47.095180Z",
     "start_time": "2024-06-21T07:42:47.092791Z"
    }
   },
   "cell_type": "code",
   "source": [
    "L = [1, 2, 3, 4]\n",
    "a, b, c, d, *e = L\n",
    "print(a, b, c, d, e)\n",
    "a, b, c, *d = L\n",
    "print(a, b, c, d)\n",
    "a, b, *c, d, e = L\n",
    "print(a, b, c, d, e)"
   ],
   "id": "1a4633270881e48e",
   "outputs": [
    {
     "name": "stdout",
     "output_type": "stream",
     "text": [
      "1 2 3 4 []\n",
      "1 2 3 [4]\n",
      "1 2 [] 3 4\n"
     ]
    }
   ],
   "execution_count": 7
  },
  {
   "metadata": {
    "ExecuteTime": {
     "end_time": "2024-06-21T07:42:47.850302Z",
     "start_time": "2024-06-21T07:42:47.848074Z"
    }
   },
   "cell_type": "code",
   "source": "*a = L",
   "id": "f8ad8073b0a1f1cf",
   "outputs": [
    {
     "ename": "SyntaxError",
     "evalue": "starred assignment target must be in a list or tuple (3490998198.py, line 1)",
     "output_type": "error",
     "traceback": [
      "\u001B[0;36m  Cell \u001B[0;32mIn[8], line 1\u001B[0;36m\u001B[0m\n\u001B[0;31m    *a = L\u001B[0m\n\u001B[0m    ^\u001B[0m\n\u001B[0;31mSyntaxError\u001B[0m\u001B[0;31m:\u001B[0m starred assignment target must be in a list or tuple\n"
     ]
    }
   ],
   "execution_count": 8
  },
  {
   "metadata": {
    "ExecuteTime": {
     "end_time": "2024-06-21T07:42:48.258837Z",
     "start_time": "2024-06-21T07:42:48.257001Z"
    }
   },
   "cell_type": "code",
   "source": [
    "*a, = L\n",
    "print(a)"
   ],
   "id": "8ebd4c33a4ad223d",
   "outputs": [
    {
     "name": "stdout",
     "output_type": "stream",
     "text": [
      "[1, 2, 3, 4]\n"
     ]
    }
   ],
   "execution_count": 9
  },
  {
   "metadata": {
    "ExecuteTime": {
     "end_time": "2024-06-21T07:42:48.636964Z",
     "start_time": "2024-06-21T07:42:48.635105Z"
    }
   },
   "cell_type": "code",
   "source": [
    "l = [1,2]\n",
    "m = l\n",
    "l = l + [3,4] # 创建了新的列表\n",
    "print(l, m)"
   ],
   "id": "a756a79c5237aaff",
   "outputs": [
    {
     "name": "stdout",
     "output_type": "stream",
     "text": [
      "[1, 2, 3, 4] [1, 2]\n"
     ]
    }
   ],
   "execution_count": 10
  },
  {
   "metadata": {
    "ExecuteTime": {
     "end_time": "2024-06-21T07:42:49.023668Z",
     "start_time": "2024-06-21T07:42:49.021542Z"
    }
   },
   "cell_type": "code",
   "source": [
    "l = [1,2]\n",
    "m = l\n",
    "l += [3,4] # 原来的列表，相当于 extend\n",
    "print(l, m)"
   ],
   "id": "dd844118de56b8ec",
   "outputs": [
    {
     "name": "stdout",
     "output_type": "stream",
     "text": [
      "[1, 2, 3, 4] [1, 2, 3, 4]\n"
     ]
    }
   ],
   "execution_count": 11
  },
  {
   "metadata": {
    "ExecuteTime": {
     "end_time": "2024-06-21T07:42:49.391207Z",
     "start_time": "2024-06-21T07:42:49.388940Z"
    }
   },
   "cell_type": "code",
   "source": [
    "x = [1,2,3]\n",
    "y = 'spam'\n",
    "z = ['egg']\n",
    "print(x,y,z,sep='\\t')\n",
    "print(x,y,z,sep='\\t', end='..\\n')"
   ],
   "id": "45283b557688fbcc",
   "outputs": [
    {
     "name": "stdout",
     "output_type": "stream",
     "text": [
      "[1, 2, 3]\tspam\t['egg']\n",
      "[1, 2, 3]\tspam\t['egg']..\n"
     ]
    }
   ],
   "execution_count": 12
  },
  {
   "metadata": {
    "ExecuteTime": {
     "end_time": "2024-06-21T07:42:49.767214Z",
     "start_time": "2024-06-21T07:42:49.765118Z"
    }
   },
   "cell_type": "code",
   "source": "print(x,y,z,file=open('print.txt', 'w'))",
   "id": "fb26ea0f22f51afe",
   "outputs": [],
   "execution_count": 13
  },
  {
   "metadata": {
    "ExecuteTime": {
     "end_time": "2024-06-21T07:42:50.146651Z",
     "start_time": "2024-06-21T07:42:50.144470Z"
    }
   },
   "cell_type": "code",
   "source": "print(open('print.txt','r').read())",
   "id": "a24f9a8606426381",
   "outputs": [
    {
     "name": "stdout",
     "output_type": "stream",
     "text": [
      "[1, 2, 3] spam ['egg']\n",
      "\n"
     ]
    }
   ],
   "execution_count": 14
  },
  {
   "metadata": {},
   "cell_type": "markdown",
   "source": "# print重定向",
   "id": "a62ea8ec305a568d"
  },
  {
   "metadata": {
    "ExecuteTime": {
     "end_time": "2024-06-21T07:45:50.127650Z",
     "start_time": "2024-06-21T07:45:50.122912Z"
    }
   },
   "cell_type": "code",
   "source": [
    "import sys\n",
    "temp = sys.stdout\n",
    "sys.stdout = open('text.log', 'a')\n",
    "print('hello')\n",
    "print('world')\n",
    "print(1,2,3)\n",
    "sys.stdout.close()\n",
    "sys.stdout = temp\n",
    "# sys.stdout = sys.__stdout__"
   ],
   "id": "245a6fbcfb552197",
   "outputs": [],
   "execution_count": 1
  },
  {
   "metadata": {
    "ExecuteTime": {
     "end_time": "2024-06-21T07:45:50.668479Z",
     "start_time": "2024-06-21T07:45:50.665938Z"
    }
   },
   "cell_type": "code",
   "source": "print(open('text.log','r').read())",
   "id": "207c83655233b9",
   "outputs": [
    {
     "name": "stdout",
     "output_type": "stream",
     "text": [
      "hello\n",
      "world\n",
      "1 2 3\n",
      "hello\n",
      "world\n",
      "1 2 3\n",
      "hello\n",
      "world\n",
      "1 2 3\n",
      "hello\n",
      "world\n",
      "1 2 3\n",
      "hello\n",
      "world\n",
      "1 2 3\n",
      "hello\n",
      "world\n",
      "1 2 3\n",
      "hello\n",
      "world\n",
      "1 2 3\n",
      "hello\n",
      "world\n",
      "1 2 3\n",
      "hello\n",
      "world\n",
      "1 2 3\n",
      "hello\n",
      "world\n",
      "1 2 3\n",
      "hello\n",
      "world\n",
      "1 2 3\n",
      "hello\n",
      "world\n",
      "1 2 3\n",
      "hello\n",
      "world\n",
      "1 2 3\n",
      "\n"
     ]
    }
   ],
   "execution_count": 2
  },
  {
   "metadata": {
    "ExecuteTime": {
     "end_time": "2024-06-21T07:45:51.870550Z",
     "start_time": "2024-06-21T07:45:51.867398Z"
    }
   },
   "cell_type": "code",
   "source": "print(sys.__stdout__)",
   "id": "49e0d9a725627440",
   "outputs": [
    {
     "name": "stdout",
     "output_type": "stream",
     "text": [
      "<_io.TextIOWrapper name='<stdout>' mode='w' encoding='utf-8'>\n"
     ]
    }
   ],
   "execution_count": 3
  },
  {
   "metadata": {
    "ExecuteTime": {
     "end_time": "2024-06-21T07:48:33.402914Z",
     "start_time": "2024-06-21T07:48:33.400541Z"
    }
   },
   "cell_type": "code",
   "source": [
    "log = open('text.log', 'w')\n",
    "print('hello', file=log)\n",
    "print('world', file=log)\n",
    "print(1,2,3, file=log)\n",
    "log.close()"
   ],
   "id": "36bc07c3096a4e8a",
   "outputs": [],
   "execution_count": 4
  },
  {
   "metadata": {
    "ExecuteTime": {
     "end_time": "2024-06-21T07:48:36.628404Z",
     "start_time": "2024-06-21T07:48:36.626090Z"
    }
   },
   "cell_type": "code",
   "source": "print(open('text.log','r').read())",
   "id": "8661855f9b1cd907",
   "outputs": [
    {
     "name": "stdout",
     "output_type": "stream",
     "text": [
      "hello\n",
      "world\n",
      "1 2 3\n",
      "\n"
     ]
    }
   ],
   "execution_count": 5
  },
  {
   "metadata": {
    "ExecuteTime": {
     "end_time": "2024-06-21T07:50:57.087168Z",
     "start_time": "2024-06-21T07:50:57.085002Z"
    }
   },
   "cell_type": "code",
   "source": "print('hello', file=sys.stderr)",
   "id": "93bd1a2f680f0b7d",
   "outputs": [
    {
     "name": "stderr",
     "output_type": "stream",
     "text": [
      "hello\n"
     ]
    }
   ],
   "execution_count": 6
  },
  {
   "metadata": {
    "ExecuteTime": {
     "end_time": "2024-06-21T07:54:40.270178Z",
     "start_time": "2024-06-21T07:54:40.268076Z"
    }
   },
   "cell_type": "code",
   "source": [
    "class FileFaker:\n",
    "    def write(self, string):\n",
    "        pass\n",
    "\n",
    "myobj = FileFaker()\n",
    "print('hello', file=myobj)"
   ],
   "id": "13acbabc8b0718c0",
   "outputs": [],
   "execution_count": 12
  },
  {
   "metadata": {},
   "cell_type": "markdown",
   "source": "# if",
   "id": "62a210a790c5514a"
  },
  {
   "metadata": {
    "ExecuteTime": {
     "end_time": "2024-06-21T08:00:22.444176Z",
     "start_time": "2024-06-21T08:00:22.442221Z"
    }
   },
   "cell_type": "code",
   "source": [
    "branch = {'ham':1.25, 'egg':1.50, 'spam':2.00}\n",
    "print(branch.get('ham','Bad choice'))\n",
    "print(branch.get('ham1','Bad choice'))"
   ],
   "id": "fb1cac0eee7d8a2e",
   "outputs": [
    {
     "name": "stdout",
     "output_type": "stream",
     "text": [
      "1.25\n",
      "Bad choice\n"
     ]
    }
   ],
   "execution_count": 14
  },
  {
   "metadata": {
    "ExecuteTime": {
     "end_time": "2024-06-21T08:01:39.331988Z",
     "start_time": "2024-06-21T08:01:39.330203Z"
    }
   },
   "cell_type": "code",
   "source": [
    "choice ='ham'\n",
    "try:\n",
    "    print(branch[choice])\n",
    "except KeyError:\n",
    "    print('Bad choice')"
   ],
   "id": "a6227664bfdf730d",
   "outputs": [
    {
     "name": "stdout",
     "output_type": "stream",
     "text": [
      "1.25\n"
     ]
    }
   ],
   "execution_count": 17
  },
  {
   "metadata": {
    "ExecuteTime": {
     "end_time": "2024-06-21T08:03:24.741950Z",
     "start_time": "2024-06-21T08:03:24.739977Z"
    }
   },
   "cell_type": "code",
   "source": [
    "def fun():\n",
    "    print('Call fun')\n",
    "    \n",
    "def default():\n",
    "    print('Call default')\n",
    "    \n",
    "branch = {'ham':fun, 'egg':1.50, 'spam':2.00}\n",
    "branch.get('ham',default)()"
   ],
   "id": "78c9c3b5b006ff6d",
   "outputs": [
    {
     "name": "stdout",
     "output_type": "stream",
     "text": [
      "Call fun\n"
     ]
    }
   ],
   "execution_count": 22
  },
  {
   "metadata": {
    "ExecuteTime": {
     "end_time": "2024-06-21T08:12:23.070058Z",
     "start_time": "2024-06-21T08:12:23.067596Z"
    }
   },
   "cell_type": "code",
   "source": "2 or 3, 3 or 2, [] and 3, [] or {}",
   "id": "117cb72174927e37",
   "outputs": [
    {
     "data": {
      "text/plain": [
       "(2, 3, [], {})"
      ]
     },
     "execution_count": 25,
     "metadata": {},
     "output_type": "execute_result"
    }
   ],
   "execution_count": 25
  },
  {
   "metadata": {
    "ExecuteTime": {
     "end_time": "2024-06-21T08:16:54.305396Z",
     "start_time": "2024-06-21T08:16:54.303442Z"
    }
   },
   "cell_type": "code",
   "source": [
    "f1 = print('hello')\n",
    "if f1:\n",
    "    print('call f1')"
   ],
   "id": "c467a487c98974f3",
   "outputs": [
    {
     "name": "stdout",
     "output_type": "stream",
     "text": [
      "hello\n"
     ]
    }
   ],
   "execution_count": 27
  },
  {
   "metadata": {
    "ExecuteTime": {
     "end_time": "2024-06-21T08:20:00.416714Z",
     "start_time": "2024-06-21T08:20:00.413073Z"
    }
   },
   "cell_type": "code",
   "source": [
    "l = [1,0,2,0,'spam', {}, [], [1,2]]\n",
    "print(list(filter(bool, l)))\n",
    "print([x for x in l if bool(x)])\n",
    "print(any(l),all(l))"
   ],
   "id": "c177c56ee27cf57f",
   "outputs": [
    {
     "name": "stdout",
     "output_type": "stream",
     "text": [
      "[1, 2, 'spam', [1, 2]]\n",
      "[1, 2, 'spam', [1, 2]]\n",
      "True False\n"
     ]
    }
   ],
   "execution_count": 30
  },
  {
   "metadata": {},
   "cell_type": "markdown",
   "source": "# 循环",
   "id": "e9f47b4ccd7ff54"
  },
  {
   "metadata": {
    "ExecuteTime": {
     "end_time": "2024-06-21T08:25:10.231768Z",
     "start_time": "2024-06-21T08:25:10.227038Z"
    }
   },
   "cell_type": "code",
   "source": [
    "x = 'spam'\n",
    "while x:\n",
    "    print(x, end=' ')\n",
    "    x=x[1:]"
   ],
   "id": "d783d45bf20f3bdf",
   "outputs": [
    {
     "name": "stdout",
     "output_type": "stream",
     "text": [
      "spam pam am m "
     ]
    }
   ],
   "execution_count": 31
  },
  {
   "metadata": {
    "ExecuteTime": {
     "end_time": "2024-06-21T08:28:45.730239Z",
     "start_time": "2024-06-21T08:28:45.727835Z"
    }
   },
   "cell_type": "code",
   "source": [
    "def func1():...\n",
    "x = ...\n",
    "print(x)"
   ],
   "id": "6203e03ce987f2",
   "outputs": [
    {
     "name": "stdout",
     "output_type": "stream",
     "text": [
      "Ellipsis\n"
     ]
    }
   ],
   "execution_count": 34
  },
  {
   "metadata": {
    "ExecuteTime": {
     "end_time": "2024-06-21T08:48:07.517455Z",
     "start_time": "2024-06-21T08:48:07.514428Z"
    }
   },
   "cell_type": "code",
   "source": "print(open('text.log').read())",
   "id": "53ccf0144e171aa9",
   "outputs": [
    {
     "name": "stdout",
     "output_type": "stream",
     "text": [
      "hello\n",
      "world\n",
      "1 2 3\n",
      "\n"
     ]
    }
   ],
   "execution_count": 39
  },
  {
   "metadata": {
    "ExecuteTime": {
     "end_time": "2024-06-21T08:50:33.360658Z",
     "start_time": "2024-06-21T08:50:33.358325Z"
    }
   },
   "cell_type": "code",
   "source": [
    "for line in open('text.log'):\n",
    "    print(line.rstrip())"
   ],
   "id": "e5cc454b4daaf03f",
   "outputs": [
    {
     "name": "stdout",
     "output_type": "stream",
     "text": [
      "hello\n",
      "world\n",
      "1 2 3\n"
     ]
    }
   ],
   "execution_count": 42
  },
  {
   "metadata": {
    "ExecuteTime": {
     "end_time": "2024-06-21T08:50:55.635092Z",
     "start_time": "2024-06-21T08:50:55.632722Z"
    }
   },
   "cell_type": "code",
   "source": [
    "for line in open('text.log').readlines():\n",
    "    print(line.rstrip())"
   ],
   "id": "b304f799b8dad709",
   "outputs": [
    {
     "name": "stdout",
     "output_type": "stream",
     "text": [
      "hello\n",
      "world\n",
      "1 2 3\n"
     ]
    }
   ],
   "execution_count": 44
  },
  {
   "metadata": {
    "ExecuteTime": {
     "end_time": "2024-06-21T08:52:20.704897Z",
     "start_time": "2024-06-21T08:52:20.699443Z"
    }
   },
   "cell_type": "code",
   "source": [
    "for line in reversed(open('text.log').readlines()):\n",
    "    print(line.rstrip())"
   ],
   "id": "d4cf30f24387db6a",
   "outputs": [
    {
     "name": "stdout",
     "output_type": "stream",
     "text": [
      "1 2 3\n",
      "world\n",
      "hello\n"
     ]
    }
   ],
   "execution_count": 45
  },
  {
   "metadata": {
    "ExecuteTime": {
     "end_time": "2024-06-21T08:54:56.364417Z",
     "start_time": "2024-06-21T08:54:56.360026Z"
    }
   },
   "cell_type": "code",
   "source": "list(range(5)), list(range(2,5)), list(range(2,10,2))",
   "id": "c55e6f7dc01c001d",
   "outputs": [
    {
     "data": {
      "text/plain": [
       "([0, 1, 2, 3, 4], [2, 3, 4], [2, 4, 6, 8])"
      ]
     },
     "execution_count": 46,
     "metadata": {},
     "output_type": "execute_result"
    }
   ],
   "execution_count": 46
  },
  {
   "metadata": {
    "ExecuteTime": {
     "end_time": "2024-06-21T08:55:30.600770Z",
     "start_time": "2024-06-21T08:55:30.597126Z"
    }
   },
   "cell_type": "code",
   "source": "list(zip('spam', 'eggs'))",
   "id": "a12d429421db87c8",
   "outputs": [
    {
     "data": {
      "text/plain": [
       "[('s', 'e'), ('p', 'g'), ('a', 'g'), ('m', 's')]"
      ]
     },
     "execution_count": 48,
     "metadata": {},
     "output_type": "execute_result"
    }
   ],
   "execution_count": 48
  },
  {
   "metadata": {
    "ExecuteTime": {
     "end_time": "2024-06-21T08:59:13.346607Z",
     "start_time": "2024-06-21T08:59:13.343992Z"
    }
   },
   "cell_type": "code",
   "source": [
    "s = 'spam'\n",
    "print(id(s))\n",
    "for i in range(len(s)):\n",
    "    s = s[1:] + s[:1] # new list\n",
    "    print(s, end=' ')\n",
    "    print(id(s))\n",
    "print(id(s))"
   ],
   "id": "4cba8b0edc4dcbad",
   "outputs": [
    {
     "name": "stdout",
     "output_type": "stream",
     "text": [
      "4487156016\n",
      "pams 4500161008\n",
      "amsp 4500160688\n",
      "mspa 4500174640\n",
      "spam 4500162608\n",
      "4500162608\n"
     ]
    }
   ],
   "execution_count": 54
  },
  {
   "metadata": {
    "ExecuteTime": {
     "end_time": "2024-06-21T09:16:32.937903Z",
     "start_time": "2024-06-21T09:16:32.934261Z"
    }
   },
   "cell_type": "code",
   "source": [
    "s = 'abcdefghijklnm'\n",
    "for i in range(0, len(s), 2):\n",
    "    print(s[i], end=' ')"
   ],
   "id": "aa53d7bcf7083b49",
   "outputs": [
    {
     "name": "stdout",
     "output_type": "stream",
     "text": [
      "a c e g i k n "
     ]
    }
   ],
   "execution_count": 55
  },
  {
   "metadata": {
    "ExecuteTime": {
     "end_time": "2024-06-21T09:16:59.330890Z",
     "start_time": "2024-06-21T09:16:59.328941Z"
    }
   },
   "cell_type": "code",
   "source": [
    "for i in s[::2]:\n",
    "    print(i, end=' ')"
   ],
   "id": "493a83f639b2daae",
   "outputs": [
    {
     "name": "stdout",
     "output_type": "stream",
     "text": [
      "a c e g i k n "
     ]
    }
   ],
   "execution_count": 56
  },
  {
   "metadata": {
    "ExecuteTime": {
     "end_time": "2024-06-21T09:19:07.331591Z",
     "start_time": "2024-06-21T09:19:07.328368Z"
    }
   },
   "cell_type": "code",
   "source": [
    "l = [1,2,3,4]\n",
    "[x + 1 for x in l]"
   ],
   "id": "5e2bf76e5da9671b",
   "outputs": [
    {
     "data": {
      "text/plain": [
       "[2, 3, 4, 5]"
      ]
     },
     "execution_count": 57,
     "metadata": {},
     "output_type": "execute_result"
    }
   ],
   "execution_count": 57
  },
  {
   "metadata": {
    "ExecuteTime": {
     "end_time": "2024-06-21T09:19:46.881507Z",
     "start_time": "2024-06-21T09:19:46.879014Z"
    }
   },
   "cell_type": "code",
   "source": [
    "l1 = [1,2,3,4]\n",
    "l2 = [x **2 for x in l1]\n",
    "list(zip(l1, l2))"
   ],
   "id": "e0ef9750ca7b7f6e",
   "outputs": [
    {
     "data": {
      "text/plain": [
       "[(1, 1), (2, 4), (3, 9), (4, 16)]"
      ]
     },
     "execution_count": 59,
     "metadata": {},
     "output_type": "execute_result"
    }
   ],
   "execution_count": 59
  },
  {
   "metadata": {
    "ExecuteTime": {
     "end_time": "2024-06-21T09:20:13.021833Z",
     "start_time": "2024-06-21T09:20:13.019896Z"
    }
   },
   "cell_type": "code",
   "source": [
    "for x,y in zip(l1, l2):\n",
    "    print(x,y,'---', x+y)"
   ],
   "id": "feb25a9a4e505270",
   "outputs": [
    {
     "name": "stdout",
     "output_type": "stream",
     "text": [
      "1 1 --- 2\n",
      "2 4 --- 6\n",
      "3 9 --- 12\n",
      "4 16 --- 20\n"
     ]
    }
   ],
   "execution_count": 60
  },
  {
   "metadata": {
    "ExecuteTime": {
     "end_time": "2024-06-21T09:33:21.625350Z",
     "start_time": "2024-06-21T09:33:21.623438Z"
    }
   },
   "cell_type": "code",
   "source": [
    "for i,v in enumerate('spam'):\n",
    "    print(i,v)"
   ],
   "id": "aaf6ffa5dfbe59ce",
   "outputs": [
    {
     "name": "stdout",
     "output_type": "stream",
     "text": [
      "0 s\n",
      "1 p\n",
      "2 a\n",
      "3 m\n"
     ]
    }
   ],
   "execution_count": 62
  },
  {
   "metadata": {
    "ExecuteTime": {
     "end_time": "2024-06-21T09:33:48.628977Z",
     "start_time": "2024-06-21T09:33:48.627108Z"
    }
   },
   "cell_type": "code",
   "source": [
    "E = enumerate('spam')\n",
    "print(next(E))\n",
    "print(next(E))\n",
    "print(next(E))\n",
    "print(next(E))"
   ],
   "id": "914d89d0966f2ce3",
   "outputs": [
    {
     "name": "stdout",
     "output_type": "stream",
     "text": [
      "(0, 's')\n",
      "(1, 'p')\n",
      "(2, 'a')\n",
      "(3, 'm')\n"
     ]
    }
   ],
   "execution_count": 66
  },
  {
   "metadata": {
    "ExecuteTime": {
     "end_time": "2024-06-21T09:35:24.297366Z",
     "start_time": "2024-06-21T09:35:24.295204Z"
    }
   },
   "cell_type": "code",
   "source": [
    "for i, l in enumerate(open('text.log')):\n",
    "    print(i, l.rstrip(), sep=')')"
   ],
   "id": "6a6441aefc019021",
   "outputs": [
    {
     "name": "stdout",
     "output_type": "stream",
     "text": [
      "0)hello\n",
      "1)world\n",
      "2)1 2 3\n"
     ]
    }
   ],
   "execution_count": 72
  },
  {
   "metadata": {},
   "cell_type": "markdown",
   "source": "os.popen()",
   "id": "c10adf323b2533e5"
  },
  {
   "metadata": {
    "ExecuteTime": {
     "end_time": "2024-06-21T09:37:40.668787Z",
     "start_time": "2024-06-21T09:37:40.661480Z"
    }
   },
   "cell_type": "code",
   "source": [
    "import os\n",
    "F = os.popen('pwd')\n",
    "F.readline()"
   ],
   "id": "991078b6eb5c13c9",
   "outputs": [
    {
     "data": {
      "text/plain": [
       "'/Users/kearney/CODE/Fluent_Python/Learning Python\\n'"
      ]
     },
     "execution_count": 76,
     "metadata": {},
     "output_type": "execute_result"
    }
   ],
   "execution_count": 76
  },
  {
   "metadata": {
    "ExecuteTime": {
     "end_time": "2024-06-21T09:38:38.600677Z",
     "start_time": "2024-06-21T09:38:38.590331Z"
    }
   },
   "cell_type": "code",
   "source": [
    "F = os.popen('ls -ltr')\n",
    "F.readlines()[2]"
   ],
   "id": "414a201ca7fdef40",
   "outputs": [
    {
     "data": {
      "text/plain": [
       "'-rw-r--r--  1 kearney  staff     37 Jun 20 21:54 myfile.txt\\n'"
      ]
     },
     "execution_count": 79,
     "metadata": {},
     "output_type": "execute_result"
    }
   ],
   "execution_count": 79
  },
  {
   "metadata": {
    "ExecuteTime": {
     "end_time": "2024-06-21T09:39:08.910271Z",
     "start_time": "2024-06-21T09:39:08.900741Z"
    }
   },
   "cell_type": "code",
   "source": [
    "for line in os.popen('ls -ltr'):\n",
    "    print(line.rstrip())"
   ],
   "id": "f1eb801071fee80f",
   "outputs": [
    {
     "name": "stdout",
     "output_type": "stream",
     "text": [
      "total 344\n",
      "-rw-r--r--  1 kearney  staff  29270 Jun 20 16:31 Chapter5-6.ipynb\n",
      "-rw-r--r--  1 kearney  staff     37 Jun 20 21:54 myfile.txt\n",
      "-rw-r--r--  1 kearney  staff      4 Jun 20 21:59 data.bin\n",
      "-rw-r--r--  1 kearney  staff     41 Jun 21 09:38 datafile.txt\n",
      "-rw-r--r--  1 kearney  staff     72 Jun 21 09:51 datafile.pkl\n",
      "-rw-r--r--  1 kearney  staff    137 Jun 21 10:00 textjson.txt\n",
      "-rw-r--r--  1 kearney  staff  16384 Jun 21 10:03 datafile.shelve.db\n",
      "-rw-r--r--  1 kearney  staff      0 Jun 21 10:08 strcut.bin\n",
      "-rw-r--r--  1 kearney  staff     10 Jun 21 11:34 textfile.txt\n",
      "-rw-r--r--  1 kearney  staff  65146 Jun 21 11:34 Chapter7-9.ipynb\n",
      "-rw-r--r--  1 kearney  staff     23 Jun 21 15:42 print.txt\n",
      "-rw-r--r--@ 1 kearney  staff     18 Jun 21 15:48 text.log\n",
      "-rw-r--r--  1 kearney  staff  25721 Jun 21 17:39 chapter10-12.ipynb\n"
     ]
    }
   ],
   "execution_count": 80
  },
  {
   "metadata": {
    "ExecuteTime": {
     "end_time": "2024-06-21T09:45:04.166447Z",
     "start_time": "2024-06-21T09:45:04.156316Z"
    }
   },
   "cell_type": "code",
   "source": [
    "for i,l in enumerate(os.popen('ls')):\n",
    "    if i ==4:\n",
    "        break\n",
    "    print(f'{i:06d}){l.rstrip():>50}')"
   ],
   "id": "3f265c45a2133a35",
   "outputs": [
    {
     "name": "stdout",
     "output_type": "stream",
     "text": [
      "000000)                                  Chapter5-6.ipynb\n",
      "000001)                                  Chapter7-9.ipynb\n",
      "000002)                                chapter10-12.ipynb\n",
      "000003)                                          data.bin\n"
     ]
    }
   ],
   "execution_count": 84
  },
  {
   "metadata": {
    "ExecuteTime": {
     "end_time": "2024-06-21T09:47:29.791445Z",
     "start_time": "2024-06-21T09:47:28.198902Z"
    }
   },
   "cell_type": "code",
   "source": [
    "from urllib.request import urlopen\n",
    "for line in urlopen('http://trip.com'):\n",
    "    print(line)"
   ],
   "id": "f171102a0ffb35c9",
   "outputs": [
    {
     "name": "stdout",
     "output_type": "stream",
     "text": [
      "b'<!DOCTYPE html><html lang=\"en-XX\" data-idc=\"SGP-ALI\" data-cargo=\"locale:en-XX,language:en,currency:USD,contextType:online,site:EN,group:Trip\" dir=\"ltr\" data-platform=\"online\" data-reactroot=\"\"><head><title>Trip.com Official Site\\xe2\\x80\\x8e\\xe2\\x80\\x8e | Travel Deals and Promotions</title><meta name=\"description\" content=\"Choose from over 1.2 million hotels in more than 200 countries, 30 million real guest reviews. Book flights to over 5,000 destinations worldwide. 24/7 Customer Service.\"/><meta name=\"keywords\" content=\"Trip.com, Flights, Cheap Flights, reservations, Hotel, Hotels, Inn, Accommodation, Discount, Vacation package, Travel, Trip, Deals, Specials, Train\"/><meta http-equiv=\"x-dns-prefetch-control\" content=\"on\"/><link rel=\"preconnect\" href=\"//www.google-analytics.com\" crossorigin=\"anonymous\"/><link rel=\"dns-prefetch\" href=\"//www.google-analytics.com\"/><link rel=\"preconnect\" href=\"//ak-d.tripcdn.com\" crossorigin=\"anonymous\"/><link rel=\"dns-prefetch\" href=\"//ak-d.tripcdn.com\"/><link rel=\"preconnect\" href=\"//dimg04.tripcdn.com\" crossorigin=\"anonymous\"/><link rel=\"dns-prefetch\" href=\"//dimg04.tripcdn.com\"/><link rel=\"preconnect\" href=\"//ws-s.tripcdn.cn\" crossorigin=\"anonymous\"/><link rel=\"dns-prefetch\" href=\"//ws-s.tripcdn.cn\"/><link rel=\"preload\" href=\"https://ws-s.tripcdn.cn/modules/ibu/ibu-public-component-umd/style.a1d703e220b8c5084c7e71e5af38b81c.css\" as=\"style\" crossorigin=\"anonymous\"/><link rel=\"preload\" href=\"https://ws-s.tripcdn.cn/modules/ibu/online-home/onlineHome.96574bb55a6440f4de17a1b7747c03c1.css\" as=\"style\" crossorigin=\"anonymous\"/><link rel=\"preload\" href=\"https://ws-s.tripcdn.cn/modules/ibu/online-assets/homeFont.2e9f4d0f4b1e6557b519dea4e42d29e4.css\" as=\"style\" crossorigin=\"anonymous\"/><link rel=\"preload\" href=\"https://ws-s.tripcdn.cn/modules/ibu/online-home/hotelRtl.ac5893bd63128cee1195f0f9d2410958.css\" as=\"style\" crossorigin=\"anonymous\"/><link rel=\"preload\" href=\"https://ws-s.tripcdn.cn/modules/ibu/online-home/languageMatch.6acdaf793ff508bfddfa3d125bf92875.css\" as=\"style\" crossorigin=\"anonymous\"/><link rel=\"preload\" href=\"https://ws-s.tripcdn.cn/modules/ibu/online-home/onlineNewGuests.4e9ccaa2212b2e56a51c93cd549b2c0f.css\" as=\"style\" crossorigin=\"anonymous\"/><link rel=\"preload\" href=\"https://ws-s.tripcdn.cn/modules/ibu/online-home/onlineGotop.1b83f794eb61a17a3cbd061e7a3948c9.css\" as=\"style\" crossorigin=\"anonymous\"/><link rel=\"preload\" href=\"https://ws-s.tripcdn.cn/modules/ibu/online-home/onlineGoogleonetap.70ce4103068e19d688523c7c5cf1315d.css\" as=\"style\" crossorigin=\"anonymous\"/><link rel=\"preload\" href=\"https://ws-s.tripcdn.cn/modules/ibu/online-home/onlineRecommendHotels.fe86baa8d1b6d8f8cbfff90e4e3e2172.css\" as=\"style\" crossorigin=\"anonymous\"/><link rel=\"preload\" href=\"https://ws-s.tripcdn.cn/locale/v3/6001/en-XX.js?etagc=95a18b0eaa15fe6f62b421f477948e62\" as=\"script\" crossorigin=\"anonymous\"/><link rel=\"preload\" href=\"https://ws-s.tripcdn.cn/locale/v3/6002/en-XX.js?etagc=91f50681a957e6363e50adf77c76da0d\" as=\"script\" crossorigin=\"anonymous\"/><link rel=\"preload\" href=\"https://ws-s.tripcdn.cn/modules/basebiz/ipoll-online-sdk/index.ebc5d439ea8db69057264a878b3a35a6.js\" as=\"script\" crossorigin=\"anonymous\"/><link rel=\"preload\" href=\"https://ws-s.tripcdn.cn/modules/ibu/online-home/l10n.102b21f75e5df9f8900e6c0378ff78e9.js\" as=\"script\" crossorigin=\"anonymous\"/><link rel=\"preload\" href=\"https://ws-s.tripcdn.cn/modules/ibu/ibu-public-component-umd/production.min.2c414bbcac5b8e1d94a314d00208e77c.js\" as=\"script\" crossorigin=\"anonymous\"/><link rel=\"preload\" href=\"https://ws-s.tripcdn.cn/polyfill.js\" as=\"script\" crossorigin=\"anonymous\"/><link rel=\"preload\" href=\"https://ws-s.tripcdn.cn/modules/ibu/online-home/vendor.a93af45b2ebb5bda47b8625c238251a3.js\" as=\"script\" crossorigin=\"anonymous\"/><link rel=\"preload\" href=\"https://ws-s.tripcdn.cn/modules/ibu/online-home/common.74ea108b8705f5b824403bfd35d59527.js\" as=\"script\" crossorigin=\"anonymous\"/><link rel=\"preload\" href=\"https://ws-s.tripcdn.cn/ares/api/cc?f=locale%2Fv3%2F100014416%2Fen-XX.js%2C%2Flocale%2Fv3%2F330153%2Fen-XX.js%2C%2Flocale%2Fv3%2F330151%2Fen-XX.js%2C%2Flocale%2Fv3%2F100009239%2Fen-XX.js%2C%2Flocale%2Fv3%2F6002%2Fen-XX.js%2C%2Flocale%2Fv3%2F100014113%2Fen-XX.js%2C%2Flocale%2Fv3%2F3828%2Fen-XX.js&amp;etagc=dbac54f58a7786f8347157e310a96f6a\" as=\"script\" crossorigin=\"anonymous\"/><link rel=\"preload\" href=\"https://ws-s.tripcdn.cn/modules/ibu/online-home/onlineHome.7c7e606c5a9d6585c092e1b44e22863d.js\" as=\"script\" crossorigin=\"anonymous\"/><link rel=\"preload\" href=\"https://ws-s.tripcdn.cn/modules/ibu/online-home/hotelRtl.fb37e254008ca584924b1e58793a2f88.js\" as=\"script\" crossorigin=\"anonymous\"/><link rel=\"preload\" href=\"https://ws-s.tripcdn.cn/locale/v3/100018131/en-XX.js?etagc=969dcf0760fb5498f2a2436a9686f4f6\" as=\"script\" crossorigin=\"anonymous\"/><link rel=\"preload\" href=\"https://ws-s.tripcdn.cn/modules/ibu/online-home/languageMatch.1e8fb849502dc283b4554280b197deb6.js\" as=\"script\" crossorigin=\"anonymous\"/><link rel=\"preload\" href=\"https://ws-s.tripcdn.cn/modules/ibu/online-home/onlineNewGuests.ee6c3e24aa9838c38994ee167e66aed2.js\" as=\"script\" crossorigin=\"anonymous\"/><link rel=\"preload\" href=\"https://ws-s.tripcdn.cn/modules/ibu/online-home/onlineGotop.b9be2568b6d51c376469164c2e89a960.js\" as=\"script\" crossorigin=\"anonymous\"/><link rel=\"preload\" href=\"https://ws-s.tripcdn.cn/modules/ibu/online-home/onlineGoogleonetap.f128f7892c9a62a8aa8accf7694ea978.js\" as=\"script\" crossorigin=\"anonymous\"/><link rel=\"preload\" href=\"https://ws-s.tripcdn.cn/modules/ibu/online-home/onlineRecommendHotels.aac47c047edd78eba9f26eae38180a17.js\" as=\"script\" crossorigin=\"anonymous\"/><link rel=\"preload\" href=\"https://ak-d.tripcdn.com/images/05E2h12000cmau3np7748.jpg\" as=\"image\"/><link rel=\"preload\" href=\"https://ak-d.tripcdn.com/images/05E2012000cmarxu2D88D.jpg\" as=\"image\"/><link rel=\"preload\" href=\"https://ws-s.tripcdn.cn/modules/ibu/online-assets/TripGeom-Bold.9e9e0eb59209311df954413ff4957cbb.woff2\" as=\"font\" crossorigin=\"anonymous\"/><link rel=\"preload\" href=\"https://ws-s.tripcdn.cn/modules/ibu/online-assets/TripGeom-Medium.c01bb95e18e1b0d0137ff80b79b97a38.woff2\" as=\"font\" crossorigin=\"anonymous\"/><link rel=\"preload\" href=\"https://ws-s.tripcdn.cn/modules/ibu/online-assets/TripGeom-Regular.ba9c64b894f5e19551d23b37a07ba0a4.woff2\" as=\"font\" crossorigin=\"anonymous\"/><meta http-equiv=\"Content-Type\" content=\"text/html; charset=utf-8\"/><meta name=\"viewport\" content=\"width=device-width, initial-scale=1.0, maximum-scale=1.0\"/><meta http-equiv=\"pragma\" content=\"no-cache\"/><meta http-equiv=\"x-ua-compatible\" content=\"IE=edge,chrome=1\"/><link rel=\"SHORTCUT ICON\" href=\"/trip.ico\" type=\"image/x-icon\"/><link rel=\"stylesheet\" href=\"https://ws-s.tripcdn.cn/modules/ibu/ibu-public-component-umd/style.a1d703e220b8c5084c7e71e5af38b81c.css\" crossorigin=\"anonymous\"/><link rel=\"stylesheet\" href=\"https://ws-s.tripcdn.cn/modules/ibu/online-home/onlineHome.96574bb55a6440f4de17a1b7747c03c1.css\" crossorigin=\"anonymous\"/><link rel=\"stylesheet\" href=\"https://ws-s.tripcdn.cn/modules/ibu/online-assets/homeFont.2e9f4d0f4b1e6557b519dea4e42d29e4.css\" crossorigin=\"anonymous\"/><link rel=\"alternate\" href=\"https://www.trip.com/\" hrefLang=\"x-default\"/><link rel=\"alternate\" href=\"https://uk.trip.com/\" hrefLang=\"en-GB\"/><link rel=\"alternate\" href=\"https://hk.trip.com/\" hrefLang=\"zh-Hant-HK\"/><link rel=\"alternate\" href=\"https://kr.trip.com/\" hrefLang=\"ko\"/><link rel=\"alternate\" href=\"https://jp.trip.com/\" hrefLang=\"ja\"/><link rel=\"alternate\" href=\"https://sg.trip.com/\" hrefLang=\"en-SG\"/><link rel=\"alternate\" href=\"https://au.trip.com/\" hrefLang=\"en-AU\"/><link rel=\"alternate\" href=\"https://de.trip.com/\" hrefLang=\"de\"/><link rel=\"alternate\" href=\"https://fr.trip.com/\" hrefLang=\"fr\"/><link rel=\"alternate\" href=\"https://es.trip.com/\" hrefLang=\"es\"/><link rel=\"alternate\" href=\"https://it.trip.com/\" hrefLang=\"it\"/><link rel=\"alternate\" href=\"https://ru.trip.com/\" hrefLang=\"ru\"/><link rel=\"alternate\" href=\"https://th.trip.com/\" hrefLang=\"th\"/><link rel=\"alternate\" href=\"https://id.trip.com/\" hrefLang=\"id\"/><link rel=\"alternate\" href=\"https://my.trip.com/\" hrefLang=\"ms\"/><link rel=\"alternate\" href=\"https://vn.trip.com/\" hrefLang=\"vi\"/><link rel=\"alternate\" href=\"https://nl.trip.com/\" hrefLang=\"nl\"/><link rel=\"alternate\" href=\"https://pl.trip.com/\" hrefLang=\"pl\"/><link rel=\"alternate\" href=\"https://gr.trip.com/\" hrefLang=\"el\"/><link rel=\"alternate\" href=\"https://tr.trip.com/\" hrefLang=\"tr\"/><link rel=\"alternate\" href=\"https://br.trip.com/\" hrefLang=\"pt\"/><link rel=\"alternate\" href=\"https://tw.trip.com/\" hrefLang=\"zh-Hant-TW\"/><link rel=\"alternate\" href=\"https://nz.trip.com/\" hrefLang=\"en-NZ\"/><link rel=\"alternate\" href=\"https://ca.trip.com/\" hrefLang=\"en-CA\"/><link rel=\"alternate\" href=\"https://us.trip.com/\" hrefLang=\"en-US\"/><meta name=\"google-site-verification\" content=\"SZw7sFjvMn0hDyxTj4m3N93T7k9XCiTZjqUJeJD2PDE\"/><meta name=\"baidu-site-verification\" content=\"e7HTvxAqvI\"/><meta name=\"yandex-verification\" content=\"4419688b31331801\"/><meta name=\"msvalidate.01\" content=\"DA2FE3A40F96FB7B32FD9AC73A236230\"/><meta name=\"p:domain_verify\" content=\"37d5b7b05eb4bd44d40fb4c6543262b3\"/><meta property=\"fb:app_id\" content=\"891889767495675\"/><meta property=\"og:title\" content=\"Trip.com Official Site\\xe2\\x80\\x8e\\xe2\\x80\\x8e | Travel Deals and Promotions\"/><meta property=\"og:description\" content=\"Choose from over 1.2 million hotels in more than 200 countries, 30 million real guest reviews. Book flights to over 5,000 destinations worldwide. 24/7 Customer Service.\"/><meta property=\"og:url\" content=\"www.trip.com\"/><meta property=\"og:image\" content=\"https://ak-d.tripcdn.com/images/05E1412000cmevvp5D2FE.png\"/><meta name=\"twitter:card\" content=\"summary_large_image\"/><meta name=\"twitter:title\" content=\"Trip.com Official Site\\xe2\\x80\\x8e\\xe2\\x80\\x8e | Travel Deals and Promotions\"/><meta name=\"twitter:description\" content=\"Choose from over 1.2 million hotels in more than 200 countries, 30 million real guest reviews. Book flights to over 5,000 destinations worldwide. 24/7 Customer Service.\"/><meta name=\"twitter:url\" content=\"www.trip.com\"/><meta name=\"twitter:image\" content=\"https://ak-d.tripcdn.com/images/05E1412000cmevvp5D2FE.png\"/><link rel=\"canonical\" href=\"https://www.trip.com/\"/><script type=\"application/ld+json\">\\n'\n",
      "b'          [{\\n'\n",
      "b'            \"@context\": \"https://schema.org\",\\n'\n",
      "b'            \"@type\": \"SiteNavigationElement\",\\n'\n",
      "b'            \"name\": \"Hotels\",\\n'\n",
      "b'            \"url\": \"https://www.trip.com/hotels/\"},\\n'\n",
      "b'          {\\n'\n",
      "b'            \"@context\": \"https://schema.org\",\\n'\n",
      "b'            \"@type\": \"SiteNavigationElement\",\\n'\n",
      "b'            \"name\": \"Flights\",\\n'\n",
      "b'            \"url\": \"https://www.trip.com/flights/\"},\\n'\n",
      "b'          {\\n'\n",
      "b'            \"@context\": \"https://schema.org\",\\n'\n",
      "b'            \"@type\": \"SiteNavigationElement\",\\n'\n",
      "b'            \"name\": \"Trains\",\\n'\n",
      "b'            \"url\": \"https://www.trip.com/trains/\"},\\n'\n",
      "b'          {\\n'\n",
      "b'            \"@context\": \"https://schema.org\",\\n'\n",
      "b'            \"@type\": \"SiteNavigationElement\",\\n'\n",
      "b'            \"name\": \"Attractions & Tours\",\\n'\n",
      "b'            \"url\": \"https://www.trip.com/things-to-do/\"},\\n'\n",
      "b'          {\\n'\n",
      "b'            \"@context\": \"https://schema.org\",\\n'\n",
      "b'            \"@type\": \"SiteNavigationElement\",\\n'\n",
      "b'            \"name\": \"Destinations\",\\n'\n",
      "b'            \"url\": \"https://www.trip.com/travel-guide/\"},\\n'\n",
      "b'          {\\n'\n",
      "b'            \"@context\": \"https://schema.org\",\\n'\n",
      "b'            \"@type\": \"SiteNavigationElement\",\\n'\n",
      "b'            \"name\": \"Deals\",\\n'\n",
      "b'            \"url\": \"https://www.trip.com/sale/deals/\"},\\n'\n",
      "b'          {\\n'\n",
      "b'            \"@context\": \"https://schema.org\",\\n'\n",
      "b'            \"@type\": \"WebSite\",\\n'\n",
      "b'            \"name\": \"Trip.com\",\\n'\n",
      "b'            \"url\": \"https://www.trip.com/\"\\n'\n",
      "b'          }]\\n'\n",
      "b'          </script><script type=\"application/ld+json\">\\n'\n",
      "b'      {\\n'\n",
      "b'        \"@context\": \"https://schema.org\",\\n'\n",
      "b'        \"@type\": \"WebSite\",\\n'\n",
      "b'        \"url\": \"https://www.trip.com/\",\\n'\n",
      "b'        \"potentialAction\": [{\\n'\n",
      "b'          \"@type\": \"SearchAction\",\\n'\n",
      "b'          \"target\": {\\n'\n",
      "b'            \"@type\": \"EntryPoint\",\\n'\n",
      "b'            \"urlTemplate\": \"https://www.trip.com/travel-guide/search/?keyword={search_term_string}\"\\n'\n",
      "b'          },\\n'\n",
      "b'          \"query-input\": \"required name=search_term_string\"\\n'\n",
      "b'        }],\\n'\n",
      "b'      }\\n'\n",
      "b'      </script><meta name=\"msapplication-starturl\" content=\"/?from=sw\"/><meta name=\"theme-color\" content=\"#FFFFFF\"/><link rel=\"manifest\" href=\"/m/manifest.json?sceneId=&amp;locale=en-XX\"/></head><body><div id=\"main\" class=\"no-webp\"><div class=\"home-header-container home-header-container-jpg-bg\"><div class=\"mc-hd mc-hd__en-xx mc-hd_theme_transparent\"><div class=\"mc-hd__inner\"><div class=\"mc-hd__flex-con clear-float\"><div class=\"mc-hd__logo-con mc-hd__logo-con-en-XX mc-hd__logo-layout-0\"><a class=\"mc-hd__logo mc-hd__logo-en-xx\" href=\"/?locale=en-XX&amp;curr=USD\"></a></div><div class=\"mc-hd__func-con\" id=\"ibuHeaderMenu\"><div class=\"mc-hd__func\"><div class=\"mc-hd__option\"><div class=\"mc-hd__mobile\"><div class=\"mc-hd__dropdown-cur mc-hd__mobile-cur\" id=\"header_action_app_download\"><a target=\"_blank\" rel=\"noopener noreferrer\"><span class=\"mc-hd__mobile-APP\">App</span></a><i class=\"fi fi-mobile_phone_outlined\"></i></div></div></div><div class=\"mc-hd__option\"><div class=\"mc-hd__help\"><a title=\"Customer Support\" target=\"_blank\" rel=\"noreferrer\">Customer Support</a><i class=\"fi fi-bangzhu\"></i></div></div><div class=\"mc-hd__option mc-hd__option__locale\"><div class=\"mc-hd__country mc-hd__dropdown-con\"><div class=\"mc-hd__country-cur mc-hd__dropdown-cur\"><span class=\"mc-hd__country-icon\"><i class=\"ic-flagicon flag-en-XX\"></i></span></div></div></div><div class=\"mc-hd__option mc-hd__option__currency\"><div class=\"mc-hd__currency mc-hd__dropdown-con\"><div class=\"mc-hd__dropdown-cur mc-hd__currency-cur\">USD</div></div></div><div class=\"mc-hd__search-booking\" id=\"header_action_ordersearch\"><a class=\"mc-hd__search-booking-cur\" href=\"/passport/ordersearch/?locale=en-XX&amp;curr=USD\">Search Bookings</a></div><div class=\"mc-hd__account mc-hd__dropdown-con mc-hd__account-nologin\" style=\"display:block\"><span class=\"mc-hd__login-btn\">Sign in<!-- --> / <!-- -->Register</span></div></div></div></div><div class=\"mc-hd__nav-new-row\"><div class=\"mc-hd__nav-con 3010 mc-hd__nav-loading\" id=\"ibuHeaderChannels\"><ul class=\"mc-hd__nav\"><li class=\"mc-hd__nav-item\"><a id=\"header_action_nav_hotels\" class=\"mc-hd__nav-lnk\" href=\"/hotels/?locale=en-XX&amp;curr=USD\" title=\"Hotels\">Hotels</a></li><li class=\"mc-hd__nav-item\"><a id=\"header_action_nav_flights\" class=\"mc-hd__nav-lnk\" href=\"/flights/?locale=en-XX&amp;curr=USD\" title=\"Flights\">Flights</a></li><li class=\"mc-hd__nav-item\"><a id=\"header_action_nav_trains\" class=\"mc-hd__nav-lnk\" href=\"/trains/?locale=en-XX&amp;curr=USD\" title=\"Trains\">Trains</a></li><li class=\"mc-hd__nav-item mc-hd__nav-item-wth-sub\"><a id=\"header_action_nav_cars\" class=\"mc-hd__nav-lnk\" title=\"Cars\">Cars</a><ul class=\"mc-hd__nav-item-sub\"><li><a id=\"header_action_nav_Car Rentals\" href=\"/carhire/?channelid=14409&amp;locale=en-XX&amp;curr=USD\" class=\"mc-hd__sub-nav-lnk\">Car Rentals</a></li><li><a id=\"header_action_nav_Airport Transfers\" href=\"/airport-transfers/?locale=en-XX&amp;curr=USD\" class=\"mc-hd__sub-nav-lnk\">Airport Transfers</a></li></ul></li><li class=\"mc-hd__nav-item\"><a id=\"header_action_nav_ttd\" class=\"mc-hd__nav-lnk\" href=\"/things-to-do/ttd-home/?ctm_ref=vactang_page_23810&amp;locale=en-XX&amp;curr=USD\" title=\"Attractions &amp; Tours\">Attractions & Tours</a></li><li class=\"mc-hd__nav-item\"><a id=\"header_action_nav_packages\" class=\"mc-hd__nav-lnk\" href=\"/packages/?sourceFrom=IBUBundle_home&amp;locale=en-XX&amp;curr=USD\" title=\"Flight + Hotel\">Flight + Hotel</a></li><li class=\"mc-hd__nav-item\"><a id=\"header_action_nav_travelguide\" class=\"mc-hd__nav-lnk\" href=\"/travel-guide/?locale=en-XX&amp;curr=USD\" title=\"Destinations\">Destinations</a></li><li class=\"mc-hd__nav-item\"><a id=\"header_action_nav_tripcoins\" class=\"mc-hd__nav-lnk\" href=\"/customer/loyalty/?locale=en-XX&amp;curr=USD\" title=\"Trip.com Rewards\">Trip.com Rewards</a></li><li class=\"mc-hd__nav-item\"><a id=\"header_action_nav_sales\" class=\"mc-hd__nav-lnk\" href=\"/sale/deals/?locale=en-XX&amp;curr=USD\" title=\"Deals\">Deals</a></li></ul></div></div></div></div><script>if (typeof Object.assign !== \\'function\\') {window._assignObject = function(t, s) {for (var k in s) { t[k] = s[k] }; return t }; }else { window._assignObject = Object.assign } window.__CARGO_DATA__ = _assignObject(window.__CARGO_DATA__ || {}, {\"loginmenue0\":\"{\\\\\"menu\\\\\":[{\\\\\"show\\\\\":true,\\\\\"displayName\\\\\":\\\\\"My Bookings\\\\\",\\\\\"displayNameSharkKey\\\\\":\\\\\"V3_Profile_MyOrders\\\\\",\\\\\"include\\\\\":\\\\\"all\\\\\",\\\\\"link\\\\\":\\\\\"/order/all\\\\\",\\\\\"id\\\\\":\\\\\"booking\\\\\"},{\\\\\"show\\\\\":false,\\\\\"displayName\\\\\":\\\\\"Trip Coins\\\\\",\\\\\"displayNameSharkKey\\\\\":\\\\\"V3_Profile_Points\\\\\",\\\\\"include\\\\\":\\\\\"all\\\\\",\\\\\"showByLocale\\\\\":\\\\\"en-ca,da-dk,fi-fi,uk-ua,pt-pt,es-mx,sv-se,nl-nl,pl-pl,en-sg,ja-jp,ko-kr,en-hk,zh-hk,de-de,fr-fr,es-es,ru-ru,id-id,en-id,th-th,en-th,ms-my,en-my,en-au,en-xx,en-us,es-us,tr-tr,en-ie,de-at,de-ch,fr-ch,nl-be,en-be,fr-be,en-il,pt-br,el-gr,en-ae,en-sa,en-nz,en-gb,it-it,vi-vn,en-ph,en-in,en-pk\\\\\",\\\\\"link\\\\\":\\\\\"/customer/points/\\\\\",\\\\\"id\\\\\":\\\\\"points\\\\\"},{\\\\\"show\\\\\":true,\\\\\"displayName\\\\\":\\\\\"Promo Codes\\\\\",\\\\\"displayNameSharkKey\\\\\":\\\\\"V3_Promo_Code\\\\\",\\\\\"include\\\\\":\\\\\"all\\\\\",\\\\\"link\\\\\":\\\\\"/customer/promo/\\\\\",\\\\\"id\\\\\":\\\\\"codes\\\\\"},{\\\\\"show\\\\\":true,\\\\\"displayName\\\\\":\\\\\"Profile\\\\\",\\\\\"displayNameSharkKey\\\\\":\\\\\"V3_Text_MembInfo\\\\\",\\\\\"include\\\\\":\\\\\"all\\\\\",\\\\\"link\\\\\":\\\\\"/membersinfo/profile/\\\\\",\\\\\"id\\\\\":\\\\\"profile\\\\\"},{\\\\\"show\\\\\":false,\\\\\"displayName\\\\\":\\\\\"Friend Referrals\\\\\",\\\\\"displayNameSharkKey\\\\\":\\\\\"V3_Text_Friend\\\\\",\\\\\"include\\\\\":\\\\\"all\\\\\",\\\\\"link\\\\\":\\\\\"/sale/w/1899/friends-referral-main.html?locale=en_xx\\\\\",\\\\\"id\\\\\":\\\\\"Friend\\\\\"},{\\\\\"show\\\\\":false,\\\\\"displayName\\\\\":\\\\\"Favorites\\\\\",\\\\\"displayNameSharkKey\\\\\":\\\\\"ButtonText_Hotel_Collection\\\\\",\\\\\"showByLocale\\\\\":\\\\\"en-ca,da-dk,fi-fi,uk-ua,pt-pt,es-mx,sv-se,nl-nl,pl-pl,en-sg,ja-jp,ko-kr,en-hk,zh-hk,zh-tw,de-de,fr-fr,es-es,ru-ru,id-id,en-id,th-th,en-th,ms-my,en-my,en-au,en-xx,en-us,es-us,tr-tr,en-ie,de-at,de-ch,fr-ch,nl-be,en-be,fr-be,en-il,pt-br,el-gr,en-ae,en-sa,en-nz,en-gb,it-it,vi-vn,en-ph,en-in,en-pk\\\\\",\\\\\"include\\\\\":\\\\\"all\\\\\",\\\\\"link\\\\\":\\\\\"/favorite/\\\\\",\\\\\"id\\\\\":\\\\\"favorites\\\\\"},{\\\\\"show\\\\\":false,\\\\\"showByLocale\\\\\":\\\\\"en-xx,en-us,en-sg,en-au,en-my,en-gb,en-be,en-ch,en-ie,en-ca,en-sa,en-hk,en-ae,en-nz,en-il,zh-tw,zh-hk,ja-jp,ko-kr,th-th,vi-vn,en-th,en-id,en-ph,en-in,en-pk\\\\\",\\\\\"displayName\\\\\":\\\\\"Moments\\\\\",\\\\\"displayNameSharkKey\\\\\":\\\\\"V3_Profile_Moments\\\\\",\\\\\"include\\\\\":\\\\\"all\\\\\",\\\\\"link\\\\\":\\\\\"/travel-guide/personal-home\\\\\",\\\\\"id\\\\\":\\\\\"Moments\\\\\"},{\\\\\"show\\\\\":false,\\\\\"displayName\\\\\":\\\\\"Flight Price Alerts\\\\\",\\\\\"displayNameSharkKey\\\\\":\\\\\"Key_Flight_Price_Alerts\\\\\",\\\\\"include\\\\\":\\\\\"all\\\\\",\\\\\"showByLocale\\\\\":\\\\\"en-ca,da-dk,fi-fi,uk-ua,pt-pt,es-mx,sv-se,nl-nl,pl-pl,en-sg,ja-jp,ko-kr,en-hk,zh-hk,de-de,fr-fr,es-es,ru-ru,id-id,en-id,th-th,en-th,ms-my,en-my,en-au,en-xx,en-us,es-us,tr-tr,en-ie,de-at,de-ch,fr-ch,nl-be,en-be,fr-be,en-il,pt-br,el-gr,en-ae,en-sa,en-nz,en-gb,it-it,vi-vn,en-ph,en-in,en-pk\\\\\",\\\\\"link\\\\\":\\\\\"/flights/price-alert/\\\\\",\\\\\"id\\\\\":\\\\\"flghtAlert\\\\\"},{\\\\\"show\\\\\":false,\\\\\"displayName\\\\\":\\\\\"Rewards\\\\\",\\\\\"displayNameSharkKey\\\\\":\\\\\"Key_Entrance_Title\\\\\",\\\\\"include\\\\\":\\\\\"all\\\\\",\\\\\"showByLocale\\\\\":\\\\\"en-ca,da-dk,fi-fi,uk-ua,pt-pt,es-mx,sv-se,nl-nl,pl-pl,en-sg,ja-jp,ko-kr,en-hk,zh-hk,de-de,fr-fr,es-es,ru-ru,id-id,en-id,th-th,en-th,ms-my,en-my,en-au,en-xx,en-us,es-us,tr-tr,en-ie,de-at,de-ch,fr-ch,nl-be,en-be,fr-be,en-il,pt-br,el-gr,en-ae,en-sa,en-nz,en-gb,it-it,vi-vn,en-ph,en-in,en-pk\\\\\",\\\\\"link\\\\\":\\\\\"/customer/tierpoints/\\\\\",\\\\\"id\\\\\":\\\\\"rewards\\\\\"}]}\",\"locale\":\"en-XX\",\"menumetacenxxe0\":\"{\\\\\"entry\\\\\":{\\\\\"url\\\\\":\\\\\"https://ebooking.trip.com/htbusinesscore/acqjoin?channel=2&locale=en-US\\\\\",\\\\\"displaySharkKey\\\\\":\\\\\"key_header_entry\\\\\"},\\\\\"help\\\\\":{\\\\\"mode\\\\\":\\\\\"entry\\\\\",\\\\\"url\\\\\":\\\\\"/pages/support\\\\\"},\\\\\"mybooking\\\\\":{\\\\\"url\\\\\":\\\\\"/order/all\\\\\",\\\\\"displaySharkKey\\\\\":\\\\\"V3_Profile_MyOrders\\\\\"}}\",\"channelmetauoe1\":[{\"channel\":\"home\",\"source\":\"flights\",\"value\":\"{\\\\\"displayName\\\\\":\\\\\"Home\\\\\",\\\\\"displayNameSharkKey\\\\\":\\\\\"ButtonText_Home\\\\\",\\\\\"path\\\\\":\\\\\"\\\\\"}\"},{\"channel\":\"hotels\",\"source\":\"flights\",\"value\":\"{\\\\\"displayName\\\\\":\\\\\"Hotels\\\\\",\\\\\"displayNameSharkKey\\\\\":\\\\\"ButtonText_Hotel\\\\\",\\\\\"path\\\\\":\\\\\"/hotels/\\\\\"}\"},{\"channel\":\"flights\",\"source\":\"flights\",\"value\":\"{\\\\\"displayName\\\\\":\\\\\"Flights\\\\\",\\\\\"displayNameSharkKey\\\\\":\\\\\"ButtonText_Flights\\\\\",\\\\\"path\\\\\":\\\\\"/flights/\\\\\"}\"},{\"channel\":\"trains\",\"source\":\"flights\",\"value\":\"{\\\\\"displayName\\\\\":\\\\\"Trains\\\\\",\\\\\"displayNameSharkKey\\\\\":\\\\\"ButtonText_Trains\\\\\",\\\\\"path\\\\\":\\\\\"/trains/\\\\\"}\"},{\"channel\":\"ttd\",\"source\":\"flights\",\"value\":\"{\\\\\"displayName\\\\\":\\\\\"TNT\\\\\",\\\\\"displayNameSharkKey\\\\\":\\\\\"ButtonText_TTD\\\\\",\\\\\"path\\\\\":\\\\\"/things-to-do/ttd-home/?ctm_ref=vactang_page_23810\\\\\"}\"},{\"channel\":\"travelguide\",\"source\":\"flights\",\"value\":\"{\\\\\"displayName\\\\\":\\\\\"Attractions\\\\\",\\\\\"displayNameSharkKey\\\\\":\\\\\"ButtonText_TravelGuide\\\\\",\\\\\"path\\\\\":\\\\\"/travel-guide/\\\\\"}\"},{\"channel\":\"carhire\",\"source\":\"flights\",\"value\":\"{\\\\\"displayName\\\\\":\\\\\"Car Rentals\\\\\",\\\\\"displayNameSharkKey\\\\\":\\\\\"ButtonText_Carhire\\\\\",\\\\\"path\\\\\":\\\\\"/carhire/?channelid=14409\\\\\",\\\\\"parent\\\\\":\\\\\"cars\\\\\"}\"},{\"channel\":\"airporttransfers\",\"source\":\"flights\",\"value\":\"{\\\\\"displayName\\\\\":\\\\\"Airport Transfers\\\\\",\\\\\"displayNameSharkKey\\\\\":\\\\\"ButtonText_AirportTransfers\\\\\",\\\\\"path\\\\\":\\\\\"/airport-transfers/\\\\\",\\\\\"parent\\\\\":\\\\\"cars\\\\\"}\"},{\"channel\":\"cars\",\"source\":\"flights\",\"value\":\"{\\\\\"displayName\\\\\":\\\\\"Cars\\\\\",\\\\\"displayNameSharkKey\\\\\":\\\\\"ButtonText_Cars\\\\\",\\\\\"path\\\\\":\\\\\"\\\\\"}\"},{\"channel\":\"sales\",\"source\":\"flights\",\"value\":\"{\\\\\"displayName\\\\\":\\\\\"Deals\\\\\",\\\\\"displayNameSharkKey\\\\\":\\\\\"ButtonText_Deals\\\\\",\\\\\"path\\\\\":\\\\\"/sale/deals/\\\\\"}\"},{\"channel\":\"tripcoins\",\"source\":\"flights\",\"value\":\"{\\\\\"displayName\\\\\":\\\\\"Trip Rewards\\\\\",\\\\\"displayNameSharkKey\\\\\":\\\\\"ButtonText_TripRewards\\\\\",\\\\\"path\\\\\":\\\\\"/customer/loyalty/\\\\\"}\"},{\"channel\":\"giftcard\",\"source\":\"flights\",\"value\":\"{\\\\\"displayName\\\\\":\\\\\"GiftCard\\\\\",\\\\\"displayNameSharkKey\\\\\":\\\\\"ButtonText_GiftCard\\\\\",\\\\\"path\\\\\":\\\\\"/giftcard\\\\\"}\"},{\"channel\":\"cruises\",\"source\":\"flights\",\"value\":\"{\\\\\"displayName\\\\\":\\\\\"Cruises\\\\\",\\\\\"displayNameSharkKey\\\\\":\\\\\"ButtonText_Cruises\\\\\",\\\\\"path\\\\\":\\\\\"/cruises\\\\\"}\"},{\"channel\":\"others\",\"source\":\"flights\",\"value\":\"{\\\\\"path\\\\\":\\\\\"/sale/w/1744/singaporediscovers.html?locale=en_sg\\\\\",\\\\\"displayName\\\\\":\\\\\"SingapoRediscovers Vouchers\\\\\",\\\\\"displayNameSharkKey\\\\\":\\\\\"key_channel_sg_vouchers\\\\\"}\"},{\"channel\":\"packages\",\"source\":\"flights\",\"value\":\"{\\\\\"displayName\\\\\":\\\\\"Bundle\\\\\",\\\\\"displayNameSharkKey\\\\\":\\\\\"ButtonText_Bundle\\\\\",\\\\\"path\\\\\":\\\\\"/packages/?sourceFrom=IBUBundle_home\\\\\"}\"},{\"channel\":\"customtrips\",\"source\":\"flights\",\"value\":\"{\\\\\"displayName\\\\\":\\\\\"Custom Trips\\\\\",\\\\\"displayNameSharkKey\\\\\":\\\\\"ButtonText_CustomTrip\\\\\",\\\\\"path\\\\\":\\\\\"/custom-trips/index\\\\\"}\"},{\"channel\":\"insurance\",\"source\":\"flights\",\"value\":\"{\\\\\"displayName\\\\\":\\\\\"Insurance\\\\\",\\\\\"displayNameSharkKey\\\\\":\\\\\"ButtonText_Insurance\\\\\",\\\\\"path\\\\\":\\\\\"/insurance?bid=1&cid=2&pid=1\\\\\"}\"}],\"onlinechannelscenxxe1\":[{\"locale\":\"en-XX\",\"channel\":\"hotels\",\"value\":\"1\"},{\"locale\":\"en-XX\",\"channel\":\"flights\",\"value\":\"1\"},{\"locale\":\"en-XX\",\"channel\":\"trains\",\"value\":\"1\"},{\"locale\":\"en-XX\",\"channel\":\"cars\",\"value\":\"1\"},{\"locale\":\"en-XX\",\"channel\":\"carhire\",\"value\":\"1\"},{\"locale\":\"en-XX\",\"channel\":\"airporttransfers\",\"value\":\"1\"},{\"locale\":\"en-XX\",\"channel\":\"ttd\",\"value\":\"1\"},{\"locale\":\"en-XX\",\"channel\":\"packages\",\"value\":\"1\"},{\"locale\":\"en-XX\",\"channel\":\"travelguide\",\"value\":\"1\"},{\"locale\":\"en-XX\",\"channel\":\"tripcoins\",\"value\":\"1\"},{\"locale\":\"en-XX\",\"channel\":\"sales\",\"value\":\"1\"}]})</script><div class=\"home-banner-container new-ui \"><div class=\"home-search-con\" id=\"main-search-box\" style=\"padding-top:70px\"><div class=\"slogan\"><div class=\"slogan-desc\">Your Trip Starts Here</div></div><div class=\"c-srh-holder-deep-blue\"><div class=\"search-box-holder-con en-xx\"><div class=\"holder-block small\" style=\"width:120px\"></div><div class=\"holder-block-con\"><div class=\"holder-block big\" style=\"width:50%\"></div><div class=\"holder-block big\" style=\"width:25%\"></div><div class=\"holder-block big\" style=\"width:25%\"></div></div><div class=\"holder-block small\" style=\"width:350px\"></div></div><div class=\"mc-srh-box\" style=\"display:none\"><div class=\"mc-srh-box__tab-con u-clearfix\"><ul class=\"mc-srh-box__tabs\"></ul></div><div class=\"mc-srh-box__forms\" style=\"min-height:unset\"><div id=\"searchBoxCon\"></div></div></div></div></div><div class=\"home-trustpilot\" style=\"margin-top:10px\"></div></div></div><div class=\"home-wrapper home-body-container-new\"><div class=\"home-wrapper-inner notice\" style=\"margin-bottom:24px\"><div class=\"notice-box\"><div class=\"tcp-online-notice-skeleton skeleton\"><div></div></div></div></div><div class=\"home-wrapper-inner home-advertize\" id=\"homePathIdadvertize\" style=\"margin-bottom:40px\"><div class=\"online-advertize-con new-theme\" dir=\"\"><div class=\"online-advertize online-advertize-en-xx\"><div id=\"deals\" class=\"online-advertize-simple\"><div class=\"ibu-base-marquee marquee-above\" dir=\"\"><span class=\"nav-arrow arrow-left hide\" style=\"top:calc(74px)\"></span><span class=\"nav-arrow arrow-right \" style=\"top:calc(74px)\"></span><div class=\"blocks-window\"><div class=\"blocks-belt\" style=\"margin-left:-0px\"><div class=\"block-con\" style=\"width:376px;padding-left:0;padding-right:8px\"><div class=\"online-advertize-item\"><a class=\"online-advertize-item-link\" href=\"https://www.trip.com/sale/w/6001/universalstudioshollywood2023.html?locale=en-XX&amp;promo_referer=1721_6001_1\"><img class=\"online-advertize-item-image\" src=\"https://ak-d.tripcdn.com/images/0a13o12000cl95vei249A.png\" data-src=\"https://ak-d.tripcdn.com/images/0a13o12000cl95vei249A.png\" alt=\"Universal Studios Hollywood\"/></a></div></div><div class=\"block-con\" style=\"width:376px;padding-left:8px;padding-right:8px\"><div class=\"online-advertize-item\"><a class=\"online-advertize-item-link\" href=\"https://www.trip.com/sale/w/6539/globaltravel.html?locale=en-xx&amp;curr=usd&amp;transparentBar=1&amp;promo_referer=1721_6539_2\"><img class=\"online-advertize-item-image\" src=\"https://ak-d.tripcdn.com/images/1gz1h12000d5icpilD452.jpg\" data-src=\"https://ak-d.tripcdn.com/images/1gz1h12000d5icpilD452.jpg\" alt=\"Time to Travel!\"/></a></div></div><div class=\"block-con\" style=\"width:376px;padding-left:8px;padding-right:8px\"><div class=\"online-advertize-item\"><a class=\"online-advertize-item-link\" href=\"https://www.trip.com/sale/w/10222/chengdu.html?locale=en-xx&amp;curr=usd&amp;transparentBar=1&amp;promo_referer=1721_10222_3\"><img class=\"online-advertize-item-image\" src=\"https://dimg04.tripcdn.com/images/0a11r12000ed6pblb75FF.jpg\" data-src=\"https://dimg04.tripcdn.com/images/0a11r12000ed6pblb75FF.jpg\" alt=\"Chengdu, More Than Pandas\"/></a></div></div><div class=\"block-con\" style=\"width:376px;padding-left:8px;padding-right:0\"><div class=\"online-advertize-item\"><a class=\"online-advertize-item-link\" href=\"https://www.trip.com/customer/loyalty/?locale=en-XX&amp;promo_referer=1721_0_9\"><img class=\"online-advertize-item-image\" data-src=\"https://dimg04.tripcdn.com/images/0a13l12000815zxlz6BBB.jpg\" alt=\"You&#x27;re in! Introducing Trip.com Rewards!\"/></a></div></div></div></div></div></div></div></div></div><div class=\"home-wrapper-inner seo-coupon\" style=\"margin:0\"><div></div></div><div class=\"home-wrapper-inner new-guests\" style=\"margin-bottom:40px\"><div class=\"scroll-loader-com relative\" style=\"height:400px\"><div class=\"scroll-loader-com-wrapper shallow-absolute\"></div><div class=\"scroll-loader-com-wrapper deep-absolute visible\"><div class=\"new-guests-skeleton\"><div class=\"skeleton-breath-block center\"></div><div class=\"new-guests-card-skeleton-box skeleton-breath-block\"><div></div><div></div><div></div><div></div></div></div></div></div></div><div class=\"scroll-loader-com relative\" style=\"height:625px\"><div class=\"scroll-loader-com-wrapper shallow-absolute\"></div><div class=\"scroll-loader-com-wrapper deep-absolute visible\"><div style=\"height:100%\"><div class=\"home-wrapper-inner recommend-wrapper home-recommend-hotels\"><div style=\"padding-bottom:40px;height:100%;box-sizing:border-box\"><div class=\"common-skeleton new-theme show-title\"><div class=\"skeleton-title\"><div class=\"loading-tab\"></div></div><div class=\"skeleton-tab\"><div class=\"loading-tab\"></div><div class=\"loading-tab\"></div><div class=\"loading-tab\"></div><div class=\"loading-tab\"></div></div><div class=\"skeleton-card\"><div class=\"skeleton-card-item\"><div class=\"loading-tab image\"></div></div><div class=\"skeleton-card-item\"><div class=\"loading-tab image\"></div></div><div class=\"skeleton-card-item\"><div class=\"loading-tab image\"></div></div><div class=\"skeleton-card-item\"><div class=\"loading-tab image\"></div></div></div></div></div></div></div></div></div><div class=\"scroll-loader-com relative\" style=\"height:495px\"><div class=\"scroll-loader-com-wrapper shallow-absolute\"></div><div class=\"scroll-loader-com-wrapper deep-absolute visible\"><div style=\"height:100%\"><div class=\"home-wrapper-inner recommend-wrapper home-recommend-attractions\"><div style=\"padding-bottom:40px;height:100%;box-sizing:border-box\"><div class=\"common-skeleton new-theme show-title\"><div class=\"skeleton-title\"><div class=\"loading-tab\"></div></div><div class=\"skeleton-tab\"><div class=\"loading-tab\"></div><div class=\"loading-tab\"></div><div class=\"loading-tab\"></div><div class=\"loading-tab\"></div></div><div class=\"skeleton-card\"><div class=\"skeleton-card-item\"><div class=\"loading-tab image\"></div></div><div class=\"skeleton-card-item\"><div class=\"loading-tab image\"></div></div><div class=\"skeleton-card-item\"><div class=\"loading-tab image\"></div></div><div class=\"skeleton-card-item\"><div class=\"loading-tab image\"></div></div></div></div></div></div></div></div></div><div class=\"scroll-loader-com relative\" style=\"height:552px\"><div class=\"scroll-loader-com-wrapper shallow-absolute\"></div><div class=\"scroll-loader-com-wrapper deep-absolute visible\"><div style=\"height:100%\"><div class=\"home-wrapper-inner recommend-wrapper home-recommend-cars\"><div style=\"padding-bottom:40px;height:100%;box-sizing:border-box\"><div class=\"common-skeleton new-theme show-title\"><div class=\"skeleton-title\"><div class=\"loading-tab\"></div></div><div class=\"skeleton-tab\"><div class=\"loading-tab\"></div><div class=\"loading-tab\"></div><div class=\"loading-tab\"></div><div class=\"loading-tab\"></div></div><div class=\"skeleton-card\"><div class=\"skeleton-card-item\"><div class=\"loading-tab image\"></div></div><div class=\"skeleton-card-item\"><div class=\"loading-tab image\"></div></div><div class=\"skeleton-card-item\"><div class=\"loading-tab image\"></div></div><div class=\"skeleton-card-item\"><div class=\"loading-tab image\"></div></div></div></div></div></div></div></div></div><div class=\"scroll-loader-com relative\" style=\"height:506px\"><div class=\"scroll-loader-com-wrapper shallow-absolute\"></div><div class=\"scroll-loader-com-wrapper deep-absolute visible\"><div class=\"scroll-skeleton\"><div class=\"loadable-skeleton-block scroll-loader-skeleton\" style=\"height:466px;width:100%\"></div></div></div></div></div><div class=\"seo-content\"><div id=\"tab-links\" class=\"m-64-48 tab-link-wrapper\"><h2 class=\"tab-link-title t-2020-12\">Trip.com Recommendations</h2><ul class=\"tab-link-botcontainer\"><li><p>Popular Flights</p><div class=\"short-link-wrapper col-lg-5 col-md-4 col-sm-3 col-xs-2 col-xss-1\"><div class=\"short-link-group\"><div class=\"short-link-list-wrapper\"><ul class=\"short-link-list\"><li class=\"short-link-item\"><a class=\"short-link-link\" href=\"https://www.trip.com/flights/cairo-to-jeddah/airfares-cai-jed/\">Flights from Cairo to Jeddah</a></li><li class=\"short-link-item\"><a class=\"short-link-link\" href=\"https://www.trip.com/flights/dubai-to-riyadh/airfares-dxb-ruh/\">Flights from Dubai to Riyadh</a></li><li class=\"short-link-item\"><a class=\"short-link-link\" href=\"https://www.trip.com/flights/london-to-new-york/airfares-lon-nyc/\">Flights from London to New York</a></li><li class=\"short-link-item\"><a class=\"short-link-link\" href=\"https://www.trip.com/flights/london-to-dubai/airfares-lon-dxb/\">Flights from London to Dubai</a></li><li class=\"short-link-item\"><a class=\"short-link-link\" href=\"https://www.trip.com/flights/kuala-lumpur-to-singapore/airfares-kul-sin/\">Flights from Kuala Lumpur to Singapore</a></li><li class=\"short-link-item\"><a class=\"short-link-link\" href=\"https://www.trip.com/flights/dubai-to-jeddah/airfares-dxb-jed/\">Flights from Dubai to Jeddah</a></li><li class=\"short-link-item\"><a class=\"short-link-link\" href=\"https://www.trip.com/flights/orlando-to-san-juan/airfares-orl-sju/\">Flights from Orlando to San Juan</a></li><li class=\"short-link-item\"><a class=\"short-link-link\" href=\"https://www.trip.com/flights/dubai-to-mumbai/airfares-dxb-bom/\">Flights from Dubai to Mumbai</a></li><li class=\"short-link-item\"><a class=\"short-link-link\" href=\"https://www.trip.com/flights/cairo-to-riyadh/airfares-cai-ruh/\">Flights from Cairo to Riyadh</a></li><li class=\"short-link-item\"><a class=\"short-link-link\" href=\"https://www.trip.com/flights/dubai-to-delhi/airfares-dxb-del/\">Flights from Dubai to Delhi</a></li><li class=\"short-link-item\"><a class=\"short-link-link\" href=\"https://www.trip.com/flights/bangkok-to-chiang-mai/airfares-bkk-cnx/\">Flights from Bangkok to Chiang Mai</a></li><li class=\"short-link-item\"><a class=\"short-link-link\" href=\"https://www.trip.com/flights/bangkok-to-phuket/airfares-bkk-hkt/\">Flights from Bangkok to Phuket</a></li><li class=\"short-link-item\"><a class=\"short-link-link\" href=\"https://www.trip.com/flights/shanghai-to-beijing/airfares-sha-bjs/\">Flights from Shanghai to Beijing</a></li><li class=\"short-link-item\"><a class=\"short-link-link\" href=\"https://www.trip.com/flights/sanya-to-shanghai/airfares-syx-sha/\">Flights from Sanya to Shanghai</a></li><li class=\"short-link-item\"><a class=\"short-link-link\" href=\"https://www.trip.com/flights/guangzhou-to-shanghai/airfares-can-sha/\">Flights from Guangzhou to Shanghai</a></li><li class=\"short-link-item\"><a class=\"short-link-link\" href=\"https://www.trip.com/flights/tokyo-to-seoul/airfares-tyo-sel/\">Flights from Tokyo to Seoul</a></li><li class=\"short-link-item\"><a class=\"short-link-link\" href=\"https://www.trip.com/flights/cape-town-to-johannesburg/airfares-cpt-jnb/\">Flights from Cape Town to Johannesburg</a></li><li class=\"short-link-item\"><a class=\"short-link-link\" href=\"https://www.trip.com/flights/toronto-to-delhi/airfares-yto-del/\">Flights from Toronto to Delhi</a></li><li class=\"short-link-item\"><a class=\"short-link-link\" href=\"https://www.trip.com/flights/bangalore-to-delhi/airfares-blr-del/\">Flights from Bangalore to Delhi</a></li><li class=\"short-link-item\"><a class=\"short-link-link\" href=\"https://www.trip.com/flights/edinburgh-to-london/airfares-edi-lon/\">Flights from Edinburgh to London</a></li></ul></div></div></div></li><li><p>Featured Hotel Destinations</p><div class=\"short-link-wrapper col-lg-5 col-md-4 col-sm-3 col-xs-2 col-xss-1\"><div class=\"short-link-group\"><div class=\"short-link-list-wrapper\"><ul class=\"short-link-list\"><li class=\"short-link-item\"><a class=\"short-link-link\" href=\"https://www.trip.com/hotels/shanghai-hotels-list-2/\">Best Hotels in Shanghai</a></li><li class=\"short-link-item\"><a class=\"short-link-link\" href=\"https://www.trip.com/hotels/hong-kong-hotels-list-58/\">Best Hotels in Hong Kong</a></li><li class=\"short-link-item\"><a class=\"short-link-link\" href=\"https://www.trip.com/hotels/macau-hotels-list-59/\">Best Hotels in Macau</a></li><li class=\"short-link-item\"><a class=\"short-link-link\" href=\"https://www.trip.com/hotels/bangkok-hotels-list-359/\">Best Hotels in Bangkok</a></li><li class=\"short-link-item\"><a class=\"short-link-link\" href=\"https://www.trip.com/hotels/singapore-hotels-list-73/\">Best Hotels in Singapore</a></li><li class=\"short-link-item\"><a class=\"short-link-link\" href=\"https://www.trip.com/hotels/dubai-hotels-list-220/\">Best Hotels in Dubai</a></li><li class=\"short-link-item\"><a class=\"short-link-link\" href=\"https://www.trip.com/hotels/sanya-hotels-list-43/\">Best Hotels in Sanya</a></li><li class=\"short-link-item\"><a class=\"short-link-link\" href=\"https://www.trip.com/hotels/beijing-hotels-list-1/\">Best Hotels in Beijing</a></li><li class=\"short-link-item\"><a class=\"short-link-link\" href=\"https://www.trip.com/hotels/guangzhou-hotels-list-32/\">Best Hotels in Guangzhou</a></li><li class=\"short-link-item\"><a class=\"short-link-link\" href=\"https://www.trip.com/hotels/shenzhen-hotels-list-30/\">Best Hotels in Shenzhen</a></li><li class=\"short-link-item\"><a class=\"short-link-link\" href=\"https://www.trip.com/hotels/las-vegas-hotels-list-26282/\">Best Hotels in Las Vegas</a></li><li class=\"short-link-item\"><a class=\"short-link-link\" href=\"https://www.trip.com/hotels/london-hotels-list-338/\">Best Hotels in London</a></li><li class=\"short-link-item\"><a class=\"short-link-link\" href=\"https://www.trip.com/hotels/san-diego-hotels-list-698/\">Best Hotels in San Diego</a></li><li class=\"short-link-item\"><a class=\"short-link-link\" href=\"https://www.trip.com/hotels/chicago-hotels-list-549/\">Best Hotels in Chicago</a></li><li class=\"short-link-item\"><a class=\"short-link-link\" href=\"https://www.trip.com/hotels/new-york-hotels-list-633/\">Best Hotels in New York</a></li><li class=\"short-link-item\"><a class=\"short-link-link\" href=\"https://www.trip.com/hotels/paris-hotels-list-192/\">Best Hotels in Paris</a></li><li class=\"short-link-item\"><a class=\"short-link-link\" href=\"https://www.trip.com/hotels/rome-hotels-list-343/\">Best Hotels in Rome</a></li><li class=\"short-link-item\"><a class=\"short-link-link\" href=\"https://www.trip.com/hotels/edinburgh-hotels-list-706/\">Best Hotels in Edinburgh</a></li><li class=\"short-link-item\"><a class=\"short-link-link\" href=\"https://www.trip.com/hotels/boston-hotels-list-26848/\">Best Hotels in Boston</a></li><li class=\"short-link-item\"><a class=\"short-link-link\" href=\"https://www.trip.com/hotels/nashville-hotels-list-3228/\">Best Hotels in Nashville</a></li></ul></div></div></div></li><li><p>Featured Guides</p><div class=\"short-link-wrapper col-lg-5 col-md-4 col-sm-3 col-xs-2 col-xss-1\"><div class=\"short-link-group\"><div class=\"short-link-list-wrapper\"><ul class=\"short-link-list\"><li class=\"short-link-item\"><a class=\"short-link-link\" href=\"https://www.trip.com/guide/transport/jr-pass.html\">JR Pass Guide</a></li><li class=\"short-link-item\"><a class=\"short-link-link\" href=\"https://www.trip.com/guide/phone/esim-guide.html\">eSIM Guide for Tourists</a></li><li class=\"short-link-item\"><a class=\"short-link-link\" href=\"https://www.trip.com/toplist/tripbest/annual/global-100001427268/\">Trip.Best 2024 Global 100</a></li><li class=\"short-link-item\"><a class=\"short-link-link\" href=\"https://www.trip.com/toplist/tripbest/bangkok-best-things-to-do-111000000191/\">Best Things to do in Bangkok</a></li><li class=\"short-link-item\"><a class=\"short-link-link\" href=\"https://www.trip.com/hot/tourist-guide/china-visa-free-transit.html\">China 24/72/144-Hour Visa Free Transit</a></li><li class=\"short-link-item\"><a class=\"short-link-link\" href=\"https://www.trip.com/hot/tourist-guide/shanghai-visa-free-transit.html\">Shanghai 24/144-Hour Visa Free Transit</a></li><li class=\"short-link-item\"><a class=\"short-link-link\" href=\"https://www.trip.com/hot/package/tokyo-vacation.html\">Tokyo Vacation</a></li><li class=\"short-link-item\"><a class=\"short-link-link\" href=\"https://www.trip.com/guide/attraction/universal-studios-locations.html\">Universal Studios Locations</a></li><li class=\"short-link-item\"><a class=\"short-link-link\" href=\"https://www.trip.com/guide/attraction/disney-locations.html\">Disney Parks &amp; Disneylands</a></li><li class=\"short-link-item\"><a class=\"short-link-link\" href=\"https://www.trip.com/toplist/tripbest/bangkok-best-bars-100900005313/\">Best Bars in Bangkok</a></li><li class=\"short-link-item\"><a class=\"short-link-link\" href=\"https://www.trip.com/toplist/tripbest/london-best-bars-100900005411/\">Best Bars in London</a></li><li class=\"short-link-item\"><a class=\"short-link-link\" href=\"https://www.trip.com/guide/destination/japan-travel.html\">Japan Travel</a></li><li class=\"short-link-item\"><a class=\"short-link-link\" href=\"https://www.trip.com/guide/train/china-high-speed-rail.html\">China High Speed Rail</a></li><li class=\"short-link-item\"><a class=\"short-link-link\" href=\"https://www.trip.com/guide/train/china-train-ticket.html\">China Train Ticket</a></li><li class=\"short-link-item\"><a class=\"short-link-link\" href=\"https://www.trip.com/guide/train/china-train-booking.html\">China Train Booking</a></li><li class=\"short-link-item\"><a class=\"short-link-link\" href=\"https://www.trip.com/guide/train/china-bullet-train.html\">China Bullet Train</a></li></ul></div></div></div></li><li><p>Popular Attractions</p><div class=\"short-link-wrapper col-lg-5 col-md-4 col-sm-3 col-xs-2 col-xss-1\"><div class=\"short-link-group\"><div class=\"short-link-list-wrapper\"><ul class=\"short-link-list\"><li class=\"short-link-item\"><a class=\"short-link-link\" href=\"https://www.trip.com/guide/attraction/universal-studios-japan-tickets.html\">universal studios japan tickets</a></li><li class=\"short-link-item\"><a class=\"short-link-link\" href=\"https://www.trip.com/guide/attraction/universal-studios-locations.html\">Universal Studios Locations</a></li><li class=\"short-link-item\"><a class=\"short-link-link\" href=\"https://www.trip.com/guide/attraction/walt-disney-studios-park.html\">walt disney studios park</a></li><li class=\"short-link-item\"><a class=\"short-link-link\" href=\"https://www.trip.com/guide/attraction/ghibli-museum-tickets.html\">Ghibli Museum Tickets</a></li><li class=\"short-link-item\"><a class=\"short-link-link\" href=\"https://www.trip.com/guide/attraction/n-seoul-tower.html\">N Seoul Tower</a></li><li class=\"short-link-item\"><a class=\"short-link-link\" href=\"https://www.trip.com/travel-guide/attraction/lishu/library-39141933/\">Library</a></li><li class=\"short-link-item\"><a class=\"short-link-link\" href=\"https://www.trip.com/travel-guide/attraction/fujinomiya/mount-fuji-90134/\">Mount Fuji</a></li><li class=\"short-link-item\"><a class=\"short-link-link\" href=\"https://www.trip.com/travel-guide/attraction/cambridge/cambridge-36920906/\">Cambridge</a></li><li class=\"short-link-item\"><a class=\"short-link-link\" href=\"https://www.trip.com/travel-guide/attraction/modena/mata-61976739/\">Mata</a></li><li class=\"short-link-item\"><a class=\"short-link-link\" href=\"https://www.trip.com/travel-guide/attraction/dallas/planet-fitness-61233246/\">Planet Fitness</a></li><li class=\"short-link-item\"><a class=\"short-link-link\" href=\"https://www.trip.com/travel-guide/attraction/chongqing/eling-park-78163/\">Eling Park</a></li><li class=\"short-link-item\"><a class=\"short-link-link\" href=\"https://www.trip.com/travel-guide/attraction/guangzhou/chimelong-international-circus-10759002/\">Chimelong International Circus</a></li><li class=\"short-link-item\"><a class=\"short-link-link\" href=\"https://www.trip.com/travel-guide/attraction/shanghai/playa-maya-101858/\">Playa Maya</a></li><li class=\"short-link-item\"><a class=\"short-link-link\" href=\"https://www.trip.com/travel-guide/attraction/chengdu/manhua-manor-18450855/\">Manhua Manor</a></li><li class=\"short-link-item\"><a class=\"short-link-link\" href=\"https://www.trip.com/travel-guide/attraction/shanghai/shanghai-ocean-aquarium-80473/\">Shanghai Ocean Aquarium</a></li><li class=\"short-link-item\"><a class=\"short-link-link\" href=\"https://www.trip.com/hot/one-day-tour-city/day-tour-rome.html\">Day Tour Rome</a></li><li class=\"short-link-item\"><a class=\"short-link-link\" href=\"https://www.trip.com/guide/phone/taiwan-esim.html\">Taiwan eSIM</a></li><li class=\"short-link-item\"><a class=\"short-link-link\" href=\"https://www.trip.com/guide/attraction/tokyo-disneysea.html\">tokyo disneysea</a></li><li class=\"short-link-item\"><a class=\"short-link-link\" href=\"https://www.trip.com/guide/phone/egypt-esim.html\">Egypt eSim</a></li><li class=\"short-link-item\"><a class=\"short-link-link\" href=\"https://www.trip.com/hot/articles/shanghai-disneyland.html\">Shanghai Disneyland</a></li></ul></div></div></div></li><li><p>Popular Airlines</p><div class=\"short-link-wrapper col-lg-5 col-md-4 col-sm-3 col-xs-2 col-xss-1\"><div class=\"short-link-group\"><div class=\"short-link-list-wrapper\"><ul class=\"short-link-list\"><li class=\"short-link-item\"><a class=\"short-link-link\" href=\"https://www.trip.com/flights/to-london/airfares-lon/\">Flights to London</a></li><li class=\"short-link-item\"><a class=\"short-link-link\" href=\"https://www.trip.com/flights/to-rome/airfares-rom/\">Flights to Rome</a></li><li class=\"short-link-item\"><a class=\"short-link-link\" href=\"https://www.trip.com/flights/to-paris/airfares-par/\">Flights to Paris</a></li><li class=\"short-link-item\"><a class=\"short-link-link\" href=\"https://www.trip.com/flights/to-new-york/airfares-nyc/\">Flights to New York</a></li><li class=\"short-link-item\"><a class=\"short-link-link\" href=\"https://www.trip.com/flights/to-tokyo/airfares-tyo/\">Flights to Tokyo</a></li><li class=\"short-link-item\"><a class=\"short-link-link\" href=\"https://www.trip.com/flights/to-las-vegas/airfares-las/\">Flights to Las Vegas</a></li><li class=\"short-link-item\"><a class=\"short-link-link\" href=\"https://www.trip.com/flights/to-miami/airfares-mia/\">Flights to Miami</a></li><li class=\"short-link-item\"><a class=\"short-link-link\" href=\"https://www.trip.com/flights/to-bali/airfares-dps/\">Flights to Bali</a></li><li class=\"short-link-item\"><a class=\"short-link-link\" href=\"https://www.trip.com/flights/to-amsterdam/airfares-ams/\">Flights to Amsterdam</a></li><li class=\"short-link-item\"><a class=\"short-link-link\" href=\"https://www.trip.com/flights/to-atlanta/airfares-atl/\">Flights to Atlanta</a></li><li class=\"short-link-item\"><a class=\"short-link-link\" href=\"https://www.trip.com/flights/airline-tk/turkish-airlines-flight-to-ist/\">Turkish Airlines Flights to Istanbul</a></li><li class=\"short-link-item\"><a class=\"short-link-link\" href=\"https://www.trip.com/flights/airline-tk/turkish-airlines-flight-to-sin/\">Turkish Airlines Flights to Singapore</a></li><li class=\"short-link-item\"><a class=\"short-link-link\" href=\"https://www.trip.com/flights/airline-aa/american-airlines-flight-to-hnl/\">American Airlines Flights to Hawaii</a></li><li class=\"short-link-item\"><a class=\"short-link-link\" href=\"https://www.trip.com/flights/airline-aa/american-airlines-flight-to-cun/\">American Airlines Flights to Cancun</a></li><li class=\"short-link-item\"><a class=\"short-link-link\" href=\"https://www.trip.com/flights/airline-ua/united-airlines-flight-to-bom/\">United Airlines Flights to Mumbai</a></li><li class=\"short-link-item\"><a class=\"short-link-link\" href=\"https://www.trip.com/flights/airline-ua/united-airlines-flight-to-tlv/\">United Airlines Flights to Tel Aviv Yafo</a></li><li class=\"short-link-item\"><a class=\"short-link-link\" href=\"https://www.trip.com/flights/airline-sq/singapore-airlines-flight-to-del/\">Singapore Airlines Flights to Delhi</a></li><li class=\"short-link-item\"><a class=\"short-link-link\" href=\"https://www.trip.com/flights/airline-sq/singapore-airlines-flight-to-syd/\">Singapore Airlines Flights to Sydney</a></li><li class=\"short-link-item\"><a class=\"short-link-link\" href=\"https://www.trip.com/flights/airline-pr/philippine-airlines-flight-to-mnl/\">Philippine Airlines Flights to Manila</a></li><li class=\"short-link-item\"><a class=\"short-link-link\" href=\"https://www.trip.com/flights/airline-pr/philippine-airlines-flight-to-dvo/\">Philippine Airlines Flights to Davao</a></li></ul></div></div></div></li><li><p>Popular Guide</p><div class=\"short-link-wrapper col-lg-5 col-md-4 col-sm-3 col-xs-2 col-xss-1\"><div class=\"short-link-group\"><div class=\"short-link-list-wrapper\"><ul class=\"short-link-list\"><li class=\"short-link-item\"><a class=\"short-link-link\" href=\"https://www.trip.com/guide/info/weather-in-japan-in-september.html\">weather in Japan in September</a></li><li class=\"short-link-item\"><a class=\"short-link-link\" href=\"https://www.trip.com/guide/attraction/universal-studios-japan-tickets.html\">universal studios japan tickets</a></li><li class=\"short-link-item\"><a class=\"short-link-link\" href=\"https://www.trip.com/guide/info/trip-to-tokyo-cost.html\">trip to tokyo cost</a></li><li class=\"short-link-item\"><a class=\"short-link-link\" href=\"https://www.trip.com/guide/transport/japan-transport-app.html\">Japan Transport App</a></li><li class=\"short-link-item\"><a class=\"short-link-link\" href=\"https://www.trip.com/guide/transport/keisei-skyliner.html\">Keisei Skyliner</a></li><li class=\"short-link-item\"><a class=\"short-link-link\" href=\"https://www.trip.com/guide/train/china-high-speed-rail-shanghai-to-guilin.html\">China High Speed Rail Shanghai to Guilin</a></li><li class=\"short-link-item\"><a class=\"short-link-link\" href=\"https://www.trip.com/guide/phone/morocco-esim.html\">Morocco eSim</a></li><li class=\"short-link-item\"><a class=\"short-link-link\" href=\"https://www.trip.com/guide/transport/japan-car-rental.html\">Japan car rental</a></li><li class=\"short-link-item\"><a class=\"short-link-link\" href=\"https://www.trip.com/guide/phone/switzerland-esim.html\">Switzerland eSIM</a></li><li class=\"short-link-item\"><a class=\"short-link-link\" href=\"https://www.trip.com/guide/train/ktx-train-map.html\">KTX Train Map</a></li><li class=\"short-link-item\"><a class=\"short-link-link\" href=\"https://www.trip.com/guide/phone/saudi-arabia-esim.html\">Saudi Arabia esim</a></li><li class=\"short-link-item\"><a class=\"short-link-link\" href=\"https://www.trip.com/guide/transport/narita-airport-to-tokyo.html\">Narita Airport to Tokyo</a></li><li class=\"short-link-item\"><a class=\"short-link-link\" href=\"https://www.trip.com/guide/phone/china-esim-1-day.html\">China eSIM 1 Day</a></li><li class=\"short-link-item\"><a class=\"short-link-link\" href=\"https://www.trip.com/guide/train/beijing-train-station.html\">Beijing Train Station</a></li><li class=\"short-link-item\"><a class=\"short-link-link\" href=\"https://www.trip.com/guide/phone/taiwan-esim.html\">Taiwan eSIM</a></li><li class=\"short-link-item\"><a class=\"short-link-link\" href=\"https://www.trip.com/guide/attraction/universal-studios-locations.html\">Universal Studios Locations</a></li><li class=\"short-link-item\"><a class=\"short-link-link\" href=\"https://www.trip.com/guide/transport/tokyo-transportation.html\">Tokyo Transportation</a></li><li class=\"short-link-item\"><a class=\"short-link-link\" href=\"https://www.trip.com/guide/train/china-high-speed-rail-shanghai-to-guangzhou.html\">China High Speed Rail Shanghai to Guangzhou</a></li><li class=\"short-link-item\"><a class=\"short-link-link\" href=\"https://www.trip.com/guide/phone/indonesia-sim-card.html\">Indonesia SIM Card</a></li><li class=\"short-link-item\"><a class=\"short-link-link\" href=\"https://www.trip.com/guide/attraction/universal-studios-singapore-tickets.html\">universal studios singapore tickets</a></li><li class=\"short-link-item\"><a class=\"short-link-link\" href=\"https://www.trip.com/events/372996-2024-longford-collection/\">Featured Events in Longford in 2024 (Continuously Updated)</a></li><li class=\"short-link-item\"><a class=\"short-link-link\" href=\"https://www.trip.com/events/115071-2024-charlotte-concerts-collection/\">Charlotte Concerts 2024: Dates, Itinerary &amp; Tickets Price</a></li><li class=\"short-link-item\"><a class=\"short-link-link\" href=\"https://www.trip.com/events/93087-2024-utah-collection/\">Featured Events in Utah in 2024 (Continuously Updated)</a></li><li class=\"short-link-item\"><a class=\"short-link-link\" href=\"https://www.trip.com/events/139615-2024-antwerp-collection/\">Featured Events in Antwerp in 2024 (Continuously Updated)</a></li><li class=\"short-link-item\"><a class=\"short-link-link\" href=\"https://www.trip.com/events/277577-2024-04-china-collection/\">Featured Events in China in April 2024 (Continuously Updated)</a></li></ul></div></div></div></li><li><p>Trip.com Links</p><div class=\"short-link-wrapper col-lg-5 col-md-4 col-sm-3 col-xs-2 col-xss-1\"><div class=\"short-link-group\"><div class=\"short-link-list-wrapper\"><ul class=\"short-link-list\"><li class=\"short-link-item\"><a class=\"short-link-link\" href=\"https://play.google.com/store/apps/details?id=ctrip.english&amp;amp;hl=en_US\">Trip.com App Android</a></li><li class=\"short-link-item\"><a class=\"short-link-link\" href=\"https://itunes.apple.com/us/app/trip-com-flights-hotels/id681752345?mt=8\">Trip.com App iOS</a></li><li class=\"short-link-item\"><a class=\"short-link-link\" href=\"https://www.facebook.com/Trip/\">Trip.com on Facebook</a></li><li class=\"short-link-item\"><a class=\"short-link-link\" href=\"https://www.trustpilot.com/review/trip.com\">Trip.com reviews</a></li></ul></div></div></div></li></ul></div></div><div class=\"mc-ft mc-ft_line\"><div class=\"l-inner\"><div class=\"mc-ft__cnt u-clearfix\"><div class=\"mc-ft__links u-clearfix\"><div class=\"mc-ft__block\"><h3 class=\"mc-ft__block-title\">Contact Us</h3><ul class=\"mc-ft__link-list\"><li class=\"mc-ft__list-item\"><a target=\"_blank\" rel=\"nofollow noopener noreferrer\" href=\"/pages/support/?locale=en-XX&amp;curr=USD\">Customer Support</a></li><li class=\"mc-ft__list-item\"><a target=\"_blank\" rel=\"nofollow noopener noreferrer\" href=\"/pages/customer-service/?locale=en-XX&amp;curr=USD\">Service Guarantee</a></li><li class=\"mc-ft__list-item\"><a target=\"_blank\" rel=\"nofollow noopener noreferrer\" href=\"/pages/service/?locale=en-XX&amp;curr=USD\">More Service Info</a></li><li class=\"mc-ft__list-item\"><a target=\"_blank\" rel=\"nofollow noopener noreferrer\" href=\"/feedback/?locale=en-XX&amp;curr=USD\">Website Feedback</a></li></ul><ul class=\"mc-ft__social\"></ul></div><div class=\"mc-ft__block\"><h3 class=\"mc-ft__block-title\">About</h3><ul class=\"mc-ft__link-list\"><li class=\"mc-ft__list-item\"><a target=\"_blank\" rel=\"nofollow noopener noreferrer\" href=\"/pages/about-us/?locale=en-XX&amp;curr=USD\">About Trip.com</a></li><li class=\"mc-ft__list-item\"><a target=\"_blank\" rel=\"nofollow noopener noreferrer\" href=\"https://www.trip.com/newsroom/?locale=en-xx&amp;curr=USD\">News</a></li><li class=\"mc-ft__list-item\"><a target=\"_blank\" rel=\"nofollow noopener noreferrer\" href=\"https://careers.trip.com/?locale=en-XX&amp;curr=USD\">Careers</a></li><li class=\"mc-ft__list-item\"><a target=\"_blank\" rel=\"nofollow noopener noreferrer\" href=\"https://pages.trip.com/service-guideline/terms-en-xx.html?locale=en-XX&amp;curr=USD\">Terms &amp; Conditions</a></li><li class=\"mc-ft__list-item\"><a target=\"_blank\" rel=\"nofollow noopener noreferrer\" href=\"https://pages.trip.com/service-guideline/privacy-policy-en-xx.html?locale=en-XX&amp;curr=USD\">Privacy Statement</a></li><li class=\"mc-ft__list-item\"><a target=\"_blank\" rel=\"nofollow noopener noreferrer\" href=\"https://group.trip.com/?locale=en-US&amp;curr=USD\">About Trip.com Group</a></li></ul></div><div class=\"mc-ft__block\"><h3 class=\"mc-ft__block-title\">Other Services</h3><ul class=\"mc-ft__link-list\"><li class=\"mc-ft__list-item\"><a target=\"_blank\" rel=\"nofollow noopener noreferrer\" href=\"https://investors.trip.com?locale=en-XX&amp;curr=USD\">Investor Relations</a></li><li class=\"mc-ft__list-item\"><a target=\"_blank\" rel=\"nofollow noopener noreferrer\" href=\"/customer/loyalty/?locale=en-xx&amp;curr=USD\">Trip.com Rewards</a></li><li class=\"mc-ft__list-item\"><a target=\"_blank\" rel=\"nofollow noopener noreferrer\" href=\"/partners/index?locale=en-XX&amp;curr=USD\">Affiliate Program</a></li><li class=\"mc-ft__list-item\"><a target=\"_blank\" rel=\"nofollow noopener noreferrer\" href=\"https://ebooking.trip.com/htbusinesscore/acqjoin?channel=2&amp;locale=en-us&amp;curr=USD\">List Your Property</a></li><li class=\"mc-ft__list-item\"><a target=\"_blank\" rel=\"nofollow noopener noreferrer\" href=\"/hotels/all-cities/?locale=en-xx&amp;curr=USD\">All Hotels</a></li><li class=\"mc-ft__list-item\"><a target=\"_blank\" rel=\"nofollow noopener noreferrer\" href=\"/m/vbooking/home?locale=en-XX&amp;curr=USD\">Become a Supplier</a></li><li class=\"mc-ft__list-item\"><a target=\"_blank\" rel=\"nofollow noopener noreferrer\" href=\"https://src.trip.com/?locale=en-XX&amp;curr=USD#/Home\">Security</a></li></ul></div></div><div class=\"mc-ft__others\"><div class=\"mc-ft__payment\"><div class=\"mc-ft__payment-title\">Payment Methods</div><div class=\"mc-ft__payment-body\"></div></div><div class=\"mc-ft__partner\"><div class=\"mc-ft__partner-title\">Our Partners</div><div class=\"mc-ft__partner-body\"></div></div></div></div><div class=\"mc-ft_awards\"><div class=\"mc-ft_awards-list\"><div class=\"mc-ft_awards-prev fi fi-arrow-left u-hide\"></div><div class=\"mc-ft_awards-next fi fi-arrow-right u-hide\"></div></div></div><div class=\"mc-ft__rights\"><div class=\"mc-ft__copyright-txt\">Copyright \\xc2\\xa9 2024 Trip.com Travel Singapore Pte. Ltd. All rights reserved<br>Site Operator: Trip.com Travel Singapore Pte. Ltd. </div></div></div></div><script>if (typeof Object.assign !== \\'function\\') {window._assignObject = function(t, s) {for (var k in s) { t[k] = s[k] }; return t }; }else { window._assignObject = Object.assign } window.__CARGO_DATA__ = _assignObject(window.__CARGO_DATA__ || {}, {\"onlinefooterlinke0\":\"{\\\\\"about\\\\\":[{\\\\\"show\\\\\":\\\\\"1\\\\\",\\\\\"displayName\\\\\":\\\\\"About Trip.com\\\\\",\\\\\"displayNameSharkKey\\\\\":\\\\\"ButtonText_AboutUs\\\\\",\\\\\"include\\\\\":\\\\\"all\\\\\",\\\\\"link\\\\\":\\\\\"/pages/about-us/\\\\\"},{\\\\\"show\\\\\":\\\\\"1\\\\\",\\\\\"displayName\\\\\":\\\\\"NewsRoom\\\\\",\\\\\"displayNameSharkKey\\\\\":\\\\\"ButtonText_NewsRoom\\\\\",\\\\\"include\\\\\":\\\\\"en_us,zh_hk,en_hk,zh_tw,ja_jp,ko_kr,it_it,vi_vn,ru_ru,id_id,de_de,fr_fr,es_es,th_th,en_au,ms_my,en_gb,en_th,en_id,en_ph\\\\\",\\\\\"link\\\\\":\\\\\"/newsroom/\\\\\"},{\\\\\"show\\\\\":\\\\\"1\\\\\",\\\\\"displayName\\\\\":\\\\\"Newsroom\\\\\",\\\\\"displayNameSharkKey\\\\\":\\\\\"ButtonText_NewsRoom\\\\\",\\\\\"exclude\\\\\":\\\\\"en_us,zh_hk,en_hk,zh_tw,ja_jp,ko_kr,it_it,vi_vn,ru_ru,id_id,de_de,fr_fr,es_es,th_th,en_au,ms_my,en_gb,pt_pt,es_mx,uk_ua,sv_se,da_dk,fi_fi,es_us,en_th,en_id,en_ph,ar_xx,ar_sa,ar_ae\\\\\",\\\\\"link\\\\\":\\\\\"https://www.trip.com/newsroom/?locale=en-xx\\\\\"},{\\\\\"show\\\\\":\\\\\"1\\\\\",\\\\\"displayName\\\\\":\\\\\"Careers\\\\\",\\\\\"displayNameSharkKey\\\\\":\\\\\"ButtonText_Career\\\\\",\\\\\"exclude\\\\\":\\\\\"ar_xx,ar_sa,ar_ae\\\\\",\\\\\"link\\\\\":\\\\\"https://careers.trip.com/\\\\\"},{\\\\\"show\\\\\":\\\\\"1\\\\\",\\\\\"displayName\\\\\":\\\\\"Terms of Use\\\\\",\\\\\"displayNameSharkKey\\\\\":\\\\\"LinkButtonText_TermsAndCondition\\\\\",\\\\\"include\\\\\":\\\\\"all\\\\\",\\\\\"link\\\\\":\\\\\"https://pages.trip.com/service-guideline/terms-${locale}.html\\\\\"},{\\\\\"show\\\\\":\\\\\"1\\\\\",\\\\\"displayName\\\\\":\\\\\"Privacy Statement\\\\\",\\\\\"displayNameSharkKey\\\\\":\\\\\"ButtonText_PrivacyPolicy\\\\\",\\\\\"exclude\\\\\":\\\\\"es_us,es_mx,pt_pt\\\\\",\\\\\"link\\\\\":\\\\\"https://pages.trip.com/service-guideline/privacy-policy-${locale}.html\\\\\"},{\\\\\"show\\\\\":\\\\\"1\\\\\",\\\\\"displayName\\\\\":\\\\\"Impressum\\\\\",\\\\\"displayNameSharkKey\\\\\":\\\\\"ButtonText_Impressum\\\\\",\\\\\"include\\\\\":\\\\\"de_de\\\\\",\\\\\"link\\\\\":\\\\\"https://pages.trip.com/others/impressum-de-de.html\\\\\"},{\\\\\"show\\\\\":\\\\\"1\\\\\",\\\\\"displayName\\\\\":\\\\\"Do not sale my personal information\\\\\",\\\\\"displayNameSharkKey\\\\\":\\\\\"ButtonText_Personalinformation\\\\\",\\\\\"include\\\\\":\\\\\"en_us\\\\\",\\\\\"link\\\\\":\\\\\"https://us.trip.com/pages/treatyforcookie/\\\\\"},{\\\\\"show\\\\\":\\\\\"1\\\\\",\\\\\"displayName\\\\\":\\\\\"Trip.com Group\\\\\",\\\\\"displayNameSharkKey\\\\\":\\\\\"ButtonText_TripGroup\\\\\",\\\\\"include\\\\\":\\\\\"zh_hk,zh_tw\\\\\",\\\\\"link\\\\\":\\\\\"https://group.trip.com/?locale=zh-HK\\\\\"},{\\\\\"show\\\\\":\\\\\"1\\\\\",\\\\\"displayName\\\\\":\\\\\"Trip.com Group\\\\\",\\\\\"displayNameSharkKey\\\\\":\\\\\"ButtonText_TripGroup\\\\\",\\\\\"exclude\\\\\":\\\\\"zh_hk,zh_tw\\\\\",\\\\\"link\\\\\":\\\\\"https://group.trip.com/?locale=en-US\\\\\"}],\\\\\"otherServices\\\\\":[{\\\\\"show\\\\\":\\\\\"1\\\\\",\\\\\"displayName\\\\\":\\\\\"Investor Relations\\\\\",\\\\\"displayNameSharkKey\\\\\":\\\\\"ButtonText_InvestorRelations\\\\\",\\\\\"include\\\\\":\\\\\"all\\\\\",\\\\\"link\\\\\":\\\\\"https://investors.trip.com\\\\\"},{\\\\\"show\\\\\":\\\\\"1\\\\\",\\\\\"displayName\\\\\":\\\\\"TripPLUS\\\\\",\\\\\"displayNameSharkKey\\\\\":\\\\\"ButtonText_TripPlus\\\\\",\\\\\"exclude\\\\\":\\\\\"pt_pt,es_mx,uk_ua,sv_se,da_dk,fi_fi,es_us,ar_xx,ar_sa,ar_ae\\\\\",\\\\\"link\\\\\":\\\\\"/customer/loyalty/?locale=${locale}\\\\\"},{\\\\\"show\\\\\":\\\\\"0\\\\\",\\\\\"displayName\\\\\":\\\\\"Partners\\\\\",\\\\\"displayNameSharkKey\\\\\":\\\\\"ButtonText_Affiliate_trip\\\\\",\\\\\"exclude\\\\\":\\\\\"zh_tw\\\\\",\\\\\"link\\\\\":\\\\\"/pages/partners\\\\\"},{\\\\\"show\\\\\":\\\\\"1\\\\\",\\\\\"displayName\\\\\":\\\\\"Partners\\\\\",\\\\\"displayNameSharkKey\\\\\":\\\\\"ButtonText_Affiliate_trip\\\\\",\\\\\"include\\\\\":\\\\\"en_xx,zh_hk,ko_kr,ja_jp,ru_ru,th_th,en_th,en_ph,en_in,en_pk\\\\\",\\\\\"link\\\\\":\\\\\"/partners/index\\\\\"},{\\\\\"show\\\\\":\\\\\"1\\\\\",\\\\\"displayName\\\\\":\\\\\"Partners\\\\\",\\\\\"displayNameSharkKey\\\\\":\\\\\"ButtonText_Affiliate_trip\\\\\",\\\\\"exclude\\\\\":\\\\\"en_xx,zh_hk,ko_kr,ja_jp,ru_ru,th_th,en_th,en_ph,ar_xx,ar_sa,ar_ae,en_in,en_pk\\\\\",\\\\\"link\\\\\":\\\\\"https://www.trip.com/partners/index\\\\\"},{\\\\\"show\\\\\":\\\\\"1\\\\\",\\\\\"displayName\\\\\":\\\\\"List My Hotel\\\\\",\\\\\"displayNameSharkKey\\\\\":\\\\\"LinkButtonText_Listyourhotel\\\\\",\\\\\"include\\\\\":\\\\\"en_be,fr_ch,en_ch,fr_be,nl_be,de_ch,de_at,en_ie,en_xx,en_nz,en_il,en_sa,en_ae,en_us,nl_nl,el_gr,pt_br,tr_tr,pl_pl,en_th,en_my,en_id,zh_sg,en_gb,it_it,tl_ph,en_au,ms_my,en_sg,en_hk,ru_ru,es_es,de_de,fr_fr,en_ph,en_in,en_pk\\\\\",\\\\\"link\\\\\":\\\\\"https://ebooking.trip.com/htbusinesscore/acqjoin?channel=2&locale=${locale}\\\\\",\\\\\"linkLocale\\\\\":\\\\\"en-US\\\\\"},{\\\\\"show\\\\\":\\\\\"1\\\\\",\\\\\"displayName\\\\\":\\\\\"List My Hotel\\\\\",\\\\\"displayNameSharkKey\\\\\":\\\\\"LinkButtonText_Listyourhotel\\\\\",\\\\\"include\\\\\":\\\\\"zh_hk\\\\\",\\\\\"link\\\\\":\\\\\"https://ebooking.trip.com/htbusinesscore/acqjoin?channel=2&locale=zh-HK\\\\\"},{\\\\\"show\\\\\":\\\\\"1\\\\\",\\\\\"displayName\\\\\":\\\\\"List My Hotel\\\\\",\\\\\"displayNameSharkKey\\\\\":\\\\\"LinkButtonText_Listyourhotel\\\\\",\\\\\"include\\\\\":\\\\\"zh_tw\\\\\",\\\\\"link\\\\\":\\\\\"https://ebooking.trip.com/htbusinesscore/acqjoin?channel=2&locale=zh-TW\\\\\"},{\\\\\"show\\\\\":\\\\\"1\\\\\",\\\\\"displayName\\\\\":\\\\\"List My Hotel\\\\\",\\\\\"displayNameSharkKey\\\\\":\\\\\"LinkButtonText_Listyourhotel\\\\\",\\\\\"include\\\\\":\\\\\"ja_jp\\\\\",\\\\\"link\\\\\":\\\\\"https://ebooking.trip.com/htbusinesscore/acqjoin?channel=2&locale=ja-JP\\\\\"},{\\\\\"show\\\\\":\\\\\"1\\\\\",\\\\\"displayName\\\\\":\\\\\"List My Hotel\\\\\",\\\\\"displayNameSharkKey\\\\\":\\\\\"LinkButtonText_Listyourhotel\\\\\",\\\\\"include\\\\\":\\\\\"ko_kr\\\\\",\\\\\"link\\\\\":\\\\\"https://ebooking.trip.com/htbusinesscore/acqjoin?channel=2&locale=ko-KR\\\\\"},{\\\\\"show\\\\\":\\\\\"1\\\\\",\\\\\"displayName\\\\\":\\\\\"List My Hotel\\\\\",\\\\\"displayNameSharkKey\\\\\":\\\\\"LinkButtonText_Listyourhotel\\\\\",\\\\\"include\\\\\":\\\\\"vi_vn\\\\\",\\\\\"link\\\\\":\\\\\"https://ebooking.trip.com/htbusinesscore/acqjoin?channel=2&locale=vi-VN\\\\\"},{\\\\\"show\\\\\":\\\\\"1\\\\\",\\\\\"displayName\\\\\":\\\\\"List My Hotel\\\\\",\\\\\"displayNameSharkKey\\\\\":\\\\\"LinkButtonText_Listyourhotel\\\\\",\\\\\"include\\\\\":\\\\\"id_id\\\\\",\\\\\"link\\\\\":\\\\\"https://ebooking.trip.com/htbusinesscore/acqjoin?channel=2&locale=id-ID\\\\\"},{\\\\\"show\\\\\":\\\\\"1\\\\\",\\\\\"displayName\\\\\":\\\\\"List My Hotel\\\\\",\\\\\"displayNameSharkKey\\\\\":\\\\\"LinkButtonText_Listyourhotel\\\\\",\\\\\"include\\\\\":\\\\\"th_th\\\\\",\\\\\"link\\\\\":\\\\\"https://ebooking.trip.com/htbusinesscore/acqjoin?channel=2&locale=th-TH\\\\\"},{\\\\\"show\\\\\":\\\\\"1\\\\\",\\\\\"displayName\\\\\":\\\\\"Hotel Cities\\\\\",\\\\\"displayNameSharkKey\\\\\":\\\\\"LinkButtonText_ListHotelCities\\\\\",\\\\\"include\\\\\":\\\\\"en_us,zh_hk,en_hk,ja_jp,ko_kr,en_sg,en_au,en_xx,en_in,en_pk\\\\\",\\\\\"link\\\\\":\\\\\"/hotels/all-cities/?locale=${locale}\\\\\"},{\\\\\"show\\\\\":\\\\\"1\\\\\",\\\\\"displayName\\\\\":\\\\\"VBooking\\\\\",\\\\\"displayNameSharkKey\\\\\":\\\\\"LinkButtonText_VBooking\\\\\",\\\\\"include\\\\\":\\\\\"en_gb,th_th,en_sg,en_my,ko_kr,ja_jp,en_hk,en_xx,en_us,en_au,en_nz,en_th,en_ph,en_in,en_pk\\\\\",\\\\\"link\\\\\":\\\\\"/m/vbooking/home\\\\\"},{\\\\\"show\\\\\":\\\\\"1\\\\\",\\\\\"displayName\\\\\":\\\\\"Security\\\\\",\\\\\"displayNameSharkKey\\\\\":\\\\\"ButtonText_Security\\\\\",\\\\\"exclude\\\\\":\\\\\"ar_xx,ar_sa,ar_ae\\\\\",\\\\\"link\\\\\":\\\\\"https://src.trip.com/#/Home\\\\\"}],\\\\\"contactUs\\\\\":[{\\\\\"show\\\\\":\\\\\"1\\\\\",\\\\\"displayName\\\\\":\\\\\"Customer Support\\\\\",\\\\\"displayNameSharkKey\\\\\":\\\\\"ButtonText_CustomerServiceHelp\\\\\",\\\\\"include\\\\\":\\\\\"all\\\\\",\\\\\"link\\\\\":\\\\\"/pages/support/\\\\\"},{\\\\\"show\\\\\":\\\\\"1\\\\\",\\\\\"displayName\\\\\":\\\\\"Customer Service\\\\\",\\\\\"displayNameSharkKey\\\\\":\\\\\"ButtonText_CustomerService\\\\\",\\\\\"include\\\\\":\\\\\"all\\\\\",\\\\\"link\\\\\":\\\\\"/pages/customer-service/\\\\\"},{\\\\\"show\\\\\":\\\\\"1\\\\\",\\\\\"displayName\\\\\":\\\\\"Travel Safety Guide\\\\\",\\\\\"displayNameSharkKey\\\\\":\\\\\"LinkButtonText_SafetyGuide\\\\\",\\\\\"include\\\\\":\\\\\"ja_jp\\\\\",\\\\\"link\\\\\":\\\\\"https://www.anzen.mofa.go.jp/\\\\\"},{\\\\\"show\\\\\":\\\\\"1\\\\\",\\\\\"displayName\\\\\":\\\\\"ServiceUSP\\\\\",\\\\\"displayNameSharkKey\\\\\":\\\\\"ButtonText_ServiceUSP\\\\\",\\\\\"include\\\\\":\\\\\"all\\\\\",\\\\\"link\\\\\":\\\\\"/pages/service/\\\\\"},{\\\\\"show\\\\\":\\\\\"1\\\\\",\\\\\"displayName\\\\\":\\\\\"Website Feedback\\\\\",\\\\\"displayNameSharkKey\\\\\":\\\\\"LinkButtonText_FeedBack\\\\\",\\\\\"include\\\\\":\\\\\"all\\\\\",\\\\\"link\\\\\":\\\\\"/feedback/\\\\\"}]}\",\"locale\":\"en-XX\",\"socialmediacenxxe0\":\"[{\\\\\"name\\\\\":\\\\\"facebook\\\\\",\\\\\"onlineIconUrl\\\\\":\\\\\"https://ak-d.tripcdn.com/images/05E2j12000cjsihpq0418.png\\\\\",\\\\\"h5IconUrl\\\\\":\\\\\"https://ak-d.tripcdn.com/images/05E1z12000cjsg7zuB5C8.png\\\\\",\\\\\"link\\\\\":\\\\\"https://www.facebook.com/Trip/\\\\\"},{\\\\\"name\\\\\":\\\\\"x\\\\\",\\\\\"onlineIconUrl\\\\\":\\\\\"https://ak-d.tripcdn.com/images/05E5k12000cjsg4e48D91.png\\\\\",\\\\\"h5IconUrl\\\\\":\\\\\"https://ak-d.tripcdn.com/images/05E5n12000cjsfs8m325A.png\\\\\",\\\\\"link\\\\\":\\\\\"https://twitter.com/Trip/\\\\\"},{\\\\\"name\\\\\":\\\\\"youtube\\\\\",\\\\\"onlineIconUrl\\\\\":\\\\\"https://ak-d.tripcdn.com/images/05E2z12000cjsfsqb7A2B.png\\\\\",\\\\\"h5IconUrl\\\\\":\\\\\"https://ak-d.tripcdn.com/images/05E2y12000cjsfqnyBCD8.png\\\\\",\\\\\"link\\\\\":\\\\\"https://www.youtube.com/c/TripOfficial/\\\\\"}]\",\"paymentmethodcenxxe0\":\"[{\\\\\"name\\\\\":\\\\\"visa\\\\\",\\\\\"iconUrl\\\\\":\\\\\"https://ak-d.tripcdn.com/images/05E2712000cjsr5ul9716.png\\\\\"},{\\\\\"name\\\\\":\\\\\"master-card\\\\\",\\\\\"iconUrl\\\\\":\\\\\"https://ak-d.tripcdn.com/images/05E0f12000cjsr2f9AAAB.png\\\\\"},{\\\\\"name\\\\\":\\\\\"upi\\\\\",\\\\\"iconUrl\\\\\":\\\\\"https://ak-d.tripcdn.com/images/05E2812000cjsr3vj8DF9.png\\\\\"},{\\\\\"name\\\\\":\\\\\"paypal\\\\\",\\\\\"iconUrl\\\\\":\\\\\"https://ak-d.tripcdn.com/images/05E4f12000cjsqzn4B29D.png\\\\\"},{\\\\\"name\\\\\":\\\\\"apple-pay\\\\\",\\\\\"iconUrl\\\\\":\\\\\"https://ak-d.tripcdn.com/images/05E0u12000cjsqynr567B.png\\\\\"}]\",\"businesspartnercenxxe0\":\"[{\\\\\"logo\\\\\":\\\\\"https://ak-d.tripcdn.com/images/05E6e12000cjso3ro7BEE.png\\\\\",\\\\\"name\\\\\":\\\\\"GOOGLE\\\\\"},{\\\\\"logo\\\\\":\\\\\"https://ak-d.tripcdn.com/images/05E4f12000cjsls8g082A.png\\\\\",\\\\\"name\\\\\":\\\\\"TRIPADVISOR\\\\\"}]\",\"sisterbrandcenxxe0\":\"\",\"awardscenxxe0\":\"[{\\\\\"awardLogo\\\\\":\\\\\"https://ak-d.tripcdn.com/images/05E4v12000cjd4sy511F3_R_40_40.png_.webp\\\\\",\\\\\"awardTxt\\\\\":\\\\\"Contact Center of the year 2022\\\\\"},{\\\\\"awardLogo\\\\\":\\\\\"https://ak-d.tripcdn.com/images/05E2r12000cjd4pns56D7.png\\\\\",\\\\\"awardTxt\\\\\":\\\\\"Google Material Design Awards 2019\\\\\"}]\"})</script></div><div id=\"modals\"></div><script>__APP_INITIAL_STATE__ = {\"site\":{\"host\":\"www.trip.com\",\"standardLocale\":\"en-XX\",\"language\":\"en\",\"locale\":\"en-XX\",\"currency\":\"USD\",\"group\":\"Trip\",\"site\":\"EN\"},\"pageId\":\"10320668088\",\"pageName\":\"onlineHome\",\"estimateInfo\":{\"newVisitor\":true,\"notLogin\":true,\"guestLogin\":false},\"isSupportWebp\":false,\"regionInfo\":{\"isCN\":false},\"onlineHeaderImage\":{},\"uaInfo\":{\"isBot\":true,\"isChrome\":false,\"isSafari\":false,\"isIE\":true,\"type\":\"ONLINE\"},\"interfaceState\":true,\"newGuestInfo\":{\"aid\":\"\",\"sid\":\"\"},\"accountSDKABTestResult\":\"M:-1,231218_IBU_OHS:A;\",\"newGuestABTestResult\":\"M:32,240315_IBU_XKLB:B;\",\"channels\":[{\"id\":\"hotels\",\"name\":\"hotels\",\"icon_class\":\"fi-hotel\",\"module_name\":\"modHotelsSearchBoxV2\",\"i18n_key\":\"LabelText_Home_SearchBox_Hotel\",\"locales\":\"*\",\"open_state\":true},{\"id\":\"flights\",\"name\":\"flights\",\"icon_class\":\"fi-flight\",\"module_name\":\"modFlightsSearchBoxV2\",\"i18n_key\":\"LabelText_Home_SearchBox_Flight\",\"locales\":\"*\",\"open_state\":true},{\"id\":\"trains\",\"name\":\"trains\",\"i18n_key\":\"LabelText_Home_SearchBox_Train\",\"module_name\":\"trainsSearchBox\",\"icon_class\":\"fi-train\",\"locales\":\"*\",\"open_state\":true},{\"id\":\"cars\",\"name\":\"\",\"i18n_key\":\"key_cars\",\"icon_class\":\"fi-car\",\"sub_channels\":[{\"name\":\"carhire\",\"icon_class\":\"fi-car\",\"module_name\":\"modCarsSearchBox\",\"i18n_key\":\"Car_Hire\",\"locales\":[\"en_hk\",\"zh_hk\",\"en_us\",\"en_au\",\"en_gb\",\"ko_kr\",\"ja_jp\",\"en_xx\",\"zh_tw\",\"en_ca\",\"en_nz\",\"en_my\",\"en_sa\",\"en_ae\",\"en_sg\",\"en_ie\",\"en_be\",\"es_es\",\"it_it\",\"es_mx\",\"es_us\",\"fr_ch\",\"fr_be\",\"fr_fr\",\"th_th\",\"de_de\",\"de_at\",\"de_ch\",\"en_th\",\"en_id\",\"en_ph\",\"nl_nl\",\"nl_be\",\"pt_pt\",\"pt_br\",\"tr_tr\",\"en_il\"],\"open_state\":true},{\"name\":\"transfer\",\"icon_class\":\"fi-airport-transfer\",\"module_name\":\"modAirportSearchBoxV3\",\"i18n_key\":\"Airport_Transfer\",\"locales\":[\"en_hk\",\"zh_hk\",\"en_us\",\"en_au\",\"en_gb\",\"en_my\",\"ko_kr\",\"ja_jp\",\"en_xx\",\"en_sg\",\"zh_tw\",\"en_th\",\"en_ph\",\"en_id\",\"en_ca\",\"en_nz\",\"en_ie\",\"en_be\",\"en_ch\",\"en_ae\",\"en_il\",\"en_sa\",\"en_in\",\"en_pk\"],\"open_state\":true}]},{\"id\":\"ttd\",\"name\":\"ttd\",\"icon_class\":\"fi-tnt\",\"module_name\":\"modThingToDoSearchBox\",\"i18n_key\":\"LabelText_Home_SearchBox_TTD\",\"locales\":[\"zh_hk\",\"zh_tw\",\"ja_jp\",\"ko_kr\",\"en_us\",\"en_hk\",\"en_gb\",\"en_sg\",\"en_my\",\"en_au\",\"en_xx\",\"en_il\",\"en_sa\",\"en_ae\",\"en_ie\",\"en_ch\",\"en_be\",\"en_ph\",\"en_id\",\"en_th\",\"ms_my\",\"vi_vn\",\"de_de\",\"de_ch\",\"de_at\",\"fr_fr\",\"fr_ch\",\"fr_be\",\"es_es\",\"es_us\",\"es_mx\",\"nl_nl\",\"nl_be\",\"it_it\",\"en_ca\"],\"open_state\":true},{\"id\":\"bundle\",\"name\":\"bundle\",\"icon_class\":\"fi-bundle\",\"module_name\":\"modBundleBox\",\"i18n_key\":\"LabelText_Home_SearchBox_Bundle\",\"locales\":[\"en_xx\",\"en_au\",\"en_my\",\"en_sg\",\"th_th\",\"en_th\",\"en_us\",\"ja_jp\",\"en_gb\",\"en_hk\",\"zh_hk\",\"ko_kr\",\"vi_vn\",\"zh_tw\",\"de_de\",\"en_nz\",\"fr_fr\",\"en_id\",\"id_id\",\"en_in\",\"en_pk\"],\"open_state\":true}],\"sketchSlogan\":[{\"title\":\"Tried and Trusted\",\"subTitle\":\"We\\'re trusted worldwide by 400 million travellers just like you.\",\"icon\":\"https://pages.trip.com/images/sketch-slogan/tried-trusted.png\"},{\"title\":\"Your One-stop Travel Partner\",\"subTitle\":\"Your search ends here. We\\'ve got your entire trip covered!\",\"icon\":\"https://pages.trip.com/images/sketch-slogan/one-stop.png\"},{\"title\":\"Reliable Support\",\"subTitle\":\"We\\'re here for you. Reach out to us anytime by phone, email, or chat.\",\"icon\":\"https://pages.trip.com/images/sketch-slogan/reliable-support.png\"}],\"searchTagConfig\":{},\"gotopSaleConfig\":{},\"promotionBannerConfig\":{},\"quicFrameConfig\":{\"ip\":\"43.226.116.6\"},\"seoLinksContent\":{\"ResponseStatus\":{\"Timestamp\":\"/Date(1718963249548+0800)/\",\"Ack\":\"Success\",\"Errors\":[],\"Extension\":[{\"Id\":\"CLOGGING_TRACE_ID\",\"Value\":\"9d65f00e-7a2c-4bde-96bc-ee17650dd41b\"},{\"Id\":\"RootMessageId\",\"Value\":\"100014416-0a93a3ed-477489-1261669\"}]},\"data\":{\"className\":\"m-64-48\",\"title\":\"Trip.com Recommendations\",\"tabList\":[{\"text\":\"Popular Flights\",\"linkType\":\"SHORT_LINK\",\"linkListProps\":{\"links\":[{\"link\":\"https://www.trip.com/flights/cairo-to-jeddah/airfares-cai-jed/\",\"keyword\":\"Flights from Cairo to Jeddah\",\"pictureUrl\":\"\",\"ruleName\":\"\",\"channel\":\"home\",\"text\":\"Flights from Cairo to Jeddah\"},{\"link\":\"https://www.trip.com/flights/dubai-to-riyadh/airfares-dxb-ruh/\",\"keyword\":\"Flights from Dubai to Riyadh\",\"pictureUrl\":\"\",\"ruleName\":\"\",\"channel\":\"home\",\"text\":\"Flights from Dubai to Riyadh\"},{\"link\":\"https://www.trip.com/flights/london-to-new-york/airfares-lon-nyc/\",\"keyword\":\"Flights from London to New York\",\"pictureUrl\":\"\",\"ruleName\":\"\",\"channel\":\"home\",\"text\":\"Flights from London to New York\"},{\"link\":\"https://www.trip.com/flights/london-to-dubai/airfares-lon-dxb/\",\"keyword\":\"Flights from London to Dubai\",\"pictureUrl\":\"\",\"ruleName\":\"\",\"channel\":\"home\",\"text\":\"Flights from London to Dubai\"},{\"link\":\"https://www.trip.com/flights/kuala-lumpur-to-singapore/airfares-kul-sin/\",\"keyword\":\"Flights from Kuala Lumpur to Singapore\",\"pictureUrl\":\"\",\"ruleName\":\"\",\"channel\":\"home\",\"text\":\"Flights from Kuala Lumpur to Singapore\"},{\"link\":\"https://www.trip.com/flights/dubai-to-jeddah/airfares-dxb-jed/\",\"keyword\":\"Flights from Dubai to Jeddah\",\"pictureUrl\":\"\",\"ruleName\":\"\",\"channel\":\"home\",\"text\":\"Flights from Dubai to Jeddah\"},{\"link\":\"https://www.trip.com/flights/orlando-to-san-juan/airfares-orl-sju/\",\"keyword\":\"Flights from Orlando to San Juan\",\"pictureUrl\":\"\",\"ruleName\":\"\",\"channel\":\"home\",\"text\":\"Flights from Orlando to San Juan\"},{\"link\":\"https://www.trip.com/flights/dubai-to-mumbai/airfares-dxb-bom/\",\"keyword\":\"Flights from Dubai to Mumbai\",\"pictureUrl\":\"\",\"ruleName\":\"\",\"channel\":\"home\",\"text\":\"Flights from Dubai to Mumbai\"},{\"link\":\"https://www.trip.com/flights/cairo-to-riyadh/airfares-cai-ruh/\",\"keyword\":\"Flights from Cairo to Riyadh\",\"pictureUrl\":\"\",\"ruleName\":\"\",\"channel\":\"home\",\"text\":\"Flights from Cairo to Riyadh\"},{\"link\":\"https://www.trip.com/flights/dubai-to-delhi/airfares-dxb-del/\",\"keyword\":\"Flights from Dubai to Delhi\",\"pictureUrl\":\"\",\"ruleName\":\"\",\"channel\":\"home\",\"text\":\"Flights from Dubai to Delhi\"},{\"link\":\"https://www.trip.com/flights/bangkok-to-chiang-mai/airfares-bkk-cnx/\",\"keyword\":\"Flights from Bangkok to Chiang Mai\",\"pictureUrl\":\"\",\"ruleName\":\"\",\"channel\":\"home\",\"text\":\"Flights from Bangkok to Chiang Mai\"},{\"link\":\"https://www.trip.com/flights/bangkok-to-phuket/airfares-bkk-hkt/\",\"keyword\":\"Flights from Bangkok to Phuket\",\"pictureUrl\":\"\",\"ruleName\":\"\",\"channel\":\"home\",\"text\":\"Flights from Bangkok to Phuket\"},{\"link\":\"https://www.trip.com/flights/shanghai-to-beijing/airfares-sha-bjs/\",\"keyword\":\"Flights from Shanghai to Beijing\",\"pictureUrl\":\"\",\"ruleName\":\"\",\"channel\":\"home\",\"text\":\"Flights from Shanghai to Beijing\"},{\"link\":\"https://www.trip.com/flights/sanya-to-shanghai/airfares-syx-sha/\",\"keyword\":\"Flights from Sanya to Shanghai\",\"pictureUrl\":\"\",\"ruleName\":\"\",\"channel\":\"home\",\"text\":\"Flights from Sanya to Shanghai\"},{\"link\":\"https://www.trip.com/flights/guangzhou-to-shanghai/airfares-can-sha/\",\"keyword\":\"Flights from Guangzhou to Shanghai\",\"pictureUrl\":\"\",\"ruleName\":\"\",\"channel\":\"home\",\"text\":\"Flights from Guangzhou to Shanghai\"},{\"link\":\"https://www.trip.com/flights/tokyo-to-seoul/airfares-tyo-sel/\",\"keyword\":\"Flights from Tokyo to Seoul\",\"pictureUrl\":\"\",\"ruleName\":\"\",\"channel\":\"home\",\"text\":\"Flights from Tokyo to Seoul\"},{\"link\":\"https://www.trip.com/flights/cape-town-to-johannesburg/airfares-cpt-jnb/\",\"keyword\":\"Flights from Cape Town to Johannesburg\",\"pictureUrl\":\"\",\"ruleName\":\"\",\"channel\":\"home\",\"text\":\"Flights from Cape Town to Johannesburg\"},{\"link\":\"https://www.trip.com/flights/toronto-to-delhi/airfares-yto-del/\",\"keyword\":\"Flights from Toronto to Delhi\",\"pictureUrl\":\"\",\"ruleName\":\"\",\"channel\":\"home\",\"text\":\"Flights from Toronto to Delhi\"},{\"link\":\"https://www.trip.com/flights/bangalore-to-delhi/airfares-blr-del/\",\"keyword\":\"Flights from Bangalore to Delhi\",\"pictureUrl\":\"\",\"ruleName\":\"\",\"channel\":\"home\",\"text\":\"Flights from Bangalore to Delhi\"},{\"link\":\"https://www.trip.com/flights/edinburgh-to-london/airfares-edi-lon/\",\"keyword\":\"Flights from Edinburgh to London\",\"pictureUrl\":\"\",\"ruleName\":\"\",\"channel\":\"home\",\"text\":\"Flights from Edinburgh to London\"}]},\"extraData\":{}},{\"text\":\"Featured Hotel Destinations\",\"linkType\":\"SHORT_LINK\",\"linkListProps\":{\"links\":[{\"link\":\"https://www.trip.com/hotels/shanghai-hotels-list-2/\",\"keyword\":\"Best Hotels in Shanghai\",\"pictureUrl\":\"\",\"ruleName\":\"\",\"channel\":\"home\",\"text\":\"Best Hotels in Shanghai\"},{\"link\":\"https://www.trip.com/hotels/hong-kong-hotels-list-58/\",\"keyword\":\"Best Hotels in Hong Kong\",\"pictureUrl\":\"\",\"ruleName\":\"\",\"channel\":\"home\",\"text\":\"Best Hotels in Hong Kong\"},{\"link\":\"https://www.trip.com/hotels/macau-hotels-list-59/\",\"keyword\":\"Best Hotels in Macau\",\"pictureUrl\":\"\",\"ruleName\":\"\",\"channel\":\"home\",\"text\":\"Best Hotels in Macau\"},{\"link\":\"https://www.trip.com/hotels/bangkok-hotels-list-359/\",\"keyword\":\"Best Hotels in Bangkok\",\"pictureUrl\":\"\",\"ruleName\":\"\",\"channel\":\"home\",\"text\":\"Best Hotels in Bangkok\"},{\"link\":\"https://www.trip.com/hotels/singapore-hotels-list-73/\",\"keyword\":\"Best Hotels in Singapore\",\"pictureUrl\":\"\",\"ruleName\":\"\",\"channel\":\"home\",\"text\":\"Best Hotels in Singapore\"},{\"link\":\"https://www.trip.com/hotels/dubai-hotels-list-220/\",\"keyword\":\"Best Hotels in Dubai\",\"pictureUrl\":\"\",\"ruleName\":\"\",\"channel\":\"home\",\"text\":\"Best Hotels in Dubai\"},{\"link\":\"https://www.trip.com/hotels/sanya-hotels-list-43/\",\"keyword\":\"Best Hotels in Sanya\",\"pictureUrl\":\"\",\"ruleName\":\"\",\"channel\":\"home\",\"text\":\"Best Hotels in Sanya\"},{\"link\":\"https://www.trip.com/hotels/beijing-hotels-list-1/\",\"keyword\":\"Best Hotels in Beijing\",\"pictureUrl\":\"\",\"ruleName\":\"\",\"channel\":\"home\",\"text\":\"Best Hotels in Beijing\"},{\"link\":\"https://www.trip.com/hotels/guangzhou-hotels-list-32/\",\"keyword\":\"Best Hotels in Guangzhou\",\"pictureUrl\":\"\",\"ruleName\":\"\",\"channel\":\"home\",\"text\":\"Best Hotels in Guangzhou\"},{\"link\":\"https://www.trip.com/hotels/shenzhen-hotels-list-30/\",\"keyword\":\"Best Hotels in Shenzhen\",\"pictureUrl\":\"\",\"ruleName\":\"\",\"channel\":\"home\",\"text\":\"Best Hotels in Shenzhen\"},{\"link\":\"https://www.trip.com/hotels/las-vegas-hotels-list-26282/\",\"keyword\":\"Best Hotels in Las Vegas\",\"pictureUrl\":\"\",\"ruleName\":\"\",\"channel\":\"home\",\"text\":\"Best Hotels in Las Vegas\"},{\"link\":\"https://www.trip.com/hotels/london-hotels-list-338/\",\"keyword\":\"Best Hotels in London\",\"pictureUrl\":\"\",\"ruleName\":\"\",\"channel\":\"home\",\"text\":\"Best Hotels in London\"},{\"link\":\"https://www.trip.com/hotels/san-diego-hotels-list-698/\",\"keyword\":\"Best Hotels in San Diego\",\"pictureUrl\":\"\",\"ruleName\":\"\",\"channel\":\"home\",\"text\":\"Best Hotels in San Diego\"},{\"link\":\"https://www.trip.com/hotels/chicago-hotels-list-549/\",\"keyword\":\"Best Hotels in Chicago\",\"pictureUrl\":\"\",\"ruleName\":\"\",\"channel\":\"home\",\"text\":\"Best Hotels in Chicago\"},{\"link\":\"https://www.trip.com/hotels/new-york-hotels-list-633/\",\"keyword\":\"Best Hotels in New York\",\"pictureUrl\":\"\",\"ruleName\":\"\",\"channel\":\"home\",\"text\":\"Best Hotels in New York\"},{\"link\":\"https://www.trip.com/hotels/paris-hotels-list-192/\",\"keyword\":\"Best Hotels in Paris\",\"pictureUrl\":\"\",\"ruleName\":\"\",\"channel\":\"home\",\"text\":\"Best Hotels in Paris\"},{\"link\":\"https://www.trip.com/hotels/rome-hotels-list-343/\",\"keyword\":\"Best Hotels in Rome\",\"pictureUrl\":\"\",\"ruleName\":\"\",\"channel\":\"home\",\"text\":\"Best Hotels in Rome\"},{\"link\":\"https://www.trip.com/hotels/edinburgh-hotels-list-706/\",\"keyword\":\"Best Hotels in Edinburgh\",\"pictureUrl\":\"\",\"ruleName\":\"\",\"channel\":\"home\",\"text\":\"Best Hotels in Edinburgh\"},{\"link\":\"https://www.trip.com/hotels/boston-hotels-list-26848/\",\"keyword\":\"Best Hotels in Boston\",\"pictureUrl\":\"\",\"ruleName\":\"\",\"channel\":\"home\",\"text\":\"Best Hotels in Boston\"},{\"link\":\"https://www.trip.com/hotels/nashville-hotels-list-3228/\",\"keyword\":\"Best Hotels in Nashville\",\"pictureUrl\":\"\",\"ruleName\":\"\",\"channel\":\"home\",\"text\":\"Best Hotels in Nashville\"}]},\"extraData\":{}},{\"text\":\"Featured Guides\",\"linkType\":\"SHORT_LINK\",\"linkListProps\":{\"links\":[{\"link\":\"https://www.trip.com/guide/transport/jr-pass.html\",\"keyword\":\"JR Pass Guide\",\"pictureUrl\":\"\",\"ruleName\":\"\",\"channel\":\"home\",\"text\":\"JR Pass Guide\"},{\"link\":\"https://www.trip.com/guide/phone/esim-guide.html\",\"keyword\":\"eSIM Guide for Tourists\",\"pictureUrl\":\"\",\"ruleName\":\"\",\"channel\":\"home\",\"text\":\"eSIM Guide for Tourists\"},{\"link\":\"https://www.trip.com/toplist/tripbest/annual/global-100001427268/\",\"keyword\":\"Trip.Best 2024 Global 100\",\"pictureUrl\":\"\",\"ruleName\":\"\",\"channel\":\"home\",\"text\":\"Trip.Best 2024 Global 100\"},{\"link\":\"https://www.trip.com/toplist/tripbest/bangkok-best-things-to-do-111000000191/\",\"keyword\":\"Best Things to do in Bangkok\",\"pictureUrl\":\"\",\"ruleName\":\"\",\"channel\":\"home\",\"text\":\"Best Things to do in Bangkok\"},{\"link\":\"https://www.trip.com/hot/tourist-guide/china-visa-free-transit.html\",\"keyword\":\"China 24/72/144-Hour Visa Free Transit\",\"pictureUrl\":\"\",\"ruleName\":\"\",\"channel\":\"home\",\"text\":\"China 24/72/144-Hour Visa Free Transit\"},{\"link\":\"https://www.trip.com/hot/tourist-guide/shanghai-visa-free-transit.html\",\"keyword\":\"Shanghai 24/144-Hour Visa Free Transit\",\"pictureUrl\":\"\",\"ruleName\":\"\",\"channel\":\"home\",\"text\":\"Shanghai 24/144-Hour Visa Free Transit\"},{\"link\":\"https://www.trip.com/hot/package/tokyo-vacation.html\",\"keyword\":\"Tokyo Vacation\",\"pictureUrl\":\"\",\"ruleName\":\"\",\"channel\":\"home\",\"text\":\"Tokyo Vacation\"},{\"link\":\"https://www.trip.com/guide/attraction/universal-studios-locations.html\",\"keyword\":\"Universal Studios Locations\",\"pictureUrl\":\"\",\"ruleName\":\"\",\"channel\":\"home\",\"text\":\"Universal Studios Locations\"},{\"link\":\"https://www.trip.com/guide/attraction/disney-locations.html\",\"keyword\":\"Disney Parks & Disneylands\",\"pictureUrl\":\"\",\"ruleName\":\"\",\"channel\":\"home\",\"text\":\"Disney Parks & Disneylands\"},{\"link\":\"https://www.trip.com/toplist/tripbest/bangkok-best-bars-100900005313/\",\"keyword\":\"Best Bars in Bangkok\",\"pictureUrl\":\"\",\"ruleName\":\"\",\"channel\":\"home\",\"text\":\"Best Bars in Bangkok\"},{\"link\":\"https://www.trip.com/toplist/tripbest/london-best-bars-100900005411/\",\"keyword\":\"Best Bars in London\",\"pictureUrl\":\"\",\"ruleName\":\"\",\"channel\":\"home\",\"text\":\"Best Bars in London\"},{\"link\":\"https://www.trip.com/guide/destination/japan-travel.html\",\"keyword\":\"Japan Travel\",\"pictureUrl\":\"\",\"ruleName\":\"\",\"channel\":\"home\",\"text\":\"Japan Travel\"},{\"link\":\"https://www.trip.com/guide/train/china-high-speed-rail.html\",\"keyword\":\"China High Speed Rail\",\"pictureUrl\":\"\",\"ruleName\":\"\",\"channel\":\"home\",\"text\":\"China High Speed Rail\"},{\"link\":\"https://www.trip.com/guide/train/china-train-ticket.html\",\"keyword\":\"China Train Ticket\",\"pictureUrl\":\"\",\"ruleName\":\"\",\"channel\":\"home\",\"text\":\"China Train Ticket\"},{\"link\":\"https://www.trip.com/guide/train/china-train-booking.html\",\"keyword\":\"China Train Booking\",\"pictureUrl\":\"\",\"ruleName\":\"\",\"channel\":\"home\",\"text\":\"China Train Booking\"},{\"link\":\"https://www.trip.com/guide/train/china-bullet-train.html\",\"keyword\":\"China Bullet Train\",\"pictureUrl\":\"\",\"ruleName\":\"\",\"channel\":\"home\",\"text\":\"China Bullet Train\"}]},\"extraData\":{}},{\"text\":\"Popular Attractions\",\"linkType\":\"SHORT_LINK\",\"linkListProps\":{\"links\":[{\"link\":\"https://www.trip.com/guide/attraction/universal-studios-japan-tickets.html\",\"keyword\":\"universal studios japan tickets\",\"pictureUrl\":\"\",\"ruleName\":\"1\",\"channel\":\"ttd\",\"text\":\"universal studios japan tickets\"},{\"link\":\"https://www.trip.com/guide/attraction/universal-studios-locations.html\",\"keyword\":\"Universal Studios Locations\",\"pictureUrl\":\"\",\"ruleName\":\"1\",\"channel\":\"ttd\",\"text\":\"Universal Studios Locations\"},{\"link\":\"https://www.trip.com/guide/attraction/walt-disney-studios-park.html\",\"keyword\":\"walt disney studios park\",\"pictureUrl\":\"\",\"ruleName\":\"1\",\"channel\":\"ttd\",\"text\":\"walt disney studios park\"},{\"link\":\"https://www.trip.com/guide/attraction/ghibli-museum-tickets.html\",\"keyword\":\"Ghibli Museum Tickets\",\"pictureUrl\":\"\",\"ruleName\":\"1\",\"channel\":\"ttd\",\"text\":\"Ghibli Museum Tickets\"},{\"link\":\"https://www.trip.com/guide/attraction/n-seoul-tower.html\",\"keyword\":\"N Seoul Tower\",\"pictureUrl\":\"\",\"ruleName\":\"1\",\"channel\":\"ttd\",\"text\":\"N Seoul Tower\"},{\"link\":\"https://www.trip.com/travel-guide/attraction/lishu/library-39141933/\",\"keyword\":\"Library\",\"pictureUrl\":\"\",\"ruleName\":\"2\",\"channel\":\"ttd\",\"text\":\"Library\"},{\"link\":\"https://www.trip.com/travel-guide/attraction/fujinomiya/mount-fuji-90134/\",\"keyword\":\"Mount Fuji\",\"pictureUrl\":\"\",\"ruleName\":\"2\",\"channel\":\"ttd\",\"text\":\"Mount Fuji\"},{\"link\":\"https://www.trip.com/travel-guide/attraction/cambridge/cambridge-36920906/\",\"keyword\":\"Cambridge\",\"pictureUrl\":\"\",\"ruleName\":\"2\",\"channel\":\"ttd\",\"text\":\"Cambridge\"},{\"link\":\"https://www.trip.com/travel-guide/attraction/modena/mata-61976739/\",\"keyword\":\"Mata\",\"pictureUrl\":\"\",\"ruleName\":\"2\",\"channel\":\"ttd\",\"text\":\"Mata\"},{\"link\":\"https://www.trip.com/travel-guide/attraction/dallas/planet-fitness-61233246/\",\"keyword\":\"Planet Fitness\",\"pictureUrl\":\"\",\"ruleName\":\"2\",\"channel\":\"ttd\",\"text\":\"Planet Fitness\"},{\"link\":\"https://www.trip.com/travel-guide/attraction/chongqing/eling-park-78163/\",\"keyword\":\"Eling Park\",\"pictureUrl\":\"\",\"ruleName\":\"3\",\"channel\":\"ttd\",\"text\":\"Eling Park\"},{\"link\":\"https://www.trip.com/travel-guide/attraction/guangzhou/chimelong-international-circus-10759002/\",\"keyword\":\"Chimelong International Circus\",\"pictureUrl\":\"\",\"ruleName\":\"3\",\"channel\":\"ttd\",\"text\":\"Chimelong International Circus\"},{\"link\":\"https://www.trip.com/travel-guide/attraction/shanghai/playa-maya-101858/\",\"keyword\":\"Playa Maya\",\"pictureUrl\":\"\",\"ruleName\":\"3\",\"channel\":\"ttd\",\"text\":\"Playa Maya\"},{\"link\":\"https://www.trip.com/travel-guide/attraction/chengdu/manhua-manor-18450855/\",\"keyword\":\"Manhua Manor\",\"pictureUrl\":\"\",\"ruleName\":\"3\",\"channel\":\"ttd\",\"text\":\"Manhua Manor\"},{\"link\":\"https://www.trip.com/travel-guide/attraction/shanghai/shanghai-ocean-aquarium-80473/\",\"keyword\":\"Shanghai Ocean Aquarium\",\"pictureUrl\":\"\",\"ruleName\":\"3\",\"channel\":\"ttd\",\"text\":\"Shanghai Ocean Aquarium\"},{\"link\":\"https://www.trip.com/hot/one-day-tour-city/day-tour-rome.html\",\"keyword\":\"Day Tour Rome\",\"pictureUrl\":\"https://dimg04.c-ctrip.com/images/0M773120009qche2o349F.jpg\",\"ruleName\":\"4\",\"channel\":\"ttd\",\"text\":\"Day Tour Rome\"},{\"link\":\"https://www.trip.com/guide/phone/taiwan-esim.html\",\"keyword\":\"Taiwan eSIM\",\"pictureUrl\":\"\",\"ruleName\":\"4\",\"channel\":\"ttd\",\"text\":\"Taiwan eSIM\"},{\"link\":\"https://www.trip.com/guide/attraction/tokyo-disneysea.html\",\"keyword\":\"tokyo disneysea\",\"pictureUrl\":\"\",\"ruleName\":\"4\",\"channel\":\"ttd\",\"text\":\"tokyo disneysea\"},{\"link\":\"https://www.trip.com/guide/phone/egypt-esim.html\",\"keyword\":\"Egypt eSim\",\"pictureUrl\":\"\",\"ruleName\":\"4\",\"channel\":\"ttd\",\"text\":\"Egypt eSim\"},{\"link\":\"https://www.trip.com/hot/articles/shanghai-disneyland.html\",\"keyword\":\"Shanghai Disneyland\",\"pictureUrl\":\"https://dimg04.c-ctrip.com/images/0M709120009ckyyrx5270.jpg\",\"ruleName\":\"4\",\"channel\":\"ttd\",\"text\":\"Shanghai Disneyland\"}]},\"extraData\":{}},{\"text\":\"Popular Airlines\",\"linkType\":\"SHORT_LINK\",\"linkListProps\":{\"links\":[{\"link\":\"https://www.trip.com/flights/to-london/airfares-lon/\",\"keyword\":\"Flights to London\",\"pictureUrl\":\"\",\"ruleName\":\"\",\"channel\":\"home\",\"text\":\"Flights to London\"},{\"link\":\"https://www.trip.com/flights/to-rome/airfares-rom/\",\"keyword\":\"Flights to Rome\",\"pictureUrl\":\"\",\"ruleName\":\"\",\"channel\":\"home\",\"text\":\"Flights to Rome\"},{\"link\":\"https://www.trip.com/flights/to-paris/airfares-par/\",\"keyword\":\"Flights to Paris\",\"pictureUrl\":\"\",\"ruleName\":\"\",\"channel\":\"home\",\"text\":\"Flights to Paris\"},{\"link\":\"https://www.trip.com/flights/to-new-york/airfares-nyc/\",\"keyword\":\"Flights to New York\",\"pictureUrl\":\"\",\"ruleName\":\"\",\"channel\":\"home\",\"text\":\"Flights to New York\"},{\"link\":\"https://www.trip.com/flights/to-tokyo/airfares-tyo/\",\"keyword\":\"Flights to Tokyo\",\"pictureUrl\":\"\",\"ruleName\":\"\",\"channel\":\"home\",\"text\":\"Flights to Tokyo\"},{\"link\":\"https://www.trip.com/flights/to-las-vegas/airfares-las/\",\"keyword\":\"Flights to Las Vegas\",\"pictureUrl\":\"\",\"ruleName\":\"\",\"channel\":\"home\",\"text\":\"Flights to Las Vegas\"},{\"link\":\"https://www.trip.com/flights/to-miami/airfares-mia/\",\"keyword\":\"Flights to Miami\",\"pictureUrl\":\"\",\"ruleName\":\"\",\"channel\":\"home\",\"text\":\"Flights to Miami\"},{\"link\":\"https://www.trip.com/flights/to-bali/airfares-dps/\",\"keyword\":\"Flights to Bali\",\"pictureUrl\":\"\",\"ruleName\":\"\",\"channel\":\"home\",\"text\":\"Flights to Bali\"},{\"link\":\"https://www.trip.com/flights/to-amsterdam/airfares-ams/\",\"keyword\":\"Flights to Amsterdam\",\"pictureUrl\":\"\",\"ruleName\":\"\",\"channel\":\"home\",\"text\":\"Flights to Amsterdam\"},{\"link\":\"https://www.trip.com/flights/to-atlanta/airfares-atl/\",\"keyword\":\"Flights to Atlanta\",\"pictureUrl\":\"\",\"ruleName\":\"\",\"channel\":\"home\",\"text\":\"Flights to Atlanta\"},{\"link\":\"https://www.trip.com/flights/airline-tk/turkish-airlines-flight-to-ist/\",\"keyword\":\"Turkish Airlines Flights to Istanbul\",\"pictureUrl\":\"\",\"ruleName\":\"\",\"channel\":\"home\",\"text\":\"Turkish Airlines Flights to Istanbul\"},{\"link\":\"https://www.trip.com/flights/airline-tk/turkish-airlines-flight-to-sin/\",\"keyword\":\"Turkish Airlines Flights to Singapore\",\"pictureUrl\":\"\",\"ruleName\":\"\",\"channel\":\"home\",\"text\":\"Turkish Airlines Flights to Singapore\"},{\"link\":\"https://www.trip.com/flights/airline-aa/american-airlines-flight-to-hnl/\",\"keyword\":\"American Airlines Flights to Hawaii\",\"pictureUrl\":\"\",\"ruleName\":\"\",\"channel\":\"home\",\"text\":\"American Airlines Flights to Hawaii\"},{\"link\":\"https://www.trip.com/flights/airline-aa/american-airlines-flight-to-cun/\",\"keyword\":\"American Airlines Flights to Cancun\",\"pictureUrl\":\"\",\"ruleName\":\"\",\"channel\":\"home\",\"text\":\"American Airlines Flights to Cancun\"},{\"link\":\"https://www.trip.com/flights/airline-ua/united-airlines-flight-to-bom/\",\"keyword\":\"United Airlines Flights to Mumbai\",\"pictureUrl\":\"\",\"ruleName\":\"\",\"channel\":\"home\",\"text\":\"United Airlines Flights to Mumbai\"},{\"link\":\"https://www.trip.com/flights/airline-ua/united-airlines-flight-to-tlv/\",\"keyword\":\"United Airlines Flights to Tel Aviv Yafo\",\"pictureUrl\":\"\",\"ruleName\":\"\",\"channel\":\"home\",\"text\":\"United Airlines Flights to Tel Aviv Yafo\"},{\"link\":\"https://www.trip.com/flights/airline-sq/singapore-airlines-flight-to-del/\",\"keyword\":\"Singapore Airlines Flights to Delhi\",\"pictureUrl\":\"\",\"ruleName\":\"\",\"channel\":\"home\",\"text\":\"Singapore Airlines Flights to Delhi\"},{\"link\":\"https://www.trip.com/flights/airline-sq/singapore-airlines-flight-to-syd/\",\"keyword\":\"Singapore Airlines Flights to Sydney\",\"pictureUrl\":\"\",\"ruleName\":\"\",\"channel\":\"home\",\"text\":\"Singapore Airlines Flights to Sydney\"},{\"link\":\"https://www.trip.com/flights/airline-pr/philippine-airlines-flight-to-mnl/\",\"keyword\":\"Philippine Airlines Flights to Manila\",\"pictureUrl\":\"\",\"ruleName\":\"\",\"channel\":\"home\",\"text\":\"Philippine Airlines Flights to Manila\"},{\"link\":\"https://www.trip.com/flights/airline-pr/philippine-airlines-flight-to-dvo/\",\"keyword\":\"Philippine Airlines Flights to Davao\",\"pictureUrl\":\"\",\"ruleName\":\"\",\"channel\":\"home\",\"text\":\"Philippine Airlines Flights to Davao\"}]},\"extraData\":{}},{\"text\":\"Popular Guide\",\"linkType\":\"SHORT_LINK\",\"linkListProps\":{\"links\":[{\"link\":\"https://www.trip.com/guide/info/weather-in-japan-in-september.html\",\"keyword\":\"weather in Japan in September\",\"pictureUrl\":\"\",\"ruleName\":\"1\",\"channel\":\"home\",\"text\":\"weather in Japan in September\"},{\"link\":\"https://www.trip.com/guide/attraction/universal-studios-japan-tickets.html\",\"keyword\":\"universal studios japan tickets\",\"pictureUrl\":\"\",\"ruleName\":\"1\",\"channel\":\"home\",\"text\":\"universal studios japan tickets\"},{\"link\":\"https://www.trip.com/guide/info/trip-to-tokyo-cost.html\",\"keyword\":\"trip to tokyo cost\",\"pictureUrl\":\"\",\"ruleName\":\"1\",\"channel\":\"home\",\"text\":\"trip to tokyo cost\"},{\"link\":\"https://www.trip.com/guide/transport/japan-transport-app.html\",\"keyword\":\"Japan Transport App\",\"pictureUrl\":\"\",\"ruleName\":\"1\",\"channel\":\"home\",\"text\":\"Japan Transport App\"},{\"link\":\"https://www.trip.com/guide/transport/keisei-skyliner.html\",\"keyword\":\"Keisei Skyliner\",\"pictureUrl\":\"\",\"ruleName\":\"1\",\"channel\":\"home\",\"text\":\"Keisei Skyliner\"},{\"link\":\"https://www.trip.com/guide/train/china-high-speed-rail-shanghai-to-guilin.html\",\"keyword\":\"China High Speed Rail Shanghai to Guilin\",\"pictureUrl\":\"\",\"ruleName\":\"2\",\"channel\":\"home\",\"text\":\"China High Speed Rail Shanghai to Guilin\"},{\"link\":\"https://www.trip.com/guide/phone/morocco-esim.html\",\"keyword\":\"Morocco eSim\",\"pictureUrl\":\"\",\"ruleName\":\"2\",\"channel\":\"home\",\"text\":\"Morocco eSim\"},{\"link\":\"https://www.trip.com/guide/transport/japan-car-rental.html\",\"keyword\":\"Japan car rental\",\"pictureUrl\":\"\",\"ruleName\":\"2\",\"channel\":\"home\",\"text\":\"Japan car rental\"},{\"link\":\"https://www.trip.com/guide/phone/switzerland-esim.html\",\"keyword\":\"Switzerland eSIM\",\"pictureUrl\":\"\",\"ruleName\":\"2\",\"channel\":\"home\",\"text\":\"Switzerland eSIM\"},{\"link\":\"https://www.trip.com/guide/train/ktx-train-map.html\",\"keyword\":\"KTX Train Map\",\"pictureUrl\":\"\",\"ruleName\":\"2\",\"channel\":\"home\",\"text\":\"KTX Train Map\"},{\"link\":\"https://www.trip.com/guide/phone/saudi-arabia-esim.html\",\"keyword\":\"Saudi Arabia esim\",\"pictureUrl\":\"\",\"ruleName\":\"2\",\"channel\":\"home\",\"text\":\"Saudi Arabia esim\"},{\"link\":\"https://www.trip.com/guide/transport/narita-airport-to-tokyo.html\",\"keyword\":\"Narita Airport to Tokyo\",\"pictureUrl\":\"\",\"ruleName\":\"2\",\"channel\":\"home\",\"text\":\"Narita Airport to Tokyo\"},{\"link\":\"https://www.trip.com/guide/phone/china-esim-1-day.html\",\"keyword\":\"China eSIM 1 Day\",\"pictureUrl\":\"\",\"ruleName\":\"2\",\"channel\":\"home\",\"text\":\"China eSIM 1 Day\"},{\"link\":\"https://www.trip.com/guide/train/beijing-train-station.html\",\"keyword\":\"Beijing Train Station\",\"pictureUrl\":\"\",\"ruleName\":\"2\",\"channel\":\"home\",\"text\":\"Beijing Train Station\"},{\"link\":\"https://www.trip.com/guide/phone/taiwan-esim.html\",\"keyword\":\"Taiwan eSIM\",\"pictureUrl\":\"\",\"ruleName\":\"2\",\"channel\":\"home\",\"text\":\"Taiwan eSIM\"},{\"link\":\"https://www.trip.com/guide/attraction/universal-studios-locations.html\",\"keyword\":\"Universal Studios Locations\",\"pictureUrl\":\"\",\"ruleName\":\"2\",\"channel\":\"home\",\"text\":\"Universal Studios Locations\"},{\"link\":\"https://www.trip.com/guide/transport/tokyo-transportation.html\",\"keyword\":\"Tokyo Transportation\",\"pictureUrl\":\"\",\"ruleName\":\"2\",\"channel\":\"home\",\"text\":\"Tokyo Transportation\"},{\"link\":\"https://www.trip.com/guide/train/china-high-speed-rail-shanghai-to-guangzhou.html\",\"keyword\":\"China High Speed Rail Shanghai to Guangzhou\",\"pictureUrl\":\"\",\"ruleName\":\"2\",\"channel\":\"home\",\"text\":\"China High Speed Rail Shanghai to Guangzhou\"},{\"link\":\"https://www.trip.com/guide/phone/indonesia-sim-card.html\",\"keyword\":\"Indonesia SIM Card\",\"pictureUrl\":\"\",\"ruleName\":\"2\",\"channel\":\"home\",\"text\":\"Indonesia SIM Card\"},{\"link\":\"https://www.trip.com/guide/attraction/universal-studios-singapore-tickets.html\",\"keyword\":\"universal studios singapore tickets\",\"pictureUrl\":\"\",\"ruleName\":\"2\",\"channel\":\"home\",\"text\":\"universal studios singapore tickets\"},{\"link\":\"https://www.trip.com/events/372996-2024-longford-collection/\",\"keyword\":\"Featured Events in Longford in 2024 (Continuously Updated)\",\"pictureUrl\":\"\",\"ruleName\":\"3\",\"channel\":\"home\",\"text\":\"Featured Events in Longford in 2024 (Continuously Updated)\"},{\"link\":\"https://www.trip.com/events/115071-2024-charlotte-concerts-collection/\",\"keyword\":\"Charlotte Concerts 2024: Dates, Itinerary & Tickets Price\",\"pictureUrl\":\"\",\"ruleName\":\"3\",\"channel\":\"home\",\"text\":\"Charlotte Concerts 2024: Dates, Itinerary & Tickets Price\"},{\"link\":\"https://www.trip.com/events/93087-2024-utah-collection/\",\"keyword\":\"Featured Events in Utah in 2024 (Continuously Updated)\",\"pictureUrl\":\"\",\"ruleName\":\"3\",\"channel\":\"home\",\"text\":\"Featured Events in Utah in 2024 (Continuously Updated)\"},{\"link\":\"https://www.trip.com/events/139615-2024-antwerp-collection/\",\"keyword\":\"Featured Events in Antwerp in 2024 (Continuously Updated)\",\"pictureUrl\":\"\",\"ruleName\":\"4\",\"channel\":\"home\",\"text\":\"Featured Events in Antwerp in 2024 (Continuously Updated)\"},{\"link\":\"https://www.trip.com/events/277577-2024-04-china-collection/\",\"keyword\":\"Featured Events in China in April 2024 (Continuously Updated)\",\"pictureUrl\":\"\",\"ruleName\":\"4\",\"channel\":\"home\",\"text\":\"Featured Events in China in April 2024 (Continuously Updated)\"}]},\"extraData\":{}},{\"text\":\"Trip.com Links\",\"linkType\":\"SHORT_LINK\",\"linkListProps\":{\"links\":[{\"link\":\"https://play.google.com/store/apps/details?id=ctrip.english&amp;hl=en_US\",\"keyword\":\"Trip.com App Android\",\"pictureUrl\":\"\",\"ruleName\":\"\",\"channel\":\"home\",\"text\":\"Trip.com App Android\"},{\"link\":\"https://itunes.apple.com/us/app/trip-com-flights-hotels/id681752345?mt=8\",\"keyword\":\"Trip.com App iOS\",\"pictureUrl\":\"\",\"ruleName\":\"\",\"channel\":\"home\",\"text\":\"Trip.com App iOS\"},{\"link\":\"https://www.facebook.com/Trip/\",\"keyword\":\"Trip.com on Facebook\",\"pictureUrl\":\"\",\"ruleName\":\"\",\"channel\":\"home\",\"text\":\"Trip.com on Facebook\"},{\"link\":\"https://www.trustpilot.com/review/trip.com\",\"keyword\":\"Trip.com reviews\",\"pictureUrl\":\"\",\"ruleName\":\"\",\"channel\":\"home\",\"text\":\"Trip.com reviews\"}]},\"extraData\":{}}],\"id\":\"tab-links\",\"isEuVersion\":false,\"isEuVersionOnline\":true,\"isRTL\":false,\"inputParam\":{\"locale\":\"en-XX\",\"site\":\"EN\"}},\"version\":3},\"moduleSort\":[\"cmt\",\"advertize\",\"seoCoupon\",\"newGuests\",\"sketch\",\"loginSubscribe\",\"recommendHotels\",\"recommendAttractions\",\"recommendCars\"],\"imageList\":[null,null],\"seoPromoCode\":\"\",\"couponCustomI18n\":{\"bannerTitleI18n\":\"ibu_online_homepage_coupon_title1\",\"bannerBtnI18n\":\"ibu_online_homepage_coupon_button1\",\"modalTitleI18n\":\"ibu_online_homepage_coupon_title2\",\"modalBtnI18n\":\"ibu_online_homepage_coupon_button2\"},\"qrCodeLink\":\"https://ak-d.tripcdn.com/images/05E0u12000cmezb8o179F.png\",\"linkId\":282,\"languageMatchSwitch\":true,\"browseListSwitch\":true,\"googleLoginSwitch\":false,\"safariLoginSwitch\":false,\"cookieBannerSwitch\":false,\"showDownloadBanner\":true,\"showPoiSearch\":true,\"showNotification\":true,\"showNotificationCloseBtn\":false,\"showLoginCard\":true,\"showFlightSearchBundle\":true,\"exprResult\":{},\"abTracker\":\"M:-1,230815_IBU_pwayh:A;M:-1,230720_IBU_3wSJ:A;M:-1,230529_IBU_OTSJ:A;M:-1,231218_IBU_OHS:A;M:32,240315_IBU_XKLB:B;\",\"reopenCountry\":{\"url\":\"https://www.trip.com/sale/w/3219/border-reopening.html?locale=en_xx\",\"countryIdList\":[\"HK\",\"Thailand\",\"KR\",\"Singapore\",\"Malaysia\",\"Indonesia\",\"Vietnam\",\"UAE\"]},\"realIp\":\"43.226.116.6\",\"uspData\":{\"uspModuleConfig\":[{\"topic\":\"Secure Payment\",\"iconUrl\":\"https://ak-d.tripcdn.com/images/0AS6b1200090fx7s7F635.png\",\"title\":\"key_online_usp_title_trust_payment\"},{\"topic\":\"fast\",\"iconUrl\":\"https://ak-d.tripcdn.com/images/0AS6k120009gx889nDCC3.png\",\"title\":\"key_online_usp_title_service_30s\"}]},\"dealsData\":{\"ResponseStatus\":{\"Timestamp\":\"2024-06-21 17:47:03\",\"Ack\":\"Success\",\"Errors\":[],\"Extension\":[]},\"adsWidgetDataTypes\":[{\"moduleName\":\"ONLINE_INDEX_TOP_DEAL\",\"rank\":0,\"adsDisplayDataTypes\":[{\"displayDataId\":175519,\"tags\":[],\"displayDataType\":1,\"displayDataUrl\":\"https://ak-d.tripcdn.com/images/0a13o12000cl95vei249A.png\",\"coverImageUrl\":\"https://ak-d.tripcdn.com/images/0a13o12000cl95vei249A.png\",\"title\":\"Universal Studios Hollywood\",\"introduction\":\"\",\"pageLink\":\"https://www.trip.com/sale/w/6001/universalstudioshollywood2023.html?locale=en-XX&promo_referer=1721_6001_1\",\"canonicalUrl\":\"https://www.trip.com/sale/w/6001/universalstudioshollywood2023.html?locale=en-XX&promo_referer=1721_6001_1\",\"promoId\":6001,\"startTime\":\"2024-04-09 11:19:01\",\"endTime\":\"2024-06-30 23:59:00\",\"duration\":0,\"category\":2,\"materialId\":537748,\"index\":1,\"ext\":\"{\\\\\"promoId\\\\\":6001,\\\\\"schemeId\\\\\":175519,\\\\\"strategyId\\\\\":175519,\\\\\"whetherRacing\\\\\":false}\"},{\"displayDataId\":111840,\"tags\":[],\"displayDataType\":1,\"displayDataUrl\":\"https://ak-d.tripcdn.com/images/1gz1h12000d5icpilD452.jpg\",\"coverImageUrl\":\"https://ak-d.tripcdn.com/images/1gz1h12000d5icpilD452.jpg\",\"title\":\"Time to Travel!\",\"introduction\":\"Deals that open up a world of travel\",\"pageLink\":\"https://www.trip.com/sale/w/6539/globaltravel.html?locale=en-xx&curr=usd&transparentBar=1&promo_referer=1721_6539_2\",\"canonicalUrl\":\"https://www.trip.com/sale/w/6539/globaltravel.html?locale=en-xx&curr=usd&transparentBar=1&promo_referer=1721_6539_2\",\"promoId\":6539,\"startTime\":\"2024-02-09 00:00:01\",\"endTime\":\"2024-12-31 23:59:00\",\"duration\":0,\"category\":2,\"materialId\":352381,\"index\":2,\"ext\":\"{\\\\\"promoId\\\\\":6539,\\\\\"schemeId\\\\\":111840,\\\\\"strategyId\\\\\":111840,\\\\\"whetherRacing\\\\\":false}\"},{\"displayDataId\":189520,\"tags\":[],\"displayDataType\":1,\"displayDataUrl\":\"https://dimg04.tripcdn.com/images/0a11r12000ed6pblb75FF.jpg\",\"coverImageUrl\":\"https://dimg04.tripcdn.com/images/0a11r12000ed6pblb75FF.jpg\",\"title\":\"Chengdu, More Than Pandas\",\"introduction\":\"\",\"pageLink\":\"https://www.trip.com/sale/w/10222/chengdu.html?locale=en-xx&curr=usd&transparentBar=1&promo_referer=1721_10222_3\",\"canonicalUrl\":\"https://www.trip.com/sale/w/10222/chengdu.html?locale=en-xx&curr=usd&transparentBar=1&promo_referer=1721_10222_3\",\"promoId\":10222,\"startTime\":\"2024-06-20 00:00:00\",\"endTime\":\"2024-06-21 23:59:59\",\"duration\":0,\"category\":2,\"materialId\":581996,\"index\":3,\"ext\":\"{\\\\\"promoId\\\\\":10222,\\\\\"schemeId\\\\\":189520,\\\\\"strategyId\\\\\":189520,\\\\\"whetherRacing\\\\\":false}\"},{\"displayDataId\":159377,\"tags\":[],\"displayDataType\":1,\"displayDataUrl\":\"https://dimg04.tripcdn.com/images/0a13l12000815zxlz6BBB.jpg\",\"coverImageUrl\":\"https://dimg04.tripcdn.com/images/0a13l12000815zxlz6BBB.jpg\",\"title\":\"You\\'re in! Introducing Trip.com Rewards!\",\"introduction\":\"We just made travel even more rewarding!\",\"pageLink\":\"https://www.trip.com/customer/loyalty/?locale=en-XX&promo_referer=1721_0_9\",\"canonicalUrl\":\"https://www.trip.com/customer/loyalty/?locale=en-XX&promo_referer=1721_0_9\",\"promoId\":0,\"startTime\":\"2024-05-07 15:13:54\",\"endTime\":\"2025-05-07 15:13:54\",\"duration\":0,\"category\":3,\"materialId\":1012083,\"index\":4,\"ext\":\"{\\\\\"promoId\\\\\":0,\\\\\"schemeId\\\\\":159377,\\\\\"strategyId\\\\\":159377,\\\\\"whetherRacing\\\\\":false}\"}],\"carousel\":true,\"timeInterval\":5,\"adSpaceId\":650,\"pageId\":10320668088}],\"from\":\"0\"},\"primaryDealsData\":{\"ResponseStatus\":{\"Timestamp\":\"2024-06-21 17:47:03\",\"Ack\":\"Success\",\"Errors\":[],\"Extension\":[]},\"adsWidgetDataTypes\":[{\"moduleName\":\"ONLINE_HOMEPAGE_TOPDEALS\",\"rank\":0,\"adsDisplayDataTypes\":[],\"carousel\":false,\"timeInterval\":5,\"adSpaceId\":751,\"pageId\":10320668088}],\"from\":\"0\"},\"useNewTheme\":true,\"onlineHomeModules\":[{\"moduleName\":\"NEW_USER_MODULE\"}],\"ssrLocale\":\"en-XX\",\"ssrCurrency\":\"USD\",\"ssrLanguage\":\"en\",\"ssrSite\":\"EN\"}</script><script>__ASYNC_JS__ = {\"COMMON\":{\"JQUERY\":\"https://ws-s.tripcdn.cn/modules/ibu/onlinecommon/jquery.ad1260e11db488cb9c3d3745c3c12b1b.js\",\"CQUERY\":\"https://ws-s.tripcdn.cn/ares/api/cc?f=modules%2Fibu%2Fonlinecommon%2Fcquery_110421.1caef16945b8bb109838eb0dc4ad48be.js%2Ccquery_pro.dd74bfe8e72e743b9ea2708276728d33.js%2Caddress-1.0.4500d804aa716849accf814725d2c04c.js\",\"CIDATE\":\"https://ws-s.tripcdn.cn/modules/ibu/onlinecommon/cidate.6aa0b9ebda159b30967f71605e8139a5.js\",\"DATE_PICKER\":\"https://ws-s.tripcdn.cn/modules/ibu/onlinecommon/cdatepicker_v2.1d33e482a7ea364d4f2df7b2074ee2b8.js\",\"ANALYTICS\":\"https://ws-s.tripcdn.cn/modules/ibu/onlinecommon/ibu_gagtag2_online_bundle.a9921d692143e01cab93b113bb9f7871.js\",\"I18N_6001\":\"https://ws-s.tripcdn.cn/locale/v3/6001/en-XX.js?etagc=95a18b0eaa15fe6f62b421f477948e62\",\"I18N_6002\":\"https://ws-s.tripcdn.cn/locale/v3/6002/en-XX.js?etagc=91f50681a957e6363e50adf77c76da0d\",\"L10N\":\"https://ws-s.tripcdn.cn/modules/ibu/online-home/l10n.102b21f75e5df9f8900e6c0378ff78e9.js\",\"EMAILBINDING\":\"https://ws-s.tripcdn.cn/modules/basebiz/i18nonlineemailchangebindsdk/i18nonlineemailchangebindsdk.2ec723cbd752ebe7ad9d4c9acbb00411.js\",\"TOMEMBER\":\"https://ws-s.tripcdn.cn/modules/basebiz/i18nonlinetomembersdk/i18nonlinetomembersdk.1cad1ade5de5d6b333788a4be19a9910.js\",\"LOGIN\":\"https://ws-s.tripcdn.cn/modules/basebiz/i18naccountpcsdk/i18n_account_pcsdk_bundle.ca8919129c0f23e8f64c4ba7039af09a.js\",\"IPOLLSDK\":\"https://ws-s.tripcdn.cn/modules/basebiz/ipoll-online-sdk/index.ebc5d439ea8db69057264a878b3a35a6.js\"},\"SEARCHBOX\":{\"ttd\":{\"TTDSEARCHBOX\":\"https://ws-s.tripcdn.cn/modules/ibu/online-home/tnt.a6dbdc18f88108ad923ea04e1211024a.js\",\"TTDSEARCHBOX_CSS\":\"https://ws-s.tripcdn.cn/modules/ibu/online-home/tnt.358cac9379bbc151277d41fcbf636387.css\",\"TTDSEARCHBOX_I18N\":\"https://ws-s.tripcdn.cn/ares/api/cc?f=locale%2Fv3%2F100016584%2Fen-XX-10001.js%2Cen-XX-2002.js&etagc=a864bb135eccd783b082899cff2f759a\"},\"flight\":{\"JS\":\"https://ws-s.tripcdn.cn/modules/ibu/online-home/flight.575fa4aff43859686371fa003786a3a7.js\",\"CSS\":\"https://ws-s.tripcdn.cn/modules/ibu/online-home/flight.f19ab935a2045d55bab92eaf3c40f273.css\",\"I18N\":\"https://ws-s.tripcdn.cn/locale/v3/330143/en-XX-301.js?etagc=161795a512ff9c59d5acccdbb25cec36\"},\"hotel\":{\"JS\":\"https://ws-s.tripcdn.cn/modules/ibu/online-home/hotelRtl.fb37e254008ca584924b1e58793a2f88.js\",\"CSS\":\"https://ws-s.tripcdn.cn/modules/ibu/online-home/hotelRtl.ac5893bd63128cee1195f0f9d2410958.css\",\"I18N\":\"https://ws-s.tripcdn.cn/locale/v3/100018131/en-XX.js?etagc=969dcf0760fb5498f2a2436a9686f4f6\",\"newOnlineHotelSearchSwitch\":true,\"newOnlineHotelSearchAllSwitch\":true},\"hotelAsyncDeps\":{\"hot\":{\"JS\":\"https://ws-s.tripcdn.cn/modules/ibu/online-home/hotelHot.0f5111e2aebb92864229cf825320e291.js\",\"CSS\":\"https://ws-s.tripcdn.cn/modules/ibu/online-home/hotelHot.07eed865b35ecf1bdcab8b61f0db0403.css\"},\"associative\":{\"JS\":\"https://ws-s.tripcdn.cn/modules/ibu/online-home/hotelAssociative.4368e9bf1ccd7edbacc2c29a1db48cac.js\",\"CSS\":\"https://ws-s.tripcdn.cn/modules/ibu/online-home/hotelAssociative.ef85e025d1da9de245de81878ec7f49f.css\"},\"calendar\":{\"JS\":\"https://ws-s.tripcdn.cn/modules/ibu/online-home/calendar.311a720f5e12ada100d57126c62f38b1.js\"}},\"train\":{\"JS\":\"https://ws-s.tripcdn.cn/modules/ibu/online-home/train.5a3c322acc453a1741e933bb9013b3a8.js\",\"CSS\":\"https://ws-s.tripcdn.cn/modules/ibu/online-home/train.87d5a648da751c8020592a46ec528d5e.css\",\"I18N\":\"https://ws-s.tripcdn.cn/ares/api/cc?f=locale%2Fv3%2F100026794%2Fen-XX-1000001648.js%2C%2Flocale%2Fv3%2F100026244%2Fen-XX.js&etagc=77117be338fb6d2491c502c3df670bac\"},\"poiSearch\":{\"JS\":\"https://ws-s.tripcdn.cn/modules/ibu/online-home/poisearch.b7aa0e8492cd1a901e966bfce9ce4733.js\",\"CSS\":\"https://ws-s.tripcdn.cn/modules/ibu/online-home/poisearch.4fab3b1df3b7188d912e407fd0d6a273.css\",\"I18N\":\"https://ws-s.tripcdn.cn/locale/v3/100015463/en-XX.js?etagc=2158c7712e11977b63645ac2b3627894\"},\"carhire\":{\"JS\":\"https://ws-s.tripcdn.cn/modules/ibu/online-home/carhire.6a8588863dd4a3478140794d6a61d4d7.js\",\"CSS\":\"https://ws-s.tripcdn.cn/modules/ibu/online-home/carhire.83a7fdbfc1bef9bd88c36357cdb0affa.css\",\"I18N\":\"https://ws-s.tripcdn.cn/locale/v3/100012142/en-XX.js?etagc=0b2980099385a2567e884cd976b83266\"},\"airportTransfer\":{\"JS\":\"https://ws-s.tripcdn.cn/modules/ibu/online-home/airporttransfer.193553d124d2308ce028c4b1209bd740.js\",\"CSS\":\"https://ws-s.tripcdn.cn/modules/ibu/online-home/airporttransfer.d804b501c5efa432956bea982b4857d8.css\",\"I18N\":\"https://ws-s.tripcdn.cn/locale/v3/100013580/en-XX.js?etagc=d6d749c25f7b429007491581e61ed158\"},\"bundle\":{\"JS\":\"https://ws-s.tripcdn.cn/modules/ibu/online-home/bundle.58e593d1a6f97069af339c8a88e3099a.js\",\"CSS\":\"https://ws-s.tripcdn.cn/modules/ibu/online-home/bundle.e80340f95c86a8d834313eb5c18c76ba.css\",\"I18N\":\"https://ws-s.tripcdn.cn/locale/v3/100036710/en-XX.js?etagc=39a6ef2d4b961daad10fa31b5f0c9b7d\"}},\"UBT\":\"https://ws-s.tripcdn.cn/modules/ubt/trip/_bfa.min.be39aa17a28f29244c1fa8c23cab78d0.macro.js\",\"ONLINE_SECOND_ENTRY\":{\"JS\":\"https://ws-s.tripcdn.cn/modules/ibu/online-home/onlineSecondEntry.c06b25f7fad7fc3db3596b920227e15c.js\",\"CSS\":\"https://ws-s.tripcdn.cn/modules/ibu/online-home/onlineSecondEntry.55f2dda8043b20df2e8d232fde228a2c.css\"},\"ONLINE_FOOTER\":{\"JS\":\"https://ws-s.tripcdn.cn/modules/ibu/online-home/onlineFooter.426b10b1a1fe46d56fdb86b2b92a3a62.js\",\"CSS\":\"https://ws-s.tripcdn.cn/modules/ibu/online-home/onlineFooter.32bd6e3a80d3933462ad2deebf6533ec.css\"},\"ONLINE_FIRST_ASYNC\":{\"USP\":{\"JS\":\"https://ws-s.tripcdn.cn/modules/ibu/online-home/onlineUsp.ed45218db2e8666944639f15a2bada68.js\",\"CSS\":\"https://ws-s.tripcdn.cn/modules/ibu/online-home/onlineUsp.83442d374ba1db12e9f8bb51424acf49.css\"},\"LANGUAGE_MATCH\":{\"JS\":\"https://ws-s.tripcdn.cn/modules/ibu/online-home/languageMatch.1e8fb849502dc283b4554280b197deb6.js\",\"CSS\":\"https://ws-s.tripcdn.cn/modules/ibu/online-home/languageMatch.6acdaf793ff508bfddfa3d125bf92875.css\"},\"BROWSER_LIST\":{\"JS\":\"https://ws-s.tripcdn.cn/modules/ibu/online-home/onlineBrowserList.5a480c6caf619d15827f1dcebb4abf18.js\",\"CSS\":\"https://ws-s.tripcdn.cn/modules/ibu/online-home/onlineBrowserList.d1e91dcafe2b6e3d8107084a4b04ead4.css\"},\"RUSSIA_BRAND\":{\"JS\":\"https://ws-s.tripcdn.cn/modules/ibu/online-home/russiaBrand.f7279d81ff124f34f231fcd350fb6fca.js\",\"CSS\":\"https://ws-s.tripcdn.cn/modules/ibu/online-home/russiaBrand.fa19526d6d631432a59583b7fe1a9e26.css\"},\"COOKIE_BANNER\":{\"JS\":\"https://ws-s.tripcdn.cn/modules/ibu/online-home/onlineCookieBanner.958998f4547fa9af0d1cab257bd37382.js\",\"CSS\":\"https://ws-s.tripcdn.cn/modules/ibu/online-home/onlineCookieBanner.2990d8ad7f0df5f3bec0dd8ad177767a.css\"},\"GOOGLE_LOGIN\":{\"JS\":\"https://ws-s.tripcdn.cn/modules/ibu/online-home/onlineGoogleonetap.f128f7892c9a62a8aa8accf7694ea978.js\",\"CSS\":\"https://ws-s.tripcdn.cn/modules/ibu/online-home/onlineGoogleonetap.70ce4103068e19d688523c7c5cf1315d.css\"},\"SAFARI_LOGIN\":{\"JS\":\"https://ws-s.tripcdn.cn/modules/ibu/online-home/onlineSafarionetap.0a951d698f940a71e2b8d45d8a78a9db.js\",\"CSS\":\"https://ws-s.tripcdn.cn/modules/ibu/online-home/onlineSafarionetap.d3cab749ea4f50c96f6ebb65a094b24c.css\"},\"HEADER_HELP\":{\"JS\":\"https://ws-s.tripcdn.cn/modules/ibu/online-home/headerHelp.c4d89196ab4d11c5ea4145f2f4c84057.js\"},\"HEADER_ACCOUNT\":{\"JS\":\"https://ws-s.tripcdn.cn/modules/ibu/online-home/headerAccount.61ef28c6c54c823519736c3eb45d49a0.js\"},\"HEADER_FOLD\":{\"JS\":\"https://ws-s.tripcdn.cn/modules/ibu/online-home/headerFold.b74acee2c83448401ef3c75322fc113e.js\"},\"HEADER_LOCALE\":{\"JS\":\"https://ws-s.tripcdn.cn/modules/ibu/online-home/headerLocaleSelector.066881b0b1a917434a4c03e72fb6119b.js\"},\"HEADER_CURRENCY\":{\"JS\":\"https://ws-s.tripcdn.cn/modules/ibu/online-home/headerCurrencySelector.ede5ccf396c5e3ac3bf24721723058a2.js\"},\"SELECTOR\":{\"CSS\":\"https://ws-s.tripcdn.cn/modules/ibu/online-home/selector.cebc1f4eba5a7f2051a3e3b5d2a5edcb.css\"},\"LOGIN_POPUP\":{\"JS\":\"https://ws-s.tripcdn.cn/modules/ibu/online-home/onlineLoginPopup.e7dd01a9e3711c10b2c6b534fd174762.js\",\"CSS\":\"https://ws-s.tripcdn.cn/modules/ibu/online-home/onlineLoginPopup.8e2fbe8654592e59237a532763ef458f.css\"},\"PREPERMISSION\":{\"JS\":\"https://ws-s.tripcdn.cn/modules/ibu/online-home/onlinePrePermissionPopup.40c192c29080ce6efb1159767600aa3c.js\",\"CSS\":\"https://ws-s.tripcdn.cn/modules/ibu/online-home/onlinePrePermissionPopup.06d376afb6bc3f4bc3d69a882675df21.css\"},\"ADVERTIZE\":{\"JS\":\"https://ws-s.tripcdn.cn/modules/ibu/online-home/onlineAdvertize.85b80f08b4e9d324619ea614d9a4e129.js\",\"CSS\":\"https://ws-s.tripcdn.cn/modules/ibu/online-home/onlineAdvertize.eb84ee19b151dcb4dd35f261df8ad816.css\"},\"ADVERTIZE_VIEW\":{\"JS\":\"https://ws-s.tripcdn.cn/modules/ibu/online-home/onlineAdvertizeView.e3a2872b73272bd00bb35b6af6c65a1a.js\",\"CSS\":\"https://ws-s.tripcdn.cn/modules/ibu/online-home/onlineAdvertizeView.a83dfac1a756d84501a293df3d682618.css\"},\"SKETCH\":{\"JS\":\"https://ws-s.tripcdn.cn/modules/ibu/online-home/onlineTripSketch.de784512e43c8c4fea473dfb7615c5c8.js\",\"CSS\":\"https://ws-s.tripcdn.cn/modules/ibu/online-home/onlineTripSketch.039e5d5bd04fc7a01a77a1930606d40f.css\"},\"LOGIN_SUB_CARD\":{\"JS\":\"https://ws-s.tripcdn.cn/modules/ibu/online-home/onlineLoginSubscribeCard.7b775efe2e06473c54d154c5600730ca.js\",\"CSS\":\"https://ws-s.tripcdn.cn/modules/ibu/online-home/onlineLoginSubscribeCard.d51dc5d77ec75a1a9c21d3cee48326b1.css\"},\"RECOMMEND_FLIGHTS\":{\"JS\":\"https://ws-s.tripcdn.cn/modules/ibu/online-home/onlineRecommendFlights.3a9ce0bf5a4a201b60ead23430eb550d.js\",\"CSS\":\"https://ws-s.tripcdn.cn/modules/ibu/online-home/onlineRecommendFlights.513afb72c9d311554ab906b3054bf32c.css\"},\"RECOMMEND_HOTELS\":{\"JS\":\"https://ws-s.tripcdn.cn/modules/ibu/online-home/onlineRecommendHotels.aac47c047edd78eba9f26eae38180a17.js\",\"CSS\":\"https://ws-s.tripcdn.cn/modules/ibu/online-home/onlineRecommendHotels.fe86baa8d1b6d8f8cbfff90e4e3e2172.css\"},\"RECOMMEND_CARS\":{\"JS\":\"https://ws-s.tripcdn.cn/modules/ibu/online-home/onlineRecommendCars.a7120923e02b28fe3c60f3c52f313f4f.js\",\"CSS\":\"https://ws-s.tripcdn.cn/modules/ibu/online-home/onlineRecommendCars.1f14a561320412c9d82abd63830c4fe5.css\"},\"RECOMMEND_ATTRACTIONS\":{\"JS\":\"https://ws-s.tripcdn.cn/modules/ibu/online-home/onlineRecommendAttractions.7419f6299446f4a0c076ed04154ae383.js\",\"CSS\":\"https://ws-s.tripcdn.cn/modules/ibu/online-home/onlineRecommendAttractions.a4803b34a5f320a15e64d693e5a6caec.css\"},\"GOTOP\":{\"JS\":\"https://ws-s.tripcdn.cn/modules/ibu/online-home/onlineGotop.b9be2568b6d51c376469164c2e89a960.js\",\"CSS\":\"https://ws-s.tripcdn.cn/modules/ibu/online-home/onlineGotop.1b83f794eb61a17a3cbd061e7a3948c9.css\"},\"CMT\":{\"JS\":\"https://ws-s.tripcdn.cn/modules/ibu/online-home/onlineCmt.b32f3e05b7e92167d7713e72401530ef.js\"},\"CMT_STYLE\":{\"CSS\":\"https://ws-s.tripcdn.cn/modules/ibu/online-home/onlineCmtStyle.475c74268b689c30df95434cda1ab583.css\"},\"NEW_GUESTS\":{\"JS\":\"https://ws-s.tripcdn.cn/modules/ibu/online-home/onlineNewGuests.ee6c3e24aa9838c38994ee167e66aed2.js\",\"CSS\":\"https://ws-s.tripcdn.cn/modules/ibu/online-home/onlineNewGuests.4e9ccaa2212b2e56a51c93cd549b2c0f.css\"},\"ONLINE_AIDSID\":{\"JS\":\"https://ws-s.tripcdn.cn/modules/ibu/online-home/aidSid.3e9b3be04e4f768768fd6e209d099803.js\"}}}</script><script>__APP_CONFIG__ = {\"appId\":\"100014416\",\"pageId\":\"10320668088\",\"pwa\":{\"enabled\":true,\"h5Enabled\":true},\"uaInfo\":{\"isChrome\":false},\"tmp\":{\"shouldShowTrustpolit\":false},\"isUseNewSW\":false}</script><input type=\"hidden\" id=\"ab_testing_tracker\" value=\"M:-1,230815_IBU_pwayh:A;M:-1,230720_IBU_3wSJ:A;M:-1,230529_IBU_OTSJ:A;M:-1,231218_IBU_OHS:A;M:32,240315_IBU_XKLB:B;\"/><input type=\"hidden\" id=\"page_id\" value=\"10320668088\"/><input type=\"hidden\" id=\"bf_ubt_markting_off\" value=\"true\"/><script>(function iife() { var deps = [\"https://ws-s.tripcdn.cn/modules/ibu/ibu-public-component-umd/production.min.2c414bbcac5b8e1d94a314d00208e77c.js\",\"https://ws-s.tripcdn.cn/polyfill.js\",\"https://ws-s.tripcdn.cn/modules/ibu/online-home/vendor.a93af45b2ebb5bda47b8625c238251a3.js\",\"https://ws-s.tripcdn.cn/modules/ibu/online-home/common.74ea108b8705f5b824403bfd35d59527.js\",\"https://ws-s.tripcdn.cn/ares/api/cc?f=locale%2Fv3%2F100014416%2Fen-XX.js%2C%2Flocale%2Fv3%2F330153%2Fen-XX.js%2C%2Flocale%2Fv3%2F330151%2Fen-XX.js%2C%2Flocale%2Fv3%2F100009239%2Fen-XX.js%2C%2Flocale%2Fv3%2F6002%2Fen-XX.js%2C%2Flocale%2Fv3%2F100014113%2Fen-XX.js%2C%2Flocale%2Fv3%2F3828%2Fen-XX.js&etagc=dbac54f58a7786f8347157e310a96f6a\"];  var entry = \"https://ws-s.tripcdn.cn/modules/ibu/online-home/onlineHome.7c7e606c5a9d6585c092e1b44e22863d.js\";  function loadScript(link, success, error) {    var scriptEl = document.createElement(\\'script\\');    scriptEl.onload = function handleLoad() {      success && success();    };    scriptEl.onerror = function handleError(e) {      console.error ? console.error(e) : console.log(e);      error && error(e);    };    scriptEl.src = link;    scriptEl.async = false;    try {      const scriptUrl = new URL(link, location.origin);      const originUrl = new URL(location.origin, location.origin);      if (scriptUrl.protocol !== originUrl.protocol || scriptUrl.host !== originUrl.host || scriptUrl.port !== originUrl.port) {        scriptEl.crossOrigin = \\'anonymous\\';      }    } catch (error) {      console.log(\\'error\\', error);    }    document.body.appendChild(scriptEl);  }  function loadScripts(scripts, cb) {    var count = 0;    var size = scripts.length;    var success = function success() {      count += 1;      if (count >= size) {        cb();      }    };    var error = function error() {      count += 1;      if (count >= size) {        cb();      }    };    scripts.forEach(function load(link) {      loadScript(link, success, error);    });  }  function onLoadComplete() {    new window[\\'@ctrip/trip-component-platform-online-unban-cookie-popup\\'].default({});;    console.debug && console.debug(\\'load entry success. entry: \\', entry);  }  function loadDeps(cb) { loadScripts(deps, cb) }  function loadEntry() { loadScript(entry, onLoadComplete) }  function main() { loadDeps(loadEntry) };  document.addEventListener(\\'DOMContentLoaded\\', main);}());</script><script async=\"\" src=\"https://ws-s.tripcdn.cn/modules/basebiz/ipoll-online-sdk/index.ebc5d439ea8db69057264a878b3a35a6.js\" crossorigin=\"anonymous\"></script></body></html>'\n"
     ]
    }
   ],
   "execution_count": 85
  },
  {
   "metadata": {},
   "cell_type": "code",
   "outputs": [],
   "execution_count": null,
   "source": "",
   "id": "3afba8697867b985"
  }
 ],
 "metadata": {
  "kernelspec": {
   "display_name": "Python 3",
   "language": "python",
   "name": "python3"
  },
  "language_info": {
   "codemirror_mode": {
    "name": "ipython",
    "version": 2
   },
   "file_extension": ".py",
   "mimetype": "text/x-python",
   "name": "python",
   "nbconvert_exporter": "python",
   "pygments_lexer": "ipython2",
   "version": "2.7.6"
  }
 },
 "nbformat": 4,
 "nbformat_minor": 5
}
