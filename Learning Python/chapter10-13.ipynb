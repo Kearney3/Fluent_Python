{
 "cells": [
  {
   "cell_type": "code",
   "id": "initial_id",
   "metadata": {
    "collapsed": true,
    "ExecuteTime": {
     "end_time": "2024-07-08T02:17:55.018244Z",
     "start_time": "2024-07-08T02:17:36.860243Z"
    }
   },
   "source": [
    "while True:\n",
    "    reply = input('Enter text: ')\n",
    "    if reply == 'quit':\n",
    "        break\n",
    "    elif reply.isdigit():\n",
    "        print(int(reply) ** 2)\n",
    "    else:\n",
    "        print('Invalid input')\n"
   ],
   "outputs": [
    {
     "name": "stdout",
     "output_type": "stream",
     "text": [
      "Invalid input\n",
      "Invalid input\n",
      "Invalid input\n",
      "Invalid input\n",
      "Invalid input\n"
     ]
    }
   ],
   "execution_count": 1
  },
  {
   "metadata": {
    "ExecuteTime": {
     "end_time": "2024-07-08T02:17:55.023152Z",
     "start_time": "2024-07-08T02:17:55.020185Z"
    }
   },
   "cell_type": "code",
   "source": [
    "a, b, c, d = 'spam'\n",
    "print(a, b, c, d)\n",
    "d, *e = 'spam'\n",
    "print(d, e)\n",
    "*e, d = 'spam'\n",
    "print(e, d)"
   ],
   "id": "b93de162183b47c2",
   "outputs": [
    {
     "name": "stdout",
     "output_type": "stream",
     "text": [
      "s p a m\n",
      "s ['p', 'a', 'm']\n",
      "['s', 'p', 'a'] m\n"
     ]
    }
   ],
   "execution_count": 2
  },
  {
   "metadata": {
    "ExecuteTime": {
     "end_time": "2024-07-08T02:17:55.027258Z",
     "start_time": "2024-07-08T02:17:55.024296Z"
    }
   },
   "cell_type": "code",
   "source": [
    "((a, b), c) = ['SP', 'AM']\n",
    "print(a, b, c)"
   ],
   "id": "64be8932eb321b06",
   "outputs": [
    {
     "name": "stdout",
     "output_type": "stream",
     "text": [
      "S P AM\n"
     ]
    }
   ],
   "execution_count": 3
  },
  {
   "metadata": {
    "ExecuteTime": {
     "end_time": "2024-07-08T02:17:55.030336Z",
     "start_time": "2024-07-08T02:17:55.028187Z"
    }
   },
   "cell_type": "code",
   "source": [
    "L = [1, 2, 3, 4, 5]\n",
    "# Queue\n",
    "while L:\n",
    "    front, L = L[0], L[1:]\n",
    "    print(front, L)\n",
    "print(L)"
   ],
   "id": "46d03a1725dcf9ae",
   "outputs": [
    {
     "name": "stdout",
     "output_type": "stream",
     "text": [
      "1 [2, 3, 4, 5]\n",
      "2 [3, 4, 5]\n",
      "3 [4, 5]\n",
      "4 [5]\n",
      "5 []\n",
      "[]\n"
     ]
    }
   ],
   "execution_count": 4
  },
  {
   "metadata": {
    "ExecuteTime": {
     "end_time": "2024-07-08T02:17:55.033964Z",
     "start_time": "2024-07-08T02:17:55.031958Z"
    }
   },
   "cell_type": "code",
   "source": [
    "L = [1, 2, 3, 4, 5]\n",
    "# Queue\n",
    "while L:\n",
    "    front = L.pop(0)\n",
    "    print(front, L)\n",
    "print(L)"
   ],
   "id": "3db64c9ce6bdf0ca",
   "outputs": [
    {
     "name": "stdout",
     "output_type": "stream",
     "text": [
      "1 [2, 3, 4, 5]\n",
      "2 [3, 4, 5]\n",
      "3 [4, 5]\n",
      "4 [5]\n",
      "5 []\n",
      "[]\n"
     ]
    }
   ],
   "execution_count": 5
  },
  {
   "metadata": {
    "ExecuteTime": {
     "end_time": "2024-07-08T02:17:55.036845Z",
     "start_time": "2024-07-08T02:17:55.034738Z"
    }
   },
   "cell_type": "code",
   "source": [
    "L = [1, 2, 3, 4, 5]\n",
    "# Queue\n",
    "while L:\n",
    "    front, *L = L\n",
    "    print(front, L)\n",
    "print(L)"
   ],
   "id": "b261fab5b4810397",
   "outputs": [
    {
     "name": "stdout",
     "output_type": "stream",
     "text": [
      "1 [2, 3, 4, 5]\n",
      "2 [3, 4, 5]\n",
      "3 [4, 5]\n",
      "4 [5]\n",
      "5 []\n",
      "[]\n"
     ]
    }
   ],
   "execution_count": 6
  },
  {
   "metadata": {
    "ExecuteTime": {
     "end_time": "2024-07-08T02:17:55.039587Z",
     "start_time": "2024-07-08T02:17:55.037618Z"
    }
   },
   "cell_type": "code",
   "source": [
    "L = [1, 2, 3, 4]\n",
    "a, b, c, d, *e = L\n",
    "print(a, b, c, d, e)\n",
    "a, b, c, *d = L\n",
    "print(a, b, c, d)\n",
    "a, b, *c, d, e = L\n",
    "print(a, b, c, d, e)"
   ],
   "id": "1a4633270881e48e",
   "outputs": [
    {
     "name": "stdout",
     "output_type": "stream",
     "text": [
      "1 2 3 4 []\n",
      "1 2 3 [4]\n",
      "1 2 [] 3 4\n"
     ]
    }
   ],
   "execution_count": 7
  },
  {
   "metadata": {
    "ExecuteTime": {
     "end_time": "2024-07-08T02:17:55.042726Z",
     "start_time": "2024-07-08T02:17:55.040612Z"
    }
   },
   "cell_type": "code",
   "source": "*a = L",
   "id": "f8ad8073b0a1f1cf",
   "outputs": [
    {
     "ename": "SyntaxError",
     "evalue": "starred assignment target must be in a list or tuple (3490998198.py, line 1)",
     "output_type": "error",
     "traceback": [
      "\u001B[0;36m  Cell \u001B[0;32mIn[8], line 1\u001B[0;36m\u001B[0m\n\u001B[0;31m    *a = L\u001B[0m\n\u001B[0m    ^\u001B[0m\n\u001B[0;31mSyntaxError\u001B[0m\u001B[0;31m:\u001B[0m starred assignment target must be in a list or tuple\n"
     ]
    }
   ],
   "execution_count": 8
  },
  {
   "metadata": {
    "ExecuteTime": {
     "end_time": "2024-07-08T02:17:55.095597Z",
     "start_time": "2024-07-08T02:17:55.093678Z"
    }
   },
   "cell_type": "code",
   "source": [
    "*a, = L\n",
    "print(a)"
   ],
   "id": "8ebd4c33a4ad223d",
   "outputs": [
    {
     "name": "stdout",
     "output_type": "stream",
     "text": [
      "[1, 2, 3, 4]\n"
     ]
    }
   ],
   "execution_count": 9
  },
  {
   "metadata": {
    "ExecuteTime": {
     "end_time": "2024-07-08T02:17:55.238413Z",
     "start_time": "2024-07-08T02:17:55.236349Z"
    }
   },
   "cell_type": "code",
   "source": [
    "l = [1,2]\n",
    "m = l\n",
    "l = l + [3,4] # 创建了新的列表\n",
    "print(l, m)"
   ],
   "id": "a756a79c5237aaff",
   "outputs": [
    {
     "name": "stdout",
     "output_type": "stream",
     "text": [
      "[1, 2, 3, 4] [1, 2]\n"
     ]
    }
   ],
   "execution_count": 10
  },
  {
   "metadata": {
    "ExecuteTime": {
     "end_time": "2024-07-08T02:17:55.442737Z",
     "start_time": "2024-07-08T02:17:55.440243Z"
    }
   },
   "cell_type": "code",
   "source": [
    "l = [1,2]\n",
    "m = l\n",
    "l += [3,4] # 原来的列表，相当于 extend\n",
    "print(l, m)"
   ],
   "id": "dd844118de56b8ec",
   "outputs": [
    {
     "name": "stdout",
     "output_type": "stream",
     "text": [
      "[1, 2, 3, 4] [1, 2, 3, 4]\n"
     ]
    }
   ],
   "execution_count": 11
  },
  {
   "metadata": {
    "ExecuteTime": {
     "end_time": "2024-07-08T02:17:55.498759Z",
     "start_time": "2024-07-08T02:17:55.496373Z"
    }
   },
   "cell_type": "code",
   "source": [
    "x = [1,2,3]\n",
    "y = 'spam'\n",
    "z = ['egg']\n",
    "print(x,y,z,sep='\\t')\n",
    "print(x,y,z,sep='\\t', end='..\\n')"
   ],
   "id": "45283b557688fbcc",
   "outputs": [
    {
     "name": "stdout",
     "output_type": "stream",
     "text": [
      "[1, 2, 3]\tspam\t['egg']\n",
      "[1, 2, 3]\tspam\t['egg']..\n"
     ]
    }
   ],
   "execution_count": 12
  },
  {
   "metadata": {
    "ExecuteTime": {
     "end_time": "2024-07-08T02:17:55.511477Z",
     "start_time": "2024-07-08T02:17:55.508975Z"
    }
   },
   "cell_type": "code",
   "source": "print(x,y,z,file=open('print.txt', 'w'))",
   "id": "fb26ea0f22f51afe",
   "outputs": [],
   "execution_count": 13
  },
  {
   "metadata": {
    "ExecuteTime": {
     "end_time": "2024-07-08T02:17:55.524554Z",
     "start_time": "2024-07-08T02:17:55.522563Z"
    }
   },
   "cell_type": "code",
   "source": "print(open('print.txt','r').read())",
   "id": "a24f9a8606426381",
   "outputs": [
    {
     "name": "stdout",
     "output_type": "stream",
     "text": [
      "[1, 2, 3] spam ['egg']\n",
      "\n"
     ]
    }
   ],
   "execution_count": 14
  },
  {
   "metadata": {},
   "cell_type": "markdown",
   "source": "# print重定向",
   "id": "a62ea8ec305a568d"
  },
  {
   "metadata": {
    "ExecuteTime": {
     "end_time": "2024-07-08T02:17:55.550195Z",
     "start_time": "2024-07-08T02:17:55.547666Z"
    }
   },
   "cell_type": "code",
   "source": [
    "import sys\n",
    "temp = sys.stdout\n",
    "sys.stdout = open('text.log', 'a')\n",
    "print('hello')\n",
    "print('world')\n",
    "print(1,2,3)\n",
    "sys.stdout.close()\n",
    "sys.stdout = temp\n",
    "# sys.stdout = sys.__stdout__"
   ],
   "id": "245a6fbcfb552197",
   "outputs": [],
   "execution_count": 15
  },
  {
   "metadata": {
    "ExecuteTime": {
     "end_time": "2024-07-08T02:17:55.565249Z",
     "start_time": "2024-07-08T02:17:55.563203Z"
    }
   },
   "cell_type": "code",
   "source": "print(open('text.log','r').read())",
   "id": "207c83655233b9",
   "outputs": [
    {
     "name": "stdout",
     "output_type": "stream",
     "text": [
      "hello\n",
      "world\n",
      "1 2 3\n",
      "hello\n",
      "world\n",
      "1 2 3\n",
      "\n"
     ]
    }
   ],
   "execution_count": 16
  },
  {
   "metadata": {
    "ExecuteTime": {
     "end_time": "2024-07-08T02:17:55.578876Z",
     "start_time": "2024-07-08T02:17:55.576939Z"
    }
   },
   "cell_type": "code",
   "source": "print(sys.__stdout__)",
   "id": "49e0d9a725627440",
   "outputs": [
    {
     "name": "stdout",
     "output_type": "stream",
     "text": [
      "<_io.TextIOWrapper name='<stdout>' mode='w' encoding='utf-8'>\n"
     ]
    }
   ],
   "execution_count": 17
  },
  {
   "metadata": {
    "ExecuteTime": {
     "end_time": "2024-07-08T02:17:55.608481Z",
     "start_time": "2024-07-08T02:17:55.606348Z"
    }
   },
   "cell_type": "code",
   "source": [
    "log = open('text.log', 'w')\n",
    "print('hello', file=log)\n",
    "print('world', file=log)\n",
    "print(1,2,3, file=log)\n",
    "log.close()"
   ],
   "id": "36bc07c3096a4e8a",
   "outputs": [],
   "execution_count": 18
  },
  {
   "metadata": {
    "ExecuteTime": {
     "end_time": "2024-07-08T02:17:55.630114Z",
     "start_time": "2024-07-08T02:17:55.628242Z"
    }
   },
   "cell_type": "code",
   "source": "print(open('text.log','r').read())",
   "id": "8661855f9b1cd907",
   "outputs": [
    {
     "name": "stdout",
     "output_type": "stream",
     "text": [
      "hello\n",
      "world\n",
      "1 2 3\n",
      "\n"
     ]
    }
   ],
   "execution_count": 19
  },
  {
   "metadata": {
    "ExecuteTime": {
     "end_time": "2024-07-08T02:17:55.643677Z",
     "start_time": "2024-07-08T02:17:55.642039Z"
    }
   },
   "cell_type": "code",
   "source": "print('hello', file=sys.stderr)",
   "id": "93bd1a2f680f0b7d",
   "outputs": [
    {
     "name": "stderr",
     "output_type": "stream",
     "text": [
      "hello\n"
     ]
    }
   ],
   "execution_count": 20
  },
  {
   "metadata": {
    "ExecuteTime": {
     "end_time": "2024-07-08T02:17:55.656452Z",
     "start_time": "2024-07-08T02:17:55.654532Z"
    }
   },
   "cell_type": "code",
   "source": [
    "class FileFaker:\n",
    "    def write(self, string):\n",
    "        pass\n",
    "\n",
    "myobj = FileFaker()\n",
    "print('hello', file=myobj)"
   ],
   "id": "13acbabc8b0718c0",
   "outputs": [],
   "execution_count": 21
  },
  {
   "metadata": {},
   "cell_type": "markdown",
   "source": "# if",
   "id": "62a210a790c5514a"
  },
  {
   "metadata": {
    "ExecuteTime": {
     "end_time": "2024-07-08T02:17:55.669846Z",
     "start_time": "2024-07-08T02:17:55.667691Z"
    }
   },
   "cell_type": "code",
   "source": [
    "branch = {'ham':1.25, 'egg':1.50, 'spam':2.00}\n",
    "print(branch.get('ham','Bad choice'))\n",
    "print(branch.get('ham1','Bad choice'))"
   ],
   "id": "fb1cac0eee7d8a2e",
   "outputs": [
    {
     "name": "stdout",
     "output_type": "stream",
     "text": [
      "1.25\n",
      "Bad choice\n"
     ]
    }
   ],
   "execution_count": 22
  },
  {
   "metadata": {
    "ExecuteTime": {
     "end_time": "2024-07-08T02:17:55.693445Z",
     "start_time": "2024-07-08T02:17:55.691440Z"
    }
   },
   "cell_type": "code",
   "source": [
    "choice ='ham'\n",
    "try:\n",
    "    print(branch[choice])\n",
    "except KeyError:\n",
    "    print('Bad choice')"
   ],
   "id": "a6227664bfdf730d",
   "outputs": [
    {
     "name": "stdout",
     "output_type": "stream",
     "text": [
      "1.25\n"
     ]
    }
   ],
   "execution_count": 23
  },
  {
   "metadata": {
    "ExecuteTime": {
     "end_time": "2024-07-08T02:17:55.708355Z",
     "start_time": "2024-07-08T02:17:55.706422Z"
    }
   },
   "cell_type": "code",
   "source": [
    "def fun():\n",
    "    print('Call fun')\n",
    "    \n",
    "def default():\n",
    "    print('Call default')\n",
    "    \n",
    "branch = {'ham':fun, 'egg':1.50, 'spam':2.00}\n",
    "branch.get('ham',default)()"
   ],
   "id": "78c9c3b5b006ff6d",
   "outputs": [
    {
     "name": "stdout",
     "output_type": "stream",
     "text": [
      "Call fun\n"
     ]
    }
   ],
   "execution_count": 24
  },
  {
   "metadata": {
    "ExecuteTime": {
     "end_time": "2024-07-08T02:17:55.719861Z",
     "start_time": "2024-07-08T02:17:55.716787Z"
    }
   },
   "cell_type": "code",
   "source": "2 or 3, 3 or 2, [] and 3, [] or {}",
   "id": "117cb72174927e37",
   "outputs": [
    {
     "data": {
      "text/plain": [
       "(2, 3, [], {})"
      ]
     },
     "execution_count": 25,
     "metadata": {},
     "output_type": "execute_result"
    }
   ],
   "execution_count": 25
  },
  {
   "metadata": {
    "ExecuteTime": {
     "end_time": "2024-07-08T02:17:55.758998Z",
     "start_time": "2024-07-08T02:17:55.757106Z"
    }
   },
   "cell_type": "code",
   "source": [
    "f1 = print('hello')\n",
    "if f1:\n",
    "    print('call f1')"
   ],
   "id": "c467a487c98974f3",
   "outputs": [
    {
     "name": "stdout",
     "output_type": "stream",
     "text": [
      "hello\n"
     ]
    }
   ],
   "execution_count": 26
  },
  {
   "metadata": {
    "ExecuteTime": {
     "end_time": "2024-07-08T02:17:55.783733Z",
     "start_time": "2024-07-08T02:17:55.781711Z"
    }
   },
   "cell_type": "code",
   "source": [
    "l = [1,0,2,0,'spam', {}, [], [1,2]]\n",
    "print(list(filter(bool, l)))\n",
    "print([x for x in l if bool(x)])\n",
    "print(any(l),all(l))"
   ],
   "id": "c177c56ee27cf57f",
   "outputs": [
    {
     "name": "stdout",
     "output_type": "stream",
     "text": [
      "[1, 2, 'spam', [1, 2]]\n",
      "[1, 2, 'spam', [1, 2]]\n",
      "True False\n"
     ]
    }
   ],
   "execution_count": 27
  },
  {
   "metadata": {},
   "cell_type": "markdown",
   "source": "# 循环",
   "id": "e9f47b4ccd7ff54"
  },
  {
   "metadata": {
    "ExecuteTime": {
     "end_time": "2024-07-08T02:17:55.838521Z",
     "start_time": "2024-07-08T02:17:55.836606Z"
    }
   },
   "cell_type": "code",
   "source": [
    "x = 'spam'\n",
    "while x:\n",
    "    print(x, end=' ')\n",
    "    x=x[1:]"
   ],
   "id": "d783d45bf20f3bdf",
   "outputs": [
    {
     "name": "stdout",
     "output_type": "stream",
     "text": [
      "spam pam am m "
     ]
    }
   ],
   "execution_count": 28
  },
  {
   "metadata": {
    "ExecuteTime": {
     "end_time": "2024-07-08T02:17:55.851492Z",
     "start_time": "2024-07-08T02:17:55.849573Z"
    }
   },
   "cell_type": "code",
   "source": [
    "def func1():...\n",
    "x = ...\n",
    "print(x)"
   ],
   "id": "6203e03ce987f2",
   "outputs": [
    {
     "name": "stdout",
     "output_type": "stream",
     "text": [
      "Ellipsis\n"
     ]
    }
   ],
   "execution_count": 29
  },
  {
   "metadata": {
    "ExecuteTime": {
     "end_time": "2024-07-08T02:17:55.867023Z",
     "start_time": "2024-07-08T02:17:55.864985Z"
    }
   },
   "cell_type": "code",
   "source": "print(open('text.log').read())",
   "id": "53ccf0144e171aa9",
   "outputs": [
    {
     "name": "stdout",
     "output_type": "stream",
     "text": [
      "hello\n",
      "world\n",
      "1 2 3\n",
      "\n"
     ]
    }
   ],
   "execution_count": 30
  },
  {
   "metadata": {
    "ExecuteTime": {
     "end_time": "2024-07-08T02:17:55.891065Z",
     "start_time": "2024-07-08T02:17:55.889037Z"
    }
   },
   "cell_type": "code",
   "source": [
    "for line in open('text.log'):\n",
    "    print(line.rstrip())"
   ],
   "id": "e5cc454b4daaf03f",
   "outputs": [
    {
     "name": "stdout",
     "output_type": "stream",
     "text": [
      "hello\n",
      "world\n",
      "1 2 3\n"
     ]
    }
   ],
   "execution_count": 31
  },
  {
   "metadata": {
    "ExecuteTime": {
     "end_time": "2024-07-08T02:17:55.911011Z",
     "start_time": "2024-07-08T02:17:55.909092Z"
    }
   },
   "cell_type": "code",
   "source": [
    "for line in open('text.log').readlines():\n",
    "    print(line.rstrip())"
   ],
   "id": "b304f799b8dad709",
   "outputs": [
    {
     "name": "stdout",
     "output_type": "stream",
     "text": [
      "hello\n",
      "world\n",
      "1 2 3\n"
     ]
    }
   ],
   "execution_count": 32
  },
  {
   "metadata": {
    "ExecuteTime": {
     "end_time": "2024-07-08T02:17:55.920346Z",
     "start_time": "2024-07-08T02:17:55.918220Z"
    }
   },
   "cell_type": "code",
   "source": [
    "for line in reversed(open('text.log').readlines()):\n",
    "    print(line.rstrip())"
   ],
   "id": "d4cf30f24387db6a",
   "outputs": [
    {
     "name": "stdout",
     "output_type": "stream",
     "text": [
      "1 2 3\n",
      "world\n",
      "hello\n"
     ]
    }
   ],
   "execution_count": 33
  },
  {
   "metadata": {
    "ExecuteTime": {
     "end_time": "2024-07-08T02:17:55.939316Z",
     "start_time": "2024-07-08T02:17:55.936889Z"
    }
   },
   "cell_type": "code",
   "source": "list(range(5)), list(range(2,5)), list(range(2,10,2))",
   "id": "c55e6f7dc01c001d",
   "outputs": [
    {
     "data": {
      "text/plain": [
       "([0, 1, 2, 3, 4], [2, 3, 4], [2, 4, 6, 8])"
      ]
     },
     "execution_count": 34,
     "metadata": {},
     "output_type": "execute_result"
    }
   ],
   "execution_count": 34
  },
  {
   "metadata": {
    "ExecuteTime": {
     "end_time": "2024-07-08T02:17:55.960839Z",
     "start_time": "2024-07-08T02:17:55.958154Z"
    }
   },
   "cell_type": "code",
   "source": "list(zip('spam', 'eggs'))",
   "id": "a12d429421db87c8",
   "outputs": [
    {
     "data": {
      "text/plain": [
       "[('s', 'e'), ('p', 'g'), ('a', 'g'), ('m', 's')]"
      ]
     },
     "execution_count": 35,
     "metadata": {},
     "output_type": "execute_result"
    }
   ],
   "execution_count": 35
  },
  {
   "metadata": {
    "ExecuteTime": {
     "end_time": "2024-07-08T02:17:55.981520Z",
     "start_time": "2024-07-08T02:17:55.979558Z"
    }
   },
   "cell_type": "code",
   "source": [
    "s = 'spam'\n",
    "print(id(s))\n",
    "for i in range(len(s)):\n",
    "    s = s[1:] + s[:1] # new list\n",
    "    print(s, end=' ')\n",
    "    print(id(s))\n",
    "print(id(s))"
   ],
   "id": "4cba8b0edc4dcbad",
   "outputs": [
    {
     "name": "stdout",
     "output_type": "stream",
     "text": [
      "4393065264\n",
      "pams 4392908720\n",
      "amsp 4393102512\n",
      "mspa 4393105264\n",
      "spam 4393104496\n",
      "4393104496\n"
     ]
    }
   ],
   "execution_count": 36
  },
  {
   "metadata": {
    "ExecuteTime": {
     "end_time": "2024-07-08T02:17:55.995587Z",
     "start_time": "2024-07-08T02:17:55.993723Z"
    }
   },
   "cell_type": "code",
   "source": [
    "s = 'abcdefghijklnm'\n",
    "for i in range(0, len(s), 2):\n",
    "    print(s[i], end=' ')"
   ],
   "id": "aa53d7bcf7083b49",
   "outputs": [
    {
     "name": "stdout",
     "output_type": "stream",
     "text": [
      "a c e g i k n "
     ]
    }
   ],
   "execution_count": 37
  },
  {
   "metadata": {
    "ExecuteTime": {
     "end_time": "2024-07-08T02:17:56.014225Z",
     "start_time": "2024-07-08T02:17:56.012365Z"
    }
   },
   "cell_type": "code",
   "source": [
    "for i in s[::2]:\n",
    "    print(i, end=' ')"
   ],
   "id": "493a83f639b2daae",
   "outputs": [
    {
     "name": "stdout",
     "output_type": "stream",
     "text": [
      "a c e g i k n "
     ]
    }
   ],
   "execution_count": 38
  },
  {
   "metadata": {
    "ExecuteTime": {
     "end_time": "2024-07-08T02:17:56.044108Z",
     "start_time": "2024-07-08T02:17:56.041635Z"
    }
   },
   "cell_type": "code",
   "source": [
    "l = [1,2,3,4]\n",
    "[x + 1 for x in l]"
   ],
   "id": "5e2bf76e5da9671b",
   "outputs": [
    {
     "data": {
      "text/plain": [
       "[2, 3, 4, 5]"
      ]
     },
     "execution_count": 39,
     "metadata": {},
     "output_type": "execute_result"
    }
   ],
   "execution_count": 39
  },
  {
   "metadata": {
    "ExecuteTime": {
     "end_time": "2024-07-08T02:17:56.056566Z",
     "start_time": "2024-07-08T02:17:56.054066Z"
    }
   },
   "cell_type": "code",
   "source": [
    "l1 = [1,2,3,4]\n",
    "l2 = [x **2 for x in l1]\n",
    "list(zip(l1, l2))"
   ],
   "id": "e0ef9750ca7b7f6e",
   "outputs": [
    {
     "data": {
      "text/plain": [
       "[(1, 1), (2, 4), (3, 9), (4, 16)]"
      ]
     },
     "execution_count": 40,
     "metadata": {},
     "output_type": "execute_result"
    }
   ],
   "execution_count": 40
  },
  {
   "metadata": {
    "ExecuteTime": {
     "end_time": "2024-07-08T02:17:56.062948Z",
     "start_time": "2024-07-08T02:17:56.061250Z"
    }
   },
   "cell_type": "code",
   "source": [
    "for x,y in zip(l1, l2):\n",
    "    print(x,y,'---', x+y)"
   ],
   "id": "feb25a9a4e505270",
   "outputs": [
    {
     "name": "stdout",
     "output_type": "stream",
     "text": [
      "1 1 --- 2\n",
      "2 4 --- 6\n",
      "3 9 --- 12\n",
      "4 16 --- 20\n"
     ]
    }
   ],
   "execution_count": 41
  },
  {
   "metadata": {
    "ExecuteTime": {
     "end_time": "2024-07-08T02:17:56.076178Z",
     "start_time": "2024-07-08T02:17:56.074360Z"
    }
   },
   "cell_type": "code",
   "source": [
    "for i,v in enumerate('spam'):\n",
    "    print(i,v)"
   ],
   "id": "aaf6ffa5dfbe59ce",
   "outputs": [
    {
     "name": "stdout",
     "output_type": "stream",
     "text": [
      "0 s\n",
      "1 p\n",
      "2 a\n",
      "3 m\n"
     ]
    }
   ],
   "execution_count": 42
  },
  {
   "metadata": {
    "ExecuteTime": {
     "end_time": "2024-07-08T02:17:56.092842Z",
     "start_time": "2024-07-08T02:17:56.091119Z"
    }
   },
   "cell_type": "code",
   "source": [
    "E = enumerate('spam')\n",
    "print(next(E))\n",
    "print(next(E))\n",
    "print(next(E))\n",
    "print(next(E))"
   ],
   "id": "914d89d0966f2ce3",
   "outputs": [
    {
     "name": "stdout",
     "output_type": "stream",
     "text": [
      "(0, 's')\n",
      "(1, 'p')\n",
      "(2, 'a')\n",
      "(3, 'm')\n"
     ]
    }
   ],
   "execution_count": 43
  },
  {
   "metadata": {
    "ExecuteTime": {
     "end_time": "2024-07-08T02:17:56.113529Z",
     "start_time": "2024-07-08T02:17:56.111451Z"
    }
   },
   "cell_type": "code",
   "source": [
    "for i, l in enumerate(open('text.log')):\n",
    "    print(i, l.rstrip(), sep=')')"
   ],
   "id": "6a6441aefc019021",
   "outputs": [
    {
     "name": "stdout",
     "output_type": "stream",
     "text": [
      "0)hello\n",
      "1)world\n",
      "2)1 2 3\n"
     ]
    }
   ],
   "execution_count": 44
  },
  {
   "metadata": {},
   "cell_type": "markdown",
   "source": "os.popen()",
   "id": "c10adf323b2533e5"
  },
  {
   "metadata": {
    "ExecuteTime": {
     "end_time": "2024-07-08T02:17:56.146643Z",
     "start_time": "2024-07-08T02:17:56.135321Z"
    }
   },
   "cell_type": "code",
   "source": [
    "import os\n",
    "F = os.popen('pwd')\n",
    "F.readline()"
   ],
   "id": "991078b6eb5c13c9",
   "outputs": [
    {
     "data": {
      "text/plain": [
       "'/Users/kearney/CODE/Fluent_Python/Learning Python\\n'"
      ]
     },
     "execution_count": 45,
     "metadata": {},
     "output_type": "execute_result"
    }
   ],
   "execution_count": 45
  },
  {
   "metadata": {
    "ExecuteTime": {
     "end_time": "2024-07-08T02:17:56.167795Z",
     "start_time": "2024-07-08T02:17:56.148372Z"
    }
   },
   "cell_type": "code",
   "source": [
    "F = os.popen('ls -ltr')\n",
    "F.readlines()[2]"
   ],
   "id": "414a201ca7fdef40",
   "outputs": [
    {
     "data": {
      "text/plain": [
       "'-rw-r--r--  1 kearney  staff    1120 Jun 24 14:25 timer2.py\\n'"
      ]
     },
     "execution_count": 46,
     "metadata": {},
     "output_type": "execute_result"
    }
   ],
   "execution_count": 46
  },
  {
   "metadata": {
    "ExecuteTime": {
     "end_time": "2024-07-08T02:17:56.180495Z",
     "start_time": "2024-07-08T02:17:56.169206Z"
    }
   },
   "cell_type": "code",
   "source": [
    "for line in os.popen('ls -ltr'):\n",
    "    print(line.rstrip())"
   ],
   "id": "f1eb801071fee80f",
   "outputs": [
    {
     "name": "stdout",
     "output_type": "stream",
     "text": [
      "total 2720\n",
      "-rw-r--r--  1 kearney  staff     757 Jun 24 13:57 timer.py\n",
      "-rw-r--r--  1 kearney  staff    1120 Jun 24 14:25 timer2.py\n",
      "drwxr-xr-x  9 kearney  staff     288 Jun 24 17:50 \u001B[34mdir1\u001B[m\u001B[m\n",
      "-rw-r--r--  1 kearney  staff      69 Jun 24 21:00 my_import.py\n",
      "-rw-r--r--  1 kearney  staff     543 Jun 24 21:14 formats.py\n",
      "-rw-r--r--  1 kearney  staff     722 Jun 24 21:34 listing.py\n",
      "-rw-r--r--@ 1 kearney  staff    1104 Jun 25 10:11 reloadall.py\n",
      "-rw-r--r--  1 kearney  staff    2129 Jun 25 10:15 reloadall2.py\n",
      "-rw-r--r--  1 kearney  staff      78 Jun 25 10:29 all.py\n",
      "-rw-r--r--  1 kearney  staff     746 Jun 25 10:39 count_file.py\n",
      "-rw-r--r--  1 kearney  staff    1103 Jun 27 09:27 classtool.py\n",
      "-rw-r--r--  1 kearney  staff   16384 Jun 27 09:55 person.db.db\n",
      "drwxr-xr-x  6 kearney  staff     192 Jun 27 10:15 \u001B[34mclass_test\u001B[m\u001B[m\n",
      "-rw-r--r--  1 kearney  staff     748 Jun 27 11:56 classtree.py\n",
      "drwxr-xr-x  4 kearney  staff     128 Jun 29 22:05 \u001B[34mimport_test\u001B[m\u001B[m\n",
      "-rw-r--r--@ 1 kearney  staff   16384 Jun 29 22:12 pizzashop.db.db\n",
      "-rw-r--r--@ 1 kearney  staff      18 Jun 30 15:37 text_upper.txt\n",
      "-rw-r--r--@ 1 kearney  staff    3405 Jul  1 18:11 mapattrs.py\n",
      "-rw-r--r--@ 1 kearney  staff  170237 Jul  1 21:13 chapter32.ipynb\n",
      "-rw-r--r--@ 1 kearney  staff     500 Jul  2 09:43 super.py\n",
      "-rw-r--r--@ 1 kearney  staff   58062 Jul  2 15:46 chapter32_2.ipynb\n",
      "-rw-r--r--@ 1 kearney  staff       0 Jul  2 16:25 data\n",
      "-rw-r--r--@ 1 kearney  staff    1104 Jul  2 17:27 reloadall_copy.py\n",
      "-rw-r--r--@ 1 kearney  staff      99 Jul  2 18:24 error.log\n",
      "-rw-r--r--  1 kearney  staff   22599 Jul  3 09:46 chapter35-36.ipynb\n",
      "-rw-r--r--  1 kearney  staff       5 Jul  3 12:01 temp\n",
      "-rw-r--r--  1 kearney  staff       6 Jul  3 12:07 latindata\n",
      "-rw-r--r--  1 kearney  staff       8 Jul  3 12:07 utfdata\n",
      "-rw-r--r--@ 1 kearney  staff       9 Jul  3 12:15 bom_ascii.txt\n",
      "-rwxr-xr-x@ 1 kearney  staff      12 Jul  3 12:18 \u001B[31mbom_utf8.txt\u001B[m\u001B[m\n",
      "-rw-r--r--@ 1 kearney  staff      20 Jul  3 12:19 bom_utf16.txt\n",
      "-rw-r--r--@ 1 kearney  staff      13 Jul  3 12:30 temp.txt\n",
      "-rw-r--r--  1 kearney  staff   67920 Jul  3 15:49 chapter37.ipynb\n",
      "-rw-r--r--  1 kearney  staff   81053 Jul  4 10:06 chapter38.ipynb\n",
      "-rw-r--r--  1 kearney  staff   24423 Jul  4 11:41 chapter38_2.ipynb\n",
      "-rw-r--r--  1 kearney  staff   32404 Jul  4 20:04 chapter39.ipynb\n",
      "-rw-r--r--  1 kearney  staff  140110 Jul  5 15:55 chapter39_2.ipynb\n",
      "-rw-r--r--  1 kearney  staff   61995 Jul  5 18:25 chapter39_3.ipynb\n",
      "-rw-r--r--  1 kearney  staff    5793 Jul  7 17:30 chapter15.ipynb\n",
      "-rw-r--r--  1 kearney  staff   53592 Jul  7 17:30 chapter20.ipynb\n",
      "-rw-r--r--  1 kearney  staff   18729 Jul  7 17:30 chapter21-25.ipynb\n",
      "-rw-r--r--  1 kearney  staff   20786 Jul  7 17:57 chapter19.ipynb\n",
      "-rw-r--r--  1 kearney  staff   20241 Jul  7 18:03 chapter16-17.ipynb\n",
      "-rw-r--r--  1 kearney  staff     656 Jul  7 21:58 Certificate.txt\n",
      "-rw-r--r--  1 kearney  staff     769 Jul  7 21:58 Certificate.html\n",
      "-rw-r--r--  1 kearney  staff   64058 Jul  7 22:01 chapter40.ipynb\n",
      "-rw-r--r--  1 kearney  staff   28196 Jul  7 22:08 chapter26-28.ipynb\n",
      "-rw-r--r--  1 kearney  staff      26 Jul  7 22:08 showargs.py\n",
      "drwxr-xr-x  8 kearney  staff     256 Jul  7 22:09 \u001B[34m__pycache__\u001B[m\u001B[m\n",
      "-rw-r--r--  1 kearney  staff   22600 Jul  8 10:03 chapter29.ipynb\n",
      "-rw-r--r--  1 kearney  staff   29190 Jul  8 10:03 Chapter5-6.ipynb\n",
      "-rw-r--r--@ 1 kearney  staff      37 Jul  8 10:03 myfile.txt\n",
      "-rw-r--r--  1 kearney  staff       4 Jul  8 10:03 data.bin\n",
      "-rw-r--r--@ 1 kearney  staff      41 Jul  8 10:03 datafile.txt\n",
      "-rw-r--r--  1 kearney  staff      72 Jul  8 10:03 datafile.pkl\n",
      "-rw-r--r--  1 kearney  staff     137 Jul  8 10:03 textjson.txt\n",
      "-rw-r--r--  1 kearney  staff       0 Jul  8 10:03 strcut.bin\n",
      "-rw-r--r--  1 kearney  staff   16384 Jul  8 10:03 datafile.shelve.db\n",
      "-rw-r--r--@ 1 kearney  staff      10 Jul  8 10:03 textfile.txt\n",
      "-rw-r--r--  1 kearney  staff   66954 Jul  8 10:07 Chapter7-9.ipynb\n",
      "-rw-r--r--  1 kearney  staff   19081 Jul  8 10:16 chapter10-13.ipynb\n",
      "-rw-r--r--  1 kearney  staff   18095 Jul  8 10:16 chapter14.ipynb\n",
      "-rw-r--r--  1 kearney  staff   22646 Jul  8 10:16 chapter18.ipynb\n",
      "-rw-r--r--  1 kearney  staff   52782 Jul  8 10:16 chapter30.ipynb\n",
      "-rw-r--r--  1 kearney  staff   35029 Jul  8 10:16 chapter31.ipynb\n",
      "-rw-r--r--  1 kearney  staff   18272 Jul  8 10:16 chapter33-34.ipynb\n",
      "-rw-r--r--  1 kearney  staff      23 Jul  8 10:17 print.txt\n",
      "-rw-r--r--@ 1 kearney  staff      18 Jul  8 10:17 text.log\n"
     ]
    }
   ],
   "execution_count": 47
  },
  {
   "metadata": {
    "ExecuteTime": {
     "end_time": "2024-07-08T02:17:56.209210Z",
     "start_time": "2024-07-08T02:17:56.198870Z"
    }
   },
   "cell_type": "code",
   "source": [
    "for i,l in enumerate(os.popen('ls')):\n",
    "    if i ==4:\n",
    "        break\n",
    "    print(f'{i:06d}){l.rstrip():>50}')"
   ],
   "id": "3f265c45a2133a35",
   "outputs": [
    {
     "name": "stdout",
     "output_type": "stream",
     "text": [
      "000000)                                  Certificate.html\n",
      "000001)                                   Certificate.txt\n",
      "000002)                                  Chapter5-6.ipynb\n",
      "000003)                                  Chapter7-9.ipynb\n"
     ]
    }
   ],
   "execution_count": 48
  },
  {
   "metadata": {
    "ExecuteTime": {
     "end_time": "2024-07-08T02:17:58.922739Z",
     "start_time": "2024-07-08T02:17:56.212461Z"
    }
   },
   "cell_type": "code",
   "source": [
    "from urllib.request import urlopen\n",
    "for line in urlopen('http://trip.com'):\n",
    "    print(line)"
   ],
   "id": "f171102a0ffb35c9",
   "outputs": [
    {
     "name": "stdout",
     "output_type": "stream",
     "text": [
      "b'<!DOCTYPE html><html lang=\"en-XX\" data-idc=\"SGP-ALI\" data-cargo=\"locale:en-XX,language:en,currency:USD,contextType:online,site:EN,group:Trip\" dir=\"ltr\" data-platform=\"online\"><head><meta http-equiv=\"Content-Type\" content=\"text/html; charset=utf-8\"/><meta name=\"viewport\" content=\"width=device-width, initial-scale=1.0, maximum-scale=1.0\"/><meta http-equiv=\"pragma\" content=\"no-cache\"/><meta http-equiv=\"x-ua-compatible\" content=\"IE=edge,chrome=1\"/><title>Trip.com Official Site\\xe2\\x80\\x8e\\xe2\\x80\\x8e | Travel Deals and Promotions</title><meta name=\"description\" content=\"Choose from over 1.2 million hotels in more than 200 countries, 30 million real guest reviews. Book flights to over 5,000 destinations worldwide. 24/7 Customer Service.\"/><meta name=\"keywords\" content=\"Trip.com, Flights, Cheap Flights, reservations, Hotel, Hotels, Inn, Accommodation, Discount, Vacation package, Travel, Trip, Deals, Specials, Train\"/><meta http-equiv=\"x-dns-prefetch-control\" content=\"on\"/><link rel=\"preconnect\" href=\"//www.google-analytics.com\" crossorigin=\"anonymous\"/><link rel=\"dns-prefetch\" href=\"//www.google-analytics.com\"/><link rel=\"preconnect\" href=\"//ak-d.tripcdn.com\" crossorigin=\"anonymous\"/><link rel=\"dns-prefetch\" href=\"//ak-d.tripcdn.com\"/><link rel=\"preconnect\" href=\"//dimg04.tripcdn.com\" crossorigin=\"anonymous\"/><link rel=\"dns-prefetch\" href=\"//dimg04.tripcdn.com\"/><link rel=\"preconnect\" href=\"//ws-s.tripcdn.cn\" crossorigin=\"anonymous\"/><link rel=\"dns-prefetch\" href=\"//ws-s.tripcdn.cn\"/><link rel=\"prefetch\" href=\"https://ws-s.tripcdn.cn/modules/ibu/online-home/onlineSecondEntry.55f2dda8043b20df2e8d232fde228a2c.css\" as=\"style\" crossorigin=\"anonymous\"/><link rel=\"prefetch\" href=\"https://ws-s.tripcdn.cn/modules/ibu/online-home/onlineSecondEntry.a6bf36498d764ba3a703bd318f1c94d8.js\" as=\"script\" crossorigin=\"anonymous\"/><link rel=\"preload\" href=\"https://ws-s.tripcdn.cn/modules/ibu/ibu-public-component-umd/style.a1d703e220b8c5084c7e71e5af38b81c.css\" as=\"style\" crossorigin=\"anonymous\"/><link rel=\"preload\" href=\"https://ws-s.tripcdn.cn/modules/ibu/online-home/onlineHome.24fb66fb184ac40b3c1c8f856564f57a.css\" as=\"style\" crossorigin=\"anonymous\"/><link rel=\"preload\" href=\"https://ws-s.tripcdn.cn/modules/ibu/online-assets/homeFont.2e9f4d0f4b1e6557b519dea4e42d29e4.css\" as=\"style\" crossorigin=\"anonymous\"/><link rel=\"preload\" href=\"https://ws-s.tripcdn.cn/modules/ibu/online-home/hotelRtl.0d7e1a57548faf7e6e1b8cd216d1fef9.css\" as=\"style\" crossorigin=\"anonymous\"/><link rel=\"preload\" href=\"https://ws-s.tripcdn.cn/locale/v3/6001/en-XX.js?etagc=95a18b0eaa15fe6f62b421f477948e62\" as=\"script\" crossorigin=\"anonymous\"/><link rel=\"preload\" href=\"https://ws-s.tripcdn.cn/locale/v3/6002/en-XX.js?etagc=21c2daa7910bf652a967b805dabcfad1\" as=\"script\" crossorigin=\"anonymous\"/><link rel=\"preload\" href=\"https://ws-s.tripcdn.cn/modules/basebiz/ipoll-online-sdk/index.ebc5d439ea8db69057264a878b3a35a6.js\" as=\"script\" crossorigin=\"anonymous\"/><link rel=\"preload\" href=\"https://ws-s.tripcdn.cn/modules/ibu/online-home/l10n.785a52ca8eab96840b851361f92fe3e2.js\" as=\"script\" crossorigin=\"anonymous\"/><link rel=\"preload\" href=\"https://ws-s.tripcdn.cn/modules/ibu/ibu-public-component-umd/production.min.2c414bbcac5b8e1d94a314d00208e77c.js\" as=\"script\" crossorigin=\"anonymous\"/><link rel=\"preload\" href=\"https://ws-s.tripcdn.cn/polyfill.js\" as=\"script\" crossorigin=\"anonymous\"/><link rel=\"preload\" href=\"https://ws-s.tripcdn.cn/modules/ibu/online-home/vendor.bd5ad8e6bf245d0683f92b9b84f06fec.js\" as=\"script\" crossorigin=\"anonymous\"/><link rel=\"preload\" href=\"https://ws-s.tripcdn.cn/modules/ibu/online-home/common.82911e56841d62799ef4f8c535c57791.js\" as=\"script\" crossorigin=\"anonymous\"/><link rel=\"preload\" href=\"https://ws-s.tripcdn.cn/ares/api/cc?f=locale%2Fv3%2F100014416%2Fen-XX.js%2C%2Flocale%2Fv3%2F330153%2Fen-XX.js%2C%2Flocale%2Fv3%2F330151%2Fen-XX.js%2C%2Flocale%2Fv3%2F100009239%2Fen-XX.js%2C%2Flocale%2Fv3%2F6002%2Fen-XX.js%2C%2Flocale%2Fv3%2F100014113%2Fen-XX.js%2C%2Flocale%2Fv3%2F3828%2Fen-XX.js&amp;etagc=bb89499a7c9d10aad7e97c98aada27ac\" as=\"script\" crossorigin=\"anonymous\"/><link rel=\"preload\" href=\"https://ws-s.tripcdn.cn/modules/ibu/online-home/onlineHome.7f1197dd5b41c08a9662cde44626ad63.js\" as=\"script\" crossorigin=\"anonymous\"/><link rel=\"preload\" href=\"https://ws-s.tripcdn.cn/modules/ibu/online-home/hotelRtl.cdb1d3c7fdb67ff7f18456457575312d.js\" as=\"script\" crossorigin=\"anonymous\"/><link rel=\"preload\" href=\"https://ws-s.tripcdn.cn/locale/v3/100018131/en-XX.js?etagc=a3480c7795d99ac7712d797a2c7096b8\" as=\"script\" crossorigin=\"anonymous\"/><link rel=\"preload\" href=\"https://ak-d.tripcdn.com/images/05E2h12000cmau3np7748.jpg\" as=\"image\"/><link rel=\"preload\" href=\"https://ak-d.tripcdn.com/images/05E2012000cmarxu2D88D.jpg\" as=\"image\"/><link rel=\"preload\" href=\"https://ws-s.tripcdn.cn/modules/ibu/online-assets/TripGeom-Bold.9e9e0eb59209311df954413ff4957cbb.woff2\" as=\"font\" crossorigin=\"anonymous\"/><link rel=\"preload\" href=\"https://ws-s.tripcdn.cn/modules/ibu/online-assets/TripGeom-Medium.c01bb95e18e1b0d0137ff80b79b97a38.woff2\" as=\"font\" crossorigin=\"anonymous\"/><link rel=\"preload\" href=\"https://ws-s.tripcdn.cn/modules/ibu/online-assets/TripGeom-Regular.ba9c64b894f5e19551d23b37a07ba0a4.woff2\" as=\"font\" crossorigin=\"anonymous\"/><link rel=\"preload\" href=\"https://ws-s.tripcdn.cn/modules/ibu/online-home/languageMatch.c916e78eefcd71e95a9b5a17948053db.js\" as=\"script\" crossorigin=\"anonymous\"/><link rel=\"preload\" href=\"https://ws-s.tripcdn.cn/modules/ibu/online-home/languageMatch.6acdaf793ff508bfddfa3d125bf92875.css\" as=\"style\" crossorigin=\"anonymous\"/><link rel=\"preload\" href=\"https://ws-s.tripcdn.cn/modules/ibu/online-home/onlineCookieBanner.74122f8b5de264a67b5f423bca39ae07.js\" as=\"script\" crossorigin=\"anonymous\"/><link rel=\"preload\" href=\"https://ws-s.tripcdn.cn/modules/ibu/online-home/onlineCookieBanner.2990d8ad7f0df5f3bec0dd8ad177767a.css\" as=\"style\" crossorigin=\"anonymous\"/><link rel=\"preload\" href=\"https://ws-s.tripcdn.cn/modules/ibu/online-home/onlineGoogleonetap.b434116e9eb5420ffc1a9a64701c0109.js\" as=\"script\" crossorigin=\"anonymous\"/><link rel=\"preload\" href=\"https://ws-s.tripcdn.cn/modules/ibu/online-home/onlineGoogleonetap.70ce4103068e19d688523c7c5cf1315d.css\" as=\"style\" crossorigin=\"anonymous\"/><link rel=\"preload\" href=\"https://ws-s.tripcdn.cn/modules/ibu/online-home/onlineSafarionetap.7dec5f7eb2bf7604c7078e2fb1cab818.js\" as=\"script\" crossorigin=\"anonymous\"/><link rel=\"preload\" href=\"https://ws-s.tripcdn.cn/modules/ibu/online-home/onlineSafarionetap.d3cab749ea4f50c96f6ebb65a094b24c.css\" as=\"style\" crossorigin=\"anonymous\"/><link rel=\"preload\" href=\"https://ws-s.tripcdn.cn/modules/ibu/online-home/headerHelp.39c98d839942c101e7def7cbece57d8e.js\" as=\"script\" crossorigin=\"anonymous\"/><link rel=\"preload\" href=\"https://ws-s.tripcdn.cn/modules/ibu/online-home/headerAccount.e28291e8b7d22eea4a1c975feceaaaae.js\" as=\"script\" crossorigin=\"anonymous\"/><link rel=\"preload\" href=\"https://ws-s.tripcdn.cn/modules/ibu/online-home/headerFold.ce6655b9d046538c4b117a31c247ea88.js\" as=\"script\" crossorigin=\"anonymous\"/><link rel=\"preload\" href=\"https://ws-s.tripcdn.cn/modules/ibu/online-home/headerLocaleSelector.2b6b8bc5f3f487742abd78ffb51eefb6.js\" as=\"script\" crossorigin=\"anonymous\"/><link rel=\"preload\" href=\"https://ws-s.tripcdn.cn/modules/ibu/online-home/headerCurrencySelector.27f90d7d49f27c2df0fcba6ab63bfb78.js\" as=\"script\" crossorigin=\"anonymous\"/><link rel=\"preload\" href=\"https://ws-s.tripcdn.cn/modules/ibu/online-home/selector.5f3695c0d223fa61a9061448f5ff6e78.css\" as=\"style\" crossorigin=\"anonymous\"/><link rel=\"preload\" href=\"https://ws-s.tripcdn.cn/modules/ibu/online-home/onlineLoginPopup.88ae64330d9a18a304fa8344c0777ff9.js\" as=\"script\" crossorigin=\"anonymous\"/><link rel=\"preload\" href=\"https://ws-s.tripcdn.cn/modules/ibu/online-home/onlineLoginPopup.8e2fbe8654592e59237a532763ef458f.css\" as=\"style\" crossorigin=\"anonymous\"/><link rel=\"preload\" href=\"https://ws-s.tripcdn.cn/modules/ibu/online-home/onlineTripSketch.c5e87a3f831b5252f46698b891d67557.js\" as=\"script\" crossorigin=\"anonymous\"/><link rel=\"preload\" href=\"https://ws-s.tripcdn.cn/modules/ibu/online-home/onlineTripSketch.039e5d5bd04fc7a01a77a1930606d40f.css\" as=\"style\" crossorigin=\"anonymous\"/><link rel=\"preload\" href=\"https://ws-s.tripcdn.cn/modules/ibu/online-home/onlineRecommendFlights.8b07547b7c8400439cb14cac277c0a67.js\" as=\"script\" crossorigin=\"anonymous\"/><link rel=\"preload\" href=\"https://ws-s.tripcdn.cn/modules/ibu/online-home/onlineRecommendFlights.50934733893ed80f5900c9a5317ec95c.css\" as=\"style\" crossorigin=\"anonymous\"/><link rel=\"preload\" href=\"https://ws-s.tripcdn.cn/modules/ibu/online-home/onlineRecommendHotels.9a9f01d47d876c16b572bb4a7621eb67.js\" as=\"script\" crossorigin=\"anonymous\"/><link rel=\"preload\" href=\"https://ws-s.tripcdn.cn/modules/ibu/online-home/onlineRecommendHotels.fe86baa8d1b6d8f8cbfff90e4e3e2172.css\" as=\"style\" crossorigin=\"anonymous\"/><link rel=\"preload\" href=\"https://ws-s.tripcdn.cn/modules/ibu/online-home/onlineRecommendCars.0bdcaf2e0bd7336697e340ddddb75d2f.js\" as=\"script\" crossorigin=\"anonymous\"/><link rel=\"preload\" href=\"https://ws-s.tripcdn.cn/modules/ibu/online-home/onlineRecommendCars.1f14a561320412c9d82abd63830c4fe5.css\" as=\"style\" crossorigin=\"anonymous\"/><link rel=\"preload\" href=\"https://ws-s.tripcdn.cn/modules/ibu/online-home/onlineRecommendAttractions.ce590c6e34f36df943a00346c8de7f40.js\" as=\"script\" crossorigin=\"anonymous\"/><link rel=\"preload\" href=\"https://ws-s.tripcdn.cn/modules/ibu/online-home/onlineRecommendAttractions.a4803b34a5f320a15e64d693e5a6caec.css\" as=\"style\" crossorigin=\"anonymous\"/><link rel=\"preload\" href=\"https://ws-s.tripcdn.cn/modules/ibu/online-home/onlineGotop.276e5d481d29132db2c46a0589d0e950.js\" as=\"script\" crossorigin=\"anonymous\"/><link rel=\"preload\" href=\"https://ws-s.tripcdn.cn/modules/ibu/online-home/onlineGotop.1b83f794eb61a17a3cbd061e7a3948c9.css\" as=\"style\" crossorigin=\"anonymous\"/><link rel=\"preload\" href=\"https://ws-s.tripcdn.cn/modules/ibu/online-home/onlineCmt.20c907345e9013340be6018802a4411f.js\" as=\"script\" crossorigin=\"anonymous\"/><link rel=\"preload\" href=\"https://ws-s.tripcdn.cn/modules/ibu/online-home/onlineCmtStyle.1bdece39d8083a421c140cf045a5efd6.css\" as=\"style\" crossorigin=\"anonymous\"/><link rel=\"preload\" href=\"https://ws-s.tripcdn.cn/modules/ibu/online-home/onlineNewGuests.c21a2fb2e3c1f2b276e9df45e0e7909b.js\" as=\"script\" crossorigin=\"anonymous\"/><link rel=\"preload\" href=\"https://ws-s.tripcdn.cn/modules/ibu/online-home/onlineNewGuests.b43bfc6bdd5ce67093643f7ebd890a83.css\" as=\"style\" crossorigin=\"anonymous\"/><link rel=\"preload\" href=\"https://ws-s.tripcdn.cn/modules/ibu/online-home/aidSid.5562814c38378522dd05488cfbc40764.js\" as=\"script\" crossorigin=\"anonymous\"/><link rel=\"SHORTCUT ICON\" href=\"/trip.ico\" type=\"image/x-icon\"/><link rel=\"stylesheet\" href=\"https://ws-s.tripcdn.cn/modules/ibu/ibu-public-component-umd/style.a1d703e220b8c5084c7e71e5af38b81c.css\" crossorigin=\"anonymous\"/><link rel=\"stylesheet\" href=\"https://ws-s.tripcdn.cn/modules/ibu/online-home/onlineHome.24fb66fb184ac40b3c1c8f856564f57a.css\" crossorigin=\"anonymous\"/><link rel=\"stylesheet\" href=\"https://ws-s.tripcdn.cn/modules/ibu/online-assets/homeFont.2e9f4d0f4b1e6557b519dea4e42d29e4.css\" crossorigin=\"anonymous\"/><link rel=\"alternate\" href=\"https://www.trip.com/\" hrefLang=\"x-default\"/><link rel=\"alternate\" href=\"https://uk.trip.com/\" hrefLang=\"en-GB\"/><link rel=\"alternate\" href=\"https://hk.trip.com/\" hrefLang=\"zh-Hant-HK\"/><link rel=\"alternate\" href=\"https://kr.trip.com/\" hrefLang=\"ko\"/><link rel=\"alternate\" href=\"https://jp.trip.com/\" hrefLang=\"ja\"/><link rel=\"alternate\" href=\"https://sg.trip.com/\" hrefLang=\"en-SG\"/><link rel=\"alternate\" href=\"https://au.trip.com/\" hrefLang=\"en-AU\"/><link rel=\"alternate\" href=\"https://de.trip.com/\" hrefLang=\"de\"/><link rel=\"alternate\" href=\"https://fr.trip.com/\" hrefLang=\"fr\"/><link rel=\"alternate\" href=\"https://es.trip.com/\" hrefLang=\"es\"/><link rel=\"alternate\" href=\"https://it.trip.com/\" hrefLang=\"it\"/><link rel=\"alternate\" href=\"https://ru.trip.com/\" hrefLang=\"ru\"/><link rel=\"alternate\" href=\"https://th.trip.com/\" hrefLang=\"th\"/><link rel=\"alternate\" href=\"https://id.trip.com/\" hrefLang=\"id\"/><link rel=\"alternate\" href=\"https://my.trip.com/\" hrefLang=\"ms\"/><link rel=\"alternate\" href=\"https://vn.trip.com/\" hrefLang=\"vi\"/><link rel=\"alternate\" href=\"https://nl.trip.com/\" hrefLang=\"nl\"/><link rel=\"alternate\" href=\"https://pl.trip.com/\" hrefLang=\"pl\"/><link rel=\"alternate\" href=\"https://gr.trip.com/\" hrefLang=\"el\"/><link rel=\"alternate\" href=\"https://tr.trip.com/\" hrefLang=\"tr\"/><link rel=\"alternate\" href=\"https://br.trip.com/\" hrefLang=\"pt\"/><link rel=\"alternate\" href=\"https://tw.trip.com/\" hrefLang=\"zh-Hant-TW\"/><link rel=\"alternate\" href=\"https://nz.trip.com/\" hrefLang=\"en-NZ\"/><link rel=\"alternate\" href=\"https://ca.trip.com/\" hrefLang=\"en-CA\"/><link rel=\"alternate\" href=\"https://us.trip.com/\" hrefLang=\"en-US\"/><link rel=\"alternate\" href=\"https://in.trip.com/\" hrefLang=\"en-IN\"/><link rel=\"alternate\" href=\"https://sa.trip.com/\" hrefLang=\"ar-SA\"/><meta name=\"google-site-verification\" content=\"SZw7sFjvMn0hDyxTj4m3N93T7k9XCiTZjqUJeJD2PDE\"/><meta name=\"baidu-site-verification\" content=\"e7HTvxAqvI\"/><meta name=\"yandex-verification\" content=\"4419688b31331801\"/><meta name=\"msvalidate.01\" content=\"DA2FE3A40F96FB7B32FD9AC73A236230\"/><meta name=\"p:domain_verify\" content=\"37d5b7b05eb4bd44d40fb4c6543262b3\"/><meta property=\"fb:app_id\" content=\"891889767495675\"/><meta property=\"og:title\" content=\"Trip.com Official Site\\xe2\\x80\\x8e\\xe2\\x80\\x8e | Travel Deals and Promotions\"/><meta property=\"og:description\" content=\"Choose from over 1.2 million hotels in more than 200 countries, 30 million real guest reviews. Book flights to over 5,000 destinations worldwide. 24/7 Customer Service.\"/><meta property=\"og:url\" content=\"www.trip.com\"/><meta property=\"og:image\" content=\"https://ak-d.tripcdn.com/images/05E1412000cmevvp5D2FE.png\"/><meta name=\"twitter:card\" content=\"summary_large_image\"/><meta name=\"twitter:title\" content=\"Trip.com Official Site\\xe2\\x80\\x8e\\xe2\\x80\\x8e | Travel Deals and Promotions\"/><meta name=\"twitter:description\" content=\"Choose from over 1.2 million hotels in more than 200 countries, 30 million real guest reviews. Book flights to over 5,000 destinations worldwide. 24/7 Customer Service.\"/><meta name=\"twitter:url\" content=\"www.trip.com\"/><meta name=\"twitter:image\" content=\"https://ak-d.tripcdn.com/images/05E1412000cmevvp5D2FE.png\"/><link rel=\"canonical\" href=\"https://www.trip.com/\"/><script type=\"application/ld+json\">\\n'\n",
      "b'          [{\\n'\n",
      "b'            \"@context\": \"https://schema.org\",\\n'\n",
      "b'            \"@type\": \"SiteNavigationElement\",\\n'\n",
      "b'            \"name\": \"Hotels\",\\n'\n",
      "b'            \"url\": \"https://www.trip.com/hotels/\"},\\n'\n",
      "b'          {\\n'\n",
      "b'            \"@context\": \"https://schema.org\",\\n'\n",
      "b'            \"@type\": \"SiteNavigationElement\",\\n'\n",
      "b'            \"name\": \"Flights\",\\n'\n",
      "b'            \"url\": \"https://www.trip.com/flights/\"},\\n'\n",
      "b'          {\\n'\n",
      "b'            \"@context\": \"https://schema.org\",\\n'\n",
      "b'            \"@type\": \"SiteNavigationElement\",\\n'\n",
      "b'            \"name\": \"Trains\",\\n'\n",
      "b'            \"url\": \"https://www.trip.com/trains/\"},\\n'\n",
      "b'          {\\n'\n",
      "b'            \"@context\": \"https://schema.org\",\\n'\n",
      "b'            \"@type\": \"SiteNavigationElement\",\\n'\n",
      "b'            \"name\": \"Attractions & Tours\",\\n'\n",
      "b'            \"url\": \"https://www.trip.com/things-to-do/\"},\\n'\n",
      "b'          {\\n'\n",
      "b'            \"@context\": \"https://schema.org\",\\n'\n",
      "b'            \"@type\": \"SiteNavigationElement\",\\n'\n",
      "b'            \"name\": \"Destinations\",\\n'\n",
      "b'            \"url\": \"https://www.trip.com/travel-guide/\"},\\n'\n",
      "b'          {\\n'\n",
      "b'            \"@context\": \"https://schema.org\",\\n'\n",
      "b'            \"@type\": \"SiteNavigationElement\",\\n'\n",
      "b'            \"name\": \"Deals\",\\n'\n",
      "b'            \"url\": \"https://www.trip.com/sale/deals/\"},\\n'\n",
      "b'          {\\n'\n",
      "b'            \"@context\": \"https://schema.org\",\\n'\n",
      "b'            \"@type\": \"WebSite\",\\n'\n",
      "b'            \"name\": \"Trip.com\",\\n'\n",
      "b'            \"url\": \"https://www.trip.com/\"\\n'\n",
      "b'          }]\\n'\n",
      "b'          </script><script type=\"application/ld+json\">\\n'\n",
      "b'      {\\n'\n",
      "b'        \"@context\": \"https://schema.org\",\\n'\n",
      "b'        \"@type\": \"WebSite\",\\n'\n",
      "b'        \"url\": \"https://www.trip.com/\",\\n'\n",
      "b'        \"potentialAction\": [{\\n'\n",
      "b'          \"@type\": \"SearchAction\",\\n'\n",
      "b'          \"target\": {\\n'\n",
      "b'            \"@type\": \"EntryPoint\",\\n'\n",
      "b'            \"urlTemplate\": \"https://www.trip.com/travel-guide/search/?keyword={search_term_string}\"\\n'\n",
      "b'          },\\n'\n",
      "b'          \"query-input\": \"required name=search_term_string\"\\n'\n",
      "b'        }],\\n'\n",
      "b'      }\\n'\n",
      "b'      </script><meta name=\"msapplication-starturl\" content=\"/?from=sw\"/><meta name=\"theme-color\" content=\"#FFFFFF\"/><link rel=\"manifest\" href=\"/m/manifest.json?sceneId=&amp;locale=en-XX\"/></head><body><div id=\"main\" class=\"no-webp\"><div class=\"home-header-container home-header-container-jpg-bg\"><div class=\"mc-hd mc-hd__en-xx mc-hd_theme_transparent\"><div class=\"mc-hd__inner\"><div class=\"mc-hd__flex-con clear-float\"><div class=\"mc-hd__logo-con mc-hd__logo-con-en-XX mc-hd__logo-layout-0\"><a class=\"mc-hd__logo mc-hd__logo-en-xx\" href=\"/?locale=en-XX&amp;curr=USD\"></a></div><div class=\"mc-hd__func-con\" id=\"ibuHeaderMenu\"><div class=\"mc-hd__func\"><div class=\"mc-hd__option\"><div class=\"mc-hd__mobile\"><div class=\"mc-hd__dropdown-cur mc-hd__mobile-cur\" id=\"header_action_app_download\"><a target=\"_blank\" rel=\"noopener noreferrer\"><span class=\"mc-hd__mobile-APP\">App</span></a><i class=\"fi fi-mobile_phone_outlined\"></i></div></div></div><div class=\"mc-hd__option\"><div class=\"mc-hd__help\"><a title=\"Customer Support\" target=\"_blank\" rel=\"noreferrer\">Customer Support</a><i class=\"fi fi-bangzhu\"></i></div></div><div class=\"mc-hd__option mc-hd__option__locale\"><div class=\"mc-hd__country mc-hd__dropdown-con\"><div class=\"mc-hd__country-cur mc-hd__dropdown-cur\"><span class=\"mc-hd__country-icon\"><i class=\"ic-flagicon flag-en-XX\"></i></span></div></div></div><div class=\"mc-hd__option mc-hd__option__currency\"><div class=\"mc-hd__currency mc-hd__dropdown-con\"><div class=\"mc-hd__dropdown-cur mc-hd__currency-cur\">USD</div></div></div><div class=\"mc-hd__search-booking\" id=\"header_action_ordersearch\"><a class=\"mc-hd__search-booking-cur\" href=\"/passport/ordersearch/?locale=en-XX&amp;curr=USD\">Search Bookings</a></div><div class=\"mc-hd__account mc-hd__dropdown-con mc-hd__account-nologin\" style=\"display:block\"><span class=\"mc-hd__login-btn\">Sign in<!-- --> / <!-- -->Register</span></div></div></div></div><div class=\"mc-hd__nav-new-row\"><div class=\"mc-hd__nav-con 3010 mc-hd__nav-loading\" id=\"ibuHeaderChannels\"><ul class=\"mc-hd__nav\"><li class=\"mc-hd__nav-item\"><a id=\"header_action_nav_hotels\" class=\"mc-hd__nav-lnk\" href=\"/hotels/?locale=en-XX&amp;curr=USD\" title=\"Hotels\">Hotels</a></li><li class=\"mc-hd__nav-item\"><a id=\"header_action_nav_flights\" class=\"mc-hd__nav-lnk\" href=\"/flights/?locale=en-XX&amp;curr=USD\" title=\"Flights\">Flights</a></li><li class=\"mc-hd__nav-item\"><a id=\"header_action_nav_trains\" class=\"mc-hd__nav-lnk\" href=\"/trains/?locale=en-XX&amp;curr=USD\" title=\"Trains\">Trains</a></li><li class=\"mc-hd__nav-item mc-hd__nav-item-wth-sub\"><a id=\"header_action_nav_cars\" class=\"mc-hd__nav-lnk\" title=\"Cars\">Cars</a><ul class=\"mc-hd__nav-item-sub\"><li><a id=\"header_action_nav_Car Rentals\" href=\"/carhire/?channelid=14409&amp;locale=en-XX&amp;curr=USD\" class=\"mc-hd__sub-nav-lnk\">Car Rentals</a></li><li><a id=\"header_action_nav_Airport Transfers\" href=\"/airport-transfers/?locale=en-XX&amp;curr=USD\" class=\"mc-hd__sub-nav-lnk\">Airport Transfers</a></li></ul></li><li class=\"mc-hd__nav-item mc-hd__nav-item-wth-sub\"><a id=\"header_action_nav_ttd\" class=\"mc-hd__nav-lnk\" href=\"/things-to-do/ttd-home/?ctm_ref=vactang_page_23810&amp;locale=en-XX&amp;curr=USD\" title=\"Attractions &amp; Tours\">Attractions & Tours</a><ul class=\"mc-hd__nav-item-sub\"><li><a id=\"header_action_nav_Attractions &amp; Tours\" href=\"/things-to-do/ttd-home/?ctm_ref=vactang_page_23810&amp;locale=en-XX&amp;curr=USD\" class=\"mc-hd__sub-nav-lnk\">Attractions &amp; Tours</a></li><li><a id=\"header_action_nav_eSIM\" href=\"/sale/w/10229/esim.html?locale=en-XX&amp;curr=USD\" class=\"mc-hd__sub-nav-lnk\">eSIM</a></li></ul><div class=\"mc-hd__nav-item-new\">New</div></li><li class=\"mc-hd__nav-item\"><a id=\"header_action_nav_packages\" class=\"mc-hd__nav-lnk\" href=\"/packages/?sourceFrom=IBUBundle_home&amp;locale=en-XX&amp;curr=USD\" title=\"Flight + Hotel\">Flight + Hotel</a></li><li class=\"mc-hd__nav-item\"><a id=\"header_action_nav_travelguide\" class=\"mc-hd__nav-lnk\" href=\"/travel-guide/?locale=en-XX&amp;curr=USD\" title=\"Destinations\">Destinations</a></li><li class=\"mc-hd__nav-item\"><a id=\"header_action_nav_tripcoins\" class=\"mc-hd__nav-lnk\" href=\"/customer/loyalty/?locale=en-XX&amp;curr=USD\" title=\"Trip.com Rewards\">Trip.com Rewards</a></li><li class=\"mc-hd__nav-item\"><a id=\"header_action_nav_sales\" class=\"mc-hd__nav-lnk\" href=\"/sale/deals/?locale=en-XX&amp;curr=USD\" title=\"Deals\">Deals</a></li></ul></div></div></div></div><script>if (typeof Object.assign !== \\'function\\') {window._assignObject = function(t, s) {for (var k in s) { t[k] = s[k] }; return t }; }else { window._assignObject = Object.assign } window.__CARGO_DATA__ = _assignObject(window.__CARGO_DATA__ || {}, {\"loginmenue0\":\"{\\\\\"menu\\\\\":[{\\\\\"show\\\\\":true,\\\\\"displayName\\\\\":\\\\\"My Bookings\\\\\",\\\\\"displayNameSharkKey\\\\\":\\\\\"V3_Profile_MyOrders\\\\\",\\\\\"include\\\\\":\\\\\"all\\\\\",\\\\\"link\\\\\":\\\\\"/order/all\\\\\",\\\\\"id\\\\\":\\\\\"booking\\\\\"},{\\\\\"show\\\\\":false,\\\\\"displayName\\\\\":\\\\\"Trip Coins\\\\\",\\\\\"displayNameSharkKey\\\\\":\\\\\"V3_Profile_Points\\\\\",\\\\\"include\\\\\":\\\\\"all\\\\\",\\\\\"showByLocale\\\\\":\\\\\"en-ca,da-dk,fi-fi,uk-ua,pt-pt,es-mx,sv-se,nl-nl,pl-pl,en-sg,ja-jp,ko-kr,en-hk,zh-hk,de-de,fr-fr,es-es,ru-ru,id-id,en-id,th-th,en-th,ms-my,en-my,en-au,en-xx,en-us,es-us,tr-tr,en-ie,de-at,de-ch,fr-ch,nl-be,en-be,fr-be,en-il,pt-br,el-gr,en-ae,en-sa,en-nz,en-gb,it-it,vi-vn,en-ph,en-in,en-pk\\\\\",\\\\\"link\\\\\":\\\\\"/customer/points/\\\\\",\\\\\"id\\\\\":\\\\\"points\\\\\"},{\\\\\"show\\\\\":true,\\\\\"displayName\\\\\":\\\\\"Promo Codes\\\\\",\\\\\"displayNameSharkKey\\\\\":\\\\\"V3_Promo_Code\\\\\",\\\\\"include\\\\\":\\\\\"all\\\\\",\\\\\"link\\\\\":\\\\\"/customer/promo/\\\\\",\\\\\"id\\\\\":\\\\\"codes\\\\\"},{\\\\\"show\\\\\":true,\\\\\"displayName\\\\\":\\\\\"Profile\\\\\",\\\\\"displayNameSharkKey\\\\\":\\\\\"V3_Text_MembInfo\\\\\",\\\\\"include\\\\\":\\\\\"all\\\\\",\\\\\"link\\\\\":\\\\\"/membersinfo/profile/\\\\\",\\\\\"id\\\\\":\\\\\"profile\\\\\"},{\\\\\"show\\\\\":false,\\\\\"displayName\\\\\":\\\\\"Friend Referrals\\\\\",\\\\\"displayNameSharkKey\\\\\":\\\\\"V3_Text_Friend\\\\\",\\\\\"include\\\\\":\\\\\"all\\\\\",\\\\\"link\\\\\":\\\\\"/sale/w/1899/friends-referral-main.html?locale=en_xx\\\\\",\\\\\"id\\\\\":\\\\\"Friend\\\\\"},{\\\\\"show\\\\\":false,\\\\\"displayName\\\\\":\\\\\"Favorites\\\\\",\\\\\"displayNameSharkKey\\\\\":\\\\\"ButtonText_Hotel_Collection\\\\\",\\\\\"showByLocale\\\\\":\\\\\"en-ca,da-dk,fi-fi,uk-ua,pt-pt,es-mx,sv-se,nl-nl,pl-pl,en-sg,ja-jp,ko-kr,en-hk,zh-hk,zh-tw,de-de,fr-fr,es-es,ru-ru,id-id,en-id,th-th,en-th,ms-my,en-my,en-au,en-xx,en-us,es-us,tr-tr,en-ie,de-at,de-ch,fr-ch,nl-be,en-be,fr-be,en-il,pt-br,el-gr,en-ae,en-sa,en-nz,en-gb,it-it,vi-vn,en-ph,en-in,en-pk\\\\\",\\\\\"include\\\\\":\\\\\"all\\\\\",\\\\\"link\\\\\":\\\\\"/favorite/\\\\\",\\\\\"id\\\\\":\\\\\"favorites\\\\\"},{\\\\\"show\\\\\":false,\\\\\"showByLocale\\\\\":\\\\\"en-xx,en-us,en-sg,en-au,en-my,en-gb,en-be,en-ch,en-ie,en-ca,en-sa,en-hk,en-ae,en-nz,en-il,zh-tw,zh-hk,ja-jp,ko-kr,th-th,vi-vn,en-th,en-id,en-ph,en-in,en-pk\\\\\",\\\\\"displayName\\\\\":\\\\\"Moments\\\\\",\\\\\"displayNameSharkKey\\\\\":\\\\\"V3_Profile_Moments\\\\\",\\\\\"include\\\\\":\\\\\"all\\\\\",\\\\\"link\\\\\":\\\\\"/travel-guide/personal-home\\\\\",\\\\\"id\\\\\":\\\\\"Moments\\\\\"},{\\\\\"show\\\\\":false,\\\\\"displayName\\\\\":\\\\\"Flight Price Alerts\\\\\",\\\\\"displayNameSharkKey\\\\\":\\\\\"Key_Flight_Price_Alerts\\\\\",\\\\\"include\\\\\":\\\\\"all\\\\\",\\\\\"showByLocale\\\\\":\\\\\"en-ca,da-dk,fi-fi,uk-ua,pt-pt,es-mx,sv-se,nl-nl,pl-pl,en-sg,ja-jp,ko-kr,en-hk,zh-hk,de-de,fr-fr,es-es,ru-ru,id-id,en-id,th-th,en-th,ms-my,en-my,en-au,en-xx,en-us,es-us,tr-tr,en-ie,de-at,de-ch,fr-ch,nl-be,en-be,fr-be,en-il,pt-br,el-gr,en-ae,en-sa,en-nz,en-gb,it-it,vi-vn,en-ph,en-in,en-pk\\\\\",\\\\\"link\\\\\":\\\\\"/flights/price-alert/\\\\\",\\\\\"id\\\\\":\\\\\"flghtAlert\\\\\"},{\\\\\"show\\\\\":false,\\\\\"displayName\\\\\":\\\\\"Rewards\\\\\",\\\\\"displayNameSharkKey\\\\\":\\\\\"Key_Entrance_Title\\\\\",\\\\\"include\\\\\":\\\\\"all\\\\\",\\\\\"showByLocale\\\\\":\\\\\"en-ca,da-dk,fi-fi,uk-ua,pt-pt,es-mx,sv-se,nl-nl,pl-pl,en-sg,ja-jp,ko-kr,en-hk,zh-hk,de-de,fr-fr,es-es,ru-ru,id-id,en-id,th-th,en-th,ms-my,en-my,en-au,en-xx,en-us,es-us,tr-tr,en-ie,de-at,de-ch,fr-ch,nl-be,en-be,fr-be,en-il,pt-br,el-gr,en-ae,en-sa,en-nz,en-gb,it-it,vi-vn,en-ph,en-in,en-pk\\\\\",\\\\\"link\\\\\":\\\\\"/customer/tierpoints/\\\\\",\\\\\"id\\\\\":\\\\\"rewards\\\\\"}]}\",\"locale\":\"en-XX\",\"menumetacenxxe0\":\"{\\\\\"entry\\\\\":{\\\\\"url\\\\\":\\\\\"https://ebooking.trip.com/htbusinesscore/acqjoin?channel=2&locale=en-US\\\\\",\\\\\"displaySharkKey\\\\\":\\\\\"key_header_entry\\\\\"},\\\\\"help\\\\\":{\\\\\"mode\\\\\":\\\\\"entry\\\\\",\\\\\"url\\\\\":\\\\\"/pages/support\\\\\"},\\\\\"mybooking\\\\\":{\\\\\"url\\\\\":\\\\\"/order/all\\\\\",\\\\\"displaySharkKey\\\\\":\\\\\"V3_Profile_MyOrders\\\\\"}}\",\"channelmetauoe1\":[{\"channel\":\"home\",\"source\":\"flights\",\"value\":\"{\\\\\"displayName\\\\\":\\\\\"Home\\\\\",\\\\\"displayNameSharkKey\\\\\":\\\\\"ButtonText_Home\\\\\",\\\\\"path\\\\\":\\\\\"\\\\\"}\"},{\"channel\":\"hotels\",\"source\":\"flights\",\"value\":\"{\\\\\"displayName\\\\\":\\\\\"Hotels\\\\\",\\\\\"displayNameSharkKey\\\\\":\\\\\"ButtonText_Hotel\\\\\",\\\\\"path\\\\\":\\\\\"/hotels/\\\\\"}\"},{\"channel\":\"flights\",\"source\":\"flights\",\"value\":\"{\\\\\"displayName\\\\\":\\\\\"Flights\\\\\",\\\\\"displayNameSharkKey\\\\\":\\\\\"ButtonText_Flights\\\\\",\\\\\"path\\\\\":\\\\\"/flights/\\\\\"}\"},{\"channel\":\"trains\",\"source\":\"flights\",\"value\":\"{\\\\\"displayName\\\\\":\\\\\"Trains\\\\\",\\\\\"displayNameSharkKey\\\\\":\\\\\"ButtonText_Trains\\\\\",\\\\\"path\\\\\":\\\\\"/trains/\\\\\"}\"},{\"channel\":\"ttd\",\"source\":\"flights\",\"value\":\"{\\\\\"displayName\\\\\":\\\\\"TNT\\\\\",\\\\\"displayNameSharkKey\\\\\":\\\\\"ButtonText_TTD\\\\\",\\\\\"path\\\\\":\\\\\"/things-to-do/ttd-home/?ctm_ref=vactang_page_23810\\\\\"}\"},{\"channel\":\"travelguide\",\"source\":\"flights\",\"value\":\"{\\\\\"displayName\\\\\":\\\\\"Attractions\\\\\",\\\\\"displayNameSharkKey\\\\\":\\\\\"ButtonText_TravelGuide\\\\\",\\\\\"path\\\\\":\\\\\"/travel-guide/\\\\\"}\"},{\"channel\":\"carhire\",\"source\":\"flights\",\"value\":\"{\\\\\"displayName\\\\\":\\\\\"Car Rentals\\\\\",\\\\\"displayNameSharkKey\\\\\":\\\\\"ButtonText_Carhire\\\\\",\\\\\"path\\\\\":\\\\\"/carhire/?channelid=14409\\\\\",\\\\\"parent\\\\\":\\\\\"cars\\\\\"}\"},{\"channel\":\"airporttransfers\",\"source\":\"flights\",\"value\":\"{\\\\\"displayName\\\\\":\\\\\"Airport Transfers\\\\\",\\\\\"displayNameSharkKey\\\\\":\\\\\"ButtonText_AirportTransfers\\\\\",\\\\\"path\\\\\":\\\\\"/airport-transfers/\\\\\",\\\\\"parent\\\\\":\\\\\"cars\\\\\"}\"},{\"channel\":\"cars\",\"source\":\"flights\",\"value\":\"{\\\\\"displayName\\\\\":\\\\\"Cars\\\\\",\\\\\"displayNameSharkKey\\\\\":\\\\\"ButtonText_Cars\\\\\",\\\\\"path\\\\\":\\\\\"\\\\\"}\"},{\"channel\":\"sales\",\"source\":\"flights\",\"value\":\"{\\\\\"displayName\\\\\":\\\\\"Deals\\\\\",\\\\\"displayNameSharkKey\\\\\":\\\\\"ButtonText_Deals\\\\\",\\\\\"path\\\\\":\\\\\"/sale/deals/\\\\\"}\"},{\"channel\":\"tripcoins\",\"source\":\"flights\",\"value\":\"{\\\\\"displayName\\\\\":\\\\\"Trip Rewards\\\\\",\\\\\"displayNameSharkKey\\\\\":\\\\\"ButtonText_TripRewards\\\\\",\\\\\"path\\\\\":\\\\\"/customer/loyalty/\\\\\"}\"},{\"channel\":\"giftcard\",\"source\":\"flights\",\"value\":\"{\\\\\"displayName\\\\\":\\\\\"GiftCard\\\\\",\\\\\"displayNameSharkKey\\\\\":\\\\\"ButtonText_GiftCard\\\\\",\\\\\"path\\\\\":\\\\\"/giftcard\\\\\"}\"},{\"channel\":\"cruises\",\"source\":\"flights\",\"value\":\"{\\\\\"displayName\\\\\":\\\\\"Cruises\\\\\",\\\\\"displayNameSharkKey\\\\\":\\\\\"ButtonText_Cruises\\\\\",\\\\\"path\\\\\":\\\\\"/cruises\\\\\"}\"},{\"channel\":\"others\",\"source\":\"flights\",\"value\":\"{\\\\\"path\\\\\":\\\\\"/sale/w/1744/singaporediscovers.html?locale=en_sg\\\\\",\\\\\"displayName\\\\\":\\\\\"SingapoRediscovers Vouchers\\\\\",\\\\\"displayNameSharkKey\\\\\":\\\\\"key_channel_sg_vouchers\\\\\"}\"},{\"channel\":\"packages\",\"source\":\"flights\",\"value\":\"{\\\\\"displayName\\\\\":\\\\\"Bundle\\\\\",\\\\\"displayNameSharkKey\\\\\":\\\\\"ButtonText_Bundle\\\\\",\\\\\"path\\\\\":\\\\\"/packages/?sourceFrom=IBUBundle_home\\\\\"}\"},{\"channel\":\"customtrips\",\"source\":\"flights\",\"value\":\"{\\\\\"displayName\\\\\":\\\\\"Custom Trips\\\\\",\\\\\"displayNameSharkKey\\\\\":\\\\\"ButtonText_CustomTrip\\\\\",\\\\\"path\\\\\":\\\\\"/custom-trips/index\\\\\"}\"},{\"channel\":\"insurance\",\"source\":\"flights\",\"value\":\"{\\\\\"displayName\\\\\":\\\\\"Insurance\\\\\",\\\\\"displayNameSharkKey\\\\\":\\\\\"ButtonText_Insurance\\\\\",\\\\\"path\\\\\":\\\\\"/insurance?bid=1&cid=2&pid=1\\\\\"}\"},{\"channel\":\"tnt\",\"source\":\"flights\",\"value\":\"{\\\\\"displayName\\\\\":\\\\\"tnt\\\\\",\\\\\"displayNameSharkKey\\\\\":\\\\\"ButtonText_TTD\\\\\",\\\\\"path\\\\\":\\\\\"/things-to-do/ttd-home/?ctm_ref=vactang_page_23810\\\\\",\\\\\"parent\\\\\":\\\\\"ttd\\\\\"}\"},{\"channel\":\"esim\",\"source\":\"flights\",\"value\":\"{\\\\\"displayName\\\\\":\\\\\"eSIM\\\\\",\\\\\"displayNameSharkKey\\\\\":\\\\\"ButtonText_eSim\\\\\",\\\\\"path\\\\\":\\\\\"/sale/w/10229/esim.html\\\\\",\\\\\"parent\\\\\":\\\\\"ttd\\\\\"}\"}],\"onlinechannelscenxxe1\":[{\"locale\":\"en-XX\",\"channel\":\"hotels\",\"value\":\"1\"},{\"locale\":\"en-XX\",\"channel\":\"flights\",\"value\":\"1\"},{\"locale\":\"en-XX\",\"channel\":\"trains\",\"value\":\"1\"},{\"locale\":\"en-XX\",\"channel\":\"cars\",\"value\":\"1\"},{\"locale\":\"en-XX\",\"channel\":\"carhire\",\"value\":\"1\"},{\"locale\":\"en-XX\",\"channel\":\"airporttransfers\",\"value\":\"1\"},{\"locale\":\"en-XX\",\"channel\":\"ttd\",\"value\":\"2\"},{\"locale\":\"en-XX\",\"channel\":\"tnt\",\"value\":\"1\"},{\"locale\":\"en-XX\",\"channel\":\"esim\",\"value\":\"1\"},{\"locale\":\"en-XX\",\"channel\":\"packages\",\"value\":\"1\"},{\"locale\":\"en-XX\",\"channel\":\"travelguide\",\"value\":\"1\"},{\"locale\":\"en-XX\",\"channel\":\"tripcoins\",\"value\":\"1\"},{\"locale\":\"en-XX\",\"channel\":\"sales\",\"value\":\"1\"}]})</script><div class=\"home-banner-container new-ui \"><div class=\"home-search-con\" id=\"main-search-box\" style=\"padding-top:70px\"><div class=\"slogan\"><div class=\"slogan-desc\">Your Trip Starts Here</div><div class=\"ol-usp-simple  center\"><div class=\"ol-usp-simple-text ol-usp-simple-text__hover  \"><div class=\"onlineSimple-container__separate\"></div><div class=\"ol-usp-simple-text__icon\" style=\"background-image:url(https://ak-d.tripcdn.com/images/0AS6b1200090fx7s7F635.png)\"></div><div class=\"ol-usp-simple-text__textContainer\"><span class=\"ol-usp-simple-text__textContainer__title\" style=\"color:#fff\" data-redirect=\"false\">Secure payment</span><span class=\"ol-usp-simple-text__textContainer__title__dashline\" style=\"border-color:#fff;border:none;background-image:repeating-linear-gradient(90deg,rgba(255,255,255,.4),rgba(255,255,255,.4) 2px,transparent 0,transparent 4px,rgba(255,255,255,.4) 0);height:1px\"></span><div class=\"ol-usp-simple-text__textContainer__subtitle\">Payments are secured using the latest industry standards</div></div></div><div class=\"ol-usp-simple-text ol-usp-simple-text__hover  \"><div class=\"onlineSimple-container__separate\"></div><div class=\"ol-usp-simple-text__icon\" style=\"background-image:url(https://ak-d.tripcdn.com/images/0AS5f120008whj34f2145.png)\"></div><div class=\"ol-usp-simple-text__textContainer\"><span class=\"ol-usp-simple-text__textContainer__title\" style=\"color:#fff\" data-redirect=\"false\">Support in approx. 30s</span><span class=\"ol-usp-simple-text__textContainer__title__dashline\" style=\"border-color:#fff;border:none;background-image:repeating-linear-gradient(90deg,rgba(255,255,255,.4),rgba(255,255,255,.4) 2px,transparent 0,transparent 4px,rgba(255,255,255,.4) 0);height:1px\"></span><div class=\"ol-usp-simple-text__textContainer__subtitle\">We usually answer phone calls within 30 seconds</div></div></div><div class=\"online-usp-popover\" style=\"display:none\"><div class=\"popover__arrow\" style=\"left:calc(50% - 8px)\"></div></div></div></div><div class=\"c-srh-holder-deep-blue\"><div class=\"search-box-holder-con en-xx\"><div class=\"holder-block small\" style=\"width:120px\"></div><div class=\"holder-block-con\"><div class=\"holder-block big\" style=\"width:50%\"></div><div class=\"holder-block big\" style=\"width:25%\"></div><div class=\"holder-block big\" style=\"width:25%\"></div></div><div class=\"holder-block small\" style=\"width:350px\"></div></div><div class=\"mc-srh-box\" style=\"display:none\"><div class=\"mc-srh-box__tab-con u-clearfix\"><ul class=\"mc-srh-box__tabs\"></ul></div><div class=\"mc-srh-box__forms\" style=\"min-height:unset\"><div id=\"searchBoxCon\"></div></div></div></div></div><div class=\"home-trustpilot\" style=\"margin-top:10px\"></div></div></div><div class=\"home-wrapper home-body-container-new\"><div class=\"home-wrapper-inner notice\" style=\"margin-bottom:24px\"><div class=\"notice-box\"><div class=\"tcp-online-notice-skeleton skeleton\"><div></div></div></div></div><div class=\"home-wrapper-inner home-advertize\" id=\"homePathIdadvertize\" style=\"margin-bottom:40px\"><div class=\"online-advertize-con new-theme\" dir=\"\"><div class=\"online-advertize online-advertize-en-xx\"><div id=\"deals\" class=\"online-advertize-simple\"><div class=\"ibu-base-marquee marquee-above\" dir=\"\"><span class=\"nav-arrow arrow-left hide\" style=\"top:calc(74px)\"></span><span class=\"nav-arrow arrow-right \" style=\"top:calc(74px)\"></span><div class=\"blocks-window\"><div class=\"blocks-belt\" style=\"margin-left:-0px\"><div class=\"block-con\" style=\"width:376px;padding-left:0;padding-right:8px\"><div class=\"online-advertize-item\"><a class=\"online-advertize-item-link\" href=\"https://www.trip.com/sale/w/10467/summervacationhomes.html?locale=en-xx&amp;curr=usd&amp;transparentBar=1&amp;promo_referer=1721_10467_1\"><img class=\"online-advertize-item-image\" src=\"https://dimg04.tripcdn.com/images/0a11l12000eip6zjlAD88.jpg\" data-src=\"https://dimg04.tripcdn.com/images/0a11l12000eip6zjlAD88.jpg\" alt=\"Embrace Summer Like a Local\"/></a></div></div><div class=\"block-con\" style=\"width:376px;padding-left:8px;padding-right:8px\"><div class=\"online-advertize-item\"><a class=\"online-advertize-item-link\" href=\"https://www.trip.com/sale/w/6539/globaltravel.html?locale=en-xx&amp;curr=usd&amp;transparentBar=1&amp;promo_referer=1721_6539_2\"><img class=\"online-advertize-item-image\" src=\"https://ak-d.tripcdn.com/images/1gz1h12000d5icpilD452.jpg\" data-src=\"https://ak-d.tripcdn.com/images/1gz1h12000d5icpilD452.jpg\" alt=\"Time to Travel!\"/></a></div></div><div class=\"block-con\" style=\"width:376px;padding-left:8px;padding-right:0\"><div class=\"online-advertize-item\"><a class=\"online-advertize-item-link\" href=\"https://www.trip.com/customer/loyalty/?locale=en-XX&amp;promo_referer=1721_0_8\"><img class=\"online-advertize-item-image\" src=\"https://dimg04.tripcdn.com/images/0a13l12000815zxlz6BBB.jpg\" data-src=\"https://dimg04.tripcdn.com/images/0a13l12000815zxlz6BBB.jpg\" alt=\"You&#x27;re in! Introducing Trip.com Rewards!\"/></a></div></div></div></div></div></div></div></div></div><div class=\"home-wrapper-inner seo-coupon\" style=\"margin:0\"><div></div></div><div class=\"home-wrapper-inner new-guests\" style=\"margin-bottom:40px\"><div class=\"scroll-loader-com relative\" style=\"height:400px\"><div class=\"scroll-loader-com-wrapper shallow-absolute\"></div><div class=\"scroll-loader-com-wrapper deep-absolute visible\"><div class=\"new-guests-skeleton\"><div class=\"skeleton-breath-block center\"></div><div class=\"new-guests-card-skeleton-box skeleton-breath-block\"><div></div><div></div><div></div><div></div></div></div></div></div></div><div class=\"scroll-loader-com relative\" style=\"height:625px\"><div class=\"scroll-loader-com-wrapper shallow-absolute\"></div><div class=\"scroll-loader-com-wrapper deep-absolute visible\"><div style=\"height:100%\"><div class=\"home-wrapper-inner recommend-wrapper home-recommend-hotels\"><div style=\"padding-bottom:40px;height:100%;box-sizing:border-box\"><div class=\"common-skeleton new-theme show-title\"><div class=\"skeleton-title\"><div class=\"loading-tab\"></div></div><div class=\"skeleton-tab\"><div class=\"loading-tab\"></div><div class=\"loading-tab\"></div><div class=\"loading-tab\"></div><div class=\"loading-tab\"></div></div><div class=\"skeleton-card\"><div class=\"skeleton-card-item\"><div class=\"loading-tab image\"></div></div><div class=\"skeleton-card-item\"><div class=\"loading-tab image\"></div></div><div class=\"skeleton-card-item\"><div class=\"loading-tab image\"></div></div><div class=\"skeleton-card-item\"><div class=\"loading-tab image\"></div></div></div></div></div></div></div></div></div><div class=\"scroll-loader-com relative\" style=\"height:495px\"><div class=\"scroll-loader-com-wrapper shallow-absolute\"></div><div class=\"scroll-loader-com-wrapper deep-absolute visible\"><div style=\"height:100%\"><div class=\"home-wrapper-inner recommend-wrapper home-recommend-attractions\"><div style=\"padding-bottom:40px;height:100%;box-sizing:border-box\"><div class=\"common-skeleton new-theme show-title\"><div class=\"skeleton-title\"><div class=\"loading-tab\"></div></div><div class=\"skeleton-tab\"><div class=\"loading-tab\"></div><div class=\"loading-tab\"></div><div class=\"loading-tab\"></div><div class=\"loading-tab\"></div></div><div class=\"skeleton-card\"><div class=\"skeleton-card-item\"><div class=\"loading-tab image\"></div></div><div class=\"skeleton-card-item\"><div class=\"loading-tab image\"></div></div><div class=\"skeleton-card-item\"><div class=\"loading-tab image\"></div></div><div class=\"skeleton-card-item\"><div class=\"loading-tab image\"></div></div></div></div></div></div></div></div></div><div class=\"scroll-loader-com relative\" style=\"height:552px\"><div class=\"scroll-loader-com-wrapper shallow-absolute\"></div><div class=\"scroll-loader-com-wrapper deep-absolute visible\"><div style=\"height:100%\"><div class=\"home-wrapper-inner recommend-wrapper home-recommend-cars\"><div style=\"padding-bottom:40px;height:100%;box-sizing:border-box\"><div class=\"common-skeleton new-theme show-title\"><div class=\"skeleton-title\"><div class=\"loading-tab\"></div></div><div class=\"skeleton-tab\"><div class=\"loading-tab\"></div><div class=\"loading-tab\"></div><div class=\"loading-tab\"></div><div class=\"loading-tab\"></div></div><div class=\"skeleton-card\"><div class=\"skeleton-card-item\"><div class=\"loading-tab image\"></div></div><div class=\"skeleton-card-item\"><div class=\"loading-tab image\"></div></div><div class=\"skeleton-card-item\"><div class=\"loading-tab image\"></div></div><div class=\"skeleton-card-item\"><div class=\"loading-tab image\"></div></div></div></div></div></div></div></div></div><div class=\"scroll-loader-com relative\" style=\"height:506px\"><div class=\"scroll-loader-com-wrapper shallow-absolute\"></div><div class=\"scroll-loader-com-wrapper deep-absolute visible\"><div class=\"scroll-skeleton\"><div class=\"loadable-skeleton-block scroll-loader-skeleton\" style=\"height:466px;width:100%\"></div></div></div></div></div><div class=\"seo-content\"><div id=\"tab-links\" class=\"m-64-48 tab-link-wrapper\"><h2 class=\"tab-link-title t-2020-12\">Trip.com Recommendations</h2><ul class=\"tab-link-botcontainer\"><li><p>Popular Flights</p><div class=\"short-link-wrapper col-lg-5 col-md-4 col-sm-3 col-xs-2 col-xss-1\"><div class=\"short-link-group\"><div class=\"short-link-list-wrapper\"><ul class=\"short-link-list\"><li class=\"short-link-item\"><a class=\"short-link-link\" href=\"https://www.trip.com/flights/cairo-to-jeddah/airfares-cai-jed/\">Flights from Cairo to Jeddah</a></li><li class=\"short-link-item\"><a class=\"short-link-link\" href=\"https://www.trip.com/flights/dubai-to-riyadh/airfares-dxb-ruh/\">Flights from Dubai to Riyadh</a></li><li class=\"short-link-item\"><a class=\"short-link-link\" href=\"https://www.trip.com/flights/london-to-new-york/airfares-lon-nyc/\">Flights from London to New York</a></li><li class=\"short-link-item\"><a class=\"short-link-link\" href=\"https://www.trip.com/flights/london-to-dubai/airfares-lon-dxb/\">Flights from London to Dubai</a></li><li class=\"short-link-item\"><a class=\"short-link-link\" href=\"https://www.trip.com/flights/kuala-lumpur-to-singapore/airfares-kul-sin/\">Flights from Kuala Lumpur to Singapore</a></li><li class=\"short-link-item\"><a class=\"short-link-link\" href=\"https://www.trip.com/flights/dubai-to-jeddah/airfares-dxb-jed/\">Flights from Dubai to Jeddah</a></li><li class=\"short-link-item\"><a class=\"short-link-link\" href=\"https://www.trip.com/flights/orlando-to-san-juan/airfares-orl-sju/\">Flights from Orlando to San Juan</a></li><li class=\"short-link-item\"><a class=\"short-link-link\" href=\"https://www.trip.com/flights/dubai-to-mumbai/airfares-dxb-bom/\">Flights from Dubai to Mumbai</a></li><li class=\"short-link-item\"><a class=\"short-link-link\" href=\"https://www.trip.com/flights/cairo-to-riyadh/airfares-cai-ruh/\">Flights from Cairo to Riyadh</a></li><li class=\"short-link-item\"><a class=\"short-link-link\" href=\"https://www.trip.com/flights/dubai-to-delhi/airfares-dxb-del/\">Flights from Dubai to Delhi</a></li><li class=\"short-link-item\"><a class=\"short-link-link\" href=\"https://www.trip.com/flights/bangkok-to-chiang-mai/airfares-bkk-cnx/\">Flights from Bangkok to Chiang Mai</a></li><li class=\"short-link-item\"><a class=\"short-link-link\" href=\"https://www.trip.com/flights/bangkok-to-phuket/airfares-bkk-hkt/\">Flights from Bangkok to Phuket</a></li><li class=\"short-link-item\"><a class=\"short-link-link\" href=\"https://www.trip.com/flights/shanghai-to-beijing/airfares-sha-bjs/\">Flights from Shanghai to Beijing</a></li><li class=\"short-link-item\"><a class=\"short-link-link\" href=\"https://www.trip.com/flights/sanya-to-shanghai/airfares-syx-sha/\">Flights from Sanya to Shanghai</a></li><li class=\"short-link-item\"><a class=\"short-link-link\" href=\"https://www.trip.com/flights/guangzhou-to-shanghai/airfares-can-sha/\">Flights from Guangzhou to Shanghai</a></li><li class=\"short-link-item\"><a class=\"short-link-link\" href=\"https://www.trip.com/flights/tokyo-to-seoul/airfares-tyo-sel/\">Flights from Tokyo to Seoul</a></li><li class=\"short-link-item\"><a class=\"short-link-link\" href=\"https://www.trip.com/flights/cape-town-to-johannesburg/airfares-cpt-jnb/\">Flights from Cape Town to Johannesburg</a></li><li class=\"short-link-item\"><a class=\"short-link-link\" href=\"https://www.trip.com/flights/toronto-to-delhi/airfares-yto-del/\">Flights from Toronto to Delhi</a></li><li class=\"short-link-item\"><a class=\"short-link-link\" href=\"https://www.trip.com/flights/bangalore-to-delhi/airfares-blr-del/\">Flights from Bangalore to Delhi</a></li><li class=\"short-link-item\"><a class=\"short-link-link\" href=\"https://www.trip.com/flights/edinburgh-to-london/airfares-edi-lon/\">Flights from Edinburgh to London</a></li></ul></div></div></div></li><li><p>Featured Hotel Destinations</p><div class=\"short-link-wrapper col-lg-5 col-md-4 col-sm-3 col-xs-2 col-xss-1\"><div class=\"short-link-group\"><div class=\"short-link-list-wrapper\"><ul class=\"short-link-list\"><li class=\"short-link-item\"><a class=\"short-link-link\" href=\"https://www.trip.com/hotels/shanghai-hotels-list-2/\">Best Hotels in Shanghai</a></li><li class=\"short-link-item\"><a class=\"short-link-link\" href=\"https://www.trip.com/hotels/hong-kong-hotels-list-58/\">Best Hotels in Hong Kong</a></li><li class=\"short-link-item\"><a class=\"short-link-link\" href=\"https://www.trip.com/hotels/macau-hotels-list-59/\">Best Hotels in Macau</a></li><li class=\"short-link-item\"><a class=\"short-link-link\" href=\"https://www.trip.com/hotels/bangkok-hotels-list-359/\">Best Hotels in Bangkok</a></li><li class=\"short-link-item\"><a class=\"short-link-link\" href=\"https://www.trip.com/hotels/singapore-hotels-list-73/\">Best Hotels in Singapore</a></li><li class=\"short-link-item\"><a class=\"short-link-link\" href=\"https://www.trip.com/hotels/dubai-hotels-list-220/\">Best Hotels in Dubai</a></li><li class=\"short-link-item\"><a class=\"short-link-link\" href=\"https://www.trip.com/hotels/sanya-hotels-list-43/\">Best Hotels in Sanya</a></li><li class=\"short-link-item\"><a class=\"short-link-link\" href=\"https://www.trip.com/hotels/beijing-hotels-list-1/\">Best Hotels in Beijing</a></li><li class=\"short-link-item\"><a class=\"short-link-link\" href=\"https://www.trip.com/hotels/guangzhou-hotels-list-32/\">Best Hotels in Guangzhou</a></li><li class=\"short-link-item\"><a class=\"short-link-link\" href=\"https://www.trip.com/hotels/shenzhen-hotels-list-30/\">Best Hotels in Shenzhen</a></li><li class=\"short-link-item\"><a class=\"short-link-link\" href=\"https://www.trip.com/hotels/las-vegas-hotels-list-26282/\">Best Hotels in Las Vegas</a></li><li class=\"short-link-item\"><a class=\"short-link-link\" href=\"https://www.trip.com/hotels/london-hotels-list-338/\">Best Hotels in London</a></li><li class=\"short-link-item\"><a class=\"short-link-link\" href=\"https://www.trip.com/hotels/san-diego-hotels-list-698/\">Best Hotels in San Diego</a></li><li class=\"short-link-item\"><a class=\"short-link-link\" href=\"https://www.trip.com/hotels/chicago-hotels-list-549/\">Best Hotels in Chicago</a></li><li class=\"short-link-item\"><a class=\"short-link-link\" href=\"https://www.trip.com/hotels/new-york-hotels-list-633/\">Best Hotels in New York</a></li><li class=\"short-link-item\"><a class=\"short-link-link\" href=\"https://www.trip.com/hotels/paris-hotels-list-192/\">Best Hotels in Paris</a></li><li class=\"short-link-item\"><a class=\"short-link-link\" href=\"https://www.trip.com/hotels/rome-hotels-list-343/\">Best Hotels in Rome</a></li><li class=\"short-link-item\"><a class=\"short-link-link\" href=\"https://www.trip.com/hotels/edinburgh-hotels-list-706/\">Best Hotels in Edinburgh</a></li><li class=\"short-link-item\"><a class=\"short-link-link\" href=\"https://www.trip.com/hotels/boston-hotels-list-26848/\">Best Hotels in Boston</a></li><li class=\"short-link-item\"><a class=\"short-link-link\" href=\"https://www.trip.com/hotels/nashville-hotels-list-3228/\">Best Hotels in Nashville</a></li></ul></div></div></div></li><li><p>Featured Guides</p><div class=\"short-link-wrapper col-lg-5 col-md-4 col-sm-3 col-xs-2 col-xss-1\"><div class=\"short-link-group\"><div class=\"short-link-list-wrapper\"><ul class=\"short-link-list\"><li class=\"short-link-item\"><a class=\"short-link-link\" href=\"https://www.trip.com/guide/transport/jr-pass.html\">JR Pass Guide</a></li><li class=\"short-link-item\"><a class=\"short-link-link\" href=\"https://www.trip.com/guide/phone/esim-guide.html\">eSIM Guide for Tourists</a></li><li class=\"short-link-item\"><a class=\"short-link-link\" href=\"https://www.trip.com/toplist/tripbest/annual/global-100001427268/\">Trip.Best 2024 Global 100</a></li><li class=\"short-link-item\"><a class=\"short-link-link\" href=\"https://www.trip.com/toplist/tripbest/bangkok-best-things-to-do-111000000191/\">Best Things to do in Bangkok</a></li><li class=\"short-link-item\"><a class=\"short-link-link\" href=\"https://www.trip.com/hot/tourist-guide/china-visa-free-transit.html\">China 24/72/144-Hour Visa Free Transit</a></li><li class=\"short-link-item\"><a class=\"short-link-link\" href=\"https://www.trip.com/hot/tourist-guide/shanghai-visa-free-transit.html\">Shanghai 24/144-Hour Visa Free Transit</a></li><li class=\"short-link-item\"><a class=\"short-link-link\" href=\"https://www.trip.com/hot/package/tokyo-vacation.html\">Tokyo Vacation</a></li><li class=\"short-link-item\"><a class=\"short-link-link\" href=\"https://www.trip.com/guide/attraction/universal-studios-locations.html\">Universal Studios Locations</a></li><li class=\"short-link-item\"><a class=\"short-link-link\" href=\"https://www.trip.com/guide/attraction/disney-locations.html\">Disney Parks &amp; Disneylands</a></li><li class=\"short-link-item\"><a class=\"short-link-link\" href=\"https://www.trip.com/toplist/tripbest/bangkok-best-bars-100900005313/\">Best Bars in Bangkok</a></li><li class=\"short-link-item\"><a class=\"short-link-link\" href=\"https://www.trip.com/toplist/tripbest/london-best-bars-100900005411/\">Best Bars in London</a></li><li class=\"short-link-item\"><a class=\"short-link-link\" href=\"https://www.trip.com/guide/destination/japan-travel.html\">Japan Travel</a></li><li class=\"short-link-item\"><a class=\"short-link-link\" href=\"https://www.trip.com/guide/train/china-high-speed-rail.html\">China High Speed Rail</a></li><li class=\"short-link-item\"><a class=\"short-link-link\" href=\"https://www.trip.com/guide/train/china-train-ticket.html\">China Train Ticket</a></li><li class=\"short-link-item\"><a class=\"short-link-link\" href=\"https://www.trip.com/guide/train/china-train-booking.html\">China Train Booking</a></li><li class=\"short-link-item\"><a class=\"short-link-link\" href=\"https://www.trip.com/guide/train/china-bullet-train.html\">China Bullet Train</a></li></ul></div></div></div></li><li><p>Popular Attractions</p><div class=\"short-link-wrapper col-lg-5 col-md-4 col-sm-3 col-xs-2 col-xss-1\"><div class=\"short-link-group\"><div class=\"short-link-list-wrapper\"><ul class=\"short-link-list\"><li class=\"short-link-item\"><a class=\"short-link-link\" href=\"https://www.trip.com/guide/attraction/disney-locations.html\">disney locations</a></li><li class=\"short-link-item\"><a class=\"short-link-link\" href=\"https://www.trip.com/guide/attraction/n-seoul-tower-tickets.html\">N Seoul Tower Tickets</a></li><li class=\"short-link-item\"><a class=\"short-link-link\" href=\"https://www.trip.com/guide/attraction/blizzard-beach-water-park.html\">blizzard beach water park</a></li><li class=\"short-link-item\"><a class=\"short-link-link\" href=\"https://www.trip.com/guide/attraction/universal-studios-singapore-tickets.html\">universal studios singapore tickets</a></li><li class=\"short-link-item\"><a class=\"short-link-link\" href=\"https://www.trip.com/guide/attraction/ngong-ping-360-tickets.html\">Ngong Ping 360 Tickets</a></li><li class=\"short-link-item\"><a class=\"short-link-link\" href=\"https://www.trip.com/travel-guide/attraction/tacoma/union-station-61158497/\">Union Station</a></li><li class=\"short-link-item\"><a class=\"short-link-link\" href=\"https://www.trip.com/travel-guide/attraction/norwood-park-township/rolling-stones-55842476/\">Rolling Stones</a></li><li class=\"short-link-item\"><a class=\"short-link-link\" href=\"https://www.trip.com/travel-guide/attraction/anapa/anapa-dolphinarium-132068940/\">Anapa Dolphinarium (Nemo)</a></li><li class=\"short-link-item\"><a class=\"short-link-link\" href=\"https://www.trip.com/travel-guide/attraction/buenos-aires/cinemark-136104345/\">Cinemark</a></li><li class=\"short-link-item\"><a class=\"short-link-link\" href=\"https://www.trip.com/travel-guide/attraction/antioch/anytime-fitness-61225963/\">Anytime Fitness</a></li><li class=\"short-link-item\"><a class=\"short-link-link\" href=\"https://www.trip.com/travel-guide/attraction/yangshuo/wu-zhi-hill-36289834/\">Wu Zhi Hill</a></li><li class=\"short-link-item\"><a class=\"short-link-link\" href=\"https://www.trip.com/travel-guide/attraction/zhangjiajie/star-picking-tower-15054879/\">Star Picking Tower</a></li><li class=\"short-link-item\"><a class=\"short-link-link\" href=\"https://www.trip.com/travel-guide/attraction/shanghai/venice-town-55916162/\">Venice Town</a></li><li class=\"short-link-item\"><a class=\"short-link-link\" href=\"https://www.trip.com/travel-guide/attraction/shangri-la/napa-sea-76337/\">Napa Sea(Yila Prairie)</a></li><li class=\"short-link-item\"><a class=\"short-link-link\" href=\"https://www.trip.com/travel-guide/attraction/belgrave/puffing-billy-railway-10758977/\">Puffing Billy Railway</a></li><li class=\"short-link-item\"><a class=\"short-link-link\" href=\"https://www.trip.com/guide/attraction/walt-disney-studios-park.html\">walt disney studios park</a></li><li class=\"short-link-item\"><a class=\"short-link-link\" href=\"https://www.trip.com/guide/phone/how-to-activate-esim-on-iphone.html\">How to Activate eSIM on iPhone</a></li><li class=\"short-link-item\"><a class=\"short-link-link\" href=\"https://www.trip.com/guide/phone/china-sim-card.html\">China SIM Card</a></li><li class=\"short-link-item\"><a class=\"short-link-link\" href=\"https://www.trip.com/guide/phone/indonesia-esim.html\">Indonesia eSIM</a></li><li class=\"short-link-item\"><a class=\"short-link-link\" href=\"https://www.trip.com/guide/attraction/ghibli-museum-tickets.html\">Ghibli Museum Tickets</a></li></ul></div></div></div></li><li><p>Popular Airlines</p><div class=\"short-link-wrapper col-lg-5 col-md-4 col-sm-3 col-xs-2 col-xss-1\"><div class=\"short-link-group\"><div class=\"short-link-list-wrapper\"><ul class=\"short-link-list\"><li class=\"short-link-item\"><a class=\"short-link-link\" href=\"https://www.trip.com/flights/to-london/airfares-lon/\">Flights to London</a></li><li class=\"short-link-item\"><a class=\"short-link-link\" href=\"https://www.trip.com/flights/to-rome/airfares-rom/\">Flights to Rome</a></li><li class=\"short-link-item\"><a class=\"short-link-link\" href=\"https://www.trip.com/flights/to-paris/airfares-par/\">Flights to Paris</a></li><li class=\"short-link-item\"><a class=\"short-link-link\" href=\"https://www.trip.com/flights/to-new-york/airfares-nyc/\">Flights to New York</a></li><li class=\"short-link-item\"><a class=\"short-link-link\" href=\"https://www.trip.com/flights/to-tokyo/airfares-tyo/\">Flights to Tokyo</a></li><li class=\"short-link-item\"><a class=\"short-link-link\" href=\"https://www.trip.com/flights/to-las-vegas/airfares-las/\">Flights to Las Vegas</a></li><li class=\"short-link-item\"><a class=\"short-link-link\" href=\"https://www.trip.com/flights/to-miami/airfares-mia/\">Flights to Miami</a></li><li class=\"short-link-item\"><a class=\"short-link-link\" href=\"https://www.trip.com/flights/to-bali/airfares-dps/\">Flights to Bali</a></li><li class=\"short-link-item\"><a class=\"short-link-link\" href=\"https://www.trip.com/flights/to-amsterdam/airfares-ams/\">Flights to Amsterdam</a></li><li class=\"short-link-item\"><a class=\"short-link-link\" href=\"https://www.trip.com/flights/to-atlanta/airfares-atl/\">Flights to Atlanta</a></li><li class=\"short-link-item\"><a class=\"short-link-link\" href=\"https://www.trip.com/flights/airline-tk/turkish-airlines-flight-to-ist/\">Turkish Airlines Flights to Istanbul</a></li><li class=\"short-link-item\"><a class=\"short-link-link\" href=\"https://www.trip.com/flights/airline-tk/turkish-airlines-flight-to-sin/\">Turkish Airlines Flights to Singapore</a></li><li class=\"short-link-item\"><a class=\"short-link-link\" href=\"https://www.trip.com/flights/airline-aa/american-airlines-flight-to-hnl/\">American Airlines Flights to Hawaii</a></li><li class=\"short-link-item\"><a class=\"short-link-link\" href=\"https://www.trip.com/flights/airline-aa/american-airlines-flight-to-cun/\">American Airlines Flights to Cancun</a></li><li class=\"short-link-item\"><a class=\"short-link-link\" href=\"https://www.trip.com/flights/airline-ua/united-airlines-flight-to-bom/\">United Airlines Flights to Mumbai</a></li><li class=\"short-link-item\"><a class=\"short-link-link\" href=\"https://www.trip.com/flights/airline-ua/united-airlines-flight-to-tlv/\">United Airlines Flights to Tel Aviv Yafo</a></li><li class=\"short-link-item\"><a class=\"short-link-link\" href=\"https://www.trip.com/flights/airline-sq/singapore-airlines-flight-to-del/\">Singapore Airlines Flights to Delhi</a></li><li class=\"short-link-item\"><a class=\"short-link-link\" href=\"https://www.trip.com/flights/airline-sq/singapore-airlines-flight-to-syd/\">Singapore Airlines Flights to Sydney</a></li><li class=\"short-link-item\"><a class=\"short-link-link\" href=\"https://www.trip.com/flights/airline-pr/philippine-airlines-flight-to-mnl/\">Philippine Airlines Flights to Manila</a></li><li class=\"short-link-item\"><a class=\"short-link-link\" href=\"https://www.trip.com/flights/airline-pr/philippine-airlines-flight-to-dvo/\">Philippine Airlines Flights to Davao</a></li></ul></div></div></div></li><li><p>Popular Guide</p><div class=\"short-link-wrapper col-lg-5 col-md-4 col-sm-3 col-xs-2 col-xss-1\"><div class=\"short-link-group\"><div class=\"short-link-list-wrapper\"><ul class=\"short-link-list\"><li class=\"short-link-item\"><a class=\"short-link-link\" href=\"https://www.trip.com/guide/info/weekend-getaways-in-texas.html\">weekend getaways in texas</a></li><li class=\"short-link-item\"><a class=\"short-link-link\" href=\"https://www.trip.com/guide/info/trip-to-monaco-cost.html\">Trip to Monaco cost</a></li><li class=\"short-link-item\"><a class=\"short-link-link\" href=\"https://www.trip.com/guide/attraction/tokyo-disneysea.html\">tokyo disneysea</a></li><li class=\"short-link-item\"><a class=\"short-link-link\" href=\"https://www.trip.com/guide/transport/eurail-pass-discount.html\">Eurail Pass Discount</a></li><li class=\"short-link-item\"><a class=\"short-link-link\" href=\"https://www.trip.com/guide/phone/esim.html\">esim</a></li><li class=\"short-link-item\"><a class=\"short-link-link\" href=\"https://www.trip.com/guide/transport/narita-express.html\">narita express</a></li><li class=\"short-link-item\"><a class=\"short-link-link\" href=\"https://www.trip.com/guide/transport/japan-transport-app.html\">Japan Transport App</a></li><li class=\"short-link-item\"><a class=\"short-link-link\" href=\"https://www.trip.com/guide/train/china-high-speed-rail-shanghai-to-guilin.html\">China High Speed Rail Shanghai to Guilin</a></li><li class=\"short-link-item\"><a class=\"short-link-link\" href=\"https://www.trip.com/guide/phone/morocco-esim.html\">Morocco eSim</a></li><li class=\"short-link-item\"><a class=\"short-link-link\" href=\"https://www.trip.com/guide/transport/tokyo-metro.html\">Tokyo Metro</a></li><li class=\"short-link-item\"><a class=\"short-link-link\" href=\"https://www.trip.com/guide/phone/germany-esim.html\">Germany esim</a></li><li class=\"short-link-item\"><a class=\"short-link-link\" href=\"https://www.trip.com/guide/transport/japan-car-rental.html\">Japan car rental</a></li><li class=\"short-link-item\"><a class=\"short-link-link\" href=\"https://www.trip.com/guide/attraction/everland.html\">Everland</a></li><li class=\"short-link-item\"><a class=\"short-link-link\" href=\"https://www.trip.com/guide/phone/best-japan-travel-apps.html\">best Japan travel apps</a></li><li class=\"short-link-item\"><a class=\"short-link-link\" href=\"https://www.trip.com/guide/train/hong-kong-to-shenzhen.html\">Hong Kong to Shenzhen</a></li><li class=\"short-link-item\"><a class=\"short-link-link\" href=\"https://www.trip.com/guide/transport/jr-kyushu.html\">JR Kyushu</a></li><li class=\"short-link-item\"><a class=\"short-link-link\" href=\"https://www.trip.com/guide/train/cheap-train-tickets-china.html\">Cheap Train Tickets China</a></li><li class=\"short-link-item\"><a class=\"short-link-link\" href=\"https://www.trip.com/guide/attraction/n-seoul-tower-tickets.html\">N Seoul Tower Tickets</a></li><li class=\"short-link-item\"><a class=\"short-link-link\" href=\"https://www.trip.com/guide/train/china-train-station.html\">China Train Station</a></li><li class=\"short-link-item\"><a class=\"short-link-link\" href=\"https://www.trip.com/guide/phone/thailand-sim-card.html\">Thailand SIM Card</a></li><li class=\"short-link-item\"><a class=\"short-link-link\" href=\"https://www.trip.com/hot/articles/maha-shivaratri.html\">Maha Shivaratri</a></li><li class=\"short-link-item\"><a class=\"short-link-link\" href=\"https://www.trip.com/guide/info/temperature-in-pittsburgh-in-august.html\">temperature in pittsburgh in August</a></li><li class=\"short-link-item\"><a class=\"short-link-link\" href=\"https://www.trip.com/hot/articles/things-to-do-in-orlando.html\">Things to Do in Orlando</a></li><li class=\"short-link-item\"><a class=\"short-link-link\" href=\"https://www.trip.com/guide/info/trip-to-switzerland-cost.html\">Trip to Switzerland cost</a></li><li class=\"short-link-item\"><a class=\"short-link-link\" href=\"https://www.trip.com/hot/articles/best-places-to-visit-in-may.html\">Best places to visit in May</a></li></ul></div></div></div></li><li><p>Trip.com Links</p><div class=\"short-link-wrapper col-lg-5 col-md-4 col-sm-3 col-xs-2 col-xss-1\"><div class=\"short-link-group\"><div class=\"short-link-list-wrapper\"><ul class=\"short-link-list\"><li class=\"short-link-item\"><a class=\"short-link-link\" href=\"https://play.google.com/store/apps/details?id=ctrip.english&amp;amp;hl=en_US\">Trip.com App Android</a></li><li class=\"short-link-item\"><a class=\"short-link-link\" href=\"https://itunes.apple.com/us/app/trip-com-flights-hotels/id681752345?mt=8\">Trip.com App iOS</a></li><li class=\"short-link-item\"><a class=\"short-link-link\" href=\"https://www.facebook.com/Trip/\">Trip.com on Facebook</a></li><li class=\"short-link-item\"><a class=\"short-link-link\" href=\"https://www.trustpilot.com/review/trip.com\">Trip.com reviews</a></li><li class=\"short-link-item\"><a class=\"short-link-link\" href=\"https://www.trip.com/tripgenie/\">TripGenie</a></li></ul></div></div></div></li></ul></div></div><div class=\"mc-ft mc-ft_line\"><div class=\"l-inner\"><div class=\"mc-ft__cnt u-clearfix\"><div class=\"mc-ft__links u-clearfix\"><div class=\"mc-ft__block\"><h3 class=\"mc-ft__block-title\">Contact Us</h3><ul class=\"mc-ft__link-list\"><li class=\"mc-ft__list-item\"><a target=\"_blank\" rel=\"nofollow noopener noreferrer\" href=\"/pages/support/?locale=en-XX&amp;curr=USD\">Customer Support</a></li><li class=\"mc-ft__list-item\"><a target=\"_blank\" rel=\"nofollow noopener noreferrer\" href=\"/pages/customer-service/?locale=en-XX&amp;curr=USD\">Service Guarantee</a></li><li class=\"mc-ft__list-item\"><a target=\"_blank\" rel=\"nofollow noopener noreferrer\" href=\"/pages/service/?locale=en-XX&amp;curr=USD\">More Service Info</a></li><li class=\"mc-ft__list-item\"><a target=\"_blank\" rel=\"nofollow noopener noreferrer\" href=\"/feedback/?locale=en-XX&amp;curr=USD\">Website Feedback</a></li></ul><ul class=\"mc-ft__social\"></ul></div><div class=\"mc-ft__block\"><h3 class=\"mc-ft__block-title\">About</h3><ul class=\"mc-ft__link-list\"><li class=\"mc-ft__list-item\"><a target=\"_blank\" rel=\"nofollow noopener noreferrer\" href=\"/pages/about-us/?locale=en-XX&amp;curr=USD\">About Trip.com</a></li><li class=\"mc-ft__list-item\"><a target=\"_blank\" rel=\"nofollow noopener noreferrer\" href=\"https://www.trip.com/newsroom/?locale=en-xx&amp;curr=USD\">News</a></li><li class=\"mc-ft__list-item\"><a target=\"_blank\" rel=\"nofollow noopener noreferrer\" href=\"https://careers.trip.com/?locale=en-XX&amp;curr=USD\">Careers</a></li><li class=\"mc-ft__list-item\"><a target=\"_blank\" rel=\"nofollow noopener noreferrer\" href=\"https://pages.trip.com/service-guideline/terms-en-xx.html?locale=en-XX&amp;curr=USD\">Terms &amp; Conditions</a></li><li class=\"mc-ft__list-item\"><a target=\"_blank\" rel=\"nofollow noopener noreferrer\" href=\"https://pages.trip.com/service-guideline/privacy-policy-en-xx.html?locale=en-XX&amp;curr=USD\">Privacy Statement</a></li><li class=\"mc-ft__list-item\"><a target=\"_blank\" rel=\"nofollow noopener noreferrer\" href=\"https://group.trip.com/?locale=en-US&amp;curr=USD\">About Trip.com Group</a></li></ul></div><div class=\"mc-ft__block\"><h3 class=\"mc-ft__block-title\">Other Services</h3><ul class=\"mc-ft__link-list\"><li class=\"mc-ft__list-item\"><a target=\"_blank\" rel=\"nofollow noopener noreferrer\" href=\"https://investors.trip.com?locale=en-XX&amp;curr=USD\">Investor Relations</a></li><li class=\"mc-ft__list-item\"><a target=\"_blank\" rel=\"nofollow noopener noreferrer\" href=\"/customer/loyalty/?locale=en-xx&amp;curr=USD\">Trip.com Rewards</a></li><li class=\"mc-ft__list-item\"><a target=\"_blank\" rel=\"nofollow noopener noreferrer\" href=\"/partners/index?locale=en-XX&amp;curr=USD\">Affiliate Program</a></li><li class=\"mc-ft__list-item\"><a target=\"_blank\" rel=\"nofollow noopener noreferrer\" href=\"https://ebooking.trip.com/htbusinesscore/acqjoin?channel=2&amp;locale=en-us&amp;curr=USD\">List Your Property</a></li><li class=\"mc-ft__list-item\"><a target=\"_blank\" rel=\"nofollow noopener noreferrer\" href=\"/hotels/all-cities/?locale=en-xx&amp;curr=USD\">All Hotels</a></li><li class=\"mc-ft__list-item\"><a target=\"_blank\" rel=\"nofollow noopener noreferrer\" href=\"/m/vbooking/home?locale=en-XX&amp;curr=USD\">Become a Supplier</a></li><li class=\"mc-ft__list-item\"><a target=\"_blank\" rel=\"nofollow noopener noreferrer\" href=\"https://src.trip.com/?locale=en-XX&amp;curr=USD#/Home\">Security</a></li></ul></div></div><div class=\"mc-ft__others\"><div class=\"mc-ft__payment\"><div class=\"mc-ft__payment-title\">Payment Methods</div><div class=\"mc-ft__payment-body\"></div></div><div class=\"mc-ft__partner\"><div class=\"mc-ft__partner-title\">Our Partners</div><div class=\"mc-ft__partner-body\"></div></div></div></div><div class=\"mc-ft_awards\"><div class=\"mc-ft_awards-list\"><div class=\"mc-ft_awards-prev fi fi-arrow-left u-hide\"></div><div class=\"mc-ft_awards-next fi fi-arrow-right u-hide\"></div></div></div><div class=\"mc-ft__rights\"><div class=\"mc-ft__copyright-txt\">Copyright \\xc2\\xa9 2024 Trip.com Travel Singapore Pte. Ltd. All rights reserved<br>Site Operator: Trip.com Travel Singapore Pte. Ltd. </div></div></div></div><script>if (typeof Object.assign !== \\'function\\') {window._assignObject = function(t, s) {for (var k in s) { t[k] = s[k] }; return t }; }else { window._assignObject = Object.assign } window.__CARGO_DATA__ = _assignObject(window.__CARGO_DATA__ || {}, {\"onlinefooterlinke0\":\"{\\\\\"about\\\\\":[{\\\\\"show\\\\\":\\\\\"1\\\\\",\\\\\"displayName\\\\\":\\\\\"About Trip.com\\\\\",\\\\\"displayNameSharkKey\\\\\":\\\\\"ButtonText_AboutUs\\\\\",\\\\\"include\\\\\":\\\\\"all\\\\\",\\\\\"link\\\\\":\\\\\"/pages/about-us/\\\\\"},{\\\\\"show\\\\\":\\\\\"1\\\\\",\\\\\"displayName\\\\\":\\\\\"NewsRoom\\\\\",\\\\\"displayNameSharkKey\\\\\":\\\\\"ButtonText_NewsRoom\\\\\",\\\\\"include\\\\\":\\\\\"en_us,zh_hk,en_hk,zh_tw,ja_jp,ko_kr,it_it,vi_vn,ru_ru,id_id,de_de,fr_fr,es_es,th_th,en_au,ms_my,en_gb,en_th,en_id,en_ph\\\\\",\\\\\"link\\\\\":\\\\\"/newsroom/\\\\\"},{\\\\\"show\\\\\":\\\\\"1\\\\\",\\\\\"displayName\\\\\":\\\\\"Newsroom\\\\\",\\\\\"displayNameSharkKey\\\\\":\\\\\"ButtonText_NewsRoom\\\\\",\\\\\"exclude\\\\\":\\\\\"en_us,zh_hk,en_hk,zh_tw,ja_jp,ko_kr,it_it,vi_vn,ru_ru,id_id,de_de,fr_fr,es_es,th_th,en_au,ms_my,en_gb,pt_pt,es_mx,uk_ua,sv_se,da_dk,fi_fi,es_us,en_th,en_id,en_ph,ar_xx,ar_sa,ar_ae\\\\\",\\\\\"link\\\\\":\\\\\"https://www.trip.com/newsroom/?locale=en-xx\\\\\"},{\\\\\"show\\\\\":\\\\\"1\\\\\",\\\\\"displayName\\\\\":\\\\\"Careers\\\\\",\\\\\"displayNameSharkKey\\\\\":\\\\\"ButtonText_Career\\\\\",\\\\\"exclude\\\\\":\\\\\"ar_xx,ar_sa,ar_ae\\\\\",\\\\\"link\\\\\":\\\\\"https://careers.trip.com/\\\\\"},{\\\\\"show\\\\\":\\\\\"1\\\\\",\\\\\"displayName\\\\\":\\\\\"Terms of Use\\\\\",\\\\\"displayNameSharkKey\\\\\":\\\\\"LinkButtonText_TermsAndCondition\\\\\",\\\\\"include\\\\\":\\\\\"all\\\\\",\\\\\"link\\\\\":\\\\\"https://pages.trip.com/service-guideline/terms-${locale}.html\\\\\"},{\\\\\"show\\\\\":\\\\\"1\\\\\",\\\\\"displayName\\\\\":\\\\\"Privacy Statement\\\\\",\\\\\"displayNameSharkKey\\\\\":\\\\\"ButtonText_PrivacyPolicy\\\\\",\\\\\"exclude\\\\\":\\\\\"es_us,es_mx,pt_pt\\\\\",\\\\\"link\\\\\":\\\\\"https://pages.trip.com/service-guideline/privacy-policy-${locale}.html\\\\\"},{\\\\\"show\\\\\":\\\\\"1\\\\\",\\\\\"displayName\\\\\":\\\\\"Impressum\\\\\",\\\\\"displayNameSharkKey\\\\\":\\\\\"ButtonText_Impressum\\\\\",\\\\\"include\\\\\":\\\\\"de_de\\\\\",\\\\\"link\\\\\":\\\\\"https://pages.trip.com/others/impressum-de-de.html\\\\\"},{\\\\\"show\\\\\":\\\\\"1\\\\\",\\\\\"displayName\\\\\":\\\\\"Do not sale my personal information\\\\\",\\\\\"displayNameSharkKey\\\\\":\\\\\"ButtonText_Personalinformation\\\\\",\\\\\"include\\\\\":\\\\\"en_us\\\\\",\\\\\"link\\\\\":\\\\\"https://us.trip.com/pages/treatyforcookie/\\\\\"},{\\\\\"show\\\\\":\\\\\"1\\\\\",\\\\\"displayName\\\\\":\\\\\"Trip.com Group\\\\\",\\\\\"displayNameSharkKey\\\\\":\\\\\"ButtonText_TripGroup\\\\\",\\\\\"include\\\\\":\\\\\"zh_hk,zh_tw\\\\\",\\\\\"link\\\\\":\\\\\"https://group.trip.com/?locale=zh-HK\\\\\"},{\\\\\"show\\\\\":\\\\\"1\\\\\",\\\\\"displayName\\\\\":\\\\\"Trip.com Group\\\\\",\\\\\"displayNameSharkKey\\\\\":\\\\\"ButtonText_TripGroup\\\\\",\\\\\"exclude\\\\\":\\\\\"zh_hk,zh_tw\\\\\",\\\\\"link\\\\\":\\\\\"https://group.trip.com/?locale=en-US\\\\\"}],\\\\\"otherServices\\\\\":[{\\\\\"show\\\\\":\\\\\"1\\\\\",\\\\\"displayName\\\\\":\\\\\"Investor Relations\\\\\",\\\\\"displayNameSharkKey\\\\\":\\\\\"ButtonText_InvestorRelations\\\\\",\\\\\"include\\\\\":\\\\\"all\\\\\",\\\\\"link\\\\\":\\\\\"https://investors.trip.com\\\\\"},{\\\\\"show\\\\\":\\\\\"1\\\\\",\\\\\"displayName\\\\\":\\\\\"TripPLUS\\\\\",\\\\\"displayNameSharkKey\\\\\":\\\\\"ButtonText_TripPlus\\\\\",\\\\\"exclude\\\\\":\\\\\"pt_pt,es_mx,uk_ua,sv_se,da_dk,fi_fi,es_us,ar_xx,ar_sa,ar_ae\\\\\",\\\\\"link\\\\\":\\\\\"/customer/loyalty/?locale=${locale}\\\\\"},{\\\\\"show\\\\\":\\\\\"0\\\\\",\\\\\"displayName\\\\\":\\\\\"Partners\\\\\",\\\\\"displayNameSharkKey\\\\\":\\\\\"ButtonText_Affiliate_trip\\\\\",\\\\\"exclude\\\\\":\\\\\"zh_tw\\\\\",\\\\\"link\\\\\":\\\\\"/pages/partners\\\\\"},{\\\\\"show\\\\\":\\\\\"1\\\\\",\\\\\"displayName\\\\\":\\\\\"Partners\\\\\",\\\\\"displayNameSharkKey\\\\\":\\\\\"ButtonText_Affiliate_trip\\\\\",\\\\\"include\\\\\":\\\\\"en_xx,zh_hk,ko_kr,ja_jp,ru_ru,th_th,en_th,en_ph,en_in,en_pk\\\\\",\\\\\"link\\\\\":\\\\\"/partners/index\\\\\"},{\\\\\"show\\\\\":\\\\\"1\\\\\",\\\\\"displayName\\\\\":\\\\\"Partners\\\\\",\\\\\"displayNameSharkKey\\\\\":\\\\\"ButtonText_Affiliate_trip\\\\\",\\\\\"exclude\\\\\":\\\\\"en_xx,zh_hk,ko_kr,ja_jp,ru_ru,th_th,en_th,en_ph,ar_xx,ar_sa,ar_ae,en_in,en_pk\\\\\",\\\\\"link\\\\\":\\\\\"https://www.trip.com/partners/index\\\\\"},{\\\\\"show\\\\\":\\\\\"1\\\\\",\\\\\"displayName\\\\\":\\\\\"List My Hotel\\\\\",\\\\\"displayNameSharkKey\\\\\":\\\\\"LinkButtonText_Listyourhotel\\\\\",\\\\\"include\\\\\":\\\\\"en_be,fr_ch,en_ch,fr_be,nl_be,de_ch,de_at,en_ie,en_xx,en_nz,en_il,en_sa,en_ae,en_us,nl_nl,el_gr,pt_br,tr_tr,pl_pl,en_th,en_my,en_id,zh_sg,en_gb,it_it,tl_ph,en_au,ms_my,en_sg,en_hk,ru_ru,es_es,de_de,fr_fr,en_ph,en_in,en_pk\\\\\",\\\\\"link\\\\\":\\\\\"https://ebooking.trip.com/htbusinesscore/acqjoin?channel=2&locale=${locale}\\\\\",\\\\\"linkLocale\\\\\":\\\\\"en-US\\\\\"},{\\\\\"show\\\\\":\\\\\"1\\\\\",\\\\\"displayName\\\\\":\\\\\"List My Hotel\\\\\",\\\\\"displayNameSharkKey\\\\\":\\\\\"LinkButtonText_Listyourhotel\\\\\",\\\\\"include\\\\\":\\\\\"zh_hk\\\\\",\\\\\"link\\\\\":\\\\\"https://ebooking.trip.com/htbusinesscore/acqjoin?channel=2&locale=zh-HK\\\\\"},{\\\\\"show\\\\\":\\\\\"1\\\\\",\\\\\"displayName\\\\\":\\\\\"List My Hotel\\\\\",\\\\\"displayNameSharkKey\\\\\":\\\\\"LinkButtonText_Listyourhotel\\\\\",\\\\\"include\\\\\":\\\\\"zh_tw\\\\\",\\\\\"link\\\\\":\\\\\"https://ebooking.trip.com/htbusinesscore/acqjoin?channel=2&locale=zh-TW\\\\\"},{\\\\\"show\\\\\":\\\\\"1\\\\\",\\\\\"displayName\\\\\":\\\\\"List My Hotel\\\\\",\\\\\"displayNameSharkKey\\\\\":\\\\\"LinkButtonText_Listyourhotel\\\\\",\\\\\"include\\\\\":\\\\\"ja_jp\\\\\",\\\\\"link\\\\\":\\\\\"https://ebooking.trip.com/htbusinesscore/acqjoin?channel=2&locale=ja-JP\\\\\"},{\\\\\"show\\\\\":\\\\\"1\\\\\",\\\\\"displayName\\\\\":\\\\\"List My Hotel\\\\\",\\\\\"displayNameSharkKey\\\\\":\\\\\"LinkButtonText_Listyourhotel\\\\\",\\\\\"include\\\\\":\\\\\"ko_kr\\\\\",\\\\\"link\\\\\":\\\\\"https://ebooking.trip.com/htbusinesscore/acqjoin?channel=2&locale=ko-KR\\\\\"},{\\\\\"show\\\\\":\\\\\"1\\\\\",\\\\\"displayName\\\\\":\\\\\"List My Hotel\\\\\",\\\\\"displayNameSharkKey\\\\\":\\\\\"LinkButtonText_Listyourhotel\\\\\",\\\\\"include\\\\\":\\\\\"vi_vn\\\\\",\\\\\"link\\\\\":\\\\\"https://ebooking.trip.com/htbusinesscore/acqjoin?channel=2&locale=vi-VN\\\\\"},{\\\\\"show\\\\\":\\\\\"1\\\\\",\\\\\"displayName\\\\\":\\\\\"List My Hotel\\\\\",\\\\\"displayNameSharkKey\\\\\":\\\\\"LinkButtonText_Listyourhotel\\\\\",\\\\\"include\\\\\":\\\\\"id_id\\\\\",\\\\\"link\\\\\":\\\\\"https://ebooking.trip.com/htbusinesscore/acqjoin?channel=2&locale=id-ID\\\\\"},{\\\\\"show\\\\\":\\\\\"1\\\\\",\\\\\"displayName\\\\\":\\\\\"List My Hotel\\\\\",\\\\\"displayNameSharkKey\\\\\":\\\\\"LinkButtonText_Listyourhotel\\\\\",\\\\\"include\\\\\":\\\\\"th_th\\\\\",\\\\\"link\\\\\":\\\\\"https://ebooking.trip.com/htbusinesscore/acqjoin?channel=2&locale=th-TH\\\\\"},{\\\\\"show\\\\\":\\\\\"1\\\\\",\\\\\"displayName\\\\\":\\\\\"Hotel Cities\\\\\",\\\\\"displayNameSharkKey\\\\\":\\\\\"LinkButtonText_ListHotelCities\\\\\",\\\\\"include\\\\\":\\\\\"en_us,zh_hk,en_hk,ja_jp,ko_kr,en_sg,en_au,en_xx,en_in,en_pk\\\\\",\\\\\"link\\\\\":\\\\\"/hotels/all-cities/?locale=${locale}\\\\\"},{\\\\\"show\\\\\":\\\\\"1\\\\\",\\\\\"displayName\\\\\":\\\\\"VBooking\\\\\",\\\\\"displayNameSharkKey\\\\\":\\\\\"LinkButtonText_VBooking\\\\\",\\\\\"include\\\\\":\\\\\"en_gb,th_th,en_sg,en_my,ko_kr,ja_jp,en_hk,en_xx,en_us,en_au,en_nz,en_th,en_ph,en_in,en_pk\\\\\",\\\\\"link\\\\\":\\\\\"/m/vbooking/home\\\\\"},{\\\\\"show\\\\\":\\\\\"1\\\\\",\\\\\"displayName\\\\\":\\\\\"Security\\\\\",\\\\\"displayNameSharkKey\\\\\":\\\\\"ButtonText_Security\\\\\",\\\\\"exclude\\\\\":\\\\\"ar_xx,ar_sa,ar_ae\\\\\",\\\\\"link\\\\\":\\\\\"https://src.trip.com/#/Home\\\\\"}],\\\\\"contactUs\\\\\":[{\\\\\"show\\\\\":\\\\\"1\\\\\",\\\\\"displayName\\\\\":\\\\\"Customer Support\\\\\",\\\\\"displayNameSharkKey\\\\\":\\\\\"ButtonText_CustomerServiceHelp\\\\\",\\\\\"include\\\\\":\\\\\"all\\\\\",\\\\\"link\\\\\":\\\\\"/pages/support/\\\\\"},{\\\\\"show\\\\\":\\\\\"1\\\\\",\\\\\"displayName\\\\\":\\\\\"Customer Service\\\\\",\\\\\"displayNameSharkKey\\\\\":\\\\\"ButtonText_CustomerService\\\\\",\\\\\"include\\\\\":\\\\\"all\\\\\",\\\\\"link\\\\\":\\\\\"/pages/customer-service/\\\\\"},{\\\\\"show\\\\\":\\\\\"1\\\\\",\\\\\"displayName\\\\\":\\\\\"Travel Safety Guide\\\\\",\\\\\"displayNameSharkKey\\\\\":\\\\\"LinkButtonText_SafetyGuide\\\\\",\\\\\"include\\\\\":\\\\\"ja_jp\\\\\",\\\\\"link\\\\\":\\\\\"https://www.anzen.mofa.go.jp/\\\\\"},{\\\\\"show\\\\\":\\\\\"1\\\\\",\\\\\"displayName\\\\\":\\\\\"ServiceUSP\\\\\",\\\\\"displayNameSharkKey\\\\\":\\\\\"ButtonText_ServiceUSP\\\\\",\\\\\"include\\\\\":\\\\\"all\\\\\",\\\\\"link\\\\\":\\\\\"/pages/service/\\\\\"},{\\\\\"show\\\\\":\\\\\"1\\\\\",\\\\\"displayName\\\\\":\\\\\"Website Feedback\\\\\",\\\\\"displayNameSharkKey\\\\\":\\\\\"LinkButtonText_FeedBack\\\\\",\\\\\"include\\\\\":\\\\\"all\\\\\",\\\\\"link\\\\\":\\\\\"/feedback/\\\\\"}]}\",\"locale\":\"en-XX\",\"socialmediacenxxe0\":\"[{\\\\\"name\\\\\":\\\\\"facebook\\\\\",\\\\\"onlineIconUrl\\\\\":\\\\\"https://ak-d.tripcdn.com/images/05E2j12000cjsihpq0418.png\\\\\",\\\\\"h5IconUrl\\\\\":\\\\\"https://ak-d.tripcdn.com/images/05E1z12000cjsg7zuB5C8.png\\\\\",\\\\\"link\\\\\":\\\\\"https://www.facebook.com/Trip/\\\\\"},{\\\\\"name\\\\\":\\\\\"x\\\\\",\\\\\"onlineIconUrl\\\\\":\\\\\"https://ak-d.tripcdn.com/images/05E5k12000cjsg4e48D91.png\\\\\",\\\\\"h5IconUrl\\\\\":\\\\\"https://ak-d.tripcdn.com/images/05E5n12000cjsfs8m325A.png\\\\\",\\\\\"link\\\\\":\\\\\"https://twitter.com/Trip/\\\\\"},{\\\\\"name\\\\\":\\\\\"youtube\\\\\",\\\\\"onlineIconUrl\\\\\":\\\\\"https://ak-d.tripcdn.com/images/05E2z12000cjsfsqb7A2B.png\\\\\",\\\\\"h5IconUrl\\\\\":\\\\\"https://ak-d.tripcdn.com/images/05E2y12000cjsfqnyBCD8.png\\\\\",\\\\\"link\\\\\":\\\\\"https://www.youtube.com/c/TripOfficial/\\\\\"}]\",\"paymentmethodcenxxe0\":\"[{\\\\\"name\\\\\":\\\\\"alipay-hk\\\\\",\\\\\"iconUrl\\\\\":\\\\\"https://ak-d.tripcdn.com/images/05E1b12000cjsr2fbBE05.png\\\\\"},{\\\\\"name\\\\\":\\\\\"visa\\\\\",\\\\\"iconUrl\\\\\":\\\\\"https://ak-d.tripcdn.com/images/05E2712000cjsr5ul9716.png\\\\\"},{\\\\\"name\\\\\":\\\\\"master-card\\\\\",\\\\\"iconUrl\\\\\":\\\\\"https://ak-d.tripcdn.com/images/05E0f12000cjsr2f9AAAB.png\\\\\"},{\\\\\"name\\\\\":\\\\\"american-express\\\\\",\\\\\"iconUrl\\\\\":\\\\\"https://ak-d.tripcdn.com/images/05E3y12000cjsr5u9D4F1.png\\\\\"},{\\\\\"name\\\\\":\\\\\"apple-pay\\\\\",\\\\\"iconUrl\\\\\":\\\\\"https://ak-d.tripcdn.com/images/05E0u12000cjsqynr567B.png\\\\\"},{\\\\\"name\\\\\":\\\\\"paypal\\\\\",\\\\\"iconUrl\\\\\":\\\\\"https://ak-d.tripcdn.com/images/05E4f12000cjsqzn4B29D.png\\\\\"},{\\\\\"name\\\\\":\\\\\"gcash\\\\\",\\\\\"iconUrl\\\\\":\\\\\"https://dimg04.tripcdn.com/images/05E5612000eky68ktCEC1.png\\\\\"},{\\\\\"name\\\\\":\\\\\"wechat-pay\\\\\",\\\\\"iconUrl\\\\\":\\\\\"https://ak-d.tripcdn.com/images/05E5r12000cjsr2fl083B.png\\\\\"},{\\\\\"name\\\\\":\\\\\"samsung-pay\\\\\",\\\\\"iconUrl\\\\\":\\\\\"https://ak-d.tripcdn.com/images/05E3312000cjsr2ff20BF.png\\\\\"},{\\\\\"name\\\\\":\\\\\"google-pay\\\\\",\\\\\"iconUrl\\\\\":\\\\\"https://ak-d.tripcdn.com/images/05E6a12000cr9d3n66F03.png\\\\\"},{\\\\\"name\\\\\":\\\\\"fpx\\\\\",\\\\\"iconUrl\\\\\":\\\\\"https://dimg04.tripcdn.com/images/05E1y12000ekydvxiBB4B.png\\\\\"}]\",\"businesspartnercenxxe0\":\"[{\\\\\"logo\\\\\":\\\\\"https://ak-d.tripcdn.com/images/05E6e12000cjso3ro7BEE.png\\\\\",\\\\\"name\\\\\":\\\\\"GOOGLE\\\\\"},{\\\\\"logo\\\\\":\\\\\"https://ak-d.tripcdn.com/images/05E4f12000cjsls8g082A.png\\\\\",\\\\\"name\\\\\":\\\\\"TRIPADVISOR\\\\\"}]\",\"sisterbrandcenxxe0\":\"\",\"awardscenxxe0\":\"[{\\\\\"awardLogo\\\\\":\\\\\"https://ak-d.tripcdn.com/images/05E4v12000cjd4sy511F3_R_40_40.png_.webp\\\\\",\\\\\"awardTxt\\\\\":\\\\\"Contact Center of the year 2022\\\\\"},{\\\\\"awardLogo\\\\\":\\\\\"https://ak-d.tripcdn.com/images/05E2r12000cjd4pns56D7.png\\\\\",\\\\\"awardTxt\\\\\":\\\\\"Google Material Design Awards 2019\\\\\"}]\"})</script></div><div id=\"modals\"></div><script>__APP_INITIAL_STATE__ = {\"site\":{\"host\":\"www.trip.com\",\"standardLocale\":\"en-XX\",\"language\":\"en\",\"locale\":\"en-XX\",\"currency\":\"USD\",\"group\":\"Trip\",\"site\":\"EN\"},\"pageId\":\"10320668088\",\"pageName\":\"onlineHome\",\"estimateInfo\":{\"newVisitor\":true,\"notLogin\":true,\"guestLogin\":false},\"isSupportWebp\":false,\"regionInfo\":{\"isCN\":false},\"onlineHeaderImage\":{},\"uaInfo\":{\"isBot\":true,\"isChrome\":false,\"isSafari\":false,\"isIE\":true,\"type\":\"ONLINE\"},\"interfaceState\":true,\"newGuestInfo\":{\"aid\":\"\",\"sid\":\"\"},\"accountSDKABTestResult\":\"M:-1,231218_IBU_OHS:A;\",\"channels\":[{\"id\":\"hotels\",\"name\":\"hotels\",\"icon_class\":\"fi-hotel\",\"module_name\":\"modHotelsSearchBoxV2\",\"i18n_key\":\"LabelText_Home_SearchBox_Hotel\",\"locales\":\"*\",\"open_state\":true},{\"id\":\"flights\",\"name\":\"flights\",\"icon_class\":\"fi-flight\",\"module_name\":\"modFlightsSearchBoxV2\",\"i18n_key\":\"LabelText_Home_SearchBox_Flight\",\"locales\":\"*\",\"open_state\":true},{\"id\":\"trains\",\"name\":\"trains\",\"i18n_key\":\"LabelText_Home_SearchBox_Train\",\"module_name\":\"trainsSearchBox\",\"icon_class\":\"fi-train\",\"locales\":\"*\",\"open_state\":true},{\"id\":\"cars\",\"name\":\"\",\"i18n_key\":\"key_cars\",\"icon_class\":\"fi-car\",\"sub_channels\":[{\"name\":\"carhire\",\"icon_class\":\"fi-car\",\"module_name\":\"modCarsSearchBox\",\"i18n_key\":\"Car_Hire\",\"locales\":[\"en_hk\",\"zh_hk\",\"en_us\",\"en_au\",\"en_gb\",\"ko_kr\",\"ja_jp\",\"en_xx\",\"zh_tw\",\"en_ca\",\"en_nz\",\"en_my\",\"en_sa\",\"en_ae\",\"en_sg\",\"en_ie\",\"en_be\",\"es_es\",\"it_it\",\"es_mx\",\"es_us\",\"fr_ch\",\"fr_be\",\"fr_fr\",\"th_th\",\"de_de\",\"de_at\",\"de_ch\",\"en_th\",\"en_id\",\"en_ph\",\"nl_nl\",\"nl_be\",\"pt_pt\",\"pt_br\",\"tr_tr\",\"en_il\"],\"open_state\":true},{\"name\":\"transfer\",\"icon_class\":\"fi-airport-transfer\",\"module_name\":\"modAirportSearchBoxV3\",\"i18n_key\":\"Airport_Transfer\",\"locales\":[\"en_hk\",\"zh_hk\",\"en_us\",\"en_au\",\"en_gb\",\"en_my\",\"ko_kr\",\"ja_jp\",\"en_xx\",\"en_sg\",\"zh_tw\",\"en_th\",\"en_ph\",\"en_id\",\"en_ca\",\"en_nz\",\"en_ie\",\"en_be\",\"en_ch\",\"en_ae\",\"en_il\",\"en_sa\",\"en_in\",\"en_pk\"],\"open_state\":true}]},{\"id\":\"ttd\",\"name\":\"ttd\",\"icon_class\":\"fi-tnt\",\"module_name\":\"modThingToDoSearchBox\",\"i18n_key\":\"LabelText_Home_SearchBox_TTD\",\"locales\":[\"zh_hk\",\"zh_tw\",\"ja_jp\",\"ko_kr\",\"en_us\",\"en_hk\",\"en_gb\",\"en_sg\",\"en_my\",\"en_au\",\"en_xx\",\"en_il\",\"en_sa\",\"en_ae\",\"en_ie\",\"en_ch\",\"en_be\",\"en_ph\",\"en_id\",\"en_th\",\"ms_my\",\"vi_vn\",\"de_de\",\"de_ch\",\"de_at\",\"fr_fr\",\"fr_ch\",\"fr_be\",\"es_es\",\"es_us\",\"es_mx\",\"nl_nl\",\"nl_be\",\"it_it\",\"en_ca\"],\"open_state\":true},{\"id\":\"bundle\",\"name\":\"bundle\",\"icon_class\":\"fi-bundle\",\"module_name\":\"modBundleBox\",\"i18n_key\":\"LabelText_Home_SearchBox_Bundle\",\"locales\":[\"en_xx\",\"en_au\",\"en_my\",\"en_sg\",\"th_th\",\"en_th\",\"en_us\",\"ja_jp\",\"en_gb\",\"en_hk\",\"zh_hk\",\"ko_kr\",\"vi_vn\",\"zh_tw\",\"de_de\",\"en_nz\",\"fr_fr\",\"en_id\",\"id_id\",\"en_in\",\"en_pk\"],\"open_state\":true}],\"sketchSlogan\":[{\"title\":\"Tried and Trusted\",\"subTitle\":\"We\\'re trusted worldwide by 400 million travellers just like you.\",\"icon\":\"https://pages.trip.com/images/sketch-slogan/tried-trusted.png\"},{\"title\":\"Your One-stop Travel Partner\",\"subTitle\":\"Your search ends here. We\\'ve got your entire trip covered!\",\"icon\":\"https://pages.trip.com/images/sketch-slogan/one-stop.png\"},{\"title\":\"Reliable Support\",\"subTitle\":\"We\\'re here for you. Reach out to us anytime by phone, email, or chat.\",\"icon\":\"https://pages.trip.com/images/sketch-slogan/reliable-support.png\"}],\"searchTagConfig\":{},\"gotopSaleConfig\":{},\"promotionBannerConfig\":{},\"quicFrameConfig\":{\"ip\":\"43.226.116.6\"},\"seoLinksContent\":{\"ResponseStatus\":{\"Timestamp\":\"/Date(1720405078904+0800)/\",\"Ack\":\"Success\",\"Errors\":[],\"Extension\":[{\"Id\":\"CLOGGING_TRACE_ID\",\"Value\":\"920d9bcf-6f11-44e1-9ad7-d309dcbd1fd1\"},{\"Id\":\"RootMessageId\",\"Value\":\"100014416-0a9346e7-477890-219305\"}]},\"data\":{\"className\":\"m-64-48\",\"title\":\"Trip.com Recommendations\",\"tabList\":[{\"text\":\"Popular Flights\",\"linkType\":\"SHORT_LINK\",\"linkListProps\":{\"links\":[{\"link\":\"https://www.trip.com/flights/cairo-to-jeddah/airfares-cai-jed/\",\"keyword\":\"Flights from Cairo to Jeddah\",\"pictureUrl\":\"\",\"ruleName\":\"\",\"channel\":\"home\",\"text\":\"Flights from Cairo to Jeddah\"},{\"link\":\"https://www.trip.com/flights/dubai-to-riyadh/airfares-dxb-ruh/\",\"keyword\":\"Flights from Dubai to Riyadh\",\"pictureUrl\":\"\",\"ruleName\":\"\",\"channel\":\"home\",\"text\":\"Flights from Dubai to Riyadh\"},{\"link\":\"https://www.trip.com/flights/london-to-new-york/airfares-lon-nyc/\",\"keyword\":\"Flights from London to New York\",\"pictureUrl\":\"\",\"ruleName\":\"\",\"channel\":\"home\",\"text\":\"Flights from London to New York\"},{\"link\":\"https://www.trip.com/flights/london-to-dubai/airfares-lon-dxb/\",\"keyword\":\"Flights from London to Dubai\",\"pictureUrl\":\"\",\"ruleName\":\"\",\"channel\":\"home\",\"text\":\"Flights from London to Dubai\"},{\"link\":\"https://www.trip.com/flights/kuala-lumpur-to-singapore/airfares-kul-sin/\",\"keyword\":\"Flights from Kuala Lumpur to Singapore\",\"pictureUrl\":\"\",\"ruleName\":\"\",\"channel\":\"home\",\"text\":\"Flights from Kuala Lumpur to Singapore\"},{\"link\":\"https://www.trip.com/flights/dubai-to-jeddah/airfares-dxb-jed/\",\"keyword\":\"Flights from Dubai to Jeddah\",\"pictureUrl\":\"\",\"ruleName\":\"\",\"channel\":\"home\",\"text\":\"Flights from Dubai to Jeddah\"},{\"link\":\"https://www.trip.com/flights/orlando-to-san-juan/airfares-orl-sju/\",\"keyword\":\"Flights from Orlando to San Juan\",\"pictureUrl\":\"\",\"ruleName\":\"\",\"channel\":\"home\",\"text\":\"Flights from Orlando to San Juan\"},{\"link\":\"https://www.trip.com/flights/dubai-to-mumbai/airfares-dxb-bom/\",\"keyword\":\"Flights from Dubai to Mumbai\",\"pictureUrl\":\"\",\"ruleName\":\"\",\"channel\":\"home\",\"text\":\"Flights from Dubai to Mumbai\"},{\"link\":\"https://www.trip.com/flights/cairo-to-riyadh/airfares-cai-ruh/\",\"keyword\":\"Flights from Cairo to Riyadh\",\"pictureUrl\":\"\",\"ruleName\":\"\",\"channel\":\"home\",\"text\":\"Flights from Cairo to Riyadh\"},{\"link\":\"https://www.trip.com/flights/dubai-to-delhi/airfares-dxb-del/\",\"keyword\":\"Flights from Dubai to Delhi\",\"pictureUrl\":\"\",\"ruleName\":\"\",\"channel\":\"home\",\"text\":\"Flights from Dubai to Delhi\"},{\"link\":\"https://www.trip.com/flights/bangkok-to-chiang-mai/airfares-bkk-cnx/\",\"keyword\":\"Flights from Bangkok to Chiang Mai\",\"pictureUrl\":\"\",\"ruleName\":\"\",\"channel\":\"home\",\"text\":\"Flights from Bangkok to Chiang Mai\"},{\"link\":\"https://www.trip.com/flights/bangkok-to-phuket/airfares-bkk-hkt/\",\"keyword\":\"Flights from Bangkok to Phuket\",\"pictureUrl\":\"\",\"ruleName\":\"\",\"channel\":\"home\",\"text\":\"Flights from Bangkok to Phuket\"},{\"link\":\"https://www.trip.com/flights/shanghai-to-beijing/airfares-sha-bjs/\",\"keyword\":\"Flights from Shanghai to Beijing\",\"pictureUrl\":\"\",\"ruleName\":\"\",\"channel\":\"home\",\"text\":\"Flights from Shanghai to Beijing\"},{\"link\":\"https://www.trip.com/flights/sanya-to-shanghai/airfares-syx-sha/\",\"keyword\":\"Flights from Sanya to Shanghai\",\"pictureUrl\":\"\",\"ruleName\":\"\",\"channel\":\"home\",\"text\":\"Flights from Sanya to Shanghai\"},{\"link\":\"https://www.trip.com/flights/guangzhou-to-shanghai/airfares-can-sha/\",\"keyword\":\"Flights from Guangzhou to Shanghai\",\"pictureUrl\":\"\",\"ruleName\":\"\",\"channel\":\"home\",\"text\":\"Flights from Guangzhou to Shanghai\"},{\"link\":\"https://www.trip.com/flights/tokyo-to-seoul/airfares-tyo-sel/\",\"keyword\":\"Flights from Tokyo to Seoul\",\"pictureUrl\":\"\",\"ruleName\":\"\",\"channel\":\"home\",\"text\":\"Flights from Tokyo to Seoul\"},{\"link\":\"https://www.trip.com/flights/cape-town-to-johannesburg/airfares-cpt-jnb/\",\"keyword\":\"Flights from Cape Town to Johannesburg\",\"pictureUrl\":\"\",\"ruleName\":\"\",\"channel\":\"home\",\"text\":\"Flights from Cape Town to Johannesburg\"},{\"link\":\"https://www.trip.com/flights/toronto-to-delhi/airfares-yto-del/\",\"keyword\":\"Flights from Toronto to Delhi\",\"pictureUrl\":\"\",\"ruleName\":\"\",\"channel\":\"home\",\"text\":\"Flights from Toronto to Delhi\"},{\"link\":\"https://www.trip.com/flights/bangalore-to-delhi/airfares-blr-del/\",\"keyword\":\"Flights from Bangalore to Delhi\",\"pictureUrl\":\"\",\"ruleName\":\"\",\"channel\":\"home\",\"text\":\"Flights from Bangalore to Delhi\"},{\"link\":\"https://www.trip.com/flights/edinburgh-to-london/airfares-edi-lon/\",\"keyword\":\"Flights from Edinburgh to London\",\"pictureUrl\":\"\",\"ruleName\":\"\",\"channel\":\"home\",\"text\":\"Flights from Edinburgh to London\"}]},\"extraData\":{}},{\"text\":\"Featured Hotel Destinations\",\"linkType\":\"SHORT_LINK\",\"linkListProps\":{\"links\":[{\"link\":\"https://www.trip.com/hotels/shanghai-hotels-list-2/\",\"keyword\":\"Best Hotels in Shanghai\",\"pictureUrl\":\"\",\"ruleName\":\"\",\"channel\":\"home\",\"text\":\"Best Hotels in Shanghai\"},{\"link\":\"https://www.trip.com/hotels/hong-kong-hotels-list-58/\",\"keyword\":\"Best Hotels in Hong Kong\",\"pictureUrl\":\"\",\"ruleName\":\"\",\"channel\":\"home\",\"text\":\"Best Hotels in Hong Kong\"},{\"link\":\"https://www.trip.com/hotels/macau-hotels-list-59/\",\"keyword\":\"Best Hotels in Macau\",\"pictureUrl\":\"\",\"ruleName\":\"\",\"channel\":\"home\",\"text\":\"Best Hotels in Macau\"},{\"link\":\"https://www.trip.com/hotels/bangkok-hotels-list-359/\",\"keyword\":\"Best Hotels in Bangkok\",\"pictureUrl\":\"\",\"ruleName\":\"\",\"channel\":\"home\",\"text\":\"Best Hotels in Bangkok\"},{\"link\":\"https://www.trip.com/hotels/singapore-hotels-list-73/\",\"keyword\":\"Best Hotels in Singapore\",\"pictureUrl\":\"\",\"ruleName\":\"\",\"channel\":\"home\",\"text\":\"Best Hotels in Singapore\"},{\"link\":\"https://www.trip.com/hotels/dubai-hotels-list-220/\",\"keyword\":\"Best Hotels in Dubai\",\"pictureUrl\":\"\",\"ruleName\":\"\",\"channel\":\"home\",\"text\":\"Best Hotels in Dubai\"},{\"link\":\"https://www.trip.com/hotels/sanya-hotels-list-43/\",\"keyword\":\"Best Hotels in Sanya\",\"pictureUrl\":\"\",\"ruleName\":\"\",\"channel\":\"home\",\"text\":\"Best Hotels in Sanya\"},{\"link\":\"https://www.trip.com/hotels/beijing-hotels-list-1/\",\"keyword\":\"Best Hotels in Beijing\",\"pictureUrl\":\"\",\"ruleName\":\"\",\"channel\":\"home\",\"text\":\"Best Hotels in Beijing\"},{\"link\":\"https://www.trip.com/hotels/guangzhou-hotels-list-32/\",\"keyword\":\"Best Hotels in Guangzhou\",\"pictureUrl\":\"\",\"ruleName\":\"\",\"channel\":\"home\",\"text\":\"Best Hotels in Guangzhou\"},{\"link\":\"https://www.trip.com/hotels/shenzhen-hotels-list-30/\",\"keyword\":\"Best Hotels in Shenzhen\",\"pictureUrl\":\"\",\"ruleName\":\"\",\"channel\":\"home\",\"text\":\"Best Hotels in Shenzhen\"},{\"link\":\"https://www.trip.com/hotels/las-vegas-hotels-list-26282/\",\"keyword\":\"Best Hotels in Las Vegas\",\"pictureUrl\":\"\",\"ruleName\":\"\",\"channel\":\"home\",\"text\":\"Best Hotels in Las Vegas\"},{\"link\":\"https://www.trip.com/hotels/london-hotels-list-338/\",\"keyword\":\"Best Hotels in London\",\"pictureUrl\":\"\",\"ruleName\":\"\",\"channel\":\"home\",\"text\":\"Best Hotels in London\"},{\"link\":\"https://www.trip.com/hotels/san-diego-hotels-list-698/\",\"keyword\":\"Best Hotels in San Diego\",\"pictureUrl\":\"\",\"ruleName\":\"\",\"channel\":\"home\",\"text\":\"Best Hotels in San Diego\"},{\"link\":\"https://www.trip.com/hotels/chicago-hotels-list-549/\",\"keyword\":\"Best Hotels in Chicago\",\"pictureUrl\":\"\",\"ruleName\":\"\",\"channel\":\"home\",\"text\":\"Best Hotels in Chicago\"},{\"link\":\"https://www.trip.com/hotels/new-york-hotels-list-633/\",\"keyword\":\"Best Hotels in New York\",\"pictureUrl\":\"\",\"ruleName\":\"\",\"channel\":\"home\",\"text\":\"Best Hotels in New York\"},{\"link\":\"https://www.trip.com/hotels/paris-hotels-list-192/\",\"keyword\":\"Best Hotels in Paris\",\"pictureUrl\":\"\",\"ruleName\":\"\",\"channel\":\"home\",\"text\":\"Best Hotels in Paris\"},{\"link\":\"https://www.trip.com/hotels/rome-hotels-list-343/\",\"keyword\":\"Best Hotels in Rome\",\"pictureUrl\":\"\",\"ruleName\":\"\",\"channel\":\"home\",\"text\":\"Best Hotels in Rome\"},{\"link\":\"https://www.trip.com/hotels/edinburgh-hotels-list-706/\",\"keyword\":\"Best Hotels in Edinburgh\",\"pictureUrl\":\"\",\"ruleName\":\"\",\"channel\":\"home\",\"text\":\"Best Hotels in Edinburgh\"},{\"link\":\"https://www.trip.com/hotels/boston-hotels-list-26848/\",\"keyword\":\"Best Hotels in Boston\",\"pictureUrl\":\"\",\"ruleName\":\"\",\"channel\":\"home\",\"text\":\"Best Hotels in Boston\"},{\"link\":\"https://www.trip.com/hotels/nashville-hotels-list-3228/\",\"keyword\":\"Best Hotels in Nashville\",\"pictureUrl\":\"\",\"ruleName\":\"\",\"channel\":\"home\",\"text\":\"Best Hotels in Nashville\"}]},\"extraData\":{}},{\"text\":\"Featured Guides\",\"linkType\":\"SHORT_LINK\",\"linkListProps\":{\"links\":[{\"link\":\"https://www.trip.com/guide/transport/jr-pass.html\",\"keyword\":\"JR Pass Guide\",\"pictureUrl\":\"\",\"ruleName\":\"\",\"channel\":\"home\",\"text\":\"JR Pass Guide\"},{\"link\":\"https://www.trip.com/guide/phone/esim-guide.html\",\"keyword\":\"eSIM Guide for Tourists\",\"pictureUrl\":\"\",\"ruleName\":\"\",\"channel\":\"home\",\"text\":\"eSIM Guide for Tourists\"},{\"link\":\"https://www.trip.com/toplist/tripbest/annual/global-100001427268/\",\"keyword\":\"Trip.Best 2024 Global 100\",\"pictureUrl\":\"\",\"ruleName\":\"\",\"channel\":\"home\",\"text\":\"Trip.Best 2024 Global 100\"},{\"link\":\"https://www.trip.com/toplist/tripbest/bangkok-best-things-to-do-111000000191/\",\"keyword\":\"Best Things to do in Bangkok\",\"pictureUrl\":\"\",\"ruleName\":\"\",\"channel\":\"home\",\"text\":\"Best Things to do in Bangkok\"},{\"link\":\"https://www.trip.com/hot/tourist-guide/china-visa-free-transit.html\",\"keyword\":\"China 24/72/144-Hour Visa Free Transit\",\"pictureUrl\":\"\",\"ruleName\":\"\",\"channel\":\"home\",\"text\":\"China 24/72/144-Hour Visa Free Transit\"},{\"link\":\"https://www.trip.com/hot/tourist-guide/shanghai-visa-free-transit.html\",\"keyword\":\"Shanghai 24/144-Hour Visa Free Transit\",\"pictureUrl\":\"\",\"ruleName\":\"\",\"channel\":\"home\",\"text\":\"Shanghai 24/144-Hour Visa Free Transit\"},{\"link\":\"https://www.trip.com/hot/package/tokyo-vacation.html\",\"keyword\":\"Tokyo Vacation\",\"pictureUrl\":\"\",\"ruleName\":\"\",\"channel\":\"home\",\"text\":\"Tokyo Vacation\"},{\"link\":\"https://www.trip.com/guide/attraction/universal-studios-locations.html\",\"keyword\":\"Universal Studios Locations\",\"pictureUrl\":\"\",\"ruleName\":\"\",\"channel\":\"home\",\"text\":\"Universal Studios Locations\"},{\"link\":\"https://www.trip.com/guide/attraction/disney-locations.html\",\"keyword\":\"Disney Parks & Disneylands\",\"pictureUrl\":\"\",\"ruleName\":\"\",\"channel\":\"home\",\"text\":\"Disney Parks & Disneylands\"},{\"link\":\"https://www.trip.com/toplist/tripbest/bangkok-best-bars-100900005313/\",\"keyword\":\"Best Bars in Bangkok\",\"pictureUrl\":\"\",\"ruleName\":\"\",\"channel\":\"home\",\"text\":\"Best Bars in Bangkok\"},{\"link\":\"https://www.trip.com/toplist/tripbest/london-best-bars-100900005411/\",\"keyword\":\"Best Bars in London\",\"pictureUrl\":\"\",\"ruleName\":\"\",\"channel\":\"home\",\"text\":\"Best Bars in London\"},{\"link\":\"https://www.trip.com/guide/destination/japan-travel.html\",\"keyword\":\"Japan Travel\",\"pictureUrl\":\"\",\"ruleName\":\"\",\"channel\":\"home\",\"text\":\"Japan Travel\"},{\"link\":\"https://www.trip.com/guide/train/china-high-speed-rail.html\",\"keyword\":\"China High Speed Rail\",\"pictureUrl\":\"\",\"ruleName\":\"\",\"channel\":\"home\",\"text\":\"China High Speed Rail\"},{\"link\":\"https://www.trip.com/guide/train/china-train-ticket.html\",\"keyword\":\"China Train Ticket\",\"pictureUrl\":\"\",\"ruleName\":\"\",\"channel\":\"home\",\"text\":\"China Train Ticket\"},{\"link\":\"https://www.trip.com/guide/train/china-train-booking.html\",\"keyword\":\"China Train Booking\",\"pictureUrl\":\"\",\"ruleName\":\"\",\"channel\":\"home\",\"text\":\"China Train Booking\"},{\"link\":\"https://www.trip.com/guide/train/china-bullet-train.html\",\"keyword\":\"China Bullet Train\",\"pictureUrl\":\"\",\"ruleName\":\"\",\"channel\":\"home\",\"text\":\"China Bullet Train\"}]},\"extraData\":{}},{\"text\":\"Popular Attractions\",\"linkType\":\"SHORT_LINK\",\"linkListProps\":{\"links\":[{\"link\":\"https://www.trip.com/guide/attraction/disney-locations.html\",\"keyword\":\"disney locations\",\"pictureUrl\":\"\",\"ruleName\":\"1\",\"channel\":\"ttd\",\"text\":\"disney locations\"},{\"link\":\"https://www.trip.com/guide/attraction/n-seoul-tower-tickets.html\",\"keyword\":\"N Seoul Tower Tickets\",\"pictureUrl\":\"\",\"ruleName\":\"1\",\"channel\":\"ttd\",\"text\":\"N Seoul Tower Tickets\"},{\"link\":\"https://www.trip.com/guide/attraction/blizzard-beach-water-park.html\",\"keyword\":\"blizzard beach water park\",\"pictureUrl\":\"\",\"ruleName\":\"1\",\"channel\":\"ttd\",\"text\":\"blizzard beach water park\"},{\"link\":\"https://www.trip.com/guide/attraction/universal-studios-singapore-tickets.html\",\"keyword\":\"universal studios singapore tickets\",\"pictureUrl\":\"\",\"ruleName\":\"1\",\"channel\":\"ttd\",\"text\":\"universal studios singapore tickets\"},{\"link\":\"https://www.trip.com/guide/attraction/ngong-ping-360-tickets.html\",\"keyword\":\"Ngong Ping 360 Tickets\",\"pictureUrl\":\"\",\"ruleName\":\"1\",\"channel\":\"ttd\",\"text\":\"Ngong Ping 360 Tickets\"},{\"link\":\"https://www.trip.com/travel-guide/attraction/tacoma/union-station-61158497/\",\"keyword\":\"Union Station\",\"pictureUrl\":\"\",\"ruleName\":\"2\",\"channel\":\"ttd\",\"text\":\"Union Station\"},{\"link\":\"https://www.trip.com/travel-guide/attraction/norwood-park-township/rolling-stones-55842476/\",\"keyword\":\"Rolling Stones\",\"pictureUrl\":\"\",\"ruleName\":\"2\",\"channel\":\"ttd\",\"text\":\"Rolling Stones\"},{\"link\":\"https://www.trip.com/travel-guide/attraction/anapa/anapa-dolphinarium-132068940/\",\"keyword\":\"Anapa Dolphinarium (Nemo)\",\"pictureUrl\":\"\",\"ruleName\":\"2\",\"channel\":\"ttd\",\"text\":\"Anapa Dolphinarium (Nemo)\"},{\"link\":\"https://www.trip.com/travel-guide/attraction/buenos-aires/cinemark-136104345/\",\"keyword\":\"Cinemark\",\"pictureUrl\":\"\",\"ruleName\":\"2\",\"channel\":\"ttd\",\"text\":\"Cinemark\"},{\"link\":\"https://www.trip.com/travel-guide/attraction/antioch/anytime-fitness-61225963/\",\"keyword\":\"Anytime Fitness\",\"pictureUrl\":\"\",\"ruleName\":\"2\",\"channel\":\"ttd\",\"text\":\"Anytime Fitness\"},{\"link\":\"https://www.trip.com/travel-guide/attraction/yangshuo/wu-zhi-hill-36289834/\",\"keyword\":\"Wu Zhi Hill\",\"pictureUrl\":\"\",\"ruleName\":\"3\",\"channel\":\"ttd\",\"text\":\"Wu Zhi Hill\"},{\"link\":\"https://www.trip.com/travel-guide/attraction/zhangjiajie/star-picking-tower-15054879/\",\"keyword\":\"Star Picking Tower\",\"pictureUrl\":\"\",\"ruleName\":\"3\",\"channel\":\"ttd\",\"text\":\"Star Picking Tower\"},{\"link\":\"https://www.trip.com/travel-guide/attraction/shanghai/venice-town-55916162/\",\"keyword\":\"Venice Town\",\"pictureUrl\":\"\",\"ruleName\":\"3\",\"channel\":\"ttd\",\"text\":\"Venice Town\"},{\"link\":\"https://www.trip.com/travel-guide/attraction/shangri-la/napa-sea-76337/\",\"keyword\":\"Napa Sea(Yila Prairie)\",\"pictureUrl\":\"\",\"ruleName\":\"3\",\"channel\":\"ttd\",\"text\":\"Napa Sea(Yila Prairie)\"},{\"link\":\"https://www.trip.com/travel-guide/attraction/belgrave/puffing-billy-railway-10758977/\",\"keyword\":\"Puffing Billy Railway\",\"pictureUrl\":\"\",\"ruleName\":\"3\",\"channel\":\"ttd\",\"text\":\"Puffing Billy Railway\"},{\"link\":\"https://www.trip.com/guide/attraction/walt-disney-studios-park.html\",\"keyword\":\"walt disney studios park\",\"pictureUrl\":\"\",\"ruleName\":\"4\",\"channel\":\"ttd\",\"text\":\"walt disney studios park\"},{\"link\":\"https://www.trip.com/guide/phone/how-to-activate-esim-on-iphone.html\",\"keyword\":\"How to Activate eSIM on iPhone\",\"pictureUrl\":\"\",\"ruleName\":\"4\",\"channel\":\"ttd\",\"text\":\"How to Activate eSIM on iPhone\"},{\"link\":\"https://www.trip.com/guide/phone/china-sim-card.html\",\"keyword\":\"China SIM Card\",\"pictureUrl\":\"\",\"ruleName\":\"4\",\"channel\":\"ttd\",\"text\":\"China SIM Card\"},{\"link\":\"https://www.trip.com/guide/phone/indonesia-esim.html\",\"keyword\":\"Indonesia eSIM\",\"pictureUrl\":\"\",\"ruleName\":\"4\",\"channel\":\"ttd\",\"text\":\"Indonesia eSIM\"},{\"link\":\"https://www.trip.com/guide/attraction/ghibli-museum-tickets.html\",\"keyword\":\"Ghibli Museum Tickets\",\"pictureUrl\":\"\",\"ruleName\":\"4\",\"channel\":\"ttd\",\"text\":\"Ghibli Museum Tickets\"}]},\"extraData\":{}},{\"text\":\"Popular Airlines\",\"linkType\":\"SHORT_LINK\",\"linkListProps\":{\"links\":[{\"link\":\"https://www.trip.com/flights/to-london/airfares-lon/\",\"keyword\":\"Flights to London\",\"pictureUrl\":\"\",\"ruleName\":\"\",\"channel\":\"home\",\"text\":\"Flights to London\"},{\"link\":\"https://www.trip.com/flights/to-rome/airfares-rom/\",\"keyword\":\"Flights to Rome\",\"pictureUrl\":\"\",\"ruleName\":\"\",\"channel\":\"home\",\"text\":\"Flights to Rome\"},{\"link\":\"https://www.trip.com/flights/to-paris/airfares-par/\",\"keyword\":\"Flights to Paris\",\"pictureUrl\":\"\",\"ruleName\":\"\",\"channel\":\"home\",\"text\":\"Flights to Paris\"},{\"link\":\"https://www.trip.com/flights/to-new-york/airfares-nyc/\",\"keyword\":\"Flights to New York\",\"pictureUrl\":\"\",\"ruleName\":\"\",\"channel\":\"home\",\"text\":\"Flights to New York\"},{\"link\":\"https://www.trip.com/flights/to-tokyo/airfares-tyo/\",\"keyword\":\"Flights to Tokyo\",\"pictureUrl\":\"\",\"ruleName\":\"\",\"channel\":\"home\",\"text\":\"Flights to Tokyo\"},{\"link\":\"https://www.trip.com/flights/to-las-vegas/airfares-las/\",\"keyword\":\"Flights to Las Vegas\",\"pictureUrl\":\"\",\"ruleName\":\"\",\"channel\":\"home\",\"text\":\"Flights to Las Vegas\"},{\"link\":\"https://www.trip.com/flights/to-miami/airfares-mia/\",\"keyword\":\"Flights to Miami\",\"pictureUrl\":\"\",\"ruleName\":\"\",\"channel\":\"home\",\"text\":\"Flights to Miami\"},{\"link\":\"https://www.trip.com/flights/to-bali/airfares-dps/\",\"keyword\":\"Flights to Bali\",\"pictureUrl\":\"\",\"ruleName\":\"\",\"channel\":\"home\",\"text\":\"Flights to Bali\"},{\"link\":\"https://www.trip.com/flights/to-amsterdam/airfares-ams/\",\"keyword\":\"Flights to Amsterdam\",\"pictureUrl\":\"\",\"ruleName\":\"\",\"channel\":\"home\",\"text\":\"Flights to Amsterdam\"},{\"link\":\"https://www.trip.com/flights/to-atlanta/airfares-atl/\",\"keyword\":\"Flights to Atlanta\",\"pictureUrl\":\"\",\"ruleName\":\"\",\"channel\":\"home\",\"text\":\"Flights to Atlanta\"},{\"link\":\"https://www.trip.com/flights/airline-tk/turkish-airlines-flight-to-ist/\",\"keyword\":\"Turkish Airlines Flights to Istanbul\",\"pictureUrl\":\"\",\"ruleName\":\"\",\"channel\":\"home\",\"text\":\"Turkish Airlines Flights to Istanbul\"},{\"link\":\"https://www.trip.com/flights/airline-tk/turkish-airlines-flight-to-sin/\",\"keyword\":\"Turkish Airlines Flights to Singapore\",\"pictureUrl\":\"\",\"ruleName\":\"\",\"channel\":\"home\",\"text\":\"Turkish Airlines Flights to Singapore\"},{\"link\":\"https://www.trip.com/flights/airline-aa/american-airlines-flight-to-hnl/\",\"keyword\":\"American Airlines Flights to Hawaii\",\"pictureUrl\":\"\",\"ruleName\":\"\",\"channel\":\"home\",\"text\":\"American Airlines Flights to Hawaii\"},{\"link\":\"https://www.trip.com/flights/airline-aa/american-airlines-flight-to-cun/\",\"keyword\":\"American Airlines Flights to Cancun\",\"pictureUrl\":\"\",\"ruleName\":\"\",\"channel\":\"home\",\"text\":\"American Airlines Flights to Cancun\"},{\"link\":\"https://www.trip.com/flights/airline-ua/united-airlines-flight-to-bom/\",\"keyword\":\"United Airlines Flights to Mumbai\",\"pictureUrl\":\"\",\"ruleName\":\"\",\"channel\":\"home\",\"text\":\"United Airlines Flights to Mumbai\"},{\"link\":\"https://www.trip.com/flights/airline-ua/united-airlines-flight-to-tlv/\",\"keyword\":\"United Airlines Flights to Tel Aviv Yafo\",\"pictureUrl\":\"\",\"ruleName\":\"\",\"channel\":\"home\",\"text\":\"United Airlines Flights to Tel Aviv Yafo\"},{\"link\":\"https://www.trip.com/flights/airline-sq/singapore-airlines-flight-to-del/\",\"keyword\":\"Singapore Airlines Flights to Delhi\",\"pictureUrl\":\"\",\"ruleName\":\"\",\"channel\":\"home\",\"text\":\"Singapore Airlines Flights to Delhi\"},{\"link\":\"https://www.trip.com/flights/airline-sq/singapore-airlines-flight-to-syd/\",\"keyword\":\"Singapore Airlines Flights to Sydney\",\"pictureUrl\":\"\",\"ruleName\":\"\",\"channel\":\"home\",\"text\":\"Singapore Airlines Flights to Sydney\"},{\"link\":\"https://www.trip.com/flights/airline-pr/philippine-airlines-flight-to-mnl/\",\"keyword\":\"Philippine Airlines Flights to Manila\",\"pictureUrl\":\"\",\"ruleName\":\"\",\"channel\":\"home\",\"text\":\"Philippine Airlines Flights to Manila\"},{\"link\":\"https://www.trip.com/flights/airline-pr/philippine-airlines-flight-to-dvo/\",\"keyword\":\"Philippine Airlines Flights to Davao\",\"pictureUrl\":\"\",\"ruleName\":\"\",\"channel\":\"home\",\"text\":\"Philippine Airlines Flights to Davao\"}]},\"extraData\":{}},{\"text\":\"Popular Guide\",\"linkType\":\"SHORT_LINK\",\"linkListProps\":{\"links\":[{\"link\":\"https://www.trip.com/guide/info/weekend-getaways-in-texas.html\",\"keyword\":\"weekend getaways in texas\",\"pictureUrl\":\"\",\"ruleName\":\"1\",\"channel\":\"home\",\"text\":\"weekend getaways in texas\"},{\"link\":\"https://www.trip.com/guide/info/trip-to-monaco-cost.html\",\"keyword\":\"Trip to Monaco cost\",\"pictureUrl\":\"\",\"ruleName\":\"1\",\"channel\":\"home\",\"text\":\"Trip to Monaco cost\"},{\"link\":\"https://www.trip.com/guide/attraction/tokyo-disneysea.html\",\"keyword\":\"tokyo disneysea\",\"pictureUrl\":\"\",\"ruleName\":\"1\",\"channel\":\"home\",\"text\":\"tokyo disneysea\"},{\"link\":\"https://www.trip.com/guide/transport/eurail-pass-discount.html\",\"keyword\":\"Eurail Pass Discount\",\"pictureUrl\":\"\",\"ruleName\":\"1\",\"channel\":\"home\",\"text\":\"Eurail Pass Discount\"},{\"link\":\"https://www.trip.com/guide/phone/esim.html\",\"keyword\":\"esim\",\"pictureUrl\":\"\",\"ruleName\":\"1\",\"channel\":\"home\",\"text\":\"esim\"},{\"link\":\"https://www.trip.com/guide/transport/narita-express.html\",\"keyword\":\"narita express\",\"pictureUrl\":\"\",\"ruleName\":\"2\",\"channel\":\"home\",\"text\":\"narita express\"},{\"link\":\"https://www.trip.com/guide/transport/japan-transport-app.html\",\"keyword\":\"Japan Transport App\",\"pictureUrl\":\"\",\"ruleName\":\"2\",\"channel\":\"home\",\"text\":\"Japan Transport App\"},{\"link\":\"https://www.trip.com/guide/train/china-high-speed-rail-shanghai-to-guilin.html\",\"keyword\":\"China High Speed Rail Shanghai to Guilin\",\"pictureUrl\":\"\",\"ruleName\":\"2\",\"channel\":\"home\",\"text\":\"China High Speed Rail Shanghai to Guilin\"},{\"link\":\"https://www.trip.com/guide/phone/morocco-esim.html\",\"keyword\":\"Morocco eSim\",\"pictureUrl\":\"\",\"ruleName\":\"2\",\"channel\":\"home\",\"text\":\"Morocco eSim\"},{\"link\":\"https://www.trip.com/guide/transport/tokyo-metro.html\",\"keyword\":\"Tokyo Metro\",\"pictureUrl\":\"\",\"ruleName\":\"2\",\"channel\":\"home\",\"text\":\"Tokyo Metro\"},{\"link\":\"https://www.trip.com/guide/phone/germany-esim.html\",\"keyword\":\"Germany esim\",\"pictureUrl\":\"\",\"ruleName\":\"2\",\"channel\":\"home\",\"text\":\"Germany esim\"},{\"link\":\"https://www.trip.com/guide/transport/japan-car-rental.html\",\"keyword\":\"Japan car rental\",\"pictureUrl\":\"\",\"ruleName\":\"2\",\"channel\":\"home\",\"text\":\"Japan car rental\"},{\"link\":\"https://www.trip.com/guide/attraction/everland.html\",\"keyword\":\"Everland\",\"pictureUrl\":\"\",\"ruleName\":\"2\",\"channel\":\"home\",\"text\":\"Everland\"},{\"link\":\"https://www.trip.com/guide/phone/best-japan-travel-apps.html\",\"keyword\":\"best Japan travel apps\",\"pictureUrl\":\"\",\"ruleName\":\"2\",\"channel\":\"home\",\"text\":\"best Japan travel apps\"},{\"link\":\"https://www.trip.com/guide/train/hong-kong-to-shenzhen.html\",\"keyword\":\"Hong Kong to Shenzhen\",\"pictureUrl\":\"\",\"ruleName\":\"2\",\"channel\":\"home\",\"text\":\"Hong Kong to Shenzhen\"},{\"link\":\"https://www.trip.com/guide/transport/jr-kyushu.html\",\"keyword\":\"JR Kyushu\",\"pictureUrl\":\"\",\"ruleName\":\"2\",\"channel\":\"home\",\"text\":\"JR Kyushu\"},{\"link\":\"https://www.trip.com/guide/train/cheap-train-tickets-china.html\",\"keyword\":\"Cheap Train Tickets China\",\"pictureUrl\":\"\",\"ruleName\":\"2\",\"channel\":\"home\",\"text\":\"Cheap Train Tickets China\"},{\"link\":\"https://www.trip.com/guide/attraction/n-seoul-tower-tickets.html\",\"keyword\":\"N Seoul Tower Tickets\",\"pictureUrl\":\"\",\"ruleName\":\"2\",\"channel\":\"home\",\"text\":\"N Seoul Tower Tickets\"},{\"link\":\"https://www.trip.com/guide/train/china-train-station.html\",\"keyword\":\"China Train Station\",\"pictureUrl\":\"\",\"ruleName\":\"2\",\"channel\":\"home\",\"text\":\"China Train Station\"},{\"link\":\"https://www.trip.com/guide/phone/thailand-sim-card.html\",\"keyword\":\"Thailand SIM Card\",\"pictureUrl\":\"\",\"ruleName\":\"2\",\"channel\":\"home\",\"text\":\"Thailand SIM Card\"},{\"link\":\"https://www.trip.com/hot/articles/maha-shivaratri.html\",\"keyword\":\"Maha Shivaratri\",\"pictureUrl\":\"https://dimg04.c-ctrip.com/images/0M767120009cnotld0DF9.jpg\",\"ruleName\":\"3\",\"channel\":\"home\",\"text\":\"Maha Shivaratri\"},{\"link\":\"https://www.trip.com/guide/info/temperature-in-pittsburgh-in-august.html\",\"keyword\":\"temperature in pittsburgh in August\",\"pictureUrl\":\"\",\"ruleName\":\"3\",\"channel\":\"home\",\"text\":\"temperature in pittsburgh in August\"},{\"link\":\"https://www.trip.com/hot/articles/things-to-do-in-orlando.html\",\"keyword\":\"Things to Do in Orlando\",\"pictureUrl\":\"https://dimg04.c-ctrip.com/images/0M72r1200099dpbo24FE7.jpg\",\"ruleName\":\"3\",\"channel\":\"home\",\"text\":\"Things to Do in Orlando\"},{\"link\":\"https://www.trip.com/guide/info/trip-to-switzerland-cost.html\",\"keyword\":\"Trip to Switzerland cost\",\"pictureUrl\":\"\",\"ruleName\":\"3\",\"channel\":\"home\",\"text\":\"Trip to Switzerland cost\"},{\"link\":\"https://www.trip.com/hot/articles/best-places-to-visit-in-may.html\",\"keyword\":\"Best places to visit in May\",\"pictureUrl\":\"https://dimg04.c-ctrip.com/images/0M74f120009detp7u3403.jpg\",\"ruleName\":\"3\",\"channel\":\"home\",\"text\":\"Best places to visit in May\"}]},\"extraData\":{}},{\"text\":\"Trip.com Links\",\"linkType\":\"SHORT_LINK\",\"linkListProps\":{\"links\":[{\"link\":\"https://play.google.com/store/apps/details?id=ctrip.english&amp;hl=en_US\",\"keyword\":\"Trip.com App Android\",\"pictureUrl\":\"\",\"ruleName\":\"\",\"channel\":\"home\",\"text\":\"Trip.com App Android\"},{\"link\":\"https://itunes.apple.com/us/app/trip-com-flights-hotels/id681752345?mt=8\",\"keyword\":\"Trip.com App iOS\",\"pictureUrl\":\"\",\"ruleName\":\"\",\"channel\":\"home\",\"text\":\"Trip.com App iOS\"},{\"link\":\"https://www.facebook.com/Trip/\",\"keyword\":\"Trip.com on Facebook\",\"pictureUrl\":\"\",\"ruleName\":\"\",\"channel\":\"home\",\"text\":\"Trip.com on Facebook\"},{\"link\":\"https://www.trustpilot.com/review/trip.com\",\"keyword\":\"Trip.com reviews\",\"pictureUrl\":\"\",\"ruleName\":\"\",\"channel\":\"home\",\"text\":\"Trip.com reviews\"},{\"link\":\"https://www.trip.com/tripgenie/\",\"keyword\":\"TripGenie\",\"pictureUrl\":\"\",\"ruleName\":\"\",\"channel\":\"home\",\"text\":\"TripGenie\"}]},\"extraData\":{}}],\"id\":\"tab-links\",\"isEuVersion\":false,\"isEuVersionOnline\":true,\"isRTL\":false,\"inputParam\":{\"locale\":\"en-XX\",\"site\":\"EN\"}},\"version\":3},\"moduleSort\":[\"cmt\",\"advertize\",\"seoCoupon\",\"newGuests\",\"sketch\",\"loginSubscribe\",\"recommendHotels\",\"recommendAttractions\",\"recommendCars\"],\"imageList\":[null,null],\"seoPromoCode\":\"\",\"couponCustomI18n\":{\"bannerTitleI18n\":\"ibu_online_homepage_coupon_title1\",\"bannerBtnI18n\":\"ibu_online_homepage_coupon_button1\",\"modalTitleI18n\":\"ibu_online_homepage_coupon_title2\",\"modalBtnI18n\":\"ibu_online_homepage_coupon_button2\"},\"qrCodeLink\":\"https://ak-d.tripcdn.com/images/05E0u12000cmezb8o179F.png\",\"linkId\":282,\"languageMatchSwitch\":true,\"browseListSwitch\":true,\"googleLoginSwitch\":false,\"safariLoginSwitch\":false,\"cookieBannerSwitch\":false,\"showDownloadBanner\":true,\"showPoiSearch\":true,\"showNotification\":true,\"showNotificationCloseBtn\":false,\"showFlightSearchBundle\":true,\"exprResult\":{},\"abTracker\":\"M:-1,230815_IBU_pwayh:A;M:-1,230720_IBU_3wSJ:A;M:-1,230529_IBU_OTSJ:A;M:-1,231218_IBU_OHS:A;\",\"reopenCountry\":{\"url\":\"https://www.trip.com/sale/w/3219/border-reopening.html?locale=en_xx\",\"countryIdList\":[\"HK\",\"Thailand\",\"KR\",\"Singapore\",\"Malaysia\",\"Indonesia\",\"Vietnam\",\"UAE\"]},\"realIp\":\"43.226.116.6\",\"dealsData\":{\"ResponseStatus\":{\"Timestamp\":\"2024-07-08 10:17:23\",\"Ack\":\"Success\",\"Errors\":[],\"Extension\":[]},\"adsWidgetDataTypes\":[{\"moduleName\":\"ONLINE_INDEX_TOP_DEAL\",\"rank\":0,\"adsDisplayDataTypes\":[{\"displayDataId\":194049,\"tags\":[{\"tagId\":1,\"tagName\":\"Hotels\"}],\"displayDataType\":1,\"displayDataUrl\":\"https://dimg04.tripcdn.com/images/0a11l12000eip6zjlAD88.jpg\",\"coverImageUrl\":\"https://dimg04.tripcdn.com/images/0a11l12000eip6zjlAD88.jpg\",\"title\":\"Embrace Summer Like a Local\",\"introduction\":\"Experience the charme of vacation homes!\",\"pageLink\":\"https://www.trip.com/sale/w/10467/summervacationhomes.html?locale=en-xx&curr=usd&transparentBar=1&promo_referer=1721_10467_1\",\"canonicalUrl\":\"https://www.trip.com/sale/w/10467/summervacationhomes.html?locale=en-xx&curr=usd&transparentBar=1&promo_referer=1721_10467_1\",\"promoId\":10467,\"startTime\":\"2024-06-18 15:04:09\",\"endTime\":\"2024-07-24 23:59:59\",\"duration\":0,\"category\":2,\"materialId\":596794,\"index\":1,\"ext\":\"{\\\\\"promoId\\\\\":10467,\\\\\"schemeId\\\\\":194049,\\\\\"strategyId\\\\\":194049,\\\\\"whetherRacing\\\\\":false}\"},{\"displayDataId\":111840,\"tags\":[],\"displayDataType\":1,\"displayDataUrl\":\"https://ak-d.tripcdn.com/images/1gz1h12000d5icpilD452.jpg\",\"coverImageUrl\":\"https://ak-d.tripcdn.com/images/1gz1h12000d5icpilD452.jpg\",\"title\":\"Time to Travel!\",\"introduction\":\"Deals that open up a world of travel\",\"pageLink\":\"https://www.trip.com/sale/w/6539/globaltravel.html?locale=en-xx&curr=usd&transparentBar=1&promo_referer=1721_6539_2\",\"canonicalUrl\":\"https://www.trip.com/sale/w/6539/globaltravel.html?locale=en-xx&curr=usd&transparentBar=1&promo_referer=1721_6539_2\",\"promoId\":6539,\"startTime\":\"2024-02-09 00:00:01\",\"endTime\":\"2024-12-31 23:59:00\",\"duration\":0,\"category\":2,\"materialId\":352381,\"index\":2,\"ext\":\"{\\\\\"promoId\\\\\":6539,\\\\\"schemeId\\\\\":111840,\\\\\"strategyId\\\\\":111840,\\\\\"whetherRacing\\\\\":false}\"},{\"displayDataId\":159377,\"tags\":[],\"displayDataType\":1,\"displayDataUrl\":\"https://dimg04.tripcdn.com/images/0a13l12000815zxlz6BBB.jpg\",\"coverImageUrl\":\"https://dimg04.tripcdn.com/images/0a13l12000815zxlz6BBB.jpg\",\"title\":\"You\\'re in! Introducing Trip.com Rewards!\",\"introduction\":\"We just made travel even more rewarding!\",\"pageLink\":\"https://www.trip.com/customer/loyalty/?locale=en-XX&promo_referer=1721_0_8\",\"canonicalUrl\":\"https://www.trip.com/customer/loyalty/?locale=en-XX&promo_referer=1721_0_8\",\"promoId\":0,\"startTime\":\"2024-05-07 15:13:54\",\"endTime\":\"2025-05-07 15:13:54\",\"duration\":0,\"category\":3,\"materialId\":1012083,\"index\":3,\"ext\":\"{\\\\\"promoId\\\\\":0,\\\\\"schemeId\\\\\":159377,\\\\\"strategyId\\\\\":159377,\\\\\"whetherRacing\\\\\":false}\"}],\"carousel\":true,\"timeInterval\":5,\"adSpaceId\":650,\"pageId\":10320668088}],\"from\":\"0\"},\"primaryDealsData\":{\"ResponseStatus\":{\"Timestamp\":\"2024-07-08 10:17:23\",\"Ack\":\"Success\",\"Errors\":[],\"Extension\":[]},\"adsWidgetDataTypes\":[{\"moduleName\":\"ONLINE_HOMEPAGE_TOPDEALS\",\"rank\":0,\"adsDisplayDataTypes\":[],\"carousel\":false,\"timeInterval\":5,\"adSpaceId\":751,\"pageId\":10320668088}],\"from\":\"0\"},\"useNewTheme\":true,\"onlineHomeModules\":[{\"moduleName\":\"NEW_USER_MODULE\"}],\"uspSsrData\":{\"ResponseStatus\":{\"Timestamp\":\"/Date(1720405078817+0800)/\",\"Ack\":\"Success\",\"Errors\":[],\"Build\":null,\"Version\":null,\"Extension\":[]},\"responseHead\":null,\"needPreLoad\":null,\"mode\":\"simple\",\"title\":null,\"richTitle\":null,\"deepLink\":null,\"deepLinkText\":null,\"backgroundColor\":null,\"uspInfoList\":[{\"themeType\":\"Trust-Security\",\"icon\":\"https://ak-d.tripcdn.com/images/0AS6b1200090fx7s7F635.png\",\"darkIcon\":\"https://ak-d.tripcdn.com/images/0AS451200090fxd0z0AC3.png\",\"title\":\"Secure payment\",\"titlePackageInfo\":null,\"subTitle\":\"Payments are secured using the latest industry standards\",\"subTitlePackageInfo\":null,\"deepLink\":null,\"deepLinkText\":null},{\"themeType\":\"Service\",\"icon\":\"https://ak-d.tripcdn.com/images/0AS5f120008whj34f2145.png\",\"darkIcon\":\"https://ak-d.tripcdn.com/images/0AS30120008whiwjj2DF4.png\",\"title\":\"Support in approx. 30s\",\"titlePackageInfo\":null,\"subTitle\":\"We usually answer phone calls within 30 seconds\",\"subTitlePackageInfo\":null,\"deepLink\":null,\"deepLinkText\":null}],\"simpleUspList\":null,\"scoreUspList\":[]},\"ssrLocale\":\"en-XX\",\"ssrCurrency\":\"USD\",\"ssrLanguage\":\"en\",\"ssrSite\":\"EN\"}</script><script>__ASYNC_JS__ = {\"COMMON\":{\"JQUERY\":\"https://ws-s.tripcdn.cn/modules/ibu/onlinecommon/jquery.5cd8b11bb70041e8c4173152f6db3b49.js\",\"CQUERY\":\"https://ws-s.tripcdn.cn/ares/api/cc?f=modules%2Fibu%2Fonlinecommon%2Fcquery_110421.d5a3acd9249a56f2e428a0a990be84b5.js%2Ccquery_pro.5bb86b3609f1f2d2279b161787227e68.js%2Caddress-1.0.c2cd59023d7c5fa1522d41729e2c5dd1.js\",\"CIDATE\":\"https://ws-s.tripcdn.cn/modules/ibu/onlinecommon/cidate.b3ae3bd7c7a52d597bb44cf6b2b2e9c6.js\",\"DATE_PICKER\":\"https://ws-s.tripcdn.cn/modules/ibu/onlinecommon/cdatepicker_v2.1b1e89481d6d040b534b54c6148cc646.js\",\"ANALYTICS\":\"https://ws-s.tripcdn.cn/modules/ibu/onlinecommon/ibu_gagtag2_online_bundle.11113c9f138ecba7f3ecf6ddad9316b4.js\",\"I18N_6001\":\"https://ws-s.tripcdn.cn/locale/v3/6001/en-XX.js?etagc=95a18b0eaa15fe6f62b421f477948e62\",\"I18N_6002\":\"https://ws-s.tripcdn.cn/locale/v3/6002/en-XX.js?etagc=21c2daa7910bf652a967b805dabcfad1\",\"L10N\":\"https://ws-s.tripcdn.cn/modules/ibu/online-home/l10n.785a52ca8eab96840b851361f92fe3e2.js\",\"IPOLLSDK\":\"https://ws-s.tripcdn.cn/modules/basebiz/ipoll-online-sdk/index.ebc5d439ea8db69057264a878b3a35a6.js\"},\"SEARCHBOX\":{\"ttd\":{\"TTDSEARCHBOX\":\"https://ws-s.tripcdn.cn/modules/ibu/online-home/tnt.42380797f67fd2306cd1da60d5f54db7.js\",\"TTDSEARCHBOX_CSS\":\"https://ws-s.tripcdn.cn/modules/ibu/online-home/tnt.358cac9379bbc151277d41fcbf636387.css\",\"TTDSEARCHBOX_I18N\":\"https://ws-s.tripcdn.cn/ares/api/cc?f=locale%2Fv3%2F100016584%2Fen-XX-10001.js%2Cen-XX-2002.js&etagc=a864bb135eccd783b082899cff2f759a\"},\"flight\":{\"JS\":\"https://ws-s.tripcdn.cn/modules/ibu/online-home/flight.5bc517581b8503b0c5b6de0e6d16385c.js\",\"CSS\":\"https://ws-s.tripcdn.cn/modules/ibu/online-home/flight.f19ab935a2045d55bab92eaf3c40f273.css\",\"I18N\":\"https://ws-s.tripcdn.cn/locale/v3/330143/en-XX-301.js?etagc=161795a512ff9c59d5acccdbb25cec36\"},\"hotel\":{\"JS\":\"https://ws-s.tripcdn.cn/modules/ibu/online-home/hotelRtl.cdb1d3c7fdb67ff7f18456457575312d.js\",\"CSS\":\"https://ws-s.tripcdn.cn/modules/ibu/online-home/hotelRtl.0d7e1a57548faf7e6e1b8cd216d1fef9.css\",\"I18N\":\"https://ws-s.tripcdn.cn/locale/v3/100018131/en-XX.js?etagc=a3480c7795d99ac7712d797a2c7096b8\",\"newOnlineHotelSearchSwitch\":true,\"newOnlineHotelSearchAllSwitch\":true},\"hotelAsyncDeps\":{\"hot\":{\"JS\":\"https://ws-s.tripcdn.cn/modules/ibu/online-home/hotelHot.ac4d1848d075c22c74438654c1543a10.js\",\"CSS\":\"https://ws-s.tripcdn.cn/modules/ibu/online-home/hotelHot.07eed865b35ecf1bdcab8b61f0db0403.css\"},\"associative\":{\"JS\":\"https://ws-s.tripcdn.cn/modules/ibu/online-home/hotelAssociative.89f15985d5b55af2d3f6dcf8a67e05e7.js\",\"CSS\":\"https://ws-s.tripcdn.cn/modules/ibu/online-home/hotelAssociative.ef85e025d1da9de245de81878ec7f49f.css\"},\"calendar\":{\"JS\":\"https://ws-s.tripcdn.cn/modules/ibu/online-home/calendar.f6fb29555dbb7e0186a08ff54dce1f3a.js\"}},\"train\":{\"JS\":\"https://ws-s.tripcdn.cn/modules/ibu/online-home/train.9351cba7188e02e7c26014e312a9ca28.js\",\"CSS\":\"https://ws-s.tripcdn.cn/modules/ibu/online-home/train.0c78a2271c68a426563d0a4900ca154f.css\",\"I18N\":\"https://ws-s.tripcdn.cn/ares/api/cc?f=locale%2Fv3%2F100026794%2Fen-XX-1000001648.js%2C%2Flocale%2Fv3%2F100026244%2Fen-XX.js&etagc=b78f26481e14f2d092539f22692598d4\"},\"poiSearch\":{\"JS\":\"https://ws-s.tripcdn.cn/modules/ibu/online-home/poisearch.6fc3bc45cacb56a91a322479f12c2ff2.js\",\"CSS\":\"https://ws-s.tripcdn.cn/modules/ibu/online-home/poisearch.4fab3b1df3b7188d912e407fd0d6a273.css\",\"I18N\":\"https://ws-s.tripcdn.cn/locale/v3/100015463/en-XX.js?etagc=2158c7712e11977b63645ac2b3627894\"},\"carhire\":{\"JS\":\"https://ws-s.tripcdn.cn/modules/ibu/online-home/carhire.badfa5e181516c0a7a6928fddce6ecc8.js\",\"CSS\":\"https://ws-s.tripcdn.cn/modules/ibu/online-home/carhire.83a7fdbfc1bef9bd88c36357cdb0affa.css\",\"I18N\":\"https://ws-s.tripcdn.cn/locale/v3/100012142/en-XX.js?etagc=0b2980099385a2567e884cd976b83266\"},\"airportTransfer\":{\"JS\":\"https://ws-s.tripcdn.cn/modules/ibu/online-home/airporttransfer.82da9af59cbc09cc1464755f388e097c.js\",\"CSS\":\"https://ws-s.tripcdn.cn/modules/ibu/online-home/airporttransfer.d804b501c5efa432956bea982b4857d8.css\",\"I18N\":\"https://ws-s.tripcdn.cn/locale/v3/100013580/en-XX.js?etagc=38b754005668c627059124d37f7eb6e1\"},\"bundle\":{\"JS\":\"https://ws-s.tripcdn.cn/modules/ibu/online-home/bundle.9950e7757970fe689cfaf853f518778d.js\",\"CSS\":\"https://ws-s.tripcdn.cn/modules/ibu/online-home/bundle.6dfa36e6fdbf199cf82ab6e9bd855b9c.css\",\"I18N\":\"https://ws-s.tripcdn.cn/locale/v3/100036710/en-XX.js?etagc=f53e646c2515d52e578912c3e9d2b3bf\"}},\"ONLINE_SECOND_ENTRY\":{\"JS\":\"https://ws-s.tripcdn.cn/modules/ibu/online-home/onlineSecondEntry.a6bf36498d764ba3a703bd318f1c94d8.js\",\"CSS\":\"https://ws-s.tripcdn.cn/modules/ibu/online-home/onlineSecondEntry.55f2dda8043b20df2e8d232fde228a2c.css\"},\"ONLINE_FIRST_ASYNC\":{\"LANGUAGE_MATCH\":{\"JS\":\"https://ws-s.tripcdn.cn/modules/ibu/online-home/languageMatch.c916e78eefcd71e95a9b5a17948053db.js\",\"CSS\":\"https://ws-s.tripcdn.cn/modules/ibu/online-home/languageMatch.6acdaf793ff508bfddfa3d125bf92875.css\"},\"COOKIE_BANNER\":{\"JS\":\"https://ws-s.tripcdn.cn/modules/ibu/online-home/onlineCookieBanner.74122f8b5de264a67b5f423bca39ae07.js\",\"CSS\":\"https://ws-s.tripcdn.cn/modules/ibu/online-home/onlineCookieBanner.2990d8ad7f0df5f3bec0dd8ad177767a.css\"},\"GOOGLE_LOGIN\":{\"JS\":\"https://ws-s.tripcdn.cn/modules/ibu/online-home/onlineGoogleonetap.b434116e9eb5420ffc1a9a64701c0109.js\",\"CSS\":\"https://ws-s.tripcdn.cn/modules/ibu/online-home/onlineGoogleonetap.70ce4103068e19d688523c7c5cf1315d.css\"},\"SAFARI_LOGIN\":{\"JS\":\"https://ws-s.tripcdn.cn/modules/ibu/online-home/onlineSafarionetap.7dec5f7eb2bf7604c7078e2fb1cab818.js\",\"CSS\":\"https://ws-s.tripcdn.cn/modules/ibu/online-home/onlineSafarionetap.d3cab749ea4f50c96f6ebb65a094b24c.css\"},\"HEADER_HELP\":{\"JS\":\"https://ws-s.tripcdn.cn/modules/ibu/online-home/headerHelp.39c98d839942c101e7def7cbece57d8e.js\"},\"HEADER_ACCOUNT\":{\"JS\":\"https://ws-s.tripcdn.cn/modules/ibu/online-home/headerAccount.e28291e8b7d22eea4a1c975feceaaaae.js\"},\"HEADER_FOLD\":{\"JS\":\"https://ws-s.tripcdn.cn/modules/ibu/online-home/headerFold.ce6655b9d046538c4b117a31c247ea88.js\"},\"HEADER_LOCALE\":{\"JS\":\"https://ws-s.tripcdn.cn/modules/ibu/online-home/headerLocaleSelector.2b6b8bc5f3f487742abd78ffb51eefb6.js\"},\"HEADER_CURRENCY\":{\"JS\":\"https://ws-s.tripcdn.cn/modules/ibu/online-home/headerCurrencySelector.27f90d7d49f27c2df0fcba6ab63bfb78.js\"},\"SELECTOR\":{\"CSS\":\"https://ws-s.tripcdn.cn/modules/ibu/online-home/selector.5f3695c0d223fa61a9061448f5ff6e78.css\"},\"LOGIN_POPUP\":{\"JS\":\"https://ws-s.tripcdn.cn/modules/ibu/online-home/onlineLoginPopup.88ae64330d9a18a304fa8344c0777ff9.js\",\"CSS\":\"https://ws-s.tripcdn.cn/modules/ibu/online-home/onlineLoginPopup.8e2fbe8654592e59237a532763ef458f.css\"},\"SKETCH\":{\"JS\":\"https://ws-s.tripcdn.cn/modules/ibu/online-home/onlineTripSketch.c5e87a3f831b5252f46698b891d67557.js\",\"CSS\":\"https://ws-s.tripcdn.cn/modules/ibu/online-home/onlineTripSketch.039e5d5bd04fc7a01a77a1930606d40f.css\"},\"RECOMMEND_FLIGHTS\":{\"JS\":\"https://ws-s.tripcdn.cn/modules/ibu/online-home/onlineRecommendFlights.8b07547b7c8400439cb14cac277c0a67.js\",\"CSS\":\"https://ws-s.tripcdn.cn/modules/ibu/online-home/onlineRecommendFlights.50934733893ed80f5900c9a5317ec95c.css\"},\"RECOMMEND_HOTELS\":{\"JS\":\"https://ws-s.tripcdn.cn/modules/ibu/online-home/onlineRecommendHotels.9a9f01d47d876c16b572bb4a7621eb67.js\",\"CSS\":\"https://ws-s.tripcdn.cn/modules/ibu/online-home/onlineRecommendHotels.fe86baa8d1b6d8f8cbfff90e4e3e2172.css\"},\"RECOMMEND_CARS\":{\"JS\":\"https://ws-s.tripcdn.cn/modules/ibu/online-home/onlineRecommendCars.0bdcaf2e0bd7336697e340ddddb75d2f.js\",\"CSS\":\"https://ws-s.tripcdn.cn/modules/ibu/online-home/onlineRecommendCars.1f14a561320412c9d82abd63830c4fe5.css\"},\"RECOMMEND_ATTRACTIONS\":{\"JS\":\"https://ws-s.tripcdn.cn/modules/ibu/online-home/onlineRecommendAttractions.ce590c6e34f36df943a00346c8de7f40.js\",\"CSS\":\"https://ws-s.tripcdn.cn/modules/ibu/online-home/onlineRecommendAttractions.a4803b34a5f320a15e64d693e5a6caec.css\"},\"GOTOP\":{\"JS\":\"https://ws-s.tripcdn.cn/modules/ibu/online-home/onlineGotop.276e5d481d29132db2c46a0589d0e950.js\",\"CSS\":\"https://ws-s.tripcdn.cn/modules/ibu/online-home/onlineGotop.1b83f794eb61a17a3cbd061e7a3948c9.css\"},\"CMT\":{\"JS\":\"https://ws-s.tripcdn.cn/modules/ibu/online-home/onlineCmt.20c907345e9013340be6018802a4411f.js\"},\"CMT_STYLE\":{\"CSS\":\"https://ws-s.tripcdn.cn/modules/ibu/online-home/onlineCmtStyle.1bdece39d8083a421c140cf045a5efd6.css\"},\"NEW_GUESTS\":{\"JS\":\"https://ws-s.tripcdn.cn/modules/ibu/online-home/onlineNewGuests.c21a2fb2e3c1f2b276e9df45e0e7909b.js\",\"CSS\":\"https://ws-s.tripcdn.cn/modules/ibu/online-home/onlineNewGuests.b43bfc6bdd5ce67093643f7ebd890a83.css\"},\"ONLINE_AIDSID\":{\"JS\":\"https://ws-s.tripcdn.cn/modules/ibu/online-home/aidSid.5562814c38378522dd05488cfbc40764.js\"}}}</script><script>__APP_CONFIG__ = {\"appId\":\"100014416\",\"pageId\":\"10320668088\",\"pwa\":{\"enabled\":true,\"h5Enabled\":true},\"uaInfo\":{\"isChrome\":false},\"tmp\":{\"shouldShowTrustpolit\":false},\"isUseNewSW\":false}</script><input type=\"hidden\" id=\"ab_testing_tracker\" value=\"M:-1,230815_IBU_pwayh:A;M:-1,230720_IBU_3wSJ:A;M:-1,230529_IBU_OTSJ:A;M:-1,231218_IBU_OHS:A;\"/><input id=\"page_id\" type=\"hidden\" value=\"10320668088\"/><input type=\"hidden\" id=\"bf_ubt_markting_off\" value=\"true\"/><script>(function iife() { var deps = [\"https://ws-s.tripcdn.cn/modules/ibu/ibu-public-component-umd/production.min.2c414bbcac5b8e1d94a314d00208e77c.js\",\"https://ws-s.tripcdn.cn/polyfill.js\",\"https://ws-s.tripcdn.cn/modules/ibu/online-home/vendor.bd5ad8e6bf245d0683f92b9b84f06fec.js\",\"https://ws-s.tripcdn.cn/modules/ibu/online-home/common.82911e56841d62799ef4f8c535c57791.js\",\"https://ws-s.tripcdn.cn/ares/api/cc?f=locale%2Fv3%2F100014416%2Fen-XX.js%2C%2Flocale%2Fv3%2F330153%2Fen-XX.js%2C%2Flocale%2Fv3%2F330151%2Fen-XX.js%2C%2Flocale%2Fv3%2F100009239%2Fen-XX.js%2C%2Flocale%2Fv3%2F6002%2Fen-XX.js%2C%2Flocale%2Fv3%2F100014113%2Fen-XX.js%2C%2Flocale%2Fv3%2F3828%2Fen-XX.js&etagc=bb89499a7c9d10aad7e97c98aada27ac\"];  var entry = \"https://ws-s.tripcdn.cn/modules/ibu/online-home/onlineHome.7f1197dd5b41c08a9662cde44626ad63.js\";  function loadScript(link, success, error) {    var scriptEl = document.createElement(\\'script\\');    scriptEl.onload = function handleLoad() {      success && success();    };    scriptEl.onerror = function handleError(e) {      console.error ? console.error(e) : console.log(e);      error && error(e);    };    scriptEl.src = link;    scriptEl.async = false;    try {      const scriptUrl = new URL(link, location.origin);      const originUrl = new URL(location.origin, location.origin);      if (scriptUrl.protocol !== originUrl.protocol || scriptUrl.host !== originUrl.host || scriptUrl.port !== originUrl.port) {        scriptEl.crossOrigin = \\'anonymous\\';      }    } catch (error) {      console.log(\\'error\\', error);    }    document.body.appendChild(scriptEl);  }  function loadScripts(scripts, cb) {    var count = 0;    var size = scripts.length;    var success = function success() {      count += 1;      if (count >= size) {        cb();      }    };    var error = function error() {      count += 1;      if (count >= size) {        cb();      }    };    scripts.forEach(function load(link) {      loadScript(link, success, error);    });  }  function onLoadComplete() {    new window[\\'@ctrip/trip-component-platform-online-unban-cookie-popup\\'].default({});;    console.debug && console.debug(\\'load entry success. entry: \\', entry);  }  function loadDeps(cb) { loadScripts(deps, cb) }  function loadEntry() { loadScript(entry, onLoadComplete) }  function main() { loadDeps(loadEntry) };  if (window.SHELL_READY) {    main();  } else {    document.addEventListener(\\'SHELL_LOADED\\', main);  }}());</script><script async=\"\" src=\"https://ws-s.tripcdn.cn/modules/basebiz/ipoll-online-sdk/index.ebc5d439ea8db69057264a878b3a35a6.js\" crossorigin=\"anonymous\"></script></body></html><script>document.dispatchEvent(new Event(\\'SHELL_LOADED\\')); window.SHELL_READY = true;</script>'\n"
     ]
    }
   ],
   "execution_count": 49
  },
  {
   "metadata": {
    "ExecuteTime": {
     "end_time": "2024-07-08T02:17:58.924922Z",
     "start_time": "2024-07-08T02:17:58.923684Z"
    }
   },
   "cell_type": "code",
   "source": "",
   "id": "3afba8697867b985",
   "outputs": [],
   "execution_count": 49
  }
 ],
 "metadata": {
  "kernelspec": {
   "display_name": "Python 3",
   "language": "python",
   "name": "python3"
  },
  "language_info": {
   "codemirror_mode": {
    "name": "ipython",
    "version": 2
   },
   "file_extension": ".py",
   "mimetype": "text/x-python",
   "name": "python",
   "nbconvert_exporter": "python",
   "pygments_lexer": "ipython2",
   "version": "2.7.6"
  }
 },
 "nbformat": 4,
 "nbformat_minor": 5
}
