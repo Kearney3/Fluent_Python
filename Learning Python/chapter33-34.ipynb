{
 "cells": [
  {
   "metadata": {},
   "cell_type": "markdown",
   "source": "# 异常和工具",
   "id": "2907571fad370201"
  },
  {
   "cell_type": "code",
   "id": "initial_id",
   "metadata": {
    "collapsed": true,
    "ExecuteTime": {
     "end_time": "2024-07-08T02:25:03.144264Z",
     "start_time": "2024-07-08T02:25:03.140650Z"
    }
   },
   "source": [
    "a = 3\n",
    "b = 4\n",
    "try:\n",
    "    b = 5\n",
    "    c = 6\n",
    "except:\n",
    "    print('b is not 4')"
   ],
   "execution_count": 1,
   "outputs": []
  },
  {
   "metadata": {
    "ExecuteTime": {
     "end_time": "2024-07-08T02:25:03.148178Z",
     "start_time": "2024-07-08T02:25:03.145378Z"
    }
   },
   "cell_type": "code",
   "source": "a, b, c",
   "id": "54c92d09d3e18872",
   "execution_count": 2,
   "outputs": []
  },
  {
   "metadata": {
    "ExecuteTime": {
     "end_time": "2024-07-08T02:25:03.150937Z",
     "start_time": "2024-07-08T02:25:03.148984Z"
    }
   },
   "cell_type": "code",
   "source": [
    "def fechter(obj, index):\n",
    "    return obj[index]"
   ],
   "id": "5127e02480fb55f8",
   "execution_count": 3,
   "outputs": []
  },
  {
   "metadata": {
    "ExecuteTime": {
     "end_time": "2024-07-08T02:25:03.153685Z",
     "start_time": "2024-07-08T02:25:03.151540Z"
    }
   },
   "cell_type": "code",
   "source": [
    "x = 'spam'\n",
    "fechter(x, 3)"
   ],
   "id": "74d529b739a781f3",
   "execution_count": 4,
   "outputs": []
  },
  {
   "metadata": {
    "ExecuteTime": {
     "end_time": "2024-07-08T02:25:03.344937Z",
     "start_time": "2024-07-08T02:25:03.154983Z"
    }
   },
   "cell_type": "code",
   "source": "fechter(x,4)",
   "id": "c9e6cd0817c41a5b",
   "execution_count": 5,
   "outputs": []
  },
  {
   "metadata": {},
   "cell_type": "code",
   "source": [
    "def catcher():\n",
    "    try:\n",
    "        fechter(x, 4)\n",
    "    except IndexError:\n",
    "        print('got exception')\n",
    "    print('continuing')"
   ],
   "id": "2f18ca4c44ef7186",
   "execution_count": null,
   "outputs": []
  },
  {
   "metadata": {},
   "cell_type": "code",
   "source": "catcher()",
   "id": "faa4ff060d1105b8",
   "execution_count": null,
   "outputs": []
  },
  {
   "metadata": {},
   "cell_type": "code",
   "source": [
    "try:\n",
    "    raise IndexError\n",
    "except IndexError:\n",
    "    print('got exception')"
   ],
   "id": "a19487cd7254435f",
   "execution_count": null,
   "outputs": []
  },
  {
   "metadata": {},
   "cell_type": "code",
   "source": "raise IndexError",
   "id": "8cf3fc7a57850b9f",
   "execution_count": null,
   "outputs": []
  },
  {
   "metadata": {},
   "cell_type": "code",
   "source": "assert False, 'No!'",
   "id": "a6caf121a5eefeb",
   "execution_count": null,
   "outputs": []
  },
  {
   "metadata": {},
   "cell_type": "markdown",
   "source": "## 用户定义异常",
   "id": "fb124819a27244cc"
  },
  {
   "metadata": {},
   "cell_type": "code",
   "source": [
    "class AlreadyExists(Exception):\n",
    "    pass\n",
    "def grail():\n",
    "    raise AlreadyExists"
   ],
   "id": "7b7be36eeff968d6",
   "execution_count": null,
   "outputs": []
  },
  {
   "metadata": {},
   "cell_type": "code",
   "source": [
    "try:\n",
    "    grail()\n",
    "except AlreadyExists:\n",
    "    print('got exception')"
   ],
   "id": "fc92baffa19b367e",
   "execution_count": null,
   "outputs": []
  },
  {
   "metadata": {},
   "cell_type": "code",
   "source": [
    "class Career(Exception):\n",
    "    def __str__(self):\n",
    "        return 'So I became a waiter...'"
   ],
   "id": "4efa6c2f8629e057",
   "execution_count": null,
   "outputs": []
  },
  {
   "metadata": {},
   "cell_type": "code",
   "source": "raise Career",
   "id": "2cfef0d0e27de5de",
   "execution_count": null,
   "outputs": []
  },
  {
   "metadata": {},
   "cell_type": "code",
   "source": "dir(Career)",
   "id": "3b7620ded8a22bf5",
   "execution_count": null,
   "outputs": []
  },
  {
   "metadata": {},
   "cell_type": "code",
   "source": [
    "def after():\n",
    "    try:\n",
    "        fechter(x, 4)\n",
    "    finally:\n",
    "        print('after fetcher')\n",
    "    print('After try')\n",
    "    \n",
    "after()"
   ],
   "id": "b4c9c1eb3e91b197",
   "execution_count": null,
   "outputs": []
  },
  {
   "metadata": {},
   "cell_type": "code",
   "source": [
    "def after():\n",
    "    try:\n",
    "        fechter(x, 3)\n",
    "    finally:\n",
    "        print('after fetcher')\n",
    "    print('After try')\n",
    "    \n",
    "after()"
   ],
   "id": "ced7576ee9e18db4",
   "execution_count": null,
   "outputs": []
  },
  {
   "metadata": {},
   "cell_type": "code",
   "source": [
    "def after():\n",
    "    try:\n",
    "        fechter(x, 3)\n",
    "    except IndexError:\n",
    "        print('got exception')\n",
    "    else:\n",
    "        print('No exception')\n",
    "    finally:\n",
    "        print('after fetcher')\n",
    "\n",
    "    print('After try')\n",
    "    \n",
    "after()"
   ],
   "id": "6cc1279142a8ac15",
   "execution_count": null,
   "outputs": []
  },
  {
   "metadata": {},
   "cell_type": "markdown",
   "source": "# try except else",
   "id": "53ed247f96d6e417"
  },
  {
   "metadata": {},
   "cell_type": "code",
   "source": "def kaboom(x,y): return x + y",
   "id": "6b67822a091aad2c",
   "execution_count": null,
   "outputs": []
  },
  {
   "metadata": {},
   "cell_type": "code",
   "source": [
    "try:\n",
    "    kaboom([0,1,2], 'spam')\n",
    "except TypeError:\n",
    "    print('got exception')\n",
    "print('resume here')"
   ],
   "id": "b447d3744cd67600",
   "execution_count": null,
   "outputs": []
  },
  {
   "metadata": {},
   "cell_type": "markdown",
   "source": "finally 不会终⽌异常：异常会在 finally 语句执⾏结束后，继续向上传递",
   "id": "2b1d4c50178b1389"
  },
  {
   "metadata": {},
   "cell_type": "code",
   "source": [
    "try:\n",
    "    print('first try')\n",
    "    try:\n",
    "        print('second try')\n",
    "        raise IndexError\n",
    "    # except IndexError:\n",
    "    #     print('first try got exception')\n",
    "    finally:\n",
    "        print('after second try')\n",
    "except Exception:\n",
    "    print('second try got exception')\n",
    "finally:\n",
    "    print('after first try')"
   ],
   "id": "d53951e9f5db082a",
   "execution_count": null,
   "outputs": []
  },
  {
   "metadata": {},
   "cell_type": "markdown",
   "source": "## try/finally 终止",
   "id": "d8003546f602abc9"
  },
  {
   "metadata": {},
   "cell_type": "code",
   "source": "class MyError(Exception): pass",
   "id": "a71a3792f8010a14",
   "execution_count": null,
   "outputs": []
  },
  {
   "metadata": {},
   "cell_type": "code",
   "source": [
    "def stuff(file):\n",
    "    raise MyError\n",
    "file = open('data', 'w')\n",
    "try:\n",
    "    stuff(file)\n",
    "finally:\n",
    "    file.close()\n",
    "print('not reached')"
   ],
   "id": "e7fbd7cbb6655c0b",
   "execution_count": null,
   "outputs": []
  },
  {
   "metadata": {},
   "cell_type": "markdown",
   "source": "# 作用域",
   "id": "89860ac0eaa560d4"
  },
  {
   "metadata": {},
   "cell_type": "code",
   "source": [
    "try:\n",
    "    raise IndexError\n",
    "except IndexError as X:\n",
    "    pass"
   ],
   "id": "2ffe4304be66f5e",
   "execution_count": null,
   "outputs": []
  },
  {
   "metadata": {},
   "cell_type": "code",
   "source": "X",
   "id": "7b2de2e87af8db93",
   "execution_count": null,
   "outputs": []
  },
  {
   "metadata": {},
   "cell_type": "code",
   "source": [
    "try:\n",
    "    1/0\n",
    "except ZeroDivisionError as X:\n",
    "    print(X)"
   ],
   "id": "c0cc95954b3d5ad3",
   "execution_count": null,
   "outputs": []
  },
  {
   "metadata": {},
   "cell_type": "code",
   "source": "X",
   "id": "17203ccbc14a8ae2",
   "execution_count": null,
   "outputs": []
  },
  {
   "metadata": {},
   "cell_type": "code",
   "source": [
    "try:\n",
    "    1/0\n",
    "except ZeroDivisionError as X:\n",
    "    print(X)\n",
    "    temp = X"
   ],
   "id": "464fd6b88e9db7a7",
   "execution_count": null,
   "outputs": []
  },
  {
   "metadata": {},
   "cell_type": "code",
   "source": "temp",
   "id": "1f7cc0ff72652dff",
   "execution_count": null,
   "outputs": []
  },
  {
   "metadata": {},
   "cell_type": "markdown",
   "source": "raise 语句拥有比我们目前所看到的更加丰富的性质。例如，一个不带异常名称或额外数据值的raise 命令的作用是重新引发当前异常。一般如果需要捕获和处理一个异常，又不希望异常在程序代码中死掉时，就会采用这种形式。",
   "id": "26158dd9ad897c85"
  },
  {
   "metadata": {},
   "cell_type": "code",
   "source": [
    "try:\n",
    "    raise IndexError('spam')\n",
    "except IndexError as X:\n",
    "    print('Processing')\n",
    "    raise"
   ],
   "id": "cf7e7cbe792cfb6",
   "execution_count": null,
   "outputs": []
  },
  {
   "metadata": {},
   "cell_type": "markdown",
   "source": "## raise from 异常链",
   "id": "9f048a8f048d76bc"
  },
  {
   "metadata": {
    "ExecuteTime": {
     "end_time": "2024-07-08T02:25:03.433691Z",
     "start_time": "2024-07-08T02:25:03.422860Z"
    }
   },
   "cell_type": "code",
   "source": [
    "try:\n",
    "    1/0\n",
    "except Exception as E:\n",
    "    raise TypeError('Bad') from E"
   ],
   "id": "23359dfb565530f1",
   "execution_count": 6,
   "outputs": []
  },
  {
   "metadata": {
    "ExecuteTime": {
     "end_time": "2024-07-08T02:25:03.466971Z",
     "start_time": "2024-07-08T02:25:03.455842Z"
    }
   },
   "cell_type": "code",
   "source": [
    "try:\n",
    "    1/0\n",
    "except:\n",
    "    badname"
   ],
   "id": "80f2b5e034750411",
   "execution_count": 7,
   "outputs": []
  },
  {
   "metadata": {},
   "cell_type": "code",
   "source": [
    "try:\n",
    "    try:\n",
    "        raise IndexError\n",
    "    except Exception as E:\n",
    "        raise TypeError from E\n",
    "except Exception as E:\n",
    "    raise ValueError('Bad') from E"
   ],
   "id": "db8f767df581a54d",
   "execution_count": null,
   "outputs": []
  },
  {
   "metadata": {},
   "cell_type": "markdown",
   "source": [
    "## assert\n",
    "> assert语句通常是在开发期间⽤于验证程序状况的。当它显示时，其出错消息正⽂会⾃动包括源代码的⾏信息，以及列在 assert 语句中的值\n",
    "\n",
    "assert ⼏乎都是⽤来捕获⽤户定义的约束条件，⽽不是捕捉实际的程序设计错误。因为 Python 会⾃⾏捕获程序的设计错误，所以通常没必要写 assert 去捕捉超出索引值、类型不匹配以及除数为零之类的事情"
   ],
   "id": "6ed79a20c8e6a"
  },
  {
   "metadata": {
    "ExecuteTime": {
     "end_time": "2024-07-08T02:25:03.471512Z",
     "start_time": "2024-07-08T02:25:03.469720Z"
    }
   },
   "cell_type": "code",
   "source": [
    "def f(x):\n",
    "    assert x<0, 'x must be negative'\n",
    "    return x ** 2"
   ],
   "id": "678ac05b7bccade2",
   "execution_count": 8,
   "outputs": []
  },
  {
   "metadata": {
    "ExecuteTime": {
     "end_time": "2024-07-08T02:25:03.488875Z",
     "start_time": "2024-07-08T02:25:03.479182Z"
    }
   },
   "cell_type": "code",
   "source": "f(2)",
   "id": "215b656023dd2da3",
   "execution_count": 9,
   "outputs": []
  },
  {
   "metadata": {},
   "cell_type": "code",
   "source": "f(-2)",
   "id": "78cf099dbe69d22d",
   "execution_count": null,
   "outputs": []
  },
  {
   "metadata": {},
   "cell_type": "markdown",
   "source": "# with as",
   "id": "fab4b2039a9a81ea"
  },
  {
   "metadata": {
    "ExecuteTime": {
     "end_time": "2024-07-08T02:25:03.507768Z",
     "start_time": "2024-07-08T02:25:03.505723Z"
    }
   },
   "cell_type": "code",
   "source": [
    "class TraceBlock:\n",
    "    def message(self, arg):\n",
    "        print('running ' + arg)\n",
    "    def __enter__(self):\n",
    "        print('starting with block')\n",
    "        return self\n",
    "    def __exit__(self, exc_type, exc_value, exc_tb):\n",
    "        if exc_type is None:\n",
    "            print('exited normally\\n')\n",
    "        else:\n",
    "            print(f'raise an exception!')\n",
    "            print(f'{exc_type=}, {exc_value=}, {exc_tb=}')\n",
    "            return False    # Propagate"
   ],
   "id": "8fd9c2664513b51a",
   "execution_count": 10,
   "outputs": []
  },
  {
   "metadata": {
    "ExecuteTime": {
     "end_time": "2024-07-08T02:25:03.518262Z",
     "start_time": "2024-07-08T02:25:03.516248Z"
    }
   },
   "cell_type": "code",
   "source": [
    "with TraceBlock() as action:  \n",
    "    action.message('test 1')\n",
    "    print('reached')"
   ],
   "id": "2a59c7a0086851b5",
   "execution_count": 11,
   "outputs": []
  },
  {
   "metadata": {
    "ExecuteTime": {
     "end_time": "2024-07-08T02:25:03.531576Z",
     "start_time": "2024-07-08T02:25:03.524211Z"
    }
   },
   "cell_type": "code",
   "source": [
    "with TraceBlock() as action:\n",
    "    action.message('test 2')\n",
    "    raise TypeError\n",
    "    print('not reached')\n"
   ],
   "id": "2872f2a155cf75a2",
   "execution_count": 12,
   "outputs": []
  },
  {
   "metadata": {
    "ExecuteTime": {
     "end_time": "2024-07-08T02:25:03.539237Z",
     "start_time": "2024-07-08T02:25:03.534548Z"
    }
   },
   "cell_type": "code",
   "source": [
    "with open('reloadall.py') as f1, open('reloadall2.py') as f2:\n",
    "    for line, (l1, l2) in enumerate(zip(f1, f2)):\n",
    "        if l1 != l2:\n",
    "            print(f'{line}: {l1.rstrip()} != {l2.rstrip()}')"
   ],
   "id": "230fb0760a851127",
   "execution_count": 13,
   "outputs": []
  },
  {
   "metadata": {
    "ExecuteTime": {
     "end_time": "2024-07-08T02:25:03.567850Z",
     "start_time": "2024-07-08T02:25:03.564532Z"
    }
   },
   "cell_type": "code",
   "source": [
    "with open('reloadall.py') as f1, open('reloadall_copy.py', 'w') as f2:\n",
    "    for line in f1:\n",
    "        f2.write(line.upper())"
   ],
   "id": "b9b1cfbdcafd43d1",
   "execution_count": 14,
   "outputs": []
  },
  {
   "metadata": {
    "ExecuteTime": {
     "end_time": "2024-07-08T02:25:03.589637Z",
     "start_time": "2024-07-08T02:25:03.587905Z"
    }
   },
   "cell_type": "code",
   "source": "",
   "id": "2d00bb2195ef2be5",
   "execution_count": 14,
   "outputs": []
  }
 ],
 "metadata": {
  "kernelspec": {
   "display_name": "Python 3",
   "language": "python",
   "name": "python3"
  },
  "language_info": {
   "codemirror_mode": {
    "name": "ipython",
    "version": 2
   },
   "file_extension": ".py",
   "mimetype": "text/x-python",
   "name": "python",
   "nbconvert_exporter": "python",
   "pygments_lexer": "ipython2",
   "version": "2.7.6"
  }
 },
 "nbformat": 4,
 "nbformat_minor": 5
}
