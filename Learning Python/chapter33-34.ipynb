{
 "cells": [
  {
   "metadata": {},
   "cell_type": "markdown",
   "source": "# 异常和工具",
   "id": "2907571fad370201"
  },
  {
   "cell_type": "code",
   "id": "initial_id",
   "metadata": {
    "collapsed": true,
    "ExecuteTime": {
     "end_time": "2024-07-02T07:53:40.087262Z",
     "start_time": "2024-07-02T07:53:40.085220Z"
    }
   },
   "source": [
    "a = 3\n",
    "b = 4\n",
    "try:\n",
    "    b = 5\n",
    "    c = 6\n",
    "except:\n",
    "    print('b is not 4')"
   ],
   "outputs": [],
   "execution_count": 2
  },
  {
   "metadata": {
    "ExecuteTime": {
     "end_time": "2024-07-02T07:53:47.928223Z",
     "start_time": "2024-07-02T07:53:47.911899Z"
    }
   },
   "cell_type": "code",
   "source": "a, b, c",
   "id": "54c92d09d3e18872",
   "outputs": [
    {
     "data": {
      "text/plain": [
       "(3, 5, 6)"
      ]
     },
     "execution_count": 3,
     "metadata": {},
     "output_type": "execute_result"
    }
   ],
   "execution_count": 3
  },
  {
   "metadata": {
    "ExecuteTime": {
     "end_time": "2024-07-02T07:56:11.850681Z",
     "start_time": "2024-07-02T07:56:11.837053Z"
    }
   },
   "cell_type": "code",
   "source": [
    "def fechter(obj, index):\n",
    "    return obj[index]"
   ],
   "id": "5127e02480fb55f8",
   "outputs": [],
   "execution_count": 4
  },
  {
   "metadata": {
    "ExecuteTime": {
     "end_time": "2024-07-02T07:56:17.474428Z",
     "start_time": "2024-07-02T07:56:17.470999Z"
    }
   },
   "cell_type": "code",
   "source": [
    "x = 'spam'\n",
    "fechter(x, 3)"
   ],
   "id": "74d529b739a781f3",
   "outputs": [
    {
     "data": {
      "text/plain": [
       "'m'"
      ]
     },
     "execution_count": 5,
     "metadata": {},
     "output_type": "execute_result"
    }
   ],
   "execution_count": 5
  },
  {
   "metadata": {
    "ExecuteTime": {
     "end_time": "2024-07-02T07:56:27.980307Z",
     "start_time": "2024-07-02T07:56:27.968604Z"
    }
   },
   "cell_type": "code",
   "source": "fechter(x,4)",
   "id": "c9e6cd0817c41a5b",
   "outputs": [
    {
     "ename": "IndexError",
     "evalue": "string index out of range",
     "output_type": "error",
     "traceback": [
      "\u001B[0;31m---------------------------------------------------------------------------\u001B[0m",
      "\u001B[0;31mIndexError\u001B[0m                                Traceback (most recent call last)",
      "Cell \u001B[0;32mIn[7], line 1\u001B[0m\n\u001B[0;32m----> 1\u001B[0m fechter(x,\u001B[38;5;241m4\u001B[39m)\n",
      "Cell \u001B[0;32mIn[4], line 2\u001B[0m, in \u001B[0;36mfechter\u001B[0;34m(obj, index)\u001B[0m\n\u001B[1;32m      1\u001B[0m \u001B[38;5;28;01mdef\u001B[39;00m \u001B[38;5;21mfechter\u001B[39m(obj, index):\n\u001B[0;32m----> 2\u001B[0m     \u001B[38;5;28;01mreturn\u001B[39;00m obj[index]\n",
      "\u001B[0;31mIndexError\u001B[0m: string index out of range"
     ]
    }
   ],
   "execution_count": 7
  },
  {
   "metadata": {
    "ExecuteTime": {
     "end_time": "2024-07-02T07:57:52.245848Z",
     "start_time": "2024-07-02T07:57:52.241923Z"
    }
   },
   "cell_type": "code",
   "source": [
    "def catcher():\n",
    "    try:\n",
    "        fechter(x, 4)\n",
    "    except IndexError:\n",
    "        print('got exception')\n",
    "    print('continuing')"
   ],
   "id": "2f18ca4c44ef7186",
   "outputs": [],
   "execution_count": 8
  },
  {
   "metadata": {
    "ExecuteTime": {
     "end_time": "2024-07-02T07:57:53.626336Z",
     "start_time": "2024-07-02T07:57:53.624555Z"
    }
   },
   "cell_type": "code",
   "source": "catcher()",
   "id": "faa4ff060d1105b8",
   "outputs": [
    {
     "name": "stdout",
     "output_type": "stream",
     "text": [
      "got exception\n",
      "continuing\n"
     ]
    }
   ],
   "execution_count": 9
  },
  {
   "metadata": {
    "ExecuteTime": {
     "end_time": "2024-07-02T07:58:42.214530Z",
     "start_time": "2024-07-02T07:58:42.206859Z"
    }
   },
   "cell_type": "code",
   "source": [
    "try:\n",
    "    raise IndexError\n",
    "except IndexError:\n",
    "    print('got exception')"
   ],
   "id": "a19487cd7254435f",
   "outputs": [
    {
     "name": "stdout",
     "output_type": "stream",
     "text": [
      "got exception\n"
     ]
    }
   ],
   "execution_count": 10
  },
  {
   "metadata": {
    "ExecuteTime": {
     "end_time": "2024-07-02T07:58:52.309543Z",
     "start_time": "2024-07-02T07:58:52.293517Z"
    }
   },
   "cell_type": "code",
   "source": "raise IndexError",
   "id": "8cf3fc7a57850b9f",
   "outputs": [
    {
     "ename": "IndexError",
     "evalue": "",
     "output_type": "error",
     "traceback": [
      "\u001B[0;31m---------------------------------------------------------------------------\u001B[0m",
      "\u001B[0;31mIndexError\u001B[0m                                Traceback (most recent call last)",
      "Cell \u001B[0;32mIn[11], line 1\u001B[0m\n\u001B[0;32m----> 1\u001B[0m \u001B[38;5;28;01mraise\u001B[39;00m \u001B[38;5;167;01mIndexError\u001B[39;00m\n",
      "\u001B[0;31mIndexError\u001B[0m: "
     ]
    }
   ],
   "execution_count": 11
  },
  {
   "metadata": {
    "ExecuteTime": {
     "end_time": "2024-07-02T07:59:48.568825Z",
     "start_time": "2024-07-02T07:59:48.552840Z"
    }
   },
   "cell_type": "code",
   "source": "assert False, 'No!'",
   "id": "a6caf121a5eefeb",
   "outputs": [
    {
     "ename": "AssertionError",
     "evalue": "No!",
     "output_type": "error",
     "traceback": [
      "\u001B[0;31m---------------------------------------------------------------------------\u001B[0m",
      "\u001B[0;31mAssertionError\u001B[0m                            Traceback (most recent call last)",
      "Cell \u001B[0;32mIn[14], line 1\u001B[0m\n\u001B[0;32m----> 1\u001B[0m \u001B[38;5;28;01massert\u001B[39;00m \u001B[38;5;28;01mFalse\u001B[39;00m, \u001B[38;5;124m'\u001B[39m\u001B[38;5;124mNo!\u001B[39m\u001B[38;5;124m'\u001B[39m\n",
      "\u001B[0;31mAssertionError\u001B[0m: No!"
     ]
    }
   ],
   "execution_count": 14
  },
  {
   "metadata": {},
   "cell_type": "markdown",
   "source": "## 用户定义异常",
   "id": "fb124819a27244cc"
  },
  {
   "metadata": {
    "ExecuteTime": {
     "end_time": "2024-07-02T08:00:35.511011Z",
     "start_time": "2024-07-02T08:00:35.506910Z"
    }
   },
   "cell_type": "code",
   "source": [
    "class AlreadyExists(Exception):\n",
    "    pass\n",
    "def grail():\n",
    "    raise AlreadyExists"
   ],
   "id": "7b7be36eeff968d6",
   "outputs": [],
   "execution_count": 15
  },
  {
   "metadata": {
    "ExecuteTime": {
     "end_time": "2024-07-02T08:00:45.429925Z",
     "start_time": "2024-07-02T08:00:45.428087Z"
    }
   },
   "cell_type": "code",
   "source": [
    "try:\n",
    "    grail()\n",
    "except AlreadyExists:\n",
    "    print('got exception')"
   ],
   "id": "fc92baffa19b367e",
   "outputs": [
    {
     "name": "stdout",
     "output_type": "stream",
     "text": [
      "got exception\n"
     ]
    }
   ],
   "execution_count": 16
  },
  {
   "metadata": {
    "ExecuteTime": {
     "end_time": "2024-07-02T08:01:28.587889Z",
     "start_time": "2024-07-02T08:01:28.583828Z"
    }
   },
   "cell_type": "code",
   "source": [
    "class Career(Exception):\n",
    "    def __str__(self):\n",
    "        return 'So I became a waiter...'"
   ],
   "id": "4efa6c2f8629e057",
   "outputs": [],
   "execution_count": 17
  },
  {
   "metadata": {
    "ExecuteTime": {
     "end_time": "2024-07-02T08:10:28.233301Z",
     "start_time": "2024-07-02T08:10:28.216435Z"
    }
   },
   "cell_type": "code",
   "source": "raise Career",
   "id": "2cfef0d0e27de5de",
   "outputs": [
    {
     "ename": "Career",
     "evalue": "So I became a waiter...",
     "output_type": "error",
     "traceback": [
      "\u001B[0;31m---------------------------------------------------------------------------\u001B[0m",
      "\u001B[0;31mCareer\u001B[0m                                    Traceback (most recent call last)",
      "Cell \u001B[0;32mIn[27], line 1\u001B[0m\n\u001B[0;32m----> 1\u001B[0m \u001B[38;5;28;01mraise\u001B[39;00m Career\n",
      "\u001B[0;31mCareer\u001B[0m: So I became a waiter..."
     ]
    }
   ],
   "execution_count": 27
  },
  {
   "metadata": {
    "ExecuteTime": {
     "end_time": "2024-07-02T08:10:31.424767Z",
     "start_time": "2024-07-02T08:10:31.422177Z"
    }
   },
   "cell_type": "code",
   "source": "dir(Career)",
   "id": "3b7620ded8a22bf5",
   "outputs": [
    {
     "data": {
      "text/plain": [
       "['__cause__',\n",
       " '__class__',\n",
       " '__context__',\n",
       " '__delattr__',\n",
       " '__dict__',\n",
       " '__dir__',\n",
       " '__doc__',\n",
       " '__eq__',\n",
       " '__format__',\n",
       " '__ge__',\n",
       " '__getattribute__',\n",
       " '__getstate__',\n",
       " '__gt__',\n",
       " '__hash__',\n",
       " '__init__',\n",
       " '__init_subclass__',\n",
       " '__le__',\n",
       " '__lt__',\n",
       " '__module__',\n",
       " '__ne__',\n",
       " '__new__',\n",
       " '__reduce__',\n",
       " '__reduce_ex__',\n",
       " '__repr__',\n",
       " '__setattr__',\n",
       " '__setstate__',\n",
       " '__sizeof__',\n",
       " '__str__',\n",
       " '__subclasshook__',\n",
       " '__suppress_context__',\n",
       " '__traceback__',\n",
       " '__weakref__',\n",
       " 'add_note',\n",
       " 'args',\n",
       " 'with_traceback']"
      ]
     },
     "execution_count": 28,
     "metadata": {},
     "output_type": "execute_result"
    }
   ],
   "execution_count": 28
  },
  {
   "metadata": {
    "ExecuteTime": {
     "end_time": "2024-07-02T08:04:44.161311Z",
     "start_time": "2024-07-02T08:04:44.144995Z"
    }
   },
   "cell_type": "code",
   "source": [
    "def after():\n",
    "    try:\n",
    "        fechter(x, 4)\n",
    "    finally:\n",
    "        print('after fetcher')\n",
    "    print('After try')\n",
    "    \n",
    "after()"
   ],
   "id": "b4c9c1eb3e91b197",
   "outputs": [
    {
     "name": "stdout",
     "output_type": "stream",
     "text": [
      "after fetcher\n"
     ]
    },
    {
     "ename": "IndexError",
     "evalue": "string index out of range",
     "output_type": "error",
     "traceback": [
      "\u001B[0;31m---------------------------------------------------------------------------\u001B[0m",
      "\u001B[0;31mIndexError\u001B[0m                                Traceback (most recent call last)",
      "Cell \u001B[0;32mIn[23], line 8\u001B[0m\n\u001B[1;32m      5\u001B[0m         \u001B[38;5;28mprint\u001B[39m(\u001B[38;5;124m'\u001B[39m\u001B[38;5;124mafter fetcher\u001B[39m\u001B[38;5;124m'\u001B[39m)\n\u001B[1;32m      6\u001B[0m     \u001B[38;5;28mprint\u001B[39m(\u001B[38;5;124m'\u001B[39m\u001B[38;5;124mAfter try\u001B[39m\u001B[38;5;124m'\u001B[39m)\n\u001B[0;32m----> 8\u001B[0m after()\n",
      "Cell \u001B[0;32mIn[23], line 3\u001B[0m, in \u001B[0;36mafter\u001B[0;34m()\u001B[0m\n\u001B[1;32m      1\u001B[0m \u001B[38;5;28;01mdef\u001B[39;00m \u001B[38;5;21mafter\u001B[39m():\n\u001B[1;32m      2\u001B[0m     \u001B[38;5;28;01mtry\u001B[39;00m:\n\u001B[0;32m----> 3\u001B[0m         fechter(x, \u001B[38;5;241m4\u001B[39m)\n\u001B[1;32m      4\u001B[0m     \u001B[38;5;28;01mfinally\u001B[39;00m:\n\u001B[1;32m      5\u001B[0m         \u001B[38;5;28mprint\u001B[39m(\u001B[38;5;124m'\u001B[39m\u001B[38;5;124mafter fetcher\u001B[39m\u001B[38;5;124m'\u001B[39m)\n",
      "Cell \u001B[0;32mIn[4], line 2\u001B[0m, in \u001B[0;36mfechter\u001B[0;34m(obj, index)\u001B[0m\n\u001B[1;32m      1\u001B[0m \u001B[38;5;28;01mdef\u001B[39;00m \u001B[38;5;21mfechter\u001B[39m(obj, index):\n\u001B[0;32m----> 2\u001B[0m     \u001B[38;5;28;01mreturn\u001B[39;00m obj[index]\n",
      "\u001B[0;31mIndexError\u001B[0m: string index out of range"
     ]
    }
   ],
   "execution_count": 23
  },
  {
   "metadata": {
    "ExecuteTime": {
     "end_time": "2024-07-02T08:04:50.209929Z",
     "start_time": "2024-07-02T08:04:50.205295Z"
    }
   },
   "cell_type": "code",
   "source": [
    "def after():\n",
    "    try:\n",
    "        fechter(x, 3)\n",
    "    finally:\n",
    "        print('after fetcher')\n",
    "    print('After try')\n",
    "    \n",
    "after()"
   ],
   "id": "ced7576ee9e18db4",
   "outputs": [
    {
     "name": "stdout",
     "output_type": "stream",
     "text": [
      "after fetcher\n",
      "After try\n"
     ]
    }
   ],
   "execution_count": 24
  },
  {
   "metadata": {
    "ExecuteTime": {
     "end_time": "2024-07-02T08:08:04.839110Z",
     "start_time": "2024-07-02T08:08:04.834470Z"
    }
   },
   "cell_type": "code",
   "source": [
    "def after():\n",
    "    try:\n",
    "        fechter(x, 3)\n",
    "    except IndexError:\n",
    "        print('got exception')\n",
    "    else:\n",
    "        print('No exception')\n",
    "    finally:\n",
    "        print('after fetcher')\n",
    "\n",
    "    print('After try')\n",
    "    \n",
    "after()"
   ],
   "id": "6cc1279142a8ac15",
   "outputs": [
    {
     "name": "stdout",
     "output_type": "stream",
     "text": [
      "No exception\n",
      "after fetcher\n",
      "After try\n"
     ]
    }
   ],
   "execution_count": 26
  },
  {
   "metadata": {},
   "cell_type": "markdown",
   "source": "# try except else",
   "id": "53ed247f96d6e417"
  },
  {
   "metadata": {
    "ExecuteTime": {
     "end_time": "2024-07-02T08:21:42.339345Z",
     "start_time": "2024-07-02T08:21:42.333318Z"
    }
   },
   "cell_type": "code",
   "source": "def kaboom(x,y): return x + y",
   "id": "6b67822a091aad2c",
   "outputs": [],
   "execution_count": 29
  },
  {
   "metadata": {
    "ExecuteTime": {
     "end_time": "2024-07-02T08:22:08.266068Z",
     "start_time": "2024-07-02T08:22:08.263076Z"
    }
   },
   "cell_type": "code",
   "source": [
    "try:\n",
    "    kaboom([0,1,2], 'spam')\n",
    "except TypeError:\n",
    "    print('got exception')\n",
    "print('resume here')"
   ],
   "id": "b447d3744cd67600",
   "outputs": [
    {
     "name": "stdout",
     "output_type": "stream",
     "text": [
      "got exception\n",
      "resume here\n"
     ]
    }
   ],
   "execution_count": 30
  },
  {
   "metadata": {},
   "cell_type": "markdown",
   "source": "finally 不会终⽌异常：异常会在 finally 语句执⾏结束后，继续向上传递",
   "id": "2b1d4c50178b1389"
  },
  {
   "metadata": {
    "ExecuteTime": {
     "end_time": "2024-07-02T08:29:17.169372Z",
     "start_time": "2024-07-02T08:29:17.167107Z"
    }
   },
   "cell_type": "code",
   "source": [
    "try:\n",
    "    print('first try')\n",
    "    try:\n",
    "        print('second try')\n",
    "        raise IndexError\n",
    "    # except IndexError:\n",
    "    #     print('first try got exception')\n",
    "    finally:\n",
    "        print('after second try')\n",
    "except Exception:\n",
    "    print('second try got exception')\n",
    "finally:\n",
    "    print('after first try')"
   ],
   "id": "d53951e9f5db082a",
   "outputs": [
    {
     "name": "stdout",
     "output_type": "stream",
     "text": [
      "first try\n",
      "second try\n",
      "after second try\n",
      "second try got exception\n",
      "after first try\n"
     ]
    }
   ],
   "execution_count": 34
  },
  {
   "metadata": {},
   "cell_type": "markdown",
   "source": "## try/finally 终止",
   "id": "d8003546f602abc9"
  },
  {
   "metadata": {
    "ExecuteTime": {
     "end_time": "2024-07-02T08:24:58.371663Z",
     "start_time": "2024-07-02T08:24:58.364126Z"
    }
   },
   "cell_type": "code",
   "source": "class MyError(Exception): pass",
   "id": "a71a3792f8010a14",
   "outputs": [],
   "execution_count": 31
  },
  {
   "metadata": {
    "ExecuteTime": {
     "end_time": "2024-07-02T08:25:54.172511Z",
     "start_time": "2024-07-02T08:25:54.154304Z"
    }
   },
   "cell_type": "code",
   "source": [
    "def stuff(file):\n",
    "    raise MyError\n",
    "file = open('data', 'w')\n",
    "try:\n",
    "    stuff(file)\n",
    "finally:\n",
    "    file.close()\n",
    "print('not reached')"
   ],
   "id": "e7fbd7cbb6655c0b",
   "outputs": [
    {
     "ename": "MyError",
     "evalue": "",
     "output_type": "error",
     "traceback": [
      "\u001B[0;31m---------------------------------------------------------------------------\u001B[0m",
      "\u001B[0;31mMyError\u001B[0m                                   Traceback (most recent call last)",
      "Cell \u001B[0;32mIn[32], line 5\u001B[0m\n\u001B[1;32m      3\u001B[0m file \u001B[38;5;241m=\u001B[39m \u001B[38;5;28mopen\u001B[39m(\u001B[38;5;124m'\u001B[39m\u001B[38;5;124mdata\u001B[39m\u001B[38;5;124m'\u001B[39m, \u001B[38;5;124m'\u001B[39m\u001B[38;5;124mw\u001B[39m\u001B[38;5;124m'\u001B[39m)\n\u001B[1;32m      4\u001B[0m \u001B[38;5;28;01mtry\u001B[39;00m:\n\u001B[0;32m----> 5\u001B[0m     stuff(file)\n\u001B[1;32m      6\u001B[0m \u001B[38;5;28;01mfinally\u001B[39;00m:\n\u001B[1;32m      7\u001B[0m     file\u001B[38;5;241m.\u001B[39mclose()\n",
      "Cell \u001B[0;32mIn[32], line 2\u001B[0m, in \u001B[0;36mstuff\u001B[0;34m(file)\u001B[0m\n\u001B[1;32m      1\u001B[0m \u001B[38;5;28;01mdef\u001B[39;00m \u001B[38;5;21mstuff\u001B[39m(file):\n\u001B[0;32m----> 2\u001B[0m     \u001B[38;5;28;01mraise\u001B[39;00m MyError\n",
      "\u001B[0;31mMyError\u001B[0m: "
     ]
    }
   ],
   "execution_count": 32
  },
  {
   "metadata": {},
   "cell_type": "markdown",
   "source": "# 作用域",
   "id": "89860ac0eaa560d4"
  },
  {
   "metadata": {
    "ExecuteTime": {
     "end_time": "2024-07-02T08:39:18.834721Z",
     "start_time": "2024-07-02T08:39:18.830446Z"
    }
   },
   "cell_type": "code",
   "source": [
    "try:\n",
    "    raise IndexError\n",
    "except IndexError as X:\n",
    "    pass"
   ],
   "id": "2ffe4304be66f5e",
   "outputs": [],
   "execution_count": 36
  },
  {
   "metadata": {
    "ExecuteTime": {
     "end_time": "2024-07-02T08:39:19.865089Z",
     "start_time": "2024-07-02T08:39:19.840677Z"
    }
   },
   "cell_type": "code",
   "source": "X",
   "id": "7b2de2e87af8db93",
   "outputs": [
    {
     "ename": "NameError",
     "evalue": "name 'X' is not defined",
     "output_type": "error",
     "traceback": [
      "\u001B[0;31m---------------------------------------------------------------------------\u001B[0m",
      "\u001B[0;31mNameError\u001B[0m                                 Traceback (most recent call last)",
      "Cell \u001B[0;32mIn[37], line 1\u001B[0m\n\u001B[0;32m----> 1\u001B[0m X\n",
      "\u001B[0;31mNameError\u001B[0m: name 'X' is not defined"
     ]
    }
   ],
   "execution_count": 37
  },
  {
   "metadata": {
    "ExecuteTime": {
     "end_time": "2024-07-02T08:40:21.825557Z",
     "start_time": "2024-07-02T08:40:21.821040Z"
    }
   },
   "cell_type": "code",
   "source": [
    "try:\n",
    "    1/0\n",
    "except ZeroDivisionError as X:\n",
    "    print(X)"
   ],
   "id": "c0cc95954b3d5ad3",
   "outputs": [
    {
     "name": "stdout",
     "output_type": "stream",
     "text": [
      "division by zero\n"
     ]
    }
   ],
   "execution_count": 38
  },
  {
   "metadata": {
    "ExecuteTime": {
     "end_time": "2024-07-02T08:40:26.451362Z",
     "start_time": "2024-07-02T08:40:26.439129Z"
    }
   },
   "cell_type": "code",
   "source": "X",
   "id": "17203ccbc14a8ae2",
   "outputs": [
    {
     "ename": "NameError",
     "evalue": "name 'X' is not defined",
     "output_type": "error",
     "traceback": [
      "\u001B[0;31m---------------------------------------------------------------------------\u001B[0m",
      "\u001B[0;31mNameError\u001B[0m                                 Traceback (most recent call last)",
      "Cell \u001B[0;32mIn[39], line 1\u001B[0m\n\u001B[0;32m----> 1\u001B[0m X\n",
      "\u001B[0;31mNameError\u001B[0m: name 'X' is not defined"
     ]
    }
   ],
   "execution_count": 39
  },
  {
   "metadata": {
    "ExecuteTime": {
     "end_time": "2024-07-02T08:43:36.162798Z",
     "start_time": "2024-07-02T08:43:36.156192Z"
    }
   },
   "cell_type": "code",
   "source": [
    "try:\n",
    "    1/0\n",
    "except ZeroDivisionError as X:\n",
    "    print(X)\n",
    "    temp = X"
   ],
   "id": "464fd6b88e9db7a7",
   "outputs": [
    {
     "name": "stdout",
     "output_type": "stream",
     "text": [
      "division by zero\n"
     ]
    }
   ],
   "execution_count": 40
  },
  {
   "metadata": {
    "ExecuteTime": {
     "end_time": "2024-07-02T08:43:39.537437Z",
     "start_time": "2024-07-02T08:43:39.534834Z"
    }
   },
   "cell_type": "code",
   "source": "temp",
   "id": "1f7cc0ff72652dff",
   "outputs": [
    {
     "data": {
      "text/plain": [
       "ZeroDivisionError('division by zero')"
      ]
     },
     "execution_count": 42,
     "metadata": {},
     "output_type": "execute_result"
    }
   ],
   "execution_count": 42
  },
  {
   "metadata": {},
   "cell_type": "markdown",
   "source": "raise 语句拥有比我们目前所看到的更加丰富的性质。例如，一个不带异常名称或额外数据值的raise 命令的作用是重新引发当前异常。一般如果需要捕获和处理一个异常，又不希望异常在程序代码中死掉时，就会采用这种形式。",
   "id": "26158dd9ad897c85"
  },
  {
   "metadata": {
    "ExecuteTime": {
     "end_time": "2024-07-02T08:46:09.398128Z",
     "start_time": "2024-07-02T08:46:09.390719Z"
    }
   },
   "cell_type": "code",
   "source": [
    "try:\n",
    "    raise IndexError('spam')\n",
    "except IndexError as X:\n",
    "    print('Processing')\n",
    "    raise"
   ],
   "id": "cf7e7cbe792cfb6",
   "outputs": [
    {
     "name": "stdout",
     "output_type": "stream",
     "text": [
      "Processing\n"
     ]
    },
    {
     "ename": "IndexError",
     "evalue": "spam",
     "output_type": "error",
     "traceback": [
      "\u001B[0;31m---------------------------------------------------------------------------\u001B[0m",
      "\u001B[0;31mIndexError\u001B[0m                                Traceback (most recent call last)",
      "Cell \u001B[0;32mIn[44], line 2\u001B[0m\n\u001B[1;32m      1\u001B[0m \u001B[38;5;28;01mtry\u001B[39;00m:\n\u001B[0;32m----> 2\u001B[0m     \u001B[38;5;28;01mraise\u001B[39;00m \u001B[38;5;167;01mIndexError\u001B[39;00m(\u001B[38;5;124m'\u001B[39m\u001B[38;5;124mspam\u001B[39m\u001B[38;5;124m'\u001B[39m)\n\u001B[1;32m      3\u001B[0m \u001B[38;5;28;01mexcept\u001B[39;00m \u001B[38;5;167;01mIndexError\u001B[39;00m \u001B[38;5;28;01mas\u001B[39;00m X:\n\u001B[1;32m      4\u001B[0m     \u001B[38;5;28mprint\u001B[39m(\u001B[38;5;124m'\u001B[39m\u001B[38;5;124mProcessing\u001B[39m\u001B[38;5;124m'\u001B[39m)\n",
      "\u001B[0;31mIndexError\u001B[0m: spam"
     ]
    }
   ],
   "execution_count": 44
  },
  {
   "metadata": {},
   "cell_type": "markdown",
   "source": "## raise from 异常链",
   "id": "9f048a8f048d76bc"
  },
  {
   "metadata": {
    "ExecuteTime": {
     "end_time": "2024-07-02T08:50:38.143812Z",
     "start_time": "2024-07-02T08:50:38.123013Z"
    }
   },
   "cell_type": "code",
   "source": [
    "try:\n",
    "    1/0\n",
    "except Exception as E:\n",
    "    raise TypeError('Bad') from E"
   ],
   "id": "23359dfb565530f1",
   "outputs": [
    {
     "ename": "TypeError",
     "evalue": "Bad",
     "output_type": "error",
     "traceback": [
      "\u001B[0;31m---------------------------------------------------------------------------\u001B[0m",
      "\u001B[0;31mZeroDivisionError\u001B[0m                         Traceback (most recent call last)",
      "Cell \u001B[0;32mIn[45], line 2\u001B[0m\n\u001B[1;32m      1\u001B[0m \u001B[38;5;28;01mtry\u001B[39;00m:\n\u001B[0;32m----> 2\u001B[0m     \u001B[38;5;241m1\u001B[39m\u001B[38;5;241m/\u001B[39m\u001B[38;5;241m0\u001B[39m\n\u001B[1;32m      3\u001B[0m \u001B[38;5;28;01mexcept\u001B[39;00m \u001B[38;5;167;01mException\u001B[39;00m \u001B[38;5;28;01mas\u001B[39;00m E:\n",
      "\u001B[0;31mZeroDivisionError\u001B[0m: division by zero",
      "\nThe above exception was the direct cause of the following exception:\n",
      "\u001B[0;31mTypeError\u001B[0m                                 Traceback (most recent call last)",
      "Cell \u001B[0;32mIn[45], line 4\u001B[0m\n\u001B[1;32m      2\u001B[0m     \u001B[38;5;241m1\u001B[39m\u001B[38;5;241m/\u001B[39m\u001B[38;5;241m0\u001B[39m\n\u001B[1;32m      3\u001B[0m \u001B[38;5;28;01mexcept\u001B[39;00m \u001B[38;5;167;01mException\u001B[39;00m \u001B[38;5;28;01mas\u001B[39;00m E:\n\u001B[0;32m----> 4\u001B[0m     \u001B[38;5;28;01mraise\u001B[39;00m \u001B[38;5;167;01mTypeError\u001B[39;00m(\u001B[38;5;124m'\u001B[39m\u001B[38;5;124mBad\u001B[39m\u001B[38;5;124m'\u001B[39m) \u001B[38;5;28;01mfrom\u001B[39;00m \u001B[38;5;21;01mE\u001B[39;00m\n",
      "\u001B[0;31mTypeError\u001B[0m: Bad"
     ]
    }
   ],
   "execution_count": 45
  },
  {
   "metadata": {
    "ExecuteTime": {
     "end_time": "2024-07-02T08:53:09.633037Z",
     "start_time": "2024-07-02T08:53:09.614160Z"
    }
   },
   "cell_type": "code",
   "source": [
    "try:\n",
    "    1/0\n",
    "except:\n",
    "    badname"
   ],
   "id": "80f2b5e034750411",
   "outputs": [
    {
     "ename": "NameError",
     "evalue": "name 'badname' is not defined",
     "output_type": "error",
     "traceback": [
      "\u001B[0;31m---------------------------------------------------------------------------\u001B[0m",
      "\u001B[0;31mZeroDivisionError\u001B[0m                         Traceback (most recent call last)",
      "Cell \u001B[0;32mIn[46], line 2\u001B[0m\n\u001B[1;32m      1\u001B[0m \u001B[38;5;28;01mtry\u001B[39;00m:\n\u001B[0;32m----> 2\u001B[0m     \u001B[38;5;241m1\u001B[39m\u001B[38;5;241m/\u001B[39m\u001B[38;5;241m0\u001B[39m\n\u001B[1;32m      3\u001B[0m \u001B[38;5;28;01mexcept\u001B[39;00m:\n",
      "\u001B[0;31mZeroDivisionError\u001B[0m: division by zero",
      "\nDuring handling of the above exception, another exception occurred:\n",
      "\u001B[0;31mNameError\u001B[0m                                 Traceback (most recent call last)",
      "Cell \u001B[0;32mIn[46], line 4\u001B[0m\n\u001B[1;32m      2\u001B[0m     \u001B[38;5;241m1\u001B[39m\u001B[38;5;241m/\u001B[39m\u001B[38;5;241m0\u001B[39m\n\u001B[1;32m      3\u001B[0m \u001B[38;5;28;01mexcept\u001B[39;00m:\n\u001B[0;32m----> 4\u001B[0m     badname\n",
      "\u001B[0;31mNameError\u001B[0m: name 'badname' is not defined"
     ]
    }
   ],
   "execution_count": 46
  },
  {
   "metadata": {
    "ExecuteTime": {
     "end_time": "2024-07-02T08:57:51.852195Z",
     "start_time": "2024-07-02T08:57:51.825830Z"
    }
   },
   "cell_type": "code",
   "source": [
    "try:\n",
    "    try:\n",
    "        raise IndexError\n",
    "    except Exception as E:\n",
    "        raise TypeError from E\n",
    "except Exception as E:\n",
    "    raise ValueError('Bad') from E"
   ],
   "id": "db8f767df581a54d",
   "outputs": [
    {
     "ename": "ValueError",
     "evalue": "Bad",
     "output_type": "error",
     "traceback": [
      "\u001B[0;31m---------------------------------------------------------------------------\u001B[0m",
      "\u001B[0;31mIndexError\u001B[0m                                Traceback (most recent call last)",
      "Cell \u001B[0;32mIn[48], line 3\u001B[0m\n\u001B[1;32m      2\u001B[0m \u001B[38;5;28;01mtry\u001B[39;00m:\n\u001B[0;32m----> 3\u001B[0m     \u001B[38;5;28;01mraise\u001B[39;00m \u001B[38;5;167;01mIndexError\u001B[39;00m\n\u001B[1;32m      4\u001B[0m \u001B[38;5;28;01mexcept\u001B[39;00m \u001B[38;5;167;01mException\u001B[39;00m \u001B[38;5;28;01mas\u001B[39;00m E:\n",
      "\u001B[0;31mIndexError\u001B[0m: ",
      "\nThe above exception was the direct cause of the following exception:\n",
      "\u001B[0;31mTypeError\u001B[0m                                 Traceback (most recent call last)",
      "Cell \u001B[0;32mIn[48], line 5\u001B[0m\n\u001B[1;32m      4\u001B[0m     \u001B[38;5;28;01mexcept\u001B[39;00m \u001B[38;5;167;01mException\u001B[39;00m \u001B[38;5;28;01mas\u001B[39;00m E:\n\u001B[0;32m----> 5\u001B[0m         \u001B[38;5;28;01mraise\u001B[39;00m \u001B[38;5;167;01mTypeError\u001B[39;00m \u001B[38;5;28;01mfrom\u001B[39;00m \u001B[38;5;21;01mE\u001B[39;00m\n\u001B[1;32m      6\u001B[0m \u001B[38;5;28;01mexcept\u001B[39;00m \u001B[38;5;167;01mException\u001B[39;00m \u001B[38;5;28;01mas\u001B[39;00m E:\n",
      "\u001B[0;31mTypeError\u001B[0m: ",
      "\nThe above exception was the direct cause of the following exception:\n",
      "\u001B[0;31mValueError\u001B[0m                                Traceback (most recent call last)",
      "Cell \u001B[0;32mIn[48], line 7\u001B[0m\n\u001B[1;32m      5\u001B[0m         \u001B[38;5;28;01mraise\u001B[39;00m \u001B[38;5;167;01mTypeError\u001B[39;00m \u001B[38;5;28;01mfrom\u001B[39;00m \u001B[38;5;21;01mE\u001B[39;00m\n\u001B[1;32m      6\u001B[0m \u001B[38;5;28;01mexcept\u001B[39;00m \u001B[38;5;167;01mException\u001B[39;00m \u001B[38;5;28;01mas\u001B[39;00m E:\n\u001B[0;32m----> 7\u001B[0m     \u001B[38;5;28;01mraise\u001B[39;00m \u001B[38;5;167;01mValueError\u001B[39;00m(\u001B[38;5;124m'\u001B[39m\u001B[38;5;124mBad\u001B[39m\u001B[38;5;124m'\u001B[39m) \u001B[38;5;28;01mfrom\u001B[39;00m \u001B[38;5;21;01mE\u001B[39;00m\n",
      "\u001B[0;31mValueError\u001B[0m: Bad"
     ]
    }
   ],
   "execution_count": 48
  },
  {
   "metadata": {},
   "cell_type": "markdown",
   "source": [
    "## assert\n",
    "> assert语句通常是在开发期间⽤于验证程序状况的。当它显示时，其出错消息正⽂会⾃动包括源代码的⾏信息，以及列在 assert 语句中的值\n",
    "\n",
    "assert ⼏乎都是⽤来捕获⽤户定义的约束条件，⽽不是捕捉实际的程序设计错误。因为 Python 会⾃⾏捕获程序的设计错误，所以通常没必要写 assert 去捕捉超出索引值、类型不匹配以及除数为零之类的事情"
   ],
   "id": "6ed79a20c8e6a"
  },
  {
   "metadata": {
    "ExecuteTime": {
     "end_time": "2024-07-02T09:07:26.841600Z",
     "start_time": "2024-07-02T09:07:26.833970Z"
    }
   },
   "cell_type": "code",
   "source": [
    "def f(x):\n",
    "    assert x<0, 'x must be negative'\n",
    "    return x ** 2"
   ],
   "id": "678ac05b7bccade2",
   "outputs": [],
   "execution_count": 49
  },
  {
   "metadata": {
    "ExecuteTime": {
     "end_time": "2024-07-02T09:07:28.407051Z",
     "start_time": "2024-07-02T09:07:28.391607Z"
    }
   },
   "cell_type": "code",
   "source": "f(2)",
   "id": "215b656023dd2da3",
   "outputs": [
    {
     "ename": "AssertionError",
     "evalue": "x must be negative",
     "output_type": "error",
     "traceback": [
      "\u001B[0;31m---------------------------------------------------------------------------\u001B[0m",
      "\u001B[0;31mAssertionError\u001B[0m                            Traceback (most recent call last)",
      "Cell \u001B[0;32mIn[50], line 1\u001B[0m\n\u001B[0;32m----> 1\u001B[0m f(\u001B[38;5;241m2\u001B[39m)\n",
      "Cell \u001B[0;32mIn[49], line 2\u001B[0m, in \u001B[0;36mf\u001B[0;34m(x)\u001B[0m\n\u001B[1;32m      1\u001B[0m \u001B[38;5;28;01mdef\u001B[39;00m \u001B[38;5;21mf\u001B[39m(x):\n\u001B[0;32m----> 2\u001B[0m     \u001B[38;5;28;01massert\u001B[39;00m x\u001B[38;5;241m<\u001B[39m\u001B[38;5;241m0\u001B[39m, \u001B[38;5;124m'\u001B[39m\u001B[38;5;124mx must be negative\u001B[39m\u001B[38;5;124m'\u001B[39m\n\u001B[1;32m      3\u001B[0m     \u001B[38;5;28;01mreturn\u001B[39;00m x \u001B[38;5;241m*\u001B[39m\u001B[38;5;241m*\u001B[39m \u001B[38;5;241m2\u001B[39m\n",
      "\u001B[0;31mAssertionError\u001B[0m: x must be negative"
     ]
    }
   ],
   "execution_count": 50
  },
  {
   "metadata": {
    "ExecuteTime": {
     "end_time": "2024-07-02T09:07:32.320105Z",
     "start_time": "2024-07-02T09:07:32.317618Z"
    }
   },
   "cell_type": "code",
   "source": "f(-2)",
   "id": "78cf099dbe69d22d",
   "outputs": [
    {
     "data": {
      "text/plain": [
       "4"
      ]
     },
     "execution_count": 51,
     "metadata": {},
     "output_type": "execute_result"
    }
   ],
   "execution_count": 51
  },
  {
   "metadata": {},
   "cell_type": "markdown",
   "source": "# with as",
   "id": "fab4b2039a9a81ea"
  },
  {
   "metadata": {
    "ExecuteTime": {
     "end_time": "2024-07-02T09:18:59.310405Z",
     "start_time": "2024-07-02T09:18:59.307604Z"
    }
   },
   "cell_type": "code",
   "source": [
    "class TraceBlock:\n",
    "    def message(self, arg):\n",
    "        print('running ' + arg)\n",
    "    def __enter__(self):\n",
    "        print('starting with block')\n",
    "        return self\n",
    "    def __exit__(self, exc_type, exc_value, exc_tb):\n",
    "        if exc_type is None:\n",
    "            print('exited normally\\n')\n",
    "        else:\n",
    "            print(f'raise an exception!')\n",
    "            print(f'{exc_type=}, {exc_value=}, {exc_tb=}')\n",
    "            return False    # Propagate"
   ],
   "id": "8fd9c2664513b51a",
   "outputs": [],
   "execution_count": 65
  },
  {
   "metadata": {
    "ExecuteTime": {
     "end_time": "2024-07-02T09:18:59.571065Z",
     "start_time": "2024-07-02T09:18:59.568830Z"
    }
   },
   "cell_type": "code",
   "source": [
    "with TraceBlock() as action:  \n",
    "    action.message('test 1')\n",
    "    print('reached')"
   ],
   "id": "2a59c7a0086851b5",
   "outputs": [
    {
     "name": "stdout",
     "output_type": "stream",
     "text": [
      "starting with block\n",
      "running test 1\n",
      "reached\n",
      "exited normally\n",
      "\n"
     ]
    }
   ],
   "execution_count": 66
  },
  {
   "metadata": {
    "ExecuteTime": {
     "end_time": "2024-07-02T09:18:59.868036Z",
     "start_time": "2024-07-02T09:18:59.861424Z"
    }
   },
   "cell_type": "code",
   "source": [
    "with TraceBlock() as action:\n",
    "    action.message('test 2')\n",
    "    raise TypeError\n",
    "    print('not reached')\n"
   ],
   "id": "2872f2a155cf75a2",
   "outputs": [
    {
     "name": "stdout",
     "output_type": "stream",
     "text": [
      "starting with block\n",
      "running test 2\n",
      "raise an exception!\n",
      "exc_type=<class 'TypeError'>, exc_value=TypeError(), exc_tb=<traceback object at 0x124eb9900>\n"
     ]
    },
    {
     "ename": "TypeError",
     "evalue": "",
     "output_type": "error",
     "traceback": [
      "\u001B[0;31m---------------------------------------------------------------------------\u001B[0m",
      "\u001B[0;31mTypeError\u001B[0m                                 Traceback (most recent call last)",
      "Cell \u001B[0;32mIn[67], line 3\u001B[0m\n\u001B[1;32m      1\u001B[0m \u001B[38;5;28;01mwith\u001B[39;00m TraceBlock() \u001B[38;5;28;01mas\u001B[39;00m action:\n\u001B[1;32m      2\u001B[0m     action\u001B[38;5;241m.\u001B[39mmessage(\u001B[38;5;124m'\u001B[39m\u001B[38;5;124mtest 2\u001B[39m\u001B[38;5;124m'\u001B[39m)\n\u001B[0;32m----> 3\u001B[0m     \u001B[38;5;28;01mraise\u001B[39;00m \u001B[38;5;167;01mTypeError\u001B[39;00m\n\u001B[1;32m      4\u001B[0m     \u001B[38;5;28mprint\u001B[39m(\u001B[38;5;124m'\u001B[39m\u001B[38;5;124mnot reached\u001B[39m\u001B[38;5;124m'\u001B[39m)\n",
      "\u001B[0;31mTypeError\u001B[0m: "
     ]
    }
   ],
   "execution_count": 67
  },
  {
   "metadata": {
    "ExecuteTime": {
     "end_time": "2024-07-02T09:25:57.278739Z",
     "start_time": "2024-07-02T09:25:57.275135Z"
    }
   },
   "cell_type": "code",
   "source": [
    "with open('reloadall.py') as f1, open('reloadall2.py') as f2:\n",
    "    for line, (l1, l2) in enumerate(zip(f1, f2)):\n",
    "        if l1 != l2:\n",
    "            print(f'{line}: {l1.rstrip()} != {l2.rstrip()}')"
   ],
   "id": "230fb0760a851127",
   "outputs": [
    {
     "name": "stdout",
     "output_type": "stream",
     "text": [
      "5: from importlib import import_module != from importlib import import_module, reload\n",
      "6:  != # from imp import reload\n",
      "17:         import_module(module) !=         # import_module(module)\n",
      "18:     except: !=         reload(module)\n",
      "19:         print('Failed to reload' + module.__name__) !=     except:\n",
      "20:  !=         print('Failed to reload' + module.__name__)\n",
      "22: def transitive_reload(module, visited): != \n",
      "23:     \"\"\" != def transitive_reload(modules, visited):\n",
      "24:     递归 Relaod 所有模块 !=     \"\"\"\n",
      "25:     \"\"\" !=     递归 Relaod 所有模块\n",
      "26:     if not module in visited: !=     \"\"\"\n",
      "27:         status(module) !=     for module in modules:\n",
      "28:         tryreload(module) !=         if type(module) == types.ModuleType and not module in visited:\n",
      "29:         visited[module] = True !=             status(module)\n",
      "30:         for attrobj in module.__dict__.values(): !=             tryreload(module)\n",
      "31:             if type(attrobj) == types.ModuleType: !=             visited.add(module)\n",
      "32:                 transitive_reload(attrobj, visited) !=             transitive_reload(module.__dict__.values(), visited)\n",
      "35:  != def transitive_reload2(modules, visited):\n",
      "36: def reloadall(*modules): !=     \"\"\"\n",
      "37:     visited = {} !=     递归 Relaod 所有模块\n",
      "38:     for module in modules: !=     \"\"\"\n",
      "39:         if type(module) == types.ModuleType: !=     for module in modules:\n",
      "40:             transitive_reload(module, visited) !=         if type(module) == types.ModuleType and not module in visited:\n",
      "41:  !=             status(module)\n",
      "42:  !=             tryreload(module)\n",
      "43: def my_tester(reloader, modname): !=             visited.add(module)\n",
      "44:     \"\"\" !=             transitive_reload2(module.__dict__.values(), visited)\n",
      "45:     测试函数 != \n",
      "46:     \"\"\" != def transitive_reload3(modules, visited):\n",
      "47:     import sys, importlib !=     \"\"\"\n",
      "48:     if len(sys.argv)>1: modname = sys.argv[1] !=     递归 Relaod 所有模块\n",
      "49:     module = importlib.import_module(modname) !=     \"\"\"\n",
      "50:     reloader(module) !=     while modules:\n",
      "51:  !=         module = modules.pop()\n",
      "52:  !=         status(module)\n",
      "53: if __name__ == '__main__': !=         tryreload(module)\n",
      "54:     my_tester(reloadall, 'dir1.main') !=         visited.add(module)\n"
     ]
    }
   ],
   "execution_count": 74
  },
  {
   "metadata": {
    "ExecuteTime": {
     "end_time": "2024-07-02T09:27:30.512122Z",
     "start_time": "2024-07-02T09:27:30.507100Z"
    }
   },
   "cell_type": "code",
   "source": [
    "with open('reloadall.py') as f1, open('reloadall_copy.py', 'w') as f2:\n",
    "    for line in f1:\n",
    "        f2.write(line.upper())"
   ],
   "id": "b9b1cfbdcafd43d1",
   "outputs": [],
   "execution_count": 75
  },
  {
   "metadata": {},
   "cell_type": "code",
   "outputs": [],
   "execution_count": null,
   "source": "",
   "id": "2d00bb2195ef2be5"
  }
 ],
 "metadata": {
  "kernelspec": {
   "display_name": "Python 3",
   "language": "python",
   "name": "python3"
  },
  "language_info": {
   "codemirror_mode": {
    "name": "ipython",
    "version": 2
   },
   "file_extension": ".py",
   "mimetype": "text/x-python",
   "name": "python",
   "nbconvert_exporter": "python",
   "pygments_lexer": "ipython2",
   "version": "2.7.6"
  }
 },
 "nbformat": 4,
 "nbformat_minor": 5
}
