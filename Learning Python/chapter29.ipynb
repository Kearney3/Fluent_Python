{
 "cells": [
  {
   "metadata": {},
   "cell_type": "markdown",
   "source": "# 类代码编写细节",
   "id": "205a7fa5e61cf00f"
  },
  {
   "metadata": {
    "ExecuteTime": {
     "end_time": "2024-07-08T02:24:19.995361Z",
     "start_time": "2024-07-08T02:24:19.991927Z"
    }
   },
   "cell_type": "code",
   "source": [
    "class Shareddata:\n",
    "    data = 30"
   ],
   "id": "6b229e6c9fa85560",
   "outputs": [],
   "execution_count": 1
  },
  {
   "cell_type": "code",
   "id": "initial_id",
   "metadata": {
    "collapsed": true,
    "ExecuteTime": {
     "end_time": "2024-07-08T02:24:19.997790Z",
     "start_time": "2024-07-08T02:24:19.996244Z"
    }
   },
   "source": [
    "x = Shareddata()\n",
    "y = Shareddata()"
   ],
   "outputs": [],
   "execution_count": 2
  },
  {
   "metadata": {
    "ExecuteTime": {
     "end_time": "2024-07-08T02:24:20.001389Z",
     "start_time": "2024-07-08T02:24:19.998410Z"
    }
   },
   "cell_type": "code",
   "source": "x.data, id(x), y.data, id(y), Shareddata.data, id(Shareddata.data)",
   "id": "cf6d8a7a93d57444",
   "outputs": [
    {
     "data": {
      "text/plain": [
       "(30, 4419250064, 30, 4419252304, 30, 4336330872)"
      ]
     },
     "execution_count": 3,
     "metadata": {},
     "output_type": "execute_result"
    }
   ],
   "execution_count": 3
  },
  {
   "metadata": {
    "ExecuteTime": {
     "end_time": "2024-07-08T02:24:20.005045Z",
     "start_time": "2024-07-08T02:24:20.002604Z"
    }
   },
   "cell_type": "code",
   "source": [
    "x.data = 80\n",
    "x.data, id(x), y.data, id(y), Shareddata.data, id(Shareddata.data)"
   ],
   "id": "5ec588ef95494a08",
   "outputs": [
    {
     "data": {
      "text/plain": [
       "(80, 4419250064, 30, 4419252304, 30, 4336330872)"
      ]
     },
     "execution_count": 4,
     "metadata": {},
     "output_type": "execute_result"
    }
   ],
   "execution_count": 4
  },
  {
   "metadata": {},
   "cell_type": "markdown",
   "source": "对实例的属性进⾏赋值运算会在该实例内创建或修改名称，⽽不是在共享的类中",
   "id": "84f2cd12793e2a6d"
  },
  {
   "metadata": {
    "ExecuteTime": {
     "end_time": "2024-07-08T02:24:20.021843Z",
     "start_time": "2024-07-08T02:24:20.020221Z"
    }
   },
   "cell_type": "code",
   "source": "Shareddata.data = 99",
   "id": "72b0c4cb3993060",
   "outputs": [],
   "execution_count": 5
  },
  {
   "metadata": {
    "ExecuteTime": {
     "end_time": "2024-07-08T02:24:20.049479Z",
     "start_time": "2024-07-08T02:24:20.047198Z"
    }
   },
   "cell_type": "code",
   "source": "x.data, id(x), y.data, id(y), Shareddata.data, id(Shareddata.data)",
   "id": "66326b2b0fda6d32",
   "outputs": [
    {
     "data": {
      "text/plain": [
       "(80, 4419250064, 99, 4419252304, 99, 4336333080)"
      ]
     },
     "execution_count": 6,
     "metadata": {},
     "output_type": "execute_result"
    }
   ],
   "execution_count": 6
  },
  {
   "metadata": {
    "ExecuteTime": {
     "end_time": "2024-07-08T02:24:20.085253Z",
     "start_time": "2024-07-08T02:24:20.083477Z"
    }
   },
   "cell_type": "code",
   "source": [
    "class SharedList:\n",
    "    data = [1, 2, 3]"
   ],
   "id": "1a2c6dc8aa57c7f2",
   "outputs": [],
   "execution_count": 7
  },
  {
   "metadata": {
    "ExecuteTime": {
     "end_time": "2024-07-08T02:24:20.112483Z",
     "start_time": "2024-07-08T02:24:20.109948Z"
    }
   },
   "cell_type": "code",
   "source": [
    "x = SharedList()\n",
    "y = SharedList()\n",
    "x.data, id(x), y.data, id(y), SharedList.data, id(SharedList.data)"
   ],
   "id": "8a03f9fbcd4b6f27",
   "outputs": [
    {
     "data": {
      "text/plain": [
       "([1, 2, 3], 4419274064, [1, 2, 3], 4419250064, [1, 2, 3], 4419298688)"
      ]
     },
     "execution_count": 8,
     "metadata": {},
     "output_type": "execute_result"
    }
   ],
   "execution_count": 8
  },
  {
   "metadata": {
    "ExecuteTime": {
     "end_time": "2024-07-08T02:24:20.125223Z",
     "start_time": "2024-07-08T02:24:20.122342Z"
    }
   },
   "cell_type": "code",
   "source": [
    "x.data = [4, 5, 6]\n",
    "y.data = [1, 2, 3]  # 赋值相同的值也会改变引用\n",
    "x.data, id(x), y.data, id(y), SharedList.data, id(SharedList.data)"
   ],
   "id": "68148941fc7af05b",
   "outputs": [
    {
     "data": {
      "text/plain": [
       "([4, 5, 6], 4419274064, [1, 2, 3], 4419250064, [1, 2, 3], 4419298688)"
      ]
     },
     "execution_count": 9,
     "metadata": {},
     "output_type": "execute_result"
    }
   ],
   "execution_count": 9
  },
  {
   "metadata": {
    "ExecuteTime": {
     "end_time": "2024-07-08T02:24:20.138535Z",
     "start_time": "2024-07-08T02:24:20.136781Z"
    }
   },
   "cell_type": "code",
   "source": "SharedList.data = ['abc']",
   "id": "7961bc868acc78e",
   "outputs": [],
   "execution_count": 10
  },
  {
   "metadata": {
    "ExecuteTime": {
     "end_time": "2024-07-08T02:24:20.192429Z",
     "start_time": "2024-07-08T02:24:20.189973Z"
    }
   },
   "cell_type": "code",
   "source": "x.data, id(x), y.data, id(y), SharedList.data, id(SharedList.data)",
   "id": "c3221b8fc87e2b27",
   "outputs": [
    {
     "data": {
      "text/plain": [
       "([4, 5, 6], 4419274064, [1, 2, 3], 4419250064, ['abc'], 4419254080)"
      ]
     },
     "execution_count": 11,
     "metadata": {},
     "output_type": "execute_result"
    }
   ],
   "execution_count": 11
  },
  {
   "metadata": {},
   "cell_type": "markdown",
   "source": "# 修改实例属性",
   "id": "b9b1d2d61afedbd3"
  },
  {
   "metadata": {
    "ExecuteTime": {
     "end_time": "2024-07-08T02:24:20.207071Z",
     "start_time": "2024-07-08T02:24:20.205096Z"
    }
   },
   "cell_type": "code",
   "source": [
    "class Mixname:\n",
    "    data = 'spam'\n",
    "\n",
    "    def __init__(self, name):\n",
    "        self.data = name\n",
    "\n",
    "    def display(self):\n",
    "        print(self.data, Mixname.data)"
   ],
   "id": "b03e91f68e21744d",
   "outputs": [],
   "execution_count": 12
  },
  {
   "metadata": {
    "ExecuteTime": {
     "end_time": "2024-07-08T02:24:20.212992Z",
     "start_time": "2024-07-08T02:24:20.210435Z"
    }
   },
   "cell_type": "code",
   "source": [
    "x = Mixname('eggs')\n",
    "y = Mixname('apple')\n",
    "x.display(), y.display()"
   ],
   "id": "bbb6f9e99fa6f83c",
   "outputs": [
    {
     "name": "stdout",
     "output_type": "stream",
     "text": [
      "eggs spam\n",
      "apple spam\n"
     ]
    },
    {
     "data": {
      "text/plain": [
       "(None, None)"
      ]
     },
     "execution_count": 13,
     "metadata": {},
     "output_type": "execute_result"
    }
   ],
   "execution_count": 13
  },
  {
   "metadata": {
    "ExecuteTime": {
     "end_time": "2024-07-08T02:24:20.238605Z",
     "start_time": "2024-07-08T02:24:20.236724Z"
    }
   },
   "cell_type": "code",
   "source": "Mixname.display(x)",
   "id": "e16ac7508330dc66",
   "outputs": [
    {
     "name": "stdout",
     "output_type": "stream",
     "text": [
      "eggs spam\n"
     ]
    }
   ],
   "execution_count": 14
  },
  {
   "metadata": {
    "ExecuteTime": {
     "end_time": "2024-07-08T02:24:20.449965Z",
     "start_time": "2024-07-08T02:24:20.260324Z"
    }
   },
   "cell_type": "code",
   "source": "Mixname.display()",
   "id": "bf62bc7a57c2f4f4",
   "outputs": [
    {
     "ename": "TypeError",
     "evalue": "Mixname.display() missing 1 required positional argument: 'self'",
     "output_type": "error",
     "traceback": [
      "\u001B[0;31m---------------------------------------------------------------------------\u001B[0m",
      "\u001B[0;31mTypeError\u001B[0m                                 Traceback (most recent call last)",
      "Cell \u001B[0;32mIn[15], line 1\u001B[0m\n\u001B[0;32m----> 1\u001B[0m Mixname\u001B[38;5;241m.\u001B[39mdisplay()\n",
      "\u001B[0;31mTypeError\u001B[0m: Mixname.display() missing 1 required positional argument: 'self'"
     ]
    }
   ],
   "execution_count": 15
  },
  {
   "metadata": {},
   "cell_type": "markdown",
   "source": "# 继承",
   "id": "b07cac8c1218e67f"
  },
  {
   "metadata": {},
   "cell_type": "code",
   "source": [
    "class Super:\n",
    "    def method(self):\n",
    "        print('in Super.method')"
   ],
   "id": "2d52f3feaa3daa35",
   "outputs": [],
   "execution_count": null
  },
  {
   "metadata": {},
   "cell_type": "code",
   "source": [
    "class Sub(Super):\n",
    "    def method(self):\n",
    "        print('in Sub.method')\n",
    "        Super.method(self)\n",
    "        print('ending Super.method')"
   ],
   "id": "3772b5c1f43edb7f",
   "outputs": [],
   "execution_count": null
  },
  {
   "metadata": {},
   "cell_type": "code",
   "source": [
    "x = Super()\n",
    "x.method()"
   ],
   "id": "759a68c4b90f2f0d",
   "outputs": [],
   "execution_count": null
  },
  {
   "metadata": {},
   "cell_type": "code",
   "source": [
    "x = Sub()\n",
    "x.method()"
   ],
   "id": "a336cf9c1c50550a",
   "outputs": [],
   "execution_count": null
  },
  {
   "metadata": {},
   "cell_type": "code",
   "source": [
    "class Super:\n",
    "\n",
    "    def method(self):\n",
    "        print('in Super.method')\n",
    "\n",
    "    def delegate(self):\n",
    "        self.action()\n",
    "\n",
    "\n",
    "class Inheritor(Super):\n",
    "    # Default behavior # Expected to be defined # Inherit method verbatim\n",
    "    pass\n",
    "\n",
    "\n",
    "class Replacer(Super):\n",
    "\n",
    "    def method(self):\n",
    "        # Replace method completely\n",
    "        print('in Replacer.method')\n",
    "\n",
    "\n",
    "class Extender(Super):\n",
    "\n",
    "    def method(self):\n",
    "        # Extend method behavior\n",
    "        print('starting Extender.method')\n",
    "        Super.method(self)\n",
    "        print('ending Extender.method')\n",
    "\n",
    "\n",
    "class Provider(Super):\n",
    "\n",
    "    def action(self):\n",
    "        # Fill in a required method\n",
    "        print('in Provider.action')\n"
   ],
   "id": "a1d6e5d7009cbac3",
   "outputs": [],
   "execution_count": null
  },
  {
   "metadata": {},
   "cell_type": "code",
   "source": [
    "for klass in (Inheritor, Replacer, Extender):\n",
    "    print('\\n' + klass.__name__ + '...')\n",
    "    klass().method()\n",
    "    print('\\nProvider...')\n",
    "    x = Provider()\n",
    "    x.delegate()\n",
    "    print('-' * 50)"
   ],
   "id": "2b8e399cfabf24",
   "outputs": [],
   "execution_count": null
  },
  {
   "metadata": {},
   "cell_type": "code",
   "source": [
    "class Super:\n",
    "\n",
    "    def method(self):\n",
    "        print('in Super.method')\n",
    "\n",
    "    def delegate(self):\n",
    "        self.action()\n",
    "\n",
    "    def action(self):\n",
    "        raise NotImplementedError('action must be defined')\n"
   ],
   "id": "7d57425ec0b886d6",
   "outputs": [],
   "execution_count": null
  },
  {
   "metadata": {},
   "cell_type": "code",
   "source": [
    "x = Super()\n",
    "x.delegate()"
   ],
   "id": "d235b95cdb134667",
   "outputs": [],
   "execution_count": null
  },
  {
   "metadata": {},
   "cell_type": "code",
   "source": [
    "y = Provider()\n",
    "y.delegate()"
   ],
   "id": "74f50d92979f1fb",
   "outputs": [],
   "execution_count": null
  },
  {
   "metadata": {},
   "cell_type": "code",
   "source": [
    "class Sub(Super):\n",
    "    def action(self):\n",
    "        print('in Sub.action')"
   ],
   "id": "e182c5a20e2489df",
   "outputs": [],
   "execution_count": null
  },
  {
   "metadata": {},
   "cell_type": "code",
   "source": [
    "z = Sub()\n",
    "z.delegate()"
   ],
   "id": "f11e951c1dbc3673",
   "outputs": [],
   "execution_count": null
  },
  {
   "metadata": {},
   "cell_type": "markdown",
   "source": "# 抽象类",
   "id": "a0542a705d3d846e"
  },
  {
   "metadata": {},
   "cell_type": "code",
   "source": [
    "from abc import ABCMeta, abstractmethod\n",
    "\n",
    "\n",
    "class Super(metaclass=ABCMeta):\n",
    "\n",
    "    def delegate(self):\n",
    "        self.action()\n",
    "\n",
    "    @abstractmethod\n",
    "    def action(self):\n",
    "        pass"
   ],
   "id": "b1716f6072cc6874",
   "outputs": [],
   "execution_count": null
  },
  {
   "metadata": {},
   "cell_type": "code",
   "source": "x = Super()",
   "id": "410e718bd75e9070",
   "outputs": [],
   "execution_count": null
  },
  {
   "metadata": {},
   "cell_type": "code",
   "source": [
    "class Sub(Super):\n",
    "    pass"
   ],
   "id": "c59acb3009959c90",
   "outputs": [],
   "execution_count": null
  },
  {
   "metadata": {},
   "cell_type": "code",
   "source": "y = Sub()",
   "id": "2629f57f48e3fe5f",
   "outputs": [],
   "execution_count": null
  },
  {
   "metadata": {},
   "cell_type": "code",
   "source": [
    "class Sub(Super):\n",
    "    def action(self):\n",
    "        print('in Sub.action')\n"
   ],
   "id": "7a3b4a28de9f0021",
   "outputs": [],
   "execution_count": null
  },
  {
   "metadata": {},
   "cell_type": "code",
   "source": [
    "z = Sub()\n",
    "z.delegate()"
   ],
   "id": "3e85a0c1fe76ca5",
   "outputs": [],
   "execution_count": null
  },
  {
   "metadata": {},
   "cell_type": "markdown",
   "source": "## 命名空间",
   "id": "a28aa744edfa3473"
  },
  {
   "metadata": {
    "ExecuteTime": {
     "end_time": "2024-07-08T02:24:20.538126Z",
     "start_time": "2024-07-08T02:24:20.535918Z"
    }
   },
   "cell_type": "code",
   "source": [
    "X = 11\n",
    "\n",
    "\n",
    "def f():\n",
    "    print(X)\n",
    "\n",
    "\n",
    "def g():\n",
    "    # Global (module) name/attribute (X, or manynames.X)\n",
    "    # Access global X (11)\n",
    "    X = 22\n",
    "    # Local (function) variable (X, hides module X)\n",
    "    print(X)\n",
    "\n",
    "\n",
    "class C:\n",
    "    X = 33\n",
    "\n",
    "    def m(self):\n",
    "        # Class attribute (C.X)\n",
    "        X = 44\n",
    "        self.X = 55\n",
    "\n",
    "# Local variable in method (X) # Instance attribute (instance.X)"
   ],
   "id": "aa60120b083def90",
   "outputs": [],
   "execution_count": 16
  },
  {
   "metadata": {
    "ExecuteTime": {
     "end_time": "2024-07-08T02:24:20.565153Z",
     "start_time": "2024-07-08T02:24:20.563058Z"
    }
   },
   "cell_type": "code",
   "source": [
    "print(X)\n",
    "f()\n",
    "g()\n",
    "print(X)\n",
    "print('-' * 50)\n",
    "obj = C()\n",
    "print(obj.X)\n",
    "obj.m()\n",
    "print(obj.X)\n",
    "print(C.X)"
   ],
   "id": "6accb3abf5b4a5b",
   "outputs": [
    {
     "name": "stdout",
     "output_type": "stream",
     "text": [
      "11\n",
      "11\n",
      "22\n",
      "11\n",
      "--------------------------------------------------\n",
      "33\n",
      "55\n",
      "33\n"
     ]
    }
   ],
   "execution_count": 17
  },
  {
   "metadata": {
    "ExecuteTime": {
     "end_time": "2024-07-08T02:24:20.579166Z",
     "start_time": "2024-07-08T02:24:20.576736Z"
    }
   },
   "cell_type": "code",
   "source": [
    "X = 1\n",
    "\n",
    "\n",
    "def nester():\n",
    "    print(X)\n",
    "\n",
    "    class C:\n",
    "        print(X)\n",
    "\n",
    "        def method1(self):\n",
    "            print(X)\n",
    "\n",
    "        def method2(self):\n",
    "            X = 3\n",
    "            print(X)\n",
    "\n",
    "    # Global: 1 # Global: 1 # Global: 1 # Hides global # Local: 3\n",
    "\n",
    "    I = C()  # 1\n",
    "    I.method1()  # 1\n",
    "    I.method2()  # 3\n",
    "\n",
    "\n",
    "print(X)  # 1\n",
    "print('-' * 40)\n",
    "nester()  # 1 1 1 3"
   ],
   "id": "1defcbd284f6af69",
   "outputs": [
    {
     "name": "stdout",
     "output_type": "stream",
     "text": [
      "1\n",
      "----------------------------------------\n",
      "1\n",
      "1\n",
      "1\n",
      "3\n"
     ]
    }
   ],
   "execution_count": 18
  },
  {
   "metadata": {
    "ExecuteTime": {
     "end_time": "2024-07-08T02:24:20.592627Z",
     "start_time": "2024-07-08T02:24:20.589840Z"
    }
   },
   "cell_type": "code",
   "source": [
    "X = 1\n",
    "\n",
    "\n",
    "def nester():\n",
    "    X = 2\n",
    "    print(X)\n",
    "\n",
    "    class C:\n",
    "        X = 3\n",
    "        print(X)\n",
    "\n",
    "        def method1(self):\n",
    "            print(X)  # 2 not 3\n",
    "            print(self.X)  # 3\n",
    "\n",
    "        def method2(self):\n",
    "            X = 4\n",
    "            print(X)  # 4\n",
    "            self.X = 5\n",
    "            print(self.X)  # 5\n",
    "\n",
    "    I = C()  # 3\n",
    "    I.method1()  # 2 3\n",
    "    I.method2()  # 4 5\n",
    "\n",
    "\n",
    "print(X)  # 1\n",
    "print('-' * 40)\n",
    "nester()  # 3 2 3 4 5"
   ],
   "id": "c8f1152530a50489",
   "outputs": [
    {
     "name": "stdout",
     "output_type": "stream",
     "text": [
      "1\n",
      "----------------------------------------\n",
      "2\n",
      "3\n",
      "2\n",
      "3\n",
      "4\n",
      "5\n"
     ]
    }
   ],
   "execution_count": 19
  },
  {
   "metadata": {
    "ExecuteTime": {
     "end_time": "2024-07-08T02:24:20.614688Z",
     "start_time": "2024-07-08T02:24:20.612086Z"
    }
   },
   "cell_type": "code",
   "source": [
    "X = 1\n",
    "\n",
    "def nester():\n",
    "    X = 2  # Hides global \n",
    "\n",
    "    print(X)  # Local: 2\n",
    "\n",
    "    class C:\n",
    "        X = 3  # Class local hides nester's: C.X or I.X (not scoped) \n",
    "        print(X)  # Local: 3\n",
    "\n",
    "        def method1(self):\n",
    "            print(X)  # In enclosing def (not 3 in class!): 2\n",
    "            print(self.X)  # Inherited class local: 3\n",
    "\n",
    "        def method2(self):\n",
    "            X = 4  # Hides enclosing (nester, not class)\n",
    "            print(X)  # Local: 4\n",
    "            self.X = 5  # Hides class\n",
    "            print(self.X)  # Located in instance: 5\n",
    "\n",
    "    I = C()\n",
    "    I.method1()\n",
    "    I.method2()\n",
    "\n",
    "\n",
    "print(X)\n",
    "print('-' * 40)\n",
    "nester()"
   ],
   "id": "8bb727e53c6df2e4",
   "outputs": [
    {
     "name": "stdout",
     "output_type": "stream",
     "text": [
      "1\n",
      "----------------------------------------\n",
      "2\n",
      "3\n",
      "2\n",
      "3\n",
      "4\n",
      "5\n"
     ]
    }
   ],
   "execution_count": 20
  },
  {
   "metadata": {
    "ExecuteTime": {
     "end_time": "2024-07-08T02:24:20.642232Z",
     "start_time": "2024-07-08T02:24:20.640219Z"
    }
   },
   "cell_type": "code",
   "source": [
    "class Sup:\n",
    "    def hello(self):\n",
    "        self.data1 = 'spam'\n",
    "        \n",
    "class Sub(Sup):\n",
    "    def hola(self):\n",
    "        self.data2 = 'eggs'"
   ],
   "id": "55897997ee152848",
   "outputs": [],
   "execution_count": 21
  },
  {
   "metadata": {
    "ExecuteTime": {
     "end_time": "2024-07-08T02:24:20.665447Z",
     "start_time": "2024-07-08T02:24:20.663735Z"
    }
   },
   "cell_type": "code",
   "source": "x = Sub()",
   "id": "50c35e0ac5ce4a54",
   "outputs": [],
   "execution_count": 22
  },
  {
   "metadata": {
    "ExecuteTime": {
     "end_time": "2024-07-08T02:24:20.678982Z",
     "start_time": "2024-07-08T02:24:20.676617Z"
    }
   },
   "cell_type": "code",
   "source": "x.__dict__",
   "id": "952207f2ed574e09",
   "outputs": [
    {
     "data": {
      "text/plain": [
       "{}"
      ]
     },
     "execution_count": 23,
     "metadata": {},
     "output_type": "execute_result"
    }
   ],
   "execution_count": 23
  },
  {
   "metadata": {
    "ExecuteTime": {
     "end_time": "2024-07-08T02:24:20.701121Z",
     "start_time": "2024-07-08T02:24:20.698722Z"
    }
   },
   "cell_type": "code",
   "source": "x.__class__",
   "id": "bee36fe34f81049a",
   "outputs": [
    {
     "data": {
      "text/plain": [
       "__main__.Sub"
      ]
     },
     "execution_count": 24,
     "metadata": {},
     "output_type": "execute_result"
    }
   ],
   "execution_count": 24
  },
  {
   "metadata": {
    "ExecuteTime": {
     "end_time": "2024-07-08T02:24:20.722655Z",
     "start_time": "2024-07-08T02:24:20.720650Z"
    }
   },
   "cell_type": "code",
   "source": "Sub.__base__",
   "id": "9f56183790fcd0b3",
   "outputs": [
    {
     "data": {
      "text/plain": [
       "__main__.Sup"
      ]
     },
     "execution_count": 25,
     "metadata": {},
     "output_type": "execute_result"
    }
   ],
   "execution_count": 25
  },
  {
   "metadata": {
    "ExecuteTime": {
     "end_time": "2024-07-08T02:24:20.727401Z",
     "start_time": "2024-07-08T02:24:20.725440Z"
    }
   },
   "cell_type": "code",
   "source": "Sup.__base__",
   "id": "65230ac00996f1c9",
   "outputs": [
    {
     "data": {
      "text/plain": [
       "object"
      ]
     },
     "execution_count": 26,
     "metadata": {},
     "output_type": "execute_result"
    }
   ],
   "execution_count": 26
  },
  {
   "metadata": {
    "ExecuteTime": {
     "end_time": "2024-07-08T02:24:20.747360Z",
     "start_time": "2024-07-08T02:24:20.744981Z"
    }
   },
   "cell_type": "code",
   "source": [
    "y = Sub()\n",
    "y.hello()\n",
    "y.__dict__"
   ],
   "id": "f0c41926bc70436c",
   "outputs": [
    {
     "data": {
      "text/plain": [
       "{'data1': 'spam'}"
      ]
     },
     "execution_count": 27,
     "metadata": {},
     "output_type": "execute_result"
    }
   ],
   "execution_count": 27
  },
  {
   "metadata": {
    "ExecuteTime": {
     "end_time": "2024-07-08T02:24:20.774759Z",
     "start_time": "2024-07-08T02:24:20.772156Z"
    }
   },
   "cell_type": "code",
   "source": [
    "y.hola()\n",
    "y.__dict__"
   ],
   "id": "210f0507ca048331",
   "outputs": [
    {
     "data": {
      "text/plain": [
       "{'data1': 'spam', 'data2': 'eggs'}"
      ]
     },
     "execution_count": 28,
     "metadata": {},
     "output_type": "execute_result"
    }
   ],
   "execution_count": 28
  },
  {
   "metadata": {
    "ExecuteTime": {
     "end_time": "2024-07-08T02:24:20.787690Z",
     "start_time": "2024-07-08T02:24:20.785434Z"
    }
   },
   "cell_type": "code",
   "source": "list(Sub.__dict__)",
   "id": "fa145f22e0c869f3",
   "outputs": [
    {
     "data": {
      "text/plain": [
       "['__module__', 'hola', '__doc__']"
      ]
     },
     "execution_count": 29,
     "metadata": {},
     "output_type": "execute_result"
    }
   ],
   "execution_count": 29
  },
  {
   "metadata": {
    "ExecuteTime": {
     "end_time": "2024-07-08T02:24:20.804764Z",
     "start_time": "2024-07-08T02:24:20.802496Z"
    }
   },
   "cell_type": "code",
   "source": "list(Sup.__dict__)",
   "id": "e956b129ffe5e472",
   "outputs": [
    {
     "data": {
      "text/plain": [
       "['__module__', 'hello', '__dict__', '__weakref__', '__doc__']"
      ]
     },
     "execution_count": 30,
     "metadata": {},
     "output_type": "execute_result"
    }
   ],
   "execution_count": 30
  },
  {
   "metadata": {
    "ExecuteTime": {
     "end_time": "2024-07-08T02:24:20.826729Z",
     "start_time": "2024-07-08T02:24:20.824437Z"
    }
   },
   "cell_type": "code",
   "source": "y.data1, y.__dict__['data1']",
   "id": "5ac1382de05ae66",
   "outputs": [
    {
     "data": {
      "text/plain": [
       "('spam', 'spam')"
      ]
     },
     "execution_count": 31,
     "metadata": {},
     "output_type": "execute_result"
    }
   ],
   "execution_count": 31
  },
  {
   "metadata": {
    "ExecuteTime": {
     "end_time": "2024-07-08T02:24:20.847847Z",
     "start_time": "2024-07-08T02:24:20.845658Z"
    }
   },
   "cell_type": "code",
   "source": [
    "y.data3 = 'toast'\n",
    "y.__dict__"
   ],
   "id": "56ea1d43235f2d22",
   "outputs": [
    {
     "data": {
      "text/plain": [
       "{'data1': 'spam', 'data2': 'eggs', 'data3': 'toast'}"
      ]
     },
     "execution_count": 32,
     "metadata": {},
     "output_type": "execute_result"
    }
   ],
   "execution_count": 32
  },
  {
   "metadata": {
    "ExecuteTime": {
     "end_time": "2024-07-08T02:24:20.867989Z",
     "start_time": "2024-07-08T02:24:20.860762Z"
    }
   },
   "cell_type": "code",
   "source": "y.__dict__['hello']",
   "id": "887b29da267234cf",
   "outputs": [
    {
     "ename": "KeyError",
     "evalue": "'hello'",
     "output_type": "error",
     "traceback": [
      "\u001B[0;31m---------------------------------------------------------------------------\u001B[0m",
      "\u001B[0;31mKeyError\u001B[0m                                  Traceback (most recent call last)",
      "Cell \u001B[0;32mIn[33], line 1\u001B[0m\n\u001B[0;32m----> 1\u001B[0m y\u001B[38;5;241m.\u001B[39m\u001B[38;5;18m__dict__\u001B[39m[\u001B[38;5;124m'\u001B[39m\u001B[38;5;124mhello\u001B[39m\u001B[38;5;124m'\u001B[39m]\n",
      "\u001B[0;31mKeyError\u001B[0m: 'hello'"
     ]
    }
   ],
   "execution_count": 33
  },
  {
   "metadata": {
    "ExecuteTime": {
     "end_time": "2024-07-08T02:24:20.877103Z",
     "start_time": "2024-07-08T02:24:20.875005Z"
    }
   },
   "cell_type": "code",
   "source": "Sup.__base__",
   "id": "73a1ebcfbd687e1a",
   "outputs": [
    {
     "data": {
      "text/plain": [
       "object"
      ]
     },
     "execution_count": 34,
     "metadata": {},
     "output_type": "execute_result"
    }
   ],
   "execution_count": 34
  },
  {
   "metadata": {
    "ExecuteTime": {
     "end_time": "2024-07-08T02:24:20.906120Z",
     "start_time": "2024-07-08T02:24:20.904140Z"
    }
   },
   "cell_type": "code",
   "source": "Sup.__base__.__base__",
   "id": "ba1db01409d95251",
   "outputs": [],
   "execution_count": 35
  },
  {
   "metadata": {
    "ExecuteTime": {
     "end_time": "2024-07-08T02:24:20.944466Z",
     "start_time": "2024-07-08T02:24:20.943218Z"
    }
   },
   "cell_type": "code",
   "source": "",
   "id": "871466fd746c5753",
   "outputs": [],
   "execution_count": 35
  }
 ],
 "metadata": {
  "kernelspec": {
   "display_name": "Python 3",
   "language": "python",
   "name": "python3"
  },
  "language_info": {
   "codemirror_mode": {
    "name": "ipython",
    "version": 2
   },
   "file_extension": ".py",
   "mimetype": "text/x-python",
   "name": "python",
   "nbconvert_exporter": "python",
   "pygments_lexer": "ipython2",
   "version": "2.7.6"
  }
 },
 "nbformat": 4,
 "nbformat_minor": 5
}
