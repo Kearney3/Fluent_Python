{
 "cells": [
  {
   "metadata": {},
   "cell_type": "markdown",
   "source": "# 类代码编写细节",
   "id": "205a7fa5e61cf00f"
  },
  {
   "metadata": {
    "ExecuteTime": {
     "end_time": "2024-06-27T02:28:41.039415Z",
     "start_time": "2024-06-27T02:28:41.036259Z"
    }
   },
   "cell_type": "code",
   "source": [
    "class Shareddata:\n",
    "    data = 30"
   ],
   "id": "6b229e6c9fa85560",
   "execution_count": 31,
   "outputs": []
  },
  {
   "cell_type": "code",
   "id": "initial_id",
   "metadata": {
    "collapsed": true,
    "ExecuteTime": {
     "end_time": "2024-06-27T02:28:41.281077Z",
     "start_time": "2024-06-27T02:28:41.278675Z"
    }
   },
   "source": [
    "x = Shareddata()\n",
    "y = Shareddata()"
   ],
   "execution_count": 32,
   "outputs": []
  },
  {
   "metadata": {
    "ExecuteTime": {
     "end_time": "2024-06-27T02:28:41.757755Z",
     "start_time": "2024-06-27T02:28:41.755220Z"
    }
   },
   "cell_type": "code",
   "source": "x.data, id(x), y.data, id(y), Shareddata.data, id(Shareddata.data)",
   "id": "cf6d8a7a93d57444",
   "execution_count": 33,
   "outputs": []
  },
  {
   "metadata": {
    "ExecuteTime": {
     "end_time": "2024-06-27T02:28:49.412966Z",
     "start_time": "2024-06-27T02:28:49.409989Z"
    }
   },
   "cell_type": "code",
   "source": [
    "x.data = 80\n",
    "x.data, id(x), y.data, id(y), Shareddata.data, id(Shareddata.data)"
   ],
   "id": "5ec588ef95494a08",
   "execution_count": 34,
   "outputs": []
  },
  {
   "metadata": {},
   "cell_type": "markdown",
   "source": "对实例的属性进⾏赋值运算会在该实例内创建或修改名称，⽽不是在共享的类中",
   "id": "84f2cd12793e2a6d"
  },
  {
   "metadata": {
    "ExecuteTime": {
     "end_time": "2024-06-27T02:28:53.052354Z",
     "start_time": "2024-06-27T02:28:53.050046Z"
    }
   },
   "cell_type": "code",
   "source": "Shareddata.data = 99",
   "id": "72b0c4cb3993060",
   "execution_count": 35,
   "outputs": []
  },
  {
   "metadata": {
    "ExecuteTime": {
     "end_time": "2024-06-27T02:28:56.732945Z",
     "start_time": "2024-06-27T02:28:56.728907Z"
    }
   },
   "cell_type": "code",
   "source": "x.data, id(x), y.data, id(y), Shareddata.data, id(Shareddata.data)",
   "id": "66326b2b0fda6d32",
   "execution_count": 37,
   "outputs": []
  },
  {
   "metadata": {
    "ExecuteTime": {
     "end_time": "2024-06-27T02:29:03.789769Z",
     "start_time": "2024-06-27T02:29:03.786747Z"
    }
   },
   "cell_type": "code",
   "source": [
    "class SharedList:\n",
    "    data = [1, 2, 3]"
   ],
   "id": "1a2c6dc8aa57c7f2",
   "execution_count": 38,
   "outputs": []
  },
  {
   "metadata": {
    "ExecuteTime": {
     "end_time": "2024-06-27T02:29:04.202510Z",
     "start_time": "2024-06-27T02:29:04.199564Z"
    }
   },
   "cell_type": "code",
   "source": [
    "x = SharedList()\n",
    "y = SharedList()\n",
    "x.data, id(x), y.data, id(y), SharedList.data, id(SharedList.data)"
   ],
   "id": "8a03f9fbcd4b6f27",
   "execution_count": 39,
   "outputs": []
  },
  {
   "metadata": {
    "ExecuteTime": {
     "end_time": "2024-06-27T02:29:04.750678Z",
     "start_time": "2024-06-27T02:29:04.747659Z"
    }
   },
   "cell_type": "code",
   "source": [
    "x.data = [4, 5, 6]\n",
    "y.data = [1, 2, 3]  # 赋值相同的值也会改变引用\n",
    "x.data, id(x), y.data, id(y), SharedList.data, id(SharedList.data)"
   ],
   "id": "68148941fc7af05b",
   "execution_count": 40,
   "outputs": []
  },
  {
   "metadata": {
    "ExecuteTime": {
     "end_time": "2024-06-27T02:29:05.079421Z",
     "start_time": "2024-06-27T02:29:05.077362Z"
    }
   },
   "cell_type": "code",
   "source": "SharedList.data = ['abc']",
   "id": "7961bc868acc78e",
   "execution_count": 41,
   "outputs": []
  },
  {
   "metadata": {
    "ExecuteTime": {
     "end_time": "2024-06-27T02:29:05.533410Z",
     "start_time": "2024-06-27T02:29:05.530288Z"
    }
   },
   "cell_type": "code",
   "source": "x.data, id(x), y.data, id(y), SharedList.data, id(SharedList.data)",
   "id": "c3221b8fc87e2b27",
   "execution_count": 42,
   "outputs": []
  },
  {
   "metadata": {},
   "cell_type": "markdown",
   "source": "# 修改实例属性",
   "id": "b9b1d2d61afedbd3"
  },
  {
   "metadata": {
    "ExecuteTime": {
     "end_time": "2024-06-27T02:41:12.608182Z",
     "start_time": "2024-06-27T02:41:12.601777Z"
    }
   },
   "cell_type": "code",
   "source": [
    "class Mixname:\n",
    "    data = 'spam'\n",
    "\n",
    "    def __init__(self, name):\n",
    "        self.data = name\n",
    "\n",
    "    def display(self):\n",
    "        print(self.data, Mixname.data)"
   ],
   "id": "b03e91f68e21744d",
   "execution_count": 43,
   "outputs": []
  },
  {
   "metadata": {
    "ExecuteTime": {
     "end_time": "2024-06-27T02:41:34.533590Z",
     "start_time": "2024-06-27T02:41:34.528058Z"
    }
   },
   "cell_type": "code",
   "source": [
    "x = Mixname('eggs')\n",
    "y = Mixname('apple')\n",
    "x.display(), y.display()"
   ],
   "id": "bbb6f9e99fa6f83c",
   "execution_count": 44,
   "outputs": []
  },
  {
   "metadata": {
    "ExecuteTime": {
     "end_time": "2024-06-27T02:49:03.852004Z",
     "start_time": "2024-06-27T02:49:03.829470Z"
    }
   },
   "cell_type": "code",
   "source": "Mixname.display(x)",
   "id": "e16ac7508330dc66",
   "execution_count": 49,
   "outputs": []
  },
  {
   "metadata": {
    "ExecuteTime": {
     "end_time": "2024-06-27T02:49:24.065662Z",
     "start_time": "2024-06-27T02:49:24.039153Z"
    }
   },
   "cell_type": "code",
   "source": "Mixname.display()",
   "id": "bf62bc7a57c2f4f4",
   "execution_count": 50,
   "outputs": []
  },
  {
   "metadata": {},
   "cell_type": "markdown",
   "source": "# 继承",
   "id": "b07cac8c1218e67f"
  },
  {
   "metadata": {
    "ExecuteTime": {
     "end_time": "2024-06-27T02:51:09.804131Z",
     "start_time": "2024-06-27T02:51:09.796895Z"
    }
   },
   "cell_type": "code",
   "source": [
    "class Super:\n",
    "    def method(self):\n",
    "        print('in Super.method')"
   ],
   "id": "2d52f3feaa3daa35",
   "execution_count": 51,
   "outputs": []
  },
  {
   "metadata": {
    "ExecuteTime": {
     "end_time": "2024-06-27T02:51:33.532018Z",
     "start_time": "2024-06-27T02:51:33.527744Z"
    }
   },
   "cell_type": "code",
   "source": [
    "class Sub(Super):\n",
    "    def method(self):\n",
    "        print('in Sub.method')\n",
    "        Super.method(self)\n",
    "        print('ending Super.method')"
   ],
   "id": "3772b5c1f43edb7f",
   "execution_count": 54,
   "outputs": []
  },
  {
   "metadata": {
    "ExecuteTime": {
     "end_time": "2024-06-27T02:51:52.293020Z",
     "start_time": "2024-06-27T02:51:52.284339Z"
    }
   },
   "cell_type": "code",
   "source": [
    "x = Super()\n",
    "x.method()"
   ],
   "id": "759a68c4b90f2f0d",
   "execution_count": 56,
   "outputs": []
  },
  {
   "metadata": {
    "ExecuteTime": {
     "end_time": "2024-06-27T02:52:08.474755Z",
     "start_time": "2024-06-27T02:52:08.469523Z"
    }
   },
   "cell_type": "code",
   "source": [
    "x = Sub()\n",
    "x.method()"
   ],
   "id": "a336cf9c1c50550a",
   "execution_count": 57,
   "outputs": []
  },
  {
   "metadata": {
    "ExecuteTime": {
     "end_time": "2024-06-27T02:55:18.654389Z",
     "start_time": "2024-06-27T02:55:18.648256Z"
    }
   },
   "cell_type": "code",
   "source": [
    "class Super:\n",
    "\n",
    "    def method(self):\n",
    "        print('in Super.method')\n",
    "\n",
    "    def delegate(self):\n",
    "        self.action()\n",
    "\n",
    "\n",
    "class Inheritor(Super):\n",
    "    # Default behavior # Expected to be defined # Inherit method verbatim\n",
    "    pass\n",
    "\n",
    "\n",
    "class Replacer(Super):\n",
    "\n",
    "    def method(self):\n",
    "        # Replace method completely\n",
    "        print('in Replacer.method')\n",
    "\n",
    "\n",
    "class Extender(Super):\n",
    "\n",
    "    def method(self):\n",
    "        # Extend method behavior\n",
    "        print('starting Extender.method')\n",
    "        Super.method(self)\n",
    "        print('ending Extender.method')\n",
    "\n",
    "\n",
    "class Provider(Super):\n",
    "\n",
    "    def action(self):\n",
    "        # Fill in a required method\n",
    "        print('in Provider.action')\n"
   ],
   "id": "a1d6e5d7009cbac3",
   "execution_count": 58,
   "outputs": []
  },
  {
   "metadata": {
    "ExecuteTime": {
     "end_time": "2024-06-27T02:56:54.123121Z",
     "start_time": "2024-06-27T02:56:54.118753Z"
    }
   },
   "cell_type": "code",
   "source": [
    "for klass in (Inheritor, Replacer, Extender):\n",
    "    print('\\n' + klass.__name__ + '...')\n",
    "    klass().method()\n",
    "    print('\\nProvider...')\n",
    "    x = Provider()\n",
    "    x.delegate()\n",
    "    print('-' * 50)"
   ],
   "id": "2b8e399cfabf24",
   "execution_count": 60,
   "outputs": []
  },
  {
   "metadata": {
    "ExecuteTime": {
     "end_time": "2024-06-27T03:05:05.908087Z",
     "start_time": "2024-06-27T03:05:05.903600Z"
    }
   },
   "cell_type": "code",
   "source": [
    "class Super:\n",
    "\n",
    "    def method(self):\n",
    "        print('in Super.method')\n",
    "\n",
    "    def delegate(self):\n",
    "        self.action()\n",
    "\n",
    "    def action(self):\n",
    "        raise NotImplementedError('action must be defined')\n"
   ],
   "id": "7d57425ec0b886d6",
   "execution_count": 61,
   "outputs": []
  },
  {
   "metadata": {
    "ExecuteTime": {
     "end_time": "2024-06-27T03:05:13.548856Z",
     "start_time": "2024-06-27T03:05:13.516625Z"
    }
   },
   "cell_type": "code",
   "source": [
    "x = Super()\n",
    "x.delegate()"
   ],
   "id": "d235b95cdb134667",
   "execution_count": 63,
   "outputs": []
  },
  {
   "metadata": {
    "ExecuteTime": {
     "end_time": "2024-06-27T03:05:27.779047Z",
     "start_time": "2024-06-27T03:05:27.776995Z"
    }
   },
   "cell_type": "code",
   "source": [
    "y = Provider()\n",
    "y.delegate()"
   ],
   "id": "74f50d92979f1fb",
   "execution_count": 64,
   "outputs": []
  },
  {
   "metadata": {
    "ExecuteTime": {
     "end_time": "2024-06-27T03:07:08.951237Z",
     "start_time": "2024-06-27T03:07:08.946978Z"
    }
   },
   "cell_type": "code",
   "source": [
    "class Sub(Super):\n",
    "    def action(self):\n",
    "        print('in Sub.action')"
   ],
   "id": "e182c5a20e2489df",
   "execution_count": 66,
   "outputs": []
  },
  {
   "metadata": {
    "ExecuteTime": {
     "end_time": "2024-06-27T03:07:15.689303Z",
     "start_time": "2024-06-27T03:07:15.687411Z"
    }
   },
   "cell_type": "code",
   "source": [
    "z = Sub()\n",
    "z.delegate()"
   ],
   "id": "f11e951c1dbc3673",
   "execution_count": 67,
   "outputs": []
  },
  {
   "metadata": {},
   "cell_type": "markdown",
   "source": "# 抽象类",
   "id": "a0542a705d3d846e"
  },
  {
   "metadata": {
    "ExecuteTime": {
     "end_time": "2024-06-27T03:09:04.736124Z",
     "start_time": "2024-06-27T03:09:04.732301Z"
    }
   },
   "cell_type": "code",
   "source": [
    "from abc import ABCMeta, abstractmethod\n",
    "\n",
    "\n",
    "class Super(metaclass=ABCMeta):\n",
    "\n",
    "    def delegate(self):\n",
    "        self.action()\n",
    "\n",
    "    @abstractmethod\n",
    "    def action(self):\n",
    "        pass"
   ],
   "id": "b1716f6072cc6874",
   "execution_count": 68,
   "outputs": []
  },
  {
   "metadata": {
    "ExecuteTime": {
     "end_time": "2024-06-27T03:09:07.047921Z",
     "start_time": "2024-06-27T03:09:07.036733Z"
    }
   },
   "cell_type": "code",
   "source": "x = Super()",
   "id": "410e718bd75e9070",
   "execution_count": 69,
   "outputs": []
  },
  {
   "metadata": {
    "ExecuteTime": {
     "end_time": "2024-06-27T03:09:26.545239Z",
     "start_time": "2024-06-27T03:09:26.541440Z"
    }
   },
   "cell_type": "code",
   "source": [
    "class Sub(Super):\n",
    "    pass"
   ],
   "id": "c59acb3009959c90",
   "execution_count": 70,
   "outputs": []
  },
  {
   "metadata": {
    "ExecuteTime": {
     "end_time": "2024-06-27T03:09:29.476416Z",
     "start_time": "2024-06-27T03:09:29.465537Z"
    }
   },
   "cell_type": "code",
   "source": "y = Sub()",
   "id": "2629f57f48e3fe5f",
   "execution_count": 71,
   "outputs": []
  },
  {
   "metadata": {
    "ExecuteTime": {
     "end_time": "2024-06-27T03:09:47.207982Z",
     "start_time": "2024-06-27T03:09:47.204354Z"
    }
   },
   "cell_type": "code",
   "source": [
    "class Sub(Super):\n",
    "    def action(self):\n",
    "        print('in Sub.action')\n"
   ],
   "id": "7a3b4a28de9f0021",
   "execution_count": 72,
   "outputs": []
  },
  {
   "metadata": {
    "ExecuteTime": {
     "end_time": "2024-06-27T03:09:53.823630Z",
     "start_time": "2024-06-27T03:09:53.821457Z"
    }
   },
   "cell_type": "code",
   "source": [
    "z = Sub()\n",
    "z.delegate()"
   ],
   "id": "3e85a0c1fe76ca5",
   "execution_count": 74,
   "outputs": []
  },
  {
   "metadata": {},
   "cell_type": "markdown",
   "source": "## 命名空间",
   "id": "a28aa744edfa3473"
  },
  {
   "metadata": {
    "ExecuteTime": {
     "end_time": "2024-06-27T03:17:31.475268Z",
     "start_time": "2024-06-27T03:17:31.467268Z"
    }
   },
   "cell_type": "code",
   "source": [
    "X = 11\n",
    "\n",
    "\n",
    "def f():\n",
    "    print(X)\n",
    "\n",
    "\n",
    "def g():\n",
    "    # Global (module) name/attribute (X, or manynames.X)\n",
    "    # Access global X (11)\n",
    "    X = 22\n",
    "    # Local (function) variable (X, hides module X)\n",
    "    print(X)\n",
    "\n",
    "\n",
    "class C:\n",
    "    X = 33\n",
    "\n",
    "    def m(self):\n",
    "        # Class attribute (C.X)\n",
    "        X = 44\n",
    "        self.X = 55\n",
    "\n",
    "# Local variable in method (X) # Instance attribute (instance.X)"
   ],
   "id": "aa60120b083def90",
   "execution_count": 75,
   "outputs": []
  },
  {
   "metadata": {
    "ExecuteTime": {
     "end_time": "2024-06-27T03:20:31.031177Z",
     "start_time": "2024-06-27T03:20:31.023428Z"
    }
   },
   "cell_type": "code",
   "source": [
    "print(X)\n",
    "f()\n",
    "g()\n",
    "print(X)\n",
    "print('-' * 50)\n",
    "obj = C()\n",
    "print(obj.X)\n",
    "obj.m()\n",
    "print(obj.X)\n",
    "print(C.X)"
   ],
   "id": "6accb3abf5b4a5b",
   "execution_count": 89,
   "outputs": []
  },
  {
   "metadata": {
    "ExecuteTime": {
     "end_time": "2024-06-27T03:27:30.065139Z",
     "start_time": "2024-06-27T03:27:30.061456Z"
    }
   },
   "cell_type": "code",
   "source": [
    "X = 1\n",
    "\n",
    "\n",
    "def nester():\n",
    "    print(X)\n",
    "\n",
    "    class C:\n",
    "        print(X)\n",
    "\n",
    "        def method1(self):\n",
    "            print(X)\n",
    "\n",
    "        def method2(self):\n",
    "            X = 3\n",
    "            print(X)\n",
    "\n",
    "    # Global: 1 # Global: 1 # Global: 1 # Hides global # Local: 3\n",
    "\n",
    "    I = C()  # 1\n",
    "    I.method1()  # 1\n",
    "    I.method2()  # 3\n",
    "\n",
    "\n",
    "print(X)  # 1\n",
    "print('-' * 40)\n",
    "nester()  # 1 1 1 3"
   ],
   "id": "1defcbd284f6af69",
   "execution_count": 100,
   "outputs": []
  },
  {
   "metadata": {
    "ExecuteTime": {
     "end_time": "2024-06-27T03:30:48.569894Z",
     "start_time": "2024-06-27T03:30:48.563994Z"
    }
   },
   "cell_type": "code",
   "source": [
    "X = 1\n",
    "\n",
    "\n",
    "def nester():\n",
    "    X = 2\n",
    "    print(X)\n",
    "\n",
    "    class C:\n",
    "        X = 3\n",
    "        print(X)\n",
    "\n",
    "        def method1(self):\n",
    "            print(X)  # 2 not 3\n",
    "            print(self.X)  # 3\n",
    "\n",
    "        def method2(self):\n",
    "            X = 4\n",
    "            print(X)  # 4\n",
    "            self.X = 5\n",
    "            print(self.X)  # 5\n",
    "\n",
    "    I = C()  # 3\n",
    "    I.method1()  # 2 3\n",
    "    I.method2()  # 4 5\n",
    "\n",
    "\n",
    "print(X)  # 1\n",
    "print('-' * 40)\n",
    "nester()  # 3 2 3 4 5"
   ],
   "id": "c8f1152530a50489",
   "execution_count": 106,
   "outputs": []
  },
  {
   "metadata": {
    "ExecuteTime": {
     "end_time": "2024-06-27T03:35:12.327613Z",
     "start_time": "2024-06-27T03:35:12.325076Z"
    }
   },
   "cell_type": "code",
   "source": [
    "X = 1\n",
    "\n",
    "def nester():\n",
    "    X = 2  # Hides global \n",
    "\n",
    "    print(X)  # Local: 2\n",
    "\n",
    "    class C:\n",
    "        X = 3  # Class local hides nester's: C.X or I.X (not scoped) \n",
    "        print(X)  # Local: 3\n",
    "\n",
    "        def method1(self):\n",
    "            print(X)  # In enclosing def (not 3 in class!): 2\n",
    "            print(self.X)  # Inherited class local: 3\n",
    "\n",
    "        def method2(self):\n",
    "            X = 4  # Hides enclosing (nester, not class)\n",
    "            print(X)  # Local: 4\n",
    "            self.X = 5  # Hides class\n",
    "            print(self.X)  # Located in instance: 5\n",
    "\n",
    "    I = C()\n",
    "    I.method1()\n",
    "    I.method2()\n",
    "\n",
    "\n",
    "print(X)\n",
    "print('-' * 40)\n",
    "nester()"
   ],
   "id": "8bb727e53c6df2e4",
   "execution_count": 108,
   "outputs": []
  },
  {
   "metadata": {
    "ExecuteTime": {
     "end_time": "2024-06-27T03:41:31.548847Z",
     "start_time": "2024-06-27T03:41:31.546186Z"
    }
   },
   "cell_type": "code",
   "source": [
    "class Sup:\n",
    "    def hello(self):\n",
    "        self.data1 = 'spam'\n",
    "        \n",
    "class Sub(Sup):\n",
    "    def hola(self):\n",
    "        self.data2 = 'eggs'"
   ],
   "id": "55897997ee152848",
   "execution_count": 110,
   "outputs": []
  },
  {
   "metadata": {
    "ExecuteTime": {
     "end_time": "2024-06-27T03:41:43.269718Z",
     "start_time": "2024-06-27T03:41:43.264447Z"
    }
   },
   "cell_type": "code",
   "source": "x = Sub()",
   "id": "50c35e0ac5ce4a54",
   "execution_count": 111,
   "outputs": []
  },
  {
   "metadata": {
    "ExecuteTime": {
     "end_time": "2024-06-27T03:41:46.967959Z",
     "start_time": "2024-06-27T03:41:46.965044Z"
    }
   },
   "cell_type": "code",
   "source": "x.__dict__",
   "id": "952207f2ed574e09",
   "execution_count": 112,
   "outputs": []
  },
  {
   "metadata": {
    "ExecuteTime": {
     "end_time": "2024-06-27T03:42:03.992405Z",
     "start_time": "2024-06-27T03:42:03.986749Z"
    }
   },
   "cell_type": "code",
   "source": "x.__class__",
   "id": "bee36fe34f81049a",
   "execution_count": 114,
   "outputs": []
  },
  {
   "metadata": {
    "ExecuteTime": {
     "end_time": "2024-06-27T03:42:13.562Z",
     "start_time": "2024-06-27T03:42:13.558955Z"
    }
   },
   "cell_type": "code",
   "source": "Sub.__base__",
   "id": "9f56183790fcd0b3",
   "execution_count": 115,
   "outputs": []
  },
  {
   "metadata": {
    "ExecuteTime": {
     "end_time": "2024-06-27T03:44:07.756174Z",
     "start_time": "2024-06-27T03:44:07.753708Z"
    }
   },
   "cell_type": "code",
   "source": "Sup.__base__",
   "id": "65230ac00996f1c9",
   "execution_count": 125,
   "outputs": []
  },
  {
   "metadata": {
    "ExecuteTime": {
     "end_time": "2024-06-27T03:43:02.935843Z",
     "start_time": "2024-06-27T03:43:02.933376Z"
    }
   },
   "cell_type": "code",
   "source": [
    "y = Sub()\n",
    "y.hello()\n",
    "y.__dict__"
   ],
   "id": "f0c41926bc70436c",
   "execution_count": 119,
   "outputs": []
  },
  {
   "metadata": {
    "ExecuteTime": {
     "end_time": "2024-06-27T03:43:10.341297Z",
     "start_time": "2024-06-27T03:43:10.336979Z"
    }
   },
   "cell_type": "code",
   "source": [
    "y.hola()\n",
    "y.__dict__"
   ],
   "id": "210f0507ca048331",
   "execution_count": 121,
   "outputs": []
  },
  {
   "metadata": {
    "ExecuteTime": {
     "end_time": "2024-06-27T03:43:22.729434Z",
     "start_time": "2024-06-27T03:43:22.723711Z"
    }
   },
   "cell_type": "code",
   "source": "list(Sub.__dict__)",
   "id": "fa145f22e0c869f3",
   "execution_count": 122,
   "outputs": []
  },
  {
   "metadata": {
    "ExecuteTime": {
     "end_time": "2024-06-27T03:44:01.591137Z",
     "start_time": "2024-06-27T03:44:01.588130Z"
    }
   },
   "cell_type": "code",
   "source": "list(Sup.__dict__)",
   "id": "e956b129ffe5e472",
   "execution_count": 124,
   "outputs": []
  },
  {
   "metadata": {
    "ExecuteTime": {
     "end_time": "2024-06-27T03:44:37.234190Z",
     "start_time": "2024-06-27T03:44:37.229640Z"
    }
   },
   "cell_type": "code",
   "source": "y.data1, y.__dict__['data1']",
   "id": "5ac1382de05ae66",
   "execution_count": 126,
   "outputs": []
  },
  {
   "metadata": {
    "ExecuteTime": {
     "end_time": "2024-06-27T03:44:50.965405Z",
     "start_time": "2024-06-27T03:44:50.962362Z"
    }
   },
   "cell_type": "code",
   "source": [
    "y.data3 = 'toast'\n",
    "y.__dict__"
   ],
   "id": "56ea1d43235f2d22",
   "execution_count": 127,
   "outputs": []
  },
  {
   "metadata": {
    "ExecuteTime": {
     "end_time": "2024-06-27T03:46:05.826446Z",
     "start_time": "2024-06-27T03:46:05.812980Z"
    }
   },
   "cell_type": "code",
   "source": "y.__dict__['hello']",
   "id": "887b29da267234cf",
   "execution_count": 128,
   "outputs": []
  },
  {
   "metadata": {
    "ExecuteTime": {
     "end_time": "2024-06-27T03:55:05.849320Z",
     "start_time": "2024-06-27T03:55:05.844971Z"
    }
   },
   "cell_type": "code",
   "source": "Sup.__base__",
   "id": "73a1ebcfbd687e1a",
   "execution_count": 129,
   "outputs": []
  },
  {
   "metadata": {
    "ExecuteTime": {
     "end_time": "2024-06-27T03:55:18.594325Z",
     "start_time": "2024-06-27T03:55:18.592222Z"
    }
   },
   "cell_type": "code",
   "source": "Sup.__base__.__base__",
   "id": "ba1db01409d95251",
   "execution_count": 131,
   "outputs": []
  },
  {
   "metadata": {},
   "cell_type": "code",
   "execution_count": null,
   "source": "",
   "id": "871466fd746c5753",
   "outputs": []
  }
 ],
 "metadata": {
  "kernelspec": {
   "display_name": "Python 3",
   "language": "python",
   "name": "python3"
  },
  "language_info": {
   "codemirror_mode": {
    "name": "ipython",
    "version": 2
   },
   "file_extension": ".py",
   "mimetype": "text/x-python",
   "name": "python",
   "nbconvert_exporter": "python",
   "pygments_lexer": "ipython2",
   "version": "2.7.6"
  }
 },
 "nbformat": 4,
 "nbformat_minor": 5
}
