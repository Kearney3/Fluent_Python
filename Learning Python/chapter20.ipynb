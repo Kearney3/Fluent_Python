{
 "cells": [
  {
   "metadata": {},
   "cell_type": "markdown",
   "source": "# 推导和生成",
   "id": "a122ce2676709abb"
  },
  {
   "cell_type": "code",
   "id": "initial_id",
   "metadata": {
    "collapsed": true,
    "jupyter": {
     "is_executing": true
    }
   },
   "source": "[chr(x) for x in range(97, 123)]",
   "execution_count": null,
   "outputs": []
  },
  {
   "metadata": {
    "ExecuteTime": {
     "end_time": "2024-06-23T12:03:37.309732Z",
     "start_time": "2024-06-23T12:03:37.306830Z"
    }
   },
   "cell_type": "code",
   "source": "list(filter(lambda x:x%2==0, range(10)))",
   "id": "952c360b2f1d4209",
   "execution_count": 3,
   "outputs": []
  },
  {
   "metadata": {
    "ExecuteTime": {
     "end_time": "2024-06-23T12:03:56.568020Z",
     "start_time": "2024-06-23T12:03:56.564541Z"
    }
   },
   "cell_type": "code",
   "source": "[x for x in range(10)if x%2==0]",
   "id": "f0a5f319825c5874",
   "execution_count": 4,
   "outputs": []
  },
  {
   "metadata": {
    "ExecuteTime": {
     "end_time": "2024-06-23T12:04:53.687368Z",
     "start_time": "2024-06-23T12:04:53.682357Z"
    }
   },
   "cell_type": "code",
   "source": "list(map(lambda x:x**2, filter(lambda x:x%2==0, range(10))))",
   "id": "c8b8d77b843f0c21",
   "execution_count": 5,
   "outputs": []
  },
  {
   "metadata": {
    "ExecuteTime": {
     "end_time": "2024-06-23T12:07:57.932692Z",
     "start_time": "2024-06-23T12:07:57.928580Z"
    }
   },
   "cell_type": "code",
   "source": "[x+y for x in [1,2,3] for y in [100,200,300] if x+y > 200]",
   "id": "370aa8503e35ca07",
   "execution_count": 7,
   "outputs": []
  },
  {
   "metadata": {
    "ExecuteTime": {
     "end_time": "2024-06-23T12:09:31.879146Z",
     "start_time": "2024-06-23T12:09:31.874144Z"
    }
   },
   "cell_type": "code",
   "source": "[(x,y) for x in range(5) if x%2==0 for y in range(5) if y%2]",
   "id": "d5573c2ae0f3fbe",
   "execution_count": 8,
   "outputs": []
  },
  {
   "metadata": {
    "ExecuteTime": {
     "end_time": "2024-06-23T12:10:06.365644Z",
     "start_time": "2024-06-23T12:10:06.363319Z"
    }
   },
   "cell_type": "code",
   "source": [
    "M = [[1,2,3],[4,5,6],[7,8,9]]\n",
    "\n",
    "M[1]"
   ],
   "id": "e24b73f787533794",
   "execution_count": 9,
   "outputs": []
  },
  {
   "metadata": {
    "ExecuteTime": {
     "end_time": "2024-06-23T12:10:22.416276Z",
     "start_time": "2024-06-23T12:10:22.411354Z"
    }
   },
   "cell_type": "code",
   "source": "[row[1] for row in M]",
   "id": "fa78ec85886d9f45",
   "execution_count": 10,
   "outputs": []
  },
  {
   "metadata": {
    "ExecuteTime": {
     "end_time": "2024-06-23T12:11:12.550799Z",
     "start_time": "2024-06-23T12:11:12.546716Z"
    }
   },
   "cell_type": "code",
   "source": "[M[i][i] for i in range(len(M))]",
   "id": "a963c0134b66b7ce",
   "execution_count": 11,
   "outputs": []
  },
  {
   "metadata": {
    "ExecuteTime": {
     "end_time": "2024-06-23T12:12:41.841501Z",
     "start_time": "2024-06-23T12:12:41.839086Z"
    }
   },
   "cell_type": "code",
   "source": "[[col + 10 for col in row] for row in M]",
   "id": "d346ec92640d5334",
   "execution_count": 13,
   "outputs": []
  },
  {
   "metadata": {
    "ExecuteTime": {
     "end_time": "2024-06-23T12:14:02.244373Z",
     "start_time": "2024-06-23T12:14:02.241794Z"
    }
   },
   "cell_type": "code",
   "source": "[col + 10 for row in M for col in row]",
   "id": "7cf675b2556991b8",
   "execution_count": 15,
   "outputs": []
  },
  {
   "metadata": {
    "ExecuteTime": {
     "end_time": "2024-06-23T12:15:54.371808Z",
     "start_time": "2024-06-23T12:15:54.368310Z"
    }
   },
   "cell_type": "code",
   "source": "N = [[2,2,2],[3,3,3],[4,4,4]]",
   "id": "5bad050d4759b989",
   "execution_count": 16,
   "outputs": []
  },
  {
   "metadata": {
    "ExecuteTime": {
     "end_time": "2024-06-23T12:17:30.546558Z",
     "start_time": "2024-06-23T12:17:30.543050Z"
    }
   },
   "cell_type": "code",
   "source": "[M[row][col]*N[row][col] for row in range(len(M)) for col in range(len(M[0]))]",
   "id": "4d588647eb9268f4",
   "execution_count": 19,
   "outputs": []
  },
  {
   "metadata": {
    "ExecuteTime": {
     "end_time": "2024-06-23T12:17:30.930021Z",
     "start_time": "2024-06-23T12:17:30.927443Z"
    }
   },
   "cell_type": "code",
   "source": "[[M[row][col]*N[row][col] for col in range(len(M))] for row in range(len(M[0]))]",
   "id": "85986185620b6127",
   "execution_count": 20,
   "outputs": []
  },
  {
   "metadata": {
    "ExecuteTime": {
     "end_time": "2024-06-23T12:19:40.722959Z",
     "start_time": "2024-06-23T12:19:40.718507Z"
    }
   },
   "cell_type": "code",
   "source": "list(zip(M,N))",
   "id": "c724acc1c75c2772",
   "execution_count": 22,
   "outputs": []
  },
  {
   "metadata": {
    "ExecuteTime": {
     "end_time": "2024-06-23T12:22:00.605382Z",
     "start_time": "2024-06-23T12:22:00.601123Z"
    }
   },
   "cell_type": "code",
   "source": "[x*y for a,b in zip(M,N) for x,y in zip(a,b)]",
   "id": "9288b47766a121fe",
   "execution_count": 28,
   "outputs": []
  },
  {
   "metadata": {
    "ExecuteTime": {
     "end_time": "2024-06-23T12:22:27.328072Z",
     "start_time": "2024-06-23T12:22:27.323561Z"
    }
   },
   "cell_type": "code",
   "source": "[[x*y for x,y in zip(a,b)]for a,b in zip(M,N)]",
   "id": "f4a6b98e97ccf4e0",
   "execution_count": 29,
   "outputs": []
  },
  {
   "metadata": {},
   "cell_type": "markdown",
   "source": "# 生成器",
   "id": "e289752fa4ea52d6"
  },
  {
   "metadata": {
    "ExecuteTime": {
     "end_time": "2024-06-23T12:29:47.722151Z",
     "start_time": "2024-06-23T12:29:47.718535Z"
    }
   },
   "cell_type": "code",
   "source": [
    "def getsquares(N):\n",
    "    for i in range(N):\n",
    "        yield i**2"
   ],
   "id": "951a51099cfdaa5e",
   "execution_count": 30,
   "outputs": []
  },
  {
   "metadata": {
    "ExecuteTime": {
     "end_time": "2024-06-23T12:30:13.591541Z",
     "start_time": "2024-06-23T12:30:13.588595Z"
    }
   },
   "cell_type": "code",
   "source": [
    "for i in getsquares(10):\n",
    "    print(i, end=' ')"
   ],
   "id": "44c6a8b28e8936bc",
   "execution_count": 31,
   "outputs": []
  },
  {
   "metadata": {
    "ExecuteTime": {
     "end_time": "2024-06-23T12:30:43.205775Z",
     "start_time": "2024-06-23T12:30:43.203045Z"
    }
   },
   "cell_type": "code",
   "source": [
    "x = getsquares(4)\n",
    "x"
   ],
   "id": "143314e8695ee65b",
   "execution_count": 33,
   "outputs": []
  },
  {
   "metadata": {
    "ExecuteTime": {
     "end_time": "2024-06-23T12:30:51.773755Z",
     "start_time": "2024-06-23T12:30:51.771136Z"
    }
   },
   "cell_type": "code",
   "source": "next(x)",
   "id": "96a632a4f9931cdd",
   "execution_count": 34,
   "outputs": []
  },
  {
   "metadata": {
    "ExecuteTime": {
     "end_time": "2024-06-23T12:31:01.246238Z",
     "start_time": "2024-06-23T12:31:01.242967Z"
    }
   },
   "cell_type": "code",
   "source": "next(x)",
   "id": "a1b6c05e2ab0ccf6",
   "execution_count": 36,
   "outputs": []
  },
  {
   "metadata": {
    "ExecuteTime": {
     "end_time": "2024-06-23T12:31:05.598278Z",
     "start_time": "2024-06-23T12:31:05.595512Z"
    }
   },
   "cell_type": "code",
   "source": "x.__next__()",
   "id": "9087d59706dd5442",
   "execution_count": 37,
   "outputs": []
  },
  {
   "metadata": {
    "ExecuteTime": {
     "end_time": "2024-06-23T12:31:12.808344Z",
     "start_time": "2024-06-23T12:31:12.805898Z"
    }
   },
   "cell_type": "code",
   "source": "next(x)",
   "id": "78cc16bf7436c100",
   "execution_count": 38,
   "outputs": []
  },
  {
   "metadata": {
    "ExecuteTime": {
     "end_time": "2024-06-23T12:31:15.202685Z",
     "start_time": "2024-06-23T12:31:15.195019Z"
    }
   },
   "cell_type": "code",
   "source": "next(x)",
   "id": "d9693d5bff2df4b2",
   "execution_count": 39,
   "outputs": []
  },
  {
   "metadata": {
    "ExecuteTime": {
     "end_time": "2024-06-23T12:31:51.638635Z",
     "start_time": "2024-06-23T12:31:51.635687Z"
    }
   },
   "cell_type": "code",
   "source": [
    "y = getsquares(4)\n",
    "iter(y) is y"
   ],
   "id": "e53f74d19c16a47b",
   "execution_count": 40,
   "outputs": []
  },
  {
   "metadata": {
    "ExecuteTime": {
     "end_time": "2024-06-23T12:35:15.203612Z",
     "start_time": "2024-06-23T12:35:15.199174Z"
    }
   },
   "cell_type": "code",
   "source": [
    "def ups(line):\n",
    "    for sub in line.split(','):\n",
    "        yield sub.upper()\n",
    "        \n",
    "tuple(ups('a,b,c,d,e'))"
   ],
   "id": "8e11f5f2c6daf03a",
   "execution_count": 41,
   "outputs": []
  },
  {
   "metadata": {
    "ExecuteTime": {
     "end_time": "2024-06-23T12:36:20.978337Z",
     "start_time": "2024-06-23T12:36:20.973908Z"
    }
   },
   "cell_type": "code",
   "source": "{i:s for i,s in enumerate(ups('a,b,c,d,e'))}",
   "id": "d0d3bd921bc8f57b",
   "execution_count": 42,
   "outputs": []
  },
  {
   "metadata": {
    "ExecuteTime": {
     "end_time": "2024-06-23T12:47:41.462657Z",
     "start_time": "2024-06-23T12:47:41.458168Z"
    }
   },
   "cell_type": "code",
   "source": [
    "def gen():\n",
    "    for i in range(10):\n",
    "        print(f'{i=}')\n",
    "        x = yield i \n",
    "        print(f'{x=}, {i=}')"
   ],
   "id": "b8776aae3ae0b46c",
   "execution_count": 83,
   "outputs": []
  },
  {
   "metadata": {
    "ExecuteTime": {
     "end_time": "2024-06-23T12:49:27.442414Z",
     "start_time": "2024-06-23T12:49:27.439194Z"
    }
   },
   "cell_type": "code",
   "source": [
    "G = gen()\n",
    "G"
   ],
   "id": "ff46bc6367155851",
   "execution_count": 88,
   "outputs": []
  },
  {
   "metadata": {
    "ExecuteTime": {
     "end_time": "2024-06-23T12:49:27.715978Z",
     "start_time": "2024-06-23T12:49:27.713525Z"
    }
   },
   "cell_type": "code",
   "source": "next(G)",
   "id": "a63030a8e5f01aea",
   "execution_count": 89,
   "outputs": []
  },
  {
   "metadata": {
    "ExecuteTime": {
     "end_time": "2024-06-23T12:49:29.643807Z",
     "start_time": "2024-06-23T12:49:29.641440Z"
    }
   },
   "cell_type": "code",
   "source": "G.send('hello')",
   "id": "8c0f175d980f519d",
   "execution_count": 90,
   "outputs": []
  },
  {
   "metadata": {
    "ExecuteTime": {
     "end_time": "2024-06-23T12:49:30.508772Z",
     "start_time": "2024-06-23T12:49:30.506325Z"
    }
   },
   "cell_type": "code",
   "source": "G.send(77)",
   "id": "abf39eff4184ac88",
   "execution_count": 91,
   "outputs": []
  },
  {
   "metadata": {
    "ExecuteTime": {
     "end_time": "2024-06-23T12:49:31.580938Z",
     "start_time": "2024-06-23T12:49:31.577123Z"
    }
   },
   "cell_type": "code",
   "source": "next(G)",
   "id": "822bd0eaadf43b4b",
   "execution_count": 92,
   "outputs": []
  },
  {
   "metadata": {
    "ExecuteTime": {
     "end_time": "2024-06-23T12:49:32.251669Z",
     "start_time": "2024-06-23T12:49:32.249152Z"
    }
   },
   "cell_type": "code",
   "source": "next(G)",
   "id": "376de21c005b78ff",
   "execution_count": 93,
   "outputs": []
  },
  {
   "metadata": {
    "ExecuteTime": {
     "end_time": "2024-06-23T12:49:33.301602Z",
     "start_time": "2024-06-23T12:49:33.299302Z"
    }
   },
   "cell_type": "code",
   "source": "z = G.send('new')",
   "id": "1a81fb0595158f3d",
   "execution_count": 94,
   "outputs": []
  },
  {
   "metadata": {
    "ExecuteTime": {
     "end_time": "2024-06-23T12:49:53.782484Z",
     "start_time": "2024-06-23T12:49:53.780191Z"
    }
   },
   "cell_type": "code",
   "source": "z",
   "id": "bdbe304650ee0398",
   "execution_count": 95,
   "outputs": []
  },
  {
   "metadata": {
    "ExecuteTime": {
     "end_time": "2024-06-23T12:54:43.052261Z",
     "start_time": "2024-06-23T12:54:43.034596Z"
    }
   },
   "cell_type": "code",
   "source": "G.throw(ValueError)",
   "id": "cda3470edb57acae",
   "execution_count": 96,
   "outputs": []
  },
  {
   "metadata": {
    "ExecuteTime": {
     "end_time": "2024-06-23T12:55:15.359972Z",
     "start_time": "2024-06-23T12:55:15.354699Z"
    }
   },
   "cell_type": "code",
   "source": "[x **2 for x in range(5)]",
   "id": "93efaa8ac91b0e12",
   "execution_count": 97,
   "outputs": []
  },
  {
   "metadata": {
    "ExecuteTime": {
     "end_time": "2024-06-23T12:55:46.313913Z",
     "start_time": "2024-06-23T12:55:46.311590Z"
    }
   },
   "cell_type": "code",
   "source": "(x**2 for x in range(5))",
   "id": "7b2dd0719867676a",
   "execution_count": 101,
   "outputs": []
  },
  {
   "metadata": {
    "ExecuteTime": {
     "end_time": "2024-06-23T12:55:46.624010Z",
     "start_time": "2024-06-23T12:55:46.621122Z"
    }
   },
   "cell_type": "code",
   "source": "set(x**2 for x in range(5))",
   "id": "de9040ee192c4ac3",
   "execution_count": 102,
   "outputs": []
  },
  {
   "metadata": {
    "ExecuteTime": {
     "end_time": "2024-06-23T12:55:58.590164Z",
     "start_time": "2024-06-23T12:55:58.585480Z"
    }
   },
   "cell_type": "code",
   "source": "list(x**2 for x in range(5))",
   "id": "7a1dbebf65aee5cb",
   "execution_count": 103,
   "outputs": []
  },
  {
   "metadata": {
    "ExecuteTime": {
     "end_time": "2024-06-23T12:57:09.050394Z",
     "start_time": "2024-06-23T12:57:09.045318Z"
    }
   },
   "cell_type": "code",
   "source": [
    "G = (x**2 for x in range(3))\n",
    "G"
   ],
   "id": "287c47675d4fca5a",
   "execution_count": 106,
   "outputs": []
  },
  {
   "metadata": {
    "ExecuteTime": {
     "end_time": "2024-06-23T12:57:14.946227Z",
     "start_time": "2024-06-23T12:57:14.943683Z"
    }
   },
   "cell_type": "code",
   "source": "iter(G) is G",
   "id": "fd0d062e281034c7",
   "execution_count": 107,
   "outputs": []
  },
  {
   "metadata": {
    "ExecuteTime": {
     "end_time": "2024-06-23T12:57:26.309616Z",
     "start_time": "2024-06-23T12:57:26.307119Z"
    }
   },
   "cell_type": "code",
   "source": "next(G), next(G), next(G)",
   "id": "259bde9263c23e5c",
   "execution_count": 108,
   "outputs": []
  },
  {
   "metadata": {
    "ExecuteTime": {
     "end_time": "2024-06-23T12:57:28.795523Z",
     "start_time": "2024-06-23T12:57:28.783335Z"
    }
   },
   "cell_type": "code",
   "source": "next(G)",
   "id": "10095cf469e87012",
   "execution_count": 109,
   "outputs": []
  },
  {
   "metadata": {
    "ExecuteTime": {
     "end_time": "2024-06-23T12:58:31.280566Z",
     "start_time": "2024-06-23T12:58:31.276721Z"
    }
   },
   "cell_type": "code",
   "source": "''.join(x.upper() for x in 'aa,bb,cc'.split(','))",
   "id": "3dfc2b8f1889f48e",
   "execution_count": 110,
   "outputs": []
  },
  {
   "metadata": {
    "ExecuteTime": {
     "end_time": "2024-06-23T13:01:39.095908Z",
     "start_time": "2024-06-23T13:01:39.091710Z"
    }
   },
   "cell_type": "code",
   "source": "list(map(abs,[-1,2,4,-5]))",
   "id": "8d3ace0d38fd1e47",
   "execution_count": 111,
   "outputs": []
  },
  {
   "metadata": {
    "ExecuteTime": {
     "end_time": "2024-06-23T13:01:55.339547Z",
     "start_time": "2024-06-23T13:01:55.336294Z"
    }
   },
   "cell_type": "code",
   "source": "list(abs(x) for x in [-1,2,4,-5])",
   "id": "d0a3ee61483ce88b",
   "execution_count": 112,
   "outputs": []
  },
  {
   "metadata": {
    "ExecuteTime": {
     "end_time": "2024-06-23T13:02:08.728346Z",
     "start_time": "2024-06-23T13:02:08.725230Z"
    }
   },
   "cell_type": "code",
   "source": "[abs(x) for x in [-1,2,4,-5]]",
   "id": "cb4524b1e7027d51",
   "execution_count": 114,
   "outputs": []
  },
  {
   "metadata": {
    "ExecuteTime": {
     "end_time": "2024-06-23T13:03:59.280326Z",
     "start_time": "2024-06-23T13:03:59.277794Z"
    }
   },
   "cell_type": "code",
   "source": "[x **3 for x in [abs(s) for s in [-1,2,4,-5]]]",
   "id": "356f9c2a0c5475ec",
   "execution_count": 117,
   "outputs": []
  },
  {
   "metadata": {
    "ExecuteTime": {
     "end_time": "2024-06-23T13:04:19.767314Z",
     "start_time": "2024-06-23T13:04:19.764703Z"
    }
   },
   "cell_type": "code",
   "source": "(x **3 for x in [abs(s) for s in [-1,2,4,-5]])",
   "id": "e85ca0fc6a54e1b8",
   "execution_count": 119,
   "outputs": []
  },
  {
   "metadata": {
    "ExecuteTime": {
     "end_time": "2024-06-23T13:04:28.457856Z",
     "start_time": "2024-06-23T13:04:28.453263Z"
    }
   },
   "cell_type": "code",
   "source": "list(x **3 for x in [abs(s) for s in [-1,2,4,-5]])",
   "id": "ff5a6d6996ebbc29",
   "execution_count": 120,
   "outputs": []
  },
  {
   "metadata": {
    "ExecuteTime": {
     "end_time": "2024-06-23T13:05:16.587479Z",
     "start_time": "2024-06-23T13:05:16.584076Z"
    }
   },
   "cell_type": "code",
   "source": "list(map(lambda x:x**2,(abs(s) for s in [-1,2,4,-5])))",
   "id": "371bce9e69749b08",
   "execution_count": 121,
   "outputs": []
  },
  {
   "metadata": {
    "ExecuteTime": {
     "end_time": "2024-06-23T13:05:36.938504Z",
     "start_time": "2024-06-23T13:05:36.935242Z"
    }
   },
   "cell_type": "code",
   "source": "list(map(lambda x:x**2,map(abs, [-1,2,4,-5])))",
   "id": "8f042c3167f4defb",
   "execution_count": 122,
   "outputs": []
  },
  {
   "metadata": {
    "ExecuteTime": {
     "end_time": "2024-06-23T13:18:56.915619Z",
     "start_time": "2024-06-23T13:18:56.910965Z"
    }
   },
   "cell_type": "code",
   "source": [
    "# 内置类型\n",
    "L = [1,2,3,4]\n",
    "i1, i2 = iter(L), iter(L)\n",
    "next(i1) # 1"
   ],
   "id": "a9f7d297bf52a7a9",
   "execution_count": 125,
   "outputs": []
  },
  {
   "metadata": {
    "ExecuteTime": {
     "end_time": "2024-06-23T13:18:57.344348Z",
     "start_time": "2024-06-23T13:18:57.342067Z"
    }
   },
   "cell_type": "code",
   "source": "next(i1) # 2",
   "id": "5f35cfb7b00dee1",
   "execution_count": 126,
   "outputs": []
  },
  {
   "metadata": {
    "ExecuteTime": {
     "end_time": "2024-06-23T13:18:57.838652Z",
     "start_time": "2024-06-23T13:18:57.836548Z"
    }
   },
   "cell_type": "code",
   "source": "next(i2) # 1 此处为不同的迭代器",
   "id": "71fb77efaaf9fb8b",
   "execution_count": 127,
   "outputs": []
  },
  {
   "metadata": {
    "ExecuteTime": {
     "end_time": "2024-06-23T13:18:58.523638Z",
     "start_time": "2024-06-23T13:18:58.513115Z"
    }
   },
   "cell_type": "code",
   "source": [
    "# 反映活跃的修改\n",
    "del L[2:]\n",
    "next(i1) # StopIteration"
   ],
   "id": "2fc749b1180cd5e8",
   "execution_count": 128,
   "outputs": []
  },
  {
   "metadata": {
    "ExecuteTime": {
     "end_time": "2024-06-23T13:19:07.928024Z",
     "start_time": "2024-06-23T13:19:07.923804Z"
    }
   },
   "cell_type": "code",
   "source": "next(i2) # 2",
   "id": "202c93f6ce2a9091",
   "execution_count": 129,
   "outputs": []
  },
  {
   "metadata": {
    "ExecuteTime": {
     "end_time": "2024-06-23T13:19:13.955472Z",
     "start_time": "2024-06-23T13:19:13.944853Z"
    }
   },
   "cell_type": "code",
   "source": "next(i2)",
   "id": "937a362e838ec9f4",
   "execution_count": 130,
   "outputs": []
  },
  {
   "metadata": {
    "ExecuteTime": {
     "end_time": "2024-06-23T13:21:51.475290Z",
     "start_time": "2024-06-23T13:21:51.466548Z"
    }
   },
   "cell_type": "code",
   "source": [
    "def both(N):\n",
    "    for i in range(N):\n",
    "        yield i\n",
    "    for i in (x**2 for x in range(N)):\n",
    "        yield i"
   ],
   "id": "99a65584164ef306",
   "execution_count": 131,
   "outputs": []
  },
  {
   "metadata": {
    "ExecuteTime": {
     "end_time": "2024-06-23T13:21:55.629015Z",
     "start_time": "2024-06-23T13:21:55.626270Z"
    }
   },
   "cell_type": "code",
   "source": "list(both(5))",
   "id": "25d43f61c0707c27",
   "execution_count": 132,
   "outputs": []
  },
  {
   "metadata": {
    "ExecuteTime": {
     "end_time": "2024-06-23T13:22:17.728211Z",
     "start_time": "2024-06-23T13:22:17.711751Z"
    }
   },
   "cell_type": "code",
   "source": [
    "def both2(N):\n",
    "    yield from range(N)\n",
    "    yield from (x**2 for x in range(N))"
   ],
   "id": "9c9d8a7e60fc9038",
   "execution_count": 133,
   "outputs": []
  },
  {
   "metadata": {
    "ExecuteTime": {
     "end_time": "2024-06-23T13:22:22.974395Z",
     "start_time": "2024-06-23T13:22:22.971604Z"
    }
   },
   "cell_type": "code",
   "source": "list(both2(5))",
   "id": "851c44f16191f2dc",
   "execution_count": 134,
   "outputs": []
  },
  {
   "metadata": {},
   "cell_type": "markdown",
   "source": "os.walk也是迭代器",
   "id": "6ac12e28e3859db7"
  },
  {
   "metadata": {
    "ExecuteTime": {
     "end_time": "2024-06-23T13:25:34.447571Z",
     "start_time": "2024-06-23T13:25:34.443637Z"
    }
   },
   "cell_type": "code",
   "source": [
    "import os\n",
    "for root, dirs, files in os.walk('.'):\n",
    "    print(root, dirs, files)"
   ],
   "id": "277f28395ed8165d",
   "execution_count": 135,
   "outputs": []
  },
  {
   "metadata": {
    "ExecuteTime": {
     "end_time": "2024-06-23T13:26:34.307755Z",
     "start_time": "2024-06-23T13:26:34.305975Z"
    }
   },
   "cell_type": "code",
   "source": "G = os.walk('..')",
   "id": "864db1b843a7c74c",
   "execution_count": 144,
   "outputs": []
  },
  {
   "metadata": {
    "ExecuteTime": {
     "end_time": "2024-06-23T13:26:34.649379Z",
     "start_time": "2024-06-23T13:26:34.647142Z"
    }
   },
   "cell_type": "code",
   "source": "iter(G) is G",
   "id": "43b0f520f6d6c2a",
   "execution_count": 145,
   "outputs": []
  },
  {
   "metadata": {
    "ExecuteTime": {
     "end_time": "2024-06-23T13:26:35.019957Z",
     "start_time": "2024-06-23T13:26:35.017489Z"
    }
   },
   "cell_type": "code",
   "source": "next(G)",
   "id": "9386f0b48dbb7918",
   "execution_count": 146,
   "outputs": []
  },
  {
   "metadata": {
    "ExecuteTime": {
     "end_time": "2024-06-23T13:26:35.598645Z",
     "start_time": "2024-06-23T13:26:35.595025Z"
    }
   },
   "cell_type": "code",
   "source": "next(G)",
   "id": "28df00cb08442be6",
   "execution_count": 147,
   "outputs": []
  },
  {
   "metadata": {
    "ExecuteTime": {
     "end_time": "2024-06-23T13:26:42.000474Z",
     "start_time": "2024-06-23T13:26:41.997770Z"
    }
   },
   "cell_type": "code",
   "source": "next(G)",
   "id": "26964e5330736602",
   "execution_count": 148,
   "outputs": []
  },
  {
   "metadata": {
    "ExecuteTime": {
     "end_time": "2024-06-23T13:26:45.918119Z",
     "start_time": "2024-06-23T13:26:45.915399Z"
    }
   },
   "cell_type": "code",
   "source": "next(G)",
   "id": "f8d16f8dad0f4aae",
   "execution_count": 149,
   "outputs": []
  },
  {
   "metadata": {
    "ExecuteTime": {
     "end_time": "2024-06-23T13:26:47.293767Z",
     "start_time": "2024-06-23T13:26:47.290595Z"
    }
   },
   "cell_type": "code",
   "source": "next(G)",
   "id": "d5145010576c19fb",
   "execution_count": 150,
   "outputs": []
  },
  {
   "metadata": {
    "ExecuteTime": {
     "end_time": "2024-06-23T13:27:47.278479Z",
     "start_time": "2024-06-23T13:27:47.275087Z"
    }
   },
   "cell_type": "code",
   "source": [
    "def f(a,b,c):\n",
    "    print(a,b,c)"
   ],
   "id": "3845c2ed3208964c",
   "execution_count": 156,
   "outputs": []
  },
  {
   "metadata": {
    "ExecuteTime": {
     "end_time": "2024-06-23T13:27:51.105492Z",
     "start_time": "2024-06-23T13:27:51.103382Z"
    }
   },
   "cell_type": "code",
   "source": "f(1,2,3)",
   "id": "a242f1ab7b8ac6c0",
   "execution_count": 157,
   "outputs": []
  },
  {
   "metadata": {
    "ExecuteTime": {
     "end_time": "2024-06-23T13:28:00.740130Z",
     "start_time": "2024-06-23T13:28:00.738197Z"
    }
   },
   "cell_type": "code",
   "source": "f(*range(3))",
   "id": "76b71a6dcaf38fae",
   "execution_count": 159,
   "outputs": []
  },
  {
   "metadata": {
    "ExecuteTime": {
     "end_time": "2024-06-23T13:28:33.435198Z",
     "start_time": "2024-06-23T13:28:33.433097Z"
    }
   },
   "cell_type": "code",
   "source": "f(*(x**2 for x in range(3)))",
   "id": "32da7c508bb0d821",
   "execution_count": 162,
   "outputs": []
  },
  {
   "metadata": {
    "ExecuteTime": {
     "end_time": "2024-06-23T13:29:02.340024Z",
     "start_time": "2024-06-23T13:29:02.336320Z"
    }
   },
   "cell_type": "code",
   "source": [
    "def g(*arg):\n",
    "    print(arg)"
   ],
   "id": "c57ced5e8a830bb2",
   "execution_count": 163,
   "outputs": []
  },
  {
   "metadata": {
    "ExecuteTime": {
     "end_time": "2024-06-23T13:29:18.376649Z",
     "start_time": "2024-06-23T13:29:18.374322Z"
    }
   },
   "cell_type": "code",
   "source": "g(range(5))",
   "id": "179d696acc103fda",
   "execution_count": 166,
   "outputs": []
  },
  {
   "metadata": {
    "ExecuteTime": {
     "end_time": "2024-06-23T13:29:20.300166Z",
     "start_time": "2024-06-23T13:29:20.297689Z"
    }
   },
   "cell_type": "code",
   "source": "g(*range(5))",
   "id": "4368c1e7d9b3d2cc",
   "execution_count": 167,
   "outputs": []
  },
  {
   "metadata": {
    "ExecuteTime": {
     "end_time": "2024-06-23T13:36:59.223277Z",
     "start_time": "2024-06-23T13:36:59.219461Z"
    }
   },
   "cell_type": "code",
   "source": "L = [1,2,3,4,5]",
   "id": "4c3c8f6fad94206c",
   "execution_count": 169,
   "outputs": []
  },
  {
   "metadata": {
    "ExecuteTime": {
     "end_time": "2024-06-23T13:49:57.203431Z",
     "start_time": "2024-06-23T13:49:57.200914Z"
    }
   },
   "cell_type": "code",
   "source": [
    "def shuffle_list_recursively(lst, index=0):\n",
    "    print(lst, index)\n",
    "    # 基准情况：当处理到列表最后一个元素时，结束递归\n",
    "    if index == len(lst) - 1:\n",
    "        return lst\n",
    "    \n",
    "    # 这里简单地尝试与后面的元素交换位置，实际\"随机性\"很弱\n",
    "    # 真实随机应依赖于不可预测的输入或算法，这里仅示范思路\n",
    "    swap_index = (index + 1) % len(lst)  # 确定一个简单的交换位置\n",
    "    lst[index], lst[swap_index] = lst[swap_index], lst[index]\n",
    "    \n",
    "    # 递归调用，处理下一个元素\n",
    "    return shuffle_list_recursively(lst, index + 1)\n",
    "\n",
    "# 示例\n",
    "my_list = [1, 2, 3, 4, 5]\n",
    "shuffled_list = shuffle_list_recursively(my_list)\n",
    "print(shuffled_list)\n"
   ],
   "id": "bba5315eca807e38",
   "execution_count": 205,
   "outputs": []
  },
  {
   "metadata": {
    "ExecuteTime": {
     "end_time": "2024-06-23T13:50:17.009957Z",
     "start_time": "2024-06-23T13:50:17.006072Z"
    }
   },
   "cell_type": "code",
   "source": "shuffle_list_recursively(L)",
   "id": "fbec3f5630f6e8cb",
   "execution_count": 213,
   "outputs": []
  },
  {
   "metadata": {
    "ExecuteTime": {
     "end_time": "2024-06-23T13:50:28.040984Z",
     "start_time": "2024-06-23T13:50:28.037839Z"
    }
   },
   "cell_type": "code",
   "source": [
    "import time\n",
    "\n",
    "def pseudo_shuffle_list(lst):\n",
    "    # 使用时间戳的低几位作为“随机”种子，简单模拟随机性\n",
    "    seed = int(time.time() * 1000000) % len(lst)\n",
    "    \n",
    "    for i in range(len(lst)-1):\n",
    "        # 计算交换位置，这里简单使用当前索引和时间种子计算一个交换位置\n",
    "        # 注意：此方法并不产生良好的随机分布，仅作示例\n",
    "        swap_with = (i + seed) % len(lst)\n",
    "        # swap_with = i+1 % len(lst)\n",
    "        \n",
    "        # 交换元素\n",
    "        lst[i], lst[swap_with] = lst[swap_with], lst[i]\n",
    "    \n",
    "    return lst\n",
    "\n",
    "# 示例\n",
    "my_list = [1, 2, 3, 4, 5]\n",
    "shuffled_list = pseudo_shuffle_list(my_list)\n",
    "print(shuffled_list)\n"
   ],
   "id": "c132287d4e791da9",
   "execution_count": 216,
   "outputs": []
  },
  {
   "metadata": {
    "ExecuteTime": {
     "end_time": "2024-06-23T13:51:52.663800Z",
     "start_time": "2024-06-23T13:51:52.661605Z"
    }
   },
   "cell_type": "code",
   "source": [
    "def scramble(seq):\n",
    "    for i in range(len(seq)):\n",
    "        yield seq[i:] + seq[:i]"
   ],
   "id": "10cad6b2251e2cff",
   "execution_count": 219,
   "outputs": []
  },
  {
   "metadata": {
    "ExecuteTime": {
     "end_time": "2024-06-23T13:51:53.173481Z",
     "start_time": "2024-06-23T13:51:53.171285Z"
    }
   },
   "cell_type": "code",
   "source": "list(scramble('abcdef'))",
   "id": "7fb554c40886ca68",
   "execution_count": 220,
   "outputs": []
  },
  {
   "metadata": {
    "ExecuteTime": {
     "end_time": "2024-06-24T00:54:39.089371Z",
     "start_time": "2024-06-24T00:54:39.084677Z"
    }
   },
   "cell_type": "code",
   "source": [
    "def my_itinerary_shuffle(lst, index=0):\n",
    "    print(lst, index)\n",
    "    if index == len(lst) -1:\n",
    "        return lst\n",
    "    swap_index = (index+1)%len(lst)\n",
    "    lst[index], lst[swap_index] = lst[swap_index], lst[index]\n",
    "    return my_itinerary_shuffle(lst, index+1)"
   ],
   "id": "7d97ba9cebb380c3",
   "execution_count": 222,
   "outputs": []
  },
  {
   "metadata": {
    "ExecuteTime": {
     "end_time": "2024-06-24T00:54:49.880009Z",
     "start_time": "2024-06-24T00:54:49.876646Z"
    }
   },
   "cell_type": "code",
   "source": "my_itinerary_shuffle(L)",
   "id": "b08c49221102fba3",
   "execution_count": 224,
   "outputs": []
  },
  {
   "metadata": {
    "ExecuteTime": {
     "end_time": "2024-06-24T00:54:54.247507Z",
     "start_time": "2024-06-24T00:54:54.245251Z"
    }
   },
   "cell_type": "code",
   "source": "L",
   "id": "87f6e3364ded7ebb",
   "execution_count": 225,
   "outputs": []
  },
  {
   "metadata": {
    "ExecuteTime": {
     "end_time": "2024-06-24T00:56:18.676707Z",
     "start_time": "2024-06-24T00:56:18.673434Z"
    }
   },
   "cell_type": "code",
   "source": [
    "def scramble_2(lst):\n",
    "    return [lst[i:] + lst[:i] for i in range(len(lst))]"
   ],
   "id": "aa2ef4c8acdfe259",
   "execution_count": 226,
   "outputs": []
  },
  {
   "metadata": {
    "ExecuteTime": {
     "end_time": "2024-06-24T00:56:21.763579Z",
     "start_time": "2024-06-24T00:56:21.760577Z"
    }
   },
   "cell_type": "code",
   "source": "scramble_2(L)",
   "id": "bdf9dcf90058b4cf",
   "execution_count": 227,
   "outputs": []
  },
  {
   "metadata": {
    "ExecuteTime": {
     "end_time": "2024-06-24T00:57:03.602117Z",
     "start_time": "2024-06-24T00:57:03.600090Z"
    }
   },
   "cell_type": "code",
   "source": [
    "def scramble_3(lst):\n",
    "    for i in range(len(lst)):\n",
    "        yield lst[i:] + lst[:i]"
   ],
   "id": "2981679df1128807",
   "execution_count": 228,
   "outputs": []
  },
  {
   "metadata": {
    "ExecuteTime": {
     "end_time": "2024-06-24T00:57:16.785698Z",
     "start_time": "2024-06-24T00:57:16.782829Z"
    }
   },
   "cell_type": "code",
   "source": "list(scramble_3(L))",
   "id": "938cc552ea779ea3",
   "execution_count": 230,
   "outputs": []
  },
  {
   "metadata": {
    "ExecuteTime": {
     "end_time": "2024-06-24T00:57:32.348780Z",
     "start_time": "2024-06-24T00:57:32.346505Z"
    }
   },
   "cell_type": "code",
   "source": "list(scramble_3('spam'))",
   "id": "526e505d37c34fda",
   "execution_count": 231,
   "outputs": []
  },
  {
   "metadata": {
    "ExecuteTime": {
     "end_time": "2024-06-24T01:00:02.210532Z",
     "start_time": "2024-06-24T01:00:02.208680Z"
    }
   },
   "cell_type": "code",
   "source": "G = (L[i:]+ L[:i] for i in range(len(L)))",
   "id": "ad9638d43e139484",
   "execution_count": 233,
   "outputs": []
  },
  {
   "metadata": {
    "ExecuteTime": {
     "end_time": "2024-06-24T01:00:04.248305Z",
     "start_time": "2024-06-24T01:00:04.245952Z"
    }
   },
   "cell_type": "code",
   "source": "G",
   "id": "1686a69c4ab957ed",
   "execution_count": 234,
   "outputs": []
  },
  {
   "metadata": {
    "ExecuteTime": {
     "end_time": "2024-06-24T01:00:07.870315Z",
     "start_time": "2024-06-24T01:00:07.867373Z"
    }
   },
   "cell_type": "code",
   "source": "list(G)",
   "id": "535e160f5b48e0e1",
   "execution_count": 235,
   "outputs": []
  },
  {
   "metadata": {
    "ExecuteTime": {
     "end_time": "2024-06-24T01:00:49.734866Z",
     "start_time": "2024-06-24T01:00:49.732483Z"
    }
   },
   "cell_type": "code",
   "source": "F = lambda lst: (lst[i:]+lst[:i] for i in range(len(lst)))",
   "id": "922845234743680d",
   "execution_count": 236,
   "outputs": []
  },
  {
   "metadata": {
    "ExecuteTime": {
     "end_time": "2024-06-24T01:00:52.233605Z",
     "start_time": "2024-06-24T01:00:52.231032Z"
    }
   },
   "cell_type": "code",
   "source": "F",
   "id": "e86e69c7609a8c3",
   "execution_count": 237,
   "outputs": []
  },
  {
   "metadata": {
    "ExecuteTime": {
     "end_time": "2024-06-24T01:01:22.994947Z",
     "start_time": "2024-06-24T01:01:22.989878Z"
    }
   },
   "cell_type": "code",
   "source": [
    "G = F(L)\n",
    "G"
   ],
   "id": "173181b89ece1dfb",
   "execution_count": 240,
   "outputs": []
  },
  {
   "metadata": {
    "ExecuteTime": {
     "end_time": "2024-06-24T01:01:27.348151Z",
     "start_time": "2024-06-24T01:01:27.345630Z"
    }
   },
   "cell_type": "code",
   "source": "iter(G) is G",
   "id": "d95e60e9652b3a8d",
   "execution_count": 241,
   "outputs": []
  },
  {
   "metadata": {
    "ExecuteTime": {
     "end_time": "2024-06-24T01:01:32.544613Z",
     "start_time": "2024-06-24T01:01:32.542Z"
    }
   },
   "cell_type": "code",
   "source": "list(G)",
   "id": "fcc9491d09d8391d",
   "execution_count": 242,
   "outputs": []
  },
  {
   "metadata": {
    "ExecuteTime": {
     "end_time": "2024-06-24T01:03:38.344474Z",
     "start_time": "2024-06-24T01:03:38.341747Z"
    }
   },
   "cell_type": "code",
   "source": "set((1,2,3)).union((4,5,6)).union((7,8,9))",
   "id": "a5b58d4f2aed40f3",
   "execution_count": 247,
   "outputs": []
  },
  {
   "metadata": {
    "ExecuteTime": {
     "end_time": "2024-06-24T01:03:55.084177Z",
     "start_time": "2024-06-24T01:03:55.081397Z"
    }
   },
   "cell_type": "code",
   "source": "set('spam').intersection('ham')",
   "id": "d419399e945a97ba",
   "execution_count": 248,
   "outputs": []
  },
  {
   "metadata": {
    "ExecuteTime": {
     "end_time": "2024-06-24T01:04:04.242761Z",
     "start_time": "2024-06-24T01:04:04.240460Z"
    }
   },
   "cell_type": "code",
   "source": "set('spam') & set('ham')",
   "id": "49300e21f0cdae3c",
   "execution_count": 249,
   "outputs": []
  },
  {
   "metadata": {
    "ExecuteTime": {
     "end_time": "2024-06-24T01:11:02.659956Z",
     "start_time": "2024-06-24T01:11:02.655353Z"
    }
   },
   "cell_type": "code",
   "source": "set((1,2,3)) | set((4,5,1))",
   "id": "893480ddd744756",
   "execution_count": 253,
   "outputs": []
  },
  {
   "metadata": {},
   "cell_type": "markdown",
   "source": "# 全排列",
   "id": "fbcb2ae62f2c6476"
  },
  {
   "metadata": {
    "ExecuteTime": {
     "end_time": "2024-06-24T01:37:31.306701Z",
     "start_time": "2024-06-24T01:37:31.302143Z"
    }
   },
   "cell_type": "code",
   "source": [
    "def permute1(seq):\n",
    "    if not seq:\n",
    "        # 直接返回一个只包含这个空序列的列表。这是因为空序列的排列组合只有一个，即它自身\n",
    "        print(f'Empty {seq=}')\n",
    "        return [seq]\n",
    "    else:\n",
    "        rec = []\n",
    "        for i in range(len(seq)):\n",
    "            # rest是去掉当前元素seq[i]后剩余的部分\n",
    "            rest = seq[:i] + seq[i+1:]\n",
    "            print(f'{i=}, {seq=}, {rest=}, {rec=}')\n",
    "            for x in permute1(rest):\n",
    "                # 将当前元素seq[i]添加到每个排列x的前面，形成新的排列，并将这些新排列追加到列表rec中\n",
    "                rec.append(seq[i:i+1]+x)\n",
    "                print(f'{i=}, {seq=}, {rest=}, {x=}, {rec=}')\n",
    "        return rec"
   ],
   "id": "5c632ff6e30906e1",
   "execution_count": 322,
   "outputs": []
  },
  {
   "metadata": {
    "ExecuteTime": {
     "end_time": "2024-06-24T03:52:57.299484Z",
     "start_time": "2024-06-24T03:52:57.289453Z"
    }
   },
   "cell_type": "code",
   "source": "permute1('abc')",
   "id": "d1141eeb04ffb464",
   "execution_count": 331,
   "outputs": []
  },
  {
   "metadata": {
    "ExecuteTime": {
     "end_time": "2024-06-24T01:35:43.048585Z",
     "start_time": "2024-06-24T01:35:43.046244Z"
    }
   },
   "cell_type": "code",
   "source": [
    "L = [1,2,3]\n",
    "L[2:3]+[4]"
   ],
   "id": "300e18e66b6b470d",
   "execution_count": 321,
   "outputs": []
  },
  {
   "metadata": {
    "ExecuteTime": {
     "end_time": "2024-06-24T01:46:18.459741Z",
     "start_time": "2024-06-24T01:46:18.457936Z"
    }
   },
   "cell_type": "code",
   "source": [
    "for x in ['']:\n",
    "    print(x,1)"
   ],
   "id": "bfc5e13cf9ab16fa",
   "execution_count": 327,
   "outputs": []
  },
  {
   "metadata": {
    "ExecuteTime": {
     "end_time": "2024-06-24T02:06:36.641474Z",
     "start_time": "2024-06-24T02:06:36.633128Z"
    }
   },
   "cell_type": "code",
   "source": [
    "def permute2(seq):\n",
    "    \"\"\"\n",
    "    生成给定序列的所有不重复排列。\n",
    "    \n",
    "    参数:\n",
    "    seq (list): 输入的序列列表。\n",
    "    \n",
    "    生成器返回:\n",
    "    list: 输入序列的一个排列。\n",
    "    \"\"\"\n",
    "    # 当序列为空时，返回空序列作为唯一排列\n",
    "    if not seq:\n",
    "        yield seq\n",
    "    else:\n",
    "        # 遍历序列中的每个元素\n",
    "        for i in range(len(seq)):\n",
    "            # 构建剩余部分的序列\n",
    "            rest = seq[:i] + seq[i+1:]\n",
    "            # 递归生成剩余部分的所有排列\n",
    "            for x in permute2(rest):\n",
    "                # 将当前元素插入到每个剩余排列的前面，生成新的排列\n",
    "                yield seq[i:i+1]+x\n"
   ],
   "id": "4dea3c055a539eda",
   "execution_count": 328,
   "outputs": []
  },
  {
   "metadata": {
    "ExecuteTime": {
     "end_time": "2024-06-24T02:06:41.419517Z",
     "start_time": "2024-06-24T02:06:41.416734Z"
    }
   },
   "cell_type": "code",
   "source": "permute2('abc')",
   "id": "5730afdbe6343b21",
   "execution_count": 329,
   "outputs": []
  },
  {
   "metadata": {
    "ExecuteTime": {
     "end_time": "2024-06-24T02:06:45.696191Z",
     "start_time": "2024-06-24T02:06:45.692869Z"
    }
   },
   "cell_type": "code",
   "source": "list(permute2('abc'))",
   "id": "98c61b9941c47814",
   "execution_count": 330,
   "outputs": []
  },
  {
   "metadata": {
    "ExecuteTime": {
     "end_time": "2024-06-24T03:53:37.085165Z",
     "start_time": "2024-06-24T03:53:37.081370Z"
    }
   },
   "cell_type": "code",
   "source": "list(permute2([]))",
   "id": "18ad9edc8008515d",
   "execution_count": 332,
   "outputs": []
  },
  {
   "metadata": {
    "ExecuteTime": {
     "end_time": "2024-06-24T03:53:44.705303Z",
     "start_time": "2024-06-24T03:53:44.702942Z"
    }
   },
   "cell_type": "code",
   "source": "permute1([])",
   "id": "a6c2f5da6f97c5c6",
   "execution_count": 333,
   "outputs": []
  },
  {
   "metadata": {
    "ExecuteTime": {
     "end_time": "2024-06-24T03:55:03.817609Z",
     "start_time": "2024-06-24T03:55:03.812166Z"
    }
   },
   "cell_type": "code",
   "source": "permute1([1,2,3])",
   "id": "f003158da29828f9",
   "execution_count": 334,
   "outputs": []
  },
  {
   "metadata": {
    "ExecuteTime": {
     "end_time": "2024-06-24T04:21:32.533385Z",
     "start_time": "2024-06-24T04:21:32.529062Z"
    }
   },
   "cell_type": "code",
   "source": [
    "indent = 1\n",
    "def permute3(seq):\n",
    "    global indent\n",
    "    print('\\t'*indent + f'第{indent}次迭代'.center(40,'-'))\n",
    "    if not seq:\n",
    "        # 直接返回一个只包含这个空序列的列表。这是因为空序列的排列组合只有一个，即它自身\n",
    "        print('\\t'*indent + f'Empty {seq=}')\n",
    "        # print('\\t'*indent + f'第{indent}次迭代结束'.center(40,'-'))\n",
    "        return [seq]\n",
    "    else:\n",
    "        rec = []\n",
    "        for i in range(len(seq)):\n",
    "            indent +=1\n",
    "\n",
    "            # rest是去掉当前元素seq[i]后剩余的部分\n",
    "            rest = seq[:i] + seq[i+1:]\n",
    "            print('\\t'*indent +f'{i=}, {seq=}, {rest=}, {rec=}')\n",
    "            for x in permute3(rest):\n",
    "                # 将当前元素seq[i]添加到每个排列x的前面，形成新的排列，并将这些新排列追加到列表rec中\n",
    "                rec.append(seq[i:i+1]+x)\n",
    "                print('\\t'*indent + f'{i=}, {seq=}, {seq[i:i+1]+x=}, {rest=}, {x=}, {rec=}')\n",
    "            print('\\t'*indent + f'第{indent}次迭代结束'.center(40,'-'))\n",
    "            indent -=1\n",
    "        return rec"
   ],
   "id": "bcdff5d7810e7448",
   "execution_count": 396,
   "outputs": []
  },
  {
   "metadata": {
    "ExecuteTime": {
     "end_time": "2024-06-24T04:21:50.687036Z",
     "start_time": "2024-06-24T04:21:50.672901Z"
    }
   },
   "cell_type": "code",
   "source": "permute3('abc')",
   "id": "dcc60b098b738b51",
   "execution_count": 398,
   "outputs": []
  },
  {
   "metadata": {
    "ExecuteTime": {
     "end_time": "2024-06-24T04:21:51.083890Z",
     "start_time": "2024-06-24T04:21:51.081194Z"
    }
   },
   "cell_type": "code",
   "source": "permute3('ab')",
   "id": "128654d327a04fc1",
   "execution_count": 399,
   "outputs": []
  },
  {
   "metadata": {
    "ExecuteTime": {
     "end_time": "2024-06-24T05:02:55.802816Z",
     "start_time": "2024-06-24T05:02:55.800152Z"
    }
   },
   "cell_type": "code",
   "source": [
    "def permute2_non_recursive(seq):\n",
    "    \"\"\"\n",
    "    使用非递归方式生成序列的所有排列。\n",
    "    \n",
    "    参数:\n",
    "    seq (list): 输入的序列列表。\n",
    "    \n",
    "    返回:\n",
    "    list: 包含所有排列的列表。\n",
    "    \"\"\"\n",
    "    \"\"\"\n",
    "    非递归方式生成给定序列的所有不重复排列。\n",
    "    \n",
    "    参数:\n",
    "    seq (list): 输入的序列列表。\n",
    "    \n",
    "    返回:\n",
    "    list of list: 输入序列的所有排列组成的列表。\n",
    "    \"\"\"\n",
    "    # 当序列为空时，返回包含空序列的列表\n",
    "    if not seq:\n",
    "        return [seq]\n",
    "    \n",
    "    result = []  # 用于存储所有排列的结果列表\n",
    "    stack = [(seq, 0)]  # 初始化栈，包含初始序列及其索引\n",
    "    \n",
    "    # 循环直到栈为空\n",
    "    while stack:\n",
    "        current_seq, index = stack.pop()  # 弹出栈顶元素，当前序列及其索引\n",
    "        # 如果索引等于序列长度，说明当前序列是一个完整的排列\n",
    "        if index == len(current_seq):\n",
    "            result.append(current_seq.copy())\n",
    "        else:\n",
    "            # 遍历当前序列中索引之后的元素，进行交换以生成新的排列\n",
    "            for i in range(index, len(current_seq)):\n",
    "                # 交换元素\n",
    "                # 交换元素以生成新的排列\n",
    "                current_seq[index], current_seq[i] = current_seq[i], current_seq[index]\n",
    "                # 将交换后的序列及下一个待处理的索引压入栈中\n",
    "                # 将交换后的序列和下一个待交换的位置压入栈中\n",
    "                stack.append((current_seq.copy(), index + 1))\n",
    "    \n",
    "    return result\n"
   ],
   "id": "a592f936c6816353",
   "execution_count": 425,
   "outputs": []
  },
  {
   "metadata": {
    "ExecuteTime": {
     "end_time": "2024-06-24T05:02:56.054506Z",
     "start_time": "2024-06-24T05:02:56.051587Z"
    }
   },
   "cell_type": "code",
   "source": "permute2_non_recursive([1,2,3])",
   "id": "b8b7e523a88a3948",
   "execution_count": 426,
   "outputs": []
  },
  {
   "metadata": {
    "ExecuteTime": {
     "end_time": "2024-06-24T05:05:27.575698Z",
     "start_time": "2024-06-24T05:05:27.571445Z"
    }
   },
   "cell_type": "code",
   "source": [
    "def permute3_non_recursive(seq):\n",
    "    \"\"\"\n",
    "    非递归方式生成给定序列的所有不重复排列。\n",
    "    \n",
    "    参数:\n",
    "    seq (list): 输入的序列列表。\n",
    "    \n",
    "    返回:\n",
    "    list of list: 输入序列的所有排列组成的列表。\n",
    "    \"\"\"\n",
    "    if not seq:\n",
    "        yield [seq]\n",
    "    \n",
    "    result = []\n",
    "    stack = [(seq, 0)]\n",
    "    \n",
    "    while stack:\n",
    "        current_seq, index = stack.pop()\n",
    "        if index == len(current_seq):\n",
    "            result.append(current_seq.copy())\n",
    "        else:\n",
    "            for i in range(index, len(current_seq)):\n",
    "                # 交换元素以生成新的排列\n",
    "                current_seq[index], current_seq[i] = current_seq[i], current_seq[index]\n",
    "                # 将交换后的序列和下一个待交换的位置压入栈中\n",
    "                stack.append((current_seq.copy(), index + 1))\n",
    "    \n",
    "    yield result\n"
   ],
   "id": "30b002ac0500cb4a",
   "execution_count": 427,
   "outputs": []
  },
  {
   "metadata": {
    "ExecuteTime": {
     "end_time": "2024-06-24T05:05:27.894127Z",
     "start_time": "2024-06-24T05:05:27.891475Z"
    }
   },
   "cell_type": "code",
   "source": "permute3_non_recursive([1,2,3])",
   "id": "2057a072f396dab3",
   "execution_count": 428,
   "outputs": []
  },
  {
   "metadata": {
    "ExecuteTime": {
     "end_time": "2024-06-24T05:05:28.398471Z",
     "start_time": "2024-06-24T05:05:28.396090Z"
    }
   },
   "cell_type": "code",
   "source": "list(permute3_non_recursive([1,2,3]))",
   "id": "c1f9f513ab412120",
   "execution_count": 429,
   "outputs": []
  },
  {
   "metadata": {
    "ExecuteTime": {
     "end_time": "2024-06-24T05:10:03.962313Z",
     "start_time": "2024-06-24T05:10:03.959789Z"
    }
   },
   "cell_type": "code",
   "source": "list(map(abs, [1,2,3,-4]))",
   "id": "7f679a5d1cb85363",
   "execution_count": 431,
   "outputs": []
  },
  {
   "metadata": {
    "ExecuteTime": {
     "end_time": "2024-06-24T05:10:20.134423Z",
     "start_time": "2024-06-24T05:10:20.131839Z"
    }
   },
   "cell_type": "code",
   "source": "list(map(pow, [1,2,3,-4], [1,2,3]))",
   "id": "8340a495644ee7e5",
   "execution_count": 433,
   "outputs": []
  },
  {
   "metadata": {},
   "cell_type": "markdown",
   "source": "# zip",
   "id": "f4398117d50c3c0d"
  },
  {
   "metadata": {
    "ExecuteTime": {
     "end_time": "2024-06-24T05:21:20.209967Z",
     "start_time": "2024-06-24T05:21:20.208203Z"
    }
   },
   "cell_type": "code",
   "source": [
    "def myzip(*seqs):\n",
    "    seqs = [list(s) for s in seqs]\n",
    "    res = []\n",
    "    while all(seqs):\n",
    "        res.append(tuple(s.pop(0) for s in seqs))\n",
    "    return res"
   ],
   "id": "2d735536d2e0db74",
   "execution_count": 461,
   "outputs": []
  },
  {
   "metadata": {
    "ExecuteTime": {
     "end_time": "2024-06-24T05:21:20.679989Z",
     "start_time": "2024-06-24T05:21:20.677251Z"
    }
   },
   "cell_type": "code",
   "source": "myzip([1,2,3],[4,5,6], [7,8,9,10])",
   "id": "ea9e3b39c63c48c9",
   "execution_count": 462,
   "outputs": []
  },
  {
   "metadata": {
    "ExecuteTime": {
     "end_time": "2024-06-24T05:17:59.486822Z",
     "start_time": "2024-06-24T05:17:59.484268Z"
    }
   },
   "cell_type": "code",
   "source": "list(myzip([1,2,3],[4,5,6], [7,8,9]))",
   "id": "7445339c4f48eda1",
   "execution_count": 448,
   "outputs": []
  },
  {
   "metadata": {
    "ExecuteTime": {
     "end_time": "2024-06-24T05:15:54.076655Z",
     "start_time": "2024-06-24T05:15:54.074109Z"
    }
   },
   "cell_type": "code",
   "source": "list(zip('abc','edf'))",
   "id": "160c25b7bae0309e",
   "execution_count": 441,
   "outputs": []
  },
  {
   "metadata": {
    "ExecuteTime": {
     "end_time": "2024-06-24T05:15:54.657075Z",
     "start_time": "2024-06-24T05:15:54.655030Z"
    }
   },
   "cell_type": "code",
   "source": "myzip('abc','edf')",
   "id": "6c7ad0d03763be91",
   "execution_count": 442,
   "outputs": []
  },
  {
   "metadata": {
    "ExecuteTime": {
     "end_time": "2024-06-24T05:21:27.359891Z",
     "start_time": "2024-06-24T05:21:27.357564Z"
    }
   },
   "cell_type": "code",
   "source": "list(zip('abc','edfgh'))",
   "id": "4378b07f99331208",
   "execution_count": 463,
   "outputs": []
  },
  {
   "metadata": {
    "ExecuteTime": {
     "end_time": "2024-06-24T05:21:45.362473Z",
     "start_time": "2024-06-24T05:21:45.360334Z"
    }
   },
   "cell_type": "code",
   "source": [
    "def myzip2(*seqs):\n",
    "    seqs = [list(s) for s in seqs]\n",
    "    while all(seqs):\n",
    "        yield tuple(s.pop(0) for s in seqs)"
   ],
   "id": "5a13d68f205327fb",
   "execution_count": 464,
   "outputs": []
  },
  {
   "metadata": {
    "ExecuteTime": {
     "end_time": "2024-06-24T05:21:50.588590Z",
     "start_time": "2024-06-24T05:21:50.586114Z"
    }
   },
   "cell_type": "code",
   "source": "list(myzip2('abc','edf'))",
   "id": "2bcfcf1634e7fd92",
   "execution_count": 465,
   "outputs": []
  },
  {
   "metadata": {
    "ExecuteTime": {
     "end_time": "2024-06-24T05:23:55.779870Z",
     "start_time": "2024-06-24T05:23:55.777877Z"
    }
   },
   "cell_type": "code",
   "source": [
    "def myzip3(*seqs):\n",
    "    minlen = min(len(s) for s in seqs)\n",
    "    yield from (tuple(s[i] for s in seqs) for i in range(minlen))"
   ],
   "id": "2daf875e1e68762c",
   "execution_count": 471,
   "outputs": []
  },
  {
   "metadata": {
    "ExecuteTime": {
     "end_time": "2024-06-24T05:23:56.282565Z",
     "start_time": "2024-06-24T05:23:56.280106Z"
    }
   },
   "cell_type": "code",
   "source": "list(myzip3('abc','edf'))",
   "id": "9765f0a1082eb8d3",
   "execution_count": 472,
   "outputs": []
  },
  {
   "metadata": {
    "ExecuteTime": {
     "end_time": "2024-06-24T05:25:22.810849Z",
     "start_time": "2024-06-24T05:25:22.806305Z"
    }
   },
   "cell_type": "code",
   "source": [
    "def myzip4(*seqs):\n",
    "    maxlen = max(len(s) for s in seqs)\n",
    "    yield from (tuple(s[i] if i < len(s) else None for s in seqs) for i in range(maxlen))"
   ],
   "id": "3bc5680b6fc639fa",
   "execution_count": 473,
   "outputs": []
  },
  {
   "metadata": {
    "ExecuteTime": {
     "end_time": "2024-06-24T05:25:35.824663Z",
     "start_time": "2024-06-24T05:25:35.822193Z"
    }
   },
   "cell_type": "code",
   "source": "list(myzip4('abc','edfhj'))",
   "id": "a65a49100da77f97",
   "execution_count": 476,
   "outputs": []
  },
  {
   "metadata": {
    "ExecuteTime": {
     "end_time": "2024-06-24T05:35:19.030582Z",
     "start_time": "2024-06-24T05:35:19.028115Z"
    }
   },
   "cell_type": "code",
   "source": [
    "def myzip5(*seqs):\n",
    "    iters = list(map(iter, seqs))\n",
    "    try:\n",
    "        while iters:\n",
    "            res = tuple([next(i) for i in iters])\n",
    "            yield res\n",
    "    except StopIteration:\n",
    "        pass"
   ],
   "id": "46fe2ad7250c419c",
   "execution_count": 514,
   "outputs": []
  },
  {
   "metadata": {
    "ExecuteTime": {
     "end_time": "2024-06-24T05:35:19.270085Z",
     "start_time": "2024-06-24T05:35:19.267687Z"
    }
   },
   "cell_type": "code",
   "source": "myzip5('abc','edf')",
   "id": "ae2834e74793d26e",
   "execution_count": 515,
   "outputs": []
  },
  {
   "metadata": {
    "ExecuteTime": {
     "end_time": "2024-06-24T05:35:19.600214Z",
     "start_time": "2024-06-24T05:35:19.596971Z"
    }
   },
   "cell_type": "code",
   "source": "list(myzip5('abc','edf'))",
   "id": "407783121783f60f",
   "execution_count": 516,
   "outputs": []
  },
  {
   "metadata": {
    "ExecuteTime": {
     "end_time": "2024-06-24T05:37:31.106413Z",
     "start_time": "2024-06-24T05:37:31.102224Z"
    }
   },
   "cell_type": "code",
   "source": [
    "x = 99\n",
    "for x in range(5): pass\n",
    "x"
   ],
   "id": "a41b04a793eaafc8",
   "execution_count": 517,
   "outputs": []
  },
  {
   "metadata": {
    "ExecuteTime": {
     "end_time": "2024-06-24T05:40:28.659374Z",
     "start_time": "2024-06-24T05:40:28.655081Z"
    }
   },
   "cell_type": "code",
   "source": "{x:y for x in [1,2,3] for y in [4,5,6]}",
   "id": "d869d55ea73460e0",
   "execution_count": 518,
   "outputs": []
  },
  {
   "metadata": {
    "ExecuteTime": {
     "end_time": "2024-06-24T05:40:43.132617Z",
     "start_time": "2024-06-24T05:40:43.129896Z"
    }
   },
   "cell_type": "code",
   "source": "{x:y for x,y in zip([1,2,3],[4,5,6])}",
   "id": "12e546816037df9a",
   "execution_count": 519,
   "outputs": []
  },
  {
   "metadata": {},
   "cell_type": "code",
   "execution_count": null,
   "source": "",
   "id": "da03125bac560f22",
   "outputs": []
  }
 ],
 "metadata": {
  "kernelspec": {
   "display_name": "Python 3",
   "language": "python",
   "name": "python3"
  },
  "language_info": {
   "codemirror_mode": {
    "name": "ipython",
    "version": 2
   },
   "file_extension": ".py",
   "mimetype": "text/x-python",
   "name": "python",
   "nbconvert_exporter": "python",
   "pygments_lexer": "ipython2",
   "version": "2.7.6"
  }
 },
 "nbformat": 4,
 "nbformat_minor": 5
}
