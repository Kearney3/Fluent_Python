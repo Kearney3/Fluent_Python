{
 "cells": [
  {
   "metadata": {},
   "cell_type": "markdown",
   "source": "# 推导和生成",
   "id": "a122ce2676709abb"
  },
  {
   "cell_type": "code",
   "id": "initial_id",
   "metadata": {
    "collapsed": true,
    "ExecuteTime": {
     "end_time": "2024-07-08T02:19:33.117398Z",
     "start_time": "2024-07-08T02:19:33.111968Z"
    }
   },
   "source": "[chr(x) for x in range(97, 123)]",
   "outputs": [
    {
     "data": {
      "text/plain": [
       "['a',\n",
       " 'b',\n",
       " 'c',\n",
       " 'd',\n",
       " 'e',\n",
       " 'f',\n",
       " 'g',\n",
       " 'h',\n",
       " 'i',\n",
       " 'j',\n",
       " 'k',\n",
       " 'l',\n",
       " 'm',\n",
       " 'n',\n",
       " 'o',\n",
       " 'p',\n",
       " 'q',\n",
       " 'r',\n",
       " 's',\n",
       " 't',\n",
       " 'u',\n",
       " 'v',\n",
       " 'w',\n",
       " 'x',\n",
       " 'y',\n",
       " 'z']"
      ]
     },
     "execution_count": 1,
     "metadata": {},
     "output_type": "execute_result"
    }
   ],
   "execution_count": 1
  },
  {
   "metadata": {
    "ExecuteTime": {
     "end_time": "2024-07-08T02:19:34.221125Z",
     "start_time": "2024-07-08T02:19:34.218131Z"
    }
   },
   "cell_type": "code",
   "source": "list(filter(lambda x:x%2==0, range(10)))",
   "id": "952c360b2f1d4209",
   "outputs": [
    {
     "data": {
      "text/plain": [
       "[0, 2, 4, 6, 8]"
      ]
     },
     "execution_count": 2,
     "metadata": {},
     "output_type": "execute_result"
    }
   ],
   "execution_count": 2
  },
  {
   "metadata": {
    "ExecuteTime": {
     "end_time": "2024-07-08T02:19:34.292490Z",
     "start_time": "2024-07-08T02:19:34.290422Z"
    }
   },
   "cell_type": "code",
   "source": "[x for x in range(10)if x%2==0]",
   "id": "f0a5f319825c5874",
   "outputs": [
    {
     "data": {
      "text/plain": [
       "[0, 2, 4, 6, 8]"
      ]
     },
     "execution_count": 3,
     "metadata": {},
     "output_type": "execute_result"
    }
   ],
   "execution_count": 3
  },
  {
   "metadata": {
    "ExecuteTime": {
     "end_time": "2024-07-08T02:19:34.382045Z",
     "start_time": "2024-07-08T02:19:34.379093Z"
    }
   },
   "cell_type": "code",
   "source": "list(map(lambda x:x**2, filter(lambda x:x%2==0, range(10))))",
   "id": "c8b8d77b843f0c21",
   "outputs": [
    {
     "data": {
      "text/plain": [
       "[0, 4, 16, 36, 64]"
      ]
     },
     "execution_count": 4,
     "metadata": {},
     "output_type": "execute_result"
    }
   ],
   "execution_count": 4
  },
  {
   "metadata": {
    "ExecuteTime": {
     "end_time": "2024-07-08T02:19:34.470879Z",
     "start_time": "2024-07-08T02:19:34.468405Z"
    }
   },
   "cell_type": "code",
   "source": "[x+y for x in [1,2,3] for y in [100,200,300] if x+y > 200]",
   "id": "370aa8503e35ca07",
   "outputs": [
    {
     "data": {
      "text/plain": [
       "[201, 301, 202, 302, 203, 303]"
      ]
     },
     "execution_count": 5,
     "metadata": {},
     "output_type": "execute_result"
    }
   ],
   "execution_count": 5
  },
  {
   "metadata": {
    "ExecuteTime": {
     "end_time": "2024-07-08T02:19:34.585376Z",
     "start_time": "2024-07-08T02:19:34.582589Z"
    }
   },
   "cell_type": "code",
   "source": "[(x,y) for x in range(5) if x%2==0 for y in range(5) if y%2]",
   "id": "d5573c2ae0f3fbe",
   "outputs": [
    {
     "data": {
      "text/plain": [
       "[(0, 1), (0, 3), (2, 1), (2, 3), (4, 1), (4, 3)]"
      ]
     },
     "execution_count": 6,
     "metadata": {},
     "output_type": "execute_result"
    }
   ],
   "execution_count": 6
  },
  {
   "metadata": {
    "ExecuteTime": {
     "end_time": "2024-07-08T02:19:34.669106Z",
     "start_time": "2024-07-08T02:19:34.666834Z"
    }
   },
   "cell_type": "code",
   "source": [
    "M = [[1,2,3],[4,5,6],[7,8,9]]\n",
    "\n",
    "M[1]"
   ],
   "id": "e24b73f787533794",
   "outputs": [
    {
     "data": {
      "text/plain": [
       "[4, 5, 6]"
      ]
     },
     "execution_count": 7,
     "metadata": {},
     "output_type": "execute_result"
    }
   ],
   "execution_count": 7
  },
  {
   "metadata": {
    "ExecuteTime": {
     "end_time": "2024-07-08T02:19:34.732277Z",
     "start_time": "2024-07-08T02:19:34.730111Z"
    }
   },
   "cell_type": "code",
   "source": "[row[1] for row in M]",
   "id": "fa78ec85886d9f45",
   "outputs": [
    {
     "data": {
      "text/plain": [
       "[2, 5, 8]"
      ]
     },
     "execution_count": 8,
     "metadata": {},
     "output_type": "execute_result"
    }
   ],
   "execution_count": 8
  },
  {
   "metadata": {
    "ExecuteTime": {
     "end_time": "2024-07-08T02:19:34.797268Z",
     "start_time": "2024-07-08T02:19:34.795203Z"
    }
   },
   "cell_type": "code",
   "source": "[M[i][i] for i in range(len(M))]",
   "id": "a963c0134b66b7ce",
   "outputs": [
    {
     "data": {
      "text/plain": [
       "[1, 5, 9]"
      ]
     },
     "execution_count": 9,
     "metadata": {},
     "output_type": "execute_result"
    }
   ],
   "execution_count": 9
  },
  {
   "metadata": {
    "ExecuteTime": {
     "end_time": "2024-07-08T02:19:34.876362Z",
     "start_time": "2024-07-08T02:19:34.874097Z"
    }
   },
   "cell_type": "code",
   "source": "[[col + 10 for col in row] for row in M]",
   "id": "d346ec92640d5334",
   "outputs": [
    {
     "data": {
      "text/plain": [
       "[[11, 12, 13], [14, 15, 16], [17, 18, 19]]"
      ]
     },
     "execution_count": 10,
     "metadata": {},
     "output_type": "execute_result"
    }
   ],
   "execution_count": 10
  },
  {
   "metadata": {
    "ExecuteTime": {
     "end_time": "2024-07-08T02:19:35.002026Z",
     "start_time": "2024-07-08T02:19:34.999809Z"
    }
   },
   "cell_type": "code",
   "source": "[col + 10 for row in M for col in row]",
   "id": "7cf675b2556991b8",
   "outputs": [
    {
     "data": {
      "text/plain": [
       "[11, 12, 13, 14, 15, 16, 17, 18, 19]"
      ]
     },
     "execution_count": 11,
     "metadata": {},
     "output_type": "execute_result"
    }
   ],
   "execution_count": 11
  },
  {
   "metadata": {
    "ExecuteTime": {
     "end_time": "2024-07-08T02:19:35.079017Z",
     "start_time": "2024-07-08T02:19:35.077214Z"
    }
   },
   "cell_type": "code",
   "source": "N = [[2,2,2],[3,3,3],[4,4,4]]",
   "id": "5bad050d4759b989",
   "outputs": [],
   "execution_count": 12
  },
  {
   "metadata": {
    "ExecuteTime": {
     "end_time": "2024-07-08T02:19:35.148986Z",
     "start_time": "2024-07-08T02:19:35.146611Z"
    }
   },
   "cell_type": "code",
   "source": "[M[row][col]*N[row][col] for row in range(len(M)) for col in range(len(M[0]))]",
   "id": "4d588647eb9268f4",
   "outputs": [
    {
     "data": {
      "text/plain": [
       "[2, 4, 6, 12, 15, 18, 28, 32, 36]"
      ]
     },
     "execution_count": 13,
     "metadata": {},
     "output_type": "execute_result"
    }
   ],
   "execution_count": 13
  },
  {
   "metadata": {
    "ExecuteTime": {
     "end_time": "2024-07-08T02:19:35.271991Z",
     "start_time": "2024-07-08T02:19:35.269631Z"
    }
   },
   "cell_type": "code",
   "source": "[[M[row][col]*N[row][col] for col in range(len(M))] for row in range(len(M[0]))]",
   "id": "85986185620b6127",
   "outputs": [
    {
     "data": {
      "text/plain": [
       "[[2, 4, 6], [12, 15, 18], [28, 32, 36]]"
      ]
     },
     "execution_count": 14,
     "metadata": {},
     "output_type": "execute_result"
    }
   ],
   "execution_count": 14
  },
  {
   "metadata": {
    "ExecuteTime": {
     "end_time": "2024-07-08T02:19:35.388407Z",
     "start_time": "2024-07-08T02:19:35.386083Z"
    }
   },
   "cell_type": "code",
   "source": "list(zip(M,N))",
   "id": "c724acc1c75c2772",
   "outputs": [
    {
     "data": {
      "text/plain": [
       "[([1, 2, 3], [2, 2, 2]), ([4, 5, 6], [3, 3, 3]), ([7, 8, 9], [4, 4, 4])]"
      ]
     },
     "execution_count": 15,
     "metadata": {},
     "output_type": "execute_result"
    }
   ],
   "execution_count": 15
  },
  {
   "metadata": {
    "ExecuteTime": {
     "end_time": "2024-07-08T02:19:35.498253Z",
     "start_time": "2024-07-08T02:19:35.495738Z"
    }
   },
   "cell_type": "code",
   "source": "[x*y for a,b in zip(M,N) for x,y in zip(a,b)]",
   "id": "9288b47766a121fe",
   "outputs": [
    {
     "data": {
      "text/plain": [
       "[2, 4, 6, 12, 15, 18, 28, 32, 36]"
      ]
     },
     "execution_count": 16,
     "metadata": {},
     "output_type": "execute_result"
    }
   ],
   "execution_count": 16
  },
  {
   "metadata": {
    "ExecuteTime": {
     "end_time": "2024-07-08T02:19:35.578164Z",
     "start_time": "2024-07-08T02:19:35.575643Z"
    }
   },
   "cell_type": "code",
   "source": "[[x*y for x,y in zip(a,b)]for a,b in zip(M,N)]",
   "id": "f4a6b98e97ccf4e0",
   "outputs": [
    {
     "data": {
      "text/plain": [
       "[[2, 4, 6], [12, 15, 18], [28, 32, 36]]"
      ]
     },
     "execution_count": 17,
     "metadata": {},
     "output_type": "execute_result"
    }
   ],
   "execution_count": 17
  },
  {
   "metadata": {},
   "cell_type": "markdown",
   "source": "# 生成器",
   "id": "e289752fa4ea52d6"
  },
  {
   "metadata": {
    "ExecuteTime": {
     "end_time": "2024-07-08T02:19:35.677786Z",
     "start_time": "2024-07-08T02:19:35.676041Z"
    }
   },
   "cell_type": "code",
   "source": [
    "def getsquares(N):\n",
    "    for i in range(N):\n",
    "        yield i**2"
   ],
   "id": "951a51099cfdaa5e",
   "outputs": [],
   "execution_count": 18
  },
  {
   "metadata": {
    "ExecuteTime": {
     "end_time": "2024-07-08T02:19:35.774435Z",
     "start_time": "2024-07-08T02:19:35.772701Z"
    }
   },
   "cell_type": "code",
   "source": [
    "for i in getsquares(10):\n",
    "    print(i, end=' ')"
   ],
   "id": "44c6a8b28e8936bc",
   "outputs": [
    {
     "name": "stdout",
     "output_type": "stream",
     "text": [
      "0 1 4 9 16 25 36 49 64 81 "
     ]
    }
   ],
   "execution_count": 19
  },
  {
   "metadata": {
    "ExecuteTime": {
     "end_time": "2024-07-08T02:19:35.877564Z",
     "start_time": "2024-07-08T02:19:35.874769Z"
    }
   },
   "cell_type": "code",
   "source": [
    "x = getsquares(4)\n",
    "x"
   ],
   "id": "143314e8695ee65b",
   "outputs": [
    {
     "data": {
      "text/plain": [
       "<generator object getsquares at 0x10abf3780>"
      ]
     },
     "execution_count": 20,
     "metadata": {},
     "output_type": "execute_result"
    }
   ],
   "execution_count": 20
  },
  {
   "metadata": {
    "ExecuteTime": {
     "end_time": "2024-07-08T02:19:35.978301Z",
     "start_time": "2024-07-08T02:19:35.975958Z"
    }
   },
   "cell_type": "code",
   "source": "next(x)",
   "id": "96a632a4f9931cdd",
   "outputs": [
    {
     "data": {
      "text/plain": [
       "0"
      ]
     },
     "execution_count": 21,
     "metadata": {},
     "output_type": "execute_result"
    }
   ],
   "execution_count": 21
  },
  {
   "metadata": {
    "ExecuteTime": {
     "end_time": "2024-07-08T02:19:36.146371Z",
     "start_time": "2024-07-08T02:19:36.144262Z"
    }
   },
   "cell_type": "code",
   "source": "next(x)",
   "id": "a1b6c05e2ab0ccf6",
   "outputs": [
    {
     "data": {
      "text/plain": [
       "1"
      ]
     },
     "execution_count": 22,
     "metadata": {},
     "output_type": "execute_result"
    }
   ],
   "execution_count": 22
  },
  {
   "metadata": {
    "ExecuteTime": {
     "end_time": "2024-07-08T02:19:36.188202Z",
     "start_time": "2024-07-08T02:19:36.186072Z"
    }
   },
   "cell_type": "code",
   "source": "x.__next__()",
   "id": "9087d59706dd5442",
   "outputs": [
    {
     "data": {
      "text/plain": [
       "4"
      ]
     },
     "execution_count": 23,
     "metadata": {},
     "output_type": "execute_result"
    }
   ],
   "execution_count": 23
  },
  {
   "metadata": {
    "ExecuteTime": {
     "end_time": "2024-07-08T02:19:36.317580Z",
     "start_time": "2024-07-08T02:19:36.315528Z"
    }
   },
   "cell_type": "code",
   "source": "next(x)",
   "id": "78cc16bf7436c100",
   "outputs": [
    {
     "data": {
      "text/plain": [
       "9"
      ]
     },
     "execution_count": 24,
     "metadata": {},
     "output_type": "execute_result"
    }
   ],
   "execution_count": 24
  },
  {
   "metadata": {
    "ExecuteTime": {
     "end_time": "2024-07-08T02:19:36.544964Z",
     "start_time": "2024-07-08T02:19:36.352407Z"
    }
   },
   "cell_type": "code",
   "source": "next(x)",
   "id": "d9693d5bff2df4b2",
   "outputs": [
    {
     "ename": "StopIteration",
     "evalue": "",
     "output_type": "error",
     "traceback": [
      "\u001B[0;31m---------------------------------------------------------------------------\u001B[0m",
      "\u001B[0;31mStopIteration\u001B[0m                             Traceback (most recent call last)",
      "Cell \u001B[0;32mIn[25], line 1\u001B[0m\n\u001B[0;32m----> 1\u001B[0m \u001B[38;5;28mnext\u001B[39m(x)\n",
      "\u001B[0;31mStopIteration\u001B[0m: "
     ]
    }
   ],
   "execution_count": 25
  },
  {
   "metadata": {
    "ExecuteTime": {
     "end_time": "2024-07-08T02:19:36.545732Z",
     "start_time": "2024-07-08T02:19:36.545681Z"
    }
   },
   "cell_type": "code",
   "source": [
    "y = getsquares(4)\n",
    "iter(y) is y"
   ],
   "id": "e53f74d19c16a47b",
   "outputs": [],
   "execution_count": null
  },
  {
   "metadata": {
    "ExecuteTime": {
     "end_time": "2024-07-08T02:19:36.560994Z",
     "start_time": "2024-07-08T02:19:36.558259Z"
    }
   },
   "cell_type": "code",
   "source": [
    "def ups(line):\n",
    "    for sub in line.split(','):\n",
    "        yield sub.upper()\n",
    "        \n",
    "tuple(ups('a,b,c,d,e'))"
   ],
   "id": "8e11f5f2c6daf03a",
   "outputs": [
    {
     "data": {
      "text/plain": [
       "('A', 'B', 'C', 'D', 'E')"
      ]
     },
     "execution_count": 26,
     "metadata": {},
     "output_type": "execute_result"
    }
   ],
   "execution_count": 26
  },
  {
   "metadata": {
    "ExecuteTime": {
     "end_time": "2024-07-08T02:19:36.616998Z",
     "start_time": "2024-07-08T02:19:36.614362Z"
    }
   },
   "cell_type": "code",
   "source": "{i:s for i,s in enumerate(ups('a,b,c,d,e'))}",
   "id": "d0d3bd921bc8f57b",
   "outputs": [
    {
     "data": {
      "text/plain": [
       "{0: 'A', 1: 'B', 2: 'C', 3: 'D', 4: 'E'}"
      ]
     },
     "execution_count": 27,
     "metadata": {},
     "output_type": "execute_result"
    }
   ],
   "execution_count": 27
  },
  {
   "metadata": {
    "ExecuteTime": {
     "end_time": "2024-07-08T02:19:38.249456Z",
     "start_time": "2024-07-08T02:19:38.247597Z"
    }
   },
   "cell_type": "code",
   "source": [
    "def gen():\n",
    "    for i in range(10):\n",
    "        print(f'{i=}')\n",
    "        x = yield i \n",
    "        print(f'{x=}, {i=}')"
   ],
   "id": "b8776aae3ae0b46c",
   "outputs": [],
   "execution_count": 28
  },
  {
   "metadata": {
    "ExecuteTime": {
     "end_time": "2024-07-08T02:19:38.330513Z",
     "start_time": "2024-07-08T02:19:38.327047Z"
    }
   },
   "cell_type": "code",
   "source": [
    "G = gen()\n",
    "G"
   ],
   "id": "ff46bc6367155851",
   "outputs": [
    {
     "data": {
      "text/plain": [
       "<generator object gen at 0x10b9f0040>"
      ]
     },
     "execution_count": 29,
     "metadata": {},
     "output_type": "execute_result"
    }
   ],
   "execution_count": 29
  },
  {
   "metadata": {
    "ExecuteTime": {
     "end_time": "2024-07-08T02:19:38.441366Z",
     "start_time": "2024-07-08T02:19:38.439106Z"
    }
   },
   "cell_type": "code",
   "source": "next(G)",
   "id": "a63030a8e5f01aea",
   "outputs": [
    {
     "name": "stdout",
     "output_type": "stream",
     "text": [
      "i=0\n"
     ]
    },
    {
     "data": {
      "text/plain": [
       "0"
      ]
     },
     "execution_count": 30,
     "metadata": {},
     "output_type": "execute_result"
    }
   ],
   "execution_count": 30
  },
  {
   "metadata": {
    "ExecuteTime": {
     "end_time": "2024-07-08T02:19:38.474413Z",
     "start_time": "2024-07-08T02:19:38.471826Z"
    }
   },
   "cell_type": "code",
   "source": "G.send('hello')",
   "id": "8c0f175d980f519d",
   "outputs": [
    {
     "name": "stdout",
     "output_type": "stream",
     "text": [
      "x='hello', i=0\n",
      "i=1\n"
     ]
    },
    {
     "data": {
      "text/plain": [
       "1"
      ]
     },
     "execution_count": 31,
     "metadata": {},
     "output_type": "execute_result"
    }
   ],
   "execution_count": 31
  },
  {
   "metadata": {
    "ExecuteTime": {
     "end_time": "2024-07-08T02:19:38.631238Z",
     "start_time": "2024-07-08T02:19:38.628902Z"
    }
   },
   "cell_type": "code",
   "source": "G.send(77)",
   "id": "abf39eff4184ac88",
   "outputs": [
    {
     "name": "stdout",
     "output_type": "stream",
     "text": [
      "x=77, i=1\n",
      "i=2\n"
     ]
    },
    {
     "data": {
      "text/plain": [
       "2"
      ]
     },
     "execution_count": 32,
     "metadata": {},
     "output_type": "execute_result"
    }
   ],
   "execution_count": 32
  },
  {
   "metadata": {
    "ExecuteTime": {
     "end_time": "2024-07-08T02:19:38.718146Z",
     "start_time": "2024-07-08T02:19:38.715490Z"
    }
   },
   "cell_type": "code",
   "source": "next(G)",
   "id": "822bd0eaadf43b4b",
   "outputs": [
    {
     "name": "stdout",
     "output_type": "stream",
     "text": [
      "x=None, i=2\n",
      "i=3\n"
     ]
    },
    {
     "data": {
      "text/plain": [
       "3"
      ]
     },
     "execution_count": 33,
     "metadata": {},
     "output_type": "execute_result"
    }
   ],
   "execution_count": 33
  },
  {
   "metadata": {
    "ExecuteTime": {
     "end_time": "2024-07-08T02:19:38.828395Z",
     "start_time": "2024-07-08T02:19:38.825890Z"
    }
   },
   "cell_type": "code",
   "source": "next(G)",
   "id": "376de21c005b78ff",
   "outputs": [
    {
     "name": "stdout",
     "output_type": "stream",
     "text": [
      "x=None, i=3\n",
      "i=4\n"
     ]
    },
    {
     "data": {
      "text/plain": [
       "4"
      ]
     },
     "execution_count": 34,
     "metadata": {},
     "output_type": "execute_result"
    }
   ],
   "execution_count": 34
  },
  {
   "metadata": {
    "ExecuteTime": {
     "end_time": "2024-07-08T02:19:38.874348Z",
     "start_time": "2024-07-08T02:19:38.871382Z"
    }
   },
   "cell_type": "code",
   "source": "z = G.send('new')",
   "id": "1a81fb0595158f3d",
   "outputs": [
    {
     "name": "stdout",
     "output_type": "stream",
     "text": [
      "x='new', i=4\n",
      "i=5\n"
     ]
    }
   ],
   "execution_count": 35
  },
  {
   "metadata": {
    "ExecuteTime": {
     "end_time": "2024-07-08T02:19:38.980009Z",
     "start_time": "2024-07-08T02:19:38.978170Z"
    }
   },
   "cell_type": "code",
   "source": "z",
   "id": "bdbe304650ee0398",
   "outputs": [
    {
     "data": {
      "text/plain": [
       "5"
      ]
     },
     "execution_count": 36,
     "metadata": {},
     "output_type": "execute_result"
    }
   ],
   "execution_count": 36
  },
  {
   "metadata": {
    "ExecuteTime": {
     "end_time": "2024-07-08T02:19:39.074068Z",
     "start_time": "2024-07-08T02:19:39.065108Z"
    }
   },
   "cell_type": "code",
   "source": "G.throw(ValueError)",
   "id": "cda3470edb57acae",
   "outputs": [
    {
     "ename": "ValueError",
     "evalue": "",
     "output_type": "error",
     "traceback": [
      "\u001B[0;31m---------------------------------------------------------------------------\u001B[0m",
      "\u001B[0;31mValueError\u001B[0m                                Traceback (most recent call last)",
      "Cell \u001B[0;32mIn[37], line 1\u001B[0m\n\u001B[0;32m----> 1\u001B[0m G\u001B[38;5;241m.\u001B[39mthrow(\u001B[38;5;167;01mValueError\u001B[39;00m)\n",
      "Cell \u001B[0;32mIn[28], line 4\u001B[0m, in \u001B[0;36mgen\u001B[0;34m()\u001B[0m\n\u001B[1;32m      2\u001B[0m \u001B[38;5;28;01mfor\u001B[39;00m i \u001B[38;5;129;01min\u001B[39;00m \u001B[38;5;28mrange\u001B[39m(\u001B[38;5;241m10\u001B[39m):\n\u001B[1;32m      3\u001B[0m     \u001B[38;5;28mprint\u001B[39m(\u001B[38;5;124mf\u001B[39m\u001B[38;5;124m'\u001B[39m\u001B[38;5;132;01m{\u001B[39;00mi\u001B[38;5;132;01m=}\u001B[39;00m\u001B[38;5;124m'\u001B[39m)\n\u001B[0;32m----> 4\u001B[0m     x \u001B[38;5;241m=\u001B[39m \u001B[38;5;28;01myield\u001B[39;00m i \n\u001B[1;32m      5\u001B[0m     \u001B[38;5;28mprint\u001B[39m(\u001B[38;5;124mf\u001B[39m\u001B[38;5;124m'\u001B[39m\u001B[38;5;132;01m{\u001B[39;00mx\u001B[38;5;132;01m=}\u001B[39;00m\u001B[38;5;124m, \u001B[39m\u001B[38;5;132;01m{\u001B[39;00mi\u001B[38;5;132;01m=}\u001B[39;00m\u001B[38;5;124m'\u001B[39m)\n",
      "\u001B[0;31mValueError\u001B[0m: "
     ]
    }
   ],
   "execution_count": 37
  },
  {
   "metadata": {
    "ExecuteTime": {
     "end_time": "2024-07-08T02:19:39.201214Z",
     "start_time": "2024-07-08T02:19:39.198699Z"
    }
   },
   "cell_type": "code",
   "source": "[x **2 for x in range(5)]",
   "id": "93efaa8ac91b0e12",
   "outputs": [
    {
     "data": {
      "text/plain": [
       "[0, 1, 4, 9, 16]"
      ]
     },
     "execution_count": 38,
     "metadata": {},
     "output_type": "execute_result"
    }
   ],
   "execution_count": 38
  },
  {
   "metadata": {
    "ExecuteTime": {
     "end_time": "2024-07-08T02:19:39.285952Z",
     "start_time": "2024-07-08T02:19:39.283724Z"
    }
   },
   "cell_type": "code",
   "source": "(x**2 for x in range(5))",
   "id": "7b2dd0719867676a",
   "outputs": [
    {
     "data": {
      "text/plain": [
       "<generator object <genexpr> at 0x108c5b440>"
      ]
     },
     "execution_count": 39,
     "metadata": {},
     "output_type": "execute_result"
    }
   ],
   "execution_count": 39
  },
  {
   "metadata": {
    "ExecuteTime": {
     "end_time": "2024-07-08T02:19:39.414542Z",
     "start_time": "2024-07-08T02:19:39.412494Z"
    }
   },
   "cell_type": "code",
   "source": "set(x**2 for x in range(5))",
   "id": "de9040ee192c4ac3",
   "outputs": [
    {
     "data": {
      "text/plain": [
       "{0, 1, 4, 9, 16}"
      ]
     },
     "execution_count": 40,
     "metadata": {},
     "output_type": "execute_result"
    }
   ],
   "execution_count": 40
  },
  {
   "metadata": {
    "ExecuteTime": {
     "end_time": "2024-07-08T02:19:39.467989Z",
     "start_time": "2024-07-08T02:19:39.465909Z"
    }
   },
   "cell_type": "code",
   "source": "list(x**2 for x in range(5))",
   "id": "7a1dbebf65aee5cb",
   "outputs": [
    {
     "data": {
      "text/plain": [
       "[0, 1, 4, 9, 16]"
      ]
     },
     "execution_count": 41,
     "metadata": {},
     "output_type": "execute_result"
    }
   ],
   "execution_count": 41
  },
  {
   "metadata": {
    "ExecuteTime": {
     "end_time": "2024-07-08T02:19:39.535914Z",
     "start_time": "2024-07-08T02:19:39.533823Z"
    }
   },
   "cell_type": "code",
   "source": [
    "G = (x**2 for x in range(3))\n",
    "G"
   ],
   "id": "287c47675d4fca5a",
   "outputs": [
    {
     "data": {
      "text/plain": [
       "<generator object <genexpr> at 0x10aed6670>"
      ]
     },
     "execution_count": 42,
     "metadata": {},
     "output_type": "execute_result"
    }
   ],
   "execution_count": 42
  },
  {
   "metadata": {
    "ExecuteTime": {
     "end_time": "2024-07-08T02:19:39.622622Z",
     "start_time": "2024-07-08T02:19:39.620591Z"
    }
   },
   "cell_type": "code",
   "source": "iter(G) is G",
   "id": "fd0d062e281034c7",
   "outputs": [
    {
     "data": {
      "text/plain": [
       "True"
      ]
     },
     "execution_count": 43,
     "metadata": {},
     "output_type": "execute_result"
    }
   ],
   "execution_count": 43
  },
  {
   "metadata": {
    "ExecuteTime": {
     "end_time": "2024-07-08T02:19:39.729892Z",
     "start_time": "2024-07-08T02:19:39.727668Z"
    }
   },
   "cell_type": "code",
   "source": "next(G), next(G), next(G)",
   "id": "259bde9263c23e5c",
   "outputs": [
    {
     "data": {
      "text/plain": [
       "(0, 1, 4)"
      ]
     },
     "execution_count": 44,
     "metadata": {},
     "output_type": "execute_result"
    }
   ],
   "execution_count": 44
  },
  {
   "metadata": {
    "ExecuteTime": {
     "end_time": "2024-07-08T02:19:39.792579Z",
     "start_time": "2024-07-08T02:19:39.785794Z"
    }
   },
   "cell_type": "code",
   "source": "next(G)",
   "id": "10095cf469e87012",
   "outputs": [
    {
     "ename": "StopIteration",
     "evalue": "",
     "output_type": "error",
     "traceback": [
      "\u001B[0;31m---------------------------------------------------------------------------\u001B[0m",
      "\u001B[0;31mStopIteration\u001B[0m                             Traceback (most recent call last)",
      "Cell \u001B[0;32mIn[45], line 1\u001B[0m\n\u001B[0;32m----> 1\u001B[0m \u001B[38;5;28mnext\u001B[39m(G)\n",
      "\u001B[0;31mStopIteration\u001B[0m: "
     ]
    }
   ],
   "execution_count": 45
  },
  {
   "metadata": {
    "ExecuteTime": {
     "end_time": "2024-07-08T02:19:39.876619Z",
     "start_time": "2024-07-08T02:19:39.874448Z"
    }
   },
   "cell_type": "code",
   "source": "''.join(x.upper() for x in 'aa,bb,cc'.split(','))",
   "id": "3dfc2b8f1889f48e",
   "outputs": [
    {
     "data": {
      "text/plain": [
       "'AABBCC'"
      ]
     },
     "execution_count": 46,
     "metadata": {},
     "output_type": "execute_result"
    }
   ],
   "execution_count": 46
  },
  {
   "metadata": {
    "ExecuteTime": {
     "end_time": "2024-07-08T02:19:39.942739Z",
     "start_time": "2024-07-08T02:19:39.940573Z"
    }
   },
   "cell_type": "code",
   "source": "list(map(abs,[-1,2,4,-5]))",
   "id": "8d3ace0d38fd1e47",
   "outputs": [
    {
     "data": {
      "text/plain": [
       "[1, 2, 4, 5]"
      ]
     },
     "execution_count": 47,
     "metadata": {},
     "output_type": "execute_result"
    }
   ],
   "execution_count": 47
  },
  {
   "metadata": {
    "ExecuteTime": {
     "end_time": "2024-07-08T02:19:40.016948Z",
     "start_time": "2024-07-08T02:19:40.014676Z"
    }
   },
   "cell_type": "code",
   "source": "list(abs(x) for x in [-1,2,4,-5])",
   "id": "d0a3ee61483ce88b",
   "outputs": [
    {
     "data": {
      "text/plain": [
       "[1, 2, 4, 5]"
      ]
     },
     "execution_count": 48,
     "metadata": {},
     "output_type": "execute_result"
    }
   ],
   "execution_count": 48
  },
  {
   "metadata": {
    "ExecuteTime": {
     "end_time": "2024-07-08T02:19:40.118893Z",
     "start_time": "2024-07-08T02:19:40.116666Z"
    }
   },
   "cell_type": "code",
   "source": "[abs(x) for x in [-1,2,4,-5]]",
   "id": "cb4524b1e7027d51",
   "outputs": [
    {
     "data": {
      "text/plain": [
       "[1, 2, 4, 5]"
      ]
     },
     "execution_count": 49,
     "metadata": {},
     "output_type": "execute_result"
    }
   ],
   "execution_count": 49
  },
  {
   "metadata": {
    "ExecuteTime": {
     "end_time": "2024-07-08T02:19:40.205491Z",
     "start_time": "2024-07-08T02:19:40.203144Z"
    }
   },
   "cell_type": "code",
   "source": "[x **3 for x in [abs(s) for s in [-1,2,4,-5]]]",
   "id": "356f9c2a0c5475ec",
   "outputs": [
    {
     "data": {
      "text/plain": [
       "[1, 8, 64, 125]"
      ]
     },
     "execution_count": 50,
     "metadata": {},
     "output_type": "execute_result"
    }
   ],
   "execution_count": 50
  },
  {
   "metadata": {
    "ExecuteTime": {
     "end_time": "2024-07-08T02:19:40.313921Z",
     "start_time": "2024-07-08T02:19:40.311452Z"
    }
   },
   "cell_type": "code",
   "source": "(x **3 for x in [abs(s) for s in [-1,2,4,-5]])",
   "id": "e85ca0fc6a54e1b8",
   "outputs": [
    {
     "data": {
      "text/plain": [
       "<generator object <genexpr> at 0x109548fb0>"
      ]
     },
     "execution_count": 51,
     "metadata": {},
     "output_type": "execute_result"
    }
   ],
   "execution_count": 51
  },
  {
   "metadata": {
    "ExecuteTime": {
     "end_time": "2024-07-08T02:19:40.383097Z",
     "start_time": "2024-07-08T02:19:40.380981Z"
    }
   },
   "cell_type": "code",
   "source": "list(x **3 for x in [abs(s) for s in [-1,2,4,-5]])",
   "id": "ff5a6d6996ebbc29",
   "outputs": [
    {
     "data": {
      "text/plain": [
       "[1, 8, 64, 125]"
      ]
     },
     "execution_count": 52,
     "metadata": {},
     "output_type": "execute_result"
    }
   ],
   "execution_count": 52
  },
  {
   "metadata": {
    "ExecuteTime": {
     "end_time": "2024-07-08T02:19:40.451761Z",
     "start_time": "2024-07-08T02:19:40.449313Z"
    }
   },
   "cell_type": "code",
   "source": "list(map(lambda x:x**2,(abs(s) for s in [-1,2,4,-5])))",
   "id": "371bce9e69749b08",
   "outputs": [
    {
     "data": {
      "text/plain": [
       "[1, 4, 16, 25]"
      ]
     },
     "execution_count": 53,
     "metadata": {},
     "output_type": "execute_result"
    }
   ],
   "execution_count": 53
  },
  {
   "metadata": {
    "ExecuteTime": {
     "end_time": "2024-07-08T02:19:40.518951Z",
     "start_time": "2024-07-08T02:19:40.516566Z"
    }
   },
   "cell_type": "code",
   "source": "list(map(lambda x:x**2,map(abs, [-1,2,4,-5])))",
   "id": "8f042c3167f4defb",
   "outputs": [
    {
     "data": {
      "text/plain": [
       "[1, 4, 16, 25]"
      ]
     },
     "execution_count": 54,
     "metadata": {},
     "output_type": "execute_result"
    }
   ],
   "execution_count": 54
  },
  {
   "metadata": {
    "ExecuteTime": {
     "end_time": "2024-07-08T02:19:40.587993Z",
     "start_time": "2024-07-08T02:19:40.585888Z"
    }
   },
   "cell_type": "code",
   "source": [
    "# 内置类型\n",
    "L = [1,2,3,4]\n",
    "i1, i2 = iter(L), iter(L)\n",
    "next(i1) # 1"
   ],
   "id": "a9f7d297bf52a7a9",
   "outputs": [
    {
     "data": {
      "text/plain": [
       "1"
      ]
     },
     "execution_count": 55,
     "metadata": {},
     "output_type": "execute_result"
    }
   ],
   "execution_count": 55
  },
  {
   "metadata": {
    "ExecuteTime": {
     "end_time": "2024-07-08T02:19:40.657354Z",
     "start_time": "2024-07-08T02:19:40.655043Z"
    }
   },
   "cell_type": "code",
   "source": "next(i1) # 2",
   "id": "5f35cfb7b00dee1",
   "outputs": [
    {
     "data": {
      "text/plain": [
       "2"
      ]
     },
     "execution_count": 56,
     "metadata": {},
     "output_type": "execute_result"
    }
   ],
   "execution_count": 56
  },
  {
   "metadata": {
    "ExecuteTime": {
     "end_time": "2024-07-08T02:19:40.727389Z",
     "start_time": "2024-07-08T02:19:40.725318Z"
    }
   },
   "cell_type": "code",
   "source": "next(i2) # 1 此处为不同的迭代器",
   "id": "71fb77efaaf9fb8b",
   "outputs": [
    {
     "data": {
      "text/plain": [
       "1"
      ]
     },
     "execution_count": 57,
     "metadata": {},
     "output_type": "execute_result"
    }
   ],
   "execution_count": 57
  },
  {
   "metadata": {
    "ExecuteTime": {
     "end_time": "2024-07-08T02:19:40.835745Z",
     "start_time": "2024-07-08T02:19:40.829016Z"
    }
   },
   "cell_type": "code",
   "source": [
    "# 反映活跃的修改\n",
    "del L[2:]\n",
    "next(i1) # StopIteration"
   ],
   "id": "2fc749b1180cd5e8",
   "outputs": [
    {
     "ename": "StopIteration",
     "evalue": "",
     "output_type": "error",
     "traceback": [
      "\u001B[0;31m---------------------------------------------------------------------------\u001B[0m",
      "\u001B[0;31mStopIteration\u001B[0m                             Traceback (most recent call last)",
      "Cell \u001B[0;32mIn[58], line 3\u001B[0m\n\u001B[1;32m      1\u001B[0m \u001B[38;5;66;03m# 反映活跃的修改\u001B[39;00m\n\u001B[1;32m      2\u001B[0m \u001B[38;5;28;01mdel\u001B[39;00m L[\u001B[38;5;241m2\u001B[39m:]\n\u001B[0;32m----> 3\u001B[0m \u001B[38;5;28mnext\u001B[39m(i1)\n",
      "\u001B[0;31mStopIteration\u001B[0m: "
     ]
    }
   ],
   "execution_count": 58
  },
  {
   "metadata": {
    "ExecuteTime": {
     "end_time": "2024-07-08T02:19:40.899974Z",
     "start_time": "2024-07-08T02:19:40.897944Z"
    }
   },
   "cell_type": "code",
   "source": "next(i2) # 2",
   "id": "202c93f6ce2a9091",
   "outputs": [
    {
     "data": {
      "text/plain": [
       "2"
      ]
     },
     "execution_count": 59,
     "metadata": {},
     "output_type": "execute_result"
    }
   ],
   "execution_count": 59
  },
  {
   "metadata": {
    "ExecuteTime": {
     "end_time": "2024-07-08T02:19:40.969635Z",
     "start_time": "2024-07-08T02:19:40.960778Z"
    }
   },
   "cell_type": "code",
   "source": "next(i2)",
   "id": "937a362e838ec9f4",
   "outputs": [
    {
     "ename": "StopIteration",
     "evalue": "",
     "output_type": "error",
     "traceback": [
      "\u001B[0;31m---------------------------------------------------------------------------\u001B[0m",
      "\u001B[0;31mStopIteration\u001B[0m                             Traceback (most recent call last)",
      "Cell \u001B[0;32mIn[60], line 1\u001B[0m\n\u001B[0;32m----> 1\u001B[0m \u001B[38;5;28mnext\u001B[39m(i2)\n",
      "\u001B[0;31mStopIteration\u001B[0m: "
     ]
    }
   ],
   "execution_count": 60
  },
  {
   "metadata": {
    "ExecuteTime": {
     "end_time": "2024-07-08T02:19:41.050530Z",
     "start_time": "2024-07-08T02:19:41.048796Z"
    }
   },
   "cell_type": "code",
   "source": [
    "def both(N):\n",
    "    for i in range(N):\n",
    "        yield i\n",
    "    for i in (x**2 for x in range(N)):\n",
    "        yield i"
   ],
   "id": "99a65584164ef306",
   "outputs": [],
   "execution_count": 61
  },
  {
   "metadata": {
    "ExecuteTime": {
     "end_time": "2024-07-08T02:19:41.135458Z",
     "start_time": "2024-07-08T02:19:41.133465Z"
    }
   },
   "cell_type": "code",
   "source": "list(both(5))",
   "id": "25d43f61c0707c27",
   "outputs": [
    {
     "data": {
      "text/plain": [
       "[0, 1, 2, 3, 4, 0, 1, 4, 9, 16]"
      ]
     },
     "execution_count": 62,
     "metadata": {},
     "output_type": "execute_result"
    }
   ],
   "execution_count": 62
  },
  {
   "metadata": {
    "ExecuteTime": {
     "end_time": "2024-07-08T02:19:41.221738Z",
     "start_time": "2024-07-08T02:19:41.220061Z"
    }
   },
   "cell_type": "code",
   "source": [
    "def both2(N):\n",
    "    yield from range(N)\n",
    "    yield from (x**2 for x in range(N))"
   ],
   "id": "9c9d8a7e60fc9038",
   "outputs": [],
   "execution_count": 63
  },
  {
   "metadata": {
    "ExecuteTime": {
     "end_time": "2024-07-08T02:19:41.354989Z",
     "start_time": "2024-07-08T02:19:41.352964Z"
    }
   },
   "cell_type": "code",
   "source": "list(both2(5))",
   "id": "851c44f16191f2dc",
   "outputs": [
    {
     "data": {
      "text/plain": [
       "[0, 1, 2, 3, 4, 0, 1, 4, 9, 16]"
      ]
     },
     "execution_count": 64,
     "metadata": {},
     "output_type": "execute_result"
    }
   ],
   "execution_count": 64
  },
  {
   "metadata": {},
   "cell_type": "markdown",
   "source": "os.walk也是迭代器",
   "id": "6ac12e28e3859db7"
  },
  {
   "metadata": {
    "ExecuteTime": {
     "end_time": "2024-07-08T02:20:08.274081Z",
     "start_time": "2024-07-08T02:20:08.270117Z"
    }
   },
   "cell_type": "code",
   "source": [
    "import os\n",
    "for root, dirs, files in os.walk('.'):\n",
    "    print(root, dirs, files)\n",
    "    print('*'*20)"
   ],
   "id": "277f28395ed8165d",
   "outputs": [
    {
     "name": "stdout",
     "output_type": "stream",
     "text": [
      ". ['.pytest_cache', 'class_test', '__pycache__', 'import_test', 'dir1'] ['bom_ascii.txt', 'text_upper.txt', 'chapter35-36.ipynb', 'chapter10-13.ipynb', 'chapter15.ipynb', 'temp', 'chapter31.ipynb', 'datafile.shelve.db', '.DS_Store', 'Chapter5-6.ipynb', 'text.log', 'chapter37.ipynb', 'classtool.py', 'chapter29.ipynb', 'bom_utf8.txt', 'chapter14.ipynb', 'chapter30.ipynb', 'chapter16-17.ipynb', 'timer.py', 'person.db.db', 'chapter21-25.ipynb', 'chapter32.ipynb', 'error.log', 'Certificate.html', 'chapter33-34.ipynb', 'listing.py', 'latindata', 'all.py', 'super.py', 'count_file.py', 'Certificate.txt', 'utfdata', 'timer2.py', 'chapter39_2.ipynb', 'chapter40.ipynb', 'chapter38.ipynb', 'temp.txt', 'showargs.py', 'chapter26-28.ipynb', 'reloadall2.py', 'formats.py', 'pizzashop.db.db', 'reloadall_copy.py', 'bom_utf16.txt', 'datafile.pkl', 'classtree.py', 'chapter38_2.ipynb', 'textjson.txt', 'chapter18.ipynb', 'myfile.txt', 'textfile.txt', 'strcut.bin', 'print.txt', 'my_import.py', 'chapter20.ipynb', 'chapter39_3.ipynb', 'reloadall.py', 'chapter39.ipynb', 'mapattrs.py', 'data', 'datafile.txt', 'data.bin', 'chapter19.ipynb', 'chapter32_2.ipynb', 'Chapter7-9.ipynb']\n",
      "********************\n",
      "./.pytest_cache ['v'] ['CACHEDIR.TAG', 'README.md', '.gitignore']\n",
      "********************\n",
      "./.pytest_cache/v ['cache'] []\n",
      "********************\n",
      "./.pytest_cache/v/cache [] ['nodeids', 'lastfailed', 'stepwise']\n",
      "********************\n",
      "./class_test ['__pycache__'] ['Person.py', 'person.db.db', 'main.py']\n",
      "********************\n",
      "./class_test/__pycache__ [] ['Person.cpython-311.pyc']\n",
      "********************\n",
      "./__pycache__ [] ['formats.cpython-311.pyc', 'all.cpython-311.pyc', 'my_import.cpython-311.pyc', 'classtool.cpython-311.pyc', 'showargs.cpython-311.pyc', 'reloadall.cpython-311-pytest-7.4.0.pyc']\n",
      "********************\n",
      "./import_test ['pkg'] ['main.py']\n",
      "********************\n",
      "./import_test/pkg ['__pycache__'] ['spam.py', '__init__.py', 'eggs.py']\n",
      "********************\n",
      "./import_test/pkg/__pycache__ [] ['spam.cpython-311.pyc', 'eggs.cpython-311.pyc', '__init__.cpython-311.pyc']\n",
      "********************\n",
      "./dir1 ['dir2', '__pycache__'] ['my_import_dir1.py', '__init__.py', 'import_test.py', 'string.py', 'main.py']\n",
      "********************\n",
      "./dir1/dir2 ['__pycache__'] ['__init__.py', 'string.py', 'mod.py']\n",
      "********************\n",
      "./dir1/dir2/__pycache__ [] ['string.cpython-311.pyc', 'mod.cpython-311.pyc', '__init__.cpython-311.pyc']\n",
      "********************\n",
      "./dir1/__pycache__ [] ['string.cpython-311.pyc', 'main.cpython-311.pyc', 'my_import_dir1.cpython-311.pyc', 'import_test.cpython-311.pyc', '__init__.cpython-311.pyc']\n",
      "********************\n"
     ]
    }
   ],
   "execution_count": 144
  },
  {
   "metadata": {
    "ExecuteTime": {
     "end_time": "2024-07-08T02:19:41.513288Z",
     "start_time": "2024-07-08T02:19:41.511683Z"
    }
   },
   "cell_type": "code",
   "source": "G = os.walk('..')",
   "id": "864db1b843a7c74c",
   "outputs": [],
   "execution_count": 66
  },
  {
   "metadata": {
    "ExecuteTime": {
     "end_time": "2024-07-08T02:19:41.582245Z",
     "start_time": "2024-07-08T02:19:41.580049Z"
    }
   },
   "cell_type": "code",
   "source": "iter(G) is G",
   "id": "43b0f520f6d6c2a",
   "outputs": [
    {
     "data": {
      "text/plain": [
       "True"
      ]
     },
     "execution_count": 67,
     "metadata": {},
     "output_type": "execute_result"
    }
   ],
   "execution_count": 67
  },
  {
   "metadata": {
    "ExecuteTime": {
     "end_time": "2024-07-08T02:19:41.644541Z",
     "start_time": "2024-07-08T02:19:41.642032Z"
    }
   },
   "cell_type": "code",
   "source": "next(G)",
   "id": "9386f0b48dbb7918",
   "outputs": [
    {
     "data": {
      "text/plain": [
       "('..',\n",
       " ['Elegant Coding in Python',\n",
       "  'Chapter1',\n",
       "  'Learning Python',\n",
       "  'Chapter2',\n",
       "  '.git',\n",
       "  '.idea'],\n",
       " ['.DS_Store', 'README.md', '.gitignore'])"
      ]
     },
     "execution_count": 68,
     "metadata": {},
     "output_type": "execute_result"
    }
   ],
   "execution_count": 68
  },
  {
   "metadata": {
    "ExecuteTime": {
     "end_time": "2024-07-08T02:19:41.700034Z",
     "start_time": "2024-07-08T02:19:41.697252Z"
    }
   },
   "cell_type": "code",
   "source": "next(G)",
   "id": "28df00cb08442be6",
   "outputs": [
    {
     "data": {
      "text/plain": [
       "('../Elegant Coding in Python',\n",
       " [],\n",
       " ['5-15.py',\n",
       "  '5-3.py',\n",
       "  '6-4.py',\n",
       "  '5-11.py',\n",
       "  '1-10.py',\n",
       "  '5-10.py',\n",
       "  '3-15.py',\n",
       "  '6-1.py',\n",
       "  '1-11.py',\n",
       "  '5-6.py',\n",
       "  '2-14.py',\n",
       "  '4-8.py',\n",
       "  '5-9.py',\n",
       "  '2-10.py',\n",
       "  '4-15.py',\n",
       "  '4-9.py',\n",
       "  '5-8.py',\n",
       "  '2-16.py',\n",
       "  '4-13.py',\n",
       "  '3-5.py',\n",
       "  '2-23.py',\n",
       "  '3-19.py',\n",
       "  '2-5.py',\n",
       "  '4-16.py',\n",
       "  '5-13.py',\n",
       "  '2-18.py',\n",
       "  '3-22.py',\n",
       "  '1-12.py',\n",
       "  '1-32.py',\n",
       "  '3-26.py',\n",
       "  '3-12.py',\n",
       "  '6-3.py'])"
      ]
     },
     "execution_count": 69,
     "metadata": {},
     "output_type": "execute_result"
    }
   ],
   "execution_count": 69
  },
  {
   "metadata": {
    "ExecuteTime": {
     "end_time": "2024-07-08T02:19:41.778508Z",
     "start_time": "2024-07-08T02:19:41.775972Z"
    }
   },
   "cell_type": "code",
   "source": "next(G)",
   "id": "26964e5330736602",
   "outputs": [
    {
     "data": {
      "text/plain": [
       "('../Chapter1', [], ['1-2 cards.py', 'data model.ipynb'])"
      ]
     },
     "execution_count": 70,
     "metadata": {},
     "output_type": "execute_result"
    }
   ],
   "execution_count": 70
  },
  {
   "metadata": {
    "ExecuteTime": {
     "end_time": "2024-07-08T02:19:41.916097Z",
     "start_time": "2024-07-08T02:19:41.913259Z"
    }
   },
   "cell_type": "code",
   "source": "next(G)",
   "id": "f8d16f8dad0f4aae",
   "outputs": [
    {
     "data": {
      "text/plain": [
       "('../Learning Python',\n",
       " ['.pytest_cache', 'class_test', '__pycache__', 'import_test', 'dir1'],\n",
       " ['bom_ascii.txt',\n",
       "  'text_upper.txt',\n",
       "  'chapter35-36.ipynb',\n",
       "  'chapter10-13.ipynb',\n",
       "  'chapter15.ipynb',\n",
       "  'temp',\n",
       "  'chapter31.ipynb',\n",
       "  'datafile.shelve.db',\n",
       "  '.DS_Store',\n",
       "  'Chapter5-6.ipynb',\n",
       "  'text.log',\n",
       "  'chapter37.ipynb',\n",
       "  'classtool.py',\n",
       "  'chapter29.ipynb',\n",
       "  'bom_utf8.txt',\n",
       "  'chapter14.ipynb',\n",
       "  'chapter30.ipynb',\n",
       "  'chapter16-17.ipynb',\n",
       "  'timer.py',\n",
       "  'person.db.db',\n",
       "  'chapter21-25.ipynb',\n",
       "  'chapter32.ipynb',\n",
       "  'error.log',\n",
       "  'Certificate.html',\n",
       "  'chapter33-34.ipynb',\n",
       "  'listing.py',\n",
       "  'latindata',\n",
       "  'all.py',\n",
       "  'super.py',\n",
       "  'count_file.py',\n",
       "  'Certificate.txt',\n",
       "  'utfdata',\n",
       "  'timer2.py',\n",
       "  'chapter39_2.ipynb',\n",
       "  'chapter40.ipynb',\n",
       "  'chapter38.ipynb',\n",
       "  'temp.txt',\n",
       "  'showargs.py',\n",
       "  'chapter26-28.ipynb',\n",
       "  'reloadall2.py',\n",
       "  'formats.py',\n",
       "  'pizzashop.db.db',\n",
       "  'reloadall_copy.py',\n",
       "  'bom_utf16.txt',\n",
       "  'datafile.pkl',\n",
       "  'classtree.py',\n",
       "  'chapter38_2.ipynb',\n",
       "  'textjson.txt',\n",
       "  'chapter18.ipynb',\n",
       "  'myfile.txt',\n",
       "  'textfile.txt',\n",
       "  'strcut.bin',\n",
       "  'print.txt',\n",
       "  'my_import.py',\n",
       "  'chapter20.ipynb',\n",
       "  'chapter39_3.ipynb',\n",
       "  'reloadall.py',\n",
       "  'chapter39.ipynb',\n",
       "  'mapattrs.py',\n",
       "  'data',\n",
       "  'datafile.txt',\n",
       "  'data.bin',\n",
       "  'chapter19.ipynb',\n",
       "  'chapter32_2.ipynb',\n",
       "  'Chapter7-9.ipynb'])"
      ]
     },
     "execution_count": 71,
     "metadata": {},
     "output_type": "execute_result"
    }
   ],
   "execution_count": 71
  },
  {
   "metadata": {
    "ExecuteTime": {
     "end_time": "2024-07-08T02:19:41.985867Z",
     "start_time": "2024-07-08T02:19:41.983555Z"
    }
   },
   "cell_type": "code",
   "source": "next(G)",
   "id": "d5145010576c19fb",
   "outputs": [
    {
     "data": {
      "text/plain": [
       "('../Learning Python/.pytest_cache',\n",
       " ['v'],\n",
       " ['CACHEDIR.TAG', 'README.md', '.gitignore'])"
      ]
     },
     "execution_count": 72,
     "metadata": {},
     "output_type": "execute_result"
    }
   ],
   "execution_count": 72
  },
  {
   "metadata": {
    "ExecuteTime": {
     "end_time": "2024-07-08T02:19:42.092263Z",
     "start_time": "2024-07-08T02:19:42.090701Z"
    }
   },
   "cell_type": "code",
   "source": [
    "def f(a,b,c):\n",
    "    print(a,b,c)"
   ],
   "id": "3845c2ed3208964c",
   "outputs": [],
   "execution_count": 73
  },
  {
   "metadata": {
    "ExecuteTime": {
     "end_time": "2024-07-08T02:19:42.192385Z",
     "start_time": "2024-07-08T02:19:42.190524Z"
    }
   },
   "cell_type": "code",
   "source": "f(1,2,3)",
   "id": "a242f1ab7b8ac6c0",
   "outputs": [
    {
     "name": "stdout",
     "output_type": "stream",
     "text": [
      "1 2 3\n"
     ]
    }
   ],
   "execution_count": 74
  },
  {
   "metadata": {
    "ExecuteTime": {
     "end_time": "2024-07-08T02:19:42.272920Z",
     "start_time": "2024-07-08T02:19:42.270937Z"
    }
   },
   "cell_type": "code",
   "source": "f(*range(3))",
   "id": "76b71a6dcaf38fae",
   "outputs": [
    {
     "name": "stdout",
     "output_type": "stream",
     "text": [
      "0 1 2\n"
     ]
    }
   ],
   "execution_count": 75
  },
  {
   "metadata": {
    "ExecuteTime": {
     "end_time": "2024-07-08T02:19:42.387099Z",
     "start_time": "2024-07-08T02:19:42.384742Z"
    }
   },
   "cell_type": "code",
   "source": "f(*(x**2 for x in range(3)))",
   "id": "32da7c508bb0d821",
   "outputs": [
    {
     "name": "stdout",
     "output_type": "stream",
     "text": [
      "0 1 4\n"
     ]
    }
   ],
   "execution_count": 76
  },
  {
   "metadata": {
    "ExecuteTime": {
     "end_time": "2024-07-08T02:19:42.464684Z",
     "start_time": "2024-07-08T02:19:42.463006Z"
    }
   },
   "cell_type": "code",
   "source": [
    "def g(*arg):\n",
    "    print(arg)"
   ],
   "id": "c57ced5e8a830bb2",
   "outputs": [],
   "execution_count": 77
  },
  {
   "metadata": {
    "ExecuteTime": {
     "end_time": "2024-07-08T02:19:42.548560Z",
     "start_time": "2024-07-08T02:19:42.546616Z"
    }
   },
   "cell_type": "code",
   "source": "g(range(5))",
   "id": "179d696acc103fda",
   "outputs": [
    {
     "name": "stdout",
     "output_type": "stream",
     "text": [
      "(range(0, 5),)\n"
     ]
    }
   ],
   "execution_count": 78
  },
  {
   "metadata": {
    "ExecuteTime": {
     "end_time": "2024-07-08T02:19:42.614997Z",
     "start_time": "2024-07-08T02:19:42.613067Z"
    }
   },
   "cell_type": "code",
   "source": "g(*range(5))",
   "id": "4368c1e7d9b3d2cc",
   "outputs": [
    {
     "name": "stdout",
     "output_type": "stream",
     "text": [
      "(0, 1, 2, 3, 4)\n"
     ]
    }
   ],
   "execution_count": 79
  },
  {
   "metadata": {
    "ExecuteTime": {
     "end_time": "2024-07-08T02:19:42.694360Z",
     "start_time": "2024-07-08T02:19:42.692517Z"
    }
   },
   "cell_type": "code",
   "source": "L = [1,2,3,4,5]",
   "id": "4c3c8f6fad94206c",
   "outputs": [],
   "execution_count": 80
  },
  {
   "metadata": {
    "ExecuteTime": {
     "end_time": "2024-07-08T02:19:42.759Z",
     "start_time": "2024-07-08T02:19:42.756623Z"
    }
   },
   "cell_type": "code",
   "source": [
    "def shuffle_list_recursively(lst, index=0):\n",
    "    print(lst, index)\n",
    "    # 基准情况：当处理到列表最后一个元素时，结束递归\n",
    "    if index == len(lst) - 1:\n",
    "        return lst\n",
    "    \n",
    "    # 这里简单地尝试与后面的元素交换位置，实际\"随机性\"很弱\n",
    "    # 真实随机应依赖于不可预测的输入或算法，这里仅示范思路\n",
    "    swap_index = (index + 1) % len(lst)  # 确定一个简单的交换位置\n",
    "    lst[index], lst[swap_index] = lst[swap_index], lst[index]\n",
    "    \n",
    "    # 递归调用，处理下一个元素\n",
    "    return shuffle_list_recursively(lst, index + 1)\n",
    "\n",
    "# 示例\n",
    "my_list = [1, 2, 3, 4, 5]\n",
    "shuffled_list = shuffle_list_recursively(my_list)\n",
    "print(shuffled_list)\n"
   ],
   "id": "bba5315eca807e38",
   "outputs": [
    {
     "name": "stdout",
     "output_type": "stream",
     "text": [
      "[1, 2, 3, 4, 5] 0\n",
      "[2, 1, 3, 4, 5] 1\n",
      "[2, 3, 1, 4, 5] 2\n",
      "[2, 3, 4, 1, 5] 3\n",
      "[2, 3, 4, 5, 1] 4\n",
      "[2, 3, 4, 5, 1]\n"
     ]
    }
   ],
   "execution_count": 81
  },
  {
   "metadata": {
    "ExecuteTime": {
     "end_time": "2024-07-08T02:19:42.863124Z",
     "start_time": "2024-07-08T02:19:42.861005Z"
    }
   },
   "cell_type": "code",
   "source": "shuffle_list_recursively(L)",
   "id": "fbec3f5630f6e8cb",
   "outputs": [
    {
     "name": "stdout",
     "output_type": "stream",
     "text": [
      "[1, 2, 3, 4, 5] 0\n",
      "[2, 1, 3, 4, 5] 1\n",
      "[2, 3, 1, 4, 5] 2\n",
      "[2, 3, 4, 1, 5] 3\n",
      "[2, 3, 4, 5, 1] 4\n"
     ]
    },
    {
     "data": {
      "text/plain": [
       "[2, 3, 4, 5, 1]"
      ]
     },
     "execution_count": 82,
     "metadata": {},
     "output_type": "execute_result"
    }
   ],
   "execution_count": 82
  },
  {
   "metadata": {
    "ExecuteTime": {
     "end_time": "2024-07-08T02:19:42.920631Z",
     "start_time": "2024-07-08T02:19:42.918218Z"
    }
   },
   "cell_type": "code",
   "source": [
    "import time\n",
    "\n",
    "def pseudo_shuffle_list(lst):\n",
    "    # 使用时间戳的低几位作为“随机”种子，简单模拟随机性\n",
    "    seed = int(time.time() * 1000000) % len(lst)\n",
    "    \n",
    "    for i in range(len(lst)-1):\n",
    "        # 计算交换位置，这里简单使用当前索引和时间种子计算一个交换位置\n",
    "        # 注意：此方法并不产生良好的随机分布，仅作示例\n",
    "        swap_with = (i + seed) % len(lst)\n",
    "        # swap_with = i+1 % len(lst)\n",
    "        \n",
    "        # 交换元素\n",
    "        lst[i], lst[swap_with] = lst[swap_with], lst[i]\n",
    "    \n",
    "    return lst\n",
    "\n",
    "# 示例\n",
    "my_list = [1, 2, 3, 4, 5]\n",
    "shuffled_list = pseudo_shuffle_list(my_list)\n",
    "print(shuffled_list)\n"
   ],
   "id": "c132287d4e791da9",
   "outputs": [
    {
     "name": "stdout",
     "output_type": "stream",
     "text": [
      "[2, 3, 4, 5, 1]\n"
     ]
    }
   ],
   "execution_count": 83
  },
  {
   "metadata": {
    "ExecuteTime": {
     "end_time": "2024-07-08T02:19:43.024268Z",
     "start_time": "2024-07-08T02:19:43.022421Z"
    }
   },
   "cell_type": "code",
   "source": [
    "def scramble(seq):\n",
    "    for i in range(len(seq)):\n",
    "        yield seq[i:] + seq[:i]"
   ],
   "id": "10cad6b2251e2cff",
   "outputs": [],
   "execution_count": 84
  },
  {
   "metadata": {
    "ExecuteTime": {
     "end_time": "2024-07-08T02:19:43.066435Z",
     "start_time": "2024-07-08T02:19:43.064270Z"
    }
   },
   "cell_type": "code",
   "source": "list(scramble('abcdef'))",
   "id": "7fb554c40886ca68",
   "outputs": [
    {
     "data": {
      "text/plain": [
       "['abcdef', 'bcdefa', 'cdefab', 'defabc', 'efabcd', 'fabcde']"
      ]
     },
     "execution_count": 85,
     "metadata": {},
     "output_type": "execute_result"
    }
   ],
   "execution_count": 85
  },
  {
   "metadata": {
    "ExecuteTime": {
     "end_time": "2024-07-08T02:19:43.161472Z",
     "start_time": "2024-07-08T02:19:43.159301Z"
    }
   },
   "cell_type": "code",
   "source": [
    "def my_itinerary_shuffle(lst, index=0):\n",
    "    print(lst, index)\n",
    "    if index == len(lst) -1:\n",
    "        return lst\n",
    "    swap_index = (index+1)%len(lst)\n",
    "    lst[index], lst[swap_index] = lst[swap_index], lst[index]\n",
    "    return my_itinerary_shuffle(lst, index+1)"
   ],
   "id": "7d97ba9cebb380c3",
   "outputs": [],
   "execution_count": 86
  },
  {
   "metadata": {
    "ExecuteTime": {
     "end_time": "2024-07-08T02:19:43.201124Z",
     "start_time": "2024-07-08T02:19:43.198996Z"
    }
   },
   "cell_type": "code",
   "source": "my_itinerary_shuffle(L)",
   "id": "b08c49221102fba3",
   "outputs": [
    {
     "name": "stdout",
     "output_type": "stream",
     "text": [
      "[2, 3, 4, 5, 1] 0\n",
      "[3, 2, 4, 5, 1] 1\n",
      "[3, 4, 2, 5, 1] 2\n",
      "[3, 4, 5, 2, 1] 3\n",
      "[3, 4, 5, 1, 2] 4\n"
     ]
    },
    {
     "data": {
      "text/plain": [
       "[3, 4, 5, 1, 2]"
      ]
     },
     "execution_count": 87,
     "metadata": {},
     "output_type": "execute_result"
    }
   ],
   "execution_count": 87
  },
  {
   "metadata": {
    "ExecuteTime": {
     "end_time": "2024-07-08T02:19:43.308687Z",
     "start_time": "2024-07-08T02:19:43.306804Z"
    }
   },
   "cell_type": "code",
   "source": "L",
   "id": "87f6e3364ded7ebb",
   "outputs": [
    {
     "data": {
      "text/plain": [
       "[3, 4, 5, 1, 2]"
      ]
     },
     "execution_count": 88,
     "metadata": {},
     "output_type": "execute_result"
    }
   ],
   "execution_count": 88
  },
  {
   "metadata": {
    "ExecuteTime": {
     "end_time": "2024-07-08T02:19:43.349608Z",
     "start_time": "2024-07-08T02:19:43.348055Z"
    }
   },
   "cell_type": "code",
   "source": [
    "def scramble_2(lst):\n",
    "    return [lst[i:] + lst[:i] for i in range(len(lst))]"
   ],
   "id": "aa2ef4c8acdfe259",
   "outputs": [],
   "execution_count": 89
  },
  {
   "metadata": {
    "ExecuteTime": {
     "end_time": "2024-07-08T02:19:43.482593Z",
     "start_time": "2024-07-08T02:19:43.480480Z"
    }
   },
   "cell_type": "code",
   "source": "scramble_2(L)",
   "id": "bdf9dcf90058b4cf",
   "outputs": [
    {
     "data": {
      "text/plain": [
       "[[3, 4, 5, 1, 2],\n",
       " [4, 5, 1, 2, 3],\n",
       " [5, 1, 2, 3, 4],\n",
       " [1, 2, 3, 4, 5],\n",
       " [2, 3, 4, 5, 1]]"
      ]
     },
     "execution_count": 90,
     "metadata": {},
     "output_type": "execute_result"
    }
   ],
   "execution_count": 90
  },
  {
   "metadata": {
    "ExecuteTime": {
     "end_time": "2024-07-08T02:19:43.532483Z",
     "start_time": "2024-07-08T02:19:43.530630Z"
    }
   },
   "cell_type": "code",
   "source": [
    "def scramble_3(lst):\n",
    "    for i in range(len(lst)):\n",
    "        yield lst[i:] + lst[:i]"
   ],
   "id": "2981679df1128807",
   "outputs": [],
   "execution_count": 91
  },
  {
   "metadata": {
    "ExecuteTime": {
     "end_time": "2024-07-08T02:19:43.646203Z",
     "start_time": "2024-07-08T02:19:43.643958Z"
    }
   },
   "cell_type": "code",
   "source": "list(scramble_3(L))",
   "id": "938cc552ea779ea3",
   "outputs": [
    {
     "data": {
      "text/plain": [
       "[[3, 4, 5, 1, 2],\n",
       " [4, 5, 1, 2, 3],\n",
       " [5, 1, 2, 3, 4],\n",
       " [1, 2, 3, 4, 5],\n",
       " [2, 3, 4, 5, 1]]"
      ]
     },
     "execution_count": 92,
     "metadata": {},
     "output_type": "execute_result"
    }
   ],
   "execution_count": 92
  },
  {
   "metadata": {
    "ExecuteTime": {
     "end_time": "2024-07-08T02:19:43.682765Z",
     "start_time": "2024-07-08T02:19:43.680793Z"
    }
   },
   "cell_type": "code",
   "source": "list(scramble_3('spam'))",
   "id": "526e505d37c34fda",
   "outputs": [
    {
     "data": {
      "text/plain": [
       "['spam', 'pams', 'amsp', 'mspa']"
      ]
     },
     "execution_count": 93,
     "metadata": {},
     "output_type": "execute_result"
    }
   ],
   "execution_count": 93
  },
  {
   "metadata": {
    "ExecuteTime": {
     "end_time": "2024-07-08T02:19:43.762341Z",
     "start_time": "2024-07-08T02:19:43.760694Z"
    }
   },
   "cell_type": "code",
   "source": "G = (L[i:]+ L[:i] for i in range(len(L)))",
   "id": "ad9638d43e139484",
   "outputs": [],
   "execution_count": 94
  },
  {
   "metadata": {
    "ExecuteTime": {
     "end_time": "2024-07-08T02:19:43.805897Z",
     "start_time": "2024-07-08T02:19:43.803662Z"
    }
   },
   "cell_type": "code",
   "source": "G",
   "id": "1686a69c4ab957ed",
   "outputs": [
    {
     "data": {
      "text/plain": [
       "<generator object <genexpr> at 0x10ba742e0>"
      ]
     },
     "execution_count": 95,
     "metadata": {},
     "output_type": "execute_result"
    }
   ],
   "execution_count": 95
  },
  {
   "metadata": {
    "ExecuteTime": {
     "end_time": "2024-07-08T02:19:43.910589Z",
     "start_time": "2024-07-08T02:19:43.908369Z"
    }
   },
   "cell_type": "code",
   "source": "list(G)",
   "id": "535e160f5b48e0e1",
   "outputs": [
    {
     "data": {
      "text/plain": [
       "[[3, 4, 5, 1, 2],\n",
       " [4, 5, 1, 2, 3],\n",
       " [5, 1, 2, 3, 4],\n",
       " [1, 2, 3, 4, 5],\n",
       " [2, 3, 4, 5, 1]]"
      ]
     },
     "execution_count": 96,
     "metadata": {},
     "output_type": "execute_result"
    }
   ],
   "execution_count": 96
  },
  {
   "metadata": {
    "ExecuteTime": {
     "end_time": "2024-07-08T02:19:43.982645Z",
     "start_time": "2024-07-08T02:19:43.980907Z"
    }
   },
   "cell_type": "code",
   "source": "F = lambda lst: (lst[i:]+lst[:i] for i in range(len(lst)))",
   "id": "922845234743680d",
   "outputs": [],
   "execution_count": 97
  },
  {
   "metadata": {
    "ExecuteTime": {
     "end_time": "2024-07-08T02:19:44.092574Z",
     "start_time": "2024-07-08T02:19:44.090341Z"
    }
   },
   "cell_type": "code",
   "source": "F",
   "id": "e86e69c7609a8c3",
   "outputs": [
    {
     "data": {
      "text/plain": [
       "<function __main__.<lambda>(lst)>"
      ]
     },
     "execution_count": 98,
     "metadata": {},
     "output_type": "execute_result"
    }
   ],
   "execution_count": 98
  },
  {
   "metadata": {
    "ExecuteTime": {
     "end_time": "2024-07-08T02:19:44.140940Z",
     "start_time": "2024-07-08T02:19:44.138921Z"
    }
   },
   "cell_type": "code",
   "source": [
    "G = F(L)\n",
    "G"
   ],
   "id": "173181b89ece1dfb",
   "outputs": [
    {
     "data": {
      "text/plain": [
       "<generator object <lambda>.<locals>.<genexpr> at 0x10ba33f10>"
      ]
     },
     "execution_count": 99,
     "metadata": {},
     "output_type": "execute_result"
    }
   ],
   "execution_count": 99
  },
  {
   "metadata": {
    "ExecuteTime": {
     "end_time": "2024-07-08T02:19:44.221192Z",
     "start_time": "2024-07-08T02:19:44.219217Z"
    }
   },
   "cell_type": "code",
   "source": "iter(G) is G",
   "id": "d95e60e9652b3a8d",
   "outputs": [
    {
     "data": {
      "text/plain": [
       "True"
      ]
     },
     "execution_count": 100,
     "metadata": {},
     "output_type": "execute_result"
    }
   ],
   "execution_count": 100
  },
  {
   "metadata": {
    "ExecuteTime": {
     "end_time": "2024-07-08T02:19:44.264924Z",
     "start_time": "2024-07-08T02:19:44.262322Z"
    }
   },
   "cell_type": "code",
   "source": "list(G)",
   "id": "fcc9491d09d8391d",
   "outputs": [
    {
     "data": {
      "text/plain": [
       "[[3, 4, 5, 1, 2],\n",
       " [4, 5, 1, 2, 3],\n",
       " [5, 1, 2, 3, 4],\n",
       " [1, 2, 3, 4, 5],\n",
       " [2, 3, 4, 5, 1]]"
      ]
     },
     "execution_count": 101,
     "metadata": {},
     "output_type": "execute_result"
    }
   ],
   "execution_count": 101
  },
  {
   "metadata": {
    "ExecuteTime": {
     "end_time": "2024-07-08T02:19:44.366592Z",
     "start_time": "2024-07-08T02:19:44.363849Z"
    }
   },
   "cell_type": "code",
   "source": "set((1,2,3)).union((4,5,6)).union((7,8,9))",
   "id": "a5b58d4f2aed40f3",
   "outputs": [
    {
     "data": {
      "text/plain": [
       "{1, 2, 3, 4, 5, 6, 7, 8, 9}"
      ]
     },
     "execution_count": 102,
     "metadata": {},
     "output_type": "execute_result"
    }
   ],
   "execution_count": 102
  },
  {
   "metadata": {
    "ExecuteTime": {
     "end_time": "2024-07-08T02:19:44.420429Z",
     "start_time": "2024-07-08T02:19:44.418150Z"
    }
   },
   "cell_type": "code",
   "source": "set('spam').intersection('ham')",
   "id": "d419399e945a97ba",
   "outputs": [
    {
     "data": {
      "text/plain": [
       "{'a', 'm'}"
      ]
     },
     "execution_count": 103,
     "metadata": {},
     "output_type": "execute_result"
    }
   ],
   "execution_count": 103
  },
  {
   "metadata": {
    "ExecuteTime": {
     "end_time": "2024-07-08T02:19:44.569550Z",
     "start_time": "2024-07-08T02:19:44.567525Z"
    }
   },
   "cell_type": "code",
   "source": "set('spam') & set('ham')",
   "id": "49300e21f0cdae3c",
   "outputs": [
    {
     "data": {
      "text/plain": [
       "{'a', 'm'}"
      ]
     },
     "execution_count": 104,
     "metadata": {},
     "output_type": "execute_result"
    }
   ],
   "execution_count": 104
  },
  {
   "metadata": {
    "ExecuteTime": {
     "end_time": "2024-07-08T02:19:44.641332Z",
     "start_time": "2024-07-08T02:19:44.638381Z"
    }
   },
   "cell_type": "code",
   "source": "set((1,2,3)) | set((4,5,1))",
   "id": "893480ddd744756",
   "outputs": [
    {
     "data": {
      "text/plain": [
       "{1, 2, 3, 4, 5}"
      ]
     },
     "execution_count": 105,
     "metadata": {},
     "output_type": "execute_result"
    }
   ],
   "execution_count": 105
  },
  {
   "metadata": {},
   "cell_type": "markdown",
   "source": "# 全排列",
   "id": "fbcb2ae62f2c6476"
  },
  {
   "metadata": {
    "ExecuteTime": {
     "end_time": "2024-07-08T02:19:44.745829Z",
     "start_time": "2024-07-08T02:19:44.743462Z"
    }
   },
   "cell_type": "code",
   "source": [
    "def permute1(seq):\n",
    "    if not seq:\n",
    "        # 直接返回一个只包含这个空序列的列表。这是因为空序列的排列组合只有一个，即它自身\n",
    "        print(f'Empty {seq=}')\n",
    "        return [seq]\n",
    "    else:\n",
    "        rec = []\n",
    "        for i in range(len(seq)):\n",
    "            # rest是去掉当前元素seq[i]后剩余的部分\n",
    "            rest = seq[:i] + seq[i+1:]\n",
    "            print(f'{i=}, {seq=}, {rest=}, {rec=}')\n",
    "            for x in permute1(rest):\n",
    "                # 将当前元素seq[i]添加到每个排列x的前面，形成新的排列，并将这些新排列追加到列表rec中\n",
    "                rec.append(seq[i:i+1]+x)\n",
    "                print(f'{i=}, {seq=}, {rest=}, {x=}, {rec=}')\n",
    "        return rec"
   ],
   "id": "5c632ff6e30906e1",
   "outputs": [],
   "execution_count": 106
  },
  {
   "metadata": {
    "ExecuteTime": {
     "end_time": "2024-07-08T02:19:44.786030Z",
     "start_time": "2024-07-08T02:19:44.783838Z"
    }
   },
   "cell_type": "code",
   "source": "permute1('abc')",
   "id": "d1141eeb04ffb464",
   "outputs": [
    {
     "name": "stdout",
     "output_type": "stream",
     "text": [
      "i=0, seq='abc', rest='bc', rec=[]\n",
      "i=0, seq='bc', rest='c', rec=[]\n",
      "i=0, seq='c', rest='', rec=[]\n",
      "Empty seq=''\n",
      "i=0, seq='c', rest='', x='', rec=['c']\n",
      "i=0, seq='bc', rest='c', x='c', rec=['bc']\n",
      "i=1, seq='bc', rest='b', rec=['bc']\n",
      "i=0, seq='b', rest='', rec=[]\n",
      "Empty seq=''\n",
      "i=0, seq='b', rest='', x='', rec=['b']\n",
      "i=1, seq='bc', rest='b', x='b', rec=['bc', 'cb']\n",
      "i=0, seq='abc', rest='bc', x='bc', rec=['abc']\n",
      "i=0, seq='abc', rest='bc', x='cb', rec=['abc', 'acb']\n",
      "i=1, seq='abc', rest='ac', rec=['abc', 'acb']\n",
      "i=0, seq='ac', rest='c', rec=[]\n",
      "i=0, seq='c', rest='', rec=[]\n",
      "Empty seq=''\n",
      "i=0, seq='c', rest='', x='', rec=['c']\n",
      "i=0, seq='ac', rest='c', x='c', rec=['ac']\n",
      "i=1, seq='ac', rest='a', rec=['ac']\n",
      "i=0, seq='a', rest='', rec=[]\n",
      "Empty seq=''\n",
      "i=0, seq='a', rest='', x='', rec=['a']\n",
      "i=1, seq='ac', rest='a', x='a', rec=['ac', 'ca']\n",
      "i=1, seq='abc', rest='ac', x='ac', rec=['abc', 'acb', 'bac']\n",
      "i=1, seq='abc', rest='ac', x='ca', rec=['abc', 'acb', 'bac', 'bca']\n",
      "i=2, seq='abc', rest='ab', rec=['abc', 'acb', 'bac', 'bca']\n",
      "i=0, seq='ab', rest='b', rec=[]\n",
      "i=0, seq='b', rest='', rec=[]\n",
      "Empty seq=''\n",
      "i=0, seq='b', rest='', x='', rec=['b']\n",
      "i=0, seq='ab', rest='b', x='b', rec=['ab']\n",
      "i=1, seq='ab', rest='a', rec=['ab']\n",
      "i=0, seq='a', rest='', rec=[]\n",
      "Empty seq=''\n",
      "i=0, seq='a', rest='', x='', rec=['a']\n",
      "i=1, seq='ab', rest='a', x='a', rec=['ab', 'ba']\n",
      "i=2, seq='abc', rest='ab', x='ab', rec=['abc', 'acb', 'bac', 'bca', 'cab']\n",
      "i=2, seq='abc', rest='ab', x='ba', rec=['abc', 'acb', 'bac', 'bca', 'cab', 'cba']\n"
     ]
    },
    {
     "data": {
      "text/plain": [
       "['abc', 'acb', 'bac', 'bca', 'cab', 'cba']"
      ]
     },
     "execution_count": 107,
     "metadata": {},
     "output_type": "execute_result"
    }
   ],
   "execution_count": 107
  },
  {
   "metadata": {
    "ExecuteTime": {
     "end_time": "2024-07-08T02:19:44.870997Z",
     "start_time": "2024-07-08T02:19:44.869121Z"
    }
   },
   "cell_type": "code",
   "source": [
    "L = [1,2,3]\n",
    "L[2:3]+[4]"
   ],
   "id": "300e18e66b6b470d",
   "outputs": [
    {
     "data": {
      "text/plain": [
       "[3, 4]"
      ]
     },
     "execution_count": 108,
     "metadata": {},
     "output_type": "execute_result"
    }
   ],
   "execution_count": 108
  },
  {
   "metadata": {
    "ExecuteTime": {
     "end_time": "2024-07-08T02:19:44.918031Z",
     "start_time": "2024-07-08T02:19:44.916279Z"
    }
   },
   "cell_type": "code",
   "source": [
    "for x in ['']:\n",
    "    print(x,1)"
   ],
   "id": "bfc5e13cf9ab16fa",
   "outputs": [
    {
     "name": "stdout",
     "output_type": "stream",
     "text": [
      " 1\n"
     ]
    }
   ],
   "execution_count": 109
  },
  {
   "metadata": {
    "ExecuteTime": {
     "end_time": "2024-07-08T02:19:45.036329Z",
     "start_time": "2024-07-08T02:19:45.034093Z"
    }
   },
   "cell_type": "code",
   "source": [
    "def permute2(seq):\n",
    "    \"\"\"\n",
    "    生成给定序列的所有不重复排列。\n",
    "    \n",
    "    参数:\n",
    "    seq (list): 输入的序列列表。\n",
    "    \n",
    "    生成器返回:\n",
    "    list: 输入序列的一个排列。\n",
    "    \"\"\"\n",
    "    # 当序列为空时，返回空序列作为唯一排列\n",
    "    if not seq:\n",
    "        yield seq\n",
    "    else:\n",
    "        # 遍历序列中的每个元素\n",
    "        for i in range(len(seq)):\n",
    "            # 构建剩余部分的序列\n",
    "            rest = seq[:i] + seq[i+1:]\n",
    "            # 递归生成剩余部分的所有排列\n",
    "            for x in permute2(rest):\n",
    "                # 将当前元素插入到每个剩余排列的前面，生成新的排列\n",
    "                yield seq[i:i+1]+x\n"
   ],
   "id": "4dea3c055a539eda",
   "outputs": [],
   "execution_count": 110
  },
  {
   "metadata": {
    "ExecuteTime": {
     "end_time": "2024-07-08T02:19:45.106455Z",
     "start_time": "2024-07-08T02:19:45.104205Z"
    }
   },
   "cell_type": "code",
   "source": "permute2('abc')",
   "id": "5730afdbe6343b21",
   "outputs": [
    {
     "data": {
      "text/plain": [
       "<generator object permute2 at 0x10b999d40>"
      ]
     },
     "execution_count": 111,
     "metadata": {},
     "output_type": "execute_result"
    }
   ],
   "execution_count": 111
  },
  {
   "metadata": {
    "ExecuteTime": {
     "end_time": "2024-07-08T02:19:45.197369Z",
     "start_time": "2024-07-08T02:19:45.195089Z"
    }
   },
   "cell_type": "code",
   "source": "list(permute2('abc'))",
   "id": "98c61b9941c47814",
   "outputs": [
    {
     "data": {
      "text/plain": [
       "['abc', 'acb', 'bac', 'bca', 'cab', 'cba']"
      ]
     },
     "execution_count": 112,
     "metadata": {},
     "output_type": "execute_result"
    }
   ],
   "execution_count": 112
  },
  {
   "metadata": {
    "ExecuteTime": {
     "end_time": "2024-07-08T02:19:45.267277Z",
     "start_time": "2024-07-08T02:19:45.265349Z"
    }
   },
   "cell_type": "code",
   "source": "list(permute2([]))",
   "id": "18ad9edc8008515d",
   "outputs": [
    {
     "data": {
      "text/plain": [
       "[[]]"
      ]
     },
     "execution_count": 113,
     "metadata": {},
     "output_type": "execute_result"
    }
   ],
   "execution_count": 113
  },
  {
   "metadata": {
    "ExecuteTime": {
     "end_time": "2024-07-08T02:19:45.372699Z",
     "start_time": "2024-07-08T02:19:45.370298Z"
    }
   },
   "cell_type": "code",
   "source": "permute1([])",
   "id": "a6c2f5da6f97c5c6",
   "outputs": [
    {
     "name": "stdout",
     "output_type": "stream",
     "text": [
      "Empty seq=[]\n"
     ]
    },
    {
     "data": {
      "text/plain": [
       "[[]]"
      ]
     },
     "execution_count": 114,
     "metadata": {},
     "output_type": "execute_result"
    }
   ],
   "execution_count": 114
  },
  {
   "metadata": {
    "ExecuteTime": {
     "end_time": "2024-07-08T02:19:45.448638Z",
     "start_time": "2024-07-08T02:19:45.445869Z"
    }
   },
   "cell_type": "code",
   "source": "permute1([1,2,3])",
   "id": "f003158da29828f9",
   "outputs": [
    {
     "name": "stdout",
     "output_type": "stream",
     "text": [
      "i=0, seq=[1, 2, 3], rest=[2, 3], rec=[]\n",
      "i=0, seq=[2, 3], rest=[3], rec=[]\n",
      "i=0, seq=[3], rest=[], rec=[]\n",
      "Empty seq=[]\n",
      "i=0, seq=[3], rest=[], x=[], rec=[[3]]\n",
      "i=0, seq=[2, 3], rest=[3], x=[3], rec=[[2, 3]]\n",
      "i=1, seq=[2, 3], rest=[2], rec=[[2, 3]]\n",
      "i=0, seq=[2], rest=[], rec=[]\n",
      "Empty seq=[]\n",
      "i=0, seq=[2], rest=[], x=[], rec=[[2]]\n",
      "i=1, seq=[2, 3], rest=[2], x=[2], rec=[[2, 3], [3, 2]]\n",
      "i=0, seq=[1, 2, 3], rest=[2, 3], x=[2, 3], rec=[[1, 2, 3]]\n",
      "i=0, seq=[1, 2, 3], rest=[2, 3], x=[3, 2], rec=[[1, 2, 3], [1, 3, 2]]\n",
      "i=1, seq=[1, 2, 3], rest=[1, 3], rec=[[1, 2, 3], [1, 3, 2]]\n",
      "i=0, seq=[1, 3], rest=[3], rec=[]\n",
      "i=0, seq=[3], rest=[], rec=[]\n",
      "Empty seq=[]\n",
      "i=0, seq=[3], rest=[], x=[], rec=[[3]]\n",
      "i=0, seq=[1, 3], rest=[3], x=[3], rec=[[1, 3]]\n",
      "i=1, seq=[1, 3], rest=[1], rec=[[1, 3]]\n",
      "i=0, seq=[1], rest=[], rec=[]\n",
      "Empty seq=[]\n",
      "i=0, seq=[1], rest=[], x=[], rec=[[1]]\n",
      "i=1, seq=[1, 3], rest=[1], x=[1], rec=[[1, 3], [3, 1]]\n",
      "i=1, seq=[1, 2, 3], rest=[1, 3], x=[1, 3], rec=[[1, 2, 3], [1, 3, 2], [2, 1, 3]]\n",
      "i=1, seq=[1, 2, 3], rest=[1, 3], x=[3, 1], rec=[[1, 2, 3], [1, 3, 2], [2, 1, 3], [2, 3, 1]]\n",
      "i=2, seq=[1, 2, 3], rest=[1, 2], rec=[[1, 2, 3], [1, 3, 2], [2, 1, 3], [2, 3, 1]]\n",
      "i=0, seq=[1, 2], rest=[2], rec=[]\n",
      "i=0, seq=[2], rest=[], rec=[]\n",
      "Empty seq=[]\n",
      "i=0, seq=[2], rest=[], x=[], rec=[[2]]\n",
      "i=0, seq=[1, 2], rest=[2], x=[2], rec=[[1, 2]]\n",
      "i=1, seq=[1, 2], rest=[1], rec=[[1, 2]]\n",
      "i=0, seq=[1], rest=[], rec=[]\n",
      "Empty seq=[]\n",
      "i=0, seq=[1], rest=[], x=[], rec=[[1]]\n",
      "i=1, seq=[1, 2], rest=[1], x=[1], rec=[[1, 2], [2, 1]]\n",
      "i=2, seq=[1, 2, 3], rest=[1, 2], x=[1, 2], rec=[[1, 2, 3], [1, 3, 2], [2, 1, 3], [2, 3, 1], [3, 1, 2]]\n",
      "i=2, seq=[1, 2, 3], rest=[1, 2], x=[2, 1], rec=[[1, 2, 3], [1, 3, 2], [2, 1, 3], [2, 3, 1], [3, 1, 2], [3, 2, 1]]\n"
     ]
    },
    {
     "data": {
      "text/plain": [
       "[[1, 2, 3], [1, 3, 2], [2, 1, 3], [2, 3, 1], [3, 1, 2], [3, 2, 1]]"
      ]
     },
     "execution_count": 115,
     "metadata": {},
     "output_type": "execute_result"
    }
   ],
   "execution_count": 115
  },
  {
   "metadata": {
    "ExecuteTime": {
     "end_time": "2024-07-08T02:19:45.568414Z",
     "start_time": "2024-07-08T02:19:45.565567Z"
    }
   },
   "cell_type": "code",
   "source": [
    "indent = 1\n",
    "def permute3(seq):\n",
    "    global indent\n",
    "    print('\\t'*indent + f'第{indent}次迭代'.center(40,'-'))\n",
    "    if not seq:\n",
    "        # 直接返回一个只包含这个空序列的列表。这是因为空序列的排列组合只有一个，即它自身\n",
    "        print('\\t'*indent + f'Empty {seq=}')\n",
    "        # print('\\t'*indent + f'第{indent}次迭代结束'.center(40,'-'))\n",
    "        return [seq]\n",
    "    else:\n",
    "        rec = []\n",
    "        for i in range(len(seq)):\n",
    "            indent +=1\n",
    "\n",
    "            # rest是去掉当前元素seq[i]后剩余的部分\n",
    "            rest = seq[:i] + seq[i+1:]\n",
    "            print('\\t'*indent +f'{i=}, {seq=}, {rest=}, {rec=}')\n",
    "            for x in permute3(rest):\n",
    "                # 将当前元素seq[i]添加到每个排列x的前面，形成新的排列，并将这些新排列追加到列表rec中\n",
    "                rec.append(seq[i:i+1]+x)\n",
    "                print('\\t'*indent + f'{i=}, {seq=}, {seq[i:i+1]+x=}, {rest=}, {x=}, {rec=}')\n",
    "            print('\\t'*indent + f'第{indent}次迭代结束'.center(40,'-'))\n",
    "            indent -=1\n",
    "        return rec"
   ],
   "id": "bcdff5d7810e7448",
   "outputs": [],
   "execution_count": 116
  },
  {
   "metadata": {
    "ExecuteTime": {
     "end_time": "2024-07-08T02:19:45.619676Z",
     "start_time": "2024-07-08T02:19:45.616983Z"
    }
   },
   "cell_type": "code",
   "source": "permute3('abc')",
   "id": "dcc60b098b738b51",
   "outputs": [
    {
     "name": "stdout",
     "output_type": "stream",
     "text": [
      "\t-----------------第1次迭代------------------\n",
      "\t\ti=0, seq='abc', rest='bc', rec=[]\n",
      "\t\t-----------------第2次迭代------------------\n",
      "\t\t\ti=0, seq='bc', rest='c', rec=[]\n",
      "\t\t\t-----------------第3次迭代------------------\n",
      "\t\t\t\ti=0, seq='c', rest='', rec=[]\n",
      "\t\t\t\t-----------------第4次迭代------------------\n",
      "\t\t\t\tEmpty seq=''\n",
      "\t\t\t\ti=0, seq='c', seq[i:i+1]+x='c', rest='', x='', rec=['c']\n",
      "\t\t\t\t----------------第4次迭代结束-----------------\n",
      "\t\t\ti=0, seq='bc', seq[i:i+1]+x='bc', rest='c', x='c', rec=['bc']\n",
      "\t\t\t----------------第3次迭代结束-----------------\n",
      "\t\t\ti=1, seq='bc', rest='b', rec=['bc']\n",
      "\t\t\t-----------------第3次迭代------------------\n",
      "\t\t\t\ti=0, seq='b', rest='', rec=[]\n",
      "\t\t\t\t-----------------第4次迭代------------------\n",
      "\t\t\t\tEmpty seq=''\n",
      "\t\t\t\ti=0, seq='b', seq[i:i+1]+x='b', rest='', x='', rec=['b']\n",
      "\t\t\t\t----------------第4次迭代结束-----------------\n",
      "\t\t\ti=1, seq='bc', seq[i:i+1]+x='cb', rest='b', x='b', rec=['bc', 'cb']\n",
      "\t\t\t----------------第3次迭代结束-----------------\n",
      "\t\ti=0, seq='abc', seq[i:i+1]+x='abc', rest='bc', x='bc', rec=['abc']\n",
      "\t\ti=0, seq='abc', seq[i:i+1]+x='acb', rest='bc', x='cb', rec=['abc', 'acb']\n",
      "\t\t----------------第2次迭代结束-----------------\n",
      "\t\ti=1, seq='abc', rest='ac', rec=['abc', 'acb']\n",
      "\t\t-----------------第2次迭代------------------\n",
      "\t\t\ti=0, seq='ac', rest='c', rec=[]\n",
      "\t\t\t-----------------第3次迭代------------------\n",
      "\t\t\t\ti=0, seq='c', rest='', rec=[]\n",
      "\t\t\t\t-----------------第4次迭代------------------\n",
      "\t\t\t\tEmpty seq=''\n",
      "\t\t\t\ti=0, seq='c', seq[i:i+1]+x='c', rest='', x='', rec=['c']\n",
      "\t\t\t\t----------------第4次迭代结束-----------------\n",
      "\t\t\ti=0, seq='ac', seq[i:i+1]+x='ac', rest='c', x='c', rec=['ac']\n",
      "\t\t\t----------------第3次迭代结束-----------------\n",
      "\t\t\ti=1, seq='ac', rest='a', rec=['ac']\n",
      "\t\t\t-----------------第3次迭代------------------\n",
      "\t\t\t\ti=0, seq='a', rest='', rec=[]\n",
      "\t\t\t\t-----------------第4次迭代------------------\n",
      "\t\t\t\tEmpty seq=''\n",
      "\t\t\t\ti=0, seq='a', seq[i:i+1]+x='a', rest='', x='', rec=['a']\n",
      "\t\t\t\t----------------第4次迭代结束-----------------\n",
      "\t\t\ti=1, seq='ac', seq[i:i+1]+x='ca', rest='a', x='a', rec=['ac', 'ca']\n",
      "\t\t\t----------------第3次迭代结束-----------------\n",
      "\t\ti=1, seq='abc', seq[i:i+1]+x='bac', rest='ac', x='ac', rec=['abc', 'acb', 'bac']\n",
      "\t\ti=1, seq='abc', seq[i:i+1]+x='bca', rest='ac', x='ca', rec=['abc', 'acb', 'bac', 'bca']\n",
      "\t\t----------------第2次迭代结束-----------------\n",
      "\t\ti=2, seq='abc', rest='ab', rec=['abc', 'acb', 'bac', 'bca']\n",
      "\t\t-----------------第2次迭代------------------\n",
      "\t\t\ti=0, seq='ab', rest='b', rec=[]\n",
      "\t\t\t-----------------第3次迭代------------------\n",
      "\t\t\t\ti=0, seq='b', rest='', rec=[]\n",
      "\t\t\t\t-----------------第4次迭代------------------\n",
      "\t\t\t\tEmpty seq=''\n",
      "\t\t\t\ti=0, seq='b', seq[i:i+1]+x='b', rest='', x='', rec=['b']\n",
      "\t\t\t\t----------------第4次迭代结束-----------------\n",
      "\t\t\ti=0, seq='ab', seq[i:i+1]+x='ab', rest='b', x='b', rec=['ab']\n",
      "\t\t\t----------------第3次迭代结束-----------------\n",
      "\t\t\ti=1, seq='ab', rest='a', rec=['ab']\n",
      "\t\t\t-----------------第3次迭代------------------\n",
      "\t\t\t\ti=0, seq='a', rest='', rec=[]\n",
      "\t\t\t\t-----------------第4次迭代------------------\n",
      "\t\t\t\tEmpty seq=''\n",
      "\t\t\t\ti=0, seq='a', seq[i:i+1]+x='a', rest='', x='', rec=['a']\n",
      "\t\t\t\t----------------第4次迭代结束-----------------\n",
      "\t\t\ti=1, seq='ab', seq[i:i+1]+x='ba', rest='a', x='a', rec=['ab', 'ba']\n",
      "\t\t\t----------------第3次迭代结束-----------------\n",
      "\t\ti=2, seq='abc', seq[i:i+1]+x='cab', rest='ab', x='ab', rec=['abc', 'acb', 'bac', 'bca', 'cab']\n",
      "\t\ti=2, seq='abc', seq[i:i+1]+x='cba', rest='ab', x='ba', rec=['abc', 'acb', 'bac', 'bca', 'cab', 'cba']\n",
      "\t\t----------------第2次迭代结束-----------------\n"
     ]
    },
    {
     "data": {
      "text/plain": [
       "['abc', 'acb', 'bac', 'bca', 'cab', 'cba']"
      ]
     },
     "execution_count": 117,
     "metadata": {},
     "output_type": "execute_result"
    }
   ],
   "execution_count": 117
  },
  {
   "metadata": {
    "ExecuteTime": {
     "end_time": "2024-07-08T02:19:45.711800Z",
     "start_time": "2024-07-08T02:19:45.709665Z"
    }
   },
   "cell_type": "code",
   "source": "permute3('ab')",
   "id": "128654d327a04fc1",
   "outputs": [
    {
     "name": "stdout",
     "output_type": "stream",
     "text": [
      "\t-----------------第1次迭代------------------\n",
      "\t\ti=0, seq='ab', rest='b', rec=[]\n",
      "\t\t-----------------第2次迭代------------------\n",
      "\t\t\ti=0, seq='b', rest='', rec=[]\n",
      "\t\t\t-----------------第3次迭代------------------\n",
      "\t\t\tEmpty seq=''\n",
      "\t\t\ti=0, seq='b', seq[i:i+1]+x='b', rest='', x='', rec=['b']\n",
      "\t\t\t----------------第3次迭代结束-----------------\n",
      "\t\ti=0, seq='ab', seq[i:i+1]+x='ab', rest='b', x='b', rec=['ab']\n",
      "\t\t----------------第2次迭代结束-----------------\n",
      "\t\ti=1, seq='ab', rest='a', rec=['ab']\n",
      "\t\t-----------------第2次迭代------------------\n",
      "\t\t\ti=0, seq='a', rest='', rec=[]\n",
      "\t\t\t-----------------第3次迭代------------------\n",
      "\t\t\tEmpty seq=''\n",
      "\t\t\ti=0, seq='a', seq[i:i+1]+x='a', rest='', x='', rec=['a']\n",
      "\t\t\t----------------第3次迭代结束-----------------\n",
      "\t\ti=1, seq='ab', seq[i:i+1]+x='ba', rest='a', x='a', rec=['ab', 'ba']\n",
      "\t\t----------------第2次迭代结束-----------------\n"
     ]
    },
    {
     "data": {
      "text/plain": [
       "['ab', 'ba']"
      ]
     },
     "execution_count": 118,
     "metadata": {},
     "output_type": "execute_result"
    }
   ],
   "execution_count": 118
  },
  {
   "metadata": {
    "ExecuteTime": {
     "end_time": "2024-07-08T02:19:45.745234Z",
     "start_time": "2024-07-08T02:19:45.742798Z"
    }
   },
   "cell_type": "code",
   "source": [
    "def permute2_non_recursive(seq):\n",
    "    \"\"\"\n",
    "    使用非递归方式生成序列的所有排列。\n",
    "    \n",
    "    参数:\n",
    "    seq (list): 输入的序列列表。\n",
    "    \n",
    "    返回:\n",
    "    list: 包含所有排列的列表。\n",
    "    \"\"\"\n",
    "    \"\"\"\n",
    "    非递归方式生成给定序列的所有不重复排列。\n",
    "    \n",
    "    参数:\n",
    "    seq (list): 输入的序列列表。\n",
    "    \n",
    "    返回:\n",
    "    list of list: 输入序列的所有排列组成的列表。\n",
    "    \"\"\"\n",
    "    # 当序列为空时，返回包含空序列的列表\n",
    "    if not seq:\n",
    "        return [seq]\n",
    "    \n",
    "    result = []  # 用于存储所有排列的结果列表\n",
    "    stack = [(seq, 0)]  # 初始化栈，包含初始序列及其索引\n",
    "    \n",
    "    # 循环直到栈为空\n",
    "    while stack:\n",
    "        current_seq, index = stack.pop()  # 弹出栈顶元素，当前序列及其索引\n",
    "        # 如果索引等于序列长度，说明当前序列是一个完整的排列\n",
    "        if index == len(current_seq):\n",
    "            result.append(current_seq.copy())\n",
    "        else:\n",
    "            # 遍历当前序列中索引之后的元素，进行交换以生成新的排列\n",
    "            for i in range(index, len(current_seq)):\n",
    "                # 交换元素\n",
    "                # 交换元素以生成新的排列\n",
    "                current_seq[index], current_seq[i] = current_seq[i], current_seq[index]\n",
    "                # 将交换后的序列及下一个待处理的索引压入栈中\n",
    "                # 将交换后的序列和下一个待交换的位置压入栈中\n",
    "                stack.append((current_seq.copy(), index + 1))\n",
    "    \n",
    "    return result\n"
   ],
   "id": "a592f936c6816353",
   "outputs": [],
   "execution_count": 119
  },
  {
   "metadata": {
    "ExecuteTime": {
     "end_time": "2024-07-08T02:19:45.856675Z",
     "start_time": "2024-07-08T02:19:45.854312Z"
    }
   },
   "cell_type": "code",
   "source": "permute2_non_recursive([1,2,3])",
   "id": "b8b7e523a88a3948",
   "outputs": [
    {
     "data": {
      "text/plain": [
       "[[3, 2, 1], [3, 1, 2], [2, 3, 1], [2, 1, 3], [1, 3, 2], [1, 2, 3]]"
      ]
     },
     "execution_count": 120,
     "metadata": {},
     "output_type": "execute_result"
    }
   ],
   "execution_count": 120
  },
  {
   "metadata": {
    "ExecuteTime": {
     "end_time": "2024-07-08T02:19:45.902532Z",
     "start_time": "2024-07-08T02:19:45.899969Z"
    }
   },
   "cell_type": "code",
   "source": [
    "def permute3_non_recursive(seq):\n",
    "    \"\"\"\n",
    "    非递归方式生成给定序列的所有不重复排列。\n",
    "    \n",
    "    参数:\n",
    "    seq (list): 输入的序列列表。\n",
    "    \n",
    "    返回:\n",
    "    list of list: 输入序列的所有排列组成的列表。\n",
    "    \"\"\"\n",
    "    if not seq:\n",
    "        yield [seq]\n",
    "    \n",
    "    result = []\n",
    "    stack = [(seq, 0)]\n",
    "    \n",
    "    while stack:\n",
    "        current_seq, index = stack.pop()\n",
    "        if index == len(current_seq):\n",
    "            result.append(current_seq.copy())\n",
    "        else:\n",
    "            for i in range(index, len(current_seq)):\n",
    "                # 交换元素以生成新的排列\n",
    "                current_seq[index], current_seq[i] = current_seq[i], current_seq[index]\n",
    "                # 将交换后的序列和下一个待交换的位置压入栈中\n",
    "                stack.append((current_seq.copy(), index + 1))\n",
    "    \n",
    "    yield result\n"
   ],
   "id": "30b002ac0500cb4a",
   "outputs": [],
   "execution_count": 121
  },
  {
   "metadata": {
    "ExecuteTime": {
     "end_time": "2024-07-08T02:19:45.995670Z",
     "start_time": "2024-07-08T02:19:45.993631Z"
    }
   },
   "cell_type": "code",
   "source": "permute3_non_recursive([1,2,3])",
   "id": "2057a072f396dab3",
   "outputs": [
    {
     "data": {
      "text/plain": [
       "<generator object permute3_non_recursive at 0x10ac47ab0>"
      ]
     },
     "execution_count": 122,
     "metadata": {},
     "output_type": "execute_result"
    }
   ],
   "execution_count": 122
  },
  {
   "metadata": {
    "ExecuteTime": {
     "end_time": "2024-07-08T02:19:46.081242Z",
     "start_time": "2024-07-08T02:19:46.078933Z"
    }
   },
   "cell_type": "code",
   "source": "list(permute3_non_recursive([1,2,3]))",
   "id": "c1f9f513ab412120",
   "outputs": [
    {
     "data": {
      "text/plain": [
       "[[[3, 2, 1], [3, 1, 2], [2, 3, 1], [2, 1, 3], [1, 3, 2], [1, 2, 3]]]"
      ]
     },
     "execution_count": 123,
     "metadata": {},
     "output_type": "execute_result"
    }
   ],
   "execution_count": 123
  },
  {
   "metadata": {
    "ExecuteTime": {
     "end_time": "2024-07-08T02:19:46.162092Z",
     "start_time": "2024-07-08T02:19:46.159893Z"
    }
   },
   "cell_type": "code",
   "source": "list(map(abs, [1,2,3,-4]))",
   "id": "7f679a5d1cb85363",
   "outputs": [
    {
     "data": {
      "text/plain": [
       "[1, 2, 3, 4]"
      ]
     },
     "execution_count": 124,
     "metadata": {},
     "output_type": "execute_result"
    }
   ],
   "execution_count": 124
  },
  {
   "metadata": {
    "ExecuteTime": {
     "end_time": "2024-07-08T02:19:46.200698Z",
     "start_time": "2024-07-08T02:19:46.198142Z"
    }
   },
   "cell_type": "code",
   "source": "list(map(pow, [1,2,3,-4], [1,2,3]))",
   "id": "8340a495644ee7e5",
   "outputs": [
    {
     "data": {
      "text/plain": [
       "[1, 4, 27]"
      ]
     },
     "execution_count": 125,
     "metadata": {},
     "output_type": "execute_result"
    }
   ],
   "execution_count": 125
  },
  {
   "metadata": {},
   "cell_type": "markdown",
   "source": "# zip",
   "id": "f4398117d50c3c0d"
  },
  {
   "metadata": {
    "ExecuteTime": {
     "end_time": "2024-07-08T02:19:46.291085Z",
     "start_time": "2024-07-08T02:19:46.288813Z"
    }
   },
   "cell_type": "code",
   "source": [
    "def myzip(*seqs):\n",
    "    seqs = [list(s) for s in seqs]\n",
    "    res = []\n",
    "    while all(seqs):\n",
    "        res.append(tuple(s.pop(0) for s in seqs))\n",
    "    return res"
   ],
   "id": "2d735536d2e0db74",
   "outputs": [],
   "execution_count": 126
  },
  {
   "metadata": {
    "ExecuteTime": {
     "end_time": "2024-07-08T02:19:46.337072Z",
     "start_time": "2024-07-08T02:19:46.334949Z"
    }
   },
   "cell_type": "code",
   "source": "myzip([1,2,3],[4,5,6], [7,8,9,10])",
   "id": "ea9e3b39c63c48c9",
   "outputs": [
    {
     "data": {
      "text/plain": [
       "[(1, 4, 7), (2, 5, 8), (3, 6, 9)]"
      ]
     },
     "execution_count": 127,
     "metadata": {},
     "output_type": "execute_result"
    }
   ],
   "execution_count": 127
  },
  {
   "metadata": {
    "ExecuteTime": {
     "end_time": "2024-07-08T02:19:46.438657Z",
     "start_time": "2024-07-08T02:19:46.436358Z"
    }
   },
   "cell_type": "code",
   "source": "list(myzip([1,2,3],[4,5,6], [7,8,9]))",
   "id": "7445339c4f48eda1",
   "outputs": [
    {
     "data": {
      "text/plain": [
       "[(1, 4, 7), (2, 5, 8), (3, 6, 9)]"
      ]
     },
     "execution_count": 128,
     "metadata": {},
     "output_type": "execute_result"
    }
   ],
   "execution_count": 128
  },
  {
   "metadata": {
    "ExecuteTime": {
     "end_time": "2024-07-08T02:19:46.481294Z",
     "start_time": "2024-07-08T02:19:46.478746Z"
    }
   },
   "cell_type": "code",
   "source": "list(zip('abc','edf'))",
   "id": "160c25b7bae0309e",
   "outputs": [
    {
     "data": {
      "text/plain": [
       "[('a', 'e'), ('b', 'd'), ('c', 'f')]"
      ]
     },
     "execution_count": 129,
     "metadata": {},
     "output_type": "execute_result"
    }
   ],
   "execution_count": 129
  },
  {
   "metadata": {
    "ExecuteTime": {
     "end_time": "2024-07-08T02:19:46.580841Z",
     "start_time": "2024-07-08T02:19:46.578533Z"
    }
   },
   "cell_type": "code",
   "source": "myzip('abc','edf')",
   "id": "6c7ad0d03763be91",
   "outputs": [
    {
     "data": {
      "text/plain": [
       "[('a', 'e'), ('b', 'd'), ('c', 'f')]"
      ]
     },
     "execution_count": 130,
     "metadata": {},
     "output_type": "execute_result"
    }
   ],
   "execution_count": 130
  },
  {
   "metadata": {
    "ExecuteTime": {
     "end_time": "2024-07-08T02:19:46.654386Z",
     "start_time": "2024-07-08T02:19:46.652374Z"
    }
   },
   "cell_type": "code",
   "source": "list(zip('abc','edfgh'))",
   "id": "4378b07f99331208",
   "outputs": [
    {
     "data": {
      "text/plain": [
       "[('a', 'e'), ('b', 'd'), ('c', 'f')]"
      ]
     },
     "execution_count": 131,
     "metadata": {},
     "output_type": "execute_result"
    }
   ],
   "execution_count": 131
  },
  {
   "metadata": {
    "ExecuteTime": {
     "end_time": "2024-07-08T02:19:46.740911Z",
     "start_time": "2024-07-08T02:19:46.739066Z"
    }
   },
   "cell_type": "code",
   "source": [
    "def myzip2(*seqs):\n",
    "    seqs = [list(s) for s in seqs]\n",
    "    while all(seqs):\n",
    "        yield tuple(s.pop(0) for s in seqs)"
   ],
   "id": "5a13d68f205327fb",
   "outputs": [],
   "execution_count": 132
  },
  {
   "metadata": {
    "ExecuteTime": {
     "end_time": "2024-07-08T02:19:46.782558Z",
     "start_time": "2024-07-08T02:19:46.780100Z"
    }
   },
   "cell_type": "code",
   "source": "list(myzip2('abc','edf'))",
   "id": "2bcfcf1634e7fd92",
   "outputs": [
    {
     "data": {
      "text/plain": [
       "[('a', 'e'), ('b', 'd'), ('c', 'f')]"
      ]
     },
     "execution_count": 133,
     "metadata": {},
     "output_type": "execute_result"
    }
   ],
   "execution_count": 133
  },
  {
   "metadata": {
    "ExecuteTime": {
     "end_time": "2024-07-08T02:19:46.863060Z",
     "start_time": "2024-07-08T02:19:46.861170Z"
    }
   },
   "cell_type": "code",
   "source": [
    "def myzip3(*seqs):\n",
    "    minlen = min(len(s) for s in seqs)\n",
    "    yield from (tuple(s[i] for s in seqs) for i in range(minlen))"
   ],
   "id": "2daf875e1e68762c",
   "outputs": [],
   "execution_count": 134
  },
  {
   "metadata": {
    "ExecuteTime": {
     "end_time": "2024-07-08T02:19:46.907Z",
     "start_time": "2024-07-08T02:19:46.904690Z"
    }
   },
   "cell_type": "code",
   "source": "list(myzip3('abc','edf'))",
   "id": "9765f0a1082eb8d3",
   "outputs": [
    {
     "data": {
      "text/plain": [
       "[('a', 'e'), ('b', 'd'), ('c', 'f')]"
      ]
     },
     "execution_count": 135,
     "metadata": {},
     "output_type": "execute_result"
    }
   ],
   "execution_count": 135
  },
  {
   "metadata": {
    "ExecuteTime": {
     "end_time": "2024-07-08T02:19:47.000191Z",
     "start_time": "2024-07-08T02:19:46.998216Z"
    }
   },
   "cell_type": "code",
   "source": [
    "def myzip4(*seqs):\n",
    "    maxlen = max(len(s) for s in seqs)\n",
    "    yield from (tuple(s[i] if i < len(s) else None for s in seqs) for i in range(maxlen))"
   ],
   "id": "3bc5680b6fc639fa",
   "outputs": [],
   "execution_count": 136
  },
  {
   "metadata": {
    "ExecuteTime": {
     "end_time": "2024-07-08T02:19:47.046289Z",
     "start_time": "2024-07-08T02:19:47.044124Z"
    }
   },
   "cell_type": "code",
   "source": "list(myzip4('abc','edfhj'))",
   "id": "a65a49100da77f97",
   "outputs": [
    {
     "data": {
      "text/plain": [
       "[('a', 'e'), ('b', 'd'), ('c', 'f'), (None, 'h'), (None, 'j')]"
      ]
     },
     "execution_count": 137,
     "metadata": {},
     "output_type": "execute_result"
    }
   ],
   "execution_count": 137
  },
  {
   "metadata": {
    "ExecuteTime": {
     "end_time": "2024-07-08T02:19:47.167291Z",
     "start_time": "2024-07-08T02:19:47.165300Z"
    }
   },
   "cell_type": "code",
   "source": [
    "def myzip5(*seqs):\n",
    "    iters = list(map(iter, seqs))\n",
    "    try:\n",
    "        while iters:\n",
    "            res = tuple([next(i) for i in iters])\n",
    "            yield res\n",
    "    except StopIteration:\n",
    "        pass"
   ],
   "id": "46fe2ad7250c419c",
   "outputs": [],
   "execution_count": 138
  },
  {
   "metadata": {
    "ExecuteTime": {
     "end_time": "2024-07-08T02:19:47.194457Z",
     "start_time": "2024-07-08T02:19:47.192211Z"
    }
   },
   "cell_type": "code",
   "source": "myzip5('abc','edf')",
   "id": "ae2834e74793d26e",
   "outputs": [
    {
     "data": {
      "text/plain": [
       "<generator object myzip5 at 0x10ba33e20>"
      ]
     },
     "execution_count": 139,
     "metadata": {},
     "output_type": "execute_result"
    }
   ],
   "execution_count": 139
  },
  {
   "metadata": {
    "ExecuteTime": {
     "end_time": "2024-07-08T02:19:47.283895Z",
     "start_time": "2024-07-08T02:19:47.281465Z"
    }
   },
   "cell_type": "code",
   "source": "list(myzip5('abc','edf'))",
   "id": "407783121783f60f",
   "outputs": [
    {
     "data": {
      "text/plain": [
       "[('a', 'e'), ('b', 'd'), ('c', 'f')]"
      ]
     },
     "execution_count": 140,
     "metadata": {},
     "output_type": "execute_result"
    }
   ],
   "execution_count": 140
  },
  {
   "metadata": {
    "ExecuteTime": {
     "end_time": "2024-07-08T02:19:47.316373Z",
     "start_time": "2024-07-08T02:19:47.314362Z"
    }
   },
   "cell_type": "code",
   "source": [
    "x = 99\n",
    "for x in range(5): pass\n",
    "x"
   ],
   "id": "a41b04a793eaafc8",
   "outputs": [
    {
     "data": {
      "text/plain": [
       "4"
      ]
     },
     "execution_count": 141,
     "metadata": {},
     "output_type": "execute_result"
    }
   ],
   "execution_count": 141
  },
  {
   "metadata": {
    "ExecuteTime": {
     "end_time": "2024-07-08T02:19:47.398844Z",
     "start_time": "2024-07-08T02:19:47.396517Z"
    }
   },
   "cell_type": "code",
   "source": "{x:y for x in [1,2,3] for y in [4,5,6]}",
   "id": "d869d55ea73460e0",
   "outputs": [
    {
     "data": {
      "text/plain": [
       "{1: 6, 2: 6, 3: 6}"
      ]
     },
     "execution_count": 142,
     "metadata": {},
     "output_type": "execute_result"
    }
   ],
   "execution_count": 142
  },
  {
   "metadata": {
    "ExecuteTime": {
     "end_time": "2024-07-08T02:19:47.437078Z",
     "start_time": "2024-07-08T02:19:47.434771Z"
    }
   },
   "cell_type": "code",
   "source": "{x:y for x,y in zip([1,2,3],[4,5,6])}",
   "id": "12e546816037df9a",
   "outputs": [
    {
     "data": {
      "text/plain": [
       "{1: 4, 2: 5, 3: 6}"
      ]
     },
     "execution_count": 143,
     "metadata": {},
     "output_type": "execute_result"
    }
   ],
   "execution_count": 143
  },
  {
   "metadata": {
    "ExecuteTime": {
     "end_time": "2024-07-08T02:19:47.531463Z",
     "start_time": "2024-07-08T02:19:47.529889Z"
    }
   },
   "cell_type": "code",
   "source": "",
   "id": "da03125bac560f22",
   "outputs": [],
   "execution_count": 143
  }
 ],
 "metadata": {
  "kernelspec": {
   "display_name": "Python 3",
   "language": "python",
   "name": "python3"
  },
  "language_info": {
   "codemirror_mode": {
    "name": "ipython",
    "version": 2
   },
   "file_extension": ".py",
   "mimetype": "text/x-python",
   "name": "python",
   "nbconvert_exporter": "python",
   "pygments_lexer": "ipython2",
   "version": "2.7.6"
  }
 },
 "nbformat": 4,
 "nbformat_minor": 5
}
