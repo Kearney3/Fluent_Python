{
 "cells": [
  {
   "metadata": {},
   "cell_type": "markdown",
   "source": "# 装饰器",
   "id": "f528f56161bb071a"
  },
  {
   "cell_type": "code",
   "id": "initial_id",
   "metadata": {
    "collapsed": true,
    "ExecuteTime": {
     "end_time": "2024-07-04T08:32:26.700704Z",
     "start_time": "2024-07-04T08:32:26.695683Z"
    }
   },
   "source": [
    "# 无法装饰类函数  \n",
    "class tracer:  \n",
    "    def __init__(self, func):  \n",
    "        self.calls = 0  \n",
    "        self.func = func  \n",
    "  \n",
    "    def __call__(self, *args):  \n",
    "        self.calls += 1  \n",
    "        print(f'call {self.calls} to {self.func}')  \n",
    "        self.func(*args)\n",
    "\n",
    "@tracer  \n",
    "def spam(a, b, c):  \n",
    "    print(a + b + c)  \n",
    "# 等价于\n",
    "# spam = tracer(spam)\n",
    "\n",
    "print(spam(1, 2, 3))  \n",
    "print(spam('a', 'b', 'c'))"
   ],
   "outputs": [
    {
     "name": "stdout",
     "output_type": "stream",
     "text": [
      "call 1 to <function spam at 0x111bc89a0>\n",
      "6\n",
      "None\n",
      "call 2 to <function spam at 0x111bc89a0>\n",
      "abc\n",
      "None\n"
     ]
    }
   ],
   "execution_count": 5
  },
  {
   "metadata": {},
   "cell_type": "markdown",
   "source": "按照这种⽅式编程的时候，被装饰的⽅法重绑定到装饰器类的⼀个实例，⽽不是一个简单函数。这⼀点带来的问题是，当装饰器的_ca11_⽅法随后运⾏的时候，其中的se1f接收decorator 类实例，并且类C的实例不会包含到⼀个 *args 中。这使得把调⽤分派给最初的⽅法变得不可能，即保持了最初的⽅法函数的装饰器对象，但是没有实例传递给它。",
   "id": "67b52f21866907d5"
  },
  {
   "metadata": {
    "ExecuteTime": {
     "end_time": "2024-07-04T08:45:58.497051Z",
     "start_time": "2024-07-04T08:45:58.492783Z"
    }
   },
   "cell_type": "code",
   "source": [
    "class decorator:\n",
    "    def __init__(self, func):\n",
    "        self.func = func\n",
    "\n",
    "    def __call__(self, *args):\n",
    "        return self.func(*args)\n",
    "    \n",
    "class C:\n",
    "    @decorator\n",
    "    def method(self, x, y):\n",
    "        print(x + y)"
   ],
   "id": "f889872e78b6f493",
   "outputs": [
    {
     "name": "stdout",
     "output_type": "stream",
     "text": [
      "init <function C.method at 0x112a13240>\n"
     ]
    }
   ],
   "execution_count": 31
  },
  {
   "metadata": {
    "ExecuteTime": {
     "end_time": "2024-07-04T08:45:50.891899Z",
     "start_time": "2024-07-04T08:45:50.875307Z"
    }
   },
   "cell_type": "code",
   "source": [
    "X = C()\n",
    "X.method(2,5)"
   ],
   "id": "c484b35f0675eded",
   "outputs": [
    {
     "name": "stdout",
     "output_type": "stream",
     "text": [
      "args: (2, 5), kwargs: {}\n",
      "call 1 to <function C.method at 0x112a104a0>\n"
     ]
    },
    {
     "ename": "TypeError",
     "evalue": "C.method() missing 1 required positional argument: 'y'",
     "output_type": "error",
     "traceback": [
      "\u001B[0;31m---------------------------------------------------------------------------\u001B[0m",
      "\u001B[0;31mTypeError\u001B[0m                                 Traceback (most recent call last)",
      "Cell \u001B[0;32mIn[30], line 2\u001B[0m\n\u001B[1;32m      1\u001B[0m X \u001B[38;5;241m=\u001B[39m C()\n\u001B[0;32m----> 2\u001B[0m X\u001B[38;5;241m.\u001B[39mmethod(\u001B[38;5;241m2\u001B[39m,\u001B[38;5;241m5\u001B[39m)\n",
      "Cell \u001B[0;32mIn[29], line 11\u001B[0m, in \u001B[0;36mdecorator.__call__\u001B[0;34m(self, *args, **kwargs)\u001B[0m\n\u001B[1;32m      9\u001B[0m \u001B[38;5;28mprint\u001B[39m(\u001B[38;5;124mf\u001B[39m\u001B[38;5;124m'\u001B[39m\u001B[38;5;124margs: \u001B[39m\u001B[38;5;132;01m{\u001B[39;00margs\u001B[38;5;132;01m}\u001B[39;00m\u001B[38;5;124m, kwargs: \u001B[39m\u001B[38;5;132;01m{\u001B[39;00mkwargs\u001B[38;5;132;01m}\u001B[39;00m\u001B[38;5;124m'\u001B[39m)\n\u001B[1;32m     10\u001B[0m \u001B[38;5;28mprint\u001B[39m(\u001B[38;5;124mf\u001B[39m\u001B[38;5;124m'\u001B[39m\u001B[38;5;124mcall \u001B[39m\u001B[38;5;132;01m{\u001B[39;00m\u001B[38;5;28mself\u001B[39m\u001B[38;5;241m.\u001B[39mcalls\u001B[38;5;132;01m}\u001B[39;00m\u001B[38;5;124m to \u001B[39m\u001B[38;5;132;01m{\u001B[39;00m\u001B[38;5;28mself\u001B[39m\u001B[38;5;241m.\u001B[39mfunc\u001B[38;5;132;01m}\u001B[39;00m\u001B[38;5;124m'\u001B[39m)\n\u001B[0;32m---> 11\u001B[0m \u001B[38;5;28;01mreturn\u001B[39;00m \u001B[38;5;28mself\u001B[39m\u001B[38;5;241m.\u001B[39mfunc(\u001B[38;5;241m*\u001B[39margs, \u001B[38;5;241m*\u001B[39m\u001B[38;5;241m*\u001B[39mkwargs)\n",
      "\u001B[0;31mTypeError\u001B[0m: C.method() missing 1 required positional argument: 'y'"
     ]
    }
   ],
   "execution_count": 30
  },
  {
   "metadata": {
    "ExecuteTime": {
     "end_time": "2024-07-04T08:44:47.954745Z",
     "start_time": "2024-07-04T08:44:47.952444Z"
    }
   },
   "cell_type": "code",
   "source": "X.method(1,2,5)",
   "id": "2b33e7329a73d64f",
   "outputs": [
    {
     "name": "stdout",
     "output_type": "stream",
     "text": [
      "args: (1, 2, 5), kwargs: {}\n",
      "call 2 to <function C.method at 0x111d03880>\n",
      "1 2 5\n"
     ]
    }
   ],
   "execution_count": 28
  },
  {
   "metadata": {
    "ExecuteTime": {
     "end_time": "2024-07-04T08:46:19.981258Z",
     "start_time": "2024-07-04T08:46:19.965686Z"
    }
   },
   "cell_type": "code",
   "source": [
    "Z = C()\n",
    "Z.method(1,2,5)"
   ],
   "id": "71e2dd64f12f9a49",
   "outputs": [
    {
     "name": "stdout",
     "output_type": "stream",
     "text": [
      "args: (1, 2, 5), kwargs: {}\n",
      "call 1 to <function C.method at 0x112a13240>\n",
      "1 2 5\n"
     ]
    }
   ],
   "execution_count": 32
  },
  {
   "metadata": {},
   "cell_type": "markdown",
   "source": "为了⽀持函数和⽅法，嵌套函数这⼀替代⽅案将有更好的效果",
   "id": "4c2c2bb91b563dd"
  },
  {
   "metadata": {
    "ExecuteTime": {
     "end_time": "2024-07-04T08:55:50.359906Z",
     "start_time": "2024-07-04T08:55:50.357236Z"
    }
   },
   "cell_type": "code",
   "source": [
    "def decorator(func):\n",
    "    def wrapper(*args):\n",
    "        return func(*args)\n",
    "    return wrapper\n",
    "    \n",
    "class C:\n",
    "    @decorator\n",
    "    def method(self, x, y):\n",
    "        print(x + y)\n",
    "        \n",
    "@decorator\n",
    "def method(x, y):\n",
    "    print(x + y)"
   ],
   "id": "27fa6d2a5d25397a",
   "outputs": [],
   "execution_count": 34
  },
  {
   "metadata": {
    "ExecuteTime": {
     "end_time": "2024-07-04T08:55:54.761288Z",
     "start_time": "2024-07-04T08:55:54.758482Z"
    }
   },
   "cell_type": "code",
   "source": [
    "X = C()\n",
    "X.method(2,5)"
   ],
   "id": "f6eb3b96c9cf1281",
   "outputs": [
    {
     "name": "stdout",
     "output_type": "stream",
     "text": [
      "7\n"
     ]
    }
   ],
   "execution_count": 35
  },
  {
   "metadata": {
    "ExecuteTime": {
     "end_time": "2024-07-04T08:55:59.249949Z",
     "start_time": "2024-07-04T08:55:59.247999Z"
    }
   },
   "cell_type": "code",
   "source": "method(2,5)",
   "id": "e8340bb01b6e0b4e",
   "outputs": [
    {
     "name": "stdout",
     "output_type": "stream",
     "text": [
      "7\n"
     ]
    }
   ],
   "execution_count": 36
  },
  {
   "metadata": {},
   "cell_type": "markdown",
   "source": "## 类装饰器",
   "id": "f1dbc4159e1e4d97"
  },
  {
   "metadata": {},
   "cell_type": "markdown",
   "source": [
    "在这个例子中，装饰器把类的名称重新绑定到另一个类，这个类在外层作用域中保持了最初的类，并且当调用的时候，这个类创建并嵌入了最初类的一个实例。当之后从该实例获取一个属性的时候，包装器的 _getattr_拦截了它，并且将其委托给最初的类的嵌入实例。\n",
    "此外，每个被装饰的类都创建一个新的作用域，它记住了最初的类。在本章后面，我们将用一些更有用的代码来充实这个例子。"
   ],
   "id": "8e41118b7d156d63"
  },
  {
   "metadata": {
    "ExecuteTime": {
     "end_time": "2024-07-04T09:03:42.641125Z",
     "start_time": "2024-07-04T09:03:42.638656Z"
    }
   },
   "cell_type": "code",
   "source": [
    "def decorator(cls):\n",
    "    class Wrapper:\n",
    "        def __init__(self, *args, **kwargs):\n",
    "            self.wrapped = cls(*args, **kwargs)\n",
    "        def __getattr__(self, attrname):\n",
    "            return getattr(self.wrapped, attrname)\n",
    "    return Wrapper\n",
    "\n",
    "@decorator\n",
    "class C:\n",
    "    def __init__(self, x, y):\n",
    "        self.attr = 'nice'"
   ],
   "id": "b26968586e7a66de",
   "outputs": [],
   "execution_count": 48
  },
  {
   "metadata": {
    "ExecuteTime": {
     "end_time": "2024-07-04T09:03:42.974195Z",
     "start_time": "2024-07-04T09:03:42.972146Z"
    }
   },
   "cell_type": "code",
   "source": "x = C(6,7)",
   "id": "92456fb95b582835",
   "outputs": [],
   "execution_count": 49
  },
  {
   "metadata": {
    "ExecuteTime": {
     "end_time": "2024-07-04T09:03:43.369114Z",
     "start_time": "2024-07-04T09:03:43.367111Z"
    }
   },
   "cell_type": "code",
   "source": "print(x.attr, x.wrapped.attr)",
   "id": "a29ad139b5b203ec",
   "outputs": [
    {
     "name": "stdout",
     "output_type": "stream",
     "text": [
      "nice nice\n"
     ]
    }
   ],
   "execution_count": 50
  },
  {
   "metadata": {
    "ExecuteTime": {
     "end_time": "2024-07-04T09:03:43.780266Z",
     "start_time": "2024-07-04T09:03:43.768639Z"
    }
   },
   "cell_type": "code",
   "source": "print(x.x, x.y)",
   "id": "14cca2e2d8e00b8f",
   "outputs": [
    {
     "ename": "AttributeError",
     "evalue": "'C' object has no attribute 'x'",
     "output_type": "error",
     "traceback": [
      "\u001B[0;31m---------------------------------------------------------------------------\u001B[0m",
      "\u001B[0;31mAttributeError\u001B[0m                            Traceback (most recent call last)",
      "Cell \u001B[0;32mIn[51], line 1\u001B[0m\n\u001B[0;32m----> 1\u001B[0m \u001B[38;5;28mprint\u001B[39m(x\u001B[38;5;241m.\u001B[39mx, x\u001B[38;5;241m.\u001B[39my)\n",
      "Cell \u001B[0;32mIn[48], line 6\u001B[0m, in \u001B[0;36mdecorator.<locals>.Wrapper.__getattr__\u001B[0;34m(self, attrname)\u001B[0m\n\u001B[1;32m      5\u001B[0m \u001B[38;5;28;01mdef\u001B[39;00m \u001B[38;5;21m__getattr__\u001B[39m(\u001B[38;5;28mself\u001B[39m, attrname):\n\u001B[0;32m----> 6\u001B[0m     \u001B[38;5;28;01mreturn\u001B[39;00m \u001B[38;5;28mgetattr\u001B[39m(\u001B[38;5;28mself\u001B[39m\u001B[38;5;241m.\u001B[39mwrapped, attrname)\n",
      "\u001B[0;31mAttributeError\u001B[0m: 'C' object has no attribute 'x'"
     ]
    }
   ],
   "execution_count": 51
  },
  {
   "metadata": {
    "ExecuteTime": {
     "end_time": "2024-07-04T09:03:46.938835Z",
     "start_time": "2024-07-04T09:03:46.936047Z"
    }
   },
   "cell_type": "code",
   "source": "[x for x in dir(x) if not x.startswith('_')]",
   "id": "4ede4239af0c95eb",
   "outputs": [
    {
     "data": {
      "text/plain": [
       "['wrapped']"
      ]
     },
     "execution_count": 52,
     "metadata": {},
     "output_type": "execute_result"
    }
   ],
   "execution_count": 52
  },
  {
   "metadata": {
    "ExecuteTime": {
     "end_time": "2024-07-04T09:03:47.229985Z",
     "start_time": "2024-07-04T09:03:47.226860Z"
    }
   },
   "cell_type": "code",
   "source": "[x for x in dir(x.wrapped) if not x.startswith('_')]",
   "id": "91ed2ee2bdd69594",
   "outputs": [
    {
     "data": {
      "text/plain": [
       "['attr']"
      ]
     },
     "execution_count": 53,
     "metadata": {},
     "output_type": "execute_result"
    }
   ],
   "execution_count": 53
  },
  {
   "metadata": {},
   "cell_type": "markdown",
   "source": "支持多个实例",
   "id": "71ff250f78b2b663"
  },
  {
   "metadata": {},
   "cell_type": "markdown",
   "source": "没有能够处理给定类的多个实例,每次实例创建调⽤都覆盖了上⼀次保存的实例",
   "id": "3394389da8a668bc"
  },
  {
   "metadata": {
    "ExecuteTime": {
     "end_time": "2024-07-04T09:09:46.061863Z",
     "start_time": "2024-07-04T09:09:46.057033Z"
    }
   },
   "cell_type": "code",
   "source": [
    "class Decorator:\n",
    "    def __init__(self, func):\n",
    "        self.func = func\n",
    "    def __call__(self, *args, **kwargs):\n",
    "        self.wrapped = self.func(*args, **kwargs)\n",
    "    def __getattr__(self, item):\n",
    "        return getattr(self.wrapped, item)\n",
    "\n",
    "@Decorator\n",
    "class C: ..."
   ],
   "id": "5990aba4aa393efa",
   "outputs": [],
   "execution_count": 57
  },
  {
   "metadata": {
    "ExecuteTime": {
     "end_time": "2024-07-04T09:09:46.277734Z",
     "start_time": "2024-07-04T09:09:46.275646Z"
    }
   },
   "cell_type": "code",
   "source": [
    "x= C()\n",
    "print(id(x))\n",
    "y = C()\n",
    "print(id(x), id(y))"
   ],
   "id": "fe897fae8e93005b",
   "outputs": [
    {
     "name": "stdout",
     "output_type": "stream",
     "text": [
      "4340489968\n",
      "4340489968 4340489968\n"
     ]
    }
   ],
   "execution_count": 58
  },
  {
   "metadata": {
    "ExecuteTime": {
     "end_time": "2024-07-04T09:09:46.761363Z",
     "start_time": "2024-07-04T09:09:46.758828Z"
    }
   },
   "cell_type": "code",
   "source": "x is y",
   "id": "885e64eb7b7b70d9",
   "outputs": [
    {
     "data": {
      "text/plain": [
       "True"
      ]
     },
     "execution_count": 59,
     "metadata": {},
     "output_type": "execute_result"
    }
   ],
   "execution_count": 59
  },
  {
   "metadata": {},
   "cell_type": "markdown",
   "source": "装饰器嵌套",
   "id": "415494c1f2115696"
  },
  {
   "metadata": {
    "ExecuteTime": {
     "end_time": "2024-07-04T09:14:00.083208Z",
     "start_time": "2024-07-04T09:14:00.063803Z"
    }
   },
   "cell_type": "code",
   "source": [
    "def d1(func): return lambda: 'd1'+ func()\n",
    "def d2(func): return lambda: 'd2'+ func()\n",
    "def d3(func): return lambda: 'd3'+ func()\n",
    "\n",
    "@d1\n",
    "@d2\n",
    "@d3\n",
    "def f():\n",
    "    return 'f'\n",
    "\n",
    "print(f())"
   ],
   "id": "bb3d3c93cfbee2cd",
   "outputs": [
    {
     "name": "stdout",
     "output_type": "stream",
     "text": [
      "d1d2d3f\n"
     ]
    }
   ],
   "execution_count": 60
  },
  {
   "metadata": {},
   "cell_type": "markdown",
   "source": "类实例属性",
   "id": "581e29492b880524"
  },
  {
   "metadata": {
    "ExecuteTime": {
     "end_time": "2024-07-04T09:28:09.218775Z",
     "start_time": "2024-07-04T09:28:09.213903Z"
    }
   },
   "cell_type": "code",
   "source": [
    "# 无法装饰类函数  \n",
    "class tracer:  \n",
    "    def __init__(self, func):  \n",
    "        self.calls = 0  \n",
    "        self.func = func  \n",
    "  \n",
    "    def __call__(self, *args, **kwargs):  \n",
    "        self.calls += 1  \n",
    "        print(f'call {self.calls} to {self.func.__name__}')  \n",
    "        self.func(*args, **kwargs)\n",
    "\n",
    "@tracer  \n",
    "def spam(a, b, c):  \n",
    "    print(a + b + c)  \n",
    "    \n",
    "# 等价于\n",
    "# spam = tracer(spam)\n",
    "\n",
    "@tracer\n",
    "def eggs():\n",
    "    print('eggs')\n",
    "\n",
    "spam(1, 2, 3)\n",
    "spam('a', 'b', 'c')\n",
    "eggs()\n",
    "eggs()"
   ],
   "id": "5d37242ae697e30c",
   "outputs": [
    {
     "name": "stdout",
     "output_type": "stream",
     "text": [
      "call 1 to spam\n",
      "6\n",
      "call 2 to spam\n",
      "abc\n",
      "call 1 to eggs\n",
      "eggs\n",
      "call 2 to eggs\n",
      "eggs\n"
     ]
    }
   ],
   "execution_count": 64
  },
  {
   "metadata": {},
   "cell_type": "markdown",
   "source": "外部作用域和非局部变量",
   "id": "886bf7d3e1ec28ca"
  },
  {
   "metadata": {
    "ExecuteTime": {
     "end_time": "2024-07-04T09:32:24.573693Z",
     "start_time": "2024-07-04T09:32:24.565488Z"
    }
   },
   "cell_type": "code",
   "source": [
    "def tracer(func):\n",
    "    calls = 0\n",
    "    def wrapper(*args, **kwargs):\n",
    "        nonlocal calls\n",
    "        calls += 1\n",
    "        print(f'call {calls} to {func.__name__}')\n",
    "        return func(*args, **kwargs)\n",
    "    return wrapper\n",
    "\n",
    "@tracer  \n",
    "def spam(a, b, c):  \n",
    "    print(a + b + c)  \n",
    "    \n",
    "\n",
    "@tracer\n",
    "def eggs():\n",
    "    print('eggs')\n",
    "\n",
    "spam(1, 2, 3)\n",
    "spam('a', 'b', 'c')\n",
    "eggs()\n",
    "eggs()"
   ],
   "id": "550db9ed65d9cc1f",
   "outputs": [
    {
     "name": "stdout",
     "output_type": "stream",
     "text": [
      "call 1 to spam\n",
      "6\n",
      "call 2 to spam\n",
      "abc\n",
      "call 1 to eggs\n",
      "eggs\n",
      "call 2 to eggs\n",
      "eggs\n"
     ]
    }
   ],
   "execution_count": 65
  },
  {
   "metadata": {},
   "cell_type": "markdown",
   "source": "函数属性",
   "id": "6bab705342f36fea"
  },
  {
   "metadata": {
    "ExecuteTime": {
     "end_time": "2024-07-04T09:33:42.681745Z",
     "start_time": "2024-07-04T09:33:42.674893Z"
    }
   },
   "cell_type": "code",
   "source": [
    "def tracer(func):\n",
    "    def wrapper(*args, **kwargs):\n",
    "        wrapper.calls += 1\n",
    "        print(f'call {wrapper.calls} to {func.__name__}')\n",
    "        return func(*args, **kwargs)\n",
    "    wrapper.calls = 0\n",
    "    return wrapper\n",
    "\n",
    "@tracer  \n",
    "def spam(a, b, c):  \n",
    "    print(a + b + c)  \n",
    "    \n",
    "\n",
    "@tracer\n",
    "def eggs():\n",
    "    print('eggs')\n",
    "\n",
    "spam(1, 2, 3)\n",
    "spam('a', 'b', 'c')\n",
    "eggs()\n",
    "eggs()"
   ],
   "id": "556150af3902f046",
   "outputs": [
    {
     "name": "stdout",
     "output_type": "stream",
     "text": [
      "call 1 to spam\n",
      "6\n",
      "call 2 to spam\n",
      "abc\n",
      "call 1 to eggs\n",
      "eggs\n",
      "call 2 to eggs\n",
      "eggs\n"
     ]
    }
   ],
   "execution_count": 66
  },
  {
   "metadata": {
    "ExecuteTime": {
     "end_time": "2024-07-04T09:56:29.134226Z",
     "start_time": "2024-07-04T09:56:29.131495Z"
    }
   },
   "cell_type": "code",
   "source": [
    "def tracer(func):\n",
    "    calls = 0\n",
    "    def wrapper(*args, **kwargs):\n",
    "        nonlocal calls\n",
    "        calls+=1\n",
    "        print(f'call {calls} to {func.__name__}')\n",
    "        return func(*args, **kwargs)\n",
    "    return wrapper\n",
    "\n",
    "class C:\n",
    "    @tracer\n",
    "    def method1(self, x, y):\n",
    "        print(x + y)\n",
    "    @tracer\n",
    "    def method2(self, x, y):\n",
    "        print(x * y)"
   ],
   "id": "cd38026171e27875",
   "outputs": [],
   "execution_count": 91
  },
  {
   "metadata": {
    "ExecuteTime": {
     "end_time": "2024-07-04T09:56:29.481533Z",
     "start_time": "2024-07-04T09:56:29.479338Z"
    }
   },
   "cell_type": "code",
   "source": [
    "x = C()\n",
    "x.method1(1,2)\n",
    "x.method2(10,25)\n",
    "x.method2(10,2)\n",
    "y = C()\n",
    "y.method1(1,5)\n",
    "y.method2(10,2)"
   ],
   "id": "1a6d5e280892f3d5",
   "outputs": [
    {
     "name": "stdout",
     "output_type": "stream",
     "text": [
      "call 1 to method1\n",
      "3\n",
      "call 1 to method2\n",
      "250\n",
      "call 2 to method2\n",
      "20\n",
      "call 2 to method1\n",
      "6\n",
      "call 3 to method2\n",
      "20\n"
     ]
    }
   ],
   "execution_count": 92
  },
  {
   "metadata": {
    "ExecuteTime": {
     "end_time": "2024-07-04T09:56:25.894877Z",
     "start_time": "2024-07-04T09:56:25.892582Z"
    }
   },
   "cell_type": "code",
   "source": [
    "@tracer  \n",
    "def spam(a, b, c):  \n",
    "    print(a + b + c)  \n",
    "    \n",
    "\n",
    "@tracer\n",
    "def eggs():\n",
    "    print('eggs')\n",
    "\n",
    "spam(1, 2, 3)\n",
    "spam('a', 'b', 'c')\n",
    "eggs()\n",
    "eggs()"
   ],
   "id": "ef0c56f371573950",
   "outputs": [
    {
     "name": "stdout",
     "output_type": "stream",
     "text": [
      "call 1 to spam\n",
      "6\n",
      "call 2 to spam\n",
      "abc\n",
      "call 1 to eggs\n",
      "eggs\n",
      "call 2 to eggs\n",
      "eggs\n"
     ]
    }
   ],
   "execution_count": 90
  },
  {
   "metadata": {},
   "cell_type": "markdown",
   "source": "## 使⽤描述符装饰⽅法",
   "id": "5a2ca391dedae5c7"
  },
  {
   "metadata": {
    "ExecuteTime": {
     "end_time": "2024-07-04T10:24:40.687618Z",
     "start_time": "2024-07-04T10:24:40.683102Z"
    }
   },
   "cell_type": "code",
   "source": [
    "class tracer:\n",
    "    \"\"\"一个追踪装饰器类，用于追踪函数调用的次数。\"\"\"\n",
    "    def __init__(self, func):\n",
    "        self.calls = 0\n",
    "        self.func = func\n",
    "        \n",
    "    def __call__(self, *args, **kwargs):\n",
    "        print()\n",
    "        self.calls += 1\n",
    "        print(f'call {self.calls} to {self.func.__name__}')\n",
    "        return self.func(*args, **kwargs)\n",
    "    \n",
    "    def __get__(self, instance, owner):\n",
    "        print(f'getting {self.func.__name__}')\n",
    "        return wrapper(self, instance)\n",
    "        \n",
    "        \n",
    "class wrapper:\n",
    "    \"\"\"wrapper类用于包装tracer类实例，以支持方法绑定。\"\"\"\n",
    "    def __init__(self, desc, subj):\n",
    "        \"\"\"\n",
    "            desc (tracer): 被包装的tracer实例。\n",
    "            subj (object): 类的实例。\n",
    "        \"\"\"\n",
    "        self.desc = desc\n",
    "        self.subj = subj\n",
    "        \n",
    "    def __call__(self, *args, **kwargs):\n",
    "        \"\"\"使wrapper实例可调用，通过tracer实例调用被装饰函数。\"\"\"\n",
    "        return self.desc(self.subj, *args, **kwargs)\n"
   ],
   "id": "d24c921884d9bca0",
   "outputs": [],
   "execution_count": 106
  },
  {
   "metadata": {
    "ExecuteTime": {
     "end_time": "2024-07-04T10:24:41.119888Z",
     "start_time": "2024-07-04T10:24:41.117753Z"
    }
   },
   "cell_type": "code",
   "source": [
    "class C:\n",
    "    @tracer\n",
    "    def method1(self, x, y):\n",
    "        print(x + y)\n",
    "\n",
    "    @tracer\n",
    "    def method2(self, x, y):\n",
    "        print(x * y)\n"
   ],
   "id": "962cc1e0a9d6942e",
   "outputs": [],
   "execution_count": 107
  },
  {
   "metadata": {
    "ExecuteTime": {
     "end_time": "2024-07-04T10:24:42.466125Z",
     "start_time": "2024-07-04T10:24:42.462983Z"
    }
   },
   "cell_type": "code",
   "source": [
    "\n",
    "x = C()\n",
    "x.method1(1, 2)\n",
    "x.method2(10, 25)\n",
    "x.method2(10, 2)\n",
    "y = C()\n",
    "y.method1(1, 5)\n",
    "y.method2(10, 2)"
   ],
   "id": "eaf344cd14739781",
   "outputs": [
    {
     "name": "stdout",
     "output_type": "stream",
     "text": [
      "getting method1\n",
      "\n",
      "call 1 to method1\n",
      "3\n",
      "getting method2\n",
      "\n",
      "call 1 to method2\n",
      "250\n",
      "getting method2\n",
      "\n",
      "call 2 to method2\n",
      "20\n",
      "getting method1\n",
      "\n",
      "call 2 to method1\n",
      "6\n",
      "getting method2\n",
      "\n",
      "call 3 to method2\n",
      "20\n"
     ]
    }
   ],
   "execution_count": 108
  },
  {
   "metadata": {
    "ExecuteTime": {
     "end_time": "2024-07-04T10:13:12.463996Z",
     "start_time": "2024-07-04T10:13:12.458634Z"
    }
   },
   "cell_type": "code",
   "source": [
    "@tracer  \n",
    "def spam(a, b, c):  \n",
    "    print(a + b + c)  \n",
    "    \n",
    "\n",
    "@tracer\n",
    "def eggs():\n",
    "    print('eggs')\n",
    "\n",
    "spam(1, 2, 3)\n",
    "spam('a', 'b', 'c')\n",
    "eggs()\n",
    "eggs()"
   ],
   "id": "d66373c3820b7804",
   "outputs": [
    {
     "name": "stdout",
     "output_type": "stream",
     "text": [
      "call 1 to spam\n",
      "6\n",
      "call 2 to spam\n",
      "abc\n",
      "call 1 to eggs\n",
      "eggs\n",
      "call 2 to eggs\n",
      "eggs\n"
     ]
    }
   ],
   "execution_count": 100
  },
  {
   "metadata": {
    "ExecuteTime": {
     "end_time": "2024-07-04T10:07:37.977734Z",
     "start_time": "2024-07-04T10:07:37.972485Z"
    }
   },
   "cell_type": "code",
   "source": [
    "class DescState:  \n",
    "    def __init__(self, value):  \n",
    "        self.value = value  \n",
    "    def __get__(self, instance, owner):  \n",
    "        return self.value * 10  # 返回描述符状态\n",
    "    def __set__(self, instance, value):  \n",
    "        self.value = value  \n",
    "\n",
    "# Client Class  \n",
    "class CalcAttr:  \n",
    "    X = 2  # 共享X\n",
    "    Y = 3  \n",
    "    def __init__(self):  \n",
    "        self._Z = None\n",
    "    Z = DescState(10)\n",
    "\n",
    "obj = CalcAttr()  \n",
    "print(obj.X, obj.Y, obj.Z) # 100 3 5\n",
    "obj.X = 5  \n",
    "CalcAttr.Y = 6  \n",
    "obj.Z = 7  \n",
    "print(obj.X, obj.Y, obj.Z) # 50 6 7\n",
    "obj2 = CalcAttr()  \n",
    "print(obj2.X, obj2.Y, obj2.Z) # 50 6 7\n"
   ],
   "id": "bd830dbaf5bd7271",
   "outputs": [
    {
     "name": "stdout",
     "output_type": "stream",
     "text": [
      "2 3 100\n",
      "5 6 70\n",
      "2 6 70\n"
     ]
    }
   ],
   "execution_count": 97
  },
  {
   "metadata": {},
   "cell_type": "markdown",
   "source": "简化版本",
   "id": "4c868e1c10e9e11"
  },
  {
   "metadata": {
    "ExecuteTime": {
     "end_time": "2024-07-04T10:59:13.948574Z",
     "start_time": "2024-07-04T10:59:13.941212Z"
    }
   },
   "cell_type": "code",
   "source": [
    "class tracer:\n",
    "    def __init__(self, func):\n",
    "        self.calls = 0\n",
    "        self.func = func\n",
    "        \n",
    "    def __call__(self, *args, **kwargs):\n",
    "        self.calls += 1\n",
    "        print(f'call {self.calls} to {self.func.__name__}')\n",
    "        print(f'run {self.func.__name__}({args}, {kwargs})')\n",
    "        return self.func(*args, **kwargs)\n",
    "    \n",
    "    def __get__(self, instance, owner):\n",
    "        print('get')\n",
    "        print(f'{self.__class__.__name__}, {instance.__class__.__name__}, {owner.__class__.__name__}')\n",
    "        def wrapper(*args, **kwargs):\n",
    "            print(f'wrapper return {self}({instance}, {args}, {kwargs})')\n",
    "            return self(instance, *args, **kwargs) # 此时返回后 call调用的*args中包含了装饰的实例\n",
    "        print('return')\n",
    "        return wrapper\n",
    "    "
   ],
   "id": "f4a4aa6961b0d4d8",
   "outputs": [],
   "execution_count": 168
  },
  {
   "metadata": {
    "ExecuteTime": {
     "end_time": "2024-07-04T10:59:14.224908Z",
     "start_time": "2024-07-04T10:59:14.222780Z"
    }
   },
   "cell_type": "code",
   "source": [
    "class C:\n",
    "    @tracer\n",
    "    def method1(self, x, y):\n",
    "        print(x + y)\n",
    "\n",
    "    @tracer\n",
    "    def method2(self, x, y):\n",
    "        print(x * y)"
   ],
   "id": "485103d0aab34584",
   "outputs": [],
   "execution_count": 169
  },
  {
   "metadata": {
    "ExecuteTime": {
     "end_time": "2024-07-04T10:59:14.559406Z",
     "start_time": "2024-07-04T10:59:14.557025Z"
    }
   },
   "cell_type": "code",
   "source": [
    "x = C()\n",
    "x.method1(1, 2)\n",
    "x.method2(10, 25)\n",
    "x.method2(10, 2)\n",
    "y = C()\n",
    "y.method1(1, 5)\n",
    "y.method2(10, 2)"
   ],
   "id": "eedec5c02cfcf17c",
   "outputs": [
    {
     "name": "stdout",
     "output_type": "stream",
     "text": [
      "get\n",
      "tracer, C, type\n",
      "return\n",
      "wrapper return <__main__.tracer object at 0x111d508d0>(<__main__.C object at 0x111d38190>, (1, 2), {})\n",
      "call 1 to method1\n",
      "run method1((<__main__.C object at 0x111d38190>, 1, 2), {})\n",
      "3\n",
      "get\n",
      "tracer, C, type\n",
      "return\n",
      "wrapper return <__main__.tracer object at 0x111d50990>(<__main__.C object at 0x111d38190>, (10, 25), {})\n",
      "call 1 to method2\n",
      "run method2((<__main__.C object at 0x111d38190>, 10, 25), {})\n",
      "250\n",
      "get\n",
      "tracer, C, type\n",
      "return\n",
      "wrapper return <__main__.tracer object at 0x111d50990>(<__main__.C object at 0x111d38190>, (10, 2), {})\n",
      "call 2 to method2\n",
      "run method2((<__main__.C object at 0x111d38190>, 10, 2), {})\n",
      "20\n",
      "get\n",
      "tracer, C, type\n",
      "return\n",
      "wrapper return <__main__.tracer object at 0x111d508d0>(<__main__.C object at 0x111d3a810>, (1, 5), {})\n",
      "call 2 to method1\n",
      "run method1((<__main__.C object at 0x111d3a810>, 1, 5), {})\n",
      "6\n",
      "get\n",
      "tracer, C, type\n",
      "return\n",
      "wrapper return <__main__.tracer object at 0x111d50990>(<__main__.C object at 0x111d3a810>, (10, 2), {})\n",
      "call 3 to method2\n",
      "run method2((<__main__.C object at 0x111d3a810>, 10, 2), {})\n",
      "20\n"
     ]
    }
   ],
   "execution_count": 170
  },
  {
   "metadata": {
    "ExecuteTime": {
     "end_time": "2024-07-04T10:44:21.954483Z",
     "start_time": "2024-07-04T10:44:21.952268Z"
    }
   },
   "cell_type": "code",
   "source": [
    "@tracer  \n",
    "def spam(a, b, c):  \n",
    "    print(a + b + c)  \n",
    "    \n",
    "\n",
    "@tracer\n",
    "def eggs():\n",
    "    print('eggs')\n",
    "\n",
    "spam(1, 2, 3)\n",
    "spam('a', 'b', 'c')\n",
    "eggs()\n",
    "eggs()"
   ],
   "id": "7506a00081d8b79a",
   "outputs": [
    {
     "name": "stdout",
     "output_type": "stream",
     "text": [
      "call 1 to spam\n",
      "run spam((1, 2, 3), {})\n",
      "6\n",
      "call 2 to spam\n",
      "run spam(('a', 'b', 'c'), {})\n",
      "abc\n",
      "call 1 to eggs\n",
      "run eggs((), {})\n",
      "eggs\n",
      "call 2 to eggs\n",
      "run eggs((), {})\n",
      "eggs\n"
     ]
    }
   ],
   "execution_count": 159
  },
  {
   "metadata": {
    "ExecuteTime": {
     "end_time": "2024-07-04T11:05:55.164688Z",
     "start_time": "2024-07-04T11:05:55.160186Z"
    }
   },
   "cell_type": "code",
   "source": [
    "def tracer2(func):\n",
    "    \"\"\"可用于普通函数和类一级方法\"\"\"\n",
    "    calls = 0\n",
    "    def wrapper(*args, **kwargs):\n",
    "        nonlocal calls\n",
    "        calls += 1\n",
    "        print(f'call {calls} to {func.__name__}')\n",
    "        return func(*args, **kwargs)\n",
    "    return wrapper\n",
    "\n",
    "\n",
    "class C:\n",
    "    @tracer2\n",
    "    def method1(self, x, y):\n",
    "        print(x + y)\n",
    "\n",
    "    @tracer2\n",
    "    def method2(self, x, y):\n",
    "        print(x * y)\n",
    "\n",
    "\n",
    "x = C()\n",
    "x.method1(1, 2)\n",
    "x.method2(10, 25)\n",
    "x.method2(10, 2)\n",
    "y = C()\n",
    "y.method1(1, 5)\n",
    "y.method2(10, 2)"
   ],
   "id": "f25103897acfa4a",
   "outputs": [
    {
     "name": "stdout",
     "output_type": "stream",
     "text": [
      "call 1 to method1\n",
      "3\n",
      "call 1 to method2\n",
      "250\n",
      "call 2 to method2\n",
      "20\n",
      "call 2 to method1\n",
      "6\n",
      "call 3 to method2\n",
      "20\n"
     ]
    }
   ],
   "execution_count": 172
  },
  {
   "metadata": {},
   "cell_type": "code",
   "outputs": [],
   "execution_count": null,
   "source": "",
   "id": "69b1b2fdd71bca82"
  }
 ],
 "metadata": {
  "kernelspec": {
   "display_name": "Python 3",
   "language": "python",
   "name": "python3"
  },
  "language_info": {
   "codemirror_mode": {
    "name": "ipython",
    "version": 2
   },
   "file_extension": ".py",
   "mimetype": "text/x-python",
   "name": "python",
   "nbconvert_exporter": "python",
   "pygments_lexer": "ipython2",
   "version": "2.7.6"
  }
 },
 "nbformat": 4,
 "nbformat_minor": 5
}
