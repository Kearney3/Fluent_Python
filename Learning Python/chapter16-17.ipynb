{
 "cells": [
  {
   "metadata": {},
   "cell_type": "markdown",
   "source": "# 函数",
   "id": "307c1aed08cdb56b"
  },
  {
   "cell_type": "code",
   "id": "initial_id",
   "metadata": {
    "collapsed": true,
    "ExecuteTime": {
     "end_time": "2024-07-08T02:19:00.043145Z",
     "start_time": "2024-07-08T02:19:00.038934Z"
    }
   },
   "source": [
    "x = 'old'\n",
    "def f():\n",
    "    global x\n",
    "    x = 'new'\n",
    "print(x)\n",
    "f()\n",
    "print(x)"
   ],
   "outputs": [
    {
     "name": "stdout",
     "output_type": "stream",
     "text": [
      "old\n",
      "new\n"
     ]
    }
   ],
   "execution_count": 1
  },
  {
   "metadata": {
    "ExecuteTime": {
     "end_time": "2024-07-08T02:19:00.045774Z",
     "start_time": "2024-07-08T02:19:00.044063Z"
    }
   },
   "cell_type": "code",
   "source": [
    "def fun():\n",
    "    x = 'old'\n",
    "    def f():\n",
    "        nonlocal x\n",
    "        x = 'new'\n",
    "    \n",
    "    print(x)\n",
    "    f()\n",
    "    print(x)\n",
    "        \n",
    "fun()"
   ],
   "id": "86399f66ce9d245",
   "outputs": [
    {
     "name": "stdout",
     "output_type": "stream",
     "text": [
      "old\n",
      "new\n"
     ]
    }
   ],
   "execution_count": 2
  },
  {
   "metadata": {
    "ExecuteTime": {
     "end_time": "2024-07-08T02:19:00.047819Z",
     "start_time": "2024-07-08T02:19:00.046297Z"
    }
   },
   "cell_type": "code",
   "source": [
    "def intersect(seq1, seq2):\n",
    "    rec = []\n",
    "    for x in seq1:\n",
    "        if x in seq2:\n",
    "            rec.append(x)\n",
    "    \n",
    "    return rec\n"
   ],
   "id": "878d121b4641df11",
   "outputs": [],
   "execution_count": 3
  },
  {
   "metadata": {
    "ExecuteTime": {
     "end_time": "2024-07-08T02:19:00.052369Z",
     "start_time": "2024-07-08T02:19:00.048994Z"
    }
   },
   "cell_type": "code",
   "source": [
    "s1 = [1, 2, 3, 4, 5]\n",
    "s2 = [4, 5, 6, 7, 8]\n",
    "intersect(s1, s2)"
   ],
   "id": "70a893bdb37bba5b",
   "outputs": [
    {
     "data": {
      "text/plain": [
       "[4, 5]"
      ]
     },
     "execution_count": 4,
     "metadata": {},
     "output_type": "execute_result"
    }
   ],
   "execution_count": 4
  },
  {
   "metadata": {
    "ExecuteTime": {
     "end_time": "2024-07-08T02:19:00.059640Z",
     "start_time": "2024-07-08T02:19:00.057183Z"
    }
   },
   "cell_type": "code",
   "source": "intersect([1,2,3], {2,3,4,5})",
   "id": "15ced0344d1ec89e",
   "outputs": [
    {
     "data": {
      "text/plain": [
       "[2, 3]"
      ]
     },
     "execution_count": 5,
     "metadata": {},
     "output_type": "execute_result"
    }
   ],
   "execution_count": 5
  },
  {
   "metadata": {
    "ExecuteTime": {
     "end_time": "2024-07-08T02:19:00.072180Z",
     "start_time": "2024-07-08T02:19:00.069715Z"
    }
   },
   "cell_type": "code",
   "source": [
    "X = 'NEW'\n",
    "I = [1,-2,3]\n",
    "[abs(X) for X in I]"
   ],
   "id": "e3500a52f8e75782",
   "outputs": [
    {
     "data": {
      "text/plain": [
       "[1, 2, 3]"
      ]
     },
     "execution_count": 6,
     "metadata": {},
     "output_type": "execute_result"
    }
   ],
   "execution_count": 6
  },
  {
   "metadata": {},
   "cell_type": "markdown",
   "source": "# Scope",
   "id": "d7a6029b5abe7b89"
  },
  {
   "metadata": {
    "ExecuteTime": {
     "end_time": "2024-07-08T02:19:00.117191Z",
     "start_time": "2024-07-08T02:19:00.114571Z"
    }
   },
   "cell_type": "code",
   "source": [
    "X = 99\n",
    "def func(Y):\n",
    "    Z = X + Y\n",
    "    return Z\n",
    "\n",
    "func(1)"
   ],
   "id": "3252dae22ef763a6",
   "outputs": [
    {
     "data": {
      "text/plain": [
       "100"
      ]
     },
     "execution_count": 7,
     "metadata": {},
     "output_type": "execute_result"
    }
   ],
   "execution_count": 7
  },
  {
   "metadata": {
    "ExecuteTime": {
     "end_time": "2024-07-08T02:19:00.163820Z",
     "start_time": "2024-07-08T02:19:00.160792Z"
    }
   },
   "cell_type": "code",
   "source": [
    "import builtins\n",
    "dir(builtins)"
   ],
   "id": "a4ff05ef2567df30",
   "outputs": [
    {
     "data": {
      "text/plain": [
       "['ArithmeticError',\n",
       " 'AssertionError',\n",
       " 'AttributeError',\n",
       " 'BaseException',\n",
       " 'BaseExceptionGroup',\n",
       " 'BlockingIOError',\n",
       " 'BrokenPipeError',\n",
       " 'BufferError',\n",
       " 'BytesWarning',\n",
       " 'ChildProcessError',\n",
       " 'ConnectionAbortedError',\n",
       " 'ConnectionError',\n",
       " 'ConnectionRefusedError',\n",
       " 'ConnectionResetError',\n",
       " 'DeprecationWarning',\n",
       " 'EOFError',\n",
       " 'Ellipsis',\n",
       " 'EncodingWarning',\n",
       " 'EnvironmentError',\n",
       " 'Exception',\n",
       " 'ExceptionGroup',\n",
       " 'False',\n",
       " 'FileExistsError',\n",
       " 'FileNotFoundError',\n",
       " 'FloatingPointError',\n",
       " 'FutureWarning',\n",
       " 'GeneratorExit',\n",
       " 'IOError',\n",
       " 'ImportError',\n",
       " 'ImportWarning',\n",
       " 'IndentationError',\n",
       " 'IndexError',\n",
       " 'InterruptedError',\n",
       " 'IsADirectoryError',\n",
       " 'KeyError',\n",
       " 'KeyboardInterrupt',\n",
       " 'LookupError',\n",
       " 'MemoryError',\n",
       " 'ModuleNotFoundError',\n",
       " 'NameError',\n",
       " 'None',\n",
       " 'NotADirectoryError',\n",
       " 'NotImplemented',\n",
       " 'NotImplementedError',\n",
       " 'OSError',\n",
       " 'OverflowError',\n",
       " 'PendingDeprecationWarning',\n",
       " 'PermissionError',\n",
       " 'ProcessLookupError',\n",
       " 'RecursionError',\n",
       " 'ReferenceError',\n",
       " 'ResourceWarning',\n",
       " 'RuntimeError',\n",
       " 'RuntimeWarning',\n",
       " 'StopAsyncIteration',\n",
       " 'StopIteration',\n",
       " 'SyntaxError',\n",
       " 'SyntaxWarning',\n",
       " 'SystemError',\n",
       " 'SystemExit',\n",
       " 'TabError',\n",
       " 'TimeoutError',\n",
       " 'True',\n",
       " 'TypeError',\n",
       " 'UnboundLocalError',\n",
       " 'UnicodeDecodeError',\n",
       " 'UnicodeEncodeError',\n",
       " 'UnicodeError',\n",
       " 'UnicodeTranslateError',\n",
       " 'UnicodeWarning',\n",
       " 'UserWarning',\n",
       " 'ValueError',\n",
       " 'Warning',\n",
       " 'ZeroDivisionError',\n",
       " '__IPYTHON__',\n",
       " '__build_class__',\n",
       " '__debug__',\n",
       " '__doc__',\n",
       " '__import__',\n",
       " '__loader__',\n",
       " '__name__',\n",
       " '__package__',\n",
       " '__spec__',\n",
       " 'abs',\n",
       " 'aiter',\n",
       " 'all',\n",
       " 'anext',\n",
       " 'any',\n",
       " 'ascii',\n",
       " 'bin',\n",
       " 'bool',\n",
       " 'breakpoint',\n",
       " 'bytearray',\n",
       " 'bytes',\n",
       " 'callable',\n",
       " 'chr',\n",
       " 'classmethod',\n",
       " 'compile',\n",
       " 'complex',\n",
       " 'copyright',\n",
       " 'credits',\n",
       " 'delattr',\n",
       " 'dict',\n",
       " 'dir',\n",
       " 'display',\n",
       " 'divmod',\n",
       " 'enumerate',\n",
       " 'eval',\n",
       " 'exec',\n",
       " 'execfile',\n",
       " 'filter',\n",
       " 'float',\n",
       " 'format',\n",
       " 'frozenset',\n",
       " 'get_ipython',\n",
       " 'getattr',\n",
       " 'globals',\n",
       " 'hasattr',\n",
       " 'hash',\n",
       " 'help',\n",
       " 'hex',\n",
       " 'id',\n",
       " 'input',\n",
       " 'int',\n",
       " 'isinstance',\n",
       " 'issubclass',\n",
       " 'iter',\n",
       " 'len',\n",
       " 'license',\n",
       " 'list',\n",
       " 'locals',\n",
       " 'map',\n",
       " 'max',\n",
       " 'memoryview',\n",
       " 'min',\n",
       " 'next',\n",
       " 'object',\n",
       " 'oct',\n",
       " 'open',\n",
       " 'ord',\n",
       " 'pow',\n",
       " 'print',\n",
       " 'property',\n",
       " 'range',\n",
       " 'repr',\n",
       " 'reversed',\n",
       " 'round',\n",
       " 'runfile',\n",
       " 'set',\n",
       " 'setattr',\n",
       " 'slice',\n",
       " 'sorted',\n",
       " 'staticmethod',\n",
       " 'str',\n",
       " 'sum',\n",
       " 'super',\n",
       " 'tuple',\n",
       " 'type',\n",
       " 'vars',\n",
       " 'zip']"
      ]
     },
     "execution_count": 8,
     "metadata": {},
     "output_type": "execute_result"
    }
   ],
   "execution_count": 8
  },
  {
   "metadata": {
    "ExecuteTime": {
     "end_time": "2024-07-08T02:19:00.198194Z",
     "start_time": "2024-07-08T02:19:00.195935Z"
    }
   },
   "cell_type": "code",
   "source": "zip is builtins.zip",
   "id": "4e5aedcac12af7d4",
   "outputs": [
    {
     "data": {
      "text/plain": [
       "True"
      ]
     },
     "execution_count": 9,
     "metadata": {},
     "output_type": "execute_result"
    }
   ],
   "execution_count": 9
  },
  {
   "metadata": {},
   "cell_type": "markdown",
   "source": "# 闭包",
   "id": "8bda4d6b9f7544fd"
  },
  {
   "metadata": {
    "ExecuteTime": {
     "end_time": "2024-07-08T02:19:00.243882Z",
     "start_time": "2024-07-08T02:19:00.241877Z"
    }
   },
   "cell_type": "code",
   "source": [
    "def maker(N):\n",
    "    def action(X):\n",
    "        return X ** N\n",
    "    return action"
   ],
   "id": "9af3e5c47ebca5dd",
   "outputs": [],
   "execution_count": 10
  },
  {
   "metadata": {
    "ExecuteTime": {
     "end_time": "2024-07-08T02:19:00.268402Z",
     "start_time": "2024-07-08T02:19:00.266412Z"
    }
   },
   "cell_type": "code",
   "source": [
    "f = maker(2)\n",
    "f"
   ],
   "id": "d8ab12ef7d16fdd2",
   "outputs": [
    {
     "data": {
      "text/plain": [
       "<function __main__.maker.<locals>.action(X)>"
      ]
     },
     "execution_count": 11,
     "metadata": {},
     "output_type": "execute_result"
    }
   ],
   "execution_count": 11
  },
  {
   "metadata": {
    "ExecuteTime": {
     "end_time": "2024-07-08T02:19:00.331882Z",
     "start_time": "2024-07-08T02:19:00.329412Z"
    }
   },
   "cell_type": "code",
   "source": "f(2), f(4), f(5), f(10)",
   "id": "72a370e088740d8d",
   "outputs": [
    {
     "data": {
      "text/plain": [
       "(4, 16, 25, 100)"
      ]
     },
     "execution_count": 12,
     "metadata": {},
     "output_type": "execute_result"
    }
   ],
   "execution_count": 12
  },
  {
   "metadata": {
    "ExecuteTime": {
     "end_time": "2024-07-08T02:19:00.342390Z",
     "start_time": "2024-07-08T02:19:00.340552Z"
    }
   },
   "cell_type": "code",
   "source": [
    "g = maker(3)\n",
    "g"
   ],
   "id": "c49d99c032317e93",
   "outputs": [
    {
     "data": {
      "text/plain": [
       "<function __main__.maker.<locals>.action(X)>"
      ]
     },
     "execution_count": 13,
     "metadata": {},
     "output_type": "execute_result"
    }
   ],
   "execution_count": 13
  },
  {
   "metadata": {
    "ExecuteTime": {
     "end_time": "2024-07-08T02:19:00.357291Z",
     "start_time": "2024-07-08T02:19:00.354426Z"
    }
   },
   "cell_type": "code",
   "source": "g(2), g(4), g(5), g(10)",
   "id": "28b9631a79625764",
   "outputs": [
    {
     "data": {
      "text/plain": [
       "(8, 64, 125, 1000)"
      ]
     },
     "execution_count": 14,
     "metadata": {},
     "output_type": "execute_result"
    }
   ],
   "execution_count": 14
  },
  {
   "metadata": {
    "ExecuteTime": {
     "end_time": "2024-07-08T02:19:00.390074Z",
     "start_time": "2024-07-08T02:19:00.387304Z"
    }
   },
   "cell_type": "code",
   "source": [
    "def maker1(N):\n",
    "    return lambda X: X ** N\n",
    "\n",
    "h = maker1(3)\n",
    "h"
   ],
   "id": "f5b02a9f7f924fa7",
   "outputs": [
    {
     "data": {
      "text/plain": [
       "<function __main__.maker1.<locals>.<lambda>(X)>"
      ]
     },
     "execution_count": 15,
     "metadata": {},
     "output_type": "execute_result"
    }
   ],
   "execution_count": 15
  },
  {
   "metadata": {
    "ExecuteTime": {
     "end_time": "2024-07-08T02:19:00.411208Z",
     "start_time": "2024-07-08T02:19:00.408757Z"
    }
   },
   "cell_type": "code",
   "source": "h(2), h(4), h(5), h(10)",
   "id": "84cb1c532b733ed4",
   "outputs": [
    {
     "data": {
      "text/plain": [
       "(8, 64, 125, 1000)"
      ]
     },
     "execution_count": 16,
     "metadata": {},
     "output_type": "execute_result"
    }
   ],
   "execution_count": 16
  },
  {
   "metadata": {
    "ExecuteTime": {
     "end_time": "2024-07-08T02:19:00.425695Z",
     "start_time": "2024-07-08T02:19:00.423374Z"
    }
   },
   "cell_type": "code",
   "source": [
    "def func():\n",
    "    x = 4\n",
    "    action = lambda x, n: x**n\n",
    "    return action\n",
    "func()(2, 3)"
   ],
   "id": "95d1896072c1b039",
   "outputs": [
    {
     "data": {
      "text/plain": [
       "8"
      ]
     },
     "execution_count": 17,
     "metadata": {},
     "output_type": "execute_result"
    }
   ],
   "execution_count": 17
  },
  {
   "metadata": {},
   "cell_type": "markdown",
   "source": "# 循环变量需要默认值",
   "id": "8b914efee937eb2c"
  },
  {
   "metadata": {
    "ExecuteTime": {
     "end_time": "2024-07-08T02:19:00.461328Z",
     "start_time": "2024-07-08T02:19:00.458417Z"
    }
   },
   "cell_type": "code",
   "source": [
    "def makeAction():\n",
    "    act = []\n",
    "    for i in range(5):\n",
    "        act.append(lambda x:i**x)\n",
    "    return act\n",
    "\n",
    "acts = makeAction()\n",
    "acts"
   ],
   "id": "934e9219613f2bae",
   "outputs": [
    {
     "data": {
      "text/plain": [
       "[<function __main__.makeAction.<locals>.<lambda>(x)>,\n",
       " <function __main__.makeAction.<locals>.<lambda>(x)>,\n",
       " <function __main__.makeAction.<locals>.<lambda>(x)>,\n",
       " <function __main__.makeAction.<locals>.<lambda>(x)>,\n",
       " <function __main__.makeAction.<locals>.<lambda>(x)>]"
      ]
     },
     "execution_count": 18,
     "metadata": {},
     "output_type": "execute_result"
    }
   ],
   "execution_count": 18
  },
  {
   "metadata": {
    "ExecuteTime": {
     "end_time": "2024-07-08T02:19:00.477604Z",
     "start_time": "2024-07-08T02:19:00.475076Z"
    }
   },
   "cell_type": "code",
   "source": "acts[0]",
   "id": "3a4b55e62817f09b",
   "outputs": [
    {
     "data": {
      "text/plain": [
       "<function __main__.makeAction.<locals>.<lambda>(x)>"
      ]
     },
     "execution_count": 19,
     "metadata": {},
     "output_type": "execute_result"
    }
   ],
   "execution_count": 19
  },
  {
   "metadata": {
    "ExecuteTime": {
     "end_time": "2024-07-08T02:19:00.518376Z",
     "start_time": "2024-07-08T02:19:00.515681Z"
    }
   },
   "cell_type": "code",
   "source": "acts[0](2), acts[1](2), acts[2](2), acts[3](2), acts[4](2)",
   "id": "816fb4f92d71c6e3",
   "outputs": [
    {
     "data": {
      "text/plain": [
       "(16, 16, 16, 16, 16)"
      ]
     },
     "execution_count": 20,
     "metadata": {},
     "output_type": "execute_result"
    }
   ],
   "execution_count": 20
  },
  {
   "metadata": {},
   "cell_type": "markdown",
   "source": "## 改进",
   "id": "6e43c7f1456f520c"
  },
  {
   "metadata": {
    "ExecuteTime": {
     "end_time": "2024-07-08T02:19:00.547179Z",
     "start_time": "2024-07-08T02:19:00.544299Z"
    }
   },
   "cell_type": "code",
   "source": [
    "def makeAction():\n",
    "    act = []\n",
    "    for i in range(5):\n",
    "        act.append(lambda x,i=i :i**x)\n",
    "    return act\n",
    "\n",
    "acts = makeAction()\n",
    "acts"
   ],
   "id": "ed8324b7d0073cf7",
   "outputs": [
    {
     "data": {
      "text/plain": [
       "[<function __main__.makeAction.<locals>.<lambda>(x, i=0)>,\n",
       " <function __main__.makeAction.<locals>.<lambda>(x, i=1)>,\n",
       " <function __main__.makeAction.<locals>.<lambda>(x, i=2)>,\n",
       " <function __main__.makeAction.<locals>.<lambda>(x, i=3)>,\n",
       " <function __main__.makeAction.<locals>.<lambda>(x, i=4)>]"
      ]
     },
     "execution_count": 21,
     "metadata": {},
     "output_type": "execute_result"
    }
   ],
   "execution_count": 21
  },
  {
   "metadata": {
    "ExecuteTime": {
     "end_time": "2024-07-08T02:19:00.576588Z",
     "start_time": "2024-07-08T02:19:00.574519Z"
    }
   },
   "cell_type": "code",
   "source": "acts[0]",
   "id": "222030c6c038b241",
   "outputs": [
    {
     "data": {
      "text/plain": [
       "<function __main__.makeAction.<locals>.<lambda>(x, i=0)>"
      ]
     },
     "execution_count": 22,
     "metadata": {},
     "output_type": "execute_result"
    }
   ],
   "execution_count": 22
  },
  {
   "metadata": {
    "ExecuteTime": {
     "end_time": "2024-07-08T02:19:00.592163Z",
     "start_time": "2024-07-08T02:19:00.589670Z"
    }
   },
   "cell_type": "code",
   "source": "acts[0](2), acts[1](2), acts[2](2), acts[3](2), acts[4](2)",
   "id": "495d5bcc95a6d268",
   "outputs": [
    {
     "data": {
      "text/plain": [
       "(0, 1, 4, 9, 16)"
      ]
     },
     "execution_count": 23,
     "metadata": {},
     "output_type": "execute_result"
    }
   ],
   "execution_count": 23
  },
  {
   "metadata": {},
   "cell_type": "markdown",
   "source": "## Global",
   "id": "44f6111785feb3bd"
  },
  {
   "metadata": {
    "ExecuteTime": {
     "end_time": "2024-07-08T02:19:00.623627Z",
     "start_time": "2024-07-08T02:19:00.621825Z"
    }
   },
   "cell_type": "code",
   "source": [
    "global p\n",
    "p = 10"
   ],
   "id": "c1ecc20f5cbd4403",
   "outputs": [],
   "execution_count": 24
  },
  {
   "metadata": {},
   "cell_type": "markdown",
   "source": "## Nonlocal 要求先定义",
   "id": "f1b74232e3553791"
  },
  {
   "metadata": {
    "ExecuteTime": {
     "end_time": "2024-07-08T02:19:00.661272Z",
     "start_time": "2024-07-08T02:19:00.658702Z"
    }
   },
   "cell_type": "code",
   "source": [
    "nonlocal q\n",
    "q = 10"
   ],
   "id": "245687ee120448c3",
   "outputs": [
    {
     "ename": "SyntaxError",
     "evalue": "nonlocal declaration not allowed at module level (352110741.py, line 1)",
     "output_type": "error",
     "traceback": [
      "\u001B[0;36m  Cell \u001B[0;32mIn[25], line 1\u001B[0;36m\u001B[0m\n\u001B[0;31m    nonlocal q\u001B[0m\n\u001B[0m    ^\u001B[0m\n\u001B[0;31mSyntaxError\u001B[0m\u001B[0;31m:\u001B[0m nonlocal declaration not allowed at module level\n"
     ]
    }
   ],
   "execution_count": 25
  },
  {
   "metadata": {
    "ExecuteTime": {
     "end_time": "2024-07-08T02:19:00.703003Z",
     "start_time": "2024-07-08T02:19:00.701100Z"
    }
   },
   "cell_type": "code",
   "source": [
    "def f1():\n",
    "    q = 10\n",
    "    def f2():\n",
    "        nonlocal q\n",
    "        q = 20\n",
    "    f2()\n",
    "    print(q)"
   ],
   "id": "533b54f181f4b34c",
   "outputs": [],
   "execution_count": 26
  },
  {
   "metadata": {
    "ExecuteTime": {
     "end_time": "2024-07-08T02:19:00.727255Z",
     "start_time": "2024-07-08T02:19:00.725295Z"
    }
   },
   "cell_type": "code",
   "source": "f1()",
   "id": "499ef07014a4599b",
   "outputs": [
    {
     "name": "stdout",
     "output_type": "stream",
     "text": [
      "20\n"
     ]
    }
   ],
   "execution_count": 27
  },
  {
   "metadata": {
    "ExecuteTime": {
     "end_time": "2024-07-08T02:19:00.811384Z",
     "start_time": "2024-07-08T02:19:00.808664Z"
    }
   },
   "cell_type": "code",
   "source": [
    "def f2(start):\n",
    "    state = start\n",
    "    def nested(label):\n",
    "        print(label, state)\n",
    "    return nested\n",
    "F = f2(0)\n",
    "F"
   ],
   "id": "708fa70d0355584a",
   "outputs": [
    {
     "data": {
      "text/plain": [
       "<function __main__.f2.<locals>.nested(label)>"
      ]
     },
     "execution_count": 28,
     "metadata": {},
     "output_type": "execute_result"
    }
   ],
   "execution_count": 28
  },
  {
   "metadata": {
    "ExecuteTime": {
     "end_time": "2024-07-08T02:19:00.825955Z",
     "start_time": "2024-07-08T02:19:00.824274Z"
    }
   },
   "cell_type": "code",
   "source": "F('spam')",
   "id": "1e7030aef61dd6c4",
   "outputs": [
    {
     "name": "stdout",
     "output_type": "stream",
     "text": [
      "spam 0\n"
     ]
    }
   ],
   "execution_count": 29
  },
  {
   "metadata": {
    "ExecuteTime": {
     "end_time": "2024-07-08T02:19:00.845820Z",
     "start_time": "2024-07-08T02:19:00.843219Z"
    }
   },
   "cell_type": "code",
   "source": [
    "def f3(start):\n",
    "    state = start\n",
    "    def nested(label):\n",
    "        print(label, state)\n",
    "        state += 1\n",
    "    return nested\n",
    "F = f3(0)\n",
    "F"
   ],
   "id": "7d075b62a294be1d",
   "outputs": [
    {
     "data": {
      "text/plain": [
       "<function __main__.f3.<locals>.nested(label)>"
      ]
     },
     "execution_count": 30,
     "metadata": {},
     "output_type": "execute_result"
    }
   ],
   "execution_count": 30
  },
  {
   "metadata": {
    "ExecuteTime": {
     "end_time": "2024-07-08T02:19:01.071217Z",
     "start_time": "2024-07-08T02:19:00.871672Z"
    }
   },
   "cell_type": "code",
   "source": "F('spam')",
   "id": "3615d0e08ba1f97e",
   "outputs": [
    {
     "ename": "UnboundLocalError",
     "evalue": "cannot access local variable 'state' where it is not associated with a value",
     "output_type": "error",
     "traceback": [
      "\u001B[0;31m---------------------------------------------------------------------------\u001B[0m",
      "\u001B[0;31mUnboundLocalError\u001B[0m                         Traceback (most recent call last)",
      "Cell \u001B[0;32mIn[31], line 1\u001B[0m\n\u001B[0;32m----> 1\u001B[0m F(\u001B[38;5;124m'\u001B[39m\u001B[38;5;124mspam\u001B[39m\u001B[38;5;124m'\u001B[39m)\n",
      "Cell \u001B[0;32mIn[30], line 4\u001B[0m, in \u001B[0;36mf3.<locals>.nested\u001B[0;34m(label)\u001B[0m\n\u001B[1;32m      3\u001B[0m \u001B[38;5;28;01mdef\u001B[39;00m \u001B[38;5;21mnested\u001B[39m(label):\n\u001B[0;32m----> 4\u001B[0m     \u001B[38;5;28mprint\u001B[39m(label, state)\n\u001B[1;32m      5\u001B[0m     state \u001B[38;5;241m+\u001B[39m\u001B[38;5;241m=\u001B[39m \u001B[38;5;241m1\u001B[39m\n",
      "\u001B[0;31mUnboundLocalError\u001B[0m: cannot access local variable 'state' where it is not associated with a value"
     ]
    }
   ],
   "execution_count": 31
  },
  {
   "metadata": {},
   "cell_type": "markdown",
   "source": "使用 nonlocal ",
   "id": "88b51b4afdf575d3"
  },
  {
   "metadata": {},
   "cell_type": "code",
   "source": [
    "def f4(start):\n",
    "    state = start\n",
    "    def nested(label):\n",
    "        nonlocal state\n",
    "        print(label, state)\n",
    "        state += 1\n",
    "    return nested\n",
    "F = f4(0)\n",
    "F"
   ],
   "id": "e0ea2c8ac2308fe2",
   "outputs": [],
   "execution_count": null
  },
  {
   "metadata": {},
   "cell_type": "code",
   "source": "F('spam'), F('spam'),F('spam')",
   "id": "f6e51aea73b2e5b9",
   "outputs": [],
   "execution_count": null
  },
  {
   "metadata": {},
   "cell_type": "code",
   "source": "G = f4(0)",
   "id": "ca0ca26cb0a9b017",
   "outputs": [],
   "execution_count": null
  },
  {
   "metadata": {},
   "cell_type": "code",
   "source": "G('spam'), G('spam'),G('spam')",
   "id": "aa55c211a81f061c",
   "outputs": [],
   "execution_count": null
  },
  {
   "metadata": {},
   "cell_type": "code",
   "source": "F('spam'), F('s')",
   "id": "bc6c5f892957a243",
   "outputs": [],
   "execution_count": null
  },
  {
   "metadata": {},
   "cell_type": "code",
   "source": "G('hello')",
   "id": "c58a7c2cff614c8d",
   "outputs": [],
   "execution_count": null
  },
  {
   "metadata": {},
   "cell_type": "code",
   "source": [
    "class tester:\n",
    "    def __init__(self, start):\n",
    "        self.state = start\n",
    "    def __call__(self, label):\n",
    "        print(label, self.state)\n",
    "        self.state += 1\n",
    "        \n",
    "t = tester(31)"
   ],
   "id": "dcb9af93b82f97f4",
   "outputs": [],
   "execution_count": null
  },
  {
   "metadata": {},
   "cell_type": "code",
   "source": "t('spam'), t('new')",
   "id": "1e23a70abbfdb9f6",
   "outputs": [],
   "execution_count": null
  },
  {
   "metadata": {},
   "cell_type": "markdown",
   "source": "# 使用函数属性",
   "id": "da296852515f6e6b"
  },
  {
   "metadata": {},
   "cell_type": "code",
   "source": [
    "def tester(start):\n",
    "    def nested(label):\n",
    "        print(label, nested.state)\n",
    "        nested.state += 1\n",
    "    nested.state = start\n",
    "    return nested\n",
    "\n",
    "F = tester(0)"
   ],
   "id": "e4c811b739c66838",
   "outputs": [],
   "execution_count": null
  },
  {
   "metadata": {},
   "cell_type": "code",
   "source": "F('spam'), F('new'), F('new')",
   "id": "d31d553aeea7a1a3",
   "outputs": [],
   "execution_count": null
  },
  {
   "metadata": {},
   "cell_type": "code",
   "source": "F.state",
   "id": "c327ce6007a1e50c",
   "outputs": [],
   "execution_count": null
  },
  {
   "metadata": {},
   "cell_type": "code",
   "source": "G = tester(32)",
   "id": "92cf86f5bbc15df4",
   "outputs": [],
   "execution_count": null
  },
  {
   "metadata": {},
   "cell_type": "code",
   "source": "G('spam'), G('new'), G('new'), G('new'), G('new')",
   "id": "e8f60778d202f312",
   "outputs": [],
   "execution_count": null
  },
  {
   "metadata": {},
   "cell_type": "code",
   "source": "G.state",
   "id": "680136b031454d8e",
   "outputs": [],
   "execution_count": null
  },
  {
   "metadata": {},
   "cell_type": "code",
   "source": "F is G",
   "id": "f5a0dd2dd26a9925",
   "outputs": [],
   "execution_count": null
  },
  {
   "metadata": {},
   "cell_type": "code",
   "source": [
    "def tester(start):\n",
    "    state = [start]\n",
    "    def nested(label):\n",
    "        print(label, state[0])\n",
    "        state[0] = state[0] + 1\n",
    "    return nested\n",
    "\n",
    "F = tester(0)"
   ],
   "id": "64db1851fc47ab2c",
   "outputs": [],
   "execution_count": null
  },
  {
   "metadata": {},
   "cell_type": "code",
   "source": "F('spam'), F('new'), F('new')",
   "id": "4904a91bf2de23ff",
   "outputs": [],
   "execution_count": null
  },
  {
   "metadata": {},
   "cell_type": "code",
   "source": "G = tester(32)",
   "id": "851ef687f43d9260",
   "outputs": [],
   "execution_count": null
  },
  {
   "metadata": {},
   "cell_type": "code",
   "source": "G('spam'), G('new'), G('new')",
   "id": "8d224de356fac721",
   "outputs": [],
   "execution_count": null
  },
  {
   "metadata": {},
   "cell_type": "markdown",
   "source": "# 自定义 open",
   "id": "6f68a9592a37e503"
  },
  {
   "metadata": {},
   "cell_type": "code",
   "source": [
    "import builtins\n",
    "def makeopen(id):\n",
    "    original = builtins.open\n",
    "    def custom(*args, **kwargs):\n",
    "        print(f'Custom open called with {args} and {kwargs}')\n",
    "        return original(*args, **kwargs)\n",
    "    builtins.open = custom"
   ],
   "id": "372665953cb9180",
   "outputs": [],
   "execution_count": null
  },
  {
   "metadata": {},
   "cell_type": "code",
   "source": [
    "f = makeopen('spam')\n",
    "f"
   ],
   "id": "93c2c0457ad8bbf4",
   "outputs": [],
   "execution_count": null
  },
  {
   "metadata": {},
   "cell_type": "code",
   "source": [
    "F = open('text.log', 'r')\n",
    "F"
   ],
   "id": "8a67133bc810495",
   "outputs": [],
   "execution_count": null
  },
  {
   "metadata": {
    "ExecuteTime": {
     "end_time": "2024-07-08T02:19:01.099759Z",
     "start_time": "2024-07-08T02:19:01.098387Z"
    }
   },
   "cell_type": "code",
   "source": "",
   "id": "33865dc3c077902a",
   "outputs": [],
   "execution_count": 31
  }
 ],
 "metadata": {
  "kernelspec": {
   "display_name": "Python 3",
   "language": "python",
   "name": "python3"
  },
  "language_info": {
   "codemirror_mode": {
    "name": "ipython",
    "version": 2
   },
   "file_extension": ".py",
   "mimetype": "text/x-python",
   "name": "python",
   "nbconvert_exporter": "python",
   "pygments_lexer": "ipython2",
   "version": "2.7.6"
  }
 },
 "nbformat": 4,
 "nbformat_minor": 5
}
