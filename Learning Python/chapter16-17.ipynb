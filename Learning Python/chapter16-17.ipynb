{
 "cells": [
  {
   "metadata": {},
   "cell_type": "markdown",
   "source": "# 函数",
   "id": "307c1aed08cdb56b"
  },
  {
   "cell_type": "code",
   "id": "initial_id",
   "metadata": {
    "collapsed": true,
    "ExecuteTime": {
     "end_time": "2024-06-23T02:55:39.671051Z",
     "start_time": "2024-06-23T02:55:39.669144Z"
    }
   },
   "source": [
    "x = 'old'\n",
    "def f():\n",
    "    global x\n",
    "    x = 'new'\n",
    "print(x)\n",
    "f()\n",
    "print(x)"
   ],
   "outputs": [
    {
     "name": "stdout",
     "output_type": "stream",
     "text": [
      "old\n",
      "new\n"
     ]
    }
   ],
   "execution_count": 4
  },
  {
   "metadata": {
    "ExecuteTime": {
     "end_time": "2024-06-23T02:57:47.492533Z",
     "start_time": "2024-06-23T02:57:47.488848Z"
    }
   },
   "cell_type": "code",
   "source": [
    "def fun():\n",
    "    x = 'old'\n",
    "    def f():\n",
    "        nonlocal x\n",
    "        x = 'new'\n",
    "    \n",
    "    print(x)\n",
    "    f()\n",
    "    print(x)\n",
    "        \n",
    "fun()"
   ],
   "id": "86399f66ce9d245",
   "outputs": [
    {
     "name": "stdout",
     "output_type": "stream",
     "text": [
      "old\n",
      "new\n"
     ]
    }
   ],
   "execution_count": 9
  },
  {
   "metadata": {
    "ExecuteTime": {
     "end_time": "2024-06-23T03:00:00.508951Z",
     "start_time": "2024-06-23T03:00:00.502111Z"
    }
   },
   "cell_type": "code",
   "source": [
    "def intersect(seq1, seq2):\n",
    "    rec = []\n",
    "    for x in seq1:\n",
    "        if x in seq2:\n",
    "            rec.append(x)\n",
    "    \n",
    "    return rec\n"
   ],
   "id": "878d121b4641df11",
   "outputs": [],
   "execution_count": 10
  },
  {
   "metadata": {
    "ExecuteTime": {
     "end_time": "2024-06-23T03:00:16.192834Z",
     "start_time": "2024-06-23T03:00:16.190430Z"
    }
   },
   "cell_type": "code",
   "source": [
    "s1 = [1, 2, 3, 4, 5]\n",
    "s2 = [4, 5, 6, 7, 8]\n",
    "intersect(s1, s2)"
   ],
   "id": "70a893bdb37bba5b",
   "outputs": [
    {
     "data": {
      "text/plain": [
       "[4, 5]"
      ]
     },
     "execution_count": 12,
     "metadata": {},
     "output_type": "execute_result"
    }
   ],
   "execution_count": 12
  },
  {
   "metadata": {
    "ExecuteTime": {
     "end_time": "2024-06-23T03:01:09.402738Z",
     "start_time": "2024-06-23T03:01:09.400398Z"
    }
   },
   "cell_type": "code",
   "source": "intersect([1,2,3], {2,3,4,5})",
   "id": "15ced0344d1ec89e",
   "outputs": [
    {
     "data": {
      "text/plain": [
       "[2, 3]"
      ]
     },
     "execution_count": 14,
     "metadata": {},
     "output_type": "execute_result"
    }
   ],
   "execution_count": 14
  },
  {
   "metadata": {
    "ExecuteTime": {
     "end_time": "2024-06-23T03:28:52.738623Z",
     "start_time": "2024-06-23T03:28:52.727072Z"
    }
   },
   "cell_type": "code",
   "source": [
    "X = 'NEW'\n",
    "I = [1,-2,3]\n",
    "[abs(X) for X in I]"
   ],
   "id": "e3500a52f8e75782",
   "outputs": [
    {
     "data": {
      "text/plain": [
       "[1, 2, 3]"
      ]
     },
     "execution_count": 15,
     "metadata": {},
     "output_type": "execute_result"
    }
   ],
   "execution_count": 15
  },
  {
   "metadata": {},
   "cell_type": "markdown",
   "source": "# Scope",
   "id": "d7a6029b5abe7b89"
  },
  {
   "metadata": {
    "ExecuteTime": {
     "end_time": "2024-06-23T03:31:21.899137Z",
     "start_time": "2024-06-23T03:31:21.896389Z"
    }
   },
   "cell_type": "code",
   "source": [
    "X = 99\n",
    "def func(Y):\n",
    "    Z = X + Y\n",
    "    return Z\n",
    "\n",
    "func(1)"
   ],
   "id": "3252dae22ef763a6",
   "outputs": [
    {
     "data": {
      "text/plain": [
       "100"
      ]
     },
     "execution_count": 20,
     "metadata": {},
     "output_type": "execute_result"
    }
   ],
   "execution_count": 20
  },
  {
   "metadata": {
    "ExecuteTime": {
     "end_time": "2024-06-23T03:32:03.615616Z",
     "start_time": "2024-06-23T03:32:03.610209Z"
    }
   },
   "cell_type": "code",
   "source": [
    "import builtins\n",
    "dir(builtins)"
   ],
   "id": "a4ff05ef2567df30",
   "outputs": [
    {
     "data": {
      "text/plain": [
       "['ArithmeticError',\n",
       " 'AssertionError',\n",
       " 'AttributeError',\n",
       " 'BaseException',\n",
       " 'BaseExceptionGroup',\n",
       " 'BlockingIOError',\n",
       " 'BrokenPipeError',\n",
       " 'BufferError',\n",
       " 'BytesWarning',\n",
       " 'ChildProcessError',\n",
       " 'ConnectionAbortedError',\n",
       " 'ConnectionError',\n",
       " 'ConnectionRefusedError',\n",
       " 'ConnectionResetError',\n",
       " 'DeprecationWarning',\n",
       " 'EOFError',\n",
       " 'Ellipsis',\n",
       " 'EncodingWarning',\n",
       " 'EnvironmentError',\n",
       " 'Exception',\n",
       " 'ExceptionGroup',\n",
       " 'False',\n",
       " 'FileExistsError',\n",
       " 'FileNotFoundError',\n",
       " 'FloatingPointError',\n",
       " 'FutureWarning',\n",
       " 'GeneratorExit',\n",
       " 'IOError',\n",
       " 'ImportError',\n",
       " 'ImportWarning',\n",
       " 'IndentationError',\n",
       " 'IndexError',\n",
       " 'InterruptedError',\n",
       " 'IsADirectoryError',\n",
       " 'KeyError',\n",
       " 'KeyboardInterrupt',\n",
       " 'LookupError',\n",
       " 'MemoryError',\n",
       " 'ModuleNotFoundError',\n",
       " 'NameError',\n",
       " 'None',\n",
       " 'NotADirectoryError',\n",
       " 'NotImplemented',\n",
       " 'NotImplementedError',\n",
       " 'OSError',\n",
       " 'OverflowError',\n",
       " 'PendingDeprecationWarning',\n",
       " 'PermissionError',\n",
       " 'ProcessLookupError',\n",
       " 'RecursionError',\n",
       " 'ReferenceError',\n",
       " 'ResourceWarning',\n",
       " 'RuntimeError',\n",
       " 'RuntimeWarning',\n",
       " 'StopAsyncIteration',\n",
       " 'StopIteration',\n",
       " 'SyntaxError',\n",
       " 'SyntaxWarning',\n",
       " 'SystemError',\n",
       " 'SystemExit',\n",
       " 'TabError',\n",
       " 'TimeoutError',\n",
       " 'True',\n",
       " 'TypeError',\n",
       " 'UnboundLocalError',\n",
       " 'UnicodeDecodeError',\n",
       " 'UnicodeEncodeError',\n",
       " 'UnicodeError',\n",
       " 'UnicodeTranslateError',\n",
       " 'UnicodeWarning',\n",
       " 'UserWarning',\n",
       " 'ValueError',\n",
       " 'Warning',\n",
       " 'ZeroDivisionError',\n",
       " '__IPYTHON__',\n",
       " '__build_class__',\n",
       " '__debug__',\n",
       " '__doc__',\n",
       " '__import__',\n",
       " '__loader__',\n",
       " '__name__',\n",
       " '__package__',\n",
       " '__spec__',\n",
       " 'abs',\n",
       " 'aiter',\n",
       " 'all',\n",
       " 'anext',\n",
       " 'any',\n",
       " 'ascii',\n",
       " 'bin',\n",
       " 'bool',\n",
       " 'breakpoint',\n",
       " 'bytearray',\n",
       " 'bytes',\n",
       " 'callable',\n",
       " 'chr',\n",
       " 'classmethod',\n",
       " 'compile',\n",
       " 'complex',\n",
       " 'copyright',\n",
       " 'credits',\n",
       " 'delattr',\n",
       " 'dict',\n",
       " 'dir',\n",
       " 'display',\n",
       " 'divmod',\n",
       " 'enumerate',\n",
       " 'eval',\n",
       " 'exec',\n",
       " 'execfile',\n",
       " 'filter',\n",
       " 'float',\n",
       " 'format',\n",
       " 'frozenset',\n",
       " 'get_ipython',\n",
       " 'getattr',\n",
       " 'globals',\n",
       " 'hasattr',\n",
       " 'hash',\n",
       " 'help',\n",
       " 'hex',\n",
       " 'id',\n",
       " 'input',\n",
       " 'int',\n",
       " 'isinstance',\n",
       " 'issubclass',\n",
       " 'iter',\n",
       " 'len',\n",
       " 'license',\n",
       " 'list',\n",
       " 'locals',\n",
       " 'map',\n",
       " 'max',\n",
       " 'memoryview',\n",
       " 'min',\n",
       " 'next',\n",
       " 'object',\n",
       " 'oct',\n",
       " 'open',\n",
       " 'ord',\n",
       " 'pow',\n",
       " 'print',\n",
       " 'property',\n",
       " 'range',\n",
       " 'repr',\n",
       " 'reversed',\n",
       " 'round',\n",
       " 'runfile',\n",
       " 'set',\n",
       " 'setattr',\n",
       " 'slice',\n",
       " 'sorted',\n",
       " 'staticmethod',\n",
       " 'str',\n",
       " 'sum',\n",
       " 'super',\n",
       " 'tuple',\n",
       " 'type',\n",
       " 'vars',\n",
       " 'zip']"
      ]
     },
     "execution_count": 21,
     "metadata": {},
     "output_type": "execute_result"
    }
   ],
   "execution_count": 21
  },
  {
   "metadata": {
    "ExecuteTime": {
     "end_time": "2024-06-23T03:32:45.914447Z",
     "start_time": "2024-06-23T03:32:45.912127Z"
    }
   },
   "cell_type": "code",
   "source": "zip is builtins.zip",
   "id": "4e5aedcac12af7d4",
   "outputs": [
    {
     "data": {
      "text/plain": [
       "True"
      ]
     },
     "execution_count": 22,
     "metadata": {},
     "output_type": "execute_result"
    }
   ],
   "execution_count": 22
  },
  {
   "metadata": {},
   "cell_type": "markdown",
   "source": "# 闭包",
   "id": "8bda4d6b9f7544fd"
  },
  {
   "metadata": {
    "ExecuteTime": {
     "end_time": "2024-06-23T03:45:18.172156Z",
     "start_time": "2024-06-23T03:45:18.168243Z"
    }
   },
   "cell_type": "code",
   "source": [
    "def maker(N):\n",
    "    def action(X):\n",
    "        return X ** N\n",
    "    return action"
   ],
   "id": "9af3e5c47ebca5dd",
   "outputs": [],
   "execution_count": 26
  },
  {
   "metadata": {
    "ExecuteTime": {
     "end_time": "2024-06-23T03:45:27.767218Z",
     "start_time": "2024-06-23T03:45:27.764520Z"
    }
   },
   "cell_type": "code",
   "source": [
    "f = maker(2)\n",
    "f"
   ],
   "id": "d8ab12ef7d16fdd2",
   "outputs": [
    {
     "data": {
      "text/plain": [
       "<function __main__.maker.<locals>.action(X)>"
      ]
     },
     "execution_count": 28,
     "metadata": {},
     "output_type": "execute_result"
    }
   ],
   "execution_count": 28
  },
  {
   "metadata": {
    "ExecuteTime": {
     "end_time": "2024-06-23T03:45:54.093875Z",
     "start_time": "2024-06-23T03:45:54.091677Z"
    }
   },
   "cell_type": "code",
   "source": "f(2), f(4), f(5), f(10)",
   "id": "72a370e088740d8d",
   "outputs": [
    {
     "data": {
      "text/plain": [
       "(4, 16, 25, 100)"
      ]
     },
     "execution_count": 32,
     "metadata": {},
     "output_type": "execute_result"
    }
   ],
   "execution_count": 32
  },
  {
   "metadata": {
    "ExecuteTime": {
     "end_time": "2024-06-23T03:46:37.288480Z",
     "start_time": "2024-06-23T03:46:37.285911Z"
    }
   },
   "cell_type": "code",
   "source": [
    "g = maker(3)\n",
    "g"
   ],
   "id": "c49d99c032317e93",
   "outputs": [
    {
     "data": {
      "text/plain": [
       "<function __main__.maker.<locals>.action(X)>"
      ]
     },
     "execution_count": 33,
     "metadata": {},
     "output_type": "execute_result"
    }
   ],
   "execution_count": 33
  },
  {
   "metadata": {
    "ExecuteTime": {
     "end_time": "2024-06-23T03:46:40.549591Z",
     "start_time": "2024-06-23T03:46:40.545690Z"
    }
   },
   "cell_type": "code",
   "source": "g(2), g(4), g(5), g(10)",
   "id": "28b9631a79625764",
   "outputs": [
    {
     "data": {
      "text/plain": [
       "(8, 64, 125, 1000)"
      ]
     },
     "execution_count": 34,
     "metadata": {},
     "output_type": "execute_result"
    }
   ],
   "execution_count": 34
  },
  {
   "metadata": {
    "ExecuteTime": {
     "end_time": "2024-06-23T03:48:58.354385Z",
     "start_time": "2024-06-23T03:48:58.349196Z"
    }
   },
   "cell_type": "code",
   "source": [
    "def maker1(N):\n",
    "    return lambda X: X ** N\n",
    "\n",
    "h = maker1(3)\n",
    "h"
   ],
   "id": "f5b02a9f7f924fa7",
   "outputs": [
    {
     "data": {
      "text/plain": [
       "<function __main__.maker1.<locals>.<lambda>(X)>"
      ]
     },
     "execution_count": 35,
     "metadata": {},
     "output_type": "execute_result"
    }
   ],
   "execution_count": 35
  },
  {
   "metadata": {
    "ExecuteTime": {
     "end_time": "2024-06-23T03:49:00.412870Z",
     "start_time": "2024-06-23T03:49:00.409880Z"
    }
   },
   "cell_type": "code",
   "source": "h(2), h(4), h(5), h(10)",
   "id": "84cb1c532b733ed4",
   "outputs": [
    {
     "data": {
      "text/plain": [
       "(8, 64, 125, 1000)"
      ]
     },
     "execution_count": 36,
     "metadata": {},
     "output_type": "execute_result"
    }
   ],
   "execution_count": 36
  },
  {
   "metadata": {
    "ExecuteTime": {
     "end_time": "2024-06-23T03:55:00.401470Z",
     "start_time": "2024-06-23T03:55:00.397537Z"
    }
   },
   "cell_type": "code",
   "source": [
    "def func():\n",
    "    x = 4\n",
    "    action = lambda x, n: x**n\n",
    "    return action\n",
    "func()(2, 3)"
   ],
   "id": "95d1896072c1b039",
   "outputs": [
    {
     "data": {
      "text/plain": [
       "8"
      ]
     },
     "execution_count": 40,
     "metadata": {},
     "output_type": "execute_result"
    }
   ],
   "execution_count": 40
  },
  {
   "metadata": {},
   "cell_type": "markdown",
   "source": "# 循环变量需要默认值",
   "id": "8b914efee937eb2c"
  },
  {
   "metadata": {
    "ExecuteTime": {
     "end_time": "2024-06-23T04:00:48.439264Z",
     "start_time": "2024-06-23T04:00:48.432897Z"
    }
   },
   "cell_type": "code",
   "source": [
    "def makeAction():\n",
    "    act = []\n",
    "    for i in range(5):\n",
    "        act.append(lambda x:i**x)\n",
    "    return act\n",
    "\n",
    "acts = makeAction()\n",
    "acts"
   ],
   "id": "934e9219613f2bae",
   "outputs": [
    {
     "data": {
      "text/plain": [
       "[<function __main__.makeAction.<locals>.<lambda>(x)>,\n",
       " <function __main__.makeAction.<locals>.<lambda>(x)>,\n",
       " <function __main__.makeAction.<locals>.<lambda>(x)>,\n",
       " <function __main__.makeAction.<locals>.<lambda>(x)>,\n",
       " <function __main__.makeAction.<locals>.<lambda>(x)>]"
      ]
     },
     "execution_count": 53,
     "metadata": {},
     "output_type": "execute_result"
    }
   ],
   "execution_count": 53
  },
  {
   "metadata": {
    "ExecuteTime": {
     "end_time": "2024-06-23T04:00:48.759872Z",
     "start_time": "2024-06-23T04:00:48.757478Z"
    }
   },
   "cell_type": "code",
   "source": "acts[0]",
   "id": "3a4b55e62817f09b",
   "outputs": [
    {
     "data": {
      "text/plain": [
       "<function __main__.makeAction.<locals>.<lambda>(x)>"
      ]
     },
     "execution_count": 54,
     "metadata": {},
     "output_type": "execute_result"
    }
   ],
   "execution_count": 54
  },
  {
   "metadata": {
    "ExecuteTime": {
     "end_time": "2024-06-23T04:00:49.176208Z",
     "start_time": "2024-06-23T04:00:49.173713Z"
    }
   },
   "cell_type": "code",
   "source": "acts[0](2), acts[1](2), acts[2](2), acts[3](2), acts[4](2)",
   "id": "816fb4f92d71c6e3",
   "outputs": [
    {
     "data": {
      "text/plain": [
       "(16, 16, 16, 16, 16)"
      ]
     },
     "execution_count": 55,
     "metadata": {},
     "output_type": "execute_result"
    }
   ],
   "execution_count": 55
  },
  {
   "metadata": {},
   "cell_type": "markdown",
   "source": "## 改进",
   "id": "6e43c7f1456f520c"
  },
  {
   "metadata": {
    "ExecuteTime": {
     "end_time": "2024-06-23T04:00:50.053811Z",
     "start_time": "2024-06-23T04:00:50.050901Z"
    }
   },
   "cell_type": "code",
   "source": [
    "def makeAction():\n",
    "    act = []\n",
    "    for i in range(5):\n",
    "        act.append(lambda x,i=i :i**x)\n",
    "    return act\n",
    "\n",
    "acts = makeAction()\n",
    "acts"
   ],
   "id": "ed8324b7d0073cf7",
   "outputs": [
    {
     "data": {
      "text/plain": [
       "[<function __main__.makeAction.<locals>.<lambda>(x, i=0)>,\n",
       " <function __main__.makeAction.<locals>.<lambda>(x, i=1)>,\n",
       " <function __main__.makeAction.<locals>.<lambda>(x, i=2)>,\n",
       " <function __main__.makeAction.<locals>.<lambda>(x, i=3)>,\n",
       " <function __main__.makeAction.<locals>.<lambda>(x, i=4)>]"
      ]
     },
     "execution_count": 56,
     "metadata": {},
     "output_type": "execute_result"
    }
   ],
   "execution_count": 56
  },
  {
   "metadata": {
    "ExecuteTime": {
     "end_time": "2024-06-23T04:00:50.577126Z",
     "start_time": "2024-06-23T04:00:50.573474Z"
    }
   },
   "cell_type": "code",
   "source": "acts[0]",
   "id": "222030c6c038b241",
   "outputs": [
    {
     "data": {
      "text/plain": [
       "<function __main__.makeAction.<locals>.<lambda>(x, i=0)>"
      ]
     },
     "execution_count": 57,
     "metadata": {},
     "output_type": "execute_result"
    }
   ],
   "execution_count": 57
  },
  {
   "metadata": {
    "ExecuteTime": {
     "end_time": "2024-06-23T04:00:51.047067Z",
     "start_time": "2024-06-23T04:00:51.044163Z"
    }
   },
   "cell_type": "code",
   "source": "acts[0](2), acts[1](2), acts[2](2), acts[3](2), acts[4](2)",
   "id": "495d5bcc95a6d268",
   "outputs": [
    {
     "data": {
      "text/plain": [
       "(0, 1, 4, 9, 16)"
      ]
     },
     "execution_count": 58,
     "metadata": {},
     "output_type": "execute_result"
    }
   ],
   "execution_count": 58
  },
  {
   "metadata": {},
   "cell_type": "markdown",
   "source": "## Global",
   "id": "44f6111785feb3bd"
  },
  {
   "metadata": {
    "ExecuteTime": {
     "end_time": "2024-06-23T06:51:09.577965Z",
     "start_time": "2024-06-23T06:51:09.572998Z"
    }
   },
   "cell_type": "code",
   "source": [
    "global p\n",
    "p = 10"
   ],
   "id": "c1ecc20f5cbd4403",
   "outputs": [],
   "execution_count": 60
  },
  {
   "metadata": {},
   "cell_type": "markdown",
   "source": "## Nonlocal 要求先定义",
   "id": "f1b74232e3553791"
  },
  {
   "metadata": {
    "ExecuteTime": {
     "end_time": "2024-06-23T06:51:31.156673Z",
     "start_time": "2024-06-23T06:51:31.154039Z"
    }
   },
   "cell_type": "code",
   "source": [
    "nonlocal q\n",
    "q = 10"
   ],
   "id": "245687ee120448c3",
   "outputs": [
    {
     "ename": "SyntaxError",
     "evalue": "nonlocal declaration not allowed at module level (352110741.py, line 1)",
     "output_type": "error",
     "traceback": [
      "\u001B[0;36m  Cell \u001B[0;32mIn[61], line 1\u001B[0;36m\u001B[0m\n\u001B[0;31m    nonlocal q\u001B[0m\n\u001B[0m    ^\u001B[0m\n\u001B[0;31mSyntaxError\u001B[0m\u001B[0;31m:\u001B[0m nonlocal declaration not allowed at module level\n"
     ]
    }
   ],
   "execution_count": 61
  },
  {
   "metadata": {
    "ExecuteTime": {
     "end_time": "2024-06-23T06:51:58.642122Z",
     "start_time": "2024-06-23T06:51:58.637594Z"
    }
   },
   "cell_type": "code",
   "source": [
    "def f1():\n",
    "    q = 10\n",
    "    def f2():\n",
    "        nonlocal q\n",
    "        q = 20\n",
    "    f2()\n",
    "    print(q)"
   ],
   "id": "533b54f181f4b34c",
   "outputs": [],
   "execution_count": 62
  },
  {
   "metadata": {
    "ExecuteTime": {
     "end_time": "2024-06-23T06:52:01.554534Z",
     "start_time": "2024-06-23T06:52:01.552745Z"
    }
   },
   "cell_type": "code",
   "source": "f1()",
   "id": "499ef07014a4599b",
   "outputs": [
    {
     "name": "stdout",
     "output_type": "stream",
     "text": [
      "20\n"
     ]
    }
   ],
   "execution_count": 63
  },
  {
   "metadata": {
    "ExecuteTime": {
     "end_time": "2024-06-23T06:54:48.297329Z",
     "start_time": "2024-06-23T06:54:48.292646Z"
    }
   },
   "cell_type": "code",
   "source": [
    "def f2(start):\n",
    "    state = start\n",
    "    def nested(label):\n",
    "        print(label, state)\n",
    "    return nested\n",
    "F = f2(0)\n",
    "F"
   ],
   "id": "708fa70d0355584a",
   "outputs": [
    {
     "data": {
      "text/plain": [
       "<function __main__.f2.<locals>.nested(label)>"
      ]
     },
     "execution_count": 66,
     "metadata": {},
     "output_type": "execute_result"
    }
   ],
   "execution_count": 66
  },
  {
   "metadata": {
    "ExecuteTime": {
     "end_time": "2024-06-23T06:54:53.143022Z",
     "start_time": "2024-06-23T06:54:53.140870Z"
    }
   },
   "cell_type": "code",
   "source": "F('spam')",
   "id": "1e7030aef61dd6c4",
   "outputs": [
    {
     "name": "stdout",
     "output_type": "stream",
     "text": [
      "spam 0\n"
     ]
    }
   ],
   "execution_count": 67
  },
  {
   "metadata": {
    "ExecuteTime": {
     "end_time": "2024-06-23T06:55:28.787154Z",
     "start_time": "2024-06-23T06:55:28.782033Z"
    }
   },
   "cell_type": "code",
   "source": [
    "def f3(start):\n",
    "    state = start\n",
    "    def nested(label):\n",
    "        print(label, state)\n",
    "        state += 1\n",
    "    return nested\n",
    "F = f3(0)\n",
    "F"
   ],
   "id": "7d075b62a294be1d",
   "outputs": [
    {
     "data": {
      "text/plain": [
       "<function __main__.f3.<locals>.nested(label)>"
      ]
     },
     "execution_count": 70,
     "metadata": {},
     "output_type": "execute_result"
    }
   ],
   "execution_count": 70
  },
  {
   "metadata": {
    "ExecuteTime": {
     "end_time": "2024-06-23T06:55:30.172029Z",
     "start_time": "2024-06-23T06:55:30.150249Z"
    }
   },
   "cell_type": "code",
   "source": "F('spam')",
   "id": "3615d0e08ba1f97e",
   "outputs": [
    {
     "ename": "UnboundLocalError",
     "evalue": "cannot access local variable 'state' where it is not associated with a value",
     "output_type": "error",
     "traceback": [
      "\u001B[0;31m---------------------------------------------------------------------------\u001B[0m",
      "\u001B[0;31mUnboundLocalError\u001B[0m                         Traceback (most recent call last)",
      "Cell \u001B[0;32mIn[71], line 1\u001B[0m\n\u001B[0;32m----> 1\u001B[0m F(\u001B[38;5;124m'\u001B[39m\u001B[38;5;124mspam\u001B[39m\u001B[38;5;124m'\u001B[39m)\n",
      "Cell \u001B[0;32mIn[70], line 4\u001B[0m, in \u001B[0;36mf3.<locals>.nested\u001B[0;34m(label)\u001B[0m\n\u001B[1;32m      3\u001B[0m \u001B[38;5;28;01mdef\u001B[39;00m \u001B[38;5;21mnested\u001B[39m(label):\n\u001B[0;32m----> 4\u001B[0m     \u001B[38;5;28mprint\u001B[39m(label, state)\n\u001B[1;32m      5\u001B[0m     state \u001B[38;5;241m+\u001B[39m\u001B[38;5;241m=\u001B[39m \u001B[38;5;241m1\u001B[39m\n",
      "\u001B[0;31mUnboundLocalError\u001B[0m: cannot access local variable 'state' where it is not associated with a value"
     ]
    }
   ],
   "execution_count": 71
  },
  {
   "metadata": {},
   "cell_type": "markdown",
   "source": "使用 nonlocal ",
   "id": "88b51b4afdf575d3"
  },
  {
   "metadata": {
    "ExecuteTime": {
     "end_time": "2024-06-23T07:15:21.227177Z",
     "start_time": "2024-06-23T07:15:21.224727Z"
    }
   },
   "cell_type": "code",
   "source": [
    "def f4(start):\n",
    "    state = start\n",
    "    def nested(label):\n",
    "        nonlocal state\n",
    "        print(label, state)\n",
    "        state += 1\n",
    "    return nested\n",
    "F = f4(0)\n",
    "F"
   ],
   "id": "e0ea2c8ac2308fe2",
   "outputs": [
    {
     "data": {
      "text/plain": [
       "<function __main__.f4.<locals>.nested(label)>"
      ]
     },
     "execution_count": 90,
     "metadata": {},
     "output_type": "execute_result"
    }
   ],
   "execution_count": 90
  },
  {
   "metadata": {
    "ExecuteTime": {
     "end_time": "2024-06-23T07:15:21.513607Z",
     "start_time": "2024-06-23T07:15:21.511278Z"
    }
   },
   "cell_type": "code",
   "source": "F('spam'), F('spam'),F('spam')",
   "id": "f6e51aea73b2e5b9",
   "outputs": [
    {
     "name": "stdout",
     "output_type": "stream",
     "text": [
      "spam 0\n",
      "spam 1\n",
      "spam 2\n"
     ]
    },
    {
     "data": {
      "text/plain": [
       "(None, None, None)"
      ]
     },
     "execution_count": 91,
     "metadata": {},
     "output_type": "execute_result"
    }
   ],
   "execution_count": 91
  },
  {
   "metadata": {
    "ExecuteTime": {
     "end_time": "2024-06-23T07:15:21.893801Z",
     "start_time": "2024-06-23T07:15:21.892184Z"
    }
   },
   "cell_type": "code",
   "source": "G = f4(0)",
   "id": "ca0ca26cb0a9b017",
   "outputs": [],
   "execution_count": 92
  },
  {
   "metadata": {
    "ExecuteTime": {
     "end_time": "2024-06-23T07:15:22.349554Z",
     "start_time": "2024-06-23T07:15:22.347130Z"
    }
   },
   "cell_type": "code",
   "source": "G('spam'), G('spam'),G('spam')",
   "id": "aa55c211a81f061c",
   "outputs": [
    {
     "name": "stdout",
     "output_type": "stream",
     "text": [
      "spam 0\n",
      "spam 1\n",
      "spam 2\n"
     ]
    },
    {
     "data": {
      "text/plain": [
       "(None, None, None)"
      ]
     },
     "execution_count": 93,
     "metadata": {},
     "output_type": "execute_result"
    }
   ],
   "execution_count": 93
  },
  {
   "metadata": {
    "ExecuteTime": {
     "end_time": "2024-06-23T07:15:23.132631Z",
     "start_time": "2024-06-23T07:15:23.130231Z"
    }
   },
   "cell_type": "code",
   "source": "F('spam'), F('s')",
   "id": "bc6c5f892957a243",
   "outputs": [
    {
     "name": "stdout",
     "output_type": "stream",
     "text": [
      "spam 3\n",
      "s 4\n"
     ]
    },
    {
     "data": {
      "text/plain": [
       "(None, None)"
      ]
     },
     "execution_count": 94,
     "metadata": {},
     "output_type": "execute_result"
    }
   ],
   "execution_count": 94
  },
  {
   "metadata": {
    "ExecuteTime": {
     "end_time": "2024-06-23T07:15:30.479452Z",
     "start_time": "2024-06-23T07:15:30.477624Z"
    }
   },
   "cell_type": "code",
   "source": "G('hello')",
   "id": "c58a7c2cff614c8d",
   "outputs": [
    {
     "name": "stdout",
     "output_type": "stream",
     "text": [
      "hello 3\n"
     ]
    }
   ],
   "execution_count": 95
  },
  {
   "metadata": {
    "ExecuteTime": {
     "end_time": "2024-06-23T07:19:13.618870Z",
     "start_time": "2024-06-23T07:19:13.615692Z"
    }
   },
   "cell_type": "code",
   "source": [
    "class tester:\n",
    "    def __init__(self, start):\n",
    "        self.state = start\n",
    "    def __call__(self, label):\n",
    "        print(label, self.state)\n",
    "        self.state += 1\n",
    "        \n",
    "t = tester(31)"
   ],
   "id": "dcb9af93b82f97f4",
   "outputs": [],
   "execution_count": 99
  },
  {
   "metadata": {
    "ExecuteTime": {
     "end_time": "2024-06-23T07:19:13.849932Z",
     "start_time": "2024-06-23T07:19:13.847500Z"
    }
   },
   "cell_type": "code",
   "source": "t('spam'), t('new')",
   "id": "1e23a70abbfdb9f6",
   "outputs": [
    {
     "name": "stdout",
     "output_type": "stream",
     "text": [
      "spam 31\n",
      "new 32\n"
     ]
    },
    {
     "data": {
      "text/plain": [
       "(None, None)"
      ]
     },
     "execution_count": 100,
     "metadata": {},
     "output_type": "execute_result"
    }
   ],
   "execution_count": 100
  },
  {
   "metadata": {},
   "cell_type": "markdown",
   "source": "# 使用函数属性",
   "id": "da296852515f6e6b"
  },
  {
   "metadata": {
    "ExecuteTime": {
     "end_time": "2024-06-23T07:24:25.413152Z",
     "start_time": "2024-06-23T07:24:25.409581Z"
    }
   },
   "cell_type": "code",
   "source": [
    "def tester(start):\n",
    "    def nested(label):\n",
    "        print(label, nested.state)\n",
    "        nested.state += 1\n",
    "    nested.state = start\n",
    "    return nested\n",
    "\n",
    "F = tester(0)"
   ],
   "id": "e4c811b739c66838",
   "outputs": [],
   "execution_count": 101
  },
  {
   "metadata": {
    "ExecuteTime": {
     "end_time": "2024-06-23T07:24:34.689649Z",
     "start_time": "2024-06-23T07:24:34.686550Z"
    }
   },
   "cell_type": "code",
   "source": "F('spam'), F('new'), F('new')",
   "id": "d31d553aeea7a1a3",
   "outputs": [
    {
     "name": "stdout",
     "output_type": "stream",
     "text": [
      "spam 0\n",
      "new 1\n",
      "new 2\n"
     ]
    },
    {
     "data": {
      "text/plain": [
       "(None, None, None)"
      ]
     },
     "execution_count": 102,
     "metadata": {},
     "output_type": "execute_result"
    }
   ],
   "execution_count": 102
  },
  {
   "metadata": {
    "ExecuteTime": {
     "end_time": "2024-06-23T07:24:40.979427Z",
     "start_time": "2024-06-23T07:24:40.976777Z"
    }
   },
   "cell_type": "code",
   "source": "F.state",
   "id": "c327ce6007a1e50c",
   "outputs": [
    {
     "data": {
      "text/plain": [
       "3"
      ]
     },
     "execution_count": 103,
     "metadata": {},
     "output_type": "execute_result"
    }
   ],
   "execution_count": 103
  },
  {
   "metadata": {
    "ExecuteTime": {
     "end_time": "2024-06-23T07:26:07.953078Z",
     "start_time": "2024-06-23T07:26:07.949808Z"
    }
   },
   "cell_type": "code",
   "source": "G = tester(32)",
   "id": "92cf86f5bbc15df4",
   "outputs": [],
   "execution_count": 111
  },
  {
   "metadata": {
    "ExecuteTime": {
     "end_time": "2024-06-23T07:26:08.346389Z",
     "start_time": "2024-06-23T07:26:08.343651Z"
    }
   },
   "cell_type": "code",
   "source": "G('spam'), G('new'), G('new'), G('new'), G('new')",
   "id": "e8f60778d202f312",
   "outputs": [
    {
     "name": "stdout",
     "output_type": "stream",
     "text": [
      "spam 32\n",
      "new 33\n",
      "new 34\n",
      "new 35\n",
      "new 36\n"
     ]
    },
    {
     "data": {
      "text/plain": [
       "(None, None, None, None, None)"
      ]
     },
     "execution_count": 112,
     "metadata": {},
     "output_type": "execute_result"
    }
   ],
   "execution_count": 112
  },
  {
   "metadata": {
    "ExecuteTime": {
     "end_time": "2024-06-23T07:26:12.184571Z",
     "start_time": "2024-06-23T07:26:12.182346Z"
    }
   },
   "cell_type": "code",
   "source": "G.state",
   "id": "680136b031454d8e",
   "outputs": [
    {
     "data": {
      "text/plain": [
       "37"
      ]
     },
     "execution_count": 113,
     "metadata": {},
     "output_type": "execute_result"
    }
   ],
   "execution_count": 113
  },
  {
   "metadata": {
    "ExecuteTime": {
     "end_time": "2024-06-23T07:29:35.691097Z",
     "start_time": "2024-06-23T07:29:35.686253Z"
    }
   },
   "cell_type": "code",
   "source": "F is G",
   "id": "f5a0dd2dd26a9925",
   "outputs": [
    {
     "data": {
      "text/plain": [
       "False"
      ]
     },
     "execution_count": 114,
     "metadata": {},
     "output_type": "execute_result"
    }
   ],
   "execution_count": 114
  },
  {
   "metadata": {
    "ExecuteTime": {
     "end_time": "2024-06-23T07:32:09.950434Z",
     "start_time": "2024-06-23T07:32:09.948216Z"
    }
   },
   "cell_type": "code",
   "source": [
    "def tester(start):\n",
    "    state = [start]\n",
    "    def nested(label):\n",
    "        print(label, state[0])\n",
    "        state[0] = state[0] + 1\n",
    "    return nested\n",
    "\n",
    "F = tester(0)"
   ],
   "id": "64db1851fc47ab2c",
   "outputs": [],
   "execution_count": 115
  },
  {
   "metadata": {
    "ExecuteTime": {
     "end_time": "2024-06-23T07:32:16.741964Z",
     "start_time": "2024-06-23T07:32:16.739302Z"
    }
   },
   "cell_type": "code",
   "source": "F('spam'), F('new'), F('new')",
   "id": "4904a91bf2de23ff",
   "outputs": [
    {
     "name": "stdout",
     "output_type": "stream",
     "text": [
      "spam 0\n",
      "new 1\n",
      "new 2\n"
     ]
    },
    {
     "data": {
      "text/plain": [
       "(None, None, None)"
      ]
     },
     "execution_count": 116,
     "metadata": {},
     "output_type": "execute_result"
    }
   ],
   "execution_count": 116
  },
  {
   "metadata": {
    "ExecuteTime": {
     "end_time": "2024-06-23T07:32:37.010309Z",
     "start_time": "2024-06-23T07:32:37.008347Z"
    }
   },
   "cell_type": "code",
   "source": "G = tester(32)",
   "id": "851ef687f43d9260",
   "outputs": [],
   "execution_count": 117
  },
  {
   "metadata": {
    "ExecuteTime": {
     "end_time": "2024-06-23T07:32:51.219546Z",
     "start_time": "2024-06-23T07:32:51.216686Z"
    }
   },
   "cell_type": "code",
   "source": "G('spam'), G('new'), G('new')",
   "id": "8d224de356fac721",
   "outputs": [
    {
     "name": "stdout",
     "output_type": "stream",
     "text": [
      "spam 32\n",
      "new 33\n",
      "new 34\n"
     ]
    },
    {
     "data": {
      "text/plain": [
       "(None, None, None)"
      ]
     },
     "execution_count": 119,
     "metadata": {},
     "output_type": "execute_result"
    }
   ],
   "execution_count": 119
  },
  {
   "metadata": {},
   "cell_type": "markdown",
   "source": "# 自定义 open",
   "id": "6f68a9592a37e503"
  },
  {
   "metadata": {
    "ExecuteTime": {
     "end_time": "2024-06-23T07:37:50.421570Z",
     "start_time": "2024-06-23T07:37:50.415650Z"
    }
   },
   "cell_type": "code",
   "source": [
    "import builtins\n",
    "def makeopen(id):\n",
    "    original = builtins.open\n",
    "    def custom(*args, **kwargs):\n",
    "        print(f'Custom open called with {args} and {kwargs}')\n",
    "        return original(*args, **kwargs)\n",
    "    builtins.open = custom"
   ],
   "id": "372665953cb9180",
   "outputs": [],
   "execution_count": 120
  },
  {
   "metadata": {
    "ExecuteTime": {
     "end_time": "2024-06-23T07:39:44.949304Z",
     "start_time": "2024-06-23T07:39:44.946836Z"
    }
   },
   "cell_type": "code",
   "source": [
    "f = makeopen('spam')\n",
    "f"
   ],
   "id": "93c2c0457ad8bbf4",
   "outputs": [],
   "execution_count": 130
  },
  {
   "metadata": {
    "ExecuteTime": {
     "end_time": "2024-06-23T07:40:07.007169Z",
     "start_time": "2024-06-23T07:40:07.004264Z"
    }
   },
   "cell_type": "code",
   "source": [
    "F = open('text.log', 'r')\n",
    "F"
   ],
   "id": "8a67133bc810495",
   "outputs": [
    {
     "data": {
      "text/plain": [
       "<_io.TextIOWrapper name='text.log' mode='r' encoding='UTF-8'>"
      ]
     },
     "execution_count": 132,
     "metadata": {},
     "output_type": "execute_result"
    }
   ],
   "execution_count": 132
  },
  {
   "metadata": {},
   "cell_type": "code",
   "outputs": [],
   "execution_count": null,
   "source": "",
   "id": "33865dc3c077902a"
  }
 ],
 "metadata": {
  "kernelspec": {
   "display_name": "Python 3",
   "language": "python",
   "name": "python3"
  },
  "language_info": {
   "codemirror_mode": {
    "name": "ipython",
    "version": 2
   },
   "file_extension": ".py",
   "mimetype": "text/x-python",
   "name": "python",
   "nbconvert_exporter": "python",
   "pygments_lexer": "ipython2",
   "version": "2.7.6"
  }
 },
 "nbformat": 4,
 "nbformat_minor": 5
}
