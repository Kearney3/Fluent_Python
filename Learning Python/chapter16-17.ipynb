{
 "cells": [
  {
   "metadata": {},
   "cell_type": "markdown",
   "source": "# 函数",
   "id": "307c1aed08cdb56b"
  },
  {
   "cell_type": "code",
   "id": "initial_id",
   "metadata": {
    "collapsed": true,
    "ExecuteTime": {
     "end_time": "2024-06-23T02:55:39.671051Z",
     "start_time": "2024-06-23T02:55:39.669144Z"
    }
   },
   "source": [
    "x = 'old'\n",
    "def f():\n",
    "    global x\n",
    "    x = 'new'\n",
    "print(x)\n",
    "f()\n",
    "print(x)"
   ],
   "execution_count": 4,
   "outputs": []
  },
  {
   "metadata": {
    "ExecuteTime": {
     "end_time": "2024-06-23T02:57:47.492533Z",
     "start_time": "2024-06-23T02:57:47.488848Z"
    }
   },
   "cell_type": "code",
   "source": [
    "def fun():\n",
    "    x = 'old'\n",
    "    def f():\n",
    "        nonlocal x\n",
    "        x = 'new'\n",
    "    \n",
    "    print(x)\n",
    "    f()\n",
    "    print(x)\n",
    "        \n",
    "fun()"
   ],
   "id": "86399f66ce9d245",
   "execution_count": 9,
   "outputs": []
  },
  {
   "metadata": {
    "ExecuteTime": {
     "end_time": "2024-06-23T03:00:00.508951Z",
     "start_time": "2024-06-23T03:00:00.502111Z"
    }
   },
   "cell_type": "code",
   "source": [
    "def intersect(seq1, seq2):\n",
    "    rec = []\n",
    "    for x in seq1:\n",
    "        if x in seq2:\n",
    "            rec.append(x)\n",
    "    \n",
    "    return rec\n"
   ],
   "id": "878d121b4641df11",
   "execution_count": 10,
   "outputs": []
  },
  {
   "metadata": {
    "ExecuteTime": {
     "end_time": "2024-06-23T03:00:16.192834Z",
     "start_time": "2024-06-23T03:00:16.190430Z"
    }
   },
   "cell_type": "code",
   "source": [
    "s1 = [1, 2, 3, 4, 5]\n",
    "s2 = [4, 5, 6, 7, 8]\n",
    "intersect(s1, s2)"
   ],
   "id": "70a893bdb37bba5b",
   "execution_count": 12,
   "outputs": []
  },
  {
   "metadata": {
    "ExecuteTime": {
     "end_time": "2024-06-23T03:01:09.402738Z",
     "start_time": "2024-06-23T03:01:09.400398Z"
    }
   },
   "cell_type": "code",
   "source": "intersect([1,2,3], {2,3,4,5})",
   "id": "15ced0344d1ec89e",
   "execution_count": 14,
   "outputs": []
  },
  {
   "metadata": {
    "ExecuteTime": {
     "end_time": "2024-06-23T03:28:52.738623Z",
     "start_time": "2024-06-23T03:28:52.727072Z"
    }
   },
   "cell_type": "code",
   "source": [
    "X = 'NEW'\n",
    "I = [1,-2,3]\n",
    "[abs(X) for X in I]"
   ],
   "id": "e3500a52f8e75782",
   "execution_count": 15,
   "outputs": []
  },
  {
   "metadata": {},
   "cell_type": "markdown",
   "source": "# Scope",
   "id": "d7a6029b5abe7b89"
  },
  {
   "metadata": {
    "ExecuteTime": {
     "end_time": "2024-06-23T03:31:21.899137Z",
     "start_time": "2024-06-23T03:31:21.896389Z"
    }
   },
   "cell_type": "code",
   "source": [
    "X = 99\n",
    "def func(Y):\n",
    "    Z = X + Y\n",
    "    return Z\n",
    "\n",
    "func(1)"
   ],
   "id": "3252dae22ef763a6",
   "execution_count": 20,
   "outputs": []
  },
  {
   "metadata": {
    "ExecuteTime": {
     "end_time": "2024-06-23T03:32:03.615616Z",
     "start_time": "2024-06-23T03:32:03.610209Z"
    }
   },
   "cell_type": "code",
   "source": [
    "import builtins\n",
    "dir(builtins)"
   ],
   "id": "a4ff05ef2567df30",
   "execution_count": 21,
   "outputs": []
  },
  {
   "metadata": {
    "ExecuteTime": {
     "end_time": "2024-06-23T03:32:45.914447Z",
     "start_time": "2024-06-23T03:32:45.912127Z"
    }
   },
   "cell_type": "code",
   "source": "zip is builtins.zip",
   "id": "4e5aedcac12af7d4",
   "execution_count": 22,
   "outputs": []
  },
  {
   "metadata": {},
   "cell_type": "markdown",
   "source": "# 闭包",
   "id": "8bda4d6b9f7544fd"
  },
  {
   "metadata": {
    "ExecuteTime": {
     "end_time": "2024-06-23T03:45:18.172156Z",
     "start_time": "2024-06-23T03:45:18.168243Z"
    }
   },
   "cell_type": "code",
   "source": [
    "def maker(N):\n",
    "    def action(X):\n",
    "        return X ** N\n",
    "    return action"
   ],
   "id": "9af3e5c47ebca5dd",
   "execution_count": 26,
   "outputs": []
  },
  {
   "metadata": {
    "ExecuteTime": {
     "end_time": "2024-06-23T03:45:27.767218Z",
     "start_time": "2024-06-23T03:45:27.764520Z"
    }
   },
   "cell_type": "code",
   "source": [
    "f = maker(2)\n",
    "f"
   ],
   "id": "d8ab12ef7d16fdd2",
   "execution_count": 28,
   "outputs": []
  },
  {
   "metadata": {
    "ExecuteTime": {
     "end_time": "2024-06-23T03:45:54.093875Z",
     "start_time": "2024-06-23T03:45:54.091677Z"
    }
   },
   "cell_type": "code",
   "source": "f(2), f(4), f(5), f(10)",
   "id": "72a370e088740d8d",
   "execution_count": 32,
   "outputs": []
  },
  {
   "metadata": {
    "ExecuteTime": {
     "end_time": "2024-06-23T03:46:37.288480Z",
     "start_time": "2024-06-23T03:46:37.285911Z"
    }
   },
   "cell_type": "code",
   "source": [
    "g = maker(3)\n",
    "g"
   ],
   "id": "c49d99c032317e93",
   "execution_count": 33,
   "outputs": []
  },
  {
   "metadata": {
    "ExecuteTime": {
     "end_time": "2024-06-23T03:46:40.549591Z",
     "start_time": "2024-06-23T03:46:40.545690Z"
    }
   },
   "cell_type": "code",
   "source": "g(2), g(4), g(5), g(10)",
   "id": "28b9631a79625764",
   "execution_count": 34,
   "outputs": []
  },
  {
   "metadata": {
    "ExecuteTime": {
     "end_time": "2024-06-23T03:48:58.354385Z",
     "start_time": "2024-06-23T03:48:58.349196Z"
    }
   },
   "cell_type": "code",
   "source": [
    "def maker1(N):\n",
    "    return lambda X: X ** N\n",
    "\n",
    "h = maker1(3)\n",
    "h"
   ],
   "id": "f5b02a9f7f924fa7",
   "execution_count": 35,
   "outputs": []
  },
  {
   "metadata": {
    "ExecuteTime": {
     "end_time": "2024-06-23T03:49:00.412870Z",
     "start_time": "2024-06-23T03:49:00.409880Z"
    }
   },
   "cell_type": "code",
   "source": "h(2), h(4), h(5), h(10)",
   "id": "84cb1c532b733ed4",
   "execution_count": 36,
   "outputs": []
  },
  {
   "metadata": {
    "ExecuteTime": {
     "end_time": "2024-06-23T03:55:00.401470Z",
     "start_time": "2024-06-23T03:55:00.397537Z"
    }
   },
   "cell_type": "code",
   "source": [
    "def func():\n",
    "    x = 4\n",
    "    action = lambda x, n: x**n\n",
    "    return action\n",
    "func()(2, 3)"
   ],
   "id": "95d1896072c1b039",
   "execution_count": 40,
   "outputs": []
  },
  {
   "metadata": {},
   "cell_type": "markdown",
   "source": "# 循环变量需要默认值",
   "id": "8b914efee937eb2c"
  },
  {
   "metadata": {
    "ExecuteTime": {
     "end_time": "2024-06-23T04:00:48.439264Z",
     "start_time": "2024-06-23T04:00:48.432897Z"
    }
   },
   "cell_type": "code",
   "source": [
    "def makeAction():\n",
    "    act = []\n",
    "    for i in range(5):\n",
    "        act.append(lambda x:i**x)\n",
    "    return act\n",
    "\n",
    "acts = makeAction()\n",
    "acts"
   ],
   "id": "934e9219613f2bae",
   "execution_count": 53,
   "outputs": []
  },
  {
   "metadata": {
    "ExecuteTime": {
     "end_time": "2024-06-23T04:00:48.759872Z",
     "start_time": "2024-06-23T04:00:48.757478Z"
    }
   },
   "cell_type": "code",
   "source": "acts[0]",
   "id": "3a4b55e62817f09b",
   "execution_count": 54,
   "outputs": []
  },
  {
   "metadata": {
    "ExecuteTime": {
     "end_time": "2024-06-23T04:00:49.176208Z",
     "start_time": "2024-06-23T04:00:49.173713Z"
    }
   },
   "cell_type": "code",
   "source": "acts[0](2), acts[1](2), acts[2](2), acts[3](2), acts[4](2)",
   "id": "816fb4f92d71c6e3",
   "execution_count": 55,
   "outputs": []
  },
  {
   "metadata": {},
   "cell_type": "markdown",
   "source": "## 改进",
   "id": "6e43c7f1456f520c"
  },
  {
   "metadata": {
    "ExecuteTime": {
     "end_time": "2024-06-23T04:00:50.053811Z",
     "start_time": "2024-06-23T04:00:50.050901Z"
    }
   },
   "cell_type": "code",
   "source": [
    "def makeAction():\n",
    "    act = []\n",
    "    for i in range(5):\n",
    "        act.append(lambda x,i=i :i**x)\n",
    "    return act\n",
    "\n",
    "acts = makeAction()\n",
    "acts"
   ],
   "id": "ed8324b7d0073cf7",
   "execution_count": 56,
   "outputs": []
  },
  {
   "metadata": {
    "ExecuteTime": {
     "end_time": "2024-06-23T04:00:50.577126Z",
     "start_time": "2024-06-23T04:00:50.573474Z"
    }
   },
   "cell_type": "code",
   "source": "acts[0]",
   "id": "222030c6c038b241",
   "execution_count": 57,
   "outputs": []
  },
  {
   "metadata": {
    "ExecuteTime": {
     "end_time": "2024-06-23T04:00:51.047067Z",
     "start_time": "2024-06-23T04:00:51.044163Z"
    }
   },
   "cell_type": "code",
   "source": "acts[0](2), acts[1](2), acts[2](2), acts[3](2), acts[4](2)",
   "id": "495d5bcc95a6d268",
   "execution_count": 58,
   "outputs": []
  },
  {
   "metadata": {},
   "cell_type": "markdown",
   "source": "## Global",
   "id": "44f6111785feb3bd"
  },
  {
   "metadata": {
    "ExecuteTime": {
     "end_time": "2024-06-23T06:51:09.577965Z",
     "start_time": "2024-06-23T06:51:09.572998Z"
    }
   },
   "cell_type": "code",
   "source": [
    "global p\n",
    "p = 10"
   ],
   "id": "c1ecc20f5cbd4403",
   "execution_count": 60,
   "outputs": []
  },
  {
   "metadata": {},
   "cell_type": "markdown",
   "source": "## Nonlocal 要求先定义",
   "id": "f1b74232e3553791"
  },
  {
   "metadata": {
    "ExecuteTime": {
     "end_time": "2024-06-23T06:51:31.156673Z",
     "start_time": "2024-06-23T06:51:31.154039Z"
    }
   },
   "cell_type": "code",
   "source": [
    "nonlocal q\n",
    "q = 10"
   ],
   "id": "245687ee120448c3",
   "execution_count": 61,
   "outputs": []
  },
  {
   "metadata": {
    "ExecuteTime": {
     "end_time": "2024-06-23T06:51:58.642122Z",
     "start_time": "2024-06-23T06:51:58.637594Z"
    }
   },
   "cell_type": "code",
   "source": [
    "def f1():\n",
    "    q = 10\n",
    "    def f2():\n",
    "        nonlocal q\n",
    "        q = 20\n",
    "    f2()\n",
    "    print(q)"
   ],
   "id": "533b54f181f4b34c",
   "execution_count": 62,
   "outputs": []
  },
  {
   "metadata": {
    "ExecuteTime": {
     "end_time": "2024-06-23T06:52:01.554534Z",
     "start_time": "2024-06-23T06:52:01.552745Z"
    }
   },
   "cell_type": "code",
   "source": "f1()",
   "id": "499ef07014a4599b",
   "execution_count": 63,
   "outputs": []
  },
  {
   "metadata": {
    "ExecuteTime": {
     "end_time": "2024-06-23T06:54:48.297329Z",
     "start_time": "2024-06-23T06:54:48.292646Z"
    }
   },
   "cell_type": "code",
   "source": [
    "def f2(start):\n",
    "    state = start\n",
    "    def nested(label):\n",
    "        print(label, state)\n",
    "    return nested\n",
    "F = f2(0)\n",
    "F"
   ],
   "id": "708fa70d0355584a",
   "execution_count": 66,
   "outputs": []
  },
  {
   "metadata": {
    "ExecuteTime": {
     "end_time": "2024-06-23T06:54:53.143022Z",
     "start_time": "2024-06-23T06:54:53.140870Z"
    }
   },
   "cell_type": "code",
   "source": "F('spam')",
   "id": "1e7030aef61dd6c4",
   "execution_count": 67,
   "outputs": []
  },
  {
   "metadata": {
    "ExecuteTime": {
     "end_time": "2024-06-23T06:55:28.787154Z",
     "start_time": "2024-06-23T06:55:28.782033Z"
    }
   },
   "cell_type": "code",
   "source": [
    "def f3(start):\n",
    "    state = start\n",
    "    def nested(label):\n",
    "        print(label, state)\n",
    "        state += 1\n",
    "    return nested\n",
    "F = f3(0)\n",
    "F"
   ],
   "id": "7d075b62a294be1d",
   "execution_count": 70,
   "outputs": []
  },
  {
   "metadata": {
    "ExecuteTime": {
     "end_time": "2024-06-23T06:55:30.172029Z",
     "start_time": "2024-06-23T06:55:30.150249Z"
    }
   },
   "cell_type": "code",
   "source": "F('spam')",
   "id": "3615d0e08ba1f97e",
   "execution_count": 71,
   "outputs": []
  },
  {
   "metadata": {},
   "cell_type": "markdown",
   "source": "使用 nonlocal ",
   "id": "88b51b4afdf575d3"
  },
  {
   "metadata": {
    "ExecuteTime": {
     "end_time": "2024-06-23T07:15:21.227177Z",
     "start_time": "2024-06-23T07:15:21.224727Z"
    }
   },
   "cell_type": "code",
   "source": [
    "def f4(start):\n",
    "    state = start\n",
    "    def nested(label):\n",
    "        nonlocal state\n",
    "        print(label, state)\n",
    "        state += 1\n",
    "    return nested\n",
    "F = f4(0)\n",
    "F"
   ],
   "id": "e0ea2c8ac2308fe2",
   "execution_count": 90,
   "outputs": []
  },
  {
   "metadata": {
    "ExecuteTime": {
     "end_time": "2024-06-23T07:15:21.513607Z",
     "start_time": "2024-06-23T07:15:21.511278Z"
    }
   },
   "cell_type": "code",
   "source": "F('spam'), F('spam'),F('spam')",
   "id": "f6e51aea73b2e5b9",
   "execution_count": 91,
   "outputs": []
  },
  {
   "metadata": {
    "ExecuteTime": {
     "end_time": "2024-06-23T07:15:21.893801Z",
     "start_time": "2024-06-23T07:15:21.892184Z"
    }
   },
   "cell_type": "code",
   "source": "G = f4(0)",
   "id": "ca0ca26cb0a9b017",
   "execution_count": 92,
   "outputs": []
  },
  {
   "metadata": {
    "ExecuteTime": {
     "end_time": "2024-06-23T07:15:22.349554Z",
     "start_time": "2024-06-23T07:15:22.347130Z"
    }
   },
   "cell_type": "code",
   "source": "G('spam'), G('spam'),G('spam')",
   "id": "aa55c211a81f061c",
   "execution_count": 93,
   "outputs": []
  },
  {
   "metadata": {
    "ExecuteTime": {
     "end_time": "2024-06-23T07:15:23.132631Z",
     "start_time": "2024-06-23T07:15:23.130231Z"
    }
   },
   "cell_type": "code",
   "source": "F('spam'), F('s')",
   "id": "bc6c5f892957a243",
   "execution_count": 94,
   "outputs": []
  },
  {
   "metadata": {
    "ExecuteTime": {
     "end_time": "2024-06-23T07:15:30.479452Z",
     "start_time": "2024-06-23T07:15:30.477624Z"
    }
   },
   "cell_type": "code",
   "source": "G('hello')",
   "id": "c58a7c2cff614c8d",
   "execution_count": 95,
   "outputs": []
  },
  {
   "metadata": {
    "ExecuteTime": {
     "end_time": "2024-06-23T07:19:13.618870Z",
     "start_time": "2024-06-23T07:19:13.615692Z"
    }
   },
   "cell_type": "code",
   "source": [
    "class tester:\n",
    "    def __init__(self, start):\n",
    "        self.state = start\n",
    "    def __call__(self, label):\n",
    "        print(label, self.state)\n",
    "        self.state += 1\n",
    "        \n",
    "t = tester(31)"
   ],
   "id": "dcb9af93b82f97f4",
   "execution_count": 99,
   "outputs": []
  },
  {
   "metadata": {
    "ExecuteTime": {
     "end_time": "2024-06-23T07:19:13.849932Z",
     "start_time": "2024-06-23T07:19:13.847500Z"
    }
   },
   "cell_type": "code",
   "source": "t('spam'), t('new')",
   "id": "1e23a70abbfdb9f6",
   "execution_count": 100,
   "outputs": []
  },
  {
   "metadata": {},
   "cell_type": "markdown",
   "source": "# 使用函数属性",
   "id": "da296852515f6e6b"
  },
  {
   "metadata": {
    "ExecuteTime": {
     "end_time": "2024-06-23T07:24:25.413152Z",
     "start_time": "2024-06-23T07:24:25.409581Z"
    }
   },
   "cell_type": "code",
   "source": [
    "def tester(start):\n",
    "    def nested(label):\n",
    "        print(label, nested.state)\n",
    "        nested.state += 1\n",
    "    nested.state = start\n",
    "    return nested\n",
    "\n",
    "F = tester(0)"
   ],
   "id": "e4c811b739c66838",
   "execution_count": 101,
   "outputs": []
  },
  {
   "metadata": {
    "ExecuteTime": {
     "end_time": "2024-06-23T07:24:34.689649Z",
     "start_time": "2024-06-23T07:24:34.686550Z"
    }
   },
   "cell_type": "code",
   "source": "F('spam'), F('new'), F('new')",
   "id": "d31d553aeea7a1a3",
   "execution_count": 102,
   "outputs": []
  },
  {
   "metadata": {
    "ExecuteTime": {
     "end_time": "2024-06-23T07:24:40.979427Z",
     "start_time": "2024-06-23T07:24:40.976777Z"
    }
   },
   "cell_type": "code",
   "source": "F.state",
   "id": "c327ce6007a1e50c",
   "execution_count": 103,
   "outputs": []
  },
  {
   "metadata": {
    "ExecuteTime": {
     "end_time": "2024-06-23T07:26:07.953078Z",
     "start_time": "2024-06-23T07:26:07.949808Z"
    }
   },
   "cell_type": "code",
   "source": "G = tester(32)",
   "id": "92cf86f5bbc15df4",
   "execution_count": 111,
   "outputs": []
  },
  {
   "metadata": {
    "ExecuteTime": {
     "end_time": "2024-06-23T07:26:08.346389Z",
     "start_time": "2024-06-23T07:26:08.343651Z"
    }
   },
   "cell_type": "code",
   "source": "G('spam'), G('new'), G('new'), G('new'), G('new')",
   "id": "e8f60778d202f312",
   "execution_count": 112,
   "outputs": []
  },
  {
   "metadata": {
    "ExecuteTime": {
     "end_time": "2024-06-23T07:26:12.184571Z",
     "start_time": "2024-06-23T07:26:12.182346Z"
    }
   },
   "cell_type": "code",
   "source": "G.state",
   "id": "680136b031454d8e",
   "execution_count": 113,
   "outputs": []
  },
  {
   "metadata": {
    "ExecuteTime": {
     "end_time": "2024-06-23T07:29:35.691097Z",
     "start_time": "2024-06-23T07:29:35.686253Z"
    }
   },
   "cell_type": "code",
   "source": "F is G",
   "id": "f5a0dd2dd26a9925",
   "execution_count": 114,
   "outputs": []
  },
  {
   "metadata": {
    "ExecuteTime": {
     "end_time": "2024-06-23T07:32:09.950434Z",
     "start_time": "2024-06-23T07:32:09.948216Z"
    }
   },
   "cell_type": "code",
   "source": [
    "def tester(start):\n",
    "    state = [start]\n",
    "    def nested(label):\n",
    "        print(label, state[0])\n",
    "        state[0] = state[0] + 1\n",
    "    return nested\n",
    "\n",
    "F = tester(0)"
   ],
   "id": "64db1851fc47ab2c",
   "execution_count": 115,
   "outputs": []
  },
  {
   "metadata": {
    "ExecuteTime": {
     "end_time": "2024-06-23T07:32:16.741964Z",
     "start_time": "2024-06-23T07:32:16.739302Z"
    }
   },
   "cell_type": "code",
   "source": "F('spam'), F('new'), F('new')",
   "id": "4904a91bf2de23ff",
   "execution_count": 116,
   "outputs": []
  },
  {
   "metadata": {
    "ExecuteTime": {
     "end_time": "2024-06-23T07:32:37.010309Z",
     "start_time": "2024-06-23T07:32:37.008347Z"
    }
   },
   "cell_type": "code",
   "source": "G = tester(32)",
   "id": "851ef687f43d9260",
   "execution_count": 117,
   "outputs": []
  },
  {
   "metadata": {
    "ExecuteTime": {
     "end_time": "2024-06-23T07:32:51.219546Z",
     "start_time": "2024-06-23T07:32:51.216686Z"
    }
   },
   "cell_type": "code",
   "source": "G('spam'), G('new'), G('new')",
   "id": "8d224de356fac721",
   "execution_count": 119,
   "outputs": []
  },
  {
   "metadata": {},
   "cell_type": "markdown",
   "source": "# 自定义 open",
   "id": "6f68a9592a37e503"
  },
  {
   "metadata": {
    "ExecuteTime": {
     "end_time": "2024-06-23T07:37:50.421570Z",
     "start_time": "2024-06-23T07:37:50.415650Z"
    }
   },
   "cell_type": "code",
   "source": [
    "import builtins\n",
    "def makeopen(id):\n",
    "    original = builtins.open\n",
    "    def custom(*args, **kwargs):\n",
    "        print(f'Custom open called with {args} and {kwargs}')\n",
    "        return original(*args, **kwargs)\n",
    "    builtins.open = custom"
   ],
   "id": "372665953cb9180",
   "execution_count": 120,
   "outputs": []
  },
  {
   "metadata": {
    "ExecuteTime": {
     "end_time": "2024-06-23T07:39:44.949304Z",
     "start_time": "2024-06-23T07:39:44.946836Z"
    }
   },
   "cell_type": "code",
   "source": [
    "f = makeopen('spam')\n",
    "f"
   ],
   "id": "93c2c0457ad8bbf4",
   "execution_count": 130,
   "outputs": []
  },
  {
   "metadata": {
    "ExecuteTime": {
     "end_time": "2024-06-23T07:40:07.007169Z",
     "start_time": "2024-06-23T07:40:07.004264Z"
    }
   },
   "cell_type": "code",
   "source": [
    "F = open('text.log', 'r')\n",
    "F"
   ],
   "id": "8a67133bc810495",
   "execution_count": 132,
   "outputs": []
  },
  {
   "metadata": {},
   "cell_type": "code",
   "execution_count": null,
   "source": "",
   "id": "33865dc3c077902a",
   "outputs": []
  }
 ],
 "metadata": {
  "kernelspec": {
   "display_name": "Python 3",
   "language": "python",
   "name": "python3"
  },
  "language_info": {
   "codemirror_mode": {
    "name": "ipython",
    "version": 2
   },
   "file_extension": ".py",
   "mimetype": "text/x-python",
   "name": "python",
   "nbconvert_exporter": "python",
   "pygments_lexer": "ipython2",
   "version": "2.7.6"
  }
 },
 "nbformat": 4,
 "nbformat_minor": 5
}
