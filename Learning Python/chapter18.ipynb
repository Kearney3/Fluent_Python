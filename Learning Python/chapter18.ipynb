{
 "cells": [
  {
   "metadata": {},
   "cell_type": "markdown",
   "source": "# 函数参数",
   "id": "cf82e41b8c729abe"
  },
  {
   "cell_type": "code",
   "id": "initial_id",
   "metadata": {
    "collapsed": true,
    "ExecuteTime": {
     "end_time": "2024-06-23T07:46:42.660731Z",
     "start_time": "2024-06-23T07:46:42.657175Z"
    }
   },
   "source": [
    "def changer(a, b):\n",
    "    a = 99\n",
    "    b[0] = 'hello'"
   ],
   "execution_count": 1,
   "outputs": []
  },
  {
   "metadata": {
    "ExecuteTime": {
     "end_time": "2024-06-23T07:46:51.237017Z",
     "start_time": "2024-06-23T07:46:51.234056Z"
    }
   },
   "cell_type": "code",
   "source": [
    "x = 1\n",
    "y = [1, 2, 3]"
   ],
   "id": "924949df881d8319",
   "execution_count": 2,
   "outputs": []
  },
  {
   "metadata": {
    "ExecuteTime": {
     "end_time": "2024-06-23T07:46:56.517960Z",
     "start_time": "2024-06-23T07:46:56.515330Z"
    }
   },
   "cell_type": "code",
   "source": "changer(x, y)",
   "id": "3b7db2655d0b05ff",
   "execution_count": 3,
   "outputs": []
  },
  {
   "metadata": {
    "ExecuteTime": {
     "end_time": "2024-06-23T07:46:58.843937Z",
     "start_time": "2024-06-23T07:46:58.840774Z"
    }
   },
   "cell_type": "code",
   "source": "x, y",
   "id": "9bf922637247a521",
   "execution_count": 4,
   "outputs": []
  },
  {
   "metadata": {
    "ExecuteTime": {
     "end_time": "2024-06-23T07:50:49.776594Z",
     "start_time": "2024-06-23T07:50:49.771190Z"
    }
   },
   "cell_type": "code",
   "source": [
    "x = 1\n",
    "y = [1, 2, 3]\n",
    "changer(x, y[:])"
   ],
   "id": "49d956d6b00e9877",
   "execution_count": 5,
   "outputs": []
  },
  {
   "metadata": {
    "ExecuteTime": {
     "end_time": "2024-06-23T07:50:51.983798Z",
     "start_time": "2024-06-23T07:50:51.981132Z"
    }
   },
   "cell_type": "code",
   "source": "x, y",
   "id": "753a0a847ce37800",
   "execution_count": 6,
   "outputs": []
  },
  {
   "metadata": {
    "ExecuteTime": {
     "end_time": "2024-06-23T07:51:36.406368Z",
     "start_time": "2024-06-23T07:51:36.403939Z"
    }
   },
   "cell_type": "code",
   "source": [
    "def changer(a, b):\n",
    "    b = b[:]\n",
    "    a = 99\n",
    "    b[0] = 'hello'"
   ],
   "id": "9a87b17d8b31b14e",
   "execution_count": 10,
   "outputs": []
  },
  {
   "metadata": {
    "ExecuteTime": {
     "end_time": "2024-06-23T07:51:36.598530Z",
     "start_time": "2024-06-23T07:51:36.595561Z"
    }
   },
   "cell_type": "code",
   "source": [
    "x = 1\n",
    "y = [1, 2, 3]\n",
    "changer(x, y[:])\n",
    "x, y"
   ],
   "id": "6fc8c13c4cbfc17c",
   "execution_count": 11,
   "outputs": []
  },
  {
   "metadata": {
    "ExecuteTime": {
     "end_time": "2024-06-23T08:03:24.602581Z",
     "start_time": "2024-06-23T08:03:24.598690Z"
    }
   },
   "cell_type": "code",
   "source": [
    "def f(*args):\n",
    "    print(args)\n",
    "\n",
    "\n",
    "f(1, 2, 3, 4)"
   ],
   "id": "a7c229183dbd2818",
   "execution_count": 12,
   "outputs": []
  },
  {
   "metadata": {
    "ExecuteTime": {
     "end_time": "2024-06-23T08:03:47.954031Z",
     "start_time": "2024-06-23T08:03:47.950857Z"
    }
   },
   "cell_type": "code",
   "source": [
    "def f(**kwargs):\n",
    "    print(kwargs)\n",
    "\n",
    "\n",
    "f(a=1, b=2, c=3)"
   ],
   "id": "551df4e6dec08a8a",
   "execution_count": 13,
   "outputs": []
  },
  {
   "metadata": {
    "ExecuteTime": {
     "end_time": "2024-06-23T08:04:29.893126Z",
     "start_time": "2024-06-23T08:04:29.891014Z"
    }
   },
   "cell_type": "code",
   "source": [
    "def f(a, *args, **kwargs):\n",
    "    print(a, args, kwargs)\n",
    "\n",
    "\n",
    "f(1, 2, 3, c=4, d=5)"
   ],
   "id": "ba4176f649547c86",
   "execution_count": 14,
   "outputs": []
  },
  {
   "metadata": {
    "ExecuteTime": {
     "end_time": "2024-06-23T08:05:52.050978Z",
     "start_time": "2024-06-23T08:05:52.047117Z"
    }
   },
   "cell_type": "code",
   "source": "f(1, 2, *(3, 4, 5), **{'c': 6, 'd': 7})",
   "id": "c97a0e29acf7d8a9",
   "execution_count": 15,
   "outputs": []
  },
  {
   "metadata": {
    "ExecuteTime": {
     "end_time": "2024-06-23T08:07:17.310806Z",
     "start_time": "2024-06-23T08:07:17.308786Z"
    }
   },
   "cell_type": "code",
   "source": "f(1, 2, *(21,), c=3, **{'d': 4})",
   "id": "c15cf45c3ad8d0e5",
   "execution_count": 18,
   "outputs": []
  },
  {
   "metadata": {
    "ExecuteTime": {
     "end_time": "2024-06-23T08:37:50.307281Z",
     "start_time": "2024-06-23T08:37:50.304821Z"
    }
   },
   "cell_type": "code",
   "source": [
    "def tracer(func, *args, **kwargs):\n",
    "    print(f'calling {func.__name__}')\n",
    "    return func(*args, **kwargs)\n",
    "\n",
    "\n",
    "def func(a, b, c, d):\n",
    "    return a + b + c + d\n",
    "\n"
   ],
   "id": "f32620e69bf604b4",
   "execution_count": 26,
   "outputs": []
  },
  {
   "metadata": {
    "ExecuteTime": {
     "end_time": "2024-06-23T08:37:46.397156Z",
     "start_time": "2024-06-23T08:37:46.395272Z"
    }
   },
   "cell_type": "code",
   "source": "print(tracer(func, 1, 2, 3, 4))",
   "id": "ca5939e5171b7a4",
   "execution_count": 25,
   "outputs": []
  },
  {
   "metadata": {
    "ExecuteTime": {
     "end_time": "2024-06-23T08:37:58.750092Z",
     "start_time": "2024-06-23T08:37:58.747058Z"
    }
   },
   "cell_type": "code",
   "source": "tracer(func, 1, 2, 3, 4)",
   "id": "6bb3a1fcd00486c3",
   "execution_count": 27,
   "outputs": []
  },
  {
   "metadata": {
    "ExecuteTime": {
     "end_time": "2024-06-23T08:39:25.358010Z",
     "start_time": "2024-06-23T08:39:25.355956Z"
    }
   },
   "cell_type": "code",
   "source": [
    "def keyword_only(*, a, b, c):\n",
    "    print(a, b, c)\n",
    "\n",
    "\n",
    "keyword_only(a=1, b=2, c=3)"
   ],
   "id": "37d314080177de59",
   "execution_count": 28,
   "outputs": []
  },
  {
   "metadata": {
    "ExecuteTime": {
     "end_time": "2024-06-23T08:39:31.987105Z",
     "start_time": "2024-06-23T08:39:31.765606Z"
    }
   },
   "cell_type": "code",
   "source": "keyword_only(1, 2, 3)",
   "id": "a157a48c98e43024",
   "execution_count": 29,
   "outputs": []
  },
  {
   "metadata": {
    "ExecuteTime": {
     "end_time": "2024-06-23T08:40:24.319869Z",
     "start_time": "2024-06-23T08:40:24.317943Z"
    }
   },
   "cell_type": "code",
   "source": [
    "def keyword_only(a, *b, c):\n",
    "    print(a, b, c)\n",
    "\n",
    "\n",
    "keyword_only(1, 2, c=3)\n",
    "keyword_only(1, c=3)"
   ],
   "id": "7c86394a659e6259",
   "execution_count": 35,
   "outputs": []
  },
  {
   "metadata": {
    "ExecuteTime": {
     "end_time": "2024-06-23T08:40:33.326888Z",
     "start_time": "2024-06-23T08:40:33.312039Z"
    }
   },
   "cell_type": "code",
   "source": "keyword_only(1, 2, 3)",
   "id": "6dba8afc5d19a947",
   "execution_count": 36,
   "outputs": []
  },
  {
   "metadata": {
    "ExecuteTime": {
     "end_time": "2024-06-23T08:42:52.245142Z",
     "start_time": "2024-06-23T08:42:52.231494Z"
    }
   },
   "cell_type": "code",
   "source": [
    "def keyword_only(a, b, c, /):\n",
    "    print(a, b, c)\n",
    "\n",
    "\n",
    "keyword_only(1, 2, 3)"
   ],
   "id": "e31ebbd7b07b0646",
   "execution_count": 41,
   "outputs": []
  },
  {
   "metadata": {
    "ExecuteTime": {
     "end_time": "2024-06-23T08:42:57.650290Z",
     "start_time": "2024-06-23T08:42:57.643540Z"
    }
   },
   "cell_type": "code",
   "source": "keyword_only(1, 2, c=3)",
   "id": "2d7c6d4eb608b65e",
   "execution_count": 42,
   "outputs": []
  },
  {
   "metadata": {
    "ExecuteTime": {
     "end_time": "2024-06-23T08:43:32.333257Z",
     "start_time": "2024-06-23T08:43:32.329583Z"
    }
   },
   "cell_type": "code",
   "source": [
    "def keyword_only(a, *, b, c):\n",
    "    print(a, b, c)\n",
    "\n",
    "\n",
    "keyword_only(1, b=2, c=3)\n",
    "keyword_only(a=1, b=2, c=3)"
   ],
   "id": "89b8b8df1f08c480",
   "execution_count": 44,
   "outputs": []
  },
  {
   "metadata": {
    "ExecuteTime": {
     "end_time": "2024-06-23T08:43:40.374805Z",
     "start_time": "2024-06-23T08:43:40.362607Z"
    }
   },
   "cell_type": "code",
   "source": "keyword_only(1, 2, c=3)",
   "id": "72dc8138d105bc05",
   "execution_count": 45,
   "outputs": []
  },
  {
   "metadata": {
    "ExecuteTime": {
     "end_time": "2024-06-23T08:44:33.299937Z",
     "start_time": "2024-06-23T08:44:33.292183Z"
    }
   },
   "cell_type": "code",
   "source": [
    "def keyword_only(a, *, b=2, c):\n",
    "    print(a, b, c)\n",
    "\n",
    "\n",
    "keyword_only(1, b=2, c=3)\n",
    "keyword_only(1, c=3)"
   ],
   "id": "21109e648f682ed2",
   "execution_count": 49,
   "outputs": []
  },
  {
   "metadata": {
    "ExecuteTime": {
     "end_time": "2024-06-23T08:44:36.731889Z",
     "start_time": "2024-06-23T08:44:36.723908Z"
    }
   },
   "cell_type": "code",
   "source": "keyword_only(1, 2, c=3)",
   "id": "c823704c69b060f1",
   "execution_count": 50,
   "outputs": []
  },
  {
   "metadata": {
    "ExecuteTime": {
     "end_time": "2024-06-23T08:44:47.207598Z",
     "start_time": "2024-06-23T08:44:47.204818Z"
    }
   },
   "cell_type": "code",
   "source": [
    "def keyword_only(a, *, b=2, c=3):\n",
    "    print(a, b, c)\n",
    "\n",
    "\n",
    "keyword_only(1, b=2, c=3)\n",
    "keyword_only(1, c=3)"
   ],
   "id": "84264f5b663fba73",
   "execution_count": 51,
   "outputs": []
  },
  {
   "metadata": {
    "ExecuteTime": {
     "end_time": "2024-06-23T08:44:57.450714Z",
     "start_time": "2024-06-23T08:44:57.448315Z"
    }
   },
   "cell_type": "code",
   "source": "keyword_only(1)",
   "id": "77c7ebf9202ecb9d",
   "execution_count": 53,
   "outputs": []
  },
  {
   "metadata": {
    "ExecuteTime": {
     "end_time": "2024-06-23T08:45:44.157151Z",
     "start_time": "2024-06-23T08:45:44.148772Z"
    }
   },
   "cell_type": "code",
   "source": [
    "def keyword_only(a=1, *, b=2, c, d=4):\n",
    "    print(a, b, c, d)\n",
    "\n",
    "\n",
    "keyword_only(3)"
   ],
   "id": "d10f2331506e8e5a",
   "execution_count": 55,
   "outputs": []
  },
  {
   "metadata": {
    "ExecuteTime": {
     "end_time": "2024-06-23T08:46:13.959275Z",
     "start_time": "2024-06-23T08:46:13.955952Z"
    }
   },
   "cell_type": "code",
   "source": "keyword_only(c=3)",
   "id": "33c5748a38d0faee",
   "execution_count": 58,
   "outputs": []
  },
  {
   "metadata": {},
   "cell_type": "markdown",
   "source": "`** 不能独自出现`",
   "id": "8d0006cc8bdf8a13"
  },
  {
   "metadata": {
    "ExecuteTime": {
     "end_time": "2024-06-23T08:46:36.978904Z",
     "start_time": "2024-06-23T08:46:36.975902Z"
    }
   },
   "cell_type": "code",
   "source": [
    "def keyword_only(a=1, **, b=2, c, d=4):\n",
    "    print(a, b, c, d)"
   ],
   "id": "6532ff94dd83929f",
   "execution_count": 59,
   "outputs": []
  },
  {
   "metadata": {
    "ExecuteTime": {
     "end_time": "2024-06-23T08:47:26.508643Z",
     "start_time": "2024-06-23T08:47:26.505948Z"
    }
   },
   "cell_type": "code",
   "source": [
    "def keyword_only(a=1, *b, **c, d=4):\n",
    "    print(a, b, c, d)"
   ],
   "id": "95d790f0e1434e40",
   "execution_count": 60,
   "outputs": []
  },
  {
   "metadata": {
    "ExecuteTime": {
     "end_time": "2024-06-23T08:47:33.800680Z",
     "start_time": "2024-06-23T08:47:33.798521Z"
    }
   },
   "cell_type": "code",
   "source": [
    "def keyword_only(a=1, *b, c, **d):\n",
    "    print(a, b, c, d)"
   ],
   "id": "316210f106b242b6",
   "execution_count": 61,
   "outputs": []
  },
  {
   "metadata": {
    "ExecuteTime": {
     "end_time": "2024-06-23T08:48:04.206558Z",
     "start_time": "2024-06-23T08:48:04.204709Z"
    }
   },
   "cell_type": "code",
   "source": "keyword_only(1, 2, 3, c=4, t=5, z=9)",
   "id": "c4bcbf30f799d982",
   "execution_count": 63,
   "outputs": []
  },
  {
   "metadata": {
    "ExecuteTime": {
     "end_time": "2024-06-23T08:48:20.060387Z",
     "start_time": "2024-06-23T08:48:20.053870Z"
    }
   },
   "cell_type": "code",
   "source": "keyword_only(1, 2, 3, 4, t=5, z=9)",
   "id": "614955b87a9159bf",
   "execution_count": 65,
   "outputs": []
  },
  {
   "metadata": {
    "ExecuteTime": {
     "end_time": "2024-06-23T08:48:39.456929Z",
     "start_time": "2024-06-23T08:48:39.454906Z"
    }
   },
   "cell_type": "code",
   "source": "keyword_only(1, 2, 3, t=5, z=9, c=10)\n",
   "id": "d24a223133e088d4",
   "execution_count": 66,
   "outputs": []
  },
  {
   "metadata": {
    "ExecuteTime": {
     "end_time": "2024-06-23T08:50:14.753331Z",
     "start_time": "2024-06-23T08:50:14.751356Z"
    }
   },
   "cell_type": "code",
   "source": "keyword_only(1, 2, 3, **dict(t=5, z=9, c=10))\n",
   "id": "68284df787f2200a",
   "execution_count": 68,
   "outputs": []
  },
  {
   "metadata": {
    "ExecuteTime": {
     "end_time": "2024-06-23T08:54:07.753895Z",
     "start_time": "2024-06-23T08:54:07.749349Z"
    }
   },
   "cell_type": "code",
   "source": [
    "def min1(*args):\n",
    "    res = args[0]\n",
    "    for arg in args[1:]:\n",
    "        if arg < res:\n",
    "            res = arg\n",
    "    return res\n",
    "\n",
    "\n",
    "def min2(first, *args):\n",
    "    for arg in args:\n",
    "        if arg < first:\n",
    "            first = arg\n",
    "    return first\n",
    "\n",
    "\n",
    "def min3(*args):\n",
    "    return sorted(args)[0]"
   ],
   "id": "db0c0500661d2a6c",
   "execution_count": 69,
   "outputs": []
  },
  {
   "metadata": {
    "ExecuteTime": {
     "end_time": "2024-06-23T08:54:34.163477Z",
     "start_time": "2024-06-23T08:54:34.161295Z"
    }
   },
   "cell_type": "code",
   "source": [
    "print(min1(3, 4, 1, 2, 6, 0))\n",
    "print(min2(3, 4, 1, 2, 6, 0))\n",
    "print(min3(3, 4, 1, 2, 6, 0))"
   ],
   "id": "a593bc09cc7a6f5c",
   "execution_count": 71,
   "outputs": []
  },
  {
   "metadata": {
    "ExecuteTime": {
     "end_time": "2024-06-23T08:55:00.527709Z",
     "start_time": "2024-06-23T08:55:00.524989Z"
    }
   },
   "cell_type": "code",
   "source": [
    "print(min1('aa', 'bb', 'AA'))\n",
    "print(min2('aa', 'bb', 'AA'))\n",
    "print(min3('aa', 'bb', 'AA'))"
   ],
   "id": "f9443f8b7b2240e1",
   "execution_count": 73,
   "outputs": []
  },
  {
   "metadata": {
    "ExecuteTime": {
     "end_time": "2024-06-23T08:55:34.111886Z",
     "start_time": "2024-06-23T08:55:34.107695Z"
    }
   },
   "cell_type": "code",
   "source": [
    "print(min1([2, 2], [1, 2], [1, 1]))\n",
    "print(min2([2, 2], [1, 2], [1, 1]))\n",
    "print(min3([2, 2], [1, 2], [1, 1]))"
   ],
   "id": "86cdbe81bef715b6",
   "execution_count": 74,
   "outputs": []
  },
  {
   "metadata": {
    "ExecuteTime": {
     "end_time": "2024-06-23T08:58:16.831017Z",
     "start_time": "2024-06-23T08:58:16.828522Z"
    }
   },
   "cell_type": "code",
   "source": [
    "def minmax(test, *args):\n",
    "    res = args[0]\n",
    "    for arg in args[1:]:\n",
    "        if test(arg, res):\n",
    "            res = arg\n",
    "    return res\n",
    "\n",
    "\n",
    "def lessthan(a, b):\n",
    "    return a < b\n",
    "\n",
    "\n",
    "def greaterthan(a, b):\n",
    "    return a > b"
   ],
   "id": "b21fb2b9ac2cc357",
   "execution_count": 77,
   "outputs": []
  },
  {
   "metadata": {
    "ExecuteTime": {
     "end_time": "2024-06-23T08:58:26.183811Z",
     "start_time": "2024-06-23T08:58:26.181506Z"
    }
   },
   "cell_type": "code",
   "source": [
    "print(minmax(lessthan, 3, 4, 1, 2, 6, 0))\n",
    "print(minmax(greaterthan, 3, 4, 1, 2, 6, 0))"
   ],
   "id": "d6a71eb01697a5a9",
   "execution_count": 80,
   "outputs": []
  },
  {
   "metadata": {
    "ExecuteTime": {
     "end_time": "2024-06-23T09:19:58.186559Z",
     "start_time": "2024-06-23T09:19:58.181204Z"
    }
   },
   "cell_type": "code",
   "source": [
    "def intersect(*args):\n",
    "    # rec = args[0]\n",
    "    rec = args[0].copy()\n",
    "    for arg in args[1:]:\n",
    "        for x in rec:\n",
    "            if x not in arg: rec.remove(x)\n",
    "    return rec\n",
    "\n",
    "\n",
    "intersect([1, 2, 3], [2, 3, 4], [3, 4, 5])"
   ],
   "id": "fb33ac2b65c302f0",
   "execution_count": 125,
   "outputs": []
  },
  {
   "metadata": {
    "ExecuteTime": {
     "end_time": "2024-06-23T09:20:02.696518Z",
     "start_time": "2024-06-23T09:20:02.693828Z"
    }
   },
   "cell_type": "code",
   "source": [
    "def union(*args):\n",
    "    rec = args[0].copy()\n",
    "    for arg in args[1:]:\n",
    "        for x in arg:\n",
    "            if x not in rec: rec.append(x)\n",
    "    return rec\n",
    "\n",
    "\n",
    "union([1, 2, 3], [2, 3, 4], [3, 4, 5, 8, 10])"
   ],
   "id": "498341ccc3bf4080",
   "execution_count": 126,
   "outputs": []
  },
  {
   "metadata": {
    "ExecuteTime": {
     "end_time": "2024-06-23T09:20:03.058105Z",
     "start_time": "2024-06-23T09:20:03.055608Z"
    }
   },
   "cell_type": "code",
   "source": [
    "def tester(func, *items, trace=True):\n",
    "    for i in range(len(items)):\n",
    "        if trace: print(items)\n",
    "        print(sorted(func(*items)))\n",
    "        items = items[1:] + items[:1]\n",
    "        # print(items)\n"
   ],
   "id": "2080b3217972d42",
   "execution_count": 127,
   "outputs": []
  },
  {
   "metadata": {
    "ExecuteTime": {
     "end_time": "2024-06-23T09:20:03.601729Z",
     "start_time": "2024-06-23T09:20:03.599471Z"
    }
   },
   "cell_type": "code",
   "source": [
    "a = [1, 2, 3]\n",
    "b = [2, 3, 4]\n",
    "c = [3, 4, 5]\n",
    "tester(intersect, a,b,c)"
   ],
   "id": "9390e26702ecf9b7",
   "execution_count": 128,
   "outputs": []
  },
  {
   "metadata": {
    "ExecuteTime": {
     "end_time": "2024-06-23T09:20:04.400858Z",
     "start_time": "2024-06-23T09:20:04.398246Z"
    }
   },
   "cell_type": "code",
   "source": "a,b,c",
   "id": "2a929b394e595dd3",
   "execution_count": 129,
   "outputs": []
  },
  {
   "metadata": {
    "ExecuteTime": {
     "end_time": "2024-06-23T09:20:14.974804Z",
     "start_time": "2024-06-23T09:20:14.973001Z"
    }
   },
   "cell_type": "code",
   "source": "tester(union, a,b,c)\n",
   "id": "22e7350660cb067a",
   "execution_count": 131,
   "outputs": []
  },
  {
   "metadata": {
    "ExecuteTime": {
     "end_time": "2024-06-23T09:20:56.913264Z",
     "start_time": "2024-06-23T09:20:56.909594Z"
    }
   },
   "cell_type": "code",
   "source": [
    "def union2(*args):\n",
    "    rec = []\n",
    "    for arg in args:\n",
    "        for x in arg:\n",
    "            if x not in rec: rec.append(x)\n",
    "    return rec"
   ],
   "id": "8b13defd8b119ae3",
   "execution_count": 132,
   "outputs": []
  },
  {
   "metadata": {
    "ExecuteTime": {
     "end_time": "2024-06-23T09:21:21.478233Z",
     "start_time": "2024-06-23T09:21:21.472816Z"
    }
   },
   "cell_type": "code",
   "source": [
    "a = [1, 2, 3]\n",
    "b = [2, 3, 4]\n",
    "c = [3, 4, 5]\n",
    "tester(union2, a,b,c)\n",
    "a,b,c"
   ],
   "id": "67c6dba30571b949",
   "execution_count": 136,
   "outputs": []
  },
  {
   "metadata": {
    "ExecuteTime": {
     "end_time": "2024-06-23T09:25:41.437854Z",
     "start_time": "2024-06-23T09:25:41.431127Z"
    }
   },
   "cell_type": "code",
   "source": [
    "def intersect2(*args):\n",
    "    rec = []\n",
    "    for x in args[0]:\n",
    "        if x in rec: continue\n",
    "        for arg in args[1:]:\n",
    "            if x not in arg: break\n",
    "        else:\n",
    "            rec.append(x)\n",
    "    return rec\n",
    "\n",
    "\n",
    "intersect2([1, 2, 3], [2, 3, 4], [3, 4, 5])"
   ],
   "id": "c6a8e3944f32f209",
   "execution_count": 141,
   "outputs": []
  },
  {
   "metadata": {
    "ExecuteTime": {
     "end_time": "2024-06-23T09:25:53.529720Z",
     "start_time": "2024-06-23T09:25:53.527036Z"
    }
   },
   "cell_type": "code",
   "source": [
    "a = [1, 2, 3]\n",
    "b = [2, 3, 4]\n",
    "c = [3, 4, 5]\n",
    "tester(intersect2, a,b,c)\n",
    "a,b,c"
   ],
   "id": "14deb8737c7e7f7c",
   "execution_count": 143,
   "outputs": []
  },
  {
   "metadata": {
    "ExecuteTime": {
     "end_time": "2024-06-23T09:35:05.609432Z",
     "start_time": "2024-06-23T09:35:05.606809Z"
    }
   },
   "cell_type": "code",
   "source": [
    "def myprint(*args, **kwargs):\n",
    "    sep = kwargs.get('sep', ' ')\n",
    "    end = kwargs.get('end', '\\n')\n",
    "    # print(sep.join(args), end=end)\n",
    "    output=''\n",
    "    first = True\n",
    "    for arg in args:\n",
    "        output+=(sep if not first else '') + str(arg)\n",
    "        first = False\n",
    "    print(output+end)\n",
    "myprint(1,2,[3,4,5],(2,), {'a':1}, sep='|', name='bob')"
   ],
   "id": "7ab9b14ebd0448a",
   "execution_count": 154,
   "outputs": []
  },
  {
   "metadata": {},
   "cell_type": "markdown",
   "source": [
    "删除多余关键字参数 name\n",
    "使用 pop()"
   ],
   "id": "eace56fde9ecefd2"
  },
  {
   "metadata": {
    "ExecuteTime": {
     "end_time": "2024-06-23T09:35:53.300532Z",
     "start_time": "2024-06-23T09:35:53.254167Z"
    }
   },
   "cell_type": "code",
   "source": [
    "def myprint2(*args, **kwargs):\n",
    "    sep = kwargs.pop('sep', ' ')\n",
    "    end = kwargs.pop('end', '\\n')\n",
    "    if kwargs:\n",
    "        raise TypeError('myprint2() got an unexpected keyword argument')\n",
    "    output=''\n",
    "    first = True\n",
    "    for arg in args:\n",
    "        output+=(sep if not first else '') + str(arg)\n",
    "        first = False\n",
    "    print(output+end)\n",
    "myprint2(1,2,[3,4,5],(2,), {'a':1}, sep='|', name='bob')"
   ],
   "id": "a10a75858f33d4ff",
   "execution_count": 156,
   "outputs": []
  },
  {
   "metadata": {
    "ExecuteTime": {
     "end_time": "2024-06-23T09:36:00.910848Z",
     "start_time": "2024-06-23T09:36:00.908264Z"
    }
   },
   "cell_type": "code",
   "source": "myprint2(1,2,[3,4,5],(2,), {'a':1}, sep='|')\n",
   "id": "a5a5b56d6d5be468",
   "execution_count": 157,
   "outputs": []
  },
  {
   "metadata": {},
   "cell_type": "code",
   "execution_count": null,
   "source": "",
   "id": "539ec791741fd49",
   "outputs": []
  }
 ],
 "metadata": {
  "kernelspec": {
   "display_name": "Python 3",
   "language": "python",
   "name": "python3"
  },
  "language_info": {
   "codemirror_mode": {
    "name": "ipython",
    "version": 2
   },
   "file_extension": ".py",
   "mimetype": "text/x-python",
   "name": "python",
   "nbconvert_exporter": "python",
   "pygments_lexer": "ipython2",
   "version": "2.7.6"
  }
 },
 "nbformat": 4,
 "nbformat_minor": 5
}
