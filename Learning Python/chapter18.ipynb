{
 "cells": [
  {
   "metadata": {},
   "cell_type": "markdown",
   "source": "# 函数参数",
   "id": "cf82e41b8c729abe"
  },
  {
   "cell_type": "code",
   "id": "initial_id",
   "metadata": {
    "collapsed": true,
    "ExecuteTime": {
     "end_time": "2024-07-08T02:19:18.565330Z",
     "start_time": "2024-07-08T02:19:18.561936Z"
    }
   },
   "source": [
    "def changer(a, b):\n",
    "    a = 99\n",
    "    b[0] = 'hello'"
   ],
   "outputs": [],
   "execution_count": 1
  },
  {
   "metadata": {
    "ExecuteTime": {
     "end_time": "2024-07-08T02:19:18.567641Z",
     "start_time": "2024-07-08T02:19:18.566291Z"
    }
   },
   "cell_type": "code",
   "source": [
    "x = 1\n",
    "y = [1, 2, 3]"
   ],
   "id": "924949df881d8319",
   "outputs": [],
   "execution_count": 2
  },
  {
   "metadata": {
    "ExecuteTime": {
     "end_time": "2024-07-08T02:19:18.569658Z",
     "start_time": "2024-07-08T02:19:18.568230Z"
    }
   },
   "cell_type": "code",
   "source": "changer(x, y)",
   "id": "3b7db2655d0b05ff",
   "outputs": [],
   "execution_count": 3
  },
  {
   "metadata": {
    "ExecuteTime": {
     "end_time": "2024-07-08T02:19:18.573585Z",
     "start_time": "2024-07-08T02:19:18.570577Z"
    }
   },
   "cell_type": "code",
   "source": "x, y",
   "id": "9bf922637247a521",
   "outputs": [
    {
     "data": {
      "text/plain": [
       "(1, ['hello', 2, 3])"
      ]
     },
     "execution_count": 4,
     "metadata": {},
     "output_type": "execute_result"
    }
   ],
   "execution_count": 4
  },
  {
   "metadata": {
    "ExecuteTime": {
     "end_time": "2024-07-08T02:19:18.582160Z",
     "start_time": "2024-07-08T02:19:18.580509Z"
    }
   },
   "cell_type": "code",
   "source": [
    "x = 1\n",
    "y = [1, 2, 3]\n",
    "changer(x, y[:])"
   ],
   "id": "49d956d6b00e9877",
   "outputs": [],
   "execution_count": 5
  },
  {
   "metadata": {
    "ExecuteTime": {
     "end_time": "2024-07-08T02:19:18.599334Z",
     "start_time": "2024-07-08T02:19:18.597011Z"
    }
   },
   "cell_type": "code",
   "source": "x, y",
   "id": "753a0a847ce37800",
   "outputs": [
    {
     "data": {
      "text/plain": [
       "(1, [1, 2, 3])"
      ]
     },
     "execution_count": 6,
     "metadata": {},
     "output_type": "execute_result"
    }
   ],
   "execution_count": 6
  },
  {
   "metadata": {
    "ExecuteTime": {
     "end_time": "2024-07-08T02:19:18.621622Z",
     "start_time": "2024-07-08T02:19:18.619788Z"
    }
   },
   "cell_type": "code",
   "source": [
    "def changer(a, b):\n",
    "    b = b[:]\n",
    "    a = 99\n",
    "    b[0] = 'hello'"
   ],
   "id": "9a87b17d8b31b14e",
   "outputs": [],
   "execution_count": 7
  },
  {
   "metadata": {
    "ExecuteTime": {
     "end_time": "2024-07-08T02:19:18.651436Z",
     "start_time": "2024-07-08T02:19:18.648788Z"
    }
   },
   "cell_type": "code",
   "source": [
    "x = 1\n",
    "y = [1, 2, 3]\n",
    "changer(x, y[:])\n",
    "x, y"
   ],
   "id": "6fc8c13c4cbfc17c",
   "outputs": [
    {
     "data": {
      "text/plain": [
       "(1, [1, 2, 3])"
      ]
     },
     "execution_count": 8,
     "metadata": {},
     "output_type": "execute_result"
    }
   ],
   "execution_count": 8
  },
  {
   "metadata": {
    "ExecuteTime": {
     "end_time": "2024-07-08T02:19:18.674653Z",
     "start_time": "2024-07-08T02:19:18.672602Z"
    }
   },
   "cell_type": "code",
   "source": [
    "def f(*args):\n",
    "    print(args)\n",
    "\n",
    "\n",
    "f(1, 2, 3, 4)"
   ],
   "id": "a7c229183dbd2818",
   "outputs": [
    {
     "name": "stdout",
     "output_type": "stream",
     "text": [
      "(1, 2, 3, 4)\n"
     ]
    }
   ],
   "execution_count": 9
  },
  {
   "metadata": {
    "ExecuteTime": {
     "end_time": "2024-07-08T02:19:18.690278Z",
     "start_time": "2024-07-08T02:19:18.688315Z"
    }
   },
   "cell_type": "code",
   "source": [
    "def f(**kwargs):\n",
    "    print(kwargs)\n",
    "\n",
    "\n",
    "f(a=1, b=2, c=3)"
   ],
   "id": "551df4e6dec08a8a",
   "outputs": [
    {
     "name": "stdout",
     "output_type": "stream",
     "text": [
      "{'a': 1, 'b': 2, 'c': 3}\n"
     ]
    }
   ],
   "execution_count": 10
  },
  {
   "metadata": {
    "ExecuteTime": {
     "end_time": "2024-07-08T02:19:18.713165Z",
     "start_time": "2024-07-08T02:19:18.711190Z"
    }
   },
   "cell_type": "code",
   "source": [
    "def f(a, *args, **kwargs):\n",
    "    print(a, args, kwargs)\n",
    "\n",
    "\n",
    "f(1, 2, 3, c=4, d=5)"
   ],
   "id": "ba4176f649547c86",
   "outputs": [
    {
     "name": "stdout",
     "output_type": "stream",
     "text": [
      "1 (2, 3) {'c': 4, 'd': 5}\n"
     ]
    }
   ],
   "execution_count": 11
  },
  {
   "metadata": {
    "ExecuteTime": {
     "end_time": "2024-07-08T02:19:18.743136Z",
     "start_time": "2024-07-08T02:19:18.741298Z"
    }
   },
   "cell_type": "code",
   "source": "f(1, 2, *(3, 4, 5), **{'c': 6, 'd': 7})",
   "id": "c97a0e29acf7d8a9",
   "outputs": [
    {
     "name": "stdout",
     "output_type": "stream",
     "text": [
      "1 (2, 3, 4, 5) {'c': 6, 'd': 7}\n"
     ]
    }
   ],
   "execution_count": 12
  },
  {
   "metadata": {
    "ExecuteTime": {
     "end_time": "2024-07-08T02:19:18.765112Z",
     "start_time": "2024-07-08T02:19:18.763148Z"
    }
   },
   "cell_type": "code",
   "source": "f(1, 2, *(21,), c=3, **{'d': 4})",
   "id": "c15cf45c3ad8d0e5",
   "outputs": [
    {
     "name": "stdout",
     "output_type": "stream",
     "text": [
      "1 (2, 21) {'c': 3, 'd': 4}\n"
     ]
    }
   ],
   "execution_count": 13
  },
  {
   "metadata": {
    "ExecuteTime": {
     "end_time": "2024-07-08T02:19:18.791636Z",
     "start_time": "2024-07-08T02:19:18.789848Z"
    }
   },
   "cell_type": "code",
   "source": [
    "def tracer(func, *args, **kwargs):\n",
    "    print(f'calling {func.__name__}')\n",
    "    return func(*args, **kwargs)\n",
    "\n",
    "\n",
    "def func(a, b, c, d):\n",
    "    return a + b + c + d\n",
    "\n"
   ],
   "id": "f32620e69bf604b4",
   "outputs": [],
   "execution_count": 14
  },
  {
   "metadata": {
    "ExecuteTime": {
     "end_time": "2024-07-08T02:19:18.811308Z",
     "start_time": "2024-07-08T02:19:18.809470Z"
    }
   },
   "cell_type": "code",
   "source": "print(tracer(func, 1, 2, 3, 4))",
   "id": "ca5939e5171b7a4",
   "outputs": [
    {
     "name": "stdout",
     "output_type": "stream",
     "text": [
      "calling func\n",
      "10\n"
     ]
    }
   ],
   "execution_count": 15
  },
  {
   "metadata": {
    "ExecuteTime": {
     "end_time": "2024-07-08T02:19:18.821333Z",
     "start_time": "2024-07-08T02:19:18.818892Z"
    }
   },
   "cell_type": "code",
   "source": "tracer(func, 1, 2, 3, 4)",
   "id": "6bb3a1fcd00486c3",
   "outputs": [
    {
     "name": "stdout",
     "output_type": "stream",
     "text": [
      "calling func\n"
     ]
    },
    {
     "data": {
      "text/plain": [
       "10"
      ]
     },
     "execution_count": 16,
     "metadata": {},
     "output_type": "execute_result"
    }
   ],
   "execution_count": 16
  },
  {
   "metadata": {
    "ExecuteTime": {
     "end_time": "2024-07-08T02:19:18.841133Z",
     "start_time": "2024-07-08T02:19:18.839160Z"
    }
   },
   "cell_type": "code",
   "source": [
    "def keyword_only(*, a, b, c):\n",
    "    print(a, b, c)\n",
    "\n",
    "\n",
    "keyword_only(a=1, b=2, c=3)"
   ],
   "id": "37d314080177de59",
   "outputs": [
    {
     "name": "stdout",
     "output_type": "stream",
     "text": [
      "1 2 3\n"
     ]
    }
   ],
   "execution_count": 17
  },
  {
   "metadata": {
    "ExecuteTime": {
     "end_time": "2024-07-08T02:19:19.057721Z",
     "start_time": "2024-07-08T02:19:18.862256Z"
    }
   },
   "cell_type": "code",
   "source": "keyword_only(1, 2, 3)",
   "id": "a157a48c98e43024",
   "outputs": [
    {
     "ename": "TypeError",
     "evalue": "keyword_only() takes 0 positional arguments but 3 were given",
     "output_type": "error",
     "traceback": [
      "\u001B[0;31m---------------------------------------------------------------------------\u001B[0m",
      "\u001B[0;31mTypeError\u001B[0m                                 Traceback (most recent call last)",
      "Cell \u001B[0;32mIn[18], line 1\u001B[0m\n\u001B[0;32m----> 1\u001B[0m keyword_only(\u001B[38;5;241m1\u001B[39m, \u001B[38;5;241m2\u001B[39m, \u001B[38;5;241m3\u001B[39m)\n",
      "\u001B[0;31mTypeError\u001B[0m: keyword_only() takes 0 positional arguments but 3 were given"
     ]
    }
   ],
   "execution_count": 18
  },
  {
   "metadata": {
    "ExecuteTime": {
     "end_time": "2024-07-08T02:19:19.058965Z",
     "start_time": "2024-07-08T02:19:19.058921Z"
    }
   },
   "cell_type": "code",
   "source": [
    "def keyword_only(a, *b, c):\n",
    "    print(a, b, c)\n",
    "\n",
    "\n",
    "keyword_only(1, 2, c=3)\n",
    "keyword_only(1, c=3)"
   ],
   "id": "7c86394a659e6259",
   "outputs": [],
   "execution_count": null
  },
  {
   "metadata": {},
   "cell_type": "code",
   "source": "keyword_only(1, 2, 3)",
   "id": "6dba8afc5d19a947",
   "outputs": [],
   "execution_count": null
  },
  {
   "metadata": {},
   "cell_type": "code",
   "source": [
    "def keyword_only(a, b, c, /):\n",
    "    print(a, b, c)\n",
    "\n",
    "\n",
    "keyword_only(1, 2, 3)"
   ],
   "id": "e31ebbd7b07b0646",
   "outputs": [],
   "execution_count": null
  },
  {
   "metadata": {},
   "cell_type": "code",
   "source": "keyword_only(1, 2, c=3)",
   "id": "2d7c6d4eb608b65e",
   "outputs": [],
   "execution_count": null
  },
  {
   "metadata": {},
   "cell_type": "code",
   "source": [
    "def keyword_only(a, *, b, c):\n",
    "    print(a, b, c)\n",
    "\n",
    "\n",
    "keyword_only(1, b=2, c=3)\n",
    "keyword_only(a=1, b=2, c=3)"
   ],
   "id": "89b8b8df1f08c480",
   "outputs": [],
   "execution_count": null
  },
  {
   "metadata": {},
   "cell_type": "code",
   "source": "keyword_only(1, 2, c=3)",
   "id": "72dc8138d105bc05",
   "outputs": [],
   "execution_count": null
  },
  {
   "metadata": {},
   "cell_type": "code",
   "source": [
    "def keyword_only(a, *, b=2, c):\n",
    "    print(a, b, c)\n",
    "\n",
    "\n",
    "keyword_only(1, b=2, c=3)\n",
    "keyword_only(1, c=3)"
   ],
   "id": "21109e648f682ed2",
   "outputs": [],
   "execution_count": null
  },
  {
   "metadata": {},
   "cell_type": "code",
   "source": "keyword_only(1, 2, c=3)",
   "id": "c823704c69b060f1",
   "outputs": [],
   "execution_count": null
  },
  {
   "metadata": {},
   "cell_type": "code",
   "source": [
    "def keyword_only(a, *, b=2, c=3):\n",
    "    print(a, b, c)\n",
    "\n",
    "\n",
    "keyword_only(1, b=2, c=3)\n",
    "keyword_only(1, c=3)"
   ],
   "id": "84264f5b663fba73",
   "outputs": [],
   "execution_count": null
  },
  {
   "metadata": {},
   "cell_type": "code",
   "source": "keyword_only(1)",
   "id": "77c7ebf9202ecb9d",
   "outputs": [],
   "execution_count": null
  },
  {
   "metadata": {},
   "cell_type": "code",
   "source": [
    "def keyword_only(a=1, *, b=2, c, d=4):\n",
    "    print(a, b, c, d)\n",
    "\n",
    "\n",
    "keyword_only(3)"
   ],
   "id": "d10f2331506e8e5a",
   "outputs": [],
   "execution_count": null
  },
  {
   "metadata": {},
   "cell_type": "code",
   "source": "keyword_only(c=3)",
   "id": "33c5748a38d0faee",
   "outputs": [],
   "execution_count": null
  },
  {
   "metadata": {},
   "cell_type": "markdown",
   "source": "`** 不能独自出现`",
   "id": "8d0006cc8bdf8a13"
  },
  {
   "metadata": {},
   "cell_type": "code",
   "source": [
    "def keyword_only(a=1, **, b=2, c, d=4):\n",
    "    print(a, b, c, d)"
   ],
   "id": "6532ff94dd83929f",
   "outputs": [],
   "execution_count": null
  },
  {
   "metadata": {},
   "cell_type": "code",
   "source": [
    "def keyword_only(a=1, *b, **c, d=4):\n",
    "    print(a, b, c, d)"
   ],
   "id": "95d790f0e1434e40",
   "outputs": [],
   "execution_count": null
  },
  {
   "metadata": {
    "ExecuteTime": {
     "end_time": "2024-07-08T02:19:19.077007Z",
     "start_time": "2024-07-08T02:19:19.075266Z"
    }
   },
   "cell_type": "code",
   "source": [
    "def keyword_only(a=1, *b, c, **d):\n",
    "    print(a, b, c, d)"
   ],
   "id": "316210f106b242b6",
   "outputs": [],
   "execution_count": 19
  },
  {
   "metadata": {
    "ExecuteTime": {
     "end_time": "2024-07-08T02:19:19.175650Z",
     "start_time": "2024-07-08T02:19:19.173852Z"
    }
   },
   "cell_type": "code",
   "source": "keyword_only(1, 2, 3, c=4, t=5, z=9)",
   "id": "c4bcbf30f799d982",
   "outputs": [
    {
     "name": "stdout",
     "output_type": "stream",
     "text": [
      "1 (2, 3) 4 {'t': 5, 'z': 9}\n"
     ]
    }
   ],
   "execution_count": 20
  },
  {
   "metadata": {
    "ExecuteTime": {
     "end_time": "2024-07-08T02:19:19.217869Z",
     "start_time": "2024-07-08T02:19:19.210460Z"
    }
   },
   "cell_type": "code",
   "source": "keyword_only(1, 2, 3, 4, t=5, z=9)",
   "id": "614955b87a9159bf",
   "outputs": [
    {
     "ename": "TypeError",
     "evalue": "keyword_only() missing 1 required keyword-only argument: 'c'",
     "output_type": "error",
     "traceback": [
      "\u001B[0;31m---------------------------------------------------------------------------\u001B[0m",
      "\u001B[0;31mTypeError\u001B[0m                                 Traceback (most recent call last)",
      "Cell \u001B[0;32mIn[21], line 1\u001B[0m\n\u001B[0;32m----> 1\u001B[0m keyword_only(\u001B[38;5;241m1\u001B[39m, \u001B[38;5;241m2\u001B[39m, \u001B[38;5;241m3\u001B[39m, \u001B[38;5;241m4\u001B[39m, t\u001B[38;5;241m=\u001B[39m\u001B[38;5;241m5\u001B[39m, z\u001B[38;5;241m=\u001B[39m\u001B[38;5;241m9\u001B[39m)\n",
      "\u001B[0;31mTypeError\u001B[0m: keyword_only() missing 1 required keyword-only argument: 'c'"
     ]
    }
   ],
   "execution_count": 21
  },
  {
   "metadata": {
    "ExecuteTime": {
     "end_time": "2024-07-08T02:19:19.234688Z",
     "start_time": "2024-07-08T02:19:19.232874Z"
    }
   },
   "cell_type": "code",
   "source": "keyword_only(1, 2, 3, t=5, z=9, c=10)\n",
   "id": "d24a223133e088d4",
   "outputs": [
    {
     "name": "stdout",
     "output_type": "stream",
     "text": [
      "1 (2, 3) 10 {'t': 5, 'z': 9}\n"
     ]
    }
   ],
   "execution_count": 22
  },
  {
   "metadata": {
    "ExecuteTime": {
     "end_time": "2024-07-08T02:19:19.260879Z",
     "start_time": "2024-07-08T02:19:19.258904Z"
    }
   },
   "cell_type": "code",
   "source": "keyword_only(1, 2, 3, **dict(t=5, z=9, c=10))\n",
   "id": "68284df787f2200a",
   "outputs": [
    {
     "name": "stdout",
     "output_type": "stream",
     "text": [
      "1 (2, 3) 10 {'t': 5, 'z': 9}\n"
     ]
    }
   ],
   "execution_count": 23
  },
  {
   "metadata": {
    "ExecuteTime": {
     "end_time": "2024-07-08T02:19:19.277417Z",
     "start_time": "2024-07-08T02:19:19.275124Z"
    }
   },
   "cell_type": "code",
   "source": [
    "def min1(*args):\n",
    "    res = args[0]\n",
    "    for arg in args[1:]:\n",
    "        if arg < res:\n",
    "            res = arg\n",
    "    return res\n",
    "\n",
    "\n",
    "def min2(first, *args):\n",
    "    for arg in args:\n",
    "        if arg < first:\n",
    "            first = arg\n",
    "    return first\n",
    "\n",
    "\n",
    "def min3(*args):\n",
    "    return sorted(args)[0]"
   ],
   "id": "db0c0500661d2a6c",
   "outputs": [],
   "execution_count": 24
  },
  {
   "metadata": {
    "ExecuteTime": {
     "end_time": "2024-07-08T02:19:19.292300Z",
     "start_time": "2024-07-08T02:19:19.290203Z"
    }
   },
   "cell_type": "code",
   "source": [
    "print(min1(3, 4, 1, 2, 6, 0))\n",
    "print(min2(3, 4, 1, 2, 6, 0))\n",
    "print(min3(3, 4, 1, 2, 6, 0))"
   ],
   "id": "a593bc09cc7a6f5c",
   "outputs": [
    {
     "name": "stdout",
     "output_type": "stream",
     "text": [
      "0\n",
      "0\n",
      "0\n"
     ]
    }
   ],
   "execution_count": 25
  },
  {
   "metadata": {
    "ExecuteTime": {
     "end_time": "2024-07-08T02:19:19.324005Z",
     "start_time": "2024-07-08T02:19:19.321910Z"
    }
   },
   "cell_type": "code",
   "source": [
    "print(min1('aa', 'bb', 'AA'))\n",
    "print(min2('aa', 'bb', 'AA'))\n",
    "print(min3('aa', 'bb', 'AA'))"
   ],
   "id": "f9443f8b7b2240e1",
   "outputs": [
    {
     "name": "stdout",
     "output_type": "stream",
     "text": [
      "AA\n",
      "AA\n",
      "AA\n"
     ]
    }
   ],
   "execution_count": 26
  },
  {
   "metadata": {
    "ExecuteTime": {
     "end_time": "2024-07-08T02:19:19.338569Z",
     "start_time": "2024-07-08T02:19:19.336573Z"
    }
   },
   "cell_type": "code",
   "source": [
    "print(min1([2, 2], [1, 2], [1, 1]))\n",
    "print(min2([2, 2], [1, 2], [1, 1]))\n",
    "print(min3([2, 2], [1, 2], [1, 1]))"
   ],
   "id": "86cdbe81bef715b6",
   "outputs": [
    {
     "name": "stdout",
     "output_type": "stream",
     "text": [
      "[1, 1]\n",
      "[1, 1]\n",
      "[1, 1]\n"
     ]
    }
   ],
   "execution_count": 27
  },
  {
   "metadata": {
    "ExecuteTime": {
     "end_time": "2024-07-08T02:19:19.362848Z",
     "start_time": "2024-07-08T02:19:19.360765Z"
    }
   },
   "cell_type": "code",
   "source": [
    "def minmax(test, *args):\n",
    "    res = args[0]\n",
    "    for arg in args[1:]:\n",
    "        if test(arg, res):\n",
    "            res = arg\n",
    "    return res\n",
    "\n",
    "\n",
    "def lessthan(a, b):\n",
    "    return a < b\n",
    "\n",
    "\n",
    "def greaterthan(a, b):\n",
    "    return a > b"
   ],
   "id": "b21fb2b9ac2cc357",
   "outputs": [],
   "execution_count": 28
  },
  {
   "metadata": {
    "ExecuteTime": {
     "end_time": "2024-07-08T02:19:19.383960Z",
     "start_time": "2024-07-08T02:19:19.381919Z"
    }
   },
   "cell_type": "code",
   "source": [
    "print(minmax(lessthan, 3, 4, 1, 2, 6, 0))\n",
    "print(minmax(greaterthan, 3, 4, 1, 2, 6, 0))"
   ],
   "id": "d6a71eb01697a5a9",
   "outputs": [
    {
     "name": "stdout",
     "output_type": "stream",
     "text": [
      "0\n",
      "6\n"
     ]
    }
   ],
   "execution_count": 29
  },
  {
   "metadata": {
    "ExecuteTime": {
     "end_time": "2024-07-08T02:19:19.410652Z",
     "start_time": "2024-07-08T02:19:19.407743Z"
    }
   },
   "cell_type": "code",
   "source": [
    "def intersect(*args):\n",
    "    # rec = args[0]\n",
    "    rec = args[0].copy()\n",
    "    for arg in args[1:]:\n",
    "        for x in rec:\n",
    "            if x not in arg: rec.remove(x)\n",
    "    return rec\n",
    "\n",
    "\n",
    "intersect([1, 2, 3], [2, 3, 4], [3, 4, 5])"
   ],
   "id": "fb33ac2b65c302f0",
   "outputs": [
    {
     "data": {
      "text/plain": [
       "[3]"
      ]
     },
     "execution_count": 30,
     "metadata": {},
     "output_type": "execute_result"
    }
   ],
   "execution_count": 30
  },
  {
   "metadata": {
    "ExecuteTime": {
     "end_time": "2024-07-08T02:19:19.424942Z",
     "start_time": "2024-07-08T02:19:19.422229Z"
    }
   },
   "cell_type": "code",
   "source": [
    "def union(*args):\n",
    "    rec = args[0].copy()\n",
    "    for arg in args[1:]:\n",
    "        for x in arg:\n",
    "            if x not in rec: rec.append(x)\n",
    "    return rec\n",
    "\n",
    "\n",
    "union([1, 2, 3], [2, 3, 4], [3, 4, 5, 8, 10])"
   ],
   "id": "498341ccc3bf4080",
   "outputs": [
    {
     "data": {
      "text/plain": [
       "[1, 2, 3, 4, 5, 8, 10]"
      ]
     },
     "execution_count": 31,
     "metadata": {},
     "output_type": "execute_result"
    }
   ],
   "execution_count": 31
  },
  {
   "metadata": {
    "ExecuteTime": {
     "end_time": "2024-07-08T02:19:19.438911Z",
     "start_time": "2024-07-08T02:19:19.436801Z"
    }
   },
   "cell_type": "code",
   "source": [
    "def tester(func, *items, trace=True):\n",
    "    for i in range(len(items)):\n",
    "        if trace: print(items)\n",
    "        print(sorted(func(*items)))\n",
    "        items = items[1:] + items[:1]\n",
    "        # print(items)\n"
   ],
   "id": "2080b3217972d42",
   "outputs": [],
   "execution_count": 32
  },
  {
   "metadata": {
    "ExecuteTime": {
     "end_time": "2024-07-08T02:19:19.472457Z",
     "start_time": "2024-07-08T02:19:19.470531Z"
    }
   },
   "cell_type": "code",
   "source": [
    "a = [1, 2, 3]\n",
    "b = [2, 3, 4]\n",
    "c = [3, 4, 5]\n",
    "tester(intersect, a,b,c)"
   ],
   "id": "9390e26702ecf9b7",
   "outputs": [
    {
     "name": "stdout",
     "output_type": "stream",
     "text": [
      "([1, 2, 3], [2, 3, 4], [3, 4, 5])\n",
      "[3]\n",
      "([2, 3, 4], [3, 4, 5], [1, 2, 3])\n",
      "[3]\n",
      "([3, 4, 5], [1, 2, 3], [2, 3, 4])\n",
      "[3]\n"
     ]
    }
   ],
   "execution_count": 33
  },
  {
   "metadata": {
    "ExecuteTime": {
     "end_time": "2024-07-08T02:19:19.483729Z",
     "start_time": "2024-07-08T02:19:19.481462Z"
    }
   },
   "cell_type": "code",
   "source": "a,b,c",
   "id": "2a929b394e595dd3",
   "outputs": [
    {
     "data": {
      "text/plain": [
       "([1, 2, 3], [2, 3, 4], [3, 4, 5])"
      ]
     },
     "execution_count": 34,
     "metadata": {},
     "output_type": "execute_result"
    }
   ],
   "execution_count": 34
  },
  {
   "metadata": {
    "ExecuteTime": {
     "end_time": "2024-07-08T02:19:19.504243Z",
     "start_time": "2024-07-08T02:19:19.502645Z"
    }
   },
   "cell_type": "code",
   "source": "tester(union, a,b,c)\n",
   "id": "22e7350660cb067a",
   "outputs": [
    {
     "name": "stdout",
     "output_type": "stream",
     "text": [
      "([1, 2, 3], [2, 3, 4], [3, 4, 5])\n",
      "[1, 2, 3, 4, 5]\n",
      "([2, 3, 4], [3, 4, 5], [1, 2, 3])\n",
      "[1, 2, 3, 4, 5]\n",
      "([3, 4, 5], [1, 2, 3], [2, 3, 4])\n",
      "[1, 2, 3, 4, 5]\n"
     ]
    }
   ],
   "execution_count": 35
  },
  {
   "metadata": {
    "ExecuteTime": {
     "end_time": "2024-07-08T02:19:19.554950Z",
     "start_time": "2024-07-08T02:19:19.553205Z"
    }
   },
   "cell_type": "code",
   "source": [
    "def union2(*args):\n",
    "    rec = []\n",
    "    for arg in args:\n",
    "        for x in arg:\n",
    "            if x not in rec: rec.append(x)\n",
    "    return rec"
   ],
   "id": "8b13defd8b119ae3",
   "outputs": [],
   "execution_count": 36
  },
  {
   "metadata": {
    "ExecuteTime": {
     "end_time": "2024-07-08T02:19:19.571685Z",
     "start_time": "2024-07-08T02:19:19.569083Z"
    }
   },
   "cell_type": "code",
   "source": [
    "a = [1, 2, 3]\n",
    "b = [2, 3, 4]\n",
    "c = [3, 4, 5]\n",
    "tester(union2, a,b,c)\n",
    "a,b,c"
   ],
   "id": "67c6dba30571b949",
   "outputs": [
    {
     "name": "stdout",
     "output_type": "stream",
     "text": [
      "([1, 2, 3], [2, 3, 4], [3, 4, 5])\n",
      "[1, 2, 3, 4, 5]\n",
      "([2, 3, 4], [3, 4, 5], [1, 2, 3])\n",
      "[1, 2, 3, 4, 5]\n",
      "([3, 4, 5], [1, 2, 3], [2, 3, 4])\n",
      "[1, 2, 3, 4, 5]\n"
     ]
    },
    {
     "data": {
      "text/plain": [
       "([1, 2, 3], [2, 3, 4], [3, 4, 5])"
      ]
     },
     "execution_count": 37,
     "metadata": {},
     "output_type": "execute_result"
    }
   ],
   "execution_count": 37
  },
  {
   "metadata": {
    "ExecuteTime": {
     "end_time": "2024-07-08T02:19:19.588200Z",
     "start_time": "2024-07-08T02:19:19.585466Z"
    }
   },
   "cell_type": "code",
   "source": [
    "def intersect2(*args):\n",
    "    rec = []\n",
    "    for x in args[0]:\n",
    "        if x in rec: continue\n",
    "        for arg in args[1:]:\n",
    "            if x not in arg: break\n",
    "        else:\n",
    "            rec.append(x)\n",
    "    return rec\n",
    "\n",
    "\n",
    "intersect2([1, 2, 3], [2, 3, 4], [3, 4, 5])"
   ],
   "id": "c6a8e3944f32f209",
   "outputs": [
    {
     "data": {
      "text/plain": [
       "[3]"
      ]
     },
     "execution_count": 38,
     "metadata": {},
     "output_type": "execute_result"
    }
   ],
   "execution_count": 38
  },
  {
   "metadata": {
    "ExecuteTime": {
     "end_time": "2024-07-08T02:19:19.628022Z",
     "start_time": "2024-07-08T02:19:19.625442Z"
    }
   },
   "cell_type": "code",
   "source": [
    "a = [1, 2, 3]\n",
    "b = [2, 3, 4]\n",
    "c = [3, 4, 5]\n",
    "tester(intersect2, a,b,c)\n",
    "a,b,c"
   ],
   "id": "14deb8737c7e7f7c",
   "outputs": [
    {
     "name": "stdout",
     "output_type": "stream",
     "text": [
      "([1, 2, 3], [2, 3, 4], [3, 4, 5])\n",
      "[3]\n",
      "([2, 3, 4], [3, 4, 5], [1, 2, 3])\n",
      "[3]\n",
      "([3, 4, 5], [1, 2, 3], [2, 3, 4])\n",
      "[3]\n"
     ]
    },
    {
     "data": {
      "text/plain": [
       "([1, 2, 3], [2, 3, 4], [3, 4, 5])"
      ]
     },
     "execution_count": 39,
     "metadata": {},
     "output_type": "execute_result"
    }
   ],
   "execution_count": 39
  },
  {
   "metadata": {
    "ExecuteTime": {
     "end_time": "2024-07-08T02:19:19.641320Z",
     "start_time": "2024-07-08T02:19:19.639076Z"
    }
   },
   "cell_type": "code",
   "source": [
    "def myprint(*args, **kwargs):\n",
    "    sep = kwargs.get('sep', ' ')\n",
    "    end = kwargs.get('end', '\\n')\n",
    "    # print(sep.join(args), end=end)\n",
    "    output=''\n",
    "    first = True\n",
    "    for arg in args:\n",
    "        output+=(sep if not first else '') + str(arg)\n",
    "        first = False\n",
    "    print(output+end)\n",
    "myprint(1,2,[3,4,5],(2,), {'a':1}, sep='|', name='bob')"
   ],
   "id": "7ab9b14ebd0448a",
   "outputs": [
    {
     "name": "stdout",
     "output_type": "stream",
     "text": [
      "1|2|[3, 4, 5]|(2,)|{'a': 1}\n",
      "\n"
     ]
    }
   ],
   "execution_count": 40
  },
  {
   "metadata": {},
   "cell_type": "markdown",
   "source": [
    "删除多余关键字参数 name\n",
    "使用 pop()"
   ],
   "id": "eace56fde9ecefd2"
  },
  {
   "metadata": {
    "ExecuteTime": {
     "end_time": "2024-07-08T02:19:19.669675Z",
     "start_time": "2024-07-08T02:19:19.657121Z"
    }
   },
   "cell_type": "code",
   "source": [
    "def myprint2(*args, **kwargs):\n",
    "    sep = kwargs.pop('sep', ' ')\n",
    "    end = kwargs.pop('end', '\\n')\n",
    "    if kwargs:\n",
    "        raise TypeError('myprint2() got an unexpected keyword argument')\n",
    "    output=''\n",
    "    first = True\n",
    "    for arg in args:\n",
    "        output+=(sep if not first else '') + str(arg)\n",
    "        first = False\n",
    "    print(output+end)\n",
    "myprint2(1,2,[3,4,5],(2,), {'a':1}, sep='|', name='bob')"
   ],
   "id": "a10a75858f33d4ff",
   "outputs": [
    {
     "ename": "TypeError",
     "evalue": "myprint2() got an unexpected keyword argument",
     "output_type": "error",
     "traceback": [
      "\u001B[0;31m---------------------------------------------------------------------------\u001B[0m",
      "\u001B[0;31mTypeError\u001B[0m                                 Traceback (most recent call last)",
      "Cell \u001B[0;32mIn[41], line 12\u001B[0m\n\u001B[1;32m     10\u001B[0m         first \u001B[38;5;241m=\u001B[39m \u001B[38;5;28;01mFalse\u001B[39;00m\n\u001B[1;32m     11\u001B[0m     \u001B[38;5;28mprint\u001B[39m(output\u001B[38;5;241m+\u001B[39mend)\n\u001B[0;32m---> 12\u001B[0m myprint2(\u001B[38;5;241m1\u001B[39m,\u001B[38;5;241m2\u001B[39m,[\u001B[38;5;241m3\u001B[39m,\u001B[38;5;241m4\u001B[39m,\u001B[38;5;241m5\u001B[39m],(\u001B[38;5;241m2\u001B[39m,), {\u001B[38;5;124m'\u001B[39m\u001B[38;5;124ma\u001B[39m\u001B[38;5;124m'\u001B[39m:\u001B[38;5;241m1\u001B[39m}, sep\u001B[38;5;241m=\u001B[39m\u001B[38;5;124m'\u001B[39m\u001B[38;5;124m|\u001B[39m\u001B[38;5;124m'\u001B[39m, name\u001B[38;5;241m=\u001B[39m\u001B[38;5;124m'\u001B[39m\u001B[38;5;124mbob\u001B[39m\u001B[38;5;124m'\u001B[39m)\n",
      "Cell \u001B[0;32mIn[41], line 5\u001B[0m, in \u001B[0;36mmyprint2\u001B[0;34m(*args, **kwargs)\u001B[0m\n\u001B[1;32m      3\u001B[0m end \u001B[38;5;241m=\u001B[39m kwargs\u001B[38;5;241m.\u001B[39mpop(\u001B[38;5;124m'\u001B[39m\u001B[38;5;124mend\u001B[39m\u001B[38;5;124m'\u001B[39m, \u001B[38;5;124m'\u001B[39m\u001B[38;5;130;01m\\n\u001B[39;00m\u001B[38;5;124m'\u001B[39m)\n\u001B[1;32m      4\u001B[0m \u001B[38;5;28;01mif\u001B[39;00m kwargs:\n\u001B[0;32m----> 5\u001B[0m     \u001B[38;5;28;01mraise\u001B[39;00m \u001B[38;5;167;01mTypeError\u001B[39;00m(\u001B[38;5;124m'\u001B[39m\u001B[38;5;124mmyprint2() got an unexpected keyword argument\u001B[39m\u001B[38;5;124m'\u001B[39m)\n\u001B[1;32m      6\u001B[0m output\u001B[38;5;241m=\u001B[39m\u001B[38;5;124m'\u001B[39m\u001B[38;5;124m'\u001B[39m\n\u001B[1;32m      7\u001B[0m first \u001B[38;5;241m=\u001B[39m \u001B[38;5;28;01mTrue\u001B[39;00m\n",
      "\u001B[0;31mTypeError\u001B[0m: myprint2() got an unexpected keyword argument"
     ]
    }
   ],
   "execution_count": 41
  },
  {
   "metadata": {
    "ExecuteTime": {
     "end_time": "2024-07-08T02:19:19.688346Z",
     "start_time": "2024-07-08T02:19:19.686546Z"
    }
   },
   "cell_type": "code",
   "source": "myprint2(1,2,[3,4,5],(2,), {'a':1}, sep='|')\n",
   "id": "a5a5b56d6d5be468",
   "outputs": [
    {
     "name": "stdout",
     "output_type": "stream",
     "text": [
      "1|2|[3, 4, 5]|(2,)|{'a': 1}\n",
      "\n"
     ]
    }
   ],
   "execution_count": 42
  },
  {
   "metadata": {
    "ExecuteTime": {
     "end_time": "2024-07-08T02:19:19.702312Z",
     "start_time": "2024-07-08T02:19:19.701055Z"
    }
   },
   "cell_type": "code",
   "source": "",
   "id": "539ec791741fd49",
   "outputs": [],
   "execution_count": 42
  }
 ],
 "metadata": {
  "kernelspec": {
   "display_name": "Python 3",
   "language": "python",
   "name": "python3"
  },
  "language_info": {
   "codemirror_mode": {
    "name": "ipython",
    "version": 2
   },
   "file_extension": ".py",
   "mimetype": "text/x-python",
   "name": "python",
   "nbconvert_exporter": "python",
   "pygments_lexer": "ipython2",
   "version": "2.7.6"
  }
 },
 "nbformat": 4,
 "nbformat_minor": 5
}
