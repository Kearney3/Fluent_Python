{
 "cells": [
  {
   "metadata": {},
   "cell_type": "markdown",
   "source": "# 函数设计",
   "id": "2a5efb56bca4225f"
  },
  {
   "metadata": {},
   "cell_type": "markdown",
   "source": "## 递归",
   "id": "f7d7763587eae74"
  },
  {
   "cell_type": "code",
   "id": "initial_id",
   "metadata": {
    "collapsed": true,
    "ExecuteTime": {
     "end_time": "2024-06-23T09:45:36.358887Z",
     "start_time": "2024-06-23T09:45:36.355809Z"
    }
   },
   "source": [
    "def mysum(L):\n",
    "    print(L)\n",
    "    if not L:\n",
    "        return 0\n",
    "    else:\n",
    "        return L[0] + mysum(L[1:])"
   ],
   "outputs": [],
   "execution_count": 5
  },
  {
   "metadata": {
    "ExecuteTime": {
     "end_time": "2024-06-23T09:45:37.095691Z",
     "start_time": "2024-06-23T09:45:37.093030Z"
    }
   },
   "cell_type": "code",
   "source": [
    "L = [1, 2, 3, 4, 5]\n",
    "mysum(L)"
   ],
   "id": "f6d97ab31eabbadb",
   "outputs": [
    {
     "name": "stdout",
     "output_type": "stream",
     "text": [
      "[1, 2, 3, 4, 5]\n",
      "[2, 3, 4, 5]\n",
      "[3, 4, 5]\n",
      "[4, 5]\n",
      "[5]\n",
      "[]\n"
     ]
    },
    {
     "data": {
      "text/plain": [
       "15"
      ]
     },
     "execution_count": 6,
     "metadata": {},
     "output_type": "execute_result"
    }
   ],
   "execution_count": 6
  },
  {
   "metadata": {
    "ExecuteTime": {
     "end_time": "2024-06-23T09:47:04.335355Z",
     "start_time": "2024-06-23T09:47:04.329536Z"
    }
   },
   "cell_type": "code",
   "source": [
    "def mysum(L):\n",
    "    return 0 if not L else L[0] + mysum(L[1:])"
   ],
   "id": "4029a93278f2e15",
   "outputs": [],
   "execution_count": 7
  },
  {
   "metadata": {
    "ExecuteTime": {
     "end_time": "2024-06-23T09:47:07.042008Z",
     "start_time": "2024-06-23T09:47:07.039397Z"
    }
   },
   "cell_type": "code",
   "source": [
    "L = [1, 2, 3, 4, 5]\n",
    "mysum(L)"
   ],
   "id": "571038254e4bd009",
   "outputs": [
    {
     "data": {
      "text/plain": [
       "15"
      ]
     },
     "execution_count": 8,
     "metadata": {},
     "output_type": "execute_result"
    }
   ],
   "execution_count": 8
  },
  {
   "metadata": {
    "ExecuteTime": {
     "end_time": "2024-06-23T09:48:28.103630Z",
     "start_time": "2024-06-23T09:48:28.084877Z"
    }
   },
   "cell_type": "code",
   "source": [
    "W = ['a', 'b', 'c', 'd']\n",
    "mysum(W)"
   ],
   "id": "f8904c5d0899805b",
   "outputs": [
    {
     "ename": "TypeError",
     "evalue": "can only concatenate str (not \"int\") to str",
     "output_type": "error",
     "traceback": [
      "\u001B[0;31m---------------------------------------------------------------------------\u001B[0m",
      "\u001B[0;31mTypeError\u001B[0m                                 Traceback (most recent call last)",
      "Cell \u001B[0;32mIn[9], line 2\u001B[0m\n\u001B[1;32m      1\u001B[0m W \u001B[38;5;241m=\u001B[39m [\u001B[38;5;124m'\u001B[39m\u001B[38;5;124ma\u001B[39m\u001B[38;5;124m'\u001B[39m, \u001B[38;5;124m'\u001B[39m\u001B[38;5;124mb\u001B[39m\u001B[38;5;124m'\u001B[39m, \u001B[38;5;124m'\u001B[39m\u001B[38;5;124mc\u001B[39m\u001B[38;5;124m'\u001B[39m, \u001B[38;5;124m'\u001B[39m\u001B[38;5;124md\u001B[39m\u001B[38;5;124m'\u001B[39m]\n\u001B[0;32m----> 2\u001B[0m mysum(W)\n",
      "Cell \u001B[0;32mIn[7], line 2\u001B[0m, in \u001B[0;36mmysum\u001B[0;34m(L)\u001B[0m\n\u001B[1;32m      1\u001B[0m \u001B[38;5;28;01mdef\u001B[39;00m \u001B[38;5;21mmysum\u001B[39m(L):\n\u001B[0;32m----> 2\u001B[0m     \u001B[38;5;28;01mreturn\u001B[39;00m \u001B[38;5;241m0\u001B[39m \u001B[38;5;28;01mif\u001B[39;00m \u001B[38;5;129;01mnot\u001B[39;00m L \u001B[38;5;28;01melse\u001B[39;00m L[\u001B[38;5;241m0\u001B[39m] \u001B[38;5;241m+\u001B[39m mysum(L[\u001B[38;5;241m1\u001B[39m:])\n",
      "Cell \u001B[0;32mIn[7], line 2\u001B[0m, in \u001B[0;36mmysum\u001B[0;34m(L)\u001B[0m\n\u001B[1;32m      1\u001B[0m \u001B[38;5;28;01mdef\u001B[39;00m \u001B[38;5;21mmysum\u001B[39m(L):\n\u001B[0;32m----> 2\u001B[0m     \u001B[38;5;28;01mreturn\u001B[39;00m \u001B[38;5;241m0\u001B[39m \u001B[38;5;28;01mif\u001B[39;00m \u001B[38;5;129;01mnot\u001B[39;00m L \u001B[38;5;28;01melse\u001B[39;00m L[\u001B[38;5;241m0\u001B[39m] \u001B[38;5;241m+\u001B[39m mysum(L[\u001B[38;5;241m1\u001B[39m:])\n",
      "    \u001B[0;31m[... skipping similar frames: mysum at line 2 (1 times)]\u001B[0m\n",
      "Cell \u001B[0;32mIn[7], line 2\u001B[0m, in \u001B[0;36mmysum\u001B[0;34m(L)\u001B[0m\n\u001B[1;32m      1\u001B[0m \u001B[38;5;28;01mdef\u001B[39;00m \u001B[38;5;21mmysum\u001B[39m(L):\n\u001B[0;32m----> 2\u001B[0m     \u001B[38;5;28;01mreturn\u001B[39;00m \u001B[38;5;241m0\u001B[39m \u001B[38;5;28;01mif\u001B[39;00m \u001B[38;5;129;01mnot\u001B[39;00m L \u001B[38;5;28;01melse\u001B[39;00m L[\u001B[38;5;241m0\u001B[39m] \u001B[38;5;241m+\u001B[39m mysum(L[\u001B[38;5;241m1\u001B[39m:])\n",
      "\u001B[0;31mTypeError\u001B[0m: can only concatenate str (not \"int\") to str"
     ]
    }
   ],
   "execution_count": 9
  },
  {
   "metadata": {
    "ExecuteTime": {
     "end_time": "2024-06-23T09:49:08.307311Z",
     "start_time": "2024-06-23T09:49:08.302623Z"
    }
   },
   "cell_type": "code",
   "source": [
    "def mysum2(L):\n",
    "    return L[0] if len(L)==1 else L[0] + mysum2(L[1:])"
   ],
   "id": "3ca9352a538c8d3b",
   "outputs": [],
   "execution_count": 10
  },
  {
   "metadata": {
    "ExecuteTime": {
     "end_time": "2024-06-23T09:49:12.283931Z",
     "start_time": "2024-06-23T09:49:12.281142Z"
    }
   },
   "cell_type": "code",
   "source": [
    "W = ['a', 'b', 'c', 'd']\n",
    "mysum2(W)"
   ],
   "id": "2089b38a36e97db5",
   "outputs": [
    {
     "data": {
      "text/plain": [
       "'abcd'"
      ]
     },
     "execution_count": 11,
     "metadata": {},
     "output_type": "execute_result"
    }
   ],
   "execution_count": 11
  },
  {
   "metadata": {
    "ExecuteTime": {
     "end_time": "2024-06-23T09:50:23.096560Z",
     "start_time": "2024-06-23T09:50:23.094698Z"
    }
   },
   "cell_type": "code",
   "source": [
    "def mysum3(L):\n",
    "    first, *rest = L\n",
    "    return first if not rest else first + mysum3(rest)"
   ],
   "id": "bf722193ea066b87",
   "outputs": [],
   "execution_count": 13
  },
  {
   "metadata": {
    "ExecuteTime": {
     "end_time": "2024-06-23T09:50:33.645199Z",
     "start_time": "2024-06-23T09:50:33.640506Z"
    }
   },
   "cell_type": "code",
   "source": [
    "W = ['a', 'b', 'c', 'd']\n",
    "mysum3(W), mysum3([1, 2, 3, 4, 5])"
   ],
   "id": "c3e08545cd587012",
   "outputs": [
    {
     "data": {
      "text/plain": [
       "('abcd', 15)"
      ]
     },
     "execution_count": 15,
     "metadata": {},
     "output_type": "execute_result"
    }
   ],
   "execution_count": 15
  },
  {
   "metadata": {
    "ExecuteTime": {
     "end_time": "2024-06-23T09:55:23.947509Z",
     "start_time": "2024-06-23T09:55:23.942894Z"
    }
   },
   "cell_type": "code",
   "source": [
    "def sumtree(L):\n",
    "    total = 0\n",
    "    for x in L:\n",
    "        if not isinstance(x, list):\n",
    "            total += x\n",
    "        else:\n",
    "            total += sumtree(x)\n",
    "    return total"
   ],
   "id": "b95cdf8eec935716",
   "outputs": [],
   "execution_count": 16
  },
  {
   "metadata": {
    "ExecuteTime": {
     "end_time": "2024-06-23T09:55:28.364001Z",
     "start_time": "2024-06-23T09:55:28.360144Z"
    }
   },
   "cell_type": "code",
   "source": [
    "L = [1, 2, [3, 4, [5, 6], 7], 8, [9, 10]]\n",
    "sumtree(L)"
   ],
   "id": "f18d9a34cd10c929",
   "outputs": [
    {
     "data": {
      "text/plain": [
       "55"
      ]
     },
     "execution_count": 17,
     "metadata": {},
     "output_type": "execute_result"
    }
   ],
   "execution_count": 17
  },
  {
   "metadata": {
    "ExecuteTime": {
     "end_time": "2024-06-23T09:58:04.846871Z",
     "start_time": "2024-06-23T09:58:04.842992Z"
    }
   },
   "cell_type": "code",
   "source": [
    "S = (1, 2, (3, 4, (5, 6), 7), 8, (9, 10))\n",
    "list(S)"
   ],
   "id": "ca5c615d49e21b75",
   "outputs": [
    {
     "data": {
      "text/plain": [
       "[1, 2, (3, 4, (5, 6), 7), 8, (9, 10)]"
      ]
     },
     "execution_count": 19,
     "metadata": {},
     "output_type": "execute_result"
    }
   ],
   "execution_count": 19
  },
  {
   "metadata": {
    "ExecuteTime": {
     "end_time": "2024-06-23T10:06:02.861492Z",
     "start_time": "2024-06-23T10:06:02.856378Z"
    }
   },
   "cell_type": "code",
   "source": [
    "def sumtres2(L):\n",
    "    total = 0\n",
    "    items = list(L)\n",
    "    while items:\n",
    "        x = items.pop()\n",
    "        print(x, '|', items)\n",
    "        if not isinstance(x, list):\n",
    "            total += x\n",
    "        else:\n",
    "            items.extend(x)\n",
    "    return total"
   ],
   "id": "d9bd35d55f60cea5",
   "outputs": [],
   "execution_count": 45
  },
  {
   "metadata": {
    "ExecuteTime": {
     "end_time": "2024-06-23T10:06:03.052664Z",
     "start_time": "2024-06-23T10:06:03.049134Z"
    }
   },
   "cell_type": "code",
   "source": "sumtres2(L)",
   "id": "3f2b996f9d0b26b4",
   "outputs": [
    {
     "name": "stdout",
     "output_type": "stream",
     "text": [
      "[9, 10] | [1, 2, [3, 4, [5, 6], 7], 8]\n",
      "10 | [1, 2, [3, 4, [5, 6], 7], 8, 9]\n",
      "9 | [1, 2, [3, 4, [5, 6], 7], 8]\n",
      "8 | [1, 2, [3, 4, [5, 6], 7]]\n",
      "[3, 4, [5, 6], 7] | [1, 2]\n",
      "7 | [1, 2, 3, 4, [5, 6]]\n",
      "[5, 6] | [1, 2, 3, 4]\n",
      "6 | [1, 2, 3, 4, 5]\n",
      "5 | [1, 2, 3, 4]\n",
      "4 | [1, 2, 3]\n",
      "3 | [1, 2]\n",
      "2 | [1]\n",
      "1 | []\n"
     ]
    },
    {
     "data": {
      "text/plain": [
       "55"
      ]
     },
     "execution_count": 46,
     "metadata": {},
     "output_type": "execute_result"
    }
   ],
   "execution_count": 46
  },
  {
   "metadata": {
    "ExecuteTime": {
     "end_time": "2024-06-23T10:03:03.387805Z",
     "start_time": "2024-06-23T10:03:03.372230Z"
    }
   },
   "cell_type": "code",
   "source": "sumtres2(S)",
   "id": "38cf105fa02015e9",
   "outputs": [
    {
     "name": "stdout",
     "output_type": "stream",
     "text": [
      "(9, 10) [1, 2, (3, 4, (5, 6), 7), 8]\n"
     ]
    },
    {
     "ename": "TypeError",
     "evalue": "unsupported operand type(s) for +=: 'int' and 'tuple'",
     "output_type": "error",
     "traceback": [
      "\u001B[0;31m---------------------------------------------------------------------------\u001B[0m",
      "\u001B[0;31mTypeError\u001B[0m                                 Traceback (most recent call last)",
      "Cell \u001B[0;32mIn[27], line 1\u001B[0m\n\u001B[0;32m----> 1\u001B[0m sumtres2(S)\n",
      "Cell \u001B[0;32mIn[25], line 8\u001B[0m, in \u001B[0;36msumtres2\u001B[0;34m(L)\u001B[0m\n\u001B[1;32m      6\u001B[0m \u001B[38;5;28mprint\u001B[39m(x, items)\n\u001B[1;32m      7\u001B[0m \u001B[38;5;28;01mif\u001B[39;00m \u001B[38;5;129;01mnot\u001B[39;00m \u001B[38;5;28misinstance\u001B[39m(x, \u001B[38;5;28mlist\u001B[39m):\n\u001B[0;32m----> 8\u001B[0m     total \u001B[38;5;241m+\u001B[39m\u001B[38;5;241m=\u001B[39m x\n\u001B[1;32m      9\u001B[0m \u001B[38;5;28;01melse\u001B[39;00m:\n\u001B[1;32m     10\u001B[0m     items\u001B[38;5;241m.\u001B[39mextend(\u001B[38;5;28mlist\u001B[39m(x))\n",
      "\u001B[0;31mTypeError\u001B[0m: unsupported operand type(s) for +=: 'int' and 'tuple'"
     ]
    }
   ],
   "execution_count": 27
  },
  {
   "metadata": {
    "ExecuteTime": {
     "end_time": "2024-06-23T10:07:32.834976Z",
     "start_time": "2024-06-23T10:07:32.831105Z"
    }
   },
   "cell_type": "code",
   "source": [
    "def sumtres3(L):\n",
    "    total = 0\n",
    "    items = list(L)\n",
    "    while items:\n",
    "        x = items.pop()\n",
    "        print(x, '|', items)\n",
    "        if not isinstance(x, list):\n",
    "            total += x\n",
    "        else:\n",
    "            items[:0] = x\n",
    "    return total"
   ],
   "id": "63faaf558357ba8e",
   "outputs": [],
   "execution_count": 47
  },
  {
   "metadata": {
    "ExecuteTime": {
     "end_time": "2024-06-23T10:08:06.739042Z",
     "start_time": "2024-06-23T10:08:06.736524Z"
    }
   },
   "cell_type": "code",
   "source": "sumtres3(L)",
   "id": "f24e2a4acdae6efd",
   "outputs": [
    {
     "name": "stdout",
     "output_type": "stream",
     "text": [
      "[9, 10] | [1, 2, [3, 4, [5, 6], 7], 8]\n",
      "8 | [9, 10, 1, 2, [3, 4, [5, 6], 7]]\n",
      "[3, 4, [5, 6], 7] | [9, 10, 1, 2]\n",
      "2 | [3, 4, [5, 6], 7, 9, 10, 1]\n",
      "1 | [3, 4, [5, 6], 7, 9, 10]\n",
      "10 | [3, 4, [5, 6], 7, 9]\n",
      "9 | [3, 4, [5, 6], 7]\n",
      "7 | [3, 4, [5, 6]]\n",
      "[5, 6] | [3, 4]\n",
      "4 | [5, 6, 3]\n",
      "3 | [5, 6]\n",
      "6 | [5]\n",
      "5 | []\n"
     ]
    },
    {
     "data": {
      "text/plain": [
       "55"
      ]
     },
     "execution_count": 50,
     "metadata": {},
     "output_type": "execute_result"
    }
   ],
   "execution_count": 50
  },
  {
   "metadata": {},
   "cell_type": "markdown",
   "source": "# 一等对象模型",
   "id": "f7544f02fc0bc8a7"
  },
  {
   "metadata": {
    "ExecuteTime": {
     "end_time": "2024-06-23T10:12:23.581497Z",
     "start_time": "2024-06-23T10:12:23.579662Z"
    }
   },
   "cell_type": "code",
   "source": "print('hello')",
   "id": "ae7560b458eb9d02",
   "outputs": [
    {
     "name": "stdout",
     "output_type": "stream",
     "text": [
      "hello\n"
     ]
    }
   ],
   "execution_count": 52
  },
  {
   "metadata": {
    "ExecuteTime": {
     "end_time": "2024-06-23T10:12:54.649863Z",
     "start_time": "2024-06-23T10:12:54.647897Z"
    }
   },
   "cell_type": "code",
   "source": [
    "schedule = [(print, 'hello'),(print, 'world')]\n",
    "for func, arg in schedule:\n",
    "    func(arg)"
   ],
   "id": "c7b1d5cc270c9953",
   "outputs": [
    {
     "name": "stdout",
     "output_type": "stream",
     "text": [
      "hello\n",
      "world\n"
     ]
    }
   ],
   "execution_count": 53
  },
  {
   "metadata": {
    "ExecuteTime": {
     "end_time": "2024-06-23T10:15:45.241723Z",
     "start_time": "2024-06-23T10:15:45.236327Z"
    }
   },
   "cell_type": "code",
   "source": [
    "def make(label):\n",
    "    def message(func, arg):\n",
    "        print(label , arg)\n",
    "    return message\n",
    "\n",
    "make('!!')"
   ],
   "id": "85f8ed3403ab89df",
   "outputs": [
    {
     "data": {
      "text/plain": [
       "<function __main__.make.<locals>.message(func, arg)>"
      ]
     },
     "execution_count": 54,
     "metadata": {},
     "output_type": "execute_result"
    }
   ],
   "execution_count": 54
  },
  {
   "metadata": {
    "ExecuteTime": {
     "end_time": "2024-06-23T10:17:28.406553Z",
     "start_time": "2024-06-23T10:17:28.399296Z"
    }
   },
   "cell_type": "code",
   "source": [
    "for func, arg in schedule:\n",
    "    make('!!')(func, arg)"
   ],
   "id": "ce7d47f1632ff256",
   "outputs": [
    {
     "name": "stdout",
     "output_type": "stream",
     "text": [
      "!! hello\n",
      "!! world\n"
     ]
    }
   ],
   "execution_count": 58
  },
  {
   "metadata": {
    "ExecuteTime": {
     "end_time": "2024-06-23T10:19:21.681427Z",
     "start_time": "2024-06-23T10:19:21.679616Z"
    }
   },
   "cell_type": "code",
   "source": [
    "def func():\n",
    "    pass\n",
    "\n",
    "func.count = 0"
   ],
   "id": "ea41167f26146707",
   "outputs": [],
   "execution_count": 59
  },
  {
   "metadata": {
    "ExecuteTime": {
     "end_time": "2024-06-23T10:19:30.152062Z",
     "start_time": "2024-06-23T10:19:30.149731Z"
    }
   },
   "cell_type": "code",
   "source": "func.count+=1",
   "id": "68688e9379583b9c",
   "outputs": [],
   "execution_count": 60
  },
  {
   "metadata": {
    "ExecuteTime": {
     "end_time": "2024-06-23T10:19:36.922338Z",
     "start_time": "2024-06-23T10:19:36.919664Z"
    }
   },
   "cell_type": "code",
   "source": "func.count",
   "id": "edc4129768ee8158",
   "outputs": [
    {
     "data": {
      "text/plain": [
       "1"
      ]
     },
     "execution_count": 61,
     "metadata": {},
     "output_type": "execute_result"
    }
   ],
   "execution_count": 61
  },
  {
   "metadata": {
    "ExecuteTime": {
     "end_time": "2024-06-23T10:25:13.676675Z",
     "start_time": "2024-06-23T10:25:13.674058Z"
    }
   },
   "cell_type": "code",
   "source": [
    "def func2(a:'spam', b:(1,10), c:float=5.0) ->int:\n",
    "    print(a, b, c)\n",
    "    return a+b+c"
   ],
   "id": "5eb14a9e58022308",
   "outputs": [],
   "execution_count": 74
  },
  {
   "metadata": {
    "ExecuteTime": {
     "end_time": "2024-06-23T10:25:14.030043Z",
     "start_time": "2024-06-23T10:25:14.027636Z"
    }
   },
   "cell_type": "code",
   "source": "func2(1,2,3)",
   "id": "b873a2f3642d80de",
   "outputs": [
    {
     "name": "stdout",
     "output_type": "stream",
     "text": [
      "1 2 3\n"
     ]
    },
    {
     "data": {
      "text/plain": [
       "6"
      ]
     },
     "execution_count": 75,
     "metadata": {},
     "output_type": "execute_result"
    }
   ],
   "execution_count": 75
  },
  {
   "metadata": {
    "ExecuteTime": {
     "end_time": "2024-06-23T10:25:14.427391Z",
     "start_time": "2024-06-23T10:25:14.425013Z"
    }
   },
   "cell_type": "code",
   "source": "func2.__annotations__",
   "id": "80c01a7f635f5fb9",
   "outputs": [
    {
     "data": {
      "text/plain": [
       "{'a': 'spam', 'b': (1, 10), 'c': float, 'return': int}"
      ]
     },
     "execution_count": 76,
     "metadata": {},
     "output_type": "execute_result"
    }
   ],
   "execution_count": 76
  },
  {
   "metadata": {
    "ExecuteTime": {
     "end_time": "2024-06-23T10:25:15.477313Z",
     "start_time": "2024-06-23T10:25:15.475280Z"
    }
   },
   "cell_type": "code",
   "source": [
    "for arg in func2.__annotations__:\n",
    "    print(f\"{arg} => {func2.__annotations__[arg]}\")"
   ],
   "id": "1de66be8b60d4a07",
   "outputs": [
    {
     "name": "stdout",
     "output_type": "stream",
     "text": [
      "a => spam\n",
      "b => (1, 10)\n",
      "c => <class 'float'>\n",
      "return => <class 'int'>\n"
     ]
    }
   ],
   "execution_count": 77
  },
  {
   "metadata": {
    "ExecuteTime": {
     "end_time": "2024-06-23T10:25:25.077777Z",
     "start_time": "2024-06-23T10:25:25.075583Z"
    }
   },
   "cell_type": "code",
   "source": "func2.__defaults__",
   "id": "2798951ff17f26d6",
   "outputs": [
    {
     "data": {
      "text/plain": [
       "(5.0,)"
      ]
     },
     "execution_count": 78,
     "metadata": {},
     "output_type": "execute_result"
    }
   ],
   "execution_count": 78
  },
  {
   "metadata": {
    "ExecuteTime": {
     "end_time": "2024-06-23T10:36:17.213699Z",
     "start_time": "2024-06-23T10:36:17.209095Z"
    }
   },
   "cell_type": "code",
   "source": [
    "f = lambda x,y,z: x+y+z\n",
    "f(1,2,3)"
   ],
   "id": "b6455cd357641da0",
   "outputs": [
    {
     "data": {
      "text/plain": [
       "6"
      ]
     },
     "execution_count": 79,
     "metadata": {},
     "output_type": "execute_result"
    }
   ],
   "execution_count": 79
  },
  {
   "metadata": {
    "ExecuteTime": {
     "end_time": "2024-06-23T10:37:11.589597Z",
     "start_time": "2024-06-23T10:37:11.585246Z"
    }
   },
   "cell_type": "code",
   "source": [
    "x = lambda a='fee', b='wee', c='tee':a+b+c\n",
    "x('123')"
   ],
   "id": "1e43a37b9f855b28",
   "outputs": [
    {
     "data": {
      "text/plain": [
       "'123weetee'"
      ]
     },
     "execution_count": 81,
     "metadata": {},
     "output_type": "execute_result"
    }
   ],
   "execution_count": 81
  },
  {
   "metadata": {
    "ExecuteTime": {
     "end_time": "2024-06-23T10:38:29.580284Z",
     "start_time": "2024-06-23T10:38:29.575692Z"
    }
   },
   "cell_type": "code",
   "source": [
    "def greet():\n",
    "    title = 'Sir'\n",
    "    action = lambda x:title + ' ' + x\n",
    "    return action\n",
    "\n",
    "act = greet()\n",
    "act('John')"
   ],
   "id": "fdc1bcd6aef08ef5",
   "outputs": [
    {
     "data": {
      "text/plain": [
       "'Sir John'"
      ]
     },
     "execution_count": 82,
     "metadata": {},
     "output_type": "execute_result"
    }
   ],
   "execution_count": 82
  },
  {
   "metadata": {
    "ExecuteTime": {
     "end_time": "2024-06-23T10:39:45.487888Z",
     "start_time": "2024-06-23T10:39:45.484797Z"
    }
   },
   "cell_type": "code",
   "source": [
    "L = [lambda x:x**2, lambda x:x**3, lambda x:x**4]\n",
    "L"
   ],
   "id": "c1957812e4150492",
   "outputs": [
    {
     "data": {
      "text/plain": [
       "[<function __main__.<lambda>(x)>,\n",
       " <function __main__.<lambda>(x)>,\n",
       " <function __main__.<lambda>(x)>]"
      ]
     },
     "execution_count": 83,
     "metadata": {},
     "output_type": "execute_result"
    }
   ],
   "execution_count": 83
  },
  {
   "metadata": {
    "ExecuteTime": {
     "end_time": "2024-06-23T10:39:47.756121Z",
     "start_time": "2024-06-23T10:39:47.753640Z"
    }
   },
   "cell_type": "code",
   "source": "L[0](2)",
   "id": "949ebc8f1a80e3eb",
   "outputs": [
    {
     "data": {
      "text/plain": [
       "4"
      ]
     },
     "execution_count": 84,
     "metadata": {},
     "output_type": "execute_result"
    }
   ],
   "execution_count": 84
  },
  {
   "metadata": {
    "ExecuteTime": {
     "end_time": "2024-06-23T10:39:54.965401Z",
     "start_time": "2024-06-23T10:39:54.963057Z"
    }
   },
   "cell_type": "code",
   "source": [
    "for f in L:\n",
    "    print(f(2))"
   ],
   "id": "4af06d19ac8b7162",
   "outputs": [
    {
     "name": "stdout",
     "output_type": "stream",
     "text": [
      "4\n",
      "8\n",
      "16\n"
     ]
    }
   ],
   "execution_count": 85
  },
  {
   "metadata": {
    "ExecuteTime": {
     "end_time": "2024-06-23T10:47:08.557474Z",
     "start_time": "2024-06-23T10:47:08.545170Z"
    }
   },
   "cell_type": "code",
   "source": [
    "import sys\n",
    "showall = lambda x : list(map(sys.stdout.write, x))\n",
    "showall"
   ],
   "id": "91c5d3817e3f5aa",
   "outputs": [
    {
     "data": {
      "text/plain": [
       "<function __main__.<lambda>(x)>"
      ]
     },
     "execution_count": 92,
     "metadata": {},
     "output_type": "execute_result"
    }
   ],
   "execution_count": 92
  },
  {
   "metadata": {
    "ExecuteTime": {
     "end_time": "2024-06-23T10:47:10.080935Z",
     "start_time": "2024-06-23T10:47:10.078005Z"
    }
   },
   "cell_type": "code",
   "source": "showall(['hello', ' world!'])",
   "id": "24d3af04ffc1828f",
   "outputs": [
    {
     "name": "stdout",
     "output_type": "stream",
     "text": [
      "hello world!"
     ]
    },
    {
     "data": {
      "text/plain": [
       "[5, 7]"
      ]
     },
     "execution_count": 93,
     "metadata": {},
     "output_type": "execute_result"
    }
   ],
   "execution_count": 93
  },
  {
   "metadata": {
    "ExecuteTime": {
     "end_time": "2024-06-23T10:47:18.303409Z",
     "start_time": "2024-06-23T10:47:18.300781Z"
    }
   },
   "cell_type": "code",
   "source": "list(map(sys.stdout.write, 'hello'))",
   "id": "ff47d0e8dca4cc11",
   "outputs": [
    {
     "name": "stdout",
     "output_type": "stream",
     "text": [
      "hello"
     ]
    },
    {
     "data": {
      "text/plain": [
       "[1, 1, 1, 1, 1]"
      ]
     },
     "execution_count": 94,
     "metadata": {},
     "output_type": "execute_result"
    }
   ],
   "execution_count": 94
  },
  {
   "metadata": {
    "ExecuteTime": {
     "end_time": "2024-06-23T10:47:29.581782Z",
     "start_time": "2024-06-23T10:47:29.579419Z"
    }
   },
   "cell_type": "code",
   "source": "map(sys.stdout.write, 'hello')",
   "id": "16fa54d8dd7752d9",
   "outputs": [
    {
     "data": {
      "text/plain": [
       "<map at 0x107960760>"
      ]
     },
     "execution_count": 95,
     "metadata": {},
     "output_type": "execute_result"
    }
   ],
   "execution_count": 95
  },
  {
   "metadata": {
    "ExecuteTime": {
     "end_time": "2024-06-23T10:48:44.515841Z",
     "start_time": "2024-06-23T10:48:44.512875Z"
    }
   },
   "cell_type": "code",
   "source": [
    "showall2 = lambda x:[print(line, end='') for line in x]\n",
    "showall2(['hello', ' world!'])"
   ],
   "id": "defb534ac385585c",
   "outputs": [
    {
     "name": "stdout",
     "output_type": "stream",
     "text": [
      "hello world!"
     ]
    },
    {
     "data": {
      "text/plain": [
       "[None, None]"
      ]
     },
     "execution_count": 98,
     "metadata": {},
     "output_type": "execute_result"
    }
   ],
   "execution_count": 98
  },
  {
   "metadata": {
    "ExecuteTime": {
     "end_time": "2024-06-23T10:52:37.737972Z",
     "start_time": "2024-06-23T10:52:37.734741Z"
    }
   },
   "cell_type": "code",
   "source": [
    "showall3 = lambda x: print(*x, sep='', end='')\n",
    "showall3(['hello', ' world!'])"
   ],
   "id": "dce71e2131379945",
   "outputs": [
    {
     "name": "stdout",
     "output_type": "stream",
     "text": [
      "hello world!"
     ]
    }
   ],
   "execution_count": 106
  },
  {
   "metadata": {
    "ExecuteTime": {
     "end_time": "2024-06-23T10:52:37.939885Z",
     "start_time": "2024-06-23T10:52:37.937982Z"
    }
   },
   "cell_type": "code",
   "source": "showall3.__call__(['hello', ' world!'])",
   "id": "8c90468e4c3e9cb6",
   "outputs": [
    {
     "name": "stdout",
     "output_type": "stream",
     "text": [
      "hello world!"
     ]
    }
   ],
   "execution_count": 107
  },
  {
   "metadata": {},
   "cell_type": "markdown",
   "source": "# Map",
   "id": "5092877ad869bd0b"
  },
  {
   "metadata": {
    "ExecuteTime": {
     "end_time": "2024-06-23T10:53:50.823606Z",
     "start_time": "2024-06-23T10:53:50.818995Z"
    }
   },
   "cell_type": "code",
   "source": [
    "l = [1,2,3]\n",
    "list(map(lambda x:x+3, l))"
   ],
   "id": "8ebc90ac1755eba2",
   "outputs": [
    {
     "data": {
      "text/plain": [
       "[4, 5, 6]"
      ]
     },
     "execution_count": 108,
     "metadata": {},
     "output_type": "execute_result"
    }
   ],
   "execution_count": 108
  },
  {
   "metadata": {
    "ExecuteTime": {
     "end_time": "2024-06-23T10:54:32.785210Z",
     "start_time": "2024-06-23T10:54:32.782765Z"
    }
   },
   "cell_type": "code",
   "source": "pow(2,3)",
   "id": "dff096ee7e2c01e2",
   "outputs": [
    {
     "data": {
      "text/plain": [
       "8"
      ]
     },
     "execution_count": 109,
     "metadata": {},
     "output_type": "execute_result"
    }
   ],
   "execution_count": 109
  },
  {
   "metadata": {
    "ExecuteTime": {
     "end_time": "2024-06-23T10:55:26.705553Z",
     "start_time": "2024-06-23T10:55:26.703030Z"
    }
   },
   "cell_type": "code",
   "source": "list(map(pow, [2,3,4], [3,2,1]))",
   "id": "8dc494b87aa6efd3",
   "outputs": [
    {
     "data": {
      "text/plain": [
       "[8, 9, 4]"
      ]
     },
     "execution_count": 111,
     "metadata": {},
     "output_type": "execute_result"
    }
   ],
   "execution_count": 111
  },
  {
   "metadata": {},
   "cell_type": "markdown",
   "source": "# Filter",
   "id": "45007a73fc71bdfd"
  },
  {
   "metadata": {
    "ExecuteTime": {
     "end_time": "2024-06-23T10:58:35.130277Z",
     "start_time": "2024-06-23T10:58:35.125908Z"
    }
   },
   "cell_type": "code",
   "source": "list(range(-5,5))",
   "id": "a3255f6a3a94f9a8",
   "outputs": [
    {
     "data": {
      "text/plain": [
       "[-5, -4, -3, -2, -1, 0, 1, 2, 3, 4]"
      ]
     },
     "execution_count": 112,
     "metadata": {},
     "output_type": "execute_result"
    }
   ],
   "execution_count": 112
  },
  {
   "metadata": {
    "ExecuteTime": {
     "end_time": "2024-06-23T10:58:51.943063Z",
     "start_time": "2024-06-23T10:58:51.940376Z"
    }
   },
   "cell_type": "code",
   "source": "list(filter(lambda x :x>0, range(-5,5)))",
   "id": "eb83c4b53755889b",
   "outputs": [
    {
     "data": {
      "text/plain": [
       "[1, 2, 3, 4]"
      ]
     },
     "execution_count": 113,
     "metadata": {},
     "output_type": "execute_result"
    }
   ],
   "execution_count": 113
  },
  {
   "metadata": {},
   "cell_type": "markdown",
   "source": "# Reduce",
   "id": "e960e84ca22345e2"
  },
  {
   "metadata": {
    "ExecuteTime": {
     "end_time": "2024-06-23T11:00:57.730723Z",
     "start_time": "2024-06-23T11:00:57.727354Z"
    }
   },
   "cell_type": "code",
   "source": "from functools import reduce",
   "id": "26f0607c753d5bc7",
   "outputs": [],
   "execution_count": 114
  },
  {
   "metadata": {
    "ExecuteTime": {
     "end_time": "2024-06-23T11:01:17.824726Z",
     "start_time": "2024-06-23T11:01:17.822319Z"
    }
   },
   "cell_type": "code",
   "source": "reduce(lambda x,y:x+y, [1,2,3,4])",
   "id": "a177c12a0a5d760e",
   "outputs": [
    {
     "data": {
      "text/plain": [
       "10"
      ]
     },
     "execution_count": 115,
     "metadata": {},
     "output_type": "execute_result"
    }
   ],
   "execution_count": 115
  },
  {
   "metadata": {
    "ExecuteTime": {
     "end_time": "2024-06-23T11:01:33.992421Z",
     "start_time": "2024-06-23T11:01:33.988640Z"
    }
   },
   "cell_type": "code",
   "source": "reduce(lambda x,y:x*y, [1,2,3,4])\n",
   "id": "ffb3166fe0ff174b",
   "outputs": [
    {
     "data": {
      "text/plain": [
       "24"
      ]
     },
     "execution_count": 116,
     "metadata": {},
     "output_type": "execute_result"
    }
   ],
   "execution_count": 116
  },
  {
   "metadata": {
    "ExecuteTime": {
     "end_time": "2024-06-23T11:02:52.601388Z",
     "start_time": "2024-06-23T11:02:52.597073Z"
    }
   },
   "cell_type": "code",
   "source": [
    "def myreduce(function, sequence):\n",
    "    tally = sequence[0]\n",
    "    for next in sequence[1:]:\n",
    "        tally = function(tally, next)\n",
    "    return tally\n",
    "\n",
    "myreduce(lambda x,y:x+y, [1,2,3,4])"
   ],
   "id": "b83f867ea036ac56",
   "outputs": [
    {
     "data": {
      "text/plain": [
       "10"
      ]
     },
     "execution_count": 117,
     "metadata": {},
     "output_type": "execute_result"
    }
   ],
   "execution_count": 117
  },
  {
   "metadata": {
    "ExecuteTime": {
     "end_time": "2024-06-23T11:03:47.799581Z",
     "start_time": "2024-06-23T11:03:47.795821Z"
    }
   },
   "cell_type": "code",
   "source": [
    "import operator\n",
    "reduce(operator.add, [1,2,3,4])"
   ],
   "id": "a4d23f38a73c0bcb",
   "outputs": [
    {
     "data": {
      "text/plain": [
       "10"
      ]
     },
     "execution_count": 118,
     "metadata": {},
     "output_type": "execute_result"
    }
   ],
   "execution_count": 118
  },
  {
   "metadata": {
    "ExecuteTime": {
     "end_time": "2024-06-23T11:03:56.518680Z",
     "start_time": "2024-06-23T11:03:56.516289Z"
    }
   },
   "cell_type": "code",
   "source": "reduce(operator.mul, [1,2,3,4])\n",
   "id": "7bb83cfa48dd2b5b",
   "outputs": [
    {
     "data": {
      "text/plain": [
       "24"
      ]
     },
     "execution_count": 120,
     "metadata": {},
     "output_type": "execute_result"
    }
   ],
   "execution_count": 120
  },
  {
   "metadata": {
    "ExecuteTime": {
     "end_time": "2024-06-23T11:07:01.001794Z",
     "start_time": "2024-06-23T11:07:00.996736Z"
    }
   },
   "cell_type": "code",
   "source": [
    "def myreduce2(function, sequence, initial=None):\n",
    "    tally = initial if initial is not None else sequence[0]\n",
    "    # tally = sequence[0]\n",
    "    for next in sequence[1:] if initial is None else sequence:\n",
    "        tally = function(tally, next)\n",
    "    return tally\n",
    "\n",
    "myreduce(lambda x,y:x+y, [1,2,3,4])"
   ],
   "id": "160b8a999a0e39ed",
   "outputs": [
    {
     "data": {
      "text/plain": [
       "10"
      ]
     },
     "execution_count": 127,
     "metadata": {},
     "output_type": "execute_result"
    }
   ],
   "execution_count": 127
  },
  {
   "metadata": {
    "ExecuteTime": {
     "end_time": "2024-06-23T11:07:01.378083Z",
     "start_time": "2024-06-23T11:07:01.375800Z"
    }
   },
   "cell_type": "code",
   "source": "myreduce2(lambda x,y:x+y, [1,2,3,4],10)",
   "id": "8019916021f14b6a",
   "outputs": [
    {
     "data": {
      "text/plain": [
       "20"
      ]
     },
     "execution_count": 128,
     "metadata": {},
     "output_type": "execute_result"
    }
   ],
   "execution_count": 128
  },
  {
   "metadata": {
    "ExecuteTime": {
     "end_time": "2024-06-23T11:07:01.891156Z",
     "start_time": "2024-06-23T11:07:01.888843Z"
    }
   },
   "cell_type": "code",
   "source": "reduce(lambda x,y:x+y, [1,2,3,4],10)",
   "id": "c41d27c651b27dec",
   "outputs": [
    {
     "data": {
      "text/plain": [
       "20"
      ]
     },
     "execution_count": 129,
     "metadata": {},
     "output_type": "execute_result"
    }
   ],
   "execution_count": 129
  },
  {
   "metadata": {},
   "cell_type": "code",
   "outputs": [],
   "execution_count": null,
   "source": "",
   "id": "1208dc1b2e56f989"
  }
 ],
 "metadata": {
  "kernelspec": {
   "display_name": "Python 3",
   "language": "python",
   "name": "python3"
  },
  "language_info": {
   "codemirror_mode": {
    "name": "ipython",
    "version": 2
   },
   "file_extension": ".py",
   "mimetype": "text/x-python",
   "name": "python",
   "nbconvert_exporter": "python",
   "pygments_lexer": "ipython2",
   "version": "2.7.6"
  }
 },
 "nbformat": 4,
 "nbformat_minor": 5
}
