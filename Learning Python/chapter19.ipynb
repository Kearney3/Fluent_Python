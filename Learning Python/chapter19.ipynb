{
 "cells": [
  {
   "metadata": {},
   "cell_type": "markdown",
   "source": "# 函数设计",
   "id": "2a5efb56bca4225f"
  },
  {
   "metadata": {},
   "cell_type": "markdown",
   "source": "## 递归",
   "id": "f7d7763587eae74"
  },
  {
   "cell_type": "code",
   "id": "initial_id",
   "metadata": {
    "collapsed": true,
    "ExecuteTime": {
     "end_time": "2024-07-08T02:19:25.135925Z",
     "start_time": "2024-07-08T02:19:25.131287Z"
    }
   },
   "source": [
    "def mysum(L):\n",
    "    print(L)\n",
    "    if not L:\n",
    "        return 0\n",
    "    else:\n",
    "        return L[0] + mysum(L[1:])"
   ],
   "outputs": [],
   "execution_count": 1
  },
  {
   "metadata": {
    "ExecuteTime": {
     "end_time": "2024-07-08T02:19:25.140416Z",
     "start_time": "2024-07-08T02:19:25.137158Z"
    }
   },
   "cell_type": "code",
   "source": [
    "L = [1, 2, 3, 4, 5]\n",
    "mysum(L)"
   ],
   "id": "f6d97ab31eabbadb",
   "outputs": [
    {
     "name": "stdout",
     "output_type": "stream",
     "text": [
      "[1, 2, 3, 4, 5]\n",
      "[2, 3, 4, 5]\n",
      "[3, 4, 5]\n",
      "[4, 5]\n",
      "[5]\n",
      "[]\n"
     ]
    },
    {
     "data": {
      "text/plain": [
       "15"
      ]
     },
     "execution_count": 2,
     "metadata": {},
     "output_type": "execute_result"
    }
   ],
   "execution_count": 2
  },
  {
   "metadata": {
    "ExecuteTime": {
     "end_time": "2024-07-08T02:19:25.142962Z",
     "start_time": "2024-07-08T02:19:25.141127Z"
    }
   },
   "cell_type": "code",
   "source": [
    "def mysum(L):\n",
    "    return 0 if not L else L[0] + mysum(L[1:])"
   ],
   "id": "4029a93278f2e15",
   "outputs": [],
   "execution_count": 3
  },
  {
   "metadata": {
    "ExecuteTime": {
     "end_time": "2024-07-08T02:19:25.148694Z",
     "start_time": "2024-07-08T02:19:25.146753Z"
    }
   },
   "cell_type": "code",
   "source": [
    "L = [1, 2, 3, 4, 5]\n",
    "mysum(L)"
   ],
   "id": "571038254e4bd009",
   "outputs": [
    {
     "data": {
      "text/plain": [
       "15"
      ]
     },
     "execution_count": 4,
     "metadata": {},
     "output_type": "execute_result"
    }
   ],
   "execution_count": 4
  },
  {
   "metadata": {
    "ExecuteTime": {
     "end_time": "2024-07-08T02:19:25.357968Z",
     "start_time": "2024-07-08T02:19:25.161599Z"
    }
   },
   "cell_type": "code",
   "source": [
    "W = ['a', 'b', 'c', 'd']\n",
    "mysum(W)"
   ],
   "id": "f8904c5d0899805b",
   "outputs": [
    {
     "ename": "TypeError",
     "evalue": "can only concatenate str (not \"int\") to str",
     "output_type": "error",
     "traceback": [
      "\u001B[0;31m---------------------------------------------------------------------------\u001B[0m",
      "\u001B[0;31mTypeError\u001B[0m                                 Traceback (most recent call last)",
      "Cell \u001B[0;32mIn[5], line 2\u001B[0m\n\u001B[1;32m      1\u001B[0m W \u001B[38;5;241m=\u001B[39m [\u001B[38;5;124m'\u001B[39m\u001B[38;5;124ma\u001B[39m\u001B[38;5;124m'\u001B[39m, \u001B[38;5;124m'\u001B[39m\u001B[38;5;124mb\u001B[39m\u001B[38;5;124m'\u001B[39m, \u001B[38;5;124m'\u001B[39m\u001B[38;5;124mc\u001B[39m\u001B[38;5;124m'\u001B[39m, \u001B[38;5;124m'\u001B[39m\u001B[38;5;124md\u001B[39m\u001B[38;5;124m'\u001B[39m]\n\u001B[0;32m----> 2\u001B[0m mysum(W)\n",
      "Cell \u001B[0;32mIn[3], line 2\u001B[0m, in \u001B[0;36mmysum\u001B[0;34m(L)\u001B[0m\n\u001B[1;32m      1\u001B[0m \u001B[38;5;28;01mdef\u001B[39;00m \u001B[38;5;21mmysum\u001B[39m(L):\n\u001B[0;32m----> 2\u001B[0m     \u001B[38;5;28;01mreturn\u001B[39;00m \u001B[38;5;241m0\u001B[39m \u001B[38;5;28;01mif\u001B[39;00m \u001B[38;5;129;01mnot\u001B[39;00m L \u001B[38;5;28;01melse\u001B[39;00m L[\u001B[38;5;241m0\u001B[39m] \u001B[38;5;241m+\u001B[39m mysum(L[\u001B[38;5;241m1\u001B[39m:])\n",
      "Cell \u001B[0;32mIn[3], line 2\u001B[0m, in \u001B[0;36mmysum\u001B[0;34m(L)\u001B[0m\n\u001B[1;32m      1\u001B[0m \u001B[38;5;28;01mdef\u001B[39;00m \u001B[38;5;21mmysum\u001B[39m(L):\n\u001B[0;32m----> 2\u001B[0m     \u001B[38;5;28;01mreturn\u001B[39;00m \u001B[38;5;241m0\u001B[39m \u001B[38;5;28;01mif\u001B[39;00m \u001B[38;5;129;01mnot\u001B[39;00m L \u001B[38;5;28;01melse\u001B[39;00m L[\u001B[38;5;241m0\u001B[39m] \u001B[38;5;241m+\u001B[39m mysum(L[\u001B[38;5;241m1\u001B[39m:])\n",
      "    \u001B[0;31m[... skipping similar frames: mysum at line 2 (1 times)]\u001B[0m\n",
      "Cell \u001B[0;32mIn[3], line 2\u001B[0m, in \u001B[0;36mmysum\u001B[0;34m(L)\u001B[0m\n\u001B[1;32m      1\u001B[0m \u001B[38;5;28;01mdef\u001B[39;00m \u001B[38;5;21mmysum\u001B[39m(L):\n\u001B[0;32m----> 2\u001B[0m     \u001B[38;5;28;01mreturn\u001B[39;00m \u001B[38;5;241m0\u001B[39m \u001B[38;5;28;01mif\u001B[39;00m \u001B[38;5;129;01mnot\u001B[39;00m L \u001B[38;5;28;01melse\u001B[39;00m L[\u001B[38;5;241m0\u001B[39m] \u001B[38;5;241m+\u001B[39m mysum(L[\u001B[38;5;241m1\u001B[39m:])\n",
      "\u001B[0;31mTypeError\u001B[0m: can only concatenate str (not \"int\") to str"
     ]
    }
   ],
   "execution_count": 5
  },
  {
   "metadata": {},
   "cell_type": "code",
   "source": [
    "def mysum2(L):\n",
    "    return L[0] if len(L)==1 else L[0] + mysum2(L[1:])"
   ],
   "id": "3ca9352a538c8d3b",
   "outputs": [],
   "execution_count": null
  },
  {
   "metadata": {},
   "cell_type": "code",
   "source": [
    "W = ['a', 'b', 'c', 'd']\n",
    "mysum2(W)"
   ],
   "id": "2089b38a36e97db5",
   "outputs": [],
   "execution_count": null
  },
  {
   "metadata": {},
   "cell_type": "code",
   "source": [
    "def mysum3(L):\n",
    "    first, *rest = L\n",
    "    return first if not rest else first + mysum3(rest)"
   ],
   "id": "bf722193ea066b87",
   "outputs": [],
   "execution_count": null
  },
  {
   "metadata": {},
   "cell_type": "code",
   "source": [
    "W = ['a', 'b', 'c', 'd']\n",
    "mysum3(W), mysum3([1, 2, 3, 4, 5])"
   ],
   "id": "c3e08545cd587012",
   "outputs": [],
   "execution_count": null
  },
  {
   "metadata": {},
   "cell_type": "code",
   "source": [
    "def sumtree(L):\n",
    "    total = 0\n",
    "    for x in L:\n",
    "        if not isinstance(x, list):\n",
    "            total += x\n",
    "        else:\n",
    "            total += sumtree(x)\n",
    "    return total"
   ],
   "id": "b95cdf8eec935716",
   "outputs": [],
   "execution_count": null
  },
  {
   "metadata": {},
   "cell_type": "code",
   "source": [
    "L = [1, 2, [3, 4, [5, 6], 7], 8, [9, 10]]\n",
    "sumtree(L)"
   ],
   "id": "f18d9a34cd10c929",
   "outputs": [],
   "execution_count": null
  },
  {
   "metadata": {},
   "cell_type": "code",
   "source": [
    "S = (1, 2, (3, 4, (5, 6), 7), 8, (9, 10))\n",
    "list(S)"
   ],
   "id": "ca5c615d49e21b75",
   "outputs": [],
   "execution_count": null
  },
  {
   "metadata": {},
   "cell_type": "code",
   "source": [
    "def sumtres2(L):\n",
    "    total = 0\n",
    "    items = list(L)\n",
    "    while items:\n",
    "        x = items.pop()\n",
    "        print(x, '|', items)\n",
    "        if not isinstance(x, list):\n",
    "            total += x\n",
    "        else:\n",
    "            items.extend(x)\n",
    "    return total"
   ],
   "id": "d9bd35d55f60cea5",
   "outputs": [],
   "execution_count": null
  },
  {
   "metadata": {},
   "cell_type": "code",
   "source": "sumtres2(L)",
   "id": "3f2b996f9d0b26b4",
   "outputs": [],
   "execution_count": null
  },
  {
   "metadata": {},
   "cell_type": "code",
   "source": "sumtres2(S)",
   "id": "38cf105fa02015e9",
   "outputs": [],
   "execution_count": null
  },
  {
   "metadata": {},
   "cell_type": "code",
   "source": [
    "def sumtres3(L):\n",
    "    total = 0\n",
    "    items = list(L)\n",
    "    while items:\n",
    "        x = items.pop()\n",
    "        print(x, '|', items)\n",
    "        if not isinstance(x, list):\n",
    "            total += x\n",
    "        else:\n",
    "            items[:0] = x\n",
    "    return total"
   ],
   "id": "63faaf558357ba8e",
   "outputs": [],
   "execution_count": null
  },
  {
   "metadata": {},
   "cell_type": "code",
   "source": "sumtres3(L)",
   "id": "f24e2a4acdae6efd",
   "outputs": [],
   "execution_count": null
  },
  {
   "metadata": {},
   "cell_type": "markdown",
   "source": "# 一等对象模型",
   "id": "f7544f02fc0bc8a7"
  },
  {
   "metadata": {},
   "cell_type": "code",
   "source": "print('hello')",
   "id": "ae7560b458eb9d02",
   "outputs": [],
   "execution_count": null
  },
  {
   "metadata": {},
   "cell_type": "code",
   "source": [
    "schedule = [(print, 'hello'),(print, 'world')]\n",
    "for func, arg in schedule:\n",
    "    func(arg)"
   ],
   "id": "c7b1d5cc270c9953",
   "outputs": [],
   "execution_count": null
  },
  {
   "metadata": {},
   "cell_type": "code",
   "source": [
    "def make(label):\n",
    "    def message(func, arg):\n",
    "        print(label , arg)\n",
    "    return message\n",
    "\n",
    "make('!!')"
   ],
   "id": "85f8ed3403ab89df",
   "outputs": [],
   "execution_count": null
  },
  {
   "metadata": {},
   "cell_type": "code",
   "source": [
    "for func, arg in schedule:\n",
    "    make('!!')(func, arg)"
   ],
   "id": "ce7d47f1632ff256",
   "outputs": [],
   "execution_count": null
  },
  {
   "metadata": {},
   "cell_type": "code",
   "source": [
    "def func():\n",
    "    pass\n",
    "\n",
    "func.count = 0"
   ],
   "id": "ea41167f26146707",
   "outputs": [],
   "execution_count": null
  },
  {
   "metadata": {},
   "cell_type": "code",
   "source": "func.count+=1",
   "id": "68688e9379583b9c",
   "outputs": [],
   "execution_count": null
  },
  {
   "metadata": {},
   "cell_type": "code",
   "source": "func.count",
   "id": "edc4129768ee8158",
   "outputs": [],
   "execution_count": null
  },
  {
   "metadata": {},
   "cell_type": "code",
   "source": [
    "def func2(a:'spam', b:(1,10), c:float=5.0) ->int:\n",
    "    print(a, b, c)\n",
    "    return a+b+c"
   ],
   "id": "5eb14a9e58022308",
   "outputs": [],
   "execution_count": null
  },
  {
   "metadata": {},
   "cell_type": "code",
   "source": "func2(1,2,3)",
   "id": "b873a2f3642d80de",
   "outputs": [],
   "execution_count": null
  },
  {
   "metadata": {},
   "cell_type": "code",
   "source": "func2.__annotations__",
   "id": "80c01a7f635f5fb9",
   "outputs": [],
   "execution_count": null
  },
  {
   "metadata": {},
   "cell_type": "code",
   "source": [
    "for arg in func2.__annotations__:\n",
    "    print(f\"{arg} => {func2.__annotations__[arg]}\")"
   ],
   "id": "1de66be8b60d4a07",
   "outputs": [],
   "execution_count": null
  },
  {
   "metadata": {
    "ExecuteTime": {
     "end_time": "2024-07-08T02:19:25.472051Z",
     "start_time": "2024-07-08T02:19:25.465474Z"
    }
   },
   "cell_type": "code",
   "source": "func2.__defaults__",
   "id": "2798951ff17f26d6",
   "outputs": [
    {
     "ename": "NameError",
     "evalue": "name 'func2' is not defined",
     "output_type": "error",
     "traceback": [
      "\u001B[0;31m---------------------------------------------------------------------------\u001B[0m",
      "\u001B[0;31mNameError\u001B[0m                                 Traceback (most recent call last)",
      "Cell \u001B[0;32mIn[6], line 1\u001B[0m\n\u001B[0;32m----> 1\u001B[0m func2\u001B[38;5;241m.\u001B[39m\u001B[38;5;18m__defaults__\u001B[39m\n",
      "\u001B[0;31mNameError\u001B[0m: name 'func2' is not defined"
     ]
    }
   ],
   "execution_count": 6
  },
  {
   "metadata": {
    "ExecuteTime": {
     "end_time": "2024-07-08T02:19:25.525135Z",
     "start_time": "2024-07-08T02:19:25.522600Z"
    }
   },
   "cell_type": "code",
   "source": [
    "f = lambda x,y,z: x+y+z\n",
    "f(1,2,3)"
   ],
   "id": "b6455cd357641da0",
   "outputs": [
    {
     "data": {
      "text/plain": [
       "6"
      ]
     },
     "execution_count": 7,
     "metadata": {},
     "output_type": "execute_result"
    }
   ],
   "execution_count": 7
  },
  {
   "metadata": {
    "ExecuteTime": {
     "end_time": "2024-07-08T02:19:25.541403Z",
     "start_time": "2024-07-08T02:19:25.539047Z"
    }
   },
   "cell_type": "code",
   "source": [
    "x = lambda a='fee', b='wee', c='tee':a+b+c\n",
    "x('123')"
   ],
   "id": "1e43a37b9f855b28",
   "outputs": [
    {
     "data": {
      "text/plain": [
       "'123weetee'"
      ]
     },
     "execution_count": 8,
     "metadata": {},
     "output_type": "execute_result"
    }
   ],
   "execution_count": 8
  },
  {
   "metadata": {
    "ExecuteTime": {
     "end_time": "2024-07-08T02:19:25.553441Z",
     "start_time": "2024-07-08T02:19:25.550636Z"
    }
   },
   "cell_type": "code",
   "source": [
    "def greet():\n",
    "    title = 'Sir'\n",
    "    action = lambda x:title + ' ' + x\n",
    "    return action\n",
    "\n",
    "act = greet()\n",
    "act('John')"
   ],
   "id": "fdc1bcd6aef08ef5",
   "outputs": [
    {
     "data": {
      "text/plain": [
       "'Sir John'"
      ]
     },
     "execution_count": 9,
     "metadata": {},
     "output_type": "execute_result"
    }
   ],
   "execution_count": 9
  },
  {
   "metadata": {
    "ExecuteTime": {
     "end_time": "2024-07-08T02:19:25.583466Z",
     "start_time": "2024-07-08T02:19:25.581108Z"
    }
   },
   "cell_type": "code",
   "source": [
    "L = [lambda x:x**2, lambda x:x**3, lambda x:x**4]\n",
    "L"
   ],
   "id": "c1957812e4150492",
   "outputs": [
    {
     "data": {
      "text/plain": [
       "[<function __main__.<lambda>(x)>,\n",
       " <function __main__.<lambda>(x)>,\n",
       " <function __main__.<lambda>(x)>]"
      ]
     },
     "execution_count": 10,
     "metadata": {},
     "output_type": "execute_result"
    }
   ],
   "execution_count": 10
  },
  {
   "metadata": {
    "ExecuteTime": {
     "end_time": "2024-07-08T02:19:25.599221Z",
     "start_time": "2024-07-08T02:19:25.597030Z"
    }
   },
   "cell_type": "code",
   "source": "L[0](2)",
   "id": "949ebc8f1a80e3eb",
   "outputs": [
    {
     "data": {
      "text/plain": [
       "4"
      ]
     },
     "execution_count": 11,
     "metadata": {},
     "output_type": "execute_result"
    }
   ],
   "execution_count": 11
  },
  {
   "metadata": {
    "ExecuteTime": {
     "end_time": "2024-07-08T02:19:25.620584Z",
     "start_time": "2024-07-08T02:19:25.619053Z"
    }
   },
   "cell_type": "code",
   "source": [
    "for f in L:\n",
    "    print(f(2))"
   ],
   "id": "4af06d19ac8b7162",
   "outputs": [
    {
     "name": "stdout",
     "output_type": "stream",
     "text": [
      "4\n",
      "8\n",
      "16\n"
     ]
    }
   ],
   "execution_count": 12
  },
  {
   "metadata": {
    "ExecuteTime": {
     "end_time": "2024-07-08T02:19:25.634712Z",
     "start_time": "2024-07-08T02:19:25.632578Z"
    }
   },
   "cell_type": "code",
   "source": [
    "import sys\n",
    "showall = lambda x : list(map(sys.stdout.write, x))\n",
    "showall"
   ],
   "id": "91c5d3817e3f5aa",
   "outputs": [
    {
     "data": {
      "text/plain": [
       "<function __main__.<lambda>(x)>"
      ]
     },
     "execution_count": 13,
     "metadata": {},
     "output_type": "execute_result"
    }
   ],
   "execution_count": 13
  },
  {
   "metadata": {
    "ExecuteTime": {
     "end_time": "2024-07-08T02:19:25.655214Z",
     "start_time": "2024-07-08T02:19:25.652813Z"
    }
   },
   "cell_type": "code",
   "source": "showall(['hello', ' world!'])",
   "id": "24d3af04ffc1828f",
   "outputs": [
    {
     "name": "stdout",
     "output_type": "stream",
     "text": [
      "hello world!"
     ]
    },
    {
     "data": {
      "text/plain": [
       "[5, 7]"
      ]
     },
     "execution_count": 14,
     "metadata": {},
     "output_type": "execute_result"
    }
   ],
   "execution_count": 14
  },
  {
   "metadata": {
    "ExecuteTime": {
     "end_time": "2024-07-08T02:19:25.706323Z",
     "start_time": "2024-07-08T02:19:25.704112Z"
    }
   },
   "cell_type": "code",
   "source": "list(map(sys.stdout.write, 'hello'))",
   "id": "ff47d0e8dca4cc11",
   "outputs": [
    {
     "name": "stdout",
     "output_type": "stream",
     "text": [
      "hello"
     ]
    },
    {
     "data": {
      "text/plain": [
       "[1, 1, 1, 1, 1]"
      ]
     },
     "execution_count": 15,
     "metadata": {},
     "output_type": "execute_result"
    }
   ],
   "execution_count": 15
  },
  {
   "metadata": {
    "ExecuteTime": {
     "end_time": "2024-07-08T02:19:25.723890Z",
     "start_time": "2024-07-08T02:19:25.721768Z"
    }
   },
   "cell_type": "code",
   "source": "map(sys.stdout.write, 'hello')",
   "id": "16fa54d8dd7752d9",
   "outputs": [
    {
     "data": {
      "text/plain": [
       "<map at 0x10677a440>"
      ]
     },
     "execution_count": 16,
     "metadata": {},
     "output_type": "execute_result"
    }
   ],
   "execution_count": 16
  },
  {
   "metadata": {
    "ExecuteTime": {
     "end_time": "2024-07-08T02:19:25.739848Z",
     "start_time": "2024-07-08T02:19:25.737478Z"
    }
   },
   "cell_type": "code",
   "source": [
    "showall2 = lambda x:[print(line, end='') for line in x]\n",
    "showall2(['hello', ' world!'])"
   ],
   "id": "defb534ac385585c",
   "outputs": [
    {
     "name": "stdout",
     "output_type": "stream",
     "text": [
      "hello world!"
     ]
    },
    {
     "data": {
      "text/plain": [
       "[None, None]"
      ]
     },
     "execution_count": 17,
     "metadata": {},
     "output_type": "execute_result"
    }
   ],
   "execution_count": 17
  },
  {
   "metadata": {
    "ExecuteTime": {
     "end_time": "2024-07-08T02:19:25.763359Z",
     "start_time": "2024-07-08T02:19:25.761436Z"
    }
   },
   "cell_type": "code",
   "source": [
    "showall3 = lambda x: print(*x, sep='', end='')\n",
    "showall3(['hello', ' world!'])"
   ],
   "id": "dce71e2131379945",
   "outputs": [
    {
     "name": "stdout",
     "output_type": "stream",
     "text": [
      "hello world!"
     ]
    }
   ],
   "execution_count": 18
  },
  {
   "metadata": {
    "ExecuteTime": {
     "end_time": "2024-07-08T02:19:25.782844Z",
     "start_time": "2024-07-08T02:19:25.780896Z"
    }
   },
   "cell_type": "code",
   "source": "showall3.__call__(['hello', ' world!'])",
   "id": "8c90468e4c3e9cb6",
   "outputs": [
    {
     "name": "stdout",
     "output_type": "stream",
     "text": [
      "hello world!"
     ]
    }
   ],
   "execution_count": 19
  },
  {
   "metadata": {},
   "cell_type": "markdown",
   "source": "# Map",
   "id": "5092877ad869bd0b"
  },
  {
   "metadata": {
    "ExecuteTime": {
     "end_time": "2024-07-08T02:19:25.808828Z",
     "start_time": "2024-07-08T02:19:25.806544Z"
    }
   },
   "cell_type": "code",
   "source": [
    "l = [1,2,3]\n",
    "list(map(lambda x:x+3, l))"
   ],
   "id": "8ebc90ac1755eba2",
   "outputs": [
    {
     "data": {
      "text/plain": [
       "[4, 5, 6]"
      ]
     },
     "execution_count": 20,
     "metadata": {},
     "output_type": "execute_result"
    }
   ],
   "execution_count": 20
  },
  {
   "metadata": {
    "ExecuteTime": {
     "end_time": "2024-07-08T02:19:25.830503Z",
     "start_time": "2024-07-08T02:19:25.828659Z"
    }
   },
   "cell_type": "code",
   "source": "pow(2,3)",
   "id": "dff096ee7e2c01e2",
   "outputs": [
    {
     "data": {
      "text/plain": [
       "8"
      ]
     },
     "execution_count": 21,
     "metadata": {},
     "output_type": "execute_result"
    }
   ],
   "execution_count": 21
  },
  {
   "metadata": {
    "ExecuteTime": {
     "end_time": "2024-07-08T02:19:25.835338Z",
     "start_time": "2024-07-08T02:19:25.833435Z"
    }
   },
   "cell_type": "code",
   "source": "list(map(pow, [2,3,4], [3,2,1]))",
   "id": "8dc494b87aa6efd3",
   "outputs": [
    {
     "data": {
      "text/plain": [
       "[8, 9, 4]"
      ]
     },
     "execution_count": 22,
     "metadata": {},
     "output_type": "execute_result"
    }
   ],
   "execution_count": 22
  },
  {
   "metadata": {},
   "cell_type": "markdown",
   "source": "# Filter",
   "id": "45007a73fc71bdfd"
  },
  {
   "metadata": {
    "ExecuteTime": {
     "end_time": "2024-07-08T02:19:25.862296Z",
     "start_time": "2024-07-08T02:19:25.860021Z"
    }
   },
   "cell_type": "code",
   "source": "list(range(-5,5))",
   "id": "a3255f6a3a94f9a8",
   "outputs": [
    {
     "data": {
      "text/plain": [
       "[-5, -4, -3, -2, -1, 0, 1, 2, 3, 4]"
      ]
     },
     "execution_count": 23,
     "metadata": {},
     "output_type": "execute_result"
    }
   ],
   "execution_count": 23
  },
  {
   "metadata": {
    "ExecuteTime": {
     "end_time": "2024-07-08T02:19:25.883901Z",
     "start_time": "2024-07-08T02:19:25.881845Z"
    }
   },
   "cell_type": "code",
   "source": "list(filter(lambda x :x>0, range(-5,5)))",
   "id": "eb83c4b53755889b",
   "outputs": [
    {
     "data": {
      "text/plain": [
       "[1, 2, 3, 4]"
      ]
     },
     "execution_count": 24,
     "metadata": {},
     "output_type": "execute_result"
    }
   ],
   "execution_count": 24
  },
  {
   "metadata": {},
   "cell_type": "markdown",
   "source": "# Reduce",
   "id": "e960e84ca22345e2"
  },
  {
   "metadata": {
    "ExecuteTime": {
     "end_time": "2024-07-08T02:19:25.900587Z",
     "start_time": "2024-07-08T02:19:25.899077Z"
    }
   },
   "cell_type": "code",
   "source": "from functools import reduce",
   "id": "26f0607c753d5bc7",
   "outputs": [],
   "execution_count": 25
  },
  {
   "metadata": {
    "ExecuteTime": {
     "end_time": "2024-07-08T02:19:25.916726Z",
     "start_time": "2024-07-08T02:19:25.914520Z"
    }
   },
   "cell_type": "code",
   "source": "reduce(lambda x,y:x+y, [1,2,3,4])",
   "id": "a177c12a0a5d760e",
   "outputs": [
    {
     "data": {
      "text/plain": [
       "10"
      ]
     },
     "execution_count": 26,
     "metadata": {},
     "output_type": "execute_result"
    }
   ],
   "execution_count": 26
  },
  {
   "metadata": {
    "ExecuteTime": {
     "end_time": "2024-07-08T02:19:25.937565Z",
     "start_time": "2024-07-08T02:19:25.935339Z"
    }
   },
   "cell_type": "code",
   "source": "reduce(lambda x,y:x*y, [1,2,3,4])\n",
   "id": "ffb3166fe0ff174b",
   "outputs": [
    {
     "data": {
      "text/plain": [
       "24"
      ]
     },
     "execution_count": 27,
     "metadata": {},
     "output_type": "execute_result"
    }
   ],
   "execution_count": 27
  },
  {
   "metadata": {
    "ExecuteTime": {
     "end_time": "2024-07-08T02:19:25.954826Z",
     "start_time": "2024-07-08T02:19:25.952448Z"
    }
   },
   "cell_type": "code",
   "source": [
    "def myreduce(function, sequence):\n",
    "    tally = sequence[0]\n",
    "    for next in sequence[1:]:\n",
    "        tally = function(tally, next)\n",
    "    return tally\n",
    "\n",
    "myreduce(lambda x,y:x+y, [1,2,3,4])"
   ],
   "id": "b83f867ea036ac56",
   "outputs": [
    {
     "data": {
      "text/plain": [
       "10"
      ]
     },
     "execution_count": 28,
     "metadata": {},
     "output_type": "execute_result"
    }
   ],
   "execution_count": 28
  },
  {
   "metadata": {
    "ExecuteTime": {
     "end_time": "2024-07-08T02:19:25.972414Z",
     "start_time": "2024-07-08T02:19:25.970166Z"
    }
   },
   "cell_type": "code",
   "source": [
    "import operator\n",
    "reduce(operator.add, [1,2,3,4])"
   ],
   "id": "a4d23f38a73c0bcb",
   "outputs": [
    {
     "data": {
      "text/plain": [
       "10"
      ]
     },
     "execution_count": 29,
     "metadata": {},
     "output_type": "execute_result"
    }
   ],
   "execution_count": 29
  },
  {
   "metadata": {
    "ExecuteTime": {
     "end_time": "2024-07-08T02:19:25.993513Z",
     "start_time": "2024-07-08T02:19:25.991345Z"
    }
   },
   "cell_type": "code",
   "source": "reduce(operator.mul, [1,2,3,4])\n",
   "id": "7bb83cfa48dd2b5b",
   "outputs": [
    {
     "data": {
      "text/plain": [
       "24"
      ]
     },
     "execution_count": 30,
     "metadata": {},
     "output_type": "execute_result"
    }
   ],
   "execution_count": 30
  },
  {
   "metadata": {
    "ExecuteTime": {
     "end_time": "2024-07-08T02:19:26.018205Z",
     "start_time": "2024-07-08T02:19:26.015366Z"
    }
   },
   "cell_type": "code",
   "source": [
    "def myreduce2(function, sequence, initial=None):\n",
    "    tally = initial if initial is not None else sequence[0]\n",
    "    # tally = sequence[0]\n",
    "    for next in sequence[1:] if initial is None else sequence:\n",
    "        tally = function(tally, next)\n",
    "    return tally\n",
    "\n",
    "myreduce(lambda x,y:x+y, [1,2,3,4])"
   ],
   "id": "160b8a999a0e39ed",
   "outputs": [
    {
     "data": {
      "text/plain": [
       "10"
      ]
     },
     "execution_count": 31,
     "metadata": {},
     "output_type": "execute_result"
    }
   ],
   "execution_count": 31
  },
  {
   "metadata": {
    "ExecuteTime": {
     "end_time": "2024-07-08T02:19:26.038708Z",
     "start_time": "2024-07-08T02:19:26.036596Z"
    }
   },
   "cell_type": "code",
   "source": "myreduce2(lambda x,y:x+y, [1,2,3,4],10)",
   "id": "8019916021f14b6a",
   "outputs": [
    {
     "data": {
      "text/plain": [
       "20"
      ]
     },
     "execution_count": 32,
     "metadata": {},
     "output_type": "execute_result"
    }
   ],
   "execution_count": 32
  },
  {
   "metadata": {
    "ExecuteTime": {
     "end_time": "2024-07-08T02:19:26.058211Z",
     "start_time": "2024-07-08T02:19:26.056011Z"
    }
   },
   "cell_type": "code",
   "source": "reduce(lambda x,y:x+y, [1,2,3,4],10)",
   "id": "c41d27c651b27dec",
   "outputs": [
    {
     "data": {
      "text/plain": [
       "20"
      ]
     },
     "execution_count": 33,
     "metadata": {},
     "output_type": "execute_result"
    }
   ],
   "execution_count": 33
  },
  {
   "metadata": {
    "ExecuteTime": {
     "end_time": "2024-07-08T02:19:26.080794Z",
     "start_time": "2024-07-08T02:19:26.079437Z"
    }
   },
   "cell_type": "code",
   "source": "",
   "id": "1208dc1b2e56f989",
   "outputs": [],
   "execution_count": 33
  }
 ],
 "metadata": {
  "kernelspec": {
   "display_name": "Python 3",
   "language": "python",
   "name": "python3"
  },
  "language_info": {
   "codemirror_mode": {
    "name": "ipython",
    "version": 2
   },
   "file_extension": ".py",
   "mimetype": "text/x-python",
   "name": "python",
   "nbconvert_exporter": "python",
   "pygments_lexer": "ipython2",
   "version": "2.7.6"
  }
 },
 "nbformat": 4,
 "nbformat_minor": 5
}
