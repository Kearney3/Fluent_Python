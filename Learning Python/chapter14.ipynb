{
 "cells": [
  {
   "metadata": {},
   "cell_type": "markdown",
   "source": "# 迭代器",
   "id": "da67ae1cc52cd36c"
  },
  {
   "cell_type": "code",
   "id": "initial_id",
   "metadata": {
    "collapsed": true,
    "ExecuteTime": {
     "end_time": "2024-06-21T09:58:06.170093Z",
     "start_time": "2024-06-21T09:58:06.164387Z"
    }
   },
   "source": [
    "f = open('text.log')\n",
    "print(f.readline())\n",
    "print(f.readline())\n",
    "print(f.readline())\n",
    "print(f.readline())\n",
    "f.close()"
   ],
   "outputs": [
    {
     "name": "stdout",
     "output_type": "stream",
     "text": [
      "hello\n",
      "\n",
      "world\n",
      "\n",
      "1 2 3\n",
      "\n",
      "\n"
     ]
    }
   ],
   "execution_count": 7
  },
  {
   "metadata": {
    "ExecuteTime": {
     "end_time": "2024-06-21T10:03:35.032373Z",
     "start_time": "2024-06-21T10:03:35.017826Z"
    }
   },
   "cell_type": "code",
   "source": [
    "f = open('text.log')\n",
    "print(f.__next__())\n",
    "print(f.__next__())\n",
    "print(next(f))\n",
    "print(f.__next__()) #超过末尾报错\n",
    "f.close()"
   ],
   "id": "52c06fbe9704b3a2",
   "outputs": [
    {
     "name": "stdout",
     "output_type": "stream",
     "text": [
      "hello\n",
      "\n",
      "world\n",
      "\n",
      "1 2 3\n",
      "\n"
     ]
    },
    {
     "ename": "StopIteration",
     "evalue": "",
     "output_type": "error",
     "traceback": [
      "\u001B[0;31m---------------------------------------------------------------------------\u001B[0m",
      "\u001B[0;31mStopIteration\u001B[0m                             Traceback (most recent call last)",
      "Cell \u001B[0;32mIn[11], line 5\u001B[0m\n\u001B[1;32m      3\u001B[0m \u001B[38;5;28mprint\u001B[39m(f\u001B[38;5;241m.\u001B[39m\u001B[38;5;21m__next__\u001B[39m())\n\u001B[1;32m      4\u001B[0m \u001B[38;5;28mprint\u001B[39m(\u001B[38;5;28mnext\u001B[39m(f))\n\u001B[0;32m----> 5\u001B[0m \u001B[38;5;28mprint\u001B[39m(f\u001B[38;5;241m.\u001B[39m\u001B[38;5;21m__next__\u001B[39m()) \u001B[38;5;66;03m#超过末尾报错\u001B[39;00m\n\u001B[1;32m      6\u001B[0m f\u001B[38;5;241m.\u001B[39mclose()\n",
      "\u001B[0;31mStopIteration\u001B[0m: "
     ]
    }
   ],
   "execution_count": 11
  },
  {
   "metadata": {
    "ExecuteTime": {
     "end_time": "2024-06-21T10:50:40.168599Z",
     "start_time": "2024-06-21T10:50:40.164462Z"
    }
   },
   "cell_type": "code",
   "source": [
    "L = [1,2,3]\n",
    "I = iter(L)\n",
    "print(I.__next__())\n",
    "print(I.__next__())"
   ],
   "id": "5e51ee04d2dae363",
   "outputs": [
    {
     "name": "stdout",
     "output_type": "stream",
     "text": [
      "1\n",
      "2\n"
     ]
    }
   ],
   "execution_count": 13
  },
  {
   "metadata": {
    "ExecuteTime": {
     "end_time": "2024-06-21T10:51:34.394978Z",
     "start_time": "2024-06-21T10:51:34.386575Z"
    }
   },
   "cell_type": "code",
   "source": [
    "f = open('text.log') # 迭代器对象\n",
    "iter(f) is f"
   ],
   "id": "b66c06fc8a7bbc61",
   "outputs": [
    {
     "data": {
      "text/plain": [
       "True"
      ]
     },
     "execution_count": 14,
     "metadata": {},
     "output_type": "execute_result"
    }
   ],
   "execution_count": 14
  },
  {
   "metadata": {
    "ExecuteTime": {
     "end_time": "2024-06-21T10:52:04.034992Z",
     "start_time": "2024-06-21T10:52:04.031272Z"
    }
   },
   "cell_type": "code",
   "source": "iter(f) is f.__iter__()",
   "id": "24b6dc1e157b2bcf",
   "outputs": [
    {
     "data": {
      "text/plain": [
       "True"
      ]
     },
     "execution_count": 15,
     "metadata": {},
     "output_type": "execute_result"
    }
   ],
   "execution_count": 15
  },
  {
   "metadata": {
    "ExecuteTime": {
     "end_time": "2024-06-21T10:52:43.499613Z",
     "start_time": "2024-06-21T10:52:43.496344Z"
    }
   },
   "cell_type": "code",
   "source": [
    "L = [1,2,3]\n",
    "iter(L) is L "
   ],
   "id": "73467ab5f148c717",
   "outputs": [
    {
     "data": {
      "text/plain": [
       "False"
      ]
     },
     "execution_count": 16,
     "metadata": {},
     "output_type": "execute_result"
    }
   ],
   "execution_count": 16
  },
  {
   "metadata": {
    "ExecuteTime": {
     "end_time": "2024-06-21T10:52:59.216759Z",
     "start_time": "2024-06-21T10:52:59.188817Z"
    }
   },
   "cell_type": "code",
   "source": "L.__next__()",
   "id": "283b678eeb461134",
   "outputs": [
    {
     "ename": "AttributeError",
     "evalue": "'list' object has no attribute '__next__'",
     "output_type": "error",
     "traceback": [
      "\u001B[0;31m---------------------------------------------------------------------------\u001B[0m",
      "\u001B[0;31mAttributeError\u001B[0m                            Traceback (most recent call last)",
      "Cell \u001B[0;32mIn[17], line 1\u001B[0m\n\u001B[0;32m----> 1\u001B[0m L\u001B[38;5;241m.\u001B[39m\u001B[38;5;21m__next__\u001B[39m()\n",
      "\u001B[0;31mAttributeError\u001B[0m: 'list' object has no attribute '__next__'"
     ]
    }
   ],
   "execution_count": 17
  },
  {
   "metadata": {
    "ExecuteTime": {
     "end_time": "2024-06-21T10:53:49.762020Z",
     "start_time": "2024-06-21T10:53:49.759673Z"
    }
   },
   "cell_type": "code",
   "source": [
    "d = {'a':1,'b':2,'c':3}\n",
    "iter(d) is d"
   ],
   "id": "d08704832e04ddaa",
   "outputs": [
    {
     "data": {
      "text/plain": [
       "False"
      ]
     },
     "execution_count": 18,
     "metadata": {},
     "output_type": "execute_result"
    }
   ],
   "execution_count": 18
  },
  {
   "metadata": {
    "ExecuteTime": {
     "end_time": "2024-06-21T10:54:01.328344Z",
     "start_time": "2024-06-21T10:54:01.324901Z"
    }
   },
   "cell_type": "code",
   "source": [
    "I = iter(d)\n",
    "I.__next__()"
   ],
   "id": "d9accf99167697ef",
   "outputs": [
    {
     "data": {
      "text/plain": [
       "'a'"
      ]
     },
     "execution_count": 19,
     "metadata": {},
     "output_type": "execute_result"
    }
   ],
   "execution_count": 19
  },
  {
   "metadata": {
    "ExecuteTime": {
     "end_time": "2024-06-21T10:54:36.648791Z",
     "start_time": "2024-06-21T10:54:36.645383Z"
    }
   },
   "cell_type": "code",
   "source": "next(I)",
   "id": "31cafcf925cc2968",
   "outputs": [
    {
     "data": {
      "text/plain": [
       "'b'"
      ]
     },
     "execution_count": 20,
     "metadata": {},
     "output_type": "execute_result"
    }
   ],
   "execution_count": 20
  },
  {
   "metadata": {
    "ExecuteTime": {
     "end_time": "2024-06-21T11:00:59.715001Z",
     "start_time": "2024-06-21T11:00:59.698722Z"
    }
   },
   "cell_type": "code",
   "source": [
    "import os\n",
    "i = os.popen('ls -ltr')\n",
    "print(type(i))\n",
    "print(iter(i) is i)\n",
    "print(i.__next__())\n",
    "print(i.__next__())"
   ],
   "id": "320ec6ea2b6dc9f5",
   "outputs": [
    {
     "name": "stdout",
     "output_type": "stream",
     "text": [
      "<class 'os._wrap_close'>\n",
      "False\n",
      "total 616\n",
      "\n",
      "-rw-r--r--  1 kearney  staff   29270 Jun 20 16:31 Chapter5-6.ipynb\n",
      "\n"
     ]
    }
   ],
   "execution_count": 36
  },
  {
   "metadata": {
    "ExecuteTime": {
     "end_time": "2024-06-21T10:55:27.124977Z",
     "start_time": "2024-06-21T10:55:27.117326Z"
    }
   },
   "cell_type": "code",
   "source": "print(next(i)) # ",
   "id": "ba5f5c60e4a74968",
   "outputs": [
    {
     "ename": "TypeError",
     "evalue": "'_wrap_close' object is not an iterator",
     "output_type": "error",
     "traceback": [
      "\u001B[0;31m---------------------------------------------------------------------------\u001B[0m",
      "\u001B[0;31mTypeError\u001B[0m                                 Traceback (most recent call last)",
      "Cell \u001B[0;32mIn[23], line 1\u001B[0m\n\u001B[0;32m----> 1\u001B[0m \u001B[38;5;28mprint\u001B[39m(\u001B[38;5;28mnext\u001B[39m(p))\n",
      "\u001B[0;31mTypeError\u001B[0m: '_wrap_close' object is not an iterator"
     ]
    }
   ],
   "execution_count": 23
  },
  {
   "metadata": {
    "ExecuteTime": {
     "end_time": "2024-06-21T10:57:20.505212Z",
     "start_time": "2024-06-21T10:57:20.484959Z"
    }
   },
   "cell_type": "code",
   "source": [
    "p = os.popen('ls -ltr')\n",
    "i = iter(p)\n",
    "print(type(i))\n",
    "print(i.__next__())\n",
    "print(i.__next__())\n",
    "print(next(i))"
   ],
   "id": "8d0dc77ce6641030",
   "outputs": [
    {
     "name": "stdout",
     "output_type": "stream",
     "text": [
      "<class '_io.TextIOWrapper'>\n",
      "total 616\n",
      "\n",
      "-rw-r--r--  1 kearney  staff   29270 Jun 20 16:31 Chapter5-6.ipynb\n",
      "\n",
      "-rw-r--r--  1 kearney  staff      37 Jun 20 21:54 myfile.txt\n",
      "\n"
     ]
    }
   ],
   "execution_count": 26
  },
  {
   "metadata": {
    "ExecuteTime": {
     "end_time": "2024-06-21T10:58:31.729453Z",
     "start_time": "2024-06-21T10:58:31.726935Z"
    }
   },
   "cell_type": "code",
   "source": [
    "r = range(5)\n",
    "r"
   ],
   "id": "27d5ae70bb8a094c",
   "outputs": [
    {
     "data": {
      "text/plain": [
       "range(0, 5)"
      ]
     },
     "execution_count": 28,
     "metadata": {},
     "output_type": "execute_result"
    }
   ],
   "execution_count": 28
  },
  {
   "metadata": {
    "ExecuteTime": {
     "end_time": "2024-06-21T10:59:13.522572Z",
     "start_time": "2024-06-21T10:59:13.519390Z"
    }
   },
   "cell_type": "code",
   "source": [
    "i = iter(r)\n",
    "i.__next__(), next(i)"
   ],
   "id": "226ba71b5a7b695f",
   "outputs": [
    {
     "data": {
      "text/plain": [
       "(0, 1)"
      ]
     },
     "execution_count": 31,
     "metadata": {},
     "output_type": "execute_result"
    }
   ],
   "execution_count": 31
  },
  {
   "metadata": {
    "ExecuteTime": {
     "end_time": "2024-06-21T11:00:30.104760Z",
     "start_time": "2024-06-21T11:00:30.102126Z"
    }
   },
   "cell_type": "code",
   "source": [
    "e = enumerate('abc') # 迭代器对象\n",
    "iter(e) is e"
   ],
   "id": "52fda26e2c2e1126",
   "outputs": [
    {
     "data": {
      "text/plain": [
       "True"
      ]
     },
     "execution_count": 35,
     "metadata": {},
     "output_type": "execute_result"
    }
   ],
   "execution_count": 35
  },
  {
   "metadata": {
    "ExecuteTime": {
     "end_time": "2024-06-21T11:00:20.930433Z",
     "start_time": "2024-06-21T11:00:20.927860Z"
    }
   },
   "cell_type": "code",
   "source": "e.__next__(), next(e)",
   "id": "71c2a2c27ec276e4",
   "outputs": [
    {
     "data": {
      "text/plain": [
       "((1, 'b'), (2, 'c'))"
      ]
     },
     "execution_count": 34,
     "metadata": {},
     "output_type": "execute_result"
    }
   ],
   "execution_count": 34
  },
  {
   "metadata": {
    "ExecuteTime": {
     "end_time": "2024-06-21T11:01:26.081711Z",
     "start_time": "2024-06-21T11:01:26.078416Z"
    }
   },
   "cell_type": "code",
   "source": "list(e)",
   "id": "a08bff5335ff85f2",
   "outputs": [
    {
     "data": {
      "text/plain": [
       "[(0, 'a'), (1, 'b'), (2, 'c')]"
      ]
     },
     "execution_count": 37,
     "metadata": {},
     "output_type": "execute_result"
    }
   ],
   "execution_count": 37
  },
  {
   "metadata": {},
   "cell_type": "markdown",
   "source": "# 文件上使用列表推导",
   "id": "4d2e75f2d1366b8b"
  },
  {
   "metadata": {
    "ExecuteTime": {
     "end_time": "2024-06-21T11:03:33.911699Z",
     "start_time": "2024-06-21T11:03:33.908351Z"
    }
   },
   "cell_type": "code",
   "source": [
    "lines = [line.rstrip() for line in open('text.log')]\n",
    "lines"
   ],
   "id": "8404b8712f4b06e3",
   "outputs": [
    {
     "data": {
      "text/plain": [
       "['hello', 'world', '1 2 3']"
      ]
     },
     "execution_count": 40,
     "metadata": {},
     "output_type": "execute_result"
    }
   ],
   "execution_count": 40
  },
  {
   "metadata": {},
   "cell_type": "markdown",
   "source": "# 多重推导",
   "id": "96ef152eab900500"
  },
  {
   "metadata": {
    "ExecuteTime": {
     "end_time": "2024-06-21T11:07:29.864036Z",
     "start_time": "2024-06-21T11:07:29.858982Z"
    }
   },
   "cell_type": "code",
   "source": "[x + y for x in 'abc' for y in 'xyz']",
   "id": "6b75b33c7501dee4",
   "outputs": [
    {
     "data": {
      "text/plain": [
       "['ax', 'ay', 'az', 'bx', 'by', 'bz', 'cx', 'cy', 'cz']"
      ]
     },
     "execution_count": 41,
     "metadata": {},
     "output_type": "execute_result"
    }
   ],
   "execution_count": 41
  },
  {
   "metadata": {
    "ExecuteTime": {
     "end_time": "2024-06-21T11:09:20.694490Z",
     "start_time": "2024-06-21T11:09:20.691608Z"
    }
   },
   "cell_type": "code",
   "source": "map(str.upper, 'abc')",
   "id": "470e3d5b9188ae07",
   "outputs": [
    {
     "data": {
      "text/plain": [
       "<map at 0x112d3d000>"
      ]
     },
     "execution_count": 42,
     "metadata": {},
     "output_type": "execute_result"
    }
   ],
   "execution_count": 42
  },
  {
   "metadata": {
    "ExecuteTime": {
     "end_time": "2024-06-21T11:10:47.658675Z",
     "start_time": "2024-06-21T11:10:47.656423Z"
    }
   },
   "cell_type": "code",
   "source": [
    "print(list(map(str.upper, 'abc')))\n",
    "print(list(map(str.upper, open('text.log'))))"
   ],
   "id": "c2b14f2c7eaa2623",
   "outputs": [
    {
     "name": "stdout",
     "output_type": "stream",
     "text": [
      "['A', 'B', 'C']\n",
      "['HELLO\\n', 'WORLD\\n', '1 2 3\\n']\n"
     ]
    }
   ],
   "execution_count": 47
  },
  {
   "metadata": {
    "ExecuteTime": {
     "end_time": "2024-06-21T11:10:13.253720Z",
     "start_time": "2024-06-21T11:10:13.251423Z"
    }
   },
   "cell_type": "code",
   "source": [
    "c = 'abc'\n",
    "iter(c) is c"
   ],
   "id": "5c5a226a9439ce7f",
   "outputs": [
    {
     "data": {
      "text/plain": [
       "False"
      ]
     },
     "execution_count": 45,
     "metadata": {},
     "output_type": "execute_result"
    }
   ],
   "execution_count": 45
  },
  {
   "metadata": {
    "ExecuteTime": {
     "end_time": "2024-06-21T13:18:35.695463Z",
     "start_time": "2024-06-21T13:18:35.688105Z"
    }
   },
   "cell_type": "code",
   "source": [
    "l = ['HELLO\\n', 'WORLD\\n', '1 2 3\\n']\n",
    "\"&&\".join(l)"
   ],
   "id": "e28b14f828a5123f",
   "outputs": [
    {
     "data": {
      "text/plain": [
       "'HELLO\\n&&WORLD\\n&&1 2 3\\n'"
      ]
     },
     "execution_count": 49,
     "metadata": {},
     "output_type": "execute_result"
    }
   ],
   "execution_count": 49
  },
  {
   "metadata": {
    "ExecuteTime": {
     "end_time": "2024-06-21T13:20:03.894331Z",
     "start_time": "2024-06-21T13:20:03.887030Z"
    }
   },
   "cell_type": "code",
   "source": [
    "l = [1]\n",
    "l.append(open('text.log'))\n",
    "l"
   ],
   "id": "4979bedfb92156a5",
   "outputs": [
    {
     "data": {
      "text/plain": [
       "[1, <_io.TextIOWrapper name='text.log' mode='r' encoding='UTF-8'>]"
      ]
     },
     "execution_count": 50,
     "metadata": {},
     "output_type": "execute_result"
    }
   ],
   "execution_count": 50
  },
  {
   "metadata": {
    "ExecuteTime": {
     "end_time": "2024-06-21T13:20:08.371702Z",
     "start_time": "2024-06-21T13:20:08.369351Z"
    }
   },
   "cell_type": "code",
   "source": "list(l)",
   "id": "24eea274173c871f",
   "outputs": [
    {
     "data": {
      "text/plain": [
       "[1, <_io.TextIOWrapper name='text.log' mode='r' encoding='UTF-8'>]"
      ]
     },
     "execution_count": 51,
     "metadata": {},
     "output_type": "execute_result"
    }
   ],
   "execution_count": 51
  },
  {
   "metadata": {
    "ExecuteTime": {
     "end_time": "2024-06-21T13:20:31.660464Z",
     "start_time": "2024-06-21T13:20:31.654583Z"
    }
   },
   "cell_type": "code",
   "source": "list(l[1])",
   "id": "7e49b84a792b7c4c",
   "outputs": [
    {
     "data": {
      "text/plain": [
       "['hello\\n', 'world\\n', '1 2 3\\n']"
      ]
     },
     "execution_count": 52,
     "metadata": {},
     "output_type": "execute_result"
    }
   ],
   "execution_count": 52
  },
  {
   "metadata": {
    "ExecuteTime": {
     "end_time": "2024-06-21T13:21:11.040682Z",
     "start_time": "2024-06-21T13:21:11.036014Z"
    }
   },
   "cell_type": "code",
   "source": "set(open('text.log'))",
   "id": "24bc22be53f8dd03",
   "outputs": [
    {
     "data": {
      "text/plain": [
       "{'1 2 3\\n', 'hello\\n', 'world\\n'}"
      ]
     },
     "execution_count": 53,
     "metadata": {},
     "output_type": "execute_result"
    }
   ],
   "execution_count": 53
  },
  {
   "metadata": {
    "ExecuteTime": {
     "end_time": "2024-06-21T13:24:01.902106Z",
     "start_time": "2024-06-21T13:24:01.898636Z"
    }
   },
   "cell_type": "code",
   "source": [
    "a,*b = open('text.log')\n",
    "a,b"
   ],
   "id": "321a819e97b584f5",
   "outputs": [
    {
     "data": {
      "text/plain": [
       "('hello\\n', ['world\\n', '1 2 3\\n'])"
      ]
     },
     "execution_count": 59,
     "metadata": {},
     "output_type": "execute_result"
    }
   ],
   "execution_count": 59
  },
  {
   "metadata": {
    "ExecuteTime": {
     "end_time": "2024-06-21T13:27:13.304804Z",
     "start_time": "2024-06-21T13:27:13.291791Z"
    }
   },
   "cell_type": "code",
   "source": [
    "# 转置\n",
    "list(zip((1, 2, 3, 4), \n",
    "         (5, 6, 7, 8),\n",
    "         (9, 10, 11, 12)))"
   ],
   "id": "781c28e8d2f526e5",
   "outputs": [
    {
     "data": {
      "text/plain": [
       "[(1, 5, 9), (2, 6, 10), (3, 7, 11), (4, 8, 12)]"
      ]
     },
     "execution_count": 64,
     "metadata": {},
     "output_type": "execute_result"
    }
   ],
   "execution_count": 64
  },
  {
   "metadata": {
    "ExecuteTime": {
     "end_time": "2024-06-21T13:26:30.534412Z",
     "start_time": "2024-06-21T13:26:30.529452Z"
    }
   },
   "cell_type": "code",
   "source": "list(zip(*zip((1, 2, 3, 4), (5, 6, 7, 8), (9, 10, 11, 12))))",
   "id": "33eb21cca2c6fb00",
   "outputs": [
    {
     "data": {
      "text/plain": [
       "[(1, 2, 3, 4), (5, 6, 7, 8), (9, 10, 11, 12)]"
      ]
     },
     "execution_count": 63,
     "metadata": {},
     "output_type": "execute_result"
    }
   ],
   "execution_count": 63
  },
  {
   "metadata": {
    "ExecuteTime": {
     "end_time": "2024-06-21T13:31:09.503496Z",
     "start_time": "2024-06-21T13:31:09.498Z"
    }
   },
   "cell_type": "code",
   "source": [
    "m = map(lambda x:2**x ,range(5))\n",
    "print(id(m))\n",
    "print(type(m))\n",
    "print(list(m))\n",
    "print(type(m))\n",
    "print(id(m))\n",
    "for i in m:\n",
    "    print(i)"
   ],
   "id": "ce44587d1f3013cc",
   "outputs": [
    {
     "name": "stdout",
     "output_type": "stream",
     "text": [
      "4611034608\n",
      "<class 'map'>\n",
      "[1, 2, 4, 8, 16]\n",
      "<class 'map'>\n",
      "4611034608\n"
     ]
    }
   ],
   "execution_count": 79
  },
  {
   "metadata": {
    "ExecuteTime": {
     "end_time": "2024-06-21T13:32:24.045928Z",
     "start_time": "2024-06-21T13:32:24.040731Z"
    }
   },
   "cell_type": "code",
   "source": [
    "m = map(lambda x:2**x ,range(5))\n",
    "print(id(m))\n",
    "for i in m:\n",
    "    print(i)\n",
    "print(list(m))"
   ],
   "id": "f7beffb40f948650",
   "outputs": [
    {
     "name": "stdout",
     "output_type": "stream",
     "text": [
      "4611044592\n",
      "1\n",
      "2\n",
      "4\n",
      "8\n",
      "16\n",
      "[]\n"
     ]
    }
   ],
   "execution_count": 84
  },
  {
   "metadata": {},
   "cell_type": "markdown",
   "source": "# Map",
   "id": "c9066fa8dd6be1d2"
  },
  {
   "metadata": {
    "ExecuteTime": {
     "end_time": "2024-06-21T13:36:38.588905Z",
     "start_time": "2024-06-21T13:36:38.586542Z"
    }
   },
   "cell_type": "code",
   "source": "m = map(abs, [-1, 2, -3, 4]) # 返回一个带有迭代器的可迭代对象",
   "id": "f750c06d90ba69b6",
   "outputs": [],
   "execution_count": 105
  },
  {
   "metadata": {
    "ExecuteTime": {
     "end_time": "2024-06-21T13:36:38.908250Z",
     "start_time": "2024-06-21T13:36:38.905022Z"
    }
   },
   "cell_type": "code",
   "source": "next(m), next(m)",
   "id": "432bf0b150b88eef",
   "outputs": [
    {
     "data": {
      "text/plain": [
       "(1, 2)"
      ]
     },
     "execution_count": 106,
     "metadata": {},
     "output_type": "execute_result"
    }
   ],
   "execution_count": 106
  },
  {
   "metadata": {
    "ExecuteTime": {
     "end_time": "2024-06-21T13:36:39.223590Z",
     "start_time": "2024-06-21T13:36:39.220510Z"
    }
   },
   "cell_type": "code",
   "source": "next(m), next(m)",
   "id": "d9c87703d560449b",
   "outputs": [
    {
     "data": {
      "text/plain": [
       "(3, 4)"
      ]
     },
     "execution_count": 107,
     "metadata": {},
     "output_type": "execute_result"
    }
   ],
   "execution_count": 107
  },
  {
   "metadata": {
    "ExecuteTime": {
     "end_time": "2024-06-21T13:36:41.458509Z",
     "start_time": "2024-06-21T13:36:41.449165Z"
    }
   },
   "cell_type": "code",
   "source": "next(m)",
   "id": "f76848956f537b8b",
   "outputs": [
    {
     "ename": "StopIteration",
     "evalue": "",
     "output_type": "error",
     "traceback": [
      "\u001B[0;31m---------------------------------------------------------------------------\u001B[0m",
      "\u001B[0;31mStopIteration\u001B[0m                             Traceback (most recent call last)",
      "Cell \u001B[0;32mIn[108], line 1\u001B[0m\n\u001B[0;32m----> 1\u001B[0m \u001B[38;5;28mnext\u001B[39m(m)\n",
      "\u001B[0;31mStopIteration\u001B[0m: "
     ]
    }
   ],
   "execution_count": 108
  },
  {
   "metadata": {
    "ExecuteTime": {
     "end_time": "2024-06-21T13:39:38.842078Z",
     "start_time": "2024-06-21T13:39:38.835965Z"
    }
   },
   "cell_type": "code",
   "source": [
    "r = range(3) # 返回一个可迭代对象\n",
    "r"
   ],
   "id": "a70475983bd69c96",
   "outputs": [
    {
     "data": {
      "text/plain": [
       "range(0, 3)"
      ]
     },
     "execution_count": 109,
     "metadata": {},
     "output_type": "execute_result"
    }
   ],
   "execution_count": 109
  },
  {
   "metadata": {
    "ExecuteTime": {
     "end_time": "2024-06-21T13:39:41.151525Z",
     "start_time": "2024-06-21T13:39:41.141160Z"
    }
   },
   "cell_type": "code",
   "source": "next(r)",
   "id": "3039edbbcb0a9f08",
   "outputs": [
    {
     "ename": "TypeError",
     "evalue": "'range' object is not an iterator",
     "output_type": "error",
     "traceback": [
      "\u001B[0;31m---------------------------------------------------------------------------\u001B[0m",
      "\u001B[0;31mTypeError\u001B[0m                                 Traceback (most recent call last)",
      "Cell \u001B[0;32mIn[110], line 1\u001B[0m\n\u001B[0;32m----> 1\u001B[0m \u001B[38;5;28mnext\u001B[39m(r)\n",
      "\u001B[0;31mTypeError\u001B[0m: 'range' object is not an iterator"
     ]
    }
   ],
   "execution_count": 110
  },
  {
   "metadata": {
    "ExecuteTime": {
     "end_time": "2024-06-21T13:39:48.520893Z",
     "start_time": "2024-06-21T13:39:48.518523Z"
    }
   },
   "cell_type": "code",
   "source": [
    "i = iter(r)\n",
    "next(i)"
   ],
   "id": "b2e2385723d3010e",
   "outputs": [
    {
     "data": {
      "text/plain": [
       "0"
      ]
     },
     "execution_count": 111,
     "metadata": {},
     "output_type": "execute_result"
    }
   ],
   "execution_count": 111
  },
  {
   "metadata": {},
   "cell_type": "markdown",
   "source": "多迭代器",
   "id": "2d69370d7d9102f4"
  },
  {
   "metadata": {
    "ExecuteTime": {
     "end_time": "2024-06-21T13:40:52.227638Z",
     "start_time": "2024-06-21T13:40:52.221935Z"
    }
   },
   "cell_type": "code",
   "source": "z = zip('abc', 'xyz')",
   "id": "36a5ced41ed2bebc",
   "outputs": [],
   "execution_count": 112
  },
  {
   "metadata": {
    "ExecuteTime": {
     "end_time": "2024-06-21T13:41:05.586075Z",
     "start_time": "2024-06-21T13:41:05.581690Z"
    }
   },
   "cell_type": "code",
   "source": [
    "i1 = iter(z)\n",
    "i2 = iter(z)\n",
    "next(i1)"
   ],
   "id": "179da1be946561b",
   "outputs": [
    {
     "data": {
      "text/plain": [
       "('a', 'x')"
      ]
     },
     "execution_count": 113,
     "metadata": {},
     "output_type": "execute_result"
    }
   ],
   "execution_count": 113
  },
  {
   "metadata": {
    "ExecuteTime": {
     "end_time": "2024-06-21T13:41:09.965955Z",
     "start_time": "2024-06-21T13:41:09.963632Z"
    }
   },
   "cell_type": "code",
   "source": "next(i2)",
   "id": "824858b20a2131c7",
   "outputs": [
    {
     "data": {
      "text/plain": [
       "('b', 'y')"
      ]
     },
     "execution_count": 114,
     "metadata": {},
     "output_type": "execute_result"
    }
   ],
   "execution_count": 114
  },
  {
   "metadata": {
    "ExecuteTime": {
     "end_time": "2024-06-21T13:41:22.012484Z",
     "start_time": "2024-06-21T13:41:22.009405Z"
    }
   },
   "cell_type": "code",
   "source": "next(i1)",
   "id": "679e3e56a24b758d",
   "outputs": [
    {
     "data": {
      "text/plain": [
       "('c', 'z')"
      ]
     },
     "execution_count": 115,
     "metadata": {},
     "output_type": "execute_result"
    }
   ],
   "execution_count": 115
  },
  {
   "metadata": {
    "ExecuteTime": {
     "end_time": "2024-06-21T13:41:34.253409Z",
     "start_time": "2024-06-21T13:41:34.251260Z"
    }
   },
   "cell_type": "code",
   "source": "i1 is i2",
   "id": "24474d5ce17bfc0a",
   "outputs": [
    {
     "data": {
      "text/plain": [
       "True"
      ]
     },
     "execution_count": 116,
     "metadata": {},
     "output_type": "execute_result"
    }
   ],
   "execution_count": 116
  },
  {
   "metadata": {},
   "cell_type": "code",
   "outputs": [],
   "execution_count": null,
   "source": "",
   "id": "a2755dc5d648cc1b"
  },
  {
   "metadata": {},
   "cell_type": "markdown",
   "source": "range 可用多个迭代器",
   "id": "ccee430badbf31cb"
  },
  {
   "metadata": {
    "ExecuteTime": {
     "end_time": "2024-06-21T13:42:30.166900Z",
     "start_time": "2024-06-21T13:42:30.162557Z"
    }
   },
   "cell_type": "code",
   "source": [
    "r= range(3)\n",
    "i1 = iter(r)\n",
    "i2 = iter(r)\n",
    "next(i1)"
   ],
   "id": "11ceb0b4e5d3bd83",
   "outputs": [
    {
     "data": {
      "text/plain": [
       "0"
      ]
     },
     "execution_count": 117,
     "metadata": {},
     "output_type": "execute_result"
    }
   ],
   "execution_count": 117
  },
  {
   "metadata": {
    "ExecuteTime": {
     "end_time": "2024-06-21T13:42:34.484810Z",
     "start_time": "2024-06-21T13:42:34.482607Z"
    }
   },
   "cell_type": "code",
   "source": "next(i2)",
   "id": "f784bef5eca94e90",
   "outputs": [
    {
     "data": {
      "text/plain": [
       "0"
      ]
     },
     "execution_count": 118,
     "metadata": {},
     "output_type": "execute_result"
    }
   ],
   "execution_count": 118
  },
  {
   "metadata": {
    "ExecuteTime": {
     "end_time": "2024-06-21T13:42:39.868182Z",
     "start_time": "2024-06-21T13:42:39.865902Z"
    }
   },
   "cell_type": "code",
   "source": "next(i1)",
   "id": "f32ba9d3b97d6382",
   "outputs": [
    {
     "data": {
      "text/plain": [
       "1"
      ]
     },
     "execution_count": 119,
     "metadata": {},
     "output_type": "execute_result"
    }
   ],
   "execution_count": 119
  },
  {
   "metadata": {
    "ExecuteTime": {
     "end_time": "2024-06-21T13:42:42.350740Z",
     "start_time": "2024-06-21T13:42:42.348711Z"
    }
   },
   "cell_type": "code",
   "source": "i1 is i2",
   "id": "8a18a7f0748d1050",
   "outputs": [
    {
     "data": {
      "text/plain": [
       "False"
      ]
     },
     "execution_count": 120,
     "metadata": {},
     "output_type": "execute_result"
    }
   ],
   "execution_count": 120
  },
  {
   "metadata": {},
   "cell_type": "markdown",
   "source": "Dictionary",
   "id": "d496ffaea7dc765b"
  },
  {
   "metadata": {
    "ExecuteTime": {
     "end_time": "2024-06-21T13:49:15.576755Z",
     "start_time": "2024-06-21T13:49:15.566110Z"
    }
   },
   "cell_type": "code",
   "source": [
    "d = {'a':1,'b':2,'c':3}\n",
    "k = d.keys()\n",
    "next(k)"
   ],
   "id": "cf77b5efd4e8c008",
   "outputs": [
    {
     "ename": "TypeError",
     "evalue": "'dict_keys' object is not an iterator",
     "output_type": "error",
     "traceback": [
      "\u001B[0;31m---------------------------------------------------------------------------\u001B[0m",
      "\u001B[0;31mTypeError\u001B[0m                                 Traceback (most recent call last)",
      "Cell \u001B[0;32mIn[122], line 3\u001B[0m\n\u001B[1;32m      1\u001B[0m d \u001B[38;5;241m=\u001B[39m {\u001B[38;5;124m'\u001B[39m\u001B[38;5;124ma\u001B[39m\u001B[38;5;124m'\u001B[39m:\u001B[38;5;241m1\u001B[39m,\u001B[38;5;124m'\u001B[39m\u001B[38;5;124mb\u001B[39m\u001B[38;5;124m'\u001B[39m:\u001B[38;5;241m2\u001B[39m,\u001B[38;5;124m'\u001B[39m\u001B[38;5;124mc\u001B[39m\u001B[38;5;124m'\u001B[39m:\u001B[38;5;241m3\u001B[39m}\n\u001B[1;32m      2\u001B[0m k \u001B[38;5;241m=\u001B[39m d\u001B[38;5;241m.\u001B[39mkeys()\n\u001B[0;32m----> 3\u001B[0m \u001B[38;5;28mnext\u001B[39m(k)\n",
      "\u001B[0;31mTypeError\u001B[0m: 'dict_keys' object is not an iterator"
     ]
    }
   ],
   "execution_count": 122
  },
  {
   "metadata": {
    "ExecuteTime": {
     "end_time": "2024-06-21T13:49:24.029011Z",
     "start_time": "2024-06-21T13:49:24.025787Z"
    }
   },
   "cell_type": "code",
   "source": [
    "i = iter(k)\n",
    "next(i)"
   ],
   "id": "1d9e882a65dc4794",
   "outputs": [
    {
     "data": {
      "text/plain": [
       "'a'"
      ]
     },
     "execution_count": 123,
     "metadata": {},
     "output_type": "execute_result"
    }
   ],
   "execution_count": 123
  },
  {
   "metadata": {},
   "cell_type": "code",
   "outputs": [],
   "execution_count": null,
   "source": "",
   "id": "1cc922373ec01a89"
  }
 ],
 "metadata": {
  "kernelspec": {
   "display_name": "Python 3",
   "language": "python",
   "name": "python3"
  },
  "language_info": {
   "codemirror_mode": {
    "name": "ipython",
    "version": 2
   },
   "file_extension": ".py",
   "mimetype": "text/x-python",
   "name": "python",
   "nbconvert_exporter": "python",
   "pygments_lexer": "ipython2",
   "version": "2.7.6"
  }
 },
 "nbformat": 4,
 "nbformat_minor": 5
}
