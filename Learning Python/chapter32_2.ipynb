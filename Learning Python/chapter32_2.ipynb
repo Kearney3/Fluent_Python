{
 "cells": [
  {
   "metadata": {},
   "cell_type": "markdown",
   "source": "# 装饰器",
   "id": "7b24253b81286cf4"
  },
  {
   "cell_type": "code",
   "id": "initial_id",
   "metadata": {
    "collapsed": true,
    "ExecuteTime": {
     "end_time": "2024-07-01T13:28:54.511003Z",
     "start_time": "2024-07-01T13:28:54.507355Z"
    }
   },
   "source": [
    "# 无法装饰类函数\n",
    "class tracer:\n",
    "    def __init__(self, func):\n",
    "        self.calls = 0\n",
    "        self.func = func\n",
    "\n",
    "    def __call__(self, *args):\n",
    "        self.calls += 1\n",
    "        print(f'call {self.calls} to {self.func}')\n",
    "        self.func(*args)"
   ],
   "outputs": [],
   "execution_count": 20
  },
  {
   "metadata": {
    "ExecuteTime": {
     "end_time": "2024-07-01T13:28:54.830664Z",
     "start_time": "2024-07-01T13:28:54.826780Z"
    }
   },
   "cell_type": "code",
   "source": [
    "@tracer\n",
    "def spam(a, b, c):\n",
    "    print(a + b + c)\n",
    "\n",
    "\n",
    "print(spam(1, 2, 3))\n",
    "print(spam('a', 'b', 'c'))"
   ],
   "id": "dd48340879a884cc",
   "outputs": [
    {
     "name": "stdout",
     "output_type": "stream",
     "text": [
      "call 1 to <function spam at 0x109b8a020>\n",
      "6\n",
      "None\n",
      "call 2 to <function spam at 0x109b8a020>\n",
      "abc\n",
      "None\n"
     ]
    }
   ],
   "execution_count": 21
  },
  {
   "metadata": {
    "ExecuteTime": {
     "end_time": "2024-07-01T13:28:55.159357Z",
     "start_time": "2024-07-01T13:28:55.157276Z"
    }
   },
   "cell_type": "code",
   "source": [
    "def tracer2(func):\n",
    "    def on_call(*args):\n",
    "        on_call.calls += 1\n",
    "        print(f'call {on_call.calls} to {func.__name__} in tracer2')\n",
    "        return func(*args)\n",
    "\n",
    "    on_call.calls = 0\n",
    "    return on_call"
   ],
   "id": "67b4f75a7e686da2",
   "outputs": [],
   "execution_count": 22
  },
  {
   "metadata": {
    "ExecuteTime": {
     "end_time": "2024-07-01T13:28:55.591962Z",
     "start_time": "2024-07-01T13:28:55.589553Z"
    }
   },
   "cell_type": "code",
   "source": [
    "class C:\n",
    "    @tracer2\n",
    "    def spam(self, a, b, c):\n",
    "        print(a + b + c)"
   ],
   "id": "456c403f86467a17",
   "outputs": [],
   "execution_count": 23
  },
  {
   "metadata": {
    "ExecuteTime": {
     "end_time": "2024-07-01T13:28:56.046054Z",
     "start_time": "2024-07-01T13:28:56.043563Z"
    }
   },
   "cell_type": "code",
   "source": [
    "x = C()\n",
    "print(x.spam(1, 2, 3))\n",
    "print(x.spam('a', 'b', 'c'))"
   ],
   "id": "d9d67c792dfa5819",
   "outputs": [
    {
     "name": "stdout",
     "output_type": "stream",
     "text": [
      "call 1 to spam in tracer2\n",
      "6\n",
      "None\n",
      "call 2 to spam in tracer2\n",
      "abc\n",
      "None\n"
     ]
    }
   ],
   "execution_count": 24
  },
  {
   "metadata": {
    "ExecuteTime": {
     "end_time": "2024-07-01T13:28:56.780331Z",
     "start_time": "2024-07-01T13:28:56.778332Z"
    }
   },
   "cell_type": "code",
   "source": [
    "print(spam(1, 2, 3))\n",
    "print(spam('a', 'b', 'c'))"
   ],
   "id": "878b8397a905ef89",
   "outputs": [
    {
     "name": "stdout",
     "output_type": "stream",
     "text": [
      "call 3 to <function spam at 0x109b8a020>\n",
      "6\n",
      "None\n",
      "call 4 to <function spam at 0x109b8a020>\n",
      "abc\n",
      "None\n"
     ]
    }
   ],
   "execution_count": 25
  },
  {
   "metadata": {},
   "cell_type": "markdown",
   "source": "## 类装饰器",
   "id": "76a40432ed5fcb1c"
  },
  {
   "metadata": {
    "ExecuteTime": {
     "end_time": "2024-07-01T13:30:49.350346Z",
     "start_time": "2024-07-01T13:30:49.344088Z"
    }
   },
   "cell_type": "code",
   "source": [
    "def count(aClass):\n",
    "    aClass.count = 0\n",
    "    return aClass\n",
    "\n",
    "\n",
    "@count\n",
    "class C: pass\n"
   ],
   "id": "1b0e29164deb63ab",
   "outputs": [],
   "execution_count": 26
  },
  {
   "metadata": {
    "ExecuteTime": {
     "end_time": "2024-07-01T13:30:58.279853Z",
     "start_time": "2024-07-01T13:30:58.275577Z"
    }
   },
   "cell_type": "code",
   "source": [
    "c = C()\n",
    "c.count"
   ],
   "id": "1a3af4bf249a5172",
   "outputs": [
    {
     "data": {
      "text/plain": [
       "0"
      ]
     },
     "execution_count": 27,
     "metadata": {},
     "output_type": "execute_result"
    }
   ],
   "execution_count": 27
  },
  {
   "metadata": {
    "ExecuteTime": {
     "end_time": "2024-07-01T13:39:23.755049Z",
     "start_time": "2024-07-01T13:39:23.750043Z"
    }
   },
   "cell_type": "code",
   "source": [
    "def decorator(cls):  # On @ decoration\n",
    "    class Proxy:\n",
    "        def __init__(self, *args):  # On instance creation: make a cls \n",
    "            self.wrapped = cls(*args)\n",
    "\n",
    "        def __getattr__(self, name):  # On attribute fetch: extra ops here\n",
    "            return getattr(self.wrapped, name)\n",
    "\n",
    "    return Proxy\n",
    "\n",
    "\n",
    "@decorator\n",
    "class C: pass"
   ],
   "id": "bd9fea6f89e1433d",
   "outputs": [],
   "execution_count": 28
  },
  {
   "metadata": {
    "ExecuteTime": {
     "end_time": "2024-07-01T13:39:28.124292Z",
     "start_time": "2024-07-01T13:39:28.122494Z"
    }
   },
   "cell_type": "code",
   "source": "x = C()",
   "id": "ca24f6885c794053",
   "outputs": [],
   "execution_count": 29
  },
  {
   "metadata": {},
   "cell_type": "markdown",
   "source": "# Super",
   "id": "354f8cb173e5bd9a"
  },
  {
   "metadata": {
    "ExecuteTime": {
     "end_time": "2024-07-01T13:46:46.270909Z",
     "start_time": "2024-07-01T13:46:46.267273Z"
    }
   },
   "cell_type": "code",
   "source": [
    "class A:\n",
    "    def act(self):\n",
    "        print('A')\n",
    "\n",
    "\n",
    "class B:\n",
    "    def act(self):\n",
    "        print('B')\n",
    "\n",
    "\n",
    "class C(A):\n",
    "    def act(self):\n",
    "        super().act()\n",
    "\n",
    "\n",
    "class D(A, B):\n",
    "    def act(self):\n",
    "        super().act()\n",
    "\n",
    "\n",
    "class E(B, A):\n",
    "    def act(self):\n",
    "        super().act()"
   ],
   "id": "bb7d3b65a46d48c8",
   "outputs": [],
   "execution_count": 37
  },
  {
   "metadata": {
    "ExecuteTime": {
     "end_time": "2024-07-01T13:46:46.535006Z",
     "start_time": "2024-07-01T13:46:46.532081Z"
    }
   },
   "cell_type": "code",
   "source": [
    "c = C()\n",
    "d = D()\n",
    "e = E()"
   ],
   "id": "c38b0a0b08844882",
   "outputs": [],
   "execution_count": 38
  },
  {
   "metadata": {
    "ExecuteTime": {
     "end_time": "2024-07-01T13:46:46.915467Z",
     "start_time": "2024-07-01T13:46:46.913604Z"
    }
   },
   "cell_type": "code",
   "source": "c.act()",
   "id": "c7476d3153252074",
   "outputs": [
    {
     "name": "stdout",
     "output_type": "stream",
     "text": [
      "A\n"
     ]
    }
   ],
   "execution_count": 39
  },
  {
   "metadata": {
    "ExecuteTime": {
     "end_time": "2024-07-01T13:46:47.332115Z",
     "start_time": "2024-07-01T13:46:47.330213Z"
    }
   },
   "cell_type": "code",
   "source": "d.act()",
   "id": "8acfac7dbc713621",
   "outputs": [
    {
     "name": "stdout",
     "output_type": "stream",
     "text": [
      "A\n"
     ]
    }
   ],
   "execution_count": 40
  },
  {
   "metadata": {
    "ExecuteTime": {
     "end_time": "2024-07-01T13:46:49.159260Z",
     "start_time": "2024-07-01T13:46:49.156784Z"
    }
   },
   "cell_type": "code",
   "source": "e.act()",
   "id": "79ec11ea42e68d2d",
   "outputs": [
    {
     "name": "stdout",
     "output_type": "stream",
     "text": [
      "B\n"
     ]
    }
   ],
   "execution_count": 41
  },
  {
   "metadata": {},
   "cell_type": "markdown",
   "source": "## 运⾏时类修改与 super",
   "id": "f0562d27073726ba"
  },
  {
   "metadata": {
    "ExecuteTime": {
     "end_time": "2024-07-01T13:54:36.540692Z",
     "start_time": "2024-07-01T13:54:36.538202Z"
    }
   },
   "cell_type": "code",
   "source": [
    "class X:\n",
    "    def m(self): print('X.m')\n",
    "\n",
    "\n",
    "class Y:\n",
    "    def m(self): print('Y.m')\n",
    "\n",
    "\n",
    "class Z(X):\n",
    "    def m(self): super().m()"
   ],
   "id": "9a36be7ef995f8cb",
   "outputs": [],
   "execution_count": 46
  },
  {
   "metadata": {
    "ExecuteTime": {
     "end_time": "2024-07-01T13:54:36.867338Z",
     "start_time": "2024-07-01T13:54:36.864722Z"
    }
   },
   "cell_type": "code",
   "source": [
    "i = Z()\n",
    "i.m()"
   ],
   "id": "4c6ce63e3b0899ca",
   "outputs": [
    {
     "name": "stdout",
     "output_type": "stream",
     "text": [
      "X.m\n"
     ]
    }
   ],
   "execution_count": 47
  },
  {
   "metadata": {
    "ExecuteTime": {
     "end_time": "2024-07-01T13:54:47.051078Z",
     "start_time": "2024-07-01T13:54:47.049086Z"
    }
   },
   "cell_type": "code",
   "source": "Z.__bases__ = (Y,)",
   "id": "f8e0e9d851d67f28",
   "outputs": [],
   "execution_count": 49
  },
  {
   "metadata": {
    "ExecuteTime": {
     "end_time": "2024-07-01T13:54:53.542940Z",
     "start_time": "2024-07-01T13:54:53.541137Z"
    }
   },
   "cell_type": "code",
   "source": "i.m()",
   "id": "fad08ee8c040301e",
   "outputs": [
    {
     "name": "stdout",
     "output_type": "stream",
     "text": [
      "Y.m\n"
     ]
    }
   ],
   "execution_count": 50
  },
  {
   "metadata": {},
   "cell_type": "markdown",
   "source": "## 协同 super 调⽤实例",
   "id": "118b5ff7b505ba00"
  },
  {
   "metadata": {
    "ExecuteTime": {
     "end_time": "2024-07-01T13:57:43.175796Z",
     "start_time": "2024-07-01T13:57:43.173017Z"
    }
   },
   "cell_type": "code",
   "source": [
    "class A:\n",
    "    def __init__(self):\n",
    "        print('A.__init__')\n",
    "\n",
    "\n",
    "class B:\n",
    "    def __init__(self):\n",
    "        print('B.__init__')\n",
    "\n",
    "\n",
    "class C(A, B): pass"
   ],
   "id": "f7b1193607168811",
   "outputs": [],
   "execution_count": 56
  },
  {
   "metadata": {
    "ExecuteTime": {
     "end_time": "2024-07-01T13:57:43.365372Z",
     "start_time": "2024-07-01T13:57:43.363498Z"
    }
   },
   "cell_type": "code",
   "source": "c = C()",
   "id": "cc2e37aae7c5dba7",
   "outputs": [
    {
     "name": "stdout",
     "output_type": "stream",
     "text": [
      "A.__init__\n"
     ]
    }
   ],
   "execution_count": 57
  },
  {
   "metadata": {
    "ExecuteTime": {
     "end_time": "2024-07-01T13:57:43.743573Z",
     "start_time": "2024-07-01T13:57:43.741720Z"
    }
   },
   "cell_type": "code",
   "source": [
    "class D(A, B):\n",
    "    def __init__(self):\n",
    "        A.__init__(self)\n",
    "        B.__init__(self)"
   ],
   "id": "aa2341e612128856",
   "outputs": [],
   "execution_count": 58
  },
  {
   "metadata": {
    "ExecuteTime": {
     "end_time": "2024-07-01T13:57:44.187310Z",
     "start_time": "2024-07-01T13:57:44.185587Z"
    }
   },
   "cell_type": "code",
   "source": "d = D()",
   "id": "fe10593d3124261f",
   "outputs": [
    {
     "name": "stdout",
     "output_type": "stream",
     "text": [
      "A.__init__\n",
      "B.__init__\n"
     ]
    }
   ],
   "execution_count": 59
  },
  {
   "metadata": {
    "ExecuteTime": {
     "end_time": "2024-07-01T14:12:02.379178Z",
     "start_time": "2024-07-01T14:12:02.374824Z"
    }
   },
   "cell_type": "code",
   "source": [
    "class A:\n",
    "    def __init__(self):\n",
    "        print('A.__init__')\n",
    "\n",
    "\n",
    "class B(A):\n",
    "    def __init__(self):\n",
    "        print('B.__init__')\n",
    "        A.__init__(self)\n",
    "\n",
    "\n",
    "class C(A):\n",
    "    def __init__(self):\n",
    "        print('C.__init__')\n",
    "        A.__init__(self)\n",
    "\n"
   ],
   "id": "868232310d9ab782",
   "outputs": [],
   "execution_count": 83
  },
  {
   "metadata": {
    "ExecuteTime": {
     "end_time": "2024-07-01T14:12:02.699823Z",
     "start_time": "2024-07-01T14:12:02.697894Z"
    }
   },
   "cell_type": "code",
   "source": "b = B()",
   "id": "a1d1223d4fc2c0f3",
   "outputs": [
    {
     "name": "stdout",
     "output_type": "stream",
     "text": [
      "B.__init__\n",
      "A.__init__\n"
     ]
    }
   ],
   "execution_count": 84
  },
  {
   "metadata": {
    "ExecuteTime": {
     "end_time": "2024-07-01T14:12:03.026195Z",
     "start_time": "2024-07-01T14:12:03.020011Z"
    }
   },
   "cell_type": "code",
   "source": "c = C()",
   "id": "b8901ea1aa466472",
   "outputs": [
    {
     "name": "stdout",
     "output_type": "stream",
     "text": [
      "C.__init__\n",
      "A.__init__\n"
     ]
    }
   ],
   "execution_count": 85
  },
  {
   "metadata": {
    "ExecuteTime": {
     "end_time": "2024-07-01T14:12:03.365343Z",
     "start_time": "2024-07-01T14:12:03.363619Z"
    }
   },
   "cell_type": "code",
   "source": [
    "class D(B, C): pass\n",
    "\n",
    "\n",
    "d = D()"
   ],
   "id": "8a5ec6243d2c5519",
   "outputs": [
    {
     "name": "stdout",
     "output_type": "stream",
     "text": [
      "B.__init__\n",
      "A.__init__\n"
     ]
    }
   ],
   "execution_count": 86
  },
  {
   "metadata": {
    "ExecuteTime": {
     "end_time": "2024-07-01T14:12:03.779573Z",
     "start_time": "2024-07-01T14:12:03.777489Z"
    }
   },
   "cell_type": "code",
   "source": [
    "class D(B, C):\n",
    "    def __init__(self):\n",
    "        B.__init__(self)\n",
    "        C.__init__(self)\n",
    "\n",
    "\n",
    "d = D()"
   ],
   "id": "775b3f70b185038c",
   "outputs": [
    {
     "name": "stdout",
     "output_type": "stream",
     "text": [
      "B.__init__\n",
      "A.__init__\n",
      "C.__init__\n",
      "A.__init__\n"
     ]
    }
   ],
   "execution_count": 87
  },
  {
   "metadata": {},
   "cell_type": "markdown",
   "source": "使用 super",
   "id": "ccc0d3a296c6b59a"
  },
  {
   "metadata": {
    "ExecuteTime": {
     "end_time": "2024-07-01T14:12:05.660023Z",
     "start_time": "2024-07-01T14:12:05.656534Z"
    }
   },
   "cell_type": "code",
   "source": [
    "class A:\n",
    "    def __init__(self):\n",
    "        print('A.__init__')\n",
    "\n",
    "\n",
    "class B(A):\n",
    "    def __init__(self):\n",
    "        print('B.__init__')\n",
    "        super().__init__()\n",
    "\n",
    "\n",
    "class C(A):\n",
    "    def __init__(self):\n",
    "        print('C.__init__')\n",
    "        super().__init__()"
   ],
   "id": "f065abb3318c3a67",
   "outputs": [],
   "execution_count": 88
  },
  {
   "metadata": {
    "ExecuteTime": {
     "end_time": "2024-07-01T14:12:05.964329Z",
     "start_time": "2024-07-01T14:12:05.961378Z"
    }
   },
   "cell_type": "code",
   "source": "b = B()",
   "id": "db5aa0bbbb8c682d",
   "outputs": [
    {
     "name": "stdout",
     "output_type": "stream",
     "text": [
      "B.__init__\n",
      "A.__init__\n"
     ]
    }
   ],
   "execution_count": 89
  },
  {
   "metadata": {
    "ExecuteTime": {
     "end_time": "2024-07-01T14:12:06.286414Z",
     "start_time": "2024-07-01T14:12:06.284321Z"
    }
   },
   "cell_type": "code",
   "source": "c = C()",
   "id": "e8606e02afc05692",
   "outputs": [
    {
     "name": "stdout",
     "output_type": "stream",
     "text": [
      "C.__init__\n",
      "A.__init__\n"
     ]
    }
   ],
   "execution_count": 90
  },
  {
   "metadata": {
    "ExecuteTime": {
     "end_time": "2024-07-01T14:12:06.577908Z",
     "start_time": "2024-07-01T14:12:06.576014Z"
    }
   },
   "cell_type": "code",
   "source": [
    "class D(B, C): pass\n",
    "\n",
    "\n",
    "d = D()"
   ],
   "id": "a21ab5c1f0246211",
   "outputs": [
    {
     "name": "stdout",
     "output_type": "stream",
     "text": [
      "B.__init__\n",
      "C.__init__\n",
      "A.__init__\n"
     ]
    }
   ],
   "execution_count": 91
  },
  {
   "metadata": {
    "ExecuteTime": {
     "end_time": "2024-07-01T14:12:06.838645Z",
     "start_time": "2024-07-01T14:12:06.836329Z"
    }
   },
   "cell_type": "code",
   "source": [
    "class D(B, C):\n",
    "    def __init__(self):\n",
    "        super().__init__()\n",
    "\n",
    "\n",
    "d = D()"
   ],
   "id": "338b1a41524b0e21",
   "outputs": [
    {
     "name": "stdout",
     "output_type": "stream",
     "text": [
      "B.__init__\n",
      "C.__init__\n",
      "A.__init__\n"
     ]
    }
   ],
   "execution_count": 92
  },
  {
   "metadata": {
    "ExecuteTime": {
     "end_time": "2024-07-01T14:12:07.169209Z",
     "start_time": "2024-07-01T14:12:07.166628Z"
    }
   },
   "cell_type": "code",
   "source": "B.__mro__",
   "id": "e1d92eeedbf81f5c",
   "outputs": [
    {
     "data": {
      "text/plain": [
       "(__main__.B, __main__.A, object)"
      ]
     },
     "execution_count": 93,
     "metadata": {},
     "output_type": "execute_result"
    }
   ],
   "execution_count": 93
  },
  {
   "metadata": {
    "ExecuteTime": {
     "end_time": "2024-07-01T14:05:34.730229Z",
     "start_time": "2024-07-01T14:05:34.726979Z"
    }
   },
   "cell_type": "code",
   "source": "D.__mro_B",
   "id": "477624c65845c72f",
   "outputs": [
    {
     "data": {
      "text/plain": [
       "(__main__.D, __main__.B, __main__.C, __main__.A, object)"
      ]
     },
     "execution_count": 82,
     "metadata": {},
     "output_type": "execute_result"
    }
   ],
   "execution_count": 82
  },
  {
   "metadata": {},
   "cell_type": "markdown",
   "source": "使⽤范围：⼀个“要么不⽤，要么全⽤”的模型",
   "id": "760a3e1e59b59a14"
  },
  {
   "metadata": {
    "ExecuteTime": {
     "end_time": "2024-07-01T14:18:28.506662Z",
     "start_time": "2024-07-01T14:18:28.504360Z"
    }
   },
   "cell_type": "code",
   "source": [
    "class A:\n",
    "    def __init__(self):\n",
    "        print('A.__init__')\n",
    "        super().__init__()\n",
    "\n",
    "\n",
    "class B:\n",
    "    def __init__(self):\n",
    "        print('B.__init__')\n",
    "        super().__init__()\n",
    "\n",
    "\n",
    "class C(A, B):\n",
    "    def __init__(self):\n",
    "        print('C.__init__')\n",
    "        super().__init__()\n",
    "\n",
    "\n",
    "c = C()"
   ],
   "id": "c3c82d6ba1fa08d8",
   "outputs": [
    {
     "name": "stdout",
     "output_type": "stream",
     "text": [
      "C.__init__\n",
      "A.__init__\n",
      "B.__init__\n"
     ]
    }
   ],
   "execution_count": 99
  },
  {
   "metadata": {
    "ExecuteTime": {
     "end_time": "2024-07-01T14:18:28.902010Z",
     "start_time": "2024-07-01T14:18:28.899684Z"
    }
   },
   "cell_type": "code",
   "source": "C.__mro__",
   "id": "292e50f86fca0e91",
   "outputs": [
    {
     "data": {
      "text/plain": [
       "(__main__.C, __main__.A, __main__.B, object)"
      ]
     },
     "execution_count": 100,
     "metadata": {},
     "output_type": "execute_result"
    }
   ],
   "execution_count": 100
  },
  {
   "metadata": {
    "ExecuteTime": {
     "end_time": "2024-07-01T14:18:31.958278Z",
     "start_time": "2024-07-01T14:18:31.955846Z"
    }
   },
   "cell_type": "code",
   "source": [
    "class A:\n",
    "    def __init__(self):\n",
    "        print('A.__init__')\n",
    "        # super().__init__()\n",
    "\n",
    "\n",
    "class B:\n",
    "    def __init__(self):\n",
    "        print('B.__init__')\n",
    "        super().__init__()\n",
    "\n",
    "\n",
    "class C(A, B):\n",
    "    def __init__(self):\n",
    "        print('C.__init__')\n",
    "        super().__init__()\n",
    "\n",
    "\n",
    "c = C()"
   ],
   "id": "f2022535821c0a76",
   "outputs": [
    {
     "name": "stdout",
     "output_type": "stream",
     "text": [
      "C.__init__\n",
      "A.__init__\n"
     ]
    }
   ],
   "execution_count": 101
  },
  {
   "metadata": {
    "ExecuteTime": {
     "end_time": "2024-07-01T14:18:32.631631Z",
     "start_time": "2024-07-01T14:18:32.628595Z"
    }
   },
   "cell_type": "code",
   "source": "C.__mro__",
   "id": "6ad23dbf504ee8e8",
   "outputs": [
    {
     "data": {
      "text/plain": [
       "(__main__.C, __main__.A, __main__.B, object)"
      ]
     },
     "execution_count": 102,
     "metadata": {},
     "output_type": "execute_result"
    }
   ],
   "execution_count": 102
  },
  {
   "metadata": {},
   "cell_type": "markdown",
   "source": "定制方法",
   "id": "5747567742693265"
  },
  {
   "metadata": {
    "ExecuteTime": {
     "end_time": "2024-07-02T01:13:17.921444Z",
     "start_time": "2024-07-02T01:13:17.916542Z"
    }
   },
   "cell_type": "code",
   "source": [
    "class A:\n",
    "    def method(self):\n",
    "        print('A.method')\n",
    "        super().method()\n",
    "\n",
    "\n",
    "class B(A):\n",
    "    def method(self):\n",
    "        print('B.method')\n",
    "        super().method()\n",
    "\n",
    "\n",
    "class C:\n",
    "    def method(self):\n",
    "        print('C.method')\n",
    "\n",
    "\n",
    "class D(B, C):\n",
    "    def method(self):\n",
    "        print('D.method')\n",
    "        super().method()"
   ],
   "id": "5e5847f55d961210",
   "outputs": [],
   "execution_count": 121
  },
  {
   "metadata": {
    "ExecuteTime": {
     "end_time": "2024-07-02T01:13:18.180704Z",
     "start_time": "2024-07-02T01:13:18.178427Z"
    }
   },
   "cell_type": "code",
   "source": [
    "d = D()\n",
    "d.method()"
   ],
   "id": "36bd4ac914a13d58",
   "outputs": [
    {
     "name": "stdout",
     "output_type": "stream",
     "text": [
      "D.method\n",
      "B.method\n",
      "A.method\n",
      "C.method\n"
     ]
    }
   ],
   "execution_count": 122
  },
  {
   "metadata": {
    "ExecuteTime": {
     "end_time": "2024-07-02T01:13:18.609717Z",
     "start_time": "2024-07-02T01:13:18.607140Z"
    }
   },
   "cell_type": "code",
   "source": "D.__mro__",
   "id": "60185d3bbc5a769",
   "outputs": [
    {
     "data": {
      "text/plain": [
       "(__main__.D, __main__.B, __main__.A, __main__.C, object)"
      ]
     },
     "execution_count": 123,
     "metadata": {},
     "output_type": "execute_result"
    }
   ],
   "execution_count": 123
  },
  {
   "metadata": {
    "ExecuteTime": {
     "end_time": "2024-07-02T01:13:19.267020Z",
     "start_time": "2024-07-02T01:13:19.264797Z"
    }
   },
   "cell_type": "code",
   "source": [
    "class B(A):\n",
    "    def method(self):\n",
    "        print('B.method')\n",
    "\n",
    "\n",
    "class D(B, C):\n",
    "    def method(self):\n",
    "        print('D.method')\n",
    "        super().method()"
   ],
   "id": "7884636c87bb71c4",
   "outputs": [],
   "execution_count": 124
  },
  {
   "metadata": {
    "ExecuteTime": {
     "end_time": "2024-07-02T01:13:19.754909Z",
     "start_time": "2024-07-02T01:13:19.752901Z"
    }
   },
   "cell_type": "code",
   "source": [
    "d = D()\n",
    "d.method()"
   ],
   "id": "dcdd729671abe2ed",
   "outputs": [
    {
     "name": "stdout",
     "output_type": "stream",
     "text": [
      "D.method\n",
      "B.method\n"
     ]
    }
   ],
   "execution_count": 125
  },
  {
   "metadata": {},
   "cell_type": "markdown",
   "source": [
    "耦合：mixin 类的应⽤\n",
    "\n",
    "只要⽅法名集合是不相交的，这刚好就能⼯作。每个分支的调⽤链能够独⽴地存在"
   ],
   "id": "2e76b5be865c772c"
  },
  {
   "metadata": {
    "ExecuteTime": {
     "end_time": "2024-07-02T01:21:00.727489Z",
     "start_time": "2024-07-02T01:21:00.720014Z"
    }
   },
   "cell_type": "code",
   "source": [
    "class A:\n",
    "    def other(self):\n",
    "        print('A.other')\n",
    "\n",
    "\n",
    "class Mixin(A):\n",
    "    def other(self):\n",
    "        print('Mixin.other')\n",
    "        super().other()\n",
    "\n",
    "\n",
    "class B:\n",
    "    def method(self):\n",
    "        print('B.method')\n",
    "\n",
    "\n",
    "class C(Mixin, B):\n",
    "    def method(self):\n",
    "        print('C.method')\n",
    "        super().other()\n",
    "        super().method()"
   ],
   "id": "59bc4fe69cb03e4c",
   "outputs": [],
   "execution_count": 134
  },
  {
   "metadata": {
    "ExecuteTime": {
     "end_time": "2024-07-02T01:21:01.000055Z",
     "start_time": "2024-07-02T01:21:00.998242Z"
    }
   },
   "cell_type": "code",
   "source": [
    "c = C()\n",
    "c.method()"
   ],
   "id": "18143c185cdc1e5f",
   "outputs": [
    {
     "name": "stdout",
     "output_type": "stream",
     "text": [
      "C.method\n",
      "Mixin.other\n",
      "A.other\n",
      "B.method\n"
     ]
    }
   ],
   "execution_count": 135
  },
  {
   "metadata": {
    "ExecuteTime": {
     "end_time": "2024-07-02T01:21:13.958692Z",
     "start_time": "2024-07-02T01:21:13.956222Z"
    }
   },
   "cell_type": "code",
   "source": [
    "class C(B, Mixin):\n",
    "    def method(self):\n",
    "        print('C.method')\n",
    "        super().other()\n",
    "        super().method()\n",
    "\n",
    "\n",
    "c = C()\n",
    "c.method()"
   ],
   "id": "17bdc0aa38fc77ba",
   "outputs": [
    {
     "name": "stdout",
     "output_type": "stream",
     "text": [
      "C.method\n",
      "Mixin.other\n",
      "A.other\n",
      "B.method\n"
     ]
    }
   ],
   "execution_count": 136
  },
  {
   "metadata": {
    "ExecuteTime": {
     "end_time": "2024-07-02T01:21:22.258430Z",
     "start_time": "2024-07-02T01:21:22.254929Z"
    }
   },
   "cell_type": "code",
   "source": [
    "class A:\n",
    "    def other(self):\n",
    "        print('A.other')\n",
    "\n",
    "\n",
    "class Mixin(A):\n",
    "    def other(self):\n",
    "        print('Mixin.other')\n",
    "        A.other(self)\n",
    "\n",
    "\n",
    "class B:\n",
    "    def method(self):\n",
    "        print('B.method')\n",
    "\n",
    "\n",
    "class C(Mixin, B):\n",
    "    def method(self):\n",
    "        print('C.method')\n",
    "        Mixin.other(self)\n",
    "        B.method(self)"
   ],
   "id": "8c10f5b065112861",
   "outputs": [],
   "execution_count": 137
  },
  {
   "metadata": {
    "ExecuteTime": {
     "end_time": "2024-07-02T01:21:22.850986Z",
     "start_time": "2024-07-02T01:21:22.849030Z"
    }
   },
   "cell_type": "code",
   "source": [
    "c = C()\n",
    "c.method()"
   ],
   "id": "52f324827103eef7",
   "outputs": [
    {
     "name": "stdout",
     "output_type": "stream",
     "text": [
      "C.method\n",
      "Mixin.other\n",
      "A.other\n",
      "B.method\n"
     ]
    }
   ],
   "execution_count": 138
  },
  {
   "metadata": {},
   "cell_type": "markdown",
   "source": "对于钻石模式中类似的同名方法分发顺序也许就没有那么凑巧了。例如在一个像前面的钻石模式中，一个客户类有可能让一个 super 调用的企图无效化",
   "id": "f341522d01261ece"
  },
  {
   "metadata": {
    "ExecuteTime": {
     "end_time": "2024-07-02T01:32:52.245342Z",
     "start_time": "2024-07-02T01:32:52.242863Z"
    }
   },
   "cell_type": "code",
   "source": [
    "class A:\n",
    "    def method(self):\n",
    "        print('A.method')\n",
    "\n",
    "\n",
    "class Mixin(A):\n",
    "    def method(self):\n",
    "        print('Mixin.method')\n",
    "        super().method()\n",
    "\n",
    "\n",
    "class B(A):\n",
    "    def method(self):\n",
    "        print('B.method')\n",
    "\n",
    "\n",
    "class C(Mixin, B):\n",
    "    def method(self):\n",
    "        print('C.method')\n",
    "        super().method()"
   ],
   "id": "de28c989f5b89ed0",
   "outputs": [],
   "execution_count": 152
  },
  {
   "metadata": {
    "ExecuteTime": {
     "end_time": "2024-07-02T01:33:33.651382Z",
     "start_time": "2024-07-02T01:33:25.528761Z"
    }
   },
   "cell_type": "code",
   "source": "Mixin().method()",
   "id": "5970843893d137eb",
   "outputs": [
    {
     "name": "stdout",
     "output_type": "stream",
     "text": [
      "Mixin.method\n",
      "A.method\n"
     ]
    }
   ],
   "execution_count": 159
  },
  {
   "metadata": {
    "ExecuteTime": {
     "end_time": "2024-07-02T01:32:53.440776Z",
     "start_time": "2024-07-02T01:32:53.438752Z"
    }
   },
   "cell_type": "code",
   "source": "C().method()  # ⽆法使⽤ A.method",
   "id": "d52be5d2b4e37fe6",
   "outputs": [
    {
     "name": "stdout",
     "output_type": "stream",
     "text": [
      "C.method\n",
      "Mixin.method\n",
      "B.method\n"
     ]
    }
   ],
   "execution_count": 154
  },
  {
   "metadata": {
    "ExecuteTime": {
     "end_time": "2024-07-02T01:33:22.240596Z",
     "start_time": "2024-07-02T01:33:22.235953Z"
    }
   },
   "cell_type": "code",
   "source": "C.__mro__",
   "id": "afb4677b4be42915",
   "outputs": [
    {
     "data": {
      "text/plain": [
       "(__main__.C, __main__.Mixin, __main__.B, __main__.A, object)"
      ]
     },
     "execution_count": 158,
     "metadata": {},
     "output_type": "execute_result"
    }
   ],
   "execution_count": 158
  },
  {
   "metadata": {},
   "cell_type": "markdown",
   "source": [
    "\n",
    "类 A 定义了一个 method。\n",
    "类 Mixin 也定义了一个 method 并且在其内部调用了 super().method()，这会进一步调用 A.method。\n",
    "类 B 同样定义了自己的 method。\n",
    "类 C 继承自 Mixin 和 B，并且重写了 method，在其中调用了 super().method()。\n",
    "关键在于理解 super().method() 的调用链：\n",
    "当你执行 C().method() 时，首先打印出 \"C.method\"。\n",
    "接着，C 的 method 内部调用 super().method()。由于 C 的 MRO 是 [C, Mixin, B, A, object]，super() 会找到 Mixin 类中的 method。\n",
    "Mixin 的 method 打印出 \"Mixin.method\"，然后它内部的 super().method() 调用会继续沿着 MRO 到达 B 类的 method，因为 B 在 A 之前。\n",
    "B 的 method 打印出 \"B.method\"，但请注意，B 的 method 并没有再次调用 super().method()，所以调用链在此停止，并不会自动继续到 A.method。"
   ],
   "id": "fd22835649bed453"
  },
  {
   "metadata": {
    "ExecuteTime": {
     "end_time": "2024-07-02T01:32:37.421247Z",
     "start_time": "2024-07-02T01:32:37.418213Z"
    }
   },
   "cell_type": "code",
   "source": [
    "class A:\n",
    "    def method(self):\n",
    "        print('A.method')\n",
    "\n",
    "\n",
    "class Mixin(A):\n",
    "    def method(self):\n",
    "        print('Mixin.method')\n",
    "        A.method(self)\n",
    "\n",
    "\n",
    "class B(A):\n",
    "    def method(self):\n",
    "        print('B.method')\n",
    "\n",
    "\n",
    "class C(Mixin, B):\n",
    "    def method(self):\n",
    "        print('C.method')\n",
    "        super().method()\n",
    "\n",
    "\n",
    "C().method()"
   ],
   "id": "d328be7c9106cd07",
   "outputs": [
    {
     "name": "stdout",
     "output_type": "stream",
     "text": [
      "C.method\n",
      "Mixin.method\n",
      "A.method\n"
     ]
    }
   ],
   "execution_count": 151
  },
  {
   "metadata": {},
   "cell_type": "markdown",
   "source": "因为 MRO可以随着类树变化，super 在不同的类树中会调⽤同⼀⽅法的不同版本—有些甚⾄可能在你 编写⼀个类的时候都不会预料到：",
   "id": "5778e1e006b356a3"
  },
  {
   "metadata": {
    "ExecuteTime": {
     "end_time": "2024-07-02T01:52:16.814740Z",
     "start_time": "2024-07-02T01:52:16.809729Z"
    }
   },
   "cell_type": "code",
   "source": [
    "class Employee:\n",
    "    def __init__(self, name, salary):\n",
    "        self.name = name\n",
    "        self.salary = salary\n",
    "\n",
    "\n",
    "class Chef(Employee):\n",
    "    def __init__(self, name):\n",
    "        Employee.__init__(self, name, 30000)\n",
    "\n",
    "\n",
    "class Server(Employee):\n",
    "    def __init__(self, name):\n",
    "        Employee.__init__(self, name, 20000)"
   ],
   "id": "9c37b8b2eb49a758",
   "outputs": [],
   "execution_count": 160
  },
  {
   "metadata": {
    "ExecuteTime": {
     "end_time": "2024-07-02T01:52:35.585631Z",
     "start_time": "2024-07-02T01:52:35.582788Z"
    }
   },
   "cell_type": "code",
   "source": [
    "sue, bob = Server('Sue Jones'), Chef('Bob Smith')\n",
    "sue.salary, bob.salary"
   ],
   "id": "930a1df2b42d46d2",
   "outputs": [
    {
     "data": {
      "text/plain": [
       "(20000, 30000)"
      ]
     },
     "execution_count": 161,
     "metadata": {},
     "output_type": "execute_result"
    }
   ],
   "execution_count": 161
  },
  {
   "metadata": {
    "ExecuteTime": {
     "end_time": "2024-07-02T01:56:43.644897Z",
     "start_time": "2024-07-02T01:56:43.641581Z"
    }
   },
   "cell_type": "code",
   "source": "class Twojobs(Server, Chef): pass",
   "id": "678e74f1d0b47465",
   "outputs": [],
   "execution_count": 175
  },
  {
   "metadata": {
    "ExecuteTime": {
     "end_time": "2024-07-02T01:56:59.919302Z",
     "start_time": "2024-07-02T01:56:59.917241Z"
    }
   },
   "cell_type": "code",
   "source": [
    "tom = Twojobs('Tom')\n",
    "tom.salary"
   ],
   "id": "e36968135ce4e40",
   "outputs": [
    {
     "data": {
      "text/plain": [
       "20000"
      ]
     },
     "execution_count": 178,
     "metadata": {},
     "output_type": "execute_result"
    }
   ],
   "execution_count": 178
  },
  {
   "metadata": {
    "ExecuteTime": {
     "end_time": "2024-07-02T01:56:44.347649Z",
     "start_time": "2024-07-02T01:56:44.345366Z"
    }
   },
   "cell_type": "code",
   "source": "Twojobs.__mro__",
   "id": "8ada52106881fba",
   "outputs": [
    {
     "data": {
      "text/plain": [
       "(__main__.Twojobs, __main__.Server, __main__.Chef, __main__.Employee, object)"
      ]
     },
     "execution_count": 177,
     "metadata": {},
     "output_type": "execute_result"
    }
   ],
   "execution_count": 177
  },
  {
   "metadata": {},
   "cell_type": "markdown",
   "source": "super()调用",
   "id": "2749aa49d92b8777"
  },
  {
   "metadata": {
    "ExecuteTime": {
     "end_time": "2024-07-02T01:57:46.494791Z",
     "start_time": "2024-07-02T01:57:46.492567Z"
    }
   },
   "cell_type": "code",
   "source": [
    "class Chef2(Employee):\n",
    "    def __init__(self, name):\n",
    "        super().__init__(name, 30000)\n",
    "\n",
    "\n",
    "class Server2(Employee):\n",
    "    def __init__(self, name):\n",
    "        super().__init__(name, 20000)"
   ],
   "id": "898b95af429cb583",
   "outputs": [],
   "execution_count": 180
  },
  {
   "metadata": {
    "ExecuteTime": {
     "end_time": "2024-07-02T01:57:46.745060Z",
     "start_time": "2024-07-02T01:57:46.742134Z"
    }
   },
   "cell_type": "code",
   "source": [
    "sue, bob = Server2('Sue Jones'), Chef2('Bob Smith')\n",
    "sue.salary, bob.salary"
   ],
   "id": "8c3fc6cd19e1721c",
   "outputs": [
    {
     "data": {
      "text/plain": [
       "(20000, 30000)"
      ]
     },
     "execution_count": 181,
     "metadata": {},
     "output_type": "execute_result"
    }
   ],
   "execution_count": 181
  },
  {
   "metadata": {
    "ExecuteTime": {
     "end_time": "2024-07-02T01:57:59.812205Z",
     "start_time": "2024-07-02T01:57:59.810260Z"
    }
   },
   "cell_type": "code",
   "source": "class Twojobs2(Server2, Chef2): pass",
   "id": "dc0a8758c451fe1c",
   "outputs": [],
   "execution_count": 182
  },
  {
   "metadata": {
    "ExecuteTime": {
     "end_time": "2024-07-02T01:58:02.931836Z",
     "start_time": "2024-07-02T01:58:02.913968Z"
    }
   },
   "cell_type": "code",
   "source": [
    "tom = Twojobs2('Tom')\n",
    "tom.salary"
   ],
   "id": "5bdbe6e3037ffb72",
   "outputs": [
    {
     "ename": "TypeError",
     "evalue": "Chef2.__init__() takes 2 positional arguments but 3 were given",
     "output_type": "error",
     "traceback": [
      "\u001B[0;31m---------------------------------------------------------------------------\u001B[0m",
      "\u001B[0;31mTypeError\u001B[0m                                 Traceback (most recent call last)",
      "Cell \u001B[0;32mIn[184], line 1\u001B[0m\n\u001B[0;32m----> 1\u001B[0m tom \u001B[38;5;241m=\u001B[39m Twojobs2(\u001B[38;5;124m'\u001B[39m\u001B[38;5;124mTom\u001B[39m\u001B[38;5;124m'\u001B[39m) \n\u001B[1;32m      2\u001B[0m tom\u001B[38;5;241m.\u001B[39msalary\n",
      "Cell \u001B[0;32mIn[180], line 6\u001B[0m, in \u001B[0;36mServer2.__init__\u001B[0;34m(self, name)\u001B[0m\n\u001B[1;32m      5\u001B[0m \u001B[38;5;28;01mdef\u001B[39;00m \u001B[38;5;21m__init__\u001B[39m(\u001B[38;5;28mself\u001B[39m, name):\n\u001B[0;32m----> 6\u001B[0m     \u001B[38;5;28msuper\u001B[39m()\u001B[38;5;241m.\u001B[39m\u001B[38;5;21m__init__\u001B[39m(name, \u001B[38;5;241m20000\u001B[39m)\n",
      "\u001B[0;31mTypeError\u001B[0m: Chef2.__init__() takes 2 positional arguments but 3 were given"
     ]
    }
   ],
   "execution_count": 184
  },
  {
   "metadata": {
    "ExecuteTime": {
     "end_time": "2024-07-02T01:58:10.321619Z",
     "start_time": "2024-07-02T01:58:10.318999Z"
    }
   },
   "cell_type": "code",
   "source": "Twojobs2.__mro__",
   "id": "94d1aae45af720a6",
   "outputs": [
    {
     "data": {
      "text/plain": [
       "(__main__.Twojobs2,\n",
       " __main__.Server2,\n",
       " __main__.Chef2,\n",
       " __main__.Employee,\n",
       " object)"
      ]
     },
     "execution_count": 185,
     "metadata": {},
     "output_type": "execute_result"
    }
   ],
   "execution_count": 185
  },
  {
   "metadata": {},
   "cell_type": "markdown",
   "source": "首先调用父类的__init__()方法，找到 Server2类的__init()__方法，在其中的 super()调用找到 Chef2类的__init__()方法，传入参数为 Chef2(self, name, 20000) 与参数列表不符",
   "id": "7ea89b45be45ac29"
  },
  {
   "metadata": {},
   "cell_type": "markdown",
   "source": [
    "## 类陷阱\n",
    "因为所有从类产⽣的实例都共享这个类的命名空间，所以 任何在类层次所做的修改都会反映在所有实例中，除⾮实例拥有⾃⼰的修改过的类属性版本。"
   ],
   "id": "74c654863be3ac35"
  },
  {
   "metadata": {
    "ExecuteTime": {
     "end_time": "2024-07-02T02:06:00.293336Z",
     "start_time": "2024-07-02T02:06:00.291615Z"
    }
   },
   "cell_type": "code",
   "source": "class X: a = 1",
   "id": "28e969973a51b719",
   "outputs": [],
   "execution_count": 187
  },
  {
   "metadata": {
    "ExecuteTime": {
     "end_time": "2024-07-02T02:06:09.466876Z",
     "start_time": "2024-07-02T02:06:09.462302Z"
    }
   },
   "cell_type": "code",
   "source": [
    "A = X()\n",
    "A.a"
   ],
   "id": "53145352a6ba8d69",
   "outputs": [
    {
     "data": {
      "text/plain": [
       "1"
      ]
     },
     "execution_count": 188,
     "metadata": {},
     "output_type": "execute_result"
    }
   ],
   "execution_count": 188
  },
  {
   "metadata": {
    "ExecuteTime": {
     "end_time": "2024-07-02T02:06:15.160870Z",
     "start_time": "2024-07-02T02:06:15.159118Z"
    }
   },
   "cell_type": "code",
   "source": "X.a = 3",
   "id": "49ad22d1ea897146",
   "outputs": [],
   "execution_count": 189
  },
  {
   "metadata": {
    "ExecuteTime": {
     "end_time": "2024-07-02T02:06:17.216284Z",
     "start_time": "2024-07-02T02:06:17.213879Z"
    }
   },
   "cell_type": "code",
   "source": "A.a",
   "id": "8e553337116385d9",
   "outputs": [
    {
     "data": {
      "text/plain": [
       "3"
      ]
     },
     "execution_count": 190,
     "metadata": {},
     "output_type": "execute_result"
    }
   ],
   "execution_count": 190
  },
  {
   "metadata": {
    "ExecuteTime": {
     "end_time": "2024-07-02T02:07:23.786610Z",
     "start_time": "2024-07-02T02:07:23.782913Z"
    }
   },
   "cell_type": "code",
   "source": "A.a = 5",
   "id": "3ed12520ed946e2e",
   "outputs": [],
   "execution_count": 191
  },
  {
   "metadata": {
    "ExecuteTime": {
     "end_time": "2024-07-02T02:07:25.553936Z",
     "start_time": "2024-07-02T02:07:25.551322Z"
    }
   },
   "cell_type": "code",
   "source": "X.a",
   "id": "54b3577ecb834c62",
   "outputs": [
    {
     "data": {
      "text/plain": [
       "3"
      ]
     },
     "execution_count": 192,
     "metadata": {},
     "output_type": "execute_result"
    }
   ],
   "execution_count": 192
  },
  {
   "metadata": {
    "ExecuteTime": {
     "end_time": "2024-07-02T02:07:30.819124Z",
     "start_time": "2024-07-02T02:07:30.816453Z"
    }
   },
   "cell_type": "code",
   "source": "A.a",
   "id": "b6fec99a1768ecce",
   "outputs": [
    {
     "data": {
      "text/plain": [
       "5"
      ]
     },
     "execution_count": 193,
     "metadata": {},
     "output_type": "execute_result"
    }
   ],
   "execution_count": 193
  },
  {
   "metadata": {},
   "cell_type": "markdown",
   "source": [
    "修改可变类属性也可能产⽣副作⽤\n",
    "由于类属性被所有实例共享，因此如果引⽤⼀个可变对象，那么从任何实例在原位置修改该对象都会⽴刻影响到所有实例"
   ],
   "id": "c150e857fc83581d"
  },
  {
   "metadata": {
    "ExecuteTime": {
     "end_time": "2024-07-02T02:11:35.971785Z",
     "start_time": "2024-07-02T02:11:35.967702Z"
    }
   },
   "cell_type": "code",
   "source": [
    "class C:\n",
    "    shared = []\n",
    "\n",
    "    def __init__(self):\n",
    "        self.private = []"
   ],
   "id": "3fbcc83e66814a2f",
   "outputs": [],
   "execution_count": 201
  },
  {
   "metadata": {
    "ExecuteTime": {
     "end_time": "2024-07-02T02:11:36.152545Z",
     "start_time": "2024-07-02T02:11:36.150486Z"
    }
   },
   "cell_type": "code",
   "source": "x, y = C(), C()",
   "id": "4d796c721b2f7dc8",
   "outputs": [],
   "execution_count": 202
  },
  {
   "metadata": {
    "ExecuteTime": {
     "end_time": "2024-07-02T02:11:36.480442Z",
     "start_time": "2024-07-02T02:11:36.477843Z"
    }
   },
   "cell_type": "code",
   "source": "x.shared, y.shared, C.shared",
   "id": "812a1b0efb8985f9",
   "outputs": [
    {
     "data": {
      "text/plain": [
       "([], [], [])"
      ]
     },
     "execution_count": 203,
     "metadata": {},
     "output_type": "execute_result"
    }
   ],
   "execution_count": 203
  },
  {
   "metadata": {
    "ExecuteTime": {
     "end_time": "2024-07-02T02:11:36.778037Z",
     "start_time": "2024-07-02T02:11:36.776171Z"
    }
   },
   "cell_type": "code",
   "source": "x.shared.append(1)",
   "id": "3fdd4b05c06ab1",
   "outputs": [],
   "execution_count": 204
  },
  {
   "metadata": {
    "ExecuteTime": {
     "end_time": "2024-07-02T02:11:37.042746Z",
     "start_time": "2024-07-02T02:11:37.040231Z"
    }
   },
   "cell_type": "code",
   "source": "x.shared, y.shared, C.shared",
   "id": "35b0f1e0ad2ac1f",
   "outputs": [
    {
     "data": {
      "text/plain": [
       "([1], [1], [1])"
      ]
     },
     "execution_count": 205,
     "metadata": {},
     "output_type": "execute_result"
    }
   ],
   "execution_count": 205
  },
  {
   "metadata": {
    "ExecuteTime": {
     "end_time": "2024-07-02T02:11:37.365601Z",
     "start_time": "2024-07-02T02:11:37.363031Z"
    }
   },
   "cell_type": "code",
   "source": [
    "x.private.append(2)\n",
    "x.private, y.private"
   ],
   "id": "b60f6482b3c3e6e7",
   "outputs": [
    {
     "data": {
      "text/plain": [
       "([2], [])"
      ]
     },
     "execution_count": 206,
     "metadata": {},
     "output_type": "execute_result"
    }
   ],
   "execution_count": 206
  },
  {
   "metadata": {
    "ExecuteTime": {
     "end_time": "2024-07-02T02:16:54.378244Z",
     "start_time": "2024-07-02T02:16:54.373746Z"
    }
   },
   "cell_type": "code",
   "source": "x.shared, y.shared, C.shared\n",
   "id": "763c3686e20f3ba7",
   "outputs": [
    {
     "data": {
      "text/plain": [
       "([1], [1], [1])"
      ]
     },
     "execution_count": 208,
     "metadata": {},
     "output_type": "execute_result"
    }
   ],
   "execution_count": 208
  },
  {
   "metadata": {},
   "cell_type": "markdown",
   "source": "根据方法解析顺序（Method Resolution Order, MRO）来决定调用哪个父类的方法",
   "id": "dc5b29a0bf633204"
  },
  {
   "metadata": {
    "ExecuteTime": {
     "end_time": "2024-07-02T02:31:20.021049Z",
     "start_time": "2024-07-02T02:31:20.018465Z"
    }
   },
   "cell_type": "code",
   "source": [
    "class A:\n",
    "    def __str__(self): ...\n",
    "\n",
    "    def other(self): ...\n",
    "\n",
    "\n",
    "class B:\n",
    "    def __str__(self): ...\n",
    "\n",
    "    def other(self): ...\n",
    "\n",
    "\n",
    "class C(A, B): ...\n",
    "\n",
    "\n",
    "# 此时C继承的属性都为A\n",
    "class D(B, A): ...\n",
    "\n",
    "\n",
    "# 此时 D 继承的属性都为 B\n",
    "class E(A, B): __str__ = B.__str__\n",
    "\n",
    "# 指定继承父类 B 中的 str 方法"
   ],
   "id": "2f5e931dd50e35a6",
   "outputs": [],
   "execution_count": 244
  },
  {
   "metadata": {
    "ExecuteTime": {
     "end_time": "2024-07-02T02:32:53.493299Z",
     "start_time": "2024-07-02T02:32:53.487774Z"
    }
   },
   "cell_type": "code",
   "source": [
    "# 获取 other 方法定义所在的类名\n",
    "def get_method_class_name(instance, method_name):\n",
    "    for cls in instance.__class__.mro():\n",
    "        if method_name in cls.__dict__:\n",
    "            return cls.__name__\n",
    "    return None\n",
    "\n",
    "\n",
    "c = C()\n",
    "print(get_method_class_name(c, '__str__'))\n",
    "d = D()\n",
    "print(get_method_class_name(d, '__str__'))\n",
    "e = E()\n",
    "print(get_method_class_name(e, '__str__'))"
   ],
   "id": "5126c87ed675a799",
   "outputs": [
    {
     "name": "stdout",
     "output_type": "stream",
     "text": [
      "A\n",
      "B\n",
      "E\n"
     ]
    }
   ],
   "execution_count": 246
  },
  {
   "metadata": {
    "ExecuteTime": {
     "end_time": "2024-07-02T02:33:19.256747Z",
     "start_time": "2024-07-02T02:33:19.253744Z"
    }
   },
   "cell_type": "code",
   "source": "C.__mro__",
   "id": "87e0b530fea8058",
   "outputs": [
    {
     "data": {
      "text/plain": [
       "(__main__.C, __main__.A, __main__.B, object)"
      ]
     },
     "execution_count": 250,
     "metadata": {},
     "output_type": "execute_result"
    }
   ],
   "execution_count": 250
  },
  {
   "metadata": {
    "ExecuteTime": {
     "end_time": "2024-07-02T02:33:19.454205Z",
     "start_time": "2024-07-02T02:33:19.452223Z"
    }
   },
   "cell_type": "code",
   "source": "C.mro()",
   "id": "7ce45fa55a117ed9",
   "outputs": [
    {
     "data": {
      "text/plain": [
       "[__main__.C, __main__.A, __main__.B, object]"
      ]
     },
     "execution_count": 251,
     "metadata": {},
     "output_type": "execute_result"
    }
   ],
   "execution_count": 251
  },
  {
   "metadata": {},
   "cell_type": "markdown",
   "source": "# 练习",
   "id": "c8cf8960ec9d609a"
  },
  {
   "metadata": {
    "ExecuteTime": {
     "end_time": "2024-07-02T03:30:36.802208Z",
     "start_time": "2024-07-02T03:30:36.797006Z"
    }
   },
   "cell_type": "code",
   "source": [
    "lst1 = [1, 2, 3]\n",
    "lst2 = [4, 5, 6]\n",
    "lst1 + lst2"
   ],
   "id": "c7d94ef1a4287b01",
   "outputs": [
    {
     "data": {
      "text/plain": [
       "[1, 2, 3, 4, 5, 6]"
      ]
     },
     "execution_count": 258,
     "metadata": {},
     "output_type": "execute_result"
    }
   ],
   "execution_count": 258
  },
  {
   "metadata": {
    "ExecuteTime": {
     "end_time": "2024-07-02T03:33:42.284254Z",
     "start_time": "2024-07-02T03:33:42.279964Z"
    }
   },
   "cell_type": "code",
   "source": [
    "dic1 = {'a': 1, 'b': 2}\n",
    "dic2 = {'a': 3, 'd': 4}\n",
    "dic1.update(dic2)\n",
    "dic1"
   ],
   "id": "6d792d46583c15fb",
   "outputs": [
    {
     "data": {
      "text/plain": [
       "{'a': 3, 'b': 2, 'd': 4}"
      ]
     },
     "execution_count": 263,
     "metadata": {},
     "output_type": "execute_result"
    }
   ],
   "execution_count": 263
  },
  {
   "metadata": {
    "ExecuteTime": {
     "end_time": "2024-07-02T07:30:58.900749Z",
     "start_time": "2024-07-02T07:30:58.890789Z"
    }
   },
   "cell_type": "code",
   "source": [
    "class Adder:\n",
    "    def __init__(self, data):\n",
    "        self.data = data\n",
    "        \n",
    "    def __add__(self, other):\n",
    "        self.add(self.data, other)\n",
    "        \n",
    "    def add(self, obj1, obj2):\n",
    "        print('Not implemented')\n",
    "\n",
    "class ListAdder(Adder):\n",
    "    def add(self, lst1, lst2):\n",
    "        return lst1 + lst2\n",
    "\n",
    "class DictAdder(Adder):\n",
    "    def add(self, dct1, dct2):\n",
    "        return dct1.update(dct2)\n",
    "    \n",
    "d = DictAdder([1,2,[3]])\n",
    "d.copy()"
   ],
   "id": "3035eb979e6359d3",
   "outputs": [
    {
     "ename": "AttributeError",
     "evalue": "'DictAdder' object has no attribute 'copy'",
     "output_type": "error",
     "traceback": [
      "\u001B[0;31m---------------------------------------------------------------------------\u001B[0m",
      "\u001B[0;31mAttributeError\u001B[0m                            Traceback (most recent call last)",
      "Cell \u001B[0;32mIn[271], line 20\u001B[0m\n\u001B[1;32m     17\u001B[0m         \u001B[38;5;28;01mreturn\u001B[39;00m dct1\u001B[38;5;241m.\u001B[39mupdate(dct2)\n\u001B[1;32m     19\u001B[0m d \u001B[38;5;241m=\u001B[39m DictAdder([\u001B[38;5;241m1\u001B[39m,\u001B[38;5;241m2\u001B[39m,[\u001B[38;5;241m3\u001B[39m]])\n\u001B[0;32m---> 20\u001B[0m d\u001B[38;5;241m.\u001B[39mcopy()\n",
      "\u001B[0;31mAttributeError\u001B[0m: 'DictAdder' object has no attribute 'copy'"
     ]
    }
   ],
   "execution_count": 271
  },
  {
   "metadata": {
    "ExecuteTime": {
     "end_time": "2024-07-02T07:46:25.898052Z",
     "start_time": "2024-07-02T07:46:25.888235Z"
    }
   },
   "cell_type": "code",
   "source": [
    "class MyList:\n",
    "    def __init__(self, iterable=None):\n",
    "        \"\"\"构造函数，接受一个可迭代对象（如列表、元组等）或另一个 MyList 实例，将其内容复制到新实例中\"\"\"\n",
    "        if iterable is None:\n",
    "            self._data = []\n",
    "        elif isinstance(iterable, list):\n",
    "            # self._data = iterable.copy()\n",
    "            self._data = iterable[:]\n",
    "        elif isinstance(iterable, MyList):\n",
    "            self._data = iterable._data[:]\n",
    "        else:\n",
    "            try:\n",
    "                self._data = list(iterable)\n",
    "            except TypeError as e:\n",
    "                raise ValueError(\"Iterable must be a list-like object\") from e \n",
    "\n",
    "    def __getattr__(self, name):\n",
    "        # 如果 MyList 类没有定义 name 这个属性或方法，则尝试从内部列表 _data 获取\n",
    "        print('__getattr__')\n",
    "        if hasattr(self._data, name):\n",
    "            return getattr(self._data, name)\n",
    "        else:\n",
    "            raise AttributeError(f\"'MyList' object has no attribute '{name}'\")\n",
    "    def __setattr__(self, name, value):\n",
    "        # 设置属性时，区分是否设置 _data 这个内部属性，避免无限递归\n",
    "        print('__setattr__')\n",
    "        if name == '_data':\n",
    "            super().__setattr__(name, value)\n",
    "            # object.__setattr__(self, name, value)\n",
    "        else:\n",
    "            # 尝试设置内部列表 _data 的属性或方法\n",
    "            setattr(self._data, name, value)\n",
    "\n",
    "    def __add__(self, other):\n",
    "        \"\"\"重载 '+' 运算符，用于合并两个列表\"\"\"\n",
    "        if not isinstance(other, (list, MyList)):\n",
    "            raise TypeError(\"Can only concatenate list (not \\\"{}\\\") to list\".format(type(other).__name__))\n",
    "        return MyList(self._data + list(other))\n",
    "\n",
    "    def __getitem__(self, index):\n",
    "        \"\"\"重载索引操作，支持正索引、负索引和切片\"\"\"\n",
    "        return self._data[index]\n",
    "\n",
    "    def __setitem__(self, index, value):\n",
    "        \"\"\"重载索引赋值操作\"\"\"\n",
    "        self._data[index] = value\n",
    "\n",
    "    def __delitem__(self, index):\n",
    "        \"\"\"重载删除操作\"\"\"\n",
    "        del self._data[index]\n",
    "\n",
    "    def __iter__(self):\n",
    "        \"\"\"使类可迭代\"\"\"\n",
    "        return iter(self._data)\n",
    "\n",
    "    def __len__(self):\n",
    "        \"\"\"重载 len() 函数\"\"\"\n",
    "        return len(self._data)\n",
    "\n",
    "    def append(self, item):\n",
    "        \"\"\"重载列表的 append 方法\"\"\"\n",
    "        self._data.append(item)\n",
    "\n",
    "    def sort(self, *, key=None, reverse=False):\n",
    "        \"\"\"重载列表的 sort 方法\"\"\"\n",
    "        self._data.sort(key=key, reverse=reverse)\n",
    "\n",
    "    def __str__(self):\n",
    "        return str(self._data)\n",
    "    \n",
    "    # 为了完整性和更好的交互性，还可以考虑重载其他魔法方法，如 __repr__, __str__, __contains__, __eq__, __iadd__, 等。"
   ],
   "id": "8242ea11e68d8c3c",
   "outputs": [],
   "execution_count": 308
  },
  {
   "metadata": {
    "ExecuteTime": {
     "end_time": "2024-07-02T07:46:26.277239Z",
     "start_time": "2024-07-02T07:46:26.275278Z"
    }
   },
   "cell_type": "code",
   "source": [
    "# 测试 MyList 类\n",
    "# 创建 MyList 实例\n",
    "my_list1 = MyList([1, 2, 3])\n",
    "my_list2 = MyList([4, 5, 6])\n",
    "\n",
    "# 测试运算符重载\n",
    "combined = my_list1 + my_list2\n",
    "print(combined)  # 应该输出 MyList 实例，内容为 [1, 2, 3, 4, 5, 6]"
   ],
   "id": "cfe500b47309669",
   "outputs": [
    {
     "name": "stdout",
     "output_type": "stream",
     "text": [
      "__setattr__\n",
      "__setattr__\n",
      "__setattr__\n",
      "[1, 2, 3, 4, 5, 6]\n"
     ]
    }
   ],
   "execution_count": 309
  },
  {
   "metadata": {
    "ExecuteTime": {
     "end_time": "2024-07-02T07:46:26.872282Z",
     "start_time": "2024-07-02T07:46:26.855160Z"
    }
   },
   "cell_type": "code",
   "source": [
    "my_list3 = MyList(my_list1)\n",
    "print(my_list3)\n",
    "print(my_list3._data)\n",
    "my_list3.age"
   ],
   "id": "7d8280cde9dc6194",
   "outputs": [
    {
     "name": "stdout",
     "output_type": "stream",
     "text": [
      "__setattr__\n",
      "[1, 2, 3]\n",
      "[1, 2, 3]\n",
      "__getattr__\n"
     ]
    },
    {
     "ename": "AttributeError",
     "evalue": "'MyList' object has no attribute 'age'",
     "output_type": "error",
     "traceback": [
      "\u001B[0;31m---------------------------------------------------------------------------\u001B[0m",
      "\u001B[0;31mAttributeError\u001B[0m                            Traceback (most recent call last)",
      "Cell \u001B[0;32mIn[310], line 4\u001B[0m\n\u001B[1;32m      2\u001B[0m \u001B[38;5;28mprint\u001B[39m(my_list3)\n\u001B[1;32m      3\u001B[0m \u001B[38;5;28mprint\u001B[39m(my_list3\u001B[38;5;241m.\u001B[39m_data)\n\u001B[0;32m----> 4\u001B[0m my_list3\u001B[38;5;241m.\u001B[39mage\n",
      "Cell \u001B[0;32mIn[308], line 23\u001B[0m, in \u001B[0;36mMyList.__getattr__\u001B[0;34m(self, name)\u001B[0m\n\u001B[1;32m     21\u001B[0m     \u001B[38;5;28;01mreturn\u001B[39;00m \u001B[38;5;28mgetattr\u001B[39m(\u001B[38;5;28mself\u001B[39m\u001B[38;5;241m.\u001B[39m_data, name)\n\u001B[1;32m     22\u001B[0m \u001B[38;5;28;01melse\u001B[39;00m:\n\u001B[0;32m---> 23\u001B[0m     \u001B[38;5;28;01mraise\u001B[39;00m \u001B[38;5;167;01mAttributeError\u001B[39;00m(\u001B[38;5;124mf\u001B[39m\u001B[38;5;124m\"\u001B[39m\u001B[38;5;124m'\u001B[39m\u001B[38;5;124mMyList\u001B[39m\u001B[38;5;124m'\u001B[39m\u001B[38;5;124m object has no attribute \u001B[39m\u001B[38;5;124m'\u001B[39m\u001B[38;5;132;01m{\u001B[39;00mname\u001B[38;5;132;01m}\u001B[39;00m\u001B[38;5;124m'\u001B[39m\u001B[38;5;124m\"\u001B[39m)\n",
      "\u001B[0;31mAttributeError\u001B[0m: 'MyList' object has no attribute 'age'"
     ]
    }
   ],
   "execution_count": 310
  },
  {
   "metadata": {
    "ExecuteTime": {
     "end_time": "2024-07-02T07:40:20.641670Z",
     "start_time": "2024-07-02T07:40:20.636038Z"
    }
   },
   "cell_type": "code",
   "source": [
    "# 测试索引和分片\n",
    "print(my_list1[0])  # 输出 1\n",
    "print(my_list1[-1])  # 输出 3\n",
    "print(my_list1[1:3])  # 输出 MyList 实例，内容为 [2, 3]\n",
    "\n",
    "# 测试迭代\n",
    "for item in my_list1:\n",
    "    print(item)\n",
    "\n",
    "# 测试方法\n",
    "my_list1.append(7)\n",
    "print(my_list1)  # 应该输出 MyList 实例，内容为 [1, 2, 3, 7]\n",
    "my_list1.sort(reverse=True)\n",
    "print(my_list1)  # 应该输出 MyList 实例，内容为 [7, 3, 2, 1]\n"
   ],
   "id": "d0b2114961bcfdab",
   "outputs": [
    {
     "name": "stdout",
     "output_type": "stream",
     "text": [
      "1\n",
      "3\n",
      "[2, 3]\n",
      "1\n",
      "2\n",
      "3\n",
      "[1, 2, 3, 7]\n",
      "[7, 3, 2, 1]\n"
     ]
    }
   ],
   "execution_count": 295
  },
  {
   "metadata": {},
   "cell_type": "code",
   "outputs": [],
   "execution_count": null,
   "source": "",
   "id": "5196d2300224e9e4"
  }
 ],
 "metadata": {
  "kernelspec": {
   "display_name": "Python 3",
   "language": "python",
   "name": "python3"
  },
  "language_info": {
   "codemirror_mode": {
    "name": "ipython",
    "version": 2
   },
   "file_extension": ".py",
   "mimetype": "text/x-python",
   "name": "python",
   "nbconvert_exporter": "python",
   "pygments_lexer": "ipython2",
   "version": "2.7.6"
  }
 },
 "nbformat": 4,
 "nbformat_minor": 5
}
