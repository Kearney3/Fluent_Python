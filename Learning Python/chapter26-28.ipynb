{
 "cells": [
  {
   "metadata": {},
   "cell_type": "markdown",
   "source": "class",
   "id": "d066f60ef0f3f15b"
  },
  {
   "cell_type": "code",
   "id": "initial_id",
   "metadata": {
    "collapsed": true,
    "ExecuteTime": {
     "end_time": "2024-07-08T02:24:02.579638Z",
     "start_time": "2024-07-08T02:24:02.575677Z"
    }
   },
   "source": [
    "class Firstclass:\n",
    "    def set_name(self, name):\n",
    "        self.name = name\n",
    "        \n",
    "    def display(self):\n",
    "        print(self.name)"
   ],
   "execution_count": 1,
   "outputs": []
  },
  {
   "metadata": {
    "ExecuteTime": {
     "end_time": "2024-07-08T02:24:02.593379Z",
     "start_time": "2024-07-08T02:24:02.591437Z"
    }
   },
   "cell_type": "code",
   "source": "myclass = Firstclass()",
   "id": "2056529bd470d751",
   "execution_count": 2,
   "outputs": []
  },
  {
   "metadata": {
    "ExecuteTime": {
     "end_time": "2024-07-08T02:24:02.805575Z",
     "start_time": "2024-07-08T02:24:02.612641Z"
    }
   },
   "cell_type": "code",
   "source": "myclass.name",
   "id": "505f0934c6406dc8",
   "execution_count": 3,
   "outputs": []
  },
  {
   "metadata": {},
   "cell_type": "code",
   "source": "myclass.set_name('bob')",
   "id": "e93f3aac9247520f",
   "execution_count": null,
   "outputs": []
  },
  {
   "metadata": {},
   "cell_type": "code",
   "source": "myclass.name",
   "id": "f328456cac40ff1e",
   "execution_count": null,
   "outputs": []
  },
  {
   "metadata": {},
   "cell_type": "code",
   "source": [
    "x = Firstclass()\n",
    "y = Firstclass()"
   ],
   "id": "fe3250a1d3a085ea",
   "execution_count": null,
   "outputs": []
  },
  {
   "metadata": {},
   "cell_type": "code",
   "source": "x is y ",
   "id": "da1e3510d31917f7",
   "execution_count": null,
   "outputs": []
  },
  {
   "metadata": {},
   "cell_type": "code",
   "source": [
    "x.set_name('tom')\n",
    "x.display()"
   ],
   "id": "772536cbee6caf2e",
   "execution_count": null,
   "outputs": []
  },
  {
   "metadata": {},
   "cell_type": "code",
   "source": [
    "x.name = 'changed'\n",
    "x.display()"
   ],
   "id": "a5178a0fd15d0761",
   "execution_count": null,
   "outputs": []
  },
  {
   "metadata": {},
   "cell_type": "code",
   "source": "x.job = 'police'",
   "id": "4aa2bd5ffb9160c8",
   "execution_count": null,
   "outputs": []
  },
  {
   "metadata": {},
   "cell_type": "code",
   "source": [
    "\n",
    "x.__dict__"
   ],
   "id": "2bd1bfdf9b55582f",
   "execution_count": null,
   "outputs": []
  },
  {
   "metadata": {
    "ExecuteTime": {
     "end_time": "2024-07-08T02:24:02.844080Z",
     "start_time": "2024-07-08T02:24:02.842158Z"
    }
   },
   "cell_type": "code",
   "source": [
    "class Secondclass(Firstclass):\n",
    "    def display(self):\n",
    "        print(str.center(self.name, 50, '-'))"
   ],
   "id": "2d8666851050541a",
   "execution_count": 4,
   "outputs": []
  },
  {
   "metadata": {
    "ExecuteTime": {
     "end_time": "2024-07-08T02:24:02.868610Z",
     "start_time": "2024-07-08T02:24:02.861579Z"
    }
   },
   "cell_type": "code",
   "source": [
    "y = Secondclass()\n",
    "y.name"
   ],
   "id": "98524ab2f5bfbcf2",
   "execution_count": 5,
   "outputs": []
  },
  {
   "metadata": {
    "ExecuteTime": {
     "end_time": "2024-07-08T02:24:03.159499Z",
     "start_time": "2024-07-08T02:24:03.157551Z"
    }
   },
   "cell_type": "code",
   "source": "y.set_name('bob')",
   "id": "247b04297f96f6f3",
   "execution_count": 6,
   "outputs": []
  },
  {
   "metadata": {
    "ExecuteTime": {
     "end_time": "2024-07-08T02:24:03.245555Z",
     "start_time": "2024-07-08T02:24:03.243443Z"
    }
   },
   "cell_type": "code",
   "source": "y.display()",
   "id": "99e75572125296c8",
   "execution_count": 7,
   "outputs": []
  },
  {
   "metadata": {
    "ExecuteTime": {
     "end_time": "2024-07-08T02:24:03.312767Z",
     "start_time": "2024-07-08T02:24:03.310733Z"
    }
   },
   "cell_type": "code",
   "source": [
    "class Thirdclass:\n",
    "    def __init__(self, data):\n",
    "        self.data = data\n",
    "        \n",
    "    def __add__(self, other):\n",
    "        return Thirdclass(self.data + other)\n",
    "    \n",
    "    def __str__(self):\n",
    "        return str(self.data)\n",
    "    \n",
    "    def __mul__(self, other):\n",
    "        self.data*= other\n",
    "    "
   ],
   "id": "a92f947703c572c4",
   "execution_count": 8,
   "outputs": []
  },
  {
   "metadata": {
    "ExecuteTime": {
     "end_time": "2024-07-08T02:24:03.394678Z",
     "start_time": "2024-07-08T02:24:03.393107Z"
    }
   },
   "cell_type": "code",
   "source": "a = Thirdclass('abc')",
   "id": "6c5a9d4f73bc79a7",
   "execution_count": 9,
   "outputs": []
  },
  {
   "metadata": {
    "ExecuteTime": {
     "end_time": "2024-07-08T02:24:03.456091Z",
     "start_time": "2024-07-08T02:24:03.454181Z"
    }
   },
   "cell_type": "code",
   "source": "print(a)",
   "id": "4e26aa03c0b23bd6",
   "execution_count": 10,
   "outputs": []
  },
  {
   "metadata": {
    "ExecuteTime": {
     "end_time": "2024-07-08T02:24:03.495812Z",
     "start_time": "2024-07-08T02:24:03.494158Z"
    }
   },
   "cell_type": "code",
   "source": "b = a + 'xyz'",
   "id": "8d75e996a5a32cbe",
   "execution_count": 11,
   "outputs": []
  },
  {
   "metadata": {
    "ExecuteTime": {
     "end_time": "2024-07-08T02:24:03.551223Z",
     "start_time": "2024-07-08T02:24:03.549160Z"
    }
   },
   "cell_type": "code",
   "source": "print(b)",
   "id": "6d1e5fb863dde628",
   "execution_count": 12,
   "outputs": []
  },
  {
   "metadata": {
    "ExecuteTime": {
     "end_time": "2024-07-08T02:24:03.571486Z",
     "start_time": "2024-07-08T02:24:03.569720Z"
    }
   },
   "cell_type": "code",
   "source": "a*3",
   "id": "7c6b0620bcaeedb8",
   "execution_count": 13,
   "outputs": []
  },
  {
   "metadata": {
    "ExecuteTime": {
     "end_time": "2024-07-08T02:24:03.601360Z",
     "start_time": "2024-07-08T02:24:03.599441Z"
    }
   },
   "cell_type": "code",
   "source": "print(a)",
   "id": "faf4fd2eb249175e",
   "execution_count": 14,
   "outputs": []
  },
  {
   "metadata": {
    "ExecuteTime": {
     "end_time": "2024-07-08T02:24:03.650881Z",
     "start_time": "2024-07-08T02:24:03.649070Z"
    }
   },
   "cell_type": "code",
   "source": "class rec:pass",
   "id": "5656a0aa835fd621",
   "execution_count": 15,
   "outputs": []
  },
  {
   "metadata": {
    "ExecuteTime": {
     "end_time": "2024-07-08T02:24:03.709734Z",
     "start_time": "2024-07-08T02:24:03.707987Z"
    }
   },
   "cell_type": "code",
   "source": [
    "rec.name = 'bob'\n",
    "rec.age = 25"
   ],
   "id": "3a01b4737037bc1a",
   "execution_count": 16,
   "outputs": []
  },
  {
   "metadata": {
    "ExecuteTime": {
     "end_time": "2024-07-08T02:24:03.734785Z",
     "start_time": "2024-07-08T02:24:03.731695Z"
    }
   },
   "cell_type": "code",
   "source": "rec.name",
   "id": "e14408a461ebd4ac",
   "execution_count": 17,
   "outputs": []
  },
  {
   "metadata": {
    "ExecuteTime": {
     "end_time": "2024-07-08T02:24:03.772552Z",
     "start_time": "2024-07-08T02:24:03.770343Z"
    }
   },
   "cell_type": "code",
   "source": "rec.age",
   "id": "4c4c3385b5a30fed",
   "execution_count": 18,
   "outputs": []
  },
  {
   "metadata": {
    "ExecuteTime": {
     "end_time": "2024-07-08T02:24:03.812679Z",
     "start_time": "2024-07-08T02:24:03.811066Z"
    }
   },
   "cell_type": "code",
   "source": [
    "x = rec()\n",
    "y = rec()"
   ],
   "id": "9323d30ac07b8e92",
   "execution_count": 19,
   "outputs": []
  },
  {
   "metadata": {
    "ExecuteTime": {
     "end_time": "2024-07-08T02:24:03.857531Z",
     "start_time": "2024-07-08T02:24:03.855272Z"
    }
   },
   "cell_type": "code",
   "source": "x is y ",
   "id": "aec08c2768e769f3",
   "execution_count": 20,
   "outputs": []
  },
  {
   "metadata": {
    "ExecuteTime": {
     "end_time": "2024-07-08T02:24:03.937996Z",
     "start_time": "2024-07-08T02:24:03.934779Z"
    }
   },
   "cell_type": "code",
   "source": "x.name",
   "id": "bf21267fc6a665eb",
   "execution_count": 21,
   "outputs": []
  },
  {
   "metadata": {
    "ExecuteTime": {
     "end_time": "2024-07-08T02:24:04.000217Z",
     "start_time": "2024-07-08T02:24:03.997774Z"
    }
   },
   "cell_type": "code",
   "source": "y.age",
   "id": "5c32ef917c75e879",
   "execution_count": 22,
   "outputs": []
  },
  {
   "metadata": {
    "ExecuteTime": {
     "end_time": "2024-07-08T02:24:04.029271Z",
     "start_time": "2024-07-08T02:24:04.026870Z"
    }
   },
   "cell_type": "code",
   "source": "x.__dict__",
   "id": "e831176a4dce4159",
   "execution_count": 23,
   "outputs": []
  },
  {
   "metadata": {
    "ExecuteTime": {
     "end_time": "2024-07-08T02:24:04.073241Z",
     "start_time": "2024-07-08T02:24:04.071028Z"
    }
   },
   "cell_type": "code",
   "source": "rec.__dict__",
   "id": "ddd20953fe62fbf8",
   "execution_count": 24,
   "outputs": []
  },
  {
   "metadata": {
    "ExecuteTime": {
     "end_time": "2024-07-08T02:24:04.094645Z",
     "start_time": "2024-07-08T02:24:04.092114Z"
    }
   },
   "cell_type": "code",
   "source": "list(name for name in rec.__dict__ if not name.startswith('__'))",
   "id": "5e82285ec5f106b6",
   "execution_count": 25,
   "outputs": []
  },
  {
   "metadata": {
    "ExecuteTime": {
     "end_time": "2024-07-08T02:24:04.127025Z",
     "start_time": "2024-07-08T02:24:04.125350Z"
    }
   },
   "cell_type": "code",
   "source": "x.name = 'tom'",
   "id": "456f4789abd6ee2e",
   "execution_count": 26,
   "outputs": []
  },
  {
   "metadata": {
    "ExecuteTime": {
     "end_time": "2024-07-08T02:24:04.186087Z",
     "start_time": "2024-07-08T02:24:04.183868Z"
    }
   },
   "cell_type": "code",
   "source": "x.name, x.__dict__['name'], y.name",
   "id": "7308ce3451a4e92d",
   "execution_count": 27,
   "outputs": []
  },
  {
   "metadata": {
    "ExecuteTime": {
     "end_time": "2024-07-08T02:24:04.242360Z",
     "start_time": "2024-07-08T02:24:04.239941Z"
    }
   },
   "cell_type": "code",
   "source": "x.age",
   "id": "ee03d1b8acaba3fe",
   "execution_count": 28,
   "outputs": []
  },
  {
   "metadata": {
    "ExecuteTime": {
     "end_time": "2024-07-08T02:24:04.267197Z",
     "start_time": "2024-07-08T02:24:04.259518Z"
    }
   },
   "cell_type": "code",
   "source": "x.__dict__['age']",
   "id": "267b2a330d0c9ecc",
   "execution_count": 29,
   "outputs": []
  },
  {
   "metadata": {
    "ExecuteTime": {
     "end_time": "2024-07-08T02:24:04.290447Z",
     "start_time": "2024-07-08T02:24:04.288144Z"
    }
   },
   "cell_type": "code",
   "source": "x.__class__",
   "id": "ce17832cf8bb34f9",
   "execution_count": 30,
   "outputs": []
  },
  {
   "metadata": {
    "ExecuteTime": {
     "end_time": "2024-07-08T02:24:04.323379Z",
     "start_time": "2024-07-08T02:24:04.321418Z"
    }
   },
   "cell_type": "code",
   "source": "rec.__base__",
   "id": "e8bc3b645d37a1b0",
   "execution_count": 31,
   "outputs": []
  },
  {
   "metadata": {
    "ExecuteTime": {
     "end_time": "2024-07-08T02:24:04.394740Z",
     "start_time": "2024-07-08T02:24:04.393101Z"
    }
   },
   "cell_type": "code",
   "source": [
    "def uppername(cls):\n",
    "    return cls.name.upper()"
   ],
   "id": "b34c7b2a305d61a1",
   "execution_count": 32,
   "outputs": []
  },
  {
   "metadata": {
    "ExecuteTime": {
     "end_time": "2024-07-08T02:24:04.477706Z",
     "start_time": "2024-07-08T02:24:04.475599Z"
    }
   },
   "cell_type": "code",
   "source": "uppername(x)",
   "id": "b0825372c6bcd594",
   "execution_count": 33,
   "outputs": []
  },
  {
   "metadata": {},
   "cell_type": "markdown",
   "source": "把方法复制给类",
   "id": "611bb24563bdb6b"
  },
  {
   "metadata": {
    "ExecuteTime": {
     "end_time": "2024-07-08T02:24:04.518339Z",
     "start_time": "2024-07-08T02:24:04.516685Z"
    }
   },
   "cell_type": "code",
   "source": "rec.method = uppername",
   "id": "3a50fcebd82dfa88",
   "execution_count": 34,
   "outputs": []
  },
  {
   "metadata": {
    "ExecuteTime": {
     "end_time": "2024-07-08T02:24:04.557540Z",
     "start_time": "2024-07-08T02:24:04.555204Z"
    }
   },
   "cell_type": "code",
   "source": "rec.method(x)",
   "id": "5c7a85ec03973d47",
   "execution_count": 35,
   "outputs": []
  },
  {
   "metadata": {
    "ExecuteTime": {
     "end_time": "2024-07-08T02:24:04.603042Z",
     "start_time": "2024-07-08T02:24:04.600435Z"
    }
   },
   "cell_type": "code",
   "source": "x.method()",
   "id": "91eb9c6acdc2dc3",
   "execution_count": 36,
   "outputs": []
  },
  {
   "metadata": {
    "ExecuteTime": {
     "end_time": "2024-07-08T02:24:04.636787Z",
     "start_time": "2024-07-08T02:24:04.634377Z"
    }
   },
   "cell_type": "code",
   "source": "y.method()",
   "id": "ef829d7814b592f1",
   "execution_count": 37,
   "outputs": []
  },
  {
   "metadata": {},
   "cell_type": "markdown",
   "source": "# 28",
   "id": "1a2e14d986de6fc6"
  },
  {
   "metadata": {
    "ExecuteTime": {
     "end_time": "2024-07-08T02:24:04.698612Z",
     "start_time": "2024-07-08T02:24:04.696811Z"
    }
   },
   "cell_type": "code",
   "source": [
    "class Person:\n",
    "    def __init__(self, name, job = None, pay=0):\n",
    "        self.name = name\n",
    "        self.job = job\n",
    "        self.pay = pay\n",
    "        \n",
    "    "
   ],
   "id": "c1380775b6762b93",
   "execution_count": 38,
   "outputs": []
  },
  {
   "metadata": {
    "ExecuteTime": {
     "end_time": "2024-07-08T02:24:04.735435Z",
     "start_time": "2024-07-08T02:24:04.733472Z"
    }
   },
   "cell_type": "code",
   "source": [
    "class Person:\n",
    "    def __init__(self, name, job = None, pay=0):\n",
    "        self.name = name\n",
    "        self.job = job\n",
    "        self.pay = pay\n",
    "        \n",
    "    def lastName(self):\n",
    "        return self.name.split()[-1]\n",
    "    \n",
    "    def giveRaise(self, percent):\n",
    "        self.pay *= (1.0 + percent)"
   ],
   "id": "f1f3408642a03d8c",
   "execution_count": 39,
   "outputs": []
  },
  {
   "metadata": {
    "ExecuteTime": {
     "end_time": "2024-07-08T02:24:04.782469Z",
     "start_time": "2024-07-08T02:24:04.780374Z"
    }
   },
   "cell_type": "code",
   "source": [
    "class Person:\n",
    "    def __init__(self, name, job = None, pay=0):\n",
    "        self.name = name\n",
    "        self.job = job\n",
    "        self.pay = pay\n",
    "        \n",
    "    def lastName(self):\n",
    "        return self.name.split()[-1]\n",
    "    \n",
    "    def giveRaise(self, percent):\n",
    "        self.pay *= (1.0 + percent)\n",
    "        \n",
    "    def __repr__(self):\n",
    "        return f'[Person: {self.name}, {self.pay:.2f}]'"
   ],
   "id": "c9ac033d81033ba0",
   "execution_count": 40,
   "outputs": []
  },
  {
   "metadata": {
    "ExecuteTime": {
     "end_time": "2024-07-08T02:24:04.815715Z",
     "start_time": "2024-07-08T02:24:04.813706Z"
    }
   },
   "cell_type": "code",
   "source": [
    "class Manager(Person):\n",
    "    def __init__(self, name, pay):\n",
    "        Person.__init__(self, name, 'mgr', pay)\n",
    "    \n",
    "    def giveRaise(self, percent, bonus=0.1):\n",
    "        Person.giveRaise(self, percent + bonus)\n",
    "        "
   ],
   "id": "5c92e15e262209b5",
   "execution_count": 41,
   "outputs": []
  },
  {
   "metadata": {
    "ExecuteTime": {
     "end_time": "2024-07-08T02:24:04.840409Z",
     "start_time": "2024-07-08T02:24:04.838Z"
    }
   },
   "cell_type": "code",
   "source": [
    "# 委托设计模式\n",
    "class Manager:\n",
    "    def __init__(self, name, pay):\n",
    "        self.person = Person(name, 'mgr', pay)\n",
    "    \n",
    "    def giveRaise(self, percent, bonus=0.1):\n",
    "        self.person.giveRaise(percent + bonus)\n",
    "        \n",
    "    def __getattr__(self, item):\n",
    "        return getattr(self.person, item)\n",
    "    \n",
    "    def __repr__(self):\n",
    "        # 需要重写\n",
    "        return str(self.person)"
   ],
   "id": "9a969cdbcb16f859",
   "execution_count": 42,
   "outputs": []
  },
  {
   "metadata": {
    "ExecuteTime": {
     "end_time": "2024-07-08T02:24:04.875758Z",
     "start_time": "2024-07-08T02:24:04.873680Z"
    }
   },
   "cell_type": "code",
   "source": [
    "class Department:\n",
    "    def __init__(self, *args):\n",
    "        self.members = list(args)\n",
    "        \n",
    "    def addMember(self, person):\n",
    "        self.members.append(person)\n",
    "        \n",
    "    def giveRaise(self, percent):\n",
    "        for person in self.members:\n",
    "            person.giveRaise(percent)\n",
    "            \n",
    "    def showAll(self):\n",
    "        for person in self.members:\n",
    "            print(person)\n",
    "            "
   ],
   "id": "44276ade76d1d821",
   "execution_count": 43,
   "outputs": []
  },
  {
   "metadata": {
    "ExecuteTime": {
     "end_time": "2024-07-08T02:24:04.936258Z",
     "start_time": "2024-07-08T02:24:04.933581Z"
    }
   },
   "cell_type": "code",
   "source": [
    "bob = Person('Bob Smith')\n",
    "sue = Person('Sue Jones', job='dev', pay=100000)\n",
    "print(bob.name, sue.pay)\n",
    "print(sue.name, sue.job)\n",
    "# print(bob.name.split()[-1])\n",
    "print(bob.lastName(), sue.lastName())\n",
    "# sue.pay*=1.1\n",
    "sue.giveRaise(0.1)\n",
    "# print(f'{sue.pay:.2f}')\n",
    "print(sue)\n",
    "tom = Manager('Tom Jones', 50000)\n",
    "tom.giveRaise(0.1)\n",
    "print(tom.lastName())\n",
    "print(tom)\n",
    "print('*'*50)\n",
    "development = Department(bob, sue)\n",
    "development.showAll()\n",
    "development.giveRaise(0.1)\n",
    "development.showAll()"
   ],
   "id": "e6a21f1cf575e735",
   "execution_count": 44,
   "outputs": []
  },
  {
   "metadata": {
    "ExecuteTime": {
     "end_time": "2024-07-08T02:24:04.992384Z",
     "start_time": "2024-07-08T02:24:04.989910Z"
    }
   },
   "cell_type": "code",
   "source": "bob.__class__, sue.__class__, tom.__class__",
   "id": "9d783f4db10a945d",
   "execution_count": 45,
   "outputs": []
  },
  {
   "metadata": {
    "ExecuteTime": {
     "end_time": "2024-07-08T02:24:05.022504Z",
     "start_time": "2024-07-08T02:24:05.020153Z"
    }
   },
   "cell_type": "code",
   "source": "bob.__class__.__name__, tom.__class__.__name__",
   "id": "5e88a27c63b7f3ee",
   "execution_count": 46,
   "outputs": []
  },
  {
   "metadata": {
    "ExecuteTime": {
     "end_time": "2024-07-08T02:24:05.059269Z",
     "start_time": "2024-07-08T02:24:05.057014Z"
    }
   },
   "cell_type": "code",
   "source": "bob.__dict__.keys()",
   "id": "eb3cd6e33a12f8ca",
   "execution_count": 47,
   "outputs": []
  },
  {
   "metadata": {
    "ExecuteTime": {
     "end_time": "2024-07-08T02:24:05.118234Z",
     "start_time": "2024-07-08T02:24:05.116402Z"
    }
   },
   "cell_type": "code",
   "source": [
    "for attr,value in bob.__dict__.items():\n",
    "    print(f'{attr} => {value}')"
   ],
   "id": "13b5b5fe71d4582c",
   "execution_count": 48,
   "outputs": []
  },
  {
   "metadata": {
    "ExecuteTime": {
     "end_time": "2024-07-08T02:24:05.160002Z",
     "start_time": "2024-07-08T02:24:05.158130Z"
    }
   },
   "cell_type": "code",
   "source": [
    "for attr in bob.__dict__:\n",
    "    print(f'{attr} => {getattr(bob, attr)}')"
   ],
   "id": "d82112ec1399af77",
   "execution_count": 49,
   "outputs": []
  },
  {
   "metadata": {
    "ExecuteTime": {
     "end_time": "2024-07-08T02:24:05.197570Z",
     "start_time": "2024-07-08T02:24:05.190845Z"
    }
   },
   "cell_type": "code",
   "source": "bob.__slot__",
   "id": "650453d8e7474ee",
   "execution_count": 50,
   "outputs": []
  },
  {
   "metadata": {
    "ExecuteTime": {
     "end_time": "2024-07-08T02:24:05.244208Z",
     "start_time": "2024-07-08T02:24:05.241840Z"
    }
   },
   "cell_type": "code",
   "source": "dir(bob)",
   "id": "666f983c8a107077",
   "execution_count": 51,
   "outputs": []
  },
  {
   "metadata": {
    "ExecuteTime": {
     "end_time": "2024-07-08T02:24:05.284062Z",
     "start_time": "2024-07-08T02:24:05.281500Z"
    }
   },
   "cell_type": "code",
   "source": "[attr for attr in dir(bob) if not attr.startswith('_')]",
   "id": "ff3d386ed69f1d13",
   "execution_count": 52,
   "outputs": []
  },
  {
   "metadata": {},
   "cell_type": "markdown",
   "source": "完整的类",
   "id": "e4d2527cb97cc3db"
  },
  {
   "metadata": {
    "ExecuteTime": {
     "end_time": "2024-07-08T02:24:05.316995Z",
     "start_time": "2024-07-08T02:24:05.313917Z"
    }
   },
   "cell_type": "code",
   "source": [
    "import classtool\n",
    "class Person(classtool.AttrDisplay):\n",
    "    def __init__(self, name, job = None, pay=0):\n",
    "        self.name = name\n",
    "        self.job = job\n",
    "        self.pay = pay\n",
    "        \n",
    "    def lastName(self):\n",
    "        return self.name.split()[-1]\n",
    "    \n",
    "    def giveRaise(self, percent):\n",
    "        self.pay *= (1.0 + percent)\n",
    "        \n",
    "    # def __repr__(self):\n",
    "    #     return f'[Person: {self.name}, {self.pay:.2f}]'\n",
    "    \n",
    "class Manager(Person):\n",
    "    def __init__(self, name, pay):\n",
    "        Person.__init__(self, name, 'mgr', pay)\n",
    "        # super().__init__(name, pay)\n",
    "\n",
    "    def giveRaise(self, percent, bonus=0.1):\n",
    "        Person.giveRaise(self, percent + bonus)\n",
    "        "
   ],
   "id": "a2d1c558e19638f1",
   "execution_count": 53,
   "outputs": []
  },
  {
   "metadata": {
    "ExecuteTime": {
     "end_time": "2024-07-08T02:24:05.378145Z",
     "start_time": "2024-07-08T02:24:05.375623Z"
    }
   },
   "cell_type": "code",
   "source": [
    "bob = Person('Bob Smith')\n",
    "sue = Person('Sue Jones', job='dev', pay=100000)\n",
    "print(bob.name, sue.pay)\n",
    "print(sue.name, sue.job)\n",
    "# print(bob.name.split()[-1])\n",
    "print(bob.lastName(), sue.lastName())\n",
    "# sue.pay*=1.1\n",
    "sue.giveRaise(0.1)\n",
    "# print(f'{sue.pay:.2f}')\n",
    "print(sue)\n",
    "tom = Manager('Tom Jones', 50000)\n",
    "tom.giveRaise(0.1)\n",
    "print(tom.lastName())\n",
    "print(tom)"
   ],
   "id": "314b01199540d49f",
   "execution_count": 54,
   "outputs": []
  },
  {
   "metadata": {},
   "cell_type": "markdown",
   "source": "# 持久化",
   "id": "a1687105947c17f8"
  },
  {
   "metadata": {
    "ExecuteTime": {
     "end_time": "2024-07-08T02:24:05.398745Z",
     "start_time": "2024-07-08T02:24:05.395918Z"
    }
   },
   "cell_type": "code",
   "source": "import shelve",
   "id": "3db4aa9d04540bbf",
   "execution_count": 55,
   "outputs": []
  },
  {
   "metadata": {
    "ExecuteTime": {
     "end_time": "2024-07-08T02:24:05.437848Z",
     "start_time": "2024-07-08T02:24:05.431765Z"
    }
   },
   "cell_type": "code",
   "source": [
    "bob = Person ('Bob Smith')\n",
    "sue = Person('Sue Jones', job='dev', pay=100000)\n",
    "tom = Manager ('Tom Jones', 50000)\n",
    "\n",
    "db = shelve.open('person.db')\n",
    "for obj in [bob, sue, tom]:\n",
    "    db[obj.name] = obj\n",
    "db.close()"
   ],
   "id": "3e589ead0f88427b",
   "execution_count": 56,
   "outputs": []
  },
  {
   "metadata": {
    "ExecuteTime": {
     "end_time": "2024-07-08T02:24:05.506167Z",
     "start_time": "2024-07-08T02:24:05.503447Z"
    }
   },
   "cell_type": "code",
   "source": [
    "import glob\n",
    "glob.glob('data*')"
   ],
   "id": "dfc311c12526decd",
   "execution_count": 57,
   "outputs": []
  },
  {
   "metadata": {
    "ExecuteTime": {
     "end_time": "2024-07-08T02:24:05.564093Z",
     "start_time": "2024-07-08T02:24:05.561850Z"
    }
   },
   "cell_type": "code",
   "source": [
    "import shelve\n",
    "db = shelve.open('person.db')\n",
    "len(db)"
   ],
   "id": "7ddcee229d16e873",
   "execution_count": 58,
   "outputs": []
  },
  {
   "metadata": {
    "ExecuteTime": {
     "end_time": "2024-07-08T02:24:05.619Z",
     "start_time": "2024-07-08T02:24:05.617302Z"
    }
   },
   "cell_type": "code",
   "source": "bob  = db['Bob Smith']",
   "id": "cf6d1d79e72a310e",
   "execution_count": 59,
   "outputs": []
  },
  {
   "metadata": {
    "ExecuteTime": {
     "end_time": "2024-07-08T02:24:05.667081Z",
     "start_time": "2024-07-08T02:24:05.665098Z"
    }
   },
   "cell_type": "code",
   "source": "print(bob)",
   "id": "c6ba0cd86ad5d0fc",
   "execution_count": 60,
   "outputs": []
  },
  {
   "metadata": {
    "ExecuteTime": {
     "end_time": "2024-07-08T02:24:05.723041Z",
     "start_time": "2024-07-08T02:24:05.721183Z"
    }
   },
   "cell_type": "code",
   "source": [
    "for key in db:\n",
    "    print(key, '=>', db[key])\n",
    "db.close()"
   ],
   "id": "60bf729e0142996c",
   "execution_count": 61,
   "outputs": []
  },
  {
   "metadata": {
    "ExecuteTime": {
     "end_time": "2024-07-08T02:24:05.778074Z",
     "start_time": "2024-07-08T02:24:05.776015Z"
    }
   },
   "cell_type": "code",
   "source": [
    "def updatePerson():\n",
    "    import shelve\n",
    "    \n",
    "    db = shelve.open('person.db')\n",
    "    for key in sorted(db):\n",
    "        # Reopen shelve with same filename\n",
    "        print(key, '\\t=>', db[key])\n",
    "        # Iterate to display database objects # Prints with custom format\n",
    "        sue = db['Sue Jones']\n",
    "        sue.giveRaise(.10)\n",
    "        db['Sue Jones'] = sue\n",
    "    db.close()\n"
   ],
   "id": "ea4d576c68ffc6f0",
   "execution_count": 62,
   "outputs": []
  },
  {
   "metadata": {
    "ExecuteTime": {
     "end_time": "2024-07-08T02:24:05.822731Z",
     "start_time": "2024-07-08T02:24:05.820070Z"
    }
   },
   "cell_type": "code",
   "source": "updatePerson()",
   "id": "e7a15bafca2fba9f",
   "execution_count": 63,
   "outputs": []
  },
  {
   "metadata": {
    "ExecuteTime": {
     "end_time": "2024-07-08T02:24:05.880244Z",
     "start_time": "2024-07-08T02:24:05.878034Z"
    }
   },
   "cell_type": "code",
   "source": "updatePerson()",
   "id": "ac20598ba52489a0",
   "execution_count": 64,
   "outputs": []
  },
  {
   "metadata": {
    "ExecuteTime": {
     "end_time": "2024-07-08T02:24:05.910438Z",
     "start_time": "2024-07-08T02:24:05.908266Z"
    }
   },
   "cell_type": "code",
   "source": "updatePerson()",
   "id": "416f970f7272676f",
   "execution_count": 65,
   "outputs": []
  },
  {
   "metadata": {
    "ExecuteTime": {
     "end_time": "2024-07-08T02:24:05.946102Z",
     "start_time": "2024-07-08T02:24:05.944497Z"
    }
   },
   "cell_type": "code",
   "source": "",
   "id": "1d19ba4d91bd7f2a",
   "execution_count": 65,
   "outputs": []
  }
 ],
 "metadata": {
  "kernelspec": {
   "display_name": "Python 3",
   "language": "python",
   "name": "python3"
  },
  "language_info": {
   "codemirror_mode": {
    "name": "ipython",
    "version": 2
   },
   "file_extension": ".py",
   "mimetype": "text/x-python",
   "name": "python",
   "nbconvert_exporter": "python",
   "pygments_lexer": "ipython2",
   "version": "2.7.6"
  }
 },
 "nbformat": 4,
 "nbformat_minor": 5
}
