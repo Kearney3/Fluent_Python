{
 "cells": [
  {
   "metadata": {},
   "cell_type": "markdown",
   "source": "class",
   "id": "d066f60ef0f3f15b"
  },
  {
   "cell_type": "code",
   "id": "initial_id",
   "metadata": {
    "collapsed": true,
    "ExecuteTime": {
     "end_time": "2024-06-25T14:04:56.234044Z",
     "start_time": "2024-06-25T14:04:56.213606Z"
    }
   },
   "source": [
    "class Firstclass:\n",
    "    def set_name(self, name):\n",
    "        self.name = name\n",
    "        \n",
    "    def display(self):\n",
    "        print(self.name)"
   ],
   "execution_count": 20,
   "outputs": []
  },
  {
   "metadata": {
    "ExecuteTime": {
     "end_time": "2024-06-25T14:04:56.566837Z",
     "start_time": "2024-06-25T14:04:56.563111Z"
    }
   },
   "cell_type": "code",
   "source": "myclass = Firstclass()",
   "id": "2056529bd470d751",
   "execution_count": 21,
   "outputs": []
  },
  {
   "metadata": {
    "ExecuteTime": {
     "end_time": "2024-06-25T14:04:56.992809Z",
     "start_time": "2024-06-25T14:04:56.978255Z"
    }
   },
   "cell_type": "code",
   "source": "myclass.name",
   "id": "505f0934c6406dc8",
   "execution_count": 22,
   "outputs": []
  },
  {
   "metadata": {
    "ExecuteTime": {
     "end_time": "2024-06-25T14:04:57.386682Z",
     "start_time": "2024-06-25T14:04:57.379646Z"
    }
   },
   "cell_type": "code",
   "source": "myclass.set_name('bob')",
   "id": "e93f3aac9247520f",
   "execution_count": 23,
   "outputs": []
  },
  {
   "metadata": {
    "ExecuteTime": {
     "end_time": "2024-06-25T14:04:57.836737Z",
     "start_time": "2024-06-25T14:04:57.830231Z"
    }
   },
   "cell_type": "code",
   "source": "myclass.name",
   "id": "f328456cac40ff1e",
   "execution_count": 24,
   "outputs": []
  },
  {
   "metadata": {
    "ExecuteTime": {
     "end_time": "2024-06-25T14:04:58.233857Z",
     "start_time": "2024-06-25T14:04:58.230329Z"
    }
   },
   "cell_type": "code",
   "source": [
    "x = Firstclass()\n",
    "y = Firstclass()"
   ],
   "id": "fe3250a1d3a085ea",
   "execution_count": 25,
   "outputs": []
  },
  {
   "metadata": {
    "ExecuteTime": {
     "end_time": "2024-06-25T14:04:58.574464Z",
     "start_time": "2024-06-25T14:04:58.569231Z"
    }
   },
   "cell_type": "code",
   "source": "x is y ",
   "id": "da1e3510d31917f7",
   "execution_count": 26,
   "outputs": []
  },
  {
   "metadata": {
    "ExecuteTime": {
     "end_time": "2024-06-25T14:04:58.912473Z",
     "start_time": "2024-06-25T14:04:58.908846Z"
    }
   },
   "cell_type": "code",
   "source": [
    "x.set_name('tom')\n",
    "x.display()"
   ],
   "id": "772536cbee6caf2e",
   "execution_count": 27,
   "outputs": []
  },
  {
   "metadata": {
    "ExecuteTime": {
     "end_time": "2024-06-25T14:04:59.232723Z",
     "start_time": "2024-06-25T14:04:59.230268Z"
    }
   },
   "cell_type": "code",
   "source": [
    "x.name = 'changed'\n",
    "x.display()"
   ],
   "id": "a5178a0fd15d0761",
   "execution_count": 28,
   "outputs": []
  },
  {
   "metadata": {
    "ExecuteTime": {
     "end_time": "2024-06-25T14:04:59.577191Z",
     "start_time": "2024-06-25T14:04:59.574815Z"
    }
   },
   "cell_type": "code",
   "source": "x.job = 'police'",
   "id": "4aa2bd5ffb9160c8",
   "execution_count": 29,
   "outputs": []
  },
  {
   "metadata": {
    "ExecuteTime": {
     "end_time": "2024-06-25T14:05:00.432279Z",
     "start_time": "2024-06-25T14:05:00.414804Z"
    }
   },
   "cell_type": "code",
   "source": [
    "\n",
    "x.__dict__"
   ],
   "id": "2bd1bfdf9b55582f",
   "execution_count": 30,
   "outputs": []
  },
  {
   "metadata": {
    "ExecuteTime": {
     "end_time": "2024-06-25T14:05:01.594555Z",
     "start_time": "2024-06-25T14:05:01.583079Z"
    }
   },
   "cell_type": "code",
   "source": [
    "class Secondclass(Firstclass):\n",
    "    def display(self):\n",
    "        print(str.center(self.name, 50, '-'))"
   ],
   "id": "2d8666851050541a",
   "execution_count": 31,
   "outputs": []
  },
  {
   "metadata": {
    "ExecuteTime": {
     "end_time": "2024-06-25T14:05:17.923866Z",
     "start_time": "2024-06-25T14:05:17.859205Z"
    }
   },
   "cell_type": "code",
   "source": [
    "y = Secondclass()\n",
    "y.name"
   ],
   "id": "98524ab2f5bfbcf2",
   "execution_count": 32,
   "outputs": []
  },
  {
   "metadata": {
    "ExecuteTime": {
     "end_time": "2024-06-25T14:05:22.022209Z",
     "start_time": "2024-06-25T14:05:22.015271Z"
    }
   },
   "cell_type": "code",
   "source": "y.set_name('bob')",
   "id": "247b04297f96f6f3",
   "execution_count": 33,
   "outputs": []
  },
  {
   "metadata": {
    "ExecuteTime": {
     "end_time": "2024-06-25T14:05:24.394167Z",
     "start_time": "2024-06-25T14:05:24.384533Z"
    }
   },
   "cell_type": "code",
   "source": "y.display()",
   "id": "99e75572125296c8",
   "execution_count": 34,
   "outputs": []
  },
  {
   "metadata": {
    "ExecuteTime": {
     "end_time": "2024-06-26T13:39:01.105905Z",
     "start_time": "2024-06-26T13:39:01.102491Z"
    }
   },
   "cell_type": "code",
   "source": [
    "class Thirdclass:\n",
    "    def __init__(self, data):\n",
    "        self.data = data\n",
    "        \n",
    "    def __add__(self, other):\n",
    "        return Thirdclass(self.data + other)\n",
    "    \n",
    "    def __str__(self):\n",
    "        return str(self.data)\n",
    "    \n",
    "    def __mul__(self, other):\n",
    "        self.data*= other\n",
    "    "
   ],
   "id": "a92f947703c572c4",
   "execution_count": 19,
   "outputs": []
  },
  {
   "metadata": {
    "ExecuteTime": {
     "end_time": "2024-06-26T13:39:01.379710Z",
     "start_time": "2024-06-26T13:39:01.377488Z"
    }
   },
   "cell_type": "code",
   "source": "a = Thirdclass('abc')",
   "id": "6c5a9d4f73bc79a7",
   "execution_count": 20,
   "outputs": []
  },
  {
   "metadata": {
    "ExecuteTime": {
     "end_time": "2024-06-26T13:39:01.737958Z",
     "start_time": "2024-06-26T13:39:01.735260Z"
    }
   },
   "cell_type": "code",
   "source": "print(a)",
   "id": "4e26aa03c0b23bd6",
   "execution_count": 21,
   "outputs": []
  },
  {
   "metadata": {
    "ExecuteTime": {
     "end_time": "2024-06-26T13:39:02.152121Z",
     "start_time": "2024-06-26T13:39:02.150377Z"
    }
   },
   "cell_type": "code",
   "source": "b = a + 'xyz'",
   "id": "8d75e996a5a32cbe",
   "execution_count": 22,
   "outputs": []
  },
  {
   "metadata": {
    "ExecuteTime": {
     "end_time": "2024-06-26T13:39:04.642493Z",
     "start_time": "2024-06-26T13:39:04.640311Z"
    }
   },
   "cell_type": "code",
   "source": "print(b)",
   "id": "6d1e5fb863dde628",
   "execution_count": 23,
   "outputs": []
  },
  {
   "metadata": {
    "ExecuteTime": {
     "end_time": "2024-06-26T13:39:11.283416Z",
     "start_time": "2024-06-26T13:39:11.281560Z"
    }
   },
   "cell_type": "code",
   "source": "a*3",
   "id": "7c6b0620bcaeedb8",
   "execution_count": 24,
   "outputs": []
  },
  {
   "metadata": {
    "ExecuteTime": {
     "end_time": "2024-06-26T13:39:14.076643Z",
     "start_time": "2024-06-26T13:39:14.074374Z"
    }
   },
   "cell_type": "code",
   "source": "print(a)",
   "id": "faf4fd2eb249175e",
   "execution_count": 25,
   "outputs": []
  },
  {
   "metadata": {
    "ExecuteTime": {
     "end_time": "2024-06-26T13:41:28.767853Z",
     "start_time": "2024-06-26T13:41:28.763662Z"
    }
   },
   "cell_type": "code",
   "source": "class rec:pass",
   "id": "5656a0aa835fd621",
   "execution_count": 26,
   "outputs": []
  },
  {
   "metadata": {
    "ExecuteTime": {
     "end_time": "2024-06-26T13:41:35.490555Z",
     "start_time": "2024-06-26T13:41:35.488671Z"
    }
   },
   "cell_type": "code",
   "source": [
    "rec.name = 'bob'\n",
    "rec.age = 25"
   ],
   "id": "3a01b4737037bc1a",
   "execution_count": 27,
   "outputs": []
  },
  {
   "metadata": {
    "ExecuteTime": {
     "end_time": "2024-06-26T13:41:38.818555Z",
     "start_time": "2024-06-26T13:41:38.813596Z"
    }
   },
   "cell_type": "code",
   "source": "rec.name",
   "id": "e14408a461ebd4ac",
   "execution_count": 28,
   "outputs": []
  },
  {
   "metadata": {
    "ExecuteTime": {
     "end_time": "2024-06-26T13:41:40.558310Z",
     "start_time": "2024-06-26T13:41:40.555833Z"
    }
   },
   "cell_type": "code",
   "source": "rec.age",
   "id": "4c4c3385b5a30fed",
   "execution_count": 29,
   "outputs": []
  },
  {
   "metadata": {
    "ExecuteTime": {
     "end_time": "2024-06-26T13:41:46.650815Z",
     "start_time": "2024-06-26T13:41:46.648546Z"
    }
   },
   "cell_type": "code",
   "source": [
    "x = rec()\n",
    "y = rec()"
   ],
   "id": "9323d30ac07b8e92",
   "execution_count": 30,
   "outputs": []
  },
  {
   "metadata": {
    "ExecuteTime": {
     "end_time": "2024-06-26T13:41:50.696838Z",
     "start_time": "2024-06-26T13:41:50.693666Z"
    }
   },
   "cell_type": "code",
   "source": "x is y ",
   "id": "aec08c2768e769f3",
   "execution_count": 31,
   "outputs": []
  },
  {
   "metadata": {
    "ExecuteTime": {
     "end_time": "2024-06-26T13:41:55.810405Z",
     "start_time": "2024-06-26T13:41:55.806303Z"
    }
   },
   "cell_type": "code",
   "source": "x.name",
   "id": "bf21267fc6a665eb",
   "execution_count": 32,
   "outputs": []
  },
  {
   "metadata": {
    "ExecuteTime": {
     "end_time": "2024-06-26T13:42:01.498442Z",
     "start_time": "2024-06-26T13:42:01.496271Z"
    }
   },
   "cell_type": "code",
   "source": "y.age",
   "id": "5c32ef917c75e879",
   "execution_count": 33,
   "outputs": []
  },
  {
   "metadata": {
    "ExecuteTime": {
     "end_time": "2024-06-26T13:42:04.064749Z",
     "start_time": "2024-06-26T13:42:04.062368Z"
    }
   },
   "cell_type": "code",
   "source": "x.__dict__",
   "id": "e831176a4dce4159",
   "execution_count": 34,
   "outputs": []
  },
  {
   "metadata": {
    "ExecuteTime": {
     "end_time": "2024-06-26T13:42:08.513154Z",
     "start_time": "2024-06-26T13:42:08.510618Z"
    }
   },
   "cell_type": "code",
   "source": "rec.__dict__",
   "id": "ddd20953fe62fbf8",
   "execution_count": 35,
   "outputs": []
  },
  {
   "metadata": {
    "ExecuteTime": {
     "end_time": "2024-06-26T13:42:59.768077Z",
     "start_time": "2024-06-26T13:42:59.763131Z"
    }
   },
   "cell_type": "code",
   "source": "list(name for name in rec.__dict__ if not name.startswith('__'))",
   "id": "5e82285ec5f106b6",
   "execution_count": 36,
   "outputs": []
  },
  {
   "metadata": {
    "ExecuteTime": {
     "end_time": "2024-06-26T13:44:04.598982Z",
     "start_time": "2024-06-26T13:44:04.581824Z"
    }
   },
   "cell_type": "code",
   "source": "x.name = 'tom'",
   "id": "456f4789abd6ee2e",
   "execution_count": 39,
   "outputs": []
  },
  {
   "metadata": {
    "ExecuteTime": {
     "end_time": "2024-06-26T13:44:16.437206Z",
     "start_time": "2024-06-26T13:44:16.434842Z"
    }
   },
   "cell_type": "code",
   "source": "x.name, x.__dict__['name'], y.name",
   "id": "7308ce3451a4e92d",
   "execution_count": 40,
   "outputs": []
  },
  {
   "metadata": {
    "ExecuteTime": {
     "end_time": "2024-06-26T13:44:34.768865Z",
     "start_time": "2024-06-26T13:44:34.764133Z"
    }
   },
   "cell_type": "code",
   "source": "x.age",
   "id": "ee03d1b8acaba3fe",
   "execution_count": 41,
   "outputs": []
  },
  {
   "metadata": {
    "ExecuteTime": {
     "end_time": "2024-06-26T13:44:42.929324Z",
     "start_time": "2024-06-26T13:44:42.913630Z"
    }
   },
   "cell_type": "code",
   "source": "x.__dict__['age']",
   "id": "267b2a330d0c9ecc",
   "execution_count": 42,
   "outputs": []
  },
  {
   "metadata": {
    "ExecuteTime": {
     "end_time": "2024-06-26T13:45:16.301329Z",
     "start_time": "2024-06-26T13:45:16.297200Z"
    }
   },
   "cell_type": "code",
   "source": "x.__class__",
   "id": "ce17832cf8bb34f9",
   "execution_count": 43,
   "outputs": []
  },
  {
   "metadata": {
    "ExecuteTime": {
     "end_time": "2024-06-26T13:45:27.604719Z",
     "start_time": "2024-06-26T13:45:27.601586Z"
    }
   },
   "cell_type": "code",
   "source": "rec.__base__",
   "id": "e8bc3b645d37a1b0",
   "execution_count": 44,
   "outputs": []
  },
  {
   "metadata": {
    "ExecuteTime": {
     "end_time": "2024-06-26T13:46:06.230143Z",
     "start_time": "2024-06-26T13:46:06.227468Z"
    }
   },
   "cell_type": "code",
   "source": [
    "def uppername(cls):\n",
    "    return cls.name.upper()"
   ],
   "id": "b34c7b2a305d61a1",
   "execution_count": 45,
   "outputs": []
  },
  {
   "metadata": {
    "ExecuteTime": {
     "end_time": "2024-06-26T13:46:10.481206Z",
     "start_time": "2024-06-26T13:46:10.478553Z"
    }
   },
   "cell_type": "code",
   "source": "uppername(x)",
   "id": "b0825372c6bcd594",
   "execution_count": 46,
   "outputs": []
  },
  {
   "metadata": {},
   "cell_type": "markdown",
   "source": "把方法复制给类",
   "id": "611bb24563bdb6b"
  },
  {
   "metadata": {
    "ExecuteTime": {
     "end_time": "2024-06-26T13:46:46.349526Z",
     "start_time": "2024-06-26T13:46:46.338299Z"
    }
   },
   "cell_type": "code",
   "source": "rec.method = uppername",
   "id": "3a50fcebd82dfa88",
   "execution_count": 47,
   "outputs": []
  },
  {
   "metadata": {
    "ExecuteTime": {
     "end_time": "2024-06-26T13:46:51.815511Z",
     "start_time": "2024-06-26T13:46:51.812745Z"
    }
   },
   "cell_type": "code",
   "source": "rec.method(x)",
   "id": "5c7a85ec03973d47",
   "execution_count": 48,
   "outputs": []
  },
  {
   "metadata": {
    "ExecuteTime": {
     "end_time": "2024-06-26T13:47:09.699477Z",
     "start_time": "2024-06-26T13:47:09.694564Z"
    }
   },
   "cell_type": "code",
   "source": "x.method()",
   "id": "91eb9c6acdc2dc3",
   "execution_count": 49,
   "outputs": []
  },
  {
   "metadata": {
    "ExecuteTime": {
     "end_time": "2024-06-26T13:47:48.240729Z",
     "start_time": "2024-06-26T13:47:48.233996Z"
    }
   },
   "cell_type": "code",
   "source": "y.method()",
   "id": "ef829d7814b592f1",
   "execution_count": 50,
   "outputs": []
  },
  {
   "metadata": {},
   "cell_type": "markdown",
   "source": "# 28",
   "id": "1a2e14d986de6fc6"
  },
  {
   "metadata": {
    "ExecuteTime": {
     "end_time": "2024-06-26T13:51:48.742075Z",
     "start_time": "2024-06-26T13:51:48.734586Z"
    }
   },
   "cell_type": "code",
   "source": [
    "class Person:\n",
    "    def __init__(self, name, job = None, pay=0):\n",
    "        self.name = name\n",
    "        self.job = job\n",
    "        self.pay = pay\n",
    "        \n",
    "    "
   ],
   "id": "c1380775b6762b93",
   "execution_count": 51,
   "outputs": []
  },
  {
   "metadata": {
    "ExecuteTime": {
     "end_time": "2024-06-26T13:55:21.658644Z",
     "start_time": "2024-06-26T13:55:21.651742Z"
    }
   },
   "cell_type": "code",
   "source": [
    "class Person:\n",
    "    def __init__(self, name, job = None, pay=0):\n",
    "        self.name = name\n",
    "        self.job = job\n",
    "        self.pay = pay\n",
    "        \n",
    "    def lastName(self):\n",
    "        return self.name.split()[-1]\n",
    "    \n",
    "    def giveRaise(self, percent):\n",
    "        self.pay *= (1.0 + percent)"
   ],
   "id": "f1f3408642a03d8c",
   "execution_count": 56,
   "outputs": []
  },
  {
   "metadata": {
    "ExecuteTime": {
     "end_time": "2024-06-26T14:13:36.211167Z",
     "start_time": "2024-06-26T14:13:36.208644Z"
    }
   },
   "cell_type": "code",
   "source": [
    "class Person:\n",
    "    def __init__(self, name, job = None, pay=0):\n",
    "        self.name = name\n",
    "        self.job = job\n",
    "        self.pay = pay\n",
    "        \n",
    "    def lastName(self):\n",
    "        return self.name.split()[-1]\n",
    "    \n",
    "    def giveRaise(self, percent):\n",
    "        self.pay *= (1.0 + percent)\n",
    "        \n",
    "    def __repr__(self):\n",
    "        return f'[Person: {self.name}, {self.pay:.2f}]'"
   ],
   "id": "c9ac033d81033ba0",
   "execution_count": 87,
   "outputs": []
  },
  {
   "metadata": {
    "ExecuteTime": {
     "end_time": "2024-06-27T01:02:26.702515Z",
     "start_time": "2024-06-27T01:02:26.693054Z"
    }
   },
   "cell_type": "code",
   "source": [
    "class Manager(Person):\n",
    "    def __init__(self, name, pay):\n",
    "        Person.__init__(self, name, 'mgr', pay)\n",
    "    \n",
    "    def giveRaise(self, percent, bonus=0.1):\n",
    "        Person.giveRaise(self, percent + bonus)\n",
    "        "
   ],
   "id": "5c92e15e262209b5",
   "execution_count": 99,
   "outputs": []
  },
  {
   "metadata": {
    "ExecuteTime": {
     "end_time": "2024-06-27T01:02:42.061544Z",
     "start_time": "2024-06-27T01:02:42.059258Z"
    }
   },
   "cell_type": "code",
   "source": [
    "# 委托设计模式\n",
    "class Manager:\n",
    "    def __init__(self, name, pay):\n",
    "        self.person = Person(name, 'mgr', pay)\n",
    "    \n",
    "    def giveRaise(self, percent, bonus=0.1):\n",
    "        self.person.giveRaise(percent + bonus)\n",
    "        \n",
    "    def __getattr__(self, item):\n",
    "        return getattr(self.person, item)\n",
    "    \n",
    "    def __repr__(self):\n",
    "        # 需要重写\n",
    "        return str(self.person)"
   ],
   "id": "9a969cdbcb16f859",
   "execution_count": 101,
   "outputs": []
  },
  {
   "metadata": {
    "ExecuteTime": {
     "end_time": "2024-06-27T01:02:42.784772Z",
     "start_time": "2024-06-27T01:02:42.779011Z"
    }
   },
   "cell_type": "code",
   "source": [
    "class Department:\n",
    "    def __init__(self, *args):\n",
    "        self.members = list(args)\n",
    "        \n",
    "    def addMember(self, person):\n",
    "        self.members.append(person)\n",
    "        \n",
    "    def giveRaise(self, percent):\n",
    "        for person in self.members:\n",
    "            person.giveRaise(percent)\n",
    "            \n",
    "    def showAll(self):\n",
    "        for person in self.members:\n",
    "            print(person)\n",
    "            "
   ],
   "id": "44276ade76d1d821",
   "execution_count": 102,
   "outputs": []
  },
  {
   "metadata": {
    "ExecuteTime": {
     "end_time": "2024-06-27T01:02:29.528468Z",
     "start_time": "2024-06-27T01:02:29.525150Z"
    }
   },
   "cell_type": "code",
   "source": [
    "bob = Person('Bob Smith')\n",
    "sue = Person('Sue Jones', job='dev', pay=100000)\n",
    "print(bob.name, sue.pay)\n",
    "print(sue.name, sue.job)\n",
    "# print(bob.name.split()[-1])\n",
    "print(bob.lastName(), sue.lastName())\n",
    "# sue.pay*=1.1\n",
    "sue.giveRaise(0.1)\n",
    "# print(f'{sue.pay:.2f}')\n",
    "print(sue)\n",
    "tom = Manager('Tom Jones', 50000)\n",
    "tom.giveRaise(0.1)\n",
    "print(tom.lastName())\n",
    "print(tom)\n",
    "print('*'*50)\n",
    "development = Department(bob, sue)\n",
    "development.showAll()\n",
    "development.giveRaise(0.1)\n",
    "development.showAll()"
   ],
   "id": "e6a21f1cf575e735",
   "execution_count": 100,
   "outputs": []
  },
  {
   "metadata": {
    "ExecuteTime": {
     "end_time": "2024-06-27T01:05:40.063525Z",
     "start_time": "2024-06-27T01:05:40.059187Z"
    }
   },
   "cell_type": "code",
   "source": "bob.__class__, sue.__class__, tom.__class__",
   "id": "9d783f4db10a945d",
   "execution_count": 104,
   "outputs": []
  },
  {
   "metadata": {
    "ExecuteTime": {
     "end_time": "2024-06-27T01:06:21.865355Z",
     "start_time": "2024-06-27T01:06:21.863045Z"
    }
   },
   "cell_type": "code",
   "source": "bob.__class__.__name__, tom.__class__.__name__",
   "id": "5e88a27c63b7f3ee",
   "execution_count": 108,
   "outputs": []
  },
  {
   "metadata": {
    "ExecuteTime": {
     "end_time": "2024-06-27T01:06:40.251709Z",
     "start_time": "2024-06-27T01:06:40.241052Z"
    }
   },
   "cell_type": "code",
   "source": "bob.__dict__.keys()",
   "id": "eb3cd6e33a12f8ca",
   "execution_count": 109,
   "outputs": []
  },
  {
   "metadata": {
    "ExecuteTime": {
     "end_time": "2024-06-27T01:07:52.661506Z",
     "start_time": "2024-06-27T01:07:52.659413Z"
    }
   },
   "cell_type": "code",
   "source": [
    "for attr,value in bob.__dict__.items():\n",
    "    print(f'{attr} => {value}')"
   ],
   "id": "13b5b5fe71d4582c",
   "execution_count": 111,
   "outputs": []
  },
  {
   "metadata": {
    "ExecuteTime": {
     "end_time": "2024-06-27T01:08:18.052280Z",
     "start_time": "2024-06-27T01:08:18.046085Z"
    }
   },
   "cell_type": "code",
   "source": [
    "for attr in bob.__dict__:\n",
    "    print(f'{attr} => {getattr(bob, attr)}')"
   ],
   "id": "d82112ec1399af77",
   "execution_count": 112,
   "outputs": []
  },
  {
   "metadata": {
    "ExecuteTime": {
     "end_time": "2024-06-27T01:15:04.294275Z",
     "start_time": "2024-06-27T01:15:04.269629Z"
    }
   },
   "cell_type": "code",
   "source": "bob.__slot__",
   "id": "650453d8e7474ee",
   "execution_count": 113,
   "outputs": []
  },
  {
   "metadata": {
    "ExecuteTime": {
     "end_time": "2024-06-27T01:26:01.094146Z",
     "start_time": "2024-06-27T01:26:01.091317Z"
    }
   },
   "cell_type": "code",
   "source": "dir(bob)",
   "id": "666f983c8a107077",
   "execution_count": 116,
   "outputs": []
  },
  {
   "metadata": {
    "ExecuteTime": {
     "end_time": "2024-06-27T01:25:54.002602Z",
     "start_time": "2024-06-27T01:25:53.996514Z"
    }
   },
   "cell_type": "code",
   "source": "[attr for attr in dir(bob) if not attr.startswith('_')]",
   "id": "ff3d386ed69f1d13",
   "execution_count": 115,
   "outputs": []
  },
  {
   "metadata": {},
   "cell_type": "markdown",
   "source": "完整的类",
   "id": "e4d2527cb97cc3db"
  },
  {
   "metadata": {
    "ExecuteTime": {
     "end_time": "2024-06-27T01:31:53.625207Z",
     "start_time": "2024-06-27T01:31:53.618639Z"
    }
   },
   "cell_type": "code",
   "source": [
    "import classtool\n",
    "class Person(classtool.AttrDisplay):\n",
    "    def __init__(self, name, job = None, pay=0):\n",
    "        self.name = name\n",
    "        self.job = job\n",
    "        self.pay = pay\n",
    "        \n",
    "    def lastName(self):\n",
    "        return self.name.split()[-1]\n",
    "    \n",
    "    def giveRaise(self, percent):\n",
    "        self.pay *= (1.0 + percent)\n",
    "        \n",
    "    # def __repr__(self):\n",
    "    #     return f'[Person: {self.name}, {self.pay:.2f}]'\n",
    "    \n",
    "class Manager(Person):\n",
    "    def __init__(self, name, pay):\n",
    "        Person.__init__(self, name, 'mgr', pay)\n",
    "        # super().__init__(name, pay)\n",
    "\n",
    "    def giveRaise(self, percent, bonus=0.1):\n",
    "        Person.giveRaise(self, percent + bonus)\n",
    "        "
   ],
   "id": "a2d1c558e19638f1",
   "execution_count": 117,
   "outputs": []
  },
  {
   "metadata": {
    "ExecuteTime": {
     "end_time": "2024-06-27T01:32:05.087292Z",
     "start_time": "2024-06-27T01:32:05.084181Z"
    }
   },
   "cell_type": "code",
   "source": [
    "bob = Person('Bob Smith')\n",
    "sue = Person('Sue Jones', job='dev', pay=100000)\n",
    "print(bob.name, sue.pay)\n",
    "print(sue.name, sue.job)\n",
    "# print(bob.name.split()[-1])\n",
    "print(bob.lastName(), sue.lastName())\n",
    "# sue.pay*=1.1\n",
    "sue.giveRaise(0.1)\n",
    "# print(f'{sue.pay:.2f}')\n",
    "print(sue)\n",
    "tom = Manager('Tom Jones', 50000)\n",
    "tom.giveRaise(0.1)\n",
    "print(tom.lastName())\n",
    "print(tom)"
   ],
   "id": "314b01199540d49f",
   "execution_count": 119,
   "outputs": []
  },
  {
   "metadata": {},
   "cell_type": "markdown",
   "source": "# 持久化",
   "id": "a1687105947c17f8"
  },
  {
   "metadata": {
    "ExecuteTime": {
     "end_time": "2024-06-27T01:44:47.691565Z",
     "start_time": "2024-06-27T01:44:47.689399Z"
    }
   },
   "cell_type": "code",
   "source": "import shelve",
   "id": "3db4aa9d04540bbf",
   "execution_count": 137,
   "outputs": []
  },
  {
   "metadata": {
    "ExecuteTime": {
     "end_time": "2024-06-27T01:45:12.380242Z",
     "start_time": "2024-06-27T01:45:12.376261Z"
    }
   },
   "cell_type": "code",
   "source": [
    "bob = Person ('Bob Smith')\n",
    "sue = Person('Sue Jones', job='dev', pay=100000)\n",
    "tom = Manager ('Tom Jones', 50000)\n",
    "\n",
    "db = shelve.open('person.db')\n",
    "for obj in [bob, sue, tom]:\n",
    "    db[obj.name] = obj\n",
    "db.close()"
   ],
   "id": "3e589ead0f88427b",
   "execution_count": 139,
   "outputs": []
  },
  {
   "metadata": {
    "ExecuteTime": {
     "end_time": "2024-06-27T01:45:18.644226Z",
     "start_time": "2024-06-27T01:45:18.640692Z"
    }
   },
   "cell_type": "code",
   "source": [
    "import glob\n",
    "glob.glob('data*')"
   ],
   "id": "dfc311c12526decd",
   "execution_count": 140,
   "outputs": []
  },
  {
   "metadata": {
    "ExecuteTime": {
     "end_time": "2024-06-27T01:54:33.962011Z",
     "start_time": "2024-06-27T01:54:33.958169Z"
    }
   },
   "cell_type": "code",
   "source": [
    "import shelve\n",
    "db = shelve.open('person.db')\n",
    "len(db)"
   ],
   "id": "7ddcee229d16e873",
   "execution_count": 150,
   "outputs": []
  },
  {
   "metadata": {
    "ExecuteTime": {
     "end_time": "2024-06-27T01:54:34.864645Z",
     "start_time": "2024-06-27T01:54:34.862657Z"
    }
   },
   "cell_type": "code",
   "source": "bob  = db['Bob Smith']",
   "id": "cf6d1d79e72a310e",
   "execution_count": 151,
   "outputs": []
  },
  {
   "metadata": {
    "ExecuteTime": {
     "end_time": "2024-06-27T01:54:35.531753Z",
     "start_time": "2024-06-27T01:54:35.529626Z"
    }
   },
   "cell_type": "code",
   "source": "print(bob)",
   "id": "c6ba0cd86ad5d0fc",
   "execution_count": 152,
   "outputs": []
  },
  {
   "metadata": {
    "ExecuteTime": {
     "end_time": "2024-06-27T01:54:36.347492Z",
     "start_time": "2024-06-27T01:54:36.344756Z"
    }
   },
   "cell_type": "code",
   "source": [
    "for key in db:\n",
    "    print(key, '=>', db[key])\n",
    "db.close()"
   ],
   "id": "60bf729e0142996c",
   "execution_count": 153,
   "outputs": []
  },
  {
   "metadata": {
    "ExecuteTime": {
     "end_time": "2024-06-27T01:55:26.175541Z",
     "start_time": "2024-06-27T01:55:26.172856Z"
    }
   },
   "cell_type": "code",
   "source": [
    "def updatePerson():\n",
    "    import shelve\n",
    "    \n",
    "    db = shelve.open('person.db')\n",
    "    for key in sorted(db):\n",
    "        # Reopen shelve with same filename\n",
    "        print(key, '\\t=>', db[key])\n",
    "        # Iterate to display database objects # Prints with custom format\n",
    "        sue = db['Sue Jones']\n",
    "        sue.giveRaise(.10)\n",
    "        db['Sue Jones'] = sue\n",
    "    db.close()\n"
   ],
   "id": "ea4d576c68ffc6f0",
   "execution_count": 156,
   "outputs": []
  },
  {
   "metadata": {
    "ExecuteTime": {
     "end_time": "2024-06-27T01:55:26.754711Z",
     "start_time": "2024-06-27T01:55:26.751414Z"
    }
   },
   "cell_type": "code",
   "source": "updatePerson()",
   "id": "e7a15bafca2fba9f",
   "execution_count": 157,
   "outputs": []
  },
  {
   "metadata": {
    "ExecuteTime": {
     "end_time": "2024-06-27T01:55:30.474980Z",
     "start_time": "2024-06-27T01:55:30.472618Z"
    }
   },
   "cell_type": "code",
   "source": "updatePerson()",
   "id": "ac20598ba52489a0",
   "execution_count": 158,
   "outputs": []
  },
  {
   "metadata": {
    "ExecuteTime": {
     "end_time": "2024-06-27T01:55:42.768944Z",
     "start_time": "2024-06-27T01:55:42.763689Z"
    }
   },
   "cell_type": "code",
   "source": "updatePerson()",
   "id": "416f970f7272676f",
   "execution_count": 159,
   "outputs": []
  },
  {
   "metadata": {},
   "cell_type": "code",
   "execution_count": null,
   "source": "",
   "id": "1d19ba4d91bd7f2a",
   "outputs": []
  }
 ],
 "metadata": {
  "kernelspec": {
   "display_name": "Python 3",
   "language": "python",
   "name": "python3"
  },
  "language_info": {
   "codemirror_mode": {
    "name": "ipython",
    "version": 2
   },
   "file_extension": ".py",
   "mimetype": "text/x-python",
   "name": "python",
   "nbconvert_exporter": "python",
   "pygments_lexer": "ipython2",
   "version": "2.7.6"
  }
 },
 "nbformat": 4,
 "nbformat_minor": 5
}
