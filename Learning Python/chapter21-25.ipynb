{
 "cells": [
  {
   "metadata": {},
   "cell_type": "markdown",
   "source": "# 基准测试",
   "id": "b7ad8ed75f6b35cc"
  },
  {
   "cell_type": "code",
   "id": "initial_id",
   "metadata": {
    "collapsed": true,
    "ExecuteTime": {
     "end_time": "2024-06-24T05:44:53.422232Z",
     "start_time": "2024-06-24T05:44:53.419525Z"
    }
   },
   "source": [
    "import time\n",
    "def timer(func, *args, **kwargs):\n",
    "    start = time.time()\n",
    "    for i in range(1000):\n",
    "        func(*args, **kwargs)\n",
    "    return time.time() - start"
   ],
   "execution_count": 3,
   "outputs": []
  },
  {
   "metadata": {
    "ExecuteTime": {
     "end_time": "2024-06-24T05:45:46.178Z",
     "start_time": "2024-06-24T05:45:46.173860Z"
    }
   },
   "cell_type": "code",
   "source": "timer(pow,2,100)",
   "id": "a4d1a81dbb657f71",
   "execution_count": 11,
   "outputs": []
  },
  {
   "metadata": {
    "ExecuteTime": {
     "end_time": "2024-06-24T05:45:30.165012Z",
     "start_time": "2024-06-24T05:45:30.162242Z"
    }
   },
   "cell_type": "code",
   "source": "time.ctime()",
   "id": "b5d5e56cf15e534",
   "execution_count": 10,
   "outputs": []
  },
  {
   "metadata": {
    "ExecuteTime": {
     "end_time": "2024-06-24T05:57:49.432141Z",
     "start_time": "2024-06-24T05:57:49.424264Z"
    }
   },
   "cell_type": "code",
   "source": [
    "def total(reps, func, *args, **kwargs):\n",
    "    \"\"\"\n",
    "    计算函数运行时间\n",
    "    \"\"\"\n",
    "    repslist = list(range(reps))\n",
    "    start = time.time()\n",
    "    for i in repslist:\n",
    "        ret = func(*args, **kwargs)\n",
    "    elapsed = time.time() - start\n",
    "    return (elapsed, ret)\n",
    "\n",
    "def bestof(reps, func, *args, **kwargs):\n",
    "    \"\"\"\n",
    "    计算函数运行最快时间\n",
    "    \"\"\"\n",
    "    best = 2 ** 32\n",
    "    for i in range(reps):\n",
    "        start = time.time()\n",
    "        ret = func(*args, **kwargs)\n",
    "        elapsed = time.time() - start\n",
    "        if elapsed < best:\n",
    "            best = elapsed\n",
    "    return (best, ret)\n",
    "\n",
    "def bestoftotal(reps1, reps2, func, *args, **kwargs):\n",
    "    \"\"\"\n",
    "    计算函数运行最快时间\n",
    "    \"\"\"\n",
    "    return bestof(reps1, total, reps2, func, *args, **kwargs)"
   ],
   "id": "c12c5f0614e1f200",
   "execution_count": 18,
   "outputs": []
  },
  {
   "metadata": {
    "ExecuteTime": {
     "end_time": "2024-06-24T05:57:49.656781Z",
     "start_time": "2024-06-24T05:57:49.653317Z"
    }
   },
   "cell_type": "code",
   "source": "total(1000, pow, 2, 100)",
   "id": "3195b9e181272c55",
   "execution_count": 19,
   "outputs": []
  },
  {
   "metadata": {
    "ExecuteTime": {
     "end_time": "2024-06-24T05:57:49.949051Z",
     "start_time": "2024-06-24T05:57:49.945867Z"
    }
   },
   "cell_type": "code",
   "source": "bestof(1000, pow, 2, 100)",
   "id": "fd4f36ec0bee9764",
   "execution_count": 20,
   "outputs": []
  },
  {
   "metadata": {
    "ExecuteTime": {
     "end_time": "2024-06-24T05:58:22.391478Z",
     "start_time": "2024-06-24T05:58:22.386944Z"
    }
   },
   "cell_type": "code",
   "source": "total(1000, str.upper, 'spam')",
   "id": "8cf658fe7521a140",
   "execution_count": 22,
   "outputs": []
  },
  {
   "metadata": {
    "ExecuteTime": {
     "end_time": "2024-06-24T06:20:38.223726Z",
     "start_time": "2024-06-24T06:20:38.218438Z"
    }
   },
   "cell_type": "code",
   "source": [
    "import time\n",
    "def total(func, *args, **kwargs):\n",
    "    \"\"\"\n",
    "    计算函数运行时间\n",
    "    \"\"\"\n",
    "    _reps = kwargs.pop('reps', 1000)\n",
    "    repslist = list(range(_reps))\n",
    "    start = time.time()\n",
    "    for i in repslist:\n",
    "        ret = func(*args, **kwargs)\n",
    "    elapsed = time.time() - start\n",
    "    return (elapsed, ret)\n",
    "\n",
    "def bestof(func, *args, **kwargs):\n",
    "    \"\"\"\n",
    "    计算函数运行最快时间\n",
    "    \"\"\"\n",
    "    _reps = kwargs.pop('reps', 5)\n",
    "    best = 2 ** 32\n",
    "    for i in range(_reps):\n",
    "        start = time.time()\n",
    "        ret = func(*args, **kwargs)\n",
    "        elapsed = time.time() - start\n",
    "        if elapsed < best:\n",
    "            best = elapsed\n",
    "    return (best, ret)\n",
    "\n",
    "def bestoftotal(func, *args, **kwargs):\n",
    "    \"\"\"\n",
    "    计算函数运行最快时间\n",
    "    \"\"\"\n",
    "    reps1 = kwargs.pop('reps1', 5)\n",
    "    return min(total(func, *args, **kwargs) for i in range(reps1))"
   ],
   "id": "2c0ebf5b84bd57e",
   "execution_count": 23,
   "outputs": []
  },
  {
   "metadata": {
    "ExecuteTime": {
     "end_time": "2024-06-24T06:20:47.528561Z",
     "start_time": "2024-06-24T06:20:47.524774Z"
    }
   },
   "cell_type": "code",
   "source": "total(pow,2,1000)",
   "id": "e9f65513d17a5938",
   "execution_count": 24,
   "outputs": []
  },
  {
   "metadata": {
    "ExecuteTime": {
     "end_time": "2024-06-24T06:21:10.894002Z",
     "start_time": "2024-06-24T06:21:10.891617Z"
    }
   },
   "cell_type": "code",
   "source": "total(pow,2,1000,reps=100)",
   "id": "38079b856dbcba4c",
   "execution_count": 25,
   "outputs": []
  },
  {
   "metadata": {
    "ExecuteTime": {
     "end_time": "2024-06-24T06:21:38.871278Z",
     "start_time": "2024-06-24T06:21:38.866212Z"
    }
   },
   "cell_type": "code",
   "source": "bestof(pow,2,1000, reps=10)",
   "id": "8141d1e09933dc7f",
   "execution_count": 26,
   "outputs": []
  },
  {
   "metadata": {
    "ExecuteTime": {
     "end_time": "2024-06-24T06:22:03.530052Z",
     "start_time": "2024-06-24T06:22:03.527349Z"
    }
   },
   "cell_type": "code",
   "source": "bestoftotal(pow, 2, 1000, reps=100)",
   "id": "272e37442bed2d09",
   "execution_count": 28,
   "outputs": []
  },
  {
   "metadata": {},
   "cell_type": "markdown",
   "source": "# Timeit",
   "id": "893479abb4eb1af3"
  },
  {
   "metadata": {
    "ExecuteTime": {
     "end_time": "2024-06-24T06:26:10.211813Z",
     "start_time": "2024-06-24T06:26:10.208594Z"
    }
   },
   "cell_type": "code",
   "source": "import timeit",
   "id": "13c722a64cd11c99",
   "execution_count": 29,
   "outputs": []
  },
  {
   "metadata": {
    "ExecuteTime": {
     "end_time": "2024-06-24T06:27:04.507893Z",
     "start_time": "2024-06-24T06:27:04.419783Z"
    }
   },
   "cell_type": "code",
   "source": "min(timeit.repeat(\"[x**2 for x in range(1000)]\", repeat=3, number=1000))",
   "id": "de3a8ea015939564",
   "execution_count": 30,
   "outputs": []
  },
  {
   "metadata": {
    "ExecuteTime": {
     "end_time": "2024-06-24T06:32:21.147881Z",
     "start_time": "2024-06-24T06:32:21.144437Z"
    }
   },
   "cell_type": "code",
   "source": [
    "def testcase():\n",
    "    y = [x**2 for x in range(1000)]"
   ],
   "id": "a798b6245306e61e",
   "execution_count": 37,
   "outputs": []
  },
  {
   "metadata": {
    "ExecuteTime": {
     "end_time": "2024-06-24T06:32:32.203271Z",
     "start_time": "2024-06-24T06:32:32.117181Z"
    }
   },
   "cell_type": "code",
   "source": "timeit.repeat(testcase, repeat=3, number=1000)",
   "id": "6409820982b4e3c8",
   "execution_count": 38,
   "outputs": []
  },
  {
   "metadata": {
    "ExecuteTime": {
     "end_time": "2024-06-24T06:34:13.238993Z",
     "start_time": "2024-06-24T06:34:13.127937Z"
    }
   },
   "cell_type": "code",
   "source": "timeit.repeat(stmt='list(map(lambda a:a*a, L))', setup='L=range(1000)', repeat=3, number=1000)",
   "id": "1c2191da38f16bce",
   "execution_count": 40,
   "outputs": []
  },
  {
   "metadata": {
    "ExecuteTime": {
     "end_time": "2024-06-24T06:34:39.514466Z",
     "start_time": "2024-06-24T06:34:39.443802Z"
    }
   },
   "cell_type": "code",
   "source": "timeit.repeat(stmt='[a*a for a in L]', setup='L=range(1000)', repeat=3, number=1000)",
   "id": "b937e906ab73c094",
   "execution_count": 41,
   "outputs": []
  },
  {
   "metadata": {
    "ExecuteTime": {
     "end_time": "2024-06-24T06:42:39.277896Z",
     "start_time": "2024-06-24T06:42:39.275460Z"
    }
   },
   "cell_type": "code",
   "source": "[] or []",
   "id": "9ec81355c471cc4f",
   "execution_count": 45,
   "outputs": []
  },
  {
   "metadata": {},
   "cell_type": "markdown",
   "source": "# 模块",
   "id": "fc501cd951ce86b"
  },
  {
   "metadata": {
    "ExecuteTime": {
     "end_time": "2024-06-24T07:17:50.960143Z",
     "start_time": "2024-06-24T07:17:50.943159Z"
    }
   },
   "cell_type": "code",
   "source": "import sys",
   "id": "5deef5d5de609db7",
   "execution_count": 46,
   "outputs": []
  },
  {
   "metadata": {
    "ExecuteTime": {
     "end_time": "2024-06-24T07:17:53.028477Z",
     "start_time": "2024-06-24T07:17:53.026014Z"
    }
   },
   "cell_type": "code",
   "source": "sys.path",
   "id": "fbbefc7003a83660",
   "execution_count": 47,
   "outputs": []
  },
  {
   "metadata": {
    "ExecuteTime": {
     "end_time": "2024-06-24T08:06:12.363389Z",
     "start_time": "2024-06-24T08:06:12.354102Z"
    }
   },
   "cell_type": "code",
   "source": "import dir1.dir2.mod",
   "id": "81e1978d48c4d7c7",
   "execution_count": 48,
   "outputs": []
  },
  {
   "metadata": {
    "ExecuteTime": {
     "end_time": "2024-06-24T08:06:19.932391Z",
     "start_time": "2024-06-24T08:06:19.929875Z"
    }
   },
   "cell_type": "code",
   "source": "import dir1.dir2.mod\n",
   "id": "6163e75f3cb043d1",
   "execution_count": 49,
   "outputs": []
  },
  {
   "metadata": {
    "ExecuteTime": {
     "end_time": "2024-06-24T08:06:29.606400Z",
     "start_time": "2024-06-24T08:06:29.597591Z"
    }
   },
   "cell_type": "code",
   "source": "from imp import reload",
   "id": "9970a04a45175075",
   "execution_count": 50,
   "outputs": []
  },
  {
   "metadata": {
    "ExecuteTime": {
     "end_time": "2024-06-24T08:06:40.707884Z",
     "start_time": "2024-06-24T08:06:40.704631Z"
    }
   },
   "cell_type": "code",
   "source": "reload(dir1.dir2.mod)",
   "id": "a2889649ee75af10",
   "execution_count": 51,
   "outputs": []
  },
  {
   "metadata": {
    "ExecuteTime": {
     "end_time": "2024-06-24T08:07:05.856218Z",
     "start_time": "2024-06-24T08:07:05.846861Z"
    }
   },
   "cell_type": "code",
   "source": "reload(dir1)",
   "id": "c86a7155274c62a3",
   "execution_count": 52,
   "outputs": []
  },
  {
   "metadata": {
    "ExecuteTime": {
     "end_time": "2024-06-24T08:07:10.857966Z",
     "start_time": "2024-06-24T08:07:10.854509Z"
    }
   },
   "cell_type": "code",
   "source": "reload(dir1.dir2)",
   "id": "a4129af1093b0a02",
   "execution_count": 53,
   "outputs": []
  },
  {
   "metadata": {
    "ExecuteTime": {
     "end_time": "2024-06-24T08:08:00.611645Z",
     "start_time": "2024-06-24T08:08:00.607298Z"
    }
   },
   "cell_type": "code",
   "source": "dir1.dir2.mod.z",
   "id": "c9cba0a06251ad47",
   "execution_count": 54,
   "outputs": []
  },
  {
   "metadata": {
    "ExecuteTime": {
     "end_time": "2024-06-24T08:08:47.685031Z",
     "start_time": "2024-06-24T08:08:47.683251Z"
    }
   },
   "cell_type": "code",
   "source": "from dir1.dir2 import mod",
   "id": "c825713faa6c3865",
   "execution_count": 56,
   "outputs": []
  },
  {
   "metadata": {
    "ExecuteTime": {
     "end_time": "2024-06-24T08:08:52.923485Z",
     "start_time": "2024-06-24T08:08:52.921125Z"
    }
   },
   "cell_type": "code",
   "source": "mod.z",
   "id": "c98666e55264a6a5",
   "execution_count": 57,
   "outputs": []
  },
  {
   "metadata": {
    "ExecuteTime": {
     "end_time": "2024-06-24T08:09:11.358964Z",
     "start_time": "2024-06-24T08:09:11.354902Z"
    }
   },
   "cell_type": "code",
   "source": [
    "import dir1.dir2.mod as mod\n",
    "mod.z"
   ],
   "id": "c40dc342c1e770be",
   "execution_count": 58,
   "outputs": []
  },
  {
   "metadata": {
    "ExecuteTime": {
     "end_time": "2024-06-24T08:09:24.430713Z",
     "start_time": "2024-06-24T08:09:24.425851Z"
    }
   },
   "cell_type": "code",
   "source": [
    "from dir1.dir2.mod import z as modz\n",
    "modz"
   ],
   "id": "ed6fa7ec284e5260",
   "execution_count": 59,
   "outputs": []
  },
  {
   "metadata": {},
   "cell_type": "markdown",
   "source": "# 相对导入",
   "id": "bd4be4eb9413fa60"
  },
  {
   "metadata": {},
   "cell_type": "code",
   "source": "# from .string import name",
   "id": "59bef95bc49839d1",
   "execution_count": null,
   "outputs": []
  },
  {
   "metadata": {},
   "cell_type": "markdown",
   "source": "# __all__",
   "id": "2223978399d1d1f7"
  },
  {
   "metadata": {
    "ExecuteTime": {
     "end_time": "2024-06-24T13:02:29.258126Z",
     "start_time": "2024-06-24T13:02:29.253529Z"
    }
   },
   "cell_type": "code",
   "source": "from all import *",
   "id": "6a9102c5a453f521",
   "execution_count": 1,
   "outputs": []
  },
  {
   "metadata": {
    "ExecuteTime": {
     "end_time": "2024-06-24T13:02:29.573519Z",
     "start_time": "2024-06-24T13:02:29.570293Z"
    }
   },
   "cell_type": "code",
   "source": "a,b",
   "id": "ae761910a0d8ce3b",
   "execution_count": 2,
   "outputs": []
  },
  {
   "metadata": {
    "ExecuteTime": {
     "end_time": "2024-06-24T13:02:30.296392Z",
     "start_time": "2024-06-24T13:02:30.114402Z"
    }
   },
   "cell_type": "code",
   "source": "c,d",
   "id": "f4040fc3e80f9611",
   "execution_count": 3,
   "outputs": []
  },
  {
   "metadata": {
    "ExecuteTime": {
     "end_time": "2024-06-24T13:02:31.872396Z",
     "start_time": "2024-06-24T13:02:31.867859Z"
    }
   },
   "cell_type": "code",
   "source": "from imp import reload",
   "id": "d019487d8df53be9",
   "execution_count": 4,
   "outputs": []
  },
  {
   "metadata": {
    "ExecuteTime": {
     "end_time": "2024-06-24T13:02:54.278806Z",
     "start_time": "2024-06-24T13:02:54.273690Z"
    }
   },
   "cell_type": "code",
   "source": "from all import *",
   "id": "8936b14b71737d9a",
   "execution_count": 7,
   "outputs": []
  },
  {
   "metadata": {
    "ExecuteTime": {
     "end_time": "2024-06-24T13:04:12.441934Z",
     "start_time": "2024-06-24T13:04:12.434319Z"
    }
   },
   "cell_type": "code",
   "source": "__dict__",
   "id": "f5a3a7f7b06b2e57",
   "execution_count": 13,
   "outputs": []
  },
  {
   "metadata": {
    "ExecuteTime": {
     "end_time": "2024-06-24T13:04:16.473957Z",
     "start_time": "2024-06-24T13:04:16.471708Z"
    }
   },
   "cell_type": "code",
   "source": "__name__",
   "id": "21c8a9edd903e69f",
   "execution_count": 14,
   "outputs": []
  },
  {
   "metadata": {
    "ExecuteTime": {
     "end_time": "2024-06-24T13:33:14.607463Z",
     "start_time": "2024-06-24T13:33:14.603385Z"
    }
   },
   "cell_type": "code",
   "source": "sorted({'a':1,'b':2})",
   "id": "1cbc5900b0e5730b",
   "execution_count": 16,
   "outputs": []
  },
  {
   "metadata": {},
   "cell_type": "markdown",
   "source": "importlib",
   "id": "d2abcb3e9081190e"
  },
  {
   "metadata": {
    "ExecuteTime": {
     "end_time": "2024-06-24T13:36:31.852524Z",
     "start_time": "2024-06-24T13:36:31.849005Z"
    }
   },
   "cell_type": "code",
   "source": "import importlib",
   "id": "ea5c56bd6e12a7a6",
   "execution_count": 17,
   "outputs": []
  },
  {
   "metadata": {
    "ExecuteTime": {
     "end_time": "2024-06-24T13:36:57.796758Z",
     "start_time": "2024-06-24T13:36:57.786567Z"
    }
   },
   "cell_type": "code",
   "source": [
    "modname = 'formats'\n",
    "formats = importlib.import_module(modname)"
   ],
   "id": "146d73a5be78ed4b",
   "execution_count": 18,
   "outputs": []
  },
  {
   "metadata": {
    "ExecuteTime": {
     "end_time": "2024-06-24T13:36:59.947440Z",
     "start_time": "2024-06-24T13:36:59.944911Z"
    }
   },
   "cell_type": "code",
   "source": "formats",
   "id": "bcbb29e39d1744f5",
   "execution_count": 19,
   "outputs": []
  },
  {
   "metadata": {},
   "cell_type": "markdown",
   "source": "__import__",
   "id": "c5c642fba94dd0b4"
  },
  {
   "metadata": {
    "ExecuteTime": {
     "end_time": "2024-06-24T13:38:59.004555Z",
     "start_time": "2024-06-24T13:38:59.000292Z"
    }
   },
   "cell_type": "code",
   "source": [
    "modname = 'all'\n",
    "all = __import__(modname)"
   ],
   "id": "55728e147c530b4a",
   "execution_count": 20,
   "outputs": []
  },
  {
   "metadata": {
    "ExecuteTime": {
     "end_time": "2024-06-24T13:39:00.453052Z",
     "start_time": "2024-06-24T13:39:00.450301Z"
    }
   },
   "cell_type": "code",
   "source": "all",
   "id": "773e95190ce8d83d",
   "execution_count": 21,
   "outputs": []
  },
  {
   "metadata": {
    "ExecuteTime": {
     "end_time": "2024-06-25T02:40:36.691062Z",
     "start_time": "2024-06-25T02:40:36.682550Z"
    }
   },
   "cell_type": "code",
   "source": "f = open('text.log')",
   "id": "2d15dc02f77a9e3e",
   "execution_count": 34,
   "outputs": []
  },
  {
   "metadata": {
    "ExecuteTime": {
     "end_time": "2024-06-25T02:40:36.950396Z",
     "start_time": "2024-06-25T02:40:36.947310Z"
    }
   },
   "cell_type": "code",
   "source": "f.read()",
   "id": "e1d1c9fb2da3e760",
   "execution_count": 35,
   "outputs": []
  },
  {
   "metadata": {
    "ExecuteTime": {
     "end_time": "2024-06-25T02:40:37.654044Z",
     "start_time": "2024-06-25T02:40:37.651099Z"
    }
   },
   "cell_type": "code",
   "source": [
    "f = open('text.log')\n",
    "f.readlines()"
   ],
   "id": "4622e055b23b8392",
   "execution_count": 36,
   "outputs": []
  },
  {
   "metadata": {
    "ExecuteTime": {
     "end_time": "2024-06-25T02:41:28.285081Z",
     "start_time": "2024-06-25T02:41:28.282746Z"
    }
   },
   "cell_type": "code",
   "source": [
    "f = open('text.log')\n",
    "for line in f:\n",
    "    print(line)"
   ],
   "id": "f7cf2c9499ed4e97",
   "execution_count": 38,
   "outputs": []
  },
  {
   "metadata": {
    "ExecuteTime": {
     "end_time": "2024-06-25T02:42:06.696903Z",
     "start_time": "2024-06-25T02:42:06.693633Z"
    }
   },
   "cell_type": "code",
   "source": "str.count('asd', 'a')",
   "id": "15ef6033ebaa6a8d",
   "execution_count": 42,
   "outputs": []
  },
  {
   "metadata": {},
   "cell_type": "code",
   "execution_count": null,
   "source": "",
   "id": "8ea030941f8aa8e4",
   "outputs": []
  }
 ],
 "metadata": {
  "kernelspec": {
   "display_name": "Python 3",
   "language": "python",
   "name": "python3"
  },
  "language_info": {
   "codemirror_mode": {
    "name": "ipython",
    "version": 2
   },
   "file_extension": ".py",
   "mimetype": "text/x-python",
   "name": "python",
   "nbconvert_exporter": "python",
   "pygments_lexer": "ipython2",
   "version": "2.7.6"
  }
 },
 "nbformat": 4,
 "nbformat_minor": 5
}
