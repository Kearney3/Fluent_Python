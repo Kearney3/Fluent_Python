{
 "cells": [
  {
   "metadata": {},
   "cell_type": "markdown",
   "source": "# 基准测试",
   "id": "b7ad8ed75f6b35cc"
  },
  {
   "cell_type": "code",
   "id": "initial_id",
   "metadata": {
    "collapsed": true,
    "ExecuteTime": {
     "end_time": "2024-07-08T02:20:34.560540Z",
     "start_time": "2024-07-08T02:20:34.556978Z"
    }
   },
   "source": [
    "import time\n",
    "def timer(func, *args, **kwargs):\n",
    "    start = time.time()\n",
    "    for i in range(1000):\n",
    "        func(*args, **kwargs)\n",
    "    return time.time() - start"
   ],
   "outputs": [],
   "execution_count": 1
  },
  {
   "metadata": {
    "ExecuteTime": {
     "end_time": "2024-07-08T02:20:34.564317Z",
     "start_time": "2024-07-08T02:20:34.561458Z"
    }
   },
   "cell_type": "code",
   "source": "timer(pow,2,100)",
   "id": "a4d1a81dbb657f71",
   "outputs": [
    {
     "data": {
      "text/plain": [
       "0.00015687942504882812"
      ]
     },
     "execution_count": 2,
     "metadata": {},
     "output_type": "execute_result"
    }
   ],
   "execution_count": 2
  },
  {
   "metadata": {
    "ExecuteTime": {
     "end_time": "2024-07-08T02:20:34.566956Z",
     "start_time": "2024-07-08T02:20:34.564824Z"
    }
   },
   "cell_type": "code",
   "source": "time.ctime()",
   "id": "b5d5e56cf15e534",
   "outputs": [
    {
     "data": {
      "text/plain": [
       "'Mon Jul  8 10:20:34 2024'"
      ]
     },
     "execution_count": 3,
     "metadata": {},
     "output_type": "execute_result"
    }
   ],
   "execution_count": 3
  },
  {
   "metadata": {
    "ExecuteTime": {
     "end_time": "2024-07-08T02:20:34.570922Z",
     "start_time": "2024-07-08T02:20:34.568183Z"
    }
   },
   "cell_type": "code",
   "source": [
    "def total(reps, func, *args, **kwargs):\n",
    "    \"\"\"\n",
    "    计算函数运行时间\n",
    "    \"\"\"\n",
    "    repslist = list(range(reps))\n",
    "    start = time.time()\n",
    "    for i in repslist:\n",
    "        ret = func(*args, **kwargs)\n",
    "    elapsed = time.time() - start\n",
    "    return (elapsed, ret)\n",
    "\n",
    "def bestof(reps, func, *args, **kwargs):\n",
    "    \"\"\"\n",
    "    计算函数运行最快时间\n",
    "    \"\"\"\n",
    "    best = 2 ** 32\n",
    "    for i in range(reps):\n",
    "        start = time.time()\n",
    "        ret = func(*args, **kwargs)\n",
    "        elapsed = time.time() - start\n",
    "        if elapsed < best:\n",
    "            best = elapsed\n",
    "    return (best, ret)\n",
    "\n",
    "def bestoftotal(reps1, reps2, func, *args, **kwargs):\n",
    "    \"\"\"\n",
    "    计算函数运行最快时间\n",
    "    \"\"\"\n",
    "    return bestof(reps1, total, reps2, func, *args, **kwargs)"
   ],
   "id": "c12c5f0614e1f200",
   "outputs": [],
   "execution_count": 4
  },
  {
   "metadata": {
    "ExecuteTime": {
     "end_time": "2024-07-08T02:20:34.573999Z",
     "start_time": "2024-07-08T02:20:34.571780Z"
    }
   },
   "cell_type": "code",
   "source": "total(1000, pow, 2, 100)",
   "id": "3195b9e181272c55",
   "outputs": [
    {
     "data": {
      "text/plain": [
       "(0.0001049041748046875, 1267650600228229401496703205376)"
      ]
     },
     "execution_count": 5,
     "metadata": {},
     "output_type": "execute_result"
    }
   ],
   "execution_count": 5
  },
  {
   "metadata": {
    "ExecuteTime": {
     "end_time": "2024-07-08T02:20:34.584655Z",
     "start_time": "2024-07-08T02:20:34.581932Z"
    }
   },
   "cell_type": "code",
   "source": "bestof(1000, pow, 2, 100)",
   "id": "fd4f36ec0bee9764",
   "outputs": [
    {
     "data": {
      "text/plain": [
       "(0.0, 1267650600228229401496703205376)"
      ]
     },
     "execution_count": 6,
     "metadata": {},
     "output_type": "execute_result"
    }
   ],
   "execution_count": 6
  },
  {
   "metadata": {
    "ExecuteTime": {
     "end_time": "2024-07-08T02:20:34.612405Z",
     "start_time": "2024-07-08T02:20:34.610029Z"
    }
   },
   "cell_type": "code",
   "source": "total(1000, str.upper, 'spam')",
   "id": "8cf658fe7521a140",
   "outputs": [
    {
     "data": {
      "text/plain": [
       "(3.409385681152344e-05, 'SPAM')"
      ]
     },
     "execution_count": 7,
     "metadata": {},
     "output_type": "execute_result"
    }
   ],
   "execution_count": 7
  },
  {
   "metadata": {
    "ExecuteTime": {
     "end_time": "2024-07-08T02:20:34.642797Z",
     "start_time": "2024-07-08T02:20:34.639682Z"
    }
   },
   "cell_type": "code",
   "source": [
    "import time\n",
    "def total(func, *args, **kwargs):\n",
    "    \"\"\"\n",
    "    计算函数运行时间\n",
    "    \"\"\"\n",
    "    _reps = kwargs.pop('reps', 1000)\n",
    "    repslist = list(range(_reps))\n",
    "    start = time.time()\n",
    "    for i in repslist:\n",
    "        ret = func(*args, **kwargs)\n",
    "    elapsed = time.time() - start\n",
    "    return (elapsed, ret)\n",
    "\n",
    "def bestof(func, *args, **kwargs):\n",
    "    \"\"\"\n",
    "    计算函数运行最快时间\n",
    "    \"\"\"\n",
    "    _reps = kwargs.pop('reps', 5)\n",
    "    best = 2 ** 32\n",
    "    for i in range(_reps):\n",
    "        start = time.time()\n",
    "        ret = func(*args, **kwargs)\n",
    "        elapsed = time.time() - start\n",
    "        if elapsed < best:\n",
    "            best = elapsed\n",
    "    return (best, ret)\n",
    "\n",
    "def bestoftotal(func, *args, **kwargs):\n",
    "    \"\"\"\n",
    "    计算函数运行最快时间\n",
    "    \"\"\"\n",
    "    reps1 = kwargs.pop('reps1', 5)\n",
    "    return min(total(func, *args, **kwargs) for i in range(reps1))"
   ],
   "id": "2c0ebf5b84bd57e",
   "outputs": [],
   "execution_count": 8
  },
  {
   "metadata": {
    "ExecuteTime": {
     "end_time": "2024-07-08T02:20:34.675291Z",
     "start_time": "2024-07-08T02:20:34.672460Z"
    }
   },
   "cell_type": "code",
   "source": "total(pow,2,1000)",
   "id": "e9f65513d17a5938",
   "outputs": [
    {
     "data": {
      "text/plain": [
       "(0.00043487548828125,\n",
       " 10715086071862673209484250490600018105614048117055336074437503883703510511249361224931983788156958581275946729175531468251871452856923140435984577574698574803934567774824230985421074605062371141877954182153046474983581941267398767559165543946077062914571196477686542167660429831652624386837205668069376)"
      ]
     },
     "execution_count": 9,
     "metadata": {},
     "output_type": "execute_result"
    }
   ],
   "execution_count": 9
  },
  {
   "metadata": {
    "ExecuteTime": {
     "end_time": "2024-07-08T02:20:34.707518Z",
     "start_time": "2024-07-08T02:20:34.705012Z"
    }
   },
   "cell_type": "code",
   "source": "total(pow,2,1000,reps=100)",
   "id": "38079b856dbcba4c",
   "outputs": [
    {
     "data": {
      "text/plain": [
       "(4.291534423828125e-05,\n",
       " 10715086071862673209484250490600018105614048117055336074437503883703510511249361224931983788156958581275946729175531468251871452856923140435984577574698574803934567774824230985421074605062371141877954182153046474983581941267398767559165543946077062914571196477686542167660429831652624386837205668069376)"
      ]
     },
     "execution_count": 10,
     "metadata": {},
     "output_type": "execute_result"
    }
   ],
   "execution_count": 10
  },
  {
   "metadata": {
    "ExecuteTime": {
     "end_time": "2024-07-08T02:20:34.755076Z",
     "start_time": "2024-07-08T02:20:34.752863Z"
    }
   },
   "cell_type": "code",
   "source": "bestof(pow,2,1000, reps=10)",
   "id": "8141d1e09933dc7f",
   "outputs": [
    {
     "data": {
      "text/plain": [
       "(0.0,\n",
       " 10715086071862673209484250490600018105614048117055336074437503883703510511249361224931983788156958581275946729175531468251871452856923140435984577574698574803934567774824230985421074605062371141877954182153046474983581941267398767559165543946077062914571196477686542167660429831652624386837205668069376)"
      ]
     },
     "execution_count": 11,
     "metadata": {},
     "output_type": "execute_result"
    }
   ],
   "execution_count": 11
  },
  {
   "metadata": {
    "ExecuteTime": {
     "end_time": "2024-07-08T02:20:34.785345Z",
     "start_time": "2024-07-08T02:20:34.782911Z"
    }
   },
   "cell_type": "code",
   "source": "bestoftotal(pow, 2, 1000, reps=100)",
   "id": "272e37442bed2d09",
   "outputs": [
    {
     "data": {
      "text/plain": [
       "(3.886222839355469e-05,\n",
       " 10715086071862673209484250490600018105614048117055336074437503883703510511249361224931983788156958581275946729175531468251871452856923140435984577574698574803934567774824230985421074605062371141877954182153046474983581941267398767559165543946077062914571196477686542167660429831652624386837205668069376)"
      ]
     },
     "execution_count": 12,
     "metadata": {},
     "output_type": "execute_result"
    }
   ],
   "execution_count": 12
  },
  {
   "metadata": {},
   "cell_type": "markdown",
   "source": "# Timeit",
   "id": "893479abb4eb1af3"
  },
  {
   "metadata": {
    "ExecuteTime": {
     "end_time": "2024-07-08T02:20:34.827239Z",
     "start_time": "2024-07-08T02:20:34.825480Z"
    }
   },
   "cell_type": "code",
   "source": "import timeit",
   "id": "13c722a64cd11c99",
   "outputs": [],
   "execution_count": 13
  },
  {
   "metadata": {
    "ExecuteTime": {
     "end_time": "2024-07-08T02:20:34.924718Z",
     "start_time": "2024-07-08T02:20:34.842028Z"
    }
   },
   "cell_type": "code",
   "source": "min(timeit.repeat(\"[x**2 for x in range(1000)]\", repeat=3, number=1000))",
   "id": "de3a8ea015939564",
   "outputs": [
    {
     "data": {
      "text/plain": [
       "0.026665167009923607"
      ]
     },
     "execution_count": 14,
     "metadata": {},
     "output_type": "execute_result"
    }
   ],
   "execution_count": 14
  },
  {
   "metadata": {
    "ExecuteTime": {
     "end_time": "2024-07-08T02:20:34.927423Z",
     "start_time": "2024-07-08T02:20:34.925655Z"
    }
   },
   "cell_type": "code",
   "source": [
    "def testcase():\n",
    "    y = [x**2 for x in range(1000)]"
   ],
   "id": "a798b6245306e61e",
   "outputs": [],
   "execution_count": 15
  },
  {
   "metadata": {
    "ExecuteTime": {
     "end_time": "2024-07-08T02:20:35.010925Z",
     "start_time": "2024-07-08T02:20:34.927946Z"
    }
   },
   "cell_type": "code",
   "source": "timeit.repeat(testcase, repeat=3, number=1000)",
   "id": "6409820982b4e3c8",
   "outputs": [
    {
     "data": {
      "text/plain": [
       "[0.02681679098168388, 0.026563916995655745, 0.027625167043879628]"
      ]
     },
     "execution_count": 16,
     "metadata": {},
     "output_type": "execute_result"
    }
   ],
   "execution_count": 16
  },
  {
   "metadata": {
    "ExecuteTime": {
     "end_time": "2024-07-08T02:20:35.127491Z",
     "start_time": "2024-07-08T02:20:35.012055Z"
    }
   },
   "cell_type": "code",
   "source": "timeit.repeat(stmt='list(map(lambda a:a*a, L))', setup='L=range(1000)', repeat=3, number=1000)",
   "id": "1c2191da38f16bce",
   "outputs": [
    {
     "data": {
      "text/plain": [
       "[0.03876125003444031, 0.03735583397792652, 0.03708204202121124]"
      ]
     },
     "execution_count": 17,
     "metadata": {},
     "output_type": "execute_result"
    }
   ],
   "execution_count": 17
  },
  {
   "metadata": {
    "ExecuteTime": {
     "end_time": "2024-07-08T02:20:35.193314Z",
     "start_time": "2024-07-08T02:20:35.128246Z"
    }
   },
   "cell_type": "code",
   "source": "timeit.repeat(stmt='[a*a for a in L]', setup='L=range(1000)', repeat=3, number=1000)",
   "id": "b937e906ab73c094",
   "outputs": [
    {
     "data": {
      "text/plain": [
       "[0.020919208007398993, 0.020929292018990964, 0.0207897910149768]"
      ]
     },
     "execution_count": 18,
     "metadata": {},
     "output_type": "execute_result"
    }
   ],
   "execution_count": 18
  },
  {
   "metadata": {
    "ExecuteTime": {
     "end_time": "2024-07-08T02:20:35.196510Z",
     "start_time": "2024-07-08T02:20:35.193990Z"
    }
   },
   "cell_type": "code",
   "source": "[] or []",
   "id": "9ec81355c471cc4f",
   "outputs": [
    {
     "data": {
      "text/plain": [
       "[]"
      ]
     },
     "execution_count": 19,
     "metadata": {},
     "output_type": "execute_result"
    }
   ],
   "execution_count": 19
  },
  {
   "metadata": {},
   "cell_type": "markdown",
   "source": "# 模块",
   "id": "fc501cd951ce86b"
  },
  {
   "metadata": {
    "ExecuteTime": {
     "end_time": "2024-07-08T02:20:35.198690Z",
     "start_time": "2024-07-08T02:20:35.197195Z"
    }
   },
   "cell_type": "code",
   "source": "import sys",
   "id": "5deef5d5de609db7",
   "outputs": [],
   "execution_count": 20
  },
  {
   "metadata": {
    "ExecuteTime": {
     "end_time": "2024-07-08T02:20:35.201201Z",
     "start_time": "2024-07-08T02:20:35.199199Z"
    }
   },
   "cell_type": "code",
   "source": "sys.path",
   "id": "fbbefc7003a83660",
   "outputs": [
    {
     "data": {
      "text/plain": [
       "['/Users/kearney/CODE/Fluent_Python/Learning Python',\n",
       " '/Users/kearney/CODE/Fluent_Python',\n",
       " '/Users/kearney/CODE/Fluent_Python/Learning Python',\n",
       " '/Users/kearney/anaconda3/lib/python311.zip',\n",
       " '/Users/kearney/anaconda3/lib/python3.11',\n",
       " '/Users/kearney/anaconda3/lib/python3.11/lib-dynload',\n",
       " '',\n",
       " '/Users/kearney/anaconda3/lib/python3.11/site-packages',\n",
       " '/Users/kearney/anaconda3/lib/python3.11/site-packages/aeosa']"
      ]
     },
     "execution_count": 21,
     "metadata": {},
     "output_type": "execute_result"
    }
   ],
   "execution_count": 21
  },
  {
   "metadata": {
    "ExecuteTime": {
     "end_time": "2024-07-08T02:20:35.205042Z",
     "start_time": "2024-07-08T02:20:35.201823Z"
    }
   },
   "cell_type": "code",
   "source": "import dir1.dir2.mod",
   "id": "81e1978d48c4d7c7",
   "outputs": [
    {
     "name": "stdout",
     "output_type": "stream",
     "text": [
      "dir1 init\n",
      "dir2 init\n",
      "string in dir2\n",
      "in mod.py\n"
     ]
    }
   ],
   "execution_count": 22
  },
  {
   "metadata": {
    "ExecuteTime": {
     "end_time": "2024-07-08T02:20:35.208899Z",
     "start_time": "2024-07-08T02:20:35.207281Z"
    }
   },
   "cell_type": "code",
   "source": "import dir1.dir2.mod\n",
   "id": "6163e75f3cb043d1",
   "outputs": [],
   "execution_count": 23
  },
  {
   "metadata": {
    "ExecuteTime": {
     "end_time": "2024-07-08T02:20:35.212008Z",
     "start_time": "2024-07-08T02:20:35.209653Z"
    }
   },
   "cell_type": "code",
   "source": "from imp import reload",
   "id": "9970a04a45175075",
   "outputs": [
    {
     "name": "stderr",
     "output_type": "stream",
     "text": [
      "/var/folders/l6/lzt7hk8j2873k3xp1_cpjcbh0000gn/T/ipykernel_80339/152666360.py:1: DeprecationWarning: the imp module is deprecated in favour of importlib and slated for removal in Python 3.12; see the module's documentation for alternative uses\n",
      "  from imp import reload\n"
     ]
    }
   ],
   "execution_count": 24
  },
  {
   "metadata": {
    "ExecuteTime": {
     "end_time": "2024-07-08T02:20:35.214803Z",
     "start_time": "2024-07-08T02:20:35.212473Z"
    }
   },
   "cell_type": "code",
   "source": "reload(dir1.dir2.mod)",
   "id": "a2889649ee75af10",
   "outputs": [
    {
     "name": "stdout",
     "output_type": "stream",
     "text": [
      "in mod.py\n"
     ]
    },
    {
     "data": {
      "text/plain": [
       "<module 'dir1.dir2.mod' from '/Users/kearney/CODE/Fluent_Python/Learning Python/dir1/dir2/mod.py'>"
      ]
     },
     "execution_count": 25,
     "metadata": {},
     "output_type": "execute_result"
    }
   ],
   "execution_count": 25
  },
  {
   "metadata": {
    "ExecuteTime": {
     "end_time": "2024-07-08T02:20:35.217963Z",
     "start_time": "2024-07-08T02:20:35.215413Z"
    }
   },
   "cell_type": "code",
   "source": "reload(dir1)",
   "id": "c86a7155274c62a3",
   "outputs": [
    {
     "name": "stdout",
     "output_type": "stream",
     "text": [
      "dir1 init\n"
     ]
    },
    {
     "data": {
      "text/plain": [
       "<module 'dir1' from '/Users/kearney/CODE/Fluent_Python/Learning Python/dir1/__init__.py'>"
      ]
     },
     "execution_count": 26,
     "metadata": {},
     "output_type": "execute_result"
    }
   ],
   "execution_count": 26
  },
  {
   "metadata": {
    "ExecuteTime": {
     "end_time": "2024-07-08T02:20:35.220562Z",
     "start_time": "2024-07-08T02:20:35.218481Z"
    }
   },
   "cell_type": "code",
   "source": "reload(dir1.dir2)",
   "id": "a4129af1093b0a02",
   "outputs": [
    {
     "name": "stdout",
     "output_type": "stream",
     "text": [
      "dir2 init\n"
     ]
    },
    {
     "data": {
      "text/plain": [
       "<module 'dir1.dir2' from '/Users/kearney/CODE/Fluent_Python/Learning Python/dir1/dir2/__init__.py'>"
      ]
     },
     "execution_count": 27,
     "metadata": {},
     "output_type": "execute_result"
    }
   ],
   "execution_count": 27
  },
  {
   "metadata": {
    "ExecuteTime": {
     "end_time": "2024-07-08T02:20:35.222622Z",
     "start_time": "2024-07-08T02:20:35.221101Z"
    }
   },
   "cell_type": "code",
   "source": "dir1.dir2.mod.z",
   "id": "c9cba0a06251ad47",
   "outputs": [
    {
     "data": {
      "text/plain": [
       "3"
      ]
     },
     "execution_count": 28,
     "metadata": {},
     "output_type": "execute_result"
    }
   ],
   "execution_count": 28
  },
  {
   "metadata": {},
   "cell_type": "code",
   "source": "from dir1.dir2 import mod",
   "id": "c825713faa6c3865",
   "outputs": [],
   "execution_count": 29
  },
  {
   "metadata": {
    "ExecuteTime": {
     "end_time": "2024-07-08T02:20:35.227180Z",
     "start_time": "2024-07-08T02:20:35.225017Z"
    }
   },
   "cell_type": "code",
   "source": "mod.z",
   "id": "c98666e55264a6a5",
   "outputs": [
    {
     "data": {
      "text/plain": [
       "3"
      ]
     },
     "execution_count": 30,
     "metadata": {},
     "output_type": "execute_result"
    }
   ],
   "execution_count": 30
  },
  {
   "metadata": {
    "ExecuteTime": {
     "end_time": "2024-07-08T02:20:35.230814Z",
     "start_time": "2024-07-08T02:20:35.228179Z"
    }
   },
   "cell_type": "code",
   "source": [
    "import dir1.dir2.mod as mod\n",
    "mod.z"
   ],
   "id": "c40dc342c1e770be",
   "outputs": [
    {
     "data": {
      "text/plain": [
       "3"
      ]
     },
     "execution_count": 31,
     "metadata": {},
     "output_type": "execute_result"
    }
   ],
   "execution_count": 31
  },
  {
   "metadata": {
    "ExecuteTime": {
     "end_time": "2024-07-08T02:20:35.234811Z",
     "start_time": "2024-07-08T02:20:35.231599Z"
    }
   },
   "cell_type": "code",
   "source": [
    "from dir1.dir2.mod import z as modz\n",
    "modz"
   ],
   "id": "ed6fa7ec284e5260",
   "outputs": [
    {
     "data": {
      "text/plain": [
       "3"
      ]
     },
     "execution_count": 32,
     "metadata": {},
     "output_type": "execute_result"
    }
   ],
   "execution_count": 32
  },
  {
   "metadata": {},
   "cell_type": "markdown",
   "source": "# 相对导入",
   "id": "bd4be4eb9413fa60"
  },
  {
   "metadata": {
    "ExecuteTime": {
     "end_time": "2024-07-08T02:20:35.237297Z",
     "start_time": "2024-07-08T02:20:35.235488Z"
    }
   },
   "cell_type": "code",
   "source": "# from .string import name",
   "id": "59bef95bc49839d1",
   "outputs": [],
   "execution_count": 33
  },
  {
   "metadata": {},
   "cell_type": "markdown",
   "source": "# __all__",
   "id": "2223978399d1d1f7"
  },
  {
   "metadata": {
    "ExecuteTime": {
     "end_time": "2024-07-08T02:20:35.240642Z",
     "start_time": "2024-07-08T02:20:35.238150Z"
    }
   },
   "cell_type": "code",
   "source": "from all import *",
   "id": "6a9102c5a453f521",
   "outputs": [],
   "execution_count": 34
  },
  {
   "metadata": {
    "ExecuteTime": {
     "end_time": "2024-07-08T02:20:35.243781Z",
     "start_time": "2024-07-08T02:20:35.241350Z"
    }
   },
   "cell_type": "code",
   "source": "a,b",
   "id": "ae761910a0d8ce3b",
   "outputs": [
    {
     "data": {
      "text/plain": [
       "(1, 2)"
      ]
     },
     "execution_count": 35,
     "metadata": {},
     "output_type": "execute_result"
    }
   ],
   "execution_count": 35
  },
  {
   "metadata": {
    "ExecuteTime": {
     "end_time": "2024-07-08T02:20:35.435013Z",
     "start_time": "2024-07-08T02:20:35.244449Z"
    }
   },
   "cell_type": "code",
   "source": "c,d",
   "id": "f4040fc3e80f9611",
   "outputs": [
    {
     "ename": "NameError",
     "evalue": "name 'c' is not defined",
     "output_type": "error",
     "traceback": [
      "\u001B[0;31m---------------------------------------------------------------------------\u001B[0m",
      "\u001B[0;31mNameError\u001B[0m                                 Traceback (most recent call last)",
      "Cell \u001B[0;32mIn[36], line 1\u001B[0m\n\u001B[0;32m----> 1\u001B[0m c,d\n",
      "\u001B[0;31mNameError\u001B[0m: name 'c' is not defined"
     ]
    }
   ],
   "execution_count": 36
  },
  {
   "metadata": {
    "ExecuteTime": {
     "end_time": "2024-07-08T02:20:35.435825Z",
     "start_time": "2024-07-08T02:20:35.435782Z"
    }
   },
   "cell_type": "code",
   "source": "from imp import reload",
   "id": "d019487d8df53be9",
   "outputs": [],
   "execution_count": null
  },
  {
   "metadata": {},
   "cell_type": "code",
   "source": "from all import *",
   "id": "8936b14b71737d9a",
   "outputs": [],
   "execution_count": null
  },
  {
   "metadata": {},
   "cell_type": "code",
   "source": "__dict__",
   "id": "f5a3a7f7b06b2e57",
   "outputs": [],
   "execution_count": null
  },
  {
   "metadata": {},
   "cell_type": "code",
   "source": "__name__",
   "id": "21c8a9edd903e69f",
   "outputs": [],
   "execution_count": null
  },
  {
   "metadata": {},
   "cell_type": "code",
   "source": "sorted({'a':1,'b':2})",
   "id": "1cbc5900b0e5730b",
   "outputs": [],
   "execution_count": null
  },
  {
   "metadata": {},
   "cell_type": "markdown",
   "source": "importlib",
   "id": "d2abcb3e9081190e"
  },
  {
   "metadata": {},
   "cell_type": "code",
   "source": "import importlib",
   "id": "ea5c56bd6e12a7a6",
   "outputs": [],
   "execution_count": null
  },
  {
   "metadata": {},
   "cell_type": "code",
   "source": [
    "modname = 'formats'\n",
    "formats = importlib.import_module(modname)"
   ],
   "id": "146d73a5be78ed4b",
   "outputs": [],
   "execution_count": null
  },
  {
   "metadata": {},
   "cell_type": "code",
   "source": "formats",
   "id": "bcbb29e39d1744f5",
   "outputs": [],
   "execution_count": null
  },
  {
   "metadata": {},
   "cell_type": "markdown",
   "source": "__import__",
   "id": "c5c642fba94dd0b4"
  },
  {
   "metadata": {
    "ExecuteTime": {
     "end_time": "2024-07-08T02:20:35.447347Z",
     "start_time": "2024-07-08T02:20:35.445525Z"
    }
   },
   "cell_type": "code",
   "source": [
    "modname = 'all'\n",
    "all = __import__(modname)"
   ],
   "id": "55728e147c530b4a",
   "outputs": [],
   "execution_count": 37
  },
  {
   "metadata": {
    "ExecuteTime": {
     "end_time": "2024-07-08T02:20:35.452365Z",
     "start_time": "2024-07-08T02:20:35.450254Z"
    }
   },
   "cell_type": "code",
   "source": "all",
   "id": "773e95190ce8d83d",
   "outputs": [
    {
     "data": {
      "text/plain": [
       "<module 'all' from '/Users/kearney/CODE/Fluent_Python/Learning Python/all.py'>"
      ]
     },
     "execution_count": 38,
     "metadata": {},
     "output_type": "execute_result"
    }
   ],
   "execution_count": 38
  },
  {
   "metadata": {
    "ExecuteTime": {
     "end_time": "2024-07-08T02:20:35.501649Z",
     "start_time": "2024-07-08T02:20:35.499783Z"
    }
   },
   "cell_type": "code",
   "source": "f = open('text.log')",
   "id": "2d15dc02f77a9e3e",
   "outputs": [],
   "execution_count": 39
  },
  {
   "metadata": {
    "ExecuteTime": {
     "end_time": "2024-07-08T02:20:35.541907Z",
     "start_time": "2024-07-08T02:20:35.539874Z"
    }
   },
   "cell_type": "code",
   "source": "f.read()",
   "id": "e1d1c9fb2da3e760",
   "outputs": [
    {
     "data": {
      "text/plain": [
       "'hello\\nworld\\n1 2 3\\n'"
      ]
     },
     "execution_count": 40,
     "metadata": {},
     "output_type": "execute_result"
    }
   ],
   "execution_count": 40
  },
  {
   "metadata": {
    "ExecuteTime": {
     "end_time": "2024-07-08T02:20:35.563488Z",
     "start_time": "2024-07-08T02:20:35.560909Z"
    }
   },
   "cell_type": "code",
   "source": [
    "f = open('text.log')\n",
    "f.readlines()"
   ],
   "id": "4622e055b23b8392",
   "outputs": [
    {
     "data": {
      "text/plain": [
       "['hello\\n', 'world\\n', '1 2 3\\n']"
      ]
     },
     "execution_count": 41,
     "metadata": {},
     "output_type": "execute_result"
    }
   ],
   "execution_count": 41
  },
  {
   "metadata": {
    "ExecuteTime": {
     "end_time": "2024-07-08T02:20:35.596194Z",
     "start_time": "2024-07-08T02:20:35.594200Z"
    }
   },
   "cell_type": "code",
   "source": [
    "f = open('text.log')\n",
    "for line in f:\n",
    "    print(line)"
   ],
   "id": "f7cf2c9499ed4e97",
   "outputs": [
    {
     "name": "stdout",
     "output_type": "stream",
     "text": [
      "hello\n",
      "\n",
      "world\n",
      "\n",
      "1 2 3\n",
      "\n"
     ]
    }
   ],
   "execution_count": 42
  },
  {
   "metadata": {
    "ExecuteTime": {
     "end_time": "2024-07-08T02:20:35.628085Z",
     "start_time": "2024-07-08T02:20:35.625838Z"
    }
   },
   "cell_type": "code",
   "source": "str.count('asd', 'a')",
   "id": "15ef6033ebaa6a8d",
   "outputs": [
    {
     "data": {
      "text/plain": [
       "1"
      ]
     },
     "execution_count": 43,
     "metadata": {},
     "output_type": "execute_result"
    }
   ],
   "execution_count": 43
  },
  {
   "metadata": {
    "ExecuteTime": {
     "end_time": "2024-07-08T02:20:35.663213Z",
     "start_time": "2024-07-08T02:20:35.661891Z"
    }
   },
   "cell_type": "code",
   "source": "",
   "id": "8ea030941f8aa8e4",
   "outputs": [],
   "execution_count": 43
  }
 ],
 "metadata": {
  "kernelspec": {
   "display_name": "Python 3",
   "language": "python",
   "name": "python3"
  },
  "language_info": {
   "codemirror_mode": {
    "name": "ipython",
    "version": 2
   },
   "file_extension": ".py",
   "mimetype": "text/x-python",
   "name": "python",
   "nbconvert_exporter": "python",
   "pygments_lexer": "ipython2",
   "version": "2.7.6"
  }
 },
 "nbformat": 4,
 "nbformat_minor": 5
}
