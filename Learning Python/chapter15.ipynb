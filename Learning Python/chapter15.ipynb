{
 "cells": [
  {
   "metadata": {},
   "cell_type": "markdown",
   "source": "# 文档",
   "id": "e623cb8dcfc6cead"
  },
  {
   "cell_type": "code",
   "id": "initial_id",
   "metadata": {
    "collapsed": true,
    "ExecuteTime": {
     "end_time": "2024-06-21T13:55:25.599611Z",
     "start_time": "2024-06-21T13:55:25.594476Z"
    }
   },
   "source": [
    "import sys\n",
    "dir(sys)"
   ],
   "execution_count": 1,
   "outputs": []
  },
  {
   "metadata": {
    "ExecuteTime": {
     "end_time": "2024-06-21T13:56:53.789420Z",
     "start_time": "2024-06-21T13:56:53.774770Z"
    }
   },
   "cell_type": "code",
   "source": "len([x for x in dir(sys) if x.startswith('__')])",
   "id": "9690b0e5c024c9d8",
   "execution_count": 2,
   "outputs": []
  },
  {
   "metadata": {
    "ExecuteTime": {
     "end_time": "2024-06-21T13:57:43.879472Z",
     "start_time": "2024-06-21T13:57:43.876590Z"
    }
   },
   "cell_type": "code",
   "source": "len([x for x in dir(sys) if x.startswith('_')])",
   "id": "fc5fa663501214e9",
   "execution_count": 6,
   "outputs": []
  },
  {
   "metadata": {
    "ExecuteTime": {
     "end_time": "2024-06-21T13:57:57.219755Z",
     "start_time": "2024-06-21T13:57:57.197393Z"
    }
   },
   "cell_type": "code",
   "source": "len([x for x in dir(sys) if not x.startswith('_')])",
   "id": "2c993cbf78392fb0",
   "execution_count": 7,
   "outputs": []
  },
  {
   "metadata": {
    "ExecuteTime": {
     "end_time": "2024-06-21T13:58:04.322726Z",
     "start_time": "2024-06-21T13:58:04.319885Z"
    }
   },
   "cell_type": "code",
   "source": "len(dir(sys))",
   "id": "41df7df64ebe4dd",
   "execution_count": 8,
   "outputs": []
  },
  {
   "metadata": {
    "ExecuteTime": {
     "end_time": "2024-06-21T14:00:41.696694Z",
     "start_time": "2024-06-21T14:00:41.692384Z"
    }
   },
   "cell_type": "code",
   "source": [
    "class A:\n",
    "    \"\"\"\n",
    "    This is a class.\n",
    "    \"\"\"\n",
    "    def __init__(self):\n",
    "        \"\"\"\n",
    "        This is a constructor.\n",
    "        \"\"\"\n",
    "        pass\n",
    "    def f(self):\n",
    "        \"\"\"\n",
    "        This is a method.\n",
    "        \"\"\"\n",
    "        pass\n",
    "    \n"
   ],
   "id": "3a7c7be41b1fc6b9",
   "execution_count": 9,
   "outputs": []
  },
  {
   "metadata": {
    "ExecuteTime": {
     "end_time": "2024-06-21T14:00:45.733557Z",
     "start_time": "2024-06-21T14:00:45.731669Z"
    }
   },
   "cell_type": "code",
   "source": "print(A.__doc__)",
   "id": "713438e8bb77c61f",
   "execution_count": 10,
   "outputs": []
  },
  {
   "metadata": {
    "ExecuteTime": {
     "end_time": "2024-06-21T14:00:50.285182Z",
     "start_time": "2024-06-21T14:00:50.283142Z"
    }
   },
   "cell_type": "code",
   "source": "print(A.__init__.__doc__)",
   "id": "3bb77c125197aee1",
   "execution_count": 11,
   "outputs": []
  },
  {
   "metadata": {
    "ExecuteTime": {
     "end_time": "2024-06-21T14:01:31.253819Z",
     "start_time": "2024-06-21T14:01:31.248972Z"
    }
   },
   "cell_type": "code",
   "source": "print(sys.__doc__)",
   "id": "183273bd8a17043c",
   "execution_count": 12,
   "outputs": []
  },
  {
   "metadata": {
    "ExecuteTime": {
     "end_time": "2024-06-21T14:02:10.142145Z",
     "start_time": "2024-06-21T14:02:10.136897Z"
    }
   },
   "cell_type": "code",
   "source": "print(sys.getrefcount.__doc__)",
   "id": "c6a90f17604f873a",
   "execution_count": 13,
   "outputs": []
  },
  {
   "metadata": {
    "ExecuteTime": {
     "end_time": "2024-06-21T14:03:28.684832Z",
     "start_time": "2024-06-21T14:03:28.681696Z"
    }
   },
   "cell_type": "code",
   "source": "help(sys.getrefcount)",
   "id": "1de56a5bb2f4c2cd",
   "execution_count": 16,
   "outputs": []
  },
  {
   "metadata": {
    "ExecuteTime": {
     "end_time": "2024-06-21T14:05:53.064436Z",
     "start_time": "2024-06-21T14:05:53.058519Z"
    }
   },
   "cell_type": "code",
   "source": "help(str.replace)",
   "id": "2a19fb64c4bce264",
   "execution_count": 17,
   "outputs": []
  },
  {
   "metadata": {
    "ExecuteTime": {
     "end_time": "2024-06-21T14:06:00.254730Z",
     "start_time": "2024-06-21T14:06:00.237113Z"
    }
   },
   "cell_type": "code",
   "source": "help(''.join)",
   "id": "834259c09d53777b",
   "execution_count": 18,
   "outputs": []
  },
  {
   "metadata": {
    "ExecuteTime": {
     "end_time": "2024-06-21T14:06:05.827322Z",
     "start_time": "2024-06-21T14:06:05.823869Z"
    }
   },
   "cell_type": "code",
   "source": "help(ord)",
   "id": "588794c2da7eb1db",
   "execution_count": 19,
   "outputs": []
  },
  {
   "metadata": {
    "ExecuteTime": {
     "end_time": "2024-06-23T02:42:51.239935Z",
     "start_time": "2024-06-23T02:42:51.234949Z"
    }
   },
   "cell_type": "code",
   "source": [
    "s = 'hello'\n",
    "map(ord, s)"
   ],
   "id": "14a10a7e292c387e",
   "execution_count": 21,
   "outputs": []
  },
  {
   "metadata": {
    "ExecuteTime": {
     "end_time": "2024-06-23T02:42:54.657399Z",
     "start_time": "2024-06-23T02:42:54.653540Z"
    }
   },
   "cell_type": "code",
   "source": "list(map(ord, s))",
   "id": "8bd52cf32b1ed7b0",
   "execution_count": 22,
   "outputs": []
  },
  {
   "metadata": {},
   "cell_type": "code",
   "execution_count": null,
   "source": "",
   "id": "8552ed6ba696d36a",
   "outputs": []
  }
 ],
 "metadata": {
  "kernelspec": {
   "display_name": "Python 3",
   "language": "python",
   "name": "python3"
  },
  "language_info": {
   "codemirror_mode": {
    "name": "ipython",
    "version": 2
   },
   "file_extension": ".py",
   "mimetype": "text/x-python",
   "name": "python",
   "nbconvert_exporter": "python",
   "pygments_lexer": "ipython2",
   "version": "2.7.6"
  }
 },
 "nbformat": 4,
 "nbformat_minor": 5
}
