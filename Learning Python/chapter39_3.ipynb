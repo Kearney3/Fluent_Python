{
 "cells": [
  {
   "metadata": {},
   "cell_type": "markdown",
   "source": "基本访问检测装饰器",
   "id": "bfe7d58d34c333a"
  },
  {
   "cell_type": "code",
   "id": "initial_id",
   "metadata": {
    "collapsed": true,
    "ExecuteTime": {
     "end_time": "2024-07-05T08:17:32.975384Z",
     "start_time": "2024-07-05T08:17:32.972550Z"
    }
   },
   "source": [
    "def range_check(*argchecks):\n",
    "    def onDecorator(func):\n",
    "        print('Decorating', func.__name__)\n",
    "        if not __debug__:\n",
    "            return func\n",
    "        else:\n",
    "            def onCall(*args):\n",
    "                for (ix, low, high) in argchecks:\n",
    "                    if args[ix] < low or args[ix] > high:\n",
    "                        raise ValueError(f'{ix}th argument out of range')\n",
    "                return func(*args)\n",
    "        return onCall\n",
    "\n",
    "    return onDecorator\n"
   ],
   "outputs": [],
   "execution_count": 36
  },
  {
   "metadata": {
    "ExecuteTime": {
     "end_time": "2024-07-05T08:25:02.716721Z",
     "start_time": "2024-07-05T08:25:02.710941Z"
    }
   },
   "cell_type": "code",
   "source": [
    "@range_check((1, 0, 120))\n",
    "def personinfo(name, age):\n",
    "    print(f'{name} is {age} years old')\n",
    "\n",
    "\n",
    "@range_check((0, 1, 12), (1, 1, 31), (2, 1900, 2100))\n",
    "def birthdate(month, day, year):\n",
    "    print(f'{month}/{day}/{year}')\n",
    "\n",
    "\n",
    "class Person:\n",
    "    def __init__(self, name, jpb, pay):\n",
    "        self.name = name\n",
    "        self.jpb = jpb\n",
    "        self.pay = pay\n",
    "\n",
    "    @range_check((1, 0.0, 1.0))\n",
    "    def giveRaise(self, percent):\n",
    "        self.pay *= (1.0 + percent)\n"
   ],
   "id": "9af8e4143227ba8",
   "outputs": [
    {
     "name": "stdout",
     "output_type": "stream",
     "text": [
      "Decorating personinfo\n",
      "Decorating birthdate\n",
      "Decorating giveRaise\n"
     ]
    }
   ],
   "execution_count": 60
  },
  {
   "metadata": {
    "ExecuteTime": {
     "end_time": "2024-07-05T08:25:03.107743Z",
     "start_time": "2024-07-05T08:25:03.084181Z"
    }
   },
   "cell_type": "code",
   "source": [
    "personinfo('Bob', 30)\n",
    "personinfo('Bob', 50)\n",
    "personinfo('Bob', 500)\n",
    "# personinfo(age=40, name='Bob')"
   ],
   "id": "8268be2fe9d5312d",
   "outputs": [
    {
     "name": "stdout",
     "output_type": "stream",
     "text": [
      "Bob is 30 years old\n",
      "Bob is 50 years old\n"
     ]
    },
    {
     "ename": "ValueError",
     "evalue": "1th argument out of range",
     "output_type": "error",
     "traceback": [
      "\u001B[0;31m---------------------------------------------------------------------------\u001B[0m",
      "\u001B[0;31mValueError\u001B[0m                                Traceback (most recent call last)",
      "Cell \u001B[0;32mIn[61], line 3\u001B[0m\n\u001B[1;32m      1\u001B[0m personinfo(\u001B[38;5;124m'\u001B[39m\u001B[38;5;124mBob\u001B[39m\u001B[38;5;124m'\u001B[39m, \u001B[38;5;241m30\u001B[39m)\n\u001B[1;32m      2\u001B[0m personinfo(\u001B[38;5;124m'\u001B[39m\u001B[38;5;124mBob\u001B[39m\u001B[38;5;124m'\u001B[39m, \u001B[38;5;241m50\u001B[39m)\n\u001B[0;32m----> 3\u001B[0m personinfo(\u001B[38;5;124m'\u001B[39m\u001B[38;5;124mBob\u001B[39m\u001B[38;5;124m'\u001B[39m, \u001B[38;5;241m500\u001B[39m)\n",
      "Cell \u001B[0;32mIn[36], line 10\u001B[0m, in \u001B[0;36mrange_check.<locals>.onDecorator.<locals>.onCall\u001B[0;34m(*args)\u001B[0m\n\u001B[1;32m      8\u001B[0m \u001B[38;5;28;01mfor\u001B[39;00m (ix, low, high) \u001B[38;5;129;01min\u001B[39;00m argchecks:\n\u001B[1;32m      9\u001B[0m     \u001B[38;5;28;01mif\u001B[39;00m args[ix] \u001B[38;5;241m<\u001B[39m low \u001B[38;5;129;01mor\u001B[39;00m args[ix] \u001B[38;5;241m>\u001B[39m high:\n\u001B[0;32m---> 10\u001B[0m         \u001B[38;5;28;01mraise\u001B[39;00m \u001B[38;5;167;01mValueError\u001B[39;00m(\u001B[38;5;124mf\u001B[39m\u001B[38;5;124m'\u001B[39m\u001B[38;5;132;01m{\u001B[39;00mix\u001B[38;5;132;01m}\u001B[39;00m\u001B[38;5;124mth argument out of range\u001B[39m\u001B[38;5;124m'\u001B[39m)\n\u001B[1;32m     11\u001B[0m \u001B[38;5;28;01mreturn\u001B[39;00m func(\u001B[38;5;241m*\u001B[39margs)\n",
      "\u001B[0;31mValueError\u001B[0m: 1th argument out of range"
     ]
    }
   ],
   "execution_count": 61
  },
  {
   "metadata": {
    "ExecuteTime": {
     "end_time": "2024-07-05T08:25:03.458315Z",
     "start_time": "2024-07-05T08:25:03.446830Z"
    }
   },
   "cell_type": "code",
   "source": [
    "birthdate(5, 1, 2000)\n",
    "birthdate(8, 12, 1910)\n",
    "# birthdate(50,1,2000)\n",
    "birthdate(5, 1, 20010)"
   ],
   "id": "fb2a228eec1fa37",
   "outputs": [
    {
     "name": "stdout",
     "output_type": "stream",
     "text": [
      "5/1/2000\n",
      "8/12/1910\n"
     ]
    },
    {
     "ename": "ValueError",
     "evalue": "2th argument out of range",
     "output_type": "error",
     "traceback": [
      "\u001B[0;31m---------------------------------------------------------------------------\u001B[0m",
      "\u001B[0;31mValueError\u001B[0m                                Traceback (most recent call last)",
      "Cell \u001B[0;32mIn[62], line 4\u001B[0m\n\u001B[1;32m      2\u001B[0m birthdate(\u001B[38;5;241m8\u001B[39m, \u001B[38;5;241m12\u001B[39m, \u001B[38;5;241m1910\u001B[39m)\n\u001B[1;32m      3\u001B[0m \u001B[38;5;66;03m# birthdate(50,1,2000)\u001B[39;00m\n\u001B[0;32m----> 4\u001B[0m birthdate(\u001B[38;5;241m5\u001B[39m, \u001B[38;5;241m1\u001B[39m, \u001B[38;5;241m20010\u001B[39m)\n",
      "Cell \u001B[0;32mIn[36], line 10\u001B[0m, in \u001B[0;36mrange_check.<locals>.onDecorator.<locals>.onCall\u001B[0;34m(*args)\u001B[0m\n\u001B[1;32m      8\u001B[0m \u001B[38;5;28;01mfor\u001B[39;00m (ix, low, high) \u001B[38;5;129;01min\u001B[39;00m argchecks:\n\u001B[1;32m      9\u001B[0m     \u001B[38;5;28;01mif\u001B[39;00m args[ix] \u001B[38;5;241m<\u001B[39m low \u001B[38;5;129;01mor\u001B[39;00m args[ix] \u001B[38;5;241m>\u001B[39m high:\n\u001B[0;32m---> 10\u001B[0m         \u001B[38;5;28;01mraise\u001B[39;00m \u001B[38;5;167;01mValueError\u001B[39;00m(\u001B[38;5;124mf\u001B[39m\u001B[38;5;124m'\u001B[39m\u001B[38;5;132;01m{\u001B[39;00mix\u001B[38;5;132;01m}\u001B[39;00m\u001B[38;5;124mth argument out of range\u001B[39m\u001B[38;5;124m'\u001B[39m)\n\u001B[1;32m     11\u001B[0m \u001B[38;5;28;01mreturn\u001B[39;00m func(\u001B[38;5;241m*\u001B[39margs)\n",
      "\u001B[0;31mValueError\u001B[0m: 2th argument out of range"
     ]
    }
   ],
   "execution_count": 62
  },
  {
   "metadata": {
    "ExecuteTime": {
     "end_time": "2024-07-05T08:25:03.891412Z",
     "start_time": "2024-07-05T08:25:03.889136Z"
    }
   },
   "cell_type": "code",
   "source": [
    "bob = Person('Bob Smith', 'dev', 100000)\n",
    "sue = Person('Sue Jones', 'dev', 100000)\n",
    "bob.giveRaise(.10)\n",
    "sue.giveRaise(.20)\n",
    "print(bob.pay, sue.pay)"
   ],
   "id": "aa62af1ca9f5f45a",
   "outputs": [
    {
     "name": "stdout",
     "output_type": "stream",
     "text": [
      "110000.00000000001 120000.0\n"
     ]
    }
   ],
   "execution_count": 63
  },
  {
   "metadata": {
    "ExecuteTime": {
     "end_time": "2024-07-05T08:25:04.239309Z",
     "start_time": "2024-07-05T08:25:04.232967Z"
    }
   },
   "cell_type": "code",
   "source": "sue.giveRaise(percent=.20)\n",
   "id": "12b970c99730f8b",
   "outputs": [
    {
     "ename": "TypeError",
     "evalue": "range_check.<locals>.onDecorator.<locals>.onCall() got an unexpected keyword argument 'percent'",
     "output_type": "error",
     "traceback": [
      "\u001B[0;31m---------------------------------------------------------------------------\u001B[0m",
      "\u001B[0;31mTypeError\u001B[0m                                 Traceback (most recent call last)",
      "Cell \u001B[0;32mIn[64], line 1\u001B[0m\n\u001B[0;32m----> 1\u001B[0m sue\u001B[38;5;241m.\u001B[39mgiveRaise(percent\u001B[38;5;241m=\u001B[39m\u001B[38;5;241m.20\u001B[39m)\n",
      "\u001B[0;31mTypeError\u001B[0m: range_check.<locals>.onDecorator.<locals>.onCall() got an unexpected keyword argument 'percent'"
     ]
    }
   ],
   "execution_count": 64
  },
  {
   "metadata": {
    "ExecuteTime": {
     "end_time": "2024-07-05T08:27:22.646016Z",
     "start_time": "2024-07-05T08:27:22.641297Z"
    }
   },
   "cell_type": "code",
   "source": [
    "def personinfo(name, age):\n",
    "    print(f'{name} is {age} years old')\n",
    "\n",
    "\n",
    "def birthdate(month, day, year):\n",
    "    print(f'{month}/{day}/{year}')\n",
    "\n",
    "\n",
    "class Person:\n",
    "    def __init__(self, name, jpb, pay):\n",
    "        self.name = name\n",
    "        self.jpb = jpb\n",
    "        self.pay = pay\n",
    "\n",
    "    def giveRaise(self, percent):\n",
    "        self.pay *= (1.0 + percent)"
   ],
   "id": "3a7b2750d1e48d8c",
   "outputs": [],
   "execution_count": 70
  },
  {
   "metadata": {
    "ExecuteTime": {
     "end_time": "2024-07-05T08:27:23.269800Z",
     "start_time": "2024-07-05T08:27:23.263157Z"
    }
   },
   "cell_type": "code",
   "source": "personinfo.__code__",
   "id": "a3bc2b41d018dd58",
   "outputs": [
    {
     "data": {
      "text/plain": [
       "<code object personinfo at 0x113561e30, file \"/var/folders/l6/lzt7hk8j2873k3xp1_cpjcbh0000gn/T/ipykernel_82947/1187458500.py\", line 1>"
      ]
     },
     "execution_count": 71,
     "metadata": {},
     "output_type": "execute_result"
    }
   ],
   "execution_count": 71
  },
  {
   "metadata": {
    "ExecuteTime": {
     "end_time": "2024-07-05T08:27:24.480507Z",
     "start_time": "2024-07-05T08:27:24.478162Z"
    }
   },
   "cell_type": "code",
   "source": [
    "obj = personinfo.__code__\n",
    "for attr in (attr for attr in dir(obj) if not attr.startswith('__')):\n",
    "    print(f'{attr:<10}==>{getattr(obj, attr)}')"
   ],
   "id": "5460dba1b6906605",
   "outputs": [
    {
     "name": "stdout",
     "output_type": "stream",
     "text": [
      "_co_code_adaptive==>b'\\x97\\x00t\\x01\\x00\\x00\\x00\\x00\\x00\\x00\\x00\\x00\\x00\\x00|\\x00\\x9b\\x00d\\x01|\\x01\\x9b\\x00d\\x02\\x9d\\x04\\xa6\\x01\\x00\\x00\\xab\\x01\\x00\\x00\\x00\\x00\\x00\\x00\\x00\\x00\\x01\\x00d\\x00S\\x00'\n",
      "_varname_from_oparg==><built-in method _varname_from_oparg of code object at 0x113561e30>\n",
      "co_argcount==>2\n",
      "co_cellvars==>()\n",
      "co_code   ==>b'\\x97\\x00t\\x01\\x00\\x00\\x00\\x00\\x00\\x00\\x00\\x00\\x00\\x00|\\x00\\x9b\\x00d\\x01|\\x01\\x9b\\x00d\\x02\\x9d\\x04\\xa6\\x01\\x00\\x00\\xab\\x01\\x00\\x00\\x00\\x00\\x00\\x00\\x00\\x00\\x01\\x00d\\x00S\\x00'\n",
      "co_consts ==>(None, ' is ', ' years old')\n",
      "co_exceptiontable==>b''\n",
      "co_filename==>/var/folders/l6/lzt7hk8j2873k3xp1_cpjcbh0000gn/T/ipykernel_82947/1187458500.py\n",
      "co_firstlineno==>1\n",
      "co_flags  ==>3\n",
      "co_freevars==>()\n",
      "co_kwonlyargcount==>0\n",
      "co_lines  ==><built-in method co_lines of code object at 0x113561e30>\n",
      "co_linetable==>b\"\\x80\\x00\\xdd\\x04\\t\\x88T\\xd0\\n&\\xd0\\n&\\x90s\\xd0\\n&\\xd0\\n&\\xd0\\n&\\xd1\\x04'\\xd4\\x04'\\xd0\\x04'\\xd0\\x04'\\xd0\\x04'\"\n",
      "co_lnotab ==>b'\\x02\\x01'\n",
      "co_name   ==>personinfo\n",
      "co_names  ==>('print',)\n",
      "co_nlocals==>2\n",
      "co_positions==><built-in method co_positions of code object at 0x113561e30>\n",
      "co_posonlyargcount==>0\n",
      "co_qualname==>personinfo\n",
      "co_stacksize==>6\n",
      "co_varnames==>('name', 'age')\n",
      "replace   ==><built-in method replace of code object at 0x113561e30>\n"
     ]
    }
   ],
   "execution_count": 72
  },
  {
   "metadata": {
    "ExecuteTime": {
     "end_time": "2024-07-05T08:29:59.334849Z",
     "start_time": "2024-07-05T08:29:59.330319Z"
    }
   },
   "cell_type": "code",
   "source": "birthdate.__code__",
   "id": "23ee9f815ac3efde",
   "outputs": [
    {
     "data": {
      "text/plain": [
       "<code object birthdate at 0x1135614d0, file \"/var/folders/l6/lzt7hk8j2873k3xp1_cpjcbh0000gn/T/ipykernel_82947/1187458500.py\", line 5>"
      ]
     },
     "execution_count": 77,
     "metadata": {},
     "output_type": "execute_result"
    }
   ],
   "execution_count": 77
  },
  {
   "metadata": {
    "ExecuteTime": {
     "end_time": "2024-07-05T08:27:27.345708Z",
     "start_time": "2024-07-05T08:27:27.343389Z"
    }
   },
   "cell_type": "code",
   "source": [
    "obj = birthdate.__code__\n",
    "for attr in (attr for attr in dir(obj) if not attr.startswith('__')):\n",
    "    print(f'{attr:<10}==>{getattr(obj, attr)}')"
   ],
   "id": "c5b6ae8a02155cd5",
   "outputs": [
    {
     "name": "stdout",
     "output_type": "stream",
     "text": [
      "_co_code_adaptive==>b'\\x97\\x00t\\x01\\x00\\x00\\x00\\x00\\x00\\x00\\x00\\x00\\x00\\x00|\\x00\\x9b\\x00d\\x01|\\x01\\x9b\\x00d\\x01|\\x02\\x9b\\x00\\x9d\\x05\\xa6\\x01\\x00\\x00\\xab\\x01\\x00\\x00\\x00\\x00\\x00\\x00\\x00\\x00\\x01\\x00d\\x00S\\x00'\n",
      "_varname_from_oparg==><built-in method _varname_from_oparg of code object at 0x1135614d0>\n",
      "co_argcount==>3\n",
      "co_cellvars==>()\n",
      "co_code   ==>b'\\x97\\x00t\\x01\\x00\\x00\\x00\\x00\\x00\\x00\\x00\\x00\\x00\\x00|\\x00\\x9b\\x00d\\x01|\\x01\\x9b\\x00d\\x01|\\x02\\x9b\\x00\\x9d\\x05\\xa6\\x01\\x00\\x00\\xab\\x01\\x00\\x00\\x00\\x00\\x00\\x00\\x00\\x00\\x01\\x00d\\x00S\\x00'\n",
      "co_consts ==>(None, '/')\n",
      "co_exceptiontable==>b''\n",
      "co_filename==>/var/folders/l6/lzt7hk8j2873k3xp1_cpjcbh0000gn/T/ipykernel_82947/1187458500.py\n",
      "co_firstlineno==>5\n",
      "co_flags  ==>3\n",
      "co_freevars==>()\n",
      "co_kwonlyargcount==>0\n",
      "co_lines  ==><built-in method co_lines of code object at 0x1135614d0>\n",
      "co_linetable==>b'\\x80\\x00\\xdd\\x04\\t\\x88U\\xd0\\n!\\xd0\\n!\\x90S\\xd0\\n!\\xd0\\n!\\x984\\xd0\\n!\\xd0\\n!\\xd1\\x04\"\\xd4\\x04\"\\xd0\\x04\"\\xd0\\x04\"\\xd0\\x04\"'\n",
      "co_lnotab ==>b'\\x02\\x01'\n",
      "co_name   ==>birthdate\n",
      "co_names  ==>('print',)\n",
      "co_nlocals==>3\n",
      "co_positions==><built-in method co_positions of code object at 0x1135614d0>\n",
      "co_posonlyargcount==>0\n",
      "co_qualname==>birthdate\n",
      "co_stacksize==>7\n",
      "co_varnames==>('month', 'day', 'year')\n",
      "replace   ==><built-in method replace of code object at 0x1135614d0>\n"
     ]
    }
   ],
   "execution_count": 73
  },
  {
   "metadata": {
    "ExecuteTime": {
     "end_time": "2024-07-05T08:27:42.921220Z",
     "start_time": "2024-07-05T08:27:42.919020Z"
    }
   },
   "cell_type": "code",
   "source": [
    "obj = Person.giveRaise.__code__\n",
    "for attr in (attr for attr in dir(obj) if not attr.startswith('__')):\n",
    "    print(f'{attr:<10}==>{getattr(obj, attr)}')"
   ],
   "id": "c25bdff6278bbc54",
   "outputs": [
    {
     "name": "stdout",
     "output_type": "stream",
     "text": [
      "_co_code_adaptive==>b'\\x97\\x00|\\x00x\\x01j\\x00\\x00\\x00\\x00\\x00\\x00\\x00\\x00\\x00d\\x01|\\x01z\\x00\\x00\\x00z\\x12\\x00\\x00c\\x02_\\x00\\x00\\x00\\x00\\x00\\x00\\x00\\x00\\x00d\\x00S\\x00'\n",
      "_varname_from_oparg==><built-in method _varname_from_oparg of code object at 0x113561c50>\n",
      "co_argcount==>2\n",
      "co_cellvars==>()\n",
      "co_code   ==>b'\\x97\\x00|\\x00x\\x01j\\x00\\x00\\x00\\x00\\x00\\x00\\x00\\x00\\x00d\\x01|\\x01z\\x00\\x00\\x00z\\x12\\x00\\x00c\\x02_\\x00\\x00\\x00\\x00\\x00\\x00\\x00\\x00\\x00d\\x00S\\x00'\n",
      "co_consts ==>(None, 1.0)\n",
      "co_exceptiontable==>b''\n",
      "co_filename==>/var/folders/l6/lzt7hk8j2873k3xp1_cpjcbh0000gn/T/ipykernel_82947/1187458500.py\n",
      "co_firstlineno==>15\n",
      "co_flags  ==>3\n",
      "co_freevars==>()\n",
      "co_kwonlyargcount==>0\n",
      "co_lines  ==><built-in method co_lines of code object at 0x113561c50>\n",
      "co_linetable==>b'\\x80\\x00\\xd8\\x08\\x0c\\x88\\x08\\x8c\\x08\\x90S\\x987\\x91]\\xd1\\x08#\\x88\\x08\\x8c\\x08\\x88\\x08\\x88\\x08'\n",
      "co_lnotab ==>b'\\x02\\x01'\n",
      "co_name   ==>giveRaise\n",
      "co_names  ==>('pay',)\n",
      "co_nlocals==>2\n",
      "co_positions==><built-in method co_positions of code object at 0x113561c50>\n",
      "co_posonlyargcount==>0\n",
      "co_qualname==>Person.giveRaise\n",
      "co_stacksize==>4\n",
      "co_varnames==>('self', 'percent')\n",
      "replace   ==><built-in method replace of code object at 0x113561c50>\n"
     ]
    }
   ],
   "execution_count": 76
  },
  {
   "metadata": {},
   "cell_type": "markdown",
   "source": "支持关键字",
   "id": "be41ee9122d6ec9f"
  },
  {
   "metadata": {
    "ExecuteTime": {
     "end_time": "2024-07-05T09:09:06.874357Z",
     "start_time": "2024-07-05T09:09:06.859487Z"
    }
   },
   "cell_type": "code",
   "source": [
    "trace = True\n",
    "\n",
    "\n",
    "def rangetest(**argchecks):  # Validate ranges for both+defaults\n",
    "    def onDecorator(func):  # onCall remembers func and argchecks\n",
    "        if not __debug__:  # True if \"python -O main.py args...\"\n",
    "            return func  # Wrap if debugging; else use original\n",
    "        else:\n",
    "            # def birthdate(month, day, year) # 函数\n",
    "            # birthdate.__code__ ==> <code object birthdate at 0x11, file \"/main.py\", line 5> 函数的代码对象\n",
    "            # code.co_varnames==>('month', 'day', 'year') 参数名称\n",
    "            # code.co_argcount==>3 参数数量\n",
    "            code = func.__code__  # Get code object 获取函数的代码对象\n",
    "            allargs = code.co_varnames[:code.co_argcount]  # Get names of all args 获取参数名称列表\n",
    "            funcname = func.__name__  # Get name of function 获取函数的名字\n",
    "            print('Decorating', funcname, ''.rjust(40 - len(funcname), '*'))\n",
    "            print(f'code.co_varnames: {code.co_varnames}, code.co_argcount: {code.co_argcount}')\n",
    "            print(f'code: {code}\\n allargs: {allargs}\\n funcname: {funcname} \\n argchecks: {argchecks}')\n",
    "\n",
    "            def onCall(*args, **kwargs):\n",
    "                # All pargs match first N expected args by position\n",
    "                # 开头的参数按照位置匹配\n",
    "                # The rest must be in kargs or be omitted defaults\n",
    "                # 剩下的参数要么是kwargs要么是默认值\n",
    "                expected = list(allargs)  # Copy\n",
    "                positionals = expected[:len(args)]  #\n",
    "                for (argname, (low, high)) in argchecks.items():\n",
    "                    # For all args to be checked 顺序传入\n",
    "                    if argname in kwargs:\n",
    "                        print(f'{argname} was passed by name in {kwargs}')\n",
    "                        if kwargs[argname] < low or kwargs[argname] > high:\n",
    "                            raise TypeError(f'{funcname} argument \"{argname}\" not in {low}..{high}')\n",
    "\n",
    "                    elif argname in positionals:\n",
    "                        # Was passed by position 名称传入\n",
    "                        position = positionals.index(argname)\n",
    "                        print(f'{argname} was passed by position[{position}] in {positionals}')\n",
    "                        if args[position] < low or args[position] > high:\n",
    "                            raise TypeError(f'{funcname} argument \"{argname}\" not in {low}..{high}')\n",
    "\n",
    "                    else:\n",
    "                        # Assume not passed: default 默认值\n",
    "                        if trace:\n",
    "                            print(f'Argument \"{argname}\" defaulted')\n",
    "\n",
    "                return func(*args, **kwargs)  # OK: run original call\n",
    "\n",
    "            return onCall\n",
    "\n",
    "    return onDecorator\n"
   ],
   "id": "70ec4f4528854fb7",
   "outputs": [],
   "execution_count": 139
  },
  {
   "metadata": {
    "ExecuteTime": {
     "end_time": "2024-07-05T09:09:07.105820Z",
     "start_time": "2024-07-05T09:09:07.102479Z"
    }
   },
   "cell_type": "code",
   "source": [
    "@rangetest(age=(1, 100))\n",
    "def personinfo(name, age):\n",
    "    print(f'{name} is {age} years old')\n",
    "\n",
    "\n",
    "@rangetest(month=(1, 12), day=(1, 31), year=(1900, 2100))\n",
    "def birthdate(month, day, year=2000):\n",
    "    print(f'{month}/{day}/{year}')\n",
    "\n",
    "\n",
    "class Person:\n",
    "    def __init__(self, name, job, pay):\n",
    "        self.name = name\n",
    "        self.job = job\n",
    "        self.pay = pay\n",
    "\n",
    "    @rangetest(percent=(0.0, 1.0))\n",
    "    def giveRaise(self, percent):\n",
    "        self.pay *= (1.0 + percent)\n"
   ],
   "id": "6cb0d27d02ca3e3e",
   "outputs": [
    {
     "name": "stdout",
     "output_type": "stream",
     "text": [
      "Decorating personinfo ******************************\n",
      "code.co_varnames: ('name', 'age'), code.co_argcount: 2\n",
      "code: <code object personinfo at 0x1136534b0, file \"/var/folders/l6/lzt7hk8j2873k3xp1_cpjcbh0000gn/T/ipykernel_82947/3887561646.py\", line 1>\n",
      " allargs: ('name', 'age')\n",
      " funcname: personinfo \n",
      " argchecks: {'age': (1, 100)}\n",
      "Decorating birthdate *******************************\n",
      "code.co_varnames: ('month', 'day', 'year'), code.co_argcount: 3\n",
      "code: <code object birthdate at 0x113653c30, file \"/var/folders/l6/lzt7hk8j2873k3xp1_cpjcbh0000gn/T/ipykernel_82947/3887561646.py\", line 6>\n",
      " allargs: ('month', 'day', 'year')\n",
      " funcname: birthdate \n",
      " argchecks: {'month': (1, 12), 'day': (1, 31), 'year': (1900, 2100)}\n",
      "Decorating giveRaise *******************************\n",
      "code.co_varnames: ('self', 'percent'), code.co_argcount: 2\n",
      "code: <code object giveRaise at 0x113653f00, file \"/var/folders/l6/lzt7hk8j2873k3xp1_cpjcbh0000gn/T/ipykernel_82947/3887561646.py\", line 17>\n",
      " allargs: ('self', 'percent')\n",
      " funcname: giveRaise \n",
      " argchecks: {'percent': (0.0, 1.0)}\n"
     ]
    }
   ],
   "execution_count": 140
  },
  {
   "metadata": {
    "ExecuteTime": {
     "end_time": "2024-07-05T09:09:07.549946Z",
     "start_time": "2024-07-05T09:09:07.547335Z"
    }
   },
   "cell_type": "code",
   "source": [
    "bob = Person('Bob Smith', 'dev', 100000)\n",
    "sue = Person(job='dev', name='Sue Jones', pay=100000)\n",
    "bob.giveRaise(.10)\n",
    "sue.giveRaise(.20)\n",
    "print(bob.pay, sue.pay)\n",
    "sue.giveRaise(percent=.20)\n",
    "print(bob.pay, sue.pay)"
   ],
   "id": "fda9f3f2764b360c",
   "outputs": [
    {
     "name": "stdout",
     "output_type": "stream",
     "text": [
      "percent was passed by position[1] in ['self', 'percent']\n",
      "percent was passed by position[1] in ['self', 'percent']\n",
      "110000.00000000001 120000.0\n",
      "percent was passed by name in {'percent': 0.2}\n",
      "110000.00000000001 144000.0\n"
     ]
    }
   ],
   "execution_count": 141
  },
  {
   "metadata": {
    "ExecuteTime": {
     "end_time": "2024-07-05T09:09:07.875991Z",
     "start_time": "2024-07-05T09:09:07.873885Z"
    }
   },
   "cell_type": "code",
   "source": "birthdate(5, 1, 2000)",
   "id": "8b60857e3dd3e9db",
   "outputs": [
    {
     "name": "stdout",
     "output_type": "stream",
     "text": [
      "month was passed by position[0] in ['month', 'day', 'year']\n",
      "day was passed by position[1] in ['month', 'day', 'year']\n",
      "year was passed by position[2] in ['month', 'day', 'year']\n",
      "5/1/2000\n"
     ]
    }
   ],
   "execution_count": 142
  },
  {
   "metadata": {
    "ExecuteTime": {
     "end_time": "2024-07-05T09:09:08.263598Z",
     "start_time": "2024-07-05T09:09:08.261546Z"
    }
   },
   "cell_type": "code",
   "source": "birthdate(year=2000, month=5, day=1)",
   "id": "6f26b6e58332578b",
   "outputs": [
    {
     "name": "stdout",
     "output_type": "stream",
     "text": [
      "month was passed by name in {'year': 2000, 'month': 5, 'day': 1}\n",
      "day was passed by name in {'year': 2000, 'month': 5, 'day': 1}\n",
      "year was passed by name in {'year': 2000, 'month': 5, 'day': 1}\n",
      "5/1/2000\n"
     ]
    }
   ],
   "execution_count": 143
  },
  {
   "metadata": {
    "ExecuteTime": {
     "end_time": "2024-07-05T09:09:08.603262Z",
     "start_time": "2024-07-05T09:09:08.601275Z"
    }
   },
   "cell_type": "code",
   "source": "birthdate(5, year=2000, day=30)",
   "id": "15445001dbd2a3d2",
   "outputs": [
    {
     "name": "stdout",
     "output_type": "stream",
     "text": [
      "month was passed by position[0] in ['month']\n",
      "day was passed by name in {'year': 2000, 'day': 30}\n",
      "year was passed by name in {'year': 2000, 'day': 30}\n",
      "5/30/2000\n"
     ]
    }
   ],
   "execution_count": 144
  },
  {
   "metadata": {
    "ExecuteTime": {
     "end_time": "2024-07-05T09:09:09.148139Z",
     "start_time": "2024-07-05T09:09:09.146283Z"
    }
   },
   "cell_type": "code",
   "source": "birthdate(5, 1)",
   "id": "18ba4594ed31ed2f",
   "outputs": [
    {
     "name": "stdout",
     "output_type": "stream",
     "text": [
      "month was passed by position[0] in ['month', 'day']\n",
      "day was passed by position[1] in ['month', 'day']\n",
      "Argument \"year\" defaulted\n",
      "5/1/2000\n"
     ]
    }
   ],
   "execution_count": 145
  },
  {
   "metadata": {
    "ExecuteTime": {
     "end_time": "2024-07-05T09:09:09.565724Z",
     "start_time": "2024-07-05T09:09:09.547025Z"
    }
   },
   "cell_type": "code",
   "source": "birthdate(5, 1, 20010)",
   "id": "1456f325c526155",
   "outputs": [
    {
     "name": "stdout",
     "output_type": "stream",
     "text": [
      "month was passed by position[0] in ['month', 'day', 'year']\n",
      "day was passed by position[1] in ['month', 'day', 'year']\n",
      "year was passed by position[2] in ['month', 'day', 'year']\n"
     ]
    },
    {
     "ename": "TypeError",
     "evalue": "birthdate argument \"year\" not in 1900..2100",
     "output_type": "error",
     "traceback": [
      "\u001B[0;31m---------------------------------------------------------------------------\u001B[0m",
      "\u001B[0;31mTypeError\u001B[0m                                 Traceback (most recent call last)",
      "Cell \u001B[0;32mIn[146], line 1\u001B[0m\n\u001B[0;32m----> 1\u001B[0m birthdate(\u001B[38;5;241m5\u001B[39m, \u001B[38;5;241m1\u001B[39m, \u001B[38;5;241m20010\u001B[39m)\n",
      "Cell \u001B[0;32mIn[139], line 38\u001B[0m, in \u001B[0;36mrangetest.<locals>.onDecorator.<locals>.onCall\u001B[0;34m(*args, **kwargs)\u001B[0m\n\u001B[1;32m     36\u001B[0m     \u001B[38;5;28mprint\u001B[39m(\u001B[38;5;124mf\u001B[39m\u001B[38;5;124m'\u001B[39m\u001B[38;5;132;01m{\u001B[39;00margname\u001B[38;5;132;01m}\u001B[39;00m\u001B[38;5;124m was passed by position[\u001B[39m\u001B[38;5;132;01m{\u001B[39;00mposition\u001B[38;5;132;01m}\u001B[39;00m\u001B[38;5;124m] in \u001B[39m\u001B[38;5;132;01m{\u001B[39;00mpositionals\u001B[38;5;132;01m}\u001B[39;00m\u001B[38;5;124m'\u001B[39m)\n\u001B[1;32m     37\u001B[0m     \u001B[38;5;28;01mif\u001B[39;00m args[position] \u001B[38;5;241m<\u001B[39m low \u001B[38;5;129;01mor\u001B[39;00m args[position] \u001B[38;5;241m>\u001B[39m high:\n\u001B[0;32m---> 38\u001B[0m         \u001B[38;5;28;01mraise\u001B[39;00m \u001B[38;5;167;01mTypeError\u001B[39;00m(\u001B[38;5;124mf\u001B[39m\u001B[38;5;124m'\u001B[39m\u001B[38;5;132;01m{\u001B[39;00mfuncname\u001B[38;5;132;01m}\u001B[39;00m\u001B[38;5;124m argument \u001B[39m\u001B[38;5;124m\"\u001B[39m\u001B[38;5;132;01m{\u001B[39;00margname\u001B[38;5;132;01m}\u001B[39;00m\u001B[38;5;124m\"\u001B[39m\u001B[38;5;124m not in \u001B[39m\u001B[38;5;132;01m{\u001B[39;00mlow\u001B[38;5;132;01m}\u001B[39;00m\u001B[38;5;124m..\u001B[39m\u001B[38;5;132;01m{\u001B[39;00mhigh\u001B[38;5;132;01m}\u001B[39;00m\u001B[38;5;124m'\u001B[39m)\n\u001B[1;32m     40\u001B[0m \u001B[38;5;28;01melse\u001B[39;00m:\n\u001B[1;32m     41\u001B[0m     \u001B[38;5;66;03m# Assume not passed: default 默认值\u001B[39;00m\n\u001B[1;32m     42\u001B[0m     \u001B[38;5;28;01mif\u001B[39;00m trace:\n",
      "\u001B[0;31mTypeError\u001B[0m: birthdate argument \"year\" not in 1900..2100"
     ]
    }
   ],
   "execution_count": 146
  },
  {
   "metadata": {
    "ExecuteTime": {
     "end_time": "2024-07-05T09:10:55.188969Z",
     "start_time": "2024-07-05T09:10:55.184686Z"
    }
   },
   "cell_type": "code",
   "source": [
    "@rangetest(month=(1, 12), day=(1, 31), year=(1900, 2100), pay=(0, 1000000))\n",
    "def mydate(month, day, year=2000, *args, **kwargs):\n",
    "    print(f'{month}/{day}/{year}')\n",
    "    print(args)\n",
    "    print(kwargs)"
   ],
   "id": "158094c408c9ab9e",
   "outputs": [
    {
     "name": "stdout",
     "output_type": "stream",
     "text": [
      "Decorating mydate **********************************\n",
      "code.co_varnames: ('month', 'day', 'year', 'args', 'kwargs'), code.co_argcount: 3\n",
      "code: <code object mydate at 0x11244efb0, file \"/var/folders/l6/lzt7hk8j2873k3xp1_cpjcbh0000gn/T/ipykernel_82947/926930930.py\", line 1>\n",
      " allargs: ('month', 'day', 'year')\n",
      " funcname: mydate \n",
      " argchecks: {'month': (1, 12), 'day': (1, 31), 'year': (1900, 2100), 'pay': (0, 1000000)}\n"
     ]
    }
   ],
   "execution_count": 150
  },
  {
   "metadata": {
    "ExecuteTime": {
     "end_time": "2024-07-05T09:11:13.076448Z",
     "start_time": "2024-07-05T09:11:13.074053Z"
    }
   },
   "cell_type": "code",
   "source": "mydate(5, 1, 2000, 1, 2, 3, pay=1000000)",
   "id": "1328e4fa3a464c71",
   "outputs": [
    {
     "name": "stdout",
     "output_type": "stream",
     "text": [
      "month was passed by position[0] in ['month', 'day', 'year']\n",
      "day was passed by position[1] in ['month', 'day', 'year']\n",
      "year was passed by position[2] in ['month', 'day', 'year']\n",
      "pay was passed by name in {'pay': 1000000}\n",
      "5/1/2000\n",
      "(1, 2, 3)\n",
      "{'pay': 1000000}\n"
     ]
    }
   ],
   "execution_count": 151
  },
  {
   "metadata": {},
   "cell_type": "markdown",
   "source": "## 函数内省",
   "id": "39802bbfb5962757"
  },
  {
   "metadata": {
    "ExecuteTime": {
     "end_time": "2024-07-05T09:16:46.614170Z",
     "start_time": "2024-07-05T09:16:46.609699Z"
    }
   },
   "cell_type": "code",
   "source": [
    "def birthdate(month, day, year):\n",
    "    print(f'{month}/{day}/{year}')"
   ],
   "id": "90db7e95d72fe06c",
   "outputs": [],
   "execution_count": 162
  },
  {
   "metadata": {
    "ExecuteTime": {
     "end_time": "2024-07-05T09:16:46.851545Z",
     "start_time": "2024-07-05T09:16:46.848710Z"
    }
   },
   "cell_type": "code",
   "source": "birthdate.__code__",
   "id": "cda5d4b090d83eb3",
   "outputs": [
    {
     "data": {
      "text/plain": [
       "<code object birthdate at 0x1137185d0, file \"/var/folders/l6/lzt7hk8j2873k3xp1_cpjcbh0000gn/T/ipykernel_82947/2918467005.py\", line 1>"
      ]
     },
     "execution_count": 163,
     "metadata": {},
     "output_type": "execute_result"
    }
   ],
   "execution_count": 163
  },
  {
   "metadata": {
    "ExecuteTime": {
     "end_time": "2024-07-05T09:16:47.151622Z",
     "start_time": "2024-07-05T09:16:47.148840Z"
    }
   },
   "cell_type": "code",
   "source": "birthdate.__code__.co_argcount",
   "id": "10a38bf76da3e86c",
   "outputs": [
    {
     "data": {
      "text/plain": [
       "3"
      ]
     },
     "execution_count": 164,
     "metadata": {},
     "output_type": "execute_result"
    }
   ],
   "execution_count": 164
  },
  {
   "metadata": {
    "ExecuteTime": {
     "end_time": "2024-07-05T09:16:47.427798Z",
     "start_time": "2024-07-05T09:16:47.425473Z"
    }
   },
   "cell_type": "code",
   "source": "birthdate.__code__.co_varnames",
   "id": "583d4f8138aac849",
   "outputs": [
    {
     "data": {
      "text/plain": [
       "('month', 'day', 'year')"
      ]
     },
     "execution_count": 165,
     "metadata": {},
     "output_type": "execute_result"
    }
   ],
   "execution_count": 165
  },
  {
   "metadata": {
    "ExecuteTime": {
     "end_time": "2024-07-05T09:16:47.741687Z",
     "start_time": "2024-07-05T09:16:47.738998Z"
    }
   },
   "cell_type": "code",
   "source": "birthdate.__code__.co_varnames[:birthdate.__code__.co_argcount]",
   "id": "cdd8815103789282",
   "outputs": [
    {
     "data": {
      "text/plain": [
       "('month', 'day', 'year')"
      ]
     },
     "execution_count": 166,
     "metadata": {},
     "output_type": "execute_result"
    }
   ],
   "execution_count": 166
  },
  {
   "metadata": {
    "ExecuteTime": {
     "end_time": "2024-07-05T09:18:21.115250Z",
     "start_time": "2024-07-05T09:18:21.112806Z"
    }
   },
   "cell_type": "code",
   "source": "birthdate.__code__.co_nlocals, birthdate.__code__.co_argcount",
   "id": "3399119a66d78309",
   "outputs": [
    {
     "data": {
      "text/plain": [
       "(3, 3)"
      ]
     },
     "execution_count": 172,
     "metadata": {},
     "output_type": "execute_result"
    }
   ],
   "execution_count": 172
  },
  {
   "metadata": {
    "ExecuteTime": {
     "end_time": "2024-07-05T09:20:23.211157Z",
     "start_time": "2024-07-05T09:20:23.207373Z"
    }
   },
   "cell_type": "code",
   "source": [
    "def catcher(*args, **kwargs):\n",
    "    print(f'args: {args}, kwargs: {kwargs}')"
   ],
   "id": "d3a600ac2379c152",
   "outputs": [],
   "execution_count": 177
  },
  {
   "metadata": {
    "ExecuteTime": {
     "end_time": "2024-07-05T09:20:23.506923Z",
     "start_time": "2024-07-05T09:20:23.504528Z"
    }
   },
   "cell_type": "code",
   "source": "catcher(1, 2, 3, 4, 5)",
   "id": "75d7c0993c5b45bb",
   "outputs": [
    {
     "name": "stdout",
     "output_type": "stream",
     "text": [
      "args: (1, 2, 3, 4, 5), kwargs: {}\n"
     ]
    }
   ],
   "execution_count": 178
  },
  {
   "metadata": {
    "ExecuteTime": {
     "end_time": "2024-07-05T09:20:23.918214Z",
     "start_time": "2024-07-05T09:20:23.915478Z"
    }
   },
   "cell_type": "code",
   "source": "catcher.__code__.co_nlocals, catcher.__code__.co_argcount",
   "id": "ca300707812927d2",
   "outputs": [
    {
     "data": {
      "text/plain": [
       "(2, 0)"
      ]
     },
     "execution_count": 179,
     "metadata": {},
     "output_type": "execute_result"
    }
   ],
   "execution_count": 179
  },
  {
   "metadata": {
    "ExecuteTime": {
     "end_time": "2024-07-05T09:19:57.504346Z",
     "start_time": "2024-07-05T09:19:57.501686Z"
    }
   },
   "cell_type": "code",
   "source": "catcher.__code__.co_varnames",
   "id": "442b759dbbcb354c",
   "outputs": [
    {
     "data": {
      "text/plain": [
       "('args', 'kwargs')"
      ]
     },
     "execution_count": 176,
     "metadata": {},
     "output_type": "execute_result"
    }
   ],
   "execution_count": 176
  },
  {
   "metadata": {
    "ExecuteTime": {
     "end_time": "2024-07-05T09:21:13.495806Z",
     "start_time": "2024-07-05T09:21:13.491516Z"
    }
   },
   "cell_type": "code",
   "source": "catcher.__code__.co_varnames[:catcher.__code__.co_argcount]",
   "id": "a86bbd758b2bb013",
   "outputs": [
    {
     "data": {
      "text/plain": [
       "()"
      ]
     },
     "execution_count": 180,
     "metadata": {},
     "output_type": "execute_result"
    }
   ],
   "execution_count": 180
  },
  {
   "metadata": {
    "ExecuteTime": {
     "end_time": "2024-07-05T09:23:50.882664Z",
     "start_time": "2024-07-05T09:23:50.877680Z"
    }
   },
   "cell_type": "code",
   "source": [
    "def catcher(a, b=3, *args, **kwargs):\n",
    "    print(f'args: {args}, kwargs: {kwargs}')\n",
    "\n",
    "\n",
    "catcher(1, 2, 3, 4, 5)"
   ],
   "id": "ac18d36e95fad4b4",
   "outputs": [
    {
     "name": "stdout",
     "output_type": "stream",
     "text": [
      "args: (3, 4, 5), kwargs: {}\n"
     ]
    }
   ],
   "execution_count": 186
  },
  {
   "metadata": {
    "ExecuteTime": {
     "end_time": "2024-07-05T09:23:51.193739Z",
     "start_time": "2024-07-05T09:23:51.190646Z"
    }
   },
   "cell_type": "code",
   "source": "catcher.__code__.co_nlocals, catcher.__code__.co_argcount",
   "id": "d0b00c57aaa9005",
   "outputs": [
    {
     "data": {
      "text/plain": [
       "(4, 2)"
      ]
     },
     "execution_count": 187,
     "metadata": {},
     "output_type": "execute_result"
    }
   ],
   "execution_count": 187
  },
  {
   "metadata": {
    "ExecuteTime": {
     "end_time": "2024-07-05T09:23:51.582504Z",
     "start_time": "2024-07-05T09:23:51.580096Z"
    }
   },
   "cell_type": "code",
   "source": "catcher.__code__.co_varnames",
   "id": "73f83918cc8839f1",
   "outputs": [
    {
     "data": {
      "text/plain": [
       "('a', 'b', 'args', 'kwargs')"
      ]
     },
     "execution_count": 188,
     "metadata": {},
     "output_type": "execute_result"
    }
   ],
   "execution_count": 188
  },
  {
   "metadata": {
    "ExecuteTime": {
     "end_time": "2024-07-05T09:23:51.995141Z",
     "start_time": "2024-07-05T09:23:51.992482Z"
    }
   },
   "cell_type": "code",
   "source": "catcher.__code__.co_varnames[:catcher.__code__.co_argcount]",
   "id": "19620658804e241",
   "outputs": [
    {
     "data": {
      "text/plain": [
       "('a', 'b')"
      ]
     },
     "execution_count": 189,
     "metadata": {},
     "output_type": "execute_result"
    }
   ],
   "execution_count": 189
  },
  {
   "metadata": {},
   "cell_type": "markdown",
   "source": "存在的问题",
   "id": "a4aab91666f0f1db"
  },
  {
   "metadata": {
    "ExecuteTime": {
     "end_time": "2024-07-05T09:28:30.457313Z",
     "start_time": "2024-07-05T09:28:30.451869Z"
    }
   },
   "cell_type": "code",
   "source": [
    "@rangetest(month=(1, 12), day=(1, 31), year=(1900, 2100))\n",
    "def birthdate(month, day, year=2000):\n",
    "    print(f'{month}/{day}/{year}')"
   ],
   "id": "bed7e7ad8e00b386",
   "outputs": [
    {
     "name": "stdout",
     "output_type": "stream",
     "text": [
      "Decorating birthdate *******************************\n",
      "code.co_varnames: ('month', 'day', 'year'), code.co_argcount: 3\n",
      "code: <code object birthdate at 0x1137186c0, file \"/var/folders/l6/lzt7hk8j2873k3xp1_cpjcbh0000gn/T/ipykernel_82947/3990260471.py\", line 1>\n",
      " allargs: ('month', 'day', 'year')\n",
      " funcname: birthdate \n",
      " argchecks: {'month': (1, 12), 'day': (1, 31), 'year': (1900, 2100)}\n"
     ]
    }
   ],
   "execution_count": 190
  },
  {
   "metadata": {
    "ExecuteTime": {
     "end_time": "2024-07-05T09:28:30.752954Z",
     "start_time": "2024-07-05T09:28:30.738047Z"
    }
   },
   "cell_type": "code",
   "source": "birthdate()",
   "id": "803aadb792fab970",
   "outputs": [
    {
     "name": "stdout",
     "output_type": "stream",
     "text": [
      "Argument \"month\" defaulted\n",
      "Argument \"day\" defaulted\n",
      "Argument \"year\" defaulted\n"
     ]
    },
    {
     "ename": "TypeError",
     "evalue": "birthdate() missing 2 required positional arguments: 'month' and 'day'",
     "output_type": "error",
     "traceback": [
      "\u001B[0;31m---------------------------------------------------------------------------\u001B[0m",
      "\u001B[0;31mTypeError\u001B[0m                                 Traceback (most recent call last)",
      "Cell \u001B[0;32mIn[191], line 1\u001B[0m\n\u001B[0;32m----> 1\u001B[0m birthdate()\n",
      "Cell \u001B[0;32mIn[139], line 45\u001B[0m, in \u001B[0;36mrangetest.<locals>.onDecorator.<locals>.onCall\u001B[0;34m(*args, **kwargs)\u001B[0m\n\u001B[1;32m     42\u001B[0m         \u001B[38;5;28;01mif\u001B[39;00m trace:\n\u001B[1;32m     43\u001B[0m             \u001B[38;5;28mprint\u001B[39m(\u001B[38;5;124mf\u001B[39m\u001B[38;5;124m'\u001B[39m\u001B[38;5;124mArgument \u001B[39m\u001B[38;5;124m\"\u001B[39m\u001B[38;5;132;01m{\u001B[39;00margname\u001B[38;5;132;01m}\u001B[39;00m\u001B[38;5;124m\"\u001B[39m\u001B[38;5;124m defaulted\u001B[39m\u001B[38;5;124m'\u001B[39m)\n\u001B[0;32m---> 45\u001B[0m \u001B[38;5;28;01mreturn\u001B[39;00m func(\u001B[38;5;241m*\u001B[39margs, \u001B[38;5;241m*\u001B[39m\u001B[38;5;241m*\u001B[39mkwargs)\n",
      "\u001B[0;31mTypeError\u001B[0m: birthdate() missing 2 required positional arguments: 'month' and 'day'"
     ]
    }
   ],
   "execution_count": 191
  },
  {
   "metadata": {
    "ExecuteTime": {
     "end_time": "2024-07-05T09:28:31.438980Z",
     "start_time": "2024-07-05T09:28:31.428190Z"
    }
   },
   "cell_type": "code",
   "source": "birthdate(year=2000)",
   "id": "7c270f1a148c3bac",
   "outputs": [
    {
     "name": "stdout",
     "output_type": "stream",
     "text": [
      "Argument \"month\" defaulted\n",
      "Argument \"day\" defaulted\n",
      "year was passed by name in {'year': 2000}\n"
     ]
    },
    {
     "ename": "TypeError",
     "evalue": "birthdate() missing 2 required positional arguments: 'month' and 'day'",
     "output_type": "error",
     "traceback": [
      "\u001B[0;31m---------------------------------------------------------------------------\u001B[0m",
      "\u001B[0;31mTypeError\u001B[0m                                 Traceback (most recent call last)",
      "Cell \u001B[0;32mIn[192], line 1\u001B[0m\n\u001B[0;32m----> 1\u001B[0m birthdate(year\u001B[38;5;241m=\u001B[39m\u001B[38;5;241m2000\u001B[39m)\n",
      "Cell \u001B[0;32mIn[139], line 45\u001B[0m, in \u001B[0;36mrangetest.<locals>.onDecorator.<locals>.onCall\u001B[0;34m(*args, **kwargs)\u001B[0m\n\u001B[1;32m     42\u001B[0m         \u001B[38;5;28;01mif\u001B[39;00m trace:\n\u001B[1;32m     43\u001B[0m             \u001B[38;5;28mprint\u001B[39m(\u001B[38;5;124mf\u001B[39m\u001B[38;5;124m'\u001B[39m\u001B[38;5;124mArgument \u001B[39m\u001B[38;5;124m\"\u001B[39m\u001B[38;5;132;01m{\u001B[39;00margname\u001B[38;5;132;01m}\u001B[39;00m\u001B[38;5;124m\"\u001B[39m\u001B[38;5;124m defaulted\u001B[39m\u001B[38;5;124m'\u001B[39m)\n\u001B[0;32m---> 45\u001B[0m \u001B[38;5;28;01mreturn\u001B[39;00m func(\u001B[38;5;241m*\u001B[39margs, \u001B[38;5;241m*\u001B[39m\u001B[38;5;241m*\u001B[39mkwargs)\n",
      "\u001B[0;31mTypeError\u001B[0m: birthdate() missing 2 required positional arguments: 'month' and 'day'"
     ]
    }
   ],
   "execution_count": 192
  },
  {
   "metadata": {},
   "cell_type": "markdown",
   "source": "## 函数注解",
   "id": "b2b66c7a22182024"
  },
  {
   "metadata": {
    "ExecuteTime": {
     "end_time": "2024-07-05T09:28:50.630732Z",
     "start_time": "2024-07-05T09:28:50.628342Z"
    }
   },
   "cell_type": "code",
   "source": [
    "def mydate(month, day, year):\n",
    "    print(f'{month}/{day}/{year}')"
   ],
   "id": "216fba16942e11b1",
   "outputs": [],
   "execution_count": 193
  },
  {
   "metadata": {
    "ExecuteTime": {
     "end_time": "2024-07-05T09:28:56.528316Z",
     "start_time": "2024-07-05T09:28:56.525774Z"
    }
   },
   "cell_type": "code",
   "source": "mydate.__annotations__",
   "id": "4638f72c7fe66ec6",
   "outputs": [
    {
     "data": {
      "text/plain": [
       "{}"
      ]
     },
     "execution_count": 194,
     "metadata": {},
     "output_type": "execute_result"
    }
   ],
   "execution_count": 194
  },
  {
   "metadata": {
    "ExecuteTime": {
     "end_time": "2024-07-05T09:33:28.790109Z",
     "start_time": "2024-07-05T09:33:28.787991Z"
    }
   },
   "cell_type": "code",
   "source": [
    "def mydate(month: (1, 12), day: (1, 31), year: (1900, 2100), a, *args, **kwargs):\n",
    "    print(f'{month}/{day}/{year}')"
   ],
   "id": "34bceeeeb82d644",
   "outputs": [],
   "execution_count": 202
  },
  {
   "metadata": {
    "ExecuteTime": {
     "end_time": "2024-07-05T09:33:29.204322Z",
     "start_time": "2024-07-05T09:33:29.201867Z"
    }
   },
   "cell_type": "code",
   "source": "mydate.__annotations__",
   "id": "fa39142d30b467b0",
   "outputs": [
    {
     "data": {
      "text/plain": [
       "{'month': (1, 12), 'day': (1, 31), 'year': (1900, 2100)}"
      ]
     },
     "execution_count": 203,
     "metadata": {},
     "output_type": "execute_result"
    }
   ],
   "execution_count": 203
  },
  {
   "metadata": {
    "ExecuteTime": {
     "end_time": "2024-07-05T09:30:07.959991Z",
     "start_time": "2024-07-05T09:30:07.957544Z"
    }
   },
   "cell_type": "code",
   "source": "mydate(1, 1, 20000)",
   "id": "b23dfc79de804097",
   "outputs": [
    {
     "name": "stdout",
     "output_type": "stream",
     "text": [
      "1/1/20000\n"
     ]
    }
   ],
   "execution_count": 199
  },
  {
   "metadata": {
    "ExecuteTime": {
     "end_time": "2024-07-05T10:25:09.217672Z",
     "start_time": "2024-07-05T10:25:09.213962Z"
    }
   },
   "cell_type": "code",
   "source": [
    "def range_check(func):\n",
    "    \n",
    "    def onCall(*args, **kwargs):\n",
    "        argchecks = func.__annotations__\n",
    "        positional = list(func.__code__.co_varnames)[:func.__code__.co_argcount][:len(args)]\n",
    "        print(f'Calling {func.__name__}, {positional}')\n",
    "        # print(f'argchecks: {argchecks}')\n",
    "        # print(f'args: {args}, kwargs: {kwargs}')\n",
    "        for (argname, (low, high)) in argchecks.items():\n",
    "            # print(f'argname: {argname}, low: {low}, high: {high}')\n",
    "            if argname in positional:\n",
    "                # print(f'{argname} was passed by position[{positional.index(argname)}] in {positional}')\n",
    "                if args[positional.index(argname)] < low or args[positional.index(argname)] > high:\n",
    "                    raise TypeError(f'{func.__name__} argument \"{argname}\" not in {low}..{high}')\n",
    "            elif argname in kwargs:\n",
    "                # print(f'{argname} was passed by name in {kwargs}')\n",
    "                if kwargs[argname] < low or kwargs[argname] > high:\n",
    "                    raise TypeError(f'{func.__name__} argument \"{argname}\" not in {low}..{high}')\n",
    "\n",
    "            else:\n",
    "                print(f'Argument \"{argname}\" defaulted')\n",
    "        return func(*args, **kwargs)\n",
    "\n",
    "    return onCall"
   ],
   "id": "558e0c414b10fc9",
   "outputs": [],
   "execution_count": 281
  },
  {
   "metadata": {
    "ExecuteTime": {
     "end_time": "2024-07-05T10:25:09.534558Z",
     "start_time": "2024-07-05T10:25:09.532307Z"
    }
   },
   "cell_type": "code",
   "source": [
    "@range_check\n",
    "def mydate(month: (1, 12), day: (1, 31), year: (1900, 2100), a:(1,10)=5, *args, **kwargs):\n",
    "    print(f'{month}/{day}/{year}')"
   ],
   "id": "dcbb4c1af080d063",
   "outputs": [],
   "execution_count": 282
  },
  {
   "metadata": {
    "ExecuteTime": {
     "end_time": "2024-07-05T10:25:09.994741Z",
     "start_time": "2024-07-05T10:25:09.992492Z"
    }
   },
   "cell_type": "code",
   "source": "mydate.__annotations__",
   "id": "64b975136ef71e4e",
   "outputs": [
    {
     "data": {
      "text/plain": [
       "{}"
      ]
     },
     "execution_count": 283,
     "metadata": {},
     "output_type": "execute_result"
    }
   ],
   "execution_count": 283
  },
  {
   "metadata": {
    "ExecuteTime": {
     "end_time": "2024-07-05T10:25:10.546154Z",
     "start_time": "2024-07-05T10:25:10.544207Z"
    }
   },
   "cell_type": "code",
   "source": [
    "mydate(1, 1, 2000,)\n",
    "mydate(1, 15, 2000)"
   ],
   "id": "c7952b8dfd7b2be4",
   "outputs": [
    {
     "name": "stdout",
     "output_type": "stream",
     "text": [
      "Calling mydate, ['month', 'day', 'year']\n",
      "Argument \"a\" defaulted\n",
      "1/1/2000\n",
      "Calling mydate, ['month', 'day', 'year']\n",
      "Argument \"a\" defaulted\n",
      "1/15/2000\n"
     ]
    }
   ],
   "execution_count": 284
  },
  {
   "metadata": {
    "ExecuteTime": {
     "end_time": "2024-07-05T10:03:20.750008Z",
     "start_time": "2024-07-05T10:03:20.738273Z"
    }
   },
   "cell_type": "code",
   "source": "mydate(1, 1, 2000, a=11)",
   "id": "667c23303a801697",
   "outputs": [
    {
     "name": "stdout",
     "output_type": "stream",
     "text": [
      "argname: month, low: 1, high: 12\n",
      "month was passed by position[0] in ['month', 'day', 'year']\n",
      "argname: day, low: 1, high: 31\n",
      "day was passed by position[1] in ['month', 'day', 'year']\n",
      "argname: year, low: 1900, high: 2100\n",
      "year was passed by position[2] in ['month', 'day', 'year']\n",
      "argname: a, low: 1, high: 10\n",
      "a was passed by name in {'a': 11}\n"
     ]
    },
    {
     "ename": "TypeError",
     "evalue": "mydate argument \"a\" not in 1..10",
     "output_type": "error",
     "traceback": [
      "\u001B[0;31m---------------------------------------------------------------------------\u001B[0m",
      "\u001B[0;31mTypeError\u001B[0m                                 Traceback (most recent call last)",
      "Cell \u001B[0;32mIn[256], line 1\u001B[0m\n\u001B[0;32m----> 1\u001B[0m mydate(\u001B[38;5;241m1\u001B[39m, \u001B[38;5;241m1\u001B[39m, \u001B[38;5;241m2000\u001B[39m, a\u001B[38;5;241m=\u001B[39m\u001B[38;5;241m11\u001B[39m)\n",
      "Cell \u001B[0;32mIn[254], line 16\u001B[0m, in \u001B[0;36mrange_check.<locals>.onCall\u001B[0;34m(*args, **kwargs)\u001B[0m\n\u001B[1;32m     14\u001B[0m     \u001B[38;5;28mprint\u001B[39m(\u001B[38;5;124mf\u001B[39m\u001B[38;5;124m'\u001B[39m\u001B[38;5;132;01m{\u001B[39;00margname\u001B[38;5;132;01m}\u001B[39;00m\u001B[38;5;124m was passed by name in \u001B[39m\u001B[38;5;132;01m{\u001B[39;00mkwargs\u001B[38;5;132;01m}\u001B[39;00m\u001B[38;5;124m'\u001B[39m)\n\u001B[1;32m     15\u001B[0m     \u001B[38;5;28;01mif\u001B[39;00m kwargs[argname] \u001B[38;5;241m<\u001B[39m low \u001B[38;5;129;01mor\u001B[39;00m kwargs[argname] \u001B[38;5;241m>\u001B[39m high:\n\u001B[0;32m---> 16\u001B[0m         \u001B[38;5;28;01mraise\u001B[39;00m \u001B[38;5;167;01mTypeError\u001B[39;00m(\u001B[38;5;124mf\u001B[39m\u001B[38;5;124m'\u001B[39m\u001B[38;5;132;01m{\u001B[39;00mfunc\u001B[38;5;241m.\u001B[39m\u001B[38;5;18m__name__\u001B[39m\u001B[38;5;132;01m}\u001B[39;00m\u001B[38;5;124m argument \u001B[39m\u001B[38;5;124m\"\u001B[39m\u001B[38;5;132;01m{\u001B[39;00margname\u001B[38;5;132;01m}\u001B[39;00m\u001B[38;5;124m\"\u001B[39m\u001B[38;5;124m not in \u001B[39m\u001B[38;5;132;01m{\u001B[39;00mlow\u001B[38;5;132;01m}\u001B[39;00m\u001B[38;5;124m..\u001B[39m\u001B[38;5;132;01m{\u001B[39;00mhigh\u001B[38;5;132;01m}\u001B[39;00m\u001B[38;5;124m'\u001B[39m)\n\u001B[1;32m     18\u001B[0m \u001B[38;5;28;01melse\u001B[39;00m:\n\u001B[1;32m     19\u001B[0m     \u001B[38;5;28mprint\u001B[39m(\u001B[38;5;124mf\u001B[39m\u001B[38;5;124m'\u001B[39m\u001B[38;5;124mArgument \u001B[39m\u001B[38;5;124m\"\u001B[39m\u001B[38;5;132;01m{\u001B[39;00margname\u001B[38;5;132;01m}\u001B[39;00m\u001B[38;5;124m\"\u001B[39m\u001B[38;5;124m defaulted\u001B[39m\u001B[38;5;124m'\u001B[39m)\n",
      "\u001B[0;31mTypeError\u001B[0m: mydate argument \"a\" not in 1..10"
     ]
    }
   ],
   "execution_count": 256
  },
  {
   "metadata": {
    "ExecuteTime": {
     "end_time": "2024-07-05T10:03:21.151105Z",
     "start_time": "2024-07-05T10:03:21.149259Z"
    }
   },
   "cell_type": "code",
   "source": "mydate(1, year = 2000, day = 12)",
   "id": "30e820aaa92399ff",
   "outputs": [
    {
     "name": "stdout",
     "output_type": "stream",
     "text": [
      "argname: month, low: 1, high: 12\n",
      "month was passed by position[0] in ['month']\n",
      "argname: day, low: 1, high: 31\n",
      "day was passed by name in {'year': 2000, 'day': 12}\n",
      "argname: year, low: 1900, high: 2100\n",
      "year was passed by name in {'year': 2000, 'day': 12}\n",
      "argname: a, low: 1, high: 10\n",
      "Argument \"a\" defaulted\n",
      "1/12/2000\n"
     ]
    }
   ],
   "execution_count": 257
  },
  {
   "metadata": {},
   "cell_type": "markdown",
   "source": "测试",
   "id": "c18bc517c03dd4eb"
  },
  {
   "metadata": {
    "ExecuteTime": {
     "end_time": "2024-07-05T09:55:02.789346Z",
     "start_time": "2024-07-05T09:55:02.781830Z"
    }
   },
   "cell_type": "code",
   "source": [
    "\"\"\"\n",
    "文件argtest.py：（3.X + 2.X）函数装饰器，用于对传递给任何函数方法的参数执行任意传递的验证。\n",
    "范围和类型测试是两个示例用途；valuetest处理参数值的更多任意测试。参数由关键字指定给装饰器。\n",
    "在实际调用中，参数可以按位置或关键字传递，并且可以省略默认值。请参见下面的自我测试代码，以获取示例用例。\n",
    "注意事项：不完全支持嵌套，因为调用代理参数不同；不验证传递给装饰器的*args的额外参数；对于罐头用例可能没有比断言更容易。\n",
    "\"\"\"\n",
    "trace = False\n",
    "\n",
    "\n",
    "def rangetest(**argchecks):\n",
    "    return argtest(argchecks, lambda arg, vals: arg < vals[0] or arg > vals[1])\n",
    "\n",
    "def typetest(**argchecks):\n",
    "    return argtest(argchecks, lambda arg, type: not isinstance(arg, type))\n",
    "\n",
    "def valuetest(**argchecks):\n",
    "    return argtest(argchecks, lambda arg, tester: not tester(arg))\n",
    "\n",
    "\n",
    "def argtest(argchecks, failif):  # Validate args per failif + criteria\n",
    "    def onDecorator(func):  # onCall retains func, argchecks, failif\n",
    "        if not __debug__:  # No-op if \"python -O main.py args...\"\n",
    "            return func\n",
    "        else:\n",
    "            code = func.__code__\n",
    "            expected = list(code.co_varnames[:code.co_argcount])\n",
    "\n",
    "            def onError(argname, criteria):\n",
    "                # 引发异常\n",
    "                raise TypeError(f'{func.__name__} argument {argname} not {criteria}')\n",
    "\n",
    "            def onCall(*args, **kwargs):\n",
    "                positionals = expected[:len(args)] # 位置参数\n",
    "                for (argname, criteria) in argchecks.items():  # For all to test\n",
    "                    if argname in kwargs:  # Passed by name\n",
    "                        if failif(kwargs[argname], criteria):\n",
    "                            onError(argname, criteria)\n",
    "                    elif argname in positionals:  # Passed by posit\n",
    "                        position = positionals.index(argname)\n",
    "                        if failif(args[position], criteria):\n",
    "                            onError(argname, criteria)\n",
    "                    else:  # Not passed-dflt\n",
    "                        if trace:\n",
    "                            print(f'Argument \"{argname}\" defaulted')\n",
    "                return func(*args, **kwargs)  # OK: run original call\n",
    "\n",
    "            return onCall\n",
    "\n",
    "    return onDecorator\n"
   ],
   "id": "40975322b815c02",
   "outputs": [],
   "execution_count": 230
  },
  {
   "metadata": {
    "ExecuteTime": {
     "end_time": "2024-07-05T10:15:45.075310Z",
     "start_time": "2024-07-05T10:15:45.072361Z"
    }
   },
   "cell_type": "code",
   "source": [
    "import sys\n",
    "\n",
    "\n",
    "def fails(test):\n",
    "    try:\n",
    "        result = test()\n",
    "    except:\n",
    "        print(f'Fails:[{sys.exc_info()[1]}]')\n",
    "    else:\n",
    "        print(f'Success: {result}')\n",
    "\n",
    "\n",
    "print('--------------------------------------------------------------------')\n",
    "\n",
    "\n",
    "# Canned use cases: ranges, types\n",
    "\n",
    "@rangetest(m=(1, 12), d=(1, 31), y=(1900, 2013))\n",
    "def date(m, d, y):\n",
    "    print('date = %s/%s/%s' % (m, d, y))\n",
    "\n",
    "\n",
    "date(1, 2, 1960)\n",
    "fails(lambda: date(1, 2, 3))"
   ],
   "id": "3fe634889604cce1",
   "outputs": [
    {
     "name": "stdout",
     "output_type": "stream",
     "text": [
      "--------------------------------------------------------------------\n",
      "date = 1/2/1960\n",
      "Fails:[date argument y not (1900, 2013)]\n"
     ]
    }
   ],
   "execution_count": 274
  },
  {
   "metadata": {
    "ExecuteTime": {
     "end_time": "2024-07-05T10:16:23.079595Z",
     "start_time": "2024-07-05T10:16:23.076699Z"
    }
   },
   "cell_type": "code",
   "source": [
    "\n",
    "\n",
    "@typetest(a=int, c=float)\n",
    "def sum(a, b, c, d):\n",
    "    print(a + b + c + d)\n",
    "\n",
    "\n",
    "sum(1, 2, 3.0, 4)\n",
    "sum(1, d=4, b=2, c=3.0)\n",
    "fails(lambda: sum('spam', 2, 99, 4))\n",
    "fails(lambda: sum(1, d=4, b=2, c=99))"
   ],
   "id": "9aba2eff685e885",
   "outputs": [
    {
     "name": "stdout",
     "output_type": "stream",
     "text": [
      "10.0\n",
      "10.0\n",
      "Fails:[sum argument a not <class 'int'>]\n",
      "Fails:[sum argument c not <class 'float'>]\n"
     ]
    }
   ],
   "execution_count": 275
  },
  {
   "metadata": {
    "ExecuteTime": {
     "end_time": "2024-07-05T10:15:18.922357Z",
     "start_time": "2024-07-05T10:15:18.919679Z"
    }
   },
   "cell_type": "code",
   "source": [
    "\n",
    "print('--------------------------------------------------------------------')\n",
    "\n",
    "\n",
    "# Arbitrary/mixed tests\n",
    "\n",
    "@valuetest(word1=str.islower, word2=(lambda x: x[0].isupper()))\n",
    "def msg(word1='mighty', word2='Larch', label='The'):\n",
    "    print('%s %s %s' % (label, word1, word2))\n",
    "\n",
    "\n",
    "msg()  # word1 and word2 defaulted\n",
    "msg('majestic', 'Moose')\n",
    "fails(lambda: msg('Giant', 'Redwood'))\n",
    "fails(lambda: msg('great', word2='elm'))"
   ],
   "id": "e4d0156513de4336",
   "outputs": [
    {
     "name": "stdout",
     "output_type": "stream",
     "text": [
      "--------------------------------------------------------------------\n",
      "The mighty Larch\n",
      "The majestic Moose\n",
      "Fails:[msg argument word1 not <method 'islower' of 'str' objects>]\n",
      "Fails:[msg argument word2 not <function <lambda> at 0x113758680>]\n"
     ]
    }
   ],
   "execution_count": 270
  },
  {
   "metadata": {
    "ExecuteTime": {
     "end_time": "2024-07-05T10:15:19.417352Z",
     "start_time": "2024-07-05T10:15:19.414939Z"
    }
   },
   "cell_type": "code",
   "source": [
    "\n",
    "print('--------------------------------------------------------------------')\n",
    "\n",
    "\n",
    "# Manual type and range tests\n",
    "\n",
    "@valuetest(A=lambda x: isinstance(x, int), B=lambda x: x > 0 and x < 10)\n",
    "def manual(A, B):\n",
    "    print(A + B)\n",
    "\n",
    "\n",
    "manual(100, 2)\n",
    "fails(lambda: manual(1.99, 2))\n",
    "fails(lambda: manual(100, 20))"
   ],
   "id": "3e788a2320315219",
   "outputs": [
    {
     "name": "stdout",
     "output_type": "stream",
     "text": [
      "--------------------------------------------------------------------\n",
      "102\n",
      "Fails:[manual argument A not <function <lambda> at 0x113759760>]\n",
      "Fails:[manual argument B not <function <lambda> at 0x113758220>]\n"
     ]
    }
   ],
   "execution_count": 271
  },
  {
   "metadata": {
    "ExecuteTime": {
     "end_time": "2024-07-05T10:15:19.888082Z",
     "start_time": "2024-07-05T10:15:19.885349Z"
    }
   },
   "cell_type": "code",
   "source": [
    "\n",
    "print('--------------------------------------------------------------------')\n",
    "\n",
    "\n",
    "# Nesting: runs both, by nesting proxies on original.\n",
    "# Open issue: outer levels do not validate positionals due \n",
    "# to call proxy function's differing argument signature;\n",
    "# when trace=True, in all but the last of these \"X\" is \n",
    "# classified as defaulted due to the proxy's signature.\n",
    "\n",
    "@rangetest(X=(1, 10))\n",
    "@typetest(Z=str)  # Only innermost validates positional args\n",
    "def nester(X, Y, Z):\n",
    "    return ('%s-%s-%s' % (X, Y, Z))\n",
    "\n",
    "\n",
    "print(nester(1, 2, 'spam'))  # Original function runs properly\n",
    "fails(lambda: nester(1, 2, 3))  # Nested typetest is run:  positional\n",
    "fails(lambda: nester(1, 2, Z=3))  # Nested typetest is run:  keyword\n",
    "fails(lambda: nester(0, 2, 'spam'))  # <==Outer rangetest not run: posit.\n",
    "fails(lambda: nester(X=0, Y=2, Z='spam'))  # Outer rangetest is run:  keyword\n"
   ],
   "id": "ef45b6177a919d96",
   "outputs": [
    {
     "name": "stdout",
     "output_type": "stream",
     "text": [
      "--------------------------------------------------------------------\n",
      "1-2-spam\n",
      "Fails:[nester argument Z not <class 'str'>]\n",
      "Fails:[nester argument Z not <class 'str'>]\n",
      "Success: 0-2-spam\n",
      "Fails:[onCall argument X not (1, 10)]\n"
     ]
    }
   ],
   "execution_count": 272
  },
  {
   "metadata": {},
   "cell_type": "code",
   "outputs": [],
   "execution_count": null,
   "source": "",
   "id": "aa428393bf1c2434"
  }
 ],
 "metadata": {
  "kernelspec": {
   "display_name": "Python 3",
   "language": "python",
   "name": "python3"
  },
  "language_info": {
   "codemirror_mode": {
    "name": "ipython",
    "version": 2
   },
   "file_extension": ".py",
   "mimetype": "text/x-python",
   "name": "python",
   "nbconvert_exporter": "python",
   "pygments_lexer": "ipython2",
   "version": "2.7.6"
  }
 },
 "nbformat": 4,
 "nbformat_minor": 5
}
