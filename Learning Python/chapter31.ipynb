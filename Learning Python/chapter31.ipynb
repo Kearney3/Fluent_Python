{
 "cells": [
  {
   "metadata": {},
   "cell_type": "markdown",
   "source": "# 类设计",
   "id": "c2af6ae604391be2"
  },
  {
   "metadata": {},
   "cell_type": "markdown",
   "source": "## is-a关系",
   "id": "4d241f462aa76f35"
  },
  {
   "cell_type": "code",
   "id": "dbf7f50304a995c",
   "metadata": {
    "collapsed": true,
    "ExecuteTime": {
     "end_time": "2024-07-08T02:34:17.345705Z",
     "start_time": "2024-07-08T02:34:17.340095Z"
    }
   },
   "source": [
    "class Employee:\n",
    "    def __init__(self, name, salary=0):\n",
    "        self.name = name\n",
    "        self.salary = salary\n",
    "\n",
    "    def giveRaise(self, percent):\n",
    "        self.salary = self.salary + (self.salary * percent)\n",
    "\n",
    "    def work(self):\n",
    "        print(self.name, \"does stuff\")\n",
    "\n",
    "    def __repr__(self):\n",
    "        return \"<Employee: name=%s, salary=%s>\" % (self.name, self.salary)\n",
    "\n",
    "\n",
    "class Chef(Employee):\n",
    "    def __init__(self, name):\n",
    "        Employee.__init__(self, name, 50000)\n",
    "\n",
    "    def work(self):\n",
    "        print(self.name, \"makes food\")\n",
    "\n",
    "\n",
    "class Server(Employee):\n",
    "    def __init__(self, name):\n",
    "        Employee.__init__(self, name, 40000)\n",
    "\n",
    "    def work(self):\n",
    "        print(self.name, \"interfaces with customer\")\n",
    "\n",
    "\n",
    "class PizzaRobot(Chef):\n",
    "    def __init__(self, name):\n",
    "        Chef.__init__(self, name)\n",
    "\n",
    "    def work(self):\n",
    "        print(self.name, \"makes pizza\")"
   ],
   "outputs": [],
   "execution_count": 1
  },
  {
   "metadata": {
    "ExecuteTime": {
     "end_time": "2024-07-08T02:34:17.357294Z",
     "start_time": "2024-07-08T02:34:17.355140Z"
    }
   },
   "cell_type": "code",
   "source": [
    "bob = PizzaRobot('bob')  # Make a robot named bob\n",
    "print(bob)  # Run inherited __repr__\n",
    "bob.work()  # Run type-specific action\n",
    "bob.giveRaise(0.20)  # Give bob a 20% raise\n",
    "print(bob);\n",
    "print()\n",
    "\n",
    "for klass in Employee, Chef, Server, PizzaRobot:\n",
    "    obj = klass(klass.__name__)\n",
    "    obj.work()\n"
   ],
   "id": "initial_id",
   "outputs": [
    {
     "name": "stdout",
     "output_type": "stream",
     "text": [
      "<Employee: name=bob, salary=50000>\n",
      "bob makes pizza\n",
      "<Employee: name=bob, salary=60000.0>\n",
      "\n",
      "Employee does stuff\n",
      "Chef makes food\n",
      "Server interfaces with customer\n",
      "PizzaRobot makes pizza\n"
     ]
    }
   ],
   "execution_count": 2
  },
  {
   "metadata": {},
   "cell_type": "markdown",
   "source": "## has-a关系",
   "id": "258aa4101aa4eddc"
  },
  {
   "metadata": {
    "ExecuteTime": {
     "end_time": "2024-07-08T02:34:17.375891Z",
     "start_time": "2024-07-08T02:34:17.373240Z"
    }
   },
   "cell_type": "code",
   "source": [
    "class Customer:\n",
    "    def __init__(self, name):\n",
    "        self.name = name\n",
    "\n",
    "    def order(self, server):\n",
    "        print(self.name, \"orders from\", server)\n",
    "\n",
    "    def pay(self, server):\n",
    "        print(self.name, \"pays for item to\", server)\n",
    "\n",
    "\n",
    "class Oven:\n",
    "    def bake(self):\n",
    "        print(\"oven bakes\")\n",
    "\n",
    "\n",
    "class PizzaShop:\n",
    "    def __init__(self):\n",
    "        self.server = Server('Pat')  # Embed other objects\n",
    "        self.chef = PizzaRobot('Bob')  # A robot named bob\n",
    "        self.oven = Oven()\n",
    "\n",
    "    def order(self, name):\n",
    "        customer = Customer(name)  # Activate other objects\n",
    "        customer.order(self.server)  # Customer orders from server\n",
    "        self.chef.work()\n",
    "        self.oven.bake()\n",
    "        customer.pay(self.server)"
   ],
   "id": "d43aeffaaf377bac",
   "outputs": [],
   "execution_count": 3
  },
  {
   "metadata": {
    "ExecuteTime": {
     "end_time": "2024-07-08T02:34:17.396903Z",
     "start_time": "2024-07-08T02:34:17.394938Z"
    }
   },
   "cell_type": "code",
   "source": [
    "scene = PizzaShop()  # Make the composite\n",
    "scene.order('Homer')  # Simulate Homer's order\n",
    "print('...')\n",
    "scene.order('Shaggy')  # Simulate Shaggy's order\n"
   ],
   "id": "5603c5755bf7f980",
   "outputs": [
    {
     "name": "stdout",
     "output_type": "stream",
     "text": [
      "Homer orders from <Employee: name=Pat, salary=40000>\n",
      "Bob makes pizza\n",
      "oven bakes\n",
      "Homer pays for item to <Employee: name=Pat, salary=40000>\n",
      "...\n",
      "Shaggy orders from <Employee: name=Pat, salary=40000>\n",
      "Bob makes pizza\n",
      "oven bakes\n",
      "Shaggy pays for item to <Employee: name=Pat, salary=40000>\n"
     ]
    }
   ],
   "execution_count": 4
  },
  {
   "metadata": {
    "ExecuteTime": {
     "end_time": "2024-07-08T02:34:17.446822Z",
     "start_time": "2024-07-08T02:34:17.444496Z"
    }
   },
   "cell_type": "code",
   "source": [
    "class Processor:\n",
    "    def __init__(self, reader, writer):\n",
    "        self.reader = reader\n",
    "        self.writer = writer\n",
    "\n",
    "    def process(self):\n",
    "        while True:\n",
    "            data = self.reader.read()\n",
    "            if not data:\n",
    "                break\n",
    "            result = self.converter(data)\n",
    "            self.writer.write(result)\n",
    "\n",
    "    def converter(self, data):\n",
    "        assert False, 'Should be implemented in subclass'\n",
    "\n",
    "\n",
    "class Uppercase(Processor):\n",
    "    def converter(self, data):\n",
    "        return data.upper()"
   ],
   "id": "a4fdbfcacb111fa",
   "outputs": [],
   "execution_count": 5
  },
  {
   "metadata": {
    "ExecuteTime": {
     "end_time": "2024-07-08T02:34:17.505754Z",
     "start_time": "2024-07-08T02:34:17.503742Z"
    }
   },
   "cell_type": "code",
   "source": [
    "import sys\n",
    "\n",
    "obj = Uppercase(open('text.log', 'r'), sys.stdout)"
   ],
   "id": "1c1a928fb46bb281",
   "outputs": [],
   "execution_count": 6
  },
  {
   "metadata": {
    "ExecuteTime": {
     "end_time": "2024-07-08T02:34:17.548058Z",
     "start_time": "2024-07-08T02:34:17.545869Z"
    }
   },
   "cell_type": "code",
   "source": "obj.process()",
   "id": "473bea2dfff0c24c",
   "outputs": [
    {
     "name": "stdout",
     "output_type": "stream",
     "text": [
      "HELLO\n",
      "WORLD\n",
      "1 2 3\n"
     ]
    }
   ],
   "execution_count": 7
  },
  {
   "metadata": {
    "ExecuteTime": {
     "end_time": "2024-07-08T02:34:17.634695Z",
     "start_time": "2024-07-08T02:34:17.631648Z"
    }
   },
   "cell_type": "code",
   "source": [
    "obj2 = Uppercase(open('text.log', 'r'), open('text_upper.txt', 'w'))\n",
    "obj2.process()"
   ],
   "id": "539099497ada0512",
   "outputs": [],
   "execution_count": 8
  },
  {
   "metadata": {
    "ExecuteTime": {
     "end_time": "2024-07-08T02:34:17.666458Z",
     "start_time": "2024-07-08T02:34:17.664598Z"
    }
   },
   "cell_type": "code",
   "source": [
    "class HTMLize:\n",
    "    def write(self, line: str):\n",
    "        print('<pre>', line.rstrip(), '</pre>')\n"
   ],
   "id": "b1b84455f2e50319",
   "outputs": [],
   "execution_count": 9
  },
  {
   "metadata": {
    "ExecuteTime": {
     "end_time": "2024-07-08T02:34:17.754315Z",
     "start_time": "2024-07-08T02:34:17.748540Z"
    }
   },
   "cell_type": "code",
   "source": "Uppercase(open('text.log', 'r'), HTMLize()).process()",
   "id": "e117dbabf88f58c3",
   "outputs": [
    {
     "name": "stdout",
     "output_type": "stream",
     "text": [
      "<pre> HELLO\n",
      "WORLD\n",
      "1 2 3 </pre>\n"
     ]
    }
   ],
   "execution_count": 10
  },
  {
   "metadata": {
    "ExecuteTime": {
     "end_time": "2024-07-08T02:34:17.791187Z",
     "start_time": "2024-07-08T02:34:17.769456Z"
    }
   },
   "cell_type": "code",
   "source": [
    "import shelve\n",
    "\n",
    "db = shelve.open('pizzashop.db')\n",
    "db['key'] = PizzaShop()\n",
    "db.close()"
   ],
   "id": "57044c5480d7e76",
   "outputs": [],
   "execution_count": 11
  },
  {
   "metadata": {
    "ExecuteTime": {
     "end_time": "2024-07-08T02:34:17.803147Z",
     "start_time": "2024-07-08T02:34:17.800427Z"
    }
   },
   "cell_type": "code",
   "source": [
    "db = shelve.open('pizzashop.db')\n",
    "shop = db['key']\n",
    "shop.order('Tim')"
   ],
   "id": "863259480447f10f",
   "outputs": [
    {
     "name": "stdout",
     "output_type": "stream",
     "text": [
      "Tim orders from <Employee: name=Pat, salary=40000>\n",
      "Bob makes pizza\n",
      "oven bakes\n",
      "Tim pays for item to <Employee: name=Pat, salary=40000>\n"
     ]
    }
   ],
   "execution_count": 12
  },
  {
   "metadata": {},
   "cell_type": "markdown",
   "source": "# 委托",
   "id": "1490609c4fa7e51d"
  },
  {
   "metadata": {
    "ExecuteTime": {
     "end_time": "2024-07-08T02:34:17.855276Z",
     "start_time": "2024-07-08T02:34:17.853432Z"
    }
   },
   "cell_type": "code",
   "source": [
    "class Wrapper:\n",
    "    def __init__(self, obj):\n",
    "        self.wrapped = obj\n",
    "\n",
    "    def __getattr__(self, attrname):\n",
    "        print('Trace:', attrname)\n",
    "        return getattr(self.wrapped, attrname)"
   ],
   "id": "1c44e2fae0406764",
   "outputs": [],
   "execution_count": 13
  },
  {
   "metadata": {
    "ExecuteTime": {
     "end_time": "2024-07-08T02:34:17.908384Z",
     "start_time": "2024-07-08T02:34:17.905883Z"
    }
   },
   "cell_type": "code",
   "source": "a = Wrapper([1, 2, 3])",
   "id": "2aa28451879e14f8",
   "outputs": [],
   "execution_count": 14
  },
  {
   "metadata": {
    "ExecuteTime": {
     "end_time": "2024-07-08T02:34:17.925158Z",
     "start_time": "2024-07-08T02:34:17.921999Z"
    }
   },
   "cell_type": "code",
   "source": "getattr(a, 'append')",
   "id": "6eb8c385124341d7",
   "outputs": [
    {
     "name": "stdout",
     "output_type": "stream",
     "text": [
      "Trace: append\n"
     ]
    },
    {
     "data": {
      "text/plain": [
       "<function list.append(object, /)>"
      ]
     },
     "execution_count": 15,
     "metadata": {},
     "output_type": "execute_result"
    }
   ],
   "execution_count": 15
  },
  {
   "metadata": {
    "ExecuteTime": {
     "end_time": "2024-07-08T02:34:17.940790Z",
     "start_time": "2024-07-08T02:34:17.939104Z"
    }
   },
   "cell_type": "code",
   "source": "a.append(4)",
   "id": "aad65fedc29b62e3",
   "outputs": [
    {
     "name": "stdout",
     "output_type": "stream",
     "text": [
      "Trace: append\n"
     ]
    }
   ],
   "execution_count": 16
  },
  {
   "metadata": {
    "ExecuteTime": {
     "end_time": "2024-07-08T02:34:17.982159Z",
     "start_time": "2024-07-08T02:34:17.979946Z"
    }
   },
   "cell_type": "code",
   "source": "a.wrapped",
   "id": "52ce0083985e99a1",
   "outputs": [
    {
     "data": {
      "text/plain": [
       "[1, 2, 3, 4]"
      ]
     },
     "execution_count": 17,
     "metadata": {},
     "output_type": "execute_result"
    }
   ],
   "execution_count": 17
  },
  {
   "metadata": {
    "ExecuteTime": {
     "end_time": "2024-07-08T02:34:18.013424Z",
     "start_time": "2024-07-08T02:34:18.011721Z"
    }
   },
   "cell_type": "code",
   "source": "x = Wrapper({'a': 1, 'b': 2})",
   "id": "bce773d58c64cccc",
   "outputs": [],
   "execution_count": 18
  },
  {
   "metadata": {
    "ExecuteTime": {
     "end_time": "2024-07-08T02:34:18.065753Z",
     "start_time": "2024-07-08T02:34:18.063308Z"
    }
   },
   "cell_type": "code",
   "source": "x.keys()",
   "id": "46d32e4f242ac9f5",
   "outputs": [
    {
     "name": "stdout",
     "output_type": "stream",
     "text": [
      "Trace: keys\n"
     ]
    },
    {
     "data": {
      "text/plain": [
       "dict_keys(['a', 'b'])"
      ]
     },
     "execution_count": 19,
     "metadata": {},
     "output_type": "execute_result"
    }
   ],
   "execution_count": 19
  },
  {
   "metadata": {
    "ExecuteTime": {
     "end_time": "2024-07-08T02:34:18.152577Z",
     "start_time": "2024-07-08T02:34:18.150146Z"
    }
   },
   "cell_type": "code",
   "source": "list(x.keys())",
   "id": "bd63ff09ac120830",
   "outputs": [
    {
     "name": "stdout",
     "output_type": "stream",
     "text": [
      "Trace: keys\n"
     ]
    },
    {
     "data": {
      "text/plain": [
       "['a', 'b']"
      ]
     },
     "execution_count": 20,
     "metadata": {},
     "output_type": "execute_result"
    }
   ],
   "execution_count": 20
  },
  {
   "metadata": {
    "ExecuteTime": {
     "end_time": "2024-07-08T02:34:18.170172Z",
     "start_time": "2024-07-08T02:34:18.168411Z"
    }
   },
   "cell_type": "code",
   "source": [
    "class Test1:\n",
    "    __X = 'hello'\n",
    "\n",
    "    def __method(self):\n",
    "        print('hello')"
   ],
   "id": "11ec2f8692739101",
   "outputs": [],
   "execution_count": 21
  },
  {
   "metadata": {
    "ExecuteTime": {
     "end_time": "2024-07-08T02:34:18.395435Z",
     "start_time": "2024-07-08T02:34:18.200681Z"
    }
   },
   "cell_type": "code",
   "source": [
    "a = Test1()\n",
    "a.__X"
   ],
   "id": "3ac925b67847b9f8",
   "outputs": [
    {
     "ename": "AttributeError",
     "evalue": "'Test1' object has no attribute '__X'",
     "output_type": "error",
     "traceback": [
      "\u001B[0;31m---------------------------------------------------------------------------\u001B[0m",
      "\u001B[0;31mAttributeError\u001B[0m                            Traceback (most recent call last)",
      "Cell \u001B[0;32mIn[22], line 2\u001B[0m\n\u001B[1;32m      1\u001B[0m a \u001B[38;5;241m=\u001B[39m Test1()\n\u001B[0;32m----> 2\u001B[0m a\u001B[38;5;241m.\u001B[39m__X\n",
      "\u001B[0;31mAttributeError\u001B[0m: 'Test1' object has no attribute '__X'"
     ]
    }
   ],
   "execution_count": 22
  },
  {
   "metadata": {
    "ExecuteTime": {
     "end_time": "2024-07-08T02:34:18.396697Z",
     "start_time": "2024-07-08T02:34:18.396633Z"
    }
   },
   "cell_type": "code",
   "source": "a._Test1__X",
   "id": "84df620d76722aeb",
   "outputs": [],
   "execution_count": null
  },
  {
   "metadata": {},
   "cell_type": "code",
   "source": "a.__method()",
   "id": "83dde050c5854a55",
   "outputs": [],
   "execution_count": null
  },
  {
   "metadata": {},
   "cell_type": "code",
   "source": "a._Test1__method()",
   "id": "56f3514e88dbcf71",
   "outputs": [],
   "execution_count": null
  },
  {
   "metadata": {},
   "cell_type": "code",
   "source": [
    "class Test2:\n",
    "    _X = 'hello'\n",
    "\n",
    "    def _method(self):\n",
    "        print('hello')"
   ],
   "id": "3da5d5228190dce7",
   "outputs": [],
   "execution_count": null
  },
  {
   "metadata": {},
   "cell_type": "code",
   "source": [
    "b = Test2()\n",
    "b._X"
   ],
   "id": "3f8db775e759607f",
   "outputs": [],
   "execution_count": null
  },
  {
   "metadata": {},
   "cell_type": "markdown",
   "source": "# 伪私有属性",
   "id": "a2e28d0007fa8ee3"
  },
  {
   "metadata": {
    "ExecuteTime": {
     "end_time": "2024-07-08T02:34:18.421264Z",
     "start_time": "2024-07-08T02:34:18.419264Z"
    }
   },
   "cell_type": "code",
   "source": [
    "class C1:\n",
    "    def meth1(self): self.X = 88\n",
    "\n",
    "    def meth2(self): print(self.X)\n",
    "\n",
    "\n",
    "class C2:\n",
    "    def metha(self): self.X = 99\n",
    "\n",
    "    def methb(self): print(self.X)\n",
    "\n",
    "\n",
    "class C3(C1, C2): ..."
   ],
   "id": "11a6f61fa0300d75",
   "outputs": [],
   "execution_count": 23
  },
  {
   "metadata": {
    "ExecuteTime": {
     "end_time": "2024-07-08T02:34:18.518129Z",
     "start_time": "2024-07-08T02:34:18.515704Z"
    }
   },
   "cell_type": "code",
   "source": "i = C3()",
   "id": "b8e52a2fd3d86781",
   "outputs": [],
   "execution_count": 24
  },
  {
   "metadata": {
    "ExecuteTime": {
     "end_time": "2024-07-08T02:34:18.766797Z",
     "start_time": "2024-07-08T02:34:18.764452Z"
    }
   },
   "cell_type": "code",
   "source": "i.meth1(), i.metha()",
   "id": "c4821b142431668e",
   "outputs": [
    {
     "data": {
      "text/plain": [
       "(None, None)"
      ]
     },
     "execution_count": 25,
     "metadata": {},
     "output_type": "execute_result"
    }
   ],
   "execution_count": 25
  },
  {
   "metadata": {
    "ExecuteTime": {
     "end_time": "2024-07-08T02:34:18.872428Z",
     "start_time": "2024-07-08T02:34:18.870112Z"
    }
   },
   "cell_type": "code",
   "source": "i.__dict__",
   "id": "c0e0f5a7f6c34a9",
   "outputs": [
    {
     "data": {
      "text/plain": [
       "{'X': 99}"
      ]
     },
     "execution_count": 26,
     "metadata": {},
     "output_type": "execute_result"
    }
   ],
   "execution_count": 26
  },
  {
   "metadata": {
    "ExecuteTime": {
     "end_time": "2024-07-08T02:34:18.911444Z",
     "start_time": "2024-07-08T02:34:18.909154Z"
    }
   },
   "cell_type": "code",
   "source": "i.meth2(), i.methb()",
   "id": "eea2293dbde69969",
   "outputs": [
    {
     "name": "stdout",
     "output_type": "stream",
     "text": [
      "99\n",
      "99\n"
     ]
    },
    {
     "data": {
      "text/plain": [
       "(None, None)"
      ]
     },
     "execution_count": 27,
     "metadata": {},
     "output_type": "execute_result"
    }
   ],
   "execution_count": 27
  },
  {
   "metadata": {
    "ExecuteTime": {
     "end_time": "2024-07-08T02:34:18.964632Z",
     "start_time": "2024-07-08T02:34:18.962473Z"
    }
   },
   "cell_type": "code",
   "source": [
    "class C1:\n",
    "    def meth1(self): self.__X = 88\n",
    "\n",
    "    def meth2(self): print(self.__X)\n",
    "\n",
    "\n",
    "class C2:\n",
    "    def metha(self): self.__X = 99\n",
    "\n",
    "    def methb(self): print(self.__X)\n",
    "\n",
    "\n",
    "class C3(C1, C2): ..."
   ],
   "id": "a2036d9f0da6c35a",
   "outputs": [],
   "execution_count": 28
  },
  {
   "metadata": {
    "ExecuteTime": {
     "end_time": "2024-07-08T02:34:19.010488Z",
     "start_time": "2024-07-08T02:34:19.008427Z"
    }
   },
   "cell_type": "code",
   "source": [
    "i = C3()\n",
    "i.meth1(), i.metha()"
   ],
   "id": "c7111c7bef443c7d",
   "outputs": [
    {
     "data": {
      "text/plain": [
       "(None, None)"
      ]
     },
     "execution_count": 29,
     "metadata": {},
     "output_type": "execute_result"
    }
   ],
   "execution_count": 29
  },
  {
   "metadata": {
    "ExecuteTime": {
     "end_time": "2024-07-08T02:34:19.059053Z",
     "start_time": "2024-07-08T02:34:19.056837Z"
    }
   },
   "cell_type": "code",
   "source": "i.__dict__",
   "id": "4d81c1946940947a",
   "outputs": [
    {
     "data": {
      "text/plain": [
       "{'_C1__X': 88, '_C2__X': 99}"
      ]
     },
     "execution_count": 30,
     "metadata": {},
     "output_type": "execute_result"
    }
   ],
   "execution_count": 30
  },
  {
   "metadata": {
    "ExecuteTime": {
     "end_time": "2024-07-08T02:34:19.094706Z",
     "start_time": "2024-07-08T02:34:19.092234Z"
    }
   },
   "cell_type": "code",
   "source": "i.meth2(), i.methb()",
   "id": "5f8cf07d67ed4940",
   "outputs": [
    {
     "name": "stdout",
     "output_type": "stream",
     "text": [
      "88\n",
      "99\n"
     ]
    },
    {
     "data": {
      "text/plain": [
       "(None, None)"
      ]
     },
     "execution_count": 31,
     "metadata": {},
     "output_type": "execute_result"
    }
   ],
   "execution_count": 31
  },
  {
   "metadata": {},
   "cell_type": "markdown",
   "source": "# 绑定",
   "id": "ed94fe2b9a0ace25"
  },
  {
   "metadata": {
    "ExecuteTime": {
     "end_time": "2024-07-08T02:34:19.137587Z",
     "start_time": "2024-07-08T02:34:19.136073Z"
    }
   },
   "cell_type": "code",
   "source": [
    "class Spam:\n",
    "    def doit(self, message):\n",
    "        print(message)"
   ],
   "id": "1da9cf489141e90a",
   "outputs": [],
   "execution_count": 32
  },
  {
   "metadata": {
    "ExecuteTime": {
     "end_time": "2024-07-08T02:34:19.217813Z",
     "start_time": "2024-07-08T02:34:19.215887Z"
    }
   },
   "cell_type": "code",
   "source": [
    "a = Spam()\n",
    "a.doit('hello')"
   ],
   "id": "625df5938737215",
   "outputs": [
    {
     "name": "stdout",
     "output_type": "stream",
     "text": [
      "hello\n"
     ]
    }
   ],
   "execution_count": 33
  },
  {
   "metadata": {
    "ExecuteTime": {
     "end_time": "2024-07-08T02:34:19.263426Z",
     "start_time": "2024-07-08T02:34:19.261624Z"
    }
   },
   "cell_type": "code",
   "source": [
    "b = Spam()\n",
    "x = b.doit\n",
    "x('hello')"
   ],
   "id": "feda0ea4afaeab98",
   "outputs": [
    {
     "name": "stdout",
     "output_type": "stream",
     "text": [
      "hello\n"
     ]
    }
   ],
   "execution_count": 34
  },
  {
   "metadata": {
    "ExecuteTime": {
     "end_time": "2024-07-08T02:34:19.293075Z",
     "start_time": "2024-07-08T02:34:19.291407Z"
    }
   },
   "cell_type": "code",
   "source": [
    "c = Spam()\n",
    "d = Spam.doit\n",
    "d(c, 'hello')"
   ],
   "id": "6d3b66b9c1524fda",
   "outputs": [
    {
     "name": "stdout",
     "output_type": "stream",
     "text": [
      "hello\n"
     ]
    }
   ],
   "execution_count": 35
  },
  {
   "metadata": {
    "ExecuteTime": {
     "end_time": "2024-07-08T02:34:19.341063Z",
     "start_time": "2024-07-08T02:34:19.339067Z"
    }
   },
   "cell_type": "code",
   "source": [
    "class Number:\n",
    "    def __init__(self, base):\n",
    "        self.base = base\n",
    "\n",
    "    def double(self):\n",
    "        return self.base * 2\n",
    "\n",
    "    def triple(self):\n",
    "        return self.base * 3"
   ],
   "id": "31faed825f2679b7",
   "outputs": [],
   "execution_count": 36
  },
  {
   "metadata": {
    "ExecuteTime": {
     "end_time": "2024-07-08T02:34:19.358363Z",
     "start_time": "2024-07-08T02:34:19.356823Z"
    }
   },
   "cell_type": "code",
   "source": [
    "x = Number(2)\n",
    "y = Number(3)\n",
    "z = Number(4)"
   ],
   "id": "de43b27e8fce31be",
   "outputs": [],
   "execution_count": 37
  },
  {
   "metadata": {
    "ExecuteTime": {
     "end_time": "2024-07-08T02:34:19.380173Z",
     "start_time": "2024-07-08T02:34:19.378053Z"
    }
   },
   "cell_type": "code",
   "source": "x.double()",
   "id": "23acb0deab55bdac",
   "outputs": [
    {
     "data": {
      "text/plain": [
       "4"
      ]
     },
     "execution_count": 38,
     "metadata": {},
     "output_type": "execute_result"
    }
   ],
   "execution_count": 38
  },
  {
   "metadata": {
    "ExecuteTime": {
     "end_time": "2024-07-08T02:34:19.421264Z",
     "start_time": "2024-07-08T02:34:19.419206Z"
    }
   },
   "cell_type": "code",
   "source": [
    "acts = [x.double, y.double, z.double, z.triple]\n",
    "for act in acts:\n",
    "    print(act())"
   ],
   "id": "71ae6ddd988f8b43",
   "outputs": [
    {
     "name": "stdout",
     "output_type": "stream",
     "text": [
      "4\n",
      "6\n",
      "8\n",
      "12\n"
     ]
    }
   ],
   "execution_count": 39
  },
  {
   "metadata": {
    "ExecuteTime": {
     "end_time": "2024-07-08T02:34:19.466436Z",
     "start_time": "2024-07-08T02:34:19.464833Z"
    }
   },
   "cell_type": "code",
   "source": "func = x.double",
   "id": "aaf53cd09e579fd6",
   "outputs": [],
   "execution_count": 40
  },
  {
   "metadata": {
    "ExecuteTime": {
     "end_time": "2024-07-08T02:34:19.498886Z",
     "start_time": "2024-07-08T02:34:19.496374Z"
    }
   },
   "cell_type": "code",
   "source": "func.__self__",
   "id": "6e8c8dcc5f4aa3a4",
   "outputs": [
    {
     "data": {
      "text/plain": [
       "<__main__.Number at 0x114e04d90>"
      ]
     },
     "execution_count": 41,
     "metadata": {},
     "output_type": "execute_result"
    }
   ],
   "execution_count": 41
  },
  {
   "metadata": {
    "ExecuteTime": {
     "end_time": "2024-07-08T02:34:19.537290Z",
     "start_time": "2024-07-08T02:34:19.534815Z"
    }
   },
   "cell_type": "code",
   "source": "func.__func__",
   "id": "383c54bb6efc6544",
   "outputs": [
    {
     "data": {
      "text/plain": [
       "<function __main__.Number.double(self)>"
      ]
     },
     "execution_count": 42,
     "metadata": {},
     "output_type": "execute_result"
    }
   ],
   "execution_count": 42
  },
  {
   "metadata": {
    "ExecuteTime": {
     "end_time": "2024-07-08T02:34:19.589579Z",
     "start_time": "2024-07-08T02:34:19.587200Z"
    }
   },
   "cell_type": "code",
   "source": "func.__func__(func.__self__)",
   "id": "a987d3015f1e4694",
   "outputs": [
    {
     "data": {
      "text/plain": [
       "4"
      ]
     },
     "execution_count": 43,
     "metadata": {},
     "output_type": "execute_result"
    }
   ],
   "execution_count": 43
  },
  {
   "metadata": {
    "ExecuteTime": {
     "end_time": "2024-07-08T02:34:19.652916Z",
     "start_time": "2024-07-08T02:34:19.650511Z"
    }
   },
   "cell_type": "code",
   "source": "func.__self__.base",
   "id": "245be0ddd66e6166",
   "outputs": [
    {
     "data": {
      "text/plain": [
       "2"
      ]
     },
     "execution_count": 44,
     "metadata": {},
     "output_type": "execute_result"
    }
   ],
   "execution_count": 44
  },
  {
   "metadata": {},
   "cell_type": "markdown",
   "source": "# 工厂函数",
   "id": "e99722766fd60e3f"
  },
  {
   "metadata": {
    "ExecuteTime": {
     "end_time": "2024-07-08T02:34:19.720704Z",
     "start_time": "2024-07-08T02:34:19.718718Z"
    }
   },
   "cell_type": "code",
   "source": [
    "def factory(cls, *args, **kwargs):\n",
    "    return cls(*args, **kwargs)\n",
    "\n",
    "\n",
    "class Spam:\n",
    "    def doit(self, message):\n",
    "        print(message)\n",
    "\n",
    "\n",
    "class Person:\n",
    "    def __init__(self, name, job):\n",
    "        self.name = name\n",
    "        self.job = job"
   ],
   "id": "74e6320e8656430c",
   "outputs": [],
   "execution_count": 45
  },
  {
   "metadata": {
    "ExecuteTime": {
     "end_time": "2024-07-08T02:34:19.815228Z",
     "start_time": "2024-07-08T02:34:19.812881Z"
    }
   },
   "cell_type": "code",
   "source": [
    "obj1 = factory(Spam)\n",
    "obj2 = factory(Person, 'Bob', 'dev')\n",
    "obj3 = factory(Person, job='manager', name='Tim')"
   ],
   "id": "8d1c12d259fc8acc",
   "outputs": [],
   "execution_count": 46
  },
  {
   "metadata": {
    "ExecuteTime": {
     "end_time": "2024-07-08T02:34:19.909216Z",
     "start_time": "2024-07-08T02:34:19.907416Z"
    }
   },
   "cell_type": "code",
   "source": "obj1.doit('hello')",
   "id": "e0ca67927ed2f4e6",
   "outputs": [
    {
     "name": "stdout",
     "output_type": "stream",
     "text": [
      "hello\n"
     ]
    }
   ],
   "execution_count": 47
  },
  {
   "metadata": {
    "ExecuteTime": {
     "end_time": "2024-07-08T02:34:19.970595Z",
     "start_time": "2024-07-08T02:34:19.968368Z"
    }
   },
   "cell_type": "code",
   "source": "obj2.name, obj3.job",
   "id": "5609546858d35d89",
   "outputs": [
    {
     "data": {
      "text/plain": [
       "('Bob', 'manager')"
      ]
     },
     "execution_count": 48,
     "metadata": {},
     "output_type": "execute_result"
    }
   ],
   "execution_count": 48
  },
  {
   "metadata": {
    "ExecuteTime": {
     "end_time": "2024-07-08T02:34:19.999834Z",
     "start_time": "2024-07-08T02:34:19.997428Z"
    }
   },
   "cell_type": "code",
   "source": [
    "class ListInstance:\n",
    "    \"\"\"\n",
    "    Mix-in class that provides a formatted print() or str() of instances via \n",
    "    inheritance of __str__ coded here;  displays instance attrs only;  self is\n",
    "    instance of lowest class; __X names avoid clashing with client's attrs\n",
    "    \"\"\"\n",
    "\n",
    "    def __attrnames(self):\n",
    "        result = ''\n",
    "        for attr in sorted(self.__dict__):\n",
    "            result += f'\\t{attr}={self.__dict__[attr]}\\n'\n",
    "        return result\n",
    "\n",
    "    def __str__(self):\n",
    "        return (f'<Instance of {self.__class__.__name__}'\n",
    "                f'({self.__supers()}), '\n",
    "                f'address {id(self)}:\\n{self.__attrnames()}>')\n",
    "\n",
    "    def __supers(self):\n",
    "        names = []\n",
    "        for super in self.__class__.__bases__:  # One level up from class\n",
    "            names.append(super.__name__)  # name, not str(super)\n",
    "        return ', '.join(names)\n",
    "    # Or: ', '.join(super.__name__ for super in self.__class__.__bases__)"
   ],
   "id": "7fcad2a3df8512ab",
   "outputs": [],
   "execution_count": 49
  },
  {
   "metadata": {
    "ExecuteTime": {
     "end_time": "2024-07-08T02:34:20.074496Z",
     "start_time": "2024-07-08T02:34:20.072623Z"
    }
   },
   "cell_type": "code",
   "source": [
    "class Person(ListInstance):\n",
    "    def __init__(self, name, job):\n",
    "        self.name = name\n",
    "        self.job = job"
   ],
   "id": "ccfdd0e2aa809148",
   "outputs": [],
   "execution_count": 50
  },
  {
   "metadata": {
    "ExecuteTime": {
     "end_time": "2024-07-08T02:34:20.138421Z",
     "start_time": "2024-07-08T02:34:20.136600Z"
    }
   },
   "cell_type": "code",
   "source": [
    "p = Person('Bob', 'dev')\n",
    "print(p)"
   ],
   "id": "add9cee17ec6924a",
   "outputs": [
    {
     "name": "stdout",
     "output_type": "stream",
     "text": [
      "<Instance of Person(ListInstance), address 4613285520:\n",
      "\tjob=dev\n",
      "\tname=Bob\n",
      ">\n"
     ]
    }
   ],
   "execution_count": 51
  },
  {
   "metadata": {
    "ExecuteTime": {
     "end_time": "2024-07-08T02:34:20.190012Z",
     "start_time": "2024-07-08T02:34:20.187689Z"
    }
   },
   "cell_type": "code",
   "source": "str(p)",
   "id": "8b3a9880550966b4",
   "outputs": [
    {
     "data": {
      "text/plain": [
       "'<Instance of Person(ListInstance), address 4613285520:\\n\\tjob=dev\\n\\tname=Bob\\n>'"
      ]
     },
     "execution_count": 52,
     "metadata": {},
     "output_type": "execute_result"
    }
   ],
   "execution_count": 52
  },
  {
   "metadata": {
    "ExecuteTime": {
     "end_time": "2024-07-08T02:34:20.216823Z",
     "start_time": "2024-07-08T02:34:20.214632Z"
    }
   },
   "cell_type": "code",
   "source": "p",
   "id": "3daf3c221625c310",
   "outputs": [
    {
     "data": {
      "text/plain": [
       "<__main__.Person at 0x112f92690>"
      ]
     },
     "execution_count": 53,
     "metadata": {},
     "output_type": "execute_result"
    }
   ],
   "execution_count": 53
  },
  {
   "metadata": {
    "ExecuteTime": {
     "end_time": "2024-07-08T02:34:20.284584Z",
     "start_time": "2024-07-08T02:34:20.282322Z"
    }
   },
   "cell_type": "code",
   "source": [
    "\n",
    "class Super:\n",
    "    def __init__(self):  # Superclass __init__\n",
    "        self.data1 = 'spam'  # Create instance attrs\n",
    "\n",
    "    def ham(self):\n",
    "        pass\n",
    "\n",
    "\n",
    "class Sub(Super, ListInstance):  # Mix in ham and a __str__\n",
    "    def __init__(self):  # Listers have access to self\n",
    "        Super.__init__(self)\n",
    "        self.data2 = 'eggs'  # More instance attrs\n",
    "        self.data3 = 42\n",
    "\n",
    "    def spam(self):  # Define another method here\n",
    "        pass"
   ],
   "id": "7cda9e04a2636240",
   "outputs": [],
   "execution_count": 54
  },
  {
   "metadata": {
    "ExecuteTime": {
     "end_time": "2024-07-08T02:34:20.334270Z",
     "start_time": "2024-07-08T02:34:20.332292Z"
    }
   },
   "cell_type": "code",
   "source": [
    "x = Sub()\n",
    "print(x)"
   ],
   "id": "84ed73364a82325f",
   "outputs": [
    {
     "name": "stdout",
     "output_type": "stream",
     "text": [
      "<Instance of Sub(Super, ListInstance), address 4645123152:\n",
      "\tdata1=spam\n",
      "\tdata2=eggs\n",
      "\tdata3=42\n",
      ">\n"
     ]
    }
   ],
   "execution_count": 55
  },
  {
   "metadata": {
    "ExecuteTime": {
     "end_time": "2024-07-08T02:34:20.364578Z",
     "start_time": "2024-07-08T02:34:20.362135Z"
    }
   },
   "cell_type": "code",
   "source": [
    "class ListInherited:\n",
    "    \"\"\"\n",
    "    Use dir() to collect both instance attrs and names inherited from \n",
    "    its classes;  Python 3.X shows more names than 2.X because of the \n",
    "    implied object superclass in the new-style class model;  getattr() \n",
    "    fetches inherited names not in self.__dict__;  use __str__, not \n",
    "    __repr__, or else this loops when printing bound methods!\n",
    "    \"\"\"\n",
    "    def __attrnames(self, indent = 4*' '):\n",
    "        under = []\n",
    "        other = []\n",
    "        for attr in dir(self):                              # Instance dir()\n",
    "            if attr.startswith('__') and attr.endswith('__'):      # Skip internals\n",
    "                under.append(attr)\n",
    "            else:\n",
    "                other.append(f'{indent}{attr}={getattr(self, attr)}')\n",
    "        result = (str.center('Under', 77,'-')+ '\\n' + indent + ', '.join(under) + \n",
    "                  '\\n' + str.center('Other', 77,'-') + '\\n' + '\\n'.join(other))\n",
    "        return result\n",
    "\n",
    "    def __str__(self):\n",
    "        return (f'<Instance of {self.__class__.__name__}, '\n",
    "                f'address {id(self)}:\\n{self.__attrnames()}>')\n"
   ],
   "id": "4b4ce3491b0b1306",
   "outputs": [],
   "execution_count": 56
  },
  {
   "metadata": {
    "ExecuteTime": {
     "end_time": "2024-07-08T02:34:20.391435Z",
     "start_time": "2024-07-08T02:34:20.389729Z"
    }
   },
   "cell_type": "code",
   "source": [
    "class Person(ListInherited):\n",
    "    def __init__(self, name, job):\n",
    "        self.name = name\n",
    "        self.job = job\n",
    "        \n",
    "    def doit(self):\n",
    "        pass\n",
    "    \n",
    "    "
   ],
   "id": "fa469b7deac1c1b6",
   "outputs": [],
   "execution_count": 57
  },
  {
   "metadata": {
    "ExecuteTime": {
     "end_time": "2024-07-08T02:34:20.436535Z",
     "start_time": "2024-07-08T02:34:20.434606Z"
    }
   },
   "cell_type": "code",
   "source": [
    "y = Person('Bob', 'dev')\n",
    "print(y)"
   ],
   "id": "c68db9b71d7073e9",
   "outputs": [
    {
     "name": "stdout",
     "output_type": "stream",
     "text": [
      "<Instance of Person, address 4645124496:\n",
      "------------------------------------Under------------------------------------\n",
      "    __class__, __delattr__, __dict__, __dir__, __doc__, __eq__, __format__, __ge__, __getattribute__, __getstate__, __gt__, __hash__, __init__, __init_subclass__, __le__, __lt__, __module__, __ne__, __new__, __reduce__, __reduce_ex__, __repr__, __setattr__, __sizeof__, __str__, __subclasshook__, __weakref__\n",
      "------------------------------------Other------------------------------------\n",
      "    _ListInherited__attrnames=<bound method ListInherited.__attrnames of <__main__.Person object at 0x114def990>>\n",
      "    doit=<bound method Person.doit of <__main__.Person object at 0x114def990>>\n",
      "    job=dev\n",
      "    name=Bob>\n"
     ]
    }
   ],
   "execution_count": 58
  },
  {
   "metadata": {
    "ExecuteTime": {
     "end_time": "2024-07-08T02:34:20.456908Z",
     "start_time": "2024-07-08T02:34:20.454874Z"
    }
   },
   "cell_type": "code",
   "source": [
    "class Super:\n",
    "    def __init__(self):  # Superclass __init__\n",
    "        self.data1 = 'spam'  # Create instance attrs\n",
    "\n",
    "    def ham(self):\n",
    "        pass\n",
    "\n",
    "\n",
    "class Sub(Super, ListInherited):  # Mix in ham and a __str__\n",
    "    def __init__(self):  # Listers have access to self\n",
    "        Super.__init__(self)\n",
    "        self.data2 = 'eggs'  # More instance attrs\n",
    "        self.data3 = 42\n",
    "\n",
    "    def spam(self):  # Define another method here\n",
    "        pass"
   ],
   "id": "13a57e9cd1aaa24a",
   "outputs": [],
   "execution_count": 59
  },
  {
   "metadata": {
    "ExecuteTime": {
     "end_time": "2024-07-08T02:34:20.480218Z",
     "start_time": "2024-07-08T02:34:20.478152Z"
    }
   },
   "cell_type": "code",
   "source": [
    "x = Sub()\n",
    "print(x)"
   ],
   "id": "2b7f4822ed589b30",
   "outputs": [
    {
     "name": "stdout",
     "output_type": "stream",
     "text": [
      "<Instance of Sub, address 4645124048:\n",
      "------------------------------------Under------------------------------------\n",
      "    __class__, __delattr__, __dict__, __dir__, __doc__, __eq__, __format__, __ge__, __getattribute__, __getstate__, __gt__, __hash__, __init__, __init_subclass__, __le__, __lt__, __module__, __ne__, __new__, __reduce__, __reduce_ex__, __repr__, __setattr__, __sizeof__, __str__, __subclasshook__, __weakref__\n",
      "------------------------------------Other------------------------------------\n",
      "    _ListInherited__attrnames=<bound method ListInherited.__attrnames of <__main__.Sub object at 0x114def7d0>>\n",
      "    data1=spam\n",
      "    data2=eggs\n",
      "    data3=42\n",
      "    ham=<bound method Super.ham of <__main__.Sub object at 0x114def7d0>>\n",
      "    spam=<bound method Sub.spam of <__main__.Sub object at 0x114def7d0>>>\n"
     ]
    }
   ],
   "execution_count": 60
  },
  {
   "metadata": {
    "ExecuteTime": {
     "end_time": "2024-07-08T02:34:20.528537Z",
     "start_time": "2024-07-08T02:34:20.524941Z"
    }
   },
   "cell_type": "code",
   "source": [
    "class ListTree:\n",
    "    \"\"\"\n",
    "    Mix-in that returns an __str__ trace of the entire class tree and all \n",
    "    its objects' attrs at and above self;  run by print(), str() returns \n",
    "    constructed string;  uses __X attr names to avoid impacting clients;  \n",
    "    recurses to superclasses explicitly, uses str.format() for clarity;\n",
    "    \"\"\"\n",
    "    def __attrnames(self, obj, indent):\n",
    "        spaces = ' ' * (indent + 1)\n",
    "        result = ''\n",
    "        for attr in sorted(obj.__dict__):\n",
    "            if attr.startswith('__') and attr.endswith('__'):\n",
    "                result += spaces + f'{attr}\\n'\n",
    "            else:\n",
    "                result += spaces + f'{attr}={getattr(obj, attr)}\\n'\n",
    "        return result\n",
    "\n",
    "    def __listclass(self, aClass, indent):\n",
    "        dots = '.' * indent\n",
    "        # print(f'{self.__visited=}')\n",
    "        if aClass in self.__visited:\n",
    "            return f'\\n{dots}<Class {aClass.__name__}:, address {id(aClass)}: (see above)>\\n'\n",
    "        else:\n",
    "            self.__visited[aClass] = True\n",
    "            here  = self.__attrnames(aClass, indent)\n",
    "            above = ''\n",
    "            for super in aClass.__bases__:\n",
    "                above += self.__listclass(super, indent+4)\n",
    "            return f'\\n{dots}<Class {aClass.__name__}, address {id(aClass)}:\\n{here}{above}{dots}>\\n'\n",
    "\n",
    "    def __str__(self):\n",
    "        self.__visited = {}\n",
    "        here  = self.__attrnames(self, 0)\n",
    "        above = self.__listclass(self.__class__, 4)\n",
    "        return f'<Instance of {self.__class__.__name__}, address {id(self)}:\\n{here}{above}>'\n",
    "\n"
   ],
   "id": "ea3e8804c90d72b6",
   "outputs": [],
   "execution_count": 61
  },
  {
   "metadata": {
    "ExecuteTime": {
     "end_time": "2024-07-08T02:34:20.572625Z",
     "start_time": "2024-07-08T02:34:20.570453Z"
    }
   },
   "cell_type": "code",
   "source": [
    "class Super:\n",
    "    def __init__(self):  # Superclass __init__\n",
    "        self.data1 = 'spam'  # Create instance attrs\n",
    "\n",
    "    def ham(self):\n",
    "        pass\n",
    "\n",
    "\n",
    "class Sub(Super, ListTree):  # Mix in ham and a __str__\n",
    "    def __init__(self):  # Listers have access to self\n",
    "        Super.__init__(self)\n",
    "        self.data2 = 'eggs'  # More instance attrs\n",
    "        self.data3 = 42\n",
    "\n",
    "    def spam(self):  # Define another method here\n",
    "        pass"
   ],
   "id": "781c0a7ef16fe390",
   "outputs": [],
   "execution_count": 62
  },
  {
   "metadata": {
    "ExecuteTime": {
     "end_time": "2024-07-08T02:34:20.598699Z",
     "start_time": "2024-07-08T02:34:20.596846Z"
    }
   },
   "cell_type": "code",
   "source": [
    "x = Sub()\n",
    "print(x)"
   ],
   "id": "eef9a9853d97d7a9",
   "outputs": [
    {
     "name": "stdout",
     "output_type": "stream",
     "text": [
      "<Instance of Sub, address 4645352208:\n",
      " _ListTree__visited={}\n",
      " data1=spam\n",
      " data2=eggs\n",
      " data3=42\n",
      "\n",
      "....<Class Sub, address 4402767728:\n",
      "     __doc__\n",
      "     __init__\n",
      "     __module__\n",
      "     spam=<function Sub.spam at 0x114dd56c0>\n",
      "\n",
      "........<Class Super, address 4402766000:\n",
      "         __dict__\n",
      "         __doc__\n",
      "         __init__\n",
      "         __module__\n",
      "         __weakref__\n",
      "         ham=<function Super.ham at 0x114dd5800>\n",
      "\n",
      "............<Class object, address 4379248016:\n",
      "             __class__\n",
      "             __delattr__\n",
      "             __dir__\n",
      "             __doc__\n",
      "             __eq__\n",
      "             __format__\n",
      "             __ge__\n",
      "             __getattribute__\n",
      "             __getstate__\n",
      "             __gt__\n",
      "             __hash__\n",
      "             __init__\n",
      "             __init_subclass__\n",
      "             __le__\n",
      "             __lt__\n",
      "             __ne__\n",
      "             __new__\n",
      "             __reduce__\n",
      "             __reduce_ex__\n",
      "             __repr__\n",
      "             __setattr__\n",
      "             __sizeof__\n",
      "             __str__\n",
      "             __subclasshook__\n",
      "............>\n",
      "........>\n",
      "\n",
      "........<Class ListTree, address 4606242560:\n",
      "         _ListTree__attrnames=<function ListTree.__attrnames at 0x112fa4d60>\n",
      "         _ListTree__listclass=<function ListTree.__listclass at 0x112fa5120>\n",
      "         __dict__\n",
      "         __doc__\n",
      "         __module__\n",
      "         __str__\n",
      "         __weakref__\n",
      "\n",
      "............<Class object:, address 4379248016: (see above)>\n",
      "........>\n",
      "....>\n",
      ">\n"
     ]
    }
   ],
   "execution_count": 63
  },
  {
   "metadata": {
    "ExecuteTime": {
     "end_time": "2024-07-08T02:34:20.853711Z",
     "start_time": "2024-07-08T02:34:20.634255Z"
    }
   },
   "cell_type": "code",
   "source": "from PySide6.QtCore import QAbstractItemModel",
   "id": "a536883546e4174",
   "outputs": [],
   "execution_count": 64
  },
  {
   "metadata": {
    "ExecuteTime": {
     "end_time": "2024-07-08T02:34:20.862838Z",
     "start_time": "2024-07-08T02:34:20.859144Z"
    }
   },
   "cell_type": "code",
   "source": [
    "class MyButton(QAbstractItemModel, ListTree):\n",
    "    def doit(self):\n",
    "        print('doit')"
   ],
   "id": "339e3cb5028ff640",
   "outputs": [],
   "execution_count": 65
  },
  {
   "metadata": {
    "ExecuteTime": {
     "end_time": "2024-07-08T02:34:20.871868Z",
     "start_time": "2024-07-08T02:34:20.865669Z"
    }
   },
   "cell_type": "code",
   "source": [
    "a = MyButton()\n",
    "print(a)"
   ],
   "id": "bd8f9f56fedadb23",
   "outputs": [
    {
     "name": "stdout",
     "output_type": "stream",
     "text": [
      "<Instance of MyButton, address 4868680320:\n",
      " _ListTree__visited={}\n",
      " columnsAboutToBeInserted=<PySide6.QtCore.SignalInstance columnsAboutToBeInserted(QModelIndex,int,int) at 0x12228e6b0>\n",
      " columnsAboutToBeMoved=<PySide6.QtCore.SignalInstance columnsAboutToBeMoved(QModelIndex,int,int,QModelIndex,int) at 0x12228e630>\n",
      " columnsAboutToBeRemoved=<PySide6.QtCore.SignalInstance columnsAboutToBeRemoved(QModelIndex,int,int) at 0x12228e6f0>\n",
      " columnsInserted=<PySide6.QtCore.SignalInstance columnsInserted(QModelIndex,int,int) at 0x12228e5f0>\n",
      " columnsMoved=<PySide6.QtCore.SignalInstance columnsMoved(QModelIndex,int,int,QModelIndex,int) at 0x12228e2d0>\n",
      " columnsRemoved=<PySide6.QtCore.SignalInstance columnsRemoved(QModelIndex,int,int) at 0x12228e4f0>\n",
      " dataChanged=<PySide6.QtCore.SignalInstance dataChanged(QModelIndex,QModelIndex,QList<int>) at 0x12228e090>\n",
      " destroyed=<PySide6.QtCore.SignalInstance destroyed() at 0x12228e770>\n",
      " headerDataChanged=<PySide6.QtCore.SignalInstance headerDataChanged(Qt::Orientation,int,int) at 0x12228e0d0>\n",
      " layoutAboutToBeChanged=<PySide6.QtCore.SignalInstance layoutAboutToBeChanged() at 0x12228e330>\n",
      " layoutChanged=<PySide6.QtCore.SignalInstance layoutChanged() at 0x12228e430>\n",
      " modelAboutToBeReset=<PySide6.QtCore.SignalInstance modelAboutToBeReset() at 0x12228e670>\n",
      " modelReset=<PySide6.QtCore.SignalInstance modelReset() at 0x12228e530>\n",
      " objectNameChanged=<PySide6.QtCore.SignalInstance objectNameChanged(QString) at 0x12228e7f0>\n",
      " rowsAboutToBeInserted=<PySide6.QtCore.SignalInstance rowsAboutToBeInserted(QModelIndex,int,int) at 0x12228e730>\n",
      " rowsAboutToBeMoved=<PySide6.QtCore.SignalInstance rowsAboutToBeMoved(QModelIndex,int,int,QModelIndex,int) at 0x12228e3f0>\n",
      " rowsAboutToBeRemoved=<PySide6.QtCore.SignalInstance rowsAboutToBeRemoved(QModelIndex,int,int) at 0x12228e570>\n",
      " rowsInserted=<PySide6.QtCore.SignalInstance rowsInserted(QModelIndex,int,int) at 0x12228e150>\n",
      " rowsMoved=<PySide6.QtCore.SignalInstance rowsMoved(QModelIndex,int,int,QModelIndex,int) at 0x12228e5b0>\n",
      " rowsRemoved=<PySide6.QtCore.SignalInstance rowsRemoved(QModelIndex,int,int) at 0x12228e0b0>\n",
      "\n",
      "....<Class MyButton, address 4697107056:\n",
      "     __doc__\n",
      "     __module__\n",
      "     doit=<function MyButton.doit at 0x122272fc0>\n",
      "     staticMetaObject=PySide6.QtCore.QMetaObject(\"MyButton\" inherits \"QAbstractItemModel\":\n",
      ")\n",
      "\n",
      "........<Class QAbstractItemModel, address 4856089760:\n",
      "         CheckIndexOption=<flag 'CheckIndexOption'>\n",
      "         LayoutChangeHint=<enum 'LayoutChangeHint'>\n",
      "         __delattr__\n",
      "         __doc__\n",
      "         __init__\n",
      "         __module__\n",
      "         __new__\n",
      "         __setattr__\n",
      "         beginInsertColumns=<method 'beginInsertColumns' of 'PySide6.QtCore.QAbstractItemModel' objects>\n",
      "         beginInsertRows=<method 'beginInsertRows' of 'PySide6.QtCore.QAbstractItemModel' objects>\n",
      "         beginMoveColumns=<method 'beginMoveColumns' of 'PySide6.QtCore.QAbstractItemModel' objects>\n",
      "         beginMoveRows=<method 'beginMoveRows' of 'PySide6.QtCore.QAbstractItemModel' objects>\n",
      "         beginRemoveColumns=<method 'beginRemoveColumns' of 'PySide6.QtCore.QAbstractItemModel' objects>\n",
      "         beginRemoveRows=<method 'beginRemoveRows' of 'PySide6.QtCore.QAbstractItemModel' objects>\n",
      "         beginResetModel=<method 'beginResetModel' of 'PySide6.QtCore.QAbstractItemModel' objects>\n",
      "         buddy=<method 'buddy' of 'PySide6.QtCore.QAbstractItemModel' objects>\n",
      "         canDropMimeData=<method 'canDropMimeData' of 'PySide6.QtCore.QAbstractItemModel' objects>\n",
      "         canFetchMore=<method 'canFetchMore' of 'PySide6.QtCore.QAbstractItemModel' objects>\n",
      "         changePersistentIndex=<method 'changePersistentIndex' of 'PySide6.QtCore.QAbstractItemModel' objects>\n",
      "         changePersistentIndexList=<method 'changePersistentIndexList' of 'PySide6.QtCore.QAbstractItemModel' objects>\n",
      "         checkIndex=<method 'checkIndex' of 'PySide6.QtCore.QAbstractItemModel' objects>\n",
      "         clearItemData=<method 'clearItemData' of 'PySide6.QtCore.QAbstractItemModel' objects>\n",
      "         columnCount=<method 'columnCount' of 'PySide6.QtCore.QAbstractItemModel' objects>\n",
      "         columnsAboutToBeInserted=columnsAboutToBeInserted(QModelIndex,int,int)\n",
      "         columnsAboutToBeMoved=columnsAboutToBeMoved(QModelIndex,int,int,QModelIndex,int)\n",
      "         columnsAboutToBeRemoved=columnsAboutToBeRemoved(QModelIndex,int,int)\n",
      "         columnsInserted=columnsInserted(QModelIndex,int,int)\n",
      "         columnsMoved=columnsMoved(QModelIndex,int,int,QModelIndex,int)\n",
      "         columnsRemoved=columnsRemoved(QModelIndex,int,int)\n",
      "         createIndex=<method 'createIndex' of 'PySide6.QtCore.QAbstractItemModel' objects>\n",
      "         data=<method 'data' of 'PySide6.QtCore.QAbstractItemModel' objects>\n",
      "         dataChanged=dataChanged(QModelIndex,QModelIndex,QList<int>); dataChanged(QModelIndex,QModelIndex)\n",
      "         decodeData=<method 'decodeData' of 'PySide6.QtCore.QAbstractItemModel' objects>\n",
      "         dropMimeData=<method 'dropMimeData' of 'PySide6.QtCore.QAbstractItemModel' objects>\n",
      "         encodeData=<method 'encodeData' of 'PySide6.QtCore.QAbstractItemModel' objects>\n",
      "         endInsertColumns=<method 'endInsertColumns' of 'PySide6.QtCore.QAbstractItemModel' objects>\n",
      "         endInsertRows=<method 'endInsertRows' of 'PySide6.QtCore.QAbstractItemModel' objects>\n",
      "         endMoveColumns=<method 'endMoveColumns' of 'PySide6.QtCore.QAbstractItemModel' objects>\n",
      "         endMoveRows=<method 'endMoveRows' of 'PySide6.QtCore.QAbstractItemModel' objects>\n",
      "         endRemoveColumns=<method 'endRemoveColumns' of 'PySide6.QtCore.QAbstractItemModel' objects>\n",
      "         endRemoveRows=<method 'endRemoveRows' of 'PySide6.QtCore.QAbstractItemModel' objects>\n",
      "         endResetModel=<method 'endResetModel' of 'PySide6.QtCore.QAbstractItemModel' objects>\n",
      "         fetchMore=<method 'fetchMore' of 'PySide6.QtCore.QAbstractItemModel' objects>\n",
      "         flags=<method 'flags' of 'PySide6.QtCore.QAbstractItemModel' objects>\n",
      "         hasChildren=<method 'hasChildren' of 'PySide6.QtCore.QAbstractItemModel' objects>\n",
      "         hasIndex=<method 'hasIndex' of 'PySide6.QtCore.QAbstractItemModel' objects>\n",
      "         headerData=<method 'headerData' of 'PySide6.QtCore.QAbstractItemModel' objects>\n",
      "         headerDataChanged=headerDataChanged(Qt::Orientation,int,int)\n",
      "         index=<method 'index' of 'PySide6.QtCore.QAbstractItemModel' objects>\n",
      "         insertColumn=<method 'insertColumn' of 'PySide6.QtCore.QAbstractItemModel' objects>\n",
      "         insertColumns=<method 'insertColumns' of 'PySide6.QtCore.QAbstractItemModel' objects>\n",
      "         insertRow=<method 'insertRow' of 'PySide6.QtCore.QAbstractItemModel' objects>\n",
      "         insertRows=<method 'insertRows' of 'PySide6.QtCore.QAbstractItemModel' objects>\n",
      "         itemData=<method 'itemData' of 'PySide6.QtCore.QAbstractItemModel' objects>\n",
      "         layoutAboutToBeChanged=layoutAboutToBeChanged(); layoutAboutToBeChanged(QList<QPersistentModelIndex>,QAbstractItemModel::LayoutChangeHint); layoutAboutToBeChanged(QList<QPersistentModelIndex>)\n",
      "         layoutChanged=layoutChanged(); layoutChanged(QList<QPersistentModelIndex>,QAbstractItemModel::LayoutChangeHint); layoutChanged(QList<QPersistentModelIndex>)\n",
      "         match=<method 'match' of 'PySide6.QtCore.QAbstractItemModel' objects>\n",
      "         mimeData=<method 'mimeData' of 'PySide6.QtCore.QAbstractItemModel' objects>\n",
      "         mimeTypes=<method 'mimeTypes' of 'PySide6.QtCore.QAbstractItemModel' objects>\n",
      "         modelAboutToBeReset=modelAboutToBeReset()\n",
      "         modelReset=modelReset()\n",
      "         moveColumn=<method 'moveColumn' of 'PySide6.QtCore.QAbstractItemModel' objects>\n",
      "         moveColumns=<method 'moveColumns' of 'PySide6.QtCore.QAbstractItemModel' objects>\n",
      "         moveRow=<method 'moveRow' of 'PySide6.QtCore.QAbstractItemModel' objects>\n",
      "         moveRows=<method 'moveRows' of 'PySide6.QtCore.QAbstractItemModel' objects>\n",
      "         parent=<method 'parent' of 'PySide6.QtCore.QAbstractItemModel' objects>\n",
      "         persistentIndexList=<method 'persistentIndexList' of 'PySide6.QtCore.QAbstractItemModel' objects>\n",
      "         removeColumn=<method 'removeColumn' of 'PySide6.QtCore.QAbstractItemModel' objects>\n",
      "         removeColumns=<method 'removeColumns' of 'PySide6.QtCore.QAbstractItemModel' objects>\n",
      "         removeRow=<method 'removeRow' of 'PySide6.QtCore.QAbstractItemModel' objects>\n",
      "         removeRows=<method 'removeRows' of 'PySide6.QtCore.QAbstractItemModel' objects>\n",
      "         resetInternalData=<method 'resetInternalData' of 'PySide6.QtCore.QAbstractItemModel' objects>\n",
      "         revert=<method 'revert' of 'PySide6.QtCore.QAbstractItemModel' objects>\n",
      "         roleNames=<method 'roleNames' of 'PySide6.QtCore.QAbstractItemModel' objects>\n",
      "         rowCount=<method 'rowCount' of 'PySide6.QtCore.QAbstractItemModel' objects>\n",
      "         rowsAboutToBeInserted=rowsAboutToBeInserted(QModelIndex,int,int)\n",
      "         rowsAboutToBeMoved=rowsAboutToBeMoved(QModelIndex,int,int,QModelIndex,int)\n",
      "         rowsAboutToBeRemoved=rowsAboutToBeRemoved(QModelIndex,int,int)\n",
      "         rowsInserted=rowsInserted(QModelIndex,int,int)\n",
      "         rowsMoved=rowsMoved(QModelIndex,int,int,QModelIndex,int)\n",
      "         rowsRemoved=rowsRemoved(QModelIndex,int,int)\n",
      "         setData=<method 'setData' of 'PySide6.QtCore.QAbstractItemModel' objects>\n",
      "         setHeaderData=<method 'setHeaderData' of 'PySide6.QtCore.QAbstractItemModel' objects>\n",
      "         setItemData=<method 'setItemData' of 'PySide6.QtCore.QAbstractItemModel' objects>\n",
      "         sibling=<method 'sibling' of 'PySide6.QtCore.QAbstractItemModel' objects>\n",
      "         sort=<method 'sort' of 'PySide6.QtCore.QAbstractItemModel' objects>\n",
      "         span=<method 'span' of 'PySide6.QtCore.QAbstractItemModel' objects>\n",
      "         staticMetaObject=PySide6.QtCore.QMetaObject(\"QAbstractItemModel\" inherits \"QObject\":\n",
      "Enumerators:\n",
      "  #0 \"LayoutChangeHint\" {NoLayoutChangeHint, VerticalSortHint, HorizontalSortHint}\n",
      "  #1 \"CheckIndexOption\" {NoOption, IndexIsValid, DoNotUseParent, ParentIsInvalid}\n",
      "Methods:\n",
      "  #5 type=Signal, signature=dataChanged(QModelIndex,QModelIndex,QList<int>), parameters=QModelIndex, QModelIndex, QList<int>\n",
      "  #6 type=Signal, signature=dataChanged(QModelIndex,QModelIndex), parameters=QModelIndex, QModelIndex\n",
      "  #7 type=Signal, signature=headerDataChanged(Qt::Orientation,int,int), parameters=Qt::Orientation, int, int\n",
      "  #8 type=Signal, signature=layoutChanged(QList<QPersistentModelIndex>,QAbstractItemModel::LayoutChangeHint), parameters=QList<QPersistentModelIndex>, QAbstractItemModel::LayoutChangeHint\n",
      "  #9 type=Signal, signature=layoutChanged(QList<QPersistentModelIndex>), parameters=QList<QPersistentModelIndex>\n",
      "  #10 type=Signal, signature=layoutChanged()\n",
      "  #11 type=Signal, signature=layoutAboutToBeChanged(QList<QPersistentModelIndex>,QAbstractItemModel::LayoutChangeHint), parameters=QList<QPersistentModelIndex>, QAbstractItemModel::LayoutChangeHint\n",
      "  #12 type=Signal, signature=layoutAboutToBeChanged(QList<QPersistentModelIndex>), parameters=QList<QPersistentModelIndex>\n",
      "  #13 type=Signal, signature=layoutAboutToBeChanged()\n",
      "  #14 type=Signal, signature=rowsAboutToBeInserted(QModelIndex,int,int), parameters=QModelIndex, int, int\n",
      "  #15 type=Signal, signature=rowsInserted(QModelIndex,int,int), parameters=QModelIndex, int, int\n",
      "  #16 type=Signal, signature=rowsAboutToBeRemoved(QModelIndex,int,int), parameters=QModelIndex, int, int\n",
      "  #17 type=Signal, signature=rowsRemoved(QModelIndex,int,int), parameters=QModelIndex, int, int\n",
      "  #18 type=Signal, signature=columnsAboutToBeInserted(QModelIndex,int,int), parameters=QModelIndex, int, int\n",
      "  #19 type=Signal, signature=columnsInserted(QModelIndex,int,int), parameters=QModelIndex, int, int\n",
      "  #20 type=Signal, signature=columnsAboutToBeRemoved(QModelIndex,int,int), parameters=QModelIndex, int, int\n",
      "  #21 type=Signal, signature=columnsRemoved(QModelIndex,int,int), parameters=QModelIndex, int, int\n",
      "  #22 type=Signal, signature=modelAboutToBeReset()\n",
      "  #23 type=Signal, signature=modelReset()\n",
      "  #24 type=Signal, signature=rowsAboutToBeMoved(QModelIndex,int,int,QModelIndex,int), parameters=QModelIndex, int, int, QModelIndex, int\n",
      "  #25 type=Signal, signature=rowsMoved(QModelIndex,int,int,QModelIndex,int), parameters=QModelIndex, int, int, QModelIndex, int\n",
      "  #26 type=Signal, signature=columnsAboutToBeMoved(QModelIndex,int,int,QModelIndex,int), parameters=QModelIndex, int, int, QModelIndex, int\n",
      "  #27 type=Signal, signature=columnsMoved(QModelIndex,int,int,QModelIndex,int), parameters=QModelIndex, int, int, QModelIndex, int\n",
      "  #28 type=Slot, signature=submit()\n",
      "  #29 type=Slot, signature=revert()\n",
      "  #30 type=Slot, signature=resetInternalData()\n",
      "  #31 type=Method, signature=hasIndex(int,int,QModelIndex), parameters=int, int, QModelIndex\n",
      "  #32 type=Method, signature=hasIndex(int,int), parameters=int, int\n",
      "  #33 type=Method, signature=index(int,int,QModelIndex), parameters=int, int, QModelIndex\n",
      "  #34 type=Method, signature=index(int,int), parameters=int, int\n",
      "  #35 type=Method, signature=parent(QModelIndex), parameters=QModelIndex\n",
      "  #36 type=Method, signature=sibling(int,int,QModelIndex), parameters=int, int, QModelIndex\n",
      "  #37 type=Method, signature=rowCount(QModelIndex), parameters=QModelIndex\n",
      "  #38 type=Method, signature=rowCount()\n",
      "  #39 type=Method, signature=columnCount(QModelIndex), parameters=QModelIndex\n",
      "  #40 type=Method, signature=columnCount()\n",
      "  #41 type=Method, signature=hasChildren(QModelIndex), parameters=QModelIndex\n",
      "  #42 type=Method, signature=hasChildren()\n",
      "  #43 type=Method, signature=data(QModelIndex,int), parameters=QModelIndex, int\n",
      "  #44 type=Method, signature=data(QModelIndex), parameters=QModelIndex\n",
      "  #45 type=Method, signature=setData(QModelIndex,QVariant,int), parameters=QModelIndex, QVariant, int\n",
      "  #46 type=Method, signature=setData(QModelIndex,QVariant), parameters=QModelIndex, QVariant\n",
      "  #47 type=Method, signature=headerData(int,Qt::Orientation,int), parameters=int, Qt::Orientation, int\n",
      "  #48 type=Method, signature=headerData(int,Qt::Orientation), parameters=int, Qt::Orientation\n",
      "  #49 type=Method, signature=insertRows(int,int,QModelIndex), parameters=int, int, QModelIndex\n",
      "  #50 type=Method, signature=insertRows(int,int), parameters=int, int\n",
      "  #51 type=Method, signature=insertColumns(int,int,QModelIndex), parameters=int, int, QModelIndex\n",
      "  #52 type=Method, signature=insertColumns(int,int), parameters=int, int\n",
      "  #53 type=Method, signature=removeRows(int,int,QModelIndex), parameters=int, int, QModelIndex\n",
      "  #54 type=Method, signature=removeRows(int,int), parameters=int, int\n",
      "  #55 type=Method, signature=removeColumns(int,int,QModelIndex), parameters=int, int, QModelIndex\n",
      "  #56 type=Method, signature=removeColumns(int,int), parameters=int, int\n",
      "  #57 type=Method, signature=moveRows(QModelIndex,int,int,QModelIndex,int), parameters=QModelIndex, int, int, QModelIndex, int\n",
      "  #58 type=Method, signature=moveColumns(QModelIndex,int,int,QModelIndex,int), parameters=QModelIndex, int, int, QModelIndex, int\n",
      "  #59 type=Method, signature=insertRow(int,QModelIndex), parameters=int, QModelIndex\n",
      "  #60 type=Method, signature=insertRow(int), parameters=int\n",
      "  #61 type=Method, signature=insertColumn(int,QModelIndex), parameters=int, QModelIndex\n",
      "  #62 type=Method, signature=insertColumn(int), parameters=int\n",
      "  #63 type=Method, signature=removeRow(int,QModelIndex), parameters=int, QModelIndex\n",
      "  #64 type=Method, signature=removeRow(int), parameters=int\n",
      "  #65 type=Method, signature=removeColumn(int,QModelIndex), parameters=int, QModelIndex\n",
      "  #66 type=Method, signature=removeColumn(int), parameters=int\n",
      "  #67 type=Method, signature=moveRow(QModelIndex,int,QModelIndex,int), parameters=QModelIndex, int, QModelIndex, int\n",
      "  #68 type=Method, signature=moveColumn(QModelIndex,int,QModelIndex,int), parameters=QModelIndex, int, QModelIndex, int\n",
      "  #69 type=Method, signature=fetchMore(QModelIndex), parameters=QModelIndex\n",
      "  #70 type=Method, signature=canFetchMore(QModelIndex), parameters=QModelIndex\n",
      "  #71 type=Method, signature=flags(QModelIndex), parameters=QModelIndex\n",
      "  #72 type=Method, signature=sort(int,Qt::SortOrder), parameters=int, Qt::SortOrder\n",
      "  #73 type=Method, signature=sort(int), parameters=int\n",
      "  #74 type=Method, signature=match(QModelIndex,int,QVariant,int,Qt::MatchFlags), parameters=QModelIndex, int, QVariant, int, Qt::MatchFlags\n",
      "  #75 type=Method, signature=match(QModelIndex,int,QVariant,int), parameters=QModelIndex, int, QVariant, int\n",
      "  #76 type=Method, signature=match(QModelIndex,int,QVariant), parameters=QModelIndex, int, QVariant\n",
      ")\n",
      "         submit=<method 'submit' of 'PySide6.QtCore.QAbstractItemModel' objects>\n",
      "         supportedDragActions=<method 'supportedDragActions' of 'PySide6.QtCore.QAbstractItemModel' objects>\n",
      "         supportedDropActions=<method 'supportedDropActions' of 'PySide6.QtCore.QAbstractItemModel' objects>\n",
      "\n",
      "............<Class QObject, address 4856013152:\n",
      "             __delattr__\n",
      "             __doc__\n",
      "             __getattribute__\n",
      "             __init__\n",
      "             __module__\n",
      "             __new__\n",
      "             __repr__\n",
      "             __setattr__\n",
      "             blockSignals=<method 'blockSignals' of 'PySide6.QtCore.QObject' objects>\n",
      "             childEvent=<method 'childEvent' of 'PySide6.QtCore.QObject' objects>\n",
      "             children=<method 'children' of 'PySide6.QtCore.QObject' objects>\n",
      "             connect=<built-in method connect of Shiboken.ObjectType object at 0x12170e160>\n",
      "             connectNotify=<method 'connectNotify' of 'PySide6.QtCore.QObject' objects>\n",
      "             customEvent=<method 'customEvent' of 'PySide6.QtCore.QObject' objects>\n",
      "             deleteLater=<method 'deleteLater' of 'PySide6.QtCore.QObject' objects>\n",
      "             destroyed=destroyed(); destroyed(QObject*)\n",
      "             disconnect=<built-in method disconnect of Shiboken.ObjectType object at 0x12170e160>\n",
      "             disconnectNotify=<method 'disconnectNotify' of 'PySide6.QtCore.QObject' objects>\n",
      "             dumpObjectInfo=<method 'dumpObjectInfo' of 'PySide6.QtCore.QObject' objects>\n",
      "             dumpObjectTree=<method 'dumpObjectTree' of 'PySide6.QtCore.QObject' objects>\n",
      "             dynamicPropertyNames=<method 'dynamicPropertyNames' of 'PySide6.QtCore.QObject' objects>\n",
      "             emit=<method 'emit' of 'PySide6.QtCore.QObject' objects>\n",
      "             event=<method 'event' of 'PySide6.QtCore.QObject' objects>\n",
      "             eventFilter=<method 'eventFilter' of 'PySide6.QtCore.QObject' objects>\n",
      "             findChild=<method 'findChild' of 'PySide6.QtCore.QObject' objects>\n",
      "             findChildren=<method 'findChildren' of 'PySide6.QtCore.QObject' objects>\n",
      "             inherits=<method 'inherits' of 'PySide6.QtCore.QObject' objects>\n",
      "             installEventFilter=<method 'installEventFilter' of 'PySide6.QtCore.QObject' objects>\n",
      "             isQuickItemType=<method 'isQuickItemType' of 'PySide6.QtCore.QObject' objects>\n",
      "             isSignalConnected=<method 'isSignalConnected' of 'PySide6.QtCore.QObject' objects>\n",
      "             isWidgetType=<method 'isWidgetType' of 'PySide6.QtCore.QObject' objects>\n",
      "             isWindowType=<method 'isWindowType' of 'PySide6.QtCore.QObject' objects>\n",
      "             killTimer=<method 'killTimer' of 'PySide6.QtCore.QObject' objects>\n",
      "             metaObject=<method 'metaObject' of 'PySide6.QtCore.QObject' objects>\n",
      "             moveToThread=<method 'moveToThread' of 'PySide6.QtCore.QObject' objects>\n",
      "             objectName=<method 'objectName' of 'PySide6.QtCore.QObject' objects>\n",
      "             objectNameChanged=objectNameChanged(QString)\n",
      "             parent=<method 'parent' of 'PySide6.QtCore.QObject' objects>\n",
      "             property=<method 'property' of 'PySide6.QtCore.QObject' objects>\n",
      "             receivers=<method 'receivers' of 'PySide6.QtCore.QObject' objects>\n",
      "             removeEventFilter=<method 'removeEventFilter' of 'PySide6.QtCore.QObject' objects>\n",
      "             sender=<method 'sender' of 'PySide6.QtCore.QObject' objects>\n",
      "             senderSignalIndex=<method 'senderSignalIndex' of 'PySide6.QtCore.QObject' objects>\n",
      "             setObjectName=<method 'setObjectName' of 'PySide6.QtCore.QObject' objects>\n",
      "             setParent=<method 'setParent' of 'PySide6.QtCore.QObject' objects>\n",
      "             setProperty=<method 'setProperty' of 'PySide6.QtCore.QObject' objects>\n",
      "             signalsBlocked=<method 'signalsBlocked' of 'PySide6.QtCore.QObject' objects>\n",
      "             startTimer=<method 'startTimer' of 'PySide6.QtCore.QObject' objects>\n",
      "             staticMetaObject=PySide6.QtCore.QMetaObject(\"QObject\":\n",
      "Properties:\n",
      "  #0 \"objectName\", QString [writeable] [designable], notify=objectNameChanged\n",
      "Methods:\n",
      "  #0 type=Signal, signature=destroyed(QObject*), parameters=QObject*\n",
      "  #1 type=Signal, signature=destroyed()\n",
      "  #2 type=Signal, signature=objectNameChanged(QString), parameters=QString\n",
      "  #3 type=Slot, signature=deleteLater()\n",
      "  #4 type=Slot, signature=_q_reregisterTimers(void*), parameters=void*\n",
      ")\n",
      "             thread=<method 'thread' of 'PySide6.QtCore.QObject' objects>\n",
      "             timerEvent=<method 'timerEvent' of 'PySide6.QtCore.QObject' objects>\n",
      "             tr=<built-in method tr of Shiboken.ObjectType object at 0x12170e160>\n",
      "\n",
      "................<Class Object, address 4696644096:\n",
      "                 __delattr__\n",
      "                 __dict__\n",
      "                 __doc__\n",
      "                 __getattribute__\n",
      "                 __module__\n",
      "                 __setattr__\n",
      "\n",
      "....................<Class object, address 4379248016:\n",
      "                     __class__\n",
      "                     __delattr__\n",
      "                     __dir__\n",
      "                     __doc__\n",
      "                     __eq__\n",
      "                     __format__\n",
      "                     __ge__\n",
      "                     __getattribute__\n",
      "                     __getstate__\n",
      "                     __gt__\n",
      "                     __hash__\n",
      "                     __init__\n",
      "                     __init_subclass__\n",
      "                     __le__\n",
      "                     __lt__\n",
      "                     __ne__\n",
      "                     __new__\n",
      "                     __reduce__\n",
      "                     __reduce_ex__\n",
      "                     __repr__\n",
      "                     __setattr__\n",
      "                     __sizeof__\n",
      "                     __str__\n",
      "                     __subclasshook__\n",
      "....................>\n",
      "................>\n",
      "............>\n",
      "........>\n",
      "\n",
      "........<Class ListTree, address 4606242560:\n",
      "         _ListTree__attrnames=<function ListTree.__attrnames at 0x112fa4d60>\n",
      "         _ListTree__listclass=<function ListTree.__listclass at 0x112fa5120>\n",
      "         __dict__\n",
      "         __doc__\n",
      "         __module__\n",
      "         __str__\n",
      "         __weakref__\n",
      "\n",
      "............<Class object:, address 4379248016: (see above)>\n",
      "........>\n",
      "....>\n",
      ">\n"
     ]
    }
   ],
   "execution_count": 66
  },
  {
   "metadata": {
    "ExecuteTime": {
     "end_time": "2024-07-08T02:34:20.920494Z",
     "start_time": "2024-07-08T02:34:20.919163Z"
    }
   },
   "cell_type": "code",
   "source": "",
   "id": "8651af1aeac982cb",
   "outputs": [],
   "execution_count": 66
  },
  {
   "metadata": {
    "ExecuteTime": {
     "end_time": "2024-07-08T02:34:20.964741Z",
     "start_time": "2024-07-08T02:34:20.962482Z"
    }
   },
   "cell_type": "code",
   "source": [
    "b = MyButton()\n",
    "print(b)"
   ],
   "id": "e8690451ad11e0b0",
   "outputs": [
    {
     "name": "stdout",
     "output_type": "stream",
     "text": [
      "<Instance of MyButton, address 4868684928:\n",
      " _ListTree__visited={}\n",
      " columnsAboutToBeInserted=<PySide6.QtCore.SignalInstance columnsAboutToBeInserted(QModelIndex,int,int) at 0x12228ed70>\n",
      " columnsAboutToBeMoved=<PySide6.QtCore.SignalInstance columnsAboutToBeMoved(QModelIndex,int,int,QModelIndex,int) at 0x12228ecf0>\n",
      " columnsAboutToBeRemoved=<PySide6.QtCore.SignalInstance columnsAboutToBeRemoved(QModelIndex,int,int) at 0x12228edb0>\n",
      " columnsInserted=<PySide6.QtCore.SignalInstance columnsInserted(QModelIndex,int,int) at 0x12228ecb0>\n",
      " columnsMoved=<PySide6.QtCore.SignalInstance columnsMoved(QModelIndex,int,int,QModelIndex,int) at 0x12228e970>\n",
      " columnsRemoved=<PySide6.QtCore.SignalInstance columnsRemoved(QModelIndex,int,int) at 0x12228ebb0>\n",
      " dataChanged=<PySide6.QtCore.SignalInstance dataChanged(QModelIndex,QModelIndex,QList<int>) at 0x12228e8d0>\n",
      " destroyed=<PySide6.QtCore.SignalInstance destroyed() at 0x12228ee30>\n",
      " headerDataChanged=<PySide6.QtCore.SignalInstance headerDataChanged(Qt::Orientation,int,int) at 0x12228e930>\n",
      " layoutAboutToBeChanged=<PySide6.QtCore.SignalInstance layoutAboutToBeChanged() at 0x12228e9f0>\n",
      " layoutChanged=<PySide6.QtCore.SignalInstance layoutChanged() at 0x12228eaf0>\n",
      " modelAboutToBeReset=<PySide6.QtCore.SignalInstance modelAboutToBeReset() at 0x12228ed30>\n",
      " modelReset=<PySide6.QtCore.SignalInstance modelReset() at 0x12228ebf0>\n",
      " objectNameChanged=<PySide6.QtCore.SignalInstance objectNameChanged(QString) at 0x12228eeb0>\n",
      " rowsAboutToBeInserted=<PySide6.QtCore.SignalInstance rowsAboutToBeInserted(QModelIndex,int,int) at 0x12228edf0>\n",
      " rowsAboutToBeMoved=<PySide6.QtCore.SignalInstance rowsAboutToBeMoved(QModelIndex,int,int,QModelIndex,int) at 0x12228eab0>\n",
      " rowsAboutToBeRemoved=<PySide6.QtCore.SignalInstance rowsAboutToBeRemoved(QModelIndex,int,int) at 0x12228ec30>\n",
      " rowsInserted=<PySide6.QtCore.SignalInstance rowsInserted(QModelIndex,int,int) at 0x12228e890>\n",
      " rowsMoved=<PySide6.QtCore.SignalInstance rowsMoved(QModelIndex,int,int,QModelIndex,int) at 0x12228ec70>\n",
      " rowsRemoved=<PySide6.QtCore.SignalInstance rowsRemoved(QModelIndex,int,int) at 0x12228e8f0>\n",
      "\n",
      "....<Class MyButton, address 4697107056:\n",
      "     __doc__\n",
      "     __module__\n",
      "     doit=<function MyButton.doit at 0x122272fc0>\n",
      "     staticMetaObject=PySide6.QtCore.QMetaObject(\"MyButton\" inherits \"QAbstractItemModel\":\n",
      ")\n",
      "\n",
      "........<Class QAbstractItemModel, address 4856089760:\n",
      "         CheckIndexOption=<flag 'CheckIndexOption'>\n",
      "         LayoutChangeHint=<enum 'LayoutChangeHint'>\n",
      "         __delattr__\n",
      "         __doc__\n",
      "         __init__\n",
      "         __module__\n",
      "         __new__\n",
      "         __setattr__\n",
      "         beginInsertColumns=<method 'beginInsertColumns' of 'PySide6.QtCore.QAbstractItemModel' objects>\n",
      "         beginInsertRows=<method 'beginInsertRows' of 'PySide6.QtCore.QAbstractItemModel' objects>\n",
      "         beginMoveColumns=<method 'beginMoveColumns' of 'PySide6.QtCore.QAbstractItemModel' objects>\n",
      "         beginMoveRows=<method 'beginMoveRows' of 'PySide6.QtCore.QAbstractItemModel' objects>\n",
      "         beginRemoveColumns=<method 'beginRemoveColumns' of 'PySide6.QtCore.QAbstractItemModel' objects>\n",
      "         beginRemoveRows=<method 'beginRemoveRows' of 'PySide6.QtCore.QAbstractItemModel' objects>\n",
      "         beginResetModel=<method 'beginResetModel' of 'PySide6.QtCore.QAbstractItemModel' objects>\n",
      "         buddy=<method 'buddy' of 'PySide6.QtCore.QAbstractItemModel' objects>\n",
      "         canDropMimeData=<method 'canDropMimeData' of 'PySide6.QtCore.QAbstractItemModel' objects>\n",
      "         canFetchMore=<method 'canFetchMore' of 'PySide6.QtCore.QAbstractItemModel' objects>\n",
      "         changePersistentIndex=<method 'changePersistentIndex' of 'PySide6.QtCore.QAbstractItemModel' objects>\n",
      "         changePersistentIndexList=<method 'changePersistentIndexList' of 'PySide6.QtCore.QAbstractItemModel' objects>\n",
      "         checkIndex=<method 'checkIndex' of 'PySide6.QtCore.QAbstractItemModel' objects>\n",
      "         clearItemData=<method 'clearItemData' of 'PySide6.QtCore.QAbstractItemModel' objects>\n",
      "         columnCount=<method 'columnCount' of 'PySide6.QtCore.QAbstractItemModel' objects>\n",
      "         columnsAboutToBeInserted=columnsAboutToBeInserted(QModelIndex,int,int)\n",
      "         columnsAboutToBeMoved=columnsAboutToBeMoved(QModelIndex,int,int,QModelIndex,int)\n",
      "         columnsAboutToBeRemoved=columnsAboutToBeRemoved(QModelIndex,int,int)\n",
      "         columnsInserted=columnsInserted(QModelIndex,int,int)\n",
      "         columnsMoved=columnsMoved(QModelIndex,int,int,QModelIndex,int)\n",
      "         columnsRemoved=columnsRemoved(QModelIndex,int,int)\n",
      "         createIndex=<method 'createIndex' of 'PySide6.QtCore.QAbstractItemModel' objects>\n",
      "         data=<method 'data' of 'PySide6.QtCore.QAbstractItemModel' objects>\n",
      "         dataChanged=dataChanged(QModelIndex,QModelIndex,QList<int>); dataChanged(QModelIndex,QModelIndex)\n",
      "         decodeData=<method 'decodeData' of 'PySide6.QtCore.QAbstractItemModel' objects>\n",
      "         dropMimeData=<method 'dropMimeData' of 'PySide6.QtCore.QAbstractItemModel' objects>\n",
      "         encodeData=<method 'encodeData' of 'PySide6.QtCore.QAbstractItemModel' objects>\n",
      "         endInsertColumns=<method 'endInsertColumns' of 'PySide6.QtCore.QAbstractItemModel' objects>\n",
      "         endInsertRows=<method 'endInsertRows' of 'PySide6.QtCore.QAbstractItemModel' objects>\n",
      "         endMoveColumns=<method 'endMoveColumns' of 'PySide6.QtCore.QAbstractItemModel' objects>\n",
      "         endMoveRows=<method 'endMoveRows' of 'PySide6.QtCore.QAbstractItemModel' objects>\n",
      "         endRemoveColumns=<method 'endRemoveColumns' of 'PySide6.QtCore.QAbstractItemModel' objects>\n",
      "         endRemoveRows=<method 'endRemoveRows' of 'PySide6.QtCore.QAbstractItemModel' objects>\n",
      "         endResetModel=<method 'endResetModel' of 'PySide6.QtCore.QAbstractItemModel' objects>\n",
      "         fetchMore=<method 'fetchMore' of 'PySide6.QtCore.QAbstractItemModel' objects>\n",
      "         flags=<method 'flags' of 'PySide6.QtCore.QAbstractItemModel' objects>\n",
      "         hasChildren=<method 'hasChildren' of 'PySide6.QtCore.QAbstractItemModel' objects>\n",
      "         hasIndex=<method 'hasIndex' of 'PySide6.QtCore.QAbstractItemModel' objects>\n",
      "         headerData=<method 'headerData' of 'PySide6.QtCore.QAbstractItemModel' objects>\n",
      "         headerDataChanged=headerDataChanged(Qt::Orientation,int,int)\n",
      "         index=<method 'index' of 'PySide6.QtCore.QAbstractItemModel' objects>\n",
      "         insertColumn=<method 'insertColumn' of 'PySide6.QtCore.QAbstractItemModel' objects>\n",
      "         insertColumns=<method 'insertColumns' of 'PySide6.QtCore.QAbstractItemModel' objects>\n",
      "         insertRow=<method 'insertRow' of 'PySide6.QtCore.QAbstractItemModel' objects>\n",
      "         insertRows=<method 'insertRows' of 'PySide6.QtCore.QAbstractItemModel' objects>\n",
      "         itemData=<method 'itemData' of 'PySide6.QtCore.QAbstractItemModel' objects>\n",
      "         layoutAboutToBeChanged=layoutAboutToBeChanged(); layoutAboutToBeChanged(QList<QPersistentModelIndex>,QAbstractItemModel::LayoutChangeHint); layoutAboutToBeChanged(QList<QPersistentModelIndex>)\n",
      "         layoutChanged=layoutChanged(); layoutChanged(QList<QPersistentModelIndex>,QAbstractItemModel::LayoutChangeHint); layoutChanged(QList<QPersistentModelIndex>)\n",
      "         match=<method 'match' of 'PySide6.QtCore.QAbstractItemModel' objects>\n",
      "         mimeData=<method 'mimeData' of 'PySide6.QtCore.QAbstractItemModel' objects>\n",
      "         mimeTypes=<method 'mimeTypes' of 'PySide6.QtCore.QAbstractItemModel' objects>\n",
      "         modelAboutToBeReset=modelAboutToBeReset()\n",
      "         modelReset=modelReset()\n",
      "         moveColumn=<method 'moveColumn' of 'PySide6.QtCore.QAbstractItemModel' objects>\n",
      "         moveColumns=<method 'moveColumns' of 'PySide6.QtCore.QAbstractItemModel' objects>\n",
      "         moveRow=<method 'moveRow' of 'PySide6.QtCore.QAbstractItemModel' objects>\n",
      "         moveRows=<method 'moveRows' of 'PySide6.QtCore.QAbstractItemModel' objects>\n",
      "         parent=<method 'parent' of 'PySide6.QtCore.QAbstractItemModel' objects>\n",
      "         persistentIndexList=<method 'persistentIndexList' of 'PySide6.QtCore.QAbstractItemModel' objects>\n",
      "         removeColumn=<method 'removeColumn' of 'PySide6.QtCore.QAbstractItemModel' objects>\n",
      "         removeColumns=<method 'removeColumns' of 'PySide6.QtCore.QAbstractItemModel' objects>\n",
      "         removeRow=<method 'removeRow' of 'PySide6.QtCore.QAbstractItemModel' objects>\n",
      "         removeRows=<method 'removeRows' of 'PySide6.QtCore.QAbstractItemModel' objects>\n",
      "         resetInternalData=<method 'resetInternalData' of 'PySide6.QtCore.QAbstractItemModel' objects>\n",
      "         revert=<method 'revert' of 'PySide6.QtCore.QAbstractItemModel' objects>\n",
      "         roleNames=<method 'roleNames' of 'PySide6.QtCore.QAbstractItemModel' objects>\n",
      "         rowCount=<method 'rowCount' of 'PySide6.QtCore.QAbstractItemModel' objects>\n",
      "         rowsAboutToBeInserted=rowsAboutToBeInserted(QModelIndex,int,int)\n",
      "         rowsAboutToBeMoved=rowsAboutToBeMoved(QModelIndex,int,int,QModelIndex,int)\n",
      "         rowsAboutToBeRemoved=rowsAboutToBeRemoved(QModelIndex,int,int)\n",
      "         rowsInserted=rowsInserted(QModelIndex,int,int)\n",
      "         rowsMoved=rowsMoved(QModelIndex,int,int,QModelIndex,int)\n",
      "         rowsRemoved=rowsRemoved(QModelIndex,int,int)\n",
      "         setData=<method 'setData' of 'PySide6.QtCore.QAbstractItemModel' objects>\n",
      "         setHeaderData=<method 'setHeaderData' of 'PySide6.QtCore.QAbstractItemModel' objects>\n",
      "         setItemData=<method 'setItemData' of 'PySide6.QtCore.QAbstractItemModel' objects>\n",
      "         sibling=<method 'sibling' of 'PySide6.QtCore.QAbstractItemModel' objects>\n",
      "         sort=<method 'sort' of 'PySide6.QtCore.QAbstractItemModel' objects>\n",
      "         span=<method 'span' of 'PySide6.QtCore.QAbstractItemModel' objects>\n",
      "         staticMetaObject=PySide6.QtCore.QMetaObject(\"QAbstractItemModel\" inherits \"QObject\":\n",
      "Enumerators:\n",
      "  #0 \"LayoutChangeHint\" {NoLayoutChangeHint, VerticalSortHint, HorizontalSortHint}\n",
      "  #1 \"CheckIndexOption\" {NoOption, IndexIsValid, DoNotUseParent, ParentIsInvalid}\n",
      "Methods:\n",
      "  #5 type=Signal, signature=dataChanged(QModelIndex,QModelIndex,QList<int>), parameters=QModelIndex, QModelIndex, QList<int>\n",
      "  #6 type=Signal, signature=dataChanged(QModelIndex,QModelIndex), parameters=QModelIndex, QModelIndex\n",
      "  #7 type=Signal, signature=headerDataChanged(Qt::Orientation,int,int), parameters=Qt::Orientation, int, int\n",
      "  #8 type=Signal, signature=layoutChanged(QList<QPersistentModelIndex>,QAbstractItemModel::LayoutChangeHint), parameters=QList<QPersistentModelIndex>, QAbstractItemModel::LayoutChangeHint\n",
      "  #9 type=Signal, signature=layoutChanged(QList<QPersistentModelIndex>), parameters=QList<QPersistentModelIndex>\n",
      "  #10 type=Signal, signature=layoutChanged()\n",
      "  #11 type=Signal, signature=layoutAboutToBeChanged(QList<QPersistentModelIndex>,QAbstractItemModel::LayoutChangeHint), parameters=QList<QPersistentModelIndex>, QAbstractItemModel::LayoutChangeHint\n",
      "  #12 type=Signal, signature=layoutAboutToBeChanged(QList<QPersistentModelIndex>), parameters=QList<QPersistentModelIndex>\n",
      "  #13 type=Signal, signature=layoutAboutToBeChanged()\n",
      "  #14 type=Signal, signature=rowsAboutToBeInserted(QModelIndex,int,int), parameters=QModelIndex, int, int\n",
      "  #15 type=Signal, signature=rowsInserted(QModelIndex,int,int), parameters=QModelIndex, int, int\n",
      "  #16 type=Signal, signature=rowsAboutToBeRemoved(QModelIndex,int,int), parameters=QModelIndex, int, int\n",
      "  #17 type=Signal, signature=rowsRemoved(QModelIndex,int,int), parameters=QModelIndex, int, int\n",
      "  #18 type=Signal, signature=columnsAboutToBeInserted(QModelIndex,int,int), parameters=QModelIndex, int, int\n",
      "  #19 type=Signal, signature=columnsInserted(QModelIndex,int,int), parameters=QModelIndex, int, int\n",
      "  #20 type=Signal, signature=columnsAboutToBeRemoved(QModelIndex,int,int), parameters=QModelIndex, int, int\n",
      "  #21 type=Signal, signature=columnsRemoved(QModelIndex,int,int), parameters=QModelIndex, int, int\n",
      "  #22 type=Signal, signature=modelAboutToBeReset()\n",
      "  #23 type=Signal, signature=modelReset()\n",
      "  #24 type=Signal, signature=rowsAboutToBeMoved(QModelIndex,int,int,QModelIndex,int), parameters=QModelIndex, int, int, QModelIndex, int\n",
      "  #25 type=Signal, signature=rowsMoved(QModelIndex,int,int,QModelIndex,int), parameters=QModelIndex, int, int, QModelIndex, int\n",
      "  #26 type=Signal, signature=columnsAboutToBeMoved(QModelIndex,int,int,QModelIndex,int), parameters=QModelIndex, int, int, QModelIndex, int\n",
      "  #27 type=Signal, signature=columnsMoved(QModelIndex,int,int,QModelIndex,int), parameters=QModelIndex, int, int, QModelIndex, int\n",
      "  #28 type=Slot, signature=submit()\n",
      "  #29 type=Slot, signature=revert()\n",
      "  #30 type=Slot, signature=resetInternalData()\n",
      "  #31 type=Method, signature=hasIndex(int,int,QModelIndex), parameters=int, int, QModelIndex\n",
      "  #32 type=Method, signature=hasIndex(int,int), parameters=int, int\n",
      "  #33 type=Method, signature=index(int,int,QModelIndex), parameters=int, int, QModelIndex\n",
      "  #34 type=Method, signature=index(int,int), parameters=int, int\n",
      "  #35 type=Method, signature=parent(QModelIndex), parameters=QModelIndex\n",
      "  #36 type=Method, signature=sibling(int,int,QModelIndex), parameters=int, int, QModelIndex\n",
      "  #37 type=Method, signature=rowCount(QModelIndex), parameters=QModelIndex\n",
      "  #38 type=Method, signature=rowCount()\n",
      "  #39 type=Method, signature=columnCount(QModelIndex), parameters=QModelIndex\n",
      "  #40 type=Method, signature=columnCount()\n",
      "  #41 type=Method, signature=hasChildren(QModelIndex), parameters=QModelIndex\n",
      "  #42 type=Method, signature=hasChildren()\n",
      "  #43 type=Method, signature=data(QModelIndex,int), parameters=QModelIndex, int\n",
      "  #44 type=Method, signature=data(QModelIndex), parameters=QModelIndex\n",
      "  #45 type=Method, signature=setData(QModelIndex,QVariant,int), parameters=QModelIndex, QVariant, int\n",
      "  #46 type=Method, signature=setData(QModelIndex,QVariant), parameters=QModelIndex, QVariant\n",
      "  #47 type=Method, signature=headerData(int,Qt::Orientation,int), parameters=int, Qt::Orientation, int\n",
      "  #48 type=Method, signature=headerData(int,Qt::Orientation), parameters=int, Qt::Orientation\n",
      "  #49 type=Method, signature=insertRows(int,int,QModelIndex), parameters=int, int, QModelIndex\n",
      "  #50 type=Method, signature=insertRows(int,int), parameters=int, int\n",
      "  #51 type=Method, signature=insertColumns(int,int,QModelIndex), parameters=int, int, QModelIndex\n",
      "  #52 type=Method, signature=insertColumns(int,int), parameters=int, int\n",
      "  #53 type=Method, signature=removeRows(int,int,QModelIndex), parameters=int, int, QModelIndex\n",
      "  #54 type=Method, signature=removeRows(int,int), parameters=int, int\n",
      "  #55 type=Method, signature=removeColumns(int,int,QModelIndex), parameters=int, int, QModelIndex\n",
      "  #56 type=Method, signature=removeColumns(int,int), parameters=int, int\n",
      "  #57 type=Method, signature=moveRows(QModelIndex,int,int,QModelIndex,int), parameters=QModelIndex, int, int, QModelIndex, int\n",
      "  #58 type=Method, signature=moveColumns(QModelIndex,int,int,QModelIndex,int), parameters=QModelIndex, int, int, QModelIndex, int\n",
      "  #59 type=Method, signature=insertRow(int,QModelIndex), parameters=int, QModelIndex\n",
      "  #60 type=Method, signature=insertRow(int), parameters=int\n",
      "  #61 type=Method, signature=insertColumn(int,QModelIndex), parameters=int, QModelIndex\n",
      "  #62 type=Method, signature=insertColumn(int), parameters=int\n",
      "  #63 type=Method, signature=removeRow(int,QModelIndex), parameters=int, QModelIndex\n",
      "  #64 type=Method, signature=removeRow(int), parameters=int\n",
      "  #65 type=Method, signature=removeColumn(int,QModelIndex), parameters=int, QModelIndex\n",
      "  #66 type=Method, signature=removeColumn(int), parameters=int\n",
      "  #67 type=Method, signature=moveRow(QModelIndex,int,QModelIndex,int), parameters=QModelIndex, int, QModelIndex, int\n",
      "  #68 type=Method, signature=moveColumn(QModelIndex,int,QModelIndex,int), parameters=QModelIndex, int, QModelIndex, int\n",
      "  #69 type=Method, signature=fetchMore(QModelIndex), parameters=QModelIndex\n",
      "  #70 type=Method, signature=canFetchMore(QModelIndex), parameters=QModelIndex\n",
      "  #71 type=Method, signature=flags(QModelIndex), parameters=QModelIndex\n",
      "  #72 type=Method, signature=sort(int,Qt::SortOrder), parameters=int, Qt::SortOrder\n",
      "  #73 type=Method, signature=sort(int), parameters=int\n",
      "  #74 type=Method, signature=match(QModelIndex,int,QVariant,int,Qt::MatchFlags), parameters=QModelIndex, int, QVariant, int, Qt::MatchFlags\n",
      "  #75 type=Method, signature=match(QModelIndex,int,QVariant,int), parameters=QModelIndex, int, QVariant, int\n",
      "  #76 type=Method, signature=match(QModelIndex,int,QVariant), parameters=QModelIndex, int, QVariant\n",
      ")\n",
      "         submit=<method 'submit' of 'PySide6.QtCore.QAbstractItemModel' objects>\n",
      "         supportedDragActions=<method 'supportedDragActions' of 'PySide6.QtCore.QAbstractItemModel' objects>\n",
      "         supportedDropActions=<method 'supportedDropActions' of 'PySide6.QtCore.QAbstractItemModel' objects>\n",
      "\n",
      "............<Class QObject, address 4856013152:\n",
      "             __delattr__\n",
      "             __doc__\n",
      "             __getattribute__\n",
      "             __init__\n",
      "             __module__\n",
      "             __new__\n",
      "             __repr__\n",
      "             __setattr__\n",
      "             blockSignals=<method 'blockSignals' of 'PySide6.QtCore.QObject' objects>\n",
      "             childEvent=<method 'childEvent' of 'PySide6.QtCore.QObject' objects>\n",
      "             children=<method 'children' of 'PySide6.QtCore.QObject' objects>\n",
      "             connect=<built-in method connect of Shiboken.ObjectType object at 0x12170e160>\n",
      "             connectNotify=<method 'connectNotify' of 'PySide6.QtCore.QObject' objects>\n",
      "             customEvent=<method 'customEvent' of 'PySide6.QtCore.QObject' objects>\n",
      "             deleteLater=<method 'deleteLater' of 'PySide6.QtCore.QObject' objects>\n",
      "             destroyed=destroyed(); destroyed(QObject*)\n",
      "             disconnect=<built-in method disconnect of Shiboken.ObjectType object at 0x12170e160>\n",
      "             disconnectNotify=<method 'disconnectNotify' of 'PySide6.QtCore.QObject' objects>\n",
      "             dumpObjectInfo=<method 'dumpObjectInfo' of 'PySide6.QtCore.QObject' objects>\n",
      "             dumpObjectTree=<method 'dumpObjectTree' of 'PySide6.QtCore.QObject' objects>\n",
      "             dynamicPropertyNames=<method 'dynamicPropertyNames' of 'PySide6.QtCore.QObject' objects>\n",
      "             emit=<method 'emit' of 'PySide6.QtCore.QObject' objects>\n",
      "             event=<method 'event' of 'PySide6.QtCore.QObject' objects>\n",
      "             eventFilter=<method 'eventFilter' of 'PySide6.QtCore.QObject' objects>\n",
      "             findChild=<method 'findChild' of 'PySide6.QtCore.QObject' objects>\n",
      "             findChildren=<method 'findChildren' of 'PySide6.QtCore.QObject' objects>\n",
      "             inherits=<method 'inherits' of 'PySide6.QtCore.QObject' objects>\n",
      "             installEventFilter=<method 'installEventFilter' of 'PySide6.QtCore.QObject' objects>\n",
      "             isQuickItemType=<method 'isQuickItemType' of 'PySide6.QtCore.QObject' objects>\n",
      "             isSignalConnected=<method 'isSignalConnected' of 'PySide6.QtCore.QObject' objects>\n",
      "             isWidgetType=<method 'isWidgetType' of 'PySide6.QtCore.QObject' objects>\n",
      "             isWindowType=<method 'isWindowType' of 'PySide6.QtCore.QObject' objects>\n",
      "             killTimer=<method 'killTimer' of 'PySide6.QtCore.QObject' objects>\n",
      "             metaObject=<method 'metaObject' of 'PySide6.QtCore.QObject' objects>\n",
      "             moveToThread=<method 'moveToThread' of 'PySide6.QtCore.QObject' objects>\n",
      "             objectName=<method 'objectName' of 'PySide6.QtCore.QObject' objects>\n",
      "             objectNameChanged=objectNameChanged(QString)\n",
      "             parent=<method 'parent' of 'PySide6.QtCore.QObject' objects>\n",
      "             property=<method 'property' of 'PySide6.QtCore.QObject' objects>\n",
      "             receivers=<method 'receivers' of 'PySide6.QtCore.QObject' objects>\n",
      "             removeEventFilter=<method 'removeEventFilter' of 'PySide6.QtCore.QObject' objects>\n",
      "             sender=<method 'sender' of 'PySide6.QtCore.QObject' objects>\n",
      "             senderSignalIndex=<method 'senderSignalIndex' of 'PySide6.QtCore.QObject' objects>\n",
      "             setObjectName=<method 'setObjectName' of 'PySide6.QtCore.QObject' objects>\n",
      "             setParent=<method 'setParent' of 'PySide6.QtCore.QObject' objects>\n",
      "             setProperty=<method 'setProperty' of 'PySide6.QtCore.QObject' objects>\n",
      "             signalsBlocked=<method 'signalsBlocked' of 'PySide6.QtCore.QObject' objects>\n",
      "             startTimer=<method 'startTimer' of 'PySide6.QtCore.QObject' objects>\n",
      "             staticMetaObject=PySide6.QtCore.QMetaObject(\"QObject\":\n",
      "Properties:\n",
      "  #0 \"objectName\", QString [writeable] [designable], notify=objectNameChanged\n",
      "Methods:\n",
      "  #0 type=Signal, signature=destroyed(QObject*), parameters=QObject*\n",
      "  #1 type=Signal, signature=destroyed()\n",
      "  #2 type=Signal, signature=objectNameChanged(QString), parameters=QString\n",
      "  #3 type=Slot, signature=deleteLater()\n",
      "  #4 type=Slot, signature=_q_reregisterTimers(void*), parameters=void*\n",
      ")\n",
      "             thread=<method 'thread' of 'PySide6.QtCore.QObject' objects>\n",
      "             timerEvent=<method 'timerEvent' of 'PySide6.QtCore.QObject' objects>\n",
      "             tr=<built-in method tr of Shiboken.ObjectType object at 0x12170e160>\n",
      "\n",
      "................<Class Object, address 4696644096:\n",
      "                 __delattr__\n",
      "                 __dict__\n",
      "                 __doc__\n",
      "                 __getattribute__\n",
      "                 __module__\n",
      "                 __setattr__\n",
      "\n",
      "....................<Class object, address 4379248016:\n",
      "                     __class__\n",
      "                     __delattr__\n",
      "                     __dir__\n",
      "                     __doc__\n",
      "                     __eq__\n",
      "                     __format__\n",
      "                     __ge__\n",
      "                     __getattribute__\n",
      "                     __getstate__\n",
      "                     __gt__\n",
      "                     __hash__\n",
      "                     __init__\n",
      "                     __init_subclass__\n",
      "                     __le__\n",
      "                     __lt__\n",
      "                     __ne__\n",
      "                     __new__\n",
      "                     __reduce__\n",
      "                     __reduce_ex__\n",
      "                     __repr__\n",
      "                     __setattr__\n",
      "                     __sizeof__\n",
      "                     __str__\n",
      "                     __subclasshook__\n",
      "....................>\n",
      "................>\n",
      "............>\n",
      "........>\n",
      "\n",
      "........<Class ListTree, address 4606242560:\n",
      "         _ListTree__attrnames=<function ListTree.__attrnames at 0x112fa4d60>\n",
      "         _ListTree__listclass=<function ListTree.__listclass at 0x112fa5120>\n",
      "         __dict__\n",
      "         __doc__\n",
      "         __module__\n",
      "         __str__\n",
      "         __weakref__\n",
      "\n",
      "............<Class object:, address 4379248016: (see above)>\n",
      "........>\n",
      "....>\n",
      ">\n"
     ]
    }
   ],
   "execution_count": 67
  },
  {
   "metadata": {
    "ExecuteTime": {
     "end_time": "2024-07-08T02:34:21.004580Z",
     "start_time": "2024-07-08T02:34:21.003241Z"
    }
   },
   "cell_type": "code",
   "source": "",
   "id": "dac1ce01d6891a36",
   "outputs": [],
   "execution_count": 67
  },
  {
   "metadata": {
    "ExecuteTime": {
     "end_time": "2024-07-08T02:34:21.034312Z",
     "start_time": "2024-07-08T02:34:21.032940Z"
    }
   },
   "cell_type": "code",
   "source": "",
   "id": "f116ab4b2b9ede2a",
   "outputs": [],
   "execution_count": 67
  }
 ],
 "metadata": {
  "kernelspec": {
   "display_name": "Python 3",
   "language": "python",
   "name": "python3"
  },
  "language_info": {
   "codemirror_mode": {
    "name": "ipython",
    "version": 2
   },
   "file_extension": ".py",
   "mimetype": "text/x-python",
   "name": "python",
   "nbconvert_exporter": "python",
   "pygments_lexer": "ipython2",
   "version": "2.7.6"
  }
 },
 "nbformat": 4,
 "nbformat_minor": 5
}
