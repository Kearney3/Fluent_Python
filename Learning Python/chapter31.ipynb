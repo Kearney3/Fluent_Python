{
 "cells": [
  {
   "metadata": {},
   "cell_type": "markdown",
   "source": "# 类设计",
   "id": "c2af6ae604391be2"
  },
  {
   "metadata": {},
   "cell_type": "markdown",
   "source": "## is-a关系",
   "id": "4d241f462aa76f35"
  },
  {
   "cell_type": "code",
   "id": "dbf7f50304a995c",
   "metadata": {
    "collapsed": true,
    "ExecuteTime": {
     "end_time": "2024-06-29T14:05:19.977692Z",
     "start_time": "2024-06-29T14:05:19.971504Z"
    }
   },
   "source": [
    "class Employee:\n",
    "    def __init__(self, name, salary=0):\n",
    "        self.name = name\n",
    "        self.salary = salary\n",
    "\n",
    "    def giveRaise(self, percent):\n",
    "        self.salary = self.salary + (self.salary * percent)\n",
    "\n",
    "    def work(self):\n",
    "        print(self.name, \"does stuff\")\n",
    "\n",
    "    def __repr__(self):\n",
    "        return \"<Employee: name=%s, salary=%s>\" % (self.name, self.salary)\n",
    "\n",
    "\n",
    "class Chef(Employee):\n",
    "    def __init__(self, name):\n",
    "        Employee.__init__(self, name, 50000)\n",
    "\n",
    "    def work(self):\n",
    "        print(self.name, \"makes food\")\n",
    "\n",
    "\n",
    "class Server(Employee):\n",
    "    def __init__(self, name):\n",
    "        Employee.__init__(self, name, 40000)\n",
    "\n",
    "    def work(self):\n",
    "        print(self.name, \"interfaces with customer\")\n",
    "\n",
    "\n",
    "class PizzaRobot(Chef):\n",
    "    def __init__(self, name):\n",
    "        Chef.__init__(self, name)\n",
    "\n",
    "    def work(self):\n",
    "        print(self.name, \"makes pizza\")"
   ],
   "execution_count": 1,
   "outputs": []
  },
  {
   "metadata": {
    "ExecuteTime": {
     "end_time": "2024-06-29T14:05:20.418091Z",
     "start_time": "2024-06-29T14:05:20.415539Z"
    }
   },
   "cell_type": "code",
   "source": [
    "bob = PizzaRobot('bob')  # Make a robot named bob\n",
    "print(bob)  # Run inherited __repr__\n",
    "bob.work()  # Run type-specific action\n",
    "bob.giveRaise(0.20)  # Give bob a 20% raise\n",
    "print(bob);\n",
    "print()\n",
    "\n",
    "for klass in Employee, Chef, Server, PizzaRobot:\n",
    "    obj = klass(klass.__name__)\n",
    "    obj.work()\n"
   ],
   "id": "initial_id",
   "execution_count": 2,
   "outputs": []
  },
  {
   "metadata": {},
   "cell_type": "markdown",
   "source": "## has-a关系",
   "id": "258aa4101aa4eddc"
  },
  {
   "metadata": {
    "ExecuteTime": {
     "end_time": "2024-06-29T14:05:21.191991Z",
     "start_time": "2024-06-29T14:05:21.189254Z"
    }
   },
   "cell_type": "code",
   "source": [
    "class Customer:\n",
    "    def __init__(self, name):\n",
    "        self.name = name\n",
    "\n",
    "    def order(self, server):\n",
    "        print(self.name, \"orders from\", server)\n",
    "\n",
    "    def pay(self, server):\n",
    "        print(self.name, \"pays for item to\", server)\n",
    "\n",
    "\n",
    "class Oven:\n",
    "    def bake(self):\n",
    "        print(\"oven bakes\")\n",
    "\n",
    "\n",
    "class PizzaShop:\n",
    "    def __init__(self):\n",
    "        self.server = Server('Pat')  # Embed other objects\n",
    "        self.chef = PizzaRobot('Bob')  # A robot named bob\n",
    "        self.oven = Oven()\n",
    "\n",
    "    def order(self, name):\n",
    "        customer = Customer(name)  # Activate other objects\n",
    "        customer.order(self.server)  # Customer orders from server\n",
    "        self.chef.work()\n",
    "        self.oven.bake()\n",
    "        customer.pay(self.server)"
   ],
   "id": "d43aeffaaf377bac",
   "execution_count": 3,
   "outputs": []
  },
  {
   "metadata": {
    "ExecuteTime": {
     "end_time": "2024-06-29T14:05:21.542652Z",
     "start_time": "2024-06-29T14:05:21.540337Z"
    }
   },
   "cell_type": "code",
   "source": [
    "scene = PizzaShop()  # Make the composite\n",
    "scene.order('Homer')  # Simulate Homer's order\n",
    "print('...')\n",
    "scene.order('Shaggy')  # Simulate Shaggy's order\n"
   ],
   "id": "5603c5755bf7f980",
   "execution_count": 4,
   "outputs": []
  },
  {
   "metadata": {
    "ExecuteTime": {
     "end_time": "2024-06-29T14:05:58.754410Z",
     "start_time": "2024-06-29T14:05:58.751180Z"
    }
   },
   "cell_type": "code",
   "source": [
    "class Processor:\n",
    "    def __init__(self, reader, writer):\n",
    "        self.reader = reader\n",
    "        self.writer = writer\n",
    "\n",
    "    def process(self):\n",
    "        while True:\n",
    "            data = self.reader.read()\n",
    "            if not data:\n",
    "                break\n",
    "            result = self.converter(data)\n",
    "            self.writer.write(result)\n",
    "\n",
    "    def converter(self, data):\n",
    "        assert False, 'Should be implemented in subclass'\n",
    "\n",
    "\n",
    "class Uppercase(Processor):\n",
    "    def converter(self, data):\n",
    "        return data.upper()"
   ],
   "id": "a4fdbfcacb111fa",
   "execution_count": 9,
   "outputs": []
  },
  {
   "metadata": {
    "ExecuteTime": {
     "end_time": "2024-06-29T14:05:59.135848Z",
     "start_time": "2024-06-29T14:05:59.133781Z"
    }
   },
   "cell_type": "code",
   "source": [
    "import sys\n",
    "\n",
    "obj = Uppercase(open('text.log', 'r'), sys.stdout)"
   ],
   "id": "1c1a928fb46bb281",
   "execution_count": 10,
   "outputs": []
  },
  {
   "metadata": {
    "ExecuteTime": {
     "end_time": "2024-06-29T14:05:59.503845Z",
     "start_time": "2024-06-29T14:05:59.501683Z"
    }
   },
   "cell_type": "code",
   "source": "obj.process()",
   "id": "473bea2dfff0c24c",
   "execution_count": 11,
   "outputs": []
  },
  {
   "metadata": {
    "ExecuteTime": {
     "end_time": "2024-06-29T14:06:58.103973Z",
     "start_time": "2024-06-29T14:06:58.099113Z"
    }
   },
   "cell_type": "code",
   "source": [
    "obj2 = Uppercase(open('text.log', 'r'), open('text_upper.txt', 'w'))\n",
    "obj2.process()"
   ],
   "id": "539099497ada0512",
   "execution_count": 12,
   "outputs": []
  },
  {
   "metadata": {
    "ExecuteTime": {
     "end_time": "2024-06-29T14:08:46.487773Z",
     "start_time": "2024-06-29T14:08:46.486103Z"
    }
   },
   "cell_type": "code",
   "source": [
    "class HTMLize:\n",
    "    def write(self, line: str):\n",
    "        print('<pre>', line.rstrip(), '</pre>')\n"
   ],
   "id": "b1b84455f2e50319",
   "execution_count": 14,
   "outputs": []
  },
  {
   "metadata": {
    "ExecuteTime": {
     "end_time": "2024-06-29T14:09:00.365906Z",
     "start_time": "2024-06-29T14:09:00.363221Z"
    }
   },
   "cell_type": "code",
   "source": "Uppercase(open('text.log', 'r'), HTMLize()).process()",
   "id": "e117dbabf88f58c3",
   "execution_count": 16,
   "outputs": []
  },
  {
   "metadata": {
    "ExecuteTime": {
     "end_time": "2024-06-29T14:11:53.386795Z",
     "start_time": "2024-06-29T14:11:53.383929Z"
    }
   },
   "cell_type": "code",
   "source": [
    "import shelve\n",
    "\n",
    "db = shelve.open('pizzashop.db')\n",
    "db['key'] = PizzaShop()\n",
    "db.close()"
   ],
   "id": "57044c5480d7e76",
   "execution_count": 18,
   "outputs": []
  },
  {
   "metadata": {
    "ExecuteTime": {
     "end_time": "2024-06-29T14:12:23.880166Z",
     "start_time": "2024-06-29T14:12:23.877866Z"
    }
   },
   "cell_type": "code",
   "source": [
    "db = shelve.open('pizzashop.db')\n",
    "shop = db['key']\n",
    "shop.order('Tim')"
   ],
   "id": "863259480447f10f",
   "execution_count": 21,
   "outputs": []
  },
  {
   "metadata": {},
   "cell_type": "markdown",
   "source": "# 委托",
   "id": "1490609c4fa7e51d"
  },
  {
   "metadata": {
    "ExecuteTime": {
     "end_time": "2024-06-30T06:52:07.994198Z",
     "start_time": "2024-06-30T06:52:07.978340Z"
    }
   },
   "cell_type": "code",
   "source": [
    "class Wrapper:\n",
    "    def __init__(self, obj):\n",
    "        self.wrapped = obj\n",
    "\n",
    "    def __getattr__(self, attrname):\n",
    "        print('Trace:', attrname)\n",
    "        return getattr(self.wrapped, attrname)"
   ],
   "id": "1c44e2fae0406764",
   "execution_count": 22,
   "outputs": []
  },
  {
   "metadata": {
    "ExecuteTime": {
     "end_time": "2024-06-30T06:52:14.467645Z",
     "start_time": "2024-06-30T06:52:14.465657Z"
    }
   },
   "cell_type": "code",
   "source": "a = Wrapper([1, 2, 3])",
   "id": "2aa28451879e14f8",
   "execution_count": 23,
   "outputs": []
  },
  {
   "metadata": {
    "ExecuteTime": {
     "end_time": "2024-06-30T06:52:49.965296Z",
     "start_time": "2024-06-30T06:52:49.961346Z"
    }
   },
   "cell_type": "code",
   "source": "getattr(a, 'append')",
   "id": "6eb8c385124341d7",
   "execution_count": 27,
   "outputs": []
  },
  {
   "metadata": {
    "ExecuteTime": {
     "end_time": "2024-06-30T06:53:14.303333Z",
     "start_time": "2024-06-30T06:53:14.301523Z"
    }
   },
   "cell_type": "code",
   "source": "a.append(4)",
   "id": "aad65fedc29b62e3",
   "execution_count": 29,
   "outputs": []
  },
  {
   "metadata": {
    "ExecuteTime": {
     "end_time": "2024-06-30T06:53:22.492069Z",
     "start_time": "2024-06-30T06:53:22.487642Z"
    }
   },
   "cell_type": "code",
   "source": "a.wrapped",
   "id": "52ce0083985e99a1",
   "execution_count": 30,
   "outputs": []
  },
  {
   "metadata": {
    "ExecuteTime": {
     "end_time": "2024-06-30T06:54:42.582497Z",
     "start_time": "2024-06-30T06:54:42.577542Z"
    }
   },
   "cell_type": "code",
   "source": "x = Wrapper({'a': 1, 'b': 2})",
   "id": "bce773d58c64cccc",
   "execution_count": 31,
   "outputs": []
  },
  {
   "metadata": {
    "ExecuteTime": {
     "end_time": "2024-06-30T06:54:58.484005Z",
     "start_time": "2024-06-30T06:54:58.478693Z"
    }
   },
   "cell_type": "code",
   "source": "x.keys()",
   "id": "46d32e4f242ac9f5",
   "execution_count": 34,
   "outputs": []
  },
  {
   "metadata": {
    "ExecuteTime": {
     "end_time": "2024-06-30T06:55:10.595758Z",
     "start_time": "2024-06-30T06:55:10.590347Z"
    }
   },
   "cell_type": "code",
   "source": "list(x.keys())",
   "id": "bd63ff09ac120830",
   "execution_count": 35,
   "outputs": []
  },
  {
   "metadata": {
    "ExecuteTime": {
     "end_time": "2024-06-30T07:12:00.461676Z",
     "start_time": "2024-06-30T07:12:00.459622Z"
    }
   },
   "cell_type": "code",
   "source": [
    "class Test1:\n",
    "    __X = 'hello'\n",
    "\n",
    "    def __method(self):\n",
    "        print('hello')"
   ],
   "id": "11ec2f8692739101",
   "execution_count": 45,
   "outputs": []
  },
  {
   "metadata": {
    "ExecuteTime": {
     "end_time": "2024-06-30T07:12:00.733951Z",
     "start_time": "2024-06-30T07:12:00.721706Z"
    }
   },
   "cell_type": "code",
   "source": [
    "a = Test1()\n",
    "a.__X"
   ],
   "id": "3ac925b67847b9f8",
   "execution_count": 46,
   "outputs": []
  },
  {
   "metadata": {
    "ExecuteTime": {
     "end_time": "2024-06-30T07:12:00.975707Z",
     "start_time": "2024-06-30T07:12:00.973290Z"
    }
   },
   "cell_type": "code",
   "source": "a._Test1__X",
   "id": "84df620d76722aeb",
   "execution_count": 47,
   "outputs": []
  },
  {
   "metadata": {
    "ExecuteTime": {
     "end_time": "2024-06-30T07:12:01.284160Z",
     "start_time": "2024-06-30T07:12:01.277114Z"
    }
   },
   "cell_type": "code",
   "source": "a.__method()",
   "id": "83dde050c5854a55",
   "execution_count": 48,
   "outputs": []
  },
  {
   "metadata": {
    "ExecuteTime": {
     "end_time": "2024-06-30T07:12:01.784763Z",
     "start_time": "2024-06-30T07:12:01.783009Z"
    }
   },
   "cell_type": "code",
   "source": "a._Test1__method()",
   "id": "56f3514e88dbcf71",
   "execution_count": 49,
   "outputs": []
  },
  {
   "metadata": {
    "ExecuteTime": {
     "end_time": "2024-06-30T07:11:58.552130Z",
     "start_time": "2024-06-30T07:11:58.550219Z"
    }
   },
   "cell_type": "code",
   "source": [
    "class Test2:\n",
    "    _X = 'hello'\n",
    "\n",
    "    def _method(self):\n",
    "        print('hello')"
   ],
   "id": "3da5d5228190dce7",
   "execution_count": 44,
   "outputs": []
  },
  {
   "metadata": {
    "ExecuteTime": {
     "end_time": "2024-06-30T07:12:10.102803Z",
     "start_time": "2024-06-30T07:12:10.100294Z"
    }
   },
   "cell_type": "code",
   "source": [
    "b = Test2()\n",
    "b._X"
   ],
   "id": "3f8db775e759607f",
   "execution_count": 50,
   "outputs": []
  },
  {
   "metadata": {},
   "cell_type": "markdown",
   "source": "# 伪私有属性",
   "id": "a2e28d0007fa8ee3"
  },
  {
   "metadata": {
    "ExecuteTime": {
     "end_time": "2024-06-30T07:17:38.793951Z",
     "start_time": "2024-06-30T07:17:38.791837Z"
    }
   },
   "cell_type": "code",
   "source": [
    "class C1:\n",
    "    def meth1(self): self.X = 88\n",
    "\n",
    "    def meth2(self): print(self.X)\n",
    "\n",
    "\n",
    "class C2:\n",
    "    def metha(self): self.X = 99\n",
    "\n",
    "    def methb(self): print(self.X)\n",
    "\n",
    "\n",
    "class C3(C1, C2): ..."
   ],
   "id": "11a6f61fa0300d75",
   "execution_count": 83,
   "outputs": []
  },
  {
   "metadata": {
    "ExecuteTime": {
     "end_time": "2024-06-30T07:17:39.067550Z",
     "start_time": "2024-06-30T07:17:39.065756Z"
    }
   },
   "cell_type": "code",
   "source": "i = C3()",
   "id": "b8e52a2fd3d86781",
   "execution_count": 84,
   "outputs": []
  },
  {
   "metadata": {
    "ExecuteTime": {
     "end_time": "2024-06-30T07:17:39.335274Z",
     "start_time": "2024-06-30T07:17:39.333349Z"
    }
   },
   "cell_type": "code",
   "source": "i.meth1(), i.metha()",
   "id": "c4821b142431668e",
   "execution_count": 85,
   "outputs": []
  },
  {
   "metadata": {
    "ExecuteTime": {
     "end_time": "2024-06-30T07:17:39.687279Z",
     "start_time": "2024-06-30T07:17:39.685390Z"
    }
   },
   "cell_type": "code",
   "source": "i.__dict__",
   "id": "c0e0f5a7f6c34a9",
   "execution_count": 86,
   "outputs": []
  },
  {
   "metadata": {
    "ExecuteTime": {
     "end_time": "2024-06-30T07:17:41.743572Z",
     "start_time": "2024-06-30T07:17:41.741299Z"
    }
   },
   "cell_type": "code",
   "source": "i.meth2(), i.methb()",
   "id": "eea2293dbde69969",
   "execution_count": 87,
   "outputs": []
  },
  {
   "metadata": {
    "ExecuteTime": {
     "end_time": "2024-06-30T07:17:53.214316Z",
     "start_time": "2024-06-30T07:17:53.209625Z"
    }
   },
   "cell_type": "code",
   "source": [
    "class C1:\n",
    "    def meth1(self): self.__X = 88\n",
    "\n",
    "    def meth2(self): print(self.__X)\n",
    "\n",
    "\n",
    "class C2:\n",
    "    def metha(self): self.__X = 99\n",
    "\n",
    "    def methb(self): print(self.__X)\n",
    "\n",
    "\n",
    "class C3(C1, C2): ..."
   ],
   "id": "a2036d9f0da6c35a",
   "execution_count": 88,
   "outputs": []
  },
  {
   "metadata": {
    "ExecuteTime": {
     "end_time": "2024-06-30T07:17:53.426474Z",
     "start_time": "2024-06-30T07:17:53.423876Z"
    }
   },
   "cell_type": "code",
   "source": [
    "i = C3()\n",
    "i.meth1(), i.metha()"
   ],
   "id": "c7111c7bef443c7d",
   "execution_count": 89,
   "outputs": []
  },
  {
   "metadata": {
    "ExecuteTime": {
     "end_time": "2024-06-30T07:17:53.700121Z",
     "start_time": "2024-06-30T07:17:53.698061Z"
    }
   },
   "cell_type": "code",
   "source": "i.__dict__",
   "id": "4d81c1946940947a",
   "execution_count": 90,
   "outputs": []
  },
  {
   "metadata": {
    "ExecuteTime": {
     "end_time": "2024-06-30T07:17:54.395173Z",
     "start_time": "2024-06-30T07:17:54.392294Z"
    }
   },
   "cell_type": "code",
   "source": "i.meth2(), i.methb()",
   "id": "5f8cf07d67ed4940",
   "execution_count": 91,
   "outputs": []
  },
  {
   "metadata": {},
   "cell_type": "markdown",
   "source": "# 绑定",
   "id": "ed94fe2b9a0ace25"
  },
  {
   "metadata": {
    "ExecuteTime": {
     "end_time": "2024-06-30T07:21:37.355584Z",
     "start_time": "2024-06-30T07:21:37.351436Z"
    }
   },
   "cell_type": "code",
   "source": [
    "class Spam:\n",
    "    def doit(self, message):\n",
    "        print(message)"
   ],
   "id": "1da9cf489141e90a",
   "execution_count": 92,
   "outputs": []
  },
  {
   "metadata": {
    "ExecuteTime": {
     "end_time": "2024-06-30T07:21:48.720631Z",
     "start_time": "2024-06-30T07:21:48.718591Z"
    }
   },
   "cell_type": "code",
   "source": [
    "a = Spam()\n",
    "a.doit('hello')"
   ],
   "id": "625df5938737215",
   "execution_count": 93,
   "outputs": []
  },
  {
   "metadata": {
    "ExecuteTime": {
     "end_time": "2024-06-30T07:22:11.945096Z",
     "start_time": "2024-06-30T07:22:11.942512Z"
    }
   },
   "cell_type": "code",
   "source": [
    "b = Spam()\n",
    "x = b.doit\n",
    "x('hello')"
   ],
   "id": "feda0ea4afaeab98",
   "execution_count": 94,
   "outputs": []
  },
  {
   "metadata": {
    "ExecuteTime": {
     "end_time": "2024-06-30T07:22:35.158605Z",
     "start_time": "2024-06-30T07:22:35.156621Z"
    }
   },
   "cell_type": "code",
   "source": [
    "c = Spam()\n",
    "d = Spam.doit\n",
    "d(c, 'hello')"
   ],
   "id": "6d3b66b9c1524fda",
   "execution_count": 95,
   "outputs": []
  },
  {
   "metadata": {
    "ExecuteTime": {
     "end_time": "2024-06-30T07:29:48.089574Z",
     "start_time": "2024-06-30T07:29:48.087569Z"
    }
   },
   "cell_type": "code",
   "source": [
    "class Number:\n",
    "    def __init__(self, base):\n",
    "        self.base = base\n",
    "\n",
    "    def double(self):\n",
    "        return self.base * 2\n",
    "\n",
    "    def triple(self):\n",
    "        return self.base * 3"
   ],
   "id": "31faed825f2679b7",
   "execution_count": 99,
   "outputs": []
  },
  {
   "metadata": {
    "ExecuteTime": {
     "end_time": "2024-06-30T07:29:48.515969Z",
     "start_time": "2024-06-30T07:29:48.513260Z"
    }
   },
   "cell_type": "code",
   "source": [
    "x = Number(2)\n",
    "y = Number(3)\n",
    "z = Number(4)"
   ],
   "id": "de43b27e8fce31be",
   "execution_count": 100,
   "outputs": []
  },
  {
   "metadata": {
    "ExecuteTime": {
     "end_time": "2024-06-30T07:29:48.861179Z",
     "start_time": "2024-06-30T07:29:48.858732Z"
    }
   },
   "cell_type": "code",
   "source": "x.double()",
   "id": "23acb0deab55bdac",
   "execution_count": 101,
   "outputs": []
  },
  {
   "metadata": {
    "ExecuteTime": {
     "end_time": "2024-06-30T07:30:14.106687Z",
     "start_time": "2024-06-30T07:30:14.104698Z"
    }
   },
   "cell_type": "code",
   "source": [
    "acts = [x.double, y.double, z.double, z.triple]\n",
    "for act in acts:\n",
    "    print(act())"
   ],
   "id": "71ae6ddd988f8b43",
   "execution_count": 103,
   "outputs": []
  },
  {
   "metadata": {
    "ExecuteTime": {
     "end_time": "2024-06-30T07:30:29.868924Z",
     "start_time": "2024-06-30T07:30:29.867159Z"
    }
   },
   "cell_type": "code",
   "source": "func = x.double",
   "id": "aaf53cd09e579fd6",
   "execution_count": 104,
   "outputs": []
  },
  {
   "metadata": {
    "ExecuteTime": {
     "end_time": "2024-06-30T07:31:17.784524Z",
     "start_time": "2024-06-30T07:31:17.782277Z"
    }
   },
   "cell_type": "code",
   "source": "func.__self__",
   "id": "6e8c8dcc5f4aa3a4",
   "execution_count": 108,
   "outputs": []
  },
  {
   "metadata": {
    "ExecuteTime": {
     "end_time": "2024-06-30T07:31:31.857578Z",
     "start_time": "2024-06-30T07:31:31.855163Z"
    }
   },
   "cell_type": "code",
   "source": "func.__func__",
   "id": "383c54bb6efc6544",
   "execution_count": 109,
   "outputs": []
  },
  {
   "metadata": {
    "ExecuteTime": {
     "end_time": "2024-06-30T07:31:48.361001Z",
     "start_time": "2024-06-30T07:31:48.358769Z"
    }
   },
   "cell_type": "code",
   "source": "func.__func__(func.__self__)",
   "id": "a987d3015f1e4694",
   "execution_count": 111,
   "outputs": []
  },
  {
   "metadata": {
    "ExecuteTime": {
     "end_time": "2024-06-30T07:32:09.523192Z",
     "start_time": "2024-06-30T07:32:09.520021Z"
    }
   },
   "cell_type": "code",
   "source": "func.__self__.base",
   "id": "245be0ddd66e6166",
   "execution_count": 112,
   "outputs": []
  },
  {
   "metadata": {},
   "cell_type": "markdown",
   "source": "# 工厂函数",
   "id": "e99722766fd60e3f"
  },
  {
   "metadata": {
    "ExecuteTime": {
     "end_time": "2024-06-30T07:38:25.100154Z",
     "start_time": "2024-06-30T07:38:25.097689Z"
    }
   },
   "cell_type": "code",
   "source": [
    "def factory(cls, *args, **kwargs):\n",
    "    return cls(*args, **kwargs)\n",
    "\n",
    "\n",
    "class Spam:\n",
    "    def doit(self, message):\n",
    "        print(message)\n",
    "\n",
    "\n",
    "class Person:\n",
    "    def __init__(self, name, job):\n",
    "        self.name = name\n",
    "        self.job = job"
   ],
   "id": "74e6320e8656430c",
   "execution_count": 122,
   "outputs": []
  },
  {
   "metadata": {
    "ExecuteTime": {
     "end_time": "2024-06-30T07:38:25.311678Z",
     "start_time": "2024-06-30T07:38:25.309521Z"
    }
   },
   "cell_type": "code",
   "source": [
    "obj1 = factory(Spam)\n",
    "obj2 = factory(Person, 'Bob', 'dev')\n",
    "obj3 = factory(Person, job='manager', name='Tim')"
   ],
   "id": "8d1c12d259fc8acc",
   "execution_count": 123,
   "outputs": []
  },
  {
   "metadata": {
    "ExecuteTime": {
     "end_time": "2024-06-30T07:38:25.599303Z",
     "start_time": "2024-06-30T07:38:25.597745Z"
    }
   },
   "cell_type": "code",
   "source": "obj1.doit('hello')",
   "id": "e0ca67927ed2f4e6",
   "execution_count": 124,
   "outputs": []
  },
  {
   "metadata": {
    "ExecuteTime": {
     "end_time": "2024-06-30T07:38:36.931283Z",
     "start_time": "2024-06-30T07:38:36.928797Z"
    }
   },
   "cell_type": "code",
   "source": "obj2.name, obj3.job",
   "id": "5609546858d35d89",
   "execution_count": 125,
   "outputs": []
  },
  {
   "metadata": {
    "ExecuteTime": {
     "end_time": "2024-06-30T09:31:33.048031Z",
     "start_time": "2024-06-30T09:31:33.030740Z"
    }
   },
   "cell_type": "code",
   "source": [
    "class ListInstance:\n",
    "    \"\"\"\n",
    "    Mix-in class that provides a formatted print() or str() of instances via \n",
    "    inheritance of __str__ coded here;  displays instance attrs only;  self is\n",
    "    instance of lowest class; __X names avoid clashing with client's attrs\n",
    "    \"\"\"\n",
    "\n",
    "    def __attrnames(self):\n",
    "        result = ''\n",
    "        for attr in sorted(self.__dict__):\n",
    "            result += f'\\t{attr}={self.__dict__[attr]}\\n'\n",
    "        return result\n",
    "\n",
    "    def __str__(self):\n",
    "        return (f'<Instance of {self.__class__.__name__}'\n",
    "                f'({self.__supers()}), '\n",
    "                f'address {id(self)}:\\n{self.__attrnames()}>')\n",
    "\n",
    "    def __supers(self):\n",
    "        names = []\n",
    "        for super in self.__class__.__bases__:  # One level up from class\n",
    "            names.append(super.__name__)  # name, not str(super)\n",
    "        return ', '.join(names)\n",
    "    # Or: ', '.join(super.__name__ for super in self.__class__.__bases__)"
   ],
   "id": "7fcad2a3df8512ab",
   "execution_count": 132,
   "outputs": []
  },
  {
   "metadata": {
    "ExecuteTime": {
     "end_time": "2024-06-30T09:32:35.521408Z",
     "start_time": "2024-06-30T09:32:35.519448Z"
    }
   },
   "cell_type": "code",
   "source": [
    "class Person(ListInstance):\n",
    "    def __init__(self, name, job):\n",
    "        self.name = name\n",
    "        self.job = job"
   ],
   "id": "ccfdd0e2aa809148",
   "execution_count": 134,
   "outputs": []
  },
  {
   "metadata": {
    "ExecuteTime": {
     "end_time": "2024-06-30T09:32:45.069245Z",
     "start_time": "2024-06-30T09:32:45.067332Z"
    }
   },
   "cell_type": "code",
   "source": [
    "p = Person('Bob', 'dev')\n",
    "print(p)"
   ],
   "id": "add9cee17ec6924a",
   "execution_count": 136,
   "outputs": []
  },
  {
   "metadata": {
    "ExecuteTime": {
     "end_time": "2024-06-30T09:33:41.843362Z",
     "start_time": "2024-06-30T09:33:41.838643Z"
    }
   },
   "cell_type": "code",
   "source": "str(p)",
   "id": "8b3a9880550966b4",
   "execution_count": 137,
   "outputs": []
  },
  {
   "metadata": {
    "ExecuteTime": {
     "end_time": "2024-06-30T09:33:49.096475Z",
     "start_time": "2024-06-30T09:33:49.094083Z"
    }
   },
   "cell_type": "code",
   "source": "p",
   "id": "3daf3c221625c310",
   "execution_count": 138,
   "outputs": []
  },
  {
   "metadata": {
    "ExecuteTime": {
     "end_time": "2024-06-30T09:35:20.846596Z",
     "start_time": "2024-06-30T09:35:20.842660Z"
    }
   },
   "cell_type": "code",
   "source": [
    "\n",
    "class Super:\n",
    "    def __init__(self):  # Superclass __init__\n",
    "        self.data1 = 'spam'  # Create instance attrs\n",
    "\n",
    "    def ham(self):\n",
    "        pass\n",
    "\n",
    "\n",
    "class Sub(Super, ListInstance):  # Mix in ham and a __str__\n",
    "    def __init__(self):  # Listers have access to self\n",
    "        Super.__init__(self)\n",
    "        self.data2 = 'eggs'  # More instance attrs\n",
    "        self.data3 = 42\n",
    "\n",
    "    def spam(self):  # Define another method here\n",
    "        pass"
   ],
   "id": "7cda9e04a2636240",
   "execution_count": 139,
   "outputs": []
  },
  {
   "metadata": {
    "ExecuteTime": {
     "end_time": "2024-06-30T09:35:27.426842Z",
     "start_time": "2024-06-30T09:35:27.422329Z"
    }
   },
   "cell_type": "code",
   "source": [
    "x = Sub()\n",
    "print(x)"
   ],
   "id": "84ed73364a82325f",
   "execution_count": 140,
   "outputs": []
  },
  {
   "metadata": {
    "ExecuteTime": {
     "end_time": "2024-06-30T09:58:11.257592Z",
     "start_time": "2024-06-30T09:58:11.253928Z"
    }
   },
   "cell_type": "code",
   "source": [
    "class ListInherited:\n",
    "    \"\"\"\n",
    "    Use dir() to collect both instance attrs and names inherited from \n",
    "    its classes;  Python 3.X shows more names than 2.X because of the \n",
    "    implied object superclass in the new-style class model;  getattr() \n",
    "    fetches inherited names not in self.__dict__;  use __str__, not \n",
    "    __repr__, or else this loops when printing bound methods!\n",
    "    \"\"\"\n",
    "    def __attrnames(self, indent = 4*' '):\n",
    "        under = []\n",
    "        other = []\n",
    "        for attr in dir(self):                              # Instance dir()\n",
    "            if attr.startswith('__') and attr.endswith('__'):      # Skip internals\n",
    "                under.append(attr)\n",
    "            else:\n",
    "                other.append(f'{indent}{attr}={getattr(self, attr)}')\n",
    "        result = (str.center('Under', 77,'-')+ '\\n' + indent + ', '.join(under) + \n",
    "                  '\\n' + str.center('Other', 77,'-') + '\\n' + '\\n'.join(other))\n",
    "        return result\n",
    "\n",
    "    def __str__(self):\n",
    "        return (f'<Instance of {self.__class__.__name__}, '\n",
    "                f'address {id(self)}:\\n{self.__attrnames()}>')\n"
   ],
   "id": "4b4ce3491b0b1306",
   "execution_count": 174,
   "outputs": []
  },
  {
   "metadata": {
    "ExecuteTime": {
     "end_time": "2024-06-30T09:58:11.443103Z",
     "start_time": "2024-06-30T09:58:11.441225Z"
    }
   },
   "cell_type": "code",
   "source": [
    "class Person(ListInherited):\n",
    "    def __init__(self, name, job):\n",
    "        self.name = name\n",
    "        self.job = job\n",
    "        \n",
    "    def doit(self):\n",
    "        pass\n",
    "    \n",
    "    "
   ],
   "id": "fa469b7deac1c1b6",
   "execution_count": null,
   "outputs": []
  },
  {
   "metadata": {
    "ExecuteTime": {
     "end_time": "2024-06-30T09:58:41.633605Z",
     "start_time": "2024-06-30T09:58:41.631017Z"
    }
   },
   "cell_type": "code",
   "source": [
    "y = Person('Bob', 'dev')\n",
    "print(y)"
   ],
   "id": "c68db9b71d7073e9",
   "execution_count": 178,
   "outputs": []
  },
  {
   "metadata": {
    "ExecuteTime": {
     "end_time": "2024-06-30T09:58:11.727573Z",
     "start_time": "2024-06-30T09:58:11.725460Z"
    }
   },
   "cell_type": "code",
   "source": [
    "class Super:\n",
    "    def __init__(self):  # Superclass __init__\n",
    "        self.data1 = 'spam'  # Create instance attrs\n",
    "\n",
    "    def ham(self):\n",
    "        pass\n",
    "\n",
    "\n",
    "class Sub(Super, ListInherited):  # Mix in ham and a __str__\n",
    "    def __init__(self):  # Listers have access to self\n",
    "        Super.__init__(self)\n",
    "        self.data2 = 'eggs'  # More instance attrs\n",
    "        self.data3 = 42\n",
    "\n",
    "    def spam(self):  # Define another method here\n",
    "        pass"
   ],
   "id": "13a57e9cd1aaa24a",
   "execution_count": 176,
   "outputs": []
  },
  {
   "metadata": {
    "ExecuteTime": {
     "end_time": "2024-06-30T09:58:12.052295Z",
     "start_time": "2024-06-30T09:58:12.049942Z"
    }
   },
   "cell_type": "code",
   "source": [
    "x = Sub()\n",
    "print(x)"
   ],
   "id": "2b7f4822ed589b30",
   "execution_count": 177,
   "outputs": []
  },
  {
   "metadata": {
    "ExecuteTime": {
     "end_time": "2024-06-30T10:21:31.791051Z",
     "start_time": "2024-06-30T10:21:31.786607Z"
    }
   },
   "cell_type": "code",
   "source": [
    "class ListTree:\n",
    "    \"\"\"\n",
    "    Mix-in that returns an __str__ trace of the entire class tree and all \n",
    "    its objects' attrs at and above self;  run by print(), str() returns \n",
    "    constructed string;  uses __X attr names to avoid impacting clients;  \n",
    "    recurses to superclasses explicitly, uses str.format() for clarity;\n",
    "    \"\"\"\n",
    "    def __attrnames(self, obj, indent):\n",
    "        spaces = ' ' * (indent + 1)\n",
    "        result = ''\n",
    "        for attr in sorted(obj.__dict__):\n",
    "            if attr.startswith('__') and attr.endswith('__'):\n",
    "                result += spaces + f'{attr}\\n'\n",
    "            else:\n",
    "                result += spaces + f'{attr}={getattr(obj, attr)}\\n'\n",
    "        return result\n",
    "\n",
    "    def __listclass(self, aClass, indent):\n",
    "        dots = '.' * indent\n",
    "        # print(f'{self.__visited=}')\n",
    "        if aClass in self.__visited:\n",
    "            return f'\\n{dots}<Class {aClass.__name__}:, address {id(aClass)}: (see above)>\\n'\n",
    "        else:\n",
    "            self.__visited[aClass] = True\n",
    "            here  = self.__attrnames(aClass, indent)\n",
    "            above = ''\n",
    "            for super in aClass.__bases__:\n",
    "                above += self.__listclass(super, indent+4)\n",
    "            return f'\\n{dots}<Class {aClass.__name__}, address {id(aClass)}:\\n{here}{above}{dots}>\\n'\n",
    "\n",
    "    def __str__(self):\n",
    "        self.__visited = {}\n",
    "        here  = self.__attrnames(self, 0)\n",
    "        above = self.__listclass(self.__class__, 4)\n",
    "        return f'<Instance of {self.__class__.__name__}, address {id(self)}:\\n{here}{above}>'\n",
    "\n"
   ],
   "id": "ea3e8804c90d72b6",
   "execution_count": 6,
   "outputs": []
  },
  {
   "metadata": {
    "ExecuteTime": {
     "end_time": "2024-06-30T10:21:32.097096Z",
     "start_time": "2024-06-30T10:21:32.094694Z"
    }
   },
   "cell_type": "code",
   "source": [
    "class Super:\n",
    "    def __init__(self):  # Superclass __init__\n",
    "        self.data1 = 'spam'  # Create instance attrs\n",
    "\n",
    "    def ham(self):\n",
    "        pass\n",
    "\n",
    "\n",
    "class Sub(Super, ListTree):  # Mix in ham and a __str__\n",
    "    def __init__(self):  # Listers have access to self\n",
    "        Super.__init__(self)\n",
    "        self.data2 = 'eggs'  # More instance attrs\n",
    "        self.data3 = 42\n",
    "\n",
    "    def spam(self):  # Define another method here\n",
    "        pass"
   ],
   "id": "781c0a7ef16fe390",
   "execution_count": 7,
   "outputs": []
  },
  {
   "metadata": {
    "ExecuteTime": {
     "end_time": "2024-06-30T10:21:32.769912Z",
     "start_time": "2024-06-30T10:21:32.767510Z"
    }
   },
   "cell_type": "code",
   "source": [
    "x = Sub()\n",
    "print(x)"
   ],
   "id": "eef9a9853d97d7a9",
   "execution_count": 8,
   "outputs": []
  },
  {
   "metadata": {
    "ExecuteTime": {
     "end_time": "2024-06-30T10:21:33.459584Z",
     "start_time": "2024-06-30T10:21:33.457875Z"
    }
   },
   "cell_type": "code",
   "source": "from PySide6.QtCore import QAbstractItemModel",
   "id": "a536883546e4174",
   "execution_count": 9,
   "outputs": []
  },
  {
   "metadata": {
    "ExecuteTime": {
     "end_time": "2024-06-30T10:21:33.871832Z",
     "start_time": "2024-06-30T10:21:33.869145Z"
    }
   },
   "cell_type": "code",
   "source": [
    "class MyButton(QAbstractItemModel, ListTree):\n",
    "    def doit(self):\n",
    "        print('doit')"
   ],
   "id": "339e3cb5028ff640",
   "execution_count": 10,
   "outputs": []
  },
  {
   "metadata": {
    "ExecuteTime": {
     "end_time": "2024-06-30T10:21:34.427406Z",
     "start_time": "2024-06-30T10:21:34.422744Z"
    }
   },
   "cell_type": "code",
   "source": [
    "a = MyButton()\n",
    "print(a)"
   ],
   "id": "bd8f9f56fedadb23",
   "execution_count": 11,
   "outputs": []
  },
  {
   "metadata": {
    "ExecuteTime": {
     "end_time": "2024-06-30T10:23:11.575405Z",
     "start_time": "2024-06-30T10:23:11.571511Z"
    }
   },
   "cell_type": "code",
   "source": "",
   "id": "8651af1aeac982cb",
   "execution_count": 12,
   "outputs": []
  },
  {
   "metadata": {
    "ExecuteTime": {
     "end_time": "2024-06-30T10:23:16.155338Z",
     "start_time": "2024-06-30T10:23:16.151746Z"
    }
   },
   "cell_type": "code",
   "source": [
    "b = MyButton()\n",
    "print(b)"
   ],
   "id": "e8690451ad11e0b0",
   "execution_count": 13,
   "outputs": []
  },
  {
   "metadata": {
    "ExecuteTime": {
     "end_time": "2024-07-01T02:38:43.072292Z",
     "start_time": "2024-07-01T02:38:42.966485Z"
    }
   },
   "cell_type": "code",
   "source": "",
   "id": "dac1ce01d6891a36",
   "execution_count": 14,
   "outputs": []
  },
  {
   "metadata": {},
   "cell_type": "code",
   "execution_count": null,
   "source": "",
   "id": "f116ab4b2b9ede2a",
   "outputs": []
  }
 ],
 "metadata": {
  "kernelspec": {
   "display_name": "Python 3",
   "language": "python",
   "name": "python3"
  },
  "language_info": {
   "codemirror_mode": {
    "name": "ipython",
    "version": 2
   },
   "file_extension": ".py",
   "mimetype": "text/x-python",
   "name": "python",
   "nbconvert_exporter": "python",
   "pygments_lexer": "ipython2",
   "version": "2.7.6"
  }
 },
 "nbformat": 4,
 "nbformat_minor": 5
}
