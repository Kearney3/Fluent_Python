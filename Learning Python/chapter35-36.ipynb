{
 "cells": [
  {
   "metadata": {},
   "cell_type": "markdown",
   "source": "# 异常对象",
   "id": "5d65566e0eec6a19"
  },
  {
   "metadata": {},
   "cell_type": "markdown",
   "source": "except分句列出⼀个通⽤的异常父类，就可捕捉整个类别中的各种异常，任何特定的⼦类都可以匹配",
   "id": "32af9eacf172c261"
  },
  {
   "metadata": {
    "ExecuteTime": {
     "end_time": "2024-07-02T09:34:54.133473Z",
     "start_time": "2024-07-02T09:34:54.129309Z"
    }
   },
   "cell_type": "code",
   "source": [
    "class General(Exception): ...\n",
    "class Specific1(General): ...\n",
    "class Specific2(General): ..."
   ],
   "id": "17949e9ca3418535",
   "outputs": [],
   "execution_count": 1
  },
  {
   "cell_type": "code",
   "id": "initial_id",
   "metadata": {
    "collapsed": true,
    "ExecuteTime": {
     "end_time": "2024-07-02T09:38:57.651304Z",
     "start_time": "2024-07-02T09:38:57.646835Z"
    }
   },
   "source": [
    "for cls in (General, Specific1, Specific2):\n",
    "    try:\n",
    "        raise cls\n",
    "    except General as X:\n",
    "        import sys\n",
    "        print(f'caught {sys.exc_info()}|{X.__class__}')"
   ],
   "outputs": [
    {
     "name": "stdout",
     "output_type": "stream",
     "text": [
      "caught (<class '__main__.General'>, General(), <traceback object at 0x1094abfc0>)|<class '__main__.General'>\n",
      "caught (<class '__main__.Specific1'>, Specific1(), <traceback object at 0x1094abfc0>)|<class '__main__.Specific1'>\n",
      "caught (<class '__main__.Specific2'>, Specific2(), <traceback object at 0x1094abfc0>)|<class '__main__.Specific2'>\n"
     ]
    }
   ],
   "execution_count": 9
  },
  {
   "metadata": {
    "ExecuteTime": {
     "end_time": "2024-07-02T09:37:06.991017Z",
     "start_time": "2024-07-02T09:37:06.977214Z"
    }
   },
   "cell_type": "code",
   "source": "Exception.__base__",
   "id": "9e08cf751ec415cb",
   "outputs": [
    {
     "data": {
      "text/plain": [
       "BaseException"
      ]
     },
     "execution_count": 3,
     "metadata": {},
     "output_type": "execute_result"
    }
   ],
   "execution_count": 3
  },
  {
   "metadata": {
    "ExecuteTime": {
     "end_time": "2024-07-02T09:47:37.488076Z",
     "start_time": "2024-07-02T09:47:37.486518Z"
    }
   },
   "cell_type": "code",
   "source": "I = IndexError('hello', 'no')",
   "id": "17e4adc9501929a8",
   "outputs": [],
   "execution_count": 11
  },
  {
   "metadata": {
    "ExecuteTime": {
     "end_time": "2024-07-02T09:49:27.767020Z",
     "start_time": "2024-07-02T09:49:27.761268Z"
    }
   },
   "cell_type": "code",
   "source": "I",
   "id": "b97346aac96dc655",
   "outputs": [
    {
     "data": {
      "text/plain": [
       "IndexError('hello', 'no')"
      ]
     },
     "execution_count": 13,
     "metadata": {},
     "output_type": "execute_result"
    }
   ],
   "execution_count": 13
  },
  {
   "metadata": {
    "ExecuteTime": {
     "end_time": "2024-07-02T09:49:47.983257Z",
     "start_time": "2024-07-02T09:49:47.977370Z"
    }
   },
   "cell_type": "code",
   "source": "I.args",
   "id": "132296b337fcf6fb",
   "outputs": [
    {
     "data": {
      "text/plain": [
       "('hello', 'no')"
      ]
     },
     "execution_count": 14,
     "metadata": {},
     "output_type": "execute_result"
    }
   ],
   "execution_count": 14
  },
  {
   "metadata": {
    "ExecuteTime": {
     "end_time": "2024-07-02T09:50:11.581937Z",
     "start_time": "2024-07-02T09:50:11.576357Z"
    }
   },
   "cell_type": "code",
   "source": [
    "Z = ZeroDivisionError('Bad')\n",
    "Z.args"
   ],
   "id": "f65dcc7d18ee70b2",
   "outputs": [
    {
     "data": {
      "text/plain": [
       "('Bad',)"
      ]
     },
     "execution_count": 15,
     "metadata": {},
     "output_type": "execute_result"
    }
   ],
   "execution_count": 15
  },
  {
   "metadata": {},
   "cell_type": "markdown",
   "source": "参数传递",
   "id": "1029b9a5c385191c"
  },
  {
   "metadata": {
    "ExecuteTime": {
     "end_time": "2024-07-02T10:18:33.177461Z",
     "start_time": "2024-07-02T10:18:33.169662Z"
    }
   },
   "cell_type": "code",
   "source": [
    "class FormatError(Exception): \n",
    "    def __init__(self, line, file):\n",
    "        self.line = line\n",
    "        self.file = file"
   ],
   "id": "ab3175bb20c42da3",
   "outputs": [],
   "execution_count": 16
  },
  {
   "metadata": {
    "ExecuteTime": {
     "end_time": "2024-07-02T10:19:08.326856Z",
     "start_time": "2024-07-02T10:19:08.323440Z"
    }
   },
   "cell_type": "code",
   "source": [
    "def parser():\n",
    "    raise FormatError(42, 'spam.txt')"
   ],
   "id": "fc243fc91cd724e",
   "outputs": [],
   "execution_count": 17
  },
  {
   "metadata": {
    "ExecuteTime": {
     "end_time": "2024-07-02T10:21:25.882611Z",
     "start_time": "2024-07-02T10:21:25.878796Z"
    }
   },
   "cell_type": "code",
   "source": [
    "try:\n",
    "    parser()\n",
    "except FormatError as X:\n",
    "    print(f'Error at line {X.line} from <{X.file}>')\n",
    "    print(f'{X.args[0]}, {X.args[1]}')"
   ],
   "id": "a04117d87bed2f67",
   "outputs": [
    {
     "name": "stdout",
     "output_type": "stream",
     "text": [
      "Error at line 42 from <spam.txt>\n",
      "42, spam.txt\n"
     ]
    }
   ],
   "execution_count": 21
  },
  {
   "metadata": {},
   "cell_type": "markdown",
   "source": "提供异常⽅法",
   "id": "1033bfd16b528934"
  },
  {
   "metadata": {
    "ExecuteTime": {
     "end_time": "2024-07-02T10:24:23.308429Z",
     "start_time": "2024-07-02T10:24:23.306239Z"
    }
   },
   "cell_type": "code",
   "source": [
    "class FormatError(Exception):\n",
    "    logfile = 'error.log'\n",
    "    def __init__(self, line, file):\n",
    "        self.line = line\n",
    "        self.file = file\n",
    "    def log(self):\n",
    "        with open(self.logfile, 'a') as f:\n",
    "            f.write(f'Error at line {self.line} from <{self.file}>\\n')"
   ],
   "id": "26c4ffdc3451b6d3",
   "outputs": [],
   "execution_count": 23
  },
  {
   "metadata": {
    "ExecuteTime": {
     "end_time": "2024-07-02T10:24:31.210245Z",
     "start_time": "2024-07-02T10:24:31.207596Z"
    }
   },
   "cell_type": "code",
   "source": [
    "try:\n",
    "    raise FormatError(42, 'spam.txt')\n",
    "except FormatError as X:\n",
    "    X.log()"
   ],
   "id": "cb82ee043f59d807",
   "outputs": [],
   "execution_count": 26
  },
  {
   "metadata": {
    "ExecuteTime": {
     "end_time": "2024-07-02T10:24:42.006467Z",
     "start_time": "2024-07-02T10:24:42.001084Z"
    }
   },
   "cell_type": "code",
   "source": [
    "with open(FormatError.logfile) as f:\n",
    "    print(f.read())"
   ],
   "id": "5b14e2045cb8dfa3",
   "outputs": [
    {
     "name": "stdout",
     "output_type": "stream",
     "text": [
      "Error at line 42 from <spam.txt>\n",
      "Error at line 42 from <spam.txt>\n",
      "Error at line 42 from <spam.txt>\n",
      "\n"
     ]
    }
   ],
   "execution_count": 27
  },
  {
   "metadata": {
    "ExecuteTime": {
     "end_time": "2024-07-02T10:25:34.402350Z",
     "start_time": "2024-07-02T10:25:34.398Z"
    }
   },
   "cell_type": "code",
   "source": "dir(Exception)",
   "id": "d5be881a02c10a45",
   "outputs": [
    {
     "data": {
      "text/plain": [
       "['__cause__',\n",
       " '__class__',\n",
       " '__context__',\n",
       " '__delattr__',\n",
       " '__dict__',\n",
       " '__dir__',\n",
       " '__doc__',\n",
       " '__eq__',\n",
       " '__format__',\n",
       " '__ge__',\n",
       " '__getattribute__',\n",
       " '__getstate__',\n",
       " '__gt__',\n",
       " '__hash__',\n",
       " '__init__',\n",
       " '__init_subclass__',\n",
       " '__le__',\n",
       " '__lt__',\n",
       " '__ne__',\n",
       " '__new__',\n",
       " '__reduce__',\n",
       " '__reduce_ex__',\n",
       " '__repr__',\n",
       " '__setattr__',\n",
       " '__setstate__',\n",
       " '__sizeof__',\n",
       " '__str__',\n",
       " '__subclasshook__',\n",
       " '__suppress_context__',\n",
       " '__traceback__',\n",
       " 'add_note',\n",
       " 'args',\n",
       " 'with_traceback']"
      ]
     },
     "execution_count": 28,
     "metadata": {},
     "output_type": "execute_result"
    }
   ],
   "execution_count": 28
  },
  {
   "metadata": {},
   "cell_type": "code",
   "outputs": [],
   "execution_count": null,
   "source": "",
   "id": "48b2dea8ac17a7e2"
  }
 ],
 "metadata": {
  "kernelspec": {
   "display_name": "Python 3",
   "language": "python",
   "name": "python3"
  },
  "language_info": {
   "codemirror_mode": {
    "name": "ipython",
    "version": 2
   },
   "file_extension": ".py",
   "mimetype": "text/x-python",
   "name": "python",
   "nbconvert_exporter": "python",
   "pygments_lexer": "ipython2",
   "version": "2.7.6"
  }
 },
 "nbformat": 4,
 "nbformat_minor": 5
}
