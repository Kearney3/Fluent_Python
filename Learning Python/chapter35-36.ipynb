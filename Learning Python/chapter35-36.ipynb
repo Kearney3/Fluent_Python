{
 "cells": [
  {
   "metadata": {},
   "cell_type": "markdown",
   "source": "# 异常对象",
   "id": "5d65566e0eec6a19"
  },
  {
   "metadata": {},
   "cell_type": "markdown",
   "source": "except分句列出⼀个通⽤的异常父类，就可捕捉整个类别中的各种异常，任何特定的⼦类都可以匹配",
   "id": "32af9eacf172c261"
  },
  {
   "metadata": {
    "ExecuteTime": {
     "end_time": "2024-07-02T09:34:54.133473Z",
     "start_time": "2024-07-02T09:34:54.129309Z"
    }
   },
   "cell_type": "code",
   "source": [
    "class General(Exception): ...\n",
    "class Specific1(General): ...\n",
    "class Specific2(General): ..."
   ],
   "id": "17949e9ca3418535",
   "outputs": [],
   "execution_count": 1
  },
  {
   "cell_type": "code",
   "id": "initial_id",
   "metadata": {
    "collapsed": true,
    "ExecuteTime": {
     "end_time": "2024-07-02T09:38:57.651304Z",
     "start_time": "2024-07-02T09:38:57.646835Z"
    }
   },
   "source": [
    "for cls in (General, Specific1, Specific2):\n",
    "    try:\n",
    "        raise cls\n",
    "    except General as X:\n",
    "        import sys\n",
    "        print(f'caught {sys.exc_info()}|{X.__class__}')"
   ],
   "outputs": [
    {
     "name": "stdout",
     "output_type": "stream",
     "text": [
      "caught (<class '__main__.General'>, General(), <traceback object at 0x1094abfc0>)|<class '__main__.General'>\n",
      "caught (<class '__main__.Specific1'>, Specific1(), <traceback object at 0x1094abfc0>)|<class '__main__.Specific1'>\n",
      "caught (<class '__main__.Specific2'>, Specific2(), <traceback object at 0x1094abfc0>)|<class '__main__.Specific2'>\n"
     ]
    }
   ],
   "execution_count": 9
  },
  {
   "metadata": {
    "ExecuteTime": {
     "end_time": "2024-07-02T09:37:06.991017Z",
     "start_time": "2024-07-02T09:37:06.977214Z"
    }
   },
   "cell_type": "code",
   "source": "Exception.__base__",
   "id": "9e08cf751ec415cb",
   "outputs": [
    {
     "data": {
      "text/plain": [
       "BaseException"
      ]
     },
     "execution_count": 3,
     "metadata": {},
     "output_type": "execute_result"
    }
   ],
   "execution_count": 3
  },
  {
   "metadata": {
    "ExecuteTime": {
     "end_time": "2024-07-02T09:47:37.488076Z",
     "start_time": "2024-07-02T09:47:37.486518Z"
    }
   },
   "cell_type": "code",
   "source": "I = IndexError('hello', 'no')",
   "id": "17e4adc9501929a8",
   "outputs": [],
   "execution_count": 11
  },
  {
   "metadata": {
    "ExecuteTime": {
     "end_time": "2024-07-02T09:49:27.767020Z",
     "start_time": "2024-07-02T09:49:27.761268Z"
    }
   },
   "cell_type": "code",
   "source": "I",
   "id": "b97346aac96dc655",
   "outputs": [
    {
     "data": {
      "text/plain": [
       "IndexError('hello', 'no')"
      ]
     },
     "execution_count": 13,
     "metadata": {},
     "output_type": "execute_result"
    }
   ],
   "execution_count": 13
  },
  {
   "metadata": {
    "ExecuteTime": {
     "end_time": "2024-07-02T09:49:47.983257Z",
     "start_time": "2024-07-02T09:49:47.977370Z"
    }
   },
   "cell_type": "code",
   "source": "I.args",
   "id": "132296b337fcf6fb",
   "outputs": [
    {
     "data": {
      "text/plain": [
       "('hello', 'no')"
      ]
     },
     "execution_count": 14,
     "metadata": {},
     "output_type": "execute_result"
    }
   ],
   "execution_count": 14
  },
  {
   "metadata": {
    "ExecuteTime": {
     "end_time": "2024-07-02T09:50:11.581937Z",
     "start_time": "2024-07-02T09:50:11.576357Z"
    }
   },
   "cell_type": "code",
   "source": [
    "Z = ZeroDivisionError('Bad')\n",
    "Z.args"
   ],
   "id": "f65dcc7d18ee70b2",
   "outputs": [
    {
     "data": {
      "text/plain": [
       "('Bad',)"
      ]
     },
     "execution_count": 15,
     "metadata": {},
     "output_type": "execute_result"
    }
   ],
   "execution_count": 15
  },
  {
   "metadata": {},
   "cell_type": "markdown",
   "source": "参数传递",
   "id": "1029b9a5c385191c"
  },
  {
   "metadata": {
    "ExecuteTime": {
     "end_time": "2024-07-02T10:18:33.177461Z",
     "start_time": "2024-07-02T10:18:33.169662Z"
    }
   },
   "cell_type": "code",
   "source": [
    "class FormatError(Exception): \n",
    "    def __init__(self, line, file):\n",
    "        self.line = line\n",
    "        self.file = file"
   ],
   "id": "ab3175bb20c42da3",
   "outputs": [],
   "execution_count": 16
  },
  {
   "metadata": {
    "ExecuteTime": {
     "end_time": "2024-07-02T10:19:08.326856Z",
     "start_time": "2024-07-02T10:19:08.323440Z"
    }
   },
   "cell_type": "code",
   "source": [
    "def parser():\n",
    "    raise FormatError(42, 'spam.txt')"
   ],
   "id": "fc243fc91cd724e",
   "outputs": [],
   "execution_count": 17
  },
  {
   "metadata": {
    "ExecuteTime": {
     "end_time": "2024-07-02T10:21:25.882611Z",
     "start_time": "2024-07-02T10:21:25.878796Z"
    }
   },
   "cell_type": "code",
   "source": [
    "try:\n",
    "    parser()\n",
    "except FormatError as X:\n",
    "    print(f'Error at line {X.line} from <{X.file}>')\n",
    "    print(f'{X.args[0]}, {X.args[1]}')"
   ],
   "id": "a04117d87bed2f67",
   "outputs": [
    {
     "name": "stdout",
     "output_type": "stream",
     "text": [
      "Error at line 42 from <spam.txt>\n",
      "42, spam.txt\n"
     ]
    }
   ],
   "execution_count": 21
  },
  {
   "metadata": {},
   "cell_type": "markdown",
   "source": "提供异常⽅法",
   "id": "1033bfd16b528934"
  },
  {
   "metadata": {
    "ExecuteTime": {
     "end_time": "2024-07-02T10:24:23.308429Z",
     "start_time": "2024-07-02T10:24:23.306239Z"
    }
   },
   "cell_type": "code",
   "source": [
    "class FormatError(Exception):\n",
    "    logfile = 'error.log'\n",
    "    def __init__(self, line, file):\n",
    "        self.line = line\n",
    "        self.file = file\n",
    "    def log(self):\n",
    "        with open(self.logfile, 'a') as f:\n",
    "            f.write(f'Error at line {self.line} from <{self.file}>\\n')"
   ],
   "id": "26c4ffdc3451b6d3",
   "outputs": [],
   "execution_count": 23
  },
  {
   "metadata": {
    "ExecuteTime": {
     "end_time": "2024-07-02T10:24:31.210245Z",
     "start_time": "2024-07-02T10:24:31.207596Z"
    }
   },
   "cell_type": "code",
   "source": [
    "try:\n",
    "    raise FormatError(42, 'spam.txt')\n",
    "except FormatError as X:\n",
    "    X.log()"
   ],
   "id": "cb82ee043f59d807",
   "outputs": [],
   "execution_count": 26
  },
  {
   "metadata": {
    "ExecuteTime": {
     "end_time": "2024-07-02T10:24:42.006467Z",
     "start_time": "2024-07-02T10:24:42.001084Z"
    }
   },
   "cell_type": "code",
   "source": [
    "with open(FormatError.logfile) as f:\n",
    "    print(f.read())"
   ],
   "id": "5b14e2045cb8dfa3",
   "outputs": [
    {
     "name": "stdout",
     "output_type": "stream",
     "text": [
      "Error at line 42 from <spam.txt>\n",
      "Error at line 42 from <spam.txt>\n",
      "Error at line 42 from <spam.txt>\n",
      "\n"
     ]
    }
   ],
   "execution_count": 27
  },
  {
   "metadata": {
    "ExecuteTime": {
     "end_time": "2024-07-02T10:25:34.402350Z",
     "start_time": "2024-07-02T10:25:34.398Z"
    }
   },
   "cell_type": "code",
   "source": "dir(Exception)",
   "id": "d5be881a02c10a45",
   "outputs": [
    {
     "data": {
      "text/plain": [
       "['__cause__',\n",
       " '__class__',\n",
       " '__context__',\n",
       " '__delattr__',\n",
       " '__dict__',\n",
       " '__dir__',\n",
       " '__doc__',\n",
       " '__eq__',\n",
       " '__format__',\n",
       " '__ge__',\n",
       " '__getattribute__',\n",
       " '__getstate__',\n",
       " '__gt__',\n",
       " '__hash__',\n",
       " '__init__',\n",
       " '__init_subclass__',\n",
       " '__le__',\n",
       " '__lt__',\n",
       " '__ne__',\n",
       " '__new__',\n",
       " '__reduce__',\n",
       " '__reduce_ex__',\n",
       " '__repr__',\n",
       " '__setattr__',\n",
       " '__setstate__',\n",
       " '__sizeof__',\n",
       " '__str__',\n",
       " '__subclasshook__',\n",
       " '__suppress_context__',\n",
       " '__traceback__',\n",
       " 'add_note',\n",
       " 'args',\n",
       " 'with_traceback']"
      ]
     },
     "execution_count": 28,
     "metadata": {},
     "output_type": "execute_result"
    }
   ],
   "execution_count": 28
  },
  {
   "metadata": {},
   "cell_type": "markdown",
   "source": "# 控制流",
   "id": "1f97217708f6792"
  },
  {
   "metadata": {
    "ExecuteTime": {
     "end_time": "2024-07-02T13:54:13.093118Z",
     "start_time": "2024-07-02T13:54:13.081085Z"
    }
   },
   "cell_type": "code",
   "source": [
    "def action1():\n",
    "    try:\n",
    "        raise TypeError\n",
    "    except TypeError:\n",
    "        print('inner try')\n",
    "        \n",
    "try:\n",
    "    action1()\n",
    "except TypeError:\n",
    "    print('outer try')"
   ],
   "id": "48b2dea8ac17a7e2",
   "outputs": [
    {
     "name": "stdout",
     "output_type": "stream",
     "text": [
      "inner try\n"
     ]
    }
   ],
   "execution_count": 29
  },
  {
   "metadata": {
    "ExecuteTime": {
     "end_time": "2024-07-02T13:58:05.928471Z",
     "start_time": "2024-07-02T13:58:05.900728Z"
    }
   },
   "cell_type": "code",
   "source": [
    "try:\n",
    "    try:\n",
    "        raise IndexError\n",
    "    finally:\n",
    "        print('inner try')\n",
    "finally:\n",
    "    print('outer try')"
   ],
   "id": "6717b73989f6f759",
   "outputs": [
    {
     "name": "stdout",
     "output_type": "stream",
     "text": [
      "inner try\n",
      "outer try\n"
     ]
    },
    {
     "ename": "IndexError",
     "evalue": "",
     "output_type": "error",
     "traceback": [
      "\u001B[0;31m---------------------------------------------------------------------------\u001B[0m",
      "\u001B[0;31mIndexError\u001B[0m                                Traceback (most recent call last)",
      "Cell \u001B[0;32mIn[30], line 3\u001B[0m\n\u001B[1;32m      1\u001B[0m \u001B[38;5;28;01mtry\u001B[39;00m:\n\u001B[1;32m      2\u001B[0m     \u001B[38;5;28;01mtry\u001B[39;00m:\n\u001B[0;32m----> 3\u001B[0m         \u001B[38;5;28;01mraise\u001B[39;00m \u001B[38;5;167;01mIndexError\u001B[39;00m\n\u001B[1;32m      4\u001B[0m     \u001B[38;5;28;01mfinally\u001B[39;00m:\n\u001B[1;32m      5\u001B[0m         \u001B[38;5;28mprint\u001B[39m(\u001B[38;5;124m'\u001B[39m\u001B[38;5;124minner try\u001B[39m\u001B[38;5;124m'\u001B[39m)\n",
      "\u001B[0;31mIndexError\u001B[0m: "
     ]
    }
   ],
   "execution_count": 30
  },
  {
   "metadata": {
    "ExecuteTime": {
     "end_time": "2024-07-02T14:01:31.250543Z",
     "start_time": "2024-07-02T14:01:31.242364Z"
    }
   },
   "cell_type": "code",
   "source": [
    "def raise1(): raise IndexError\n",
    "def raise2(): raise SyntaxError\n",
    "def noraise(): return\n",
    "\n",
    "for func in (raise1, noraise, raise2):\n",
    "    print(f'<{func.__name__}>')\n",
    "    try:\n",
    "        try:\n",
    "            func()\n",
    "        except IndexError:\n",
    "            print('caught IndexError')\n",
    "    finally:\n",
    "        print('finally run')\n",
    "    print('...')"
   ],
   "id": "ade4fbeb003c858b",
   "outputs": [
    {
     "name": "stdout",
     "output_type": "stream",
     "text": [
      "<raise1>\n",
      "caught IndexError\n",
      "finally run\n",
      "...\n",
      "<noraise>\n",
      "finally run\n",
      "...\n",
      "<raise2>\n",
      "finally run\n"
     ]
    },
    {
     "ename": "SyntaxError",
     "evalue": "None (<string>)",
     "output_type": "error",
     "traceback": [
      "Traceback \u001B[0;36m(most recent call last)\u001B[0m:\n",
      "\u001B[0m  File \u001B[1;32m~/anaconda3/lib/python3.11/site-packages/IPython/core/interactiveshell.py:3526\u001B[0m in \u001B[1;35mrun_code\u001B[0m\n    exec(code_obj, self.user_global_ns, self.user_ns)\u001B[0m\n",
      "\u001B[0m  Cell \u001B[1;32mIn[32], line 9\u001B[0m\n    func()\u001B[0m\n",
      "\u001B[0;36m  Cell \u001B[0;32mIn[32], line 2\u001B[0;36m in \u001B[0;35mraise2\u001B[0;36m\n\u001B[0;31m    def raise2(): raise SyntaxError\u001B[0;36m\n",
      "\u001B[0;36m  File \u001B[0;32m<string>\u001B[0;36m\u001B[0m\n\u001B[0;31mSyntaxError\u001B[0m\n"
     ]
    }
   ],
   "execution_count": 32
  },
  {
   "metadata": {},
   "cell_type": "markdown",
   "source": [
    "跳出多重嵌套循环：“go to”\n",
    "\n",
    "Python 的break 语句只能跳出⼀个最近的外围循环，但我们总可利用异常跳出更多层的循环："
   ],
   "id": "30f933ffc63e1544"
  },
  {
   "metadata": {
    "ExecuteTime": {
     "end_time": "2024-07-02T14:04:06.974211Z",
     "start_time": "2024-07-02T14:04:06.969307Z"
    }
   },
   "cell_type": "code",
   "source": [
    "class ExitLoop(Exception): pass\n",
    "\n",
    "try:\n",
    "    while True:\n",
    "        for i in range(10):\n",
    "            if i > 3:\n",
    "                raise ExitLoop # 跳出内层循环\n",
    "            print(f'loop3 : {i}')\n",
    "        print('loop2')\n",
    "    print('loop1')\n",
    "except ExitLoop:\n",
    "    print('countinuing')"
   ],
   "id": "883923601951fcf3",
   "outputs": [
    {
     "name": "stdout",
     "output_type": "stream",
     "text": [
      "loop3 : 0\n",
      "loop3 : 1\n",
      "loop3 : 2\n",
      "loop3 : 3\n",
      "countinuing\n"
     ]
    }
   ],
   "execution_count": 34
  },
  {
   "metadata": {
    "ExecuteTime": {
     "end_time": "2024-07-02T14:04:26.914352Z",
     "start_time": "2024-07-02T14:04:26.910693Z"
    }
   },
   "cell_type": "code",
   "source": "i",
   "id": "7da65a69b3ea508c",
   "outputs": [
    {
     "data": {
      "text/plain": [
       "4"
      ]
     },
     "execution_count": 35,
     "metadata": {},
     "output_type": "execute_result"
    }
   ],
   "execution_count": 35
  },
  {
   "metadata": {},
   "cell_type": "markdown",
   "source": [
    "## 异常不全都是错误\n",
    "在Python中，所有错误都是异常，但并非所有异常都是错误\n",
    "> `EOFError`作为文件结束的信号"
   ],
   "id": "31910f26928bd45a"
  },
  {
   "metadata": {
    "ExecuteTime": {
     "end_time": "2024-07-02T14:13:51.777431Z",
     "start_time": "2024-07-02T14:13:50.390006Z"
    }
   },
   "cell_type": "code",
   "source": [
    "while True:\n",
    "    try:\n",
    "        line = input('> ')\n",
    "    except EOFError:\n",
    "        break\n",
    "    else:\n",
    "        print(f'you entered {line}')\n",
    "        if line == 'quit':\n",
    "            break"
   ],
   "id": "2c0a8f5ffd9fd729",
   "outputs": [
    {
     "name": "stdout",
     "output_type": "stream",
     "text": [
      "you entered quit\n"
     ]
    }
   ],
   "execution_count": 1
  },
  {
   "metadata": {},
   "cell_type": "markdown",
   "source": "自定义信号",
   "id": "4fbd15e3c58eb35"
  },
  {
   "metadata": {
    "ExecuteTime": {
     "end_time": "2024-07-03T01:10:26.525365Z",
     "start_time": "2024-07-03T01:10:26.521954Z"
    }
   },
   "cell_type": "code",
   "source": [
    "class Found(Exception): pass\n",
    "\n",
    "def searcher():\n",
    "    if True:\n",
    "        raise Found\n",
    "    else:\n",
    "        return\n",
    "    \n",
    "try:\n",
    "    searcher()\n",
    "except Found:\n",
    "    print('found')\n",
    "else:\n",
    "    print('not found')"
   ],
   "id": "712c298e832e0183",
   "outputs": [
    {
     "name": "stdout",
     "output_type": "stream",
     "text": [
      "found\n"
     ]
    }
   ],
   "execution_count": 6
  },
  {
   "metadata": {
    "ExecuteTime": {
     "end_time": "2024-07-02T14:19:42.240913Z",
     "start_time": "2024-07-02T14:19:42.235528Z"
    }
   },
   "cell_type": "code",
   "source": [
    "class Failure(Exception): pass\n",
    "\n",
    "def searcher():\n",
    "    if True:\n",
    "        return 3\n",
    "    else:\n",
    "        raise Failure\n",
    "    \n",
    "try:\n",
    "    item = searcher()\n",
    "except Failure:\n",
    "    print('failure')\n",
    "else:\n",
    "    print(f'found {item}')"
   ],
   "id": "74f5074364cfa479",
   "outputs": [
    {
     "name": "stdout",
     "output_type": "stream",
     "text": [
      "found 3\n"
     ]
    }
   ],
   "execution_count": 4
  },
  {
   "metadata": {
    "ExecuteTime": {
     "end_time": "2024-07-03T01:23:37.566959Z",
     "start_time": "2024-07-03T01:23:37.544185Z"
    }
   },
   "cell_type": "code",
   "source": [
    "try:\n",
    "    raise ZeroDivisionError from ArithmeticError\n",
    "except FloatingPointError as X:\n",
    "    print(f'{X.__class__.__name__} from {X.__cause__.__class__.__name__}')"
   ],
   "id": "e9d22ac9349a760a",
   "outputs": [
    {
     "ename": "ZeroDivisionError",
     "evalue": "",
     "output_type": "error",
     "traceback": [
      "\u001B[0;31m---------------------------------------------------------------------------\u001B[0m",
      "\u001B[0;31mArithmeticError\u001B[0m                           Traceback (most recent call last)",
      "\u001B[0;31mArithmeticError\u001B[0m: ",
      "\nThe above exception was the direct cause of the following exception:\n",
      "\u001B[0;31mZeroDivisionError\u001B[0m                         Traceback (most recent call last)",
      "Cell \u001B[0;32mIn[9], line 2\u001B[0m\n\u001B[1;32m      1\u001B[0m \u001B[38;5;28;01mtry\u001B[39;00m:\n\u001B[0;32m----> 2\u001B[0m     \u001B[38;5;28;01mraise\u001B[39;00m \u001B[38;5;167;01mZeroDivisionError\u001B[39;00m \u001B[38;5;28;01mfrom\u001B[39;00m \u001B[38;5;21;01mArithmeticError\u001B[39;00m\n\u001B[1;32m      3\u001B[0m \u001B[38;5;28;01mexcept\u001B[39;00m \u001B[38;5;167;01mFloatingPointError\u001B[39;00m \u001B[38;5;28;01mas\u001B[39;00m X:\n\u001B[1;32m      4\u001B[0m     \u001B[38;5;28mprint\u001B[39m(\u001B[38;5;124mf\u001B[39m\u001B[38;5;124m'\u001B[39m\u001B[38;5;132;01m{\u001B[39;00mX\u001B[38;5;241m.\u001B[39m\u001B[38;5;18m__class__\u001B[39m\u001B[38;5;241m.\u001B[39m\u001B[38;5;18m__name__\u001B[39m\u001B[38;5;132;01m}\u001B[39;00m\u001B[38;5;124m from \u001B[39m\u001B[38;5;132;01m{\u001B[39;00mX\u001B[38;5;241m.\u001B[39m__cause__\u001B[38;5;241m.\u001B[39m\u001B[38;5;18m__class__\u001B[39m\u001B[38;5;241m.\u001B[39m\u001B[38;5;18m__name__\u001B[39m\u001B[38;5;132;01m}\u001B[39;00m\u001B[38;5;124m'\u001B[39m)\n",
      "\u001B[0;31mZeroDivisionError\u001B[0m: "
     ]
    }
   ],
   "execution_count": 9
  },
  {
   "metadata": {
    "ExecuteTime": {
     "end_time": "2024-07-03T01:32:16.444995Z",
     "start_time": "2024-07-03T01:32:16.440657Z"
    }
   },
   "cell_type": "code",
   "source": [
    "import traceback as tb\n",
    "import sys\n",
    "try:\n",
    "\traise OSError\n",
    "except (ValueError, OSError) as e:\n",
    "    print('调用方法method1处理')\t\t\n",
    "    print(sys.exc_info())\n",
    "    print(e.__class__)\n",
    "    tb.print_exc()\t\t#堆栈跟踪"
   ],
   "id": "b153f5d70bbe87bb",
   "outputs": [
    {
     "name": "stdout",
     "output_type": "stream",
     "text": [
      "调用方法method1处理\n",
      "(<class 'OSError'>, OSError(), <traceback object at 0x10713bd00>)\n",
      "<class 'OSError'>\n"
     ]
    },
    {
     "name": "stderr",
     "output_type": "stream",
     "text": [
      "Traceback (most recent call last):\n",
      "  File \"/var/folders/l6/lzt7hk8j2873k3xp1_cpjcbh0000gn/T/ipykernel_18178/22511347.py\", line 4, in <module>\n",
      "    raise OSError\n",
      "OSError\n"
     ]
    }
   ],
   "execution_count": 21
  },
  {
   "metadata": {},
   "cell_type": "markdown",
   "source": "Python 也提供⼀个 sys.exit(statuscode) 内置调⽤来提前终⽌脚本。这实际上是引发内置的 SystemExit 异常来 终⽌程序，使try/finally 可以在离开前执⾏，并且让特殊类型的程序能拦截该事件",
   "id": "604f4ff1c8456201"
  },
  {
   "metadata": {
    "ExecuteTime": {
     "end_time": "2024-07-03T01:43:22.593694Z",
     "start_time": "2024-07-03T01:43:22.589433Z"
    }
   },
   "cell_type": "code",
   "source": [
    "try:\n",
    "    sys.exit(40)\n",
    "except:\n",
    "    print('caught')\n",
    "print('continuing')"
   ],
   "id": "50ab6cb9be797a30",
   "outputs": [
    {
     "name": "stdout",
     "output_type": "stream",
     "text": [
      "caught\n",
      "continuing\n"
     ]
    }
   ],
   "execution_count": 22
  },
  {
   "metadata": {
    "ExecuteTime": {
     "end_time": "2024-07-03T01:43:34.589905Z",
     "start_time": "2024-07-03T01:43:34.585880Z"
    }
   },
   "cell_type": "code",
   "source": [
    "try:\n",
    "    sys.exit(40)\n",
    "except Exception:\n",
    "    print('caught')\n",
    "print('continuing')"
   ],
   "id": "97eafe2f8d0fd7ba",
   "outputs": [
    {
     "ename": "SystemExit",
     "evalue": "40",
     "output_type": "error",
     "traceback": [
      "An exception has occurred, use %tb to see the full traceback.\n",
      "\u001B[0;31mSystemExit\u001B[0m\u001B[0;31m:\u001B[0m 40\n"
     ]
    },
    {
     "name": "stderr",
     "output_type": "stream",
     "text": [
      "/Users/kearney/anaconda3/lib/python3.11/site-packages/IPython/core/interactiveshell.py:3534: UserWarning: To exit: use 'exit', 'quit', or Ctrl-D.\n",
      "  warn(\"To exit: use 'exit', 'quit', or Ctrl-D.\", stacklevel=1)\n"
     ]
    }
   ],
   "execution_count": 23
  },
  {
   "metadata": {
    "ExecuteTime": {
     "end_time": "2024-07-03T01:45:58.653201Z",
     "start_time": "2024-07-03T01:45:58.649656Z"
    }
   },
   "cell_type": "code",
   "source": [
    "try:\n",
    "    sys.exit(40)\n",
    "except SystemExit:\n",
    "    print('caught')\n",
    "print('continuing')"
   ],
   "id": "7ce8fe0fb4408d0e",
   "outputs": [
    {
     "name": "stdout",
     "output_type": "stream",
     "text": [
      "caught\n",
      "continuing\n"
     ]
    }
   ],
   "execution_count": 24
  },
  {
   "metadata": {},
   "cell_type": "code",
   "outputs": [],
   "execution_count": null,
   "source": "",
   "id": "b21f08d6e56d1172"
  }
 ],
 "metadata": {
  "kernelspec": {
   "display_name": "Python 3",
   "language": "python",
   "name": "python3"
  },
  "language_info": {
   "codemirror_mode": {
    "name": "ipython",
    "version": 2
   },
   "file_extension": ".py",
   "mimetype": "text/x-python",
   "name": "python",
   "nbconvert_exporter": "python",
   "pygments_lexer": "ipython2",
   "version": "2.7.6"
  }
 },
 "nbformat": 4,
 "nbformat_minor": 5
}
