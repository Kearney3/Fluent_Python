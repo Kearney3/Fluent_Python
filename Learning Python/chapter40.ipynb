{
 "cells": [
  {
   "metadata": {},
   "cell_type": "markdown",
   "source": "# 元类",
   "id": "49cff6e66328943f"
  },
  {
   "cell_type": "code",
   "id": "initial_id",
   "metadata": {
    "collapsed": true,
    "ExecuteTime": {
     "end_time": "2024-07-07T08:44:53.295519Z",
     "start_time": "2024-07-07T08:44:53.291903Z"
    }
   },
   "source": "class C: pass",
   "execution_count": 1,
   "outputs": []
  },
  {
   "metadata": {
    "ExecuteTime": {
     "end_time": "2024-07-07T08:45:03.266756Z",
     "start_time": "2024-07-07T08:45:03.259307Z"
    }
   },
   "cell_type": "code",
   "source": [
    "a = C()\n",
    "type(a), type(C)"
   ],
   "id": "d084dfe2077e379",
   "execution_count": 2,
   "outputs": []
  },
  {
   "metadata": {
    "ExecuteTime": {
     "end_time": "2024-07-07T08:45:45.231649Z",
     "start_time": "2024-07-07T08:45:45.229047Z"
    }
   },
   "cell_type": "code",
   "source": "a.__class__, C.__class__, C.__class__.__name__",
   "id": "e7a25d5d90527292",
   "execution_count": 7,
   "outputs": []
  },
  {
   "metadata": {
    "ExecuteTime": {
     "end_time": "2024-07-07T08:52:53.277927Z",
     "start_time": "2024-07-07T08:52:53.275809Z"
    }
   },
   "cell_type": "code",
   "source": [
    "class Eggs: ...\n",
    "\n",
    "\n",
    "class Spam(Eggs):\n",
    "    data = 1\n",
    "\n",
    "    def meth(self, arg):\n",
    "        return self.data + arg"
   ],
   "id": "65d2ea3f58a6bcc8",
   "execution_count": 19,
   "outputs": []
  },
  {
   "metadata": {
    "ExecuteTime": {
     "end_time": "2024-07-07T08:53:17.846763Z",
     "start_time": "2024-07-07T08:53:17.843763Z"
    }
   },
   "cell_type": "code",
   "source": [
    "x = Spam()\n",
    "type(x), Spam.__base__, x.meth(2)"
   ],
   "id": "3093805f5d3de6dd",
   "execution_count": 24,
   "outputs": []
  },
  {
   "metadata": {
    "ExecuteTime": {
     "end_time": "2024-07-07T08:53:22.156645Z",
     "start_time": "2024-07-07T08:53:22.154654Z"
    }
   },
   "cell_type": "code",
   "source": [
    "eggs = Eggs\n",
    "Spam = type('Spam', (eggs,), dict(data=1, meth=lambda self, arg: self.data + arg))"
   ],
   "id": "945f91176dfb2d99",
   "execution_count": 26,
   "outputs": []
  },
  {
   "metadata": {
    "ExecuteTime": {
     "end_time": "2024-07-07T08:53:22.674148Z",
     "start_time": "2024-07-07T08:53:22.671032Z"
    }
   },
   "cell_type": "code",
   "source": [
    "x = Spam()\n",
    "type(x), Spam.__base__, x.meth(2)"
   ],
   "id": "f9a256e38c352edd",
   "execution_count": 27,
   "outputs": []
  },
  {
   "metadata": {},
   "cell_type": "markdown",
   "source": "## 声明元类",
   "id": "2472fba034019509"
  },
  {
   "metadata": {
    "ExecuteTime": {
     "end_time": "2024-07-07T09:06:08.279541Z",
     "start_time": "2024-07-07T09:06:08.275129Z"
    }
   },
   "cell_type": "code",
   "source": [
    "class MetaOne(type):\n",
    "    def __new__(cls, name, bases, dct):\n",
    "        print('In MetaOne.__new__:', f'{name=}', f'{bases=}', f'{dct=}', sep='\\n\\t')\n",
    "        return type.__new__(cls, name, bases, dct)\n",
    "\n",
    "class Eggs:\n",
    "    pass\n",
    "\n",
    "class Spam(Eggs, metaclass=MetaOne):\n",
    "    data = 1\n",
    "    def meth(self, arg):\n",
    "        return self.data + arg\n",
    "\n",
    "X = Spam()"
   ],
   "id": "5ea58afcfe20ded2",
   "execution_count": 36,
   "outputs": []
  },
  {
   "metadata": {
    "ExecuteTime": {
     "end_time": "2024-07-07T09:06:55.442943Z",
     "start_time": "2024-07-07T09:06:55.440838Z"
    }
   },
   "cell_type": "code",
   "source": "print(X.meth(2), X.data)",
   "id": "de953b00b271bceb",
   "execution_count": 38,
   "outputs": []
  },
  {
   "metadata": {
    "ExecuteTime": {
     "end_time": "2024-07-07T09:08:16.304718Z",
     "start_time": "2024-07-07T09:08:16.302283Z"
    }
   },
   "cell_type": "code",
   "source": [
    "Y = Spam()\n",
    "print(Y.meth(2), Y.data)"
   ],
   "id": "5de85208663dc4",
   "execution_count": 40,
   "outputs": []
  },
  {
   "metadata": {
    "ExecuteTime": {
     "end_time": "2024-07-07T09:13:47.175174Z",
     "start_time": "2024-07-07T09:13:47.168697Z"
    }
   },
   "cell_type": "code",
   "source": [
    "class MetaTwo(type):\n",
    "    def __new__(cls, name, bases, dct):\n",
    "        print('In MetaTow.__new__:', f'{name=}', f'{bases=}', f'{dct=}', sep='\\n\\t')\n",
    "        return type.__new__(cls, name, bases, dct)\n",
    "\n",
    "    def __init__(cls, name, bases, dct):\n",
    "        print('In MetaTwo.__init__:', f'{name=}', f'{bases=}', f'{dct=}', sep='\\n\\t')\n",
    "        print(f'init class object: {list(cls.__dict__.keys())}')\n",
    "\n",
    "class Eggs:\n",
    "    pass\n",
    "\n",
    "print('making class')\n",
    "class Spam(Eggs, metaclass=MetaTwo):\n",
    "    data = 1\n",
    "    def meth(self, arg):\n",
    "        return self.data + arg\n",
    "\n",
    "print('making instance')\n",
    "X = Spam()\n",
    "# Y = Spam()"
   ],
   "id": "532ed76cd86eeed1",
   "execution_count": 50,
   "outputs": []
  },
  {
   "metadata": {},
   "cell_type": "markdown",
   "source": "工厂函数",
   "id": "80cc460deb3abd26"
  },
  {
   "metadata": {
    "ExecuteTime": {
     "end_time": "2024-07-07T09:33:59.104023Z",
     "start_time": "2024-07-07T09:33:59.097062Z"
    }
   },
   "cell_type": "code",
   "source": [
    "def MetaFunc(name, bases, dct):\n",
    "    print('In MetaFunc:', f'{name=}', f'{bases=}', f'{dct=}', sep='\\n\\t')\n",
    "    return type(name, bases, dct)\n",
    "\n",
    "class Eggs:\n",
    "    pass\n",
    "\n",
    "class Spam(Eggs, metaclass=MetaFunc):\n",
    "    data = 1\n",
    "    def meth(self, arg):\n",
    "        return self.data + arg\n",
    "    \n",
    "X = Spam()\n",
    "X.data"
   ],
   "id": "18900b4c29bfa3b0",
   "execution_count": 64,
   "outputs": []
  },
  {
   "metadata": {},
   "cell_type": "markdown",
   "source": "⽤普通类重载类创建调⽤",
   "id": "5790504784a4e0c3"
  },
  {
   "metadata": {
    "ExecuteTime": {
     "end_time": "2024-07-07T09:34:06.207038Z",
     "start_time": "2024-07-07T09:34:06.203488Z"
    }
   },
   "cell_type": "code",
   "source": [
    "class MetaObj:\n",
    "    def __call__(self, name, bases, dct):\n",
    "        print('In MetaObj.__call__:', f'{name=}', f'{bases=}', f'{dct=}', sep='\\n\\t')\n",
    "        Class = self.__New__(name, bases, dct)\n",
    "        self.__Init__(Class, name, bases, dct)\n",
    "        return Class\n",
    "    \n",
    "    def __New__(self, name, bases, dct):\n",
    "        # 不能是__new__, 不然会在实例创建时运行\n",
    "        print('In MetaObj.__New__:', f'{name=}', f'{bases=}', f'{dct=}', sep='\\n\\t')\n",
    "        return type(name, bases, dct)\n",
    "    \n",
    "    def __Init__(self, cls, name, bases, dct):\n",
    "        # 不能是__init__, 不然会在实例创建时运行\n",
    "        print('In MetaObj.__Init__:', f'{name=}', f'{bases=}', f'{dct=}', sep='\\n\\t')\n",
    "        print(f'init class object: {list(cls.__dict__.keys())}')\n",
    "        \n",
    "class Eggs:\n",
    "    pass\n",
    "\n",
    "class Spam(Eggs, metaclass=MetaObj()):\n",
    "    data = 1\n",
    "    def meth(self, arg):\n",
    "        return self.data + arg\n",
    "    \n",
    "X = Spam()"
   ],
   "id": "f32a5b51b34c63a",
   "execution_count": 65,
   "outputs": []
  },
  {
   "metadata": {
    "ExecuteTime": {
     "end_time": "2024-07-07T09:35:07.462267Z",
     "start_time": "2024-07-07T09:35:07.458813Z"
    }
   },
   "cell_type": "code",
   "source": [
    "class SuperMetaObj:\n",
    "    def __call__(self, name, bases, dct):\n",
    "        print('In SuperMetaObj.__call__:', f'{name=}', f'{bases=}', f'{dct=}', sep='\\n\\t')\n",
    "        Class = self.__New__(name, bases, dct)\n",
    "        self.__Init__(Class, name, bases, dct)\n",
    "        return Class\n",
    "    \n",
    "class MetaObj(SuperMetaObj):\n",
    "    def __New__(self, name, bases, dct):\n",
    "        # 不能是__new__, 不然会在实例创建时运行\n",
    "        print('In MetaObj.__New__:', f'{name=}', f'{bases=}', f'{dct=}', sep='\\n\\t')\n",
    "        return type(name, bases, dct)\n",
    "    \n",
    "    def __Init__(self, cls, name, bases, dct):\n",
    "        # 不能是__init__, 不然会在实例创建时运行\n",
    "        print('In MetaObj.__Init__:', f'{name=}', f'{bases=}', f'{dct=}', sep='\\n\\t')\n",
    "        print(f'init class object: {list(cls.__dict__.keys())}')\n",
    "        \n",
    "class Eggs:\n",
    "    pass\n",
    "\n",
    "class Spam(Eggs, metaclass=MetaObj()):\n",
    "    data = 1\n",
    "    def meth(self, arg):\n",
    "        return self.data + arg\n",
    "    \n",
    "X = Spam()"
   ],
   "id": "e7871051d40709a0",
   "execution_count": 67,
   "outputs": []
  },
  {
   "metadata": {},
   "cell_type": "markdown",
   "source": "### ⽤元类重载类创建调⽤",
   "id": "a52c940b57b49171"
  },
  {
   "metadata": {
    "ExecuteTime": {
     "end_time": "2024-07-07T09:36:41.807797Z",
     "start_time": "2024-07-07T09:36:41.800Z"
    }
   },
   "cell_type": "code",
   "source": [
    "class SuperMeta(type):\n",
    "    def __call__(meta, name, bases, dct):\n",
    "        print('In SuperMeta.__call__:', f'{name=}', f'{bases=}', f'{dct=}', sep='\\n\\t')\n",
    "        return type.__call__(meta, name, bases, dct)\n",
    "    \n",
    "    def __init__(cls, name, bases, dct):\n",
    "        print('In SuperMeta.__init__:', f'{name=}', f'{bases=}', f'{dct=}', sep='\\n\\t')\n",
    "        print(f'init class object: {list(cls.__dict__.keys())}')\n",
    "        \n",
    "class SubMeta(type, metaclass=SuperMeta):\n",
    "    def __new__(cls, name, bases, dct):\n",
    "        print('In SubMeta.__new__:', f'{name=}', f'{bases=}', f'{dct=}', sep='\\n\\t')\n",
    "        return type.__new__(cls, name, bases, dct)\n",
    "    \n",
    "    def __init__(cls, name, bases, dct):\n",
    "        print('In SubMeta.__init__:', f'{name=}', f'{bases=}', f'{dct=}', sep='\\n\\t')\n",
    "        print(f'init class object: {list(cls.__dict__.keys())}')\n",
    "        \n",
    "\n",
    "class Eggs:\n",
    "    pass\n",
    "\n",
    "class Spam(Eggs, metaclass=SubMeta):\n",
    "    data = 1\n",
    "    def meth(self, arg):\n",
    "        return self.data + arg\n",
    "    \n",
    "X = Spam()    "
   ],
   "id": "6973343d760bf8c1",
   "execution_count": 68,
   "outputs": []
  },
  {
   "metadata": {
    "ExecuteTime": {
     "end_time": "2024-07-07T09:38:09.074213Z",
     "start_time": "2024-07-07T09:38:09.052452Z"
    }
   },
   "cell_type": "code",
   "source": "Spam.__mro__",
   "id": "af4e165e53c6ceaa",
   "execution_count": 69,
   "outputs": []
  },
  {
   "metadata": {
    "ExecuteTime": {
     "end_time": "2024-07-07T09:38:21.609084Z",
     "start_time": "2024-07-07T09:38:21.603486Z"
    }
   },
   "cell_type": "code",
   "source": "SubMeta.__mro__",
   "id": "c048f5721da82e02",
   "execution_count": 70,
   "outputs": []
  },
  {
   "metadata": {},
   "cell_type": "markdown",
   "source": "## 继承与实例",
   "id": "962ab68ac92309f3"
  },
  {
   "metadata": {
    "ExecuteTime": {
     "end_time": "2024-07-07T09:46:45.779348Z",
     "start_time": "2024-07-07T09:46:45.772078Z"
    }
   },
   "cell_type": "code",
   "source": [
    "class MetaOne(type):\n",
    "    def __new__(cls, name, bases, dct):\n",
    "        print('In MetaOne.__new__:', f'{name=}', f'{bases=}', f'{dct=}', sep='\\n\\t')\n",
    "        return type.__new__(cls, name, bases, dct)\n",
    "\n",
    "    def toast(self):\n",
    "        print('Toasting')\n",
    "        \n",
    "class Super(metaclass=MetaOne):\n",
    "    def spam(self):\n",
    "        print('Spam')\n",
    "        \n",
    "class Sub(Super):\n",
    "    def eggs(self):\n",
    "        print('Eggs')\n",
    "        \n",
    "X = Sub()\n",
    "X.eggs(), X.spam()"
   ],
   "id": "c8ed9b49792a468d",
   "execution_count": 79,
   "outputs": []
  },
  {
   "metadata": {
    "ExecuteTime": {
     "end_time": "2024-07-07T09:50:55.402642Z",
     "start_time": "2024-07-07T09:50:55.397546Z"
    }
   },
   "cell_type": "code",
   "source": "Sub.eggs(X), Super.spam(X), Sub.spam(X)",
   "id": "2ebc1cb124be4d1f",
   "execution_count": 87,
   "outputs": []
  },
  {
   "metadata": {
    "ExecuteTime": {
     "end_time": "2024-07-07T09:47:14.130947Z",
     "start_time": "2024-07-07T09:47:14.124432Z"
    }
   },
   "cell_type": "code",
   "source": "Super.toast(), Sub.toast()",
   "id": "d7243877f881d5a0",
   "execution_count": 83,
   "outputs": []
  },
  {
   "metadata": {
    "ExecuteTime": {
     "end_time": "2024-07-07T09:47:44.416163Z",
     "start_time": "2024-07-07T09:47:44.406317Z"
    }
   },
   "cell_type": "code",
   "source": "Sub.toast(X)",
   "id": "b07f95dfa6d44161",
   "execution_count": 86,
   "outputs": []
  },
  {
   "metadata": {
    "ExecuteTime": {
     "end_time": "2024-07-07T09:52:01.731942Z",
     "start_time": "2024-07-07T09:52:01.729468Z"
    }
   },
   "cell_type": "code",
   "source": "Sub.toast",
   "id": "c0b5368d944b33a6",
   "execution_count": 89,
   "outputs": []
  },
  {
   "metadata": {
    "ExecuteTime": {
     "end_time": "2024-07-07T09:52:08.589349Z",
     "start_time": "2024-07-07T09:52:08.587179Z"
    }
   },
   "cell_type": "code",
   "source": "Sub.spam",
   "id": "e3ca21ae249bf7eb",
   "execution_count": 90,
   "outputs": []
  },
  {
   "metadata": {
    "ExecuteTime": {
     "end_time": "2024-07-07T09:52:40.324948Z",
     "start_time": "2024-07-07T09:52:40.322334Z"
    }
   },
   "cell_type": "code",
   "source": "X.spam",
   "id": "e38f2b8b1bf2fc07",
   "execution_count": 92,
   "outputs": []
  },
  {
   "metadata": {
    "ExecuteTime": {
     "end_time": "2024-07-07T09:55:49.004404Z",
     "start_time": "2024-07-07T09:55:49.001653Z"
    }
   },
   "cell_type": "code",
   "source": [
    "class A(type):\n",
    "    data = 1\n",
    "       \n",
    "class B(metaclass=A):\n",
    "    pass\n",
    "\n",
    "B.data, A.data"
   ],
   "id": "7da317d446e36cbd",
   "execution_count": 94,
   "outputs": []
  },
  {
   "metadata": {
    "ExecuteTime": {
     "end_time": "2024-07-07T09:55:59.895718Z",
     "start_time": "2024-07-07T09:55:59.884463Z"
    }
   },
   "cell_type": "code",
   "source": [
    "x = B()\n",
    "x.data"
   ],
   "id": "e5c7c95f96c6094c",
   "execution_count": 95,
   "outputs": []
  },
  {
   "metadata": {
    "ExecuteTime": {
     "end_time": "2024-07-07T09:56:26.460226Z",
     "start_time": "2024-07-07T09:56:26.457367Z"
    }
   },
   "cell_type": "code",
   "source": "'data' in B.__dict__",
   "id": "f792d5694f57f5cc",
   "execution_count": 97,
   "outputs": []
  },
  {
   "metadata": {
    "ExecuteTime": {
     "end_time": "2024-07-07T09:56:32.184653Z",
     "start_time": "2024-07-07T09:56:32.181248Z"
    }
   },
   "cell_type": "code",
   "source": "'data' in A.__dict__",
   "id": "55ce75d84a29ca34",
   "execution_count": 98,
   "outputs": []
  },
  {
   "metadata": {
    "ExecuteTime": {
     "end_time": "2024-07-07T09:57:04.381784Z",
     "start_time": "2024-07-07T09:57:04.379391Z"
    }
   },
   "cell_type": "code",
   "source": [
    "class A:\n",
    "    data = 1\n",
    "       \n",
    "class B(A):\n",
    "    pass\n",
    "\n",
    "B.data, A.data"
   ],
   "id": "1d3e8e83b39b7b0",
   "execution_count": 101,
   "outputs": []
  },
  {
   "metadata": {
    "ExecuteTime": {
     "end_time": "2024-07-07T09:57:05.358909Z",
     "start_time": "2024-07-07T09:57:05.356570Z"
    }
   },
   "cell_type": "code",
   "source": [
    "x = B()\n",
    "x.data"
   ],
   "id": "112507ec54b0d037",
   "execution_count": 102,
   "outputs": []
  },
  {
   "metadata": {
    "ExecuteTime": {
     "end_time": "2024-07-07T09:57:08.900032Z",
     "start_time": "2024-07-07T09:57:08.897521Z"
    }
   },
   "cell_type": "code",
   "source": "'data' in B.__dict__",
   "id": "1dd424a58d5262b5",
   "execution_count": 103,
   "outputs": []
  },
  {
   "metadata": {
    "ExecuteTime": {
     "end_time": "2024-07-07T09:57:12.410777Z",
     "start_time": "2024-07-07T09:57:12.405600Z"
    }
   },
   "cell_type": "code",
   "source": "'data' in A.__dict__",
   "id": "d709be0639b78786",
   "execution_count": 104,
   "outputs": []
  },
  {
   "metadata": {},
   "cell_type": "markdown",
   "source": "继承",
   "id": "2727d26b8203d5a8"
  },
  {
   "metadata": {
    "ExecuteTime": {
     "end_time": "2024-07-07T10:00:30.438604Z",
     "start_time": "2024-07-07T10:00:30.435811Z"
    }
   },
   "cell_type": "code",
   "source": [
    "class A(type):data = 'type'\n",
    "\n",
    "class B:data = 'class'\n",
    "    \n",
    "class C(B, metaclass=A): pass\n",
    "\n",
    "class D(metaclass=A): pass\n",
    "\n",
    "class E(D): pass\n",
    "\n",
    "A.data, B.data, C.data, D.data, E.data"
   ],
   "id": "d322835efc501d6c",
   "execution_count": 109,
   "outputs": []
  },
  {
   "metadata": {
    "ExecuteTime": {
     "end_time": "2024-07-07T10:11:19.605513Z",
     "start_time": "2024-07-07T10:11:19.603652Z"
    }
   },
   "cell_type": "code",
   "source": [
    "class M1(type): attr1 = 1\n",
    "class M2(M1): attr2 = 2\n",
    "class C1: attr3 = 3\n",
    "class C2(C1, metaclass=M2): attr4 = 4"
   ],
   "id": "ebb25fb68710be49",
   "execution_count": 4,
   "outputs": []
  },
  {
   "metadata": {
    "ExecuteTime": {
     "end_time": "2024-07-07T10:11:19.890139Z",
     "start_time": "2024-07-07T10:11:19.888170Z"
    }
   },
   "cell_type": "code",
   "source": "x = C2()",
   "id": "8a4362281dafa428",
   "execution_count": 5,
   "outputs": []
  },
  {
   "metadata": {
    "ExecuteTime": {
     "end_time": "2024-07-07T10:11:20.213347Z",
     "start_time": "2024-07-07T10:11:20.210857Z"
    }
   },
   "cell_type": "code",
   "source": "x.attr3, x.attr4",
   "id": "809bf5e098ad6178",
   "execution_count": 6,
   "outputs": []
  },
  {
   "metadata": {
    "ExecuteTime": {
     "end_time": "2024-07-07T10:11:20.724370Z",
     "start_time": "2024-07-07T10:11:20.538513Z"
    }
   },
   "cell_type": "code",
   "source": "x.attr1",
   "id": "edfe81cf97fc1678",
   "execution_count": 7,
   "outputs": []
  },
  {
   "metadata": {
    "ExecuteTime": {
     "end_time": "2024-07-07T10:11:21.041605Z",
     "start_time": "2024-07-07T10:11:21.039333Z"
    }
   },
   "cell_type": "code",
   "source": "C2.attr1, C2.attr2, C2.attr3, C2.attr4",
   "id": "c2c5066b98e89cab",
   "execution_count": 8,
   "outputs": []
  },
  {
   "metadata": {
    "ExecuteTime": {
     "end_time": "2024-07-07T10:11:21.487912Z",
     "start_time": "2024-07-07T10:11:21.485639Z"
    }
   },
   "cell_type": "code",
   "source": "M2.attr1, M2.attr2",
   "id": "1c0426abb86042ae",
   "execution_count": 9,
   "outputs": []
  },
  {
   "metadata": {
    "ExecuteTime": {
     "end_time": "2024-07-07T10:11:28.541461Z",
     "start_time": "2024-07-07T10:11:28.535489Z"
    }
   },
   "cell_type": "code",
   "source": "C2.__class__",
   "id": "d2955df310b55217",
   "execution_count": 10,
   "outputs": []
  },
  {
   "metadata": {
    "ExecuteTime": {
     "end_time": "2024-07-07T10:11:35.018243Z",
     "start_time": "2024-07-07T10:11:35.015791Z"
    }
   },
   "cell_type": "code",
   "source": "C2.__base__",
   "id": "9c7db3313bbcc2c7",
   "execution_count": 11,
   "outputs": []
  },
  {
   "metadata": {
    "ExecuteTime": {
     "end_time": "2024-07-07T10:11:40.559562Z",
     "start_time": "2024-07-07T10:11:40.555070Z"
    }
   },
   "cell_type": "code",
   "source": "C2.__mro__",
   "id": "1fa568b460bd21b3",
   "execution_count": 12,
   "outputs": []
  },
  {
   "metadata": {
    "ExecuteTime": {
     "end_time": "2024-07-07T10:11:57.577786Z",
     "start_time": "2024-07-07T10:11:57.574793Z"
    }
   },
   "cell_type": "code",
   "source": "C2.__class__.__mro__",
   "id": "fbb34c007e678a2e",
   "execution_count": 13,
   "outputs": []
  },
  {
   "metadata": {
    "ExecuteTime": {
     "end_time": "2024-07-07T10:12:46.906Z",
     "start_time": "2024-07-07T10:12:46.900992Z"
    }
   },
   "cell_type": "code",
   "source": "x.__class__",
   "id": "5751ddddc15f0f68",
   "execution_count": 14,
   "outputs": []
  },
  {
   "metadata": {
    "ExecuteTime": {
     "end_time": "2024-07-07T10:12:53.003483Z",
     "start_time": "2024-07-07T10:12:52.993756Z"
    }
   },
   "cell_type": "code",
   "source": "x.__class__.__mro__",
   "id": "5d7d1598829e22df",
   "execution_count": 15,
   "outputs": []
  },
  {
   "metadata": {},
   "cell_type": "markdown",
   "source": "## 内置操作特例",
   "id": "1fca78111af19029"
  },
  {
   "metadata": {
    "ExecuteTime": {
     "end_time": "2024-07-07T10:50:56.433862Z",
     "start_time": "2024-07-07T10:50:56.425355Z"
    }
   },
   "cell_type": "code",
   "source": [
    "class C:\n",
    "    attr = 1 \n",
    "    def __str__(self): return 'class'\n",
    "    "
   ],
   "id": "e95d9f9c01debafd",
   "execution_count": 16,
   "outputs": []
  },
  {
   "metadata": {
    "ExecuteTime": {
     "end_time": "2024-07-07T10:51:07.574066Z",
     "start_time": "2024-07-07T10:51:07.571534Z"
    }
   },
   "cell_type": "code",
   "source": [
    "x = C()\n",
    "x.__str__(), str(x)"
   ],
   "id": "fe5be2a98f52bac",
   "execution_count": 17,
   "outputs": []
  },
  {
   "metadata": {
    "ExecuteTime": {
     "end_time": "2024-07-07T10:51:30.823044Z",
     "start_time": "2024-07-07T10:51:30.820256Z"
    }
   },
   "cell_type": "code",
   "source": [
    "x.__str__ = lambda : 'instance'\n",
    "x.__str__(), str(x)"
   ],
   "id": "ad1cd4379d690bb5",
   "execution_count": 18,
   "outputs": []
  },
  {
   "metadata": {
    "ExecuteTime": {
     "end_time": "2024-07-07T10:53:45.685996Z",
     "start_time": "2024-07-07T10:53:45.682051Z"
    }
   },
   "cell_type": "code",
   "source": [
    "class D(type):\n",
    "    attr = 1 \n",
    "    def __str__(self): return 'D class'\n",
    "\n",
    "class C(D):\n",
    "    pass\n",
    "\n",
    "C.__str__(C), str(C)"
   ],
   "id": "32c8220d31f38fc0",
   "execution_count": 22,
   "outputs": []
  },
  {
   "metadata": {
    "ExecuteTime": {
     "end_time": "2024-07-07T10:53:46.254890Z",
     "start_time": "2024-07-07T10:53:46.252237Z"
    }
   },
   "cell_type": "code",
   "source": [
    "class D(type):\n",
    "    attr = 1 \n",
    "    def __str__(self): return 'D class'\n",
    "\n",
    "class C(D):\n",
    "    def __str__(self): return 'C class'\n",
    "\n",
    "C.__str__(C), str(C)"
   ],
   "id": "daa477bacfa27221",
   "execution_count": 23,
   "outputs": []
  },
  {
   "metadata": {
    "ExecuteTime": {
     "end_time": "2024-07-07T10:54:00.408321Z",
     "start_time": "2024-07-07T10:54:00.405188Z"
    }
   },
   "cell_type": "code",
   "source": [
    "class C(metaclass=D):\n",
    "    def __str__(self): return 'C class'\n",
    "\n",
    "C.__str__(C), str(C)"
   ],
   "id": "aac7ff8fc3bba5fb",
   "execution_count": 24,
   "outputs": []
  },
  {
   "metadata": {
    "ExecuteTime": {
     "end_time": "2024-07-07T10:54:22.245787Z",
     "start_time": "2024-07-07T10:54:22.243419Z"
    }
   },
   "cell_type": "code",
   "source": "C.__str__",
   "id": "24daacf5dc09062d",
   "execution_count": 26,
   "outputs": []
  },
  {
   "metadata": {},
   "cell_type": "markdown",
   "source": "元类⽅法可以被理解成⼀种隐式的类⽅法，它们具有有限的可见性",
   "id": "287480638731eefa"
  },
  {
   "metadata": {
    "ExecuteTime": {
     "end_time": "2024-07-07T10:59:04.419949Z",
     "start_time": "2024-07-07T10:59:04.414357Z"
    }
   },
   "cell_type": "code",
   "source": [
    "class A(type):\n",
    "    def a(cls):\n",
    "        cls.x = cls.y + cls.z\n",
    "        \n",
    "class B(metaclass=A):\n",
    "    y, z = 11, 22\n",
    "    @classmethod\n",
    "    def b(cls):\n",
    "        return cls.x\n",
    "    \n",
    "B.a()\n",
    "B.x"
   ],
   "id": "60c425d80cdfcf0f",
   "execution_count": 29,
   "outputs": []
  },
  {
   "metadata": {
    "ExecuteTime": {
     "end_time": "2024-07-07T10:59:23.917046Z",
     "start_time": "2024-07-07T10:59:23.914033Z"
    }
   },
   "cell_type": "code",
   "source": [
    "x = B()\n",
    "x.x, x.y, x.z"
   ],
   "id": "904da0a04f9619e8",
   "execution_count": 31,
   "outputs": []
  },
  {
   "metadata": {
    "ExecuteTime": {
     "end_time": "2024-07-07T10:59:53.592449Z",
     "start_time": "2024-07-07T10:59:53.590135Z"
    }
   },
   "cell_type": "code",
   "source": "x.b(), B.b()",
   "id": "bb9d3870651bdfbf",
   "execution_count": 35,
   "outputs": []
  },
  {
   "metadata": {
    "ExecuteTime": {
     "end_time": "2024-07-07T11:00:05.377580Z",
     "start_time": "2024-07-07T11:00:05.370703Z"
    }
   },
   "cell_type": "code",
   "source": "x.a()",
   "id": "ca9d3e0c0c082d92",
   "execution_count": 36,
   "outputs": []
  },
  {
   "metadata": {},
   "cell_type": "markdown",
   "source": "运算符重载",
   "id": "d29e3f0137c113e4"
  },
  {
   "metadata": {
    "ExecuteTime": {
     "end_time": "2024-07-07T11:04:30.646194Z",
     "start_time": "2024-07-07T11:04:30.634445Z"
    }
   },
   "cell_type": "code",
   "source": [
    "class C(type):\n",
    "    def __getitem__(cls, item):\n",
    "        return cls.data[item]\n",
    "    \n",
    "class B(metaclass=C):\n",
    "    data = [1, 2, 3]\n",
    "    \n",
    "B[1]\n",
    "i = B()\n",
    "i.data, B.data\n",
    "i[1]"
   ],
   "id": "900c52e361219df6",
   "execution_count": 40,
   "outputs": []
  },
  {
   "metadata": {
    "ExecuteTime": {
     "end_time": "2024-07-07T11:07:30.513739Z",
     "start_time": "2024-07-07T11:07:30.502018Z"
    }
   },
   "cell_type": "code",
   "source": [
    "# Extend manually - adding new methods to classes\n",
    "\n",
    "class Client1:\n",
    "    def __init__(self, value):\n",
    "        self.value = value\n",
    "    def spam(self):\n",
    "        return self.value * 2\n",
    "\n",
    "class Client2:\n",
    "    value = 'ni?'\n",
    "\n",
    "def eggsfunc(obj):\n",
    "    return obj.value * 4\n",
    "\n",
    "def hamfunc(obj, value):\n",
    "    return value + 'ham'\n",
    "\n",
    "Client1.eggs = eggsfunc\n",
    "Client1.ham  = hamfunc\n",
    "\n",
    "Client2.eggs = eggsfunc\n",
    "Client2.ham  = hamfunc\n",
    "\n",
    "X = Client1('Ni!')\n",
    "print(X.spam())\n",
    "print(X.eggs())\n",
    "print(X.ham('bacon'))\n",
    "\n",
    "Y = Client2()\n",
    "print(Y.eggs())\n",
    "print(Y.ham('bacon'))\n"
   ],
   "id": "ca04f51b836882f6",
   "execution_count": 41,
   "outputs": []
  },
  {
   "metadata": {
    "ExecuteTime": {
     "end_time": "2024-07-07T11:08:06.625789Z",
     "start_time": "2024-07-07T11:08:06.623281Z"
    }
   },
   "cell_type": "code",
   "source": "id(Client1.eggs), id(Client2.eggs)",
   "id": "ec3d0e71b9f601f6",
   "execution_count": 44,
   "outputs": []
  },
  {
   "metadata": {
    "ExecuteTime": {
     "end_time": "2024-07-07T11:08:18.668101Z",
     "start_time": "2024-07-07T11:08:18.664381Z"
    }
   },
   "cell_type": "code",
   "source": "Client1.eggs is Client2.eggs",
   "id": "de31d24319b726db",
   "execution_count": 45,
   "outputs": []
  },
  {
   "metadata": {},
   "cell_type": "markdown",
   "source": "基于元类的扩展",
   "id": "cff503a353fdb7ad"
  },
  {
   "metadata": {
    "ExecuteTime": {
     "end_time": "2024-07-07T13:05:37.506444Z",
     "start_time": "2024-07-07T13:05:37.503363Z"
    }
   },
   "cell_type": "code",
   "source": [
    "class MetaExtend(type):\n",
    "    def __new__(cls, name, bases, dct):\n",
    "       dct['eggs'] = eggsfunc\n",
    "       return type.__new__(cls, name, bases, dct)\n",
    "class Client1(metaclass=MetaExtend):\n",
    "    def __init__(self, value):\n",
    "        self.value = value\n",
    "    def spam(self):\n",
    "        return self.value * 2\n",
    "\n",
    "x = Client1(2)\n",
    "x.eggs()"
   ],
   "id": "5786ee621e0e081d",
   "execution_count": 54,
   "outputs": []
  },
  {
   "metadata": {},
   "cell_type": "markdown",
   "source": "装饰器",
   "id": "2bb34d8f1041e92"
  },
  {
   "metadata": {
    "ExecuteTime": {
     "end_time": "2024-07-07T13:12:25.580815Z",
     "start_time": "2024-07-07T13:12:25.570284Z"
    }
   },
   "cell_type": "code",
   "source": [
    "def Tracer(name, bases, dct):\n",
    "    cls = type(name, bases, dct)\n",
    "    class Wrapper:\n",
    "        def __init__(self, *args, **kwargs):\n",
    "            self.wrapped = cls(*args, **kwargs)\n",
    "        def __getattr__(self, attr):\n",
    "            print('Trace:', attr)\n",
    "            return getattr(self.wrapped, attr)\n",
    "        def __str__(self):\n",
    "            return str(self.wrapped)\n",
    "    return Wrapper\n",
    "\n",
    "class Person(metaclass=Tracer):\n",
    "    def __init__(self, name, job, pay):\n",
    "        self.name = name\n",
    "        self.job = job\n",
    "        self.pay = pay\n",
    "        \n",
    "    def giveRaise(self, percent):\n",
    "        self.pay = int(self.pay * (1 + percent))\n",
    "        \n",
    "    def __str__(self):\n",
    "        return f'Name: {self.name} Job: {self.job} Pay: {self.pay}'\n",
    "        \n",
    "bob = Person('Bob Smith', 'dev', 40000)\n",
    "bob.giveRaise(.10)\n",
    "print(bob.name, bob.job, bob.pay)\n",
    "print(bob)"
   ],
   "id": "35d8c1a174246925",
   "execution_count": 59,
   "outputs": []
  },
  {
   "metadata": {
    "ExecuteTime": {
     "end_time": "2024-07-07T13:16:33.940072Z",
     "start_time": "2024-07-07T13:16:33.937441Z"
    }
   },
   "cell_type": "code",
   "source": [
    "def func(name, bases, dct):\n",
    "    return 'func'\n",
    "\n",
    "class A(metaclass=func):\n",
    "    attr = 'A'\n",
    "    \n",
    "A, type(A), A.upper()"
   ],
   "id": "642234e6e7d40815",
   "execution_count": 64,
   "outputs": []
  },
  {
   "metadata": {
    "ExecuteTime": {
     "end_time": "2024-07-07T13:17:00.363669Z",
     "start_time": "2024-07-07T13:17:00.356856Z"
    }
   },
   "cell_type": "code",
   "source": [
    "a = A()\n",
    "a.attr"
   ],
   "id": "af0be21e404fcff0",
   "execution_count": 67,
   "outputs": []
  },
  {
   "metadata": {
    "ExecuteTime": {
     "end_time": "2024-07-07T13:17:02.070068Z",
     "start_time": "2024-07-07T13:17:02.061659Z"
    }
   },
   "cell_type": "code",
   "source": "a.upper",
   "id": "16abbceabb9f6558",
   "execution_count": 68,
   "outputs": []
  },
  {
   "metadata": {},
   "cell_type": "markdown",
   "source": "# ⽤装饰器⼿动跟踪",
   "id": "6e527e18771d9d71"
  },
  {
   "metadata": {
    "ExecuteTime": {
     "end_time": "2024-07-07T13:22:35.731539Z",
     "start_time": "2024-07-07T13:22:35.724813Z"
    }
   },
   "cell_type": "code",
   "source": [
    "import time\n",
    "def tracer(func):\n",
    "    calls = 0\n",
    "    def wrapper(*args, **kwargs):\n",
    "        nonlocal calls\n",
    "        calls += 1\n",
    "        print(f'Call {calls} of {func.__name__}')\n",
    "        return func(*args, **kwargs)\n",
    "    return wrapper\n",
    "\n",
    "def timer(label = ':', trace = True):\n",
    "    def onDecorator(func):\n",
    "        def onCall(*args, **kwargs):\n",
    "            start = time.time()\n",
    "            result = func(*args, **kwargs)\n",
    "            elapsed = time.time() - start\n",
    "            onCall.alltime += elapsed\n",
    "            msg = f'{label} {func.__name__} {elapsed:0.4f} secs'\n",
    "            if trace:\n",
    "                print(msg)\n",
    "            return result\n",
    "        onCall.alltime = 0\n",
    "        return onCall\n",
    "    return onDecorator\n",
    "\n",
    "class Person(metaclass=Tracer):\n",
    "    def __init__(self, name, job, pay):\n",
    "        self.name = name\n",
    "        self.job = job\n",
    "        self.pay = pay\n",
    "    @tracer    \n",
    "    def giveRaise(self, percent):\n",
    "        self.pay = int(self.pay * (1 + percent))\n",
    "    @tracer    \n",
    "    def __str__(self):\n",
    "        return f'Name: {self.name} Job: {self.job} Pay: {self.pay}'\n",
    "        \n",
    "bob = Person('Bob Smith', 'dev', 40000)\n",
    "bob.giveRaise(.10)\n",
    "print(bob.name, bob.job, bob.pay)\n",
    "print(bob)\n",
    "print(bob)"
   ],
   "id": "1e6d8b5b707fd476",
   "execution_count": 72,
   "outputs": []
  },
  {
   "metadata": {},
   "cell_type": "markdown",
   "source": "⽤元类和装饰器跟踪",
   "id": "7e69da61c3818183"
  },
  {
   "metadata": {
    "ExecuteTime": {
     "end_time": "2024-07-07T13:27:13.516662Z",
     "start_time": "2024-07-07T13:27:13.510913Z"
    }
   },
   "cell_type": "code",
   "source": [
    "from types import FunctionType\n",
    "\n",
    "def tracer(func):\n",
    "    calls = 0\n",
    "    def wrapper(*args, **kwargs):\n",
    "        nonlocal calls\n",
    "        calls += 1\n",
    "        print(f'Call {calls} of {func.__name__}')\n",
    "        return func(*args, **kwargs)\n",
    "    return wrapper\n",
    "\n",
    "class MetaTracer(type):\n",
    "    def __new__(cls, name, bases, dct):\n",
    "        for key, value in dct.items():\n",
    "            if type(value) is FunctionType:\n",
    "                dct[key] = tracer(value)\n",
    "        return type.__new__(cls, name, bases, dct)\n",
    "    \n",
    "class Person(metaclass=MetaTracer):\n",
    "    def __init__(self, name, job, pay):\n",
    "        self.name = name\n",
    "        self.job = job\n",
    "        self.pay = pay\n",
    "        \n",
    "    def giveRaise(self, percent):\n",
    "        self.pay = int(self.pay * (1 + percent))\n",
    "        \n",
    "    def __str__(self):\n",
    "        return f'Name: {self.name} Job: {self.job} Pay: {self.pay}'\n",
    "        \n",
    "bob = Person('Bob Smith', 'dev', 40000)\n",
    "bob.giveRaise(.10)\n",
    "print(bob.name, bob.job, bob.pay)\n",
    "print(bob)"
   ],
   "id": "f422db38edd2bfbf",
   "execution_count": 80,
   "outputs": []
  },
  {
   "metadata": {},
   "cell_type": "markdown",
   "source": "把任何装饰器应⽤于⽅法",
   "id": "5c0bfeb089b0eb12"
  },
  {
   "metadata": {
    "ExecuteTime": {
     "end_time": "2024-07-07T13:38:04.012114Z",
     "start_time": "2024-07-07T13:38:03.987579Z"
    }
   },
   "cell_type": "code",
   "source": [
    "from types import FunctionType\n",
    "import time\n",
    "\n",
    "def tracer(func):\n",
    "    calls = 0\n",
    "    def wrapper(*args, **kwargs):\n",
    "        nonlocal calls\n",
    "        calls += 1\n",
    "        print(f'Call {calls} of {func.__name__}')\n",
    "        return func(*args, **kwargs)\n",
    "    return wrapper\n",
    "\n",
    "def timer(label = ':', trace = True):\n",
    "    def onDecorator(func):\n",
    "        def onCall(*args, **kwargs):\n",
    "            start = time.time()\n",
    "            result = func(*args, **kwargs)\n",
    "            elapsed = time.time() - start\n",
    "            onCall.alltime += elapsed\n",
    "            msg = f'{func.__name__} {label} {elapsed:0.4f} secs'\n",
    "            if trace:\n",
    "                print(msg)\n",
    "            return result\n",
    "        onCall.alltime = 0\n",
    "        return onCall\n",
    "    return onDecorator\n",
    "\n",
    "def decorateAll(decorator):\n",
    "    # 选择不同的装饰器\n",
    "    class MetaDecorate(type):\n",
    "        def __new__(cls, name, bases, dct):\n",
    "            for key, value in dct.items():\n",
    "                if type(value) is FunctionType:\n",
    "                    # 对函数应用装饰器\n",
    "                    dct[key] = decorator(value)\n",
    "            return type.__new__(cls, name, bases, dct)\n",
    "    return MetaDecorate\n",
    "\n",
    "\n",
    "# class Person(metaclass=decorateAll(tracer)):\n",
    "class Person(metaclass=decorateAll(timer())):\n",
    "    def __init__(self, name, job, pay):\n",
    "        self.name = name\n",
    "        self.job = job\n",
    "        self.pay = pay\n",
    "        \n",
    "    def giveRaise(self, percent):\n",
    "        self.pay = int(self.pay * (1 + percent))\n",
    "        \n",
    "    def __str__(self):\n",
    "        return f'Name: {self.name} Job: {self.job} Pay: {self.pay}'\n",
    "        \n",
    "bob = Person('Bob Smith', 'dev', 40000)\n",
    "bob.giveRaise(.10)\n",
    "print(bob.name, bob.job, bob.pay)\n",
    "print(bob)\n",
    "print(bob.giveRaise.alltime)"
   ],
   "id": "344da817684fc4b",
   "execution_count": null,
   "outputs": []
  },
  {
   "metadata": {
    "ExecuteTime": {
     "end_time": "2024-07-07T13:41:31.551826Z",
     "start_time": "2024-07-07T13:41:31.549473Z"
    }
   },
   "cell_type": "code",
   "source": "vars(bob), bob.__dict__",
   "id": "e5caf86daec5b522",
   "execution_count": 91,
   "outputs": []
  },
  {
   "metadata": {},
   "cell_type": "markdown",
   "source": "装饰器",
   "id": "86c8db7bc512e6b3"
  },
  {
   "metadata": {
    "ExecuteTime": {
     "end_time": "2024-07-07T13:43:42.819791Z",
     "start_time": "2024-07-07T13:43:42.815901Z"
    }
   },
   "cell_type": "code",
   "source": [
    "def decorateAll(decorator):\n",
    "    def onDecorator(cls):\n",
    "        for key, value in vars(cls).items():\n",
    "            if type(value) is FunctionType:\n",
    "                setattr(cls, key, decorator(value))\n",
    "        return cls\n",
    "    return onDecorator\n",
    "\n",
    "\n",
    "@decorateAll(tracer)\n",
    "class Person:\n",
    "    def __init__(self, name, job, pay):\n",
    "        self.name = name\n",
    "        self.job = job\n",
    "        self.pay = pay\n",
    "        \n",
    "    def giveRaise(self, percent):\n",
    "        self.pay = int(self.pay * (1 + percent))\n",
    "        \n",
    "    def __str__(self):\n",
    "        return f'Name: {self.name} Job: {self.job} Pay: {self.pay}'\n",
    "        \n",
    "bob = Person('Bob Smith', 'dev', 40000)\n",
    "bob.giveRaise(.10)\n",
    "print(bob.name, bob.job, bob.pay)\n",
    "print(bob)\n",
    "print(bob)"
   ],
   "id": "c1abb1b760c57215",
   "execution_count": 94,
   "outputs": []
  },
  {
   "metadata": {
    "ExecuteTime": {
     "end_time": "2024-07-07T13:54:14.125473Z",
     "start_time": "2024-07-07T13:54:14.115024Z"
    }
   },
   "cell_type": "code",
   "source": "import this",
   "id": "8dc6d3c160beb60e",
   "execution_count": 95,
   "outputs": []
  },
  {
   "metadata": {
    "ExecuteTime": {
     "end_time": "2024-07-07T13:58:27.697394Z",
     "start_time": "2024-07-07T13:58:21.255325Z"
    }
   },
   "cell_type": "code",
   "source": [
    "#!/usr/bin/python\n",
    "\"\"\"\n",
    "File certificate.py: a Python 2.X and 3.X script.\n",
    "Generate a bare-bones class completion certificate: printed,\n",
    "and saved in text and html files displayed in a web browser. \n",
    "\"\"\"\n",
    "import time, sys, webbrowser\n",
    "\n",
    "import html\n",
    "htmlescape = html.escape\n",
    "    \n",
    "maxline  = 60                         # For seperator lines\n",
    "browser  = True                       # Display in a browser\n",
    "saveto   = 'Certificate.txt'          # Output file names\n",
    "template = \"\"\"\n",
    "%s\n",
    "\n",
    " ===> Official Certificate <===\n",
    "\n",
    "Date: %s\n",
    "\n",
    "This certifies that:\n",
    "\n",
    "\\t%s\n",
    "\n",
    "has survived the massive tome:\n",
    "\n",
    "\\t%s\n",
    "\n",
    "and is now entitled to all privileges thereof, including\n",
    "the right to proceed on to learning how to develop Web\n",
    "sites, desktop GUIs, scientific models, and assorted Apps,\n",
    "with the possible assistance of follow-up applications\n",
    "books such as Programming Python (shameless plug intended).\n",
    "\n",
    "--Mark Lutz, Instructor\n",
    "\n",
    "(Note: certificate void where obtained by skipping ahead.)\n",
    "\n",
    "%s\n",
    "\"\"\"\n",
    "\n",
    "# Interact, setup\n",
    "for c in 'Congratulations!'.upper():\n",
    "    print(c, end=' ')\n",
    "    sys.stdout.flush()    # Else some shells wait for \\n\n",
    "    time.sleep(0.25)\n",
    "print()\n",
    "\n",
    "date = time.asctime()\n",
    "name = input('Enter your name: ').strip() or 'An unknown reader'\n",
    "sept = '*' * maxline\n",
    "book = 'Learning Python 5th Edition'\n",
    "\n",
    "# Make text file version\n",
    "file = open(saveto, 'w') \n",
    "text = template % (sept, date, name, book, sept)\n",
    "print(text, file=file)\n",
    "file.close()\n",
    "\n",
    "# Make html file version\n",
    "htmlto = saveto.replace('.txt', '.html')\n",
    "file = open(htmlto, 'w')\n",
    "\n",
    "tags = text.replace(sept,   '<hr>')                   # Insert a few tags\n",
    "tags = tags.replace('===>', '<h1 align=center>')\n",
    "tags = tags.replace('<===', '</h1>')\n",
    "\n",
    "tags = tags.split('\\n')                               # Line-by-line mods\n",
    "tags = ['<p>' if line == ''\n",
    "            else line for line in tags]\n",
    "tags = ['<i>%s</i>' % htmlescape(line) if line[:1] == '\\t'\n",
    "            else line for line in tags]\n",
    "tags = '\\n'.join(tags)\n",
    "\n",
    "link = '<i><a href=\"http://www.rmi.net/~lutz\">Book support site</a></i>\\n'\n",
    "foot = '<table>\\n<td><img src=\"ora-lp.jpg\" hspace=5>\\n<td>%s</table>\\n' % link\n",
    "tags = '<html><body bgcolor=beige>' + tags + foot + '</body></html>'\n",
    "\n",
    "print(tags, file=file)\n",
    "file.close()\n",
    "\n",
    "# Display results\n",
    "print('[File: %s]' % saveto, end='')\n",
    "print('\\n' * 2, open(saveto).read())\n",
    "\n",
    "if browser:\n",
    "    webbrowser.open(saveto, new=True)\n",
    "    webbrowser.open(htmlto, new=False)\n",
    "\n",
    "if sys.platform.startswith('win'):\n",
    "    input('[Press Enter]')  # Keep window open if clicked on Windows\n"
   ],
   "id": "62bc361a36d25181",
   "execution_count": 97,
   "outputs": []
  }
 ],
 "metadata": {
  "kernelspec": {
   "display_name": "Python 3",
   "language": "python",
   "name": "python3"
  },
  "language_info": {
   "codemirror_mode": {
    "name": "ipython",
    "version": 2
   },
   "file_extension": ".py",
   "mimetype": "text/x-python",
   "name": "python",
   "nbconvert_exporter": "python",
   "pygments_lexer": "ipython2",
   "version": "2.7.6"
  }
 },
 "nbformat": 4,
 "nbformat_minor": 5
}
