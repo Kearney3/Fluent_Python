{
 "cells": [
  {
   "cell_type": "code",
   "id": "initial_id",
   "metadata": {
    "collapsed": true,
    "ExecuteTime": {
     "end_time": "2024-06-19T13:14:35.379223Z",
     "start_time": "2024-06-19T13:14:35.376644Z"
    }
   },
   "source": "10**2",
   "outputs": [
    {
     "data": {
      "text/plain": [
       "100"
      ]
     },
     "execution_count": 16,
     "metadata": {},
     "output_type": "execute_result"
    }
   ],
   "execution_count": 16
  },
  {
   "metadata": {
    "ExecuteTime": {
     "end_time": "2024-06-19T13:35:43.017341Z",
     "start_time": "2024-06-19T13:35:43.014490Z"
    }
   },
   "cell_type": "code",
   "source": [
    "print(f'{0b1001 ^ 0b1101:b}') # XOR\n",
    "print(f'{0b1001 & 0b1101:b}') # AND\n",
    "print(f'{0b1001 | 0b1101:b}') # OR\n",
    "print(f'{~0b1101:b}') # NOT\n",
    "print('-'*10)\n",
    "print(f'{0x1F ^ 0x11:b}')\n",
    "print(f'{bin(0x1F)}')\n",
    "print(f'{bin(0x11)}')"
   ],
   "id": "2f0864f86076c39a",
   "outputs": [
    {
     "name": "stdout",
     "output_type": "stream",
     "text": [
      "100\n",
      "1001\n",
      "1101\n",
      "-1110\n",
      "----------\n",
      "1110\n",
      "0b11111\n",
      "0b10001\n"
     ]
    }
   ],
   "execution_count": 51
  },
  {
   "metadata": {
    "ExecuteTime": {
     "end_time": "2024-06-19T13:12:53.970065Z",
     "start_time": "2024-06-19T13:12:53.957452Z"
    }
   },
   "cell_type": "code",
   "source": [
    "print(f'{0b1001 << 2:b}') # left shift\n",
    "print(f'{0b1001 >> 2:b}') # right shift"
   ],
   "id": "13ec8eed5f21d987",
   "outputs": [
    {
     "name": "stdout",
     "output_type": "stream",
     "text": [
      "100100\n",
      "10\n"
     ]
    }
   ],
   "execution_count": 10
  },
  {
   "metadata": {
    "ExecuteTime": {
     "end_time": "2024-06-19T13:13:50.646638Z",
     "start_time": "2024-06-19T13:13:50.643717Z"
    }
   },
   "cell_type": "code",
   "source": [
    "print(f'{20//7}')\n",
    "print(f'{20/7}')\n",
    "print(f'{20%7}')"
   ],
   "id": "9127ea68f94410b7",
   "outputs": [
    {
     "name": "stdout",
     "output_type": "stream",
     "text": [
      "2\n",
      "2.857142857142857\n",
      "6\n"
     ]
    }
   ],
   "execution_count": 13
  },
  {
   "metadata": {
    "ExecuteTime": {
     "end_time": "2024-06-19T13:20:18.434947Z",
     "start_time": "2024-06-19T13:20:18.429435Z"
    }
   },
   "cell_type": "code",
   "source": [
    "s = '1 2\\t 3\\n 4'\n",
    "print(s)\n",
    "print('Now use repr()')\n",
    "repr(s)"
   ],
   "id": "8160c25a92b4eefb",
   "outputs": [
    {
     "name": "stdout",
     "output_type": "stream",
     "text": [
      "1 2\t 3\n",
      " 4\n",
      "Now use repr()\n"
     ]
    },
    {
     "data": {
      "text/plain": [
       "\"'1 2\\\\t 3\\\\n 4'\""
      ]
     },
     "execution_count": 21,
     "metadata": {},
     "output_type": "execute_result"
    }
   ],
   "execution_count": 21
  },
  {
   "metadata": {
    "ExecuteTime": {
     "end_time": "2024-06-19T13:21:11.935858Z",
     "start_time": "2024-06-19T13:21:11.931436Z"
    }
   },
   "cell_type": "code",
   "source": "u = str(b'Hello', 'utf-8')",
   "id": "42107463067cd20e",
   "outputs": [
    {
     "data": {
      "text/plain": [
       "'Hello'"
      ]
     },
     "execution_count": 24,
     "metadata": {},
     "output_type": "execute_result"
    }
   ],
   "execution_count": 24
  },
  {
   "metadata": {
    "ExecuteTime": {
     "end_time": "2024-06-19T13:21:43.639410Z",
     "start_time": "2024-06-19T13:21:43.627149Z"
    }
   },
   "cell_type": "code",
   "source": "1<2<3 # 1<2 and 2<3",
   "id": "f2ca46852f18ef95",
   "outputs": [
    {
     "data": {
      "text/plain": [
       "True"
      ]
     },
     "execution_count": 25,
     "metadata": {},
     "output_type": "execute_result"
    }
   ],
   "execution_count": 25
  },
  {
   "metadata": {
    "ExecuteTime": {
     "end_time": "2024-06-19T13:21:59.779917Z",
     "start_time": "2024-06-19T13:21:59.777326Z"
    }
   },
   "cell_type": "code",
   "source": "1<2>3 # 1<2 and 2>3",
   "id": "f0173b80ccda67e0",
   "outputs": [
    {
     "data": {
      "text/plain": [
       "False"
      ]
     },
     "execution_count": 26,
     "metadata": {},
     "output_type": "execute_result"
    }
   ],
   "execution_count": 26
  },
  {
   "metadata": {
    "ExecuteTime": {
     "end_time": "2024-06-19T13:22:08.418860Z",
     "start_time": "2024-06-19T13:22:08.414632Z"
    }
   },
   "cell_type": "code",
   "source": "1==2<3 # 1==2 and 2<3",
   "id": "6705ad32d37dfc10",
   "outputs": [
    {
     "data": {
      "text/plain": [
       "False"
      ]
     },
     "execution_count": 27,
     "metadata": {},
     "output_type": "execute_result"
    }
   ],
   "execution_count": 27
  },
  {
   "metadata": {
    "ExecuteTime": {
     "end_time": "2024-06-19T13:23:00.742068Z",
     "start_time": "2024-06-19T13:23:00.738749Z"
    }
   },
   "cell_type": "code",
   "source": "1.1 + 2.2 == 3.3",
   "id": "c205067acf0ca56f",
   "outputs": [
    {
     "data": {
      "text/plain": [
       "False"
      ]
     },
     "execution_count": 29,
     "metadata": {},
     "output_type": "execute_result"
    }
   ],
   "execution_count": 29
  },
  {
   "metadata": {
    "ExecuteTime": {
     "end_time": "2024-06-19T13:23:58.693609Z",
     "start_time": "2024-06-19T13:23:58.687705Z"
    }
   },
   "cell_type": "code",
   "source": "abs(1.1 + 2.2 - 3.3) < 1e-10",
   "id": "f8cd7e57fbc1792e",
   "outputs": [
    {
     "data": {
      "text/plain": [
       "True"
      ]
     },
     "execution_count": 30,
     "metadata": {},
     "output_type": "execute_result"
    }
   ],
   "execution_count": 30
  },
  {
   "metadata": {
    "ExecuteTime": {
     "end_time": "2024-06-19T13:25:55.118689Z",
     "start_time": "2024-06-19T13:25:55.112648Z"
    }
   },
   "cell_type": "code",
   "source": [
    "import math\n",
    "math.isclose(1.1 + 2.2, 3.3)"
   ],
   "id": "2e2d9bfa93e21add",
   "outputs": [
    {
     "data": {
      "text/plain": [
       "True"
      ]
     },
     "execution_count": 31,
     "metadata": {},
     "output_type": "execute_result"
    }
   ],
   "execution_count": 31
  },
  {
   "metadata": {
    "ExecuteTime": {
     "end_time": "2024-06-19T13:27:12.026374Z",
     "start_time": "2024-06-19T13:27:12.024298Z"
    }
   },
   "cell_type": "code",
   "source": [
    "print(math.floor(2.5))\n",
    "print(math.floor(-2.5))"
   ],
   "id": "2372842ee5f3687c",
   "outputs": [
    {
     "name": "stdout",
     "output_type": "stream",
     "text": [
      "2\n",
      "-3\n"
     ]
    }
   ],
   "execution_count": 38
  },
  {
   "metadata": {
    "ExecuteTime": {
     "end_time": "2024-06-19T13:27:17.625069Z",
     "start_time": "2024-06-19T13:27:17.622393Z"
    }
   },
   "cell_type": "code",
   "source": [
    "print(math.ceil(2.5))\n",
    "print(math.ceil(-2.5))"
   ],
   "id": "5565155e31b0e159",
   "outputs": [
    {
     "name": "stdout",
     "output_type": "stream",
     "text": [
      "3\n",
      "-2\n"
     ]
    }
   ],
   "execution_count": 39
  },
  {
   "metadata": {
    "ExecuteTime": {
     "end_time": "2024-06-19T13:27:26.374532Z",
     "start_time": "2024-06-19T13:27:26.370690Z"
    }
   },
   "cell_type": "code",
   "source": [
    "print(math.trunc(2.5)) # truncate\n",
    "print(math.trunc(-2.5))"
   ],
   "id": "df45aad13a7e49aa",
   "outputs": [
    {
     "name": "stdout",
     "output_type": "stream",
     "text": [
      "2\n",
      "-2\n"
     ]
    }
   ],
   "execution_count": 40
  },
  {
   "metadata": {
    "ExecuteTime": {
     "end_time": "2024-06-19T13:29:29.248152Z",
     "start_time": "2024-06-19T13:29:29.245279Z"
    }
   },
   "cell_type": "code",
   "source": [
    "print(round(2.5))\n",
    "print(round(2.6))\n",
    "print(round(2.4))"
   ],
   "id": "923c5902f364e90f",
   "outputs": [
    {
     "name": "stdout",
     "output_type": "stream",
     "text": [
      "2\n",
      "3\n",
      "2\n"
     ]
    }
   ],
   "execution_count": 44
  },
  {
   "metadata": {
    "ExecuteTime": {
     "end_time": "2024-06-19T13:32:16.794498Z",
     "start_time": "2024-06-19T13:32:16.784660Z"
    }
   },
   "cell_type": "code",
   "source": "hex(255)",
   "id": "299b301129af4b5c",
   "outputs": [
    {
     "data": {
      "text/plain": [
       "'0xff'"
      ]
     },
     "execution_count": 45,
     "metadata": {},
     "output_type": "execute_result"
    }
   ],
   "execution_count": 45
  },
  {
   "metadata": {
    "ExecuteTime": {
     "end_time": "2024-06-19T13:33:12.817278Z",
     "start_time": "2024-06-19T13:33:12.812283Z"
    }
   },
   "cell_type": "code",
   "source": "eval('0xff')",
   "id": "49e48891f0034d03",
   "outputs": [
    {
     "data": {
      "text/plain": [
       "255"
      ]
     },
     "execution_count": 46,
     "metadata": {},
     "output_type": "execute_result"
    }
   ],
   "execution_count": 46
  },
  {
   "metadata": {
    "ExecuteTime": {
     "end_time": "2024-06-19T13:37:17.169600Z",
     "start_time": "2024-06-19T13:37:17.166764Z"
    }
   },
   "cell_type": "code",
   "source": [
    "x = 0xff\n",
    "print(x)\n",
    "print(x.bit_length())\n",
    "print(len(bin(x))) # 多了个0b"
   ],
   "id": "9dcf7bb72d5ec8ae",
   "outputs": [
    {
     "name": "stdout",
     "output_type": "stream",
     "text": [
      "255\n",
      "8\n",
      "10\n"
     ]
    }
   ],
   "execution_count": 56
  },
  {
   "metadata": {
    "ExecuteTime": {
     "end_time": "2024-06-19T13:38:01.017904Z",
     "start_time": "2024-06-19T13:38:01.012813Z"
    }
   },
   "cell_type": "code",
   "source": "max(1, 2, 3)",
   "id": "b177172bdb0f6511",
   "outputs": [
    {
     "data": {
      "text/plain": [
       "3"
      ]
     },
     "execution_count": 57,
     "metadata": {},
     "output_type": "execute_result"
    }
   ],
   "execution_count": 57
  },
  {
   "metadata": {
    "ExecuteTime": {
     "end_time": "2024-06-19T13:38:39.316075Z",
     "start_time": "2024-06-19T13:38:39.313781Z"
    }
   },
   "cell_type": "code",
   "source": [
    "import random\n",
    "random.random()"
   ],
   "id": "3e36c3df252c6475",
   "outputs": [
    {
     "data": {
      "text/plain": [
       "0.8314905736740545"
      ]
     },
     "execution_count": 59,
     "metadata": {},
     "output_type": "execute_result"
    }
   ],
   "execution_count": 59
  },
  {
   "metadata": {
    "ExecuteTime": {
     "end_time": "2024-06-19T13:39:08.558105Z",
     "start_time": "2024-06-19T13:39:08.556052Z"
    }
   },
   "cell_type": "code",
   "source": "random.randint(1, 10) # 包括10",
   "id": "5c0570556a05ed3d",
   "outputs": [
    {
     "data": {
      "text/plain": [
       "1"
      ]
     },
     "execution_count": 64,
     "metadata": {},
     "output_type": "execute_result"
    }
   ],
   "execution_count": 64
  },
  {
   "metadata": {
    "ExecuteTime": {
     "end_time": "2024-06-19T13:39:30.026154Z",
     "start_time": "2024-06-19T13:39:30.021494Z"
    }
   },
   "cell_type": "code",
   "source": "random.choice(['a', 'b', 'c'])",
   "id": "6cdc61b1a142c13f",
   "outputs": [
    {
     "data": {
      "text/plain": [
       "'c'"
      ]
     },
     "execution_count": 65,
     "metadata": {},
     "output_type": "execute_result"
    }
   ],
   "execution_count": 65
  },
  {
   "metadata": {
    "ExecuteTime": {
     "end_time": "2024-06-19T13:40:00.616593Z",
     "start_time": "2024-06-19T13:40:00.612780Z"
    }
   },
   "cell_type": "code",
   "source": [
    "card = ['heart', 'spade', 'diamond', 'club']\n",
    "random.shuffle(card)\n",
    "print(card)"
   ],
   "id": "7b6b492bf7d1a1d7",
   "outputs": [
    {
     "name": "stdout",
     "output_type": "stream",
     "text": [
      "['club', 'heart', 'spade', 'diamond']\n"
     ]
    }
   ],
   "execution_count": 68
  },
  {
   "metadata": {
    "ExecuteTime": {
     "end_time": "2024-06-19T13:42:28.741708Z",
     "start_time": "2024-06-19T13:42:28.737195Z"
    }
   },
   "cell_type": "code",
   "source": [
    "import decimal\n",
    "decimal.Decimal(1.1)\n",
    "print((decimal.Decimal(1.1) + decimal.Decimal(2.2) - decimal.Decimal(3.3) == 0))\n",
    "print((decimal.Decimal(0.1) + decimal.Decimal(0.1) - decimal.Decimal(0.2) == 0))"
   ],
   "id": "73d9fe152cce4235",
   "outputs": [
    {
     "name": "stdout",
     "output_type": "stream",
     "text": [
      "False\n",
      "False\n"
     ]
    }
   ],
   "execution_count": 75
  },
  {
   "metadata": {
    "ExecuteTime": {
     "end_time": "2024-06-19T13:43:37.381011Z",
     "start_time": "2024-06-19T13:43:37.360897Z"
    }
   },
   "cell_type": "code",
   "source": [
    "# Adjust precision\n",
    "decimal.getcontext().prec = 10\n",
    "print(decimal.Decimal(1)/decimal.Decimal(7))\n",
    "decimal.getcontext().prec = 4\n",
    "print(decimal.Decimal(1)/decimal.Decimal(7))"
   ],
   "id": "263644602c1b6c77",
   "outputs": [
    {
     "name": "stdout",
     "output_type": "stream",
     "text": [
      "0.1428571429\n",
      "0.1429\n"
     ]
    }
   ],
   "execution_count": 78
  },
  {
   "metadata": {
    "ExecuteTime": {
     "end_time": "2024-06-19T13:44:50.769678Z",
     "start_time": "2024-06-19T13:44:50.763255Z"
    }
   },
   "cell_type": "code",
   "source": "print(decimal.Decimal(str(2000+1.333)))",
   "id": "ef9573d1c0632cbc",
   "outputs": [
    {
     "name": "stdout",
     "output_type": "stream",
     "text": [
      "2001.333\n"
     ]
    }
   ],
   "execution_count": 83
  },
  {
   "metadata": {
    "ExecuteTime": {
     "end_time": "2024-06-19T13:46:15.466695Z",
     "start_time": "2024-06-19T13:46:15.455760Z"
    }
   },
   "cell_type": "code",
   "source": [
    "import fractions\n",
    "\n",
    "print(fractions.Fraction(1, 3))\n",
    "print(fractions.Fraction(0.25))\n",
    "print(fractions.Fraction(0.25) + fractions.Fraction(1,6))"
   ],
   "id": "a1c782bfb8bcf1e",
   "outputs": [
    {
     "name": "stdout",
     "output_type": "stream",
     "text": [
      "1/3\n",
      "1/4\n",
      "5/12\n"
     ]
    }
   ],
   "execution_count": 88
  },
  {
   "metadata": {
    "ExecuteTime": {
     "end_time": "2024-06-19T13:47:46.280026Z",
     "start_time": "2024-06-19T13:47:46.266576Z"
    }
   },
   "cell_type": "code",
   "source": [
    "print((2.5).as_integer_ratio())\n",
    "z = fractions.Fraction(*(2.5).as_integer_ratio())\n",
    "repr(z)"
   ],
   "id": "2c3f81538995c934",
   "outputs": [
    {
     "name": "stdout",
     "output_type": "stream",
     "text": [
      "(5, 2)\n"
     ]
    },
    {
     "data": {
      "text/plain": [
       "'Fraction(5, 2)'"
      ]
     },
     "execution_count": 94,
     "metadata": {},
     "output_type": "execute_result"
    }
   ],
   "execution_count": 94
  },
  {
   "metadata": {
    "ExecuteTime": {
     "end_time": "2024-06-19T13:48:23.470132Z",
     "start_time": "2024-06-19T13:48:23.467976Z"
    }
   },
   "cell_type": "code",
   "source": [
    "print(4/3)\n",
    "print((4/3).as_integer_ratio()) # not exact"
   ],
   "id": "99c71255966d7fe0",
   "outputs": [
    {
     "name": "stdout",
     "output_type": "stream",
     "text": [
      "1.3333333333333333\n",
      "(6004799503160661, 4503599627370496)\n"
     ]
    }
   ],
   "execution_count": 96
  },
  {
   "metadata": {},
   "cell_type": "markdown",
   "source": "# Set",
   "id": "360a6235f3460de2"
  },
  {
   "metadata": {
    "ExecuteTime": {
     "end_time": "2024-06-19T13:49:14.952726Z",
     "start_time": "2024-06-19T13:49:14.947853Z"
    }
   },
   "cell_type": "code",
   "source": [
    "x = set('abracadabra')\n",
    "x"
   ],
   "id": "9544c1ca683e05",
   "outputs": [
    {
     "data": {
      "text/plain": [
       "{'a', 'b', 'c', 'd', 'r'}"
      ]
     },
     "execution_count": 97,
     "metadata": {},
     "output_type": "execute_result"
    }
   ],
   "execution_count": 97
  },
  {
   "metadata": {
    "ExecuteTime": {
     "end_time": "2024-06-19T13:50:55.727249Z",
     "start_time": "2024-06-19T13:50:55.723975Z"
    }
   },
   "cell_type": "code",
   "source": [
    "ran_num = [random.randint(1, 10) for _ in range(10)]\n",
    "ran_num"
   ],
   "id": "60ed89ab344080c7",
   "outputs": [
    {
     "data": {
      "text/plain": [
       "[3, 3, 4, 3, 10, 10, 2, 7, 2, 5]"
      ]
     },
     "execution_count": 102,
     "metadata": {},
     "output_type": "execute_result"
    }
   ],
   "execution_count": 102
  },
  {
   "metadata": {
    "ExecuteTime": {
     "end_time": "2024-06-19T13:50:57.119014Z",
     "start_time": "2024-06-19T13:50:57.116186Z"
    }
   },
   "cell_type": "code",
   "source": "set(ran_num)",
   "id": "51c2838f4b75a1bf",
   "outputs": [
    {
     "data": {
      "text/plain": [
       "{2, 3, 4, 5, 7, 10}"
      ]
     },
     "execution_count": 103,
     "metadata": {},
     "output_type": "execute_result"
    }
   ],
   "execution_count": 103
  },
  {
   "metadata": {
    "ExecuteTime": {
     "end_time": "2024-06-19T13:51:18.717813Z",
     "start_time": "2024-06-19T13:51:18.713332Z"
    }
   },
   "cell_type": "code",
   "source": "2 in set(ran_num)",
   "id": "ab99ea5d74b55eaa",
   "outputs": [
    {
     "data": {
      "text/plain": [
       "True"
      ]
     },
     "execution_count": 104,
     "metadata": {},
     "output_type": "execute_result"
    }
   ],
   "execution_count": 104
  },
  {
   "metadata": {
    "ExecuteTime": {
     "end_time": "2024-06-19T13:52:16.736970Z",
     "start_time": "2024-06-19T13:52:16.732737Z"
    }
   },
   "cell_type": "code",
   "source": [
    "set1 = {'a', 'b', 'c', 'd'}\n",
    "set2 = set('spam')"
   ],
   "id": "9e73d06c8dced204",
   "outputs": [],
   "execution_count": 105
  },
  {
   "metadata": {
    "ExecuteTime": {
     "end_time": "2024-06-19T13:58:47.513371Z",
     "start_time": "2024-06-19T13:58:47.509526Z"
    }
   },
   "cell_type": "code",
   "source": [
    "print('Intersection')\n",
    "print(f'{set1.intersection(set2)=}') # intersection\n",
    "print(f'{set1 & set2 = }')\n",
    "print('Union')\n",
    "print(set1.union(set2)) # union\n",
    "print(set1 | set2)\n",
    "print('Difference')\n",
    "print(set1.difference(set2)) # difference\n",
    "print(set1 - set2)\n",
    "print('XOR')\n",
    "print(set1.symmetric_difference(set2)) # symmetric difference XOR\n",
    "print(set1 ^ set2)\n",
    "print(set2 ^ set1)\n",
    "print('Subset')\n",
    "print(set1.issubset(set2)) # subset\n",
    "print(set1 <= set2)\n",
    "print('Superset')\n",
    "print(set1.issuperset(set2)) # superset\n",
    "print(set1 >= set2)"
   ],
   "id": "4176ae25caeed490",
   "outputs": [
    {
     "name": "stdout",
     "output_type": "stream",
     "text": [
      "Intersection\n",
      "set1.intersection(set2)={'a'}\n",
      "set1 & set2 = {'a'}\n",
      "Union\n",
      "{'m', 'p', 'c', 'a', 'd', 's', 'b'}\n",
      "{'m', 'p', 'c', 'a', 'd', 's', 'b'}\n",
      "Difference\n",
      "{'d', 'c', 'b'}\n",
      "{'d', 'c', 'b'}\n",
      "XOR\n",
      "{'m', 'p', 'c', 'd', 's', 'b'}\n",
      "{'m', 'p', 'c', 'd', 's', 'b'}\n",
      "{'m', 'p', 'c', 'd', 's', 'b'}\n",
      "Subset\n",
      "False\n",
      "False\n",
      "Superset\n",
      "False\n",
      "False\n"
     ]
    }
   ],
   "execution_count": 121
  },
  {
   "metadata": {
    "ExecuteTime": {
     "end_time": "2024-06-19T14:01:34.592724Z",
     "start_time": "2024-06-19T14:01:34.577906Z"
    }
   },
   "cell_type": "code",
   "source": [
    "print(f'{1 + 3=}')\n",
    "print(f'{set([1, 2, 3, 4, 5])=}')\n",
    "print(f'{set([1, 2, 3, 4, 5]).add(7)=}')"
   ],
   "id": "d6e0aad3b789ac5e",
   "outputs": [
    {
     "name": "stdout",
     "output_type": "stream",
     "text": [
      "1 + 3=4\n",
      "set([1, 2, 3, 4, 5])={1, 2, 3, 4, 5}\n",
      "(set([1, 2, 3, 4, 5]).add(7))=None\n"
     ]
    }
   ],
   "execution_count": 131
  },
  {
   "metadata": {
    "ExecuteTime": {
     "end_time": "2024-06-19T14:02:03.523455Z",
     "start_time": "2024-06-19T14:02:03.518213Z"
    }
   },
   "cell_type": "code",
   "source": [
    "s = set()\n",
    "s.add(6)\n",
    "print(s)\n",
    "s.add(7)\n",
    "print(s)\n",
    "s.remove(7)\n",
    "print(s)"
   ],
   "id": "988cb8ef221a81bb",
   "outputs": [
    {
     "name": "stdout",
     "output_type": "stream",
     "text": [
      "{6}\n",
      "{6, 7}\n",
      "{6}\n"
     ]
    }
   ],
   "execution_count": 134
  },
  {
   "metadata": {},
   "cell_type": "markdown",
   "source": "Reference",
   "id": "da911f0e7cfc4ebd"
  },
  {
   "metadata": {
    "ExecuteTime": {
     "end_time": "2024-06-20T07:58:29.797314Z",
     "start_time": "2024-06-20T07:58:29.774568Z"
    }
   },
   "cell_type": "code",
   "source": [
    "L1 = [1,2,3,4]\n",
    "L2 = L1\n",
    "L1[0]=24\n",
    "print(L1,L2)"
   ],
   "id": "505e47c55dd5d2d2",
   "outputs": [
    {
     "name": "stdout",
     "output_type": "stream",
     "text": [
      "[24, 2, 3, 4] [24, 2, 3, 4]\n"
     ]
    }
   ],
   "execution_count": 135
  },
  {
   "metadata": {
    "ExecuteTime": {
     "end_time": "2024-06-20T07:58:40.606350Z",
     "start_time": "2024-06-20T07:58:40.602581Z"
    }
   },
   "cell_type": "code",
   "source": [
    "L1 = [1,2,3,4]\n",
    "L2 = L1\n",
    "L1=24\n",
    "print(L1,L2)"
   ],
   "id": "523191275b62135d",
   "outputs": [
    {
     "name": "stdout",
     "output_type": "stream",
     "text": [
      "24 [1, 2, 3, 4]\n"
     ]
    }
   ],
   "execution_count": 136
  },
  {
   "metadata": {
    "ExecuteTime": {
     "end_time": "2024-06-20T07:58:54.197648Z",
     "start_time": "2024-06-20T07:58:54.194644Z"
    }
   },
   "cell_type": "code",
   "source": [
    "L1 = [1,2,3,4]\n",
    "L2 = L1[:]\n",
    "L1[0]=24\n",
    "print(L1,L2)"
   ],
   "id": "a8696176ad9cf8b3",
   "outputs": [
    {
     "name": "stdout",
     "output_type": "stream",
     "text": [
      "[24, 2, 3, 4] [1, 2, 3, 4]\n"
     ]
    }
   ],
   "execution_count": 137
  },
  {
   "metadata": {},
   "cell_type": "markdown",
   "source": "copy a set or a dictionary  ",
   "id": "d6c2f1bfa0f7edb0"
  },
  {
   "metadata": {
    "ExecuteTime": {
     "end_time": "2024-06-20T07:59:54.259922Z",
     "start_time": "2024-06-20T07:59:54.254593Z"
    }
   },
   "cell_type": "code",
   "source": "import copy",
   "id": "f44f38e342b0f5a9",
   "outputs": [],
   "execution_count": 138
  },
  {
   "metadata": {
    "ExecuteTime": {
     "end_time": "2024-06-20T08:00:26.776120Z",
     "start_time": "2024-06-20T08:00:26.772411Z"
    }
   },
   "cell_type": "code",
   "source": [
    "L1 = {1,2,3,4}\n",
    "L2=L1\n",
    "L1.add(5)\n",
    "print(L1,L2)"
   ],
   "id": "f0173ccc424f9054",
   "outputs": [
    {
     "name": "stdout",
     "output_type": "stream",
     "text": [
      "{1, 2, 3, 4, 5} {1, 2, 3, 4, 5}\n"
     ]
    }
   ],
   "execution_count": 139
  },
  {
   "metadata": {
    "ExecuteTime": {
     "end_time": "2024-06-20T08:00:41.052391Z",
     "start_time": "2024-06-20T08:00:41.047810Z"
    }
   },
   "cell_type": "code",
   "source": [
    "L1 = {1,2,3,4}\n",
    "L2=copy.copy(L1)\n",
    "L1.add(5)\n",
    "print(L1,L2)"
   ],
   "id": "7c317545825f2079",
   "outputs": [
    {
     "name": "stdout",
     "output_type": "stream",
     "text": [
      "{1, 2, 3, 4, 5} {1, 2, 3, 4}\n"
     ]
    }
   ],
   "execution_count": 140
  },
  {
   "metadata": {
    "ExecuteTime": {
     "end_time": "2024-06-20T08:00:54.804395Z",
     "start_time": "2024-06-20T08:00:54.799969Z"
    }
   },
   "cell_type": "code",
   "source": [
    "D1 = {'a':1,'b':2,'c':3}\n",
    "D2=D1\n",
    "D1['a']=24\n",
    "print(D1,D2)"
   ],
   "id": "df6a3dd333b7e1a7",
   "outputs": [
    {
     "name": "stdout",
     "output_type": "stream",
     "text": [
      "{'a': 24, 'b': 2, 'c': 3} {'a': 24, 'b': 2, 'c': 3}\n"
     ]
    }
   ],
   "execution_count": 141
  },
  {
   "metadata": {
    "ExecuteTime": {
     "end_time": "2024-06-20T08:01:03.444780Z",
     "start_time": "2024-06-20T08:01:03.441682Z"
    }
   },
   "cell_type": "code",
   "source": [
    "D1 = {'a':1,'b':2,'c':3}\n",
    "D2=copy.copy(D1)\n",
    "D1['a']=24\n",
    "print(D1,D2)"
   ],
   "id": "fc44dac7406363e1",
   "outputs": [
    {
     "name": "stdout",
     "output_type": "stream",
     "text": [
      "{'a': 24, 'b': 2, 'c': 3} {'a': 1, 'b': 2, 'c': 3}\n"
     ]
    }
   ],
   "execution_count": 142
  },
  {
   "metadata": {
    "ExecuteTime": {
     "end_time": "2024-06-20T08:05:04.571182Z",
     "start_time": "2024-06-20T08:05:04.560402Z"
    }
   },
   "cell_type": "code",
   "source": [
    "D1 = {'a':1,'b':2,'c':3}\n",
    "D2=copy.deepcopy(D1)\n",
    "D1['a']=24\n",
    "print(D1,D2)"
   ],
   "id": "8cd332aa8cece3f0",
   "outputs": [
    {
     "name": "stdout",
     "output_type": "stream",
     "text": [
      "{'a': 24, 'b': 2, 'c': 3} {'a': 1, 'b': 2, 'c': 3}\n"
     ]
    }
   ],
   "execution_count": 143
  },
  {
   "metadata": {},
   "cell_type": "markdown",
   "source": "is",
   "id": "6905eeae3857ab83"
  },
  {
   "metadata": {
    "ExecuteTime": {
     "end_time": "2024-06-20T08:06:24.398518Z",
     "start_time": "2024-06-20T08:06:24.374553Z"
    }
   },
   "cell_type": "code",
   "source": [
    "L = [1,2,3]\n",
    "M = [1,2,3]\n",
    "print(L == M)\n",
    "print(L is M)"
   ],
   "id": "d6353a475579fc06",
   "outputs": [
    {
     "name": "stdout",
     "output_type": "stream",
     "text": [
      "True\n",
      "False\n"
     ]
    }
   ],
   "execution_count": 144
  },
  {
   "metadata": {
    "ExecuteTime": {
     "end_time": "2024-06-20T08:06:41.663839Z",
     "start_time": "2024-06-20T08:06:41.658917Z"
    }
   },
   "cell_type": "code",
   "source": [
    "L = [1,2,3]\n",
    "M = L\n",
    "print(L == M)\n",
    "print(L is M)"
   ],
   "id": "cbdc3e41e2d9e2da",
   "outputs": [
    {
     "name": "stdout",
     "output_type": "stream",
     "text": [
      "True\n",
      "True\n"
     ]
    }
   ],
   "execution_count": 146
  },
  {
   "metadata": {
    "ExecuteTime": {
     "end_time": "2024-06-20T08:08:14.194605Z",
     "start_time": "2024-06-20T08:08:14.190821Z"
    }
   },
   "cell_type": "code",
   "source": [
    "L = 3\n",
    "M = 3\n",
    "print(L == M)\n",
    "print(L is M)"
   ],
   "id": "7c8949bf0e67b292",
   "outputs": [
    {
     "name": "stdout",
     "output_type": "stream",
     "text": [
      "True\n",
      "True\n"
     ]
    }
   ],
   "execution_count": 147
  },
  {
   "metadata": {
    "ExecuteTime": {
     "end_time": "2024-06-20T08:08:55.446587Z",
     "start_time": "2024-06-20T08:08:55.441596Z"
    }
   },
   "cell_type": "code",
   "source": [
    "import sys\n",
    "sys.getrefcount(3)"
   ],
   "id": "249d196f9b15c147",
   "outputs": [
    {
     "data": {
      "text/plain": [
       "1000003256"
      ]
     },
     "execution_count": 148,
     "metadata": {},
     "output_type": "execute_result"
    }
   ],
   "execution_count": 148
  },
  {
   "metadata": {},
   "cell_type": "markdown",
   "source": "",
   "id": "892c55b3949c70d2"
  },
  {
   "metadata": {
    "ExecuteTime": {
     "end_time": "2024-06-20T08:19:57.432797Z",
     "start_time": "2024-06-20T08:19:57.426466Z"
    }
   },
   "cell_type": "code",
   "source": [
    "print('\\a')\n",
    "print('a\\vb')\n",
    "print('\\uaaaa')"
   ],
   "id": "a7ba5c943bb480a5",
   "outputs": [
    {
     "name": "stdout",
     "output_type": "stream",
     "text": [
      "\u0007\n",
      "a\u000Bb\n",
      "ꪪ\n"
     ]
    }
   ],
   "execution_count": 152
  },
  {
   "metadata": {
    "ExecuteTime": {
     "end_time": "2024-06-20T08:22:00.908331Z",
     "start_time": "2024-06-20T08:22:00.901360Z"
    }
   },
   "cell_type": "code",
   "source": [
    "path = r'C:\\Users\\Administrator\\Desktop\\Python'\n",
    "print(path)\n",
    "print(repr(path))\n"
   ],
   "id": "693dbf6ce13cd0c8",
   "outputs": [
    {
     "name": "stdout",
     "output_type": "stream",
     "text": [
      "C:\\Users\\Administrator\\Desktop\\Python\n",
      "'C:\\\\Users\\\\Administrator\\\\Desktop\\\\Python'\n"
     ]
    }
   ],
   "execution_count": 154
  },
  {
   "metadata": {
    "ExecuteTime": {
     "end_time": "2024-06-20T08:25:57.256645Z",
     "start_time": "2024-06-20T08:25:57.251967Z"
    }
   },
   "cell_type": "code",
   "source": [
    "# 报错\n",
    "# s1 = r'C:\\Users\\Administrator\\Desktop\\Python\\' \n",
    "s1 = r'C:\\Users\\Administrator\\Desktop\\Python' + '\\\\'\n",
    "print(s1)"
   ],
   "id": "7188a8f2772318d1",
   "outputs": [
    {
     "name": "stdout",
     "output_type": "stream",
     "text": [
      "C:\\Users\\Administrator\\Desktop\\Python\\\n"
     ]
    }
   ],
   "execution_count": 158
  },
  {
   "metadata": {},
   "cell_type": "code",
   "outputs": [],
   "execution_count": null,
   "source": "",
   "id": "5cddba39f9b7d30d"
  }
 ],
 "metadata": {
  "kernelspec": {
   "display_name": "Python 3",
   "language": "python",
   "name": "python3"
  },
  "language_info": {
   "codemirror_mode": {
    "name": "ipython",
    "version": 2
   },
   "file_extension": ".py",
   "mimetype": "text/x-python",
   "name": "python",
   "nbconvert_exporter": "python",
   "pygments_lexer": "ipython2",
   "version": "2.7.6"
  }
 },
 "nbformat": 4,
 "nbformat_minor": 5
}
