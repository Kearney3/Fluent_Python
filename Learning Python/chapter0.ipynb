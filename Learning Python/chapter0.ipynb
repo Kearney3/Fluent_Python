{
 "cells": [
  {
   "cell_type": "markdown",
   "id": "c3e08a2b90633ec4",
   "metadata": {},
   "source": [
    "# Ipyton"
   ]
  },
  {
   "cell_type": "code",
   "execution_count": 1,
   "id": "initial_id",
   "metadata": {
    "ExecuteTime": {
     "end_time": "2024-07-10T10:29:38.229992Z",
     "start_time": "2024-07-10T10:29:38.097392Z"
    },
    "collapsed": true
   },
   "outputs": [
    {
     "name": "stdout",
     "output_type": "stream",
     "text": [
      "Certificate.html   chapter26-28.ipynb count_file.py      reloadall.py\r\n",
      "Certificate.txt    chapter29.ipynb    data               reloadall2.py\r\n",
      "Chapter5-6.ipynb   chapter30.ipynb    data.bin           reloadall_copy.py\r\n",
      "Chapter7-9.ipynb   chapter31.ipynb    datafile.pkl       showargs.py\r\n",
      "\u001B[34m__pycache__\u001B[m\u001B[m        chapter32.ipynb    datafile.shelve.db strcut.bin\r\n",
      "all.py             chapter32_2.ipynb  datafile.txt       super.py\r\n",
      "bom_ascii.txt      chapter33-34.ipynb \u001B[34mdir1\u001B[m\u001B[m               temp\r\n",
      "bom_utf16.txt      chapter35-36.ipynb error.log          temp.txt\r\n",
      "\u001B[31mbom_utf8.txt\u001B[m\u001B[m       chapter37.ipynb    formats.py         text.log\r\n",
      "chapter0.ipynb     chapter38.ipynb    \u001B[34mimport_test\u001B[m\u001B[m        text_upper.txt\r\n",
      "chapter10-13.ipynb chapter38_2.ipynb  latindata          textfile.txt\r\n",
      "chapter14.ipynb    chapter39.ipynb    listing.py         textjson.txt\r\n",
      "chapter15.ipynb    chapter39_2.ipynb  mapattrs.py        timer.py\r\n",
      "chapter16-17.ipynb chapter39_3.ipynb  my_import.py       timer2.py\r\n",
      "chapter18.ipynb    chapter40.ipynb    myfile.txt         utfdata\r\n",
      "chapter19.ipynb    \u001B[34mclass_test\u001B[m\u001B[m         person.db.db\r\n",
      "chapter20.ipynb    classtool.py       pizzashop.db.db\r\n",
      "chapter21-25.ipynb classtree.py       print.txt\r\n"
     ]
    }
   ],
   "source": [
    "!ls"
   ]
  },
  {
   "cell_type": "code",
   "execution_count": 2,
   "id": "2ee1b9e4aa768499",
   "metadata": {
    "ExecuteTime": {
     "end_time": "2024-07-10T10:29:41.137357Z",
     "start_time": "2024-07-10T10:29:41.014395Z"
    }
   },
   "outputs": [
    {
     "name": "stdout",
     "output_type": "stream",
     "text": [
      "Certificate.html    chapter26-28.ipynb  count_file.py       reloadall.py\r\n",
      "Certificate.txt     chapter29.ipynb     data                reloadall2.py\r\n",
      "Chapter5-6.ipynb    chapter30.ipynb     data.bin            reloadall_copy.py\r\n",
      "Chapter7-9.ipynb    chapter31.ipynb     datafile.pkl        showargs.py\r\n",
      "\u001B[34m__pycache__\u001B[m\u001B[m/        chapter32.ipynb     datafile.shelve.db  strcut.bin\r\n",
      "all.py              chapter32_2.ipynb   datafile.txt        super.py\r\n",
      "bom_ascii.txt       chapter33-34.ipynb  \u001B[34mdir1\u001B[m\u001B[m/               temp\r\n",
      "bom_utf16.txt       chapter35-36.ipynb  error.log           temp.txt\r\n",
      "\u001B[31mbom_utf8.txt\u001B[m\u001B[m*       chapter37.ipynb     formats.py          text.log\r\n",
      "chapter0.ipynb      chapter38.ipynb     \u001B[34mimport_test\u001B[m\u001B[m/        text_upper.txt\r\n",
      "chapter10-13.ipynb  chapter38_2.ipynb   latindata           textfile.txt\r\n",
      "chapter14.ipynb     chapter39.ipynb     listing.py          textjson.txt\r\n",
      "chapter15.ipynb     chapter39_2.ipynb   mapattrs.py         timer.py\r\n",
      "chapter16-17.ipynb  chapter39_3.ipynb   my_import.py        timer2.py\r\n",
      "chapter18.ipynb     chapter40.ipynb     myfile.txt          utfdata\r\n",
      "chapter19.ipynb     \u001B[34mclass_test\u001B[m\u001B[m/         person.db.db\r\n",
      "chapter20.ipynb     classtool.py        pizzashop.db.db\r\n",
      "chapter21-25.ipynb  classtree.py        print.txt\r\n"
     ]
    }
   ],
   "source": [
    "%ls"
   ]
  },
  {
   "cell_type": "code",
   "execution_count": 7,
   "id": "1ce0c8c21c0e5bc",
   "metadata": {
    "ExecuteTime": {
     "end_time": "2024-07-10T10:30:53.052182Z",
     "start_time": "2024-07-10T10:30:52.592898Z"
    }
   },
   "outputs": [
    {
     "name": "stdout",
     "output_type": "stream",
     "text": [
      "------------------------------------------------------------\n",
      "name:pandas, file:/Users/kearney/anaconda3/lib/python3.11/site-packages/pandas/__init__.py\n",
      "------------------------------------------------------------\n",
      "00) ArrowDtype <class 'pandas.core.arrays.arrow.dtype.ArrowDtype'>\n",
      "01) BooleanDtype <class 'pandas.core.arrays.boolean.BooleanDtype'>\n",
      "02) Categorical <class 'pandas.core.arrays.categorical.Categorical'>\n",
      "03) CategoricalDtype <class 'pandas.core.dtypes.dtypes.CategoricalDtype'>\n",
      "04) CategoricalIndex <class 'pandas.core.indexes.category.CategoricalIndex'>\n",
      "05) DataFrame <class 'pandas.core.frame.DataFrame'>\n",
      "06) DateOffset <class 'pandas._libs.tslibs.offsets.DateOffset'>\n",
      "07) DatetimeIndex <class 'pandas.core.indexes.datetimes.DatetimeIndex'>\n",
      "08) DatetimeTZDtype <class 'pandas.core.dtypes.dtypes.DatetimeTZDtype'>\n",
      "09) ExcelFile <class 'pandas.io.excel._base.ExcelFile'>\n",
      "10) ExcelWriter <class 'pandas.io.excel._base.ExcelWriter'>\n",
      "11) Flags <class 'pandas.core.flags.Flags'>\n",
      "12) Float32Dtype <class 'pandas.core.arrays.floating.Float32Dtype'>\n",
      "13) Float64Dtype <class 'pandas.core.arrays.floating.Float64Dtype'>\n",
      "14) Grouper <class 'pandas.core.groupby.grouper.Grouper'>\n",
      "15) HDFStore <class 'pandas.io.pytables.HDFStore'>\n",
      "16) Index <class 'pandas.core.indexes.base.Index'>\n",
      "17) IndexSlice <pandas.core.indexing._IndexSlice object at 0x12a8f0890>\n",
      "18) Int16Dtype <class 'pandas.core.arrays.integer.Int16Dtype'>\n",
      "19) Int32Dtype <class 'pandas.core.arrays.integer.Int32Dtype'>\n",
      "20) Int64Dtype <class 'pandas.core.arrays.integer.Int64Dtype'>\n",
      "21) Int8Dtype <class 'pandas.core.arrays.integer.Int8Dtype'>\n",
      "22) Interval <class 'pandas._libs.interval.Interval'>\n",
      "23) IntervalDtype <class 'pandas.core.dtypes.dtypes.IntervalDtype'>\n",
      "24) IntervalIndex <class 'pandas.core.indexes.interval.IntervalIndex'>\n",
      "25) MultiIndex <class 'pandas.core.indexes.multi.MultiIndex'>\n",
      "26) NA <NA>\n",
      "27) NaT NaT\n",
      "28) NamedAgg <class 'pandas.core.groupby.generic.NamedAgg'>\n",
      "29) Period <class 'pandas._libs.tslibs.period.Period'>\n",
      "30) PeriodDtype <class 'pandas.core.dtypes.dtypes.PeriodDtype'>\n",
      "31) PeriodIndex <class 'pandas.core.indexes.period.PeriodIndex'>\n",
      "32) RangeIndex <class 'pandas.core.indexes.range.RangeIndex'>\n",
      "33) Series <class 'pandas.core.series.Series'>\n",
      "34) SparseDtype <class 'pandas.core.arrays.sparse.dtype.SparseDtype'>\n",
      "35) StringDtype <class 'pandas.core.arrays.string_.StringDtype'>\n",
      "36) Timedelta <class 'pandas._libs.tslibs.timedeltas.Timedelta'>\n",
      "37) TimedeltaIndex <class 'pandas.core.indexes.timedeltas.TimedeltaIndex'>\n",
      "38) Timestamp <class 'pandas._libs.tslibs.timestamps.Timestamp'>\n",
      "39) UInt16Dtype <class 'pandas.core.arrays.integer.UInt16Dtype'>\n",
      "40) UInt32Dtype <class 'pandas.core.arrays.integer.UInt32Dtype'>\n",
      "41) UInt64Dtype <class 'pandas.core.arrays.integer.UInt64Dtype'>\n",
      "42) UInt8Dtype <class 'pandas.core.arrays.integer.UInt8Dtype'>\n",
      "43) __all__ <build-in name>\n",
      "44) __builtins__ <build-in name>\n",
      "45) __cached__ <build-in name>\n",
      "46) __doc__ <build-in name>\n",
      "47) __docformat__ <build-in name>\n",
      "48) __file__ <build-in name>\n",
      "49) __git_version__ <build-in name>\n",
      "50) __loader__ <build-in name>\n",
      "51) __name__ <build-in name>\n",
      "52) __package__ <build-in name>\n",
      "53) __path__ <build-in name>\n",
      "54) __spec__ <build-in name>\n",
      "55) __version__ <build-in name>\n",
      "56) _config <module 'pandas._config' from '/Users/kearney/anaconda3/lib/python3.11/site-packages/pandas/_config/__init__.py'>\n",
      "57) _is_numpy_dev False\n",
      "58) _libs <module 'pandas._libs' from '/Users/kearney/anaconda3/lib/python3.11/site-packages/pandas/_libs/__init__.py'>\n",
      "59) _testing <module 'pandas._testing' from '/Users/kearney/anaconda3/lib/python3.11/site-packages/pandas/_testing/__init__.py'>\n",
      "60) _typing <module 'pandas._typing' from '/Users/kearney/anaconda3/lib/python3.11/site-packages/pandas/_typing.py'>\n",
      "61) _version <module 'pandas._version' from '/Users/kearney/anaconda3/lib/python3.11/site-packages/pandas/_version.py'>\n",
      "62) annotations _Feature((3, 7, 0, 'beta', 1), None, 16777216)\n",
      "63) api <module 'pandas.api' from '/Users/kearney/anaconda3/lib/python3.11/site-packages/pandas/api/__init__.py'>\n",
      "64) array <function array at 0x11b483e20>\n",
      "65) arrays <module 'pandas.arrays' from '/Users/kearney/anaconda3/lib/python3.11/site-packages/pandas/arrays/__init__.py'>\n",
      "66) bdate_range <function bdate_range at 0x12aad1d00>\n",
      "67) compat <module 'pandas.compat' from '/Users/kearney/anaconda3/lib/python3.11/site-packages/pandas/compat/__init__.py'>\n",
      "68) concat <function concat at 0x12aca00e0>\n",
      "69) core <module 'pandas.core' from '/Users/kearney/anaconda3/lib/python3.11/site-packages/pandas/core/__init__.py'>\n",
      "70) crosstab <function crosstab at 0x12b1b2e80>\n",
      "71) cut <function cut at 0x12b1b0680>\n",
      "72) date_range <function date_range at 0x12aaa4ea0>\n",
      "73) describe_option <pandas._config.config.CallableDynamicDoc object at 0x106ebca90>\n",
      "74) errors <module 'pandas.errors' from '/Users/kearney/anaconda3/lib/python3.11/site-packages/pandas/errors/__init__.py'>\n",
      "75) eval <function eval at 0x12b1abce0>\n",
      "76) factorize <function factorize at 0x11b4c05e0>\n",
      "77) from_dummies <function from_dummies at 0x12b1b00e0>\n",
      "78) get_dummies <function get_dummies at 0x12b1abf60>\n",
      "79) get_option <pandas._config.config.CallableDynamicDoc object at 0x106ebca10>\n",
      "80) infer_freq <function infer_freq at 0x11b7a91c0>\n",
      "81) interval_range <function interval_range at 0x12abf3e20>\n",
      "82) io <module 'pandas.io' from '/Users/kearney/anaconda3/lib/python3.11/site-packages/pandas/io/__init__.py'>\n",
      "83) isna <function isna at 0x11b467240>\n",
      "84) isnull <function isna at 0x11b467240>\n",
      "85) json_normalize <function json_normalize at 0x12b4d2ca0>\n",
      "86) lreshape <function lreshape at 0x12b041260>\n",
      "87) melt <function melt at 0x12afce7a0>\n",
      "88) merge <function merge at 0x12b1859e0>\n",
      "89) merge_asof <function merge_asof at 0x12b1b0c20>\n",
      "90) merge_ordered <function merge_ordered at 0x12b1b0b80>\n",
      "91) notna <function notna at 0x11b467920>\n",
      "92) notnull <function notna at 0x11b467920>\n",
      "93) offsets <module 'pandas.tseries.offsets' from '/Users/kearney/anaconda3/lib/python3.11/site-packages/pandas/tseries/offsets.py'>\n",
      "94) option_context <class 'pandas._config.config.option_context'>\n",
      "95) options <pandas._config.config.DictWrapper object at 0x106ebcad0>\n",
      "96) pandas <module 'pandas' from '/Users/kearney/anaconda3/lib/python3.11/site-packages/pandas/__init__.py'>\n",
      "97) period_range <function period_range at 0x12abfc220>\n",
      "98) pivot <function pivot at 0x12b1b2de0>\n",
      "99) pivot_table <function pivot_table at 0x12b1b2980>\n",
      "100) plotting <module 'pandas.plotting' from '/Users/kearney/anaconda3/lib/python3.11/site-packages/pandas/plotting/__init__.py'>\n",
      "101) qcut <function qcut at 0x12b1b3380>\n",
      "102) read_clipboard <function read_clipboard at 0x12b20f6a0>\n",
      "103) read_csv <function read_csv at 0x12b271bc0>\n",
      "104) read_excel <function read_excel at 0x12b272de0>\n",
      "105) read_feather <function read_feather at 0x12b277ba0>\n",
      "106) read_fwf <function read_fwf at 0x12b272020>\n",
      "107) read_gbq <function read_gbq at 0x12b277ce0>\n",
      "108) read_hdf <function read_hdf at 0x12b53ade0>\n",
      "109) read_html <function read_html at 0x12b4d1ee0>\n",
      "110) read_json <function read_json at 0x12b4d3f60>\n",
      "111) read_orc <function read_orc at 0x12b4d2520>\n",
      "112) read_parquet <function read_parquet at 0x12b4f6200>\n",
      "113) read_pickle <function read_pickle at 0x12b4f6ac0>\n",
      "114) read_sas <function read_sas at 0x12b564b80>\n",
      "115) read_spss <function read_spss at 0x12b5645e0>\n",
      "116) read_sql <function read_sql at 0x12b5662a0>\n",
      "117) read_sql_query <function read_sql_query at 0x12b566020>\n",
      "118) read_sql_table <function read_sql_table at 0x12b565da0>\n",
      "119) read_stata <function read_stata at 0x12b579760>\n",
      "120) read_table <function read_table at 0x12b271f80>\n",
      "121) read_xml <function read_xml at 0x12f9084a0>\n",
      "122) reset_option <pandas._config.config.CallableDynamicDoc object at 0x106ebc9d0>\n",
      "123) set_eng_float_format <function set_eng_float_format at 0x12afcdb20>\n",
      "124) set_option <pandas._config.config.CallableDynamicDoc object at 0x106ebca50>\n",
      "125) show_versions <function show_versions at 0x12b20f380>\n",
      "126) test <function test at 0x12f902200>\n",
      "127) testing <module 'pandas.testing' from '/Users/kearney/anaconda3/lib/python3.11/site-packages/pandas/testing.py'>\n",
      "128) timedelta_range <function timedelta_range at 0x12abf0680>\n",
      "129) to_datetime <function to_datetime at 0x12b08ab60>\n",
      "130) to_numeric <function to_numeric at 0x12b041620>\n",
      "131) to_pickle <function to_pickle at 0x12b4f63e0>\n",
      "132) to_timedelta <function to_timedelta at 0x12aaa7e20>\n",
      "133) tseries <module 'pandas.tseries' from '/Users/kearney/anaconda3/lib/python3.11/site-packages/pandas/tseries/__init__.py'>\n",
      "134) unique <function unique at 0x11b4c0180>\n",
      "135) util <module 'pandas.util' from '/Users/kearney/anaconda3/lib/python3.11/site-packages/pandas/util/__init__.py'>\n",
      "136) value_counts <function value_counts at 0x11b4c0540>\n",
      "137) wide_to_long <function wide_to_long at 0x12b0416c0>\n",
      "------------------------------------------------------------\n",
      "pandas) total: 138\n",
      "------------------------------------------------------------\n"
     ]
    }
   ],
   "source": [
    "%run listing.py"
   ]
  },
  {
   "cell_type": "code",
   "execution_count": 8,
   "id": "e0488872eff3219",
   "metadata": {
    "ExecuteTime": {
     "end_time": "2024-07-10T10:31:54.440996Z",
     "start_time": "2024-07-10T10:31:54.436118Z"
    }
   },
   "outputs": [],
   "source": [
    "%timeit?"
   ]
  },
  {
   "cell_type": "code",
   "execution_count": 9,
   "id": "75c42ab4612a51ef",
   "metadata": {
    "ExecuteTime": {
     "end_time": "2024-07-10T10:32:17.791569Z",
     "start_time": "2024-07-10T10:32:17.783862Z"
    }
   },
   "outputs": [],
   "source": [
    "%magic"
   ]
  },
  {
   "cell_type": "code",
   "execution_count": 10,
   "id": "65e0f2e47ffdca15",
   "metadata": {
    "ExecuteTime": {
     "end_time": "2024-07-10T10:32:29.142480Z",
     "start_time": "2024-07-10T10:32:29.139693Z"
    }
   },
   "outputs": [
    {
     "name": "stdout",
     "output_type": "stream",
     "text": [
      "['', \"get_ipython().system('ls')\", \"get_ipython().run_line_magic('ls', '')\", \"get_ipython().run_line_magic('pinfo', 'ls')\", \"get_ipython().run_line_magic('pinfo', 'ls')\", \"get_ipython().run_line_magic('pinfo', 'ls')\", \"get_ipython().run_line_magic('pinfo', 'dir')\", \"get_ipython().run_line_magic('run', 'listing.py')\", \"get_ipython().run_line_magic('pinfo', '%timeit')\", \"get_ipython().run_line_magic('magic', '')\", 'print(In)']\n"
     ]
    }
   ],
   "source": [
    "print(In)"
   ]
  },
  {
   "cell_type": "code",
   "execution_count": 11,
   "id": "cca3741a50720d83",
   "metadata": {
    "ExecuteTime": {
     "end_time": "2024-07-10T10:32:39.701949Z",
     "start_time": "2024-07-10T10:32:39.699890Z"
    }
   },
   "outputs": [
    {
     "name": "stdout",
     "output_type": "stream",
     "text": [
      "{}\n"
     ]
    }
   ],
   "source": [
    "print(Out)"
   ]
  },
  {
   "cell_type": "code",
   "execution_count": 12,
   "id": "8c61ffb17887f806",
   "metadata": {
    "ExecuteTime": {
     "end_time": "2024-07-10T10:33:10.669670Z",
     "start_time": "2024-07-10T10:33:10.658152Z"
    }
   },
   "outputs": [
    {
     "data": {
      "text/plain": [
       "2"
      ]
     },
     "execution_count": 12,
     "metadata": {},
     "output_type": "execute_result"
    }
   ],
   "source": [
    "1 + 1"
   ]
  },
  {
   "cell_type": "code",
   "execution_count": 13,
   "id": "b1721e079669cde1",
   "metadata": {
    "ExecuteTime": {
     "end_time": "2024-07-10T10:33:13.033102Z",
     "start_time": "2024-07-10T10:33:13.030597Z"
    }
   },
   "outputs": [],
   "source": [
    "1 + 1;"
   ]
  },
  {
   "cell_type": "code",
   "execution_count": 14,
   "id": "36e31467a184f157",
   "metadata": {
    "ExecuteTime": {
     "end_time": "2024-07-10T10:34:41.475815Z",
     "start_time": "2024-07-10T10:34:41.472011Z"
    }
   },
   "outputs": [],
   "source": [
    "def func1(a, b):\n",
    "    return a / b\n",
    "\n",
    "\n",
    "def func2(a, b):\n",
    "    x = a\n",
    "    y = b - 1\n",
    "    return func1(x, y)"
   ]
  },
  {
   "cell_type": "code",
   "execution_count": 15,
   "id": "e5c8384d77235f6",
   "metadata": {
    "ExecuteTime": {
     "end_time": "2024-07-10T10:34:47.754036Z",
     "start_time": "2024-07-10T10:34:47.495370Z"
    }
   },
   "outputs": [
    {
     "ename": "ZeroDivisionError",
     "evalue": "division by zero",
     "output_type": "error",
     "traceback": [
      "\u001B[0;31m---------------------------------------------------------------------------\u001B[0m",
      "\u001B[0;31mZeroDivisionError\u001B[0m                         Traceback (most recent call last)",
      "Cell \u001B[0;32mIn[15], line 1\u001B[0m\n\u001B[0;32m----> 1\u001B[0m func2(\u001B[38;5;241m2\u001B[39m,\u001B[38;5;241m1\u001B[39m)\n",
      "Cell \u001B[0;32mIn[14], line 7\u001B[0m, in \u001B[0;36mfunc2\u001B[0;34m(a, b)\u001B[0m\n\u001B[1;32m      5\u001B[0m x \u001B[38;5;241m=\u001B[39m a\n\u001B[1;32m      6\u001B[0m y \u001B[38;5;241m=\u001B[39m b \u001B[38;5;241m-\u001B[39m\u001B[38;5;241m1\u001B[39m\n\u001B[0;32m----> 7\u001B[0m \u001B[38;5;28;01mreturn\u001B[39;00m func1(x,y)\n",
      "Cell \u001B[0;32mIn[14], line 2\u001B[0m, in \u001B[0;36mfunc1\u001B[0;34m(a, b)\u001B[0m\n\u001B[1;32m      1\u001B[0m \u001B[38;5;28;01mdef\u001B[39;00m \u001B[38;5;21mfunc1\u001B[39m(a,b):\n\u001B[0;32m----> 2\u001B[0m     \u001B[38;5;28;01mreturn\u001B[39;00m a\u001B[38;5;241m/\u001B[39mb\n",
      "\u001B[0;31mZeroDivisionError\u001B[0m: division by zero"
     ]
    }
   ],
   "source": [
    "func2(2, 1)"
   ]
  },
  {
   "cell_type": "code",
   "execution_count": 18,
   "id": "49bebe892d656370",
   "metadata": {
    "ExecuteTime": {
     "end_time": "2024-07-10T10:35:10.197210Z",
     "start_time": "2024-07-10T10:35:10.194259Z"
    }
   },
   "outputs": [
    {
     "name": "stdout",
     "output_type": "stream",
     "text": [
      "Exception reporting mode: Plain\n"
     ]
    }
   ],
   "source": [
    "%xmode Plain"
   ]
  },
  {
   "cell_type": "code",
   "execution_count": 20,
   "id": "19f6cf9201ed3c2d",
   "metadata": {
    "ExecuteTime": {
     "end_time": "2024-07-10T10:35:22.968703Z",
     "start_time": "2024-07-10T10:35:22.966198Z"
    }
   },
   "outputs": [
    {
     "ename": "ZeroDivisionError",
     "evalue": "division by zero",
     "output_type": "error",
     "traceback": [
      "Traceback \u001B[0;36m(most recent call last)\u001B[0m:\n",
      "\u001B[0m  Cell \u001B[1;32mIn[20], line 1\u001B[0m\n    func2(2,1)\u001B[0m\n",
      "\u001B[0m  Cell \u001B[1;32mIn[14], line 7\u001B[0m in \u001B[1;35mfunc2\u001B[0m\n    return func1(x,y)\u001B[0m\n",
      "\u001B[0;36m  Cell \u001B[0;32mIn[14], line 2\u001B[0;36m in \u001B[0;35mfunc1\u001B[0;36m\n\u001B[0;31m    return a/b\u001B[0;36m\n",
      "\u001B[0;31mZeroDivisionError\u001B[0m\u001B[0;31m:\u001B[0m division by zero\n"
     ]
    }
   ],
   "source": [
    "func2(2, 1)"
   ]
  },
  {
   "cell_type": "code",
   "execution_count": 21,
   "id": "cae09ef9dfd5a5a5",
   "metadata": {
    "ExecuteTime": {
     "end_time": "2024-07-10T10:35:37.303533Z",
     "start_time": "2024-07-10T10:35:37.300539Z"
    }
   },
   "outputs": [
    {
     "name": "stdout",
     "output_type": "stream",
     "text": [
      "Exception reporting mode: Verbose\n"
     ]
    }
   ],
   "source": [
    "%xmode Verbose"
   ]
  },
  {
   "cell_type": "code",
   "execution_count": 22,
   "id": "2d6294505887879e",
   "metadata": {
    "ExecuteTime": {
     "end_time": "2024-07-10T10:35:40.791310Z",
     "start_time": "2024-07-10T10:35:40.763915Z"
    }
   },
   "outputs": [
    {
     "ename": "ZeroDivisionError",
     "evalue": "division by zero",
     "output_type": "error",
     "traceback": [
      "\u001B[0;31m---------------------------------------------------------------------------\u001B[0m",
      "\u001B[0;31mZeroDivisionError\u001B[0m                         Traceback (most recent call last)",
      "Cell \u001B[0;32mIn[22], line 1\u001B[0m\n\u001B[0;32m----> 1\u001B[0m func2(\u001B[38;5;241m2\u001B[39m,\u001B[38;5;241m1\u001B[39m)\n",
      "Cell \u001B[0;32mIn[14], line 7\u001B[0m, in \u001B[0;36mfunc2\u001B[0;34m(a=2, b=1)\u001B[0m\n\u001B[1;32m      5\u001B[0m x \u001B[38;5;241m=\u001B[39m a\n\u001B[1;32m      6\u001B[0m y \u001B[38;5;241m=\u001B[39m b \u001B[38;5;241m-\u001B[39m\u001B[38;5;241m1\u001B[39m\n\u001B[0;32m----> 7\u001B[0m \u001B[38;5;28;01mreturn\u001B[39;00m func1(x,y)\n        x \u001B[0;34m= 2\u001B[0m\u001B[0;34m\n        \u001B[0my \u001B[0;34m= 0\u001B[0m\n",
      "Cell \u001B[0;32mIn[14], line 2\u001B[0m, in \u001B[0;36mfunc1\u001B[0;34m(a=2, b=0)\u001B[0m\n\u001B[1;32m      1\u001B[0m \u001B[38;5;28;01mdef\u001B[39;00m \u001B[38;5;21mfunc1\u001B[39m(a,b):\n\u001B[0;32m----> 2\u001B[0m     \u001B[38;5;28;01mreturn\u001B[39;00m a\u001B[38;5;241m/\u001B[39mb\n        a \u001B[0;34m= 2\u001B[0m\u001B[0;34m\n        \u001B[0mb \u001B[0;34m= 0\u001B[0m\n",
      "\u001B[0;31mZeroDivisionError\u001B[0m: division by zero"
     ]
    }
   ],
   "source": [
    "func2(2, 1)"
   ]
  },
  {
   "cell_type": "code",
   "execution_count": 26,
   "id": "c6058bf7a41cab29",
   "metadata": {
    "ExecuteTime": {
     "end_time": "2024-07-11T07:14:18.993219Z",
     "start_time": "2024-07-11T07:14:16.863261Z"
    }
   },
   "outputs": [
    {
     "name": "stdout",
     "output_type": "stream",
     "text": [
      "25.9 µs ± 689 ns per loop (mean ± std. dev. of 7 runs, 10,000 loops each)\n"
     ]
    }
   ],
   "source": [
    "%timeit [i**2 for i in range(1000)]"
   ]
  },
  {
   "cell_type": "code",
   "execution_count": 32,
   "id": "9bd327074eef4c45",
   "metadata": {
    "ExecuteTime": {
     "end_time": "2024-07-11T07:23:32.269164Z",
     "start_time": "2024-07-11T07:23:32.247422Z"
    }
   },
   "outputs": [
    {
     "name": "stdout",
     "output_type": "stream",
     "text": [
      "CPU times: user 1 µs, sys: 0 ns, total: 1 µs\n",
      "Wall time: 2.86 µs\n"
     ]
    }
   ],
   "source": [
    "import random\n",
    "%time\n",
    "L = [random.random() for _ in range(10000)]\n",
    "L.sort()"
   ]
  },
  {
   "cell_type": "code",
   "execution_count": 33,
   "id": "f17409db1e3e7371",
   "metadata": {
    "ExecuteTime": {
     "end_time": "2024-07-11T07:23:33.200195Z",
     "start_time": "2024-07-11T07:23:33.197220Z"
    }
   },
   "outputs": [
    {
     "name": "stdout",
     "output_type": "stream",
     "text": [
      "CPU times: user 50 µs, sys: 1 µs, total: 51 µs\n",
      "Wall time: 52.9 µs\n"
     ]
    }
   ],
   "source": [
    "%time L.sort()"
   ]
  },
  {
   "cell_type": "code",
   "execution_count": 35,
   "id": "67aead72a3dd5635",
   "metadata": {
    "ExecuteTime": {
     "end_time": "2024-07-11T07:25:41.242007Z",
     "start_time": "2024-07-11T07:25:41.234703Z"
    }
   },
   "outputs": [],
   "source": [
    "def func3(n):\n",
    "    total = 0\n",
    "    for i in range(5):\n",
    "        L = [j ^ (j >> i) for j in range(n)]\n",
    "        total += sum(L)\n",
    "    return total"
   ]
  },
  {
   "cell_type": "code",
   "execution_count": 36,
   "id": "7b4f92af231c24a8",
   "metadata": {
    "ExecuteTime": {
     "end_time": "2024-07-11T07:25:51.200666Z",
     "start_time": "2024-07-11T07:25:51.146262Z"
    }
   },
   "outputs": [
    {
     "name": "stdout",
     "output_type": "stream",
     "text": [
      " "
     ]
    }
   ],
   "source": [
    "%prun func3(100000)"
   ]
  },
  {
   "cell_type": "code",
   "execution_count": 37,
   "id": "dd214bd6cc591",
   "metadata": {
    "ExecuteTime": {
     "end_time": "2024-07-11T07:26:03.209625Z",
     "start_time": "2024-07-11T07:26:03.176685Z"
    }
   },
   "outputs": [
    {
     "name": "stdout",
     "output_type": "stream",
     "text": [
      "CPU times: user 20.7 ms, sys: 4.95 ms, total: 25.6 ms\n",
      "Wall time: 27.1 ms\n"
     ]
    },
    {
     "data": {
      "text/plain": [
       "21118991040"
      ]
     },
     "execution_count": 37,
     "metadata": {},
     "output_type": "execute_result"
    }
   ],
   "source": [
    "%time func3(100000)"
   ]
  },
  {
   "cell_type": "markdown",
   "id": "333d8e52a29e3220",
   "metadata": {},
   "source": [
    "# Numpy"
   ]
  },
  {
   "cell_type": "code",
   "execution_count": 2,
   "id": "56aceca2fd1b49a4",
   "metadata": {
    "ExecuteTime": {
     "end_time": "2024-07-13T09:34:32.167499Z",
     "start_time": "2024-07-13T09:34:32.021853Z"
    }
   },
   "outputs": [],
   "source": [
    "import numpy as np"
   ]
  },
  {
   "cell_type": "code",
   "execution_count": 39,
   "id": "f6443b6b1d75678",
   "metadata": {
    "ExecuteTime": {
     "end_time": "2024-07-11T07:32:23.599752Z",
     "start_time": "2024-07-11T07:32:23.573387Z"
    }
   },
   "outputs": [
    {
     "data": {
      "text/plain": [
       "array([1, 2, 3])"
      ]
     },
     "execution_count": 39,
     "metadata": {},
     "output_type": "execute_result"
    }
   ],
   "source": [
    "np.array([1, 2, 3])"
   ]
  },
  {
   "cell_type": "code",
   "execution_count": 40,
   "id": "b8300de1f72dc5a7",
   "metadata": {
    "ExecuteTime": {
     "end_time": "2024-07-11T07:32:28.781776Z",
     "start_time": "2024-07-11T07:32:28.773666Z"
    }
   },
   "outputs": [
    {
     "data": {
      "text/plain": [
       "array([1., 2., 3.])"
      ]
     },
     "execution_count": 40,
     "metadata": {},
     "output_type": "execute_result"
    }
   ],
   "source": [
    "np.array([1, 2, 3], dtype=np.float64)"
   ]
  },
  {
   "cell_type": "code",
   "execution_count": 41,
   "id": "718d6554cdbf0414",
   "metadata": {
    "ExecuteTime": {
     "end_time": "2024-07-11T07:34:12.985403Z",
     "start_time": "2024-07-11T07:34:12.969173Z"
    }
   },
   "outputs": [
    {
     "data": {
      "text/plain": [
       "array([[2, 3, 4],\n",
       "       [4, 5, 6],\n",
       "       [6, 7, 8]])"
      ]
     },
     "execution_count": 41,
     "metadata": {},
     "output_type": "execute_result"
    }
   ],
   "source": [
    "np.array([(x, x + 1, x + 2) for x in [2, 4, 6]])"
   ]
  },
  {
   "cell_type": "code",
   "execution_count": 42,
   "id": "9616fba4843dc8dd",
   "metadata": {
    "ExecuteTime": {
     "end_time": "2024-07-11T07:35:29.215634Z",
     "start_time": "2024-07-11T07:35:29.210466Z"
    }
   },
   "outputs": [
    {
     "data": {
      "text/plain": [
       "array([0., 0., 0., 0., 0., 0., 0., 0., 0., 0.])"
      ]
     },
     "execution_count": 42,
     "metadata": {},
     "output_type": "execute_result"
    }
   ],
   "source": [
    "np.zeros(10)"
   ]
  },
  {
   "cell_type": "code",
   "execution_count": 43,
   "id": "581373b07e99d2cc",
   "metadata": {
    "ExecuteTime": {
     "end_time": "2024-07-11T07:35:55.331914Z",
     "start_time": "2024-07-11T07:35:55.327584Z"
    }
   },
   "outputs": [
    {
     "data": {
      "text/plain": [
       "array([[1., 1., 1., 1., 1.],\n",
       "       [1., 1., 1., 1., 1.],\n",
       "       [1., 1., 1., 1., 1.]])"
      ]
     },
     "execution_count": 43,
     "metadata": {},
     "output_type": "execute_result"
    }
   ],
   "source": [
    "np.ones((3, 5), dtype=np.float64)"
   ]
  },
  {
   "cell_type": "code",
   "execution_count": 45,
   "id": "b70881fbd49c1de0",
   "metadata": {
    "ExecuteTime": {
     "end_time": "2024-07-11T07:38:14.587566Z",
     "start_time": "2024-07-11T07:38:14.578631Z"
    }
   },
   "outputs": [
    {
     "data": {
      "text/plain": [
       "array([[3.14159265, 3.14159265, 3.14159265, 3.14159265, 3.14159265],\n",
       "       [3.14159265, 3.14159265, 3.14159265, 3.14159265, 3.14159265],\n",
       "       [3.14159265, 3.14159265, 3.14159265, 3.14159265, 3.14159265]])"
      ]
     },
     "execution_count": 45,
     "metadata": {},
     "output_type": "execute_result"
    }
   ],
   "source": [
    "np.full((3, 5), np.pi)"
   ]
  },
  {
   "cell_type": "code",
   "execution_count": 47,
   "id": "83760faad56a3c5d",
   "metadata": {
    "ExecuteTime": {
     "end_time": "2024-07-11T07:39:26.616577Z",
     "start_time": "2024-07-11T07:39:26.611005Z"
    }
   },
   "outputs": [
    {
     "data": {
      "text/plain": [
       "array([0.  , 0.25, 0.5 , 0.75, 1.  ])"
      ]
     },
     "execution_count": 47,
     "metadata": {},
     "output_type": "execute_result"
    }
   ],
   "source": [
    "np.linspace(0, 1, 5)"
   ]
  },
  {
   "cell_type": "code",
   "execution_count": 48,
   "id": "513b187ee235805f",
   "metadata": {
    "ExecuteTime": {
     "end_time": "2024-07-11T07:39:50.933604Z",
     "start_time": "2024-07-11T07:39:50.928528Z"
    }
   },
   "outputs": [
    {
     "data": {
      "text/plain": [
       "array([ 0,  1,  2,  3,  4,  5,  6,  7,  8,  9, 10, 11, 12, 13, 14, 15, 16,\n",
       "       17, 18, 19])"
      ]
     },
     "execution_count": 48,
     "metadata": {},
     "output_type": "execute_result"
    }
   ],
   "source": [
    "np.arange(0, 20, 1)"
   ]
  },
  {
   "cell_type": "code",
   "execution_count": 49,
   "id": "a68d4dd476178b2",
   "metadata": {
    "ExecuteTime": {
     "end_time": "2024-07-11T07:40:38.742628Z",
     "start_time": "2024-07-11T07:40:38.734934Z"
    }
   },
   "outputs": [
    {
     "data": {
      "text/plain": [
       "array([[0.48029433, 0.6873566 , 0.94582187, 0.264696  , 0.95765426],\n",
       "       [0.19309476, 0.82445975, 0.62104686, 0.71649842, 0.35826202],\n",
       "       [0.90179864, 0.20029982, 0.52988984, 0.98039491, 0.53254463]])"
      ]
     },
     "execution_count": 49,
     "metadata": {},
     "output_type": "execute_result"
    }
   ],
   "source": [
    "np.random.random((3, 5))"
   ]
  },
  {
   "cell_type": "code",
   "execution_count": 51,
   "id": "4b88467bcf505c40",
   "metadata": {
    "ExecuteTime": {
     "end_time": "2024-07-11T07:43:13.457663Z",
     "start_time": "2024-07-11T07:43:13.442430Z"
    }
   },
   "outputs": [
    {
     "data": {
      "text/plain": [
       "array([[3, 8, 0, 8, 1],\n",
       "       [5, 7, 6, 2, 2],\n",
       "       [7, 3, 9, 0, 0]])"
      ]
     },
     "execution_count": 51,
     "metadata": {},
     "output_type": "execute_result"
    }
   ],
   "source": [
    "np.random.randint(0, 10, (3, 5))"
   ]
  },
  {
   "cell_type": "code",
   "execution_count": 52,
   "id": "85f8567444bec100",
   "metadata": {
    "ExecuteTime": {
     "end_time": "2024-07-11T07:43:30.852481Z",
     "start_time": "2024-07-11T07:43:30.844851Z"
    }
   },
   "outputs": [
    {
     "data": {
      "text/plain": [
       "False"
      ]
     },
     "execution_count": 52,
     "metadata": {},
     "output_type": "execute_result"
    }
   ],
   "source": [
    "10 in np.random.randint(0, 10, (3, 5))"
   ]
  },
  {
   "cell_type": "code",
   "execution_count": 53,
   "id": "23e9cf792237bd95",
   "metadata": {
    "ExecuteTime": {
     "end_time": "2024-07-11T07:44:56.041478Z",
     "start_time": "2024-07-11T07:44:56.033692Z"
    }
   },
   "outputs": [
    {
     "data": {
      "text/plain": [
       "array([[0.5488135 , 0.71518937, 0.60276338, 0.54488318, 0.4236548 ],\n",
       "       [0.64589411, 0.43758721, 0.891773  , 0.96366276, 0.38344152],\n",
       "       [0.79172504, 0.52889492, 0.56804456, 0.92559664, 0.07103606]])"
      ]
     },
     "execution_count": 53,
     "metadata": {},
     "output_type": "execute_result"
    }
   ],
   "source": [
    "np.random.seed(0)\n",
    "np.random.rand(3, 5)"
   ]
  },
  {
   "cell_type": "code",
   "execution_count": 61,
   "id": "d3458ea524f94571",
   "metadata": {
    "ExecuteTime": {
     "end_time": "2024-07-11T07:50:01.838726Z",
     "start_time": "2024-07-11T07:50:01.833280Z"
    }
   },
   "outputs": [],
   "source": [
    "x1 = np.random.randint(10, size=(3, 5))"
   ]
  },
  {
   "cell_type": "code",
   "execution_count": 62,
   "id": "82ccb6f1e50d4b7b",
   "metadata": {
    "ExecuteTime": {
     "end_time": "2024-07-11T07:50:02.414264Z",
     "start_time": "2024-07-11T07:50:02.411217Z"
    }
   },
   "outputs": [
    {
     "data": {
      "text/plain": [
       "array([[0, 2, 3, 8, 1],\n",
       "       [3, 3, 3, 7, 0],\n",
       "       [1, 9, 9, 0, 4]])"
      ]
     },
     "execution_count": 62,
     "metadata": {},
     "output_type": "execute_result"
    }
   ],
   "source": [
    "x1"
   ]
  },
  {
   "cell_type": "code",
   "execution_count": 66,
   "id": "a32ac2b59974936a",
   "metadata": {
    "ExecuteTime": {
     "end_time": "2024-07-11T07:50:35.544596Z",
     "start_time": "2024-07-11T07:50:35.538914Z"
    }
   },
   "outputs": [
    {
     "data": {
      "text/plain": [
       "(2, (3, 5), 15, dtype('int64'))"
      ]
     },
     "execution_count": 66,
     "metadata": {},
     "output_type": "execute_result"
    }
   ],
   "source": [
    "x1.ndim, x1.shape, x1.size, x1.dtype"
   ]
  },
  {
   "cell_type": "code",
   "execution_count": 67,
   "id": "72eea3cb6886bd28",
   "metadata": {
    "ExecuteTime": {
     "end_time": "2024-07-11T07:51:45.500770Z",
     "start_time": "2024-07-11T07:51:45.495455Z"
    }
   },
   "outputs": [
    {
     "data": {
      "text/plain": [
       "(8, 120)"
      ]
     },
     "execution_count": 67,
     "metadata": {},
     "output_type": "execute_result"
    }
   ],
   "source": [
    "x1.itemsize, x1.nbytes"
   ]
  },
  {
   "cell_type": "code",
   "execution_count": 68,
   "id": "d1362cbe0d4e9fae",
   "metadata": {
    "ExecuteTime": {
     "end_time": "2024-07-11T07:52:36.070875Z",
     "start_time": "2024-07-11T07:52:36.060782Z"
    }
   },
   "outputs": [
    {
     "data": {
      "text/plain": [
       "array([3, 3, 3, 7, 0])"
      ]
     },
     "execution_count": 68,
     "metadata": {},
     "output_type": "execute_result"
    }
   ],
   "source": [
    "x1[1]"
   ]
  },
  {
   "cell_type": "code",
   "execution_count": 69,
   "id": "6a29b798003e2bf6",
   "metadata": {
    "ExecuteTime": {
     "end_time": "2024-07-11T07:52:39.773826Z",
     "start_time": "2024-07-11T07:52:39.771312Z"
    }
   },
   "outputs": [
    {
     "data": {
      "text/plain": [
       "3"
      ]
     },
     "execution_count": 69,
     "metadata": {},
     "output_type": "execute_result"
    }
   ],
   "source": [
    "x1[1][2]"
   ]
  },
  {
   "cell_type": "code",
   "execution_count": 70,
   "id": "8e7100c3c1ffc2a5",
   "metadata": {
    "ExecuteTime": {
     "end_time": "2024-07-11T07:52:46.458457Z",
     "start_time": "2024-07-11T07:52:46.455936Z"
    }
   },
   "outputs": [
    {
     "data": {
      "text/plain": [
       "array([1, 9, 9, 0, 4])"
      ]
     },
     "execution_count": 70,
     "metadata": {},
     "output_type": "execute_result"
    }
   ],
   "source": [
    "x1[:][2]"
   ]
  },
  {
   "cell_type": "code",
   "execution_count": 72,
   "id": "41eff149f2be386a",
   "metadata": {
    "ExecuteTime": {
     "end_time": "2024-07-11T07:54:33.514921Z",
     "start_time": "2024-07-11T07:54:33.509612Z"
    }
   },
   "outputs": [
    {
     "data": {
      "text/plain": [
       "7"
      ]
     },
     "execution_count": 72,
     "metadata": {},
     "output_type": "execute_result"
    }
   ],
   "source": [
    "x1[1, 3]"
   ]
  },
  {
   "cell_type": "code",
   "execution_count": 73,
   "id": "9076a83de1061579",
   "metadata": {
    "ExecuteTime": {
     "end_time": "2024-07-11T07:55:39.938161Z",
     "start_time": "2024-07-11T07:55:39.932844Z"
    }
   },
   "outputs": [],
   "source": [
    "L = np.arange(20)"
   ]
  },
  {
   "cell_type": "code",
   "execution_count": 74,
   "id": "68b73ca9d3acc507",
   "metadata": {
    "ExecuteTime": {
     "end_time": "2024-07-11T07:55:46.420131Z",
     "start_time": "2024-07-11T07:55:46.413778Z"
    }
   },
   "outputs": [
    {
     "data": {
      "text/plain": [
       "array([ 0,  2,  4,  6,  8, 10, 12, 14, 16, 18])"
      ]
     },
     "execution_count": 74,
     "metadata": {},
     "output_type": "execute_result"
    }
   ],
   "source": [
    "L[::2]"
   ]
  },
  {
   "cell_type": "code",
   "execution_count": 75,
   "id": "ad4672e02961b3e",
   "metadata": {
    "ExecuteTime": {
     "end_time": "2024-07-11T07:55:59.643582Z",
     "start_time": "2024-07-11T07:55:59.638853Z"
    }
   },
   "outputs": [
    {
     "data": {
      "text/plain": [
       "array([5, 3, 1])"
      ]
     },
     "execution_count": 75,
     "metadata": {},
     "output_type": "execute_result"
    }
   ],
   "source": [
    "L[5::-2]"
   ]
  },
  {
   "cell_type": "code",
   "execution_count": 76,
   "id": "671bfd3568454615",
   "metadata": {
    "ExecuteTime": {
     "end_time": "2024-07-11T08:44:32.946224Z",
     "start_time": "2024-07-11T08:44:32.920583Z"
    }
   },
   "outputs": [],
   "source": [
    "grid = np.arange(1, 10).reshape((3, 3))"
   ]
  },
  {
   "cell_type": "code",
   "execution_count": 77,
   "id": "cca5ed1317f67d61",
   "metadata": {
    "ExecuteTime": {
     "end_time": "2024-07-11T08:44:35.044449Z",
     "start_time": "2024-07-11T08:44:35.040982Z"
    }
   },
   "outputs": [
    {
     "data": {
      "text/plain": [
       "array([[1, 2, 3],\n",
       "       [4, 5, 6],\n",
       "       [7, 8, 9]])"
      ]
     },
     "execution_count": 77,
     "metadata": {},
     "output_type": "execute_result"
    }
   ],
   "source": [
    "grid"
   ]
  },
  {
   "cell_type": "code",
   "execution_count": 78,
   "id": "a43555c7c995529",
   "metadata": {
    "ExecuteTime": {
     "end_time": "2024-07-11T08:46:59.293476Z",
     "start_time": "2024-07-11T08:46:59.289574Z"
    }
   },
   "outputs": [],
   "source": [
    "x = np.arange(1, 10)"
   ]
  },
  {
   "cell_type": "code",
   "execution_count": 84,
   "id": "843157f295f07a8f",
   "metadata": {
    "ExecuteTime": {
     "end_time": "2024-07-11T08:47:37.389573Z",
     "start_time": "2024-07-11T08:47:37.383865Z"
    }
   },
   "outputs": [
    {
     "data": {
      "text/plain": [
       "array([[1],\n",
       "       [2],\n",
       "       [3],\n",
       "       [4],\n",
       "       [5],\n",
       "       [6],\n",
       "       [7],\n",
       "       [8],\n",
       "       [9]])"
      ]
     },
     "execution_count": 84,
     "metadata": {},
     "output_type": "execute_result"
    }
   ],
   "source": [
    "x[:, np.newaxis]"
   ]
  },
  {
   "cell_type": "markdown",
   "id": "116f1e13b281a035",
   "metadata": {},
   "source": [
    "数组拼接"
   ]
  },
  {
   "cell_type": "code",
   "execution_count": 85,
   "id": "8498939f9777fa56",
   "metadata": {
    "ExecuteTime": {
     "end_time": "2024-07-11T08:50:39.259471Z",
     "start_time": "2024-07-11T08:50:39.253193Z"
    }
   },
   "outputs": [
    {
     "data": {
      "text/plain": [
       "array([1, 2, 3, 3, 2, 1])"
      ]
     },
     "execution_count": 85,
     "metadata": {},
     "output_type": "execute_result"
    }
   ],
   "source": [
    "x = np.array([1, 2, 3])\n",
    "y = np.array([3, 2, 1])\n",
    "np.concatenate([x, y])"
   ]
  },
  {
   "cell_type": "code",
   "execution_count": 91,
   "id": "d0bdbb7cb8d606",
   "metadata": {
    "ExecuteTime": {
     "end_time": "2024-07-11T08:54:26.415778Z",
     "start_time": "2024-07-11T08:54:26.413773Z"
    }
   },
   "outputs": [],
   "source": [
    "grid = np.arange(1, 7).reshape((2, 3))"
   ]
  },
  {
   "cell_type": "code",
   "execution_count": 92,
   "id": "93c94bf1811e72c4",
   "metadata": {
    "ExecuteTime": {
     "end_time": "2024-07-11T08:54:35.499174Z",
     "start_time": "2024-07-11T08:54:35.496911Z"
    }
   },
   "outputs": [
    {
     "data": {
      "text/plain": [
       "array([[1, 2, 3],\n",
       "       [4, 5, 6],\n",
       "       [1, 2, 3],\n",
       "       [4, 5, 6]])"
      ]
     },
     "execution_count": 92,
     "metadata": {},
     "output_type": "execute_result"
    }
   ],
   "source": [
    "np.concatenate([grid, grid])"
   ]
  },
  {
   "cell_type": "code",
   "execution_count": 93,
   "id": "d0cbe0444bb363e2",
   "metadata": {
    "ExecuteTime": {
     "end_time": "2024-07-11T08:54:42.244498Z",
     "start_time": "2024-07-11T08:54:42.241476Z"
    }
   },
   "outputs": [
    {
     "data": {
      "text/plain": [
       "array([[1, 2, 3, 1, 2, 3],\n",
       "       [4, 5, 6, 4, 5, 6]])"
      ]
     },
     "execution_count": 93,
     "metadata": {},
     "output_type": "execute_result"
    }
   ],
   "source": [
    "np.concatenate([grid, grid], axis=1)"
   ]
  },
  {
   "cell_type": "code",
   "execution_count": 97,
   "id": "e4fe5885690e8794",
   "metadata": {
    "ExecuteTime": {
     "end_time": "2024-07-11T08:59:51.317128Z",
     "start_time": "2024-07-11T08:59:51.312564Z"
    }
   },
   "outputs": [
    {
     "data": {
      "text/plain": [
       "array([[1, 2, 3],\n",
       "       [9, 8, 7],\n",
       "       [6, 5, 4]])"
      ]
     },
     "execution_count": 97,
     "metadata": {},
     "output_type": "execute_result"
    }
   ],
   "source": [
    "x = np.array([1, 2, 3])\n",
    "y = np.array([[9, 8, 7], [6, 5, 4]])\n",
    "z = np.array([[1], [2]])\n",
    "np.vstack([x, y])"
   ]
  },
  {
   "cell_type": "code",
   "execution_count": 98,
   "id": "741bc72413d44827",
   "metadata": {
    "ExecuteTime": {
     "end_time": "2024-07-11T08:59:51.657593Z",
     "start_time": "2024-07-11T08:59:51.654892Z"
    }
   },
   "outputs": [
    {
     "data": {
      "text/plain": [
       "array([[9, 8, 7, 1],\n",
       "       [6, 5, 4, 2]])"
      ]
     },
     "execution_count": 98,
     "metadata": {},
     "output_type": "execute_result"
    }
   ],
   "source": [
    "np.hstack([y, z])"
   ]
  },
  {
   "cell_type": "code",
   "execution_count": 102,
   "id": "55a4e416d040f239",
   "metadata": {
    "ExecuteTime": {
     "end_time": "2024-07-11T09:02:08.200072Z",
     "start_time": "2024-07-11T09:02:08.194144Z"
    }
   },
   "outputs": [
    {
     "data": {
      "text/plain": [
       "array([[5, 6, 8],\n",
       "       [4, 1, 4],\n",
       "       [9, 8, 1]])"
      ]
     },
     "execution_count": 102,
     "metadata": {},
     "output_type": "execute_result"
    }
   ],
   "source": [
    "L = np.random.randint(0, 10, (3, 3))\n",
    "L"
   ]
  },
  {
   "cell_type": "code",
   "execution_count": 104,
   "id": "7179af399fdd82e8",
   "metadata": {
    "ExecuteTime": {
     "end_time": "2024-07-11T09:02:22.750428Z",
     "start_time": "2024-07-11T09:02:22.746815Z"
    }
   },
   "outputs": [
    {
     "data": {
      "text/plain": [
       "array([6, 1, 8])"
      ]
     },
     "execution_count": 104,
     "metadata": {},
     "output_type": "execute_result"
    }
   ],
   "source": [
    "view = L[:, 1]\n",
    "view"
   ]
  },
  {
   "cell_type": "code",
   "execution_count": 105,
   "id": "6049ef93dbb1228c",
   "metadata": {
    "ExecuteTime": {
     "end_time": "2024-07-11T09:02:31.892853Z",
     "start_time": "2024-07-11T09:02:31.889185Z"
    }
   },
   "outputs": [],
   "source": [
    "view[0] = 99"
   ]
  },
  {
   "cell_type": "code",
   "execution_count": 106,
   "id": "ac01b2fe2005105c",
   "metadata": {
    "ExecuteTime": {
     "end_time": "2024-07-11T09:02:34.425991Z",
     "start_time": "2024-07-11T09:02:34.422929Z"
    }
   },
   "outputs": [
    {
     "data": {
      "text/plain": [
       "array([[ 5, 99,  8],\n",
       "       [ 4,  1,  4],\n",
       "       [ 9,  8,  1]])"
      ]
     },
     "execution_count": 106,
     "metadata": {},
     "output_type": "execute_result"
    }
   ],
   "source": [
    "L"
   ]
  },
  {
   "cell_type": "code",
   "execution_count": 107,
   "id": "fc3792af41036a13",
   "metadata": {
    "ExecuteTime": {
     "end_time": "2024-07-11T09:03:37.319543Z",
     "start_time": "2024-07-11T09:03:37.314242Z"
    }
   },
   "outputs": [
    {
     "data": {
      "text/plain": [
       "array([[ 5, 99,  8],\n",
       "       [ 4,  1,  4],\n",
       "       [ 9,  8,  1]])"
      ]
     },
     "execution_count": 107,
     "metadata": {},
     "output_type": "execute_result"
    }
   ],
   "source": [
    "view = L[:, 1].copy()\n",
    "view[0] = 100\n",
    "L"
   ]
  },
  {
   "cell_type": "markdown",
   "id": "9c18cb9c139a2b84",
   "metadata": {},
   "source": [
    "分裂"
   ]
  },
  {
   "cell_type": "code",
   "execution_count": 109,
   "id": "1f444e09f5c3049a",
   "metadata": {
    "ExecuteTime": {
     "end_time": "2024-07-11T09:05:46.102328Z",
     "start_time": "2024-07-11T09:05:46.098333Z"
    }
   },
   "outputs": [
    {
     "data": {
      "text/plain": [
       "array([ 0,  2,  4,  6,  8, 10, 12, 14, 16, 18])"
      ]
     },
     "execution_count": 109,
     "metadata": {},
     "output_type": "execute_result"
    }
   ],
   "source": [
    "L = np.arange(0, 20, 2)\n",
    "L"
   ]
  },
  {
   "cell_type": "code",
   "execution_count": 112,
   "id": "a9f3c022902ec41b",
   "metadata": {
    "ExecuteTime": {
     "end_time": "2024-07-11T09:06:04.621079Z",
     "start_time": "2024-07-11T09:06:04.618993Z"
    }
   },
   "outputs": [],
   "source": [
    "x1, x2, x3 = np.split(L, [2, 6])"
   ]
  },
  {
   "cell_type": "code",
   "execution_count": 113,
   "id": "cabfa3a88dc218db",
   "metadata": {
    "ExecuteTime": {
     "end_time": "2024-07-11T09:06:05.295867Z",
     "start_time": "2024-07-11T09:06:05.293288Z"
    }
   },
   "outputs": [
    {
     "data": {
      "text/plain": [
       "(array([0, 2]), array([ 4,  6,  8, 10]), array([12, 14, 16, 18]))"
      ]
     },
     "execution_count": 113,
     "metadata": {},
     "output_type": "execute_result"
    }
   ],
   "source": [
    "x1, x2, x3"
   ]
  },
  {
   "cell_type": "code",
   "execution_count": 115,
   "id": "15828999ef288b56",
   "metadata": {
    "ExecuteTime": {
     "end_time": "2024-07-11T09:08:43.322548Z",
     "start_time": "2024-07-11T09:08:43.319125Z"
    }
   },
   "outputs": [],
   "source": [
    "left, right = np.split(L, 2)"
   ]
  },
  {
   "cell_type": "code",
   "execution_count": 116,
   "id": "6f9ab5c856799f25",
   "metadata": {
    "ExecuteTime": {
     "end_time": "2024-07-11T09:08:47.829636Z",
     "start_time": "2024-07-11T09:08:47.827246Z"
    }
   },
   "outputs": [
    {
     "data": {
      "text/plain": [
       "(array([0, 2, 4, 6, 8]), array([10, 12, 14, 16, 18]))"
      ]
     },
     "execution_count": 116,
     "metadata": {},
     "output_type": "execute_result"
    }
   ],
   "source": [
    "left, right"
   ]
  },
  {
   "cell_type": "code",
   "execution_count": 117,
   "id": "fb93533d71512738",
   "metadata": {
    "ExecuteTime": {
     "end_time": "2024-07-11T09:09:57.884900Z",
     "start_time": "2024-07-11T09:09:57.881025Z"
    }
   },
   "outputs": [],
   "source": [
    "left, right = np.split(L, [2])"
   ]
  },
  {
   "cell_type": "code",
   "execution_count": 118,
   "id": "8f3392f41fbd7391",
   "metadata": {
    "ExecuteTime": {
     "end_time": "2024-07-11T09:10:01.659310Z",
     "start_time": "2024-07-11T09:10:01.656433Z"
    }
   },
   "outputs": [
    {
     "data": {
      "text/plain": [
       "(array([0, 2]), array([ 4,  6,  8, 10, 12, 14, 16, 18]))"
      ]
     },
     "execution_count": 118,
     "metadata": {},
     "output_type": "execute_result"
    }
   ],
   "source": [
    "left, right\n"
   ]
  },
  {
   "cell_type": "code",
   "execution_count": 119,
   "id": "aafb6d56be9ab566",
   "metadata": {
    "ExecuteTime": {
     "end_time": "2024-07-11T09:10:31.318634Z",
     "start_time": "2024-07-11T09:10:31.314622Z"
    }
   },
   "outputs": [],
   "source": [
    "left, right = np.hsplit(L, [2])"
   ]
  },
  {
   "cell_type": "code",
   "execution_count": 120,
   "id": "666d4c63c59a4390",
   "metadata": {
    "ExecuteTime": {
     "end_time": "2024-07-11T09:10:39.052548Z",
     "start_time": "2024-07-11T09:10:39.049591Z"
    }
   },
   "outputs": [
    {
     "data": {
      "text/plain": [
       "(array([0, 2]), array([ 4,  6,  8, 10, 12, 14, 16, 18]))"
      ]
     },
     "execution_count": 120,
     "metadata": {},
     "output_type": "execute_result"
    }
   ],
   "source": [
    "left, right\n"
   ]
  },
  {
   "cell_type": "code",
   "execution_count": 121,
   "id": "45bf98305940910e",
   "metadata": {
    "ExecuteTime": {
     "end_time": "2024-07-11T09:13:38.699989Z",
     "start_time": "2024-07-11T09:13:38.692901Z"
    }
   },
   "outputs": [
    {
     "data": {
      "text/plain": [
       "array([0.e+000, 1.e-323, 2.e-323, 3.e-323, 4.e-323, 5.e-323, 6.e-323,\n",
       "       7.e-323, 8.e-323, 9.e-323])"
      ]
     },
     "execution_count": 121,
     "metadata": {},
     "output_type": "execute_result"
    }
   ],
   "source": [
    "np.empty(10)"
   ]
  },
  {
   "cell_type": "code",
   "execution_count": 122,
   "id": "68666eecd03893f5",
   "metadata": {
    "ExecuteTime": {
     "end_time": "2024-07-11T09:17:32.637610Z",
     "start_time": "2024-07-11T09:17:32.624421Z"
    }
   },
   "outputs": [],
   "source": [
    "x = np.random.randint(0, 10, 10)"
   ]
  },
  {
   "cell_type": "code",
   "execution_count": 123,
   "id": "36c1d3e6e45d42ce",
   "metadata": {
    "ExecuteTime": {
     "end_time": "2024-07-11T09:17:34.847161Z",
     "start_time": "2024-07-11T09:17:34.844646Z"
    }
   },
   "outputs": [
    {
     "data": {
      "text/plain": [
       "array([ 6, 12, 14, 14,  8, 11, 12,  7,  5,  8])"
      ]
     },
     "execution_count": 123,
     "metadata": {},
     "output_type": "execute_result"
    }
   ],
   "source": [
    "x + 5"
   ]
  },
  {
   "cell_type": "code",
   "execution_count": 124,
   "id": "f28c80b8be59c74f",
   "metadata": {
    "ExecuteTime": {
     "end_time": "2024-07-11T09:17:39.121457Z",
     "start_time": "2024-07-11T09:17:39.114916Z"
    }
   },
   "outputs": [
    {
     "data": {
      "text/plain": [
       "array([0.1, 0.7, 0.9, 0.9, 0.3, 0.6, 0.7, 0.2, 0. , 0.3])"
      ]
     },
     "execution_count": 124,
     "metadata": {},
     "output_type": "execute_result"
    }
   ],
   "source": [
    "x / 10"
   ]
  },
  {
   "cell_type": "code",
   "execution_count": 125,
   "id": "1efc1928fea20cc6",
   "metadata": {
    "ExecuteTime": {
     "end_time": "2024-07-11T09:17:48.312168Z",
     "start_time": "2024-07-11T09:17:48.307520Z"
    }
   },
   "outputs": [
    {
     "data": {
      "text/plain": [
       "array([ 20, 140, 180, 180,  60, 120, 140,  40,   0,  60])"
      ]
     },
     "execution_count": 125,
     "metadata": {},
     "output_type": "execute_result"
    }
   ],
   "source": [
    "x * 20"
   ]
  },
  {
   "cell_type": "code",
   "execution_count": 126,
   "id": "3f10610be990d9f2",
   "metadata": {
    "ExecuteTime": {
     "end_time": "2024-07-11T09:17:50.665354Z",
     "start_time": "2024-07-11T09:17:50.663018Z"
    }
   },
   "outputs": [
    {
     "data": {
      "text/plain": [
       "array([0, 3, 4, 4, 1, 3, 3, 1, 0, 1])"
      ]
     },
     "execution_count": 126,
     "metadata": {},
     "output_type": "execute_result"
    }
   ],
   "source": [
    "x // 2"
   ]
  },
  {
   "cell_type": "code",
   "execution_count": 131,
   "id": "8c2249dcf7bcb3a9",
   "metadata": {
    "ExecuteTime": {
     "end_time": "2024-07-11T09:22:56.134781Z",
     "start_time": "2024-07-11T09:22:56.131978Z"
    }
   },
   "outputs": [
    {
     "name": "stdout",
     "output_type": "stream",
     "text": [
      "delta: [0.         0.52359878 1.04719755 1.57079633 2.0943951  2.61799388\n",
      " 3.14159265]\n",
      "sin(delta): [0.00000000e+00 5.00000000e-01 8.66025404e-01 1.00000000e+00\n",
      " 8.66025404e-01 5.00000000e-01 1.22464680e-16]\n"
     ]
    }
   ],
   "source": [
    "delta = np.linspace(0, np.pi, 7)\n",
    "print(\"delta:\", delta)\n",
    "print(\"sin(delta):\", np.sin(delta))"
   ]
  },
  {
   "cell_type": "code",
   "execution_count": 132,
   "id": "f0990c9b9c2260fe",
   "metadata": {
    "ExecuteTime": {
     "end_time": "2024-07-11T09:23:42.769225Z",
     "start_time": "2024-07-11T09:23:42.764238Z"
    }
   },
   "outputs": [
    {
     "data": {
      "text/plain": [
       "array([-1.57079633,  0.        ,  1.57079633])"
      ]
     },
     "execution_count": 132,
     "metadata": {},
     "output_type": "execute_result"
    }
   ],
   "source": [
    "x = [-1, 0, 1]\n",
    "np.arcsin(x)"
   ]
  },
  {
   "cell_type": "code",
   "execution_count": 134,
   "id": "39bc85c9ec29fce7",
   "metadata": {
    "ExecuteTime": {
     "end_time": "2024-07-11T09:31:31.403137Z",
     "start_time": "2024-07-11T09:31:31.389289Z"
    }
   },
   "outputs": [
    {
     "data": {
      "text/plain": [
       "array([ 0.,  1.,  4.,  9., 16.])"
      ]
     },
     "execution_count": 134,
     "metadata": {},
     "output_type": "execute_result"
    }
   ],
   "source": [
    "x = np.arange(0, 5, 1)\n",
    "y = np.empty(len(x))\n",
    "np.power(x, 2, out=y)\n",
    "y"
   ]
  },
  {
   "cell_type": "code",
   "execution_count": 136,
   "id": "b4135e234b9b52a0",
   "metadata": {
    "ExecuteTime": {
     "end_time": "2024-07-11T09:33:44.819167Z",
     "start_time": "2024-07-11T09:33:44.815465Z"
    }
   },
   "outputs": [
    {
     "data": {
      "text/plain": [
       "24"
      ]
     },
     "execution_count": 136,
     "metadata": {},
     "output_type": "execute_result"
    }
   ],
   "source": [
    "x = np.arange(1, 5, 1)\n",
    "np.multiply.reduce(x)"
   ]
  },
  {
   "cell_type": "code",
   "execution_count": 137,
   "id": "9d2e480643d4b65f",
   "metadata": {
    "ExecuteTime": {
     "end_time": "2024-07-11T09:34:50.616211Z",
     "start_time": "2024-07-11T09:34:50.611124Z"
    }
   },
   "outputs": [
    {
     "data": {
      "text/plain": [
       "array([ 1,  2,  6, 24])"
      ]
     },
     "execution_count": 137,
     "metadata": {},
     "output_type": "execute_result"
    }
   ],
   "source": [
    "x = np.arange(1, 5, 1)\n",
    "np.multiply.accumulate(x)"
   ]
  },
  {
   "cell_type": "code",
   "execution_count": 139,
   "id": "ed84eb7a702e7af3",
   "metadata": {
    "ExecuteTime": {
     "end_time": "2024-07-11T09:37:42.301344Z",
     "start_time": "2024-07-11T09:37:42.294777Z"
    }
   },
   "outputs": [
    {
     "data": {
      "text/plain": [
       "array([[ 1,  2,  3,  4],\n",
       "       [ 2,  4,  6,  8],\n",
       "       [ 3,  6,  9, 12],\n",
       "       [ 4,  8, 12, 16]])"
      ]
     },
     "execution_count": 139,
     "metadata": {},
     "output_type": "execute_result"
    }
   ],
   "source": [
    "x = np.arange(1, 5)\n",
    "np.multiply.outer(x,x)"
   ]
  },
  {
   "cell_type": "markdown",
   "id": "54869632bad88a1e",
   "metadata": {},
   "source": [
    "聚合函数"
   ]
  },
  {
   "cell_type": "code",
   "execution_count": 150,
   "id": "f9170c2663f6c1a4",
   "metadata": {
    "ExecuteTime": {
     "end_time": "2024-07-11T09:48:26.984854Z",
     "start_time": "2024-07-11T09:48:26.977542Z"
    }
   },
   "outputs": [
    {
     "data": {
      "text/plain": [
       "array([[3, 4, 1],\n",
       "       [3, 0, 0],\n",
       "       [0, 1, 0]])"
      ]
     },
     "execution_count": 150,
     "metadata": {},
     "output_type": "execute_result"
    }
   ],
   "source": [
    "x = np.random.randint(0,5,(3,3))\n",
    "x"
   ]
  },
  {
   "cell_type": "code",
   "execution_count": 151,
   "id": "e86765eab1e6af82",
   "metadata": {
    "ExecuteTime": {
     "end_time": "2024-07-11T09:48:29.053695Z",
     "start_time": "2024-07-11T09:48:29.051232Z"
    }
   },
   "outputs": [
    {
     "data": {
      "text/plain": [
       "(12, array([8, 3, 1]))"
      ]
     },
     "execution_count": 151,
     "metadata": {},
     "output_type": "execute_result"
    }
   ],
   "source": [
    "np.sum(x), np.sum(x, axis = 1)"
   ]
  },
  {
   "cell_type": "code",
   "execution_count": 157,
   "id": "f4a39524c7228fb3",
   "metadata": {
    "ExecuteTime": {
     "end_time": "2024-07-13T09:09:48.522920Z",
     "start_time": "2024-07-13T09:09:48.520433Z"
    }
   },
   "outputs": [
    {
     "data": {
      "text/plain": [
       "array([0, 1, 2])"
      ]
     },
     "execution_count": 157,
     "metadata": {},
     "output_type": "execute_result"
    }
   ],
   "source": [
    "a = np.arange(3)\n",
    "a"
   ]
  },
  {
   "cell_type": "code",
   "execution_count": 154,
   "id": "639af7b23ebcec3",
   "metadata": {
    "ExecuteTime": {
     "end_time": "2024-07-13T09:09:06.399946Z",
     "start_time": "2024-07-13T09:09:06.395077Z"
    }
   },
   "outputs": [
    {
     "data": {
      "text/plain": [
       "array([[0],\n",
       "       [1],\n",
       "       [2]])"
      ]
     },
     "execution_count": 154,
     "metadata": {},
     "output_type": "execute_result"
    }
   ],
   "source": [
    "a[:, np.newaxis]"
   ]
  },
  {
   "cell_type": "code",
   "execution_count": 155,
   "id": "e1c1b59b8d440a41",
   "metadata": {
    "ExecuteTime": {
     "end_time": "2024-07-13T09:09:32.008652Z",
     "start_time": "2024-07-13T09:09:32.003726Z"
    }
   },
   "outputs": [
    {
     "data": {
      "text/plain": [
       "array([[0, 1, 2]])"
      ]
     },
     "execution_count": 155,
     "metadata": {},
     "output_type": "execute_result"
    }
   ],
   "source": [
    "a[np.newaxis,:]"
   ]
  },
  {
   "cell_type": "code",
   "execution_count": 158,
   "id": "3a2edd151ef2e6be",
   "metadata": {
    "ExecuteTime": {
     "end_time": "2024-07-13T09:11:08.599432Z",
     "start_time": "2024-07-13T09:11:08.594811Z"
    }
   },
   "outputs": [
    {
     "data": {
      "text/plain": [
       "(array([[1., 1.],\n",
       "        [1., 1.],\n",
       "        [1., 1.]]),\n",
       " array([0, 1, 2]))"
      ]
     },
     "execution_count": 158,
     "metadata": {},
     "output_type": "execute_result"
    }
   ],
   "source": [
    "M = np.ones((3,2))\n",
    "a = np.arange(3)\n",
    "M, a"
   ]
  },
  {
   "cell_type": "code",
   "execution_count": 159,
   "id": "2419c09aa04ae528",
   "metadata": {
    "ExecuteTime": {
     "end_time": "2024-07-13T09:11:14.745042Z",
     "start_time": "2024-07-13T09:11:14.731193Z"
    }
   },
   "outputs": [
    {
     "ename": "ValueError",
     "evalue": "operands could not be broadcast together with shapes (3,2) (3,) ",
     "output_type": "error",
     "traceback": [
      "\u001B[0;31m---------------------------------------------------------------------------\u001B[0m",
      "\u001B[0;31mValueError\u001B[0m                                Traceback (most recent call last)",
      "Cell \u001B[0;32mIn[159], line 1\u001B[0m\n\u001B[0;32m----> 1\u001B[0m M \u001B[38;5;241m+\u001B[39m a\n        M \u001B[0;34m= array([[1., 1.],\n       [1., 1.],\n       [1., 1.]])\u001B[0m\u001B[0;34m\n        \u001B[0ma \u001B[0;34m= array([0, 1, 2])\u001B[0m\n",
      "\u001B[0;31mValueError\u001B[0m: operands could not be broadcast together with shapes (3,2) (3,) "
     ]
    }
   ],
   "source": [
    "M + a"
   ]
  },
  {
   "cell_type": "code",
   "execution_count": 162,
   "id": "9604583d13e333cf",
   "metadata": {
    "ExecuteTime": {
     "end_time": "2024-07-13T09:11:58.191954Z",
     "start_time": "2024-07-13T09:11:58.185847Z"
    }
   },
   "outputs": [
    {
     "data": {
      "text/plain": [
       "array([[1., 1.],\n",
       "       [2., 2.],\n",
       "       [3., 3.]])"
      ]
     },
     "execution_count": 162,
     "metadata": {},
     "output_type": "execute_result"
    }
   ],
   "source": [
    "M + a[:,np.newaxis]"
   ]
  },
  {
   "cell_type": "markdown",
   "id": "a48a6e974f8ae59",
   "metadata": {},
   "source": [
    "归一化"
   ]
  },
  {
   "cell_type": "code",
   "execution_count": 3,
   "id": "f4422ec4b5b93357",
   "metadata": {
    "ExecuteTime": {
     "end_time": "2024-07-13T09:34:40.390829Z",
     "start_time": "2024-07-13T09:34:40.388827Z"
    }
   },
   "outputs": [],
   "source": [
    "x = np.random.random((10,3))\n",
    "\n",
    "xmean = x.mean(0)"
   ]
  },
  {
   "cell_type": "code",
   "execution_count": 4,
   "id": "e4389b9a342e5517",
   "metadata": {
    "ExecuteTime": {
     "end_time": "2024-07-13T09:34:41.101867Z",
     "start_time": "2024-07-13T09:34:41.098629Z"
    }
   },
   "outputs": [
    {
     "data": {
      "text/plain": [
       "array([0.42240628, 0.62626285, 0.60889927])"
      ]
     },
     "execution_count": 4,
     "metadata": {},
     "output_type": "execute_result"
    }
   ],
   "source": [
    "xmean"
   ]
  },
  {
   "cell_type": "code",
   "execution_count": 5,
   "id": "b6db227b875884b0",
   "metadata": {
    "ExecuteTime": {
     "end_time": "2024-07-13T09:34:41.641237Z",
     "start_time": "2024-07-13T09:34:41.638293Z"
    }
   },
   "outputs": [
    {
     "data": {
      "text/plain": [
       "array([0.77408808, 0.66600941, 0.18706851, 0.49826525, 0.58637123,\n",
       "       0.51807602, 0.74344261, 0.63295019, 0.27419183, 0.64476485])"
      ]
     },
     "execution_count": 5,
     "metadata": {},
     "output_type": "execute_result"
    }
   ],
   "source": [
    "x.mean(1)"
   ]
  },
  {
   "cell_type": "code",
   "execution_count": 6,
   "id": "3fc02bdbdd812613",
   "metadata": {
    "ExecuteTime": {
     "end_time": "2024-07-13T09:34:42.293530Z",
     "start_time": "2024-07-13T09:34:42.291964Z"
    }
   },
   "outputs": [],
   "source": [
    "x_centerd = x - xmean"
   ]
  },
  {
   "cell_type": "code",
   "execution_count": 7,
   "id": "f83ec237865a7780",
   "metadata": {
    "ExecuteTime": {
     "end_time": "2024-07-13T09:34:42.921237Z",
     "start_time": "2024-07-13T09:34:42.918833Z"
    }
   },
   "outputs": [
    {
     "data": {
      "text/plain": [
       "array([[ 0.49658022,  0.04175464,  0.12636098],\n",
       "       [ 0.23614823, -0.20712055,  0.31143216],\n",
       "       [-0.12314308, -0.46785839, -0.50536139],\n",
       "       [-0.15965053,  0.21982542, -0.22294753],\n",
       "       [-0.12879071,  0.0649088 ,  0.16542721],\n",
       "       [-0.33198336,  0.31241039, -0.08376736],\n",
       "       [ 0.37596972,  0.01855155,  0.17823817],\n",
       "       [ 0.35428162, -0.02269998, -0.09029948],\n",
       "       [-0.32013025, -0.27181581, -0.24304685],\n",
       "       [-0.39928186,  0.31204392,  0.36396409]])"
      ]
     },
     "execution_count": 7,
     "metadata": {},
     "output_type": "execute_result"
    }
   ],
   "source": [
    "x_centerd"
   ]
  },
  {
   "cell_type": "code",
   "execution_count": 8,
   "id": "1cacf934b99f75be",
   "metadata": {
    "ExecuteTime": {
     "end_time": "2024-07-13T09:34:43.807280Z",
     "start_time": "2024-07-13T09:34:43.804566Z"
    }
   },
   "outputs": [
    {
     "data": {
      "text/plain": [
       "array([-5.55111512e-17,  1.11022302e-17, -1.11022302e-16])"
      ]
     },
     "execution_count": 8,
     "metadata": {},
     "output_type": "execute_result"
    }
   ],
   "source": [
    "x_centerd.mean(0)"
   ]
  },
  {
   "cell_type": "markdown",
   "id": "ab15f38f64b4cf8e",
   "metadata": {},
   "source": [
    "掩码"
   ]
  },
  {
   "cell_type": "code",
   "execution_count": 10,
   "id": "42380e9d76a47499",
   "metadata": {
    "ExecuteTime": {
     "end_time": "2024-07-13T09:34:59.375584Z",
     "start_time": "2024-07-13T09:34:59.373194Z"
    }
   },
   "outputs": [
    {
     "data": {
      "text/plain": [
       "array([[7, 5, 8],\n",
       "       [6, 6, 2],\n",
       "       [8, 3, 6]])"
      ]
     },
     "execution_count": 10,
     "metadata": {},
     "output_type": "execute_result"
    }
   ],
   "source": [
    "x = np.random.randint(0, 10, (3, 3))\n",
    "x"
   ]
  },
  {
   "cell_type": "code",
   "execution_count": 11,
   "id": "d53052edfd0d69f",
   "metadata": {
    "ExecuteTime": {
     "end_time": "2024-07-13T09:35:07.856504Z",
     "start_time": "2024-07-13T09:35:07.854265Z"
    }
   },
   "outputs": [
    {
     "data": {
      "text/plain": [
       "array([[ True,  True,  True],\n",
       "       [ True,  True, False],\n",
       "       [ True, False,  True]])"
      ]
     },
     "execution_count": 11,
     "metadata": {},
     "output_type": "execute_result"
    }
   ],
   "source": [
    "x>3"
   ]
  },
  {
   "cell_type": "code",
   "execution_count": 12,
   "id": "66ddb5c24b8a8a67",
   "metadata": {
    "ExecuteTime": {
     "end_time": "2024-07-13T09:35:29.103309Z",
     "start_time": "2024-07-13T09:35:29.100518Z"
    }
   },
   "outputs": [
    {
     "data": {
      "text/plain": [
       "array([7, 5, 8, 6, 6, 8, 6])"
      ]
     },
     "execution_count": 12,
     "metadata": {},
     "output_type": "execute_result"
    }
   ],
   "source": [
    "x[x>3]"
   ]
  },
  {
   "cell_type": "code",
   "execution_count": 18,
   "id": "65464ce26d645d31",
   "metadata": {
    "ExecuteTime": {
     "end_time": "2024-07-13T09:37:26.119438Z",
     "start_time": "2024-07-13T09:37:26.117281Z"
    }
   },
   "outputs": [
    {
     "data": {
      "text/plain": [
       "array([[False, False, False],\n",
       "       [False, False, False],\n",
       "       [False,  True, False]])"
      ]
     },
     "execution_count": 18,
     "metadata": {},
     "output_type": "execute_result"
    }
   ],
   "source": [
    "x==3"
   ]
  },
  {
   "cell_type": "code",
   "execution_count": 19,
   "id": "957cebe53d9a8eb4",
   "metadata": {
    "ExecuteTime": {
     "end_time": "2024-07-13T09:40:14.864614Z",
     "start_time": "2024-07-13T09:40:14.859353Z"
    }
   },
   "outputs": [
    {
     "data": {
      "text/plain": [
       "True"
      ]
     },
     "execution_count": 19,
     "metadata": {},
     "output_type": "execute_result"
    }
   ],
   "source": [
    "np.any(x==3)"
   ]
  },
  {
   "cell_type": "code",
   "execution_count": 20,
   "id": "9e3be6c49571c581",
   "metadata": {
    "ExecuteTime": {
     "end_time": "2024-07-13T09:40:21.142368Z",
     "start_time": "2024-07-13T09:40:21.139808Z"
    }
   },
   "outputs": [
    {
     "data": {
      "text/plain": [
       "False"
      ]
     },
     "execution_count": 20,
     "metadata": {},
     "output_type": "execute_result"
    }
   ],
   "source": [
    "np.all(x==3)"
   ]
  },
  {
   "cell_type": "code",
   "execution_count": 21,
   "id": "2c66ce2d4f9f5d99",
   "metadata": {
    "ExecuteTime": {
     "end_time": "2024-07-13T09:40:29.670348Z",
     "start_time": "2024-07-13T09:40:29.668096Z"
    }
   },
   "outputs": [
    {
     "data": {
      "text/plain": [
       "array([False, False,  True])"
      ]
     },
     "execution_count": 21,
     "metadata": {},
     "output_type": "execute_result"
    }
   ],
   "source": [
    "np.any(x==3,axis=1)"
   ]
  },
  {
   "cell_type": "code",
   "execution_count": 22,
   "id": "e4ffceb3d155cc23",
   "metadata": {
    "ExecuteTime": {
     "end_time": "2024-07-13T09:40:52.103020Z",
     "start_time": "2024-07-13T09:40:52.101002Z"
    }
   },
   "outputs": [
    {
     "data": {
      "text/plain": [
       "array([False,  True, False])"
      ]
     },
     "execution_count": 22,
     "metadata": {},
     "output_type": "execute_result"
    }
   ],
   "source": [
    "np.any(x==3,axis=0)"
   ]
  },
  {
   "cell_type": "code",
   "execution_count": 24,
   "id": "32bc0d53af8b3df5",
   "metadata": {
    "ExecuteTime": {
     "end_time": "2024-07-13T09:41:37.321982Z",
     "start_time": "2024-07-13T09:41:37.319615Z"
    }
   },
   "outputs": [
    {
     "data": {
      "text/plain": [
       "7"
      ]
     },
     "execution_count": 24,
     "metadata": {},
     "output_type": "execute_result"
    }
   ],
   "source": [
    "np.sum(x>3)"
   ]
  },
  {
   "cell_type": "code",
   "execution_count": 25,
   "id": "c5a7f50ce59e6296",
   "metadata": {
    "ExecuteTime": {
     "end_time": "2024-07-13T09:41:42.991455Z",
     "start_time": "2024-07-13T09:41:42.988899Z"
    }
   },
   "outputs": [
    {
     "data": {
      "text/plain": [
       "array([3, 2, 2])"
      ]
     },
     "execution_count": 25,
     "metadata": {},
     "output_type": "execute_result"
    }
   ],
   "source": [
    "np.sum(x>3,axis=1)"
   ]
  },
  {
   "cell_type": "code",
   "execution_count": 26,
   "id": "3b1ddd1a246973ea",
   "metadata": {
    "ExecuteTime": {
     "end_time": "2024-07-13T09:42:43.139415Z",
     "start_time": "2024-07-13T09:42:43.134938Z"
    }
   },
   "outputs": [
    {
     "data": {
      "text/plain": [
       "array([5, 6, 6, 6])"
      ]
     },
     "execution_count": 26,
     "metadata": {},
     "output_type": "execute_result"
    }
   ],
   "source": [
    "x[(x>3)& (x<7)]"
   ]
  },
  {
   "cell_type": "markdown",
   "id": "4356c49dcdd2f14b",
   "metadata": {},
   "source": [
    "花哨索引"
   ]
  },
  {
   "cell_type": "code",
   "execution_count": 28,
   "id": "f62cd6556f4fdeb9",
   "metadata": {
    "ExecuteTime": {
     "end_time": "2024-07-13T09:46:39.055441Z",
     "start_time": "2024-07-13T09:46:39.052979Z"
    }
   },
   "outputs": [
    {
     "data": {
      "text/plain": [
       "array([1, 0, 8, 6, 0, 9, 3, 6, 7, 5])"
      ]
     },
     "execution_count": 28,
     "metadata": {},
     "output_type": "execute_result"
    }
   ],
   "source": [
    "x=np.random.randint(0,10,10)\n",
    "x"
   ]
  },
  {
   "cell_type": "code",
   "execution_count": 29,
   "id": "2aa979b9a1e68750",
   "metadata": {
    "ExecuteTime": {
     "end_time": "2024-07-13T09:46:53.961144Z",
     "start_time": "2024-07-13T09:46:53.958621Z"
    }
   },
   "outputs": [
    {
     "data": {
      "text/plain": [
       "[6, 6, 5]"
      ]
     },
     "execution_count": 29,
     "metadata": {},
     "output_type": "execute_result"
    }
   ],
   "source": [
    "[x[3], x[7], x[9]]"
   ]
  },
  {
   "cell_type": "code",
   "execution_count": 30,
   "id": "44e3074856327ac",
   "metadata": {
    "ExecuteTime": {
     "end_time": "2024-07-13T09:47:21.241007Z",
     "start_time": "2024-07-13T09:47:21.238742Z"
    }
   },
   "outputs": [
    {
     "data": {
      "text/plain": [
       "array([6, 6, 5])"
      ]
     },
     "execution_count": 30,
     "metadata": {},
     "output_type": "execute_result"
    }
   ],
   "source": [
    "ind = [3, 7, 9]\n",
    "x[ind]"
   ]
  },
  {
   "cell_type": "code",
   "execution_count": 31,
   "id": "189ea8a86f1b13f0",
   "metadata": {
    "ExecuteTime": {
     "end_time": "2024-07-13T09:47:46.489112Z",
     "start_time": "2024-07-13T09:47:46.487009Z"
    }
   },
   "outputs": [
    {
     "data": {
      "text/plain": [
       "array([[6, 6],\n",
       "       [5, 0]])"
      ]
     },
     "execution_count": 31,
     "metadata": {},
     "output_type": "execute_result"
    }
   ],
   "source": [
    "ind =np.array([[3,7],[9,1]])\n",
    "x[ind]"
   ]
  },
  {
   "cell_type": "code",
   "execution_count": 50,
   "id": "5c753ee27fe97eba",
   "metadata": {
    "ExecuteTime": {
     "end_time": "2024-07-13T10:04:17.152711Z",
     "start_time": "2024-07-13T10:04:17.150189Z"
    }
   },
   "outputs": [
    {
     "data": {
      "text/plain": [
       "array([[ 0,  1,  2,  3],\n",
       "       [ 4,  5,  6,  7],\n",
       "       [ 8,  9, 10, 11]])"
      ]
     },
     "execution_count": 50,
     "metadata": {},
     "output_type": "execute_result"
    }
   ],
   "source": [
    "x=np.arange(12).reshape((3,4))\n",
    "x"
   ]
  },
  {
   "cell_type": "code",
   "execution_count": 51,
   "id": "3d93d8d7a722d78e",
   "metadata": {
    "ExecuteTime": {
     "end_time": "2024-07-13T10:04:17.522954Z",
     "start_time": "2024-07-13T10:04:17.491329Z"
    }
   },
   "outputs": [
    {
     "ename": "IndexError",
     "evalue": "index 3 is out of bounds for axis 0 with size 3",
     "output_type": "error",
     "traceback": [
      "\u001B[0;31m---------------------------------------------------------------------------\u001B[0m",
      "\u001B[0;31mIndexError\u001B[0m                                Traceback (most recent call last)",
      "Cell \u001B[0;32mIn[51], line 1\u001B[0m\n\u001B[0;32m----> 1\u001B[0m x[ind]\n",
      "\u001B[0;31mIndexError\u001B[0m: index 3 is out of bounds for axis 0 with size 3"
     ]
    }
   ],
   "source": [
    "x[ind]"
   ]
  },
  {
   "cell_type": "code",
   "execution_count": 52,
   "id": "f34c950c1c08a18e",
   "metadata": {
    "ExecuteTime": {
     "end_time": "2024-07-13T10:04:18.161338Z",
     "start_time": "2024-07-13T10:04:18.158686Z"
    }
   },
   "outputs": [
    {
     "data": {
      "text/plain": [
       "array([ 2,  5, 11])"
      ]
     },
     "execution_count": 52,
     "metadata": {},
     "output_type": "execute_result"
    }
   ],
   "source": [
    "row = np.array([0,1,2])\n",
    "col = np.array([2,1,3])\n",
    "x[row, col]"
   ]
  },
  {
   "cell_type": "code",
   "execution_count": 53,
   "id": "b905eafd7bd3bad",
   "metadata": {
    "ExecuteTime": {
     "end_time": "2024-07-13T10:04:18.690099Z",
     "start_time": "2024-07-13T10:04:18.687993Z"
    }
   },
   "outputs": [
    {
     "data": {
      "text/plain": [
       "array([[0, 0, 0],\n",
       "       [2, 1, 3],\n",
       "       [4, 2, 6]])"
      ]
     },
     "execution_count": 53,
     "metadata": {},
     "output_type": "execute_result"
    }
   ],
   "source": [
    "row[:,np.newaxis]* col"
   ]
  },
  {
   "cell_type": "code",
   "execution_count": 54,
   "id": "a30b24d46f387114",
   "metadata": {
    "ExecuteTime": {
     "end_time": "2024-07-13T10:04:19.463865Z",
     "start_time": "2024-07-13T10:04:19.461506Z"
    }
   },
   "outputs": [
    {
     "data": {
      "text/plain": [
       "array([[ 2,  1,  3],\n",
       "       [ 6,  5,  7],\n",
       "       [10,  9, 11]])"
      ]
     },
     "execution_count": 54,
     "metadata": {},
     "output_type": "execute_result"
    }
   ],
   "source": [
    "x[row[:,np.newaxis], col]"
   ]
  },
  {
   "cell_type": "code",
   "execution_count": 55,
   "id": "5ae7e97e418f3cf0",
   "metadata": {
    "ExecuteTime": {
     "end_time": "2024-07-13T10:04:19.956658Z",
     "start_time": "2024-07-13T10:04:19.954107Z"
    }
   },
   "outputs": [
    {
     "data": {
      "text/plain": [
       "array([10,  9, 11])"
      ]
     },
     "execution_count": 55,
     "metadata": {},
     "output_type": "execute_result"
    }
   ],
   "source": [
    "x[2,[2,1,3]]"
   ]
  },
  {
   "cell_type": "code",
   "execution_count": 56,
   "id": "e0d93c4271f0a5a9",
   "metadata": {
    "ExecuteTime": {
     "end_time": "2024-07-13T10:04:20.538949Z",
     "start_time": "2024-07-13T10:04:20.536617Z"
    }
   },
   "outputs": [
    {
     "data": {
      "text/plain": [
       "array([[ 6,  7],\n",
       "       [10, 11]])"
      ]
     },
     "execution_count": 56,
     "metadata": {},
     "output_type": "execute_result"
    }
   ],
   "source": [
    "x[1:,[2,3]]"
   ]
  },
  {
   "cell_type": "code",
   "execution_count": 59,
   "id": "c2d09948a486976a",
   "metadata": {
    "ExecuteTime": {
     "end_time": "2024-07-13T10:05:00.511387Z",
     "start_time": "2024-07-13T10:05:00.508954Z"
    }
   },
   "outputs": [
    {
     "data": {
      "text/plain": [
       "array([[ 8,  9, 10, 11],\n",
       "       [ 4,  5,  6,  7]])"
      ]
     },
     "execution_count": 59,
     "metadata": {},
     "output_type": "execute_result"
    }
   ],
   "source": [
    "x[[2,1]]"
   ]
  },
  {
   "cell_type": "code",
   "execution_count": 60,
   "id": "14bff25b2be32b7f",
   "metadata": {
    "ExecuteTime": {
     "end_time": "2024-07-13T10:05:01.391496Z",
     "start_time": "2024-07-13T10:05:01.388267Z"
    }
   },
   "outputs": [
    {
     "data": {
      "text/plain": [
       "(100, 2)"
      ]
     },
     "execution_count": 60,
     "metadata": {},
     "output_type": "execute_result"
    }
   ],
   "source": [
    "mean = [0,0]\n",
    "cov = [[1,2],[2,5]]\n",
    "x = np.random.multivariate_normal(mean, cov, 100)\n",
    "x.shape"
   ]
  },
  {
   "cell_type": "code",
   "execution_count": 61,
   "id": "13e9975e1dbba4bf",
   "metadata": {
    "ExecuteTime": {
     "end_time": "2024-07-13T10:05:01.994674Z",
     "start_time": "2024-07-13T10:05:01.926989Z"
    }
   },
   "outputs": [
    {
     "data": {
      "image/png": "[encoded data removed]",
      "text/plain": [
       "<Figure size 640x480 with 1 Axes>"
      ]
     },
     "metadata": {},
     "output_type": "display_data"
    }
   ],
   "source": [
    "import matplotlib.pyplot as plt\n",
    "import seaborn\n",
    "seaborn.set()\n",
    "plt.scatter(x[:,0], x[:,1]);"
   ]
  },
  {
   "cell_type": "code",
   "execution_count": 62,
   "id": "3fa145d239e97187",
   "metadata": {
    "ExecuteTime": {
     "end_time": "2024-07-13T10:05:02.737402Z",
     "start_time": "2024-07-13T10:05:02.734945Z"
    }
   },
   "outputs": [
    {
     "data": {
      "text/plain": [
       "array([71, 37, 51, 49, 80, 70,  9, 39, 18, 78, 82, 38, 52, 94, 22, 31,  3,\n",
       "        0, 42, 89])"
      ]
     },
     "execution_count": 62,
     "metadata": {},
     "output_type": "execute_result"
    }
   ],
   "source": [
    "indice = np.random.choice(x.shape[0], 20, replace=False)\n",
    "indice"
   ]
  },
  {
   "cell_type": "code",
   "execution_count": 64,
   "id": "779d8b0071dac893",
   "metadata": {
    "ExecuteTime": {
     "end_time": "2024-07-13T10:05:11.458713Z",
     "start_time": "2024-07-13T10:05:11.456228Z"
    }
   },
   "outputs": [
    {
     "data": {
      "text/plain": [
       "array([[ 0.84766497,  2.75229167],\n",
       "       [ 0.98738665,  2.30687726],\n",
       "       [-0.88683053, -2.26953176],\n",
       "       [ 1.45256965,  2.91071959],\n",
       "       [-0.33567159,  0.04518315],\n",
       "       [-0.47465654, -1.67462933],\n",
       "       [ 2.01886563,  3.64461156],\n",
       "       [ 1.62144422,  3.21481589],\n",
       "       [ 0.35668509, -0.17673819],\n",
       "       [-0.32264426, -0.97099534],\n",
       "       [ 0.06525313,  1.09146274],\n",
       "       [ 1.10302971,  3.05449866],\n",
       "       [ 1.414893  ,  1.15555664],\n",
       "       [ 0.62664994,  1.42982658],\n",
       "       [ 0.15960873,  0.14100672],\n",
       "       [-0.46973107,  0.37732479],\n",
       "       [ 0.78158214,  1.11275945],\n",
       "       [ 0.30739275,  0.84760025],\n",
       "       [-0.40979673, -0.16987542],\n",
       "       [ 0.53680063,  2.2626654 ]])"
      ]
     },
     "execution_count": 64,
     "metadata": {},
     "output_type": "execute_result"
    }
   ],
   "source": [
    "selected = x[indice]\n",
    "selected"
   ]
  },
  {
   "cell_type": "code",
   "execution_count": 66,
   "id": "8e983b65330eeb92",
   "metadata": {
    "ExecuteTime": {
     "end_time": "2024-07-13T10:05:56.256527Z",
     "start_time": "2024-07-13T10:05:56.182538Z"
    }
   },
   "outputs": [
    {
     "data": {
      "image/png": "[encoded data removed]",
      "text/plain": [
       "<Figure size 640x480 with 1 Axes>"
      ]
     },
     "metadata": {},
     "output_type": "display_data"
    }
   ],
   "source": [
    "plt.scatter(x[:,0], x[:,1], alpha=0.3)\n",
    "plt.scatter(selected[:,0], selected[:,1], facecolor='none', s=200, edgecolors='b');"
   ]
  },
  {
   "cell_type": "markdown",
   "id": "a2fcb21e3c0bfa45",
   "metadata": {},
   "source": [
    "直方图"
   ]
  },
  {
   "cell_type": "code",
   "execution_count": 75,
   "id": "5931ade996b6f60f",
   "metadata": {
    "ExecuteTime": {
     "end_time": "2024-07-13T10:14:57.478820Z",
     "start_time": "2024-07-13T10:14:57.475979Z"
    }
   },
   "outputs": [
    {
     "data": {
      "text/plain": [
       "array([0, 0, 1, 1, 1, 0, 0, 0, 0, 0])"
      ]
     },
     "execution_count": 75,
     "metadata": {},
     "output_type": "execute_result"
    }
   ],
   "source": [
    "x = np.zeros(10, dtype=np.int64)\n",
    "i = [2,3,3,4,4,4]\n",
    "x[i]+=1\n",
    "x"
   ]
  },
  {
   "cell_type": "code",
   "execution_count": 76,
   "id": "ba7d3eb9cc966599",
   "metadata": {
    "ExecuteTime": {
     "end_time": "2024-07-13T10:17:59.248613Z",
     "start_time": "2024-07-13T10:17:59.243929Z"
    }
   },
   "outputs": [
    {
     "data": {
      "text/plain": [
       "array([0, 0, 2, 0, 0, 0, 0, 0, 0, 0])"
      ]
     },
     "execution_count": 76,
     "metadata": {},
     "output_type": "execute_result"
    }
   ],
   "source": [
    "x = np.zeros(10, dtype=np.int64)\n",
    "x[2]+=1\n",
    "x[2]+=1\n",
    "x"
   ]
  },
  {
   "cell_type": "code",
   "execution_count": 81,
   "id": "82445363bbd7c8b2",
   "metadata": {
    "ExecuteTime": {
     "end_time": "2024-07-13T10:18:45.487333Z",
     "start_time": "2024-07-13T10:18:45.484763Z"
    }
   },
   "outputs": [
    {
     "data": {
      "text/plain": [
       "array([0, 0, 1, 0, 0, 0, 0, 0, 0, 0])"
      ]
     },
     "execution_count": 81,
     "metadata": {},
     "output_type": "execute_result"
    }
   ],
   "source": [
    "x = np.zeros(10, dtype=np.int64)\n",
    "x[[2,2,2]]+=1\n",
    "x"
   ]
  },
  {
   "cell_type": "code",
   "execution_count": 82,
   "id": "8ff0b97ca71410bd",
   "metadata": {
    "ExecuteTime": {
     "end_time": "2024-07-13T10:20:59.491320Z",
     "start_time": "2024-07-13T10:20:59.485725Z"
    }
   },
   "outputs": [
    {
     "data": {
      "text/plain": [
       "array([0, 0, 3, 0, 0, 0, 0, 0, 0, 0])"
      ]
     },
     "execution_count": 82,
     "metadata": {},
     "output_type": "execute_result"
    }
   ],
   "source": [
    "x = np.zeros(10, dtype=np.int64)\n",
    "np.add.at(x, [2,2,2], 1)\n",
    "x"
   ]
  },
  {
   "cell_type": "code",
   "execution_count": 87,
   "id": "116c2ad390eecf01",
   "metadata": {
    "ExecuteTime": {
     "end_time": "2024-07-13T10:25:57.755385Z",
     "start_time": "2024-07-13T10:25:57.752021Z"
    }
   },
   "outputs": [
    {
     "data": {
      "text/plain": [
       "array([ 4.10148465e-01, -6.00438092e-01,  1.01753726e+00,  1.57177502e-01,\n",
       "        4.13542338e-01, -1.02338645e+00,  9.81122159e-01,  7.89903618e-02,\n",
       "        6.34760014e-02,  3.41663281e-01, -4.44235995e-01, -1.77178038e-01,\n",
       "       -2.54264553e-01,  7.41120334e-01,  9.16946585e-01, -4.55986547e-01,\n",
       "        1.98038149e+00,  3.13623579e-01, -8.86636567e-01,  1.26789186e+00,\n",
       "       -2.19511269e-01,  1.06180202e-01, -5.01815957e-01,  2.74834267e-01,\n",
       "       -1.13078559e+00, -3.93773948e-01,  9.32111439e-01,  7.93792133e-01,\n",
       "       -9.44429885e-01,  4.75383104e-01,  1.17013948e+00,  3.93037870e-01,\n",
       "       -2.90553979e-01, -2.60620569e-01,  4.71128668e-01, -1.92907102e+00,\n",
       "        1.00149446e+00, -8.07499343e-01, -2.44400875e-01, -5.88256415e-01,\n",
       "        1.09390152e+00,  4.02240305e-01, -1.53423541e+00, -2.70323057e-01,\n",
       "       -8.08762803e-01, -1.54707518e-01, -2.20891256e-01,  1.86526352e+00,\n",
       "        7.19314066e-01,  5.92040024e-01,  3.72646571e-01,  2.61731669e-01,\n",
       "        7.20338545e-03,  1.04350960e+00, -1.02626170e+00,  1.00623837e+00,\n",
       "       -2.41308537e-01, -8.17128667e-01,  2.98831102e-01,  1.67222087e+00,\n",
       "        2.26681094e-01,  5.53905662e-01, -1.92811766e-01, -4.63992023e-01,\n",
       "       -1.68120783e+00,  1.81822576e+00, -5.11193383e-02, -2.16096691e-01,\n",
       "        1.07253327e+00, -1.59209504e+00, -8.37566844e-01, -3.53750186e-01,\n",
       "       -1.53663128e-01,  8.97608782e-01,  2.10997450e+00,  1.32655468e+00,\n",
       "        1.02111162e-01, -1.01038219e-02,  4.27802048e-01,  1.20807988e-01,\n",
       "       -1.36659343e+00, -1.12127357e+00, -1.41965673e+00, -1.06438542e+00,\n",
       "        4.66880698e-01, -1.28500914e+00,  2.65815734e+00, -5.57444572e-01,\n",
       "       -9.36756191e-04, -2.05090176e+00, -1.17995270e+00, -9.09631596e-01,\n",
       "       -3.26395759e-01, -6.20523869e-01, -1.19824834e-03,  4.81059910e-02,\n",
       "        4.38242911e-01, -1.02723297e+00, -4.60216914e-01,  2.83727280e-01])"
      ]
     },
     "execution_count": 87,
     "metadata": {},
     "output_type": "execute_result"
    }
   ],
   "source": [
    "x = np.random.randn(100)\n",
    "x"
   ]
  },
  {
   "cell_type": "code",
   "execution_count": 88,
   "id": "14c0f18674fb1dde",
   "metadata": {
    "ExecuteTime": {
     "end_time": "2024-07-13T10:25:58.192759Z",
     "start_time": "2024-07-13T10:25:58.189802Z"
    }
   },
   "outputs": [
    {
     "data": {
      "text/plain": [
       "array([0., 0., 0., 0., 0., 0., 0., 0., 0., 0., 0., 0., 0., 0., 0., 0., 0.,\n",
       "       0., 0., 0.])"
      ]
     },
     "execution_count": 88,
     "metadata": {},
     "output_type": "execute_result"
    }
   ],
   "source": [
    "bin = np.linspace(-5, 5, 20)\n",
    "counts = np.zeros_like(bin)\n",
    "counts"
   ]
  },
  {
   "cell_type": "code",
   "execution_count": 89,
   "id": "9f0f544c2d9f9228",
   "metadata": {
    "ExecuteTime": {
     "end_time": "2024-07-13T10:25:59.025186Z",
     "start_time": "2024-07-13T10:25:59.022386Z"
    }
   },
   "outputs": [
    {
     "data": {
      "text/plain": [
       "array([11,  9, 12, 10, 11,  8, 12, 10, 10, 11,  9, 10, 10, 11, 12,  9, 14,\n",
       "       11,  8, 12, 10, 10,  9, 11,  8,  9, 12, 12,  8, 11, 12, 11,  9, 10,\n",
       "       11,  6, 12,  8, 10,  9, 12, 11,  7,  9,  8, 10, 10, 14, 11, 11, 11,\n",
       "       10, 10, 12,  8, 12, 10,  8, 11, 13, 10, 11, 10,  9,  7, 13, 10, 10,\n",
       "       12,  7,  8,  9, 10, 12, 14, 13, 10, 10, 11, 10,  7,  8,  7,  8, 11,\n",
       "        8, 15,  9, 10,  6,  8,  8,  9,  9, 10, 10, 11,  8,  9, 11])"
      ]
     },
     "execution_count": 89,
     "metadata": {},
     "output_type": "execute_result"
    }
   ],
   "source": [
    "i = np.searchsorted(bin, x)\n",
    "i"
   ]
  },
  {
   "cell_type": "code",
   "execution_count": 90,
   "id": "b37888a7a1100d45",
   "metadata": {
    "ExecuteTime": {
     "end_time": "2024-07-13T10:26:23.065917Z",
     "start_time": "2024-07-13T10:26:23.063903Z"
    }
   },
   "outputs": [],
   "source": [
    "np.add.at(counts, i, 1)"
   ]
  },
  {
   "cell_type": "code",
   "execution_count": 97,
   "id": "18b42840d9dff29e",
   "metadata": {
    "ExecuteTime": {
     "end_time": "2024-07-13T10:28:31.462636Z",
     "start_time": "2024-07-13T10:28:31.394520Z"
    }
   },
   "outputs": [
    {
     "data": {
      "text/plain": [
       "[<matplotlib.lines.Line2D at 0x15a73e8d0>]"
      ]
     },
     "execution_count": 97,
     "metadata": {},
     "output_type": "execute_result"
    },
    {
     "data": {
      "image/png": "[encoded data removed]",
      "text/plain": [
       "<Figure size 640x480 with 1 Axes>"
      ]
     },
     "metadata": {},
     "output_type": "display_data"
    }
   ],
   "source": [
    "plt.plot(bin, counts, drawstyle='steps')"
   ]
  },
  {
   "cell_type": "code",
   "execution_count": 98,
   "id": "7723913d2c4a21bd",
   "metadata": {
    "ExecuteTime": {
     "end_time": "2024-07-13T10:28:49.763676Z",
     "start_time": "2024-07-13T10:28:49.701485Z"
    }
   },
   "outputs": [
    {
     "data": {
      "text/plain": [
       "(array([ 4.,  7., 11., 23., 19., 16., 12.,  3.,  4.,  1.]),\n",
       " array([-2.05090176, -1.57999585, -1.10908994, -0.63818403, -0.16727812,\n",
       "         0.30362779,  0.7745337 ,  1.24543961,  1.71634552,  2.18725143,\n",
       "         2.65815734]),\n",
       " <BarContainer object of 10 artists>)"
      ]
     },
     "execution_count": 98,
     "metadata": {},
     "output_type": "execute_result"
    },
    {
     "data": {
      "image/png": "[encoded data removed]",
      "text/plain": [
       "<Figure size 640x480 with 1 Axes>"
      ]
     },
     "metadata": {},
     "output_type": "display_data"
    }
   ],
   "source": [
    "plt.hist(x)"
   ]
  },
  {
   "cell_type": "code",
   "execution_count": 100,
   "id": "d57479dd7a3050df",
   "metadata": {
    "ExecuteTime": {
     "end_time": "2024-07-13T10:30:44.255757Z",
     "start_time": "2024-07-13T10:30:44.252771Z"
    }
   },
   "outputs": [
    {
     "data": {
      "text/plain": [
       "(array([ 0,  0,  0,  0,  0,  2,  5, 15, 14, 25, 19, 13,  3,  3,  1,  0,  0,\n",
       "         0,  0]),\n",
       " array([-5.        , -4.47368421, -3.94736842, -3.42105263, -2.89473684,\n",
       "        -2.36842105, -1.84210526, -1.31578947, -0.78947368, -0.26315789,\n",
       "         0.26315789,  0.78947368,  1.31578947,  1.84210526,  2.36842105,\n",
       "         2.89473684,  3.42105263,  3.94736842,  4.47368421,  5.        ]))"
      ]
     },
     "execution_count": 100,
     "metadata": {},
     "output_type": "execute_result"
    }
   ],
   "source": [
    "np.histogram(x, bin)"
   ]
  },
  {
   "cell_type": "markdown",
   "id": "6c9c6fa4abfd9730",
   "metadata": {},
   "source": [
    "# 排序"
   ]
  },
  {
   "cell_type": "code",
   "execution_count": 103,
   "id": "11c044c8775996f2",
   "metadata": {
    "ExecuteTime": {
     "end_time": "2024-07-13T10:34:31.061091Z",
     "start_time": "2024-07-13T10:34:31.058476Z"
    }
   },
   "outputs": [
    {
     "data": {
      "text/plain": [
       "array([2, 1, 8, 3, 7, 7, 5, 2, 4, 2])"
      ]
     },
     "execution_count": 103,
     "metadata": {},
     "output_type": "execute_result"
    }
   ],
   "source": [
    "x = np.random.randint(10,size=10)\n",
    "x"
   ]
  },
  {
   "cell_type": "code",
   "execution_count": 105,
   "id": "e6f7f498bade6941",
   "metadata": {
    "ExecuteTime": {
     "end_time": "2024-07-13T10:34:42.107415Z",
     "start_time": "2024-07-13T10:34:42.104954Z"
    }
   },
   "outputs": [
    {
     "data": {
      "text/plain": [
       "array([1, 2, 2, 2, 3, 4, 5, 7, 7, 8])"
      ]
     },
     "execution_count": 105,
     "metadata": {},
     "output_type": "execute_result"
    }
   ],
   "source": [
    "np.sort(x)"
   ]
  },
  {
   "cell_type": "code",
   "execution_count": 106,
   "id": "9173085d254ed418",
   "metadata": {
    "ExecuteTime": {
     "end_time": "2024-07-13T10:34:47.974710Z",
     "start_time": "2024-07-13T10:34:47.971846Z"
    }
   },
   "outputs": [
    {
     "data": {
      "text/plain": [
       "array([1, 0, 7, 9, 3, 8, 6, 4, 5, 2])"
      ]
     },
     "execution_count": 106,
     "metadata": {},
     "output_type": "execute_result"
    }
   ],
   "source": [
    "np.argsort(x)"
   ]
  },
  {
   "cell_type": "code",
   "execution_count": 107,
   "id": "26f59c8d60cde081",
   "metadata": {
    "ExecuteTime": {
     "end_time": "2024-07-13T10:35:04.896929Z",
     "start_time": "2024-07-13T10:35:04.894536Z"
    }
   },
   "outputs": [
    {
     "data": {
      "text/plain": [
       "array([1, 2, 2, 2, 3, 4, 5, 7, 7, 8])"
      ]
     },
     "execution_count": 107,
     "metadata": {},
     "output_type": "execute_result"
    }
   ],
   "source": [
    "x[np.argsort(x)]"
   ]
  },
  {
   "cell_type": "code",
   "execution_count": 109,
   "id": "c174362322bad640",
   "metadata": {
    "ExecuteTime": {
     "end_time": "2024-07-13T10:36:04.250234Z",
     "start_time": "2024-07-13T10:36:04.247501Z"
    }
   },
   "outputs": [
    {
     "data": {
      "text/plain": [
       "array([[4, 1, 6, 9, 1],\n",
       "       [7, 5, 5, 6, 9],\n",
       "       [8, 1, 6, 4, 6]])"
      ]
     },
     "execution_count": 109,
     "metadata": {},
     "output_type": "execute_result"
    }
   ],
   "source": [
    "x = np.random.randint(10,size=(3,5))\n",
    "x"
   ]
  },
  {
   "cell_type": "code",
   "execution_count": 111,
   "id": "86a09d28ba918eb6",
   "metadata": {
    "ExecuteTime": {
     "end_time": "2024-07-13T10:36:21.000441Z",
     "start_time": "2024-07-13T10:36:20.997893Z"
    }
   },
   "outputs": [
    {
     "data": {
      "text/plain": [
       "array([[4, 1, 5, 4, 1],\n",
       "       [7, 1, 6, 6, 6],\n",
       "       [8, 5, 6, 9, 9]])"
      ]
     },
     "execution_count": 111,
     "metadata": {},
     "output_type": "execute_result"
    }
   ],
   "source": [
    "np.sort(x, axis = 0)"
   ]
  },
  {
   "cell_type": "code",
   "execution_count": 112,
   "id": "637278e8340ec7c5",
   "metadata": {
    "ExecuteTime": {
     "end_time": "2024-07-13T10:36:29.069375Z",
     "start_time": "2024-07-13T10:36:29.067098Z"
    }
   },
   "outputs": [
    {
     "data": {
      "text/plain": [
       "array([[1, 1, 4, 6, 9],\n",
       "       [5, 5, 6, 7, 9],\n",
       "       [1, 4, 6, 6, 8]])"
      ]
     },
     "execution_count": 112,
     "metadata": {},
     "output_type": "execute_result"
    }
   ],
   "source": [
    "np.sort(x, axis = 1)"
   ]
  },
  {
   "cell_type": "code",
   "execution_count": 114,
   "id": "fd1c2485493255ae",
   "metadata": {
    "ExecuteTime": {
     "end_time": "2024-07-13T10:39:50.852854Z",
     "start_time": "2024-07-13T10:39:50.848310Z"
    }
   },
   "outputs": [
    {
     "data": {
      "text/plain": [
       "array([1, 2, 2, 2, 3, 7, 5, 8, 4, 7])"
      ]
     },
     "execution_count": 114,
     "metadata": {},
     "output_type": "execute_result"
    }
   ],
   "source": [
    "x = np.array([2, 1, 8, 3, 7, 7, 5, 2, 4, 2])\n",
    "np.partition(x,3)"
   ]
  },
  {
   "cell_type": "markdown",
   "id": "e8351b62504e38",
   "metadata": {},
   "source": [
    "k"
   ]
  },
  {
   "cell_type": "code",
   "execution_count": 115,
   "id": "6d7175ec580b960c",
   "metadata": {
    "ExecuteTime": {
     "end_time": "2024-07-13T10:41:17.493157Z",
     "start_time": "2024-07-13T10:41:17.406912Z"
    }
   },
   "outputs": [
    {
     "data": {
      "text/plain": [
       "<matplotlib.collections.PathCollection at 0x15a7ed190>"
      ]
     },
     "execution_count": 115,
     "metadata": {},
     "output_type": "execute_result"
    },
    {
     "data": {
      "image/png": "[encoded data removed]",
      "text/plain": [
       "<Figure size 640x480 with 1 Axes>"
      ]
     },
     "metadata": {},
     "output_type": "display_data"
    }
   ],
   "source": [
    "X = np.random.randn(20,2)\n",
    "plt.scatter(X[:,0], X[:,1])"
   ]
  },
  {
   "cell_type": "code",
   "execution_count": 127,
   "id": "f348e601c3484c7b",
   "metadata": {
    "ExecuteTime": {
     "end_time": "2024-07-13T10:47:32.930575Z",
     "start_time": "2024-07-13T10:47:32.928266Z"
    }
   },
   "outputs": [
    {
     "data": {
      "text/plain": [
       "((20, 1, 2), (20, 1, 2))"
      ]
     },
     "execution_count": 127,
     "metadata": {},
     "output_type": "execute_result"
    }
   ],
   "source": [
    "X[:,np.newaxis].shape, X[:, np.newaxis,:].shape"
   ]
  },
  {
   "cell_type": "code",
   "execution_count": 126,
   "id": "c69fee397cbf8771",
   "metadata": {
    "ExecuteTime": {
     "end_time": "2024-07-13T10:47:22.854794Z",
     "start_time": "2024-07-13T10:47:22.852263Z"
    }
   },
   "outputs": [
    {
     "data": {
      "text/plain": [
       "((1, 20, 2), (20, 1, 2))"
      ]
     },
     "execution_count": 126,
     "metadata": {},
     "output_type": "execute_result"
    }
   ],
   "source": [
    "X[np.newaxis,:].shape, X[:, np.newaxis,:].shape"
   ]
  },
  {
   "cell_type": "code",
   "execution_count": 130,
   "id": "5ee6c2ddbd267ec5",
   "metadata": {
    "ExecuteTime": {
     "end_time": "2024-07-13T10:50:24.168326Z",
     "start_time": "2024-07-13T10:50:24.163271Z"
    }
   },
   "outputs": [
    {
     "data": {
      "text/plain": [
       "array([[[ 0.        ,  0.        ],\n",
       "        [ 1.39151501,  1.31682214],\n",
       "        [-0.54878546,  1.36326351],\n",
       "        [-1.33480682,  0.1231933 ],\n",
       "        [ 0.11291691,  1.04431765],\n",
       "        [ 0.97097835,  0.74943301],\n",
       "        [ 0.27658137,  1.21689375],\n",
       "        [ 0.9800291 , -0.79818873],\n",
       "        [-0.72994041,  1.62725714],\n",
       "        [-0.42643639, -0.47544906],\n",
       "        [-0.28781393,  0.80487943],\n",
       "        [ 0.42043602,  0.63244897],\n",
       "        [ 1.14697994, -0.9695281 ],\n",
       "        [ 0.33834771, -1.0291582 ],\n",
       "        [-0.84530969,  1.86812292],\n",
       "        [-0.5407507 ,  0.54449576],\n",
       "        [ 1.00598774,  0.13635168],\n",
       "        [ 0.49569402, -0.18125742],\n",
       "        [-1.87981345,  2.37058802],\n",
       "        [ 1.16309759,  1.82626167]],\n",
       "\n",
       "       [[-1.39151501, -1.31682214],\n",
       "        [ 0.        ,  0.        ],\n",
       "        [-1.94030047,  0.04644137],\n",
       "        [-2.72632183, -1.19362884],\n",
       "        [-1.2785981 , -0.27250449],\n",
       "        [-0.42053665, -0.56738913],\n",
       "        [-1.11493364, -0.09992839],\n",
       "        [-0.41148591, -2.11501087],\n",
       "        [-2.12145542,  0.310435  ],\n",
       "        [-1.8179514 , -1.7922712 ],\n",
       "        [-1.67932894, -0.51194271],\n",
       "        [-0.97107899, -0.68437317],\n",
       "        [-0.24453507, -2.28635024],\n",
       "        [-1.0531673 , -2.34598033],\n",
       "        [-2.2368247 ,  0.55130078],\n",
       "        [-1.93226571, -0.77232637],\n",
       "        [-0.38552727, -1.18047046],\n",
       "        [-0.89582099, -1.49807956],\n",
       "        [-3.27132846,  1.05376588],\n",
       "        [-0.22841741,  0.50943953]],\n",
       "\n",
       "       [[ 0.54878546, -1.36326351],\n",
       "        [ 1.94030047, -0.04644137],\n",
       "        [ 0.        ,  0.        ],\n",
       "        [-0.78602136, -1.24007021],\n",
       "        [ 0.66170237, -0.31894586],\n",
       "        [ 1.51976382, -0.61383049],\n",
       "        [ 0.82536683, -0.14636976],\n",
       "        [ 1.52881456, -2.16145224],\n",
       "        [-0.18115495,  0.26399364],\n",
       "        [ 0.12234907, -1.83871257],\n",
       "        [ 0.26097153, -0.55838407],\n",
       "        [ 0.96922148, -0.73081454],\n",
       "        [ 1.6957654 , -2.33279161],\n",
       "        [ 0.88713317, -2.3924217 ],\n",
       "        [-0.29652423,  0.50485941],\n",
       "        [ 0.00803476, -0.81876774],\n",
       "        [ 1.5547732 , -1.22691183],\n",
       "        [ 1.04447948, -1.54452092],\n",
       "        [-1.33102799,  1.00732451],\n",
       "        [ 1.71188306,  0.46299816]],\n",
       "\n",
       "       [[ 1.33480682, -0.1231933 ],\n",
       "        [ 2.72632183,  1.19362884],\n",
       "        [ 0.78602136,  1.24007021],\n",
       "        [ 0.        ,  0.        ],\n",
       "        [ 1.44772373,  0.92112435],\n",
       "        [ 2.30578518,  0.62623972],\n",
       "        [ 1.61138819,  1.09370045],\n",
       "        [ 2.31483592, -0.92138203],\n",
       "        [ 0.60486641,  1.50406385],\n",
       "        [ 0.90837043, -0.59864236],\n",
       "        [ 1.04699289,  0.68168614],\n",
       "        [ 1.75524284,  0.50925567],\n",
       "        [ 2.48178676, -1.0927214 ],\n",
       "        [ 1.67315453, -1.15235149],\n",
       "        [ 0.48949713,  1.74492962],\n",
       "        [ 0.79405612,  0.42130247],\n",
       "        [ 2.34079456,  0.01315838],\n",
       "        [ 1.83050084, -0.30445071],\n",
       "        [-0.54500663,  2.24739472],\n",
       "        [ 2.49790442,  1.70306837]],\n",
       "\n",
       "       [[-0.11291691, -1.04431765],\n",
       "        [ 1.2785981 ,  0.27250449],\n",
       "        [-0.66170237,  0.31894586],\n",
       "        [-1.44772373, -0.92112435],\n",
       "        [ 0.        ,  0.        ],\n",
       "        [ 0.85806144, -0.29488463],\n",
       "        [ 0.16366445,  0.1725761 ],\n",
       "        [ 0.86711219, -1.84250638],\n",
       "        [-0.84285732,  0.58293949],\n",
       "        [-0.5393533 , -1.51976671],\n",
       "        [-0.40073084, -0.23943821],\n",
       "        [ 0.30751911, -0.41186868],\n",
       "        [ 1.03406303, -2.01384575],\n",
       "        [ 0.2254308 , -2.07347584],\n",
       "        [-0.9582266 ,  0.82380527],\n",
       "        [-0.65366761, -0.49982188],\n",
       "        [ 0.89307083, -0.90796597],\n",
       "        [ 0.38277711, -1.22557507],\n",
       "        [-1.99273036,  1.32627037],\n",
       "        [ 1.05018068,  0.78194402]],\n",
       "\n",
       "       [[-0.97097835, -0.74943301],\n",
       "        [ 0.42053665,  0.56738913],\n",
       "        [-1.51976382,  0.61383049],\n",
       "        [-2.30578518, -0.62623972],\n",
       "        [-0.85806144,  0.29488463],\n",
       "        [ 0.        ,  0.        ],\n",
       "        [-0.69439699,  0.46746074],\n",
       "        [ 0.00905074, -1.54762175],\n",
       "        [-1.70091877,  0.87782413],\n",
       "        [-1.39741475, -1.22488207],\n",
       "        [-1.25879229,  0.05544642],\n",
       "        [-0.55054233, -0.11698404],\n",
       "        [ 0.17600158, -1.71896111],\n",
       "        [-0.63263065, -1.77859121],\n",
       "        [-1.81628805,  1.1186899 ],\n",
       "        [-1.51172906, -0.20493725],\n",
       "        [ 0.03500938, -0.61308133],\n",
       "        [-0.47528433, -0.93069043],\n",
       "        [-2.85079181,  1.621155  ],\n",
       "        [ 0.19211924,  1.07682865]],\n",
       "\n",
       "       [[-0.27658137, -1.21689375],\n",
       "        [ 1.11493364,  0.09992839],\n",
       "        [-0.82536683,  0.14636976],\n",
       "        [-1.61138819, -1.09370045],\n",
       "        [-0.16366445, -0.1725761 ],\n",
       "        [ 0.69439699, -0.46746074],\n",
       "        [ 0.        ,  0.        ],\n",
       "        [ 0.70344773, -2.01508248],\n",
       "        [-1.00652178,  0.41036339],\n",
       "        [-0.70301776, -1.69234281],\n",
       "        [-0.5643953 , -0.41201432],\n",
       "        [ 0.14385465, -0.58444478],\n",
       "        [ 0.87039857, -2.18642185],\n",
       "        [ 0.06176634, -2.24605194],\n",
       "        [-1.12189106,  0.65122917],\n",
       "        [-0.81733207, -0.67239798],\n",
       "        [ 0.72940637, -1.08054207],\n",
       "        [ 0.21911265, -1.39815117],\n",
       "        [-2.15639482,  1.15369427],\n",
       "        [ 0.88651623,  0.60936792]],\n",
       "\n",
       "       [[-0.9800291 ,  0.79818873],\n",
       "        [ 0.41148591,  2.11501087],\n",
       "        [-1.52881456,  2.16145224],\n",
       "        [-2.31483592,  0.92138203],\n",
       "        [-0.86711219,  1.84250638],\n",
       "        [-0.00905074,  1.54762175],\n",
       "        [-0.70344773,  2.01508248],\n",
       "        [ 0.        ,  0.        ],\n",
       "        [-1.70996951,  2.42544588],\n",
       "        [-1.40646549,  0.32273967],\n",
       "        [-1.26784303,  1.60306817],\n",
       "        [-0.55959308,  1.4306377 ],\n",
       "        [ 0.16695084, -0.17133937],\n",
       "        [-0.64168139, -0.23096946],\n",
       "        [-1.82533879,  2.66631165],\n",
       "        [-1.5207798 ,  1.3426845 ],\n",
       "        [ 0.02595864,  0.93454042],\n",
       "        [-0.48433508,  0.61693132],\n",
       "        [-2.85984255,  3.16877675],\n",
       "        [ 0.1830685 ,  2.6244504 ]],\n",
       "\n",
       "       [[ 0.72994041, -1.62725714],\n",
       "        [ 2.12145542, -0.310435  ],\n",
       "        [ 0.18115495, -0.26399364],\n",
       "        [-0.60486641, -1.50406385],\n",
       "        [ 0.84285732, -0.58293949],\n",
       "        [ 1.70091877, -0.87782413],\n",
       "        [ 1.00652178, -0.41036339],\n",
       "        [ 1.70996951, -2.42544588],\n",
       "        [ 0.        ,  0.        ],\n",
       "        [ 0.30350402, -2.1027062 ],\n",
       "        [ 0.44212648, -0.82237771],\n",
       "        [ 1.15037643, -0.99480817],\n",
       "        [ 1.87692035, -2.59678524],\n",
       "        [ 1.06828812, -2.65641534],\n",
       "        [-0.11536928,  0.24086578],\n",
       "        [ 0.18918971, -1.08276138],\n",
       "        [ 1.73592815, -1.49090546],\n",
       "        [ 1.22563443, -1.80851456],\n",
       "        [-1.14987304,  0.74333087],\n",
       "        [ 1.89303801,  0.19900452]],\n",
       "\n",
       "       [[ 0.42643639,  0.47544906],\n",
       "        [ 1.8179514 ,  1.7922712 ],\n",
       "        [-0.12234907,  1.83871257],\n",
       "        [-0.90837043,  0.59864236],\n",
       "        [ 0.5393533 ,  1.51976671],\n",
       "        [ 1.39741475,  1.22488207],\n",
       "        [ 0.70301776,  1.69234281],\n",
       "        [ 1.40646549, -0.32273967],\n",
       "        [-0.30350402,  2.1027062 ],\n",
       "        [ 0.        ,  0.        ],\n",
       "        [ 0.13862246,  1.28032849],\n",
       "        [ 0.84687241,  1.10789803],\n",
       "        [ 1.57341633, -0.49407904],\n",
       "        [ 0.7647841 , -0.55370914],\n",
       "        [-0.4188733 ,  2.34357198],\n",
       "        [-0.11431431,  1.01994482],\n",
       "        [ 1.43242413,  0.61180074],\n",
       "        [ 0.92213041,  0.29419164],\n",
       "        [-1.45337706,  2.84603708],\n",
       "        [ 1.58953399,  2.30171073]],\n",
       "\n",
       "       [[ 0.28781393, -0.80487943],\n",
       "        [ 1.67932894,  0.51194271],\n",
       "        [-0.26097153,  0.55838407],\n",
       "        [-1.04699289, -0.68168614],\n",
       "        [ 0.40073084,  0.23943821],\n",
       "        [ 1.25879229, -0.05544642],\n",
       "        [ 0.5643953 ,  0.41201432],\n",
       "        [ 1.26784303, -1.60306817],\n",
       "        [-0.44212648,  0.82237771],\n",
       "        [-0.13862246, -1.28032849],\n",
       "        [ 0.        ,  0.        ],\n",
       "        [ 0.70824995, -0.17243046],\n",
       "        [ 1.43479387, -1.77440753],\n",
       "        [ 0.62616164, -1.83403763],\n",
       "        [-0.55749576,  1.06324348],\n",
       "        [-0.25293677, -0.26038367],\n",
       "        [ 1.29380167, -0.66852775],\n",
       "        [ 0.78350795, -0.98613685],\n",
       "        [-1.59199952,  1.56570858],\n",
       "        [ 1.45091152,  1.02138223]],\n",
       "\n",
       "       [[-0.42043602, -0.63244897],\n",
       "        [ 0.97107899,  0.68437317],\n",
       "        [-0.96922148,  0.73081454],\n",
       "        [-1.75524284, -0.50925567],\n",
       "        [-0.30751911,  0.41186868],\n",
       "        [ 0.55054233,  0.11698404],\n",
       "        [-0.14385465,  0.58444478],\n",
       "        [ 0.55959308, -1.4306377 ],\n",
       "        [-1.15037643,  0.99480817],\n",
       "        [-0.84687241, -1.10789803],\n",
       "        [-0.70824995,  0.17243046],\n",
       "        [ 0.        ,  0.        ],\n",
       "        [ 0.72654392, -1.60197707],\n",
       "        [-0.08208831, -1.66160717],\n",
       "        [-1.26574571,  1.23567395],\n",
       "        [-0.96118672, -0.08795321],\n",
       "        [ 0.58555172, -0.49609729],\n",
       "        [ 0.075258  , -0.81370639],\n",
       "        [-2.30024947,  1.73813905],\n",
       "        [ 0.74266157,  1.1938127 ]],\n",
       "\n",
       "       [[-1.14697994,  0.9695281 ],\n",
       "        [ 0.24453507,  2.28635024],\n",
       "        [-1.6957654 ,  2.33279161],\n",
       "        [-2.48178676,  1.0927214 ],\n",
       "        [-1.03406303,  2.01384575],\n",
       "        [-0.17600158,  1.71896111],\n",
       "        [-0.87039857,  2.18642185],\n",
       "        [-0.16695084,  0.17133937],\n",
       "        [-1.87692035,  2.59678524],\n",
       "        [-1.57341633,  0.49407904],\n",
       "        [-1.43479387,  1.77440753],\n",
       "        [-0.72654392,  1.60197707],\n",
       "        [ 0.        ,  0.        ],\n",
       "        [-0.80863223, -0.0596301 ],\n",
       "        [-1.99228963,  2.83765102],\n",
       "        [-1.68773064,  1.51402386],\n",
       "        [-0.1409922 ,  1.10587978],\n",
       "        [-0.65128592,  0.78827068],\n",
       "        [-3.02679339,  3.34011612],\n",
       "        [ 0.01611765,  2.79578977]],\n",
       "\n",
       "       [[-0.33834771,  1.0291582 ],\n",
       "        [ 1.0531673 ,  2.34598033],\n",
       "        [-0.88713317,  2.3924217 ],\n",
       "        [-1.67315453,  1.15235149],\n",
       "        [-0.2254308 ,  2.07347584],\n",
       "        [ 0.63263065,  1.77859121],\n",
       "        [-0.06176634,  2.24605194],\n",
       "        [ 0.64168139,  0.23096946],\n",
       "        [-1.06828812,  2.65641534],\n",
       "        [-0.7647841 ,  0.55370914],\n",
       "        [-0.62616164,  1.83403763],\n",
       "        [ 0.08208831,  1.66160717],\n",
       "        [ 0.80863223,  0.0596301 ],\n",
       "        [ 0.        ,  0.        ],\n",
       "        [-1.1836574 ,  2.89728111],\n",
       "        [-0.87909841,  1.57365396],\n",
       "        [ 0.66764003,  1.16550988],\n",
       "        [ 0.15734631,  0.84790078],\n",
       "        [-2.21816116,  3.39974621],\n",
       "        [ 0.82474988,  2.85541986]],\n",
       "\n",
       "       [[ 0.84530969, -1.86812292],\n",
       "        [ 2.2368247 , -0.55130078],\n",
       "        [ 0.29652423, -0.50485941],\n",
       "        [-0.48949713, -1.74492962],\n",
       "        [ 0.9582266 , -0.82380527],\n",
       "        [ 1.81628805, -1.1186899 ],\n",
       "        [ 1.12189106, -0.65122917],\n",
       "        [ 1.82533879, -2.66631165],\n",
       "        [ 0.11536928, -0.24086578],\n",
       "        [ 0.4188733 , -2.34357198],\n",
       "        [ 0.55749576, -1.06324348],\n",
       "        [ 1.26574571, -1.23567395],\n",
       "        [ 1.99228963, -2.83765102],\n",
       "        [ 1.1836574 , -2.89728111],\n",
       "        [ 0.        ,  0.        ],\n",
       "        [ 0.30455899, -1.32362715],\n",
       "        [ 1.85129743, -1.73177124],\n",
       "        [ 1.34100371, -2.04938034],\n",
       "        [-1.03450376,  0.5024651 ],\n",
       "        [ 2.00840729, -0.04186125]],\n",
       "\n",
       "       [[ 0.5407507 , -0.54449576],\n",
       "        [ 1.93226571,  0.77232637],\n",
       "        [-0.00803476,  0.81876774],\n",
       "        [-0.79405612, -0.42130247],\n",
       "        [ 0.65366761,  0.49982188],\n",
       "        [ 1.51172906,  0.20493725],\n",
       "        [ 0.81733207,  0.67239798],\n",
       "        [ 1.5207798 , -1.3426845 ],\n",
       "        [-0.18918971,  1.08276138],\n",
       "        [ 0.11431431, -1.01994482],\n",
       "        [ 0.25293677,  0.26038367],\n",
       "        [ 0.96118672,  0.08795321],\n",
       "        [ 1.68773064, -1.51402386],\n",
       "        [ 0.87909841, -1.57365396],\n",
       "        [-0.30455899,  1.32362715],\n",
       "        [ 0.        ,  0.        ],\n",
       "        [ 1.54673844, -0.40814408],\n",
       "        [ 1.03644472, -0.72575318],\n",
       "        [-1.33906275,  1.82609225],\n",
       "        [ 1.7038483 ,  1.2817659 ]],\n",
       "\n",
       "       [[-1.00598774, -0.13635168],\n",
       "        [ 0.38552727,  1.18047046],\n",
       "        [-1.5547732 ,  1.22691183],\n",
       "        [-2.34079456, -0.01315838],\n",
       "        [-0.89307083,  0.90796597],\n",
       "        [-0.03500938,  0.61308133],\n",
       "        [-0.72940637,  1.08054207],\n",
       "        [-0.02595864, -0.93454042],\n",
       "        [-1.73592815,  1.49090546],\n",
       "        [-1.43242413, -0.61180074],\n",
       "        [-1.29380167,  0.66852775],\n",
       "        [-0.58555172,  0.49609729],\n",
       "        [ 0.1409922 , -1.10587978],\n",
       "        [-0.66764003, -1.16550988],\n",
       "        [-1.85129743,  1.73177124],\n",
       "        [-1.54673844,  0.40814408],\n",
       "        [ 0.        ,  0.        ],\n",
       "        [-0.51029372, -0.3176091 ],\n",
       "        [-2.88580119,  2.23423634],\n",
       "        [ 0.15710985,  1.68990999]],\n",
       "\n",
       "       [[-0.49569402,  0.18125742],\n",
       "        [ 0.89582099,  1.49807956],\n",
       "        [-1.04447948,  1.54452092],\n",
       "        [-1.83050084,  0.30445071],\n",
       "        [-0.38277711,  1.22557507],\n",
       "        [ 0.47528433,  0.93069043],\n",
       "        [-0.21911265,  1.39815117],\n",
       "        [ 0.48433508, -0.61693132],\n",
       "        [-1.22563443,  1.80851456],\n",
       "        [-0.92213041, -0.29419164],\n",
       "        [-0.78350795,  0.98613685],\n",
       "        [-0.075258  ,  0.81370639],\n",
       "        [ 0.65128592, -0.78827068],\n",
       "        [-0.15734631, -0.84790078],\n",
       "        [-1.34100371,  2.04938034],\n",
       "        [-1.03644472,  0.72575318],\n",
       "        [ 0.51029372,  0.3176091 ],\n",
       "        [ 0.        ,  0.        ],\n",
       "        [-2.37550747,  2.55184543],\n",
       "        [ 0.66740357,  2.00751908]],\n",
       "\n",
       "       [[ 1.87981345, -2.37058802],\n",
       "        [ 3.27132846, -1.05376588],\n",
       "        [ 1.33102799, -1.00732451],\n",
       "        [ 0.54500663, -2.24739472],\n",
       "        [ 1.99273036, -1.32627037],\n",
       "        [ 2.85079181, -1.621155  ],\n",
       "        [ 2.15639482, -1.15369427],\n",
       "        [ 2.85984255, -3.16877675],\n",
       "        [ 1.14987304, -0.74333087],\n",
       "        [ 1.45337706, -2.84603708],\n",
       "        [ 1.59199952, -1.56570858],\n",
       "        [ 2.30024947, -1.73813905],\n",
       "        [ 3.02679339, -3.34011612],\n",
       "        [ 2.21816116, -3.39974621],\n",
       "        [ 1.03450376, -0.5024651 ],\n",
       "        [ 1.33906275, -1.82609225],\n",
       "        [ 2.88580119, -2.23423634],\n",
       "        [ 2.37550747, -2.55184543],\n",
       "        [ 0.        ,  0.        ],\n",
       "        [ 3.04291105, -0.54432635]],\n",
       "\n",
       "       [[-1.16309759, -1.82626167],\n",
       "        [ 0.22841741, -0.50943953],\n",
       "        [-1.71188306, -0.46299816],\n",
       "        [-2.49790442, -1.70306837],\n",
       "        [-1.05018068, -0.78194402],\n",
       "        [-0.19211924, -1.07682865],\n",
       "        [-0.88651623, -0.60936792],\n",
       "        [-0.1830685 , -2.6244504 ],\n",
       "        [-1.89303801, -0.19900452],\n",
       "        [-1.58953399, -2.30171073],\n",
       "        [-1.45091152, -1.02138223],\n",
       "        [-0.74266157, -1.1938127 ],\n",
       "        [-0.01611765, -2.79578977],\n",
       "        [-0.82474988, -2.85541986],\n",
       "        [-2.00840729,  0.04186125],\n",
       "        [-1.7038483 , -1.2817659 ],\n",
       "        [-0.15710985, -1.68990999],\n",
       "        [-0.66740357, -2.00751908],\n",
       "        [-3.04291105,  0.54432635],\n",
       "        [ 0.        ,  0.        ]]])"
      ]
     },
     "execution_count": 130,
     "metadata": {},
     "output_type": "execute_result"
    }
   ],
   "source": [
    "differences = X[:, np.newaxis, :] - X[np.newaxis, :, :]\n",
    "differences"
   ]
  },
  {
   "cell_type": "code",
   "execution_count": 140,
   "id": "6a6c6d96e261e074",
   "metadata": {
    "ExecuteTime": {
     "end_time": "2024-07-13T10:58:45.310665Z",
     "start_time": "2024-07-13T10:58:45.307169Z"
    }
   },
   "outputs": [
    {
     "data": {
      "text/plain": [
       "array([[ 0.        ,  3.67033456,  2.15965287,  1.79688584,  1.10334957,\n",
       "         1.5044488 ,  1.55732764,  1.59756229,  3.18077881,  0.40789981,\n",
       "         0.73066776,  0.57675815,  2.25554772,  1.17364576,  4.20443171,\n",
       "         0.58888696,  1.03060311,  0.27856681,  9.15338616,  4.68802768],\n",
       "       [ 3.67033456,  0.        ,  3.76692272,  8.85758053,  1.70907179,\n",
       "         0.4987815 ,  1.25306271,  4.64259164,  4.596943  ,  6.51718334,\n",
       "         3.08223102,  1.41136103,  5.28719481,  6.61278508,  5.3073173 ,\n",
       "         4.3301388 ,  1.54214177,  3.0467376 , 11.81201243,  0.31170315],\n",
       "       [ 2.15965287,  3.76692272,  0.        ,  2.1556037 ,  0.53957649,\n",
       "         2.68646994,  0.70265451,  7.00914975,  0.10250976,  3.39583319,\n",
       "         0.37989891,  1.47348017,  8.31753698,  6.51068686,  0.34280964,\n",
       "         0.67044517,  3.92263234,  3.47648228,  2.78633818,  3.1449109 ],\n",
       "       [ 1.79688584,  8.85758053,  2.1556037 ,  0.        ,  2.94437408,\n",
       "         5.70882146,  3.79275257,  6.20741018,  2.62807142,  1.18350951,\n",
       "         1.5608901 ,  3.34021878,  7.35330558,  4.12736005,  3.28438682,\n",
       "         0.80802089,  5.47949232,  3.44342357,  5.34781526,  9.13996834],\n",
       "       [ 1.10334957,  1.70907179,  0.53957649,  2.94437408,  0.        ,\n",
       "         0.82322639,  0.05656856,  4.14671331,  1.05022692,  2.60059283,\n",
       "         0.21791587,  0.26420381,  5.12486104,  4.35012111,  1.59685335,\n",
       "         0.67710326,  1.6219777 ,  1.64855255,  5.7299674 ,  1.71431591],\n",
       "       [ 1.5044488 ,  0.4987815 ,  2.68646994,  5.70882146,  0.82322639,\n",
       "         0.        ,  0.70070672,  2.39521498,  3.66369986,  3.45310406,\n",
       "         1.58763232,  0.31678213,  2.98580386,  3.56360822,  4.55036938,\n",
       "         2.32732402,  0.37709438,  1.09207988, 10.75515748,  1.19646975],\n",
       "       [ 1.55732764,  1.25306271,  0.70265451,  3.79275257,  0.05656856,\n",
       "         0.70070672,  0.        ,  4.55539612,  1.18148421,  3.35825814,\n",
       "         0.48829785,  0.36226986,  5.53803417,  5.04856441,  1.68273898,\n",
       "         1.12015076,  1.69960481,  2.00283704,  5.98104908,  1.15724028],\n",
       "       [ 1.59756229,  4.64259164,  7.00914975,  6.20741018,  4.14671331,\n",
       "         2.39521498,  4.55539612,  0.        ,  8.80678343,  2.08230607,\n",
       "         4.17725349,  2.35986865,  0.05722976,  0.4651019 , 10.44107952,\n",
       "         4.11557286,  0.87403964,  0.61518472, 18.21984551,  6.92125398],\n",
       "       [ 3.18077881,  4.596943  ,  0.10250976,  2.62807142,  1.05022692,\n",
       "         3.66369986,  1.18148421,  8.80678343,  0.        ,  4.51348806,\n",
       "         0.87178092,  2.31300924, 10.2661236 ,  8.19778195,  0.07132639,\n",
       "         1.20816495,  5.23624564,  4.77290468,  1.8747488 ,  3.6231957 ],\n",
       "       [ 0.40789981,  6.51718334,  3.39583319,  1.18350951,  2.60059283,\n",
       "         3.45310406,  3.35825814,  2.08230607,  4.51348806,  0.        ,\n",
       "         1.65845723,  1.94463093,  2.71975305,  0.89148853,  5.66778445,\n",
       "         1.05335521,  2.42613903,  0.93687322, 10.21223192,  7.82449056],\n",
       "       [ 0.73066776,  3.08223102,  0.37989891,  1.5608901 ,  0.21791587,\n",
       "         1.58763232,  0.48829785,  4.17725349,  0.87178092,  1.65845723,\n",
       "         0.        ,  0.53135026,  5.20715554,  3.75577242,  1.44128823,\n",
       "         0.13177666,  2.12085211,  1.5863506 ,  4.98590585,  3.14836592],\n",
       "       [ 0.57675815,  1.41136103,  1.47348017,  3.34021878,  0.26420381,\n",
       "         0.31678213,  0.36226986,  2.35986865,  2.31300924,  1.94463093,\n",
       "         0.53135026,  0.        ,  3.0941966 ,  2.76767686,  3.12900232,\n",
       "         0.93161568,  0.58898333,  0.66778185,  8.31227498,  1.97673497],\n",
       "       [ 2.25554772,  5.28719481,  8.31753698,  7.35330558,  5.12486104,\n",
       "         2.98580386,  5.53803417,  0.05722976, 10.2661236 ,  2.71975305,\n",
       "         5.20715554,  3.0941966 ,  0.        ,  0.65744183, 12.02148127,\n",
       "         5.14070298,  1.24284889,  1.04554402, 20.31785391,  7.8167002 ],\n",
       "       [ 1.17364576,  6.61278508,  6.51068686,  4.12736005,  4.35012111,\n",
       "         3.56360822,  5.04856441,  0.4651019 ,  8.19778195,  0.89148853,\n",
       "         3.75577242,  2.76767686,  0.65744183,  0.        ,  9.79528269,\n",
       "         3.2492008 ,  1.80415648,  0.74369359, 16.47851324,  8.83363496],\n",
       "       [ 4.20443171,  5.3073173 ,  0.34280964,  3.28438682,  1.59685335,\n",
       "         4.55036938,  1.68273898, 10.44107952,  0.07132639,  5.66778445,\n",
       "         1.44128823,  3.12900232, 12.02148127,  9.79528269,  0.        ,\n",
       "         1.84474502,  6.4263338 ,  5.99825072,  1.3226692 ,  4.03545219],\n",
       "       [ 0.58888696,  4.3301388 ,  0.67044517,  0.80802089,  0.67710326,\n",
       "         2.32732402,  1.12015076,  4.11557286,  1.20816495,  1.05335521,\n",
       "         0.13177666,  0.93161568,  5.14070298,  3.2492008 ,  1.84474502,\n",
       "         0.        ,  2.5589814 ,  1.60093535,  5.12770196,  4.54602284],\n",
       "       [ 1.03060311,  1.54214177,  3.92263234,  5.47949232,  1.6219777 ,\n",
       "         0.37709438,  1.69960481,  0.87403964,  5.23624564,  2.42613903,\n",
       "         2.12085211,  0.58898333,  1.24284889,  1.80415648,  6.4263338 ,\n",
       "         2.5589814 ,  0.        ,  0.36127522, 13.31966052,  2.88047927],\n",
       "       [ 0.27856681,  3.0467376 ,  3.47648228,  3.44342357,  1.64855255,\n",
       "         1.09207988,  2.00283704,  0.61518472,  4.77290468,  0.93687322,\n",
       "         1.5863506 ,  0.66778185,  1.04554402,  0.74369359,  5.99825072,\n",
       "         1.60093535,  0.36127522,  0.        , 12.15495088,  4.47556041],\n",
       "       [ 9.15338616, 11.81201243,  2.78633818,  5.34781526,  5.7299674 ,\n",
       "        10.75515748,  5.98104908, 18.21984551,  1.8747488 , 10.21223192,\n",
       "         4.98590585,  8.31227498, 20.31785391, 16.47851324,  1.3226692 ,\n",
       "         5.12770196, 13.31966052, 12.15495088,  0.        ,  9.55559881],\n",
       "       [ 4.68802768,  0.31170315,  3.1449109 ,  9.13996834,  1.71431591,\n",
       "         1.19646975,  1.15724028,  6.92125398,  3.6231957 ,  7.82449056,\n",
       "         3.14836592,  1.97673497,  7.8167002 ,  8.83363496,  4.03545219,\n",
       "         4.54602284,  2.88047927,  4.47556041,  9.55559881,  0.        ]])"
      ]
     },
     "execution_count": 140,
     "metadata": {},
     "output_type": "execute_result"
    }
   ],
   "source": [
    "sq_differences = differences ** 2 # type: np.array\n",
    "sq_differences.sum(axis=-1)"
   ]
  },
  {
   "cell_type": "code",
   "execution_count": 141,
   "id": "a61edf05f6629f71",
   "metadata": {
    "ExecuteTime": {
     "end_time": "2024-07-13T11:00:47.745765Z",
     "start_time": "2024-07-13T11:00:47.740692Z"
    }
   },
   "outputs": [
    {
     "data": {
      "text/plain": [
       "array([0., 0., 0., 0., 0., 0., 0., 0., 0., 0., 0., 0., 0., 0., 0., 0., 0.,\n",
       "       0., 0., 0.])"
      ]
     },
     "execution_count": 141,
     "metadata": {},
     "output_type": "execute_result"
    }
   ],
   "source": [
    "dist_sq = sq_differences.sum(axis=-1)\n",
    "dist_sq.diagonal()"
   ]
  },
  {
   "cell_type": "code",
   "execution_count": 143,
   "id": "b5e5f230518dfb3",
   "metadata": {
    "ExecuteTime": {
     "end_time": "2024-07-13T11:01:20.850873Z",
     "start_time": "2024-07-13T11:01:20.848059Z"
    }
   },
   "outputs": [
    {
     "data": {
      "text/plain": [
       "array([[ 0, 17,  9, 11, 15, 10, 16,  4, 13,  5,  6,  7,  3,  2, 12,  8,\n",
       "         1, 14, 19, 18],\n",
       "       [ 1, 19,  5,  6, 11, 16,  4, 17, 10,  0,  2, 15,  8,  7, 12, 14,\n",
       "         9, 13,  3, 18],\n",
       "       [ 2,  8, 14, 10,  4, 15,  6, 11,  3,  0,  5, 18, 19,  9, 17,  1,\n",
       "        16, 13,  7, 12],\n",
       "       [ 3, 15,  9, 10,  0,  2,  8,  4, 14, 11, 17,  6, 13, 18, 16,  5,\n",
       "         7, 12,  1, 19],\n",
       "       [ 4,  6, 10, 11,  2, 15,  5,  8,  0, 14, 16, 17,  1, 19,  9,  3,\n",
       "         7, 13, 12, 18],\n",
       "       [ 5, 11, 16,  1,  6,  4, 17, 19,  0, 10, 15,  7,  2, 12,  9, 13,\n",
       "         8, 14,  3, 18],\n",
       "       [ 6,  4, 11, 10,  5,  2, 15, 19,  8,  1,  0, 14, 16, 17,  9,  3,\n",
       "         7, 13, 12, 18],\n",
       "       [ 7, 12, 13, 17, 16,  0,  9, 11,  5, 15,  4, 10,  6,  1,  3, 19,\n",
       "         2,  8, 14, 18],\n",
       "       [ 8, 14,  2, 10,  4,  6, 15, 18, 11,  3,  0, 19,  5,  9,  1, 17,\n",
       "        16, 13,  7, 12],\n",
       "       [ 9,  0, 13, 17, 15,  3, 10, 11,  7, 16,  4, 12,  6,  2,  5,  8,\n",
       "        14,  1, 19, 18],\n",
       "       [10, 15,  4,  2,  6, 11,  0,  8, 14,  3, 17,  5,  9, 16,  1, 19,\n",
       "        13,  7, 18, 12],\n",
       "       [11,  4,  5,  6, 10,  0, 16, 17, 15,  1,  2,  9, 19,  8,  7, 13,\n",
       "        12, 14,  3, 18],\n",
       "       [12,  7, 13, 17, 16,  0,  9,  5, 11,  4, 15, 10,  1,  6,  3, 19,\n",
       "         2,  8, 14, 18],\n",
       "       [13,  7, 12, 17,  9,  0, 16, 11, 15,  5, 10,  3,  4,  6,  2,  1,\n",
       "         8, 19, 14, 18],\n",
       "       [14,  8,  2, 18, 10,  4,  6, 15, 11,  3, 19,  0,  5,  1,  9, 17,\n",
       "        16, 13,  7, 12],\n",
       "       [15, 10,  0,  2,  4,  3, 11,  9,  6,  8, 17, 14,  5, 16, 13,  7,\n",
       "         1, 19, 18, 12],\n",
       "       [16, 17,  5, 11,  7,  0, 12,  1,  4,  6, 13, 10,  9, 15, 19,  2,\n",
       "         8,  3, 14, 18],\n",
       "       [17,  0, 16,  7, 11, 13,  9, 12,  5, 10, 15,  4,  6,  1,  3,  2,\n",
       "        19,  8, 14, 18],\n",
       "       [18, 14,  8,  2, 10, 15,  3,  4,  6, 11,  0, 19,  9,  5,  1, 17,\n",
       "        16, 13,  7, 12],\n",
       "       [19,  1,  6,  5,  4, 11, 16,  2, 10,  8, 14, 17, 15,  0,  7, 12,\n",
       "         9, 13,  3, 18]])"
      ]
     },
     "execution_count": 143,
     "metadata": {},
     "output_type": "execute_result"
    }
   ],
   "source": [
    "nearest = np.argsort(dist_sq, axis=1)\n",
    "nearest"
   ]
  },
  {
   "cell_type": "code",
   "execution_count": 144,
   "id": "854a76767386351c",
   "metadata": {
    "ExecuteTime": {
     "end_time": "2024-07-13T11:02:01.781137Z",
     "start_time": "2024-07-13T11:02:01.775005Z"
    }
   },
   "outputs": [
    {
     "data": {
      "text/plain": [
       "array([[17,  0,  9, 11, 15, 10,  4, 16, 13,  6,  5,  7,  3, 12, 14,  1,\n",
       "         8,  2, 18, 19],\n",
       "       [19,  5,  1,  6, 16, 11,  4, 17, 10,  0,  8,  7, 12, 13, 14, 15,\n",
       "         3,  2, 18,  9],\n",
       "       [14,  8,  2, 10,  4, 15,  6, 11, 18,  0,  3,  5, 19, 13, 12,  1,\n",
       "        16, 17,  7,  9],\n",
       "       [15,  3,  9, 10,  0,  5,  6,  7,  8,  1,  4, 11, 12, 13, 14,  2,\n",
       "        16, 17, 18, 19],\n",
       "       [ 6,  4, 10, 11,  2, 15,  0, 16,  8,  1,  5, 17, 14, 19, 13, 12,\n",
       "         7,  3, 18,  9],\n",
       "       [ 5, 11, 16,  1,  6,  4, 17, 19,  0,  8, 10,  7, 12, 13, 14, 15,\n",
       "         3,  2, 18,  9],\n",
       "       [ 6,  4, 11, 10, 19,  5, 15,  2,  8,  1,  0,  7, 12, 13, 14,  3,\n",
       "        16, 17, 18,  9],\n",
       "       [ 7, 12, 13, 17, 16,  0,  9,  6,  8,  1, 10, 11,  5,  4, 14, 15,\n",
       "         3,  2, 18, 19],\n",
       "       [14,  8,  2, 10,  4,  6, 15, 18,  0,  3, 11, 19, 12, 13,  1,  7,\n",
       "        16, 17,  5,  9],\n",
       "       [ 9,  0, 13, 17, 15,  3, 10, 11,  7, 16,  6,  4, 12,  2, 14,  1,\n",
       "         8,  5, 18, 19],\n",
       "       [10, 15,  4,  2, 11,  0,  6,  8, 14, 17,  3,  5,  9, 13, 12,  1,\n",
       "        16,  7, 18, 19],\n",
       "       [ 4, 11,  5,  6, 10,  0,  2, 16, 15,  1, 17,  9, 12, 13, 14,  8,\n",
       "         7,  3, 18, 19],\n",
       "       [12,  7, 13, 17, 16,  0,  9,  6,  8,  1, 10, 11,  5,  4, 14, 15,\n",
       "         3,  2, 18, 19],\n",
       "       [13,  7, 12, 17,  9,  0,  6,  5,  8,  1, 10, 11,  4,  3, 14, 15,\n",
       "        16,  2, 18, 19],\n",
       "       [14,  8,  2, 18, 10, 19,  6, 15,  4,  3, 11,  0, 12, 13,  1,  7,\n",
       "        16, 17,  5,  9],\n",
       "       [ 0, 15, 10,  2,  4,  3, 11,  9,  8,  1,  7,  6, 12, 13, 14,  5,\n",
       "        16, 17, 18, 19],\n",
       "       [16,  5, 17, 11,  4,  0,  6,  7, 13,  1, 10, 12,  9,  8, 14, 15,\n",
       "         3,  2, 18, 19],\n",
       "       [16, 17,  0,  7, 13, 11,  9,  6,  8,  1, 10,  5, 12,  4, 14, 15,\n",
       "         3,  2, 18, 19],\n",
       "       [18, 14,  8,  2, 10,  0,  6, 15,  4,  3, 11, 19, 12, 13,  1,  7,\n",
       "        16, 17,  5,  9],\n",
       "       [19,  1,  6,  5,  4, 11,  2, 16,  8, 10, 14, 17, 15,  0, 13, 12,\n",
       "         7,  3, 18,  9]])"
      ]
     },
     "execution_count": 144,
     "metadata": {},
     "output_type": "execute_result"
    }
   ],
   "source": [
    "K = 2\n",
    "nearest_partition = np.argpartition(dist_sq, K + 1, axis=1)\n",
    "nearest_partition"
   ]
  },
  {
   "cell_type": "code",
   "execution_count": 147,
   "id": "528d7b9c0405c337",
   "metadata": {
    "ExecuteTime": {
     "end_time": "2024-07-13T11:07:38.459717Z",
     "start_time": "2024-07-13T11:07:38.353964Z"
    }
   },
   "outputs": [
    {
     "data": {
      "image/png": "[encoded data removed]",
      "text/plain": [
       "<Figure size 640x480 with 1 Axes>"
      ]
     },
     "metadata": {},
     "output_type": "display_data"
    }
   ],
   "source": [
    "plt.scatter(X[:,0], X[:,1])\n",
    "K=2\n",
    "for i in range(X.shape[0]):\n",
    "    for j in nearest_partition[i, :K+1]:\n",
    "        plt.plot(*zip(X[j], X[i]), color='black')"
   ]
  },
  {
   "metadata": {},
   "cell_type": "markdown",
   "source": "# 结构化数组",
   "id": "9f1b4812467ed380"
  },
  {
   "cell_type": "code",
   "id": "8fd2a91c7b1232da",
   "metadata": {
    "ExecuteTime": {
     "end_time": "2024-07-13T11:14:55.619399Z",
     "start_time": "2024-07-13T11:14:55.617085Z"
    }
   },
   "source": [
    "name = ['Bob', 'Sue', 'Tom']\n",
    "age = [40, 50, 60]\n",
    "weight = [40.5, 50.5, 60.5]"
   ],
   "outputs": [],
   "execution_count": 156
  },
  {
   "metadata": {
    "ExecuteTime": {
     "end_time": "2024-07-13T11:15:23.181510Z",
     "start_time": "2024-07-13T11:15:23.179509Z"
    }
   },
   "cell_type": "code",
   "source": "data = np.zeros(3, dtype={'names':('name', 'age', 'weight'),'formats':('S10', 'i4', 'f8')})",
   "id": "d5b00b52da84694e",
   "outputs": [],
   "execution_count": 160
  },
  {
   "metadata": {
    "ExecuteTime": {
     "end_time": "2024-07-13T11:15:23.732546Z",
     "start_time": "2024-07-13T11:15:23.730205Z"
    }
   },
   "cell_type": "code",
   "source": "data.dtype",
   "id": "a7c100920d1cc33c",
   "outputs": [
    {
     "data": {
      "text/plain": [
       "dtype([('name', 'S10'), ('age', '<i4'), ('weight', '<f8')])"
      ]
     },
     "execution_count": 161,
     "metadata": {},
     "output_type": "execute_result"
    }
   ],
   "execution_count": 161
  },
  {
   "metadata": {
    "ExecuteTime": {
     "end_time": "2024-07-13T11:15:24.323449Z",
     "start_time": "2024-07-13T11:15:24.320785Z"
    }
   },
   "cell_type": "code",
   "source": [
    "data['name'] = name\n",
    "data['age'] = age\n",
    "data['weight'] = weight\n",
    "data"
   ],
   "id": "a64892f9197f32bf",
   "outputs": [
    {
     "data": {
      "text/plain": [
       "array([(b'Bob', 40, 40.5), (b'Sue', 50, 50.5), (b'Tom', 60, 60.5)],\n",
       "      dtype=[('name', 'S10'), ('age', '<i4'), ('weight', '<f8')])"
      ]
     },
     "execution_count": 162,
     "metadata": {},
     "output_type": "execute_result"
    }
   ],
   "execution_count": 162
  },
  {
   "metadata": {
    "ExecuteTime": {
     "end_time": "2024-07-13T11:15:36.577905Z",
     "start_time": "2024-07-13T11:15:36.575772Z"
    }
   },
   "cell_type": "code",
   "source": "data['name']",
   "id": "81b23e3226459325",
   "outputs": [
    {
     "data": {
      "text/plain": [
       "array([b'Bob', b'Sue', b'Tom'], dtype='|S10')"
      ]
     },
     "execution_count": 163,
     "metadata": {},
     "output_type": "execute_result"
    }
   ],
   "execution_count": 163
  },
  {
   "metadata": {
    "ExecuteTime": {
     "end_time": "2024-07-13T11:15:39.171089Z",
     "start_time": "2024-07-13T11:15:39.168837Z"
    }
   },
   "cell_type": "code",
   "source": "data[0]",
   "id": "668365eeb3218970",
   "outputs": [
    {
     "data": {
      "text/plain": [
       "(b'Bob', 40, 40.5)"
      ]
     },
     "execution_count": 164,
     "metadata": {},
     "output_type": "execute_result"
    }
   ],
   "execution_count": 164
  },
  {
   "metadata": {
    "ExecuteTime": {
     "end_time": "2024-07-13T11:16:18.093925Z",
     "start_time": "2024-07-13T11:16:18.092105Z"
    }
   },
   "cell_type": "code",
   "source": "data = np.zeros(3, dtype=[('name', 'S10'), ('age', 'i4'), ('weight', 'f8')])\n",
   "id": "9ffea9de1a3998e4",
   "outputs": [],
   "execution_count": 165
  },
  {
   "metadata": {},
   "cell_type": "code",
   "outputs": [],
   "execution_count": null,
   "source": "",
   "id": "b67d8857ee40e49"
  }
 ],
 "metadata": {
  "kernelspec": {
   "display_name": "Python 3 (ipykernel)",
   "language": "python",
   "name": "python3"
  },
  "language_info": {
   "codemirror_mode": {
    "name": "ipython",
    "version": 3
   },
   "file_extension": ".py",
   "mimetype": "text/x-python",
   "name": "python",
   "nbconvert_exporter": "python",
   "pygments_lexer": "ipython3",
   "version": "3.11.5"
  }
 },
 "nbformat": 4,
 "nbformat_minor": 5
}
