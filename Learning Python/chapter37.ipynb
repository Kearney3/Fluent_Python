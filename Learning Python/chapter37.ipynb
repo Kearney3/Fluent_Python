{
 "cells": [
  {
   "metadata": {},
   "cell_type": "markdown",
   "source": "# Unicode",
   "id": "7f8d5708ac2c053b"
  },
  {
   "cell_type": "code",
   "id": "initial_id",
   "metadata": {
    "collapsed": true,
    "ExecuteTime": {
     "end_time": "2024-07-03T01:56:31.979069Z",
     "start_time": "2024-07-03T01:56:31.974292Z"
    }
   },
   "source": [
    "import sys\n",
    "\n",
    "sys.getdefaultencoding()"
   ],
   "outputs": [
    {
     "data": {
      "text/plain": [
       "'utf-8'"
      ]
     },
     "execution_count": 1,
     "metadata": {},
     "output_type": "execute_result"
    }
   ],
   "execution_count": 1
  },
  {
   "metadata": {
    "ExecuteTime": {
     "end_time": "2024-07-03T01:57:40.245767Z",
     "start_time": "2024-07-03T01:57:40.242382Z"
    }
   },
   "cell_type": "code",
   "source": "ord('a'), chr(97), hex(97), oct(97), bin(97)",
   "id": "8d0220c08cebecb5",
   "outputs": [
    {
     "data": {
      "text/plain": [
       "(97, 'a', '0x61', '0o141', '0b1100001')"
      ]
     },
     "execution_count": 4,
     "metadata": {},
     "output_type": "execute_result"
    }
   ],
   "execution_count": 4
  },
  {
   "metadata": {
    "ExecuteTime": {
     "end_time": "2024-07-03T01:58:05.404942Z",
     "start_time": "2024-07-03T01:58:05.398036Z"
    }
   },
   "cell_type": "code",
   "source": "chr(196)",
   "id": "342f1a06a5fe5ce4",
   "outputs": [
    {
     "data": {
      "text/plain": [
       "'Ä'"
      ]
     },
     "execution_count": 5,
     "metadata": {},
     "output_type": "execute_result"
    }
   ],
   "execution_count": 5
  },
  {
   "metadata": {
    "ExecuteTime": {
     "end_time": "2024-07-03T02:01:40.469807Z",
     "start_time": "2024-07-03T02:01:40.467101Z"
    }
   },
   "cell_type": "code",
   "source": [
    "S = 'spam'\n",
    "S.encode('ascii'), S.encode('latin-1')"
   ],
   "id": "6d5dfd482cb94bf1",
   "outputs": [
    {
     "data": {
      "text/plain": [
       "(b'spam', b'spam')"
      ]
     },
     "execution_count": 11,
     "metadata": {},
     "output_type": "execute_result"
    }
   ],
   "execution_count": 11
  },
  {
   "metadata": {
    "ExecuteTime": {
     "end_time": "2024-07-03T02:01:40.932468Z",
     "start_time": "2024-07-03T02:01:40.929808Z"
    }
   },
   "cell_type": "code",
   "source": "S.encode('utf-8'), len(S.encode('utf-8'))",
   "id": "bd7b91bfb8f9b6d5",
   "outputs": [
    {
     "data": {
      "text/plain": [
       "(b'spam', 4)"
      ]
     },
     "execution_count": 12,
     "metadata": {},
     "output_type": "execute_result"
    }
   ],
   "execution_count": 12
  },
  {
   "metadata": {
    "ExecuteTime": {
     "end_time": "2024-07-03T02:01:41.829996Z",
     "start_time": "2024-07-03T02:01:41.825182Z"
    }
   },
   "cell_type": "code",
   "source": "S.encode('utf-16'), len(S.encode('utf-16'))",
   "id": "df8d817069183f15",
   "outputs": [
    {
     "data": {
      "text/plain": [
       "(b'\\xff\\xfes\\x00p\\x00a\\x00m\\x00', 10)"
      ]
     },
     "execution_count": 13,
     "metadata": {},
     "output_type": "execute_result"
    }
   ],
   "execution_count": 13
  },
  {
   "metadata": {
    "ExecuteTime": {
     "end_time": "2024-07-03T02:01:42.206205Z",
     "start_time": "2024-07-03T02:01:42.203837Z"
    }
   },
   "cell_type": "code",
   "source": "S.encode('utf-32'), len(S.encode('utf-32'))",
   "id": "efc206ce7b4d587d",
   "outputs": [
    {
     "data": {
      "text/plain": [
       "(b'\\xff\\xfe\\x00\\x00s\\x00\\x00\\x00p\\x00\\x00\\x00a\\x00\\x00\\x00m\\x00\\x00\\x00', 20)"
      ]
     },
     "execution_count": 14,
     "metadata": {},
     "output_type": "execute_result"
    }
   ],
   "execution_count": 14
  },
  {
   "metadata": {
    "ExecuteTime": {
     "end_time": "2024-07-03T02:02:31.265278Z",
     "start_time": "2024-07-03T02:02:31.255238Z"
    }
   },
   "cell_type": "code",
   "source": [
    "import encodings\n",
    "\n",
    "help(encodings)"
   ],
   "id": "b42074f646ae1c5c",
   "outputs": [
    {
     "name": "stdout",
     "output_type": "stream",
     "text": [
      "Help on package encodings:\n",
      "\n",
      "NAME\n",
      "    encodings - Standard \"encodings\" Package\n",
      "\n",
      "MODULE REFERENCE\n",
      "    https://docs.python.org/3.11/library/encodings.html\n",
      "    \n",
      "    The following documentation is automatically generated from the Python\n",
      "    source files.  It may be incomplete, incorrect or include features that\n",
      "    are considered implementation detail and may vary between Python\n",
      "    implementations.  When in doubt, consult the module reference at the\n",
      "    location listed above.\n",
      "\n",
      "DESCRIPTION\n",
      "        Standard Python encoding modules are stored in this package\n",
      "        directory.\n",
      "    \n",
      "        Codec modules must have names corresponding to normalized encoding\n",
      "        names as defined in the normalize_encoding() function below, e.g.\n",
      "        'utf-8' must be implemented by the module 'utf_8.py'.\n",
      "    \n",
      "        Each codec module must export the following interface:\n",
      "    \n",
      "        * getregentry() -> codecs.CodecInfo object\n",
      "        The getregentry() API must return a CodecInfo object with encoder, decoder,\n",
      "        incrementalencoder, incrementaldecoder, streamwriter and streamreader\n",
      "        attributes which adhere to the Python Codec Interface Standard.\n",
      "    \n",
      "        In addition, a module may optionally also define the following\n",
      "        APIs which are then used by the package's codec search function:\n",
      "    \n",
      "        * getaliases() -> sequence of encoding name strings to use as aliases\n",
      "    \n",
      "        Alias names returned by getaliases() must be normalized encoding\n",
      "        names as defined by normalize_encoding().\n",
      "    \n",
      "    Written by Marc-Andre Lemburg (mal@lemburg.com).\n",
      "    \n",
      "    (c) Copyright CNRI, All Rights Reserved. NO WARRANTY.\n",
      "\n",
      "PACKAGE CONTENTS\n",
      "    aliases\n",
      "    ascii\n",
      "    base64_codec\n",
      "    big5\n",
      "    big5hkscs\n",
      "    bz2_codec\n",
      "    charmap\n",
      "    cp037\n",
      "    cp1006\n",
      "    cp1026\n",
      "    cp1125\n",
      "    cp1140\n",
      "    cp1250\n",
      "    cp1251\n",
      "    cp1252\n",
      "    cp1253\n",
      "    cp1254\n",
      "    cp1255\n",
      "    cp1256\n",
      "    cp1257\n",
      "    cp1258\n",
      "    cp273\n",
      "    cp424\n",
      "    cp437\n",
      "    cp500\n",
      "    cp720\n",
      "    cp737\n",
      "    cp775\n",
      "    cp850\n",
      "    cp852\n",
      "    cp855\n",
      "    cp856\n",
      "    cp857\n",
      "    cp858\n",
      "    cp860\n",
      "    cp861\n",
      "    cp862\n",
      "    cp863\n",
      "    cp864\n",
      "    cp865\n",
      "    cp866\n",
      "    cp869\n",
      "    cp874\n",
      "    cp875\n",
      "    cp932\n",
      "    cp949\n",
      "    cp950\n",
      "    euc_jis_2004\n",
      "    euc_jisx0213\n",
      "    euc_jp\n",
      "    euc_kr\n",
      "    gb18030\n",
      "    gb2312\n",
      "    gbk\n",
      "    hex_codec\n",
      "    hp_roman8\n",
      "    hz\n",
      "    idna\n",
      "    iso2022_jp\n",
      "    iso2022_jp_1\n",
      "    iso2022_jp_2\n",
      "    iso2022_jp_2004\n",
      "    iso2022_jp_3\n",
      "    iso2022_jp_ext\n",
      "    iso2022_kr\n",
      "    iso8859_1\n",
      "    iso8859_10\n",
      "    iso8859_11\n",
      "    iso8859_13\n",
      "    iso8859_14\n",
      "    iso8859_15\n",
      "    iso8859_16\n",
      "    iso8859_2\n",
      "    iso8859_3\n",
      "    iso8859_4\n",
      "    iso8859_5\n",
      "    iso8859_6\n",
      "    iso8859_7\n",
      "    iso8859_8\n",
      "    iso8859_9\n",
      "    johab\n",
      "    koi8_r\n",
      "    koi8_t\n",
      "    koi8_u\n",
      "    kz1048\n",
      "    latin_1\n",
      "    mac_arabic\n",
      "    mac_croatian\n",
      "    mac_cyrillic\n",
      "    mac_farsi\n",
      "    mac_greek\n",
      "    mac_iceland\n",
      "    mac_latin2\n",
      "    mac_roman\n",
      "    mac_romanian\n",
      "    mac_turkish\n",
      "    mbcs\n",
      "    oem\n",
      "    palmos\n",
      "    ptcp154\n",
      "    punycode\n",
      "    quopri_codec\n",
      "    raw_unicode_escape\n",
      "    rot_13\n",
      "    shift_jis\n",
      "    shift_jis_2004\n",
      "    shift_jisx0213\n",
      "    tis_620\n",
      "    undefined\n",
      "    unicode_escape\n",
      "    utf_16\n",
      "    utf_16_be\n",
      "    utf_16_le\n",
      "    utf_32\n",
      "    utf_32_be\n",
      "    utf_32_le\n",
      "    utf_7\n",
      "    utf_8\n",
      "    utf_8_sig\n",
      "    uu_codec\n",
      "    zlib_codec\n",
      "\n",
      "CLASSES\n",
      "    builtins.LookupError(builtins.Exception)\n",
      "        CodecRegistryError(builtins.LookupError, builtins.SystemError)\n",
      "    builtins.SystemError(builtins.Exception)\n",
      "        CodecRegistryError(builtins.LookupError, builtins.SystemError)\n",
      "    \n",
      "    class CodecRegistryError(builtins.LookupError, builtins.SystemError)\n",
      "     |  Method resolution order:\n",
      "     |      CodecRegistryError\n",
      "     |      builtins.LookupError\n",
      "     |      builtins.SystemError\n",
      "     |      builtins.Exception\n",
      "     |      builtins.BaseException\n",
      "     |      builtins.object\n",
      "     |  \n",
      "     |  Data descriptors defined here:\n",
      "     |  \n",
      "     |  __weakref__\n",
      "     |      list of weak references to the object (if defined)\n",
      "     |  \n",
      "     |  ----------------------------------------------------------------------\n",
      "     |  Methods inherited from builtins.LookupError:\n",
      "     |  \n",
      "     |  __init__(self, /, *args, **kwargs)\n",
      "     |      Initialize self.  See help(type(self)) for accurate signature.\n",
      "     |  \n",
      "     |  ----------------------------------------------------------------------\n",
      "     |  Static methods inherited from builtins.LookupError:\n",
      "     |  \n",
      "     |  __new__(*args, **kwargs) from builtins.type\n",
      "     |      Create and return a new object.  See help(type) for accurate signature.\n",
      "     |  \n",
      "     |  ----------------------------------------------------------------------\n",
      "     |  Methods inherited from builtins.BaseException:\n",
      "     |  \n",
      "     |  __delattr__(self, name, /)\n",
      "     |      Implement delattr(self, name).\n",
      "     |  \n",
      "     |  __getattribute__(self, name, /)\n",
      "     |      Return getattr(self, name).\n",
      "     |  \n",
      "     |  __reduce__(...)\n",
      "     |      Helper for pickle.\n",
      "     |  \n",
      "     |  __repr__(self, /)\n",
      "     |      Return repr(self).\n",
      "     |  \n",
      "     |  __setattr__(self, name, value, /)\n",
      "     |      Implement setattr(self, name, value).\n",
      "     |  \n",
      "     |  __setstate__(...)\n",
      "     |  \n",
      "     |  __str__(self, /)\n",
      "     |      Return str(self).\n",
      "     |  \n",
      "     |  add_note(...)\n",
      "     |      Exception.add_note(note) --\n",
      "     |      add a note to the exception\n",
      "     |  \n",
      "     |  with_traceback(...)\n",
      "     |      Exception.with_traceback(tb) --\n",
      "     |      set self.__traceback__ to tb and return self.\n",
      "     |  \n",
      "     |  ----------------------------------------------------------------------\n",
      "     |  Data descriptors inherited from builtins.BaseException:\n",
      "     |  \n",
      "     |  __cause__\n",
      "     |      exception cause\n",
      "     |  \n",
      "     |  __context__\n",
      "     |      exception context\n",
      "     |  \n",
      "     |  __dict__\n",
      "     |  \n",
      "     |  __suppress_context__\n",
      "     |  \n",
      "     |  __traceback__\n",
      "     |  \n",
      "     |  args\n",
      "\n",
      "FUNCTIONS\n",
      "    normalize_encoding(encoding)\n",
      "        Normalize an encoding name.\n",
      "        \n",
      "        Normalization works as follows: all non-alphanumeric\n",
      "        characters except the dot used for Python package names are\n",
      "        collapsed and replaced with a single underscore, e.g. '  -;#'\n",
      "        becomes '_'. Leading and trailing underscores are removed.\n",
      "        \n",
      "        Note that encoding names should be ASCII only.\n",
      "    \n",
      "    search_function(encoding)\n",
      "\n",
      "FILE\n",
      "    /Users/kearney/anaconda3/lib/python3.11/encodings/__init__.py\n",
      "\n",
      "\n"
     ]
    }
   ],
   "execution_count": 17
  },
  {
   "metadata": {},
   "cell_type": "markdown",
   "source": "## 字符串",
   "id": "b4a1177cc15a6e15"
  },
  {
   "metadata": {
    "ExecuteTime": {
     "end_time": "2024-07-03T03:02:07.274756Z",
     "start_time": "2024-07-03T03:02:07.266268Z"
    }
   },
   "cell_type": "code",
   "source": [
    "B = b'spam'\n",
    "S = 'eggs'"
   ],
   "id": "e75b4ad1da8b0d36",
   "outputs": [],
   "execution_count": 18
  },
  {
   "metadata": {
    "ExecuteTime": {
     "end_time": "2024-07-03T03:02:13.012985Z",
     "start_time": "2024-07-03T03:02:13.010534Z"
    }
   },
   "cell_type": "code",
   "source": "type(B), type(S)",
   "id": "f30a4405271359af",
   "outputs": [
    {
     "data": {
      "text/plain": [
       "(bytes, str)"
      ]
     },
     "execution_count": 19,
     "metadata": {},
     "output_type": "execute_result"
    }
   ],
   "execution_count": 19
  },
  {
   "metadata": {
    "ExecuteTime": {
     "end_time": "2024-07-03T03:02:17.812301Z",
     "start_time": "2024-07-03T03:02:17.808848Z"
    }
   },
   "cell_type": "code",
   "source": "B, S",
   "id": "660b47da54d2966c",
   "outputs": [
    {
     "data": {
      "text/plain": [
       "(b'spam', 'eggs')"
      ]
     },
     "execution_count": 20,
     "metadata": {},
     "output_type": "execute_result"
    }
   ],
   "execution_count": 20
  },
  {
   "metadata": {
    "ExecuteTime": {
     "end_time": "2024-07-03T03:02:39.904532Z",
     "start_time": "2024-07-03T03:02:39.902052Z"
    }
   },
   "cell_type": "code",
   "source": "B[0], B[1], B[2:]",
   "id": "5221ee3315ffb2b",
   "outputs": [
    {
     "data": {
      "text/plain": [
       "(115, 112, b'am')"
      ]
     },
     "execution_count": 22,
     "metadata": {},
     "output_type": "execute_result"
    }
   ],
   "execution_count": 22
  },
  {
   "metadata": {
    "ExecuteTime": {
     "end_time": "2024-07-03T03:05:17.045791Z",
     "start_time": "2024-07-03T03:05:17.042605Z"
    }
   },
   "cell_type": "code",
   "source": "list(B), list(S)",
   "id": "6dce7c89907e97f4",
   "outputs": [
    {
     "data": {
      "text/plain": [
       "([115, 112, 97, 109], ['e', 'g', 'g', 's'])"
      ]
     },
     "execution_count": 28,
     "metadata": {},
     "output_type": "execute_result"
    }
   ],
   "execution_count": 28
  },
  {
   "metadata": {
    "ExecuteTime": {
     "end_time": "2024-07-03T03:04:44.919115Z",
     "start_time": "2024-07-03T03:04:44.916918Z"
    }
   },
   "cell_type": "code",
   "source": "B.upper()",
   "id": "af88dbad836b02ae",
   "outputs": [
    {
     "data": {
      "text/plain": [
       "b'SPAM'"
      ]
     },
     "execution_count": 25,
     "metadata": {},
     "output_type": "execute_result"
    }
   ],
   "execution_count": 25
  },
  {
   "metadata": {
    "ExecuteTime": {
     "end_time": "2024-07-03T03:05:50.094296Z",
     "start_time": "2024-07-03T03:05:50.092831Z"
    }
   },
   "cell_type": "code",
   "source": [
    "B = b\"\"\"\n",
    "xxx\n",
    "yyy\n",
    "\"\"\""
   ],
   "id": "4de19d10c73508e7",
   "outputs": [],
   "execution_count": 29
  },
  {
   "metadata": {
    "ExecuteTime": {
     "end_time": "2024-07-03T03:05:51.477146Z",
     "start_time": "2024-07-03T03:05:51.474361Z"
    }
   },
   "cell_type": "code",
   "source": "B",
   "id": "db32a17543e2b83c",
   "outputs": [
    {
     "data": {
      "text/plain": [
       "b'\\nxxx\\nyyy\\n'"
      ]
     },
     "execution_count": 30,
     "metadata": {},
     "output_type": "execute_result"
    }
   ],
   "execution_count": 30
  },
  {
   "metadata": {
    "ExecuteTime": {
     "end_time": "2024-07-03T03:06:15.148914Z",
     "start_time": "2024-07-03T03:06:15.142948Z"
    }
   },
   "cell_type": "code",
   "source": "B.upper()",
   "id": "5c0226d544f4c5df",
   "outputs": [
    {
     "data": {
      "text/plain": [
       "b'\\nXXX\\nYYY\\n'"
      ]
     },
     "execution_count": 31,
     "metadata": {},
     "output_type": "execute_result"
    }
   ],
   "execution_count": 31
  },
  {
   "metadata": {
    "ExecuteTime": {
     "end_time": "2024-07-03T03:06:41.353983Z",
     "start_time": "2024-07-03T03:06:41.350988Z"
    }
   },
   "cell_type": "code",
   "source": [
    "U = u'spam'\n",
    "type(U)"
   ],
   "id": "59ba1344f187d389",
   "outputs": [
    {
     "data": {
      "text/plain": [
       "str"
      ]
     },
     "execution_count": 32,
     "metadata": {},
     "output_type": "execute_result"
    }
   ],
   "execution_count": 32
  },
  {
   "metadata": {},
   "cell_type": "markdown",
   "source": [
    "• str.encode（） 和 bytes（S,encoding）把⼀个字符串转换为其原始字节形式，并且在 此过程中根据⼀个解码的 str 创建⼀个编码的bytes。\n",
    "\n",
    "• bytes.decode（）和 str（B,encoding）把原始字节转换为其字符串形式，并且在此过 程中根据⼀个编码的bytes 创建⼀个解码的str。"
   ],
   "id": "20c8cb2dfc3b9c1a"
  },
  {
   "metadata": {
    "ExecuteTime": {
     "end_time": "2024-07-03T03:09:45.790533Z",
     "start_time": "2024-07-03T03:09:45.788208Z"
    }
   },
   "cell_type": "code",
   "source": [
    "S = 'eggs'\n",
    "S.encode('ascii'), S.encode('latin-1'), S.encode('utf-8')"
   ],
   "id": "63c796d4d9264759",
   "outputs": [
    {
     "data": {
      "text/plain": [
       "(b'eggs', b'eggs', b'eggs')"
      ]
     },
     "execution_count": 38,
     "metadata": {},
     "output_type": "execute_result"
    }
   ],
   "execution_count": 38
  },
  {
   "metadata": {
    "ExecuteTime": {
     "end_time": "2024-07-03T03:11:42.353407Z",
     "start_time": "2024-07-03T03:11:42.351065Z"
    }
   },
   "cell_type": "code",
   "source": "bytes(S, encoding='ascii')",
   "id": "a41f6b4b352143d",
   "outputs": [
    {
     "data": {
      "text/plain": [
       "b'eggs'"
      ]
     },
     "execution_count": 40,
     "metadata": {},
     "output_type": "execute_result"
    }
   ],
   "execution_count": 40
  },
  {
   "metadata": {
    "ExecuteTime": {
     "end_time": "2024-07-03T03:12:25.098276Z",
     "start_time": "2024-07-03T03:12:25.093337Z"
    }
   },
   "cell_type": "code",
   "source": [
    "B = b'eggs'\n",
    "B.decode('ascii'), B.decode('latin-1'), B.decode('utf-8')"
   ],
   "id": "99383ee9ce5e9b02",
   "outputs": [
    {
     "data": {
      "text/plain": [
       "('eggs', 'eggs', 'eggs')"
      ]
     },
     "execution_count": 41,
     "metadata": {},
     "output_type": "execute_result"
    }
   ],
   "execution_count": 41
  },
  {
   "metadata": {
    "ExecuteTime": {
     "end_time": "2024-07-03T03:12:54.797881Z",
     "start_time": "2024-07-03T03:12:54.795696Z"
    }
   },
   "cell_type": "code",
   "source": "str(B, encoding='ascii')",
   "id": "e5a2f41e046b05b2",
   "outputs": [
    {
     "data": {
      "text/plain": [
       "'eggs'"
      ]
     },
     "execution_count": 43,
     "metadata": {},
     "output_type": "execute_result"
    }
   ],
   "execution_count": 43
  },
  {
   "metadata": {
    "ExecuteTime": {
     "end_time": "2024-07-03T03:15:29.724438Z",
     "start_time": "2024-07-03T03:15:29.719782Z"
    }
   },
   "cell_type": "code",
   "source": "bin(15)",
   "id": "d750f7604496e7d5",
   "outputs": [
    {
     "data": {
      "text/plain": [
       "'0b1111'"
      ]
     },
     "execution_count": 44,
     "metadata": {},
     "output_type": "execute_result"
    }
   ],
   "execution_count": 44
  },
  {
   "metadata": {
    "ExecuteTime": {
     "end_time": "2024-07-03T03:17:38.702275Z",
     "start_time": "2024-07-03T03:17:38.699672Z"
    }
   },
   "cell_type": "code",
   "source": "chr(0xf1)",
   "id": "4e222686b04ab469",
   "outputs": [
    {
     "data": {
      "text/plain": [
       "'ñ'"
      ]
     },
     "execution_count": 52,
     "metadata": {},
     "output_type": "execute_result"
    }
   ],
   "execution_count": 52
  },
  {
   "metadata": {
    "ExecuteTime": {
     "end_time": "2024-07-03T03:18:07.072561Z",
     "start_time": "2024-07-03T03:18:07.069550Z"
    }
   },
   "cell_type": "code",
   "source": "S = '\\xc4\\xf1'",
   "id": "fa201dd639670397",
   "outputs": [],
   "execution_count": 53
  },
  {
   "metadata": {
    "ExecuteTime": {
     "end_time": "2024-07-03T03:19:46.778196Z",
     "start_time": "2024-07-03T03:19:46.773637Z"
    }
   },
   "cell_type": "code",
   "source": "S",
   "id": "6b70628c059b3331",
   "outputs": [
    {
     "data": {
      "text/plain": [
       "'Äñ'"
      ]
     },
     "execution_count": 58,
     "metadata": {},
     "output_type": "execute_result"
    }
   ],
   "execution_count": 58
  },
  {
   "metadata": {
    "ExecuteTime": {
     "end_time": "2024-07-03T03:19:50.278725Z",
     "start_time": "2024-07-03T03:19:50.265067Z"
    }
   },
   "cell_type": "code",
   "source": "S.encode('ascii')",
   "id": "453b917b70e797b9",
   "outputs": [
    {
     "ename": "UnicodeEncodeError",
     "evalue": "'ascii' codec can't encode characters in position 0-1: ordinal not in range(128)",
     "output_type": "error",
     "traceback": [
      "\u001B[0;31m---------------------------------------------------------------------------\u001B[0m",
      "\u001B[0;31mUnicodeEncodeError\u001B[0m                        Traceback (most recent call last)",
      "Cell \u001B[0;32mIn[59], line 1\u001B[0m\n\u001B[0;32m----> 1\u001B[0m S\u001B[38;5;241m.\u001B[39mencode(\u001B[38;5;124m'\u001B[39m\u001B[38;5;124mascii\u001B[39m\u001B[38;5;124m'\u001B[39m)\n",
      "\u001B[0;31mUnicodeEncodeError\u001B[0m: 'ascii' codec can't encode characters in position 0-1: ordinal not in range(128)"
     ]
    }
   ],
   "execution_count": 59
  },
  {
   "metadata": {
    "ExecuteTime": {
     "end_time": "2024-07-03T03:22:18.145364Z",
     "start_time": "2024-07-03T03:22:18.140408Z"
    }
   },
   "cell_type": "code",
   "source": "S.encode('latin-1'), len(S.encode('latin-1'))",
   "id": "f3c609002a9d47f5",
   "outputs": [
    {
     "data": {
      "text/plain": [
       "(b'\\xc4\\xf1', 2)"
      ]
     },
     "execution_count": 62,
     "metadata": {},
     "output_type": "execute_result"
    }
   ],
   "execution_count": 62
  },
  {
   "metadata": {
    "ExecuteTime": {
     "end_time": "2024-07-03T03:22:23.447012Z",
     "start_time": "2024-07-03T03:22:23.444739Z"
    }
   },
   "cell_type": "code",
   "source": "S.encode('utf-8'), len(S.encode('utf-8'))",
   "id": "7f896fcfaf556dd2",
   "outputs": [
    {
     "data": {
      "text/plain": [
       "(b'\\xc3\\x84\\xc3\\xb1', 4)"
      ]
     },
     "execution_count": 63,
     "metadata": {},
     "output_type": "execute_result"
    }
   ],
   "execution_count": 63
  },
  {
   "metadata": {},
   "cell_type": "code",
   "outputs": [],
   "execution_count": 56,
   "source": "U = '\\u00c4\\u00f1'",
   "id": "8082a9b4f1eda9f1"
  },
  {
   "metadata": {
    "ExecuteTime": {
     "end_time": "2024-07-03T03:18:39.912853Z",
     "start_time": "2024-07-03T03:18:39.910109Z"
    }
   },
   "cell_type": "code",
   "source": "U",
   "id": "68c17f512c3404bd",
   "outputs": [
    {
     "data": {
      "text/plain": [
       "'Äñ'"
      ]
     },
     "execution_count": 57,
     "metadata": {},
     "output_type": "execute_result"
    }
   ],
   "execution_count": 57
  },
  {
   "metadata": {
    "ExecuteTime": {
     "end_time": "2024-07-03T03:29:01.949118Z",
     "start_time": "2024-07-03T03:29:01.947606Z"
    }
   },
   "cell_type": "code",
   "source": "S = 'A\\u00c4B\\U000000e8C'",
   "id": "52a296550cdcbe8f",
   "outputs": [],
   "execution_count": 87
  },
  {
   "metadata": {
    "ExecuteTime": {
     "end_time": "2024-07-03T03:29:02.194969Z",
     "start_time": "2024-07-03T03:29:02.192748Z"
    }
   },
   "cell_type": "code",
   "source": "len(S)",
   "id": "847060f81d30d450",
   "outputs": [
    {
     "data": {
      "text/plain": [
       "5"
      ]
     },
     "execution_count": 88,
     "metadata": {},
     "output_type": "execute_result"
    }
   ],
   "execution_count": 88
  },
  {
   "metadata": {
    "ExecuteTime": {
     "end_time": "2024-07-03T03:33:58.369507Z",
     "start_time": "2024-07-03T03:33:58.366909Z"
    }
   },
   "cell_type": "code",
   "source": "S.encode('latin1'), len(S.encode('latin1'))",
   "id": "4352a0b0727f69d2",
   "outputs": [
    {
     "data": {
      "text/plain": [
       "(b'A\\xc4B\\xe8C', 5)"
      ]
     },
     "execution_count": 102,
     "metadata": {},
     "output_type": "execute_result"
    }
   ],
   "execution_count": 102
  },
  {
   "metadata": {
    "ExecuteTime": {
     "end_time": "2024-07-03T03:34:00.270785Z",
     "start_time": "2024-07-03T03:34:00.267426Z"
    }
   },
   "cell_type": "code",
   "source": "S.encode('utf8'), len(S.encode('utf8'))",
   "id": "b86c9ba380140fb4",
   "outputs": [
    {
     "data": {
      "text/plain": [
       "(b'A\\xc3\\x84B\\xc3\\xa8C', 7)"
      ]
     },
     "execution_count": 103,
     "metadata": {},
     "output_type": "execute_result"
    }
   ],
   "execution_count": 103
  },
  {
   "metadata": {
    "ExecuteTime": {
     "end_time": "2024-07-03T03:29:02.748613Z",
     "start_time": "2024-07-03T03:29:02.746226Z"
    }
   },
   "cell_type": "code",
   "source": "S.encode('utf-16'), len(S.encode('utf-16'))",
   "id": "798bfc1a2c0fec6e",
   "outputs": [
    {
     "data": {
      "text/plain": [
       "(b'\\xff\\xfeA\\x00\\xc4\\x00B\\x00\\xe8\\x00C\\x00', 12)"
      ]
     },
     "execution_count": 90,
     "metadata": {},
     "output_type": "execute_result"
    }
   ],
   "execution_count": 90
  },
  {
   "metadata": {
    "ExecuteTime": {
     "end_time": "2024-07-03T03:29:17.203897Z",
     "start_time": "2024-07-03T03:29:17.202006Z"
    }
   },
   "cell_type": "code",
   "source": "bytes(S, encoding='utf-8')",
   "id": "9e7437b77f1ce2e0",
   "outputs": [
    {
     "data": {
      "text/plain": [
       "b'A\\xc3\\x84B\\xc3\\xa8C'"
      ]
     },
     "execution_count": 91,
     "metadata": {},
     "output_type": "execute_result"
    }
   ],
   "execution_count": 91
  },
  {
   "metadata": {
    "ExecuteTime": {
     "end_time": "2024-07-03T03:31:23.455054Z",
     "start_time": "2024-07-03T03:31:23.449060Z"
    }
   },
   "cell_type": "code",
   "source": [
    "B = b'A\\u00c4B\\U000000e8C'\n",
    "B"
   ],
   "id": "1cf0882e51e0b81c",
   "outputs": [
    {
     "data": {
      "text/plain": [
       "b'A\\\\u00c4B\\\\U000000e8C'"
      ]
     },
     "execution_count": 92,
     "metadata": {},
     "output_type": "execute_result"
    }
   ],
   "execution_count": 92
  },
  {
   "metadata": {
    "ExecuteTime": {
     "end_time": "2024-07-03T03:33:16.452942Z",
     "start_time": "2024-07-03T03:33:16.450352Z"
    }
   },
   "cell_type": "code",
   "source": "B.decode('latin1')",
   "id": "d3616c223f53a58e",
   "outputs": [
    {
     "data": {
      "text/plain": [
       "'A\\\\u00c4B\\\\U000000e8C'"
      ]
     },
     "execution_count": 100,
     "metadata": {},
     "output_type": "execute_result"
    }
   ],
   "execution_count": 100
  },
  {
   "metadata": {
    "ExecuteTime": {
     "end_time": "2024-07-03T03:33:43.108322Z",
     "start_time": "2024-07-03T03:33:43.106202Z"
    }
   },
   "cell_type": "code",
   "source": [
    "B = b'A\\xc3\\x84B\\xc3\\xa8C'\n",
    "B.decode('utf-8')"
   ],
   "id": "ba3d2e50cdbd0f42",
   "outputs": [
    {
     "data": {
      "text/plain": [
       "'AÄBèC'"
      ]
     },
     "execution_count": 101,
     "metadata": {},
     "output_type": "execute_result"
    }
   ],
   "execution_count": 101
  },
  {
   "metadata": {
    "ExecuteTime": {
     "end_time": "2024-07-03T03:38:52.100527Z",
     "start_time": "2024-07-03T03:38:52.097080Z"
    }
   },
   "cell_type": "code",
   "source": "f'{B}'",
   "id": "266a3777e82b56e7",
   "outputs": [
    {
     "data": {
      "text/plain": [
       "\"b'A\\\\xc3\\\\x84B\\\\xc3\\\\xa8C'\""
      ]
     },
     "execution_count": 105,
     "metadata": {},
     "output_type": "execute_result"
    }
   ],
   "execution_count": 105
  },
  {
   "metadata": {},
   "cell_type": "markdown",
   "source": "bytes",
   "id": "a1958768c1bcd61f"
  },
  {
   "metadata": {
    "ExecuteTime": {
     "end_time": "2024-07-03T03:39:51.392031Z",
     "start_time": "2024-07-03T03:39:51.389033Z"
    }
   },
   "cell_type": "code",
   "source": [
    "B = b'abc'\n",
    "B"
   ],
   "id": "33146029435e6456",
   "outputs": [
    {
     "data": {
      "text/plain": [
       "b'abc'"
      ]
     },
     "execution_count": 106,
     "metadata": {},
     "output_type": "execute_result"
    }
   ],
   "execution_count": 106
  },
  {
   "metadata": {
    "ExecuteTime": {
     "end_time": "2024-07-03T03:40:04.625328Z",
     "start_time": "2024-07-03T03:40:04.623200Z"
    }
   },
   "cell_type": "code",
   "source": [
    "B = bytes('abc', encoding='ascii')\n",
    "B"
   ],
   "id": "32df8de5a5310d7f",
   "outputs": [
    {
     "data": {
      "text/plain": [
       "b'abc'"
      ]
     },
     "execution_count": 108,
     "metadata": {},
     "output_type": "execute_result"
    }
   ],
   "execution_count": 108
  },
  {
   "metadata": {
    "ExecuteTime": {
     "end_time": "2024-07-03T03:40:18.519852Z",
     "start_time": "2024-07-03T03:40:18.517431Z"
    }
   },
   "cell_type": "code",
   "source": [
    "B = bytes([97, 98, 99])\n",
    "B"
   ],
   "id": "5cac0d837dafac29",
   "outputs": [
    {
     "data": {
      "text/plain": [
       "b'abc'"
      ]
     },
     "execution_count": 110,
     "metadata": {},
     "output_type": "execute_result"
    }
   ],
   "execution_count": 110
  },
  {
   "metadata": {
    "ExecuteTime": {
     "end_time": "2024-07-03T03:40:31.464085Z",
     "start_time": "2024-07-03T03:40:31.460497Z"
    }
   },
   "cell_type": "code",
   "source": [
    "B = 'abc'.encode()\n",
    "B"
   ],
   "id": "be3188b877784531",
   "outputs": [
    {
     "data": {
      "text/plain": [
       "b'abc'"
      ]
     },
     "execution_count": 112,
     "metadata": {},
     "output_type": "execute_result"
    }
   ],
   "execution_count": 112
  },
  {
   "metadata": {
    "ExecuteTime": {
     "end_time": "2024-07-03T03:40:41.756033Z",
     "start_time": "2024-07-03T03:40:41.753773Z"
    }
   },
   "cell_type": "code",
   "source": [
    "S = B.decode()\n",
    "S"
   ],
   "id": "cf1d9b2afb1b5037",
   "outputs": [
    {
     "data": {
      "text/plain": [
       "'abc'"
      ]
     },
     "execution_count": 114,
     "metadata": {},
     "output_type": "execute_result"
    }
   ],
   "execution_count": 114
  },
  {
   "metadata": {
    "ExecuteTime": {
     "end_time": "2024-07-03T03:42:49.047140Z",
     "start_time": "2024-07-03T03:42:49.035641Z"
    }
   },
   "cell_type": "code",
   "source": [
    "B = b'spam'\n",
    "B.replace('a', 'b')"
   ],
   "id": "c1f9ab7c5a80d9a7",
   "outputs": [
    {
     "ename": "TypeError",
     "evalue": "a bytes-like object is required, not 'str'",
     "output_type": "error",
     "traceback": [
      "\u001B[0;31m---------------------------------------------------------------------------\u001B[0m",
      "\u001B[0;31mTypeError\u001B[0m                                 Traceback (most recent call last)",
      "Cell \u001B[0;32mIn[117], line 2\u001B[0m\n\u001B[1;32m      1\u001B[0m B \u001B[38;5;241m=\u001B[39m \u001B[38;5;124mb\u001B[39m\u001B[38;5;124m'\u001B[39m\u001B[38;5;124mspam\u001B[39m\u001B[38;5;124m'\u001B[39m\n\u001B[0;32m----> 2\u001B[0m B\u001B[38;5;241m.\u001B[39mreplace(\u001B[38;5;124m'\u001B[39m\u001B[38;5;124ma\u001B[39m\u001B[38;5;124m'\u001B[39m, \u001B[38;5;124m'\u001B[39m\u001B[38;5;124mb\u001B[39m\u001B[38;5;124m'\u001B[39m)\n",
      "\u001B[0;31mTypeError\u001B[0m: a bytes-like object is required, not 'str'"
     ]
    }
   ],
   "execution_count": 117
  },
  {
   "metadata": {
    "ExecuteTime": {
     "end_time": "2024-07-03T03:42:55.609591Z",
     "start_time": "2024-07-03T03:42:55.607364Z"
    }
   },
   "cell_type": "code",
   "source": "B.replace(b'a', b'b')",
   "id": "7a1c2bf3f254498e",
   "outputs": [
    {
     "data": {
      "text/plain": [
       "b'spbm'"
      ]
     },
     "execution_count": 118,
     "metadata": {},
     "output_type": "execute_result"
    }
   ],
   "execution_count": 118
  },
  {
   "metadata": {
    "ExecuteTime": {
     "end_time": "2024-07-03T03:43:51.789931Z",
     "start_time": "2024-07-03T03:43:51.786891Z"
    }
   },
   "cell_type": "code",
   "source": [
    "B = b'spam'\n",
    "B.replace(bytes('pa', 'utf8'), bytes('b', 'utf8'))"
   ],
   "id": "f638ba473df44747",
   "outputs": [
    {
     "data": {
      "text/plain": [
       "b'sbm'"
      ]
     },
     "execution_count": 121,
     "metadata": {},
     "output_type": "execute_result"
    }
   ],
   "execution_count": 121
  },
  {
   "metadata": {
    "ExecuteTime": {
     "end_time": "2024-07-03T03:44:07.587483Z",
     "start_time": "2024-07-03T03:44:07.585297Z"
    }
   },
   "cell_type": "code",
   "source": "b'ab' + b'ac'",
   "id": "c2038d3e2c29f3f1",
   "outputs": [
    {
     "data": {
      "text/plain": [
       "b'abac'"
      ]
     },
     "execution_count": 122,
     "metadata": {},
     "output_type": "execute_result"
    }
   ],
   "execution_count": 122
  },
  {
   "metadata": {
    "ExecuteTime": {
     "end_time": "2024-07-03T03:44:23.046694Z",
     "start_time": "2024-07-03T03:44:23.042564Z"
    }
   },
   "cell_type": "code",
   "source": "b'ab'.decode() + 'ac'",
   "id": "699ed8f9d1b51671",
   "outputs": [
    {
     "data": {
      "text/plain": [
       "'abac'"
      ]
     },
     "execution_count": 123,
     "metadata": {},
     "output_type": "execute_result"
    }
   ],
   "execution_count": 123
  },
  {
   "metadata": {
    "ExecuteTime": {
     "end_time": "2024-07-03T03:46:26.315865Z",
     "start_time": "2024-07-03T03:46:26.310695Z"
    }
   },
   "cell_type": "code",
   "source": "b'ab' + bytes('ac', 'utf8')",
   "id": "fff61037bb6e1471",
   "outputs": [
    {
     "data": {
      "text/plain": [
       "b'abac'"
      ]
     },
     "execution_count": 124,
     "metadata": {},
     "output_type": "execute_result"
    }
   ],
   "execution_count": 124
  },
  {
   "metadata": {},
   "cell_type": "markdown",
   "source": "## bytearray",
   "id": "539c33349e0b19b4"
  },
  {
   "metadata": {
    "ExecuteTime": {
     "end_time": "2024-07-03T03:48:44.062658Z",
     "start_time": "2024-07-03T03:48:44.039127Z"
    }
   },
   "cell_type": "code",
   "source": [
    "S = 'spam'\n",
    "C = bytearray(S)"
   ],
   "id": "db40cc86dd31172b",
   "outputs": [
    {
     "ename": "TypeError",
     "evalue": "string argument without an encoding",
     "output_type": "error",
     "traceback": [
      "\u001B[0;31m---------------------------------------------------------------------------\u001B[0m",
      "\u001B[0;31mTypeError\u001B[0m                                 Traceback (most recent call last)",
      "Cell \u001B[0;32mIn[127], line 2\u001B[0m\n\u001B[1;32m      1\u001B[0m S \u001B[38;5;241m=\u001B[39m \u001B[38;5;124m'\u001B[39m\u001B[38;5;124mspam\u001B[39m\u001B[38;5;124m'\u001B[39m\n\u001B[0;32m----> 2\u001B[0m C \u001B[38;5;241m=\u001B[39m \u001B[38;5;28mbytearray\u001B[39m(S)\n",
      "\u001B[0;31mTypeError\u001B[0m: string argument without an encoding"
     ]
    }
   ],
   "execution_count": 127
  },
  {
   "metadata": {
    "ExecuteTime": {
     "end_time": "2024-07-03T03:48:51.028946Z",
     "start_time": "2024-07-03T03:48:51.026450Z"
    }
   },
   "cell_type": "code",
   "source": [
    "S = 'spam'\n",
    "C = bytearray(S, encoding='ascii')\n",
    "C"
   ],
   "id": "ecd24a79efae3691",
   "outputs": [
    {
     "data": {
      "text/plain": [
       "bytearray(b'spam')"
      ]
     },
     "execution_count": 128,
     "metadata": {},
     "output_type": "execute_result"
    }
   ],
   "execution_count": 128
  },
  {
   "metadata": {
    "ExecuteTime": {
     "end_time": "2024-07-03T03:49:11.077247Z",
     "start_time": "2024-07-03T03:49:11.075646Z"
    }
   },
   "cell_type": "code",
   "source": "D = bytearray(b'abc')",
   "id": "5773ed54d77b9ffe",
   "outputs": [],
   "execution_count": 131
  },
  {
   "metadata": {
    "ExecuteTime": {
     "end_time": "2024-07-03T03:49:11.394811Z",
     "start_time": "2024-07-03T03:49:11.392792Z"
    }
   },
   "cell_type": "code",
   "source": "D",
   "id": "58314b691927ec45",
   "outputs": [
    {
     "data": {
      "text/plain": [
       "bytearray(b'abc')"
      ]
     },
     "execution_count": 132,
     "metadata": {},
     "output_type": "execute_result"
    }
   ],
   "execution_count": 132
  },
  {
   "metadata": {
    "ExecuteTime": {
     "end_time": "2024-07-03T03:50:27.214850Z",
     "start_time": "2024-07-03T03:50:27.209553Z"
    }
   },
   "cell_type": "code",
   "source": "C[1], C[2:], C[-1]",
   "id": "5cbd4eaec3903cd6",
   "outputs": [
    {
     "data": {
      "text/plain": [
       "(112, bytearray(b'am'), 109)"
      ]
     },
     "execution_count": 135,
     "metadata": {},
     "output_type": "execute_result"
    }
   ],
   "execution_count": 135
  },
  {
   "metadata": {
    "ExecuteTime": {
     "end_time": "2024-07-03T03:49:53.225900Z",
     "start_time": "2024-07-03T03:49:53.223173Z"
    }
   },
   "cell_type": "code",
   "source": "list(C)",
   "id": "2472cee42a2760b6",
   "outputs": [
    {
     "data": {
      "text/plain": [
       "[115, 112, 97, 109]"
      ]
     },
     "execution_count": 134,
     "metadata": {},
     "output_type": "execute_result"
    }
   ],
   "execution_count": 134
  },
  {
   "metadata": {
    "ExecuteTime": {
     "end_time": "2024-07-03T03:51:12.641683Z",
     "start_time": "2024-07-03T03:51:12.626784Z"
    }
   },
   "cell_type": "code",
   "source": "C[0] = 'a'",
   "id": "170b178cfe5790af",
   "outputs": [
    {
     "ename": "TypeError",
     "evalue": "'str' object cannot be interpreted as an integer",
     "output_type": "error",
     "traceback": [
      "\u001B[0;31m---------------------------------------------------------------------------\u001B[0m",
      "\u001B[0;31mTypeError\u001B[0m                                 Traceback (most recent call last)",
      "Cell \u001B[0;32mIn[136], line 1\u001B[0m\n\u001B[0;32m----> 1\u001B[0m C[\u001B[38;5;241m0\u001B[39m] \u001B[38;5;241m=\u001B[39m \u001B[38;5;124m'\u001B[39m\u001B[38;5;124ma\u001B[39m\u001B[38;5;124m'\u001B[39m\n",
      "\u001B[0;31mTypeError\u001B[0m: 'str' object cannot be interpreted as an integer"
     ]
    }
   ],
   "execution_count": 136
  },
  {
   "metadata": {
    "ExecuteTime": {
     "end_time": "2024-07-03T03:51:25.004125Z",
     "start_time": "2024-07-03T03:51:24.995422Z"
    }
   },
   "cell_type": "code",
   "source": "C[0] = b'a'",
   "id": "5b872dcb160c64ed",
   "outputs": [
    {
     "ename": "TypeError",
     "evalue": "'bytes' object cannot be interpreted as an integer",
     "output_type": "error",
     "traceback": [
      "\u001B[0;31m---------------------------------------------------------------------------\u001B[0m",
      "\u001B[0;31mTypeError\u001B[0m                                 Traceback (most recent call last)",
      "Cell \u001B[0;32mIn[138], line 1\u001B[0m\n\u001B[0;32m----> 1\u001B[0m C[\u001B[38;5;241m0\u001B[39m] \u001B[38;5;241m=\u001B[39m \u001B[38;5;124mb\u001B[39m\u001B[38;5;124m'\u001B[39m\u001B[38;5;124ma\u001B[39m\u001B[38;5;124m'\u001B[39m\n",
      "\u001B[0;31mTypeError\u001B[0m: 'bytes' object cannot be interpreted as an integer"
     ]
    }
   ],
   "execution_count": 138
  },
  {
   "metadata": {
    "ExecuteTime": {
     "end_time": "2024-07-03T03:52:40.126249Z",
     "start_time": "2024-07-03T03:52:40.122904Z"
    }
   },
   "cell_type": "code",
   "source": "C[0] = ord('a')",
   "id": "ae5e5a191d57b5c0",
   "outputs": [],
   "execution_count": 139
  },
  {
   "metadata": {
    "ExecuteTime": {
     "end_time": "2024-07-03T03:52:42.328939Z",
     "start_time": "2024-07-03T03:52:42.326254Z"
    }
   },
   "cell_type": "code",
   "source": "C",
   "id": "a0e8ec088f57e729",
   "outputs": [
    {
     "data": {
      "text/plain": [
       "bytearray(b'apam')"
      ]
     },
     "execution_count": 140,
     "metadata": {},
     "output_type": "execute_result"
    }
   ],
   "execution_count": 140
  },
  {
   "metadata": {
    "ExecuteTime": {
     "end_time": "2024-07-03T03:53:21.055565Z",
     "start_time": "2024-07-03T03:53:21.051671Z"
    }
   },
   "cell_type": "code",
   "source": "C[1] = b'Y'[0]",
   "id": "a05d5d2b613bd9e5",
   "outputs": [],
   "execution_count": 141
  },
  {
   "metadata": {
    "ExecuteTime": {
     "end_time": "2024-07-03T03:53:24.426308Z",
     "start_time": "2024-07-03T03:53:24.423612Z"
    }
   },
   "cell_type": "code",
   "source": "C",
   "id": "c70c9afebbbed047",
   "outputs": [
    {
     "data": {
      "text/plain": [
       "bytearray(b'aYam')"
      ]
     },
     "execution_count": 142,
     "metadata": {},
     "output_type": "execute_result"
    }
   ],
   "execution_count": 142
  },
  {
   "metadata": {
    "ExecuteTime": {
     "end_time": "2024-07-03T03:54:10.895394Z",
     "start_time": "2024-07-03T03:54:10.869270Z"
    }
   },
   "cell_type": "code",
   "source": "C.append('abc')",
   "id": "ff2f59fdd527ac14",
   "outputs": [
    {
     "ename": "TypeError",
     "evalue": "'str' object cannot be interpreted as an integer",
     "output_type": "error",
     "traceback": [
      "\u001B[0;31m---------------------------------------------------------------------------\u001B[0m",
      "\u001B[0;31mTypeError\u001B[0m                                 Traceback (most recent call last)",
      "Cell \u001B[0;32mIn[143], line 1\u001B[0m\n\u001B[0;32m----> 1\u001B[0m C\u001B[38;5;241m.\u001B[39mappend(\u001B[38;5;124m'\u001B[39m\u001B[38;5;124mabc\u001B[39m\u001B[38;5;124m'\u001B[39m)\n",
      "\u001B[0;31mTypeError\u001B[0m: 'str' object cannot be interpreted as an integer"
     ]
    }
   ],
   "execution_count": 143
  },
  {
   "metadata": {
    "ExecuteTime": {
     "end_time": "2024-07-03T03:54:37.358618Z",
     "start_time": "2024-07-03T03:54:37.352101Z"
    }
   },
   "cell_type": "code",
   "source": "C.append(b'A')",
   "id": "990968e357116bb9",
   "outputs": [
    {
     "ename": "TypeError",
     "evalue": "'bytes' object cannot be interpreted as an integer",
     "output_type": "error",
     "traceback": [
      "\u001B[0;31m---------------------------------------------------------------------------\u001B[0m",
      "\u001B[0;31mTypeError\u001B[0m                                 Traceback (most recent call last)",
      "Cell \u001B[0;32mIn[145], line 1\u001B[0m\n\u001B[0;32m----> 1\u001B[0m C\u001B[38;5;241m.\u001B[39mappend(\u001B[38;5;124mb\u001B[39m\u001B[38;5;124m'\u001B[39m\u001B[38;5;124mA\u001B[39m\u001B[38;5;124m'\u001B[39m)\n",
      "\u001B[0;31mTypeError\u001B[0m: 'bytes' object cannot be interpreted as an integer"
     ]
    }
   ],
   "execution_count": 145
  },
  {
   "metadata": {
    "ExecuteTime": {
     "end_time": "2024-07-03T03:54:37.761446Z",
     "start_time": "2024-07-03T03:54:37.759440Z"
    }
   },
   "cell_type": "code",
   "source": "C.append(ord('A'))",
   "id": "be3f98e36df250be",
   "outputs": [],
   "execution_count": 146
  },
  {
   "metadata": {
    "ExecuteTime": {
     "end_time": "2024-07-03T03:54:39.502093Z",
     "start_time": "2024-07-03T03:54:39.499905Z"
    }
   },
   "cell_type": "code",
   "source": "C",
   "id": "89fe281c3447c4be",
   "outputs": [
    {
     "data": {
      "text/plain": [
       "bytearray(b'aYamA')"
      ]
     },
     "execution_count": 147,
     "metadata": {},
     "output_type": "execute_result"
    }
   ],
   "execution_count": 147
  },
  {
   "metadata": {
    "ExecuteTime": {
     "end_time": "2024-07-03T03:54:46.095730Z",
     "start_time": "2024-07-03T03:54:46.094066Z"
    }
   },
   "cell_type": "code",
   "source": "C.extend(b'abc')",
   "id": "8afdb8935d6f46",
   "outputs": [],
   "execution_count": 148
  },
  {
   "metadata": {
    "ExecuteTime": {
     "end_time": "2024-07-03T03:54:47.013918Z",
     "start_time": "2024-07-03T03:54:47.011107Z"
    }
   },
   "cell_type": "code",
   "source": "C",
   "id": "5547bbb3803db82",
   "outputs": [
    {
     "data": {
      "text/plain": [
       "bytearray(b'aYamAabc')"
      ]
     },
     "execution_count": 149,
     "metadata": {},
     "output_type": "execute_result"
    }
   ],
   "execution_count": 149
  },
  {
   "metadata": {
    "ExecuteTime": {
     "end_time": "2024-07-03T03:55:52.705369Z",
     "start_time": "2024-07-03T03:55:52.690155Z"
    }
   },
   "cell_type": "code",
   "source": "C + 'ABC'",
   "id": "5cda0216c5b4a0cf",
   "outputs": [
    {
     "ename": "TypeError",
     "evalue": "can't concat str to bytearray",
     "output_type": "error",
     "traceback": [
      "\u001B[0;31m---------------------------------------------------------------------------\u001B[0m",
      "\u001B[0;31mTypeError\u001B[0m                                 Traceback (most recent call last)",
      "Cell \u001B[0;32mIn[150], line 1\u001B[0m\n\u001B[0;32m----> 1\u001B[0m C \u001B[38;5;241m+\u001B[39m \u001B[38;5;124m'\u001B[39m\u001B[38;5;124mABC\u001B[39m\u001B[38;5;124m'\u001B[39m\n",
      "\u001B[0;31mTypeError\u001B[0m: can't concat str to bytearray"
     ]
    }
   ],
   "execution_count": 150
  },
  {
   "metadata": {
    "ExecuteTime": {
     "end_time": "2024-07-03T03:55:57.462580Z",
     "start_time": "2024-07-03T03:55:57.460348Z"
    }
   },
   "cell_type": "code",
   "source": "C + b'ABC'",
   "id": "bc98cbbfb3959dec",
   "outputs": [
    {
     "data": {
      "text/plain": [
       "bytearray(b'aYamAabcABC')"
      ]
     },
     "execution_count": 151,
     "metadata": {},
     "output_type": "execute_result"
    }
   ],
   "execution_count": 151
  },
  {
   "metadata": {},
   "cell_type": "markdown",
   "source": "# 文件写入",
   "id": "f48104f571bc35b9"
  },
  {
   "metadata": {
    "ExecuteTime": {
     "end_time": "2024-07-03T04:01:24.325178Z",
     "start_time": "2024-07-03T04:01:24.322472Z"
    }
   },
   "cell_type": "code",
   "source": "open('temp', 'wb').write(b'abc\\n\\x1c')",
   "id": "61cd3e4e06aeb27f",
   "outputs": [
    {
     "data": {
      "text/plain": [
       "5"
      ]
     },
     "execution_count": 165,
     "metadata": {},
     "output_type": "execute_result"
    }
   ],
   "execution_count": 165
  },
  {
   "metadata": {
    "ExecuteTime": {
     "end_time": "2024-07-03T04:01:24.631193Z",
     "start_time": "2024-07-03T04:01:24.628409Z"
    }
   },
   "cell_type": "code",
   "source": "open('temp', 'r').read()",
   "id": "e74d710cf3be978a",
   "outputs": [
    {
     "data": {
      "text/plain": [
       "'abc\\n\\x1c'"
      ]
     },
     "execution_count": 166,
     "metadata": {},
     "output_type": "execute_result"
    }
   ],
   "execution_count": 166
  },
  {
   "metadata": {
    "ExecuteTime": {
     "end_time": "2024-07-03T04:01:25.008385Z",
     "start_time": "2024-07-03T04:01:24.995741Z"
    }
   },
   "cell_type": "code",
   "source": "open('temp', 'rb').read()",
   "id": "76d835208a1cbaaa",
   "outputs": [
    {
     "data": {
      "text/plain": [
       "b'abc\\n\\x1c'"
      ]
     },
     "execution_count": 167,
     "metadata": {},
     "output_type": "execute_result"
    }
   ],
   "execution_count": 167
  },
  {
   "metadata": {
    "ExecuteTime": {
     "end_time": "2024-07-03T04:01:25.887841Z",
     "start_time": "2024-07-03T04:01:25.885056Z"
    }
   },
   "cell_type": "code",
   "source": "open('temp', 'w').write('abc\\n\\x1c')",
   "id": "c38011cec38c6927",
   "outputs": [
    {
     "data": {
      "text/plain": [
       "5"
      ]
     },
     "execution_count": 168,
     "metadata": {},
     "output_type": "execute_result"
    }
   ],
   "execution_count": 168
  },
  {
   "metadata": {
    "ExecuteTime": {
     "end_time": "2024-07-03T04:01:26.366077Z",
     "start_time": "2024-07-03T04:01:26.363719Z"
    }
   },
   "cell_type": "code",
   "source": "open('temp', 'r').read()",
   "id": "e8b462dcf8ec2b3",
   "outputs": [
    {
     "data": {
      "text/plain": [
       "'abc\\n\\x1c'"
      ]
     },
     "execution_count": 169,
     "metadata": {},
     "output_type": "execute_result"
    }
   ],
   "execution_count": 169
  },
  {
   "metadata": {
    "ExecuteTime": {
     "end_time": "2024-07-03T04:01:32.964211Z",
     "start_time": "2024-07-03T04:01:32.961526Z"
    }
   },
   "cell_type": "code",
   "source": "open('temp', 'rb').read()",
   "id": "4a82826d2407d47",
   "outputs": [
    {
     "data": {
      "text/plain": [
       "b'abc\\n\\x1c'"
      ]
     },
     "execution_count": 171,
     "metadata": {},
     "output_type": "execute_result"
    }
   ],
   "execution_count": 171
  },
  {
   "metadata": {},
   "cell_type": "markdown",
   "source": "## 文件",
   "id": "59317339f3c1578f"
  },
  {
   "metadata": {
    "ExecuteTime": {
     "end_time": "2024-07-03T04:07:00.012256Z",
     "start_time": "2024-07-03T04:07:00.005463Z"
    }
   },
   "cell_type": "code",
   "source": [
    "S = 'spamåø'\n",
    "open('latindata', 'w', encoding='latin-1').write(S)\n",
    "open('utfdata', 'w', encoding='utf-8').write(S)"
   ],
   "id": "e95f1e7341fb578b",
   "outputs": [
    {
     "data": {
      "text/plain": [
       "6"
      ]
     },
     "execution_count": 182,
     "metadata": {},
     "output_type": "execute_result"
    }
   ],
   "execution_count": 182
  },
  {
   "metadata": {
    "ExecuteTime": {
     "end_time": "2024-07-03T04:07:00.208363Z",
     "start_time": "2024-07-03T04:07:00.205786Z"
    }
   },
   "cell_type": "code",
   "source": "open('latindata', 'rb').read()",
   "id": "b07ecb7624fb9d4",
   "outputs": [
    {
     "data": {
      "text/plain": [
       "b'spam\\xe5\\xf8'"
      ]
     },
     "execution_count": 183,
     "metadata": {},
     "output_type": "execute_result"
    }
   ],
   "execution_count": 183
  },
  {
   "metadata": {
    "ExecuteTime": {
     "end_time": "2024-07-03T04:07:00.443258Z",
     "start_time": "2024-07-03T04:07:00.440764Z"
    }
   },
   "cell_type": "code",
   "source": "open('utfdata', 'rb').read()",
   "id": "114632e42defe6e9",
   "outputs": [
    {
     "data": {
      "text/plain": [
       "b'spam\\xc3\\xa5\\xc3\\xb8'"
      ]
     },
     "execution_count": 184,
     "metadata": {},
     "output_type": "execute_result"
    }
   ],
   "execution_count": 184
  },
  {
   "metadata": {
    "ExecuteTime": {
     "end_time": "2024-07-03T04:07:51.974273Z",
     "start_time": "2024-07-03T04:07:51.971640Z"
    }
   },
   "cell_type": "code",
   "source": "open('latindata', 'r', encoding='latin-1').read()",
   "id": "24907e175dac68b4",
   "outputs": [
    {
     "data": {
      "text/plain": [
       "'spamåø'"
      ]
     },
     "execution_count": 186,
     "metadata": {},
     "output_type": "execute_result"
    }
   ],
   "execution_count": 186
  },
  {
   "metadata": {
    "ExecuteTime": {
     "end_time": "2024-07-03T04:08:27.147319Z",
     "start_time": "2024-07-03T04:08:27.132391Z"
    }
   },
   "cell_type": "code",
   "source": "open('utfdata', 'r', encoding='utf-8').read()",
   "id": "aaed25346b4a1e13",
   "outputs": [
    {
     "data": {
      "text/plain": [
       "'spamåø'"
      ]
     },
     "execution_count": 187,
     "metadata": {},
     "output_type": "execute_result"
    }
   ],
   "execution_count": 187
  },
  {
   "metadata": {
    "ExecuteTime": {
     "end_time": "2024-07-03T04:09:11.628836Z",
     "start_time": "2024-07-03T04:09:11.624482Z"
    }
   },
   "cell_type": "code",
   "source": [
    "X = open('latindata', 'rb').read()\n",
    "X.decode('latin-1')"
   ],
   "id": "4537d1489feaf3a2",
   "outputs": [
    {
     "data": {
      "text/plain": [
       "'spamåø'"
      ]
     },
     "execution_count": 188,
     "metadata": {},
     "output_type": "execute_result"
    }
   ],
   "execution_count": 188
  },
  {
   "metadata": {},
   "cell_type": "markdown",
   "source": "## 去除 BOM",
   "id": "2e27c65165df6e76"
  },
  {
   "metadata": {
    "ExecuteTime": {
     "end_time": "2024-07-03T04:16:27.805392Z",
     "start_time": "2024-07-03T04:16:27.800151Z"
    }
   },
   "cell_type": "code",
   "source": "open('bom_ascii.txt', 'rb').read()",
   "id": "ab759fcbe3b3cac8",
   "outputs": [
    {
     "data": {
      "text/plain": [
       "b'spam\\nspam'"
      ]
     },
     "execution_count": 189,
     "metadata": {},
     "output_type": "execute_result"
    }
   ],
   "execution_count": 189
  },
  {
   "metadata": {
    "ExecuteTime": {
     "end_time": "2024-07-03T04:16:40.854741Z",
     "start_time": "2024-07-03T04:16:40.851369Z"
    }
   },
   "cell_type": "code",
   "source": "open('bom_ascii.txt', 'r').read()",
   "id": "7478cc1a8aef203d",
   "outputs": [
    {
     "data": {
      "text/plain": [
       "'spam\\nspam'"
      ]
     },
     "execution_count": 191,
     "metadata": {},
     "output_type": "execute_result"
    }
   ],
   "execution_count": 191
  },
  {
   "metadata": {
    "ExecuteTime": {
     "end_time": "2024-07-03T04:22:29.848471Z",
     "start_time": "2024-07-03T04:22:29.843014Z"
    }
   },
   "cell_type": "code",
   "source": "open('bom_ascii.txt', 'r', encoding='ascii').read()",
   "id": "b31beecf34184dbb",
   "outputs": [
    {
     "data": {
      "text/plain": [
       "'spam\\nspam'"
      ]
     },
     "execution_count": 207,
     "metadata": {},
     "output_type": "execute_result"
    }
   ],
   "execution_count": 207
  },
  {
   "metadata": {
    "ExecuteTime": {
     "end_time": "2024-07-03T04:19:52.808759Z",
     "start_time": "2024-07-03T04:19:52.803506Z"
    }
   },
   "cell_type": "code",
   "source": "open('bom_utf8.txt', 'rb').read()",
   "id": "6dd2806eb2b943c2",
   "outputs": [
    {
     "data": {
      "text/plain": [
       "b'\\xef\\xbb\\xbfspam\\nspam'"
      ]
     },
     "execution_count": 200,
     "metadata": {},
     "output_type": "execute_result"
    }
   ],
   "execution_count": 200
  },
  {
   "metadata": {
    "ExecuteTime": {
     "end_time": "2024-07-03T04:19:53.059646Z",
     "start_time": "2024-07-03T04:19:53.055902Z"
    }
   },
   "cell_type": "code",
   "source": "open('bom_utf8.txt', 'r').read()",
   "id": "8133070c61e58ff0",
   "outputs": [
    {
     "data": {
      "text/plain": [
       "'\\ufeffspam\\nspam'"
      ]
     },
     "execution_count": 201,
     "metadata": {},
     "output_type": "execute_result"
    }
   ],
   "execution_count": 201
  },
  {
   "metadata": {
    "ExecuteTime": {
     "end_time": "2024-07-03T04:19:53.674742Z",
     "start_time": "2024-07-03T04:19:53.672203Z"
    }
   },
   "cell_type": "code",
   "source": "open('bom_utf8.txt', 'r', encoding='utf-8-sig').read()",
   "id": "40cec89b9e52a1b2",
   "outputs": [
    {
     "data": {
      "text/plain": [
       "'spam\\nspam'"
      ]
     },
     "execution_count": 202,
     "metadata": {},
     "output_type": "execute_result"
    }
   ],
   "execution_count": 202
  },
  {
   "metadata": {
    "ExecuteTime": {
     "end_time": "2024-07-03T04:20:05.561867Z",
     "start_time": "2024-07-03T04:20:05.556405Z"
    }
   },
   "cell_type": "code",
   "source": "open('bom_utf16.txt', 'rb').read()",
   "id": "4a06ef7495c6e0f1",
   "outputs": [
    {
     "data": {
      "text/plain": [
       "b'\\xfe\\xff\\x00s\\x00p\\x00a\\x00m\\x00\\n\\x00s\\x00p\\x00a\\x00m'"
      ]
     },
     "execution_count": 203,
     "metadata": {},
     "output_type": "execute_result"
    }
   ],
   "execution_count": 203
  },
  {
   "metadata": {
    "ExecuteTime": {
     "end_time": "2024-07-03T04:20:12.791912Z",
     "start_time": "2024-07-03T04:20:12.778679Z"
    }
   },
   "cell_type": "code",
   "source": "open('bom_utf16.txt', 'r').read()",
   "id": "cb9e4fda3614a30b",
   "outputs": [
    {
     "ename": "UnicodeDecodeError",
     "evalue": "'utf-8' codec can't decode byte 0xfe in position 0: invalid start byte",
     "output_type": "error",
     "traceback": [
      "\u001B[0;31m---------------------------------------------------------------------------\u001B[0m",
      "\u001B[0;31mUnicodeDecodeError\u001B[0m                        Traceback (most recent call last)",
      "Cell \u001B[0;32mIn[204], line 1\u001B[0m\n\u001B[0;32m----> 1\u001B[0m \u001B[38;5;28mopen\u001B[39m(\u001B[38;5;124m'\u001B[39m\u001B[38;5;124mbom_utf16.txt\u001B[39m\u001B[38;5;124m'\u001B[39m, \u001B[38;5;124m'\u001B[39m\u001B[38;5;124mr\u001B[39m\u001B[38;5;124m'\u001B[39m)\u001B[38;5;241m.\u001B[39mread()\n",
      "File \u001B[0;32m<frozen codecs>:322\u001B[0m, in \u001B[0;36mdecode\u001B[0;34m(self, input, final)\u001B[0m\n",
      "\u001B[0;31mUnicodeDecodeError\u001B[0m: 'utf-8' codec can't decode byte 0xfe in position 0: invalid start byte"
     ]
    }
   ],
   "execution_count": 204
  },
  {
   "metadata": {
    "ExecuteTime": {
     "end_time": "2024-07-03T04:20:34.173697Z",
     "start_time": "2024-07-03T04:20:34.166502Z"
    }
   },
   "cell_type": "code",
   "source": "open('bom_utf16.txt', 'r', encoding='utf-16').read()",
   "id": "a38fc239defce970",
   "outputs": [
    {
     "data": {
      "text/plain": [
       "'spam\\nspam'"
      ]
     },
     "execution_count": 205,
     "metadata": {},
     "output_type": "execute_result"
    }
   ],
   "execution_count": 205
  },
  {
   "metadata": {
    "ExecuteTime": {
     "end_time": "2024-07-03T04:21:03.608405Z",
     "start_time": "2024-07-03T04:21:03.601344Z"
    }
   },
   "cell_type": "code",
   "source": "open('bom_utf16.txt', 'r', encoding='utf-16-be').read()",
   "id": "bf0d25da53bf6738",
   "outputs": [
    {
     "data": {
      "text/plain": [
       "'\\ufeffspam\\nspam'"
      ]
     },
     "execution_count": 206,
     "metadata": {},
     "output_type": "execute_result"
    }
   ],
   "execution_count": 206
  },
  {
   "metadata": {},
   "cell_type": "markdown",
   "source": "`utf-8` 不会写入 BOM，并在读取BOM；但 `utf-8-sig`会写入 BOM，但不读取 BOM",
   "id": "f3321b8f4b0b7c96"
  },
  {
   "metadata": {
    "ExecuteTime": {
     "end_time": "2024-07-03T04:30:10.761379Z",
     "start_time": "2024-07-03T04:30:10.758639Z"
    }
   },
   "cell_type": "code",
   "source": "open('temp.txt', 'w', encoding='utf-8').write('spam\\nSpam\\n')",
   "id": "d165b65c742da90b",
   "outputs": [
    {
     "data": {
      "text/plain": [
       "10"
      ]
     },
     "execution_count": 230,
     "metadata": {},
     "output_type": "execute_result"
    }
   ],
   "execution_count": 230
  },
  {
   "metadata": {
    "ExecuteTime": {
     "end_time": "2024-07-03T04:30:11.017353Z",
     "start_time": "2024-07-03T04:30:11.014768Z"
    }
   },
   "cell_type": "code",
   "source": "open('temp.txt', 'rb').read()",
   "id": "357636863fed0a9",
   "outputs": [
    {
     "data": {
      "text/plain": [
       "b'spam\\nSpam\\n'"
      ]
     },
     "execution_count": 231,
     "metadata": {},
     "output_type": "execute_result"
    }
   ],
   "execution_count": 231
  },
  {
   "metadata": {
    "ExecuteTime": {
     "end_time": "2024-07-03T04:30:11.345741Z",
     "start_time": "2024-07-03T04:30:11.343322Z"
    }
   },
   "cell_type": "code",
   "source": "open('temp.txt', 'r', encoding='utf-8').read()",
   "id": "30de654dd694ba7",
   "outputs": [
    {
     "data": {
      "text/plain": [
       "'spam\\nSpam\\n'"
      ]
     },
     "execution_count": 232,
     "metadata": {},
     "output_type": "execute_result"
    }
   ],
   "execution_count": 232
  },
  {
   "metadata": {
    "ExecuteTime": {
     "end_time": "2024-07-03T04:30:11.690395Z",
     "start_time": "2024-07-03T04:30:11.687348Z"
    }
   },
   "cell_type": "code",
   "source": "open('temp.txt', 'r', encoding='utf-8-sig').read()",
   "id": "e4bdfedf3d70af34",
   "outputs": [
    {
     "data": {
      "text/plain": [
       "'spam\\nSpam\\n'"
      ]
     },
     "execution_count": 233,
     "metadata": {},
     "output_type": "execute_result"
    }
   ],
   "execution_count": 233
  },
  {
   "metadata": {
    "ExecuteTime": {
     "end_time": "2024-07-03T04:30:13.265248Z",
     "start_time": "2024-07-03T04:30:13.262294Z"
    }
   },
   "cell_type": "code",
   "source": "open('temp.txt', 'w', encoding='utf-8-sig').write('spam\\nSpam\\n')",
   "id": "7a50fc507498bd91",
   "outputs": [
    {
     "data": {
      "text/plain": [
       "10"
      ]
     },
     "execution_count": 234,
     "metadata": {},
     "output_type": "execute_result"
    }
   ],
   "execution_count": 234
  },
  {
   "metadata": {
    "ExecuteTime": {
     "end_time": "2024-07-03T04:30:13.802054Z",
     "start_time": "2024-07-03T04:30:13.799630Z"
    }
   },
   "cell_type": "code",
   "source": "open('temp.txt', 'rb').read()",
   "id": "b8db312043e7179a",
   "outputs": [
    {
     "data": {
      "text/plain": [
       "b'\\xef\\xbb\\xbfspam\\nSpam\\n'"
      ]
     },
     "execution_count": 235,
     "metadata": {},
     "output_type": "execute_result"
    }
   ],
   "execution_count": 235
  },
  {
   "metadata": {
    "ExecuteTime": {
     "end_time": "2024-07-03T04:30:14.121370Z",
     "start_time": "2024-07-03T04:30:14.118648Z"
    }
   },
   "cell_type": "code",
   "source": "open('temp.txt', 'r', encoding='utf-8').read()",
   "id": "f20880fe7a5f4b44",
   "outputs": [
    {
     "data": {
      "text/plain": [
       "'\\ufeffspam\\nSpam\\n'"
      ]
     },
     "execution_count": 236,
     "metadata": {},
     "output_type": "execute_result"
    }
   ],
   "execution_count": 236
  },
  {
   "metadata": {
    "ExecuteTime": {
     "end_time": "2024-07-03T04:30:14.484576Z",
     "start_time": "2024-07-03T04:30:14.481935Z"
    }
   },
   "cell_type": "code",
   "source": "open('temp.txt', 'r', encoding='utf-8-sig').read()",
   "id": "10892d8fc16cc824",
   "outputs": [
    {
     "data": {
      "text/plain": [
       "'spam\\nSpam\\n'"
      ]
     },
     "execution_count": 237,
     "metadata": {},
     "output_type": "execute_result"
    }
   ],
   "execution_count": 237
  },
  {
   "metadata": {},
   "cell_type": "markdown",
   "source": "## Unicode ⽂件名和流",
   "id": "549719484dfb11d2"
  },
  {
   "metadata": {
    "ExecuteTime": {
     "end_time": "2024-07-03T07:18:16.802733Z",
     "start_time": "2024-07-03T07:18:16.793975Z"
    }
   },
   "cell_type": "code",
   "source": [
    "import sys\n",
    "\n",
    "sys.getdefaultencoding(), sys.getfilesystemencoding()"
   ],
   "id": "abb0379a39bcfac8",
   "outputs": [
    {
     "data": {
      "text/plain": [
       "('utf-8', 'utf-8')"
      ]
     },
     "execution_count": 238,
     "metadata": {},
     "output_type": "execute_result"
    }
   ],
   "execution_count": 238
  },
  {
   "metadata": {},
   "cell_type": "markdown",
   "source": "# struct二进制模块",
   "id": "8b83558e506d43ea"
  },
  {
   "metadata": {
    "ExecuteTime": {
     "end_time": "2024-07-03T07:24:20.911722Z",
     "start_time": "2024-07-03T07:24:20.892700Z"
    }
   },
   "cell_type": "code",
   "source": "import struct",
   "id": "681ec56171fd8028",
   "outputs": [],
   "execution_count": 239
  },
  {
   "metadata": {
    "ExecuteTime": {
     "end_time": "2024-07-03T07:24:57.493979Z",
     "start_time": "2024-07-03T07:24:57.483836Z"
    }
   },
   "cell_type": "code",
   "source": "struct.pack('>i4s h', 123)",
   "id": "4b357dfc40a152fc",
   "outputs": [
    {
     "ename": "error",
     "evalue": "pack expected 3 items for packing (got 1)",
     "output_type": "error",
     "traceback": [
      "\u001B[0;31m---------------------------------------------------------------------------\u001B[0m",
      "\u001B[0;31merror\u001B[0m                                     Traceback (most recent call last)",
      "Cell \u001B[0;32mIn[242], line 1\u001B[0m\n\u001B[0;32m----> 1\u001B[0m struct\u001B[38;5;241m.\u001B[39mpack(\u001B[38;5;124m'\u001B[39m\u001B[38;5;124m>i4sh\u001B[39m\u001B[38;5;124m'\u001B[39m, \u001B[38;5;241m123\u001B[39m)\n",
      "\u001B[0;31merror\u001B[0m: pack expected 3 items for packing (got 1)"
     ]
    }
   ],
   "execution_count": 242
  },
  {
   "metadata": {
    "ExecuteTime": {
     "end_time": "2024-07-03T07:30:59.949140Z",
     "start_time": "2024-07-03T07:30:59.945100Z"
    }
   },
   "cell_type": "code",
   "source": "sys.byteorder",
   "id": "75522a02e01cff43",
   "outputs": [
    {
     "data": {
      "text/plain": [
       "'little'"
      ]
     },
     "execution_count": 243,
     "metadata": {},
     "output_type": "execute_result"
    }
   ],
   "execution_count": 243
  },
  {
   "metadata": {
    "ExecuteTime": {
     "end_time": "2024-07-03T07:47:40.519943Z",
     "start_time": "2024-07-03T07:47:40.516541Z"
    }
   },
   "cell_type": "code",
   "source": "A = struct.pack('@4s2h5s', b'hel', 123, 79, b'No!')",
   "id": "9de34e7b8da5b21d",
   "outputs": [],
   "execution_count": 303
  },
  {
   "metadata": {
    "ExecuteTime": {
     "end_time": "2024-07-03T07:47:55.147059Z",
     "start_time": "2024-07-03T07:47:55.144670Z"
    }
   },
   "cell_type": "code",
   "source": "struct.unpack('@4s2h5s', A)",
   "id": "96b3dcc07ddb3773",
   "outputs": [
    {
     "data": {
      "text/plain": [
       "(b'hel\\x00', 123, 79, b'No!\\x00\\x00')"
      ]
     },
     "execution_count": 304,
     "metadata": {},
     "output_type": "execute_result"
    }
   ],
   "execution_count": 304
  },
  {
   "metadata": {
    "ExecuteTime": {
     "end_time": "2024-07-03T07:49:50.349570Z",
     "start_time": "2024-07-03T07:49:50.347835Z"
    }
   },
   "cell_type": "code",
   "source": "B = struct.pack('>i4sh0s', 123, b'No', 0, b'!')",
   "id": "a53e839cb9181244",
   "outputs": [],
   "execution_count": 309
  },
  {
   "metadata": {
    "ExecuteTime": {
     "end_time": "2024-07-03T07:49:50.619710Z",
     "start_time": "2024-07-03T07:49:50.617605Z"
    }
   },
   "cell_type": "code",
   "source": "struct.unpack('>i4sh0s', B)",
   "id": "cc2abdfba0cba420",
   "outputs": [
    {
     "data": {
      "text/plain": [
       "(123, b'No\\x00\\x00', 0, b'')"
      ]
     },
     "execution_count": 310,
     "metadata": {},
     "output_type": "execute_result"
    }
   ],
   "execution_count": 310
  },
  {
   "metadata": {},
   "cell_type": "code",
   "outputs": [],
   "execution_count": null,
   "source": "",
   "id": "696a1f083f5dc99f"
  }
 ],
 "metadata": {
  "kernelspec": {
   "display_name": "Python 3",
   "language": "python",
   "name": "python3"
  },
  "language_info": {
   "codemirror_mode": {
    "name": "ipython",
    "version": 2
   },
   "file_extension": ".py",
   "mimetype": "text/x-python",
   "name": "python",
   "nbconvert_exporter": "python",
   "pygments_lexer": "ipython2",
   "version": "2.7.6"
  }
 },
 "nbformat": 4,
 "nbformat_minor": 5
}
