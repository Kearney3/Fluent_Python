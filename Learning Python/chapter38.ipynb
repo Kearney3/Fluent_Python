{
 "cells": [
  {
   "metadata": {},
   "cell_type": "markdown",
   "source": "# 被管理的属性",
   "id": "f5675aaf52f08774"
  },
  {
   "metadata": {},
   "cell_type": "markdown",
   "source": [
    "`attribute = property（fget, fset, fdel, doc）`\n",
    "1. `fget` 传⼊⼀个`函数`⽤于**拦截属性访问**\n",
    "2. `fset` 传⼊⼀个`函数`⽤于**属性赋值**\n",
    "3. `fde` 传⼊⼀个`函数`⽤于**属性删除**\n",
    "4. `doc`参数⽤于接收该属性的⼀个⽂档字符串；否则，该 `property` 会**复制**`fget` 的⽂档字符串，⽽其默认值也⼀样为 `None`"
   ],
   "id": "65a586db8eabb09d"
  },
  {
   "cell_type": "code",
   "id": "initial_id",
   "metadata": {
    "collapsed": true,
    "ExecuteTime": {
     "end_time": "2024-07-03T08:19:20.461223Z",
     "start_time": "2024-07-03T08:19:20.456783Z"
    }
   },
   "source": [
    "class Person:\n",
    "    def __init__(self, name):\n",
    "        self._name = name\n",
    "        \n",
    "    def getName(self):\n",
    "        print('get')\n",
    "        return self._name.upper()\n",
    "    \n",
    "    def setName(self, name):\n",
    "        print('set')\n",
    "        self._name = name\n",
    "    \n",
    "    def delName(self):\n",
    "        print('del')\n",
    "        del self._name\n",
    "    \n",
    "    name = property(getName, setName, delName, 'name property docs')"
   ],
   "outputs": [],
   "execution_count": 23
  },
  {
   "metadata": {
    "ExecuteTime": {
     "end_time": "2024-07-03T08:19:53.697948Z",
     "start_time": "2024-07-03T08:19:53.695732Z"
    }
   },
   "cell_type": "code",
   "source": [
    "bob = Person('Bob')\n",
    "print(bob.name)\n",
    "print(Person.name.__doc__)"
   ],
   "id": "134dca8605b8cd30",
   "outputs": [
    {
     "name": "stdout",
     "output_type": "stream",
     "text": [
      "get\n",
      "BOB\n",
      "name property docs\n"
     ]
    }
   ],
   "execution_count": 31
  },
  {
   "metadata": {
    "ExecuteTime": {
     "end_time": "2024-07-03T08:19:53.971603Z",
     "start_time": "2024-07-03T08:19:53.969401Z"
    }
   },
   "cell_type": "code",
   "source": "bob.name = 'Robert'",
   "id": "1df338c1aacc93e0",
   "outputs": [
    {
     "name": "stdout",
     "output_type": "stream",
     "text": [
      "set\n"
     ]
    }
   ],
   "execution_count": 32
  },
  {
   "metadata": {
    "ExecuteTime": {
     "end_time": "2024-07-03T08:19:54.344006Z",
     "start_time": "2024-07-03T08:19:54.342198Z"
    }
   },
   "cell_type": "code",
   "source": "print(bob.name)",
   "id": "341e189b194875a4",
   "outputs": [
    {
     "name": "stdout",
     "output_type": "stream",
     "text": [
      "get\n",
      "ROBERT\n"
     ]
    }
   ],
   "execution_count": 33
  },
  {
   "metadata": {
    "ExecuteTime": {
     "end_time": "2024-07-03T08:19:55.049909Z",
     "start_time": "2024-07-03T08:19:55.048092Z"
    }
   },
   "cell_type": "code",
   "source": "del bob.name",
   "id": "a2535f44a408be26",
   "outputs": [
    {
     "name": "stdout",
     "output_type": "stream",
     "text": [
      "del\n"
     ]
    }
   ],
   "execution_count": 34
  },
  {
   "metadata": {
    "ExecuteTime": {
     "end_time": "2024-07-03T08:19:56.994186Z",
     "start_time": "2024-07-03T08:19:56.992449Z"
    }
   },
   "cell_type": "code",
   "source": [
    "class Staff(Person):\n",
    "    pass"
   ],
   "id": "2108950ab8b2b888",
   "outputs": [],
   "execution_count": 35
  },
  {
   "metadata": {
    "ExecuteTime": {
     "end_time": "2024-07-03T08:19:57.320090Z",
     "start_time": "2024-07-03T08:19:57.317893Z"
    }
   },
   "cell_type": "code",
   "source": [
    "sue = Staff('Sue')\n",
    "print(sue.name)\n",
    "print(Staff.name.__doc__)"
   ],
   "id": "e7de7629824ca034",
   "outputs": [
    {
     "name": "stdout",
     "output_type": "stream",
     "text": [
      "get\n",
      "SUE\n",
      "name property docs\n"
     ]
    }
   ],
   "execution_count": 36
  },
  {
   "metadata": {},
   "cell_type": "markdown",
   "source": [
    "使用`属性property`：定义属性可以使用 `@property`和 `@属性名.setter`装饰器\n",
    "- `@property`来修饰`getter访问器`\n",
    "- `属性名.setter`来修饰`settet访问器`\n",
    "应先定义`getter访问器`，再定义`settet访问器`"
   ],
   "id": "bb9a9e1f6ad56705"
  },
  {
   "metadata": {
    "ExecuteTime": {
     "end_time": "2024-07-03T08:24:54.755790Z",
     "start_time": "2024-07-03T08:24:54.749658Z"
    }
   },
   "cell_type": "code",
   "source": [
    "class Animal(object):\n",
    "\t\"\"\"定义动物类\"\"\"\n",
    "\n",
    "\tdef __init__(self, age, sex=1, weight=0.0):\n",
    "\t\tself.age = age  # 定义年龄实例成员变量\n",
    "\t\tself.sex = sex  # 定义性别实例成员变量\n",
    "\t\tself.__weight = weight  # 定义体重实例成员变量\n",
    "\n",
    "\t@property\t#@property来修饰getter访问器`\n",
    "\tdef weight(self):  # 替代get_weight(self):\n",
    "\t\treturn self.__weight\n",
    "\n",
    "\t@weight.setter\t#属性名.setter来修饰settet访问器\n",
    "\tdef weight(self, weight):  # 替代set_weight(self, weight):\n",
    "\t\tself.__weight = weight\n",
    "\n",
    "\n",
    "a1 = Animal(2, 0, 10.0)\n",
    "print(f'a1体重：{a1.weight:0.2f}')\n",
    "a1.weight = 123.45  # a1.set_weight(123.45)\n",
    "print(f'a1体重：{a1.weight:0.2f}')"
   ],
   "id": "dcfeb4830857c623",
   "outputs": [
    {
     "name": "stdout",
     "output_type": "stream",
     "text": [
      "a1体重：10.00\n",
      "a1体重：123.45\n"
     ]
    }
   ],
   "execution_count": 41
  },
  {
   "metadata": {
    "ExecuteTime": {
     "end_time": "2024-07-03T08:52:39.508089Z",
     "start_time": "2024-07-03T08:52:39.505706Z"
    }
   },
   "cell_type": "code",
   "source": [
    "class Person:\n",
    "    def __init__(self, name):\n",
    "        self._name = name\n",
    "        \n",
    "    @property\n",
    "    def name(self):\n",
    "        \"\"\"name property docs\"\"\"\n",
    "        print('get')\n",
    "        return self._name\n",
    "    \n",
    "    @name.setter\n",
    "    def name(self, name):\n",
    "        print('set')\n",
    "        self._name = name\n",
    "    \n",
    "    @name.deleter\n",
    "    def name(self):\n",
    "        print('del')\n",
    "        del self._name"
   ],
   "id": "aabfa0aa8076b41",
   "outputs": [],
   "execution_count": 135
  },
  {
   "metadata": {
    "ExecuteTime": {
     "end_time": "2024-07-03T08:52:39.896734Z",
     "start_time": "2024-07-03T08:52:39.894850Z"
    }
   },
   "cell_type": "code",
   "source": [
    "bob = Person('Bob')\n",
    "print(bob.name)\n",
    "print(Person.name.__doc__)\n",
    "print(bob._name)"
   ],
   "id": "8f559d74e73f163",
   "outputs": [
    {
     "name": "stdout",
     "output_type": "stream",
     "text": [
      "get\n",
      "Bob\n",
      "name property docs\n",
      "Bob\n"
     ]
    }
   ],
   "execution_count": 136
  },
  {
   "metadata": {
    "ExecuteTime": {
     "end_time": "2024-07-03T08:52:41.885107Z",
     "start_time": "2024-07-03T08:52:41.882979Z"
    }
   },
   "cell_type": "code",
   "source": "bob.name = 'Robert'",
   "id": "5e5987722df98993",
   "outputs": [
    {
     "name": "stdout",
     "output_type": "stream",
     "text": [
      "set\n"
     ]
    }
   ],
   "execution_count": 137
  },
  {
   "metadata": {
    "ExecuteTime": {
     "end_time": "2024-07-03T08:52:42.204853Z",
     "start_time": "2024-07-03T08:52:42.202653Z"
    }
   },
   "cell_type": "code",
   "source": "del bob.name",
   "id": "ad0a2802b1f8bf7f",
   "outputs": [
    {
     "name": "stdout",
     "output_type": "stream",
     "text": [
      "del\n"
     ]
    }
   ],
   "execution_count": 138
  },
  {
   "metadata": {},
   "cell_type": "markdown",
   "source": "# 描述符",
   "id": "8929f61afc5f6b6a"
  },
  {
   "metadata": {
    "ExecuteTime": {
     "end_time": "2024-07-03T08:52:43.115382Z",
     "start_time": "2024-07-03T08:52:43.113211Z"
    }
   },
   "cell_type": "code",
   "source": [
    "class Descriptor:\n",
    "    def __get__(self, instance, owner):\n",
    "        print('get', self, instance, owner)\n",
    "        \n",
    "    def __set__(self, instance, value):\n",
    "        print('set', self, instance, value)\n",
    "    \n",
    "    def __delete__(self, obj):\n",
    "        print('del', self, obj)"
   ],
   "id": "cd44a08aa55c2d58",
   "outputs": [],
   "execution_count": 139
  },
  {
   "metadata": {
    "ExecuteTime": {
     "end_time": "2024-07-03T08:52:43.541407Z",
     "start_time": "2024-07-03T08:52:43.539776Z"
    }
   },
   "cell_type": "code",
   "source": [
    "class C:\n",
    "    d = Descriptor()"
   ],
   "id": "6ede5532f58f7f82",
   "outputs": [],
   "execution_count": 140
  },
  {
   "metadata": {
    "ExecuteTime": {
     "end_time": "2024-07-03T08:52:43.861092Z",
     "start_time": "2024-07-03T08:52:43.858996Z"
    }
   },
   "cell_type": "code",
   "source": [
    "a = C()\n",
    "a.d"
   ],
   "id": "a72cbad675b2c721",
   "outputs": [
    {
     "name": "stdout",
     "output_type": "stream",
     "text": [
      "get <__main__.Descriptor object at 0x1197f07d0> <__main__.C object at 0x1197f1ed0> <class '__main__.C'>\n"
     ]
    }
   ],
   "execution_count": 141
  },
  {
   "metadata": {
    "ExecuteTime": {
     "end_time": "2024-07-03T08:52:44.129479Z",
     "start_time": "2024-07-03T08:52:44.127812Z"
    }
   },
   "cell_type": "code",
   "source": "a.d = 10",
   "id": "ba0505daf2153cc8",
   "outputs": [
    {
     "name": "stdout",
     "output_type": "stream",
     "text": [
      "set <__main__.Descriptor object at 0x1197f07d0> <__main__.C object at 0x1197f1ed0> 10\n"
     ]
    }
   ],
   "execution_count": 142
  },
  {
   "metadata": {
    "ExecuteTime": {
     "end_time": "2024-07-03T08:52:44.430258Z",
     "start_time": "2024-07-03T08:52:44.428314Z"
    }
   },
   "cell_type": "code",
   "source": "del a.d",
   "id": "7acddd7459cca319",
   "outputs": [
    {
     "name": "stdout",
     "output_type": "stream",
     "text": [
      "del <__main__.Descriptor object at 0x1197f07d0> <__main__.C object at 0x1197f1ed0>\n"
     ]
    }
   ],
   "execution_count": 143
  },
  {
   "metadata": {
    "ExecuteTime": {
     "end_time": "2024-07-03T08:52:44.698681Z",
     "start_time": "2024-07-03T08:52:44.696931Z"
    }
   },
   "cell_type": "code",
   "source": "C.d",
   "id": "d325d957dedc2cdb",
   "outputs": [
    {
     "name": "stdout",
     "output_type": "stream",
     "text": [
      "get <__main__.Descriptor object at 0x1197f07d0> None <class '__main__.C'>\n"
     ]
    }
   ],
   "execution_count": 144
  },
  {
   "metadata": {},
   "cell_type": "markdown",
   "source": "只读描述符",
   "id": "501b0d79085e7af2"
  },
  {
   "metadata": {
    "ExecuteTime": {
     "end_time": "2024-07-03T08:52:45.268433Z",
     "start_time": "2024-07-03T08:52:45.266226Z"
    }
   },
   "cell_type": "code",
   "source": [
    "class D:\n",
    "    def __get__(self, instance, owner):\n",
    "        print('get')\n",
    "class C:\n",
    "    a = D()"
   ],
   "id": "70ca4e96e8de0cf4",
   "outputs": [],
   "execution_count": 145
  },
  {
   "metadata": {
    "ExecuteTime": {
     "end_time": "2024-07-03T08:52:45.572931Z",
     "start_time": "2024-07-03T08:52:45.570495Z"
    }
   },
   "cell_type": "code",
   "source": [
    "X = C()\n",
    "X.a"
   ],
   "id": "bb0626d1b526b6cf",
   "outputs": [
    {
     "name": "stdout",
     "output_type": "stream",
     "text": [
      "get\n"
     ]
    }
   ],
   "execution_count": 146
  },
  {
   "metadata": {
    "ExecuteTime": {
     "end_time": "2024-07-03T08:52:45.836107Z",
     "start_time": "2024-07-03T08:52:45.833553Z"
    }
   },
   "cell_type": "code",
   "source": "C.a",
   "id": "79917f26af341779",
   "outputs": [
    {
     "name": "stdout",
     "output_type": "stream",
     "text": [
      "get\n"
     ]
    }
   ],
   "execution_count": 147
  },
  {
   "metadata": {
    "ExecuteTime": {
     "end_time": "2024-07-03T08:52:46.094210Z",
     "start_time": "2024-07-03T08:52:46.092596Z"
    }
   },
   "cell_type": "code",
   "source": "X.a = 99",
   "id": "5677d8d89b1f796b",
   "outputs": [],
   "execution_count": 148
  },
  {
   "metadata": {
    "ExecuteTime": {
     "end_time": "2024-07-03T08:52:46.352091Z",
     "start_time": "2024-07-03T08:52:46.349800Z"
    }
   },
   "cell_type": "code",
   "source": "X.a",
   "id": "70d134dea5bedfb9",
   "outputs": [
    {
     "data": {
      "text/plain": [
       "99"
      ]
     },
     "execution_count": 149,
     "metadata": {},
     "output_type": "execute_result"
    }
   ],
   "execution_count": 149
  },
  {
   "metadata": {
    "ExecuteTime": {
     "end_time": "2024-07-03T08:52:46.580613Z",
     "start_time": "2024-07-03T08:52:46.578761Z"
    }
   },
   "cell_type": "code",
   "source": "C.a",
   "id": "a2d3ff36a09a8933",
   "outputs": [
    {
     "name": "stdout",
     "output_type": "stream",
     "text": [
      "get\n"
     ]
    }
   ],
   "execution_count": 150
  },
  {
   "metadata": {
    "ExecuteTime": {
     "end_time": "2024-07-03T08:52:46.799827Z",
     "start_time": "2024-07-03T08:52:46.798161Z"
    }
   },
   "cell_type": "code",
   "source": [
    "Y = C()\n",
    "Y.a"
   ],
   "id": "62bcd3d4291fa718",
   "outputs": [
    {
     "name": "stdout",
     "output_type": "stream",
     "text": [
      "get\n"
     ]
    }
   ],
   "execution_count": 151
  },
  {
   "metadata": {
    "ExecuteTime": {
     "end_time": "2024-07-03T08:52:47.005421Z",
     "start_time": "2024-07-03T08:52:47.003115Z"
    }
   },
   "cell_type": "code",
   "source": [
    "class D:\n",
    "    def __get__(self, instance, owner):\n",
    "        print('get')\n",
    "        \n",
    "    def __set__(self, instance, value):\n",
    "        raise AttributeError('can not set')\n",
    "class C:\n",
    "    a = D()"
   ],
   "id": "9ec3096d41ffc7e6",
   "outputs": [],
   "execution_count": 152
  },
  {
   "metadata": {
    "ExecuteTime": {
     "end_time": "2024-07-03T08:52:47.237337Z",
     "start_time": "2024-07-03T08:52:47.235823Z"
    }
   },
   "cell_type": "code",
   "source": [
    "X = C()\n",
    "X.a"
   ],
   "id": "7869b90707a6b5e6",
   "outputs": [
    {
     "name": "stdout",
     "output_type": "stream",
     "text": [
      "get\n"
     ]
    }
   ],
   "execution_count": 153
  },
  {
   "metadata": {
    "ExecuteTime": {
     "end_time": "2024-07-03T08:52:47.467273Z",
     "start_time": "2024-07-03T08:52:47.458776Z"
    }
   },
   "cell_type": "code",
   "source": "X.a = 99",
   "id": "3821818193b779a4",
   "outputs": [
    {
     "ename": "AttributeError",
     "evalue": "can not set",
     "output_type": "error",
     "traceback": [
      "\u001B[0;31m---------------------------------------------------------------------------\u001B[0m",
      "\u001B[0;31mAttributeError\u001B[0m                            Traceback (most recent call last)",
      "Cell \u001B[0;32mIn[154], line 1\u001B[0m\n\u001B[0;32m----> 1\u001B[0m X\u001B[38;5;241m.\u001B[39ma \u001B[38;5;241m=\u001B[39m \u001B[38;5;241m99\u001B[39m\n",
      "Cell \u001B[0;32mIn[152], line 6\u001B[0m, in \u001B[0;36mD.__set__\u001B[0;34m(self, instance, value)\u001B[0m\n\u001B[1;32m      5\u001B[0m \u001B[38;5;28;01mdef\u001B[39;00m \u001B[38;5;21m__set__\u001B[39m(\u001B[38;5;28mself\u001B[39m, instance, value):\n\u001B[0;32m----> 6\u001B[0m     \u001B[38;5;28;01mraise\u001B[39;00m \u001B[38;5;167;01mAttributeError\u001B[39;00m(\u001B[38;5;124m'\u001B[39m\u001B[38;5;124mcan not set\u001B[39m\u001B[38;5;124m'\u001B[39m)\n",
      "\u001B[0;31mAttributeError\u001B[0m: can not set"
     ]
    }
   ],
   "execution_count": 154
  },
  {
   "metadata": {
    "ExecuteTime": {
     "end_time": "2024-07-03T08:59:06.744177Z",
     "start_time": "2024-07-03T08:59:06.742068Z"
    }
   },
   "cell_type": "code",
   "source": [
    "class Name:\n",
    "    \"\"\"name descriptor docs\"\"\"\n",
    "    def __get__(self, instance, owner):\n",
    "        print('get')\n",
    "        return instance._name\n",
    "    \n",
    "    def __set__(self, instance, value):\n",
    "        print('set')\n",
    "        instance._name = value\n",
    "        \n",
    "    def __delete__(self, obj):\n",
    "        print('del')\n",
    "        del obj._name\n",
    "\n",
    "class Person:\n",
    "    def __init__(self, name):\n",
    "        self._name = name\n",
    "    name = Name()"
   ],
   "id": "602329c47548d928",
   "outputs": [],
   "execution_count": 190
  },
  {
   "metadata": {
    "ExecuteTime": {
     "end_time": "2024-07-03T08:59:56.086182Z",
     "start_time": "2024-07-03T08:59:56.084468Z"
    }
   },
   "cell_type": "code",
   "source": [
    "bob = Person('Bob')\n",
    "print(bob.name)\n",
    "print(bob._name)"
   ],
   "id": "c8d2e0f0ef4aa4b6",
   "outputs": [
    {
     "name": "stdout",
     "output_type": "stream",
     "text": [
      "get\n",
      "Bob\n",
      "Bob\n"
     ]
    }
   ],
   "execution_count": 195
  },
  {
   "metadata": {
    "ExecuteTime": {
     "end_time": "2024-07-03T09:00:00.826619Z",
     "start_time": "2024-07-03T09:00:00.815379Z"
    }
   },
   "cell_type": "code",
   "source": "print(Person.name)",
   "id": "f7fcbacc8d98e4b1",
   "outputs": [
    {
     "name": "stdout",
     "output_type": "stream",
     "text": [
      "get\n"
     ]
    },
    {
     "ename": "AttributeError",
     "evalue": "'NoneType' object has no attribute '_name'",
     "output_type": "error",
     "traceback": [
      "\u001B[0;31m---------------------------------------------------------------------------\u001B[0m",
      "\u001B[0;31mAttributeError\u001B[0m                            Traceback (most recent call last)",
      "Cell \u001B[0;32mIn[196], line 1\u001B[0m\n\u001B[0;32m----> 1\u001B[0m \u001B[38;5;28mprint\u001B[39m(Person\u001B[38;5;241m.\u001B[39mname)\n",
      "Cell \u001B[0;32mIn[190], line 5\u001B[0m, in \u001B[0;36mName.__get__\u001B[0;34m(self, instance, owner)\u001B[0m\n\u001B[1;32m      3\u001B[0m \u001B[38;5;28;01mdef\u001B[39;00m \u001B[38;5;21m__get__\u001B[39m(\u001B[38;5;28mself\u001B[39m, instance, owner):\n\u001B[1;32m      4\u001B[0m     \u001B[38;5;28mprint\u001B[39m(\u001B[38;5;124m'\u001B[39m\u001B[38;5;124mget\u001B[39m\u001B[38;5;124m'\u001B[39m)\n\u001B[0;32m----> 5\u001B[0m     \u001B[38;5;28;01mreturn\u001B[39;00m instance\u001B[38;5;241m.\u001B[39m_name\n",
      "\u001B[0;31mAttributeError\u001B[0m: 'NoneType' object has no attribute '_name'"
     ]
    }
   ],
   "execution_count": 196
  },
  {
   "metadata": {
    "ExecuteTime": {
     "end_time": "2024-07-03T09:00:26.814777Z",
     "start_time": "2024-07-03T09:00:26.813014Z"
    }
   },
   "cell_type": "code",
   "source": "print(Person.__dict__['name'].__doc__)",
   "id": "16ae89c537e99b5e",
   "outputs": [
    {
     "name": "stdout",
     "output_type": "stream",
     "text": [
      "name descriptor docs\n"
     ]
    }
   ],
   "execution_count": 198
  },
  {
   "metadata": {
    "ExecuteTime": {
     "end_time": "2024-07-03T08:52:51.596044Z",
     "start_time": "2024-07-03T08:52:51.594254Z"
    }
   },
   "cell_type": "code",
   "source": "bob.name = 'Robert'",
   "id": "6ef84db98718da9d",
   "outputs": [
    {
     "name": "stdout",
     "output_type": "stream",
     "text": [
      "set\n"
     ]
    }
   ],
   "execution_count": 157
  },
  {
   "metadata": {
    "ExecuteTime": {
     "end_time": "2024-07-03T08:52:51.870260Z",
     "start_time": "2024-07-03T08:52:51.868408Z"
    }
   },
   "cell_type": "code",
   "source": "del bob.name",
   "id": "6e9297f10724d039",
   "outputs": [
    {
     "name": "stdout",
     "output_type": "stream",
     "text": [
      "del\n"
     ]
    }
   ],
   "execution_count": 158
  },
  {
   "metadata": {
    "ExecuteTime": {
     "end_time": "2024-07-03T08:52:52.195362Z",
     "start_time": "2024-07-03T08:52:52.184521Z"
    }
   },
   "cell_type": "code",
   "source": "bob.name",
   "id": "3dcd080b429a4078",
   "outputs": [
    {
     "name": "stdout",
     "output_type": "stream",
     "text": [
      "get\n"
     ]
    },
    {
     "ename": "AttributeError",
     "evalue": "'Person' object has no attribute '_name'",
     "output_type": "error",
     "traceback": [
      "\u001B[0;31m---------------------------------------------------------------------------\u001B[0m",
      "\u001B[0;31mAttributeError\u001B[0m                            Traceback (most recent call last)",
      "Cell \u001B[0;32mIn[159], line 1\u001B[0m\n\u001B[0;32m----> 1\u001B[0m bob\u001B[38;5;241m.\u001B[39mname\n",
      "Cell \u001B[0;32mIn[155], line 5\u001B[0m, in \u001B[0;36mName.__get__\u001B[0;34m(self, instance, owner)\u001B[0m\n\u001B[1;32m      3\u001B[0m \u001B[38;5;28;01mdef\u001B[39;00m \u001B[38;5;21m__get__\u001B[39m(\u001B[38;5;28mself\u001B[39m, instance, owner):\n\u001B[1;32m      4\u001B[0m     \u001B[38;5;28mprint\u001B[39m(\u001B[38;5;124m'\u001B[39m\u001B[38;5;124mget\u001B[39m\u001B[38;5;124m'\u001B[39m)\n\u001B[0;32m----> 5\u001B[0m     \u001B[38;5;28;01mreturn\u001B[39;00m instance\u001B[38;5;241m.\u001B[39m_name\n",
      "\u001B[0;31mAttributeError\u001B[0m: 'Person' object has no attribute '_name'"
     ]
    }
   ],
   "execution_count": 159
  },
  {
   "metadata": {
    "ExecuteTime": {
     "end_time": "2024-07-03T09:01:08.418578Z",
     "start_time": "2024-07-03T09:01:08.416552Z"
    }
   },
   "cell_type": "code",
   "source": [
    "class Staff(Person):\n",
    "    pass"
   ],
   "id": "8235fa3bfa380b58",
   "outputs": [],
   "execution_count": 203
  },
  {
   "metadata": {
    "ExecuteTime": {
     "end_time": "2024-07-03T09:01:08.709114Z",
     "start_time": "2024-07-03T09:01:08.707229Z"
    }
   },
   "cell_type": "code",
   "source": [
    "sue = Staff('Sue')\n",
    "print(sue.name)"
   ],
   "id": "c50c1168471c6579",
   "outputs": [
    {
     "name": "stdout",
     "output_type": "stream",
     "text": [
      "get\n",
      "Sue\n"
     ]
    }
   ],
   "execution_count": 204
  },
  {
   "metadata": {
    "ExecuteTime": {
     "end_time": "2024-07-03T09:04:03.445001Z",
     "start_time": "2024-07-03T09:04:03.439601Z"
    }
   },
   "cell_type": "code",
   "source": "print(Staff.__dict__.keys())",
   "id": "eb7e76944a99b3e8",
   "outputs": [
    {
     "name": "stdout",
     "output_type": "stream",
     "text": [
      "dict_keys(['__module__', '__doc__'])\n"
     ]
    }
   ],
   "execution_count": 207
  },
  {
   "metadata": {
    "ExecuteTime": {
     "end_time": "2024-07-03T09:04:10.813417Z",
     "start_time": "2024-07-03T09:04:10.810589Z"
    }
   },
   "cell_type": "code",
   "source": "dir(Staff)",
   "id": "2c7c4e8d31e9a68f",
   "outputs": [
    {
     "data": {
      "text/plain": [
       "['__class__',\n",
       " '__delattr__',\n",
       " '__dict__',\n",
       " '__dir__',\n",
       " '__doc__',\n",
       " '__eq__',\n",
       " '__format__',\n",
       " '__ge__',\n",
       " '__getattribute__',\n",
       " '__getstate__',\n",
       " '__gt__',\n",
       " '__hash__',\n",
       " '__init__',\n",
       " '__init_subclass__',\n",
       " '__le__',\n",
       " '__lt__',\n",
       " '__module__',\n",
       " '__ne__',\n",
       " '__new__',\n",
       " '__reduce__',\n",
       " '__reduce_ex__',\n",
       " '__repr__',\n",
       " '__setattr__',\n",
       " '__sizeof__',\n",
       " '__str__',\n",
       " '__subclasshook__',\n",
       " '__weakref__',\n",
       " 'name']"
      ]
     },
     "execution_count": 208,
     "metadata": {},
     "output_type": "execute_result"
    }
   ],
   "execution_count": 208
  },
  {
   "metadata": {
    "ExecuteTime": {
     "end_time": "2024-07-03T09:04:23.960748Z",
     "start_time": "2024-07-03T09:04:23.958419Z"
    }
   },
   "cell_type": "code",
   "source": [
    "class Person:\n",
    "    def __init__(self, name):\n",
    "        self._name = name\n",
    "        \n",
    "    class Name:\n",
    "        \"\"\"name descriptor docs\"\"\"\n",
    "        def __get__(self, instance, owner):\n",
    "            print('get')\n",
    "            return instance._name\n",
    "        \n",
    "        def __set__(self, instance, value):\n",
    "            print('set')\n",
    "            instance._name = value\n",
    "            \n",
    "        def __delete__(self, instance):\n",
    "            print('del')\n",
    "            del instance._name\n",
    "        \n",
    "    name = Name()"
   ],
   "id": "f017bf422ec62749",
   "outputs": [],
   "execution_count": 209
  },
  {
   "metadata": {
    "ExecuteTime": {
     "end_time": "2024-07-03T09:04:25.083879Z",
     "start_time": "2024-07-03T09:04:25.081972Z"
    }
   },
   "cell_type": "code",
   "source": [
    "bob = Person('Bob')\n",
    "print(bob.name)\n",
    "print(bob._name)"
   ],
   "id": "83c738a3dd56ce45",
   "outputs": [
    {
     "name": "stdout",
     "output_type": "stream",
     "text": [
      "get\n",
      "Bob\n",
      "Bob\n"
     ]
    }
   ],
   "execution_count": 210
  },
  {
   "metadata": {
    "ExecuteTime": {
     "end_time": "2024-07-03T09:04:26.540584Z",
     "start_time": "2024-07-03T09:04:26.538620Z"
    }
   },
   "cell_type": "code",
   "source": "print(Person.Name.__doc__)",
   "id": "a80b47ac8c3f9f6b",
   "outputs": [
    {
     "name": "stdout",
     "output_type": "stream",
     "text": [
      "name descriptor docs\n"
     ]
    }
   ],
   "execution_count": 211
  },
  {
   "metadata": {
    "ExecuteTime": {
     "end_time": "2024-07-03T09:04:36.992734Z",
     "start_time": "2024-07-03T09:04:36.979156Z"
    }
   },
   "cell_type": "code",
   "source": "print(Person.name.__doc__)",
   "id": "eff0afec4e6a4e18",
   "outputs": [
    {
     "name": "stdout",
     "output_type": "stream",
     "text": [
      "get\n"
     ]
    },
    {
     "ename": "AttributeError",
     "evalue": "'NoneType' object has no attribute '_name'",
     "output_type": "error",
     "traceback": [
      "\u001B[0;31m---------------------------------------------------------------------------\u001B[0m",
      "\u001B[0;31mAttributeError\u001B[0m                            Traceback (most recent call last)",
      "Cell \u001B[0;32mIn[212], line 1\u001B[0m\n\u001B[0;32m----> 1\u001B[0m \u001B[38;5;28mprint\u001B[39m(Person\u001B[38;5;241m.\u001B[39mname\u001B[38;5;241m.\u001B[39m\u001B[38;5;18m__doc__\u001B[39m)\n",
      "Cell \u001B[0;32mIn[209], line 9\u001B[0m, in \u001B[0;36mPerson.Name.__get__\u001B[0;34m(self, instance, owner)\u001B[0m\n\u001B[1;32m      7\u001B[0m \u001B[38;5;28;01mdef\u001B[39;00m \u001B[38;5;21m__get__\u001B[39m(\u001B[38;5;28mself\u001B[39m, instance, owner):\n\u001B[1;32m      8\u001B[0m     \u001B[38;5;28mprint\u001B[39m(\u001B[38;5;124m'\u001B[39m\u001B[38;5;124mget\u001B[39m\u001B[38;5;124m'\u001B[39m)\n\u001B[0;32m----> 9\u001B[0m     \u001B[38;5;28;01mreturn\u001B[39;00m instance\u001B[38;5;241m.\u001B[39m_name\n",
      "\u001B[0;31mAttributeError\u001B[0m: 'NoneType' object has no attribute '_name'"
     ]
    }
   ],
   "execution_count": 212
  },
  {
   "metadata": {
    "ExecuteTime": {
     "end_time": "2024-07-03T09:04:37.225504Z",
     "start_time": "2024-07-03T09:04:37.223725Z"
    }
   },
   "cell_type": "code",
   "source": [
    "class Staff(Person):\n",
    "    pass"
   ],
   "id": "3b9e1435578fe0e1",
   "outputs": [],
   "execution_count": 213
  },
  {
   "metadata": {
    "ExecuteTime": {
     "end_time": "2024-07-03T09:04:37.548542Z",
     "start_time": "2024-07-03T09:04:37.546509Z"
    }
   },
   "cell_type": "code",
   "source": [
    "sue = Staff('Sue')\n",
    "print(sue.name)"
   ],
   "id": "260def3441eea358",
   "outputs": [
    {
     "name": "stdout",
     "output_type": "stream",
     "text": [
      "get\n",
      "Sue\n"
     ]
    }
   ],
   "execution_count": 214
  },
  {
   "metadata": {},
   "cell_type": "markdown",
   "source": "描述符状态常常能解决那些不必存储在实 例上的数据的命名冲突问题，从⽽让这些数据不必再使⽤相对特殊的命名⽅式",
   "id": "d1fd6378d4c08e8f"
  },
  {
   "metadata": {
    "ExecuteTime": {
     "end_time": "2024-07-03T12:20:43.653925Z",
     "start_time": "2024-07-03T12:20:43.643199Z"
    }
   },
   "cell_type": "code",
   "source": [
    "class DescState:\n",
    "    def __init__(self, value):\n",
    "        self.value = value\n",
    "        \n",
    "    def __get__(self, instance, owner):\n",
    "        print('get')\n",
    "        return self.value * 10\n",
    "    \n",
    "    def __set__(self, instance, value):\n",
    "        print('set')\n",
    "        self.value = value\n",
    "        \n",
    "# Client Class\n",
    "class CalcAttr:\n",
    "    X = DescState(10)\n",
    "    Y = 3\n",
    "    def __init__(self):\n",
    "        self.Z = 5"
   ],
   "id": "1fd1e5e4394c8d50",
   "outputs": [],
   "execution_count": 245
  },
  {
   "metadata": {
    "ExecuteTime": {
     "end_time": "2024-07-03T12:20:43.918140Z",
     "start_time": "2024-07-03T12:20:43.915855Z"
    }
   },
   "cell_type": "code",
   "source": [
    "obj = CalcAttr()\n",
    "print(obj.X, obj.Y, obj.Z)"
   ],
   "id": "809714622e685fd4",
   "outputs": [
    {
     "name": "stdout",
     "output_type": "stream",
     "text": [
      "get\n",
      "100 3 5\n"
     ]
    }
   ],
   "execution_count": 246
  },
  {
   "metadata": {
    "ExecuteTime": {
     "end_time": "2024-07-03T12:20:44.284314Z",
     "start_time": "2024-07-03T12:20:44.282277Z"
    }
   },
   "cell_type": "code",
   "source": [
    "obj.X = 5\n",
    "CalcAttr.Y = 6\n",
    "obj.Z = 7\n",
    "print(obj.X, obj.Y, obj.Z)"
   ],
   "id": "679e469110370c86",
   "outputs": [
    {
     "name": "stdout",
     "output_type": "stream",
     "text": [
      "set\n",
      "get\n",
      "50 6 7\n"
     ]
    }
   ],
   "execution_count": 247
  },
  {
   "metadata": {
    "ExecuteTime": {
     "end_time": "2024-07-03T12:20:44.756915Z",
     "start_time": "2024-07-03T12:20:44.755018Z"
    }
   },
   "cell_type": "code",
   "source": [
    "obj2 = CalcAttr()\n",
    "print(obj2.X, obj2.Y, obj2.Z)"
   ],
   "id": "4cf7456f94c1784d",
   "outputs": [
    {
     "name": "stdout",
     "output_type": "stream",
     "text": [
      "get\n",
      "50 6 5\n"
     ]
    }
   ],
   "execution_count": 248
  },
  {
   "metadata": {},
   "cell_type": "markdown",
   "source": "描述符会假设实例有⼀个被客户类附加的属性_X",
   "id": "118568109168743d"
  },
  {
   "metadata": {
    "ExecuteTime": {
     "end_time": "2024-07-03T12:20:45.922169Z",
     "start_time": "2024-07-03T12:20:45.919888Z"
    }
   },
   "cell_type": "code",
   "source": [
    "class InstState:\n",
    "    def __get__(self, instance, owner):\n",
    "        print('get')\n",
    "        return instance._X * 10\n",
    "    \n",
    "    def __set__(self, instance, value):\n",
    "        print('set')\n",
    "        instance._X = value\n",
    "        \n",
    "# Client Class\n",
    "class CalcAttr:\n",
    "    X = InstState()\n",
    "    Y = 3\n",
    "    def __init__(self):\n",
    "        self._X = 2\n",
    "        self.Z = 5"
   ],
   "id": "8530058894429c71",
   "outputs": [],
   "execution_count": 249
  },
  {
   "metadata": {
    "ExecuteTime": {
     "end_time": "2024-07-03T12:20:46.445983Z",
     "start_time": "2024-07-03T12:20:46.443836Z"
    }
   },
   "cell_type": "code",
   "source": [
    "obj = CalcAttr()\n",
    "print(obj.X, obj.Y, obj.Z)"
   ],
   "id": "3a65f78ddf3ba2d2",
   "outputs": [
    {
     "name": "stdout",
     "output_type": "stream",
     "text": [
      "get\n",
      "20 3 5\n"
     ]
    }
   ],
   "execution_count": 250
  },
  {
   "metadata": {
    "ExecuteTime": {
     "end_time": "2024-07-03T12:20:47.356029Z",
     "start_time": "2024-07-03T12:20:47.353691Z"
    }
   },
   "cell_type": "code",
   "source": [
    "obj.X = 5\n",
    "CalcAttr.Y = 6\n",
    "obj.Z = 7\n",
    "print(obj.X, obj.Y, obj.Z)"
   ],
   "id": "7a932eaa44397d9a",
   "outputs": [
    {
     "name": "stdout",
     "output_type": "stream",
     "text": [
      "set\n",
      "get\n",
      "50 6 7\n"
     ]
    }
   ],
   "execution_count": 251
  },
  {
   "metadata": {
    "ExecuteTime": {
     "end_time": "2024-07-03T12:20:57.870338Z",
     "start_time": "2024-07-03T12:20:57.865857Z"
    }
   },
   "cell_type": "code",
   "source": [
    "obj2 = CalcAttr()\n",
    "print(obj2.X, obj2.Y, obj2.Z)"
   ],
   "id": "8349e486714643b",
   "outputs": [
    {
     "name": "stdout",
     "output_type": "stream",
     "text": [
      "get\n",
      "20 6 5\n"
     ]
    }
   ],
   "execution_count": 252
  },
  {
   "metadata": {
    "ExecuteTime": {
     "end_time": "2024-07-03T12:22:25.555543Z",
     "start_time": "2024-07-03T12:22:25.553133Z"
    }
   },
   "cell_type": "code",
   "source": "CalcAttr().X",
   "id": "10c0e42121626fa8",
   "outputs": [
    {
     "name": "stdout",
     "output_type": "stream",
     "text": [
      "get\n"
     ]
    },
    {
     "data": {
      "text/plain": [
       "20"
      ]
     },
     "execution_count": 254,
     "metadata": {},
     "output_type": "execute_result"
    }
   ],
   "execution_count": 254
  },
  {
   "metadata": {
    "ExecuteTime": {
     "end_time": "2024-07-03T12:46:51.524824Z",
     "start_time": "2024-07-03T12:46:51.522336Z"
    }
   },
   "cell_type": "code",
   "source": [
    "class DescBoth:\n",
    "    def __init__(self, data):\n",
    "        self.data = data\n",
    "        \n",
    "    def __get__(self, instance, owner):\n",
    "        return self.data, instance.data\n",
    "    \n",
    "    def __set__(self, instance, value):\n",
    "        instance.data = value\n",
    "        \n",
    "class Client:\n",
    "    X = DescBoth(10)\n",
    "    Y = 20\n",
    "    def __init__(self, data):\n",
    "        self.data = data"
   ],
   "id": "6e849dba50776ae",
   "outputs": [],
   "execution_count": 297
  },
  {
   "metadata": {
    "ExecuteTime": {
     "end_time": "2024-07-03T12:46:51.783794Z",
     "start_time": "2024-07-03T12:46:51.782096Z"
    }
   },
   "cell_type": "code",
   "source": "I = Client(33)",
   "id": "ba233367e2e2da1b",
   "outputs": [],
   "execution_count": 298
  },
  {
   "metadata": {
    "ExecuteTime": {
     "end_time": "2024-07-03T12:46:52.095436Z",
     "start_time": "2024-07-03T12:46:52.092638Z"
    }
   },
   "cell_type": "code",
   "source": "I.data",
   "id": "ccbbd885921b292f",
   "outputs": [
    {
     "data": {
      "text/plain": [
       "33"
      ]
     },
     "execution_count": 299,
     "metadata": {},
     "output_type": "execute_result"
    }
   ],
   "execution_count": 299
  },
  {
   "metadata": {
    "ExecuteTime": {
     "end_time": "2024-07-03T12:46:52.383908Z",
     "start_time": "2024-07-03T12:46:52.381564Z"
    }
   },
   "cell_type": "code",
   "source": "I.X",
   "id": "53c93dfbe7d0a88b",
   "outputs": [
    {
     "data": {
      "text/plain": [
       "(10, 33)"
      ]
     },
     "execution_count": 300,
     "metadata": {},
     "output_type": "execute_result"
    }
   ],
   "execution_count": 300
  },
  {
   "metadata": {
    "ExecuteTime": {
     "end_time": "2024-07-03T12:46:53.064077Z",
     "start_time": "2024-07-03T12:46:53.062258Z"
    }
   },
   "cell_type": "code",
   "source": "I.data = 44",
   "id": "42479f3e913f96dd",
   "outputs": [],
   "execution_count": 301
  },
  {
   "metadata": {
    "ExecuteTime": {
     "end_time": "2024-07-03T12:46:53.446747Z",
     "start_time": "2024-07-03T12:46:53.444974Z"
    }
   },
   "cell_type": "code",
   "source": "I.X",
   "id": "22f4b47b823d5a0f",
   "outputs": [
    {
     "data": {
      "text/plain": [
       "(10, 44)"
      ]
     },
     "execution_count": 302,
     "metadata": {},
     "output_type": "execute_result"
    }
   ],
   "execution_count": 302
  },
  {
   "metadata": {
    "ExecuteTime": {
     "end_time": "2024-07-03T12:45:46.000355Z",
     "start_time": "2024-07-03T12:45:45.997951Z"
    }
   },
   "cell_type": "code",
   "source": "I.__dict__",
   "id": "a1fb4f31c4fca327",
   "outputs": [
    {
     "data": {
      "text/plain": [
       "{'data': 44}"
      ]
     },
     "execution_count": 287,
     "metadata": {},
     "output_type": "execute_result"
    }
   ],
   "execution_count": 287
  },
  {
   "metadata": {
    "ExecuteTime": {
     "end_time": "2024-07-03T12:45:56.827548Z",
     "start_time": "2024-07-03T12:45:56.824830Z"
    }
   },
   "cell_type": "code",
   "source": "[k for k in dir(I) if not k.startswith('__')]",
   "id": "bd6144fa32d53a95",
   "outputs": [
    {
     "data": {
      "text/plain": [
       "['X', 'Y', 'data']"
      ]
     },
     "execution_count": 291,
     "metadata": {},
     "output_type": "execute_result"
    }
   ],
   "execution_count": 291
  },
  {
   "metadata": {
    "ExecuteTime": {
     "end_time": "2024-07-03T12:45:57.080186Z",
     "start_time": "2024-07-03T12:45:57.077212Z"
    }
   },
   "cell_type": "code",
   "source": "getattr(I, 'X')",
   "id": "2bea82013638f080",
   "outputs": [
    {
     "data": {
      "text/plain": [
       "(10, 44)"
      ]
     },
     "execution_count": 292,
     "metadata": {},
     "output_type": "execute_result"
    }
   ],
   "execution_count": 292
  },
  {
   "metadata": {
    "ExecuteTime": {
     "end_time": "2024-07-03T12:45:57.589697Z",
     "start_time": "2024-07-03T12:45:57.587603Z"
    }
   },
   "cell_type": "code",
   "source": "getattr(I, 'data')",
   "id": "9cdb0ab7ea20e0a6",
   "outputs": [
    {
     "data": {
      "text/plain": [
       "44"
      ]
     },
     "execution_count": 293,
     "metadata": {},
     "output_type": "execute_result"
    }
   ],
   "execution_count": 293
  },
  {
   "metadata": {
    "ExecuteTime": {
     "end_time": "2024-07-03T12:45:58.033046Z",
     "start_time": "2024-07-03T12:45:58.030125Z"
    }
   },
   "cell_type": "code",
   "source": [
    "for attr in (x for x in dir(I) if not x.startswith('__')):\n",
    "    print(f'{attr} => {getattr(I, attr)}')"
   ],
   "id": "6220f7e2284f7113",
   "outputs": [
    {
     "name": "stdout",
     "output_type": "stream",
     "text": [
      "X => (10, 44)\n",
      "Y => 20\n",
      "data => 44\n"
     ]
    }
   ],
   "execution_count": 294
  },
  {
   "metadata": {},
   "cell_type": "markdown",
   "source": "# 运算符重载",
   "id": "8ac81692d7946570"
  },
  {
   "metadata": {},
   "cell_type": "code",
   "outputs": [],
   "execution_count": null,
   "source": [
    "class Catcher:\n",
    "    def __getattr__(self, name): ... # 捕获未定义属性, 例如 obj.attr\n",
    "    def __getattribute__(self, name): ... # 捕获所有属性访问, 例如 obj.name\n",
    "    def __setattr__(self, name, value): ... # 捕获所有属性赋值, 例如 obj.name = value\n",
    "    def __delattr__(self, name): ... # 捕获所有属性删除, 例如 del obj.name"
   ],
   "id": "d0c4a61935c535e5"
  },
  {
   "metadata": {
    "ExecuteTime": {
     "end_time": "2024-07-03T13:07:43.096558Z",
     "start_time": "2024-07-03T13:07:43.093989Z"
    }
   },
   "cell_type": "code",
   "source": [
    "class Catcher:\n",
    "    def __getattr__(self, name):  # 捕获未定义属性, 例如 obj.attr\n",
    "        print(f'getattr({name})')\n",
    "        # return self.name # loops forever\n",
    "        # return self.__dict__.get(name, None)\n",
    "        # return object.__getattribute__(self, name)\n",
    "        # return object.__getattribute__(self, name)\n",
    "    # def __getattribute__(self, name): ... # 捕获所有属性访问, 例如 obj.name\n",
    "    def __setattr__(self, name, value):  # 捕获所有属性赋值, 例如 obj.name = value\n",
    "        print(f'setattr({name}, {value})')\n",
    "    def __delattr__(self, name): ... # 捕获所有属性删除, 例如 del obj.name"
   ],
   "id": "5180438440d6a4fe",
   "outputs": [],
   "execution_count": 336
  },
  {
   "metadata": {
    "ExecuteTime": {
     "end_time": "2024-07-03T13:07:43.455838Z",
     "start_time": "2024-07-03T13:07:43.453407Z"
    }
   },
   "cell_type": "code",
   "source": [
    "X = Catcher()\n",
    "X.job is None"
   ],
   "id": "b6ffdf1c1066ae9f",
   "outputs": [
    {
     "name": "stdout",
     "output_type": "stream",
     "text": [
      "getattr(job)\n"
     ]
    },
    {
     "data": {
      "text/plain": [
       "True"
      ]
     },
     "execution_count": 337,
     "metadata": {},
     "output_type": "execute_result"
    }
   ],
   "execution_count": 337
  },
  {
   "metadata": {
    "ExecuteTime": {
     "end_time": "2024-07-03T13:07:43.909394Z",
     "start_time": "2024-07-03T13:07:43.907612Z"
    }
   },
   "cell_type": "code",
   "source": "X.bob",
   "id": "3941f6365fcd7fdb",
   "outputs": [
    {
     "name": "stdout",
     "output_type": "stream",
     "text": [
      "getattr(bob)\n"
     ]
    }
   ],
   "execution_count": 338
  },
  {
   "metadata": {
    "ExecuteTime": {
     "end_time": "2024-07-03T13:07:44.257234Z",
     "start_time": "2024-07-03T13:07:44.255352Z"
    }
   },
   "cell_type": "code",
   "source": "X.job = 10",
   "id": "e798eb5fa8b1f6bd",
   "outputs": [
    {
     "name": "stdout",
     "output_type": "stream",
     "text": [
      "setattr(job, 10)\n"
     ]
    }
   ],
   "execution_count": 339
  },
  {
   "metadata": {
    "ExecuteTime": {
     "end_time": "2024-07-03T13:28:10.371091Z",
     "start_time": "2024-07-03T13:28:10.366527Z"
    }
   },
   "cell_type": "code",
   "source": [
    "class Person:\n",
    "    def __init__(self, name):\n",
    "        self._name = name\n",
    "        \n",
    "    def __getattr__(self, item):\n",
    "        print(f'getattr({item})')\n",
    "        if item == 'name':\n",
    "            return self._name\n",
    "            # return object.__getattribute__(self, '_name') # OK\n",
    "            # return super().__getattribute__('_name') # OK\n",
    "        else:\n",
    "            raise AttributeError(f'{self.__class__.__name__} has no attribute {item}')\n",
    "        \n",
    "    def __setattr__(self, key, value):\n",
    "        print(f'setattr({key}, {value})')\n",
    "        if key == 'name':\n",
    "            key = '_name'\n",
    "            # self._name = value # loops forever\n",
    "        # object.__setattr__(self, key, value) # OK\n",
    "        # super().__setattr__(key, value) # OK\n",
    "        self.__dict__[key] = value # OK\n",
    "        \n",
    "    def __delattr__(self, item):\n",
    "        print(f'delattr({item})')\n",
    "        if item == 'name':\n",
    "            item = '_name'\n",
    "        # object.__delattr__(self, item) # OK\n",
    "        # super().__delattr__(item) # OK\n",
    "        del self.__dict__[item] # OK"
   ],
   "id": "f7145cff72c1e49f",
   "outputs": [],
   "execution_count": 396
  },
  {
   "metadata": {
    "ExecuteTime": {
     "end_time": "2024-07-03T13:28:10.957569Z",
     "start_time": "2024-07-03T13:28:10.955428Z"
    }
   },
   "cell_type": "code",
   "source": "bob = Person('Bob')",
   "id": "cd0247468c251058",
   "outputs": [
    {
     "name": "stdout",
     "output_type": "stream",
     "text": [
      "setattr(_name, Bob)\n"
     ]
    }
   ],
   "execution_count": 397
  },
  {
   "metadata": {
    "ExecuteTime": {
     "end_time": "2024-07-03T13:28:11.381864Z",
     "start_time": "2024-07-03T13:28:11.379150Z"
    }
   },
   "cell_type": "code",
   "source": "bob.name",
   "id": "9ffa959cc4fc4736",
   "outputs": [
    {
     "name": "stdout",
     "output_type": "stream",
     "text": [
      "getattr(name)\n"
     ]
    },
    {
     "data": {
      "text/plain": [
       "'Bob'"
      ]
     },
     "execution_count": 398,
     "metadata": {},
     "output_type": "execute_result"
    }
   ],
   "execution_count": 398
  },
  {
   "metadata": {
    "ExecuteTime": {
     "end_time": "2024-07-03T13:28:11.813338Z",
     "start_time": "2024-07-03T13:28:11.811495Z"
    }
   },
   "cell_type": "code",
   "source": "bob.name = 'Robert'",
   "id": "9265c49f75cf5e2b",
   "outputs": [
    {
     "name": "stdout",
     "output_type": "stream",
     "text": [
      "setattr(name, Robert)\n"
     ]
    }
   ],
   "execution_count": 399
  },
  {
   "metadata": {
    "ExecuteTime": {
     "end_time": "2024-07-03T13:23:58.007447Z",
     "start_time": "2024-07-03T13:23:58.005652Z"
    }
   },
   "cell_type": "code",
   "source": "del bob.name",
   "id": "f47ef099ce36b03d",
   "outputs": [
    {
     "name": "stdout",
     "output_type": "stream",
     "text": [
      "delattr(name)\n"
     ]
    }
   ],
   "execution_count": 384
  },
  {
   "metadata": {
    "ExecuteTime": {
     "end_time": "2024-07-03T13:22:55.926749Z",
     "start_time": "2024-07-03T13:22:55.898548Z"
    }
   },
   "cell_type": "code",
   "source": "bob.job",
   "id": "f8b175b3564277aa",
   "outputs": [
    {
     "name": "stdout",
     "output_type": "stream",
     "text": [
      "getattr(job)\n"
     ]
    },
    {
     "ename": "AttributeError",
     "evalue": "Person has no attribute job",
     "output_type": "error",
     "traceback": [
      "\u001B[0;31m---------------------------------------------------------------------------\u001B[0m",
      "\u001B[0;31mAttributeError\u001B[0m                            Traceback (most recent call last)",
      "Cell \u001B[0;32mIn[365], line 1\u001B[0m\n\u001B[0;32m----> 1\u001B[0m bob\u001B[38;5;241m.\u001B[39mjob\n",
      "Cell \u001B[0;32mIn[361], line 11\u001B[0m, in \u001B[0;36mPerson.__getattr__\u001B[0;34m(self, item)\u001B[0m\n\u001B[1;32m      9\u001B[0m     \u001B[38;5;28;01mreturn\u001B[39;00m \u001B[38;5;28msuper\u001B[39m()\u001B[38;5;241m.\u001B[39m\u001B[38;5;21m__getattribute__\u001B[39m(item) \u001B[38;5;66;03m# OK\u001B[39;00m\n\u001B[1;32m     10\u001B[0m \u001B[38;5;28;01melse\u001B[39;00m:\n\u001B[0;32m---> 11\u001B[0m     \u001B[38;5;28;01mraise\u001B[39;00m \u001B[38;5;167;01mAttributeError\u001B[39;00m(\u001B[38;5;124mf\u001B[39m\u001B[38;5;124m'\u001B[39m\u001B[38;5;132;01m{\u001B[39;00m\u001B[38;5;28mself\u001B[39m\u001B[38;5;241m.\u001B[39m\u001B[38;5;18m__class__\u001B[39m\u001B[38;5;241m.\u001B[39m\u001B[38;5;18m__name__\u001B[39m\u001B[38;5;132;01m}\u001B[39;00m\u001B[38;5;124m has no attribute \u001B[39m\u001B[38;5;132;01m{\u001B[39;00mitem\u001B[38;5;132;01m}\u001B[39;00m\u001B[38;5;124m'\u001B[39m)\n",
      "\u001B[0;31mAttributeError\u001B[0m: Person has no attribute job"
     ]
    }
   ],
   "execution_count": 365
  },
  {
   "metadata": {
    "ExecuteTime": {
     "end_time": "2024-07-03T13:45:11.126819Z",
     "start_time": "2024-07-03T13:45:11.122033Z"
    }
   },
   "cell_type": "code",
   "source": [
    "class Person:\n",
    "    def __init__(self, name):\n",
    "        self._name = name\n",
    "        \n",
    "    def __getattribute__(self, item):\n",
    "        print(f'getattr({item})')\n",
    "        if item == 'name':\n",
    "            item = '_name'\n",
    "        # return super().__getattribute__(item)\n",
    "        return object.__getattribute__(self, item)\n",
    "        \n",
    "    def __setattr__(self, key, value):\n",
    "        print(f'setattr({key}, {value})')\n",
    "        if key == 'name':\n",
    "            key = '_name'\n",
    "        self.__dict__[key] = value # OK\n",
    "        \n",
    "    def __delattr__(self, item):\n",
    "        print(f'delattr({item})')\n",
    "        if item == 'name':\n",
    "            item = '_name'\n",
    "        del self.__dict__[item] # OK"
   ],
   "id": "6fbd27b4c3e67b60",
   "outputs": [],
   "execution_count": 463
  },
  {
   "metadata": {
    "ExecuteTime": {
     "end_time": "2024-07-03T13:45:11.634021Z",
     "start_time": "2024-07-03T13:45:11.632099Z"
    }
   },
   "cell_type": "code",
   "source": "bob = Person('Bob')",
   "id": "794acca40251b38c",
   "outputs": [
    {
     "name": "stdout",
     "output_type": "stream",
     "text": [
      "getattr(__class__)\n",
      "getattr(__class__)\n",
      "getattr(__class__)\n",
      "getattr(__class__)\n",
      "setattr(_name, Bob)\n",
      "getattr(__dict__)\n"
     ]
    }
   ],
   "execution_count": 464
  },
  {
   "metadata": {
    "ExecuteTime": {
     "end_time": "2024-07-03T13:34:51.050307Z",
     "start_time": "2024-07-03T13:34:51.048115Z"
    }
   },
   "cell_type": "code",
   "source": "bob.name",
   "id": "3f68bfd6f21aafee",
   "outputs": [
    {
     "name": "stdout",
     "output_type": "stream",
     "text": [
      "getattr(name)\n"
     ]
    },
    {
     "data": {
      "text/plain": [
       "'Bob'"
      ]
     },
     "execution_count": 431,
     "metadata": {},
     "output_type": "execute_result"
    }
   ],
   "execution_count": 431
  },
  {
   "metadata": {
    "ExecuteTime": {
     "end_time": "2024-07-03T13:34:51.400013Z",
     "start_time": "2024-07-03T13:34:51.398368Z"
    }
   },
   "cell_type": "code",
   "source": "bob.name = 'Robert'",
   "id": "76da5198b0c0c0a1",
   "outputs": [
    {
     "name": "stdout",
     "output_type": "stream",
     "text": [
      "setattr(name, Robert)\n"
     ]
    }
   ],
   "execution_count": 432
  },
  {
   "metadata": {
    "ExecuteTime": {
     "end_time": "2024-07-03T13:34:51.706419Z",
     "start_time": "2024-07-03T13:34:51.704646Z"
    }
   },
   "cell_type": "code",
   "source": "del bob.name",
   "id": "56b2608a06572293",
   "outputs": [
    {
     "name": "stdout",
     "output_type": "stream",
     "text": [
      "delattr(name)\n",
      "getattr(__dict__)\n"
     ]
    }
   ],
   "execution_count": 433
  },
  {
   "metadata": {
    "ExecuteTime": {
     "end_time": "2024-07-03T14:00:00.958294Z",
     "start_time": "2024-07-03T14:00:00.954031Z"
    }
   },
   "cell_type": "code",
   "source": [
    "class GetAttr:\n",
    "    attr1 = 1\n",
    "    def __init__(self):\n",
    "        self.attr2 =  2\n",
    "    def __getattr__(self, attr):\n",
    "        print(f'getattr({attr})')\n",
    "        if attr == 'attr3':\n",
    "            return 3\n",
    "        elif attr == 'attr2':\n",
    "            return self.attr2\n",
    "        else:\n",
    "            raise AttributeError(f'{self.__class__.__name__} has no attribute {attr}')"
   ],
   "id": "656cbcfa4406cb76",
   "outputs": [],
   "execution_count": 478
  },
  {
   "metadata": {
    "ExecuteTime": {
     "end_time": "2024-07-03T14:00:01.358304Z",
     "start_time": "2024-07-03T14:00:01.356365Z"
    }
   },
   "cell_type": "code",
   "source": [
    "X = GetAttr()\n",
    "print(X.attr1)"
   ],
   "id": "c4b13ae37bd1d56b",
   "outputs": [
    {
     "name": "stdout",
     "output_type": "stream",
     "text": [
      "1\n"
     ]
    }
   ],
   "execution_count": 479
  },
  {
   "metadata": {
    "ExecuteTime": {
     "end_time": "2024-07-03T14:00:02.181790Z",
     "start_time": "2024-07-03T14:00:02.179656Z"
    }
   },
   "cell_type": "code",
   "source": "print(X.attr2)",
   "id": "ace7cd791f8dbb45",
   "outputs": [
    {
     "name": "stdout",
     "output_type": "stream",
     "text": [
      "2\n"
     ]
    }
   ],
   "execution_count": 480
  },
  {
   "metadata": {
    "ExecuteTime": {
     "end_time": "2024-07-03T14:00:03.012981Z",
     "start_time": "2024-07-03T14:00:03.011104Z"
    }
   },
   "cell_type": "code",
   "source": "print(X.attr3)",
   "id": "9018bad0dba3e9f",
   "outputs": [
    {
     "name": "stdout",
     "output_type": "stream",
     "text": [
      "getattr(attr3)\n",
      "3\n"
     ]
    }
   ],
   "execution_count": 481
  },
  {
   "metadata": {
    "ExecuteTime": {
     "end_time": "2024-07-04T01:08:39.117837Z",
     "start_time": "2024-07-04T01:08:39.113635Z"
    }
   },
   "cell_type": "code",
   "source": [
    "class GetAttribute:\n",
    "    attr1 = 1\n",
    "    def __init__(self):\n",
    "        self.attr2 =  2\n",
    "    def __getattribute__(self, attr):\n",
    "        print(f'getattribute({attr})')\n",
    "        if attr == 'attr3': \n",
    "            return 3\n",
    "        # elif attr == 'attr2':\n",
    "        #     return self.attr2\n",
    "        else:\n",
    "            # raise AttributeError(f'{self.__class__.__name__} has no attribute {attr}')\n",
    "            # 在 attr 不等于 'attr3' 且不是实例直接拥有的属性时，会递归地调用基类方法以寻找属性\n",
    "            # 直到找到或者抛出一个真正的 AttributeError 表明没有这样的属性\n",
    "            return object.__getattribute__(self, attr)"
   ],
   "id": "c69ecb4885be99e5",
   "outputs": [],
   "execution_count": 536
  },
  {
   "metadata": {
    "ExecuteTime": {
     "end_time": "2024-07-04T01:08:40.567704Z",
     "start_time": "2024-07-04T01:08:40.565734Z"
    }
   },
   "cell_type": "code",
   "source": [
    "Y = GetAttribute()\n",
    "print(Y.attr2)"
   ],
   "id": "46d1e40de425efcc",
   "outputs": [
    {
     "name": "stdout",
     "output_type": "stream",
     "text": [
      "getattribute(attr2)\n",
      "2\n"
     ]
    }
   ],
   "execution_count": 537
  },
  {
   "metadata": {
    "ExecuteTime": {
     "end_time": "2024-07-04T01:08:41.162741Z",
     "start_time": "2024-07-04T01:08:41.160276Z"
    }
   },
   "cell_type": "code",
   "source": "GetAttribute.attr1",
   "id": "3fdad3c21d185eab",
   "outputs": [
    {
     "data": {
      "text/plain": [
       "1"
      ]
     },
     "execution_count": 538,
     "metadata": {},
     "output_type": "execute_result"
    }
   ],
   "execution_count": 538
  },
  {
   "metadata": {
    "ExecuteTime": {
     "end_time": "2024-07-04T01:08:41.575741Z",
     "start_time": "2024-07-04T01:08:41.573869Z"
    }
   },
   "cell_type": "code",
   "source": "print(Y.attr1, Y.attr2, Y.attr3)",
   "id": "4e662ea061043680",
   "outputs": [
    {
     "name": "stdout",
     "output_type": "stream",
     "text": [
      "getattribute(attr1)\n",
      "getattribute(attr2)\n",
      "getattribute(attr3)\n",
      "1 2 3\n"
     ]
    }
   ],
   "execution_count": 539
  },
  {
   "metadata": {
    "ExecuteTime": {
     "end_time": "2024-07-04T01:16:16.677293Z",
     "start_time": "2024-07-04T01:16:16.672399Z"
    }
   },
   "cell_type": "code",
   "source": [
    "class GetAttribute:\n",
    "    attr1 = 1\n",
    "    _handled_attrs = {'attr3', 'attr2'}  # 定义一个集合，包含我们自定义处理的属性\n",
    "\n",
    "    def __init__(self):\n",
    "        self.attr2 = 2\n",
    "\n",
    "    def __getattribute__(self, attr):\n",
    "        print(f'getattr({attr})')\n",
    "        # if attr in self._handled_attrs:\n",
    "        if attr in super().__getattribute__('_handled_attrs'):\n",
    "            if attr == 'attr3':\n",
    "                return 3\n",
    "            else:  # 如果将来有更多自定义处理的属性，可以在这里添加逻辑\n",
    "                raise AttributeError(f'Custom handling for {attr} not implemented.')\n",
    "        else:\n",
    "            # 这里直接返回属性值，而不是调用 object.__getattribute__\n",
    "            # 因为我们已经确认这个属性不在需要特殊处理的集合中\n",
    "            return super().__getattribute__(attr)"
   ],
   "id": "b26b6edb175d09dd",
   "outputs": [],
   "execution_count": 546
  },
  {
   "metadata": {
    "ExecuteTime": {
     "end_time": "2024-07-04T01:17:38.475925Z",
     "start_time": "2024-07-04T01:17:38.461188Z"
    }
   },
   "cell_type": "code",
   "source": [
    "Z = GetAttribute()\n",
    "print(Z.attr2)"
   ],
   "id": "32bc792bf505f47",
   "outputs": [
    {
     "name": "stdout",
     "output_type": "stream",
     "text": [
      "getattr(attr2)\n"
     ]
    },
    {
     "ename": "AttributeError",
     "evalue": "Custom handling for attr2 not implemented.",
     "output_type": "error",
     "traceback": [
      "\u001B[0;31m---------------------------------------------------------------------------\u001B[0m",
      "\u001B[0;31mAttributeError\u001B[0m                            Traceback (most recent call last)",
      "Cell \u001B[0;32mIn[555], line 2\u001B[0m\n\u001B[1;32m      1\u001B[0m Z \u001B[38;5;241m=\u001B[39m GetAttribute()\n\u001B[0;32m----> 2\u001B[0m \u001B[38;5;28mprint\u001B[39m(Z\u001B[38;5;241m.\u001B[39mattr2)\n",
      "Cell \u001B[0;32mIn[546], line 15\u001B[0m, in \u001B[0;36mGetAttribute.__getattribute__\u001B[0;34m(self, attr)\u001B[0m\n\u001B[1;32m     13\u001B[0m         \u001B[38;5;28;01mreturn\u001B[39;00m \u001B[38;5;241m3\u001B[39m\n\u001B[1;32m     14\u001B[0m     \u001B[38;5;28;01melse\u001B[39;00m:  \u001B[38;5;66;03m# 如果将来有更多自定义处理的属性，可以在这里添加逻辑\u001B[39;00m\n\u001B[0;32m---> 15\u001B[0m         \u001B[38;5;28;01mraise\u001B[39;00m \u001B[38;5;167;01mAttributeError\u001B[39;00m(\u001B[38;5;124mf\u001B[39m\u001B[38;5;124m'\u001B[39m\u001B[38;5;124mCustom handling for \u001B[39m\u001B[38;5;132;01m{\u001B[39;00mattr\u001B[38;5;132;01m}\u001B[39;00m\u001B[38;5;124m not implemented.\u001B[39m\u001B[38;5;124m'\u001B[39m)\n\u001B[1;32m     16\u001B[0m \u001B[38;5;28;01melse\u001B[39;00m:\n\u001B[1;32m     17\u001B[0m     \u001B[38;5;66;03m# 这里直接返回属性值，而不是调用 object.__getattribute__\u001B[39;00m\n\u001B[1;32m     18\u001B[0m     \u001B[38;5;66;03m# 因为我们已经确认这个属性不在需要特殊处理的集合中\u001B[39;00m\n\u001B[1;32m     19\u001B[0m     \u001B[38;5;28;01mreturn\u001B[39;00m \u001B[38;5;28msuper\u001B[39m()\u001B[38;5;241m.\u001B[39m\u001B[38;5;21m__getattribute__\u001B[39m(attr)\n",
      "\u001B[0;31mAttributeError\u001B[0m: Custom handling for attr2 not implemented."
     ]
    }
   ],
   "execution_count": 555
  },
  {
   "metadata": {
    "ExecuteTime": {
     "end_time": "2024-07-04T01:17:38.800559Z",
     "start_time": "2024-07-04T01:17:38.790812Z"
    }
   },
   "cell_type": "code",
   "source": "print(Z.attr1, Z.attr3, Z.attr2)",
   "id": "c82fd0ad7f8d4dc9",
   "outputs": [
    {
     "name": "stdout",
     "output_type": "stream",
     "text": [
      "getattr(attr1)\n",
      "getattr(attr3)\n",
      "getattr(attr2)\n"
     ]
    },
    {
     "ename": "AttributeError",
     "evalue": "Custom handling for attr2 not implemented.",
     "output_type": "error",
     "traceback": [
      "\u001B[0;31m---------------------------------------------------------------------------\u001B[0m",
      "\u001B[0;31mAttributeError\u001B[0m                            Traceback (most recent call last)",
      "Cell \u001B[0;32mIn[556], line 1\u001B[0m\n\u001B[0;32m----> 1\u001B[0m \u001B[38;5;28mprint\u001B[39m(Z\u001B[38;5;241m.\u001B[39mattr1, Z\u001B[38;5;241m.\u001B[39mattr3, Z\u001B[38;5;241m.\u001B[39mattr2)\n",
      "Cell \u001B[0;32mIn[546], line 15\u001B[0m, in \u001B[0;36mGetAttribute.__getattribute__\u001B[0;34m(self, attr)\u001B[0m\n\u001B[1;32m     13\u001B[0m         \u001B[38;5;28;01mreturn\u001B[39;00m \u001B[38;5;241m3\u001B[39m\n\u001B[1;32m     14\u001B[0m     \u001B[38;5;28;01melse\u001B[39;00m:  \u001B[38;5;66;03m# 如果将来有更多自定义处理的属性，可以在这里添加逻辑\u001B[39;00m\n\u001B[0;32m---> 15\u001B[0m         \u001B[38;5;28;01mraise\u001B[39;00m \u001B[38;5;167;01mAttributeError\u001B[39;00m(\u001B[38;5;124mf\u001B[39m\u001B[38;5;124m'\u001B[39m\u001B[38;5;124mCustom handling for \u001B[39m\u001B[38;5;132;01m{\u001B[39;00mattr\u001B[38;5;132;01m}\u001B[39;00m\u001B[38;5;124m not implemented.\u001B[39m\u001B[38;5;124m'\u001B[39m)\n\u001B[1;32m     16\u001B[0m \u001B[38;5;28;01melse\u001B[39;00m:\n\u001B[1;32m     17\u001B[0m     \u001B[38;5;66;03m# 这里直接返回属性值，而不是调用 object.__getattribute__\u001B[39;00m\n\u001B[1;32m     18\u001B[0m     \u001B[38;5;66;03m# 因为我们已经确认这个属性不在需要特殊处理的集合中\u001B[39;00m\n\u001B[1;32m     19\u001B[0m     \u001B[38;5;28;01mreturn\u001B[39;00m \u001B[38;5;28msuper\u001B[39m()\u001B[38;5;241m.\u001B[39m\u001B[38;5;21m__getattribute__\u001B[39m(attr)\n",
      "\u001B[0;31mAttributeError\u001B[0m: Custom handling for attr2 not implemented."
     ]
    }
   ],
   "execution_count": 556
  },
  {
   "metadata": {
    "ExecuteTime": {
     "end_time": "2024-07-04T01:17:40.532857Z",
     "start_time": "2024-07-04T01:17:40.530643Z"
    }
   },
   "cell_type": "code",
   "source": "GetAttribute.attr1",
   "id": "feab8f0830debbd8",
   "outputs": [
    {
     "data": {
      "text/plain": [
       "1"
      ]
     },
     "execution_count": 557,
     "metadata": {},
     "output_type": "execute_result"
    }
   ],
   "execution_count": 557
  },
  {
   "metadata": {},
   "cell_type": "markdown",
   "source": "# 管理技术⽐较",
   "id": "f96e4a0c1827c641"
  },
  {
   "metadata": {},
   "cell_type": "markdown",
   "source": "## property",
   "id": "20c9766bd1cc0793"
  },
  {
   "metadata": {
    "ExecuteTime": {
     "end_time": "2024-07-03T13:53:46.488797Z",
     "start_time": "2024-07-03T13:53:46.483461Z"
    }
   },
   "cell_type": "code",
   "source": [
    "class Power:\n",
    "    def __init__(self, square, cube):\n",
    "        self._square = square\n",
    "        self._cube = cube\n",
    "        \n",
    "    def getSquare(self):\n",
    "        return self._square ** 2\n",
    "    \n",
    "    def setSquare(self, value):\n",
    "        self._square = value\n",
    "    \n",
    "    def getCube(self):\n",
    "        return self._cube ** 3\n",
    "    \n",
    "    def setCube(self, value):\n",
    "        self._cube = value\n",
    "        \n",
    "    square = property(getSquare, setSquare)    \n",
    "    cube = property(getCube, setCube)"
   ],
   "id": "d4dd6a9f59dd9341",
   "outputs": [],
   "execution_count": 467
  },
  {
   "metadata": {
    "ExecuteTime": {
     "end_time": "2024-07-03T13:54:18.851460Z",
     "start_time": "2024-07-03T13:54:18.847202Z"
    }
   },
   "cell_type": "code",
   "source": [
    "X = Power(3, 4)\n",
    "print(X.square, X.cube)\n",
    "X.square = 5\n",
    "X.cube = 6\n",
    "print(X.square, X.cube)"
   ],
   "id": "5cb9a96f603aa355",
   "outputs": [
    {
     "name": "stdout",
     "output_type": "stream",
     "text": [
      "9 64\n",
      "25 216\n"
     ]
    }
   ],
   "execution_count": 469
  },
  {
   "metadata": {
    "ExecuteTime": {
     "end_time": "2024-07-03T13:55:59.044655Z",
     "start_time": "2024-07-03T13:55:59.040787Z"
    }
   },
   "cell_type": "code",
   "source": [
    "class Power:\n",
    "    def __init__(self, square, cube):\n",
    "        self._square = square\n",
    "        self._cube = cube\n",
    "        \n",
    "    @property\n",
    "    def square(self):\n",
    "        return self._square ** 2\n",
    "    \n",
    "    @square.setter\n",
    "    def square(self, value):\n",
    "        self._square = value\n",
    "    \n",
    "    @property\n",
    "    def cube(self):\n",
    "        return self._cube ** 3\n",
    "    \n",
    "    @cube.setter\n",
    "    def cube(self, value):\n",
    "        self._cube = value\n",
    "        "
   ],
   "id": "fcc2eff3b650d0a6",
   "outputs": [],
   "execution_count": 470
  },
  {
   "metadata": {
    "ExecuteTime": {
     "end_time": "2024-07-03T13:56:03.230709Z",
     "start_time": "2024-07-03T13:56:03.228789Z"
    }
   },
   "cell_type": "code",
   "source": [
    "X = Power(3, 4)\n",
    "print(X.square, X.cube)\n",
    "X.square = 5\n",
    "X.cube = 6\n",
    "print(X.square, X.cube)"
   ],
   "id": "3660f7b9b6c5aa3b",
   "outputs": [
    {
     "name": "stdout",
     "output_type": "stream",
     "text": [
      "9 64\n",
      "25 216\n"
     ]
    }
   ],
   "execution_count": 471
  },
  {
   "metadata": {},
   "cell_type": "markdown",
   "source": "## 描述符",
   "id": "aac911555ea40c66"
  },
  {
   "metadata": {
    "ExecuteTime": {
     "end_time": "2024-07-03T13:57:22.306062Z",
     "start_time": "2024-07-03T13:57:22.301632Z"
    }
   },
   "cell_type": "code",
   "source": [
    "class DescSquare:\n",
    "    def __get__(self, instance, owner):\n",
    "        return instance._square ** 2\n",
    "    \n",
    "    def __set__(self, instance, value):\n",
    "        instance._square = value\n",
    "        \n",
    "class DescCube:\n",
    "    def __get__(self, instance, owner):\n",
    "        return instance._cube ** 3\n",
    "    \n",
    "    def __set__(self, instance, value):\n",
    "        instance._cube = value\n",
    "        \n",
    "class Power:\n",
    "    def __init__(self, square, cube):\n",
    "        self._square = square\n",
    "        self._cube = cube\n",
    "        \n",
    "    square = DescSquare()\n",
    "    cube = DescCube()"
   ],
   "id": "fd882159b64c06b5",
   "outputs": [],
   "execution_count": 472
  },
  {
   "metadata": {
    "ExecuteTime": {
     "end_time": "2024-07-03T13:57:26.063619Z",
     "start_time": "2024-07-03T13:57:26.061474Z"
    }
   },
   "cell_type": "code",
   "source": [
    "X = Power(3, 4)\n",
    "print(X.square, X.cube)\n",
    "X.square = 5\n",
    "X.cube = 6\n",
    "print(X.square, X.cube)"
   ],
   "id": "f331a1622f903ef7",
   "outputs": [
    {
     "name": "stdout",
     "output_type": "stream",
     "text": [
      "9 64\n",
      "25 216\n"
     ]
    }
   ],
   "execution_count": 473
  },
  {
   "metadata": {},
   "cell_type": "markdown",
   "source": "## 运算符重载",
   "id": "1f27d7c9b1efe4c5"
  },
  {
   "metadata": {
    "ExecuteTime": {
     "end_time": "2024-07-04T01:09:42.016764Z",
     "start_time": "2024-07-04T01:09:42.012218Z"
    }
   },
   "cell_type": "code",
   "source": [
    "class Power:\n",
    "    def __init__(self, square, cube):\n",
    "        self._square = square\n",
    "        self._cube = cube\n",
    "        \n",
    "    def __getattribute__(self, item):\n",
    "        if item == 'square':\n",
    "            return object.__getattribute__(self, '_square') ** 2\n",
    "        elif item == 'cube':\n",
    "            return object.__getattribute__(self, '_cube') ** 3\n",
    "        else:\n",
    "            return object.__getattribute__(self, item)\n",
    "        \n",
    "    def __setattr__(self, key, value):\n",
    "        if key == 'square':\n",
    "            if not isinstance(value, int) or value < 0:\n",
    "                raise ValueError('square must be a positive integer')\n",
    "            object.__setattr__(self, '_square', value)\n",
    "        elif key == 'cube':\n",
    "            object.__setattr__(self, '_cube', value)\n",
    "        else:\n",
    "            object.__setattr__(self, key, value)\n",
    "            \n",
    "        "
   ],
   "id": "259c46db33d1d5d8",
   "outputs": [],
   "execution_count": 543
  },
  {
   "metadata": {
    "ExecuteTime": {
     "end_time": "2024-07-04T01:09:42.286974Z",
     "start_time": "2024-07-04T01:09:42.285053Z"
    }
   },
   "cell_type": "code",
   "source": [
    "X = Power(3, 4)\n",
    "print(X.square, X.cube)\n",
    "X.square = 5\n",
    "X.cube = 6\n",
    "print(X.square, X.cube)"
   ],
   "id": "769b7685c077864",
   "outputs": [
    {
     "name": "stdout",
     "output_type": "stream",
     "text": [
      "9 64\n",
      "25 216\n"
     ]
    }
   ],
   "execution_count": 544
  },
  {
   "metadata": {
    "ExecuteTime": {
     "end_time": "2024-07-04T01:09:42.635866Z",
     "start_time": "2024-07-04T01:09:42.625232Z"
    }
   },
   "cell_type": "code",
   "source": "X.square = -5",
   "id": "824da52da519e0f5",
   "outputs": [
    {
     "ename": "ValueError",
     "evalue": "square must be a positive integer",
     "output_type": "error",
     "traceback": [
      "\u001B[0;31m---------------------------------------------------------------------------\u001B[0m",
      "\u001B[0;31mValueError\u001B[0m                                Traceback (most recent call last)",
      "Cell \u001B[0;32mIn[545], line 1\u001B[0m\n\u001B[0;32m----> 1\u001B[0m X\u001B[38;5;241m.\u001B[39msquare \u001B[38;5;241m=\u001B[39m \u001B[38;5;241m-\u001B[39m\u001B[38;5;241m5\u001B[39m\n",
      "Cell \u001B[0;32mIn[543], line 17\u001B[0m, in \u001B[0;36mPower.__setattr__\u001B[0;34m(self, key, value)\u001B[0m\n\u001B[1;32m     15\u001B[0m \u001B[38;5;28;01mif\u001B[39;00m key \u001B[38;5;241m==\u001B[39m \u001B[38;5;124m'\u001B[39m\u001B[38;5;124msquare\u001B[39m\u001B[38;5;124m'\u001B[39m:\n\u001B[1;32m     16\u001B[0m     \u001B[38;5;28;01mif\u001B[39;00m \u001B[38;5;129;01mnot\u001B[39;00m \u001B[38;5;28misinstance\u001B[39m(value, \u001B[38;5;28mint\u001B[39m) \u001B[38;5;129;01mor\u001B[39;00m value \u001B[38;5;241m<\u001B[39m \u001B[38;5;241m0\u001B[39m:\n\u001B[0;32m---> 17\u001B[0m         \u001B[38;5;28;01mraise\u001B[39;00m \u001B[38;5;167;01mValueError\u001B[39;00m(\u001B[38;5;124m'\u001B[39m\u001B[38;5;124msquare must be a positive integer\u001B[39m\u001B[38;5;124m'\u001B[39m)\n\u001B[1;32m     18\u001B[0m     \u001B[38;5;28mobject\u001B[39m\u001B[38;5;241m.\u001B[39m\u001B[38;5;21m__setattr__\u001B[39m(\u001B[38;5;28mself\u001B[39m, \u001B[38;5;124m'\u001B[39m\u001B[38;5;124m_square\u001B[39m\u001B[38;5;124m'\u001B[39m, value)\n\u001B[1;32m     19\u001B[0m \u001B[38;5;28;01melif\u001B[39;00m key \u001B[38;5;241m==\u001B[39m \u001B[38;5;124m'\u001B[39m\u001B[38;5;124mcube\u001B[39m\u001B[38;5;124m'\u001B[39m:\n",
      "\u001B[0;31mValueError\u001B[0m: square must be a positive integer"
     ]
    }
   ],
   "execution_count": 545
  },
  {
   "metadata": {},
   "cell_type": "markdown",
   "source": "在解析内置运算符重载名称的时候，Python 3.X（以及⼀般的新式类）跳过了常规的实例查找机制",
   "id": "cc77558281eb3e8c"
  },
  {
   "metadata": {
    "ExecuteTime": {
     "end_time": "2024-07-04T01:29:28.030342Z",
     "start_time": "2024-07-04T01:29:28.010632Z"
    }
   },
   "cell_type": "code",
   "source": [
    "class GetAttr:\n",
    "    eggs = 88\n",
    "    def __init__(self):\n",
    "        self.spam = 99\n",
    "        \n",
    "    def __len__(self):\n",
    "        print('len:42')\n",
    "        return 42\n",
    "\n",
    "    def __getattr__(self, item):\n",
    "        print(f'getattr({item})')\n",
    "        if item == '__str__':\n",
    "            return lambda *args: '[Getattr str]'\n",
    "        else:\n",
    "            return lambda *args: None\n",
    "        \n",
    "class GetAttribute:\n",
    "    eggs = 88\n",
    "    def __init__(self):\n",
    "        self.spam = 99\n",
    "        \n",
    "    def __len__(self):\n",
    "        print('len:42')\n",
    "        return 42\n",
    "\n",
    "    def __getattribute__(self, item):\n",
    "        print(f'getattribute({item})')\n",
    "        if item == '__str__':\n",
    "            return lambda *args: '[GetAttribute str]'\n",
    "        else:\n",
    "            return lambda *args: None"
   ],
   "id": "dfa12de0359aa79",
   "outputs": [],
   "execution_count": 567
  },
  {
   "metadata": {
    "ExecuteTime": {
     "end_time": "2024-07-04T01:32:40.977982Z",
     "start_time": "2024-07-04T01:32:40.975189Z"
    }
   },
   "cell_type": "code",
   "source": [
    "for cls in GetAttr, GetAttribute:\n",
    "    print(cls.__name__.ljust(50, '-'))\n",
    "    X = cls()\n",
    "    print(f'{X.eggs = }')\n",
    "    print(f'{X.spam = }')\n",
    "    print(f'{X.other = }')\n",
    "    print(f'{len(X) = }')\n",
    "    try: X[0]\n",
    "    except: print('fail []')\n",
    "    try: X+99\n",
    "    except: print('fail +')\n",
    "    try: X()\n",
    "    except: print('fail ()')\n",
    "    X.__call__()\n",
    "    print(f'{X.__str__() = }')\n",
    "    print(f'{X = }')"
   ],
   "id": "e72c005549adee6",
   "outputs": [
    {
     "name": "stdout",
     "output_type": "stream",
     "text": [
      "GetAttr-------------------------------------------\n",
      "X.eggs = 88\n",
      "X.spam = 99\n",
      "getattr(other)\n",
      "X.other = <function GetAttr.__getattr__.<locals>.<lambda> at 0x1104d9800>\n",
      "len:42\n",
      "len(X) = 42\n",
      "fail []\n",
      "fail +\n",
      "fail ()\n",
      "getattr(__call__)\n",
      "X.__str__() = '<__main__.GetAttr object at 0x110742d50>'\n",
      "X = <__main__.GetAttr object at 0x110742d50>\n",
      "GetAttribute--------------------------------------\n",
      "getattribute(eggs)\n",
      "X.eggs = <function GetAttribute.__getattribute__.<locals>.<lambda> at 0x1104d9800>\n",
      "getattribute(spam)\n",
      "X.spam = <function GetAttribute.__getattribute__.<locals>.<lambda> at 0x1104d9800>\n",
      "getattribute(other)\n",
      "X.other = <function GetAttribute.__getattribute__.<locals>.<lambda> at 0x1104d9800>\n",
      "len:42\n",
      "len(X) = 42\n",
      "fail []\n",
      "fail +\n",
      "fail ()\n",
      "getattribute(__call__)\n",
      "getattribute(__str__)\n",
      "X.__str__() = '[GetAttribute str]'\n",
      "X = <__main__.GetAttribute object at 0x110273f10>\n"
     ]
    }
   ],
   "execution_count": 575
  },
  {
   "metadata": {
    "ExecuteTime": {
     "end_time": "2024-07-04T01:38:37.734851Z",
     "start_time": "2024-07-04T01:38:37.732502Z"
    }
   },
   "cell_type": "code",
   "source": "(lambda *args: 'hello')(1,2,3)",
   "id": "341675ec4244ce9e",
   "outputs": [
    {
     "data": {
      "text/plain": [
       "'hello'"
      ]
     },
     "execution_count": 588,
     "metadata": {},
     "output_type": "execute_result"
    }
   ],
   "execution_count": 588
  },
  {
   "metadata": {
    "ExecuteTime": {
     "end_time": "2024-07-04T01:44:47.683262Z",
     "start_time": "2024-07-04T01:44:47.678113Z"
    }
   },
   "cell_type": "code",
   "source": [
    "X = GetAttr()\n",
    "dir(X)"
   ],
   "id": "535d7cd0481877f0",
   "outputs": [
    {
     "data": {
      "text/plain": [
       "['__class__',\n",
       " '__delattr__',\n",
       " '__dict__',\n",
       " '__dir__',\n",
       " '__doc__',\n",
       " '__eq__',\n",
       " '__format__',\n",
       " '__ge__',\n",
       " '__getattr__',\n",
       " '__getattribute__',\n",
       " '__getstate__',\n",
       " '__gt__',\n",
       " '__hash__',\n",
       " '__init__',\n",
       " '__init_subclass__',\n",
       " '__le__',\n",
       " '__len__',\n",
       " '__lt__',\n",
       " '__module__',\n",
       " '__ne__',\n",
       " '__new__',\n",
       " '__reduce__',\n",
       " '__reduce_ex__',\n",
       " '__repr__',\n",
       " '__setattr__',\n",
       " '__sizeof__',\n",
       " '__str__',\n",
       " '__subclasshook__',\n",
       " '__weakref__',\n",
       " 'eggs',\n",
       " 'spam']"
      ]
     },
     "execution_count": 589,
     "metadata": {},
     "output_type": "execute_result"
    }
   ],
   "execution_count": 589
  },
  {
   "metadata": {},
   "cell_type": "markdown",
   "source": "## 重访基于委托的 Manage",
   "id": "40b1efbf6913a7ec"
  },
  {
   "metadata": {
    "ExecuteTime": {
     "end_time": "2024-07-04T01:48:53.398021Z",
     "start_time": "2024-07-04T01:48:53.383712Z"
    }
   },
   "cell_type": "code",
   "source": [
    "class Person:\n",
    "    def __init__(self, name, job=None, pay = 0):\n",
    "        self.name = name\n",
    "        self.job = job\n",
    "        self.pay = pay\n",
    "    def lastname(self):\n",
    "        return self.name.split()[-1]\n",
    "    def giveRaise(self, percent):\n",
    "        self.pay = int(self.pay * (1 + percent))\n",
    "    def __repr__(self):\n",
    "        return f'[Person: {self.name}, {self.pay}]'\n",
    "    \n",
    "class Manage:\n",
    "    def __init__(self, name, pay):\n",
    "        self.person = Person(name, 'mgr', pay)\n",
    "    def giveRaise(self, percent, bonus=0.1):\n",
    "        self.person.giveRaise(percent + bonus)\n",
    "    def __getattr__(self, item):\n",
    "        return getattr(self.person, item)\n",
    "    def __repr__(self):\n",
    "        return str(self.person)\n",
    "    "
   ],
   "id": "63ce58997660f319",
   "outputs": [],
   "execution_count": 590
  },
  {
   "metadata": {
    "ExecuteTime": {
     "end_time": "2024-07-04T01:51:24.863553Z",
     "start_time": "2024-07-04T01:51:24.860964Z"
    }
   },
   "cell_type": "code",
   "source": [
    "sue = Person('Sue Jones', job='dev', pay=50000)\n",
    "print(sue.lastname())\n",
    "sue.giveRaise(.10)\n",
    "print(sue)\n",
    "tom = Manage('Tom Jones', 50000)\n",
    "print(tom.lastname())\n",
    "tom.giveRaise(.10)\n",
    "print(tom)"
   ],
   "id": "fd91e016711133af",
   "outputs": [
    {
     "name": "stdout",
     "output_type": "stream",
     "text": [
      "Jones\n",
      "[Person: Sue Jones, 55000]\n",
      "Jones\n",
      "[Person: Tom Jones, 60000]\n"
     ]
    }
   ],
   "execution_count": 592
  },
  {
   "metadata": {
    "ExecuteTime": {
     "end_time": "2024-07-04T02:06:24.674764Z",
     "start_time": "2024-07-04T02:06:24.670306Z"
    }
   },
   "cell_type": "code",
   "source": [
    "class Manage:\n",
    "    def __init__(self, name, pay):\n",
    "        self.person = Person(name, 'mgr', pay)\n",
    "    def giveRaise(self, percent, bonus=0.1):\n",
    "        self.person.giveRaise(percent + bonus)\n",
    "    def __getattribute__(self, item):\n",
    "        print(f'getattribute({item})')\n",
    "        if item in ['giveRaise', 'person']:\n",
    "            return object.__getattribute__(self, item)\n",
    "        return getattr(self.person, item)\n",
    "    # def __repr__(self):\n",
    "    #     return str(self.person)"
   ],
   "id": "6dd6838b2ebafb1a",
   "outputs": [],
   "execution_count": 614
  },
  {
   "metadata": {
    "ExecuteTime": {
     "end_time": "2024-07-04T02:06:32.925177Z",
     "start_time": "2024-07-04T02:06:32.923143Z"
    }
   },
   "cell_type": "code",
   "source": [
    "m = Manage('Tom Jones', 50000)\n",
    "print(tom.lastname())\n",
    "print('-'*50)\n",
    "tom.giveRaise(.10)\n",
    "print('-'*50)\n",
    "print(tom)\n",
    "print(tom.pay)"
   ],
   "id": "a1be8dd365a44e3d",
   "outputs": [
    {
     "name": "stdout",
     "output_type": "stream",
     "text": [
      "getattribute(lastname)\n",
      "Jones\n",
      "--------------------------------------------------\n",
      "getattribute(giveRaise)\n",
      "--------------------------------------------------\n",
      "[Person: Tom Jones, 66550]\n",
      "getattribute(pay)\n",
      "66550\n"
     ]
    }
   ],
   "execution_count": 616
  },
  {
   "metadata": {
    "ExecuteTime": {
     "end_time": "2024-07-04T02:06:34.069176Z",
     "start_time": "2024-07-04T02:06:34.066735Z"
    }
   },
   "cell_type": "code",
   "source": [
    "class Manage:\n",
    "    def __init__(self, name, pay):\n",
    "        self.person = Person(name, 'mgr', pay)\n",
    "    def giveRaise(self, percent, bonus=0.1):\n",
    "        self.person.giveRaise(percent + bonus)\n",
    "    def __getattribute__(self, item):\n",
    "        print(f'getattribute({item})')\n",
    "        person = object.__getattribute__(self, 'person')\n",
    "        if item == 'giveRaise':\n",
    "            return lambda percent: getattr(person, item)(percent)\n",
    "        return getattr(person, item)\n",
    "    def __repr__(self):\n",
    "        person = object.__getattribute__(self, 'person')\n",
    "        return str(person)"
   ],
   "id": "2c67b6a9bb2419dc",
   "outputs": [],
   "execution_count": 617
  },
  {
   "metadata": {
    "ExecuteTime": {
     "end_time": "2024-07-04T02:06:38.636247Z",
     "start_time": "2024-07-04T02:06:38.633930Z"
    }
   },
   "cell_type": "code",
   "source": [
    "tom = Manage('Tom Jones', 50000)\n",
    "print(tom.lastname())\n",
    "print('-'*50)\n",
    "tom.giveRaise(.10)\n",
    "print('-'*50)\n",
    "print(tom)\n",
    "print(tom.pay)"
   ],
   "id": "cb72511d50df2ce0",
   "outputs": [
    {
     "name": "stdout",
     "output_type": "stream",
     "text": [
      "getattribute(lastname)\n",
      "Jones\n",
      "--------------------------------------------------\n",
      "getattribute(giveRaise)\n",
      "--------------------------------------------------\n",
      "[Person: Tom Jones, 55000]\n",
      "getattribute(pay)\n",
      "55000\n"
     ]
    }
   ],
   "execution_count": 618
  },
  {
   "metadata": {},
   "cell_type": "code",
   "outputs": [],
   "execution_count": null,
   "source": "",
   "id": "443304eb03ccd6de"
  }
 ],
 "metadata": {
  "kernelspec": {
   "display_name": "Python 3",
   "language": "python",
   "name": "python3"
  },
  "language_info": {
   "codemirror_mode": {
    "name": "ipython",
    "version": 2
   },
   "file_extension": ".py",
   "mimetype": "text/x-python",
   "name": "python",
   "nbconvert_exporter": "python",
   "pygments_lexer": "ipython2",
   "version": "2.7.6"
  }
 },
 "nbformat": 4,
 "nbformat_minor": 5
}
