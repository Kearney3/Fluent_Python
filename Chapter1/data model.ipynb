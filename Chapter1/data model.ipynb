{
 "cells": [
  {
   "cell_type": "code",
   "execution_count": 2,
   "id": "initial_id",
   "metadata": {
    "collapsed": true,
    "ExecuteTime": {
     "end_time": "2024-01-01T06:15:58.079135400Z",
     "start_time": "2024-01-01T06:15:58.070895800Z"
    }
   },
   "source": [
    "import collections\n",
    "\n",
    "Card = collections.namedtuple('Card', ['rank', 'suit'])\n",
    "\n",
    "class FrenchDeck:\n",
    "    ranks = [str(n) for n in range(2,11)] + list('JQKA')\n",
    "    suits = 'spades diamonds clubs hearts'.split()\n",
    "\n",
    "    def __init__(self):\n",
    "        self._cards = [Card(rank, suit) for suit in self.suits for rank in self.ranks]\n",
    "\n",
    "    def __len__(self):\n",
    "        return len(self._cards)\n",
    "\n",
    "    def __getitem__(self, position):\n",
    "        return self._cards[position]"
   ],
   "outputs": []
  },
  {
   "cell_type": "markdown",
   "source": [
    "生成序列1"
   ],
   "metadata": {
    "collapsed": false
   },
   "id": "3779e153b3a62975"
  },
  {
   "cell_type": "code",
   "execution_count": 14,
   "source": [
    "ranks = [str(n) for n in range(2,11)] + list('JQKA')\n",
    "ranks"
   ],
   "metadata": {
    "collapsed": false,
    "ExecuteTime": {
     "end_time": "2024-01-01T06:19:26.608186300Z",
     "start_time": "2024-01-01T06:19:26.589866100Z"
    }
   },
   "id": "a7f203f1992d47c1",
   "outputs": []
  },
  {
   "cell_type": "code",
   "execution_count": 15,
   "source": [
    "suits = 'spades diamonds clubs hearts'.split()\n",
    "suits"
   ],
   "metadata": {
    "collapsed": false,
    "ExecuteTime": {
     "end_time": "2024-01-01T06:21:44.393349500Z",
     "start_time": "2024-01-01T06:21:44.381278100Z"
    }
   },
   "id": "8b416d7684c5a6cb",
   "outputs": []
  },
  {
   "cell_type": "code",
   "execution_count": 7,
   "source": [
    "beer_card = Card('7', 'diamond')\n",
    "beer_card"
   ],
   "metadata": {
    "collapsed": false,
    "ExecuteTime": {
     "end_time": "2024-01-01T06:17:02.716552800Z",
     "start_time": "2024-01-01T06:17:02.700836600Z"
    }
   },
   "id": "e3e7150800507bd6",
   "outputs": []
  },
  {
   "cell_type": "code",
   "execution_count": 8,
   "source": [
    "deck  = FrenchDeck()\n",
    "len(deck)"
   ],
   "metadata": {
    "collapsed": false,
    "ExecuteTime": {
     "end_time": "2024-01-01T06:18:35.642586600Z",
     "start_time": "2024-01-01T06:18:35.632034100Z"
    }
   },
   "id": "a0b0f9d385ca1ee7",
   "outputs": []
  },
  {
   "cell_type": "code",
   "execution_count": 11,
   "source": [
    "deck[1]"
   ],
   "metadata": {
    "collapsed": false,
    "ExecuteTime": {
     "end_time": "2024-01-01T06:18:57.260453Z",
     "start_time": "2024-01-01T06:18:57.252579Z"
    }
   },
   "id": "99ac1dc8fdd6a947",
   "outputs": []
  },
  {
   "cell_type": "code",
   "execution_count": 12,
   "source": [
    "deck[-1]"
   ],
   "metadata": {
    "collapsed": false,
    "ExecuteTime": {
     "end_time": "2024-01-01T06:19:00.367226200Z",
     "start_time": "2024-01-01T06:19:00.357278Z"
    }
   },
   "id": "3deaacacf3db7e51",
   "outputs": []
  },
  {
   "cell_type": "markdown",
   "source": [
    "随机抽取一张牌"
   ],
   "metadata": {
    "collapsed": false
   },
   "id": "e2f2c6e54321f43e"
  },
  {
   "cell_type": "code",
   "execution_count": 16,
   "source": [
    "from random import choice\n",
    "choice(deck)"
   ],
   "metadata": {
    "collapsed": false,
    "ExecuteTime": {
     "end_time": "2024-01-01T06:23:10.408732700Z",
     "start_time": "2024-01-01T06:23:10.402011300Z"
    }
   },
   "id": "ff8fe4ff488f0f9f",
   "outputs": []
  },
  {
   "cell_type": "code",
   "execution_count": 19,
   "source": [
    "choice(deck)"
   ],
   "metadata": {
    "collapsed": false,
    "ExecuteTime": {
     "end_time": "2024-01-01T06:23:31.715827700Z",
     "start_time": "2024-01-01T06:23:31.709410300Z"
    }
   },
   "id": "df0720c152f30cf",
   "outputs": []
  },
  {
   "cell_type": "code",
   "execution_count": 20,
   "source": [
    "deck[:3]"
   ],
   "metadata": {
    "collapsed": false,
    "ExecuteTime": {
     "end_time": "2024-01-01T06:24:41.261475300Z",
     "start_time": "2024-01-01T06:24:41.228898100Z"
    }
   },
   "id": "8825ad9cc0acb461",
   "outputs": []
  },
  {
   "cell_type": "code",
   "execution_count": 21,
   "source": [
    "# 从12开始，隔13抽一张\n",
    "deck[12::13]"
   ],
   "metadata": {
    "collapsed": false,
    "ExecuteTime": {
     "end_time": "2024-01-01T06:24:54.068964500Z",
     "start_time": "2024-01-01T06:24:54.060045400Z"
    }
   },
   "id": "26898ec51a4ce2aa",
   "outputs": []
  },
  {
   "cell_type": "code",
   "execution_count": 22,
   "source": [
    "for card in deck:\n",
    "    print(card)"
   ],
   "metadata": {
    "collapsed": false,
    "ExecuteTime": {
     "end_time": "2024-01-01T06:25:37.737563700Z",
     "start_time": "2024-01-01T06:25:37.727200200Z"
    }
   },
   "id": "839cd8277664de4b",
   "outputs": []
  },
  {
   "cell_type": "markdown",
   "source": [
    "反向迭代"
   ],
   "metadata": {
    "collapsed": false
   },
   "id": "677f5ecb7eb73a86"
  },
  {
   "cell_type": "code",
   "execution_count": 27,
   "source": [
    "for card in reversed(deck):\n",
    "    print(card)"
   ],
   "metadata": {
    "collapsed": false,
    "ExecuteTime": {
     "end_time": "2024-01-01T06:26:30.492643100Z",
     "start_time": "2024-01-01T06:26:30.485235900Z"
    }
   },
   "id": "c63f5cec06e32485",
   "outputs": []
  },
  {
   "cell_type": "code",
   "execution_count": null,
   "source": [],
   "metadata": {
    "collapsed": false
   },
   "id": "145203ec5909cf60",
   "outputs": []
  }
 ],
 "metadata": {
  "kernelspec": {
   "display_name": "Python 3",
   "language": "python",
   "name": "python3"
  },
  "language_info": {
   "codemirror_mode": {
    "name": "ipython",
    "version": 2
   },
   "file_extension": ".py",
   "mimetype": "text/x-python",
   "name": "python",
   "nbconvert_exporter": "python",
   "pygments_lexer": "ipython2",
   "version": "2.7.6"
  }
 },
 "nbformat": 4,
 "nbformat_minor": 5
}
